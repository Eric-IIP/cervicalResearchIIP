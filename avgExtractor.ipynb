{
 "cells": [
  {
   "cell_type": "code",
   "execution_count": 48,
   "metadata": {},
   "outputs": [
    {
     "name": "stdout",
     "output_type": "stream",
     "text": [
      "['20241029-Conv1x1-1', '20241029-Conv1x1-2', '20241029-Conv1x1-3', '20241029-Conv1x1-4', '20241029-Conv1x1-5', '20241029-Conv1x1-6', '20241029-Conv1x1-7', '20241029-Conv1x1-8', '20241029-Conv1x1-9', '20241029-Conv1x1-10', '20241029-Conv1x1-11', '20241029-Conv1x1-12']\n",
      "[0.83778076 0.75847466 0.74357223 0.70227044 0.74546836 0.74116278\n",
      " 0.75630558 0.84600465 0.8107654  0.79479163 0.79268107 0.78922734]\n",
      "Fold:1\n",
      "[0.83778076 0.75847466 0.74357223]\n",
      "Avg: 0.7799425518685172\n",
      "Fold:2\n",
      "[0.70227044 0.74546836 0.74116278]\n",
      "Avg: 0.729633858915829\n",
      "Fold:3\n",
      "[0.75630558 0.84600465 0.8107654 ]\n",
      "Avg: 0.8043585454233181\n",
      "Fold:4\n",
      "[0.79479163 0.79268107 0.78922734]\n",
      "Avg: 0.7922333456606186\n"
     ]
    }
   ],
   "source": [
    "### each label dice comparispon\n",
    "import matplotlib.pyplot as plt\n",
    "import pandas as pd\n",
    "import numpy as np\n",
    "import statistics\n",
    "import os\n",
    "import csv\n",
    "from tabulate import tabulate\n",
    "\n",
    "generalPath = 'result_test/abstractresult/thorough/unetpure'\n",
    "\n",
    "# Function to extract numeric part from folder name\n",
    "def extract_number(folder_name):\n",
    "    return int(folder_name.split('-')[-1])\n",
    "# Get a list of folder names sorted by the numeric part\n",
    "dice_fold_value = []\n",
    "all_data = []\n",
    "#folder_names = sorted([folder_name for folder_name in os.listdir('result_test') if folder_name.startswith('20240704-Conv1x1-'+str(i)+'-')], key=extract_number)\n",
    "#folder_names = sorted([folder_name for folder_name in os.listdir('result_test/abstractresult/thorough/unetpure') if folder_name.startswith('20241029-Conv1x1-'+str(i)+'-')], key=extract_number)\n",
    "folder_names = sorted([folder_name for folder_name in os.listdir(generalPath) if folder_name.startswith('20241029-Conv1x1-')], key=extract_number)\n",
    "print(folder_names)\n",
    "# Loop through sorted folder names\n",
    "for folder_name in folder_names:\n",
    "    folder_path = os.path.join(generalPath, folder_name, 'crf')\n",
    "    if os.path.isdir(folder_path):\n",
    "        # Find CSV file in the folder\n",
    "        csv_files = [file for file in os.listdir(folder_path) if file.endswith('.csv')]\n",
    "        csv_file_path = ''\n",
    "        for csv_file in csv_files:\n",
    "            if(csv_file.startswith('CRF')):\n",
    "                csv_file_path = os.path.join(folder_path, csv_file)\n",
    "            # Read CSV file\n",
    "        with open(csv_file_path, 'r') as file:\n",
    "            reader = csv.reader(file)\n",
    "            # Extract second number from the array\n",
    "            for row in reader:\n",
    "                all_data.append(row[-1])\n",
    "all_data = np.array(all_data)\n",
    "all_data = all_data.astype(float)\n",
    "\n",
    "print(all_data)\n",
    "\n",
    "reshaped_list = [all_data[i:i+3] for i in range(0, len(all_data), 3)]               \n",
    "for index, fold in enumerate(reshaped_list):\n",
    "    print(\"Fold:\" + str(index+1))\n",
    "    mean_val = np.mean(fold)\n",
    "    print(fold)\n",
    "    print('Avg: ' + str(mean_val))\n",
    "    \n",
    "    \n",
    "#print(tabulate(all_data))\n",
    "#all_data = np.array(all_data)\n",
    "#all_data = all_data.astype(float)\n",
    "#mean_val = np.mean(all_data)\n",
    "#dice_fold_value.append(mean_val)\n",
    "#print(mean_val)\n",
    "\n",
    "\n",
    "#print(\"Each fold: \" + '\\n' + str(dice_fold_value))\n",
    "#print(\"Mean of folds: \" + str(np.mean(dice_fold_value)))\n"
   ]
  }
 ],
 "metadata": {
  "kernelspec": {
   "display_name": "altenv",
   "language": "python",
   "name": "python3"
  },
  "language_info": {
   "codemirror_mode": {
    "name": "ipython",
    "version": 3
   },
   "file_extension": ".py",
   "mimetype": "text/x-python",
   "name": "python",
   "nbconvert_exporter": "python",
   "pygments_lexer": "ipython3",
   "version": "3.11.9"
  }
 },
 "nbformat": 4,
 "nbformat_minor": 2
}
