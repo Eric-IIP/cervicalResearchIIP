{
 "cells": [
  {
   "cell_type": "code",
   "execution_count": 26,
   "metadata": {},
   "outputs": [
    {
     "name": "stdout",
     "output_type": "stream",
     "text": [
      "['20241029-Conv1x1-13', '20241029-Conv1x1-14', '20241029-Conv1x1-15', '20241029-Conv1x1-16', '20241029-Conv1x1-17', '20241029-Conv1x1-18', '20241029-Conv1x1-19', '20241029-Conv1x1-20', '20241029-Conv1x1-21', '20241029-Conv1x1-22', '20241029-Conv1x1-23', '20241029-Conv1x1-24']\n",
      "Fold:1\n",
      "[0.85880444 0.83404233 0.79418054]\n",
      "Avg: 0.8290091045724876\n",
      "Fold:2\n",
      "[0.76140331 0.75958848 0.76114862]\n",
      "Avg: 0.7607134741806495\n",
      "Fold:3\n",
      "[0.79774795 0.80881819 0.75763211]\n",
      "Avg: 0.7880660854604767\n",
      "Fold:4\n",
      "[0.74748114 0.77302178 0.74570666]\n",
      "Avg: 0.7554031952705752\n"
     ]
    }
   ],
   "source": [
    "### each label dice comparispon\n",
    "import matplotlib.pyplot as plt\n",
    "import pandas as pd\n",
    "import numpy as np\n",
    "import statistics\n",
    "import os\n",
    "import csv\n",
    "from tabulate import tabulate\n",
    "\n",
    "generalPath = 'result_test/abstractresult/thorough/unet1x1'\n",
    "\n",
    "# Function to extract numeric part from folder name\n",
    "def extract_number(folder_name):\n",
    "    return int(folder_name.split('-')[-1])\n",
    "# Get a list of folder names sorted by the numeric part\n",
    "dice_fold_value = []\n",
    "all_data = []\n",
    "#folder_names = sorted([folder_name for folder_name in os.listdir('result_test') if folder_name.startswith('20240704-Conv1x1-'+str(i)+'-')], key=extract_number)\n",
    "#folder_names = sorted([folder_name for folder_name in os.listdir('result_test/abstractresult/thorough/unetpure') if folder_name.startswith('20241029-Conv1x1-'+str(i)+'-')], key=extract_number)\n",
    "folder_names = sorted([folder_name for folder_name in os.listdir(generalPath) if folder_name.startswith('20241029-Conv1x1-')], key=extract_number)\n",
    "print(folder_names)\n",
    "# Loop through sorted folder names\n",
    "for folder_name in folder_names:\n",
    "    folder_path = os.path.join(generalPath, folder_name)\n",
    "    if os.path.isdir(folder_path):\n",
    "        # Find CSV file in the folder\n",
    "        csv_files = [file for file in os.listdir(folder_path) if file.endswith('.csv')]\n",
    "        if len(csv_files) == 2:\n",
    "            if(csv_files[0].startswith('Dice')):\n",
    "                csv_file_path = os.path.join(folder_path, csv_files[0])\n",
    "            else:\n",
    "                csv_file_path = os.path.join(folder_path, csv_files[1])\n",
    "            # Read CSV file\n",
    "            with open(csv_file_path, 'r') as file:\n",
    "                reader = csv.reader(file)\n",
    "                # Extract second number from the array\n",
    "                for row in reader:\n",
    "                    all_data.append(row[-1])\n",
    "all_data = np.array(all_data)\n",
    "all_data = all_data.astype(float)\n",
    "\n",
    "reshaped_list = [all_data[i:i+3] for i in range(0, len(all_data), 3)]               \n",
    "for index, fold in enumerate(reshaped_list):\n",
    "    print(\"Fold:\" + str(index+1))\n",
    "    mean_val = np.mean(fold)\n",
    "    print(fold)\n",
    "    print('Avg: ' + str(mean_val))\n",
    "    \n",
    "    \n",
    "#print(tabulate(all_data))\n",
    "#all_data = np.array(all_data)\n",
    "#all_data = all_data.astype(float)\n",
    "#mean_val = np.mean(all_data)\n",
    "#dice_fold_value.append(mean_val)\n",
    "#print(mean_val)\n",
    "\n",
    "\n",
    "#print(\"Each fold: \" + '\\n' + str(dice_fold_value))\n",
    "#print(\"Mean of folds: \" + str(np.mean(dice_fold_value)))\n"
   ]
  }
 ],
 "metadata": {
  "kernelspec": {
   "display_name": "altenv",
   "language": "python",
   "name": "python3"
  },
  "language_info": {
   "codemirror_mode": {
    "name": "ipython",
    "version": 3
   },
   "file_extension": ".py",
   "mimetype": "text/x-python",
   "name": "python",
   "nbconvert_exporter": "python",
   "pygments_lexer": "ipython3",
   "version": "3.11.9"
  }
 },
 "nbformat": 4,
 "nbformat_minor": 2
}
