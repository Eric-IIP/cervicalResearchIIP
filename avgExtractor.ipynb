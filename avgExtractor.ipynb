{
 "cells": [
  {
   "cell_type": "code",
   "execution_count": 20,
   "metadata": {},
   "outputs": [
    {
     "name": "stdout",
     "output_type": "stream",
     "text": [
      "-  -  -  -  -  -  -  -  -  -  -  -  -  -  -  -  -  -\n",
      "0  .  7  7  5  0  1  7  9  8  7  8  8  9  4  3  6  5\n",
      "0  .  6  1  9  8  0  4  8  4  8  1  1  0  0  3  0  9\n",
      "0  .  6  2  8  8  3  0  2  3  9  7  9  8  5  2  1  9\n",
      "-  -  -  -  -  -  -  -  -  -  -  -  -  -  -  -  -  -\n",
      "0.6745510252659965\n",
      "-  -  -  -  -  -  -  -  -  -  -  -  -  -  -  -  -  -\n",
      "0  .  5  4  5  2  9  8  6  4  8  4  1  7  9  0  7  1\n",
      "0  .  5  7  6  8  9  2  2  2  0  0  3  9  0  0  0  9\n",
      "0  .  6  8  6  3  2  2  6  6  0  2  8  5  7  3  8\n",
      "-  -  -  -  -  -  -  -  -  -  -  -  -  -  -  -  -  -\n",
      "0.6028378429142153\n",
      "-  -  -  -  -  -  -  -  -  -  -  -  -  -  -  -  -  -  -\n",
      "0  .  6  9  9  5  3  8  8  4  6  7  3  2  7  5  3  5\n",
      "0  .  2  4  4  8  8  6  8  9  0  0  0  8  9  4  0  3  2\n",
      "0  .  6  5  7  0  8  6  6  2  2  5  2  5  4  9  8  1\n",
      "-  -  -  -  -  -  -  -  -  -  -  -  -  -  -  -  -  -  -\n",
      "0.5338374530890639\n",
      "-  -  -  -  -  -  -  -  -  -  -  -  -  -  -  -  -  -\n",
      "0  .  6  9  3  0  5  6  3  5  9  9  4  9  0  1  6  6\n",
      "0  .  7  4  7  9  9  2  3  5  9  1  8  7  3  2  5  7\n",
      "0  .  6  3  2  8  9  1  7  5  3  9  2  0  6  9  3  1\n",
      "-  -  -  -  -  -  -  -  -  -  -  -  -  -  -  -  -  -\n",
      "0.6913134910190118\n",
      "Each fold: \n",
      "[0.6745510252659965, 0.6028378429142153, 0.5338374530890639, 0.6913134910190118]\n",
      "Mean of folds: 0.625634953072072\n"
     ]
    }
   ],
   "source": [
    "### each label dice comparispon\n",
    "import matplotlib.pyplot as plt\n",
    "import pandas as pd\n",
    "import numpy as np\n",
    "import statistics\n",
    "import os\n",
    "import csv\n",
    "from tabulate import tabulate\n",
    "\n",
    "\n",
    "# Function to extract numeric part from folder name\n",
    "def extract_number(folder_name):\n",
    "    return int(folder_name.split('-')[-1])\n",
    "# Get a list of folder names sorted by the numeric part\n",
    "\n",
    "dice_fold_value = []\n",
    "\n",
    "for i in range(1,5):\n",
    "    all_data = []\n",
    "    folder_names = sorted([folder_name for folder_name in os.listdir('result_test') if folder_name.startswith('20240619-Conv1x1-'+str(i)+'-')], key=extract_number)\n",
    "\n",
    "    # Loop through sorted folder names\n",
    "    for folder_name in folder_names:\n",
    "        folder_path = os.path.join('result_test', folder_name)\n",
    "        if os.path.isdir(folder_path):\n",
    "            # Find CSV file in the folder\n",
    "            csv_files = [file for file in os.listdir(folder_path) if file.endswith('.csv')]\n",
    "            if len(csv_files) == 2:\n",
    "                csv_file_path = os.path.join(folder_path, csv_files[1])\n",
    "                # Read CSV file\n",
    "                with open(csv_file_path, 'r') as file:\n",
    "                    reader = csv.reader(file)\n",
    "                    # Extract second number from the array\n",
    "                    for row in reader:\n",
    "                        all_data.append(row[-1])                \n",
    "    print(tabulate(all_data))\n",
    "    all_data = np.array(all_data)\n",
    "    all_data = all_data.astype(float)\n",
    "    mean_val = np.mean(all_data)\n",
    "    dice_fold_value.append(mean_val)\n",
    "    print(mean_val)\n",
    "\n",
    "print(\"Each fold: \" + '\\n' + str(dice_fold_value))\n",
    "print(\"Mean of folds: \" + str(np.mean(dice_fold_value)))\n"
   ]
  }
 ],
 "metadata": {
  "kernelspec": {
   "display_name": "myenv",
   "language": "python",
   "name": "python3"
  },
  "language_info": {
   "codemirror_mode": {
    "name": "ipython",
    "version": 3
   },
   "file_extension": ".py",
   "mimetype": "text/x-python",
   "name": "python",
   "nbconvert_exporter": "python",
   "pygments_lexer": "ipython3",
   "version": "3.11.9"
  }
 },
 "nbformat": 4,
 "nbformat_minor": 2
}
