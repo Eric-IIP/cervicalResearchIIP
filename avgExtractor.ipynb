{
 "cells": [
  {
   "cell_type": "code",
   "execution_count": 7,
   "metadata": {},
   "outputs": [
    {
     "name": "stdout",
     "output_type": "stream",
     "text": [
      "-  -  -  -  -  -  -  -  -  -  -  -  -  -  -  -  -  -\n",
      "0  .  7  0  2  5  3  4  1  5  9  6  2  5  7  5  5  7\n",
      "0  .  6  6  4  5  3  6  9  7  1  8  7  5  0  7  7  3\n",
      "0  .  5  7  8  8  4  9  2  6  9  4  4  4  4  4  6  3\n",
      "-  -  -  -  -  -  -  -  -  -  -  -  -  -  -  -  -  -\n",
      "0.6486401336484264\n",
      "-  -  -  -  -  -  -  -  -  -  -  -  -  -  -  -  -  -\n",
      "0  .  6  7  8  1  2  4  0  3  7  0  1  2  6  5  3  7\n",
      "0  .  7  0  3  4  7  5  6  0  2  1  7  6  2  0  8  5\n",
      "0  .  7  4  8  1  2  6  9  8  6  5  2  0  8  3  7  9\n",
      "-  -  -  -  -  -  -  -  -  -  -  -  -  -  -  -  -  -\n",
      "0.7099088752365668\n",
      "-  -  -  -  -  -  -  -  -  -  -  -  -  -  -  -  -  -\n",
      "0  .  7  1  7  0  5  7  0  3  4  0  6  2  2  3  3  9\n",
      "0  .  7  6  9  3  0  1  2  6  5  7  8  0  8  2  7  2\n",
      "0  .  7  4  0  5  3  6  5  0  2  3  0  5  2  1  8  1\n",
      "-  -  -  -  -  -  -  -  -  -  -  -  -  -  -  -  -  -\n",
      "0.7422982673827597\n",
      "-  -  -  -  -  -  -  -  -  -  -  -  -  -  -  -  -  -\n",
      "0  .  6  5  8  2  9  1  0  3  3  0  6  8  3  0  1  3\n",
      "0  .  7  3  1  5  8  7  8  3  6  0  4  7  1  1  4  2\n",
      "0  .  7  3  6  4  9  4  0  0  8  4  3  0  2  8  6  2\n",
      "-  -  -  -  -  -  -  -  -  -  -  -  -  -  -  -  -  -\n",
      "0.7087909591819006\n",
      "Each fold: \n",
      "[0.6486401336484264, 0.7099088752365668, 0.7422982673827597, 0.7087909591819006]\n",
      "Mean of folds: 0.7024095588624134\n"
     ]
    }
   ],
   "source": [
    "### each label dice comparispon\n",
    "import matplotlib.pyplot as plt\n",
    "import pandas as pd\n",
    "import numpy as np\n",
    "import statistics\n",
    "import os\n",
    "import csv\n",
    "from tabulate import tabulate\n",
    "\n",
    "\n",
    "# Function to extract numeric part from folder name\n",
    "def extract_number(folder_name):\n",
    "    return int(folder_name.split('-')[-1])\n",
    "# Get a list of folder names sorted by the numeric part\n",
    "\n",
    "dice_fold_value = []\n",
    "\n",
    "for i in range(1,5):\n",
    "    all_data = []\n",
    "    folder_names = sorted([folder_name for folder_name in os.listdir('result_test') if folder_name.startswith('20240704-Conv1x1-'+str(i)+'-')], key=extract_number)\n",
    "\n",
    "    #folder_names = sorted([folder_name for folder_name in os.listdir('result_test') if folder_name.startswith('20240704-Conv1x1')], key=extract_number)\n",
    "\n",
    "    # Loop through sorted folder names\n",
    "    for folder_name in folder_names:\n",
    "        folder_path = os.path.join('result_test', folder_name)\n",
    "        if os.path.isdir(folder_path):\n",
    "            # Find CSV file in the folder\n",
    "            csv_files = [file for file in os.listdir(folder_path) if file.endswith('.csv')]\n",
    "            if len(csv_files) == 2:\n",
    "                csv_file_path = os.path.join(folder_path, csv_files[1])\n",
    "                # Read CSV file\n",
    "                with open(csv_file_path, 'r') as file:\n",
    "                    reader = csv.reader(file)\n",
    "                    # Extract second number from the array\n",
    "                    for row in reader:\n",
    "                        all_data.append(row[-1])                \n",
    "    print(tabulate(all_data))\n",
    "    all_data = np.array(all_data)\n",
    "    all_data = all_data.astype(float)\n",
    "    mean_val = np.mean(all_data)\n",
    "    dice_fold_value.append(mean_val)\n",
    "    print(mean_val)\n",
    "\n",
    "print(\"Each fold: \" + '\\n' + str(dice_fold_value))\n",
    "print(\"Mean of folds: \" + str(np.mean(dice_fold_value)))\n"
   ]
  }
 ],
 "metadata": {
  "kernelspec": {
   "display_name": "myenv",
   "language": "python",
   "name": "python3"
  },
  "language_info": {
   "codemirror_mode": {
    "name": "ipython",
    "version": 3
   },
   "file_extension": ".py",
   "mimetype": "text/x-python",
   "name": "python",
   "nbconvert_exporter": "python",
   "pygments_lexer": "ipython3",
   "version": "3.1.undefined"
  }
 },
 "nbformat": 4,
 "nbformat_minor": 2
}
