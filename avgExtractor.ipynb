{
 "cells": [
  {
   "cell_type": "code",
   "execution_count": 6,
   "metadata": {},
   "outputs": [
    {
     "name": "stdout",
     "output_type": "stream",
     "text": [
      "-  -  -  -  -  -  -  -  -  -  -  -  -  -  -  -  -  -\n",
      "0  .  6  6  9  5  3  3  4  0  0  2  4  8  6  9  2  1\n",
      "0  .  5  6  6  9  2  6  0  0  0  0  9  4  7  9  0  9\n",
      "0  .  5  8  8  7  5  0  0  4  6  1  4  0  3  2  8  6\n",
      "-  -  -  -  -  -  -  -  -  -  -  -  -  -  -  -  -  -\n",
      "0.6084031488279372\n"
     ]
    }
   ],
   "source": [
    "### each label dice comparispon\n",
    "import matplotlib.pyplot as plt\n",
    "import pandas as pd\n",
    "import numpy as np\n",
    "import statistics\n",
    "import os\n",
    "import csv\n",
    "from tabulate import tabulate\n",
    "\n",
    "all_data = []\n",
    "# Function to extract numeric part from folder name\n",
    "def extract_number(folder_name):\n",
    "    return int(folder_name.split('-')[-1])\n",
    "# Get a list of folder names sorted by the numeric part\n",
    "folder_names = sorted([folder_name for folder_name in os.listdir('result_test') if folder_name.startswith('20240614-Conv1x1-4-')], key=extract_number)\n",
    "\n",
    "# Loop through sorted folder names\n",
    "for folder_name in folder_names:\n",
    "    folder_path = os.path.join('result_test', folder_name)\n",
    "    if os.path.isdir(folder_path):\n",
    "        # Find CSV file in the folder\n",
    "        csv_files = [file for file in os.listdir(folder_path) if file.endswith('.csv')]\n",
    "        if len(csv_files) == 2:\n",
    "            csv_file_path = os.path.join(folder_path, csv_files[1])\n",
    "            # Read CSV file\n",
    "            with open(csv_file_path, 'r') as file:\n",
    "                reader = csv.reader(file)\n",
    "                # Extract second number from the array\n",
    "                for row in reader:\n",
    "                    all_data.append(row[-1])                \n",
    "print(tabulate(all_data))\n",
    "all_data = np.array(all_data)\n",
    "all_data = all_data.astype(float)\n",
    "mean_val = np.mean(all_data)\n",
    "print(mean_val)\n"
   ]
  }
 ],
 "metadata": {
  "kernelspec": {
   "display_name": "myenv",
   "language": "python",
   "name": "python3"
  },
  "language_info": {
   "codemirror_mode": {
    "name": "ipython",
    "version": 3
   },
   "file_extension": ".py",
   "mimetype": "text/x-python",
   "name": "python",
   "nbconvert_exporter": "python",
   "pygments_lexer": "ipython3",
   "version": "3.11.9"
  }
 },
 "nbformat": 4,
 "nbformat_minor": 2
}
