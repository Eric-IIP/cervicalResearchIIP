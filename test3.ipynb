{
 "cells": [
  {
   "cell_type": "code",
   "execution_count": 41,
   "id": "4b1f2265",
   "metadata": {},
   "outputs": [],
   "source": [
    "import os\n",
    "import cv2  # or use PIL if preferred\n",
    "import numpy as np\n",
    "from Rpkg.Rfund.InputFeature import InputFeature\n",
    "import Filtering\n",
    "\n",
    "def process_image(img):\n",
    "    \"\"\"\n",
    "    Dummy image processing function — replace with your own logic.\n",
    "    For example: convert to grayscale and apply Gaussian blur.\n",
    "    \n",
    "    \"\"\"\n",
    "    stacked_filtered_img= Filtering.single_image(img, InputFeature.SCH3)\n",
    "    stacked_filtered_img= Filtering.single_image(stacked_filtered_img, InputFeature.NGP_)\n",
    "    \n",
    "    \n",
    "    return stacked_filtered_img\n",
    "\n",
    "def process_images_in_directory(root_dir):\n",
    "    for dirpath, _, filenames in os.walk(root_dir):\n",
    "        for filename in filenames:\n",
    "            if filename.lower().endswith(('.png', '.jpg', '.jpeg', '.bmp', '.tif', '.tiff')):\n",
    "                img_path = os.path.join(dirpath, filename)\n",
    "                print(f\"Processing: {img_path}\")\n",
    "                \n",
    "                # Read image\n",
    "                img = cv2.imread(img_path, cv2.IMREAD_GRAYSCALE)\n",
    "                if img is None:\n",
    "                    print(f\"Failed to read {img_path}\")\n",
    "                    continue\n",
    "                print(len(filename))\n",
    "                # Process image\n",
    "                # if len(filename) > 3:\n",
    "                #     continue\n",
    "                \n",
    "                processed = process_image(img)\n",
    "\n",
    "                #Save processed image\n",
    "                out_path = os.path.join(dirpath, f\"processed_{filename}\")\n",
    "                print(f\"Completed: {dirpath} - processed_{filename}\")\n",
    "                cv2.imwrite(out_path, processed)\n",
    "\n",
    "\n"
   ]
  },
  {
   "cell_type": "code",
   "execution_count": 42,
   "id": "02254f3c",
   "metadata": {},
   "outputs": [
    {
     "name": "stdout",
     "output_type": "stream",
     "text": [
      "Processing: /home/eric/Desktop/newDataSet/resized/processed/p/resized_krhaa111-N5-7.png\n",
      "25\n",
      "Completed: /home/eric/Desktop/newDataSet/resized/processed/p - processed_resized_krhaa111-N5-7.png\n",
      "Processing: /home/eric/Desktop/newDataSet/resized/processed/p/resized_krhaa112-N5-8.png\n",
      "25\n",
      "Completed: /home/eric/Desktop/newDataSet/resized/processed/p - processed_resized_krhaa112-N5-8.png\n",
      "Processing: /home/eric/Desktop/newDataSet/resized/processed/p/resized_krhaa117-N6-2.png\n",
      "25\n",
      "Completed: /home/eric/Desktop/newDataSet/resized/processed/p - processed_resized_krhaa117-N6-2.png\n",
      "Processing: /home/eric/Desktop/newDataSet/resized/processed/p/resized_krhaa122-N6-7.png\n",
      "25\n",
      "Completed: /home/eric/Desktop/newDataSet/resized/processed/p - processed_resized_krhaa122-N6-7.png\n",
      "Processing: /home/eric/Desktop/newDataSet/resized/processed/p/resized_krhaa125-N6-8.png\n",
      "25\n",
      "Completed: /home/eric/Desktop/newDataSet/resized/processed/p - processed_resized_krhaa125-N6-8.png\n",
      "Processing: /home/eric/Desktop/newDataSet/resized/processed/p/resized_krhaa126-N6-9.png\n",
      "25\n",
      "Completed: /home/eric/Desktop/newDataSet/resized/processed/p - processed_resized_krhaa126-N6-9.png\n",
      "Processing: /home/eric/Desktop/newDataSet/resized/processed/p/resized_krhaa118-N6-3.png\n",
      "25\n",
      "Completed: /home/eric/Desktop/newDataSet/resized/processed/p - processed_resized_krhaa118-N6-3.png\n",
      "Processing: /home/eric/Desktop/newDataSet/resized/processed/p/resized_krhaa115-N5-10.png\n",
      "26\n",
      "Completed: /home/eric/Desktop/newDataSet/resized/processed/p - processed_resized_krhaa115-N5-10.png\n",
      "Processing: /home/eric/Desktop/newDataSet/resized/processed/p/resized_krhaa114-N5-9.png\n",
      "25\n",
      "Completed: /home/eric/Desktop/newDataSet/resized/processed/p - processed_resized_krhaa114-N5-9.png\n",
      "Processing: /home/eric/Desktop/newDataSet/resized/processed/p/resized_krhaa120-N6-5.png\n",
      "25\n",
      "Completed: /home/eric/Desktop/newDataSet/resized/processed/p - processed_resized_krhaa120-N6-5.png\n",
      "Processing: /home/eric/Desktop/newDataSet/resized/processed/p/resized_krhaa121-N6-6.png\n",
      "25\n",
      "Completed: /home/eric/Desktop/newDataSet/resized/processed/p - processed_resized_krhaa121-N6-6.png\n",
      "Processing: /home/eric/Desktop/newDataSet/resized/processed/p/resized_krhaa119-N6-4.png\n",
      "25\n",
      "Completed: /home/eric/Desktop/newDataSet/resized/processed/p - processed_resized_krhaa119-N6-4.png\n",
      "Processing: /home/eric/Desktop/newDataSet/resized/processed/p/resized_krhaa116-N6-1.png\n",
      "25\n",
      "Completed: /home/eric/Desktop/newDataSet/resized/processed/p - processed_resized_krhaa116-N6-1.png\n"
     ]
    }
   ],
   "source": [
    "base_path = \"/home/eric/Desktop/newDataSet/resized/processed\"  # CHANGE THIS\n",
    "process_images_in_directory(base_path)"
   ]
  },
  {
   "cell_type": "code",
   "execution_count": null,
   "id": "e2881cd6",
   "metadata": {},
   "outputs": [
    {
     "name": "stdout",
     "output_type": "stream",
     "text": [
      "All images have been resized and saved.\n"
     ]
    }
   ],
   "source": [
    "# # Paths\n",
    "# input_dir = '/home/eric/Desktop/newDataSet'     # Replace with your input folder path\n",
    "# output_dir = '/home/eric/Desktop/newDataSet'   # Replace with your output folder path\n",
    "# os.makedirs(output_dir, exist_ok=True)\n",
    "\n",
    "# # Image size\n",
    "# target_size = (256, 256)\n",
    "\n",
    "# # Supported image extensions\n",
    "# valid_extensions = {'.jpg', '.jpeg', '.png', '.bmp', '.tiff', '.webp'}\n",
    "\n",
    "# # Process each image\n",
    "# for filename in os.listdir(input_dir):\n",
    "#     ext = os.path.splitext(filename)[1].lower()\n",
    "#     if ext in valid_extensions:\n",
    "#         input_path = os.path.join(input_dir, filename)\n",
    "#         output_path = os.path.join(output_dir, \"resized_\" + filename)\n",
    "\n",
    "#         # Read image\n",
    "#         img = cv2.imread(input_path)\n",
    "#         if img is None:\n",
    "#             print(f\"Failed to read {input_path}, skipping.\")\n",
    "#             continue\n",
    "\n",
    "#         # Resize image\n",
    "#         resized = cv2.resize(img, target_size)\n",
    "\n",
    "#         # Write resized image\n",
    "#         cv2.imwrite(output_path, resized)\n",
    "\n",
    "# print(\"All images have been resized and saved.\")"
   ]
  },
  {
   "cell_type": "code",
   "execution_count": 1,
   "id": "58c1a95d",
   "metadata": {},
   "outputs": [],
   "source": [
    "# import pdfkit\n",
    "# pdfkit.from_file('/home/eric/Downloads/MVA2025-individual-review.html', 'MVA2025-individual-review.pdf')\n",
    "\n",
    "from weasyprint import HTML\n",
    "\n",
    "# Load your HTML file and convert to PDF\n",
    "HTML('/home/eric/Downloads/MVA2025-individual-review.html').write_pdf('mva2025-individual-reviews.pdf')\n"
   ]
  }
 ],
 "metadata": {
  "kernelspec": {
   "display_name": "altenv",
   "language": "python",
   "name": "python3"
  },
  "language_info": {
   "codemirror_mode": {
    "name": "ipython",
    "version": 3
   },
   "file_extension": ".py",
   "mimetype": "text/x-python",
   "name": "python",
   "nbconvert_exporter": "python",
   "pygments_lexer": "ipython3",
   "version": "3.11.9"
  }
 },
 "nbformat": 4,
 "nbformat_minor": 5
}
