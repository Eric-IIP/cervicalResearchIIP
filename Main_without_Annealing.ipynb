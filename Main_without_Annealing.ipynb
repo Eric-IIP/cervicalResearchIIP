{
 "cells": [
  {
   "cell_type": "code",
   "execution_count": 1,
   "metadata": {
    "tags": [
     "parameters"
    ]
   },
   "outputs": [],
   "source": [
    "N_BLOCK = 5\n",
    "LR = 0.003\n",
    "OUTPUT_DIR = '20250131-CyclicLRv4'\n",
    "\n",
    "# after the 4 divided conv1x1 108/4 = 27\n",
    "IN_CHANNEL = 45\n",
    "\n",
    "AUGMENTED = True\n",
    "AUGMENTATION  =  30\n",
    "\n",
    "\n",
    "CROSS_VAL = True\n",
    "N_SPLIT = 4"
   ]
  },
  {
   "cell_type": "code",
   "execution_count": 2,
   "metadata": {},
   "outputs": [
    {
     "name": "stderr",
     "output_type": "stream",
     "text": [
      "2025-01-31 22:31:55.106800: I tensorflow/core/platform/cpu_feature_guard.cc:210] This TensorFlow binary is optimized to use available CPU instructions in performance-critical operations.\n",
      "To enable the following instructions: AVX2 FMA, in other operations, rebuild TensorFlow with the appropriate compiler flags.\n",
      "2025-01-31 22:31:55.829616: W tensorflow/compiler/tf2tensorrt/utils/py_utils.cc:38] TF-TRT Warning: Could not find TensorRT\n"
     ]
    }
   ],
   "source": [
    "from numpy.core.numeric import NaN\n",
    "from MCtool.RFilter import gray\n",
    "from genericpath import exists\n",
    "from matplotlib import image\n",
    "import math\n",
    "import sys\n",
    "import time\n",
    "\n",
    "import cv2\n",
    "from matplotlib import pyplot as plt\n",
    "from tensorflow.python.keras.backend import dtype\n",
    "from DeepLearning import LearnAndTest\n",
    "from Rpkg.Rfund.InputFeature import InputFeature\n",
    "import datetime\n",
    "import os\n",
    "import gc\n",
    "import tensorflow as tf\n",
    "import random\n",
    "import numpy as np\n",
    "import pandas as pd\n",
    "\n",
    "from Rpkg.Rfund import ReadFile, WriteFile\n",
    "from Rpkg.Rmodel import Unet, Mnet\n",
    "\n",
    "import Filtering\n",
    "\n",
    "import torch\n",
    "from torch import nn\n",
    "\n",
    "\n",
    "import DeepLearning\n",
    "from tensorflow.keras.optimizers import Adam\n",
    "\n",
    "from Rpkg.Rfund.InputFeature import InputFeature\n",
    "from Rpkg.Rfund import ReadFile, WriteFile\n",
    "from Rpkg.Rmodel import Unet, Mnet\n",
    "\n",
    "from MCtool import RFilter, resultEval\n",
    "from DeepLearning import save_eval_result\n",
    "\n",
    "import numpy as np\n",
    "import cv2\n",
    "import torch\n",
    "from transformations import ComposeDouble, FunctionWrapperDouble, create_dense_target, normalize_01\n",
    "from customdatasets import SegmentationDataSet1\n",
    "from torch.utils.data import DataLoader\n",
    "from sklearn.model_selection import train_test_split\n",
    "import pathlib\n",
    "from skimage.transform import resize\n",
    "\n",
    "#early stopping なし\n",
    "from unet import UNet\n",
    "from trainer import Trainer\n",
    "from sklearn.model_selection import StratifiedKFold, train_test_split\n",
    "\n",
    "\n"
   ]
  },
  {
   "cell_type": "code",
   "execution_count": 3,
   "metadata": {},
   "outputs": [],
   "source": [
    "# new branch experiment\n",
    "# 2"
   ]
  },
  {
   "cell_type": "code",
   "execution_count": 4,
   "metadata": {},
   "outputs": [],
   "source": [
    "# Make sure there is no randomness in the output so that the output is reproduceable\n",
    "import torch\n",
    "import numpy as np\n",
    "import random\n",
    "\n",
    "# Set seed for Python random module\n",
    "random.seed(42)\n",
    "\n",
    "# Set seed for NumPy\n",
    "np.random.seed(42)\n",
    "\n",
    "# Set seed for PyTorch\n",
    "torch.manual_seed(42)\n",
    "\n",
    "# If you are using GPU\n",
    "torch.cuda.manual_seed(42)\n",
    "torch.cuda.manual_seed_all(42)\n",
    "\n",
    "# Make the convolution operations deterministic\n",
    "torch.backends.cudnn.deterministic = True\n",
    "\n",
    "# Disable the CUDNN benchmark to ensure deterministic results\n",
    "torch.backends.cudnn.benchmark = False\n"
   ]
  },
  {
   "cell_type": "code",
   "execution_count": null,
   "metadata": {},
   "outputs": [
    {
     "name": "stdout",
     "output_type": "stream",
     "text": [
      "PyTorch Version installed: 2.3.0+cu121\n",
      "CUDA version associated with PyTorch version: 12.1\n",
      "Version of cuDNN (CUDA Deep Neural Network library) being used by PyTorch8902\n",
      "CUDA is available: True\n",
      "Number of GPUs compatible with CUDA:1\n",
      "Name of the GPU at index 0: NVIDIA GeForce RTX 2080 Ti\n",
      "Current CUDA device index: 0\n"
     ]
    }
   ],
   "source": [
    "# 自分の環境設定がうまくいったかどうかを確認しましょう、特にGPUの動作\n",
    "# Prints the version of PyTorch installed\n",
    "print('PyTorch Version installed: ' + torch.__version__)\n",
    "\n",
    "# Prints the version of CUDA associated with the installed PyTorch version\n",
    "print('CUDA version associated with PyTorch version: ' + torch.version.cuda)\n",
    "\n",
    "# Prints the version of cuDNN (CUDA Deep Neural Network library) being used by PyTorch\n",
    "print('Version of cuDNN (CUDA Deep Neural Network library) being used by PyTorch' + str(torch.backends.cudnn.version()))\n",
    "\n",
    "# Same as the line above\n",
    "print('CUDA is available: ' + str(torch.cuda.is_available()))\n",
    "\n",
    "# Returns the number of available CUDA-enabled GPUs\n",
    "print('Number of GPUs compatible with CUDA:' + str(torch.cuda.device_count()))\n",
    "\n",
    "# Returns the name of the GPU at index 0\n",
    "print('Name of the GPU at index 0: '  + str(torch.cuda.get_device_name(0)))\n",
    "\n",
    "# Returns the index of the current CUDA device being used\n",
    "print('Current CUDA device index: '  + str(torch.cuda.current_device()))\n"
   ]
  },
  {
   "cell_type": "code",
   "execution_count": 6,
   "metadata": {},
   "outputs": [],
   "source": [
    "# ファイル名の先頭部分（prefix）により自動的にファイル名を抽出するアルゴリズム。\n",
    "# 実際それぞれのファイル名は違うと思うので、必須ではない\n",
    "\n",
    "\"\"\" \n",
    "\n",
    "Extracts filenames in directory if they start with the prefix input \n",
    "\n",
    "\n",
    "Args/Parameters:\n",
    "\n",
    "    directory_path (string): The path of the dir (ex: /root/home/Documents/etc)\n",
    "    \n",
    "    prefix (string): Prefix of the file name (ex: 'Bo' is a prefix of 'Bone')\n",
    "\n",
    "Returns:\n",
    "\n",
    "    sorted_file_names (list of str): File names sorted in ascending order in the dir without extension ex: ['bone1', 'bone2', ...]\n",
    "\n",
    "Raises:\n",
    "\n",
    "    SomeError: ...\n",
    "\n",
    "\"\"\"\n",
    "\n",
    "def file_names_with_prefix(directory_path, prefix):\n",
    "\n",
    "    # Initialize an empty list to store the file names without extensions\n",
    "    file_names_without_extension = []\n",
    "\n",
    "    # Loop through all files in the specified directory\n",
    "    for filename in os.listdir(directory_path):\n",
    "        #Checking if the file in loop exists in the directory_path not sure how is this necessary\n",
    "        #??\n",
    "        if os.path.isfile(os.path.join(directory_path, filename)):\n",
    "            # Check if the file name starts with the specified prefix\n",
    "            if filename.startswith(prefix):\n",
    "                # Get the file name without extension\n",
    "                name_without_extension, _ = os.path.splitext(filename)\n",
    "\n",
    "                # Append the file name (without extension) to the list\n",
    "                file_names_without_extension.append(name_without_extension)\n",
    "\n",
    "    # Sort the list of file names without extensions in ascending order\n",
    "    sorted_file_names = sorted(\n",
    "        file_names_without_extension,\n",
    "        key=lambda x: (x.split('-')[0], int(x.split('-')[1]))\n",
    "    )  # Modify this part based on your file naming convention\n",
    "\n",
    "    # Now you have a sorted list of file names with the specified prefix and without extensions\n",
    "    return sorted_file_names\n"
   ]
  },
  {
   "cell_type": "code",
   "execution_count": 7,
   "metadata": {},
   "outputs": [],
   "source": [
    "# #############################\n",
    "# ###bugged/ doesnt read by order\n",
    "# ###Custom Function renames all files in format N1-...\n",
    "# ###Only need to run it one time\n",
    "# #############################\n",
    "\n",
    "# import os\n",
    "# from PIL import Image\n",
    "\n",
    "# def rename_images(directory):\n",
    "#     # Get a list of all files in the directory\n",
    "#     files = os.listdir(directory)\n",
    "    \n",
    "#     # Filter out only the image files\n",
    "#     image_files = [file for file in files if file.lower().endswith(('.png', '.jpg', '.jpeg', '.gif', '.bmp'))]\n",
    "    \n",
    "#     # Sort the image files to ensure consistent naming\n",
    "#     image_files.sort()\n",
    "    \n",
    "#     # Initialize counter\n",
    "#     counter = 1\n",
    "    \n",
    "#     # Iterate through the image files\n",
    "#     for filename in image_files:\n",
    "#         # Open the image\n",
    "#         image_path = os.path.join(directory, filename)\n",
    "#         with Image.open(image_path) as img:\n",
    "#             # Rename the image file\n",
    "#             new_filename = f\"N1-{counter}\" + os.path.splitext(filename)[1]\n",
    "#             new_image_path = os.path.join(directory, new_filename)\n",
    "            \n",
    "#             # Save the image with the new name\n",
    "#             img.save(new_image_path)\n",
    "        \n",
    "#         # Increment the counter\n",
    "#         counter += 1\n",
    "\n",
    "# # Specify the directory containing the images\n",
    "# directory_path = \"/home/eric/Downloads/imgNaming/processing\"\n",
    "\n",
    "# # Call the function to rename the images\n",
    "# rename_images(directory_path)\n"
   ]
  },
  {
   "cell_type": "code",
   "execution_count": 8,
   "metadata": {},
   "outputs": [
    {
     "name": "stdout",
     "output_type": "stream",
     "text": [
      "Root directory: /home/eric/Documents/cervicalResearchIIP\n",
      "Data directory (original dir): /home/eric/Documents/cervicalResearchIIP/img_1006t/original\n",
      "Feature img directory: /home/eric/Documents/cervicalResearchIIP/img_1006t/feature\n",
      "Labeled img directory: /home/eric/Documents/cervicalResearchIIP/img_1006t/labeled\n",
      "Annealing directory: /home/eric/Documents/cervicalResearchIIP/img_1006/original\n",
      "Result directory: /home/eric/Documents/cervicalResearchIIP/result/20250131-CyclicLRv4\n",
      "Test result directory: /home/eric/Documents/cervicalResearchIIP/result_test/20250131-CyclicLRv4\n"
     ]
    }
   ],
   "source": [
    "import pathlib\n",
    "from pathlib import Path\n",
    "\n",
    "# ここで、folder名とかPathとか色々設定\n",
    "\n",
    "# Setting the directory name, path and other settings\n",
    "\n",
    "# Define the root directory where your project is located\n",
    "# Defining a Path object for the project's root dir\n",
    "root_dir = Path(pathlib.Path.cwd())\n",
    "\n",
    "# result folder name\n",
    "#date_str = '20241202-Conv1x1-' + str(OUTPUT_DIR)\n",
    "date_str = OUTPUT_DIR\n",
    "\n",
    "# Define the directories for different types of data\n",
    "# Concatenating the root dir to the different dataset dirs\n",
    "data_dir = str(root_dir / \"img_1006t/original\")\n",
    "feature_dir = str(root_dir / \"img_1006t/feature\") \n",
    "labeled_dir = str(root_dir / \"img_1006t/labeled\")\n",
    "\n",
    "augmented_labeled_dir = str(root_dir / \"img_1006t/labelAug\")\n",
    "augmented_data_dir = str(root_dir / \"img_1006t/originalAug\")\n",
    "augmented_feature_dir = str(root_dir / \"img_1006t/featureAug\")\n",
    "\n",
    "# annealing_img_dir = str(root_dir / \"img_1006/annealing_img\") # 焼きなまし法時に使う\n",
    "# annealing later, original for now\n",
    "annealing_img_dir = str(root_dir / \"img_1006/original\")\n",
    "result_dir = str(root_dir / \"result\" / date_str)\n",
    "test_result_dir= str(root_dir / \"result_test\" / date_str)\n",
    "\n",
    "# Making directories based on the path string result_dir and test_result_dir\n",
    "Path(result_dir).mkdir(parents=True, exist_ok=True)\n",
    "Path(test_result_dir).mkdir(parents=True, exist_ok=True)\n",
    "\n",
    "# Prints the paths of the dirs\n",
    "print('Root directory: ' + str(root_dir))\n",
    "print('Data directory (original dir): ' + str(data_dir))\n",
    "print('Feature img directory: ' + str(feature_dir))\n",
    "print('Labeled img directory: ' + str(labeled_dir))\n",
    "print('Annealing directory: ' + str(annealing_img_dir))\n",
    "print('Result directory: ' + str(result_dir))\n",
    "print('Test result directory: ' + str(test_result_dir))\n",
    "\n",
    "# Defining variables filename list of path str starts with the prefix format\n",
    "# In this case: N1 and N3 is training data and N2 is validation data and N4 is a test data\n",
    "input_train = []\n",
    "input_name_val = []\n",
    "annealing_input_name = []\n",
    "input_train = []\n",
    "test_input_name = []\n",
    "\n",
    "\n",
    "# for raw_input_img in INPUT:\n",
    "#     input_train.extend(file_names_with_prefix(data_dir, raw_input_img))\n",
    "# for raw_val_img in VALIDATION:\n",
    "#     input_name_val.extend(file_names_with_prefix(data_dir, raw_val_img))\n",
    "# for raw_anneal in ANNEALING:\n",
    "#     annealing_input_name.extend(file_names_with_prefix(data_dir, raw_anneal))\n",
    "# for raw_test in TEST:\n",
    "#     test_input_name.extend(file_names_with_prefix(data_dir, raw_test))\n",
    "\n",
    "\n",
    "####old version of assigning\n",
    "# input_train = file_names_with_prefix(data_dir, INPUT)\n",
    "# input_name_val = file_names_with_prefix(data_dir, VALIDATION)\n",
    "# annealing_input_name = file_names_with_prefix(data_dir, ANNEALING)\n",
    "# test_input_name = file_names_with_prefix(data_dir, TEST) \n",
    "\n",
    "\n",
    "# extra_dataset = file_names_with_prefix(data_dir,'N5-')\n",
    "# input_train.extend(extra_dataset)\n",
    "\n",
    "# Prints the each data image name\n",
    "# print(input_train)\n",
    "# print(input_name_val)\n",
    "# print(annealing_input_name)\n",
    "# print(test_input_name)\n",
    "# print(extra_dataset)\n",
    "\n",
    "\n",
    "# Defining a var to store each list length\n",
    "len_train = len(input_train)\n",
    "len_val = len(input_name_val)\n",
    "len_test = len(test_input_name)\n",
    "len_annealing = len(annealing_input_name)\n",
    "\n",
    "\n",
    "# print(len(input_train))\n",
    "\n",
    "# print(len(input_name_val))\n",
    "# print(len(test_input_name))\n",
    "# print(len(annealing_input_name))\n"
   ]
  },
  {
   "cell_type": "code",
   "execution_count": 9,
   "metadata": {},
   "outputs": [
    {
     "name": "stdout",
     "output_type": "stream",
     "text": [
      "['GRY_', 'NML1', 'NML2', 'NML3', 'TOP1', 'TOP2', 'TOP3', 'TOP4', 'SBLX', 'SBLY', 'SBLM', 'SBLD', 'SBL1', 'SBL2', 'SBL3', 'SBL4', 'LPL1', 'LPL2', 'MEA1', 'MEA2', 'GAU1', 'GAU2', 'MED1', 'MED2', 'LBP1', 'LBP2', 'LBP3', 'ETC1', 'ETC2', 'STC1', 'STC2', 'HGF_', 'NGP_', 'POS1', 'POS2', 'POS3', 'SOL_', 'EMB1', 'EMB2', 'EMB3', 'KNN1', 'KNN2', 'BLT1', 'BLT2', 'OOO_']\n",
      "45\n"
     ]
    }
   ],
   "source": [
    "# 特徴画像の特徴一覧をリストとして取得\n",
    "inputfeature_list = list(map(str, InputFeature))\n",
    "print(inputfeature_list)\n",
    "\n",
    "feature_num = len(inputfeature_list)\n",
    "print(feature_num)"
   ]
  },
  {
   "cell_type": "code",
   "execution_count": 10,
   "metadata": {},
   "outputs": [],
   "source": [
    "## 重み計算なし\n",
    "def CreateWeightImage(input_number, augmentation=False):\n",
    "    print(\"Creating image arrays...\")\n",
    "    label_dataset = []\n",
    "    arrDataset = []\n",
    "    for i in input_number:\n",
    "        if augmentation:\n",
    "            label_path = os.path.join(augmented_labeled_dir, str(AUGMENTATION) + \"aug/\" , f\"{i}.png\")\n",
    "        else:\n",
    "            label_path = os.path.join(labeled_dir, f\"{i}.png\")\n",
    "        input_originallabel = cv2.imread(label_path, cv2.IMREAD_GRAYSCALE)\n",
    "        # commented the binary label because the project has more labels than 2 \n",
    "        #_, binary_label = cv2.threshold(input_originallabel, 0, 255, cv2.THRESH_BINARY)\n",
    "        \n",
    "        ## This part was used for decreasing and increasing the label count when there was inconsistency with the label dataset\n",
    "        \n",
    "        # if len(np.unique(input_originallabel)) > 11:\n",
    "        #     print(\"Defected image detected (more labels):\" + f\"{i}.png\")\n",
    "        #     print(np.unique(input_originallabel))\n",
    "        #     for y in range(256):\n",
    "        #         for x in range (256):\n",
    "        #             if (input_originallabel[y][x] == 11) or (input_originallabel[y][x] == 12):\n",
    "        #                 input_originallabel[y][x] = 0\n",
    "        #     print(np.unique(input_originallabel))\n",
    "        #     cv2.imwrite('testtttt.png', input_originallabel)\n",
    "        # elif len(np.unique(input_originallabel)) < 11:\n",
    "        #     print(\"Defected image detected (Less labels):\" + f\"{i}.png\")\n",
    "        #     defected = f\"{i}_.png\"\n",
    "        #     print(np.unique(input_originallabel))\n",
    "        #     path_to_mask = '/home/eric/Desktop/edit8label'\n",
    "\n",
    "        #     # 25->9 32->10\n",
    "        #     path_mask_abs = os.path.join(path_to_mask, defected)\n",
    "        #     mask = cv2.imread(path_mask_abs, cv2.IMREAD_GRAYSCALE)\n",
    "        #     for y in range(256):\n",
    "        #         for x in range (256):\n",
    "        #             if (input_originallabel[y][x] == 0) and (mask[y][x] == 25):\n",
    "        #                 input_originallabel[y][x] = 9\n",
    "        #             elif (input_originallabel[y][x] == 0) and (mask[y][x] == 32):\n",
    "        #                 input_originallabel[y][x] = 10\n",
    "        #     print(np.unique(input_originallabel))\n",
    "        #     label_fixed_path = os.path.join(path_to_mask, f\"{i}_fixed.png\")\n",
    "        #     cv2.imwrite(label_fixed_path, input_originallabel)\n",
    "                    \n",
    "        label_dataset.append(input_originallabel)\n",
    "\n",
    "    print(\"Number of label images:\", len(label_dataset))\n",
    "\n",
    "    for i in input_number:\n",
    "        # changed this part from 100 to 256\n",
    "        dataset_img = np.zeros((256, 256, feature_num), dtype=np.float32)\n",
    "\n",
    "        for m in range(feature_num):\n",
    "            if augmentation:\n",
    "                feature_img_path = os.path.join(augmented_feature_dir, str(AUGMENTATION) + \"aug/\" , str(i), f\"{inputfeature_list[m]}.png\")\n",
    "            else:\n",
    "                feature_img_path = os.path.join(feature_dir, str(i), f\"{inputfeature_list[m]}.png\")\n",
    "            input_featureimg = cv2.imread(feature_img_path, cv2.IMREAD_GRAYSCALE)\n",
    "            dataset_img[:, :, m] = input_featureimg\n",
    "        # after the loop the dataset_img size will be like: (256, 256, 108) and the tensor type is np array\n",
    "        \n",
    "        \n",
    "        \n",
    "        ##this part is dividing the dataset to use multiple conv1x1 operation\n",
    "        #split_dataset_img = np.array_split(dataset_img, 4, axis = 2)\n",
    "        #post_conv = np.zeros((256, 256, 4), dtype=np.float32)\n",
    "        #concat_list = []\n",
    "        #for index, part in enumerate(split_dataset_img):\n",
    "            # after this operation shape will be from (256, 256, 27) to (1, 256, 256, 27)\n",
    "            #part = torch.tensor(part, dtype = torch.float32).unsqueeze(0)\n",
    "            # changed the shape for the conv again now it is (1, 27, 256, 256) (batch_size, channels, height, width)\n",
    "            #part = part.permute(0, 3, 1, 2)\n",
    "            #fusion = nn.Conv2d(in_channels = 27, out_channels = 1, kernel_size = 1, padding = 'same')\n",
    "            #output_conv = fusion(part)\n",
    "            #output_conv = output_conv.squeeze(0) #.permute(1, 2, 0) # now it is (256, 256, 1)\n",
    "            #output_conv = output_conv.cpu().detach().numpy()\n",
    "            #post_conv[:, :, index] = output_conv[0]\n",
    "            #print((output_conv).shape)\n",
    "            #concat_list.append(output_conv)\n",
    "            \n",
    "        #concat_output = torch.cat((concat_list[0], concat_list[1], concat_list[2], concat_list[3]), dim = 2)\n",
    "        ## convert the concat result tensor into numpy array and it has to be on cpu to do the operation\n",
    "        #print(np.unique(output_conv.detach()))\n",
    "        #concat_output = concat_output.detach()\n",
    "        #concat_output = concat_output.numpy()\n",
    "        \n",
    "        \n",
    "        #arrDataset = concat_list\n",
    "        arrDataset.append(dataset_img)\n",
    "\n",
    "    arrDataset = np.array(arrDataset)\n",
    "    print(\"Completed creating image arrays:\")\n",
    "    print(\"Dataset shape \", arrDataset.shape)\n",
    "    print(\"Label image shape \", np.shape(label_dataset))\n",
    "    print()\n",
    "\n",
    "    return arrDataset, label_dataset\n"
   ]
  },
  {
   "cell_type": "code",
   "execution_count": 11,
   "metadata": {},
   "outputs": [],
   "source": [
    "# # ## Test code\n",
    "\n",
    "# input_dataset,label_dataset = CreateWeightImage(input_train)\n",
    "# input_dataset_val,label_dataset_val = CreateWeightImage(input_name_val)\n",
    "\n"
   ]
  },
  {
   "cell_type": "code",
   "execution_count": 12,
   "metadata": {},
   "outputs": [],
   "source": [
    "# from statistics import mean\n",
    "# # 重みを基づいて、MC画像を生成する\n",
    "# # function for showing MC image\n",
    "# # gets 1d array as weight, input_number is image name, and index is directory name for the mc image to save\n",
    "# def CreateWeightImageforShow(weight, input_number, index):\n",
    "#     sum_weight = sum(weight)  # Calculate total weight\n",
    "\n",
    "#     label_dataset = []\n",
    "#     input_dataset = []\n",
    "#     dataset_original = []\n",
    "\n",
    "#     # Read label images\n",
    "#     for i in input_number:\n",
    "#         input_originallabel = cv2.imread(labeled_dir + \"/\" + str(i) + \".png\", flags=0)\n",
    "#         label_dataset.append(input_originallabel)\n",
    "\n",
    "#     print('Weight image for show, label length = ', len(label_dataset))\n",
    "\n",
    "#     # Create output directory\n",
    "#     os.makedirs(test_result_dir + \"/weightImage/\" + str(index), exist_ok=True)\n",
    "\n",
    "#     # Generate weighted images\n",
    "#     for i in input_number:\n",
    "#         # Create a blank image to store the weighted image, using float type for accumulation\n",
    "#         dataset_img = np.zeros((256, 256, 3), dtype=np.float32)\n",
    "#         input_originalimg = cv2.imread(data_dir + \"/\" + str(i) + \".png\")\n",
    "\n",
    "#         dataset_original.append(input_originalimg)\n",
    "#         for m in range(feature_num):\n",
    "#             input_featureimg = cv2.imread(feature_dir + \"/\" + str(i) + \"/\" + inputfeature_list[m] + \".png\", cv2.IMREAD_GRAYSCALE)\n",
    "#             # Normalize the feature image\n",
    "#             normalized_feature_img = cv2.normalize(input_featureimg.astype(np.float32), None, 0, 1, cv2.NORM_MINMAX)\n",
    "#             # Accumulate the weighted feature image\n",
    "#             dataset_img += normalized_feature_img[:, :, None] * (weight[m] / sum_weight)  # Convert 2D array to 3D array\n",
    "\n",
    "#         # Normalize the accumulated image to the range 0-255\n",
    "#         dataset_img = cv2.normalize(dataset_img, None, 0, 255, cv2.NORM_MINMAX)\n",
    "#         output_img = dataset_img.astype(np.uint8)  # Convert to uint8\n",
    "\n",
    "#         input_dataset.append(output_img)\n",
    "#         # Write to file\n",
    "#         cv2.imwrite(f\"{test_result_dir}/weightImage/{index}/{i}.png\", output_img)\n",
    "\n",
    "#     return input_dataset, label_dataset\n"
   ]
  },
  {
   "cell_type": "code",
   "execution_count": 13,
   "metadata": {},
   "outputs": [],
   "source": [
    "# ## Function to extract the weight values from the list average it and then pass the weight array to CreateWeightImageforShow\n",
    "# ## Netron app to extract the weight tensor\n",
    "# ## if the conv is 1x1 the tensor has 45 values\n",
    "# ## if the conv is 3x3 there are 9 x 45 values so the function averages 9 value into 1 and so on\n",
    "# def compute_mean_values(input_list):\n",
    "#     \"\"\"\n",
    "#     Compute mean of 3x3 blocks in each channel of the input list.\n",
    "    \n",
    "#     Args:\n",
    "#         input_list (list): A 4D list of shape (1, C, H, W).\n",
    "        \n",
    "#     Returns:\n",
    "#         list: A 1D list of length C containing the mean values for each channel.\n",
    "#     \"\"\"\n",
    "#     # Ensure the input is a 4D list\n",
    "#     if not isinstance(input_list, list) or len(input_list) != 1:\n",
    "#         raise ValueError(\"Expected input list of shape (1, C, H, W)\")\n",
    "    \n",
    "#     channels = input_list[0]  # Get the channels (C, H, W)\n",
    "    \n",
    "#     if not isinstance(channels, list) or not all(isinstance(channel, list) for channel in channels):\n",
    "#         raise ValueError(\"Each channel must be a list of 2D lists (H, W).\")\n",
    "    \n",
    "#     mean_values = []\n",
    "#     for channel in channels:\n",
    "#         if not all(isinstance(row, list) for row in channel):\n",
    "#             raise ValueError(\"Each channel must contain 2D lists.\")\n",
    "        \n",
    "#         # Flatten the 2D channel to compute the mean\n",
    "#         flattened = [value for row in channel for value in row]\n",
    "#         mean_values.append(sum(flattened) / len(flattened))\n",
    "    \n",
    "#     return mean_values\n"
   ]
  },
  {
   "cell_type": "code",
   "execution_count": 14,
   "metadata": {},
   "outputs": [],
   "source": [
    "# ## Example for creating MC image for showing\n",
    "\n",
    "# ### 1X1-1029-23-n1-1\n",
    "# ### JUST SINGLE VARIATION\n",
    "# weight_tensor_1x1_1029_23_n1_1 = [\n",
    "#     [\n",
    "#         [\n",
    "#             [\n",
    "#                 0.048620592802762985\n",
    "#             ]\n",
    "#         ],\n",
    "#         [\n",
    "#             [\n",
    "#                 -0.16266734898090363\n",
    "#             ]\n",
    "#         ],\n",
    "#         [\n",
    "#             [\n",
    "#                 -0.5331748127937317\n",
    "#             ]\n",
    "#         ],\n",
    "#         [\n",
    "#             [\n",
    "#                 0.01446301955729723\n",
    "#             ]\n",
    "#         ],\n",
    "#         [\n",
    "#             [\n",
    "#                 0.10741645097732544\n",
    "#             ]\n",
    "#         ],\n",
    "#         [\n",
    "#             [\n",
    "#                 -0.6900704503059387\n",
    "#             ]\n",
    "#         ],\n",
    "#         [\n",
    "#             [\n",
    "#                 0.18237368762493134\n",
    "#             ]\n",
    "#         ],\n",
    "#         [\n",
    "#             [\n",
    "#                 -0.23400326073169708\n",
    "#             ]\n",
    "#         ],\n",
    "#         [\n",
    "#             [\n",
    "#                 0.42221564054489136\n",
    "#             ]\n",
    "#         ],\n",
    "#         [\n",
    "#             [\n",
    "#                 -1.682648777961731\n",
    "#             ]\n",
    "#         ],\n",
    "#         [\n",
    "#             [\n",
    "#                 -0.16891618072986603\n",
    "#             ]\n",
    "#         ],\n",
    "#         [\n",
    "#             [\n",
    "#                 -0.2950967848300934\n",
    "#             ]\n",
    "#         ],\n",
    "#         [\n",
    "#             [\n",
    "#                 -0.09502755105495453\n",
    "#             ]\n",
    "#         ],\n",
    "#         [\n",
    "#             [\n",
    "#                 -0.5569474101066589\n",
    "#             ]\n",
    "#         ],\n",
    "#         [\n",
    "#             [\n",
    "#                 -0.21041442453861237\n",
    "#             ]\n",
    "#         ],\n",
    "#         [\n",
    "#             [\n",
    "#                 -0.23691624402999878\n",
    "#             ]\n",
    "#         ],\n",
    "#         [\n",
    "#             [\n",
    "#                 -0.13884063065052032\n",
    "#             ]\n",
    "#         ],\n",
    "#         [\n",
    "#             [\n",
    "#                 2.331940174102783\n",
    "#             ]\n",
    "#         ],\n",
    "#         [\n",
    "#             [\n",
    "#                 1.0844106674194336\n",
    "#             ]\n",
    "#         ],\n",
    "#         [\n",
    "#             [\n",
    "#                 2.1877870559692383\n",
    "#             ]\n",
    "#         ],\n",
    "#         [\n",
    "#             [\n",
    "#                 0.6690412163734436\n",
    "#             ]\n",
    "#         ],\n",
    "#         [\n",
    "#             [\n",
    "#                 1.4702367782592773\n",
    "#             ]\n",
    "#         ],\n",
    "#         [\n",
    "#             [\n",
    "#                 0.5001341104507446\n",
    "#             ]\n",
    "#         ],\n",
    "#         [\n",
    "#             [\n",
    "#                 0.7778019309043884\n",
    "#             ]\n",
    "#         ],\n",
    "#         [\n",
    "#             [\n",
    "#                 0.20565907657146454\n",
    "#             ]\n",
    "#         ],\n",
    "#         [\n",
    "#             [\n",
    "#                 0.7495082020759583\n",
    "#             ]\n",
    "#         ],\n",
    "#         [\n",
    "#             [\n",
    "#                 0.7345373630523682\n",
    "#             ]\n",
    "#         ],\n",
    "#         [\n",
    "#             [\n",
    "#                 0.24250063300132751\n",
    "#             ]\n",
    "#         ],\n",
    "#         [\n",
    "#             [\n",
    "#                 -0.21307724714279175\n",
    "#             ]\n",
    "#         ],\n",
    "#         [\n",
    "#             [\n",
    "#                 -0.45151618123054504\n",
    "#             ]\n",
    "#         ],\n",
    "#         [\n",
    "#             [\n",
    "#                 0.040314722806215286\n",
    "#             ]\n",
    "#         ],\n",
    "#         [\n",
    "#             [\n",
    "#                 0.30812662839889526\n",
    "#             ]\n",
    "#         ],\n",
    "#         [\n",
    "#             [\n",
    "#                 -0.22073766589164734\n",
    "#             ]\n",
    "#         ],\n",
    "#         [\n",
    "#             [\n",
    "#                 -0.0586552731692791\n",
    "#             ]\n",
    "#         ],\n",
    "#         [\n",
    "#             [\n",
    "#                 -0.3032771944999695\n",
    "#             ]\n",
    "#         ],\n",
    "#         [\n",
    "#             [\n",
    "#                 -0.5265079736709595\n",
    "#             ]\n",
    "#         ],\n",
    "#         [\n",
    "#             [\n",
    "#                 0.09819496423006058\n",
    "#             ]\n",
    "#         ],\n",
    "#         [\n",
    "#             [\n",
    "#                 -0.5733811855316162\n",
    "#             ]\n",
    "#         ],\n",
    "#         [\n",
    "#             [\n",
    "#                 -1.3987427949905396\n",
    "#             ]\n",
    "#         ],\n",
    "#         [\n",
    "#             [\n",
    "#                 -2.913318157196045\n",
    "#             ]\n",
    "#         ],\n",
    "#         [\n",
    "#             [\n",
    "#                 -0.48010021448135376\n",
    "#             ]\n",
    "#         ],\n",
    "#         [\n",
    "#             [\n",
    "#                 0.2108239382505417\n",
    "#             ]\n",
    "#         ],\n",
    "#         [\n",
    "#             [\n",
    "#                 -0.4451505243778229\n",
    "#             ]\n",
    "#         ],\n",
    "#         [\n",
    "#             [\n",
    "#                 -0.11559497565031052\n",
    "#             ]\n",
    "#         ],\n",
    "#         [\n",
    "#             [\n",
    "#                 -0.2502543330192566\n",
    "#             ]\n",
    "#         ]\n",
    "#     ]\n",
    "# ]\n",
    "# ### 1x1, 3x3-1, 3x3-2, 5x5-1, 5x5-2 1029-36-n1-1\n",
    "# ### Mutliple variation\n",
    "# #cn1\n",
    "# weight_tensor_1x1_1029_36_n1_1 = [\n",
    "#     [\n",
    "#         [\n",
    "#             [\n",
    "#                 -1.2339791059494019\n",
    "#             ]\n",
    "#         ],\n",
    "#         [\n",
    "#             [\n",
    "#                 -0.6323021054267883\n",
    "#             ]\n",
    "#         ],\n",
    "#         [\n",
    "#             [\n",
    "#                 -0.7520040273666382\n",
    "#             ]\n",
    "#         ],\n",
    "#         [\n",
    "#             [\n",
    "#                 -0.6031637787818909\n",
    "#             ]\n",
    "#         ],\n",
    "#         [\n",
    "#             [\n",
    "#                 -1.0002880096435547\n",
    "#             ]\n",
    "#         ],\n",
    "#         [\n",
    "#             [\n",
    "#                 -1.3431583642959595\n",
    "#             ]\n",
    "#         ],\n",
    "#         [\n",
    "#             [\n",
    "#                 0.49285680055618286\n",
    "#             ]\n",
    "#         ],\n",
    "#         [\n",
    "#             [\n",
    "#                 -0.7581521272659302\n",
    "#             ]\n",
    "#         ],\n",
    "#         [\n",
    "#             [\n",
    "#                 -0.6262319087982178\n",
    "#             ]\n",
    "#         ],\n",
    "#         [\n",
    "#             [\n",
    "#                 -1.2595927715301514\n",
    "#             ]\n",
    "#         ],\n",
    "#         [\n",
    "#             [\n",
    "#                 -0.5647813677787781\n",
    "#             ]\n",
    "#         ],\n",
    "#         [\n",
    "#             [\n",
    "#                 -0.41635116934776306\n",
    "#             ]\n",
    "#         ],\n",
    "#         [\n",
    "#             [\n",
    "#                 -0.020987343043088913\n",
    "#             ]\n",
    "#         ],\n",
    "#         [\n",
    "#             [\n",
    "#                 -1.6666197776794434\n",
    "#             ]\n",
    "#         ],\n",
    "#         [\n",
    "#             [\n",
    "#                 -0.3615093529224396\n",
    "#             ]\n",
    "#         ],\n",
    "#         [\n",
    "#             [\n",
    "#                 -1.276051640510559\n",
    "#             ]\n",
    "#         ],\n",
    "#         [\n",
    "#             [\n",
    "#                 1.4189351797103882\n",
    "#             ]\n",
    "#         ],\n",
    "#         [\n",
    "#             [\n",
    "#                 4.3346147537231445\n",
    "#             ]\n",
    "#         ],\n",
    "#         [\n",
    "#             [\n",
    "#                 0.21334359049797058\n",
    "#             ]\n",
    "#         ],\n",
    "#         [\n",
    "#             [\n",
    "#                 0.6982220411300659\n",
    "#             ]\n",
    "#         ],\n",
    "#         [\n",
    "#             [\n",
    "#                 -0.14357852935791016\n",
    "#             ]\n",
    "#         ],\n",
    "#         [\n",
    "#             [\n",
    "#                 0.024691365659236908\n",
    "#             ]\n",
    "#         ],\n",
    "#         [\n",
    "#             [\n",
    "#                 -0.6264222264289856\n",
    "#             ]\n",
    "#         ],\n",
    "#         [\n",
    "#             [\n",
    "#                 -0.24612516164779663\n",
    "#             ]\n",
    "#         ],\n",
    "#         [\n",
    "#             [\n",
    "#                 0.5496180057525635\n",
    "#             ]\n",
    "#         ],\n",
    "#         [\n",
    "#             [\n",
    "#                 0.9335170388221741\n",
    "#             ]\n",
    "#         ],\n",
    "#         [\n",
    "#             [\n",
    "#                 0.6543871164321899\n",
    "#             ]\n",
    "#         ],\n",
    "#         [\n",
    "#             [\n",
    "#                 -0.2968939244747162\n",
    "#             ]\n",
    "#         ],\n",
    "#         [\n",
    "#             [\n",
    "#                 -0.25702351331710815\n",
    "#             ]\n",
    "#         ],\n",
    "#         [\n",
    "#             [\n",
    "#                 -0.5747362375259399\n",
    "#             ]\n",
    "#         ],\n",
    "#         [\n",
    "#             [\n",
    "#                 -0.20713959634304047\n",
    "#             ]\n",
    "#         ],\n",
    "#         [\n",
    "#             [\n",
    "#                 -0.6044936180114746\n",
    "#             ]\n",
    "#         ],\n",
    "#         [\n",
    "#             [\n",
    "#                 0.06788430362939835\n",
    "#             ]\n",
    "#         ],\n",
    "#         [\n",
    "#             [\n",
    "#                 -0.11717036366462708\n",
    "#             ]\n",
    "#         ],\n",
    "#         [\n",
    "#             [\n",
    "#                 -0.5702055096626282\n",
    "#             ]\n",
    "#         ],\n",
    "#         [\n",
    "#             [\n",
    "#                 -0.2561193108558655\n",
    "#             ]\n",
    "#         ],\n",
    "#         [\n",
    "#             [\n",
    "#                 -0.10170445591211319\n",
    "#             ]\n",
    "#         ],\n",
    "#         [\n",
    "#             [\n",
    "#                 -2.0200350284576416\n",
    "#             ]\n",
    "#         ],\n",
    "#         [\n",
    "#             [\n",
    "#                 -3.272864818572998\n",
    "#             ]\n",
    "#         ],\n",
    "#         [\n",
    "#             [\n",
    "#                 -2.8194868564605713\n",
    "#             ]\n",
    "#         ],\n",
    "#         [\n",
    "#             [\n",
    "#                 -0.8343505859375\n",
    "#             ]\n",
    "#         ],\n",
    "#         [\n",
    "#             [\n",
    "#                 -0.5346056818962097\n",
    "#             ]\n",
    "#         ],\n",
    "#         [\n",
    "#             [\n",
    "#                 -0.6521360874176025\n",
    "#             ]\n",
    "#         ],\n",
    "#         [\n",
    "#             [\n",
    "#                 -0.374167263507843\n",
    "#             ]\n",
    "#         ],\n",
    "#         [\n",
    "#             [\n",
    "#                 -0.32856038212776184\n",
    "#             ]\n",
    "#         ]\n",
    "#     ]\n",
    "# ]\n",
    "# #cn2\n",
    "# weight_tensor_3x3_1_1029_36_n1_1 = [\n",
    "#     [\n",
    "#         [\n",
    "#             [\n",
    "#                 -1.530474066734314,\n",
    "#                 -1.6771233081817627,\n",
    "#                 -0.8619903326034546\n",
    "#             ],\n",
    "#             [\n",
    "#                 -1.4265605211257935,\n",
    "#                 -1.2219780683517456,\n",
    "#                 -0.535144567489624\n",
    "#             ],\n",
    "#             [\n",
    "#                 -0.6436368823051453,\n",
    "#                 -0.49976876378059387,\n",
    "#                 -0.30685803294181824\n",
    "#             ]\n",
    "#         ],\n",
    "#         [\n",
    "#             [\n",
    "#                 -1.0226413011550903,\n",
    "#                 -0.822510302066803,\n",
    "#                 0.05850622430443764\n",
    "#             ],\n",
    "#             [\n",
    "#                 -0.7025336027145386,\n",
    "#                 -0.43659156560897827,\n",
    "#                 0.38603484630584717\n",
    "#             ],\n",
    "#             [\n",
    "#                 0.2591759264469147,\n",
    "#                 0.5617709755897522,\n",
    "#                 0.7488081455230713\n",
    "#             ]\n",
    "#         ],\n",
    "#         [\n",
    "#             [\n",
    "#                 -0.9138031601905823,\n",
    "#                 -0.7948122024536133,\n",
    "#                 -0.39947086572647095\n",
    "#             ],\n",
    "#             [\n",
    "#                 -0.8458907604217529,\n",
    "#                 -0.5245894193649292,\n",
    "#                 0.08924528956413269\n",
    "#             ],\n",
    "#             [\n",
    "#                 0.04188383370637894,\n",
    "#                 0.15499335527420044,\n",
    "#                 0.1826438307762146\n",
    "#             ]\n",
    "#         ],\n",
    "#         [\n",
    "#             [\n",
    "#                 -0.7998411059379578,\n",
    "#                 -0.7983620762825012,\n",
    "#                 -0.3240222930908203\n",
    "#             ],\n",
    "#             [\n",
    "#                 -0.7034404873847961,\n",
    "#                 -0.5773715972900391,\n",
    "#                 -0.0072261313907802105\n",
    "#             ],\n",
    "#             [\n",
    "#                 -0.13725320994853973,\n",
    "#                 -0.012977181002497673,\n",
    "#                 -0.04536439850926399\n",
    "#             ]\n",
    "#         ],\n",
    "#         [\n",
    "#             [\n",
    "#                 -0.18029724061489105,\n",
    "#                 0.49910908937454224,\n",
    "#                 0.815140962600708\n",
    "#             ],\n",
    "#             [\n",
    "#                 0.3031662702560425,\n",
    "#                 0.9217368960380554,\n",
    "#                 1.0703445672988892\n",
    "#             ],\n",
    "#             [\n",
    "#                 -0.4436013400554657,\n",
    "#                 0.11309763044118881,\n",
    "#                 0.045020755380392075\n",
    "#             ]\n",
    "#         ],\n",
    "#         [\n",
    "#             [\n",
    "#                 -0.74969881772995,\n",
    "#                 -0.07379722595214844,\n",
    "#                 0.18306775391101837\n",
    "#             ],\n",
    "#             [\n",
    "#                 0.03366607055068016,\n",
    "#                 0.83781898021698,\n",
    "#                 1.0045195817947388\n",
    "#             ],\n",
    "#             [\n",
    "#                 -0.36955195665359497,\n",
    "#                 0.5184478163719177,\n",
    "#                 0.23326782882213593\n",
    "#             ]\n",
    "#         ],\n",
    "#         [\n",
    "#             [\n",
    "#                 -0.13144633173942566,\n",
    "#                 0.16150858998298645,\n",
    "#                 0.252832293510437\n",
    "#             ],\n",
    "#             [\n",
    "#                 -0.13816213607788086,\n",
    "#                 0.4704318642616272,\n",
    "#                 0.34878039360046387\n",
    "#             ],\n",
    "#             [\n",
    "#                 -0.26693761348724365,\n",
    "#                 0.22551371157169342,\n",
    "#                 -0.07424211502075195\n",
    "#             ]\n",
    "#         ],\n",
    "#         [\n",
    "#             [\n",
    "#                 -0.7202529907226562,\n",
    "#                 0.04303884878754616,\n",
    "#                 -0.19897015392780304\n",
    "#             ],\n",
    "#             [\n",
    "#                 -0.5366764068603516,\n",
    "#                 0.1969188004732132,\n",
    "#                 0.13847783207893372\n",
    "#             ],\n",
    "#             [\n",
    "#                 -0.4480038285255432,\n",
    "#                 0.4617161154747009,\n",
    "#                 0.28646862506866455\n",
    "#             ]\n",
    "#         ],\n",
    "#         [\n",
    "#             [\n",
    "#                 -0.03014589287340641,\n",
    "#                 1.4181952476501465,\n",
    "#                 0.9589570760726929\n",
    "#             ],\n",
    "#             [\n",
    "#                 -0.086050845682621,\n",
    "#                 0.955426037311554,\n",
    "#                 0.4025598168373108\n",
    "#             ],\n",
    "#             [\n",
    "#                 0.06390431523323059,\n",
    "#                 0.8387085795402527,\n",
    "#                 -0.14713773131370544\n",
    "#             ]\n",
    "#         ],\n",
    "#         [\n",
    "#             [\n",
    "#                 -0.8277645707130432,\n",
    "#                 -0.7320247888565063,\n",
    "#                 -0.4297128915786743\n",
    "#             ],\n",
    "#             [\n",
    "#                 1.1145349740982056,\n",
    "#                 0.9988565444946289,\n",
    "#                 -0.44172266125679016\n",
    "#             ],\n",
    "#             [\n",
    "#                 -0.05729737877845764,\n",
    "#                 -0.21519999206066132,\n",
    "#                 -1.2089422941207886\n",
    "#             ]\n",
    "#         ],\n",
    "#         [\n",
    "#             [\n",
    "#                 0.35873061418533325,\n",
    "#                 1.6636000871658325,\n",
    "#                 1.5621516704559326\n",
    "#             ],\n",
    "#             [\n",
    "#                 2.011312484741211,\n",
    "#                 3.4271416664123535,\n",
    "#                 2.1715497970581055\n",
    "#             ],\n",
    "#             [\n",
    "#                 0.2247508019208908,\n",
    "#                 1.3676265478134155,\n",
    "#                 0.24965956807136536\n",
    "#             ]\n",
    "#         ],\n",
    "#         [\n",
    "#             [\n",
    "#                 -0.622369647026062,\n",
    "#                 -0.8356441259384155,\n",
    "#                 0.060559362173080444\n",
    "#             ],\n",
    "#             [\n",
    "#                 0.009454337880015373,\n",
    "#                 -0.17030423879623413,\n",
    "#                 0.2888798117637634\n",
    "#             ],\n",
    "#             [\n",
    "#                 0.024692870676517487,\n",
    "#                 -0.3372655510902405,\n",
    "#                 -0.10962564498186111\n",
    "#             ]\n",
    "#         ],\n",
    "#         [\n",
    "#             [\n",
    "#                 0.6945890784263611,\n",
    "#                 1.193953275680542,\n",
    "#                 1.535744071006775\n",
    "#             ],\n",
    "#             [\n",
    "#                 -0.1051463633775711,\n",
    "#                 0.3649017810821533,\n",
    "#                 0.6870127320289612\n",
    "#             ],\n",
    "#             [\n",
    "#                 -0.1591404229402542,\n",
    "#                 0.050937458872795105,\n",
    "#                 0.4129537045955658\n",
    "#             ]\n",
    "#         ],\n",
    "#         [\n",
    "#             [\n",
    "#                 -0.6952106356620789,\n",
    "#                 -0.6427516937255859,\n",
    "#                 -0.4790618121623993\n",
    "#             ],\n",
    "#             [\n",
    "#                 -1.0601043701171875,\n",
    "#                 -0.8896784782409668,\n",
    "#                 -1.0725739002227783\n",
    "#             ],\n",
    "#             [\n",
    "#                 0.5210602879524231,\n",
    "#                 0.5977648496627808,\n",
    "#                 -0.49991971254348755\n",
    "#             ]\n",
    "#         ],\n",
    "#         [\n",
    "#             [\n",
    "#                 0.7037817239761353,\n",
    "#                 0.9409218430519104,\n",
    "#                 1.2172961235046387\n",
    "#             ],\n",
    "#             [\n",
    "#                 0.3540022075176239,\n",
    "#                 0.4134519100189209,\n",
    "#                 0.8323901891708374\n",
    "#             ],\n",
    "#             [\n",
    "#                 -0.05920695140957832,\n",
    "#                 0.2621106803417206,\n",
    "#                 0.546445369720459\n",
    "#             ]\n",
    "#         ],\n",
    "#         [\n",
    "#             [\n",
    "#                 -0.06937661021947861,\n",
    "#                 -0.2747146487236023,\n",
    "#                 -0.6624125242233276\n",
    "#             ],\n",
    "#             [\n",
    "#                 -0.8107234835624695,\n",
    "#                 -1.0369617938995361,\n",
    "#                 -1.501963496208191\n",
    "#             ],\n",
    "#             [\n",
    "#                 -0.20783357322216034,\n",
    "#                 -0.3590349555015564,\n",
    "#                 -1.1314113140106201\n",
    "#             ]\n",
    "#         ],\n",
    "#         [\n",
    "#             [\n",
    "#                 1.988874077796936,\n",
    "#                 2.156700611114502,\n",
    "#                 -0.5158296227455139\n",
    "#             ],\n",
    "#             [\n",
    "#                 1.1836724281311035,\n",
    "#                 0.6308481097221375,\n",
    "#                 -1.1737213134765625\n",
    "#             ],\n",
    "#             [\n",
    "#                 0.21815688908100128,\n",
    "#                 -0.45444461703300476,\n",
    "#                 -0.7848373055458069\n",
    "#             ]\n",
    "#         ],\n",
    "#         [\n",
    "#             [\n",
    "#                 5.251254558563232,\n",
    "#                 5.130478858947754,\n",
    "#                 0.3418044149875641\n",
    "#             ],\n",
    "#             [\n",
    "#                 4.3343634605407715,\n",
    "#                 2.771606922149658,\n",
    "#                 -0.5786035060882568\n",
    "#             ],\n",
    "#             [\n",
    "#                 1.2284586429595947,\n",
    "#                 0.1010281890630722,\n",
    "#                 -1.2799006700515747\n",
    "#             ]\n",
    "#         ],\n",
    "#         [\n",
    "#             [\n",
    "#                 -0.2770380973815918,\n",
    "#                 -0.28259211778640747,\n",
    "#                 -0.08031351864337921\n",
    "#             ],\n",
    "#             [\n",
    "#                 -0.25888729095458984,\n",
    "#                 -0.2893680930137634,\n",
    "#                 -0.026153232902288437\n",
    "#             ],\n",
    "#             [\n",
    "#                 0.08330939710140228,\n",
    "#                 -0.05432393401861191,\n",
    "#                 -0.052549395710229874\n",
    "#             ]\n",
    "#         ],\n",
    "#         [\n",
    "#             [\n",
    "#                 0.253167986869812,\n",
    "#                 -0.04555149003863335,\n",
    "#                 0.0026851168368011713\n",
    "#             ],\n",
    "#             [\n",
    "#                 0.04911770671606064,\n",
    "#                 0.11356455832719803,\n",
    "#                 0.003676178865134716\n",
    "#             ],\n",
    "#             [\n",
    "#                 0.13156868517398834,\n",
    "#                 -0.14012065529823303,\n",
    "#                 -0.1515020877122879\n",
    "#             ]\n",
    "#         ],\n",
    "#         [\n",
    "#             [\n",
    "#                 -0.5179550051689148,\n",
    "#                 -0.5084345936775208,\n",
    "#                 -0.23360663652420044\n",
    "#             ],\n",
    "#             [\n",
    "#                 -0.38293522596359253,\n",
    "#                 -0.2976783812046051,\n",
    "#                 -0.10341985523700714\n",
    "#             ],\n",
    "#             [\n",
    "#                 -0.0542265921831131,\n",
    "#                 0.035467084497213364,\n",
    "#                 0.10315530002117157\n",
    "#             ]\n",
    "#         ],\n",
    "#         [\n",
    "#             [\n",
    "#                 -0.25787612795829773,\n",
    "#                 -0.2854773998260498,\n",
    "#                 0.049469273537397385\n",
    "#             ],\n",
    "#             [\n",
    "#                 -0.2161346673965454,\n",
    "#                 -0.18485768139362335,\n",
    "#                 -0.09629936516284943\n",
    "#             ],\n",
    "#             [\n",
    "#                 0.009286767803132534,\n",
    "#                 -0.022294307127594948,\n",
    "#                 0.0717306137084961\n",
    "#             ]\n",
    "#         ],\n",
    "#         [\n",
    "#             [\n",
    "#                 -0.7197384834289551,\n",
    "#                 -0.6661694049835205,\n",
    "#                 -0.1596246361732483\n",
    "#             ],\n",
    "#             [\n",
    "#                 -0.6431324481964111,\n",
    "#                 -0.6221124529838562,\n",
    "#                 -0.00184151332359761\n",
    "#             ],\n",
    "#             [\n",
    "#                 -0.1704903542995453,\n",
    "#                 0.16005326807498932,\n",
    "#                 0.09490331262350082\n",
    "#             ]\n",
    "#         ],\n",
    "#         [\n",
    "#             [\n",
    "#                 -0.41921931505203247,\n",
    "#                 -0.5429074764251709,\n",
    "#                 -0.15655826032161713\n",
    "#             ],\n",
    "#             [\n",
    "#                 -0.49500131607055664,\n",
    "#                 -0.4686298072338104,\n",
    "#                 -0.17474432289600372\n",
    "#             ],\n",
    "#             [\n",
    "#                 -0.06740918755531311,\n",
    "#                 0.09710558503866196,\n",
    "#                 -0.0048929196782410145\n",
    "#             ]\n",
    "#         ],\n",
    "#         [\n",
    "#             [\n",
    "#                 0.5679800510406494,\n",
    "#                 0.4306686520576477,\n",
    "#                 -0.19554422795772552\n",
    "#             ],\n",
    "#             [\n",
    "#                 0.4858810305595398,\n",
    "#                 0.04795249179005623,\n",
    "#                 -0.6146933436393738\n",
    "#             ],\n",
    "#             [\n",
    "#                 0.46100080013275146,\n",
    "#                 0.11808216571807861,\n",
    "#                 -0.2558825612068176\n",
    "#             ]\n",
    "#         ],\n",
    "#         [\n",
    "#             [\n",
    "#                 1.0855636596679688,\n",
    "#                 1.0835427045822144,\n",
    "#                 0.19183671474456787\n",
    "#             ],\n",
    "#             [\n",
    "#                 0.6261037588119507,\n",
    "#                 -0.09971337020397186,\n",
    "#                 -0.6415486931800842\n",
    "#             ],\n",
    "#             [\n",
    "#                 0.9898150563240051,\n",
    "#                 0.0999646782875061,\n",
    "#                 0.03794555366039276\n",
    "#             ]\n",
    "#         ],\n",
    "#         [\n",
    "#             [\n",
    "#                 0.9721496105194092,\n",
    "#                 1.0231451988220215,\n",
    "#                 0.3265923261642456\n",
    "#             ],\n",
    "#             [\n",
    "#                 1.1920597553253174,\n",
    "#                 1.198704719543457,\n",
    "#                 0.2849370241165161\n",
    "#             ],\n",
    "#             [\n",
    "#                 0.5190852284431458,\n",
    "#                 0.35831528902053833,\n",
    "#                 -0.04340706020593643\n",
    "#             ]\n",
    "#         ],\n",
    "#         [\n",
    "#             [\n",
    "#                 -0.7368556261062622,\n",
    "#                 -1.0984432697296143,\n",
    "#                 -0.5795339345932007\n",
    "#             ],\n",
    "#             [\n",
    "#                 -0.8850945234298706,\n",
    "#                 -0.6266482472419739,\n",
    "#                 0.005701829679310322\n",
    "#             ],\n",
    "#             [\n",
    "#                 -0.07888568937778473,\n",
    "#                 0.11595027148723602,\n",
    "#                 0.33828893303871155\n",
    "#             ]\n",
    "#         ],\n",
    "#         [\n",
    "#             [\n",
    "#                 -0.39161044359207153,\n",
    "#                 -0.3879972994327545,\n",
    "#                 -0.08830027282238007\n",
    "#             ],\n",
    "#             [\n",
    "#                 -0.24516554176807404,\n",
    "#                 -0.20340867340564728,\n",
    "#                 0.039817485958337784\n",
    "#             ],\n",
    "#             [\n",
    "#                 -0.02165759913623333,\n",
    "#                 0.21646419167518616,\n",
    "#                 0.08907293528318405\n",
    "#             ]\n",
    "#         ],\n",
    "#         [\n",
    "#             [\n",
    "#                 -0.7219273447990417,\n",
    "#                 -0.8596640229225159,\n",
    "#                 -0.41423487663269043\n",
    "#             ],\n",
    "#             [\n",
    "#                 -0.7416062355041504,\n",
    "#                 -0.4989801347255707,\n",
    "#                 0.05239146947860718\n",
    "#             ],\n",
    "#             [\n",
    "#                 -0.07814644277095795,\n",
    "#                 0.024269813671708107,\n",
    "#                 0.29746827483177185\n",
    "#             ]\n",
    "#         ],\n",
    "#         [\n",
    "#             [\n",
    "#                 1.105948567390442,\n",
    "#                 1.1516954898834229,\n",
    "#                 0.4948560297489166\n",
    "#             ],\n",
    "#             [\n",
    "#                 0.8588804602622986,\n",
    "#                 0.7189180254936218,\n",
    "#                 -0.02500770054757595\n",
    "#             ],\n",
    "#             [\n",
    "#                 -0.1737276017665863,\n",
    "#                 -0.2748253643512726,\n",
    "#                 -0.5755940675735474\n",
    "#             ]\n",
    "#         ],\n",
    "#         [\n",
    "#             [\n",
    "#                 -0.9455485343933105,\n",
    "#                 -1.4134929180145264,\n",
    "#                 -1.0005706548690796\n",
    "#             ],\n",
    "#             [\n",
    "#                 -0.9290593266487122,\n",
    "#                 -1.061680555343628,\n",
    "#                 -0.695891261100769\n",
    "#             ],\n",
    "#             [\n",
    "#                 -0.6317973136901855,\n",
    "#                 -0.4977881610393524,\n",
    "#                 -0.4056662917137146\n",
    "#             ]\n",
    "#         ],\n",
    "#         [\n",
    "#             [\n",
    "#                 0.4908067584037781,\n",
    "#                 0.5783593058586121,\n",
    "#                 -0.0023293583653867245\n",
    "#             ],\n",
    "#             [\n",
    "#                 0.34753966331481934,\n",
    "#                 0.3595527708530426,\n",
    "#                 -0.21457286179065704\n",
    "#             ],\n",
    "#             [\n",
    "#                 -0.15741606056690216,\n",
    "#                 -0.29134076833724976,\n",
    "#                 -0.40426963567733765\n",
    "#             ]\n",
    "#         ],\n",
    "#         [\n",
    "#             [\n",
    "#                 -0.9125226140022278,\n",
    "#                 -1.0180805921554565,\n",
    "#                 -0.12163136899471283\n",
    "#             ],\n",
    "#             [\n",
    "#                 -0.4479354918003082,\n",
    "#                 -0.40414857864379883,\n",
    "#                 0.3921678960323334\n",
    "#             ],\n",
    "#             [\n",
    "#                 0.10026725381612778,\n",
    "#                 0.22851347923278809,\n",
    "#                 0.5208645462989807\n",
    "#             ]\n",
    "#         ],\n",
    "#         [\n",
    "#             [\n",
    "#                 -0.9337403774261475,\n",
    "#                 -1.2357004880905151,\n",
    "#                 -0.46353691816329956\n",
    "#             ],\n",
    "#             [\n",
    "#                 -0.9030501246452332,\n",
    "#                 -0.7276167869567871,\n",
    "#                 -0.1934695541858673\n",
    "#             ],\n",
    "#             [\n",
    "#                 -0.07299597561359406,\n",
    "#                 0.0959525778889656,\n",
    "#                 0.12478415668010712\n",
    "#             ]\n",
    "#         ],\n",
    "#         [\n",
    "#             [\n",
    "#                 -0.8355879187583923,\n",
    "#                 -0.9835866093635559,\n",
    "#                 -0.42315614223480225\n",
    "#             ],\n",
    "#             [\n",
    "#                 -0.7176315784454346,\n",
    "#                 -0.49347856640815735,\n",
    "#                 0.16034480929374695\n",
    "#             ],\n",
    "#             [\n",
    "#                 -0.2747683525085449,\n",
    "#                 0.12356162816286087,\n",
    "#                 0.07512029260396957\n",
    "#             ]\n",
    "#         ],\n",
    "#         [\n",
    "#             [\n",
    "#                 -0.37675878405570984,\n",
    "#                 -0.9298548698425293,\n",
    "#                 -0.7643622756004333\n",
    "#             ],\n",
    "#             [\n",
    "#                 -0.5745870471000671,\n",
    "#                 -0.9671463370323181,\n",
    "#                 -1.014599084854126\n",
    "#             ],\n",
    "#             [\n",
    "#                 -1.073184847831726,\n",
    "#                 -0.9885391592979431,\n",
    "#                 -1.1879582405090332\n",
    "#             ]\n",
    "#         ],\n",
    "#         [\n",
    "#             [\n",
    "#                 -1.495428204536438,\n",
    "#                 0.06787652522325516,\n",
    "#                 1.551397681236267\n",
    "#             ],\n",
    "#             [\n",
    "#                 0.05969119817018509,\n",
    "#                 1.585909366607666,\n",
    "#                 2.725045680999756\n",
    "#             ],\n",
    "#             [\n",
    "#                 -0.08823667466640472,\n",
    "#                 1.1413606405258179,\n",
    "#                 1.7120603322982788\n",
    "#             ]\n",
    "#         ],\n",
    "#         [\n",
    "#             [\n",
    "#                 -1.777919054031372,\n",
    "#                 -0.600269615650177,\n",
    "#                 0.05597645416855812\n",
    "#             ],\n",
    "#             [\n",
    "#                 -0.9107596278190613,\n",
    "#                 -0.10723687708377838,\n",
    "#                 0.04385574162006378\n",
    "#             ],\n",
    "#             [\n",
    "#                 0.9711793065071106,\n",
    "#                 1.8374125957489014,\n",
    "#                 1.329325556755066\n",
    "#             ]\n",
    "#         ],\n",
    "#         [\n",
    "#             [\n",
    "#                 -3.303251266479492,\n",
    "#                 -0.8025329113006592,\n",
    "#                 0.8004026412963867\n",
    "#             ],\n",
    "#             [\n",
    "#                 0.6250780820846558,\n",
    "#                 2.603372097015381,\n",
    "#                 2.621781349182129\n",
    "#             ],\n",
    "#             [\n",
    "#                 1.18106210231781,\n",
    "#                 2.2162234783172607,\n",
    "#                 1.5334560871124268\n",
    "#             ]\n",
    "#         ],\n",
    "#         [\n",
    "#             [\n",
    "#                 -1.0664830207824707,\n",
    "#                 -1.1443653106689453,\n",
    "#                 -0.3645135164260864\n",
    "#             ],\n",
    "#             [\n",
    "#                 -0.8910765647888184,\n",
    "#                 -0.688320517539978,\n",
    "#                 -0.0645233616232872\n",
    "#             ],\n",
    "#             [\n",
    "#                 -0.30658507347106934,\n",
    "#                 -0.09964465349912643,\n",
    "#                 0.20536011457443237\n",
    "#             ]\n",
    "#         ],\n",
    "#         [\n",
    "#             [\n",
    "#                 -1.204066276550293,\n",
    "#                 -1.115188717842102,\n",
    "#                 -0.5111553072929382\n",
    "#             ],\n",
    "#             [\n",
    "#                 -1.2066150903701782,\n",
    "#                 -0.895672619342804,\n",
    "#                 -0.21773172914981842\n",
    "#             ],\n",
    "#             [\n",
    "#                 -0.3439871072769165,\n",
    "#                 -0.246653214097023,\n",
    "#                 -0.06662189960479736\n",
    "#             ]\n",
    "#         ],\n",
    "#         [\n",
    "#             [\n",
    "#                 -1.0488369464874268,\n",
    "#                 -1.123544692993164,\n",
    "#                 -0.5723265409469604\n",
    "#             ],\n",
    "#             [\n",
    "#                 -0.9558501243591309,\n",
    "#                 -0.7692873477935791,\n",
    "#                 -0.1932637095451355\n",
    "#             ],\n",
    "#             [\n",
    "#                 -0.21261416375637054,\n",
    "#                 0.009197532199323177,\n",
    "#                 0.21937978267669678\n",
    "#             ]\n",
    "#         ],\n",
    "#         [\n",
    "#             [\n",
    "#                 -1.2149728536605835,\n",
    "#                 -1.1084644794464111,\n",
    "#                 -0.48884886503219604\n",
    "#             ],\n",
    "#             [\n",
    "#                 -1.1715644598007202,\n",
    "#                 -1.0800710916519165,\n",
    "#                 -0.2567119002342224\n",
    "#             ],\n",
    "#             [\n",
    "#                 -0.4812179207801819,\n",
    "#                 -0.17716240882873535,\n",
    "#                 -0.039277952164411545\n",
    "#             ]\n",
    "#         ],\n",
    "#         [\n",
    "#             [\n",
    "#                 0.0504194051027298,\n",
    "#                 -0.10686745494604111,\n",
    "#                 -0.07464547455310822\n",
    "#             ],\n",
    "#             [\n",
    "#                 0.11709411442279816,\n",
    "#                 0.07323326915502548,\n",
    "#                 -0.0880885198712349\n",
    "#             ],\n",
    "#             [\n",
    "#                 0.08878365904092789,\n",
    "#                 0.0011472422629594803,\n",
    "#                 -0.04421848803758621\n",
    "#             ]\n",
    "#         ]\n",
    "#     ]\n",
    "# ]\n",
    "# #cn3\n",
    "# weight_tensor_3x3_2_1029_36_n1_1 = [\n",
    "#     [\n",
    "#         [\n",
    "#             [\n",
    "#                 -0.2101876437664032,\n",
    "#                 -0.5047529339790344,\n",
    "#                 0.12084823846817017\n",
    "#             ],\n",
    "#             [\n",
    "#                 0.20694299042224884,\n",
    "#                 0.27327588200569153,\n",
    "#                 0.16951894760131836\n",
    "#             ],\n",
    "#             [\n",
    "#                 0.024846792221069336,\n",
    "#                 0.2697291672229767,\n",
    "#                 0.13610365986824036\n",
    "#             ]\n",
    "#         ],\n",
    "#         [\n",
    "#             [\n",
    "#                 -0.499106228351593,\n",
    "#                 -0.8387064337730408,\n",
    "#                 -0.5678151845932007\n",
    "#             ],\n",
    "#             [\n",
    "#                 -0.12794142961502075,\n",
    "#                 0.07843520492315292,\n",
    "#                 -0.19816313683986664\n",
    "#             ],\n",
    "#             [\n",
    "#                 -0.077767513692379,\n",
    "#                 0.12167391926050186,\n",
    "#                 -0.1846880465745926\n",
    "#             ]\n",
    "#         ],\n",
    "#         [\n",
    "#             [\n",
    "#                 -0.3177783191204071,\n",
    "#                 -0.5730440616607666,\n",
    "#                 -0.2055501639842987\n",
    "#             ],\n",
    "#             [\n",
    "#                 -0.06598221510648727,\n",
    "#                 0.07700702548027039,\n",
    "#                 -0.2094913274049759\n",
    "#             ],\n",
    "#             [\n",
    "#                 -0.314685195684433,\n",
    "#                 -0.05171075835824013,\n",
    "#                 0.04617893323302269\n",
    "#             ]\n",
    "#         ],\n",
    "#         [\n",
    "#             [\n",
    "#                 -0.20680248737335205,\n",
    "#                 -0.5720310211181641,\n",
    "#                 -0.034279704093933105\n",
    "#             ],\n",
    "#             [\n",
    "#                 -0.12778429687023163,\n",
    "#                 -0.02884678728878498,\n",
    "#                 -0.31154918670654297\n",
    "#             ],\n",
    "#             [\n",
    "#                 -0.17030397057533264,\n",
    "#                 0.1554575264453888,\n",
    "#                 0.1750110387802124\n",
    "#             ]\n",
    "#         ],\n",
    "#         [\n",
    "#             [\n",
    "#                 0.12620645761489868,\n",
    "#                 -0.672184944152832,\n",
    "#                 -0.06551309674978256\n",
    "#             ],\n",
    "#             [\n",
    "#                 -0.051199786365032196,\n",
    "#                 -0.3375776410102844,\n",
    "#                 0.3670078217983246\n",
    "#             ],\n",
    "#             [\n",
    "#                 -0.3757995069026947,\n",
    "#                 0.15127430856227875,\n",
    "#                 0.625259518623352\n",
    "#             ]\n",
    "#         ],\n",
    "#         [\n",
    "#             [\n",
    "#                 0.6993295550346375,\n",
    "#                 -0.1560841202735901,\n",
    "#                 0.5978881120681763\n",
    "#             ],\n",
    "#             [\n",
    "#                 0.6664425730705261,\n",
    "#                 0.6095417737960815,\n",
    "#                 1.0365866422653198\n",
    "#             ],\n",
    "#             [\n",
    "#                 0.6705768704414368,\n",
    "#                 0.5194957256317139,\n",
    "#                 1.0647751092910767\n",
    "#             ]\n",
    "#         ],\n",
    "#         [\n",
    "#             [\n",
    "#                 -0.3430205285549164,\n",
    "#                 -0.9297313690185547,\n",
    "#                 -0.47151803970336914\n",
    "#             ],\n",
    "#             [\n",
    "#                 -0.3735666275024414,\n",
    "#                 -0.7810608148574829,\n",
    "#                 0.10816697776317596\n",
    "#             ],\n",
    "#             [\n",
    "#                 -0.6474761962890625,\n",
    "#                 -0.29888105392456055,\n",
    "#                 0.8491414785385132\n",
    "#             ]\n",
    "#         ],\n",
    "#         [\n",
    "#             [\n",
    "#                 0.3685339391231537,\n",
    "#                 0.21473468840122223,\n",
    "#                 0.292662113904953\n",
    "#             ],\n",
    "#             [\n",
    "#                 0.2779455780982971,\n",
    "#                 0.3554166257381439,\n",
    "#                 1.0825045108795166\n",
    "#             ],\n",
    "#             [\n",
    "#                 0.5081647634506226,\n",
    "#                 0.12273494899272919,\n",
    "#                 0.9897195100784302\n",
    "#             ]\n",
    "#         ],\n",
    "#         [\n",
    "#             [\n",
    "#                 -0.5329973697662354,\n",
    "#                 -1.2050166130065918,\n",
    "#                 -1.2588154077529907\n",
    "#             ],\n",
    "#             [\n",
    "#                 -0.05721137672662735,\n",
    "#                 -1.0695964097976685,\n",
    "#                 -0.8896669745445251\n",
    "#             ],\n",
    "#             [\n",
    "#                 -0.38791629672050476,\n",
    "#                 -1.0739948749542236,\n",
    "#                 -0.4936400055885315\n",
    "#             ]\n",
    "#         ],\n",
    "#         [\n",
    "#             [\n",
    "#                 0.26959991455078125,\n",
    "#                 0.6923282742500305,\n",
    "#                 -0.15171054005622864\n",
    "#             ],\n",
    "#             [\n",
    "#                 0.6503170728683472,\n",
    "#                 1.3376039266586304,\n",
    "#                 0.9910006523132324\n",
    "#             ],\n",
    "#             [\n",
    "#                 1.1267931461334229,\n",
    "#                 0.7628081440925598,\n",
    "#                 1.3377364873886108\n",
    "#             ]\n",
    "#         ],\n",
    "#         [\n",
    "#             [\n",
    "#                 -0.15263167023658752,\n",
    "#                 -0.6667934060096741,\n",
    "#                 -1.1088378429412842\n",
    "#             ],\n",
    "#             [\n",
    "#                 0.509369432926178,\n",
    "#                 -0.6192559003829956,\n",
    "#                 -0.544900119304657\n",
    "#             ],\n",
    "#             [\n",
    "#                 1.0619196891784668,\n",
    "#                 -0.23895712196826935,\n",
    "#                 0.06598387658596039\n",
    "#             ]\n",
    "#         ],\n",
    "#         [\n",
    "#             [\n",
    "#                 1.0802689790725708,\n",
    "#                 1.7190637588500977,\n",
    "#                 1.3426058292388916\n",
    "#             ],\n",
    "#             [\n",
    "#                 2.1348443031311035,\n",
    "#                 2.7335171699523926,\n",
    "#                 1.1310948133468628\n",
    "#             ],\n",
    "#             [\n",
    "#                 1.861417293548584,\n",
    "#                 1.8627671003341675,\n",
    "#                 1.3655036687850952\n",
    "#             ]\n",
    "#         ],\n",
    "#         [\n",
    "#             [\n",
    "#                 -1.361564040184021,\n",
    "#                 -1.8244022130966187,\n",
    "#                 -1.5111178159713745\n",
    "#             ],\n",
    "#             [\n",
    "#                 -0.6239290237426758,\n",
    "#                 -1.667370319366455,\n",
    "#                 -1.2379260063171387\n",
    "#             ],\n",
    "#             [\n",
    "#                 -0.9198469519615173,\n",
    "#                 -1.2993018627166748,\n",
    "#                 -0.8612980842590332\n",
    "#             ]\n",
    "#         ],\n",
    "#         [\n",
    "#             [\n",
    "#                 0.7108734250068665,\n",
    "#                 1.1679530143737793,\n",
    "#                 0.7139098644256592\n",
    "#             ],\n",
    "#             [\n",
    "#                 1.0974081754684448,\n",
    "#                 1.4473901987075806,\n",
    "#                 0.7700372934341431\n",
    "#             ],\n",
    "#             [\n",
    "#                 1.096097469329834,\n",
    "#                 0.28588399291038513,\n",
    "#                 1.0118448734283447\n",
    "#             ]\n",
    "#         ],\n",
    "#         [\n",
    "#             [\n",
    "#                 -1.1003409624099731,\n",
    "#                 -1.816498875617981,\n",
    "#                 -1.6505194902420044\n",
    "#             ],\n",
    "#             [\n",
    "#                 -0.8493598699569702,\n",
    "#                 -1.654466986656189,\n",
    "#                 -1.4103912115097046\n",
    "#             ],\n",
    "#             [\n",
    "#                 -0.9902585744857788,\n",
    "#                 -1.425948143005371,\n",
    "#                 -0.9703766107559204\n",
    "#             ]\n",
    "#         ],\n",
    "#         [\n",
    "#             [\n",
    "#                 0.577397346496582,\n",
    "#                 1.025193214416504,\n",
    "#                 0.9860695004463196\n",
    "#             ],\n",
    "#             [\n",
    "#                 0.8374137878417969,\n",
    "#                 1.1320844888687134,\n",
    "#                 1.1420828104019165\n",
    "#             ],\n",
    "#             [\n",
    "#                 1.1762109994888306,\n",
    "#                 0.8563622832298279,\n",
    "#                 1.2675557136535645\n",
    "#             ]\n",
    "#         ],\n",
    "#         [\n",
    "#             [\n",
    "#                 0.3880229890346527,\n",
    "#                 -0.21074654161930084,\n",
    "#                 -0.8612730503082275\n",
    "#             ],\n",
    "#             [\n",
    "#                 1.2665824890136719,\n",
    "#                 -0.7718919515609741,\n",
    "#                 0.40947118401527405\n",
    "#             ],\n",
    "#             [\n",
    "#                 0.890764057636261,\n",
    "#                 0.03032243438065052,\n",
    "#                 0.32370471954345703\n",
    "#             ]\n",
    "#         ],\n",
    "#         [\n",
    "#             [\n",
    "#                 1.0992786884307861,\n",
    "#                 0.48161813616752625,\n",
    "#                 -0.3992583155632019\n",
    "#             ],\n",
    "#             [\n",
    "#                 0.13464666903018951,\n",
    "#                 -1.7900031805038452,\n",
    "#                 0.33837026357650757\n",
    "#             ],\n",
    "#             [\n",
    "#                 0.4372960925102234,\n",
    "#                 -0.7316129803657532,\n",
    "#                 0.11264663934707642\n",
    "#             ]\n",
    "#         ],\n",
    "#         [\n",
    "#             [\n",
    "#                 -0.18825668096542358,\n",
    "#                 -0.36589014530181885,\n",
    "#                 -0.18558859825134277\n",
    "#             ],\n",
    "#             [\n",
    "#                 -0.17219211161136627,\n",
    "#                 -0.17230066657066345,\n",
    "#                 -0.24895688891410828\n",
    "#             ],\n",
    "#             [\n",
    "#                 -0.13709531724452972,\n",
    "#                 -0.04811840504407883,\n",
    "#                 -0.10196567326784134\n",
    "#             ]\n",
    "#         ],\n",
    "#         [\n",
    "#             [\n",
    "#                 -0.2776859998703003,\n",
    "#                 -0.43767377734184265,\n",
    "#                 -0.1669798046350479\n",
    "#             ],\n",
    "#             [\n",
    "#                 -0.3676912188529968,\n",
    "#                 -0.2919892370700836,\n",
    "#                 -0.2693033814430237\n",
    "#             ],\n",
    "#             [\n",
    "#                 -0.18606096506118774,\n",
    "#                 0.00333029730245471,\n",
    "#                 -0.09797864407300949\n",
    "#             ]\n",
    "#         ],\n",
    "#         [\n",
    "#             [\n",
    "#                 -0.26912954449653625,\n",
    "#                 -0.5454427599906921,\n",
    "#                 -0.139277383685112\n",
    "#             ],\n",
    "#             [\n",
    "#                 -0.20801231265068054,\n",
    "#                 -0.06033248081803322,\n",
    "#                 -0.21170958876609802\n",
    "#             ],\n",
    "#             [\n",
    "#                 -0.3245435059070587,\n",
    "#                 0.08342399448156357,\n",
    "#                 -0.12679684162139893\n",
    "#             ]\n",
    "#         ],\n",
    "#         [\n",
    "#             [\n",
    "#                 -0.1408821940422058,\n",
    "#                 -0.29632723331451416,\n",
    "#                 -0.16851219534873962\n",
    "#             ],\n",
    "#             [\n",
    "#                 -0.2420482486486435,\n",
    "#                 -0.07064873725175858,\n",
    "#                 -0.10824786871671677\n",
    "#             ],\n",
    "#             [\n",
    "#                 -0.23784813284873962,\n",
    "#                 0.024672329425811768,\n",
    "#                 0.0945100486278534\n",
    "#             ]\n",
    "#         ],\n",
    "#         [\n",
    "#             [\n",
    "#                 -0.22041088342666626,\n",
    "#                 -0.6448012590408325,\n",
    "#                 -0.1342337727546692\n",
    "#             ],\n",
    "#             [\n",
    "#                 -0.0783320888876915,\n",
    "#                 0.03820057585835457,\n",
    "#                 -0.12533779442310333\n",
    "#             ],\n",
    "#             [\n",
    "#                 -0.28373467922210693,\n",
    "#                 0.06948481500148773,\n",
    "#                 0.0189692210406065\n",
    "#             ]\n",
    "#         ],\n",
    "#         [\n",
    "#             [\n",
    "#                 -0.3746541142463684,\n",
    "#                 -0.4578709304332733,\n",
    "#                 -0.10470283776521683\n",
    "#             ],\n",
    "#             [\n",
    "#                 -0.18322162330150604,\n",
    "#                 -0.12143383175134659,\n",
    "#                 -0.26636838912963867\n",
    "#             ],\n",
    "#             [\n",
    "#                 -0.29275938868522644,\n",
    "#                 -0.0537421889603138,\n",
    "#                 0.0704624280333519\n",
    "#             ]\n",
    "#         ],\n",
    "#         [\n",
    "#             [\n",
    "#                 -0.41740158200263977,\n",
    "#                 -0.3806077539920807,\n",
    "#                 -0.30428966879844666\n",
    "#             ],\n",
    "#             [\n",
    "#                 -0.44697263836860657,\n",
    "#                 -1.139129638671875,\n",
    "#                 -0.49162736535072327\n",
    "#             ],\n",
    "#             [\n",
    "#                 -0.6015071272850037,\n",
    "#                 -0.6766524910926819,\n",
    "#                 -0.36780452728271484\n",
    "#             ]\n",
    "#         ],\n",
    "#         [\n",
    "#             [\n",
    "#                 -0.359700083732605,\n",
    "#                 0.009486187249422073,\n",
    "#                 -0.05705396085977554\n",
    "#             ],\n",
    "#             [\n",
    "#                 -0.3279534876346588,\n",
    "#                 -0.8910983204841614,\n",
    "#                 -0.13622307777404785\n",
    "#             ],\n",
    "#             [\n",
    "#                 -0.7446600794792175,\n",
    "#                 -0.34649088978767395,\n",
    "#                 0.1035844162106514\n",
    "#             ]\n",
    "#         ],\n",
    "#         [\n",
    "#             [\n",
    "#                 -0.3616001009941101,\n",
    "#                 -0.08585022389888763,\n",
    "#                 -0.1298544704914093\n",
    "#             ],\n",
    "#             [\n",
    "#                 -0.38459184765815735,\n",
    "#                 -1.4361186027526855,\n",
    "#                 -0.7366841435432434\n",
    "#             ],\n",
    "#             [\n",
    "#                 -0.09461090713739395,\n",
    "#                 -1.0850263833999634,\n",
    "#                 -0.8971518874168396\n",
    "#             ]\n",
    "#         ],\n",
    "#         [\n",
    "#             [\n",
    "#                 0.021330025047063828,\n",
    "#                 -0.2344278246164322,\n",
    "#                 0.6733897924423218\n",
    "#             ],\n",
    "#             [\n",
    "#                 0.1656050980091095,\n",
    "#                 0.6764063835144043,\n",
    "#                 0.5657141208648682\n",
    "#             ],\n",
    "#             [\n",
    "#                 0.26517754793167114,\n",
    "#                 0.4735383987426758,\n",
    "#                 0.5771438479423523\n",
    "#             ]\n",
    "#         ],\n",
    "#         [\n",
    "#             [\n",
    "#                 -0.3784654140472412,\n",
    "#                 -0.39409610629081726,\n",
    "#                 0.05135966092348099\n",
    "#             ],\n",
    "#             [\n",
    "#                 -0.44986188411712646,\n",
    "#                 -0.3569972515106201,\n",
    "#                 -0.3682743012905121\n",
    "#             ],\n",
    "#             [\n",
    "#                 -0.47450950741767883,\n",
    "#                 -0.2829877436161041,\n",
    "#                 -0.16383258998394012\n",
    "#             ]\n",
    "#         ],\n",
    "#         [\n",
    "#             [\n",
    "#                 -0.43148142099380493,\n",
    "#                 -0.6240154504776001,\n",
    "#                 -0.49659523367881775\n",
    "#             ],\n",
    "#             [\n",
    "#                 -0.02251792885363102,\n",
    "#                 -0.017566712573170662,\n",
    "#                 -0.1747981160879135\n",
    "#             ],\n",
    "#             [\n",
    "#                 -0.060287658125162125,\n",
    "#                 0.08641328662633896,\n",
    "#                 -0.1749436855316162\n",
    "#             ]\n",
    "#         ],\n",
    "#         [\n",
    "#             [\n",
    "#                 0.29348987340927124,\n",
    "#                 0.6775360107421875,\n",
    "#                 0.361976683139801\n",
    "#             ],\n",
    "#             [\n",
    "#                 -0.010801497846841812,\n",
    "#                 -0.12982770800590515,\n",
    "#                 0.05769297480583191\n",
    "#             ],\n",
    "#             [\n",
    "#                 0.10638046264648438,\n",
    "#                 -0.09488064050674438,\n",
    "#                 -0.12860630452632904\n",
    "#             ]\n",
    "#         ],\n",
    "#         [\n",
    "#             [\n",
    "#                 -0.1910565048456192,\n",
    "#                 -0.09873764961957932,\n",
    "#                 0.9209298491477966\n",
    "#             ],\n",
    "#             [\n",
    "#                 -0.2386046200990677,\n",
    "#                 0.5045132040977478,\n",
    "#                 0.74472576379776\n",
    "#             ],\n",
    "#             [\n",
    "#                 -0.06528424471616745,\n",
    "#                 0.5213624835014343,\n",
    "#                 0.7253149151802063\n",
    "#             ]\n",
    "#         ],\n",
    "#         [\n",
    "#             [\n",
    "#                 0.5188126564025879,\n",
    "#                 0.3735431432723999,\n",
    "#                 -0.022891918197274208\n",
    "#             ],\n",
    "#             [\n",
    "#                 0.26614001393318176,\n",
    "#                 -0.3514900207519531,\n",
    "#                 0.11307363212108612\n",
    "#             ],\n",
    "#             [\n",
    "#                 0.4829815626144409,\n",
    "#                 0.045154690742492676,\n",
    "#                 0.1303585320711136\n",
    "#             ]\n",
    "#         ],\n",
    "#         [\n",
    "#             [\n",
    "#                 -0.2947569489479065,\n",
    "#                 -0.4358474612236023,\n",
    "#                 -0.07546451687812805\n",
    "#             ],\n",
    "#             [\n",
    "#                 -0.1412026435136795,\n",
    "#                 0.09261763840913773,\n",
    "#                 -0.3663143813610077\n",
    "#             ],\n",
    "#             [\n",
    "#                 -0.4373730719089508,\n",
    "#                 -0.32998210191726685,\n",
    "#                 -0.8761917352676392\n",
    "#             ]\n",
    "#         ],\n",
    "#         [\n",
    "#             [\n",
    "#                 -0.37015268206596375,\n",
    "#                 -0.82944256067276,\n",
    "#                 -0.22384782135486603\n",
    "#             ],\n",
    "#             [\n",
    "#                 -0.14256389439105988,\n",
    "#                 0.12756980955600739,\n",
    "#                 -0.2185617983341217\n",
    "#             ],\n",
    "#             [\n",
    "#                 -0.3650536835193634,\n",
    "#                 -0.07443037629127502,\n",
    "#                 0.022138478234410286\n",
    "#             ]\n",
    "#         ],\n",
    "#         [\n",
    "#             [\n",
    "#                 -0.6026709079742432,\n",
    "#                 -0.7425816059112549,\n",
    "#                 -0.2586888372898102\n",
    "#             ],\n",
    "#             [\n",
    "#                 -0.29981669783592224,\n",
    "#                 0.021213039755821228,\n",
    "#                 -0.1961441934108734\n",
    "#             ],\n",
    "#             [\n",
    "#                 -0.06330684572458267,\n",
    "#                 0.10508072376251221,\n",
    "#                 0.09643208235502243\n",
    "#             ]\n",
    "#         ],\n",
    "#         [\n",
    "#             [\n",
    "#                 0.02669636905193329,\n",
    "#                 -0.11347775906324387,\n",
    "#                 0.47999733686447144\n",
    "#             ],\n",
    "#             [\n",
    "#                 0.13002091646194458,\n",
    "#                 0.15022209286689758,\n",
    "#                 0.48945683240890503\n",
    "#             ],\n",
    "#             [\n",
    "#                 0.3479054272174835,\n",
    "#                 0.32498660683631897,\n",
    "#                 0.46657657623291016\n",
    "#             ]\n",
    "#         ],\n",
    "#         [\n",
    "#             [\n",
    "#                 -0.28574109077453613,\n",
    "#                 -0.5022642612457275,\n",
    "#                 -0.3582460284233093\n",
    "#             ],\n",
    "#             [\n",
    "#                 1.1743791103363037,\n",
    "#                 -0.09549937397241592,\n",
    "#                 -0.8088588714599609\n",
    "#             ],\n",
    "#             [\n",
    "#                 0.5987692475318909,\n",
    "#                 -0.7425581812858582,\n",
    "#                 -0.9381641149520874\n",
    "#             ]\n",
    "#         ],\n",
    "#         [\n",
    "#             [\n",
    "#                 1.377179503440857,\n",
    "#                 1.173900842666626,\n",
    "#                 0.45526644587516785\n",
    "#             ],\n",
    "#             [\n",
    "#                 1.356713056564331,\n",
    "#                 1.808233380317688,\n",
    "#                 1.590232491493225\n",
    "#             ],\n",
    "#             [\n",
    "#                 0.18546324968338013,\n",
    "#                 -0.3008946478366852,\n",
    "#                 0.7112744450569153\n",
    "#             ]\n",
    "#         ],\n",
    "#         [\n",
    "#             [\n",
    "#                 0.3527228832244873,\n",
    "#                 0.13301889598369598,\n",
    "#                 0.3402729332447052\n",
    "#             ],\n",
    "#             [\n",
    "#                 2.065850257873535,\n",
    "#                 1.0312401056289673,\n",
    "#                 0.36585065722465515\n",
    "#             ],\n",
    "#             [\n",
    "#                 0.3100891411304474,\n",
    "#                 -0.6858291625976562,\n",
    "#                 -0.021013282239437103\n",
    "#             ]\n",
    "#         ],\n",
    "#         [\n",
    "#             [\n",
    "#                 -0.4339965879917145,\n",
    "#                 -0.614194393157959,\n",
    "#                 -0.2563331127166748\n",
    "#             ],\n",
    "#             [\n",
    "#                 0.0433424673974514,\n",
    "#                 0.1253303587436676,\n",
    "#                 -0.10055825114250183\n",
    "#             ],\n",
    "#             [\n",
    "#                 -0.10015294700860977,\n",
    "#                 0.07469811290502548,\n",
    "#                 0.0076498729176819324\n",
    "#             ]\n",
    "#         ],\n",
    "#         [\n",
    "#             [\n",
    "#                 -0.4751130938529968,\n",
    "#                 -0.6649916768074036,\n",
    "#                 -0.12585139274597168\n",
    "#             ],\n",
    "#             [\n",
    "#                 -0.1845252960920334,\n",
    "#                 0.09659235924482346,\n",
    "#                 -0.08673843741416931\n",
    "#             ],\n",
    "#             [\n",
    "#                 -0.20792649686336517,\n",
    "#                 0.09064612537622452,\n",
    "#                 0.00997877586632967\n",
    "#             ]\n",
    "#         ],\n",
    "#         [\n",
    "#             [\n",
    "#                 -0.4487493336200714,\n",
    "#                 -0.6568391919136047,\n",
    "#                 -0.1875254362821579\n",
    "#             ],\n",
    "#             [\n",
    "#                 -0.047818850725889206,\n",
    "#                 0.12697477638721466,\n",
    "#                 -0.09935922920703888\n",
    "#             ],\n",
    "#             [\n",
    "#                 -0.12180309742689133,\n",
    "#                 0.01663711853325367,\n",
    "#                 -0.013874606229364872\n",
    "#             ]\n",
    "#         ],\n",
    "#         [\n",
    "#             [\n",
    "#                 -0.4857061207294464,\n",
    "#                 -0.9071592688560486,\n",
    "#                 -0.28426966071128845\n",
    "#             ],\n",
    "#             [\n",
    "#                 -0.1835767924785614,\n",
    "#                 -0.06735827773809433,\n",
    "#                 -0.11710863560438156\n",
    "#             ],\n",
    "#             [\n",
    "#                 -0.15928760170936584,\n",
    "#                 -0.04026920720934868,\n",
    "#                 0.00343551067635417\n",
    "#             ]\n",
    "#         ],\n",
    "#         [\n",
    "#             [\n",
    "#                 -0.04966895654797554,\n",
    "#                 0.11673018336296082,\n",
    "#                 -0.10033215582370758\n",
    "#             ],\n",
    "#             [\n",
    "#                 -0.02046378143131733,\n",
    "#                 -0.08105802536010742,\n",
    "#                 -0.06357716768980026\n",
    "#             ],\n",
    "#             [\n",
    "#                 0.009034527465701103,\n",
    "#                 0.0011474575148895383,\n",
    "#                 -0.08881893008947372\n",
    "#             ]\n",
    "#         ]\n",
    "#     ]\n",
    "# ]\n",
    "# #cn4\n",
    "# weight_tensor_5x5_1_1029_36_n1_1 = [\n",
    "#     [\n",
    "#         [\n",
    "#             [\n",
    "#                 0.5917758345603943,\n",
    "#                 0.7759135961532593,\n",
    "#                 0.6633498668670654,\n",
    "#                 0.40361517667770386,\n",
    "#                 0.24470101296901703\n",
    "#             ],\n",
    "#             [\n",
    "#                 1.1045039892196655,\n",
    "#                 1.7795820236206055,\n",
    "#                 1.5931645631790161,\n",
    "#                 1.0017948150634766,\n",
    "#                 0.33287152647972107\n",
    "#             ],\n",
    "#             [\n",
    "#                 1.1046819686889648,\n",
    "#                 1.8329464197158813,\n",
    "#                 1.6197482347488403,\n",
    "#                 1.0402182340621948,\n",
    "#                 0.3417070508003235\n",
    "#             ],\n",
    "#             [\n",
    "#                 0.4874836206436157,\n",
    "#                 0.7741820812225342,\n",
    "#                 0.6646813154220581,\n",
    "#                 0.46689802408218384,\n",
    "#                 0.5201983451843262\n",
    "#             ],\n",
    "#             [\n",
    "#                 0.17829260230064392,\n",
    "#                 0.2756533622741699,\n",
    "#                 0.31311193108558655,\n",
    "#                 0.35165655612945557,\n",
    "#                 0.571965217590332\n",
    "#             ]\n",
    "#         ],\n",
    "#         [\n",
    "#             [\n",
    "#                 0.1158081516623497,\n",
    "#                 0.21534450352191925,\n",
    "#                 0.07853172719478607,\n",
    "#                 -0.2775719463825226,\n",
    "#                 -0.5323915481567383\n",
    "#             ],\n",
    "#             [\n",
    "#                 0.4942971169948578,\n",
    "#                 1.3148542642593384,\n",
    "#                 1.1286356449127197,\n",
    "#                 0.387596070766449,\n",
    "#                 -0.6057285666465759\n",
    "#             ],\n",
    "#             [\n",
    "#                 0.43167802691459656,\n",
    "#                 1.2183492183685303,\n",
    "#                 1.0789226293563843,\n",
    "#                 0.18424220383167267,\n",
    "#                 -0.5504462122917175\n",
    "#             ],\n",
    "#             [\n",
    "#                 -0.47400131821632385,\n",
    "#                 -0.3024424910545349,\n",
    "#                 -0.2747015357017517,\n",
    "#                 -0.4548657238483429,\n",
    "#                 -0.5290444493293762\n",
    "#             ],\n",
    "#             [\n",
    "#                 -0.8780228495597839,\n",
    "#                 -0.7869589328765869,\n",
    "#                 -0.778083860874176,\n",
    "#                 -0.6635684967041016,\n",
    "#                 -0.5836482048034668\n",
    "#             ]\n",
    "#         ],\n",
    "#         [\n",
    "#             [\n",
    "#                 0.060415077954530716,\n",
    "#                 0.1762000173330307,\n",
    "#                 0.07736959308385849,\n",
    "#                 -0.12598170340061188,\n",
    "#                 -0.30824896693229675\n",
    "#             ],\n",
    "#             [\n",
    "#                 0.38521915674209595,\n",
    "#                 0.9852892756462097,\n",
    "#                 1.027204990386963,\n",
    "#                 0.37280863523483276,\n",
    "#                 -0.2565012574195862\n",
    "#             ],\n",
    "#             [\n",
    "#                 0.40401843190193176,\n",
    "#                 1.1323622465133667,\n",
    "#                 1.0219862461090088,\n",
    "#                 0.47389379143714905,\n",
    "#                 -0.17600640654563904\n",
    "#             ],\n",
    "#             [\n",
    "#                 -0.20039993524551392,\n",
    "#                 0.036862775683403015,\n",
    "#                 0.0640118196606636,\n",
    "#                 -0.048733003437519073,\n",
    "#                 0.06905556470155716\n",
    "#             ],\n",
    "#             [\n",
    "#                 -0.5716613531112671,\n",
    "#                 -0.39555126428604126,\n",
    "#                 -0.3635576367378235,\n",
    "#                 -0.26442575454711914,\n",
    "#                 -0.0017546039307489991\n",
    "#             ]\n",
    "#         ],\n",
    "#         [\n",
    "#             [\n",
    "#                 0.15032994747161865,\n",
    "#                 0.2482289969921112,\n",
    "#                 0.2233894169330597,\n",
    "#                 0.13036613166332245,\n",
    "#                 -0.09882078319787979\n",
    "#             ],\n",
    "#             [\n",
    "#                 0.30376848578453064,\n",
    "#                 1.1537926197052002,\n",
    "#                 1.1446813344955444,\n",
    "#                 0.502625584602356,\n",
    "#                 -0.18081091344356537\n",
    "#             ],\n",
    "#             [\n",
    "#                 0.3523062467575073,\n",
    "#                 1.2416738271713257,\n",
    "#                 1.1394519805908203,\n",
    "#                 0.5310412049293518,\n",
    "#                 0.042049918323755264\n",
    "#             ],\n",
    "#             [\n",
    "#                 -0.050407323986291885,\n",
    "#                 0.20608703792095184,\n",
    "#                 0.1857551634311676,\n",
    "#                 0.11612687259912491,\n",
    "#                 0.1810978651046753\n",
    "#             ],\n",
    "#             [\n",
    "#                 -0.4711899757385254,\n",
    "#                 -0.24128180742263794,\n",
    "#                 -0.15420754253864288,\n",
    "#                 -0.14932262897491455,\n",
    "#                 0.008658199571073055\n",
    "#             ]\n",
    "#         ],\n",
    "#         [\n",
    "#             [\n",
    "#                 -0.8721384406089783,\n",
    "#                 -0.38429006934165955,\n",
    "#                 -0.35339879989624023,\n",
    "#                 -0.5521278381347656,\n",
    "#                 -0.29978564381599426\n",
    "#             ],\n",
    "#             [\n",
    "#                 -0.3205614387989044,\n",
    "#                 0.475055992603302,\n",
    "#                 0.3171941339969635,\n",
    "#                 -0.09167289733886719,\n",
    "#                 0.07334475964307785\n",
    "#             ],\n",
    "#             [\n",
    "#                 -0.2556936740875244,\n",
    "#                 0.4954683780670166,\n",
    "#                 0.2836350202560425,\n",
    "#                 -0.15712924301624298,\n",
    "#                 0.14791814982891083\n",
    "#             ],\n",
    "#             [\n",
    "#                 -0.4292774200439453,\n",
    "#                 0.23213312029838562,\n",
    "#                 0.09718705713748932,\n",
    "#                 -0.36225953698158264,\n",
    "#                 -0.2606329321861267\n",
    "#             ],\n",
    "#             [\n",
    "#                 1.1707375049591064,\n",
    "#                 1.2587887048721313,\n",
    "#                 0.24246245622634888,\n",
    "#                 -0.7197839021682739,\n",
    "#                 -1.3319085836410522\n",
    "#             ]\n",
    "#         ],\n",
    "#         [\n",
    "#             [\n",
    "#                 -0.6945272088050842,\n",
    "#                 -0.45568937063217163,\n",
    "#                 -0.23772960901260376,\n",
    "#                 0.10701823979616165,\n",
    "#                 0.6854064464569092\n",
    "#             ],\n",
    "#             [\n",
    "#                 -0.1269250363111496,\n",
    "#                 0.8253007531166077,\n",
    "#                 0.6216107606887817,\n",
    "#                 0.33108285069465637,\n",
    "#                 0.3263870179653168\n",
    "#             ],\n",
    "#             [\n",
    "#                 -0.18814308941364288,\n",
    "#                 0.5394662618637085,\n",
    "#                 0.32267534732818604,\n",
    "#                 -0.1119239404797554,\n",
    "#                 0.18285056948661804\n",
    "#             ],\n",
    "#             [\n",
    "#                 -0.5176292657852173,\n",
    "#                 -0.38304489850997925,\n",
    "#                 -0.6068260073661804,\n",
    "#                 -0.6953670978546143,\n",
    "#                 -0.11255431175231934\n",
    "#             ],\n",
    "#             [\n",
    "#                 1.5798985958099365,\n",
    "#                 1.5345866680145264,\n",
    "#                 0.5827766060829163,\n",
    "#                 -0.2924692630767822,\n",
    "#                 -1.0242253541946411\n",
    "#             ]\n",
    "#         ],\n",
    "#         [\n",
    "#             [\n",
    "#                 -0.11549483239650726,\n",
    "#                 0.07945509999990463,\n",
    "#                 -0.12477999925613403,\n",
    "#                 -0.3212866187095642,\n",
    "#                 -0.6228838562965393\n",
    "#             ],\n",
    "#             [\n",
    "#                 0.44674229621887207,\n",
    "#                 0.6075363159179688,\n",
    "#                 0.04964429885149002,\n",
    "#                 -0.19386407732963562,\n",
    "#                 -0.22791042923927307\n",
    "#             ],\n",
    "#             [\n",
    "#                 0.2380933165550232,\n",
    "#                 0.6113362908363342,\n",
    "#                 0.04638765752315521,\n",
    "#                 -0.3918423354625702,\n",
    "#                 -0.3235528767108917\n",
    "#             ],\n",
    "#             [\n",
    "#                 0.007613740395754576,\n",
    "#                 0.36844077706336975,\n",
    "#                 0.010271423496305943,\n",
    "#                 -0.35979703068733215,\n",
    "#                 -0.7536553144454956\n",
    "#             ],\n",
    "#             [\n",
    "#                 0.3247942626476288,\n",
    "#                 0.6702722907066345,\n",
    "#                 0.7115997672080994,\n",
    "#                 0.3003023862838745,\n",
    "#                 -0.34076040983200073\n",
    "#             ]\n",
    "#         ],\n",
    "#         [\n",
    "#             [\n",
    "#                 0.08186371624469757,\n",
    "#                 0.4934077262878418,\n",
    "#                 0.271302193403244,\n",
    "#                 0.0016930093988776207,\n",
    "#                 -0.08299796283245087\n",
    "#             ],\n",
    "#             [\n",
    "#                 0.10032129287719727,\n",
    "#                 0.34110763669013977,\n",
    "#                 0.04179669916629791,\n",
    "#                 0.0033711676951497793,\n",
    "#                 0.4009428322315216\n",
    "#             ],\n",
    "#             [\n",
    "#                 0.36569875478744507,\n",
    "#                 0.3902909755706787,\n",
    "#                 -0.08323664218187332,\n",
    "#                 -0.0742315724492073,\n",
    "#                 0.22362367808818817\n",
    "#             ],\n",
    "#             [\n",
    "#                 0.4904881417751312,\n",
    "#                 0.26658543944358826,\n",
    "#                 -0.44012874364852905,\n",
    "#                 -0.8285883665084839,\n",
    "#                 -0.8244768381118774\n",
    "#             ],\n",
    "#             [\n",
    "#                 0.6935352087020874,\n",
    "#                 0.48806828260421753,\n",
    "#                 0.07440441846847534,\n",
    "#                 -0.21440839767456055,\n",
    "#                 -0.3843062222003937\n",
    "#             ]\n",
    "#         ],\n",
    "#         [\n",
    "#             [\n",
    "#                 0.022602422162890434,\n",
    "#                 -0.1806456446647644,\n",
    "#                 -0.25907498598098755,\n",
    "#                 0.11268508434295654,\n",
    "#                 0.5065467357635498\n",
    "#             ],\n",
    "#             [\n",
    "#                 0.7287939190864563,\n",
    "#                 0.16347666084766388,\n",
    "#                 -0.34427502751350403,\n",
    "#                 -0.1777135133743286,\n",
    "#                 0.16523659229278564\n",
    "#             ],\n",
    "#             [\n",
    "#                 1.1268550157546997,\n",
    "#                 0.793159008026123,\n",
    "#                 0.06557845324277878,\n",
    "#                 -0.1010255366563797,\n",
    "#                 -0.15510441362857819\n",
    "#             ],\n",
    "#             [\n",
    "#                 0.6119062304496765,\n",
    "#                 0.6122226119041443,\n",
    "#                 0.4006727635860443,\n",
    "#                 0.5528149604797363,\n",
    "#                 0.46693864464759827\n",
    "#             ],\n",
    "#             [\n",
    "#                 0.6934973001480103,\n",
    "#                 0.25800684094429016,\n",
    "#                 0.12233279645442963,\n",
    "#                 0.395243376493454,\n",
    "#                 0.5524900555610657\n",
    "#             ]\n",
    "#         ],\n",
    "#         [\n",
    "#             [\n",
    "#                 0.7201836705207825,\n",
    "#                 1.9742701053619385,\n",
    "#                 2.0615692138671875,\n",
    "#                 1.503867506980896,\n",
    "#                 0.8833568096160889\n",
    "#             ],\n",
    "#             [\n",
    "#                 0.34214678406715393,\n",
    "#                 1.382576584815979,\n",
    "#                 2.0205514430999756,\n",
    "#                 1.8680068254470825,\n",
    "#                 1.526654839515686\n",
    "#             ],\n",
    "#             [\n",
    "#                 -0.3661162257194519,\n",
    "#                 -0.7679178714752197,\n",
    "#                 -0.3999105393886566,\n",
    "#                 0.6205304861068726,\n",
    "#                 1.9234936237335205\n",
    "#             ],\n",
    "#             [\n",
    "#                 0.046832580119371414,\n",
    "#                 -0.5321187376976013,\n",
    "#                 -0.6485140919685364,\n",
    "#                 0.032406874001026154,\n",
    "#                 1.1207278966903687\n",
    "#             ],\n",
    "#             [\n",
    "#                 -0.16796688735485077,\n",
    "#                 -0.23592346906661987,\n",
    "#                 -0.2641650438308716,\n",
    "#                 -0.26456159353256226,\n",
    "#                 -0.2458096444606781\n",
    "#             ]\n",
    "#         ],\n",
    "#         [\n",
    "#             [\n",
    "#                 0.8602230548858643,\n",
    "#                 1.5776209831237793,\n",
    "#                 1.1583596467971802,\n",
    "#                 0.856214165687561,\n",
    "#                 0.549021303653717\n",
    "#             ],\n",
    "#             [\n",
    "#                 1.0074692964553833,\n",
    "#                 1.0872013568878174,\n",
    "#                 0.6200098395347595,\n",
    "#                 0.6482793092727661,\n",
    "#                 0.8616126179695129\n",
    "#             ],\n",
    "#             [\n",
    "#                 0.8894470930099487,\n",
    "#                 -0.37205740809440613,\n",
    "#                 -1.1927337646484375,\n",
    "#                 -0.724852442741394,\n",
    "#                 0.6467681527137756\n",
    "#             ],\n",
    "#             [\n",
    "#                 1.4972976446151733,\n",
    "#                 0.5268767476081848,\n",
    "#                 -0.4250708818435669,\n",
    "#                 -0.2239421010017395,\n",
    "#                 0.7789417505264282\n",
    "#             ],\n",
    "#             [\n",
    "#                 1.1630487442016602,\n",
    "#                 1.0697743892669678,\n",
    "#                 0.845589280128479,\n",
    "#                 0.7094410061836243,\n",
    "#                 0.517941951751709\n",
    "#             ]\n",
    "#         ],\n",
    "#         [\n",
    "#             [\n",
    "#                 -1.6508971452713013,\n",
    "#                 -1.0431931018829346,\n",
    "#                 -0.4382750689983368,\n",
    "#                 -0.6100504398345947,\n",
    "#                 -0.90971440076828\n",
    "#             ],\n",
    "#             [\n",
    "#                 -0.6549960970878601,\n",
    "#                 -0.192494735121727,\n",
    "#                 -0.13081347942352295,\n",
    "#                 -0.5071864724159241,\n",
    "#                 -0.9447193741798401\n",
    "#             ],\n",
    "#             [\n",
    "#                 -0.7861413955688477,\n",
    "#                 -0.7356007695198059,\n",
    "#                 -0.7755562663078308,\n",
    "#                 -0.6641557812690735,\n",
    "#                 0.09864888340234756\n",
    "#             ],\n",
    "#             [\n",
    "#                 -1.2114291191101074,\n",
    "#                 -1.067043423652649,\n",
    "#                 -0.6907533407211304,\n",
    "#                 -0.21837276220321655,\n",
    "#                 0.5367453098297119\n",
    "#             ],\n",
    "#             [\n",
    "#                 -1.5525214672088623,\n",
    "#                 -0.9760769009590149,\n",
    "#                 -0.04494928941130638,\n",
    "#                 0.13268697261810303,\n",
    "#                 0.12183048576116562\n",
    "#             ]\n",
    "#         ],\n",
    "#         [\n",
    "#             [\n",
    "#                 0.4206836223602295,\n",
    "#                 -0.4254862368106842,\n",
    "#                 -0.7442447543144226,\n",
    "#                 -0.43585434556007385,\n",
    "#                 -0.29329296946525574\n",
    "#             ],\n",
    "#             [\n",
    "#                 1.2416749000549316,\n",
    "#                 0.22885839641094208,\n",
    "#                 -0.2986662983894348,\n",
    "#                 -0.4363304674625397,\n",
    "#                 -0.3905490040779114\n",
    "#             ],\n",
    "#             [\n",
    "#                 1.839713215827942,\n",
    "#                 1.1501411199569702,\n",
    "#                 0.6785497665405273,\n",
    "#                 0.09194239228963852,\n",
    "#                 -0.41600361466407776\n",
    "#             ],\n",
    "#             [\n",
    "#                 1.346191167831421,\n",
    "#                 1.059528112411499,\n",
    "#                 0.8622688055038452,\n",
    "#                 0.5155429840087891,\n",
    "#                 0.10014545172452927\n",
    "#             ],\n",
    "#             [\n",
    "#                 0.9227443933486938,\n",
    "#                 0.5292174220085144,\n",
    "#                 0.28444018959999084,\n",
    "#                 0.44236284494400024,\n",
    "#                 0.41916781663894653\n",
    "#             ]\n",
    "#         ],\n",
    "#         [\n",
    "#             [\n",
    "#                 0.4658812880516052,\n",
    "#                 0.8549314141273499,\n",
    "#                 0.863177478313446,\n",
    "#                 0.7236819863319397,\n",
    "#                 0.5661482810974121\n",
    "#             ],\n",
    "#             [\n",
    "#                 -0.05327266827225685,\n",
    "#                 0.21873553097248077,\n",
    "#                 0.40947166085243225,\n",
    "#                 0.4895339608192444,\n",
    "#                 0.5419774651527405\n",
    "#             ],\n",
    "#             [\n",
    "#                 0.5198606252670288,\n",
    "#                 0.685275137424469,\n",
    "#                 0.7024667263031006,\n",
    "#                 0.8054167032241821,\n",
    "#                 0.8621476292610168\n",
    "#             ],\n",
    "#             [\n",
    "#                 -0.32625529170036316,\n",
    "#                 -0.742891788482666,\n",
    "#                 -0.8304277658462524,\n",
    "#                 -0.11921671032905579,\n",
    "#                 0.8449581861495972\n",
    "#             ],\n",
    "#             [\n",
    "#                 -0.35788393020629883,\n",
    "#                 -0.8003108501434326,\n",
    "#                 -0.9238467216491699,\n",
    "#                 -0.31146204471588135,\n",
    "#                 0.349325954914093\n",
    "#             ]\n",
    "#         ],\n",
    "#         [\n",
    "#             [\n",
    "#                 0.3897183835506439,\n",
    "#                 -0.38073843717575073,\n",
    "#                 -0.7074125409126282,\n",
    "#                 -0.725123405456543,\n",
    "#                 -0.6348734498023987\n",
    "#             ],\n",
    "#             [\n",
    "#                 0.9363428354263306,\n",
    "#                 0.09510236978530884,\n",
    "#                 -0.1709510236978531,\n",
    "#                 -0.25734081864356995,\n",
    "#                 -0.4431101083755493\n",
    "#             ],\n",
    "#             [\n",
    "#                 1.3092472553253174,\n",
    "#                 0.6299477219581604,\n",
    "#                 0.35994449257850647,\n",
    "#                 0.0759420171380043,\n",
    "#                 -0.24798032641410828\n",
    "#             ],\n",
    "#             [\n",
    "#                 1.2359739542007446,\n",
    "#                 0.9058071970939636,\n",
    "#                 0.689345121383667,\n",
    "#                 0.4813210666179657,\n",
    "#                 0.15722645819187164\n",
    "#             ],\n",
    "#             [\n",
    "#                 1.4127707481384277,\n",
    "#                 0.921887993812561,\n",
    "#                 0.4052657186985016,\n",
    "#                 0.18891744315624237,\n",
    "#                 0.0671687200665474\n",
    "#             ]\n",
    "#         ],\n",
    "#         [\n",
    "#             [\n",
    "#                 -0.1811491996049881,\n",
    "#                 0.15843574702739716,\n",
    "#                 0.3103863000869751,\n",
    "#                 0.45948484539985657,\n",
    "#                 0.6357889771461487\n",
    "#             ],\n",
    "#             [\n",
    "#                 -0.48790955543518066,\n",
    "#                 -0.20737648010253906,\n",
    "#                 -0.11989305168390274,\n",
    "#                 0.22021356225013733,\n",
    "#                 0.48444727063179016\n",
    "#             ],\n",
    "#             [\n",
    "#                 0.3452417254447937,\n",
    "#                 0.40907981991767883,\n",
    "#                 0.39835217595100403,\n",
    "#                 0.558754026889801,\n",
    "#                 0.7295740842819214\n",
    "#             ],\n",
    "#             [\n",
    "#                 0.07105688005685806,\n",
    "#                 -0.3055444061756134,\n",
    "#                 -0.31106528639793396,\n",
    "#                 0.04508687183260918,\n",
    "#                 0.7222288250923157\n",
    "#             ],\n",
    "#             [\n",
    "#                 -0.032346855849027634,\n",
    "#                 -0.3642876446247101,\n",
    "#                 -0.34220486879348755,\n",
    "#                 -0.14711108803749084,\n",
    "#                 0.24277308583259583\n",
    "#             ]\n",
    "#         ],\n",
    "#         [\n",
    "#             [\n",
    "#                 -0.3356251120567322,\n",
    "#                 0.5646682381629944,\n",
    "#                 0.7933211922645569,\n",
    "#                 1.257285714149475,\n",
    "#                 0.9973092079162598\n",
    "#             ],\n",
    "#             [\n",
    "#                 1.3085496425628662,\n",
    "#                 -0.027182726189494133,\n",
    "#                 -0.2575701177120209,\n",
    "#                 1.4892421960830688,\n",
    "#                 2.844024419784546\n",
    "#             ],\n",
    "#             [\n",
    "#                 0.9410516023635864,\n",
    "#                 -0.41772499680519104,\n",
    "#                 -0.5409399271011353,\n",
    "#                 1.1699186563491821,\n",
    "#                 1.9757813215255737\n",
    "#             ],\n",
    "#             [\n",
    "#                 0.737831175327301,\n",
    "#                 1.7219829559326172,\n",
    "#                 1.7494125366210938,\n",
    "#                 0.9464563131332397,\n",
    "#                 -0.6661105751991272\n",
    "#             ],\n",
    "#             [\n",
    "#                 -1.3233333826065063,\n",
    "#                 -0.9137702584266663,\n",
    "#                 -0.4834846258163452,\n",
    "#                 -0.377957820892334,\n",
    "#                 -1.170425295829773\n",
    "#             ]\n",
    "#         ],\n",
    "#         [\n",
    "#             [\n",
    "#                 -0.39313188195228577,\n",
    "#                 0.10256803035736084,\n",
    "#                 0.1770496815443039,\n",
    "#                 0.9460238218307495,\n",
    "#                 1.0648202896118164\n",
    "#             ],\n",
    "#             [\n",
    "#                 -0.720664381980896,\n",
    "#                 -2.3023362159729004,\n",
    "#                 -2.5624189376831055,\n",
    "#                 0.2051527202129364,\n",
    "#                 2.60526704788208\n",
    "#             ],\n",
    "#             [\n",
    "#                 -1.2367804050445557,\n",
    "#                 -3.037165880203247,\n",
    "#                 -2.823720932006836,\n",
    "#                 -0.210847407579422,\n",
    "#                 1.5497077703475952\n",
    "#             ],\n",
    "#             [\n",
    "#                 0.6405010223388672,\n",
    "#                 1.2146587371826172,\n",
    "#                 1.260146141052246,\n",
    "#                 0.9944579005241394,\n",
    "#                 -0.4713019132614136\n",
    "#             ],\n",
    "#             [\n",
    "#                 -0.06688614934682846,\n",
    "#                 0.454367071390152,\n",
    "#                 0.5011420845985413,\n",
    "#                 -0.014314556494355202,\n",
    "#                 -1.1440105438232422\n",
    "#             ]\n",
    "#         ],\n",
    "#         [\n",
    "#             [\n",
    "#                 0.17764192819595337,\n",
    "#                 0.3359419107437134,\n",
    "#                 0.2811047434806824,\n",
    "#                 0.10721415281295776,\n",
    "#                 -0.13225476443767548\n",
    "#             ],\n",
    "#             [\n",
    "#                 0.13606001436710358,\n",
    "#                 0.6171552538871765,\n",
    "#                 0.5952663421630859,\n",
    "#                 0.18311700224876404,\n",
    "#                 -0.14806030690670013\n",
    "#             ],\n",
    "#             [\n",
    "#                 0.07920026034116745,\n",
    "#                 0.582838773727417,\n",
    "#                 0.5573250651359558,\n",
    "#                 0.17393481731414795,\n",
    "#                 -0.12716682255268097\n",
    "#             ],\n",
    "#             [\n",
    "#                 -0.08309949934482574,\n",
    "#                 0.28797534108161926,\n",
    "#                 0.20313553512096405,\n",
    "#                 0.10610780119895935,\n",
    "#                 0.054313648492097855\n",
    "#             ],\n",
    "#             [\n",
    "#                 -0.57691890001297,\n",
    "#                 -0.3939898908138275,\n",
    "#                 -0.2983768582344055,\n",
    "#                 -0.27641230821609497,\n",
    "#                 -0.17801706492900848\n",
    "#             ]\n",
    "#         ],\n",
    "#         [\n",
    "#             [\n",
    "#                 0.06981920450925827,\n",
    "#                 0.18699853122234344,\n",
    "#                 0.23851709067821503,\n",
    "#                 0.1578758805990219,\n",
    "#                 -0.14196926355361938\n",
    "#             ],\n",
    "#             [\n",
    "#                 -0.03783854469656944,\n",
    "#                 0.22866183519363403,\n",
    "#                 0.11093905568122864,\n",
    "#                 0.1213940903544426,\n",
    "#                 -0.12368163466453552\n",
    "#             ],\n",
    "#             [\n",
    "#                 -0.19733119010925293,\n",
    "#                 0.1918146014213562,\n",
    "#                 0.22751674056053162,\n",
    "#                 0.0362100712954998,\n",
    "#                 -0.0625249519944191\n",
    "#             ],\n",
    "#             [\n",
    "#                 -0.17015495896339417,\n",
    "#                 0.16828292608261108,\n",
    "#                 0.17338229715824127,\n",
    "#                 0.2494198977947235,\n",
    "#                 0.01317229587584734\n",
    "#             ],\n",
    "#             [\n",
    "#                 -0.4566766023635864,\n",
    "#                 -0.18617521226406097,\n",
    "#                 -0.12419934570789337,\n",
    "#                 -0.1268584430217743,\n",
    "#                 -0.18013963103294373\n",
    "#             ]\n",
    "#         ],\n",
    "#         [\n",
    "#             [\n",
    "#                 0.08301850408315659,\n",
    "#                 0.33357375860214233,\n",
    "#                 0.22022689878940582,\n",
    "#                 0.09136846661567688,\n",
    "#                 -0.15370482206344604\n",
    "#             ],\n",
    "#             [\n",
    "#                 0.21668867766857147,\n",
    "#                 0.7851912379264832,\n",
    "#                 0.7453020215034485,\n",
    "#                 0.328332781791687,\n",
    "#                 -0.21774087846279144\n",
    "#             ],\n",
    "#             [\n",
    "#                 0.11065923422574997,\n",
    "#                 0.6893627047538757,\n",
    "#                 0.7502142786979675,\n",
    "#                 0.3309404253959656,\n",
    "#                 -0.12320704758167267\n",
    "#             ],\n",
    "#             [\n",
    "#                 -0.06959418207406998,\n",
    "#                 0.1936110556125641,\n",
    "#                 0.17498883605003357,\n",
    "#                 0.1352984607219696,\n",
    "#                 0.029857218265533447\n",
    "#             ],\n",
    "#             [\n",
    "#                 -0.5735039114952087,\n",
    "#                 -0.3405883312225342,\n",
    "#                 -0.3398568034172058,\n",
    "#                 -0.25304552912712097,\n",
    "#                 -0.06945629417896271\n",
    "#             ]\n",
    "#         ],\n",
    "#         [\n",
    "#             [\n",
    "#                 0.040591657161712646,\n",
    "#                 0.2609267830848694,\n",
    "#                 0.3050239086151123,\n",
    "#                 0.11949589848518372,\n",
    "#                 -0.20655009150505066\n",
    "#             ],\n",
    "#             [\n",
    "#                 0.12151332199573517,\n",
    "#                 0.3886139988899231,\n",
    "#                 0.3961934745311737,\n",
    "#                 0.09893768280744553,\n",
    "#                 -0.1905643194913864\n",
    "#             ],\n",
    "#             [\n",
    "#                 -0.0593496710062027,\n",
    "#                 0.4440290331840515,\n",
    "#                 0.43444281816482544,\n",
    "#                 0.22409018874168396,\n",
    "#                 -0.17997857928276062\n",
    "#             ],\n",
    "#             [\n",
    "#                 -0.2448776811361313,\n",
    "#                 0.20945033431053162,\n",
    "#                 0.22785584628582,\n",
    "#                 0.15480370819568634,\n",
    "#                 0.0647766962647438\n",
    "#             ],\n",
    "#             [\n",
    "#                 -0.5193992853164673,\n",
    "#                 -0.3143548369407654,\n",
    "#                 -0.2617773413658142,\n",
    "#                 -0.2713790833950043,\n",
    "#                 -0.2320568710565567\n",
    "#             ]\n",
    "#         ],\n",
    "#         [\n",
    "#             [\n",
    "#                 -0.030790595337748528,\n",
    "#                 0.17791007459163666,\n",
    "#                 0.12951813638210297,\n",
    "#                 -0.06200193986296654,\n",
    "#                 -0.3143438994884491\n",
    "#             ],\n",
    "#             [\n",
    "#                 0.2061736136674881,\n",
    "#                 0.9194480180740356,\n",
    "#                 0.8374773859977722,\n",
    "#                 0.29451504349708557,\n",
    "#                 -0.2533913254737854\n",
    "#             ],\n",
    "#             [\n",
    "#                 0.28377023339271545,\n",
    "#                 1.0675991773605347,\n",
    "#                 0.9529463648796082,\n",
    "#                 0.3715042471885681,\n",
    "#                 -0.1605798751115799\n",
    "#             ],\n",
    "#             [\n",
    "#                 -0.23810826241970062,\n",
    "#                 0.12327498197555542,\n",
    "#                 0.18724843859672546,\n",
    "#                 0.06754900515079498,\n",
    "#                 0.12238692492246628\n",
    "#             ],\n",
    "#             [\n",
    "#                 -0.6338501572608948,\n",
    "#                 -0.3322051763534546,\n",
    "#                 -0.3022273778915405,\n",
    "#                 -0.14720170199871063,\n",
    "#                 -0.09669660776853561\n",
    "#             ]\n",
    "#         ],\n",
    "#         [\n",
    "#             [\n",
    "#                 0.002705104649066925,\n",
    "#                 0.2730924189090729,\n",
    "#                 0.14850682020187378,\n",
    "#                 0.022853270173072815,\n",
    "#                 -0.3602519929409027\n",
    "#             ],\n",
    "#             [\n",
    "#                 0.11072634905576706,\n",
    "#                 0.6262199282646179,\n",
    "#                 0.5762306451797485,\n",
    "#                 0.2671821415424347,\n",
    "#                 -0.27685099840164185\n",
    "#             ],\n",
    "#             [\n",
    "#                 0.13907448947429657,\n",
    "#                 0.7961697578430176,\n",
    "#                 0.8041945099830627,\n",
    "#                 0.30858296155929565,\n",
    "#                 -0.044156115502119064\n",
    "#             ],\n",
    "#             [\n",
    "#                 -0.18902425467967987,\n",
    "#                 0.2692444622516632,\n",
    "#                 0.19133730232715607,\n",
    "#                 0.12707389891147614,\n",
    "#                 -0.004163860343396664\n",
    "#             ],\n",
    "#             [\n",
    "#                 -0.548709511756897,\n",
    "#                 -0.37843772768974304,\n",
    "#                 -0.22634345293045044,\n",
    "#                 -0.1671513468027115,\n",
    "#                 -0.1355494111776352\n",
    "#             ]\n",
    "#         ],\n",
    "#         [\n",
    "#             [\n",
    "#                 0.23325881361961365,\n",
    "#                 0.48247912526130676,\n",
    "#                 0.5463142991065979,\n",
    "#                 0.44132304191589355,\n",
    "#                 -0.09284757077693939\n",
    "#             ],\n",
    "#             [\n",
    "#                 0.5316913723945618,\n",
    "#                 0.28529831767082214,\n",
    "#                 0.16701923310756683,\n",
    "#                 0.4373159408569336,\n",
    "#                 0.3969370126724243\n",
    "#             ],\n",
    "#             [\n",
    "#                 0.12881174683570862,\n",
    "#                 0.08849222213029861,\n",
    "#                 0.24514375627040863,\n",
    "#                 0.5469391345977783,\n",
    "#                 0.34865602850914\n",
    "#             ],\n",
    "#             [\n",
    "#                 0.2908725440502167,\n",
    "#                 0.5356733798980713,\n",
    "#                 0.6976057887077332,\n",
    "#                 0.4270128309726715,\n",
    "#                 -0.29462912678718567\n",
    "#             ],\n",
    "#             [\n",
    "#                 0.007303101010620594,\n",
    "#                 0.29154258966445923,\n",
    "#                 0.1773982048034668,\n",
    "#                 -0.03635811433196068,\n",
    "#                 0.007753939833492041\n",
    "#             ]\n",
    "#         ],\n",
    "#         [\n",
    "#             [\n",
    "#                 -0.24620407819747925,\n",
    "#                 0.3933700621128082,\n",
    "#                 0.7842179536819458,\n",
    "#                 0.6990868449211121,\n",
    "#                 -0.05085672438144684\n",
    "#             ],\n",
    "#             [\n",
    "#                 0.27696651220321655,\n",
    "#                 0.03190504387021065,\n",
    "#                 -0.11317341774702072,\n",
    "#                 0.046442579478025436,\n",
    "#                 0.07987278699874878\n",
    "#             ],\n",
    "#             [\n",
    "#                 -0.016537191346287727,\n",
    "#                 0.050274044275283813,\n",
    "#                 0.26438218355178833,\n",
    "#                 0.4659719169139862,\n",
    "#                 0.05762333422899246\n",
    "#             ],\n",
    "#             [\n",
    "#                 0.2526462972164154,\n",
    "#                 0.7854140996932983,\n",
    "#                 0.8238452672958374,\n",
    "#                 0.390394926071167,\n",
    "#                 -0.5355395674705505\n",
    "#             ],\n",
    "#             [\n",
    "#                 -0.294848769903183,\n",
    "#                 -0.2573196589946747,\n",
    "#                 -0.394732803106308,\n",
    "#                 -0.37571242451667786,\n",
    "#                 0.09387760609388351\n",
    "#             ]\n",
    "#         ],\n",
    "#         [\n",
    "#             [\n",
    "#                 -0.3500092029571533,\n",
    "#                 -0.02975827269256115,\n",
    "#                 0.2520546019077301,\n",
    "#                 0.16662639379501343,\n",
    "#                 -0.2721683979034424\n",
    "#             ],\n",
    "#             [\n",
    "#                 -0.19279462099075317,\n",
    "#                 -0.24240560829639435,\n",
    "#                 -0.10885421931743622,\n",
    "#                 0.11922983080148697,\n",
    "#                 0.19131535291671753\n",
    "#             ],\n",
    "#             [\n",
    "#                 -0.16005022823810577,\n",
    "#                 -0.5878947973251343,\n",
    "#                 -0.7146655917167664,\n",
    "#                 -0.4025256931781769,\n",
    "#                 0.008111216127872467\n",
    "#             ],\n",
    "#             [\n",
    "#                 0.07620495557785034,\n",
    "#                 0.3507486879825592,\n",
    "#                 0.38868436217308044,\n",
    "#                 0.21616677939891815,\n",
    "#                 -0.30121421813964844\n",
    "#             ],\n",
    "#             [\n",
    "#                 0.14857082068920135,\n",
    "#                 0.766622006893158,\n",
    "#                 1.0552853345870972,\n",
    "#                 0.7953652739524841,\n",
    "#                 0.08186740428209305\n",
    "#             ]\n",
    "#         ],\n",
    "#         [\n",
    "#             [\n",
    "#                 -0.7386455535888672,\n",
    "#                 -0.4603317975997925,\n",
    "#                 -0.594118595123291,\n",
    "#                 -0.8734692931175232,\n",
    "#                 -1.1035703420639038\n",
    "#             ],\n",
    "#             [\n",
    "#                 -0.3661314845085144,\n",
    "#                 0.42565175890922546,\n",
    "#                 0.39908987283706665,\n",
    "#                 -0.5002111792564392,\n",
    "#                 -1.4443236589431763\n",
    "#             ],\n",
    "#             [\n",
    "#                 -0.5255719423294067,\n",
    "#                 0.3994710445404053,\n",
    "#                 0.19023644924163818,\n",
    "#                 -0.6358333230018616,\n",
    "#                 -1.5470831394195557\n",
    "#             ],\n",
    "#             [\n",
    "#                 -1.088446855545044,\n",
    "#                 -0.8748226761817932,\n",
    "#                 -1.0145363807678223,\n",
    "#                 -1.317643642425537,\n",
    "#                 -1.5876973867416382\n",
    "#             ],\n",
    "#             [\n",
    "#                 -1.4536826610565186,\n",
    "#                 -1.38155198097229,\n",
    "#                 -1.6563212871551514,\n",
    "#                 -1.5904239416122437,\n",
    "#                 -1.55363929271698\n",
    "#             ]\n",
    "#         ],\n",
    "#         [\n",
    "#             [\n",
    "#                 0.12917429208755493,\n",
    "#                 0.19433754682540894,\n",
    "#                 0.19495247304439545,\n",
    "#                 0.19995054602622986,\n",
    "#                 0.10045955330133438\n",
    "#             ],\n",
    "#             [\n",
    "#                 0.2955339848995209,\n",
    "#                 0.7534978985786438,\n",
    "#                 0.6748557686805725,\n",
    "#                 0.4820772707462311,\n",
    "#                 0.15305954217910767\n",
    "#             ],\n",
    "#             [\n",
    "#                 0.4830479919910431,\n",
    "#                 0.8707234263420105,\n",
    "#                 0.8912374973297119,\n",
    "#                 0.6703752875328064,\n",
    "#                 0.41402456164360046\n",
    "#             ],\n",
    "#             [\n",
    "#                 0.2818300127983093,\n",
    "#                 0.47946950793266296,\n",
    "#                 0.5571016073226929,\n",
    "#                 0.5670326948165894,\n",
    "#                 0.7671869397163391\n",
    "#             ],\n",
    "#             [\n",
    "#                 0.045472946017980576,\n",
    "#                 0.3481485843658447,\n",
    "#                 0.43908214569091797,\n",
    "#                 0.49295270442962646,\n",
    "#                 0.7540217638015747\n",
    "#             ]\n",
    "#         ],\n",
    "#         [\n",
    "#             [\n",
    "#                 0.15154701471328735,\n",
    "#                 0.5889304876327515,\n",
    "#                 0.5814750790596008,\n",
    "#                 0.2764393091201782,\n",
    "#                 -0.04388974606990814\n",
    "#             ],\n",
    "#             [\n",
    "#                 0.6886104941368103,\n",
    "#                 1.3443862199783325,\n",
    "#                 1.375622034072876,\n",
    "#                 0.6189591884613037,\n",
    "#                 -0.08760074526071548\n",
    "#             ],\n",
    "#             [\n",
    "#                 0.46692195534706116,\n",
    "#                 1.0504629611968994,\n",
    "#                 0.9650806784629822,\n",
    "#                 0.23638024926185608,\n",
    "#                 -0.3788227438926697\n",
    "#             ],\n",
    "#             [\n",
    "#                 -0.5280950665473938,\n",
    "#                 -0.2589721083641052,\n",
    "#                 -0.3243270516395569,\n",
    "#                 -0.4432002007961273,\n",
    "#                 -0.7704470753669739\n",
    "#             ],\n",
    "#             [\n",
    "#                 -0.8049659132957458,\n",
    "#                 -0.8410757184028625,\n",
    "#                 -0.8286128044128418,\n",
    "#                 -0.8468789458274841,\n",
    "#                 -0.8621377944946289\n",
    "#             ]\n",
    "#         ],\n",
    "#         [\n",
    "#             [\n",
    "#                 -0.056551963090896606,\n",
    "#                 -0.37489548325538635,\n",
    "#                 -0.3310781419277191,\n",
    "#                 0.0038002554792910814,\n",
    "#                 0.4111477732658386\n",
    "#             ],\n",
    "#             [\n",
    "#                 -0.6226459741592407,\n",
    "#                 -1.314456582069397,\n",
    "#                 -1.2415549755096436,\n",
    "#                 -0.4021560251712799,\n",
    "#                 0.4579779803752899\n",
    "#             ],\n",
    "#             [\n",
    "#                 -0.2700643539428711,\n",
    "#                 -0.7492929100990295,\n",
    "#                 -0.6579148173332214,\n",
    "#                 -0.017881782725453377,\n",
    "#                 0.7950633764266968\n",
    "#             ],\n",
    "#             [\n",
    "#                 0.6220977306365967,\n",
    "#                 0.5491485595703125,\n",
    "#                 0.6419872045516968,\n",
    "#                 0.888501763343811,\n",
    "#                 1.0549503564834595\n",
    "#             ],\n",
    "#             [\n",
    "#                 0.8683240413665771,\n",
    "#                 0.9234111905097961,\n",
    "#                 1.0000368356704712,\n",
    "#                 0.9969467520713806,\n",
    "#                 1.136812448501587\n",
    "#             ]\n",
    "#         ],\n",
    "#         [\n",
    "#             [\n",
    "#                 0.634261965751648,\n",
    "#                 1.0211293697357178,\n",
    "#                 1.2018553018569946,\n",
    "#                 0.835063636302948,\n",
    "#                 0.5100634694099426\n",
    "#             ],\n",
    "#             [\n",
    "#                 0.9583927392959595,\n",
    "#                 1.5894888639450073,\n",
    "#                 1.626315712928772,\n",
    "#                 0.8179321885108948,\n",
    "#                 0.04208473861217499\n",
    "#             ],\n",
    "#             [\n",
    "#                 0.838005542755127,\n",
    "#                 1.385074257850647,\n",
    "#                 1.2361431121826172,\n",
    "#                 0.48960447311401367,\n",
    "#                 -0.1862020492553711\n",
    "#             ],\n",
    "#             [\n",
    "#                 0.48997899889945984,\n",
    "#                 0.532439649105072,\n",
    "#                 0.42277052998542786,\n",
    "#                 0.02218000218272209,\n",
    "#                 -0.2703879773616791\n",
    "#             ],\n",
    "#             [\n",
    "#                 0.20830973982810974,\n",
    "#                 0.20087939500808716,\n",
    "#                 -0.1674414426088333,\n",
    "#                 -0.4059534966945648,\n",
    "#                 -0.43384596705436707\n",
    "#             ]\n",
    "#         ],\n",
    "#         [\n",
    "#             [\n",
    "#                 0.14463837444782257,\n",
    "#                 0.2826870381832123,\n",
    "#                 0.4859692454338074,\n",
    "#                 0.6693779826164246,\n",
    "#                 0.8263519406318665\n",
    "#             ],\n",
    "#             [\n",
    "#                 -0.16339674592018127,\n",
    "#                 -0.6761521697044373,\n",
    "#                 -0.5144345164299011,\n",
    "#                 0.0394676998257637,\n",
    "#                 0.6604802012443542\n",
    "#             ],\n",
    "#             [\n",
    "#                 -0.18927893042564392,\n",
    "#                 -0.6202464699745178,\n",
    "#                 -0.489583820104599,\n",
    "#                 0.03071882389485836,\n",
    "#                 0.6210110783576965\n",
    "#             ],\n",
    "#             [\n",
    "#                 0.36295121908187866,\n",
    "#                 0.3364141881465912,\n",
    "#                 0.4114437997341156,\n",
    "#                 0.4821345806121826,\n",
    "#                 0.5898239612579346\n",
    "#             ],\n",
    "#             [\n",
    "#                 0.3745045065879822,\n",
    "#                 0.32243508100509644,\n",
    "#                 0.4578656256198883,\n",
    "#                 0.4390532076358795,\n",
    "#                 0.30396077036857605\n",
    "#             ]\n",
    "#         ],\n",
    "#         [\n",
    "#             [\n",
    "#                 0.1772255152463913,\n",
    "#                 0.3804987072944641,\n",
    "#                 0.20862016081809998,\n",
    "#                 -0.03295711427927017,\n",
    "#                 -0.32868891954421997\n",
    "#             ],\n",
    "#             [\n",
    "#                 0.27122828364372253,\n",
    "#                 1.0645517110824585,\n",
    "#                 1.0168999433517456,\n",
    "#                 0.35681775212287903,\n",
    "#                 -0.4192609488964081\n",
    "#             ],\n",
    "#             [\n",
    "#                 -0.11023537069559097,\n",
    "#                 0.7878332138061523,\n",
    "#                 0.7672415375709534,\n",
    "#                 0.0712767243385315,\n",
    "#                 -0.4805324673652649\n",
    "#             ],\n",
    "#             [\n",
    "#                 -0.5707201361656189,\n",
    "#                 -0.15228453278541565,\n",
    "#                 -0.15997862815856934,\n",
    "#                 -0.3234413266181946,\n",
    "#                 -0.3705575466156006\n",
    "#             ],\n",
    "#             [\n",
    "#                 -0.60770583152771,\n",
    "#                 -0.37013790011405945,\n",
    "#                 -0.3486829698085785,\n",
    "#                 -0.24026644229888916,\n",
    "#                 -0.18361403048038483\n",
    "#             ]\n",
    "#         ],\n",
    "#         [\n",
    "#             [\n",
    "#                 0.2609538435935974,\n",
    "#                 0.44675010442733765,\n",
    "#                 0.4808134436607361,\n",
    "#                 0.39863184094429016,\n",
    "#                 0.09795186668634415\n",
    "#             ],\n",
    "#             [\n",
    "#                 0.4525032341480255,\n",
    "#                 1.2016146183013916,\n",
    "#                 1.394208312034607,\n",
    "#                 0.6992467641830444,\n",
    "#                 -0.00408845255151391\n",
    "#             ],\n",
    "#             [\n",
    "#                 0.37615394592285156,\n",
    "#                 1.119931697845459,\n",
    "#                 1.1124470233917236,\n",
    "#                 0.6408483386039734,\n",
    "#                 0.035162851214408875\n",
    "#             ],\n",
    "#             [\n",
    "#                 -0.12270770967006683,\n",
    "#                 0.1272726058959961,\n",
    "#                 0.19384528696537018,\n",
    "#                 0.08078204095363617,\n",
    "#                 0.14981527626514435\n",
    "#             ],\n",
    "#             [\n",
    "#                 -0.33441397547721863,\n",
    "#                 -0.2530401051044464,\n",
    "#                 -0.25883185863494873,\n",
    "#                 -0.35839468240737915,\n",
    "#                 -0.2380908578634262\n",
    "#             ]\n",
    "#         ],\n",
    "#         [\n",
    "#             [\n",
    "#                 0.11693572998046875,\n",
    "#                 0.38308975100517273,\n",
    "#                 0.34887635707855225,\n",
    "#                 0.1879798322916031,\n",
    "#                 0.013866373337805271\n",
    "#             ],\n",
    "#             [\n",
    "#                 0.5933656692504883,\n",
    "#                 1.3679598569869995,\n",
    "#                 1.374388337135315,\n",
    "#                 0.6970495581626892,\n",
    "#                 0.038205597549676895\n",
    "#             ],\n",
    "#             [\n",
    "#                 0.6176865100860596,\n",
    "#                 1.3117728233337402,\n",
    "#                 1.1600968837738037,\n",
    "#                 0.5291932821273804,\n",
    "#                 -0.03781987726688385\n",
    "#             ],\n",
    "#             [\n",
    "#                 0.1043066456913948,\n",
    "#                 0.2866966724395752,\n",
    "#                 0.2664016783237457,\n",
    "#                 0.24384979903697968,\n",
    "#                 0.25544580817222595\n",
    "#             ],\n",
    "#             [\n",
    "#                 -0.3431985378265381,\n",
    "#                 -0.038906555622816086,\n",
    "#                 -0.011525491252541542,\n",
    "#                 0.06285825371742249,\n",
    "#                 0.13865375518798828\n",
    "#             ]\n",
    "#         ],\n",
    "#         [\n",
    "#             [\n",
    "#                 0.09208139777183533,\n",
    "#                 0.5173308849334717,\n",
    "#                 0.6638443470001221,\n",
    "#                 0.5164546966552734,\n",
    "#                 0.1518062949180603\n",
    "#             ],\n",
    "#             [\n",
    "#                 0.6943270564079285,\n",
    "#                 1.1397658586502075,\n",
    "#                 0.9417056441307068,\n",
    "#                 0.5847949981689453,\n",
    "#                 0.1948477178812027\n",
    "#             ],\n",
    "#             [\n",
    "#                 0.5946874618530273,\n",
    "#                 0.6712698936462402,\n",
    "#                 0.7252604961395264,\n",
    "#                 0.587800145149231,\n",
    "#                 0.3420139253139496\n",
    "#             ],\n",
    "#             [\n",
    "#                 0.2757835388183594,\n",
    "#                 0.4795048236846924,\n",
    "#                 0.3854540288448334,\n",
    "#                 0.49341946840286255,\n",
    "#                 0.27962303161621094\n",
    "#             ],\n",
    "#             [\n",
    "#                 -0.03730035945773125,\n",
    "#                 -0.11685644835233688,\n",
    "#                 -0.1995183378458023,\n",
    "#                 -0.231806218624115,\n",
    "#                 -0.22863689064979553\n",
    "#             ]\n",
    "#         ],\n",
    "#         [\n",
    "#             [\n",
    "#                 2.832526206970215,\n",
    "#                 1.8458471298217773,\n",
    "#                 0.5459241271018982,\n",
    "#                 -0.5589001774787903,\n",
    "#                 -1.1303154230117798\n",
    "#             ],\n",
    "#             [\n",
    "#                 3.617994785308838,\n",
    "#                 2.473155975341797,\n",
    "#                 0.6551885604858398,\n",
    "#                 -0.7317020893096924,\n",
    "#                 -1.2546334266662598\n",
    "#             ],\n",
    "#             [\n",
    "#                 1.2462221384048462,\n",
    "#                 0.08792697638273239,\n",
    "#                 -1.1070530414581299,\n",
    "#                 -1.8693726062774658,\n",
    "#                 -1.8307304382324219\n",
    "#             ],\n",
    "#             [\n",
    "#                 0.3378757834434509,\n",
    "#                 -0.38716575503349304,\n",
    "#                 -1.0776923894882202,\n",
    "#                 -1.3620134592056274,\n",
    "#                 -1.1910258531570435\n",
    "#             ],\n",
    "#             [\n",
    "#                 0.8019360303878784,\n",
    "#                 0.5085671544075012,\n",
    "#                 0.11869080364704132,\n",
    "#                 -0.13867305219173431,\n",
    "#                 -0.2951337397098541\n",
    "#             ]\n",
    "#         ],\n",
    "#         [\n",
    "#             [\n",
    "#                 2.285780191421509,\n",
    "#                 3.4199745655059814,\n",
    "#                 2.8320791721343994,\n",
    "#                 1.9194093942642212,\n",
    "#                 1.4142391681671143\n",
    "#             ],\n",
    "#             [\n",
    "#                 0.702529788017273,\n",
    "#                 1.4768201112747192,\n",
    "#                 1.1979552507400513,\n",
    "#                 0.8668068647384644,\n",
    "#                 1.0419598817825317\n",
    "#             ],\n",
    "#             [\n",
    "#                 0.08718109130859375,\n",
    "#                 0.4868260622024536,\n",
    "#                 0.21769656240940094,\n",
    "#                 0.12892092764377594,\n",
    "#                 0.485456258058548\n",
    "#             ],\n",
    "#             [\n",
    "#                 -0.9119054079055786,\n",
    "#                 -1.4686249494552612,\n",
    "#                 -1.8853198289871216,\n",
    "#                 -1.6070282459259033,\n",
    "#                 -0.6842339038848877\n",
    "#             ],\n",
    "#             [\n",
    "#                 -1.0155259370803833,\n",
    "#                 -1.822827696800232,\n",
    "#                 -2.4189138412475586,\n",
    "#                 -2.3076844215393066,\n",
    "#                 -1.6210685968399048\n",
    "#             ]\n",
    "#         ],\n",
    "#         [\n",
    "#             [\n",
    "#                 3.7448222637176514,\n",
    "#                 4.409781455993652,\n",
    "#                 3.0135536193847656,\n",
    "#                 1.3420772552490234,\n",
    "#                 0.4926777780056\n",
    "#             ],\n",
    "#             [\n",
    "#                 3.888321876525879,\n",
    "#                 4.113893032073975,\n",
    "#                 2.444056272506714,\n",
    "#                 0.720792829990387,\n",
    "#                 0.11367464810609818\n",
    "#             ],\n",
    "#             [\n",
    "#                 0.11916261166334152,\n",
    "#                 -0.7218382954597473,\n",
    "#                 -1.7342480421066284,\n",
    "#                 -1.8502249717712402,\n",
    "#                 -0.9131169319152832\n",
    "#             ],\n",
    "#             [\n",
    "#                 -1.0938868522644043,\n",
    "#                 -1.865311861038208,\n",
    "#                 -2.3804585933685303,\n",
    "#                 -1.9106584787368774,\n",
    "#                 -0.6840957403182983\n",
    "#             ],\n",
    "#             [\n",
    "#                 0.03132854402065277,\n",
    "#                 -0.2325250804424286,\n",
    "#                 -0.5566985011100769,\n",
    "#                 -0.44028031826019287,\n",
    "#                 -0.3954392075538635\n",
    "#             ]\n",
    "#         ],\n",
    "#         [\n",
    "#             [\n",
    "#                 0.17355678975582123,\n",
    "#                 0.3691652715206146,\n",
    "#                 0.4597315490245819,\n",
    "#                 0.24378429353237152,\n",
    "#                 0.03441888466477394\n",
    "#             ],\n",
    "#             [\n",
    "#                 0.37195470929145813,\n",
    "#                 1.1212366819381714,\n",
    "#                 1.1749916076660156,\n",
    "#                 0.5764731764793396,\n",
    "#                 -0.1804770529270172\n",
    "#             ],\n",
    "#             [\n",
    "#                 0.3034372627735138,\n",
    "#                 1.1769458055496216,\n",
    "#                 1.269781231880188,\n",
    "#                 0.6032124757766724,\n",
    "#                 -0.0399058498442173\n",
    "#             ],\n",
    "#             [\n",
    "#                 -0.29646292328834534,\n",
    "#                 0.14363889396190643,\n",
    "#                 0.17859134078025818,\n",
    "#                 0.07167815417051315,\n",
    "#                 0.08138330280780792\n",
    "#             ],\n",
    "#             [\n",
    "#                 -0.5256922841072083,\n",
    "#                 -0.29087191820144653,\n",
    "#                 -0.14208649098873138,\n",
    "#                 -0.10962246358394623,\n",
    "#                 0.1890019178390503\n",
    "#             ]\n",
    "#         ],\n",
    "#         [\n",
    "#             [\n",
    "#                 0.0646563395857811,\n",
    "#                 0.28639209270477295,\n",
    "#                 0.3408071994781494,\n",
    "#                 0.19667549431324005,\n",
    "#                 -0.028312144801020622\n",
    "#             ],\n",
    "#             [\n",
    "#                 0.4906112849712372,\n",
    "#                 1.4233384132385254,\n",
    "#                 1.4331324100494385,\n",
    "#                 0.7653583288192749,\n",
    "#                 0.01259151566773653\n",
    "#             ],\n",
    "#             [\n",
    "#                 0.5968948602676392,\n",
    "#                 1.5004724264144897,\n",
    "#                 1.4415212869644165,\n",
    "#                 0.8287730813026428,\n",
    "#                 0.2282170206308365\n",
    "#             ],\n",
    "#             [\n",
    "#                 -0.06094781309366226,\n",
    "#                 0.3595283031463623,\n",
    "#                 0.3994508683681488,\n",
    "#                 0.2717183530330658,\n",
    "#                 0.3243110477924347\n",
    "#             ],\n",
    "#             [\n",
    "#                 -0.3578152656555176,\n",
    "#                 -0.00012221632641740143,\n",
    "#                 0.03417526185512543,\n",
    "#                 0.064755879342556,\n",
    "#                 0.26406577229499817\n",
    "#             ]\n",
    "#         ],\n",
    "#         [\n",
    "#             [\n",
    "#                 0.10087347030639648,\n",
    "#                 0.41437315940856934,\n",
    "#                 0.3641204535961151,\n",
    "#                 0.2542209029197693,\n",
    "#                 0.13125932216644287\n",
    "#             ],\n",
    "#             [\n",
    "#                 0.46739837527275085,\n",
    "#                 1.1133297681808472,\n",
    "#                 1.2085071802139282,\n",
    "#                 0.6395747065544128,\n",
    "#                 -0.1422218680381775\n",
    "#             ],\n",
    "#             [\n",
    "#                 0.387254536151886,\n",
    "#                 1.3245248794555664,\n",
    "#                 1.241894245147705,\n",
    "#                 0.6867668628692627,\n",
    "#                 0.10616356879472733\n",
    "#             ],\n",
    "#             [\n",
    "#                 -0.2579864263534546,\n",
    "#                 0.15172357857227325,\n",
    "#                 0.21188659965991974,\n",
    "#                 0.03977097198367119,\n",
    "#                 0.1622062623500824\n",
    "#             ],\n",
    "#             [\n",
    "#                 -0.4853610694408417,\n",
    "#                 -0.19110877811908722,\n",
    "#                 -0.1956993043422699,\n",
    "#                 -0.021668480709195137,\n",
    "#                 0.0870407447218895\n",
    "#             ]\n",
    "#         ],\n",
    "#         [\n",
    "#             [\n",
    "#                 0.0324532575905323,\n",
    "#                 0.33808109164237976,\n",
    "#                 0.35987451672554016,\n",
    "#                 0.08852191269397736,\n",
    "#                 -0.11208543926477432\n",
    "#             ],\n",
    "#             [\n",
    "#                 0.5300487875938416,\n",
    "#                 1.4429516792297363,\n",
    "#                 1.456619381904602,\n",
    "#                 0.7450541853904724,\n",
    "#                 0.10425092279911041\n",
    "#             ],\n",
    "#             [\n",
    "#                 0.6591262221336365,\n",
    "#                 1.6143866777420044,\n",
    "#                 1.63541579246521,\n",
    "#                 0.9033617377281189,\n",
    "#                 0.26741766929626465\n",
    "#             ],\n",
    "#             [\n",
    "#                 0.042052559554576874,\n",
    "#                 0.29331544041633606,\n",
    "#                 0.3321380019187927,\n",
    "#                 0.23959830403327942,\n",
    "#                 0.3143129348754883\n",
    "#             ],\n",
    "#             [\n",
    "#                 -0.30914023518562317,\n",
    "#                 -0.03315054625272751,\n",
    "#                 0.13531138002872467,\n",
    "#                 0.06757373362779617,\n",
    "#                 0.2891596853733063\n",
    "#             ]\n",
    "#         ],\n",
    "#         [\n",
    "#             [\n",
    "#                 -0.014986667782068253,\n",
    "#                 -0.0023221676237881184,\n",
    "#                 0.04506879672408104,\n",
    "#                 -0.010595477186143398,\n",
    "#                 0.016790155321359634\n",
    "#             ],\n",
    "#             [\n",
    "#                 0.018902549520134926,\n",
    "#                 0.027165396139025688,\n",
    "#                 -0.0022671110928058624,\n",
    "#                 0.04102012515068054,\n",
    "#                 0.029597394168376923\n",
    "#             ],\n",
    "#             [\n",
    "#                 0.059812095016241074,\n",
    "#                 -0.0514831505715847,\n",
    "#                 0.0197967067360878,\n",
    "#                 -0.043070100247859955,\n",
    "#                 0.05655580013990402\n",
    "#             ],\n",
    "#             [\n",
    "#                 0.015110609121620655,\n",
    "#                 0.0029190934728831053,\n",
    "#                 0.05465828254818916,\n",
    "#                 0.05905938521027565,\n",
    "#                 -0.0117014916613698\n",
    "#             ],\n",
    "#             [\n",
    "#                 -0.022601356729865074,\n",
    "#                 0.00893819984048605,\n",
    "#                 0.04623069614171982,\n",
    "#                 0.03439392149448395,\n",
    "#                 -0.034771181643009186\n",
    "#             ]\n",
    "#         ]\n",
    "#     ]\n",
    "# ]\n",
    "# #cn5\n",
    "# weight_tensor_5x5_2_1029_36_n1_1 = [\n",
    "#     [\n",
    "#         [\n",
    "#             [\n",
    "#                 -0.8603460788726807,\n",
    "#                 -0.423874169588089,\n",
    "#                 -0.029081713408231735,\n",
    "#                 -0.2221936732530594,\n",
    "#                 -0.6617359519004822\n",
    "#             ],\n",
    "#             [\n",
    "#                 -0.5982497334480286,\n",
    "#                 -0.6836068034172058,\n",
    "#                 -0.38552677631378174,\n",
    "#                 -0.4551447927951813,\n",
    "#                 -0.2550522983074188\n",
    "#             ],\n",
    "#             [\n",
    "#                 -0.1644192785024643,\n",
    "#                 -0.4897254407405853,\n",
    "#                 -0.8289591670036316,\n",
    "#                 -0.4253323972225189,\n",
    "#                 0.11185178905725479\n",
    "#             ],\n",
    "#             [\n",
    "#                 0.06348072737455368,\n",
    "#                 0.08359432220458984,\n",
    "#                 -0.04166065901517868,\n",
    "#                 -0.08997168391942978,\n",
    "#                 -0.2560945153236389\n",
    "#             ],\n",
    "#             [\n",
    "#                 0.17789776623249054,\n",
    "#                 0.44528716802597046,\n",
    "#                 0.407613068819046,\n",
    "#                 0.07874251902103424,\n",
    "#                 -0.2510543465614319\n",
    "#             ]\n",
    "#         ],\n",
    "#         [\n",
    "#             [\n",
    "#                 -0.38862019777297974,\n",
    "#                 -0.012892129831016064,\n",
    "#                 0.42136985063552856,\n",
    "#                 0.19936569035053253,\n",
    "#                 -0.28439292311668396\n",
    "#             ],\n",
    "#             [\n",
    "#                 -0.40521541237831116,\n",
    "#                 -0.3563525676727295,\n",
    "#                 -0.07627573609352112,\n",
    "#                 -0.0806659534573555,\n",
    "#                 0.14164988696575165\n",
    "#             ],\n",
    "#             [\n",
    "#                 0.1525779664516449,\n",
    "#                 -0.18689824640750885,\n",
    "#                 -0.6740444898605347,\n",
    "#                 -0.21582907438278198,\n",
    "#                 0.24954034388065338\n",
    "#             ],\n",
    "#             [\n",
    "#                 0.3003382682800293,\n",
    "#                 0.3525746166706085,\n",
    "#                 0.1842520833015442,\n",
    "#                 0.08990520238876343,\n",
    "#                 -0.10396770387887955\n",
    "#             ],\n",
    "#             [\n",
    "#                 0.3516874313354492,\n",
    "#                 0.6708135008811951,\n",
    "#                 0.5815044641494751,\n",
    "#                 0.34899207949638367,\n",
    "#                 -0.08284951001405716\n",
    "#             ]\n",
    "#         ],\n",
    "#         [\n",
    "#             [\n",
    "#                 -0.46572956442832947,\n",
    "#                 -0.25448670983314514,\n",
    "#                 0.14729410409927368,\n",
    "#                 -0.06825171411037445,\n",
    "#                 -0.43542608618736267\n",
    "#             ],\n",
    "#             [\n",
    "#                 -0.2667042016983032,\n",
    "#                 -0.38453996181488037,\n",
    "#                 -0.18175876140594482,\n",
    "#                 -0.11864735931158066,\n",
    "#                 -0.06907806545495987\n",
    "#             ],\n",
    "#             [\n",
    "#                 0.23554691672325134,\n",
    "#                 -0.14359351992607117,\n",
    "#                 -0.5880625247955322,\n",
    "#                 -0.1625518947839737,\n",
    "#                 0.17428508400917053\n",
    "#             ],\n",
    "#             [\n",
    "#                 0.43327653408050537,\n",
    "#                 0.3984226882457733,\n",
    "#                 0.24434427917003632,\n",
    "#                 0.2205103486776352,\n",
    "#                 -0.029942665249109268\n",
    "#             ],\n",
    "#             [\n",
    "#                 0.5575965642929077,\n",
    "#                 0.7261343002319336,\n",
    "#                 0.7845841646194458,\n",
    "#                 0.43085503578186035,\n",
    "#                 0.1328296959400177\n",
    "#             ]\n",
    "#         ],\n",
    "#         [\n",
    "#             [\n",
    "#                 -0.43796706199645996,\n",
    "#                 -0.18924571573734283,\n",
    "#                 0.026689179241657257,\n",
    "#                 -0.14278165996074677,\n",
    "#                 -0.5612187385559082\n",
    "#             ],\n",
    "#             [\n",
    "#                 -0.311967670917511,\n",
    "#                 -0.43181464076042175,\n",
    "#                 -0.32027724385261536,\n",
    "#                 -0.17168210446834564,\n",
    "#                 -0.1274118721485138\n",
    "#             ],\n",
    "#             [\n",
    "#                 0.23095400631427765,\n",
    "#                 -0.1616540253162384,\n",
    "#                 -0.4832720458507538,\n",
    "#                 -0.19654454290866852,\n",
    "#                 0.19066928327083588\n",
    "#             ],\n",
    "#             [\n",
    "#                 0.43538257479667664,\n",
    "#                 0.43590930104255676,\n",
    "#                 0.2115703821182251,\n",
    "#                 0.1665887087583542,\n",
    "#                 -0.02444833144545555\n",
    "#             ],\n",
    "#             [\n",
    "#                 0.635208785533905,\n",
    "#                 0.7735463380813599,\n",
    "#                 0.7573574185371399,\n",
    "#                 0.5611680746078491,\n",
    "#                 0.20106729865074158\n",
    "#             ]\n",
    "#         ],\n",
    "#         [\n",
    "#             [\n",
    "#                 -0.3661191761493683,\n",
    "#                 0.3255859613418579,\n",
    "#                 0.6796457171440125,\n",
    "#                 -0.2573132812976837,\n",
    "#                 -0.413518488407135\n",
    "#             ],\n",
    "#             [\n",
    "#                 -0.392431378364563,\n",
    "#                 -0.2030889093875885,\n",
    "#                 0.08767646551132202,\n",
    "#                 0.056096579879522324,\n",
    "#                 0.994461715221405\n",
    "#             ],\n",
    "#             [\n",
    "#                 -0.7070635557174683,\n",
    "#                 0.5958994626998901,\n",
    "#                 0.48878762125968933,\n",
    "#                 0.9251649975776672,\n",
    "#                 0.8181940317153931\n",
    "#             ],\n",
    "#             [\n",
    "#                 0.42432212829589844,\n",
    "#                 1.1098179817199707,\n",
    "#                 0.9255273342132568,\n",
    "#                 0.8687185049057007,\n",
    "#                 0.549209713935852\n",
    "#             ],\n",
    "#             [\n",
    "#                 -0.001634835498407483,\n",
    "#                 0.18448680639266968,\n",
    "#                 0.5166983008384705,\n",
    "#                 0.7459946870803833,\n",
    "#                 1.0648781061172485\n",
    "#             ]\n",
    "#         ],\n",
    "#         [\n",
    "#             [\n",
    "#                 -0.11814174801111221,\n",
    "#                 0.33784323930740356,\n",
    "#                 0.42518100142478943,\n",
    "#                 -0.42561075091362,\n",
    "#                 -0.2365642786026001\n",
    "#             ],\n",
    "#             [\n",
    "#                 -0.8216089606285095,\n",
    "#                 -0.5761085152626038,\n",
    "#                 -0.4400891065597534,\n",
    "#                 -1.0592790842056274,\n",
    "#                 0.26836854219436646\n",
    "#             ],\n",
    "#             [\n",
    "#                 -0.8191954493522644,\n",
    "#                 0.0050812228582799435,\n",
    "#                 -0.18544676899909973,\n",
    "#                 0.32982969284057617,\n",
    "#                 0.505099356174469\n",
    "#             ],\n",
    "#             [\n",
    "#                 0.029728980734944344,\n",
    "#                 0.2144656628370285,\n",
    "#                 0.243036150932312,\n",
    "#                 0.7014127373695374,\n",
    "#                 0.46624815464019775\n",
    "#             ],\n",
    "#             [\n",
    "#                 -0.3806856870651245,\n",
    "#                 -0.33346322178840637,\n",
    "#                 0.02159394882619381,\n",
    "#                 0.32348886132240295,\n",
    "#                 0.7139335870742798\n",
    "#             ]\n",
    "#         ],\n",
    "#         [\n",
    "#             [\n",
    "#                 -1.1343244314193726,\n",
    "#                 0.01055287104099989,\n",
    "#                 0.8130692839622498,\n",
    "#                 0.6427517533302307,\n",
    "#                 -0.42551565170288086\n",
    "#             ],\n",
    "#             [\n",
    "#                 -0.2283988744020462,\n",
    "#                 0.007291092071682215,\n",
    "#                 0.49805063009262085,\n",
    "#                 0.10893335938453674,\n",
    "#                 -0.12394818663597107\n",
    "#             ],\n",
    "#             [\n",
    "#                 -0.5393967628479004,\n",
    "#                 0.4371691942214966,\n",
    "#                 1.026670217514038,\n",
    "#                 0.8140419125556946,\n",
    "#                 -0.23104877769947052\n",
    "#             ],\n",
    "#             [\n",
    "#                 0.24658435583114624,\n",
    "#                 0.8231649398803711,\n",
    "#                 0.9650595188140869,\n",
    "#                 0.31430289149284363,\n",
    "#                 -0.13605086505413055\n",
    "#             ],\n",
    "#             [\n",
    "#                 -0.039433520287275314,\n",
    "#                 0.0995258241891861,\n",
    "#                 -0.008051964454352856,\n",
    "#                 -0.9298866391181946,\n",
    "#                 -0.6976090669631958\n",
    "#             ]\n",
    "#         ],\n",
    "#         [\n",
    "#             [\n",
    "#                 -1.1400659084320068,\n",
    "#                 -0.6000243425369263,\n",
    "#                 -0.6205990314483643,\n",
    "#                 -0.43859031796455383,\n",
    "#                 -0.8011900782585144\n",
    "#             ],\n",
    "#             [\n",
    "#                 0.06424344331026077,\n",
    "#                 -0.5041204690933228,\n",
    "#                 -1.0152865648269653,\n",
    "#                 -1.0041626691818237,\n",
    "#                 -0.47009575366973877\n",
    "#             ],\n",
    "#             [\n",
    "#                 -0.6029947996139526,\n",
    "#                 -0.08566062152385712,\n",
    "#                 -0.07814648002386093,\n",
    "#                 -0.2588970363140106,\n",
    "#                 -0.5938010811805725\n",
    "#             ],\n",
    "#             [\n",
    "#                 0.20823225378990173,\n",
    "#                 0.3124937415122986,\n",
    "#                 0.3468064069747925,\n",
    "#                 -0.035064589232206345,\n",
    "#                 -0.4236306846141815\n",
    "#             ],\n",
    "#             [\n",
    "#                 0.18086636066436768,\n",
    "#                 0.009660347364842892,\n",
    "#                 -0.2407434582710266,\n",
    "#                 -1.136671543121338,\n",
    "#                 -1.0355119705200195\n",
    "#             ]\n",
    "#         ],\n",
    "#         [\n",
    "#             [\n",
    "#                 -1.1734014749526978,\n",
    "#                 -0.06575137376785278,\n",
    "#                 -0.9593964219093323,\n",
    "#                 -1.5136959552764893,\n",
    "#                 0.04308313876390457\n",
    "#             ],\n",
    "#             [\n",
    "#                 -2.367919921875,\n",
    "#                 -0.5100577473640442,\n",
    "#                 -0.7547577023506165,\n",
    "#                 -0.7045568227767944,\n",
    "#                 0.05145064368844032\n",
    "#             ],\n",
    "#             [\n",
    "#                 -1.1229925155639648,\n",
    "#                 -1.1127902269363403,\n",
    "#                 -0.28680238127708435,\n",
    "#                 0.7667959928512573,\n",
    "#                 0.3213256001472473\n",
    "#             ],\n",
    "#             [\n",
    "#                 -0.2955966293811798,\n",
    "#                 -0.407335489988327,\n",
    "#                 0.3154751658439636,\n",
    "#                 0.21819977462291718,\n",
    "#                 0.3071973919868469\n",
    "#             ],\n",
    "#             [\n",
    "#                 -0.41101640462875366,\n",
    "#                 -0.541551411151886,\n",
    "#                 -0.5237569808959961,\n",
    "#                 -0.12013022601604462,\n",
    "#                 0.5436800718307495\n",
    "#             ]\n",
    "#         ],\n",
    "#         [\n",
    "#             [\n",
    "#                 0.5486598610877991,\n",
    "#                 -0.3187892436981201,\n",
    "#                 -0.8545776009559631,\n",
    "#                 -1.5090677738189697,\n",
    "#                 -0.6221761107444763\n",
    "#             ],\n",
    "#             [\n",
    "#                 0.9153211116790771,\n",
    "#                 -1.4939677715301514,\n",
    "#                 -3.722576379776001,\n",
    "#                 -1.7660675048828125,\n",
    "#                 0.4292287826538086\n",
    "#             ],\n",
    "#             [\n",
    "#                 -0.9266419410705566,\n",
    "#                 -0.13105805218219757,\n",
    "#                 0.019606439396739006,\n",
    "#                 -0.8778401017189026,\n",
    "#                 -1.6144376993179321\n",
    "#             ],\n",
    "#             [\n",
    "#                 -0.7111376523971558,\n",
    "#                 0.02839292585849762,\n",
    "#                 0.26582100987434387,\n",
    "#                 -0.05181293562054634,\n",
    "#                 -0.6521850824356079\n",
    "#             ],\n",
    "#             [\n",
    "#                 -0.8805487751960754,\n",
    "#                 -0.3381476402282715,\n",
    "#                 -0.20665687322616577,\n",
    "#                 -0.742379367351532,\n",
    "#                 -0.5384916663169861\n",
    "#             ]\n",
    "#         ],\n",
    "#         [\n",
    "#             [\n",
    "#                 -0.6718716621398926,\n",
    "#                 -0.33285441994667053,\n",
    "#                 -0.39891448616981506,\n",
    "#                 -1.070319652557373,\n",
    "#                 0.5611535906791687\n",
    "#             ],\n",
    "#             [\n",
    "#                 -0.9004994630813599,\n",
    "#                 -1.7707046270370483,\n",
    "#                 -2.4097025394439697,\n",
    "#                 -0.9204563498497009,\n",
    "#                 1.0424691438674927\n",
    "#             ],\n",
    "#             [\n",
    "#                 -2.89825177192688,\n",
    "#                 -1.6091879606246948,\n",
    "#                 0.43505072593688965,\n",
    "#                 0.8661983013153076,\n",
    "#                 -0.47575101256370544\n",
    "#             ],\n",
    "#             [\n",
    "#                 -1.9637510776519775,\n",
    "#                 -1.25832200050354,\n",
    "#                 -0.28151944279670715,\n",
    "#                 0.3469725251197815,\n",
    "#                 0.25739091634750366\n",
    "#             ],\n",
    "#             [\n",
    "#                 -2.157931327819824,\n",
    "#                 -1.1477185487747192,\n",
    "#                 -0.23930278420448303,\n",
    "#                 0.05601436272263527,\n",
    "#                 0.22255733609199524\n",
    "#             ]\n",
    "#         ],\n",
    "#         [\n",
    "#             [\n",
    "#                 0.8444618582725525,\n",
    "#                 0.774640679359436,\n",
    "#                 1.332489013671875,\n",
    "#                 0.7702009677886963,\n",
    "#                 0.0008011345635168254\n",
    "#             ],\n",
    "#             [\n",
    "#                 0.6651563048362732,\n",
    "#                 -0.11604016274213791,\n",
    "#                 -0.5350545048713684,\n",
    "#                 -0.2354280948638916,\n",
    "#                 0.639365553855896\n",
    "#             ],\n",
    "#             [\n",
    "#                 -1.0300555229187012,\n",
    "#                 -0.5458046197891235,\n",
    "#                 -0.6623947024345398,\n",
    "#                 -0.9153116345405579,\n",
    "#                 -1.2746011018753052\n",
    "#             ],\n",
    "#             [\n",
    "#                 -1.0342144966125488,\n",
    "#                 -0.2899327278137207,\n",
    "#                 -0.49230054020881653,\n",
    "#                 -0.8828529119491577,\n",
    "#                 -1.2998794317245483\n",
    "#             ],\n",
    "#             [\n",
    "#                 -0.9718590378761292,\n",
    "#                 -1.0928086042404175,\n",
    "#                 -0.6746837496757507,\n",
    "#                 -1.606044054031372,\n",
    "#                 -2.14593768119812\n",
    "#             ]\n",
    "#         ],\n",
    "#         [\n",
    "#             [\n",
    "#                 -0.642409086227417,\n",
    "#                 0.43588313460350037,\n",
    "#                 -0.5567374229431152,\n",
    "#                 -1.7509510517120361,\n",
    "#                 -0.6624229550361633\n",
    "#             ],\n",
    "#             [\n",
    "#                 -1.9801150560379028,\n",
    "#                 -0.539858341217041,\n",
    "#                 -0.13327759504318237,\n",
    "#                 -0.9552690386772156,\n",
    "#                 -1.043607234954834\n",
    "#             ],\n",
    "#             [\n",
    "#                 -0.7444532513618469,\n",
    "#                 -1.0363224744796753,\n",
    "#                 -0.3053690493106842,\n",
    "#                 -0.15564215183258057,\n",
    "#                 -0.6149963140487671\n",
    "#             ],\n",
    "#             [\n",
    "#                 0.5664886236190796,\n",
    "#                 0.02590225823223591,\n",
    "#                 -0.11233802139759064,\n",
    "#                 -0.8289517164230347,\n",
    "#                 -0.5176640152931213\n",
    "#             ],\n",
    "#             [\n",
    "#                 -0.07831000536680222,\n",
    "#                 -0.6478287577629089,\n",
    "#                 -0.9191336035728455,\n",
    "#                 -1.1292724609375,\n",
    "#                 -0.384535014629364\n",
    "#             ]\n",
    "#         ],\n",
    "#         [\n",
    "#             [\n",
    "#                 0.4139941930770874,\n",
    "#                 -0.9958638548851013,\n",
    "#                 -1.5836775302886963,\n",
    "#                 -1.420240879058838,\n",
    "#                 -0.37829628586769104\n",
    "#             ],\n",
    "#             [\n",
    "#                 0.6633462309837341,\n",
    "#                 -0.9159216284751892,\n",
    "#                 -2.019021511077881,\n",
    "#                 -0.6350229978561401,\n",
    "#                 0.9016080498695374\n",
    "#             ],\n",
    "#             [\n",
    "#                 -0.5131515264511108,\n",
    "#                 -0.45483264327049255,\n",
    "#                 -0.5447479486465454,\n",
    "#                 -0.4200659990310669,\n",
    "#                 -0.45829907059669495\n",
    "#             ],\n",
    "#             [\n",
    "#                 -0.8605825304985046,\n",
    "#                 -0.13442279398441315,\n",
    "#                 0.16701723635196686,\n",
    "#                 -0.4206475615501404,\n",
    "#                 -0.8115442395210266\n",
    "#             ],\n",
    "#             [\n",
    "#                 -0.6592025756835938,\n",
    "#                 -0.3203737437725067,\n",
    "#                 -0.401763916015625,\n",
    "#                 -0.480852872133255,\n",
    "#                 -0.02368752285838127\n",
    "#             ]\n",
    "#         ],\n",
    "#         [\n",
    "#             [\n",
    "#                 -1.3729193210601807,\n",
    "#                 0.022054556757211685,\n",
    "#                 -0.5974655151367188,\n",
    "#                 -1.622650384902954,\n",
    "#                 -1.1410259008407593\n",
    "#             ],\n",
    "#             [\n",
    "#                 -1.6869622468948364,\n",
    "#                 -0.5984134078025818,\n",
    "#                 -0.29686570167541504,\n",
    "#                 -0.9934587478637695,\n",
    "#                 -1.1179678440093994\n",
    "#             ],\n",
    "#             [\n",
    "#                 -0.9950298070907593,\n",
    "#                 -0.6010776162147522,\n",
    "#                 -0.14788761734962463,\n",
    "#                 -0.6256551146507263,\n",
    "#                 -0.8272032141685486\n",
    "#             ],\n",
    "#             [\n",
    "#                 0.11559605598449707,\n",
    "#                 -0.11065948009490967,\n",
    "#                 -0.3514042794704437,\n",
    "#                 -0.8323421478271484,\n",
    "#                 -0.5346453785896301\n",
    "#             ],\n",
    "#             [\n",
    "#                 -0.08334790170192719,\n",
    "#                 -0.7452943325042725,\n",
    "#                 -1.138150691986084,\n",
    "#                 -1.3446615934371948,\n",
    "#                 -0.498251348733902\n",
    "#             ]\n",
    "#         ],\n",
    "#         [\n",
    "#             [\n",
    "#                 0.6872139573097229,\n",
    "#                 -0.736359179019928,\n",
    "#                 -1.5453578233718872,\n",
    "#                 -1.3051185607910156,\n",
    "#                 -0.5763038396835327\n",
    "#             ],\n",
    "#             [\n",
    "#                 0.8453662395477295,\n",
    "#                 -0.5409483313560486,\n",
    "#                 -1.2447258234024048,\n",
    "#                 -0.5504496097564697,\n",
    "#                 0.22351999580860138\n",
    "#             ],\n",
    "#             [\n",
    "#                 -0.8466691374778748,\n",
    "#                 -0.5626639127731323,\n",
    "#                 -0.34731152653694153,\n",
    "#                 -0.5451707243919373,\n",
    "#                 -0.5699337720870972\n",
    "#             ],\n",
    "#             [\n",
    "#                 -1.05558180809021,\n",
    "#                 -0.30115437507629395,\n",
    "#                 -0.2365611493587494,\n",
    "#                 -0.729913055896759,\n",
    "#                 -0.9530494213104248\n",
    "#             ],\n",
    "#             [\n",
    "#                 -0.6946048140525818,\n",
    "#                 -0.3937615752220154,\n",
    "#                 -0.6843099594116211,\n",
    "#                 -0.5325358510017395,\n",
    "#                 -0.08868693560361862\n",
    "#             ]\n",
    "#         ],\n",
    "#         [\n",
    "#             [\n",
    "#                 0.6581882834434509,\n",
    "#                 0.14795728027820587,\n",
    "#                 -0.4277209937572479,\n",
    "#                 0.04145241156220436,\n",
    "#                 0.4231608808040619\n",
    "#             ],\n",
    "#             [\n",
    "#                 0.674640417098999,\n",
    "#                 -0.20671415328979492,\n",
    "#                 -1.0965882539749146,\n",
    "#                 0.21094653010368347,\n",
    "#                 -0.06536225229501724\n",
    "#             ],\n",
    "#             [\n",
    "#                 -1.4905034303665161,\n",
    "#                 -1.5639779567718506,\n",
    "#                 0.5550280809402466,\n",
    "#                 0.24139569699764252,\n",
    "#                 -0.3845389187335968\n",
    "#             ],\n",
    "#             [\n",
    "#                 -0.4122503399848938,\n",
    "#                 0.11255038529634476,\n",
    "#                 0.30261996388435364,\n",
    "#                 0.6258079409599304,\n",
    "#                 1.0032960176467896\n",
    "#             ],\n",
    "#             [\n",
    "#                 0.21444770693778992,\n",
    "#                 -0.29533010721206665,\n",
    "#                 -0.864575982093811,\n",
    "#                 -0.6976346969604492,\n",
    "#                 0.3302959203720093\n",
    "#             ]\n",
    "#         ],\n",
    "#         [\n",
    "#             [\n",
    "#                 -0.05527883023023605,\n",
    "#                 -1.2130564451217651,\n",
    "#                 -1.7269614934921265,\n",
    "#                 -0.2798537015914917,\n",
    "#                 0.2569091320037842\n",
    "#             ],\n",
    "#             [\n",
    "#                 0.5188558101654053,\n",
    "#                 -1.000346064567566,\n",
    "#                 -1.2789623737335205,\n",
    "#                 0.3422856330871582,\n",
    "#                 -0.3093221187591553\n",
    "#             ],\n",
    "#             [\n",
    "#                 -1.275792121887207,\n",
    "#                 -1.0538448095321655,\n",
    "#                 2.144904851913452,\n",
    "#                 1.539262056350708,\n",
    "#                 -0.12365645915269852\n",
    "#             ],\n",
    "#             [\n",
    "#                 -0.5248492360115051,\n",
    "#                 -0.6759781837463379,\n",
    "#                 0.2199626863002777,\n",
    "#                 1.196800947189331,\n",
    "#                 1.468835711479187\n",
    "#             ],\n",
    "#             [\n",
    "#                 0.7078437209129333,\n",
    "#                 -0.5059127807617188,\n",
    "#                 -1.1178034543991089,\n",
    "#                 -0.022037575021386147,\n",
    "#                 0.8631730079650879\n",
    "#             ]\n",
    "#         ],\n",
    "#         [\n",
    "#             [\n",
    "#                 -0.46726563572883606,\n",
    "#                 -0.2084740847349167,\n",
    "#                 0.08816192299127579,\n",
    "#                 -0.06786324828863144,\n",
    "#                 -0.3614870011806488\n",
    "#             ],\n",
    "#             [\n",
    "#                 -0.3214070796966553,\n",
    "#                 -0.3158607482910156,\n",
    "#                 -0.27201414108276367,\n",
    "#                 -0.16818629205226898,\n",
    "#                 0.012895042076706886\n",
    "#             ],\n",
    "#             [\n",
    "#                 0.13662803173065186,\n",
    "#                 -0.14212381839752197,\n",
    "#                 -0.41567954421043396,\n",
    "#                 -0.24025186896324158,\n",
    "#                 0.14565786719322205\n",
    "#             ],\n",
    "#             [\n",
    "#                 0.4677254557609558,\n",
    "#                 0.3459089398384094,\n",
    "#                 0.30022409558296204,\n",
    "#                 0.07599430531263351,\n",
    "#                 0.024273056536912918\n",
    "#             ],\n",
    "#             [\n",
    "#                 0.5577884316444397,\n",
    "#                 0.7838765382766724,\n",
    "#                 0.6622908115386963,\n",
    "#                 0.46908754110336304,\n",
    "#                 0.12666912376880646\n",
    "#             ]\n",
    "#         ],\n",
    "#         [\n",
    "#             [\n",
    "#                 -0.2986854612827301,\n",
    "#                 -0.16221286356449127,\n",
    "#                 -0.020135197788476944,\n",
    "#                 -0.1557971090078354,\n",
    "#                 -0.36828142404556274\n",
    "#             ],\n",
    "#             [\n",
    "#                 -0.23331071436405182,\n",
    "#                 -0.2304331213235855,\n",
    "#                 -0.22084717452526093,\n",
    "#                 -0.2180454432964325,\n",
    "#                 -0.11041702330112457\n",
    "#             ],\n",
    "#             [\n",
    "#                 0.14312133193016052,\n",
    "#                 -0.03602132201194763,\n",
    "#                 -0.12943124771118164,\n",
    "#                 -0.06113435700535774,\n",
    "#                 -0.009232062846422195\n",
    "#             ],\n",
    "#             [\n",
    "#                 0.3489781618118286,\n",
    "#                 0.21659323573112488,\n",
    "#                 0.2321421355009079,\n",
    "#                 0.1427641063928604,\n",
    "#                 0.03760221600532532\n",
    "#             ],\n",
    "#             [\n",
    "#                 0.6071234345436096,\n",
    "#                 0.6548677682876587,\n",
    "#                 0.6524539589881897,\n",
    "#                 0.4713488221168518,\n",
    "#                 0.13319288194179535\n",
    "#             ]\n",
    "#         ],\n",
    "#         [\n",
    "#             [\n",
    "#                 -0.5072324872016907,\n",
    "#                 -0.19979804754257202,\n",
    "#                 0.03285319730639458,\n",
    "#                 -0.0479946993291378,\n",
    "#                 -0.47697457671165466\n",
    "#             ],\n",
    "#             [\n",
    "#                 -0.31166261434555054,\n",
    "#                 -0.3005269765853882,\n",
    "#                 -0.31381624937057495,\n",
    "#                 -0.17651833593845367,\n",
    "#                 -0.09179475903511047\n",
    "#             ],\n",
    "#             [\n",
    "#                 0.1492941975593567,\n",
    "#                 -0.20518329739570618,\n",
    "#                 -0.3760471045970917,\n",
    "#                 -0.1444874256849289,\n",
    "#                 0.13317753374576569\n",
    "#             ],\n",
    "#             [\n",
    "#                 0.3743060827255249,\n",
    "#                 0.32387515902519226,\n",
    "#                 0.2129671275615692,\n",
    "#                 0.0808553546667099,\n",
    "#                 0.02931685745716095\n",
    "#             ],\n",
    "#             [\n",
    "#                 0.5294952392578125,\n",
    "#                 0.802463948726654,\n",
    "#                 0.7078760862350464,\n",
    "#                 0.387190580368042,\n",
    "#                 0.06961771845817566\n",
    "#             ]\n",
    "#         ],\n",
    "#         [\n",
    "#             [\n",
    "#                 -0.49172672629356384,\n",
    "#                 -0.2339889109134674,\n",
    "#                 -0.06940025836229324,\n",
    "#                 -0.14975763857364655,\n",
    "#                 -0.4636707603931427\n",
    "#             ],\n",
    "#             [\n",
    "#                 -0.20597480237483978,\n",
    "#                 -0.28006500005722046,\n",
    "#                 -0.2305414080619812,\n",
    "#                 -0.1992536038160324,\n",
    "#                 -0.044987596571445465\n",
    "#             ],\n",
    "#             [\n",
    "#                 0.11496172100305557,\n",
    "#                 -0.20189906656742096,\n",
    "#                 -0.24226385354995728,\n",
    "#                 -0.16706770658493042,\n",
    "#                 0.06122709810733795\n",
    "#             ],\n",
    "#             [\n",
    "#                 0.4618213176727295,\n",
    "#                 0.364499568939209,\n",
    "#                 0.310960590839386,\n",
    "#                 0.07732239365577698,\n",
    "#                 0.07348386198282242\n",
    "#             ],\n",
    "#             [\n",
    "#                 0.5856664776802063,\n",
    "#                 0.7535746097564697,\n",
    "#                 0.720249354839325,\n",
    "#                 0.36734992265701294,\n",
    "#                 0.09894408285617828\n",
    "#             ]\n",
    "#         ],\n",
    "#         [\n",
    "#             [\n",
    "#                 -0.564960777759552,\n",
    "#                 -0.2607555389404297,\n",
    "#                 0.16891121864318848,\n",
    "#                 -0.0728902667760849,\n",
    "#                 -0.4719838798046112\n",
    "#             ],\n",
    "#             [\n",
    "#                 -0.33811676502227783,\n",
    "#                 -0.2844150960445404,\n",
    "#                 -0.15326981246471405,\n",
    "#                 -0.16080015897750854,\n",
    "#                 0.03241097927093506\n",
    "#             ],\n",
    "#             [\n",
    "#                 0.21745061874389648,\n",
    "#                 -0.11020084470510483,\n",
    "#                 -0.450558066368103,\n",
    "#                 -0.2617647349834442,\n",
    "#                 0.2075609564781189\n",
    "#             ],\n",
    "#             [\n",
    "#                 0.36381345987319946,\n",
    "#                 0.40071043372154236,\n",
    "#                 0.24645759165287018,\n",
    "#                 0.1385367512702942,\n",
    "#                 -0.07736115902662277\n",
    "#             ],\n",
    "#             [\n",
    "#                 0.5200985074043274,\n",
    "#                 0.7932417392730713,\n",
    "#                 0.6613604426383972,\n",
    "#                 0.3892512917518616,\n",
    "#                 0.01627621427178383\n",
    "#             ]\n",
    "#         ],\n",
    "#         [\n",
    "#             [\n",
    "#                 -0.49664735794067383,\n",
    "#                 -0.2310972958803177,\n",
    "#                 0.10255196690559387,\n",
    "#                 -0.032607436180114746,\n",
    "#                 -0.376376748085022\n",
    "#             ],\n",
    "#             [\n",
    "#                 -0.25543448328971863,\n",
    "#                 -0.2639484107494354,\n",
    "#                 -0.23848047852516174,\n",
    "#                 -0.08858530223369598,\n",
    "#                 0.02927929349243641\n",
    "#             ],\n",
    "#             [\n",
    "#                 0.17262929677963257,\n",
    "#                 -0.2197859287261963,\n",
    "#                 -0.38184112310409546,\n",
    "#                 -0.21199923753738403,\n",
    "#                 0.06321841478347778\n",
    "#             ],\n",
    "#             [\n",
    "#                 0.40703967213630676,\n",
    "#                 0.3667438328266144,\n",
    "#                 0.18959903717041016,\n",
    "#                 0.14337708055973053,\n",
    "#                 -0.08180058747529984\n",
    "#             ],\n",
    "#             [\n",
    "#                 0.6385070085525513,\n",
    "#                 0.7403161525726318,\n",
    "#                 0.7478627562522888,\n",
    "#                 0.4610353112220764,\n",
    "#                 0.08904766291379929\n",
    "#             ]\n",
    "#         ],\n",
    "#         [\n",
    "#             [\n",
    "#                 0.2855694591999054,\n",
    "#                 0.1793813854455948,\n",
    "#                 -0.32087793946266174,\n",
    "#                 0.288019061088562,\n",
    "#                 -0.16859005391597748\n",
    "#             ],\n",
    "#             [\n",
    "#                 -0.27300357818603516,\n",
    "#                 -0.2738789916038513,\n",
    "#                 0.47240349650382996,\n",
    "#                 1.17060387134552,\n",
    "#                 0.8352733850479126\n",
    "#             ],\n",
    "#             [\n",
    "#                 -0.11441740393638611,\n",
    "#                 -0.5318244099617004,\n",
    "#                 0.9044154286384583,\n",
    "#                 1.3599945306777954,\n",
    "#                 1.757122278213501\n",
    "#             ],\n",
    "#             [\n",
    "#                 -0.01907654106616974,\n",
    "#                 -0.10531516373157501,\n",
    "#                 0.9972067475318909,\n",
    "#                 1.133223533630371,\n",
    "#                 1.4393819570541382\n",
    "#             ],\n",
    "#             [\n",
    "#                 0.032318245619535446,\n",
    "#                 0.3637712895870209,\n",
    "#                 0.16234183311462402,\n",
    "#                 0.8999797701835632,\n",
    "#                 1.1361949443817139\n",
    "#             ]\n",
    "#         ],\n",
    "#         [\n",
    "#             [\n",
    "#                 0.30843156576156616,\n",
    "#                 0.2701525092124939,\n",
    "#                 -0.41672831773757935,\n",
    "#                 0.18166875839233398,\n",
    "#                 -0.6787223815917969\n",
    "#             ],\n",
    "#             [\n",
    "#                 -0.1884436309337616,\n",
    "#                 -0.1005665510892868,\n",
    "#                 0.03712061792612076,\n",
    "#                 0.7481916546821594,\n",
    "#                 0.3753165006637573\n",
    "#             ],\n",
    "#             [\n",
    "#                 -0.3943115174770355,\n",
    "#                 -1.061301350593567,\n",
    "#                 0.48469287157058716,\n",
    "#                 0.9621821641921997,\n",
    "#                 1.0205200910568237\n",
    "#             ],\n",
    "#             [\n",
    "#                 -0.9029441475868225,\n",
    "#                 -0.6139138340950012,\n",
    "#                 0.6766447424888611,\n",
    "#                 0.4205043315887451,\n",
    "#                 0.35135576128959656\n",
    "#             ],\n",
    "#             [\n",
    "#                 -0.1043906956911087,\n",
    "#                 -0.18690374493598938,\n",
    "#                 -0.11998309940099716,\n",
    "#                 0.4398339092731476,\n",
    "#                 0.49302518367767334\n",
    "#             ]\n",
    "#         ],\n",
    "#         [\n",
    "#             [\n",
    "#                 0.5830232501029968,\n",
    "#                 0.057965055108070374,\n",
    "#                 -0.449657142162323,\n",
    "#                 0.8626065850257874,\n",
    "#                 0.782681941986084\n",
    "#             ],\n",
    "#             [\n",
    "#                 -0.025745319202542305,\n",
    "#                 -0.20079541206359863,\n",
    "#                 -0.36500284075737,\n",
    "#                 1.3160947561264038,\n",
    "#                 1.319190502166748\n",
    "#             ],\n",
    "#             [\n",
    "#                 -0.39161860942840576,\n",
    "#                 -0.5111351013183594,\n",
    "#                 0.829067587852478,\n",
    "#                 1.677552342414856,\n",
    "#                 1.0887329578399658\n",
    "#             ],\n",
    "#             [\n",
    "#                 -0.48086169362068176,\n",
    "#                 -0.9566205739974976,\n",
    "#                 0.0745081976056099,\n",
    "#                 1.7974098920822144,\n",
    "#                 2.1340086460113525\n",
    "#             ],\n",
    "#             [\n",
    "#                 0.1881900280714035,\n",
    "#                 0.38713040947914124,\n",
    "#                 0.9206420183181763,\n",
    "#                 1.6112209558486938,\n",
    "#                 1.7964967489242554\n",
    "#             ]\n",
    "#         ],\n",
    "#         [\n",
    "#             [\n",
    "#                 -0.7043336033821106,\n",
    "#                 -0.06070533022284508,\n",
    "#                 0.28258898854255676,\n",
    "#                 -0.0361444428563118,\n",
    "#                 -0.7617326974868774\n",
    "#             ],\n",
    "#             [\n",
    "#                 -0.425554096698761,\n",
    "#                 -0.20094045996665955,\n",
    "#                 -0.044425878673791885,\n",
    "#                 -0.2646588981151581,\n",
    "#                 -0.09798474609851837\n",
    "#             ],\n",
    "#             [\n",
    "#                 0.31345227360725403,\n",
    "#                 0.02921932376921177,\n",
    "#                 -0.3217596411705017,\n",
    "#                 -0.012234487570822239,\n",
    "#                 0.36217087507247925\n",
    "#             ],\n",
    "#             [\n",
    "#                 0.4904506802558899,\n",
    "#                 0.5831682682037354,\n",
    "#                 0.5497006773948669,\n",
    "#                 0.32299768924713135,\n",
    "#                 0.1327362060546875\n",
    "#             ],\n",
    "#             [\n",
    "#                 0.6255810260772705,\n",
    "#                 0.9335845112800598,\n",
    "#                 0.9061833620071411,\n",
    "#                 0.4574410319328308,\n",
    "#                 -0.024780193343758583\n",
    "#             ]\n",
    "#         ],\n",
    "#         [\n",
    "#             [\n",
    "#                 -0.3259499967098236,\n",
    "#                 -0.2947494685649872,\n",
    "#                 -0.22983862459659576,\n",
    "#                 -0.43372055888175964,\n",
    "#                 -0.5685923099517822\n",
    "#             ],\n",
    "#             [\n",
    "#                 -0.2677736282348633,\n",
    "#                 -0.3517720699310303,\n",
    "#                 -0.37644049525260925,\n",
    "#                 -0.2988637685775757,\n",
    "#                 -0.22133493423461914\n",
    "#             ],\n",
    "#             [\n",
    "#                 0.16393117606639862,\n",
    "#                 -0.18411408364772797,\n",
    "#                 -0.4284181594848633,\n",
    "#                 -0.19480086863040924,\n",
    "#                 -0.023610547184944153\n",
    "#             ],\n",
    "#             [\n",
    "#                 0.40724077820777893,\n",
    "#                 0.26597413420677185,\n",
    "#                 0.15319599211215973,\n",
    "#                 0.03987452760338783,\n",
    "#                 -0.09415683895349503\n",
    "#             ],\n",
    "#             [\n",
    "#                 0.5738635063171387,\n",
    "#                 0.6851974129676819,\n",
    "#                 0.6739206314086914,\n",
    "#                 0.5069652795791626,\n",
    "#                 0.30829739570617676\n",
    "#             ]\n",
    "#         ],\n",
    "#         [\n",
    "#             [\n",
    "#                 -0.04248625785112381,\n",
    "#                 0.46980053186416626,\n",
    "#                 0.9088616967201233,\n",
    "#                 0.685634970664978,\n",
    "#                 0.4205276370048523\n",
    "#             ],\n",
    "#             [\n",
    "#                 0.07317911833524704,\n",
    "#                 0.2166987657546997,\n",
    "#                 0.3770582377910614,\n",
    "#                 0.29300761222839355,\n",
    "#                 0.42572280764579773\n",
    "#             ],\n",
    "#             [\n",
    "#                 0.3130801320075989,\n",
    "#                 0.15057942271232605,\n",
    "#                 -0.09675727039575577,\n",
    "#                 0.13666093349456787,\n",
    "#                 0.48379865288734436\n",
    "#             ],\n",
    "#             [\n",
    "#                 0.3106667995452881,\n",
    "#                 0.3961388170719147,\n",
    "#                 0.43013450503349304,\n",
    "#                 0.19237755239009857,\n",
    "#                 0.06658501923084259\n",
    "#             ],\n",
    "#             [\n",
    "#                 0.2772899270057678,\n",
    "#                 0.48526531457901,\n",
    "#                 0.411262184381485,\n",
    "#                 0.003728678682819009,\n",
    "#                 -0.2939719259738922\n",
    "#             ]\n",
    "#         ],\n",
    "#         [\n",
    "#             [\n",
    "#                 0.023490440100431442,\n",
    "#                 -0.664275586605072,\n",
    "#                 -1.2212318181991577,\n",
    "#                 -0.985292375087738,\n",
    "#                 -0.5889886021614075\n",
    "#             ],\n",
    "#             [\n",
    "#                 -0.04887573421001434,\n",
    "#                 -0.368938148021698,\n",
    "#                 -0.6100947856903076,\n",
    "#                 -0.6189011335372925,\n",
    "#                 -0.6978039741516113\n",
    "#             ],\n",
    "#             [\n",
    "#                 -0.2996469736099243,\n",
    "#                 -0.3695376515388489,\n",
    "#                 -0.1197199821472168,\n",
    "#                 -0.3455348610877991,\n",
    "#                 -0.6575702428817749\n",
    "#             ],\n",
    "#             [\n",
    "#                 -0.22814393043518066,\n",
    "#                 -0.44206929206848145,\n",
    "#                 -0.44299203157424927,\n",
    "#                 -0.27888670563697815,\n",
    "#                 -0.09837803989648819\n",
    "#             ],\n",
    "#             [\n",
    "#                 0.0506308414041996,\n",
    "#                 -0.2849098742008209,\n",
    "#                 -0.33157575130462646,\n",
    "#                 0.08154002577066422,\n",
    "#                 0.3832468092441559\n",
    "#             ]\n",
    "#         ],\n",
    "#         [\n",
    "#             [\n",
    "#                 -0.7061192393302917,\n",
    "#                 -0.33453086018562317,\n",
    "#                 0.02231876738369465,\n",
    "#                 -0.653513491153717,\n",
    "#                 -1.4235527515411377\n",
    "#             ],\n",
    "#             [\n",
    "#                 -0.6013608574867249,\n",
    "#                 -0.3055369555950165,\n",
    "#                 -0.2933013141155243,\n",
    "#                 -0.7735480070114136,\n",
    "#                 -0.8710417747497559\n",
    "#             ],\n",
    "#             [\n",
    "#                 0.13444972038269043,\n",
    "#                 0.1415107250213623,\n",
    "#                 -0.2204774171113968,\n",
    "#                 -0.21347159147262573,\n",
    "#                 -0.09482808411121368\n",
    "#             ],\n",
    "#             [\n",
    "#                 0.5129016637802124,\n",
    "#                 0.5867538452148438,\n",
    "#                 0.33813098073005676,\n",
    "#                 0.15612132847309113,\n",
    "#                 -0.19322523474693298\n",
    "#             ],\n",
    "#             [\n",
    "#                 0.4654700756072998,\n",
    "#                 0.5315252542495728,\n",
    "#                 0.4665689170360565,\n",
    "#                 0.016681168228387833,\n",
    "#                 -0.5487844944000244\n",
    "#             ]\n",
    "#         ],\n",
    "#         [\n",
    "#             [\n",
    "#                 0.40089091658592224,\n",
    "#                 -0.04387857764959335,\n",
    "#                 -0.39717912673950195,\n",
    "#                 -0.09516637772321701,\n",
    "#                 0.21992261707782745\n",
    "#             ],\n",
    "#             [\n",
    "#                 0.19528284668922424,\n",
    "#                 -0.007270128931850195,\n",
    "#                 -0.21437177062034607,\n",
    "#                 -0.18769299983978271,\n",
    "#                 -0.309081494808197\n",
    "#             ],\n",
    "#             [\n",
    "#                 -0.1457241326570511,\n",
    "#                 -0.11031164973974228,\n",
    "#                 0.11674217134714127,\n",
    "#                 -0.08059702813625336,\n",
    "#                 -0.3875328302383423\n",
    "#             ],\n",
    "#             [\n",
    "#                 -0.15972544252872467,\n",
    "#                 -0.2573610246181488,\n",
    "#                 -0.3181180953979492,\n",
    "#                 -0.14609204232692719,\n",
    "#                 0.1214912086725235\n",
    "#             ],\n",
    "#             [\n",
    "#                 -0.013546766713261604,\n",
    "#                 -0.2094718962907791,\n",
    "#                 -0.3931073844432831,\n",
    "#                 -0.0327584408223629,\n",
    "#                 0.3077077567577362\n",
    "#             ]\n",
    "#         ],\n",
    "#         [\n",
    "#             [\n",
    "#                 -0.29436761140823364,\n",
    "#                 0.1683264970779419,\n",
    "#                 0.4835479259490967,\n",
    "#                 0.3269403576850891,\n",
    "#                 -0.3107125461101532\n",
    "#             ],\n",
    "#             [\n",
    "#                 -0.27722784876823425,\n",
    "#                 -0.2939396798610687,\n",
    "#                 -0.1407260000705719,\n",
    "#                 -0.10192348808050156,\n",
    "#                 0.07728332281112671\n",
    "#             ],\n",
    "#             [\n",
    "#                 0.5154899954795837,\n",
    "#                 0.23095154762268066,\n",
    "#                 -0.06171996518969536,\n",
    "#                 0.21408922970294952,\n",
    "#                 0.6905739903450012\n",
    "#             ],\n",
    "#             [\n",
    "#                 0.8385360240936279,\n",
    "#                 0.994044303894043,\n",
    "#                 0.6825807690620422,\n",
    "#                 0.49330127239227295,\n",
    "#                 0.40849095582962036\n",
    "#             ],\n",
    "#             [\n",
    "#                 1.4184035062789917,\n",
    "#                 1.4611766338348389,\n",
    "#                 1.136499285697937,\n",
    "#                 0.3714943528175354,\n",
    "#                 -0.24786745011806488\n",
    "#             ]\n",
    "#         ],\n",
    "#         [\n",
    "#             [\n",
    "#                 -0.39721405506134033,\n",
    "#                 -0.1031331941485405,\n",
    "#                 0.20690153539180756,\n",
    "#                 0.03357073292136192,\n",
    "#                 -0.449305921792984\n",
    "#             ],\n",
    "#             [\n",
    "#                 -0.26424285769462585,\n",
    "#                 -0.32761237025260925,\n",
    "#                 -0.23494362831115723,\n",
    "#                 -0.22900038957595825,\n",
    "#                 0.011754502542316914\n",
    "#             ],\n",
    "#             [\n",
    "#                 0.19519534707069397,\n",
    "#                 -0.05785663425922394,\n",
    "#                 -0.4474050998687744,\n",
    "#                 -0.3777298331260681,\n",
    "#                 0.1599540114402771\n",
    "#             ],\n",
    "#             [\n",
    "#                 0.34420591592788696,\n",
    "#                 0.33829835057258606,\n",
    "#                 0.19468121230602264,\n",
    "#                 0.1594541072845459,\n",
    "#                 0.12718380987644196\n",
    "#             ],\n",
    "#             [\n",
    "#                 0.6022353172302246,\n",
    "#                 0.796495795249939,\n",
    "#                 0.8378017544746399,\n",
    "#                 0.6144338250160217,\n",
    "#                 0.2981005907058716\n",
    "#             ]\n",
    "#         ],\n",
    "#         [\n",
    "#             [\n",
    "#                 -0.5263137817382812,\n",
    "#                 -0.22536982595920563,\n",
    "#                 0.18130557239055634,\n",
    "#                 -0.05916157737374306,\n",
    "#                 -0.6153411865234375\n",
    "#             ],\n",
    "#             [\n",
    "#                 -0.27232712507247925,\n",
    "#                 -0.40380820631980896,\n",
    "#                 -0.3086897134780884,\n",
    "#                 -0.327636182308197,\n",
    "#                 -0.1120678037405014\n",
    "#             ],\n",
    "#             [\n",
    "#                 0.13447260856628418,\n",
    "#                 -0.1724226027727127,\n",
    "#                 -0.6308786273002625,\n",
    "#                 -0.31863629817962646,\n",
    "#                 0.18808825314044952\n",
    "#             ],\n",
    "#             [\n",
    "#                 0.2996039092540741,\n",
    "#                 0.2928417921066284,\n",
    "#                 0.21996325254440308,\n",
    "#                 0.02887602150440216,\n",
    "#                 -0.19519615173339844\n",
    "#             ],\n",
    "#             [\n",
    "#                 0.6160277128219604,\n",
    "#                 0.7297307252883911,\n",
    "#                 0.7405679225921631,\n",
    "#                 0.4445789158344269,\n",
    "#                 0.0700417309999466\n",
    "#             ]\n",
    "#         ],\n",
    "#         [\n",
    "#             [\n",
    "#                 -1.3331491947174072,\n",
    "#                 -0.6596949696540833,\n",
    "#                 -0.200526624917984,\n",
    "#                 -0.5697854161262512,\n",
    "#                 -1.143864631652832\n",
    "#             ],\n",
    "#             [\n",
    "#                 -0.48410263657569885,\n",
    "#                 0.020049285143613815,\n",
    "#                 0.4946921169757843,\n",
    "#                 0.28259971737861633,\n",
    "#                 -0.03244787082076073\n",
    "#             ],\n",
    "#             [\n",
    "#                 -0.03163672238588333,\n",
    "#                 0.5962076187133789,\n",
    "#                 0.79562908411026,\n",
    "#                 0.5829340219497681,\n",
    "#                 0.49710795283317566\n",
    "#             ],\n",
    "#             [\n",
    "#                 0.46254709362983704,\n",
    "#                 0.8266159892082214,\n",
    "#                 0.9048017859458923,\n",
    "#                 0.4809388220310211,\n",
    "#                 0.029065009206533432\n",
    "#             ],\n",
    "#             [\n",
    "#                 0.2164013534784317,\n",
    "#                 0.4823146164417267,\n",
    "#                 0.32733064889907837,\n",
    "#                 -0.5340229868888855,\n",
    "#                 -1.3069946765899658\n",
    "#             ]\n",
    "#         ],\n",
    "#         [\n",
    "#             [\n",
    "#                 -0.11248388886451721,\n",
    "#                 0.5606522560119629,\n",
    "#                 -0.5461357235908508,\n",
    "#                 -1.4701277017593384,\n",
    "#                 -0.6210745573043823\n",
    "#             ],\n",
    "#             [\n",
    "#                 -1.4236886501312256,\n",
    "#                 -2.2725396156311035,\n",
    "#                 -2.4465577602386475,\n",
    "#                 -1.8591976165771484,\n",
    "#                 -1.0004150867462158\n",
    "#             ],\n",
    "#             [\n",
    "#                 -0.859600841999054,\n",
    "#                 -1.1805474758148193,\n",
    "#                 -1.1429362297058105,\n",
    "#                 -0.5231764316558838,\n",
    "#                 -1.0294824838638306\n",
    "#             ],\n",
    "#             [\n",
    "#                 0.4386911988258362,\n",
    "#                 0.21031884849071503,\n",
    "#                 -0.7296885848045349,\n",
    "#                 -1.1785863637924194,\n",
    "#                 -0.687292754650116\n",
    "#             ],\n",
    "#             [\n",
    "#                 1.3083187341690063,\n",
    "#                 1.2075145244598389,\n",
    "#                 -0.42499667406082153,\n",
    "#                 -0.8734429478645325,\n",
    "#                 -0.03447230905294418\n",
    "#             ]\n",
    "#         ],\n",
    "#         [\n",
    "#             [\n",
    "#                 -0.8196055889129639,\n",
    "#                 -1.1176637411117554,\n",
    "#                 -1.5622894763946533,\n",
    "#                 -1.9366174936294556,\n",
    "#                 -1.0923737287521362\n",
    "#             ],\n",
    "#             [\n",
    "#                 -0.6368390321731567,\n",
    "#                 -2.21144700050354,\n",
    "#                 -3.8158507347106934,\n",
    "#                 -3.1431403160095215,\n",
    "#                 -1.421771764755249\n",
    "#             ],\n",
    "#             [\n",
    "#                 -0.4715050756931305,\n",
    "#                 -0.6230422854423523,\n",
    "#                 -1.6178991794586182,\n",
    "#                 -1.7779021263122559,\n",
    "#                 -1.7172154188156128\n",
    "#             ],\n",
    "#             [\n",
    "#                 0.27929559350013733,\n",
    "#                 0.8758999705314636,\n",
    "#                 0.8464240431785583,\n",
    "#                 0.16373908519744873,\n",
    "#                 -0.880939245223999\n",
    "#             ],\n",
    "#             [\n",
    "#                 1.1330316066741943,\n",
    "#                 1.4569127559661865,\n",
    "#                 0.8490192890167236,\n",
    "#                 0.5241242051124573,\n",
    "#                 0.6509425640106201\n",
    "#             ]\n",
    "#         ],\n",
    "#         [\n",
    "#             [\n",
    "#                 -0.7791879177093506,\n",
    "#                 0.013149170204997063,\n",
    "#                 -0.47670936584472656,\n",
    "#                 -1.3746731281280518,\n",
    "#                 -0.6335757970809937\n",
    "#             ],\n",
    "#             [\n",
    "#                 -0.888173520565033,\n",
    "#                 -2.43618106842041,\n",
    "#                 -3.60893177986145,\n",
    "#                 -2.4723281860351562,\n",
    "#                 -0.6241375207901001\n",
    "#             ],\n",
    "#             [\n",
    "#                 -0.37856337428092957,\n",
    "#                 -0.6704084873199463,\n",
    "#                 -0.8057950139045715,\n",
    "#                 -0.42609861493110657,\n",
    "#                 -1.1983991861343384\n",
    "#             ],\n",
    "#             [\n",
    "#                 0.3462565541267395,\n",
    "#                 0.4557862877845764,\n",
    "#                 0.13925427198410034,\n",
    "#                 -0.0030202113557606936,\n",
    "#                 -0.28451570868492126\n",
    "#             ],\n",
    "#             [\n",
    "#                 1.1575100421905518,\n",
    "#                 1.4221150875091553,\n",
    "#                 0.6308383941650391,\n",
    "#                 0.2823454439640045,\n",
    "#                 0.5428950786590576\n",
    "#             ]\n",
    "#         ],\n",
    "#         [\n",
    "#             [\n",
    "#                 -0.47613444924354553,\n",
    "#                 -0.10385844111442566,\n",
    "#                 0.03396326303482056,\n",
    "#                 -0.3212099075317383,\n",
    "#                 -0.6872974038124084\n",
    "#             ],\n",
    "#             [\n",
    "#                 -0.30607229471206665,\n",
    "#                 -0.22079551219940186,\n",
    "#                 -0.23371562361717224,\n",
    "#                 -0.3424133360385895,\n",
    "#                 -0.1811334788799286\n",
    "#             ],\n",
    "#             [\n",
    "#                 0.3425024747848511,\n",
    "#                 0.01871510222554207,\n",
    "#                 -0.5741369128227234,\n",
    "#                 -0.3429749011993408,\n",
    "#                 0.10706517845392227\n",
    "#             ],\n",
    "#             [\n",
    "#                 0.4328538179397583,\n",
    "#                 0.4617229104042053,\n",
    "#                 0.26705437898635864,\n",
    "#                 0.06116426736116409,\n",
    "#                 -0.21417708694934845\n",
    "#             ],\n",
    "#             [\n",
    "#                 0.5587629079818726,\n",
    "#                 0.634537935256958,\n",
    "#                 0.6053977608680725,\n",
    "#                 0.26801565289497375,\n",
    "#                 -0.05818234011530876\n",
    "#             ]\n",
    "#         ],\n",
    "#         [\n",
    "#             [\n",
    "#                 -0.3904370069503784,\n",
    "#                 -0.06651416420936584,\n",
    "#                 0.026248987764120102,\n",
    "#                 -0.2520809769630432,\n",
    "#                 -0.6485322713851929\n",
    "#             ],\n",
    "#             [\n",
    "#                 -0.19131995737552643,\n",
    "#                 -0.13752728700637817,\n",
    "#                 -0.07818373292684555,\n",
    "#                 -0.2106751948595047,\n",
    "#                 -0.11478709429502487\n",
    "#             ],\n",
    "#             [\n",
    "#                 0.3966561257839203,\n",
    "#                 -0.09368277341127396,\n",
    "#                 -0.5818333625793457,\n",
    "#                 -0.3715081512928009,\n",
    "#                 0.016611270606517792\n",
    "#             ],\n",
    "#             [\n",
    "#                 0.4476209878921509,\n",
    "#                 0.37204882502555847,\n",
    "#                 0.22014345228672028,\n",
    "#                 0.020024564117193222,\n",
    "#                 -0.32973456382751465\n",
    "#             ],\n",
    "#             [\n",
    "#                 0.5725778341293335,\n",
    "#                 0.7059440612792969,\n",
    "#                 0.6673021912574768,\n",
    "#                 0.1671743243932724,\n",
    "#                 -0.21915878355503082\n",
    "#             ]\n",
    "#         ],\n",
    "#         [\n",
    "#             [\n",
    "#                 -0.386845201253891,\n",
    "#                 -0.11336575448513031,\n",
    "#                 0.06782080978155136,\n",
    "#                 -0.25379273295402527,\n",
    "#                 -0.6307410001754761\n",
    "#             ],\n",
    "#             [\n",
    "#                 -0.24268141388893127,\n",
    "#                 -0.28249701857566833,\n",
    "#                 -0.13618554174900055,\n",
    "#                 -0.3700248897075653,\n",
    "#                 -0.16428641974925995\n",
    "#             ],\n",
    "#             [\n",
    "#                 0.2742307186126709,\n",
    "#                 -0.01758948341012001,\n",
    "#                 -0.5226616263389587,\n",
    "#                 -0.3199573755264282,\n",
    "#                 0.1428358554840088\n",
    "#             ],\n",
    "#             [\n",
    "#                 0.36195942759513855,\n",
    "#                 0.3227596580982208,\n",
    "#                 0.1773155927658081,\n",
    "#                 0.061917517334222794,\n",
    "#                 -0.23289483785629272\n",
    "#             ],\n",
    "#             [\n",
    "#                 0.4695197343826294,\n",
    "#                 0.7480459809303284,\n",
    "#                 0.6952211260795593,\n",
    "#                 0.2690421938896179,\n",
    "#                 -0.16060197353363037\n",
    "#             ]\n",
    "#         ],\n",
    "#         [\n",
    "#             [\n",
    "#                 -0.3549750745296478,\n",
    "#                 -0.10807927697896957,\n",
    "#                 0.06042071059346199,\n",
    "#                 -0.16159312427043915,\n",
    "#                 -0.663824737071991\n",
    "#             ],\n",
    "#             [\n",
    "#                 -0.1887652575969696,\n",
    "#                 -0.22548840939998627,\n",
    "#                 -0.1147858053445816,\n",
    "#                 -0.27582424879074097,\n",
    "#                 -0.18264439702033997\n",
    "#             ],\n",
    "#             [\n",
    "#                 0.3749374747276306,\n",
    "#                 -0.11084429174661636,\n",
    "#                 -0.4853469133377075,\n",
    "#                 -0.32341286540031433,\n",
    "#                 0.002045072615146637\n",
    "#             ],\n",
    "#             [\n",
    "#                 0.48608076572418213,\n",
    "#                 0.3995477259159088,\n",
    "#                 0.25354862213134766,\n",
    "#                 -0.060189832001924515,\n",
    "#                 -0.3189442753791809\n",
    "#             ],\n",
    "#             [\n",
    "#                 0.5157932639122009,\n",
    "#                 0.6366836428642273,\n",
    "#                 0.6537612080574036,\n",
    "#                 0.2074315845966339,\n",
    "#                 -0.15707461535930634\n",
    "#             ]\n",
    "#         ],\n",
    "#         [\n",
    "#             [\n",
    "#                 -0.009487146511673927,\n",
    "#                 -0.0015733324689790606,\n",
    "#                 0.06759902089834213,\n",
    "#                 -0.03304778411984444,\n",
    "#                 -0.05833123251795769\n",
    "#             ],\n",
    "#             [\n",
    "#                 0.06187601014971733,\n",
    "#                 -0.03128046914935112,\n",
    "#                 -0.0037037148140370846,\n",
    "#                 -0.03376513719558716,\n",
    "#                 -0.06755123287439346\n",
    "#             ],\n",
    "#             [\n",
    "#                 0.0182191114872694,\n",
    "#                 0.03037690930068493,\n",
    "#                 -0.028365490958094597,\n",
    "#                 0.00463092839345336,\n",
    "#                 0.015654604882001877\n",
    "#             ],\n",
    "#             [\n",
    "#                 0.047003477811813354,\n",
    "#                 0.05800116807222366,\n",
    "#                 0.04073747992515564,\n",
    "#                 0.026228487491607666,\n",
    "#                 0.02521365135908127\n",
    "#             ],\n",
    "#             [\n",
    "#                 0.0015721699455752969,\n",
    "#                 0.06033794954419136,\n",
    "#                 0.06602077186107635,\n",
    "#                 -0.020417794585227966,\n",
    "#                 -0.045765116810798645\n",
    "#             ]\n",
    "#         ]\n",
    "#     ]\n",
    "# ]\n",
    "\n",
    "# input_number = ['N1-1']\n",
    "\n",
    "# #single\n",
    "# weight_cn = compute_mean_values(weight_tensor_1x1_1029_23_n1_1)\n",
    "\n",
    "# weight_cn1 = compute_mean_values(weight_tensor_1x1_1029_36_n1_1)\n",
    "# weight_cn2 = compute_mean_values(weight_tensor_3x3_1_1029_36_n1_1)\n",
    "# weight_cn3 = compute_mean_values(weight_tensor_3x3_2_1029_36_n1_1)\n",
    "# weight_cn4 = compute_mean_values(weight_tensor_5x5_1_1029_36_n1_1)\n",
    "# weight_cn5 = compute_mean_values(weight_tensor_5x5_2_1029_36_n1_1)\n",
    "\n",
    "# print(len(weight_cn))\n",
    "# print(len(weight_cn1))\n",
    "# print(len(weight_cn2))\n",
    "# print(len(weight_cn3))\n",
    "# print(len(weight_cn4))\n",
    "# print(len(weight_cn5))\n",
    "\n",
    "# CreateWeightImageforShow(weight_cn, input_number, \"single\")\n",
    "\n",
    "# CreateWeightImageforShow(weight_cn1, input_number, \"multiple1x1\")\n",
    "# CreateWeightImageforShow(weight_cn2, input_number, \"multiple3x3-1\")\n",
    "# CreateWeightImageforShow(weight_cn3, input_number, \"multiple3x3-2\")\n",
    "# CreateWeightImageforShow(weight_cn4, input_number, \"multiple5x5-1\")\n",
    "# CreateWeightImageforShow(weight_cn5, input_number, \"multiple5x5-2\")\n",
    "\n"
   ]
  },
  {
   "cell_type": "code",
   "execution_count": 15,
   "metadata": {},
   "outputs": [],
   "source": [
    "def print_model_shapes(model, input_tensor):\n",
    "    def forward_hook(module, input, output):\n",
    "        print(f\"Layer: {module.__class__.__name__}\")\n",
    "        print(f\"Input shape: {str(input[0].shape)}\")\n",
    "        print(f\"Output shape: {str(output.shape)}\")\n",
    "        print(\"-----------------------\")\n",
    "\n",
    "    hooks = []\n",
    "    for layer in model.children():\n",
    "        hook = layer.register_forward_hook(forward_hook)\n",
    "        hooks.append(hook)\n",
    "\n",
    "    print(\"Model Architecture:\")\n",
    "    print(model)\n",
    "\n",
    "    # Pass a dummy input tensor through the model to trigger the forward hooks\n",
    "    with torch.no_grad():\n",
    "        model(input_tensor)\n",
    "\n",
    "    for hook in hooks:\n",
    "        hook.remove()\n"
   ]
  },
  {
   "cell_type": "code",
   "execution_count": 16,
   "metadata": {},
   "outputs": [],
   "source": [
    "# preprocess function\n",
    "def preprocess(img: np.ndarray):\n",
    "    img = np.moveaxis(img, -1, 0)  # Change from [H, W, C] to [C, H, W]\n",
    "    img = normalize_01(img)  # Linear scaling to range [0-1]\n",
    "    img = np.expand_dims(img, axis=0)  # Add batch dimension [B, C, H, W]\n",
    "    img = img.astype(np.float32)  # Typecasting to float32\n",
    "    #print(\"in pre\")\n",
    "    #print(np.unique(img))\n",
    "    return img\n",
    "\n",
    "# postprocess function\n",
    "def postprocess(img: torch.tensor):\n",
    "    img = torch.argmax(img, dim = 1)  # Perform argmax to generate 1 channel\n",
    "    #img = img * 255.0 commented as the labels are from 0 to 11 in my case\n",
    "    img = img.cpu().numpy().astype(np.uint8)  # Send to CPU and transform to numpy.ndarray\n",
    "    # If batch_size > 1, you may need to loop through each batch and save them separately\n",
    "    # If batch_size == 1, you can remove the batch dimension to save a single image\n",
    "\n",
    "    # used for checking the unique label values whether if it is 0 to 11 or 0 to 255 scale\n",
    "    #print(\"in post\")\n",
    "    #print(np.unique(img))\n",
    "\n",
    "\n",
    "    img = np.squeeze(img)  # Remove batch dim and channel dim -> [H, W]\n",
    "    # img = re_normalize(img)  # Scale it to the range [0-255]\n",
    "\n",
    "    # If your image has multiple channels (C>1), like an RGB image, before saving with cv2.imwrite\n",
    "    # you need to ensure the channel order is [B, G, R] instead of the common [R, G, B]\n",
    "    # If C == 1, you can further reduce dimensions -> [H, W]\n",
    "    if img.shape[0] == 3:  # [C, H, W]\n",
    "        img = np.transpose(img, (1, 2, 0))  # [H, W, C]\n",
    "        img = img[:, :, ::-1]  # Convert RGB to BGR\n",
    "    elif img.shape[0] == 1:  # [C, H, W]\n",
    "        img = np.squeeze(img, 0)  # [H, W]\n",
    "    return img\n"
   ]
  },
  {
   "cell_type": "code",
   "execution_count": 17,
   "metadata": {},
   "outputs": [],
   "source": [
    "# earlystoppingあり\n",
    "# numpy形式のまま入力する用改良\n",
    "# 学習を行い予測結果画像を出力するとこまで\n",
    "from customdatasets import SegmentationDataSet0\n",
    "from customdatasets import SegmentationDataSet1\n",
    "from torch.utils.data import DataLoader\n",
    "\n",
    "def Learn_EA(input_dataset,label_dataset,input_dataset_val,label_dataset_val,type_number, fold=0):\n",
    "    print(\"*************************Training*************************\")\n",
    "    # 引数を追加して保存先を指定するよう改良\n",
    "    # try_number:何回目の焼きなましかどうか。モデルの保存に使用\n",
    "\n",
    "    # dataset training\n",
    "    dataset_train2 = SegmentationDataSet0(\n",
    "                                        #inputs=dataset_original,\n",
    "                                        inputs=input_dataset,\n",
    "                                        targets=label_dataset,\n",
    "                                        transform=transforms_training)\n",
    "\n",
    "    # dataloader training\n",
    "    #rearranged in custom order so shuffle is false in normal case: true\n",
    "    dataloader_training2 = DataLoader(dataset=dataset_train2,\n",
    "                                     batch_size = 2,\n",
    "                                     shuffle=False)\n",
    "    #もとはシャッフルtrue\n",
    "\n",
    "\n",
    "    batch = next(iter(dataloader_training2))\n",
    "  \n",
    "    x, y = batch\n",
    "    print(\"x.shape = \", x.shape)\n",
    "    print(\"x.min(), x.max() = \", x.min(), x.max())\n",
    "    print(\"y.shape = \", y.shape)\n",
    "    print(\"torch.unique(y) = \", torch.unique(y))\n",
    "\n",
    "\n",
    "    \n",
    "    # dataset training\n",
    "    dataset_val = SegmentationDataSet0(inputs=input_dataset_val,\n",
    "                                        targets=label_dataset_val,\n",
    "                                        transform=transforms_val)\n",
    "    #書き換え箇所\n",
    "    dataloader_val = DataLoader(dataset=dataset_val,\n",
    "                                     batch_size = 2,\n",
    "                                     shuffle=False)\n",
    "    \n",
    "    \n",
    "    \n",
    "    ###earlystopping あり\n",
    "\n",
    "    from unet import UNet\n",
    "    from trainer2 import Trainer2 \n",
    "    from torch import nn #import torch \n",
    "    from pytorchtools import EarlyStopping\n",
    "    from torch.nn import BCEWithLogitsLoss\n",
    "\n",
    "    #device\n",
    "    if torch.cuda.is_available():\n",
    "        device = torch.device('cuda') \n",
    "    else: \n",
    "        torch.device('cpu')\n",
    "        print(\"Before creating the UNet model: GPU was not available and CPU will be used instead\")\n",
    "\n",
    "    # custom logging the parameters of the UNet\n",
    "    inChannels = IN_CHANNEL\n",
    "    outChannels = 11\n",
    "    nBlocks = N_BLOCK\n",
    "    startFilters = 32\n",
    "\n",
    "    from customLog import custom_logger\n",
    "    \n",
    "    #custom_logger(\"/log/customLog.log\", inChannels, outChannels, nBlocks, startFilters)\n",
    "\n",
    "    #model\n",
    "    model = UNet(in_channels = inChannels,\n",
    "                 out_channels = outChannels,\n",
    "                 n_blocks = nBlocks, \n",
    "                 start_filters=startFilters,\n",
    "                 activation='relu',\n",
    "                 normalization='instance',\n",
    "                 conv_mode='same',\n",
    "                 dim=2,\n",
    "                 ).to(device)\n",
    "\n",
    "    ### Later for experimenting\n",
    "    #from originalUNet import Original_UNet\n",
    "    #model = Original_UNet()\n",
    "\n",
    "    # Assuming input_tensor is a sample input tensor with the correct shape (e.g., torch.randn(1, 3, 100, 100))\n",
    "    input_tensor = torch.randn(1, 45, 100, 100).to(device)  # Adjust the shape as needed\n",
    "    # print_model_shapes(model, input_tensor)\n",
    "\n",
    "\n",
    "    #criterion\n",
    "    criterion = torch.nn.CrossEntropyLoss()\n",
    "    # criterion = BCEWithLogitsLoss()\n",
    "\n",
    "    #optimizer\n",
    "    optimizer = torch.optim.Adam(model.parameters(), lr=LR)\n",
    "\n",
    "    #trainer\n",
    "    trainer = Trainer2(model=model, \n",
    "                       device=device, \n",
    "                       criterion=criterion, \n",
    "                       optimizer=optimizer, \n",
    "                       training_DataLoader=dataloader_training2,\n",
    "                       #validation_DataLoader=None, \n",
    "                       validation_DataLoader=dataloader_val, \n",
    "                       lr_scheduler=None, \n",
    "                       epochs=146, ##😺😺😺😺 epoch=0, \n",
    "                       notebook=True)\n",
    "  \n",
    "    print(\"=======start training======\")\n",
    "    \n",
    "    # start training\n",
    "    training_losses, validation_losses, lr_rates = trainer.run_trainer()\n",
    "    print(\"***************************\")\n",
    "\n",
    "    \n",
    "    \n",
    "    #ここがちゃんとESで最適なエポック数のモデルになっているか要検証\n",
    "    model_dir = os.path.join(\"model\", date_str)\n",
    "    if not os.path.exists(model_dir):\n",
    "        os.makedirs(model_dir)\n",
    "    model_name = f\"model_fold_{fold}.pt\"\n",
    "    model_path = os.path.join(model_dir, model_name)\n",
    "    torch.save(model.state_dict(), model_path)\n",
    "    print(f\"modelname:{model_name}を保存しました\")\n",
    "\n",
    "    model_weights = torch.load(model_path)\n",
    "    model.load_state_dict(model_weights)\n",
    "    \n",
    "\n",
    "    # images = annealing_input_dataset\n",
    "    images = input_dataset_val\n",
    "\n",
    "    from inference import predict\n",
    "    from transformations import normalize_01, re_normalize\n",
    "    # predict the segmentation maps \n",
    "    output = [predict(img, model, preprocess, postprocess, device) for img in images]\n",
    "\n",
    "\n",
    "    for i in range(len(input_name_val)):\n",
    "        if(type_number == 0):\n",
    "            cv2.imwrite(os.path.join(result_dir, f'{input_name_val[i]}.png'), output[i])\n",
    "        elif(type_number == 1):\n",
    "            cv2.imwrite(os.path.join(test_result_dir, 'result_original', f'{input_name_val[i]}.png'), output[i])\n",
    "        elif(type_number == 2):\n",
    "            cv2.imwrite(os.path.join(test_result_dir, 'result_test', f'{input_name_val[i]}.png'), output[i])\n",
    "\n"
   ]
  },
  {
   "cell_type": "code",
   "execution_count": 18,
   "metadata": {},
   "outputs": [],
   "source": [
    "import statistics\n",
    "# Dicecの計算\n",
    "def cal_DiceMulitple(dir, input_name):\n",
    "    # change the label count as your preference\n",
    "    Dice = [0] * 11\n",
    "    Count1 = [0] * 11 #予測結果の各ラベルの要素数\n",
    "    Count2 = [0] * 11 #ラベル画像の\n",
    "    Count3 = [0] * 11 #正解した画素数\n",
    "    \n",
    "    for index in range(len(input_name)):\n",
    "        print('index = ', index)\n",
    "\n",
    "        img1 = cv2.imread(dir + '/' + input_name[index] + \".png\", cv2.IMREAD_GRAYSCALE)\n",
    "        img2 = cv2.imread(labeled_dir + '/' + input_name[index] + \".png\", cv2.IMREAD_GRAYSCALE)\n",
    "        #_, img2 = cv2.threshold(img2, 0, 255, cv2.THRESH_BINARY)\n",
    "        print(\"予測画像:\", dir  + '/' + input_name[index] + \".png\")\n",
    "        print(\"テストラベル:\", labeled_dir + '/' + input_name[index] + \".png\")\n",
    "        unique_label1 = np.unique(img1)\n",
    "        unique_label2 = np.unique(img2)\n",
    "        # print(unique_label1)\n",
    "        # print(unique_label2)\n",
    "        # change the image array size to your need\n",
    "        for n in range(256):\n",
    "            for l in range(256):\n",
    "                value1 = img1[n,l]\n",
    "                # for index, uq_value in enumerate(unique_label1):\n",
    "                #     if(value1 == uq_value):\n",
    "                #         value1 = index\n",
    "\n",
    "                Count1[value1] += 1\n",
    "\n",
    "                value2 = img2[n,l]\n",
    "                Count2[value2] += 1                    \n",
    "\n",
    "                if(value1 == value2):\n",
    "                    Count3[value1] += 1 \n",
    "    for i in range(11):\n",
    "        if(Count1[i]+Count2[i] != 0):\n",
    "            Dice[i] = (2*Count3[i])/(Count1[i] + Count2[i])\n",
    "        if(Count1[i]+Count2[i] == 0):\n",
    "            print(\"\")\n",
    "            #print(\"4 label case:\" + str(input_name[index]))\n",
    "    Dice.append(statistics.mean(Dice[1:]))\n",
    "    print('Count1 = ', Count1)\n",
    "    print('Count2 = ', Count2)\n",
    "    print('Count3 = ', Count3)\n",
    "    print('Dice = ', Dice)\n",
    "    #print(unique_label)\n",
    "\n",
    "    return Dice\n"
   ]
  },
  {
   "cell_type": "code",
   "execution_count": 19,
   "metadata": {},
   "outputs": [],
   "source": [
    "\n",
    "## Test of 1x1conv\n",
    "import statistics\n",
    "# device\n",
    "def mConv_predict(test_input_name, fold=0):\n",
    "    print(\"*************************************Test*************************************\")\n",
    "    if torch.cuda.is_available():\n",
    "        device = torch.device('cuda')\n",
    "    else:\n",
    "        print(\"Using CPU instead of GPU\")\n",
    "        torch.device('cpu')\n",
    "\n",
    "    model = UNet(in_channels=IN_CHANNEL,  # check the parameters\n",
    "                out_channels=11,\n",
    "                n_blocks=N_BLOCK,\n",
    "                start_filters=32,\n",
    "                activation='relu',\n",
    "                normalization='instance', #use instance when \"batch\" size is less than 10? batch\n",
    "                conv_mode='same',\n",
    "                dim=2).to(device)\n",
    "\n",
    "    model_dir = os.path.join(\"model\", date_str)\n",
    "    print(\"model_dir = \", model_dir)\n",
    "    model_path = os.path.join(model_dir, f\"model_fold_{fold}.pt\") # load the model\n",
    "    model_weights = torch.load(model_path)\n",
    "    model.load_state_dict(model_weights)\n",
    "\n",
    "    model.eval()\n",
    "\n",
    "    # create test dataset\n",
    "    test_input_dataset, _ = CreateWeightImage(test_input_name)\n",
    " \n",
    "\n",
    "    # convert to torch\n",
    "    test_input_tensor = torch.from_numpy(test_input_dataset).float().to(device)\n",
    "\n",
    "    from inference import predict\n",
    "    from transformations import normalize_01, re_normalize\n",
    "    # predict\n",
    "    output = [predict(img, model, preprocess, postprocess, device) for img in test_input_dataset]\n",
    "\n",
    "\n",
    "    plot_output_img = list()\n",
    "    \n",
    "    \n",
    "    fold_dir = os.path.join(test_result_dir, f\"fold{fold}\")\n",
    "    os.makedirs(fold_dir, exist_ok=True)\n",
    "    \n",
    "    # save images\n",
    "    for i, output_img in enumerate(output):\n",
    "        #for checking the unique values of the result label\n",
    "        labels = np.unique(output_img)\n",
    "\n",
    "        output_image_path = os.path.join(fold_dir, f\"{test_input_name[i]}.png\")\n",
    "        cv2.imwrite(output_image_path, output_img)\n",
    "        \n",
    "        # old writing when there was no stratifiedkfold\n",
    "        # cv2.imwrite(os.path.join(test_result_dir, f\"{test_input_name[i]}.png\"), output_img)  # 根据需要调整文件路径和命名\n",
    "\n",
    "        #print(labels)\n",
    "        plot_output_img.append(output_img)\n",
    "\n",
    "\n",
    "    Dice = cal_DiceMulitple(fold_dir, test_input_name)\n",
    "    df = pd.DataFrame(Dice)\n",
    "    df = df.T\n",
    "    df.to_csv(test_result_dir + \"/Dice.csv\", mode='a', header=False) # Diceの結果をcsvに追加\n",
    "\n"
   ]
  },
  {
   "cell_type": "code",
   "execution_count": 20,
   "metadata": {},
   "outputs": [
    {
     "name": "stdout",
     "output_type": "stream",
     "text": [
      "['N1-1' 'N1-2' 'N1-3' 'N1-4' 'N1-5' 'N1-6' 'N1-7' 'N1-8' 'N1-9' 'N1-10'\n",
      " 'N2-1' 'N2-2' 'N2-3' 'N2-4' 'N2-5' 'N2-6' 'N2-7' 'N2-8' 'N2-9' 'N2-10'\n",
      " 'N3-1' 'N3-2' 'N3-3' 'N3-4' 'N3-5' 'N3-6' 'N3-7' 'N3-8' 'N3-9' 'N3-10'\n",
      " 'N4-1' 'N4-2' 'N4-3' 'N4-4' 'N4-5' 'N4-6' 'N4-7' 'N4-8' 'N4-9' 'N5-1'\n",
      " 'N5-2' 'N5-3' 'N5-4' 'N5-5' 'N5-6']\n",
      "['N1' 'N1' 'N1' 'N1' 'N1' 'N1' 'N1' 'N1' 'N1' 'N1' 'N2' 'N2' 'N2' 'N2'\n",
      " 'N2' 'N2' 'N2' 'N2' 'N2' 'N2' 'N3' 'N3' 'N3' 'N3' 'N3' 'N3' 'N3' 'N3'\n",
      " 'N3' 'N3' 'N4' 'N4' 'N4' 'N4' 'N4' 'N4' 'N4' 'N4' 'N4' 'N5' 'N5' 'N5'\n",
      " 'N5' 'N5' 'N5']\n",
      "Cross validation: True\n",
      "Fold: 1 out of 4\n",
      "Augmentation: True\n",
      "Augmentation amount: 30\n",
      "Training: Total of 22 cases.\n",
      "['N4-9' 'N3-1' 'N2-8' 'N3-10' 'N5-5' 'N2-3' 'N4-3' 'N1-7' 'N1-10' 'N1-1'\n",
      " 'N3-8' 'N2-6' 'N5-4' 'N2-4' 'N4-4' 'N1-9' 'N1-3' 'N3-5' 'N5-3' 'N3-6'\n",
      " 'N4-8' 'N2-7']\n",
      "Validation: Total of 11 cases.\n",
      "['N4-5' 'N5-2' 'N2-10' 'N1-8' 'N3-4' 'N4-2' 'N3-7' 'N4-7' 'N2-5' 'N1-5'\n",
      " 'N2-9']\n",
      "Test: Total of 12 cases.\n",
      "['N1-2' 'N1-4' 'N1-6' 'N2-1' 'N2-2' 'N3-2' 'N3-3' 'N3-9' 'N4-1' 'N4-6'\n",
      " 'N5-1' 'N5-6']\n",
      "\n",
      "Creating image arrays...\n",
      "Number of label images: 660\n",
      "Completed creating image arrays:\n",
      "Dataset shape  (660, 256, 256, 45)\n",
      "Label image shape  (660, 256, 256)\n",
      "\n",
      "Creating image arrays...\n",
      "Number of label images: 330\n",
      "Completed creating image arrays:\n",
      "Dataset shape  (330, 256, 256, 45)\n",
      "Label image shape  (330, 256, 256)\n",
      "\n",
      "*************************Training*************************\n",
      "x.shape =  torch.Size([2, 45, 256, 256])\n",
      "x.min(), x.max() =  tensor(0.) tensor(1.)\n",
      "y.shape =  torch.Size([2, 256, 256])\n",
      "torch.unique(y) =  tensor([ 0,  1,  2,  3,  4,  5,  6,  7,  8,  9, 10])\n",
      "in constructor inchannel: 45\n",
      "Input channel count3\n",
      "=======start training======\n"
     ]
    },
    {
     "data": {
      "application/vnd.jupyter.widget-view+json": {
       "model_id": "7df20c8456734c88ad0efb6f30a5000b",
       "version_major": 2,
       "version_minor": 0
      },
      "text/plain": [
       "Progress:   0%|          | 0/146 [00:00<?, ?it/s]"
      ]
     },
     "metadata": {},
     "output_type": "display_data"
    },
    {
     "data": {
      "application/vnd.jupyter.widget-view+json": {
       "model_id": "1bd0c93af98f46c7930a429f365a1a4d",
       "version_major": 2,
       "version_minor": 0
      },
      "text/plain": [
       "Training:   0%|          | 0/330 [00:00<?, ?it/s]"
      ]
     },
     "metadata": {},
     "output_type": "display_data"
    },
    {
     "name": "stderr",
     "output_type": "stream",
     "text": [
      "/home/eric/anaconda3/envs/altenv/lib/python3.11/site-packages/torch/nn/modules/conv.py:952: UserWarning: Plan failed with a cudnnException: CUDNN_BACKEND_EXECUTION_PLAN_DESCRIPTOR: cudnnFinalize Descriptor Failed cudnn_status: CUDNN_STATUS_NOT_SUPPORTED (Triggered internally at ../aten/src/ATen/native/cudnn/Conv_v8.cpp:919.)\n",
      "  return F.conv_transpose2d(\n"
     ]
    },
    {
     "data": {
      "application/vnd.jupyter.widget-view+json": {
       "model_id": "8dd0438825de40318a26df768e24fb7e",
       "version_major": 2,
       "version_minor": 0
      },
      "text/plain": [
       "Validation:   0%|          | 0/165 [00:00<?, ?it/s]"
      ]
     },
     "metadata": {},
     "output_type": "display_data"
    },
    {
     "name": "stdout",
     "output_type": "stream",
     "text": [
      "val_losses 1.3265635100277988\n",
      "Validation loss decreased (inf --> 1.326564).  Saving model ...\n"
     ]
    },
    {
     "data": {
      "application/vnd.jupyter.widget-view+json": {
       "model_id": "32efc35faefe49d3ae0e7cfcb545a616",
       "version_major": 2,
       "version_minor": 0
      },
      "text/plain": [
       "Training:   0%|          | 0/330 [00:00<?, ?it/s]"
      ]
     },
     "metadata": {},
     "output_type": "display_data"
    },
    {
     "data": {
      "application/vnd.jupyter.widget-view+json": {
       "model_id": "b345391a5f3f40c6b7a05fe3b5693102",
       "version_major": 2,
       "version_minor": 0
      },
      "text/plain": [
       "Validation:   0%|          | 0/165 [00:00<?, ?it/s]"
      ]
     },
     "metadata": {},
     "output_type": "display_data"
    },
    {
     "name": "stdout",
     "output_type": "stream",
     "text": [
      "val_losses 0.8505105007778514\n",
      "Validation loss decreased (1.326564 --> 0.850511).  Saving model ...\n"
     ]
    },
    {
     "data": {
      "application/vnd.jupyter.widget-view+json": {
       "model_id": "4e78ee48db2d48f39fe242bf7036eeaf",
       "version_major": 2,
       "version_minor": 0
      },
      "text/plain": [
       "Training:   0%|          | 0/330 [00:00<?, ?it/s]"
      ]
     },
     "metadata": {},
     "output_type": "display_data"
    },
    {
     "data": {
      "application/vnd.jupyter.widget-view+json": {
       "model_id": "0bcd28a656c541258a48fbbfbee5940e",
       "version_major": 2,
       "version_minor": 0
      },
      "text/plain": [
       "Validation:   0%|          | 0/165 [00:00<?, ?it/s]"
      ]
     },
     "metadata": {},
     "output_type": "display_data"
    },
    {
     "name": "stdout",
     "output_type": "stream",
     "text": [
      "val_losses 0.6003713521090421\n",
      "Validation loss decreased (0.850511 --> 0.600371).  Saving model ...\n"
     ]
    },
    {
     "data": {
      "application/vnd.jupyter.widget-view+json": {
       "model_id": "d941559138a6440487c1f681e0f5e5b7",
       "version_major": 2,
       "version_minor": 0
      },
      "text/plain": [
       "Training:   0%|          | 0/330 [00:00<?, ?it/s]"
      ]
     },
     "metadata": {},
     "output_type": "display_data"
    },
    {
     "data": {
      "application/vnd.jupyter.widget-view+json": {
       "model_id": "8e951b749d654858aad39c31a4783d13",
       "version_major": 2,
       "version_minor": 0
      },
      "text/plain": [
       "Validation:   0%|          | 0/165 [00:00<?, ?it/s]"
      ]
     },
     "metadata": {},
     "output_type": "display_data"
    },
    {
     "name": "stdout",
     "output_type": "stream",
     "text": [
      "val_losses 0.48667426217686044\n",
      "Validation loss decreased (0.600371 --> 0.486674).  Saving model ...\n"
     ]
    },
    {
     "data": {
      "application/vnd.jupyter.widget-view+json": {
       "model_id": "82b7131fd3194c5e88189e00b59c74ed",
       "version_major": 2,
       "version_minor": 0
      },
      "text/plain": [
       "Training:   0%|          | 0/330 [00:00<?, ?it/s]"
      ]
     },
     "metadata": {},
     "output_type": "display_data"
    },
    {
     "data": {
      "application/vnd.jupyter.widget-view+json": {
       "model_id": "3e91eb41d1094c70951e2b02ba9193dd",
       "version_major": 2,
       "version_minor": 0
      },
      "text/plain": [
       "Validation:   0%|          | 0/165 [00:00<?, ?it/s]"
      ]
     },
     "metadata": {},
     "output_type": "display_data"
    },
    {
     "name": "stdout",
     "output_type": "stream",
     "text": [
      "val_losses 0.4316758795218034\n",
      "Validation loss decreased (0.486674 --> 0.431676).  Saving model ...\n"
     ]
    },
    {
     "data": {
      "application/vnd.jupyter.widget-view+json": {
       "model_id": "c5286a08e04b405881df706d3485e453",
       "version_major": 2,
       "version_minor": 0
      },
      "text/plain": [
       "Training:   0%|          | 0/330 [00:00<?, ?it/s]"
      ]
     },
     "metadata": {},
     "output_type": "display_data"
    },
    {
     "data": {
      "application/vnd.jupyter.widget-view+json": {
       "model_id": "9aca97e7f3ac46c78d2244db060a3951",
       "version_major": 2,
       "version_minor": 0
      },
      "text/plain": [
       "Validation:   0%|          | 0/165 [00:00<?, ?it/s]"
      ]
     },
     "metadata": {},
     "output_type": "display_data"
    },
    {
     "name": "stdout",
     "output_type": "stream",
     "text": [
      "val_losses 0.37975767823782836\n",
      "Validation loss decreased (0.431676 --> 0.379758).  Saving model ...\n"
     ]
    },
    {
     "data": {
      "application/vnd.jupyter.widget-view+json": {
       "model_id": "e022c55da2304810932a07b7b4776f2c",
       "version_major": 2,
       "version_minor": 0
      },
      "text/plain": [
       "Training:   0%|          | 0/330 [00:00<?, ?it/s]"
      ]
     },
     "metadata": {},
     "output_type": "display_data"
    },
    {
     "data": {
      "application/vnd.jupyter.widget-view+json": {
       "model_id": "a4e145b03cca47f5abad99a4f66ab849",
       "version_major": 2,
       "version_minor": 0
      },
      "text/plain": [
       "Validation:   0%|          | 0/165 [00:00<?, ?it/s]"
      ]
     },
     "metadata": {},
     "output_type": "display_data"
    },
    {
     "name": "stdout",
     "output_type": "stream",
     "text": [
      "val_losses 0.35911990015795736\n",
      "Validation loss decreased (0.379758 --> 0.359120).  Saving model ...\n"
     ]
    },
    {
     "data": {
      "application/vnd.jupyter.widget-view+json": {
       "model_id": "6f631a89da424f74a3e0a5e930ec703b",
       "version_major": 2,
       "version_minor": 0
      },
      "text/plain": [
       "Training:   0%|          | 0/330 [00:00<?, ?it/s]"
      ]
     },
     "metadata": {},
     "output_type": "display_data"
    },
    {
     "data": {
      "application/vnd.jupyter.widget-view+json": {
       "model_id": "b6a027e2eaba4d7e9b7009dbde6fd42f",
       "version_major": 2,
       "version_minor": 0
      },
      "text/plain": [
       "Validation:   0%|          | 0/165 [00:00<?, ?it/s]"
      ]
     },
     "metadata": {},
     "output_type": "display_data"
    },
    {
     "name": "stdout",
     "output_type": "stream",
     "text": [
      "val_losses 0.3685271338079915\n",
      "EarlyStopping counter: 1 out of 50\n"
     ]
    },
    {
     "data": {
      "application/vnd.jupyter.widget-view+json": {
       "model_id": "979f3d5e36e9487cb1c7a05ad076e295",
       "version_major": 2,
       "version_minor": 0
      },
      "text/plain": [
       "Training:   0%|          | 0/330 [00:00<?, ?it/s]"
      ]
     },
     "metadata": {},
     "output_type": "display_data"
    },
    {
     "data": {
      "application/vnd.jupyter.widget-view+json": {
       "model_id": "f4972b254acc4684a261e2b263c523d3",
       "version_major": 2,
       "version_minor": 0
      },
      "text/plain": [
       "Validation:   0%|          | 0/165 [00:00<?, ?it/s]"
      ]
     },
     "metadata": {},
     "output_type": "display_data"
    },
    {
     "name": "stdout",
     "output_type": "stream",
     "text": [
      "val_losses 0.3433752740874435\n",
      "Validation loss decreased (0.359120 --> 0.343375).  Saving model ...\n"
     ]
    },
    {
     "data": {
      "application/vnd.jupyter.widget-view+json": {
       "model_id": "02c100f3357543d0a5c415ad94097c4e",
       "version_major": 2,
       "version_minor": 0
      },
      "text/plain": [
       "Training:   0%|          | 0/330 [00:00<?, ?it/s]"
      ]
     },
     "metadata": {},
     "output_type": "display_data"
    },
    {
     "data": {
      "application/vnd.jupyter.widget-view+json": {
       "model_id": "f85f10041ad744eca67cb94f15d7df28",
       "version_major": 2,
       "version_minor": 0
      },
      "text/plain": [
       "Validation:   0%|          | 0/165 [00:00<?, ?it/s]"
      ]
     },
     "metadata": {},
     "output_type": "display_data"
    },
    {
     "name": "stdout",
     "output_type": "stream",
     "text": [
      "val_losses 0.3556920697291692\n",
      "EarlyStopping counter: 1 out of 50\n"
     ]
    },
    {
     "data": {
      "application/vnd.jupyter.widget-view+json": {
       "model_id": "e63ce170322e404cae8a33ef652fd6f6",
       "version_major": 2,
       "version_minor": 0
      },
      "text/plain": [
       "Training:   0%|          | 0/330 [00:00<?, ?it/s]"
      ]
     },
     "metadata": {},
     "output_type": "display_data"
    },
    {
     "data": {
      "application/vnd.jupyter.widget-view+json": {
       "model_id": "d2c476c97c434477828bdbf2d76d99ec",
       "version_major": 2,
       "version_minor": 0
      },
      "text/plain": [
       "Validation:   0%|          | 0/165 [00:00<?, ?it/s]"
      ]
     },
     "metadata": {},
     "output_type": "display_data"
    },
    {
     "name": "stdout",
     "output_type": "stream",
     "text": [
      "val_losses 0.3247939974069595\n",
      "Validation loss decreased (0.343375 --> 0.324794).  Saving model ...\n"
     ]
    },
    {
     "data": {
      "application/vnd.jupyter.widget-view+json": {
       "model_id": "8d71b0ae52174efb875f8d29a58539cb",
       "version_major": 2,
       "version_minor": 0
      },
      "text/plain": [
       "Training:   0%|          | 0/330 [00:00<?, ?it/s]"
      ]
     },
     "metadata": {},
     "output_type": "display_data"
    },
    {
     "data": {
      "application/vnd.jupyter.widget-view+json": {
       "model_id": "c401398f42af46afb6aa7b215923c263",
       "version_major": 2,
       "version_minor": 0
      },
      "text/plain": [
       "Validation:   0%|          | 0/165 [00:00<?, ?it/s]"
      ]
     },
     "metadata": {},
     "output_type": "display_data"
    },
    {
     "name": "stdout",
     "output_type": "stream",
     "text": [
      "val_losses 0.3410309531471946\n",
      "EarlyStopping counter: 1 out of 50\n"
     ]
    },
    {
     "data": {
      "application/vnd.jupyter.widget-view+json": {
       "model_id": "d25b2918f9ea444e834b9daa12bfa88c",
       "version_major": 2,
       "version_minor": 0
      },
      "text/plain": [
       "Training:   0%|          | 0/330 [00:00<?, ?it/s]"
      ]
     },
     "metadata": {},
     "output_type": "display_data"
    },
    {
     "data": {
      "application/vnd.jupyter.widget-view+json": {
       "model_id": "a2e55b6a831e483fb54dec6eeaf13ef4",
       "version_major": 2,
       "version_minor": 0
      },
      "text/plain": [
       "Validation:   0%|          | 0/165 [00:00<?, ?it/s]"
      ]
     },
     "metadata": {},
     "output_type": "display_data"
    },
    {
     "name": "stdout",
     "output_type": "stream",
     "text": [
      "val_losses 0.3416114566904126\n",
      "EarlyStopping counter: 2 out of 50\n"
     ]
    },
    {
     "data": {
      "application/vnd.jupyter.widget-view+json": {
       "model_id": "062eeba234aa4f5eb1fccf19c4f9125c",
       "version_major": 2,
       "version_minor": 0
      },
      "text/plain": [
       "Training:   0%|          | 0/330 [00:00<?, ?it/s]"
      ]
     },
     "metadata": {},
     "output_type": "display_data"
    },
    {
     "data": {
      "application/vnd.jupyter.widget-view+json": {
       "model_id": "eed38c5fa2e74a15a1eb5d8d40c58a61",
       "version_major": 2,
       "version_minor": 0
      },
      "text/plain": [
       "Validation:   0%|          | 0/165 [00:00<?, ?it/s]"
      ]
     },
     "metadata": {},
     "output_type": "display_data"
    },
    {
     "name": "stdout",
     "output_type": "stream",
     "text": [
      "val_losses 0.3358898370554953\n",
      "EarlyStopping counter: 3 out of 50\n"
     ]
    },
    {
     "data": {
      "application/vnd.jupyter.widget-view+json": {
       "model_id": "9fa153e6739c408ea15b3d38af878780",
       "version_major": 2,
       "version_minor": 0
      },
      "text/plain": [
       "Training:   0%|          | 0/330 [00:00<?, ?it/s]"
      ]
     },
     "metadata": {},
     "output_type": "display_data"
    },
    {
     "data": {
      "application/vnd.jupyter.widget-view+json": {
       "model_id": "e31997fd01794991b8fa67971712d31a",
       "version_major": 2,
       "version_minor": 0
      },
      "text/plain": [
       "Validation:   0%|          | 0/165 [00:00<?, ?it/s]"
      ]
     },
     "metadata": {},
     "output_type": "display_data"
    },
    {
     "name": "stdout",
     "output_type": "stream",
     "text": [
      "val_losses 0.2951098138184258\n",
      "Validation loss decreased (0.324794 --> 0.295110).  Saving model ...\n"
     ]
    },
    {
     "data": {
      "application/vnd.jupyter.widget-view+json": {
       "model_id": "60ef8d67c28b4fe6873623b1d486463c",
       "version_major": 2,
       "version_minor": 0
      },
      "text/plain": [
       "Training:   0%|          | 0/330 [00:00<?, ?it/s]"
      ]
     },
     "metadata": {},
     "output_type": "display_data"
    },
    {
     "data": {
      "application/vnd.jupyter.widget-view+json": {
       "model_id": "a1816e7a682540a9ab3eaf5ce0eb6bcd",
       "version_major": 2,
       "version_minor": 0
      },
      "text/plain": [
       "Validation:   0%|          | 0/165 [00:00<?, ?it/s]"
      ]
     },
     "metadata": {},
     "output_type": "display_data"
    },
    {
     "name": "stdout",
     "output_type": "stream",
     "text": [
      "val_losses 0.29980167236292\n",
      "EarlyStopping counter: 1 out of 50\n"
     ]
    },
    {
     "data": {
      "application/vnd.jupyter.widget-view+json": {
       "model_id": "8fdc1987b4f24a8d9d74b70df793731b",
       "version_major": 2,
       "version_minor": 0
      },
      "text/plain": [
       "Training:   0%|          | 0/330 [00:00<?, ?it/s]"
      ]
     },
     "metadata": {},
     "output_type": "display_data"
    },
    {
     "data": {
      "application/vnd.jupyter.widget-view+json": {
       "model_id": "c9040b24424e4714b2b579d05e3fd3db",
       "version_major": 2,
       "version_minor": 0
      },
      "text/plain": [
       "Validation:   0%|          | 0/165 [00:00<?, ?it/s]"
      ]
     },
     "metadata": {},
     "output_type": "display_data"
    },
    {
     "name": "stdout",
     "output_type": "stream",
     "text": [
      "val_losses 0.30595278703805173\n",
      "EarlyStopping counter: 2 out of 50\n"
     ]
    },
    {
     "data": {
      "application/vnd.jupyter.widget-view+json": {
       "model_id": "b1c937aad17d4098976fa58a7807b4b0",
       "version_major": 2,
       "version_minor": 0
      },
      "text/plain": [
       "Training:   0%|          | 0/330 [00:00<?, ?it/s]"
      ]
     },
     "metadata": {},
     "output_type": "display_data"
    },
    {
     "data": {
      "application/vnd.jupyter.widget-view+json": {
       "model_id": "9b0f179e687649e1bd45b3ae598eeb0e",
       "version_major": 2,
       "version_minor": 0
      },
      "text/plain": [
       "Validation:   0%|          | 0/165 [00:00<?, ?it/s]"
      ]
     },
     "metadata": {},
     "output_type": "display_data"
    },
    {
     "name": "stdout",
     "output_type": "stream",
     "text": [
      "val_losses 0.3245661881836978\n",
      "EarlyStopping counter: 3 out of 50\n"
     ]
    },
    {
     "data": {
      "application/vnd.jupyter.widget-view+json": {
       "model_id": "506ea3c3f1474795819109c747ebdb6c",
       "version_major": 2,
       "version_minor": 0
      },
      "text/plain": [
       "Training:   0%|          | 0/330 [00:00<?, ?it/s]"
      ]
     },
     "metadata": {},
     "output_type": "display_data"
    },
    {
     "data": {
      "application/vnd.jupyter.widget-view+json": {
       "model_id": "8a597c7137a0493695e1d5ad667f590e",
       "version_major": 2,
       "version_minor": 0
      },
      "text/plain": [
       "Validation:   0%|          | 0/165 [00:00<?, ?it/s]"
      ]
     },
     "metadata": {},
     "output_type": "display_data"
    },
    {
     "name": "stdout",
     "output_type": "stream",
     "text": [
      "val_losses 0.3184037587859414\n",
      "EarlyStopping counter: 4 out of 50\n"
     ]
    },
    {
     "data": {
      "application/vnd.jupyter.widget-view+json": {
       "model_id": "9350b9e7ebc8449eb954062e7d2903bf",
       "version_major": 2,
       "version_minor": 0
      },
      "text/plain": [
       "Training:   0%|          | 0/330 [00:00<?, ?it/s]"
      ]
     },
     "metadata": {},
     "output_type": "display_data"
    },
    {
     "data": {
      "application/vnd.jupyter.widget-view+json": {
       "model_id": "7e4ffd812c8443379b5abdb995704755",
       "version_major": 2,
       "version_minor": 0
      },
      "text/plain": [
       "Validation:   0%|          | 0/165 [00:00<?, ?it/s]"
      ]
     },
     "metadata": {},
     "output_type": "display_data"
    },
    {
     "name": "stdout",
     "output_type": "stream",
     "text": [
      "val_losses 0.313495176579013\n",
      "EarlyStopping counter: 5 out of 50\n"
     ]
    },
    {
     "data": {
      "application/vnd.jupyter.widget-view+json": {
       "model_id": "e90a455b4a344430aee12394faf6a788",
       "version_major": 2,
       "version_minor": 0
      },
      "text/plain": [
       "Training:   0%|          | 0/330 [00:00<?, ?it/s]"
      ]
     },
     "metadata": {},
     "output_type": "display_data"
    },
    {
     "data": {
      "application/vnd.jupyter.widget-view+json": {
       "model_id": "e1f5cdcaed884cad988de140afd0ee5c",
       "version_major": 2,
       "version_minor": 0
      },
      "text/plain": [
       "Validation:   0%|          | 0/165 [00:00<?, ?it/s]"
      ]
     },
     "metadata": {},
     "output_type": "display_data"
    },
    {
     "name": "stdout",
     "output_type": "stream",
     "text": [
      "val_losses 0.31798963858322665\n",
      "EarlyStopping counter: 6 out of 50\n"
     ]
    },
    {
     "data": {
      "application/vnd.jupyter.widget-view+json": {
       "model_id": "f1160aa497fe44eabf1c2b4c92b11991",
       "version_major": 2,
       "version_minor": 0
      },
      "text/plain": [
       "Training:   0%|          | 0/330 [00:00<?, ?it/s]"
      ]
     },
     "metadata": {},
     "output_type": "display_data"
    },
    {
     "data": {
      "application/vnd.jupyter.widget-view+json": {
       "model_id": "665bbba6c7ce4a14bc04146ec229d0e2",
       "version_major": 2,
       "version_minor": 0
      },
      "text/plain": [
       "Validation:   0%|          | 0/165 [00:00<?, ?it/s]"
      ]
     },
     "metadata": {},
     "output_type": "display_data"
    },
    {
     "name": "stdout",
     "output_type": "stream",
     "text": [
      "val_losses 0.3252422126856717\n",
      "EarlyStopping counter: 7 out of 50\n"
     ]
    },
    {
     "data": {
      "application/vnd.jupyter.widget-view+json": {
       "model_id": "c1e803ce586a4767a40859e6c906ce16",
       "version_major": 2,
       "version_minor": 0
      },
      "text/plain": [
       "Training:   0%|          | 0/330 [00:00<?, ?it/s]"
      ]
     },
     "metadata": {},
     "output_type": "display_data"
    },
    {
     "data": {
      "application/vnd.jupyter.widget-view+json": {
       "model_id": "341b38062e3a462f9b6ef70f438df9a1",
       "version_major": 2,
       "version_minor": 0
      },
      "text/plain": [
       "Validation:   0%|          | 0/165 [00:00<?, ?it/s]"
      ]
     },
     "metadata": {},
     "output_type": "display_data"
    },
    {
     "name": "stdout",
     "output_type": "stream",
     "text": [
      "val_losses 0.3326564880934629\n",
      "EarlyStopping counter: 8 out of 50\n"
     ]
    },
    {
     "data": {
      "application/vnd.jupyter.widget-view+json": {
       "model_id": "fe1b400aa8f34459a00b17a4a9a486a3",
       "version_major": 2,
       "version_minor": 0
      },
      "text/plain": [
       "Training:   0%|          | 0/330 [00:00<?, ?it/s]"
      ]
     },
     "metadata": {},
     "output_type": "display_data"
    },
    {
     "data": {
      "application/vnd.jupyter.widget-view+json": {
       "model_id": "f971d70f3f594f269a66cb436ba4b7ef",
       "version_major": 2,
       "version_minor": 0
      },
      "text/plain": [
       "Validation:   0%|          | 0/165 [00:00<?, ?it/s]"
      ]
     },
     "metadata": {},
     "output_type": "display_data"
    },
    {
     "name": "stdout",
     "output_type": "stream",
     "text": [
      "val_losses 0.3427323775309505\n",
      "EarlyStopping counter: 9 out of 50\n"
     ]
    },
    {
     "data": {
      "application/vnd.jupyter.widget-view+json": {
       "model_id": "3ed85e515e4a40a5a86396f3982b4578",
       "version_major": 2,
       "version_minor": 0
      },
      "text/plain": [
       "Training:   0%|          | 0/330 [00:00<?, ?it/s]"
      ]
     },
     "metadata": {},
     "output_type": "display_data"
    },
    {
     "data": {
      "application/vnd.jupyter.widget-view+json": {
       "model_id": "6cab7780c8e8429ca430cc9a1f73712a",
       "version_major": 2,
       "version_minor": 0
      },
      "text/plain": [
       "Validation:   0%|          | 0/165 [00:00<?, ?it/s]"
      ]
     },
     "metadata": {},
     "output_type": "display_data"
    },
    {
     "name": "stdout",
     "output_type": "stream",
     "text": [
      "val_losses 0.3252030070080902\n",
      "EarlyStopping counter: 10 out of 50\n"
     ]
    },
    {
     "data": {
      "application/vnd.jupyter.widget-view+json": {
       "model_id": "7c0574e2facb43c29407da8141f96e7b",
       "version_major": 2,
       "version_minor": 0
      },
      "text/plain": [
       "Training:   0%|          | 0/330 [00:00<?, ?it/s]"
      ]
     },
     "metadata": {},
     "output_type": "display_data"
    },
    {
     "data": {
      "application/vnd.jupyter.widget-view+json": {
       "model_id": "f3a49ffcdd60417eb8cf40c0461fe2a1",
       "version_major": 2,
       "version_minor": 0
      },
      "text/plain": [
       "Validation:   0%|          | 0/165 [00:00<?, ?it/s]"
      ]
     },
     "metadata": {},
     "output_type": "display_data"
    },
    {
     "name": "stdout",
     "output_type": "stream",
     "text": [
      "val_losses 0.3135960151751836\n",
      "EarlyStopping counter: 11 out of 50\n"
     ]
    },
    {
     "data": {
      "application/vnd.jupyter.widget-view+json": {
       "model_id": "0486f1e876b0466bbaef43de4614f70e",
       "version_major": 2,
       "version_minor": 0
      },
      "text/plain": [
       "Training:   0%|          | 0/330 [00:00<?, ?it/s]"
      ]
     },
     "metadata": {},
     "output_type": "display_data"
    },
    {
     "data": {
      "application/vnd.jupyter.widget-view+json": {
       "model_id": "e8596c149a6140fdb494642c21810aa6",
       "version_major": 2,
       "version_minor": 0
      },
      "text/plain": [
       "Validation:   0%|          | 0/165 [00:00<?, ?it/s]"
      ]
     },
     "metadata": {},
     "output_type": "display_data"
    },
    {
     "name": "stdout",
     "output_type": "stream",
     "text": [
      "val_losses 0.3314559665593234\n",
      "EarlyStopping counter: 12 out of 50\n"
     ]
    },
    {
     "data": {
      "application/vnd.jupyter.widget-view+json": {
       "model_id": "9d45c1a232054d638fdb392646a9fb4e",
       "version_major": 2,
       "version_minor": 0
      },
      "text/plain": [
       "Training:   0%|          | 0/330 [00:00<?, ?it/s]"
      ]
     },
     "metadata": {},
     "output_type": "display_data"
    },
    {
     "data": {
      "application/vnd.jupyter.widget-view+json": {
       "model_id": "51a582033c6c477195137ea20c7948a6",
       "version_major": 2,
       "version_minor": 0
      },
      "text/plain": [
       "Validation:   0%|          | 0/165 [00:00<?, ?it/s]"
      ]
     },
     "metadata": {},
     "output_type": "display_data"
    },
    {
     "name": "stdout",
     "output_type": "stream",
     "text": [
      "val_losses 0.39600221419876275\n",
      "EarlyStopping counter: 13 out of 50\n"
     ]
    },
    {
     "data": {
      "application/vnd.jupyter.widget-view+json": {
       "model_id": "2bc3cbdaf8ed414c9b0f45c94b7ccace",
       "version_major": 2,
       "version_minor": 0
      },
      "text/plain": [
       "Training:   0%|          | 0/330 [00:00<?, ?it/s]"
      ]
     },
     "metadata": {},
     "output_type": "display_data"
    },
    {
     "data": {
      "application/vnd.jupyter.widget-view+json": {
       "model_id": "b750fb64087c4942946ba2f1298cd9f8",
       "version_major": 2,
       "version_minor": 0
      },
      "text/plain": [
       "Validation:   0%|          | 0/165 [00:00<?, ?it/s]"
      ]
     },
     "metadata": {},
     "output_type": "display_data"
    },
    {
     "name": "stdout",
     "output_type": "stream",
     "text": [
      "val_losses 0.3473590151830153\n",
      "EarlyStopping counter: 14 out of 50\n"
     ]
    },
    {
     "data": {
      "application/vnd.jupyter.widget-view+json": {
       "model_id": "c9b053c7b7aa4fc29ab160e0761f1d86",
       "version_major": 2,
       "version_minor": 0
      },
      "text/plain": [
       "Training:   0%|          | 0/330 [00:00<?, ?it/s]"
      ]
     },
     "metadata": {},
     "output_type": "display_data"
    },
    {
     "data": {
      "application/vnd.jupyter.widget-view+json": {
       "model_id": "0491e56d4fe94786a083eb8808939c53",
       "version_major": 2,
       "version_minor": 0
      },
      "text/plain": [
       "Validation:   0%|          | 0/165 [00:00<?, ?it/s]"
      ]
     },
     "metadata": {},
     "output_type": "display_data"
    },
    {
     "name": "stdout",
     "output_type": "stream",
     "text": [
      "val_losses 0.43076424765767474\n",
      "EarlyStopping counter: 15 out of 50\n"
     ]
    },
    {
     "data": {
      "application/vnd.jupyter.widget-view+json": {
       "model_id": "6ea5a2ecd36949bda956c202ce744816",
       "version_major": 2,
       "version_minor": 0
      },
      "text/plain": [
       "Training:   0%|          | 0/330 [00:00<?, ?it/s]"
      ]
     },
     "metadata": {},
     "output_type": "display_data"
    },
    {
     "data": {
      "application/vnd.jupyter.widget-view+json": {
       "model_id": "a2ea4d9985be47d9ad3482e4e22ec2ad",
       "version_major": 2,
       "version_minor": 0
      },
      "text/plain": [
       "Validation:   0%|          | 0/165 [00:00<?, ?it/s]"
      ]
     },
     "metadata": {},
     "output_type": "display_data"
    },
    {
     "name": "stdout",
     "output_type": "stream",
     "text": [
      "val_losses 0.13887174732305788\n",
      "Validation loss decreased (0.295110 --> 0.138872).  Saving model ...\n"
     ]
    },
    {
     "data": {
      "application/vnd.jupyter.widget-view+json": {
       "model_id": "b4ecdbb8b6084e6ba035e3881f5a897f",
       "version_major": 2,
       "version_minor": 0
      },
      "text/plain": [
       "Training:   0%|          | 0/330 [00:00<?, ?it/s]"
      ]
     },
     "metadata": {},
     "output_type": "display_data"
    },
    {
     "data": {
      "application/vnd.jupyter.widget-view+json": {
       "model_id": "333a188b85a345feaa405625cac9bdfc",
       "version_major": 2,
       "version_minor": 0
      },
      "text/plain": [
       "Validation:   0%|          | 0/165 [00:00<?, ?it/s]"
      ]
     },
     "metadata": {},
     "output_type": "display_data"
    },
    {
     "name": "stdout",
     "output_type": "stream",
     "text": [
      "val_losses 0.16934773628458832\n",
      "EarlyStopping counter: 1 out of 50\n"
     ]
    },
    {
     "data": {
      "application/vnd.jupyter.widget-view+json": {
       "model_id": "9f2ff14993bc4cb5bc2000f3d881ea78",
       "version_major": 2,
       "version_minor": 0
      },
      "text/plain": [
       "Training:   0%|          | 0/330 [00:00<?, ?it/s]"
      ]
     },
     "metadata": {},
     "output_type": "display_data"
    },
    {
     "data": {
      "application/vnd.jupyter.widget-view+json": {
       "model_id": "e8db4056ec7344f3811f16af429d7fda",
       "version_major": 2,
       "version_minor": 0
      },
      "text/plain": [
       "Validation:   0%|          | 0/165 [00:00<?, ?it/s]"
      ]
     },
     "metadata": {},
     "output_type": "display_data"
    },
    {
     "name": "stdout",
     "output_type": "stream",
     "text": [
      "val_losses 0.1910491839502797\n",
      "EarlyStopping counter: 2 out of 50\n"
     ]
    },
    {
     "data": {
      "application/vnd.jupyter.widget-view+json": {
       "model_id": "f1d094fe78c044c9a74f605e20c843f0",
       "version_major": 2,
       "version_minor": 0
      },
      "text/plain": [
       "Training:   0%|          | 0/330 [00:00<?, ?it/s]"
      ]
     },
     "metadata": {},
     "output_type": "display_data"
    },
    {
     "data": {
      "application/vnd.jupyter.widget-view+json": {
       "model_id": "62775f4aba8249a69607888923dba2a8",
       "version_major": 2,
       "version_minor": 0
      },
      "text/plain": [
       "Validation:   0%|          | 0/165 [00:00<?, ?it/s]"
      ]
     },
     "metadata": {},
     "output_type": "display_data"
    },
    {
     "name": "stdout",
     "output_type": "stream",
     "text": [
      "val_losses 0.20439529287995714\n",
      "EarlyStopping counter: 3 out of 50\n"
     ]
    },
    {
     "data": {
      "application/vnd.jupyter.widget-view+json": {
       "model_id": "4937652a73d74767bf5c4a6a36e7ba91",
       "version_major": 2,
       "version_minor": 0
      },
      "text/plain": [
       "Training:   0%|          | 0/330 [00:00<?, ?it/s]"
      ]
     },
     "metadata": {},
     "output_type": "display_data"
    },
    {
     "data": {
      "application/vnd.jupyter.widget-view+json": {
       "model_id": "88b87589df7b46478c896648f116ead4",
       "version_major": 2,
       "version_minor": 0
      },
      "text/plain": [
       "Validation:   0%|          | 0/165 [00:00<?, ?it/s]"
      ]
     },
     "metadata": {},
     "output_type": "display_data"
    },
    {
     "name": "stdout",
     "output_type": "stream",
     "text": [
      "val_losses 0.2166672017086636\n",
      "EarlyStopping counter: 4 out of 50\n"
     ]
    },
    {
     "data": {
      "application/vnd.jupyter.widget-view+json": {
       "model_id": "d25fa0ddd8494092b5edaf0db7e7b224",
       "version_major": 2,
       "version_minor": 0
      },
      "text/plain": [
       "Training:   0%|          | 0/330 [00:00<?, ?it/s]"
      ]
     },
     "metadata": {},
     "output_type": "display_data"
    },
    {
     "data": {
      "application/vnd.jupyter.widget-view+json": {
       "model_id": "79bd958585a24772b4b05f4dfd4a210c",
       "version_major": 2,
       "version_minor": 0
      },
      "text/plain": [
       "Validation:   0%|          | 0/165 [00:00<?, ?it/s]"
      ]
     },
     "metadata": {},
     "output_type": "display_data"
    },
    {
     "name": "stdout",
     "output_type": "stream",
     "text": [
      "val_losses 0.21943212341178547\n",
      "EarlyStopping counter: 5 out of 50\n"
     ]
    },
    {
     "data": {
      "application/vnd.jupyter.widget-view+json": {
       "model_id": "5eaca5215a244066b8c72c9fdeab196a",
       "version_major": 2,
       "version_minor": 0
      },
      "text/plain": [
       "Training:   0%|          | 0/330 [00:00<?, ?it/s]"
      ]
     },
     "metadata": {},
     "output_type": "display_data"
    },
    {
     "data": {
      "application/vnd.jupyter.widget-view+json": {
       "model_id": "d44e6a42d520418694cad5d4c47f2129",
       "version_major": 2,
       "version_minor": 0
      },
      "text/plain": [
       "Validation:   0%|          | 0/165 [00:00<?, ?it/s]"
      ]
     },
     "metadata": {},
     "output_type": "display_data"
    },
    {
     "name": "stdout",
     "output_type": "stream",
     "text": [
      "val_losses 0.21578344824639234\n",
      "EarlyStopping counter: 6 out of 50\n"
     ]
    },
    {
     "data": {
      "application/vnd.jupyter.widget-view+json": {
       "model_id": "243e98d24e8944189a814f8ed198fe87",
       "version_major": 2,
       "version_minor": 0
      },
      "text/plain": [
       "Training:   0%|          | 0/330 [00:00<?, ?it/s]"
      ]
     },
     "metadata": {},
     "output_type": "display_data"
    },
    {
     "data": {
      "application/vnd.jupyter.widget-view+json": {
       "model_id": "ad608aa744ee4e16b8de099322745a3e",
       "version_major": 2,
       "version_minor": 0
      },
      "text/plain": [
       "Validation:   0%|          | 0/165 [00:00<?, ?it/s]"
      ]
     },
     "metadata": {},
     "output_type": "display_data"
    },
    {
     "name": "stdout",
     "output_type": "stream",
     "text": [
      "val_losses 0.22277020220503663\n",
      "EarlyStopping counter: 7 out of 50\n"
     ]
    },
    {
     "data": {
      "application/vnd.jupyter.widget-view+json": {
       "model_id": "5c7259731838420a85efeaa08f19934b",
       "version_major": 2,
       "version_minor": 0
      },
      "text/plain": [
       "Training:   0%|          | 0/330 [00:00<?, ?it/s]"
      ]
     },
     "metadata": {},
     "output_type": "display_data"
    },
    {
     "data": {
      "application/vnd.jupyter.widget-view+json": {
       "model_id": "64a1b97a15fd4a5da5d54e1afb400669",
       "version_major": 2,
       "version_minor": 0
      },
      "text/plain": [
       "Validation:   0%|          | 0/165 [00:00<?, ?it/s]"
      ]
     },
     "metadata": {},
     "output_type": "display_data"
    },
    {
     "name": "stdout",
     "output_type": "stream",
     "text": [
      "val_losses 0.2284561452088934\n",
      "EarlyStopping counter: 8 out of 50\n"
     ]
    },
    {
     "data": {
      "application/vnd.jupyter.widget-view+json": {
       "model_id": "dcccca0cd6ec4ef6999d5d4187a505e0",
       "version_major": 2,
       "version_minor": 0
      },
      "text/plain": [
       "Training:   0%|          | 0/330 [00:00<?, ?it/s]"
      ]
     },
     "metadata": {},
     "output_type": "display_data"
    },
    {
     "data": {
      "application/vnd.jupyter.widget-view+json": {
       "model_id": "11659a4e08024e8792d8860b08b1060b",
       "version_major": 2,
       "version_minor": 0
      },
      "text/plain": [
       "Validation:   0%|          | 0/165 [00:00<?, ?it/s]"
      ]
     },
     "metadata": {},
     "output_type": "display_data"
    },
    {
     "name": "stdout",
     "output_type": "stream",
     "text": [
      "val_losses 0.22329301247091005\n",
      "EarlyStopping counter: 9 out of 50\n"
     ]
    },
    {
     "data": {
      "application/vnd.jupyter.widget-view+json": {
       "model_id": "50218bb1ca224a91a16b84c9239e24bd",
       "version_major": 2,
       "version_minor": 0
      },
      "text/plain": [
       "Training:   0%|          | 0/330 [00:00<?, ?it/s]"
      ]
     },
     "metadata": {},
     "output_type": "display_data"
    },
    {
     "data": {
      "application/vnd.jupyter.widget-view+json": {
       "model_id": "706c1b929c674dc3bb97ae57b4e531f4",
       "version_major": 2,
       "version_minor": 0
      },
      "text/plain": [
       "Validation:   0%|          | 0/165 [00:00<?, ?it/s]"
      ]
     },
     "metadata": {},
     "output_type": "display_data"
    },
    {
     "name": "stdout",
     "output_type": "stream",
     "text": [
      "val_losses 0.22778229555397322\n",
      "EarlyStopping counter: 10 out of 50\n"
     ]
    },
    {
     "data": {
      "application/vnd.jupyter.widget-view+json": {
       "model_id": "7d23cdc789cc42c2a24fe4a78d0f8d4d",
       "version_major": 2,
       "version_minor": 0
      },
      "text/plain": [
       "Training:   0%|          | 0/330 [00:00<?, ?it/s]"
      ]
     },
     "metadata": {},
     "output_type": "display_data"
    },
    {
     "data": {
      "application/vnd.jupyter.widget-view+json": {
       "model_id": "19383bcb27864a6baacffdd9a4f59bbe",
       "version_major": 2,
       "version_minor": 0
      },
      "text/plain": [
       "Validation:   0%|          | 0/165 [00:00<?, ?it/s]"
      ]
     },
     "metadata": {},
     "output_type": "display_data"
    },
    {
     "name": "stdout",
     "output_type": "stream",
     "text": [
      "val_losses 0.23097604156443566\n",
      "EarlyStopping counter: 11 out of 50\n"
     ]
    },
    {
     "data": {
      "application/vnd.jupyter.widget-view+json": {
       "model_id": "7a4dfc26205d4240aed0cf54474b8645",
       "version_major": 2,
       "version_minor": 0
      },
      "text/plain": [
       "Training:   0%|          | 0/330 [00:00<?, ?it/s]"
      ]
     },
     "metadata": {},
     "output_type": "display_data"
    },
    {
     "data": {
      "application/vnd.jupyter.widget-view+json": {
       "model_id": "ef9f5befd30549a0a539281f35f82ad1",
       "version_major": 2,
       "version_minor": 0
      },
      "text/plain": [
       "Validation:   0%|          | 0/165 [00:00<?, ?it/s]"
      ]
     },
     "metadata": {},
     "output_type": "display_data"
    },
    {
     "name": "stdout",
     "output_type": "stream",
     "text": [
      "val_losses 0.242064319505836\n",
      "EarlyStopping counter: 12 out of 50\n"
     ]
    },
    {
     "data": {
      "application/vnd.jupyter.widget-view+json": {
       "model_id": "9a59a22cdea14f2ca1393e917e58ef22",
       "version_major": 2,
       "version_minor": 0
      },
      "text/plain": [
       "Training:   0%|          | 0/330 [00:00<?, ?it/s]"
      ]
     },
     "metadata": {},
     "output_type": "display_data"
    },
    {
     "data": {
      "application/vnd.jupyter.widget-view+json": {
       "model_id": "4bf697d8f5744d2c91484e804fd4ed0e",
       "version_major": 2,
       "version_minor": 0
      },
      "text/plain": [
       "Validation:   0%|          | 0/165 [00:00<?, ?it/s]"
      ]
     },
     "metadata": {},
     "output_type": "display_data"
    },
    {
     "name": "stdout",
     "output_type": "stream",
     "text": [
      "val_losses 0.25140767332279323\n",
      "EarlyStopping counter: 13 out of 50\n"
     ]
    },
    {
     "data": {
      "application/vnd.jupyter.widget-view+json": {
       "model_id": "9563faeb102a481980b81fe260e884db",
       "version_major": 2,
       "version_minor": 0
      },
      "text/plain": [
       "Training:   0%|          | 0/330 [00:00<?, ?it/s]"
      ]
     },
     "metadata": {},
     "output_type": "display_data"
    },
    {
     "data": {
      "application/vnd.jupyter.widget-view+json": {
       "model_id": "ef6f0b322f36499797265ad6a8e4010e",
       "version_major": 2,
       "version_minor": 0
      },
      "text/plain": [
       "Validation:   0%|          | 0/165 [00:00<?, ?it/s]"
      ]
     },
     "metadata": {},
     "output_type": "display_data"
    },
    {
     "name": "stdout",
     "output_type": "stream",
     "text": [
      "val_losses 0.23257125769600723\n",
      "EarlyStopping counter: 14 out of 50\n"
     ]
    },
    {
     "data": {
      "application/vnd.jupyter.widget-view+json": {
       "model_id": "ff04773b26594f3c988254e952421b81",
       "version_major": 2,
       "version_minor": 0
      },
      "text/plain": [
       "Training:   0%|          | 0/330 [00:00<?, ?it/s]"
      ]
     },
     "metadata": {},
     "output_type": "display_data"
    },
    {
     "data": {
      "application/vnd.jupyter.widget-view+json": {
       "model_id": "0a671e7d41eb4d41a84bd44cc66ec481",
       "version_major": 2,
       "version_minor": 0
      },
      "text/plain": [
       "Validation:   0%|          | 0/165 [00:00<?, ?it/s]"
      ]
     },
     "metadata": {},
     "output_type": "display_data"
    },
    {
     "name": "stdout",
     "output_type": "stream",
     "text": [
      "val_losses 0.2449195757508278\n",
      "EarlyStopping counter: 15 out of 50\n"
     ]
    },
    {
     "data": {
      "application/vnd.jupyter.widget-view+json": {
       "model_id": "7798eae8dfad4906a0e8320d63ee575a",
       "version_major": 2,
       "version_minor": 0
      },
      "text/plain": [
       "Training:   0%|          | 0/330 [00:00<?, ?it/s]"
      ]
     },
     "metadata": {},
     "output_type": "display_data"
    },
    {
     "data": {
      "application/vnd.jupyter.widget-view+json": {
       "model_id": "7312c6248ef34180a117f4c3661ac3f2",
       "version_major": 2,
       "version_minor": 0
      },
      "text/plain": [
       "Validation:   0%|          | 0/165 [00:00<?, ?it/s]"
      ]
     },
     "metadata": {},
     "output_type": "display_data"
    },
    {
     "name": "stdout",
     "output_type": "stream",
     "text": [
      "val_losses 0.24268656662016203\n",
      "EarlyStopping counter: 16 out of 50\n"
     ]
    },
    {
     "data": {
      "application/vnd.jupyter.widget-view+json": {
       "model_id": "9d3b732d2b714e0086b157b2842b67ed",
       "version_major": 2,
       "version_minor": 0
      },
      "text/plain": [
       "Training:   0%|          | 0/330 [00:00<?, ?it/s]"
      ]
     },
     "metadata": {},
     "output_type": "display_data"
    },
    {
     "data": {
      "application/vnd.jupyter.widget-view+json": {
       "model_id": "72d76f1a993348ecbfb94e6a2fc52448",
       "version_major": 2,
       "version_minor": 0
      },
      "text/plain": [
       "Validation:   0%|          | 0/165 [00:00<?, ?it/s]"
      ]
     },
     "metadata": {},
     "output_type": "display_data"
    },
    {
     "name": "stdout",
     "output_type": "stream",
     "text": [
      "val_losses 0.2472377076293483\n",
      "EarlyStopping counter: 17 out of 50\n"
     ]
    },
    {
     "data": {
      "application/vnd.jupyter.widget-view+json": {
       "model_id": "c64e3afedeb4471897b5f8501c0371ca",
       "version_major": 2,
       "version_minor": 0
      },
      "text/plain": [
       "Training:   0%|          | 0/330 [00:00<?, ?it/s]"
      ]
     },
     "metadata": {},
     "output_type": "display_data"
    },
    {
     "data": {
      "application/vnd.jupyter.widget-view+json": {
       "model_id": "261c5b5c72df4221a46de911ae857155",
       "version_major": 2,
       "version_minor": 0
      },
      "text/plain": [
       "Validation:   0%|          | 0/165 [00:00<?, ?it/s]"
      ]
     },
     "metadata": {},
     "output_type": "display_data"
    },
    {
     "name": "stdout",
     "output_type": "stream",
     "text": [
      "val_losses 0.2599748438506415\n",
      "EarlyStopping counter: 18 out of 50\n"
     ]
    },
    {
     "data": {
      "application/vnd.jupyter.widget-view+json": {
       "model_id": "935a375e7abc48c996810d8448f318f9",
       "version_major": 2,
       "version_minor": 0
      },
      "text/plain": [
       "Training:   0%|          | 0/330 [00:00<?, ?it/s]"
      ]
     },
     "metadata": {},
     "output_type": "display_data"
    },
    {
     "data": {
      "application/vnd.jupyter.widget-view+json": {
       "model_id": "0abbb7f570ee4a34932dd6b71d4df1bd",
       "version_major": 2,
       "version_minor": 0
      },
      "text/plain": [
       "Validation:   0%|          | 0/165 [00:00<?, ?it/s]"
      ]
     },
     "metadata": {},
     "output_type": "display_data"
    },
    {
     "name": "stdout",
     "output_type": "stream",
     "text": [
      "val_losses 0.266472892147122\n",
      "EarlyStopping counter: 19 out of 50\n"
     ]
    },
    {
     "data": {
      "application/vnd.jupyter.widget-view+json": {
       "model_id": "bf3fb869730a44c7a1a1b1de770d0730",
       "version_major": 2,
       "version_minor": 0
      },
      "text/plain": [
       "Training:   0%|          | 0/330 [00:00<?, ?it/s]"
      ]
     },
     "metadata": {},
     "output_type": "display_data"
    },
    {
     "data": {
      "application/vnd.jupyter.widget-view+json": {
       "model_id": "2eed4e23efdc4b758430d78c26bf8cd9",
       "version_major": 2,
       "version_minor": 0
      },
      "text/plain": [
       "Validation:   0%|          | 0/165 [00:00<?, ?it/s]"
      ]
     },
     "metadata": {},
     "output_type": "display_data"
    },
    {
     "name": "stdout",
     "output_type": "stream",
     "text": [
      "val_losses 0.2650071473284201\n",
      "EarlyStopping counter: 20 out of 50\n"
     ]
    },
    {
     "data": {
      "application/vnd.jupyter.widget-view+json": {
       "model_id": "cb5d2a56cb374c71922bbd2979ec8569",
       "version_major": 2,
       "version_minor": 0
      },
      "text/plain": [
       "Training:   0%|          | 0/330 [00:00<?, ?it/s]"
      ]
     },
     "metadata": {},
     "output_type": "display_data"
    },
    {
     "data": {
      "application/vnd.jupyter.widget-view+json": {
       "model_id": "c5b11e0261004e6a970e96c7317f31e6",
       "version_major": 2,
       "version_minor": 0
      },
      "text/plain": [
       "Validation:   0%|          | 0/165 [00:00<?, ?it/s]"
      ]
     },
     "metadata": {},
     "output_type": "display_data"
    },
    {
     "name": "stdout",
     "output_type": "stream",
     "text": [
      "val_losses 0.26614062465501553\n",
      "EarlyStopping counter: 21 out of 50\n"
     ]
    },
    {
     "data": {
      "application/vnd.jupyter.widget-view+json": {
       "model_id": "bcf0c5d5930e4e63aa9a1b167498399f",
       "version_major": 2,
       "version_minor": 0
      },
      "text/plain": [
       "Training:   0%|          | 0/330 [00:00<?, ?it/s]"
      ]
     },
     "metadata": {},
     "output_type": "display_data"
    },
    {
     "data": {
      "application/vnd.jupyter.widget-view+json": {
       "model_id": "40de775e29a049c0af93efaeaa2ec7fa",
       "version_major": 2,
       "version_minor": 0
      },
      "text/plain": [
       "Validation:   0%|          | 0/165 [00:00<?, ?it/s]"
      ]
     },
     "metadata": {},
     "output_type": "display_data"
    },
    {
     "name": "stdout",
     "output_type": "stream",
     "text": [
      "val_losses 0.2663294326175343\n",
      "EarlyStopping counter: 22 out of 50\n"
     ]
    },
    {
     "data": {
      "application/vnd.jupyter.widget-view+json": {
       "model_id": "520aa84679444f528b0574257d4ae566",
       "version_major": 2,
       "version_minor": 0
      },
      "text/plain": [
       "Training:   0%|          | 0/330 [00:00<?, ?it/s]"
      ]
     },
     "metadata": {},
     "output_type": "display_data"
    },
    {
     "data": {
      "application/vnd.jupyter.widget-view+json": {
       "model_id": "374bb9caf9914103b3b792b155add097",
       "version_major": 2,
       "version_minor": 0
      },
      "text/plain": [
       "Validation:   0%|          | 0/165 [00:00<?, ?it/s]"
      ]
     },
     "metadata": {},
     "output_type": "display_data"
    },
    {
     "name": "stdout",
     "output_type": "stream",
     "text": [
      "val_losses 0.2631087525324388\n",
      "EarlyStopping counter: 23 out of 50\n"
     ]
    },
    {
     "data": {
      "application/vnd.jupyter.widget-view+json": {
       "model_id": "c890bbef6c424f658172c30732387603",
       "version_major": 2,
       "version_minor": 0
      },
      "text/plain": [
       "Training:   0%|          | 0/330 [00:00<?, ?it/s]"
      ]
     },
     "metadata": {},
     "output_type": "display_data"
    },
    {
     "data": {
      "application/vnd.jupyter.widget-view+json": {
       "model_id": "1a6febc2916946af96aa7846bf51037f",
       "version_major": 2,
       "version_minor": 0
      },
      "text/plain": [
       "Validation:   0%|          | 0/165 [00:00<?, ?it/s]"
      ]
     },
     "metadata": {},
     "output_type": "display_data"
    },
    {
     "name": "stdout",
     "output_type": "stream",
     "text": [
      "val_losses 0.26280052038756285\n",
      "EarlyStopping counter: 24 out of 50\n"
     ]
    },
    {
     "data": {
      "application/vnd.jupyter.widget-view+json": {
       "model_id": "d6183826b01b4158a5ff7a2a92c675f1",
       "version_major": 2,
       "version_minor": 0
      },
      "text/plain": [
       "Training:   0%|          | 0/330 [00:00<?, ?it/s]"
      ]
     },
     "metadata": {},
     "output_type": "display_data"
    },
    {
     "data": {
      "application/vnd.jupyter.widget-view+json": {
       "model_id": "16a7765fcd6d48a8a4c94f2f60ab4847",
       "version_major": 2,
       "version_minor": 0
      },
      "text/plain": [
       "Validation:   0%|          | 0/165 [00:00<?, ?it/s]"
      ]
     },
     "metadata": {},
     "output_type": "display_data"
    },
    {
     "name": "stdout",
     "output_type": "stream",
     "text": [
      "val_losses 0.27575119810573984\n",
      "EarlyStopping counter: 25 out of 50\n"
     ]
    },
    {
     "data": {
      "application/vnd.jupyter.widget-view+json": {
       "model_id": "12523c534cc648f2b26f1bcd70601465",
       "version_major": 2,
       "version_minor": 0
      },
      "text/plain": [
       "Training:   0%|          | 0/330 [00:00<?, ?it/s]"
      ]
     },
     "metadata": {},
     "output_type": "display_data"
    },
    {
     "data": {
      "application/vnd.jupyter.widget-view+json": {
       "model_id": "4dc54e43efe0428ebaea77335431eeab",
       "version_major": 2,
       "version_minor": 0
      },
      "text/plain": [
       "Validation:   0%|          | 0/165 [00:00<?, ?it/s]"
      ]
     },
     "metadata": {},
     "output_type": "display_data"
    },
    {
     "name": "stdout",
     "output_type": "stream",
     "text": [
      "val_losses 0.28868681797475526\n",
      "EarlyStopping counter: 26 out of 50\n"
     ]
    },
    {
     "data": {
      "application/vnd.jupyter.widget-view+json": {
       "model_id": "4faa054ebc224669aecf53f6e43d42e1",
       "version_major": 2,
       "version_minor": 0
      },
      "text/plain": [
       "Training:   0%|          | 0/330 [00:00<?, ?it/s]"
      ]
     },
     "metadata": {},
     "output_type": "display_data"
    },
    {
     "data": {
      "application/vnd.jupyter.widget-view+json": {
       "model_id": "c273539fed654d8682c5ee0117db89c2",
       "version_major": 2,
       "version_minor": 0
      },
      "text/plain": [
       "Validation:   0%|          | 0/165 [00:00<?, ?it/s]"
      ]
     },
     "metadata": {},
     "output_type": "display_data"
    },
    {
     "name": "stdout",
     "output_type": "stream",
     "text": [
      "val_losses 0.2720910838607586\n",
      "EarlyStopping counter: 27 out of 50\n"
     ]
    },
    {
     "data": {
      "application/vnd.jupyter.widget-view+json": {
       "model_id": "ab683a81269444039ab85a50c333694d",
       "version_major": 2,
       "version_minor": 0
      },
      "text/plain": [
       "Training:   0%|          | 0/330 [00:00<?, ?it/s]"
      ]
     },
     "metadata": {},
     "output_type": "display_data"
    },
    {
     "data": {
      "application/vnd.jupyter.widget-view+json": {
       "model_id": "4c6d456861714098b210fdb50335f9d4",
       "version_major": 2,
       "version_minor": 0
      },
      "text/plain": [
       "Validation:   0%|          | 0/165 [00:00<?, ?it/s]"
      ]
     },
     "metadata": {},
     "output_type": "display_data"
    },
    {
     "name": "stdout",
     "output_type": "stream",
     "text": [
      "val_losses 0.26536441043470843\n",
      "EarlyStopping counter: 28 out of 50\n"
     ]
    },
    {
     "data": {
      "application/vnd.jupyter.widget-view+json": {
       "model_id": "e30eb557d0084eb69f6c57fa09a34e2b",
       "version_major": 2,
       "version_minor": 0
      },
      "text/plain": [
       "Training:   0%|          | 0/330 [00:00<?, ?it/s]"
      ]
     },
     "metadata": {},
     "output_type": "display_data"
    },
    {
     "data": {
      "application/vnd.jupyter.widget-view+json": {
       "model_id": "1e1c9ef94912444ca20ab3158c837445",
       "version_major": 2,
       "version_minor": 0
      },
      "text/plain": [
       "Validation:   0%|          | 0/165 [00:00<?, ?it/s]"
      ]
     },
     "metadata": {},
     "output_type": "display_data"
    },
    {
     "name": "stdout",
     "output_type": "stream",
     "text": [
      "val_losses 0.17107173678549853\n",
      "EarlyStopping counter: 29 out of 50\n"
     ]
    },
    {
     "data": {
      "application/vnd.jupyter.widget-view+json": {
       "model_id": "06096ce96bc84291afc7128df8bb3e42",
       "version_major": 2,
       "version_minor": 0
      },
      "text/plain": [
       "Training:   0%|          | 0/330 [00:00<?, ?it/s]"
      ]
     },
     "metadata": {},
     "output_type": "display_data"
    },
    {
     "data": {
      "application/vnd.jupyter.widget-view+json": {
       "model_id": "7549940111414118bdf6c59a26507bed",
       "version_major": 2,
       "version_minor": 0
      },
      "text/plain": [
       "Validation:   0%|          | 0/165 [00:00<?, ?it/s]"
      ]
     },
     "metadata": {},
     "output_type": "display_data"
    },
    {
     "name": "stdout",
     "output_type": "stream",
     "text": [
      "val_losses 0.20266259958346686\n",
      "EarlyStopping counter: 30 out of 50\n"
     ]
    },
    {
     "data": {
      "application/vnd.jupyter.widget-view+json": {
       "model_id": "4812c8599867497f86847dc5849039af",
       "version_major": 2,
       "version_minor": 0
      },
      "text/plain": [
       "Training:   0%|          | 0/330 [00:00<?, ?it/s]"
      ]
     },
     "metadata": {},
     "output_type": "display_data"
    },
    {
     "data": {
      "application/vnd.jupyter.widget-view+json": {
       "model_id": "d26f6d82a3214d289c177d8399fdd051",
       "version_major": 2,
       "version_minor": 0
      },
      "text/plain": [
       "Validation:   0%|          | 0/165 [00:00<?, ?it/s]"
      ]
     },
     "metadata": {},
     "output_type": "display_data"
    },
    {
     "name": "stdout",
     "output_type": "stream",
     "text": [
      "val_losses 0.23760168033115792\n",
      "EarlyStopping counter: 31 out of 50\n"
     ]
    },
    {
     "data": {
      "application/vnd.jupyter.widget-view+json": {
       "model_id": "387d008789be493bbd5563c37ce609f4",
       "version_major": 2,
       "version_minor": 0
      },
      "text/plain": [
       "Training:   0%|          | 0/330 [00:00<?, ?it/s]"
      ]
     },
     "metadata": {},
     "output_type": "display_data"
    },
    {
     "data": {
      "application/vnd.jupyter.widget-view+json": {
       "model_id": "751ae336e193424ba3e41389d547d421",
       "version_major": 2,
       "version_minor": 0
      },
      "text/plain": [
       "Validation:   0%|          | 0/165 [00:00<?, ?it/s]"
      ]
     },
     "metadata": {},
     "output_type": "display_data"
    },
    {
     "name": "stdout",
     "output_type": "stream",
     "text": [
      "val_losses 0.26299513727426527\n",
      "EarlyStopping counter: 32 out of 50\n"
     ]
    },
    {
     "data": {
      "application/vnd.jupyter.widget-view+json": {
       "model_id": "07ca482a74ea46519703874554eb7432",
       "version_major": 2,
       "version_minor": 0
      },
      "text/plain": [
       "Training:   0%|          | 0/330 [00:00<?, ?it/s]"
      ]
     },
     "metadata": {},
     "output_type": "display_data"
    },
    {
     "data": {
      "application/vnd.jupyter.widget-view+json": {
       "model_id": "0f66c61c91a649ba9cc6ab223d2f2e19",
       "version_major": 2,
       "version_minor": 0
      },
      "text/plain": [
       "Validation:   0%|          | 0/165 [00:00<?, ?it/s]"
      ]
     },
     "metadata": {},
     "output_type": "display_data"
    },
    {
     "name": "stdout",
     "output_type": "stream",
     "text": [
      "val_losses 0.2848008408690944\n",
      "EarlyStopping counter: 33 out of 50\n"
     ]
    },
    {
     "data": {
      "application/vnd.jupyter.widget-view+json": {
       "model_id": "834bd81fe4de490787c640a1ddfe2d40",
       "version_major": 2,
       "version_minor": 0
      },
      "text/plain": [
       "Training:   0%|          | 0/330 [00:00<?, ?it/s]"
      ]
     },
     "metadata": {},
     "output_type": "display_data"
    },
    {
     "data": {
      "application/vnd.jupyter.widget-view+json": {
       "model_id": "a90d741ce49c4b5996bd104e7cca16d5",
       "version_major": 2,
       "version_minor": 0
      },
      "text/plain": [
       "Validation:   0%|          | 0/165 [00:00<?, ?it/s]"
      ]
     },
     "metadata": {},
     "output_type": "display_data"
    },
    {
     "name": "stdout",
     "output_type": "stream",
     "text": [
      "val_losses 0.2902865534478968\n",
      "EarlyStopping counter: 34 out of 50\n"
     ]
    },
    {
     "data": {
      "application/vnd.jupyter.widget-view+json": {
       "model_id": "c66847e97519416b85a531617eaf9c6d",
       "version_major": 2,
       "version_minor": 0
      },
      "text/plain": [
       "Training:   0%|          | 0/330 [00:00<?, ?it/s]"
      ]
     },
     "metadata": {},
     "output_type": "display_data"
    },
    {
     "data": {
      "application/vnd.jupyter.widget-view+json": {
       "model_id": "2aed897f73084c8eaca028edffe8a231",
       "version_major": 2,
       "version_minor": 0
      },
      "text/plain": [
       "Validation:   0%|          | 0/165 [00:00<?, ?it/s]"
      ]
     },
     "metadata": {},
     "output_type": "display_data"
    },
    {
     "name": "stdout",
     "output_type": "stream",
     "text": [
      "val_losses 0.2870396853396387\n",
      "EarlyStopping counter: 35 out of 50\n"
     ]
    },
    {
     "data": {
      "application/vnd.jupyter.widget-view+json": {
       "model_id": "d41272fd327941e5a0cb780105a2eedb",
       "version_major": 2,
       "version_minor": 0
      },
      "text/plain": [
       "Training:   0%|          | 0/330 [00:00<?, ?it/s]"
      ]
     },
     "metadata": {},
     "output_type": "display_data"
    },
    {
     "data": {
      "application/vnd.jupyter.widget-view+json": {
       "model_id": "dabddb8f71d646478c074db74cc5e6e2",
       "version_major": 2,
       "version_minor": 0
      },
      "text/plain": [
       "Validation:   0%|          | 0/165 [00:00<?, ?it/s]"
      ]
     },
     "metadata": {},
     "output_type": "display_data"
    },
    {
     "name": "stdout",
     "output_type": "stream",
     "text": [
      "val_losses 0.2878144305763823\n",
      "EarlyStopping counter: 36 out of 50\n"
     ]
    },
    {
     "data": {
      "application/vnd.jupyter.widget-view+json": {
       "model_id": "40b3e797682f493592d24a5931026f5a",
       "version_major": 2,
       "version_minor": 0
      },
      "text/plain": [
       "Training:   0%|          | 0/330 [00:00<?, ?it/s]"
      ]
     },
     "metadata": {},
     "output_type": "display_data"
    },
    {
     "data": {
      "application/vnd.jupyter.widget-view+json": {
       "model_id": "a0ecfca044084f3abac126d754333008",
       "version_major": 2,
       "version_minor": 0
      },
      "text/plain": [
       "Validation:   0%|          | 0/165 [00:00<?, ?it/s]"
      ]
     },
     "metadata": {},
     "output_type": "display_data"
    },
    {
     "name": "stdout",
     "output_type": "stream",
     "text": [
      "val_losses 0.28915505919492607\n",
      "EarlyStopping counter: 37 out of 50\n"
     ]
    },
    {
     "data": {
      "application/vnd.jupyter.widget-view+json": {
       "model_id": "4a8fc5de1a224a9fa02dbd1e8c02f359",
       "version_major": 2,
       "version_minor": 0
      },
      "text/plain": [
       "Training:   0%|          | 0/330 [00:00<?, ?it/s]"
      ]
     },
     "metadata": {},
     "output_type": "display_data"
    },
    {
     "data": {
      "application/vnd.jupyter.widget-view+json": {
       "model_id": "eab5a5cc00974d468e668edb077a6c68",
       "version_major": 2,
       "version_minor": 0
      },
      "text/plain": [
       "Validation:   0%|          | 0/165 [00:00<?, ?it/s]"
      ]
     },
     "metadata": {},
     "output_type": "display_data"
    },
    {
     "name": "stdout",
     "output_type": "stream",
     "text": [
      "val_losses 0.3072647106918422\n",
      "EarlyStopping counter: 38 out of 50\n"
     ]
    },
    {
     "data": {
      "application/vnd.jupyter.widget-view+json": {
       "model_id": "9bee7fd2365543fcb461dfbec43d77cc",
       "version_major": 2,
       "version_minor": 0
      },
      "text/plain": [
       "Training:   0%|          | 0/330 [00:00<?, ?it/s]"
      ]
     },
     "metadata": {},
     "output_type": "display_data"
    },
    {
     "data": {
      "application/vnd.jupyter.widget-view+json": {
       "model_id": "fae256acace94903a6cde718b7fee9fb",
       "version_major": 2,
       "version_minor": 0
      },
      "text/plain": [
       "Validation:   0%|          | 0/165 [00:00<?, ?it/s]"
      ]
     },
     "metadata": {},
     "output_type": "display_data"
    },
    {
     "name": "stdout",
     "output_type": "stream",
     "text": [
      "val_losses 0.2945344942988771\n",
      "EarlyStopping counter: 39 out of 50\n"
     ]
    },
    {
     "data": {
      "application/vnd.jupyter.widget-view+json": {
       "model_id": "daafdde331c14f6ba54ca8d3fec76b3e",
       "version_major": 2,
       "version_minor": 0
      },
      "text/plain": [
       "Training:   0%|          | 0/330 [00:00<?, ?it/s]"
      ]
     },
     "metadata": {},
     "output_type": "display_data"
    },
    {
     "data": {
      "application/vnd.jupyter.widget-view+json": {
       "model_id": "cb7cb2969c4f47fea37240ecc2a7ea0f",
       "version_major": 2,
       "version_minor": 0
      },
      "text/plain": [
       "Validation:   0%|          | 0/165 [00:00<?, ?it/s]"
      ]
     },
     "metadata": {},
     "output_type": "display_data"
    },
    {
     "name": "stdout",
     "output_type": "stream",
     "text": [
      "val_losses 0.30924719549489743\n",
      "EarlyStopping counter: 40 out of 50\n"
     ]
    },
    {
     "data": {
      "application/vnd.jupyter.widget-view+json": {
       "model_id": "b67240a21fe340ef946ff725cd35a1ff",
       "version_major": 2,
       "version_minor": 0
      },
      "text/plain": [
       "Training:   0%|          | 0/330 [00:00<?, ?it/s]"
      ]
     },
     "metadata": {},
     "output_type": "display_data"
    },
    {
     "data": {
      "application/vnd.jupyter.widget-view+json": {
       "model_id": "e8c97d15277a4372beed906f9ffe6c2d",
       "version_major": 2,
       "version_minor": 0
      },
      "text/plain": [
       "Validation:   0%|          | 0/165 [00:00<?, ?it/s]"
      ]
     },
     "metadata": {},
     "output_type": "display_data"
    },
    {
     "name": "stdout",
     "output_type": "stream",
     "text": [
      "val_losses 0.26781346996625266\n",
      "EarlyStopping counter: 41 out of 50\n"
     ]
    },
    {
     "data": {
      "application/vnd.jupyter.widget-view+json": {
       "model_id": "7359b00752d341b1bf77b66554b52953",
       "version_major": 2,
       "version_minor": 0
      },
      "text/plain": [
       "Training:   0%|          | 0/330 [00:00<?, ?it/s]"
      ]
     },
     "metadata": {},
     "output_type": "display_data"
    },
    {
     "data": {
      "application/vnd.jupyter.widget-view+json": {
       "model_id": "1797f6887f9d4741b1fbb060fc484a20",
       "version_major": 2,
       "version_minor": 0
      },
      "text/plain": [
       "Validation:   0%|          | 0/165 [00:00<?, ?it/s]"
      ]
     },
     "metadata": {},
     "output_type": "display_data"
    },
    {
     "name": "stdout",
     "output_type": "stream",
     "text": [
      "val_losses 0.28234896158630196\n",
      "EarlyStopping counter: 42 out of 50\n"
     ]
    },
    {
     "data": {
      "application/vnd.jupyter.widget-view+json": {
       "model_id": "caf2a49628084320bd93682624be4d2b",
       "version_major": 2,
       "version_minor": 0
      },
      "text/plain": [
       "Training:   0%|          | 0/330 [00:00<?, ?it/s]"
      ]
     },
     "metadata": {},
     "output_type": "display_data"
    },
    {
     "data": {
      "application/vnd.jupyter.widget-view+json": {
       "model_id": "27b798459d7c479a925d9a9d3747cfca",
       "version_major": 2,
       "version_minor": 0
      },
      "text/plain": [
       "Validation:   0%|          | 0/165 [00:00<?, ?it/s]"
      ]
     },
     "metadata": {},
     "output_type": "display_data"
    },
    {
     "name": "stdout",
     "output_type": "stream",
     "text": [
      "val_losses 0.325522833701336\n",
      "EarlyStopping counter: 43 out of 50\n"
     ]
    },
    {
     "data": {
      "application/vnd.jupyter.widget-view+json": {
       "model_id": "8849c1ec3b75475183a838c3e99c7b48",
       "version_major": 2,
       "version_minor": 0
      },
      "text/plain": [
       "Training:   0%|          | 0/330 [00:00<?, ?it/s]"
      ]
     },
     "metadata": {},
     "output_type": "display_data"
    },
    {
     "data": {
      "application/vnd.jupyter.widget-view+json": {
       "model_id": "de0bf77f438c41698c45a0cca04636b2",
       "version_major": 2,
       "version_minor": 0
      },
      "text/plain": [
       "Validation:   0%|          | 0/165 [00:00<?, ?it/s]"
      ]
     },
     "metadata": {},
     "output_type": "display_data"
    },
    {
     "name": "stdout",
     "output_type": "stream",
     "text": [
      "val_losses 0.3136275000644453\n",
      "EarlyStopping counter: 44 out of 50\n"
     ]
    },
    {
     "data": {
      "application/vnd.jupyter.widget-view+json": {
       "model_id": "e4640d8fc20541e98f352637614e50d4",
       "version_major": 2,
       "version_minor": 0
      },
      "text/plain": [
       "Training:   0%|          | 0/330 [00:00<?, ?it/s]"
      ]
     },
     "metadata": {},
     "output_type": "display_data"
    },
    {
     "data": {
      "application/vnd.jupyter.widget-view+json": {
       "model_id": "97c0a76e122345bdb5927f15a625ec31",
       "version_major": 2,
       "version_minor": 0
      },
      "text/plain": [
       "Validation:   0%|          | 0/165 [00:00<?, ?it/s]"
      ]
     },
     "metadata": {},
     "output_type": "display_data"
    },
    {
     "name": "stdout",
     "output_type": "stream",
     "text": [
      "val_losses 0.33197296297911444\n",
      "EarlyStopping counter: 45 out of 50\n"
     ]
    },
    {
     "data": {
      "application/vnd.jupyter.widget-view+json": {
       "model_id": "b8fb547db46e4b2abb820d6d13ef05da",
       "version_major": 2,
       "version_minor": 0
      },
      "text/plain": [
       "Training:   0%|          | 0/330 [00:00<?, ?it/s]"
      ]
     },
     "metadata": {},
     "output_type": "display_data"
    },
    {
     "data": {
      "application/vnd.jupyter.widget-view+json": {
       "model_id": "5bbefc3fba9042ad83e7a5e11a4751eb",
       "version_major": 2,
       "version_minor": 0
      },
      "text/plain": [
       "Validation:   0%|          | 0/165 [00:00<?, ?it/s]"
      ]
     },
     "metadata": {},
     "output_type": "display_data"
    },
    {
     "name": "stdout",
     "output_type": "stream",
     "text": [
      "val_losses 0.3178714669563554\n",
      "EarlyStopping counter: 46 out of 50\n"
     ]
    },
    {
     "data": {
      "application/vnd.jupyter.widget-view+json": {
       "model_id": "e2b718d677a8441aacf7c8f849627d9b",
       "version_major": 2,
       "version_minor": 0
      },
      "text/plain": [
       "Training:   0%|          | 0/330 [00:00<?, ?it/s]"
      ]
     },
     "metadata": {},
     "output_type": "display_data"
    },
    {
     "data": {
      "application/vnd.jupyter.widget-view+json": {
       "model_id": "0328024cf50b4b539294b5745310f418",
       "version_major": 2,
       "version_minor": 0
      },
      "text/plain": [
       "Validation:   0%|          | 0/165 [00:00<?, ?it/s]"
      ]
     },
     "metadata": {},
     "output_type": "display_data"
    },
    {
     "name": "stdout",
     "output_type": "stream",
     "text": [
      "val_losses 0.1654547745982806\n",
      "EarlyStopping counter: 47 out of 50\n"
     ]
    },
    {
     "data": {
      "application/vnd.jupyter.widget-view+json": {
       "model_id": "c7a95b6fee3b487eb942dbb4ae3fdcae",
       "version_major": 2,
       "version_minor": 0
      },
      "text/plain": [
       "Training:   0%|          | 0/330 [00:00<?, ?it/s]"
      ]
     },
     "metadata": {},
     "output_type": "display_data"
    },
    {
     "data": {
      "application/vnd.jupyter.widget-view+json": {
       "model_id": "2fe94938f4fe4563b297cd0cd7a5c0fa",
       "version_major": 2,
       "version_minor": 0
      },
      "text/plain": [
       "Validation:   0%|          | 0/165 [00:00<?, ?it/s]"
      ]
     },
     "metadata": {},
     "output_type": "display_data"
    },
    {
     "name": "stdout",
     "output_type": "stream",
     "text": [
      "val_losses 0.20076651681553234\n",
      "EarlyStopping counter: 48 out of 50\n"
     ]
    },
    {
     "data": {
      "application/vnd.jupyter.widget-view+json": {
       "model_id": "7443c1ef987b4664a2e615aa3ef01370",
       "version_major": 2,
       "version_minor": 0
      },
      "text/plain": [
       "Training:   0%|          | 0/330 [00:00<?, ?it/s]"
      ]
     },
     "metadata": {},
     "output_type": "display_data"
    },
    {
     "data": {
      "application/vnd.jupyter.widget-view+json": {
       "model_id": "154faab6358244b08fcc758942bd08d9",
       "version_major": 2,
       "version_minor": 0
      },
      "text/plain": [
       "Validation:   0%|          | 0/165 [00:00<?, ?it/s]"
      ]
     },
     "metadata": {},
     "output_type": "display_data"
    },
    {
     "name": "stdout",
     "output_type": "stream",
     "text": [
      "val_losses 0.2260665328665213\n",
      "EarlyStopping counter: 49 out of 50\n"
     ]
    },
    {
     "data": {
      "application/vnd.jupyter.widget-view+json": {
       "model_id": "51344ff288b149208943e1086e8ffa69",
       "version_major": 2,
       "version_minor": 0
      },
      "text/plain": [
       "Training:   0%|          | 0/330 [00:00<?, ?it/s]"
      ]
     },
     "metadata": {},
     "output_type": "display_data"
    },
    {
     "data": {
      "application/vnd.jupyter.widget-view+json": {
       "model_id": "732e91c3f919409398010369d99cfc71",
       "version_major": 2,
       "version_minor": 0
      },
      "text/plain": [
       "Validation:   0%|          | 0/165 [00:00<?, ?it/s]"
      ]
     },
     "metadata": {},
     "output_type": "display_data"
    },
    {
     "name": "stdout",
     "output_type": "stream",
     "text": [
      "val_losses 0.24700513170524077\n",
      "EarlyStopping counter: 50 out of 50\n",
      "early stopping epoch: 80\n",
      "***************************\n",
      "modelname:model_fold_1.ptを保存しました\n",
      "*************************************Test*************************************\n",
      "in constructor inchannel: 45\n",
      "Input channel count3\n",
      "model_dir =  model/20250131-CyclicLRv4\n",
      "Creating image arrays...\n",
      "Number of label images: 12\n",
      "Completed creating image arrays:\n",
      "Dataset shape  (12, 256, 256, 45)\n",
      "Label image shape  (12, 256, 256)\n",
      "\n",
      "index =  0\n",
      "予測画像: /home/eric/Documents/cervicalResearchIIP/result_test/20250131-CyclicLRv4/fold1/N1-2.png\n",
      "テストラベル: /home/eric/Documents/cervicalResearchIIP/img_1006t/labeled/N1-2.png\n",
      "index =  1\n",
      "予測画像: /home/eric/Documents/cervicalResearchIIP/result_test/20250131-CyclicLRv4/fold1/N1-4.png\n",
      "テストラベル: /home/eric/Documents/cervicalResearchIIP/img_1006t/labeled/N1-4.png\n",
      "index =  2\n",
      "予測画像: /home/eric/Documents/cervicalResearchIIP/result_test/20250131-CyclicLRv4/fold1/N1-6.png\n",
      "テストラベル: /home/eric/Documents/cervicalResearchIIP/img_1006t/labeled/N1-6.png\n",
      "index =  3\n",
      "予測画像: /home/eric/Documents/cervicalResearchIIP/result_test/20250131-CyclicLRv4/fold1/N2-1.png\n",
      "テストラベル: /home/eric/Documents/cervicalResearchIIP/img_1006t/labeled/N2-1.png\n",
      "index =  4\n",
      "予測画像: /home/eric/Documents/cervicalResearchIIP/result_test/20250131-CyclicLRv4/fold1/N2-2.png\n",
      "テストラベル: /home/eric/Documents/cervicalResearchIIP/img_1006t/labeled/N2-2.png\n",
      "index =  5\n",
      "予測画像: /home/eric/Documents/cervicalResearchIIP/result_test/20250131-CyclicLRv4/fold1/N3-2.png\n",
      "テストラベル: /home/eric/Documents/cervicalResearchIIP/img_1006t/labeled/N3-2.png\n",
      "index =  6\n",
      "予測画像: /home/eric/Documents/cervicalResearchIIP/result_test/20250131-CyclicLRv4/fold1/N3-3.png\n",
      "テストラベル: /home/eric/Documents/cervicalResearchIIP/img_1006t/labeled/N3-3.png\n",
      "index =  7\n",
      "予測画像: /home/eric/Documents/cervicalResearchIIP/result_test/20250131-CyclicLRv4/fold1/N3-9.png\n",
      "テストラベル: /home/eric/Documents/cervicalResearchIIP/img_1006t/labeled/N3-9.png\n",
      "index =  8\n",
      "予測画像: /home/eric/Documents/cervicalResearchIIP/result_test/20250131-CyclicLRv4/fold1/N4-1.png\n",
      "テストラベル: /home/eric/Documents/cervicalResearchIIP/img_1006t/labeled/N4-1.png\n",
      "index =  9\n",
      "予測画像: /home/eric/Documents/cervicalResearchIIP/result_test/20250131-CyclicLRv4/fold1/N4-6.png\n",
      "テストラベル: /home/eric/Documents/cervicalResearchIIP/img_1006t/labeled/N4-6.png\n",
      "index =  10\n",
      "予測画像: /home/eric/Documents/cervicalResearchIIP/result_test/20250131-CyclicLRv4/fold1/N5-1.png\n",
      "テストラベル: /home/eric/Documents/cervicalResearchIIP/img_1006t/labeled/N5-1.png\n",
      "index =  11\n",
      "予測画像: /home/eric/Documents/cervicalResearchIIP/result_test/20250131-CyclicLRv4/fold1/N5-6.png\n",
      "テストラベル: /home/eric/Documents/cervicalResearchIIP/img_1006t/labeled/N5-6.png\n",
      "Count1 =  [701081, 13914, 8632, 9392, 6184, 7804, 6514, 9188, 5652, 12351, 5720]\n",
      "Count2 =  [704509, 13124, 8211, 8829, 6100, 8123, 5992, 8687, 5924, 11092, 5841]\n",
      "Count3 =  [691202, 11573, 7533, 7994, 5545, 6700, 5446, 6348, 5001, 8236, 4463]\n",
      "Dice =  [0.9835044358596746, 0.85605444189659, 0.8944962298877872, 0.8774490971955436, 0.902800390752198, 0.8413386073962453, 0.8709419478650248, 0.7102657342657342, 0.8640290255701452, 0.7026404470417609, 0.7720785399186921, 0.8292094461789721]\n",
      "Cross validation: True\n",
      "Fold: 2 out of 4\n",
      "Augmentation: True\n",
      "Augmentation amount: 30\n",
      "Training: Total of 22 cases.\n",
      "['N4-1' 'N3-1' 'N2-1' 'N3-4' 'N5-1' 'N2-6' 'N4-9' 'N1-5' 'N1-1' 'N1-2'\n",
      " 'N3-2' 'N2-4' 'N5-4' 'N2-2' 'N4-3' 'N1-10' 'N1-7' 'N3-9' 'N5-2' 'N3-5'\n",
      " 'N4-8' 'N2-7']\n",
      "Validation: Total of 12 cases.\n",
      "['N4-5' 'N3-8' 'N5-5' 'N4-6' 'N1-4' 'N2-9' 'N5-6' 'N4-2' 'N3-3' 'N2-8'\n",
      " 'N1-6' 'N2-3']\n",
      "Test: Total of 11 cases.\n",
      "['N1-3' 'N1-8' 'N1-9' 'N2-5' 'N2-10' 'N3-6' 'N3-7' 'N3-10' 'N4-4' 'N4-7'\n",
      " 'N5-3']\n",
      "\n",
      "Creating image arrays...\n",
      "Number of label images: 660\n",
      "Completed creating image arrays:\n",
      "Dataset shape  (660, 256, 256, 45)\n",
      "Label image shape  (660, 256, 256)\n",
      "\n",
      "Creating image arrays...\n",
      "Number of label images: 360\n",
      "Completed creating image arrays:\n",
      "Dataset shape  (360, 256, 256, 45)\n",
      "Label image shape  (360, 256, 256)\n",
      "\n",
      "*************************Training*************************\n",
      "x.shape =  torch.Size([2, 45, 256, 256])\n",
      "x.min(), x.max() =  tensor(0.) tensor(1.)\n",
      "y.shape =  torch.Size([2, 256, 256])\n",
      "torch.unique(y) =  tensor([ 0,  1,  2,  3,  4,  5,  6,  7,  8,  9, 10])\n",
      "in constructor inchannel: 45\n",
      "Input channel count3\n",
      "=======start training======\n"
     ]
    },
    {
     "data": {
      "application/vnd.jupyter.widget-view+json": {
       "model_id": "221363e1b49f482f99e737602c19cb98",
       "version_major": 2,
       "version_minor": 0
      },
      "text/plain": [
       "Progress:   0%|          | 0/146 [00:00<?, ?it/s]"
      ]
     },
     "metadata": {},
     "output_type": "display_data"
    },
    {
     "data": {
      "application/vnd.jupyter.widget-view+json": {
       "model_id": "57c375d451c04482890260f77190771d",
       "version_major": 2,
       "version_minor": 0
      },
      "text/plain": [
       "Training:   0%|          | 0/330 [00:00<?, ?it/s]"
      ]
     },
     "metadata": {},
     "output_type": "display_data"
    },
    {
     "data": {
      "application/vnd.jupyter.widget-view+json": {
       "model_id": "8bb17632172f4a28bf37ea93ea7c9388",
       "version_major": 2,
       "version_minor": 0
      },
      "text/plain": [
       "Validation:   0%|          | 0/180 [00:00<?, ?it/s]"
      ]
     },
     "metadata": {},
     "output_type": "display_data"
    },
    {
     "name": "stdout",
     "output_type": "stream",
     "text": [
      "val_losses 1.5661521719561682\n",
      "Validation loss decreased (inf --> 1.566152).  Saving model ...\n"
     ]
    },
    {
     "data": {
      "application/vnd.jupyter.widget-view+json": {
       "model_id": "ff940e41ebaa4cfe8134b0af1e0d1cd9",
       "version_major": 2,
       "version_minor": 0
      },
      "text/plain": [
       "Training:   0%|          | 0/330 [00:00<?, ?it/s]"
      ]
     },
     "metadata": {},
     "output_type": "display_data"
    },
    {
     "data": {
      "application/vnd.jupyter.widget-view+json": {
       "model_id": "a7861d0bf47946ccb21148935df40d51",
       "version_major": 2,
       "version_minor": 0
      },
      "text/plain": [
       "Validation:   0%|          | 0/180 [00:00<?, ?it/s]"
      ]
     },
     "metadata": {},
     "output_type": "display_data"
    },
    {
     "name": "stdout",
     "output_type": "stream",
     "text": [
      "val_losses 1.0774497962660259\n",
      "Validation loss decreased (1.566152 --> 1.077450).  Saving model ...\n"
     ]
    },
    {
     "data": {
      "application/vnd.jupyter.widget-view+json": {
       "model_id": "aa9ad75f88044396a31e3916cc57f1cb",
       "version_major": 2,
       "version_minor": 0
      },
      "text/plain": [
       "Training:   0%|          | 0/330 [00:00<?, ?it/s]"
      ]
     },
     "metadata": {},
     "output_type": "display_data"
    },
    {
     "data": {
      "application/vnd.jupyter.widget-view+json": {
       "model_id": "5daa06e1469342288f63844706f92de7",
       "version_major": 2,
       "version_minor": 0
      },
      "text/plain": [
       "Validation:   0%|          | 0/180 [00:00<?, ?it/s]"
      ]
     },
     "metadata": {},
     "output_type": "display_data"
    },
    {
     "name": "stdout",
     "output_type": "stream",
     "text": [
      "val_losses 0.8482619047164917\n",
      "Validation loss decreased (1.077450 --> 0.848262).  Saving model ...\n"
     ]
    },
    {
     "data": {
      "application/vnd.jupyter.widget-view+json": {
       "model_id": "4d0b2d4be3484dc49fdd6db60d77073d",
       "version_major": 2,
       "version_minor": 0
      },
      "text/plain": [
       "Training:   0%|          | 0/330 [00:00<?, ?it/s]"
      ]
     },
     "metadata": {},
     "output_type": "display_data"
    },
    {
     "data": {
      "application/vnd.jupyter.widget-view+json": {
       "model_id": "06f686a122854fb2b5ea2ef3f05ad020",
       "version_major": 2,
       "version_minor": 0
      },
      "text/plain": [
       "Validation:   0%|          | 0/180 [00:00<?, ?it/s]"
      ]
     },
     "metadata": {},
     "output_type": "display_data"
    },
    {
     "name": "stdout",
     "output_type": "stream",
     "text": [
      "val_losses 0.7682349087463485\n",
      "Validation loss decreased (0.848262 --> 0.768235).  Saving model ...\n"
     ]
    },
    {
     "data": {
      "application/vnd.jupyter.widget-view+json": {
       "model_id": "0f20fe9ec3364ad1a40b9c65b3054b6f",
       "version_major": 2,
       "version_minor": 0
      },
      "text/plain": [
       "Training:   0%|          | 0/330 [00:00<?, ?it/s]"
      ]
     },
     "metadata": {},
     "output_type": "display_data"
    },
    {
     "data": {
      "application/vnd.jupyter.widget-view+json": {
       "model_id": "01ec8a079caa4798975c3a78cc5daa3b",
       "version_major": 2,
       "version_minor": 0
      },
      "text/plain": [
       "Validation:   0%|          | 0/180 [00:00<?, ?it/s]"
      ]
     },
     "metadata": {},
     "output_type": "display_data"
    },
    {
     "name": "stdout",
     "output_type": "stream",
     "text": [
      "val_losses 0.7227597824401326\n",
      "Validation loss decreased (0.768235 --> 0.722760).  Saving model ...\n"
     ]
    },
    {
     "data": {
      "application/vnd.jupyter.widget-view+json": {
       "model_id": "f254af244b98469eaa3e79fa856d48e2",
       "version_major": 2,
       "version_minor": 0
      },
      "text/plain": [
       "Training:   0%|          | 0/330 [00:00<?, ?it/s]"
      ]
     },
     "metadata": {},
     "output_type": "display_data"
    },
    {
     "data": {
      "application/vnd.jupyter.widget-view+json": {
       "model_id": "f66093c625284b1e879c829ddfe811f0",
       "version_major": 2,
       "version_minor": 0
      },
      "text/plain": [
       "Validation:   0%|          | 0/180 [00:00<?, ?it/s]"
      ]
     },
     "metadata": {},
     "output_type": "display_data"
    },
    {
     "name": "stdout",
     "output_type": "stream",
     "text": [
      "val_losses 0.7332043078210618\n",
      "EarlyStopping counter: 1 out of 50\n"
     ]
    },
    {
     "data": {
      "application/vnd.jupyter.widget-view+json": {
       "model_id": "2d2b5b295b0a413196c60b4f2179a2af",
       "version_major": 2,
       "version_minor": 0
      },
      "text/plain": [
       "Training:   0%|          | 0/330 [00:00<?, ?it/s]"
      ]
     },
     "metadata": {},
     "output_type": "display_data"
    },
    {
     "data": {
      "application/vnd.jupyter.widget-view+json": {
       "model_id": "8c91912b6f5c4208b90c7d562f34c2c7",
       "version_major": 2,
       "version_minor": 0
      },
      "text/plain": [
       "Validation:   0%|          | 0/180 [00:00<?, ?it/s]"
      ]
     },
     "metadata": {},
     "output_type": "display_data"
    },
    {
     "name": "stdout",
     "output_type": "stream",
     "text": [
      "val_losses 0.7397209161685573\n",
      "EarlyStopping counter: 2 out of 50\n"
     ]
    },
    {
     "data": {
      "application/vnd.jupyter.widget-view+json": {
       "model_id": "f7c55488f28e45ac8886424e57ff8b37",
       "version_major": 2,
       "version_minor": 0
      },
      "text/plain": [
       "Training:   0%|          | 0/330 [00:00<?, ?it/s]"
      ]
     },
     "metadata": {},
     "output_type": "display_data"
    },
    {
     "data": {
      "application/vnd.jupyter.widget-view+json": {
       "model_id": "b3b02959f9e94defad181c2c335ce322",
       "version_major": 2,
       "version_minor": 0
      },
      "text/plain": [
       "Validation:   0%|          | 0/180 [00:00<?, ?it/s]"
      ]
     },
     "metadata": {},
     "output_type": "display_data"
    },
    {
     "name": "stdout",
     "output_type": "stream",
     "text": [
      "val_losses 0.7660957088900937\n",
      "EarlyStopping counter: 3 out of 50\n"
     ]
    },
    {
     "data": {
      "application/vnd.jupyter.widget-view+json": {
       "model_id": "a16381d68b844854bbab0229f50c588b",
       "version_major": 2,
       "version_minor": 0
      },
      "text/plain": [
       "Training:   0%|          | 0/330 [00:00<?, ?it/s]"
      ]
     },
     "metadata": {},
     "output_type": "display_data"
    },
    {
     "data": {
      "application/vnd.jupyter.widget-view+json": {
       "model_id": "d9e434891adc4126b5c90ef88e0ac9a7",
       "version_major": 2,
       "version_minor": 0
      },
      "text/plain": [
       "Validation:   0%|          | 0/180 [00:00<?, ?it/s]"
      ]
     },
     "metadata": {},
     "output_type": "display_data"
    },
    {
     "name": "stdout",
     "output_type": "stream",
     "text": [
      "val_losses 0.7656883078316847\n",
      "EarlyStopping counter: 4 out of 50\n"
     ]
    },
    {
     "data": {
      "application/vnd.jupyter.widget-view+json": {
       "model_id": "d68176e7ce1c4e708d743b666fd80d98",
       "version_major": 2,
       "version_minor": 0
      },
      "text/plain": [
       "Training:   0%|          | 0/330 [00:00<?, ?it/s]"
      ]
     },
     "metadata": {},
     "output_type": "display_data"
    },
    {
     "data": {
      "application/vnd.jupyter.widget-view+json": {
       "model_id": "03fc96efcc354e359282265a149c2abe",
       "version_major": 2,
       "version_minor": 0
      },
      "text/plain": [
       "Validation:   0%|          | 0/180 [00:00<?, ?it/s]"
      ]
     },
     "metadata": {},
     "output_type": "display_data"
    },
    {
     "name": "stdout",
     "output_type": "stream",
     "text": [
      "val_losses 0.7964753056565921\n",
      "EarlyStopping counter: 5 out of 50\n"
     ]
    },
    {
     "data": {
      "application/vnd.jupyter.widget-view+json": {
       "model_id": "f4d339055539487384ea8eb051c58728",
       "version_major": 2,
       "version_minor": 0
      },
      "text/plain": [
       "Training:   0%|          | 0/330 [00:00<?, ?it/s]"
      ]
     },
     "metadata": {},
     "output_type": "display_data"
    },
    {
     "data": {
      "application/vnd.jupyter.widget-view+json": {
       "model_id": "488b7de38e164d8cab1829bdcbb95140",
       "version_major": 2,
       "version_minor": 0
      },
      "text/plain": [
       "Validation:   0%|          | 0/180 [00:00<?, ?it/s]"
      ]
     },
     "metadata": {},
     "output_type": "display_data"
    },
    {
     "name": "stdout",
     "output_type": "stream",
     "text": [
      "val_losses 0.8545257724821568\n",
      "EarlyStopping counter: 6 out of 50\n"
     ]
    },
    {
     "data": {
      "application/vnd.jupyter.widget-view+json": {
       "model_id": "e2bfbf185a7e4e76be055662c6df576b",
       "version_major": 2,
       "version_minor": 0
      },
      "text/plain": [
       "Training:   0%|          | 0/330 [00:00<?, ?it/s]"
      ]
     },
     "metadata": {},
     "output_type": "display_data"
    },
    {
     "data": {
      "application/vnd.jupyter.widget-view+json": {
       "model_id": "ae69c6c5fa704aef98d7c7571a6a5a1b",
       "version_major": 2,
       "version_minor": 0
      },
      "text/plain": [
       "Validation:   0%|          | 0/180 [00:00<?, ?it/s]"
      ]
     },
     "metadata": {},
     "output_type": "display_data"
    },
    {
     "name": "stdout",
     "output_type": "stream",
     "text": [
      "val_losses 0.8190919689006275\n",
      "EarlyStopping counter: 7 out of 50\n"
     ]
    },
    {
     "data": {
      "application/vnd.jupyter.widget-view+json": {
       "model_id": "b519c5bab5ef4d52adda6f28de2fbd2a",
       "version_major": 2,
       "version_minor": 0
      },
      "text/plain": [
       "Training:   0%|          | 0/330 [00:00<?, ?it/s]"
      ]
     },
     "metadata": {},
     "output_type": "display_data"
    },
    {
     "data": {
      "application/vnd.jupyter.widget-view+json": {
       "model_id": "9e668a4da72a4a3796942598c05f949b",
       "version_major": 2,
       "version_minor": 0
      },
      "text/plain": [
       "Validation:   0%|          | 0/180 [00:00<?, ?it/s]"
      ]
     },
     "metadata": {},
     "output_type": "display_data"
    },
    {
     "name": "stdout",
     "output_type": "stream",
     "text": [
      "val_losses 0.8730033420854144\n",
      "EarlyStopping counter: 8 out of 50\n"
     ]
    },
    {
     "data": {
      "application/vnd.jupyter.widget-view+json": {
       "model_id": "1d79b155774b43c9b9636234047738b3",
       "version_major": 2,
       "version_minor": 0
      },
      "text/plain": [
       "Training:   0%|          | 0/330 [00:00<?, ?it/s]"
      ]
     },
     "metadata": {},
     "output_type": "display_data"
    },
    {
     "data": {
      "application/vnd.jupyter.widget-view+json": {
       "model_id": "a854b4c94ab94ba78f4f63da0194bc13",
       "version_major": 2,
       "version_minor": 0
      },
      "text/plain": [
       "Validation:   0%|          | 0/180 [00:00<?, ?it/s]"
      ]
     },
     "metadata": {},
     "output_type": "display_data"
    },
    {
     "name": "stdout",
     "output_type": "stream",
     "text": [
      "val_losses 0.8498625005284945\n",
      "EarlyStopping counter: 9 out of 50\n"
     ]
    },
    {
     "data": {
      "application/vnd.jupyter.widget-view+json": {
       "model_id": "78bc79f6ca60484bafc6a2a4f7a385ef",
       "version_major": 2,
       "version_minor": 0
      },
      "text/plain": [
       "Training:   0%|          | 0/330 [00:00<?, ?it/s]"
      ]
     },
     "metadata": {},
     "output_type": "display_data"
    },
    {
     "data": {
      "application/vnd.jupyter.widget-view+json": {
       "model_id": "4d3160778cc54495a53682a8b10137b3",
       "version_major": 2,
       "version_minor": 0
      },
      "text/plain": [
       "Validation:   0%|          | 0/180 [00:00<?, ?it/s]"
      ]
     },
     "metadata": {},
     "output_type": "display_data"
    },
    {
     "name": "stdout",
     "output_type": "stream",
     "text": [
      "val_losses 0.8901399998201265\n",
      "EarlyStopping counter: 10 out of 50\n"
     ]
    },
    {
     "data": {
      "application/vnd.jupyter.widget-view+json": {
       "model_id": "47caa491d1e94d89b29194c81d203318",
       "version_major": 2,
       "version_minor": 0
      },
      "text/plain": [
       "Training:   0%|          | 0/330 [00:00<?, ?it/s]"
      ]
     },
     "metadata": {},
     "output_type": "display_data"
    },
    {
     "data": {
      "application/vnd.jupyter.widget-view+json": {
       "model_id": "bee8c7b3b1f14b7d8f0fa030bdc435aa",
       "version_major": 2,
       "version_minor": 0
      },
      "text/plain": [
       "Validation:   0%|          | 0/180 [00:00<?, ?it/s]"
      ]
     },
     "metadata": {},
     "output_type": "display_data"
    },
    {
     "name": "stdout",
     "output_type": "stream",
     "text": [
      "val_losses 0.9193563237786293\n",
      "EarlyStopping counter: 11 out of 50\n"
     ]
    },
    {
     "data": {
      "application/vnd.jupyter.widget-view+json": {
       "model_id": "d4f867d2baf945f9b382b3e72066f70b",
       "version_major": 2,
       "version_minor": 0
      },
      "text/plain": [
       "Training:   0%|          | 0/330 [00:00<?, ?it/s]"
      ]
     },
     "metadata": {},
     "output_type": "display_data"
    },
    {
     "data": {
      "application/vnd.jupyter.widget-view+json": {
       "model_id": "6e1b7ff9c1424e9aa70040738356abec",
       "version_major": 2,
       "version_minor": 0
      },
      "text/plain": [
       "Validation:   0%|          | 0/180 [00:00<?, ?it/s]"
      ]
     },
     "metadata": {},
     "output_type": "display_data"
    },
    {
     "name": "stdout",
     "output_type": "stream",
     "text": [
      "val_losses 0.8784333674444093\n",
      "EarlyStopping counter: 12 out of 50\n"
     ]
    },
    {
     "data": {
      "application/vnd.jupyter.widget-view+json": {
       "model_id": "72ed1d0b30ee4e2c93e4848892bc40f6",
       "version_major": 2,
       "version_minor": 0
      },
      "text/plain": [
       "Training:   0%|          | 0/330 [00:00<?, ?it/s]"
      ]
     },
     "metadata": {},
     "output_type": "display_data"
    },
    {
     "data": {
      "application/vnd.jupyter.widget-view+json": {
       "model_id": "9bf3334911004192bc8ebd918f85b2be",
       "version_major": 2,
       "version_minor": 0
      },
      "text/plain": [
       "Validation:   0%|          | 0/180 [00:00<?, ?it/s]"
      ]
     },
     "metadata": {},
     "output_type": "display_data"
    },
    {
     "name": "stdout",
     "output_type": "stream",
     "text": [
      "val_losses 0.5645157013502385\n",
      "Validation loss decreased (0.722760 --> 0.564516).  Saving model ...\n"
     ]
    },
    {
     "data": {
      "application/vnd.jupyter.widget-view+json": {
       "model_id": "d1d8ff48894342db8ad34ee9d73919a3",
       "version_major": 2,
       "version_minor": 0
      },
      "text/plain": [
       "Training:   0%|          | 0/330 [00:00<?, ?it/s]"
      ]
     },
     "metadata": {},
     "output_type": "display_data"
    },
    {
     "data": {
      "application/vnd.jupyter.widget-view+json": {
       "model_id": "59432babc35a4261a30feff95689d312",
       "version_major": 2,
       "version_minor": 0
      },
      "text/plain": [
       "Validation:   0%|          | 0/180 [00:00<?, ?it/s]"
      ]
     },
     "metadata": {},
     "output_type": "display_data"
    },
    {
     "name": "stdout",
     "output_type": "stream",
     "text": [
      "val_losses 0.7216714771257506\n",
      "EarlyStopping counter: 1 out of 50\n"
     ]
    },
    {
     "data": {
      "application/vnd.jupyter.widget-view+json": {
       "model_id": "969b20f4d739427bb703085f351ffa7a",
       "version_major": 2,
       "version_minor": 0
      },
      "text/plain": [
       "Training:   0%|          | 0/330 [00:00<?, ?it/s]"
      ]
     },
     "metadata": {},
     "output_type": "display_data"
    },
    {
     "data": {
      "application/vnd.jupyter.widget-view+json": {
       "model_id": "38daaf0df136433f9c8495fe8e4e2d14",
       "version_major": 2,
       "version_minor": 0
      },
      "text/plain": [
       "Validation:   0%|          | 0/180 [00:00<?, ?it/s]"
      ]
     },
     "metadata": {},
     "output_type": "display_data"
    },
    {
     "name": "stdout",
     "output_type": "stream",
     "text": [
      "val_losses 0.7758803608102931\n",
      "EarlyStopping counter: 2 out of 50\n"
     ]
    },
    {
     "data": {
      "application/vnd.jupyter.widget-view+json": {
       "model_id": "345eacb9a9124e51a22c191adc9395c1",
       "version_major": 2,
       "version_minor": 0
      },
      "text/plain": [
       "Training:   0%|          | 0/330 [00:00<?, ?it/s]"
      ]
     },
     "metadata": {},
     "output_type": "display_data"
    },
    {
     "data": {
      "application/vnd.jupyter.widget-view+json": {
       "model_id": "9d0a5b7a78f644cabf10c538ee41e62a",
       "version_major": 2,
       "version_minor": 0
      },
      "text/plain": [
       "Validation:   0%|          | 0/180 [00:00<?, ?it/s]"
      ]
     },
     "metadata": {},
     "output_type": "display_data"
    },
    {
     "name": "stdout",
     "output_type": "stream",
     "text": [
      "val_losses 0.842001222156816\n",
      "EarlyStopping counter: 3 out of 50\n"
     ]
    },
    {
     "data": {
      "application/vnd.jupyter.widget-view+json": {
       "model_id": "7c7655ee3d974244b305ff5a8a29bbca",
       "version_major": 2,
       "version_minor": 0
      },
      "text/plain": [
       "Training:   0%|          | 0/330 [00:00<?, ?it/s]"
      ]
     },
     "metadata": {},
     "output_type": "display_data"
    },
    {
     "data": {
      "application/vnd.jupyter.widget-view+json": {
       "model_id": "2237e8a26cc2475ba353e48335783475",
       "version_major": 2,
       "version_minor": 0
      },
      "text/plain": [
       "Validation:   0%|          | 0/180 [00:00<?, ?it/s]"
      ]
     },
     "metadata": {},
     "output_type": "display_data"
    },
    {
     "name": "stdout",
     "output_type": "stream",
     "text": [
      "val_losses 0.8663572178946601\n",
      "EarlyStopping counter: 4 out of 50\n"
     ]
    },
    {
     "data": {
      "application/vnd.jupyter.widget-view+json": {
       "model_id": "1fe0eb6f8b744c7484fa665d4ed500ee",
       "version_major": 2,
       "version_minor": 0
      },
      "text/plain": [
       "Training:   0%|          | 0/330 [00:00<?, ?it/s]"
      ]
     },
     "metadata": {},
     "output_type": "display_data"
    },
    {
     "data": {
      "application/vnd.jupyter.widget-view+json": {
       "model_id": "ff174dfd940a4b9ab0a094480fc936f3",
       "version_major": 2,
       "version_minor": 0
      },
      "text/plain": [
       "Validation:   0%|          | 0/180 [00:00<?, ?it/s]"
      ]
     },
     "metadata": {},
     "output_type": "display_data"
    },
    {
     "name": "stdout",
     "output_type": "stream",
     "text": [
      "val_losses 0.9231240599519677\n",
      "EarlyStopping counter: 5 out of 50\n"
     ]
    },
    {
     "data": {
      "application/vnd.jupyter.widget-view+json": {
       "model_id": "dca8577adc7a4722b8eb290845ae6f70",
       "version_major": 2,
       "version_minor": 0
      },
      "text/plain": [
       "Training:   0%|          | 0/330 [00:00<?, ?it/s]"
      ]
     },
     "metadata": {},
     "output_type": "display_data"
    },
    {
     "data": {
      "application/vnd.jupyter.widget-view+json": {
       "model_id": "56df690505094f38ac0f6b270f5b7546",
       "version_major": 2,
       "version_minor": 0
      },
      "text/plain": [
       "Validation:   0%|          | 0/180 [00:00<?, ?it/s]"
      ]
     },
     "metadata": {},
     "output_type": "display_data"
    },
    {
     "name": "stdout",
     "output_type": "stream",
     "text": [
      "val_losses 0.9260037350985739\n",
      "EarlyStopping counter: 6 out of 50\n"
     ]
    },
    {
     "data": {
      "application/vnd.jupyter.widget-view+json": {
       "model_id": "f42020799e3a4561827fb8d73967b00d",
       "version_major": 2,
       "version_minor": 0
      },
      "text/plain": [
       "Training:   0%|          | 0/330 [00:00<?, ?it/s]"
      ]
     },
     "metadata": {},
     "output_type": "display_data"
    },
    {
     "data": {
      "application/vnd.jupyter.widget-view+json": {
       "model_id": "d53a41fb345e4d4ba829225d814e1e79",
       "version_major": 2,
       "version_minor": 0
      },
      "text/plain": [
       "Validation:   0%|          | 0/180 [00:00<?, ?it/s]"
      ]
     },
     "metadata": {},
     "output_type": "display_data"
    },
    {
     "name": "stdout",
     "output_type": "stream",
     "text": [
      "val_losses 0.926863569766283\n",
      "EarlyStopping counter: 7 out of 50\n"
     ]
    },
    {
     "data": {
      "application/vnd.jupyter.widget-view+json": {
       "model_id": "69248f2b34214bd996f1b26f0e99ad65",
       "version_major": 2,
       "version_minor": 0
      },
      "text/plain": [
       "Training:   0%|          | 0/330 [00:00<?, ?it/s]"
      ]
     },
     "metadata": {},
     "output_type": "display_data"
    },
    {
     "data": {
      "application/vnd.jupyter.widget-view+json": {
       "model_id": "5512d22103ef41c2b7ad08b525d17cf4",
       "version_major": 2,
       "version_minor": 0
      },
      "text/plain": [
       "Validation:   0%|          | 0/180 [00:00<?, ?it/s]"
      ]
     },
     "metadata": {},
     "output_type": "display_data"
    },
    {
     "name": "stdout",
     "output_type": "stream",
     "text": [
      "val_losses 0.9188059207465914\n",
      "EarlyStopping counter: 8 out of 50\n"
     ]
    },
    {
     "data": {
      "application/vnd.jupyter.widget-view+json": {
       "model_id": "30b2b382b42342d6b3473ca9a3668eb8",
       "version_major": 2,
       "version_minor": 0
      },
      "text/plain": [
       "Training:   0%|          | 0/330 [00:00<?, ?it/s]"
      ]
     },
     "metadata": {},
     "output_type": "display_data"
    },
    {
     "data": {
      "application/vnd.jupyter.widget-view+json": {
       "model_id": "3ddd2237229e4e7292ae006496511c57",
       "version_major": 2,
       "version_minor": 0
      },
      "text/plain": [
       "Validation:   0%|          | 0/180 [00:00<?, ?it/s]"
      ]
     },
     "metadata": {},
     "output_type": "display_data"
    },
    {
     "name": "stdout",
     "output_type": "stream",
     "text": [
      "val_losses 0.9313361623220974\n",
      "EarlyStopping counter: 9 out of 50\n"
     ]
    },
    {
     "data": {
      "application/vnd.jupyter.widget-view+json": {
       "model_id": "7bd4ba51b0884bd5a22fd73c8966b614",
       "version_major": 2,
       "version_minor": 0
      },
      "text/plain": [
       "Training:   0%|          | 0/330 [00:00<?, ?it/s]"
      ]
     },
     "metadata": {},
     "output_type": "display_data"
    },
    {
     "data": {
      "application/vnd.jupyter.widget-view+json": {
       "model_id": "9f4deb603b394fdd8743ee38f3654a28",
       "version_major": 2,
       "version_minor": 0
      },
      "text/plain": [
       "Validation:   0%|          | 0/180 [00:00<?, ?it/s]"
      ]
     },
     "metadata": {},
     "output_type": "display_data"
    },
    {
     "name": "stdout",
     "output_type": "stream",
     "text": [
      "val_losses 0.9726549430025948\n",
      "EarlyStopping counter: 10 out of 50\n"
     ]
    },
    {
     "data": {
      "application/vnd.jupyter.widget-view+json": {
       "model_id": "72071e58bf014306b73f04f0856a8c63",
       "version_major": 2,
       "version_minor": 0
      },
      "text/plain": [
       "Training:   0%|          | 0/330 [00:00<?, ?it/s]"
      ]
     },
     "metadata": {},
     "output_type": "display_data"
    },
    {
     "data": {
      "application/vnd.jupyter.widget-view+json": {
       "model_id": "bdb70b9b13574360825d31e8682e679d",
       "version_major": 2,
       "version_minor": 0
      },
      "text/plain": [
       "Validation:   0%|          | 0/180 [00:00<?, ?it/s]"
      ]
     },
     "metadata": {},
     "output_type": "display_data"
    },
    {
     "name": "stdout",
     "output_type": "stream",
     "text": [
      "val_losses 1.042149684826533\n",
      "EarlyStopping counter: 11 out of 50\n"
     ]
    },
    {
     "data": {
      "application/vnd.jupyter.widget-view+json": {
       "model_id": "3e1b4cd78b26478bb1dd3473ac7cd008",
       "version_major": 2,
       "version_minor": 0
      },
      "text/plain": [
       "Training:   0%|          | 0/330 [00:00<?, ?it/s]"
      ]
     },
     "metadata": {},
     "output_type": "display_data"
    },
    {
     "data": {
      "application/vnd.jupyter.widget-view+json": {
       "model_id": "fff8c62a4bdf482f98c32331fbe089f2",
       "version_major": 2,
       "version_minor": 0
      },
      "text/plain": [
       "Validation:   0%|          | 0/180 [00:00<?, ?it/s]"
      ]
     },
     "metadata": {},
     "output_type": "display_data"
    },
    {
     "name": "stdout",
     "output_type": "stream",
     "text": [
      "val_losses 0.9620211139321327\n",
      "EarlyStopping counter: 12 out of 50\n"
     ]
    },
    {
     "data": {
      "application/vnd.jupyter.widget-view+json": {
       "model_id": "02c4c25f80774ff09b49c56ca27b98f0",
       "version_major": 2,
       "version_minor": 0
      },
      "text/plain": [
       "Training:   0%|          | 0/330 [00:00<?, ?it/s]"
      ]
     },
     "metadata": {},
     "output_type": "display_data"
    },
    {
     "data": {
      "application/vnd.jupyter.widget-view+json": {
       "model_id": "504be24a25844cc5b31b79ccdcccafc5",
       "version_major": 2,
       "version_minor": 0
      },
      "text/plain": [
       "Validation:   0%|          | 0/180 [00:00<?, ?it/s]"
      ]
     },
     "metadata": {},
     "output_type": "display_data"
    },
    {
     "name": "stdout",
     "output_type": "stream",
     "text": [
      "val_losses 0.9329526477389866\n",
      "EarlyStopping counter: 13 out of 50\n"
     ]
    },
    {
     "data": {
      "application/vnd.jupyter.widget-view+json": {
       "model_id": "761c04f921254a20a03aa24e317def89",
       "version_major": 2,
       "version_minor": 0
      },
      "text/plain": [
       "Training:   0%|          | 0/330 [00:00<?, ?it/s]"
      ]
     },
     "metadata": {},
     "output_type": "display_data"
    },
    {
     "data": {
      "application/vnd.jupyter.widget-view+json": {
       "model_id": "62394125c8a048ea8df705a749f4eb16",
       "version_major": 2,
       "version_minor": 0
      },
      "text/plain": [
       "Validation:   0%|          | 0/180 [00:00<?, ?it/s]"
      ]
     },
     "metadata": {},
     "output_type": "display_data"
    },
    {
     "name": "stdout",
     "output_type": "stream",
     "text": [
      "val_losses 0.9242062486708165\n",
      "EarlyStopping counter: 14 out of 50\n"
     ]
    },
    {
     "data": {
      "application/vnd.jupyter.widget-view+json": {
       "model_id": "d8835a5c001f470cbafd44520161e9f7",
       "version_major": 2,
       "version_minor": 0
      },
      "text/plain": [
       "Training:   0%|          | 0/330 [00:00<?, ?it/s]"
      ]
     },
     "metadata": {},
     "output_type": "display_data"
    },
    {
     "data": {
      "application/vnd.jupyter.widget-view+json": {
       "model_id": "0973778de51c4c93959259d4ea8345ae",
       "version_major": 2,
       "version_minor": 0
      },
      "text/plain": [
       "Validation:   0%|          | 0/180 [00:00<?, ?it/s]"
      ]
     },
     "metadata": {},
     "output_type": "display_data"
    },
    {
     "name": "stdout",
     "output_type": "stream",
     "text": [
      "val_losses 1.0004898253414365\n",
      "EarlyStopping counter: 15 out of 50\n"
     ]
    },
    {
     "data": {
      "application/vnd.jupyter.widget-view+json": {
       "model_id": "7d8e075a46c14f2ab05bc6afdc4abcc0",
       "version_major": 2,
       "version_minor": 0
      },
      "text/plain": [
       "Training:   0%|          | 0/330 [00:00<?, ?it/s]"
      ]
     },
     "metadata": {},
     "output_type": "display_data"
    },
    {
     "data": {
      "application/vnd.jupyter.widget-view+json": {
       "model_id": "75680d048abc4ceda28d41403865063b",
       "version_major": 2,
       "version_minor": 0
      },
      "text/plain": [
       "Validation:   0%|          | 0/180 [00:00<?, ?it/s]"
      ]
     },
     "metadata": {},
     "output_type": "display_data"
    },
    {
     "name": "stdout",
     "output_type": "stream",
     "text": [
      "val_losses 1.1027119527260463\n",
      "EarlyStopping counter: 16 out of 50\n"
     ]
    },
    {
     "data": {
      "application/vnd.jupyter.widget-view+json": {
       "model_id": "9f057ec502e14bbda1e1e2fc7d219b8a",
       "version_major": 2,
       "version_minor": 0
      },
      "text/plain": [
       "Training:   0%|          | 0/330 [00:00<?, ?it/s]"
      ]
     },
     "metadata": {},
     "output_type": "display_data"
    },
    {
     "data": {
      "application/vnd.jupyter.widget-view+json": {
       "model_id": "6b8b0a3f881b45d59aab7d19b9f4296c",
       "version_major": 2,
       "version_minor": 0
      },
      "text/plain": [
       "Validation:   0%|          | 0/180 [00:00<?, ?it/s]"
      ]
     },
     "metadata": {},
     "output_type": "display_data"
    },
    {
     "name": "stdout",
     "output_type": "stream",
     "text": [
      "val_losses 0.7605356537219551\n",
      "EarlyStopping counter: 17 out of 50\n"
     ]
    },
    {
     "data": {
      "application/vnd.jupyter.widget-view+json": {
       "model_id": "95821096324a4fba84093a30ea1bd255",
       "version_major": 2,
       "version_minor": 0
      },
      "text/plain": [
       "Training:   0%|          | 0/330 [00:00<?, ?it/s]"
      ]
     },
     "metadata": {},
     "output_type": "display_data"
    },
    {
     "data": {
      "application/vnd.jupyter.widget-view+json": {
       "model_id": "1dca84cc81874723b210239e7bd90fe4",
       "version_major": 2,
       "version_minor": 0
      },
      "text/plain": [
       "Validation:   0%|          | 0/180 [00:00<?, ?it/s]"
      ]
     },
     "metadata": {},
     "output_type": "display_data"
    },
    {
     "name": "stdout",
     "output_type": "stream",
     "text": [
      "val_losses 0.836008242600494\n",
      "EarlyStopping counter: 18 out of 50\n"
     ]
    },
    {
     "data": {
      "application/vnd.jupyter.widget-view+json": {
       "model_id": "2cb076e85b6f4da28238db71bc87dca7",
       "version_major": 2,
       "version_minor": 0
      },
      "text/plain": [
       "Training:   0%|          | 0/330 [00:00<?, ?it/s]"
      ]
     },
     "metadata": {},
     "output_type": "display_data"
    },
    {
     "data": {
      "application/vnd.jupyter.widget-view+json": {
       "model_id": "24e5f2590b614ed8b0bfeb50a9be44e0",
       "version_major": 2,
       "version_minor": 0
      },
      "text/plain": [
       "Validation:   0%|          | 0/180 [00:00<?, ?it/s]"
      ]
     },
     "metadata": {},
     "output_type": "display_data"
    },
    {
     "name": "stdout",
     "output_type": "stream",
     "text": [
      "val_losses 0.8700082259873549\n",
      "EarlyStopping counter: 19 out of 50\n"
     ]
    },
    {
     "data": {
      "application/vnd.jupyter.widget-view+json": {
       "model_id": "a5878b29d33d4e34ad7f89acee1ff44d",
       "version_major": 2,
       "version_minor": 0
      },
      "text/plain": [
       "Training:   0%|          | 0/330 [00:00<?, ?it/s]"
      ]
     },
     "metadata": {},
     "output_type": "display_data"
    },
    {
     "data": {
      "application/vnd.jupyter.widget-view+json": {
       "model_id": "8963c766978f4243a2c8ed760ae663b6",
       "version_major": 2,
       "version_minor": 0
      },
      "text/plain": [
       "Validation:   0%|          | 0/180 [00:00<?, ?it/s]"
      ]
     },
     "metadata": {},
     "output_type": "display_data"
    },
    {
     "name": "stdout",
     "output_type": "stream",
     "text": [
      "val_losses 0.9833706396321455\n",
      "EarlyStopping counter: 20 out of 50\n"
     ]
    },
    {
     "data": {
      "application/vnd.jupyter.widget-view+json": {
       "model_id": "c5026c45cc4a452b852ba77f6cbb6a16",
       "version_major": 2,
       "version_minor": 0
      },
      "text/plain": [
       "Training:   0%|          | 0/330 [00:00<?, ?it/s]"
      ]
     },
     "metadata": {},
     "output_type": "display_data"
    },
    {
     "data": {
      "application/vnd.jupyter.widget-view+json": {
       "model_id": "ba16436c8fa94d87b90de54f9509f0d2",
       "version_major": 2,
       "version_minor": 0
      },
      "text/plain": [
       "Validation:   0%|          | 0/180 [00:00<?, ?it/s]"
      ]
     },
     "metadata": {},
     "output_type": "display_data"
    },
    {
     "name": "stdout",
     "output_type": "stream",
     "text": [
      "val_losses 0.9157228967381849\n",
      "EarlyStopping counter: 21 out of 50\n"
     ]
    },
    {
     "data": {
      "application/vnd.jupyter.widget-view+json": {
       "model_id": "fe176ca70ea4430faeab5c92999e52ce",
       "version_major": 2,
       "version_minor": 0
      },
      "text/plain": [
       "Training:   0%|          | 0/330 [00:00<?, ?it/s]"
      ]
     },
     "metadata": {},
     "output_type": "display_data"
    },
    {
     "data": {
      "application/vnd.jupyter.widget-view+json": {
       "model_id": "fee6c5b4f02d46dcaf02f49b25ec328d",
       "version_major": 2,
       "version_minor": 0
      },
      "text/plain": [
       "Validation:   0%|          | 0/180 [00:00<?, ?it/s]"
      ]
     },
     "metadata": {},
     "output_type": "display_data"
    },
    {
     "name": "stdout",
     "output_type": "stream",
     "text": [
      "val_losses 0.8863891473246945\n",
      "EarlyStopping counter: 22 out of 50\n"
     ]
    },
    {
     "data": {
      "application/vnd.jupyter.widget-view+json": {
       "model_id": "f29bbbd2e22a41adb78a21dd175307a7",
       "version_major": 2,
       "version_minor": 0
      },
      "text/plain": [
       "Training:   0%|          | 0/330 [00:00<?, ?it/s]"
      ]
     },
     "metadata": {},
     "output_type": "display_data"
    },
    {
     "data": {
      "application/vnd.jupyter.widget-view+json": {
       "model_id": "b55597c93a664d9abbdd2540bb17dd3e",
       "version_major": 2,
       "version_minor": 0
      },
      "text/plain": [
       "Validation:   0%|          | 0/180 [00:00<?, ?it/s]"
      ]
     },
     "metadata": {},
     "output_type": "display_data"
    },
    {
     "name": "stdout",
     "output_type": "stream",
     "text": [
      "val_losses 1.029873280806674\n",
      "EarlyStopping counter: 23 out of 50\n"
     ]
    },
    {
     "data": {
      "application/vnd.jupyter.widget-view+json": {
       "model_id": "99240c8d396546448f0631d023b43593",
       "version_major": 2,
       "version_minor": 0
      },
      "text/plain": [
       "Training:   0%|          | 0/330 [00:00<?, ?it/s]"
      ]
     },
     "metadata": {},
     "output_type": "display_data"
    },
    {
     "data": {
      "application/vnd.jupyter.widget-view+json": {
       "model_id": "e4e1469e50b84e479249fec530d6dfa2",
       "version_major": 2,
       "version_minor": 0
      },
      "text/plain": [
       "Validation:   0%|          | 0/180 [00:00<?, ?it/s]"
      ]
     },
     "metadata": {},
     "output_type": "display_data"
    },
    {
     "name": "stdout",
     "output_type": "stream",
     "text": [
      "val_losses 0.9409516705407037\n",
      "EarlyStopping counter: 24 out of 50\n"
     ]
    },
    {
     "data": {
      "application/vnd.jupyter.widget-view+json": {
       "model_id": "0d1422d2feeb4b4f8e813af9a11908eb",
       "version_major": 2,
       "version_minor": 0
      },
      "text/plain": [
       "Training:   0%|          | 0/330 [00:00<?, ?it/s]"
      ]
     },
     "metadata": {},
     "output_type": "display_data"
    },
    {
     "data": {
      "application/vnd.jupyter.widget-view+json": {
       "model_id": "6e88670b19834206ae15ff1e843ccf00",
       "version_major": 2,
       "version_minor": 0
      },
      "text/plain": [
       "Validation:   0%|          | 0/180 [00:00<?, ?it/s]"
      ]
     },
     "metadata": {},
     "output_type": "display_data"
    },
    {
     "name": "stdout",
     "output_type": "stream",
     "text": [
      "val_losses 0.9587337043550279\n",
      "EarlyStopping counter: 25 out of 50\n"
     ]
    },
    {
     "data": {
      "application/vnd.jupyter.widget-view+json": {
       "model_id": "fa88ef8c096c432c946bec669d840e94",
       "version_major": 2,
       "version_minor": 0
      },
      "text/plain": [
       "Training:   0%|          | 0/330 [00:00<?, ?it/s]"
      ]
     },
     "metadata": {},
     "output_type": "display_data"
    },
    {
     "data": {
      "application/vnd.jupyter.widget-view+json": {
       "model_id": "258e12eece9c408a8f10d1fe6fa153c9",
       "version_major": 2,
       "version_minor": 0
      },
      "text/plain": [
       "Validation:   0%|          | 0/180 [00:00<?, ?it/s]"
      ]
     },
     "metadata": {},
     "output_type": "display_data"
    },
    {
     "name": "stdout",
     "output_type": "stream",
     "text": [
      "val_losses 1.0548999869161182\n",
      "EarlyStopping counter: 26 out of 50\n"
     ]
    },
    {
     "data": {
      "application/vnd.jupyter.widget-view+json": {
       "model_id": "300e78e8adcb43b08e81095c307c8ded",
       "version_major": 2,
       "version_minor": 0
      },
      "text/plain": [
       "Training:   0%|          | 0/330 [00:00<?, ?it/s]"
      ]
     },
     "metadata": {},
     "output_type": "display_data"
    },
    {
     "data": {
      "application/vnd.jupyter.widget-view+json": {
       "model_id": "35011842d8284f4894e96940683f0fc4",
       "version_major": 2,
       "version_minor": 0
      },
      "text/plain": [
       "Validation:   0%|          | 0/180 [00:00<?, ?it/s]"
      ]
     },
     "metadata": {},
     "output_type": "display_data"
    },
    {
     "name": "stdout",
     "output_type": "stream",
     "text": [
      "val_losses 1.0400712894068824\n",
      "EarlyStopping counter: 27 out of 50\n"
     ]
    },
    {
     "data": {
      "application/vnd.jupyter.widget-view+json": {
       "model_id": "249388047ce04197ac30749a08094f20",
       "version_major": 2,
       "version_minor": 0
      },
      "text/plain": [
       "Training:   0%|          | 0/330 [00:00<?, ?it/s]"
      ]
     },
     "metadata": {},
     "output_type": "display_data"
    },
    {
     "data": {
      "application/vnd.jupyter.widget-view+json": {
       "model_id": "b8b22a11c5c4477787aa388717d21cde",
       "version_major": 2,
       "version_minor": 0
      },
      "text/plain": [
       "Validation:   0%|          | 0/180 [00:00<?, ?it/s]"
      ]
     },
     "metadata": {},
     "output_type": "display_data"
    },
    {
     "name": "stdout",
     "output_type": "stream",
     "text": [
      "val_losses 1.1124110801352396\n",
      "EarlyStopping counter: 28 out of 50\n"
     ]
    },
    {
     "data": {
      "application/vnd.jupyter.widget-view+json": {
       "model_id": "9e46f93ed1214d4593f5fc3572711fec",
       "version_major": 2,
       "version_minor": 0
      },
      "text/plain": [
       "Training:   0%|          | 0/330 [00:00<?, ?it/s]"
      ]
     },
     "metadata": {},
     "output_type": "display_data"
    },
    {
     "data": {
      "application/vnd.jupyter.widget-view+json": {
       "model_id": "e7bece1d70884dd6a6f01b0dae6fc3a2",
       "version_major": 2,
       "version_minor": 0
      },
      "text/plain": [
       "Validation:   0%|          | 0/180 [00:00<?, ?it/s]"
      ]
     },
     "metadata": {},
     "output_type": "display_data"
    },
    {
     "name": "stdout",
     "output_type": "stream",
     "text": [
      "val_losses 1.0101162335938878\n",
      "EarlyStopping counter: 29 out of 50\n"
     ]
    },
    {
     "data": {
      "application/vnd.jupyter.widget-view+json": {
       "model_id": "4d920d94c4004655b8fadee966745c8d",
       "version_major": 2,
       "version_minor": 0
      },
      "text/plain": [
       "Training:   0%|          | 0/330 [00:00<?, ?it/s]"
      ]
     },
     "metadata": {},
     "output_type": "display_data"
    },
    {
     "data": {
      "application/vnd.jupyter.widget-view+json": {
       "model_id": "6f15d2602ef049c6b63ae496dc7b5dd9",
       "version_major": 2,
       "version_minor": 0
      },
      "text/plain": [
       "Validation:   0%|          | 0/180 [00:00<?, ?it/s]"
      ]
     },
     "metadata": {},
     "output_type": "display_data"
    },
    {
     "name": "stdout",
     "output_type": "stream",
     "text": [
      "val_losses 1.0673295801712408\n",
      "EarlyStopping counter: 30 out of 50\n"
     ]
    },
    {
     "data": {
      "application/vnd.jupyter.widget-view+json": {
       "model_id": "44173795536b4f418818e6c77ffab111",
       "version_major": 2,
       "version_minor": 0
      },
      "text/plain": [
       "Training:   0%|          | 0/330 [00:00<?, ?it/s]"
      ]
     },
     "metadata": {},
     "output_type": "display_data"
    },
    {
     "data": {
      "application/vnd.jupyter.widget-view+json": {
       "model_id": "c72fb18876984bf390607ac6e0f55e5f",
       "version_major": 2,
       "version_minor": 0
      },
      "text/plain": [
       "Validation:   0%|          | 0/180 [00:00<?, ?it/s]"
      ]
     },
     "metadata": {},
     "output_type": "display_data"
    },
    {
     "name": "stdout",
     "output_type": "stream",
     "text": [
      "val_losses 1.1824593404101\n",
      "EarlyStopping counter: 31 out of 50\n"
     ]
    },
    {
     "data": {
      "application/vnd.jupyter.widget-view+json": {
       "model_id": "328977a4110d43cba054443973e949e0",
       "version_major": 2,
       "version_minor": 0
      },
      "text/plain": [
       "Training:   0%|          | 0/330 [00:00<?, ?it/s]"
      ]
     },
     "metadata": {},
     "output_type": "display_data"
    },
    {
     "data": {
      "application/vnd.jupyter.widget-view+json": {
       "model_id": "10a0778111bb437a8db68e05dcf4a9ba",
       "version_major": 2,
       "version_minor": 0
      },
      "text/plain": [
       "Validation:   0%|          | 0/180 [00:00<?, ?it/s]"
      ]
     },
     "metadata": {},
     "output_type": "display_data"
    },
    {
     "name": "stdout",
     "output_type": "stream",
     "text": [
      "val_losses 1.1353943068948058\n",
      "EarlyStopping counter: 32 out of 50\n"
     ]
    },
    {
     "data": {
      "application/vnd.jupyter.widget-view+json": {
       "model_id": "2a349d28499b4adf80dc3cb4eee9b59c",
       "version_major": 2,
       "version_minor": 0
      },
      "text/plain": [
       "Training:   0%|          | 0/330 [00:00<?, ?it/s]"
      ]
     },
     "metadata": {},
     "output_type": "display_data"
    },
    {
     "data": {
      "application/vnd.jupyter.widget-view+json": {
       "model_id": "5571f51e5d5d4ecfaa59bf986decdc1f",
       "version_major": 2,
       "version_minor": 0
      },
      "text/plain": [
       "Validation:   0%|          | 0/180 [00:00<?, ?it/s]"
      ]
     },
     "metadata": {},
     "output_type": "display_data"
    },
    {
     "name": "stdout",
     "output_type": "stream",
     "text": [
      "val_losses 1.0921541182531251\n",
      "EarlyStopping counter: 33 out of 50\n"
     ]
    },
    {
     "data": {
      "application/vnd.jupyter.widget-view+json": {
       "model_id": "c13b9dc6ab2a4ce48be9dc2df8ea49c5",
       "version_major": 2,
       "version_minor": 0
      },
      "text/plain": [
       "Training:   0%|          | 0/330 [00:00<?, ?it/s]"
      ]
     },
     "metadata": {},
     "output_type": "display_data"
    },
    {
     "data": {
      "application/vnd.jupyter.widget-view+json": {
       "model_id": "55dc71617e3047e597e876f12f562b7c",
       "version_major": 2,
       "version_minor": 0
      },
      "text/plain": [
       "Validation:   0%|          | 0/180 [00:00<?, ?it/s]"
      ]
     },
     "metadata": {},
     "output_type": "display_data"
    },
    {
     "name": "stdout",
     "output_type": "stream",
     "text": [
      "val_losses 1.2016603025297323\n",
      "EarlyStopping counter: 34 out of 50\n"
     ]
    },
    {
     "data": {
      "application/vnd.jupyter.widget-view+json": {
       "model_id": "df31ebe6f71248c295cafaa5a527d79f",
       "version_major": 2,
       "version_minor": 0
      },
      "text/plain": [
       "Training:   0%|          | 0/330 [00:00<?, ?it/s]"
      ]
     },
     "metadata": {},
     "output_type": "display_data"
    },
    {
     "data": {
      "application/vnd.jupyter.widget-view+json": {
       "model_id": "13524e42a4124c04bc9b526c4d6d93fb",
       "version_major": 2,
       "version_minor": 0
      },
      "text/plain": [
       "Validation:   0%|          | 0/180 [00:00<?, ?it/s]"
      ]
     },
     "metadata": {},
     "output_type": "display_data"
    },
    {
     "name": "stdout",
     "output_type": "stream",
     "text": [
      "val_losses 1.1915930634571446\n",
      "EarlyStopping counter: 35 out of 50\n"
     ]
    },
    {
     "data": {
      "application/vnd.jupyter.widget-view+json": {
       "model_id": "84b845484544458488654d804331f9cc",
       "version_major": 2,
       "version_minor": 0
      },
      "text/plain": [
       "Training:   0%|          | 0/330 [00:00<?, ?it/s]"
      ]
     },
     "metadata": {},
     "output_type": "display_data"
    },
    {
     "data": {
      "application/vnd.jupyter.widget-view+json": {
       "model_id": "8f7d8eb88f92456b817768970749044e",
       "version_major": 2,
       "version_minor": 0
      },
      "text/plain": [
       "Validation:   0%|          | 0/180 [00:00<?, ?it/s]"
      ]
     },
     "metadata": {},
     "output_type": "display_data"
    },
    {
     "name": "stdout",
     "output_type": "stream",
     "text": [
      "val_losses 0.8512387757500013\n",
      "EarlyStopping counter: 36 out of 50\n"
     ]
    },
    {
     "data": {
      "application/vnd.jupyter.widget-view+json": {
       "model_id": "092f3c8c4b3f4437b9761fa9ad540824",
       "version_major": 2,
       "version_minor": 0
      },
      "text/plain": [
       "Training:   0%|          | 0/330 [00:00<?, ?it/s]"
      ]
     },
     "metadata": {},
     "output_type": "display_data"
    },
    {
     "data": {
      "application/vnd.jupyter.widget-view+json": {
       "model_id": "e657df9a95e44c7cb10a6af5c23dbb79",
       "version_major": 2,
       "version_minor": 0
      },
      "text/plain": [
       "Validation:   0%|          | 0/180 [00:00<?, ?it/s]"
      ]
     },
     "metadata": {},
     "output_type": "display_data"
    },
    {
     "name": "stdout",
     "output_type": "stream",
     "text": [
      "val_losses 0.6881541739942298\n",
      "EarlyStopping counter: 37 out of 50\n"
     ]
    },
    {
     "data": {
      "application/vnd.jupyter.widget-view+json": {
       "model_id": "a8a3d9cad42a4509ba6ba9a065b71bcc",
       "version_major": 2,
       "version_minor": 0
      },
      "text/plain": [
       "Training:   0%|          | 0/330 [00:00<?, ?it/s]"
      ]
     },
     "metadata": {},
     "output_type": "display_data"
    },
    {
     "data": {
      "application/vnd.jupyter.widget-view+json": {
       "model_id": "a23b9eb6d9de487383945bcbae946ded",
       "version_major": 2,
       "version_minor": 0
      },
      "text/plain": [
       "Validation:   0%|          | 0/180 [00:00<?, ?it/s]"
      ]
     },
     "metadata": {},
     "output_type": "display_data"
    },
    {
     "name": "stdout",
     "output_type": "stream",
     "text": [
      "val_losses 0.69634149927232\n",
      "EarlyStopping counter: 38 out of 50\n"
     ]
    },
    {
     "data": {
      "application/vnd.jupyter.widget-view+json": {
       "model_id": "ad3d253f2cc54fda9af95f370ca45463",
       "version_major": 2,
       "version_minor": 0
      },
      "text/plain": [
       "Training:   0%|          | 0/330 [00:00<?, ?it/s]"
      ]
     },
     "metadata": {},
     "output_type": "display_data"
    },
    {
     "data": {
      "application/vnd.jupyter.widget-view+json": {
       "model_id": "c16424673e1d4e81b82911589db6798a",
       "version_major": 2,
       "version_minor": 0
      },
      "text/plain": [
       "Validation:   0%|          | 0/180 [00:00<?, ?it/s]"
      ]
     },
     "metadata": {},
     "output_type": "display_data"
    },
    {
     "name": "stdout",
     "output_type": "stream",
     "text": [
      "val_losses 0.7288234142379628\n",
      "EarlyStopping counter: 39 out of 50\n"
     ]
    },
    {
     "data": {
      "application/vnd.jupyter.widget-view+json": {
       "model_id": "c9cba9b5fc404bc1aa43d98a307ac6dc",
       "version_major": 2,
       "version_minor": 0
      },
      "text/plain": [
       "Training:   0%|          | 0/330 [00:00<?, ?it/s]"
      ]
     },
     "metadata": {},
     "output_type": "display_data"
    },
    {
     "data": {
      "application/vnd.jupyter.widget-view+json": {
       "model_id": "9fe5b1aba6804e9781189fa2a3065894",
       "version_major": 2,
       "version_minor": 0
      },
      "text/plain": [
       "Validation:   0%|          | 0/180 [00:00<?, ?it/s]"
      ]
     },
     "metadata": {},
     "output_type": "display_data"
    },
    {
     "name": "stdout",
     "output_type": "stream",
     "text": [
      "val_losses 0.7658815917869409\n",
      "EarlyStopping counter: 40 out of 50\n"
     ]
    },
    {
     "data": {
      "application/vnd.jupyter.widget-view+json": {
       "model_id": "a0027a5bb9804d48b3e79c10390b731d",
       "version_major": 2,
       "version_minor": 0
      },
      "text/plain": [
       "Training:   0%|          | 0/330 [00:00<?, ?it/s]"
      ]
     },
     "metadata": {},
     "output_type": "display_data"
    },
    {
     "data": {
      "application/vnd.jupyter.widget-view+json": {
       "model_id": "a6ef743fe8b445b19f79a0c6c78468c0",
       "version_major": 2,
       "version_minor": 0
      },
      "text/plain": [
       "Validation:   0%|          | 0/180 [00:00<?, ?it/s]"
      ]
     },
     "metadata": {},
     "output_type": "display_data"
    },
    {
     "name": "stdout",
     "output_type": "stream",
     "text": [
      "val_losses 0.7968308949636088\n",
      "EarlyStopping counter: 41 out of 50\n"
     ]
    },
    {
     "data": {
      "application/vnd.jupyter.widget-view+json": {
       "model_id": "3ed4b56eef85400d858dc3ae98d8161f",
       "version_major": 2,
       "version_minor": 0
      },
      "text/plain": [
       "Training:   0%|          | 0/330 [00:00<?, ?it/s]"
      ]
     },
     "metadata": {},
     "output_type": "display_data"
    },
    {
     "data": {
      "application/vnd.jupyter.widget-view+json": {
       "model_id": "a53e13c4092e475bbf0c989dcc5a9017",
       "version_major": 2,
       "version_minor": 0
      },
      "text/plain": [
       "Validation:   0%|          | 0/180 [00:00<?, ?it/s]"
      ]
     },
     "metadata": {},
     "output_type": "display_data"
    },
    {
     "name": "stdout",
     "output_type": "stream",
     "text": [
      "val_losses 0.8112476781424549\n",
      "EarlyStopping counter: 42 out of 50\n"
     ]
    },
    {
     "data": {
      "application/vnd.jupyter.widget-view+json": {
       "model_id": "22524913a917410d9108e407aafba862",
       "version_major": 2,
       "version_minor": 0
      },
      "text/plain": [
       "Training:   0%|          | 0/330 [00:00<?, ?it/s]"
      ]
     },
     "metadata": {},
     "output_type": "display_data"
    },
    {
     "data": {
      "application/vnd.jupyter.widget-view+json": {
       "model_id": "fbff420f7db04718b9c3fcccd4372bc3",
       "version_major": 2,
       "version_minor": 0
      },
      "text/plain": [
       "Validation:   0%|          | 0/180 [00:00<?, ?it/s]"
      ]
     },
     "metadata": {},
     "output_type": "display_data"
    },
    {
     "name": "stdout",
     "output_type": "stream",
     "text": [
      "val_losses 0.8476720640642775\n",
      "EarlyStopping counter: 43 out of 50\n"
     ]
    },
    {
     "data": {
      "application/vnd.jupyter.widget-view+json": {
       "model_id": "92fe3bc1e5e641698bba60ea19ebc748",
       "version_major": 2,
       "version_minor": 0
      },
      "text/plain": [
       "Training:   0%|          | 0/330 [00:00<?, ?it/s]"
      ]
     },
     "metadata": {},
     "output_type": "display_data"
    },
    {
     "data": {
      "application/vnd.jupyter.widget-view+json": {
       "model_id": "25f85f9330e248e9982cffdc30304db6",
       "version_major": 2,
       "version_minor": 0
      },
      "text/plain": [
       "Validation:   0%|          | 0/180 [00:00<?, ?it/s]"
      ]
     },
     "metadata": {},
     "output_type": "display_data"
    },
    {
     "name": "stdout",
     "output_type": "stream",
     "text": [
      "val_losses 0.8404884994029999\n",
      "EarlyStopping counter: 44 out of 50\n"
     ]
    },
    {
     "data": {
      "application/vnd.jupyter.widget-view+json": {
       "model_id": "aba6ded0e8ed481da87d20d82fb94783",
       "version_major": 2,
       "version_minor": 0
      },
      "text/plain": [
       "Training:   0%|          | 0/330 [00:00<?, ?it/s]"
      ]
     },
     "metadata": {},
     "output_type": "display_data"
    },
    {
     "data": {
      "application/vnd.jupyter.widget-view+json": {
       "model_id": "39ec0539be8747b3a185db7804b966d6",
       "version_major": 2,
       "version_minor": 0
      },
      "text/plain": [
       "Validation:   0%|          | 0/180 [00:00<?, ?it/s]"
      ]
     },
     "metadata": {},
     "output_type": "display_data"
    },
    {
     "name": "stdout",
     "output_type": "stream",
     "text": [
      "val_losses 0.8934548267887699\n",
      "EarlyStopping counter: 45 out of 50\n"
     ]
    },
    {
     "data": {
      "application/vnd.jupyter.widget-view+json": {
       "model_id": "fbd2e011018a43e58e7c43204dd76b59",
       "version_major": 2,
       "version_minor": 0
      },
      "text/plain": [
       "Training:   0%|          | 0/330 [00:00<?, ?it/s]"
      ]
     },
     "metadata": {},
     "output_type": "display_data"
    },
    {
     "data": {
      "application/vnd.jupyter.widget-view+json": {
       "model_id": "e62db48b2ee6486ebe631e8f8d2ec548",
       "version_major": 2,
       "version_minor": 0
      },
      "text/plain": [
       "Validation:   0%|          | 0/180 [00:00<?, ?it/s]"
      ]
     },
     "metadata": {},
     "output_type": "display_data"
    },
    {
     "name": "stdout",
     "output_type": "stream",
     "text": [
      "val_losses 0.9087779882881376\n",
      "EarlyStopping counter: 46 out of 50\n"
     ]
    },
    {
     "data": {
      "application/vnd.jupyter.widget-view+json": {
       "model_id": "8fdfa8e4d82b441cafdb770a1c6e3f95",
       "version_major": 2,
       "version_minor": 0
      },
      "text/plain": [
       "Training:   0%|          | 0/330 [00:00<?, ?it/s]"
      ]
     },
     "metadata": {},
     "output_type": "display_data"
    },
    {
     "data": {
      "application/vnd.jupyter.widget-view+json": {
       "model_id": "87521d6f515f40709273594fabefb4bf",
       "version_major": 2,
       "version_minor": 0
      },
      "text/plain": [
       "Validation:   0%|          | 0/180 [00:00<?, ?it/s]"
      ]
     },
     "metadata": {},
     "output_type": "display_data"
    },
    {
     "name": "stdout",
     "output_type": "stream",
     "text": [
      "val_losses 0.9218944578535027\n",
      "EarlyStopping counter: 47 out of 50\n"
     ]
    },
    {
     "data": {
      "application/vnd.jupyter.widget-view+json": {
       "model_id": "9e537ca57a844bb5955a3473171dd19c",
       "version_major": 2,
       "version_minor": 0
      },
      "text/plain": [
       "Training:   0%|          | 0/330 [00:00<?, ?it/s]"
      ]
     },
     "metadata": {},
     "output_type": "display_data"
    },
    {
     "data": {
      "application/vnd.jupyter.widget-view+json": {
       "model_id": "98739ca1b9734d5e971b3a22717743b4",
       "version_major": 2,
       "version_minor": 0
      },
      "text/plain": [
       "Validation:   0%|          | 0/180 [00:00<?, ?it/s]"
      ]
     },
     "metadata": {},
     "output_type": "display_data"
    },
    {
     "name": "stdout",
     "output_type": "stream",
     "text": [
      "val_losses 0.9645540348357624\n",
      "EarlyStopping counter: 48 out of 50\n"
     ]
    },
    {
     "data": {
      "application/vnd.jupyter.widget-view+json": {
       "model_id": "6c7b1cb7de0549dba22ff23edb35d987",
       "version_major": 2,
       "version_minor": 0
      },
      "text/plain": [
       "Training:   0%|          | 0/330 [00:00<?, ?it/s]"
      ]
     },
     "metadata": {},
     "output_type": "display_data"
    },
    {
     "data": {
      "application/vnd.jupyter.widget-view+json": {
       "model_id": "92811bc819124cd78ae0d36c353990c4",
       "version_major": 2,
       "version_minor": 0
      },
      "text/plain": [
       "Validation:   0%|          | 0/180 [00:00<?, ?it/s]"
      ]
     },
     "metadata": {},
     "output_type": "display_data"
    },
    {
     "name": "stdout",
     "output_type": "stream",
     "text": [
      "val_losses 0.9755053715573416\n",
      "EarlyStopping counter: 49 out of 50\n"
     ]
    },
    {
     "data": {
      "application/vnd.jupyter.widget-view+json": {
       "model_id": "71c03caea16d48cdb907ba0673523c7e",
       "version_major": 2,
       "version_minor": 0
      },
      "text/plain": [
       "Training:   0%|          | 0/330 [00:00<?, ?it/s]"
      ]
     },
     "metadata": {},
     "output_type": "display_data"
    },
    {
     "data": {
      "application/vnd.jupyter.widget-view+json": {
       "model_id": "4c88655799854422b4dc0fafed20355a",
       "version_major": 2,
       "version_minor": 0
      },
      "text/plain": [
       "Validation:   0%|          | 0/180 [00:00<?, ?it/s]"
      ]
     },
     "metadata": {},
     "output_type": "display_data"
    },
    {
     "name": "stdout",
     "output_type": "stream",
     "text": [
      "val_losses 0.9179660903910796\n",
      "EarlyStopping counter: 50 out of 50\n",
      "early stopping epoch: 67\n",
      "***************************\n",
      "modelname:model_fold_2.ptを保存しました\n",
      "*************************************Test*************************************\n",
      "in constructor inchannel: 45\n",
      "Input channel count3\n",
      "model_dir =  model/20250131-CyclicLRv4\n",
      "Creating image arrays...\n",
      "Number of label images: 11\n",
      "Completed creating image arrays:\n",
      "Dataset shape  (11, 256, 256, 45)\n",
      "Label image shape  (11, 256, 256)\n",
      "\n",
      "index =  0\n",
      "予測画像: /home/eric/Documents/cervicalResearchIIP/result_test/20250131-CyclicLRv4/fold2/N1-3.png\n",
      "テストラベル: /home/eric/Documents/cervicalResearchIIP/img_1006t/labeled/N1-3.png\n",
      "index =  1\n",
      "予測画像: /home/eric/Documents/cervicalResearchIIP/result_test/20250131-CyclicLRv4/fold2/N1-8.png\n",
      "テストラベル: /home/eric/Documents/cervicalResearchIIP/img_1006t/labeled/N1-8.png\n",
      "index =  2\n",
      "予測画像: /home/eric/Documents/cervicalResearchIIP/result_test/20250131-CyclicLRv4/fold2/N1-9.png\n",
      "テストラベル: /home/eric/Documents/cervicalResearchIIP/img_1006t/labeled/N1-9.png\n",
      "index =  3\n",
      "予測画像: /home/eric/Documents/cervicalResearchIIP/result_test/20250131-CyclicLRv4/fold2/N2-5.png\n",
      "テストラベル: /home/eric/Documents/cervicalResearchIIP/img_1006t/labeled/N2-5.png\n",
      "index =  4\n",
      "予測画像: /home/eric/Documents/cervicalResearchIIP/result_test/20250131-CyclicLRv4/fold2/N2-10.png\n",
      "テストラベル: /home/eric/Documents/cervicalResearchIIP/img_1006t/labeled/N2-10.png\n",
      "index =  5\n",
      "予測画像: /home/eric/Documents/cervicalResearchIIP/result_test/20250131-CyclicLRv4/fold2/N3-6.png\n",
      "テストラベル: /home/eric/Documents/cervicalResearchIIP/img_1006t/labeled/N3-6.png\n",
      "index =  6\n",
      "予測画像: /home/eric/Documents/cervicalResearchIIP/result_test/20250131-CyclicLRv4/fold2/N3-7.png\n",
      "テストラベル: /home/eric/Documents/cervicalResearchIIP/img_1006t/labeled/N3-7.png\n",
      "index =  7\n",
      "予測画像: /home/eric/Documents/cervicalResearchIIP/result_test/20250131-CyclicLRv4/fold2/N3-10.png\n",
      "テストラベル: /home/eric/Documents/cervicalResearchIIP/img_1006t/labeled/N3-10.png\n",
      "index =  8\n",
      "予測画像: /home/eric/Documents/cervicalResearchIIP/result_test/20250131-CyclicLRv4/fold2/N4-4.png\n",
      "テストラベル: /home/eric/Documents/cervicalResearchIIP/img_1006t/labeled/N4-4.png\n",
      "index =  9\n",
      "予測画像: /home/eric/Documents/cervicalResearchIIP/result_test/20250131-CyclicLRv4/fold2/N4-7.png\n",
      "テストラベル: /home/eric/Documents/cervicalResearchIIP/img_1006t/labeled/N4-7.png\n",
      "index =  10\n",
      "予測画像: /home/eric/Documents/cervicalResearchIIP/result_test/20250131-CyclicLRv4/fold2/N5-3.png\n",
      "テストラベル: /home/eric/Documents/cervicalResearchIIP/img_1006t/labeled/N5-3.png\n",
      "Count1 =  [644782, 11827, 7841, 8236, 5741, 7804, 5559, 7387, 5289, 10599, 5831]\n",
      "Count2 =  [642734, 12157, 7801, 8284, 5889, 7835, 5987, 8241, 5674, 10428, 5866]\n",
      "Count3 =  [636355, 10439, 6653, 7112, 5056, 6918, 4967, 6580, 4670, 8480, 5026]\n",
      "Dice =  [0.9885003370831896, 0.8704969979986658, 0.850658483569876, 0.8610169491525423, 0.869475494411006, 0.884711298676386, 0.8603845487614759, 0.8420783209623752, 0.8519565812277661, 0.8065820136015599, 0.8593656493117894, 0.8556726337673443]\n",
      "Cross validation: True\n",
      "Fold: 3 out of 4\n",
      "Augmentation: True\n",
      "Augmentation amount: 30\n",
      "Training: Total of 22 cases.\n",
      "['N2-8' 'N4-7' 'N1-7' 'N2-5' 'N1-2' 'N3-9' 'N3-1' 'N5-3' 'N1-3' 'N5-1'\n",
      " 'N2-7' 'N1-9' 'N2-1' 'N5-6' 'N1-1' 'N3-2' 'N4-1' 'N3-3' 'N4-6' 'N2-3'\n",
      " 'N4-4' 'N3-7']\n",
      "Validation: Total of 12 cases.\n",
      "['N1-6' 'N3-5' 'N1-8' 'N3-6' 'N2-2' 'N3-10' 'N2-10' 'N5-2' 'N5-4' 'N4-5'\n",
      " 'N1-4' 'N4-2']\n",
      "Test: Total of 11 cases.\n",
      "['N1-5' 'N1-10' 'N2-4' 'N2-6' 'N2-9' 'N3-4' 'N3-8' 'N4-3' 'N4-8' 'N4-9'\n",
      " 'N5-5']\n",
      "\n",
      "Creating image arrays...\n",
      "Number of label images: 660\n",
      "Completed creating image arrays:\n",
      "Dataset shape  (660, 256, 256, 45)\n",
      "Label image shape  (660, 256, 256)\n",
      "\n",
      "Creating image arrays...\n",
      "Number of label images: 360\n",
      "Completed creating image arrays:\n",
      "Dataset shape  (360, 256, 256, 45)\n",
      "Label image shape  (360, 256, 256)\n",
      "\n",
      "*************************Training*************************\n",
      "x.shape =  torch.Size([2, 45, 256, 256])\n",
      "x.min(), x.max() =  tensor(0.) tensor(1.)\n",
      "y.shape =  torch.Size([2, 256, 256])\n",
      "torch.unique(y) =  tensor([ 0,  1,  2,  3,  4,  5,  6,  7,  8,  9, 10])\n",
      "in constructor inchannel: 45\n",
      "Input channel count3\n",
      "=======start training======\n"
     ]
    },
    {
     "data": {
      "application/vnd.jupyter.widget-view+json": {
       "model_id": "6dfca7bdb01b42cd8ea8d56fa5741873",
       "version_major": 2,
       "version_minor": 0
      },
      "text/plain": [
       "Progress:   0%|          | 0/146 [00:00<?, ?it/s]"
      ]
     },
     "metadata": {},
     "output_type": "display_data"
    },
    {
     "data": {
      "application/vnd.jupyter.widget-view+json": {
       "model_id": "7b79bcaa4b3346b3ace9ca59e70bf960",
       "version_major": 2,
       "version_minor": 0
      },
      "text/plain": [
       "Training:   0%|          | 0/330 [00:00<?, ?it/s]"
      ]
     },
     "metadata": {},
     "output_type": "display_data"
    },
    {
     "data": {
      "application/vnd.jupyter.widget-view+json": {
       "model_id": "ee19404811e1470e87bd644e80980b5f",
       "version_major": 2,
       "version_minor": 0
      },
      "text/plain": [
       "Validation:   0%|          | 0/180 [00:00<?, ?it/s]"
      ]
     },
     "metadata": {},
     "output_type": "display_data"
    },
    {
     "name": "stdout",
     "output_type": "stream",
     "text": [
      "val_losses 1.1133564670880636\n",
      "Validation loss decreased (inf --> 1.113356).  Saving model ...\n"
     ]
    },
    {
     "data": {
      "application/vnd.jupyter.widget-view+json": {
       "model_id": "56465f53f0d74a0fa342df1be8a18e9f",
       "version_major": 2,
       "version_minor": 0
      },
      "text/plain": [
       "Training:   0%|          | 0/330 [00:00<?, ?it/s]"
      ]
     },
     "metadata": {},
     "output_type": "display_data"
    },
    {
     "data": {
      "application/vnd.jupyter.widget-view+json": {
       "model_id": "86deb0d86a804a7f88c256ab7fb17f9e",
       "version_major": 2,
       "version_minor": 0
      },
      "text/plain": [
       "Validation:   0%|          | 0/180 [00:00<?, ?it/s]"
      ]
     },
     "metadata": {},
     "output_type": "display_data"
    },
    {
     "name": "stdout",
     "output_type": "stream",
     "text": [
      "val_losses 0.7904682331615024\n",
      "Validation loss decreased (1.113356 --> 0.790468).  Saving model ...\n"
     ]
    },
    {
     "data": {
      "application/vnd.jupyter.widget-view+json": {
       "model_id": "ae3c01cda2dc421a85d45c975283c79a",
       "version_major": 2,
       "version_minor": 0
      },
      "text/plain": [
       "Training:   0%|          | 0/330 [00:00<?, ?it/s]"
      ]
     },
     "metadata": {},
     "output_type": "display_data"
    },
    {
     "data": {
      "application/vnd.jupyter.widget-view+json": {
       "model_id": "f7290f35a7684a1690455c0783fe818d",
       "version_major": 2,
       "version_minor": 0
      },
      "text/plain": [
       "Validation:   0%|          | 0/180 [00:00<?, ?it/s]"
      ]
     },
     "metadata": {},
     "output_type": "display_data"
    },
    {
     "name": "stdout",
     "output_type": "stream",
     "text": [
      "val_losses 0.6632787694533666\n",
      "Validation loss decreased (0.790468 --> 0.663279).  Saving model ...\n"
     ]
    },
    {
     "data": {
      "application/vnd.jupyter.widget-view+json": {
       "model_id": "8607256f95ca4bf7aecb0319a6925a4b",
       "version_major": 2,
       "version_minor": 0
      },
      "text/plain": [
       "Training:   0%|          | 0/330 [00:00<?, ?it/s]"
      ]
     },
     "metadata": {},
     "output_type": "display_data"
    },
    {
     "data": {
      "application/vnd.jupyter.widget-view+json": {
       "model_id": "facca91230434b4dbfa8deb94417b84e",
       "version_major": 2,
       "version_minor": 0
      },
      "text/plain": [
       "Validation:   0%|          | 0/180 [00:00<?, ?it/s]"
      ]
     },
     "metadata": {},
     "output_type": "display_data"
    },
    {
     "name": "stdout",
     "output_type": "stream",
     "text": [
      "val_losses 0.6035575115018421\n",
      "Validation loss decreased (0.663279 --> 0.603558).  Saving model ...\n"
     ]
    },
    {
     "data": {
      "application/vnd.jupyter.widget-view+json": {
       "model_id": "058b0d9be35449cd8b3c42e1f7a3ea57",
       "version_major": 2,
       "version_minor": 0
      },
      "text/plain": [
       "Training:   0%|          | 0/330 [00:00<?, ?it/s]"
      ]
     },
     "metadata": {},
     "output_type": "display_data"
    },
    {
     "data": {
      "application/vnd.jupyter.widget-view+json": {
       "model_id": "20b91fd3c5d34acb92e20b0ee8c64f23",
       "version_major": 2,
       "version_minor": 0
      },
      "text/plain": [
       "Validation:   0%|          | 0/180 [00:00<?, ?it/s]"
      ]
     },
     "metadata": {},
     "output_type": "display_data"
    },
    {
     "name": "stdout",
     "output_type": "stream",
     "text": [
      "val_losses 0.5727597471740511\n",
      "Validation loss decreased (0.603558 --> 0.572760).  Saving model ...\n"
     ]
    },
    {
     "data": {
      "application/vnd.jupyter.widget-view+json": {
       "model_id": "6391e645af93428c8ab721a7892660bd",
       "version_major": 2,
       "version_minor": 0
      },
      "text/plain": [
       "Training:   0%|          | 0/330 [00:00<?, ?it/s]"
      ]
     },
     "metadata": {},
     "output_type": "display_data"
    },
    {
     "data": {
      "application/vnd.jupyter.widget-view+json": {
       "model_id": "622e6c4da71442ecbaaeef8e22260951",
       "version_major": 2,
       "version_minor": 0
      },
      "text/plain": [
       "Validation:   0%|          | 0/180 [00:00<?, ?it/s]"
      ]
     },
     "metadata": {},
     "output_type": "display_data"
    },
    {
     "name": "stdout",
     "output_type": "stream",
     "text": [
      "val_losses 0.532878902554512\n",
      "Validation loss decreased (0.572760 --> 0.532879).  Saving model ...\n"
     ]
    },
    {
     "data": {
      "application/vnd.jupyter.widget-view+json": {
       "model_id": "f85bdb7f8ba849899f50503ecd54b772",
       "version_major": 2,
       "version_minor": 0
      },
      "text/plain": [
       "Training:   0%|          | 0/330 [00:00<?, ?it/s]"
      ]
     },
     "metadata": {},
     "output_type": "display_data"
    },
    {
     "data": {
      "application/vnd.jupyter.widget-view+json": {
       "model_id": "9202f6e150eb4000bbf617a6a2545080",
       "version_major": 2,
       "version_minor": 0
      },
      "text/plain": [
       "Validation:   0%|          | 0/180 [00:00<?, ?it/s]"
      ]
     },
     "metadata": {},
     "output_type": "display_data"
    },
    {
     "name": "stdout",
     "output_type": "stream",
     "text": [
      "val_losses 0.5479751411411498\n",
      "EarlyStopping counter: 1 out of 50\n"
     ]
    },
    {
     "data": {
      "application/vnd.jupyter.widget-view+json": {
       "model_id": "d659870c94b04041b37ca721b802cf81",
       "version_major": 2,
       "version_minor": 0
      },
      "text/plain": [
       "Training:   0%|          | 0/330 [00:00<?, ?it/s]"
      ]
     },
     "metadata": {},
     "output_type": "display_data"
    },
    {
     "data": {
      "application/vnd.jupyter.widget-view+json": {
       "model_id": "4ff243af242048548170ef93ad903094",
       "version_major": 2,
       "version_minor": 0
      },
      "text/plain": [
       "Validation:   0%|          | 0/180 [00:00<?, ?it/s]"
      ]
     },
     "metadata": {},
     "output_type": "display_data"
    },
    {
     "name": "stdout",
     "output_type": "stream",
     "text": [
      "val_losses 0.5322110475765334\n",
      "Validation loss decreased (0.532879 --> 0.532211).  Saving model ...\n"
     ]
    },
    {
     "data": {
      "application/vnd.jupyter.widget-view+json": {
       "model_id": "f0b6108009374737b1b70520cc479191",
       "version_major": 2,
       "version_minor": 0
      },
      "text/plain": [
       "Training:   0%|          | 0/330 [00:00<?, ?it/s]"
      ]
     },
     "metadata": {},
     "output_type": "display_data"
    },
    {
     "data": {
      "application/vnd.jupyter.widget-view+json": {
       "model_id": "1c11359d12684dcdbef86175afab6479",
       "version_major": 2,
       "version_minor": 0
      },
      "text/plain": [
       "Validation:   0%|          | 0/180 [00:00<?, ?it/s]"
      ]
     },
     "metadata": {},
     "output_type": "display_data"
    },
    {
     "name": "stdout",
     "output_type": "stream",
     "text": [
      "val_losses 0.5265346129735311\n",
      "Validation loss decreased (0.532211 --> 0.526535).  Saving model ...\n"
     ]
    },
    {
     "data": {
      "application/vnd.jupyter.widget-view+json": {
       "model_id": "65eb219daa4646e2bd08e5ea5fd49e9f",
       "version_major": 2,
       "version_minor": 0
      },
      "text/plain": [
       "Training:   0%|          | 0/330 [00:00<?, ?it/s]"
      ]
     },
     "metadata": {},
     "output_type": "display_data"
    },
    {
     "data": {
      "application/vnd.jupyter.widget-view+json": {
       "model_id": "8157283a9555494c8aed7f33c459ea5e",
       "version_major": 2,
       "version_minor": 0
      },
      "text/plain": [
       "Validation:   0%|          | 0/180 [00:00<?, ?it/s]"
      ]
     },
     "metadata": {},
     "output_type": "display_data"
    },
    {
     "name": "stdout",
     "output_type": "stream",
     "text": [
      "val_losses 0.5253447234630585\n",
      "Validation loss decreased (0.526535 --> 0.525345).  Saving model ...\n"
     ]
    },
    {
     "data": {
      "application/vnd.jupyter.widget-view+json": {
       "model_id": "0bdd229a39074279a6beb168ee3d45a5",
       "version_major": 2,
       "version_minor": 0
      },
      "text/plain": [
       "Training:   0%|          | 0/330 [00:00<?, ?it/s]"
      ]
     },
     "metadata": {},
     "output_type": "display_data"
    },
    {
     "data": {
      "application/vnd.jupyter.widget-view+json": {
       "model_id": "6e9ba2701554455fb4e8ba0206e1eb97",
       "version_major": 2,
       "version_minor": 0
      },
      "text/plain": [
       "Validation:   0%|          | 0/180 [00:00<?, ?it/s]"
      ]
     },
     "metadata": {},
     "output_type": "display_data"
    },
    {
     "name": "stdout",
     "output_type": "stream",
     "text": [
      "val_losses 0.5254227863417731\n",
      "EarlyStopping counter: 1 out of 50\n"
     ]
    },
    {
     "data": {
      "application/vnd.jupyter.widget-view+json": {
       "model_id": "d9f7cf49fb264a1190c9079c60209c05",
       "version_major": 2,
       "version_minor": 0
      },
      "text/plain": [
       "Training:   0%|          | 0/330 [00:00<?, ?it/s]"
      ]
     },
     "metadata": {},
     "output_type": "display_data"
    },
    {
     "data": {
      "application/vnd.jupyter.widget-view+json": {
       "model_id": "c99a53902e574e5493075ea5c981529c",
       "version_major": 2,
       "version_minor": 0
      },
      "text/plain": [
       "Validation:   0%|          | 0/180 [00:00<?, ?it/s]"
      ]
     },
     "metadata": {},
     "output_type": "display_data"
    },
    {
     "name": "stdout",
     "output_type": "stream",
     "text": [
      "val_losses 0.5607035997013251\n",
      "EarlyStopping counter: 2 out of 50\n"
     ]
    },
    {
     "data": {
      "application/vnd.jupyter.widget-view+json": {
       "model_id": "38798bf98d2b4fc3add7f4d97fc9c045",
       "version_major": 2,
       "version_minor": 0
      },
      "text/plain": [
       "Training:   0%|          | 0/330 [00:00<?, ?it/s]"
      ]
     },
     "metadata": {},
     "output_type": "display_data"
    },
    {
     "data": {
      "application/vnd.jupyter.widget-view+json": {
       "model_id": "8fd43c01b01a4872b95ced17d8c0c1b4",
       "version_major": 2,
       "version_minor": 0
      },
      "text/plain": [
       "Validation:   0%|          | 0/180 [00:00<?, ?it/s]"
      ]
     },
     "metadata": {},
     "output_type": "display_data"
    },
    {
     "name": "stdout",
     "output_type": "stream",
     "text": [
      "val_losses 0.5375616150597732\n",
      "EarlyStopping counter: 3 out of 50\n"
     ]
    },
    {
     "data": {
      "application/vnd.jupyter.widget-view+json": {
       "model_id": "0ae1b4a3fd1841bd8a66f0cac410b8ad",
       "version_major": 2,
       "version_minor": 0
      },
      "text/plain": [
       "Training:   0%|          | 0/330 [00:00<?, ?it/s]"
      ]
     },
     "metadata": {},
     "output_type": "display_data"
    },
    {
     "data": {
      "application/vnd.jupyter.widget-view+json": {
       "model_id": "9570adb5f41a4edea0ba35b67f7074ee",
       "version_major": 2,
       "version_minor": 0
      },
      "text/plain": [
       "Validation:   0%|          | 0/180 [00:00<?, ?it/s]"
      ]
     },
     "metadata": {},
     "output_type": "display_data"
    },
    {
     "name": "stdout",
     "output_type": "stream",
     "text": [
      "val_losses 0.5284335489902231\n",
      "EarlyStopping counter: 4 out of 50\n"
     ]
    },
    {
     "data": {
      "application/vnd.jupyter.widget-view+json": {
       "model_id": "4db48aca14e24423b6039057ab17ff45",
       "version_major": 2,
       "version_minor": 0
      },
      "text/plain": [
       "Training:   0%|          | 0/330 [00:00<?, ?it/s]"
      ]
     },
     "metadata": {},
     "output_type": "display_data"
    },
    {
     "data": {
      "application/vnd.jupyter.widget-view+json": {
       "model_id": "3240b5639405401692a045a32bc408d4",
       "version_major": 2,
       "version_minor": 0
      },
      "text/plain": [
       "Validation:   0%|          | 0/180 [00:00<?, ?it/s]"
      ]
     },
     "metadata": {},
     "output_type": "display_data"
    },
    {
     "name": "stdout",
     "output_type": "stream",
     "text": [
      "val_losses 0.5461828872561455\n",
      "EarlyStopping counter: 5 out of 50\n"
     ]
    },
    {
     "data": {
      "application/vnd.jupyter.widget-view+json": {
       "model_id": "e347a378961044bfa4c5c3fd98d06054",
       "version_major": 2,
       "version_minor": 0
      },
      "text/plain": [
       "Training:   0%|          | 0/330 [00:00<?, ?it/s]"
      ]
     },
     "metadata": {},
     "output_type": "display_data"
    },
    {
     "data": {
      "application/vnd.jupyter.widget-view+json": {
       "model_id": "6e97ba0f212a465e9f2eeb9d251b5395",
       "version_major": 2,
       "version_minor": 0
      },
      "text/plain": [
       "Validation:   0%|          | 0/180 [00:00<?, ?it/s]"
      ]
     },
     "metadata": {},
     "output_type": "display_data"
    },
    {
     "name": "stdout",
     "output_type": "stream",
     "text": [
      "val_losses 0.5567848548293114\n",
      "EarlyStopping counter: 6 out of 50\n"
     ]
    },
    {
     "data": {
      "application/vnd.jupyter.widget-view+json": {
       "model_id": "5bc10b4e7cd14f1c9d2dcbdc9c1d58e4",
       "version_major": 2,
       "version_minor": 0
      },
      "text/plain": [
       "Training:   0%|          | 0/330 [00:00<?, ?it/s]"
      ]
     },
     "metadata": {},
     "output_type": "display_data"
    },
    {
     "data": {
      "application/vnd.jupyter.widget-view+json": {
       "model_id": "6471e2b423044b518fc0560d3963d8ae",
       "version_major": 2,
       "version_minor": 0
      },
      "text/plain": [
       "Validation:   0%|          | 0/180 [00:00<?, ?it/s]"
      ]
     },
     "metadata": {},
     "output_type": "display_data"
    },
    {
     "name": "stdout",
     "output_type": "stream",
     "text": [
      "val_losses 0.5875291863249408\n",
      "EarlyStopping counter: 7 out of 50\n"
     ]
    },
    {
     "data": {
      "application/vnd.jupyter.widget-view+json": {
       "model_id": "cb4864a5b0d44123acf100f96db8a470",
       "version_major": 2,
       "version_minor": 0
      },
      "text/plain": [
       "Training:   0%|          | 0/330 [00:00<?, ?it/s]"
      ]
     },
     "metadata": {},
     "output_type": "display_data"
    },
    {
     "data": {
      "application/vnd.jupyter.widget-view+json": {
       "model_id": "c915f42e7db2402d97b1f7435c65e54c",
       "version_major": 2,
       "version_minor": 0
      },
      "text/plain": [
       "Validation:   0%|          | 0/180 [00:00<?, ?it/s]"
      ]
     },
     "metadata": {},
     "output_type": "display_data"
    },
    {
     "name": "stdout",
     "output_type": "stream",
     "text": [
      "val_losses 0.3851267563386096\n",
      "Validation loss decreased (0.525345 --> 0.385127).  Saving model ...\n"
     ]
    },
    {
     "data": {
      "application/vnd.jupyter.widget-view+json": {
       "model_id": "5c657247e5414899b623da5e4039b9a0",
       "version_major": 2,
       "version_minor": 0
      },
      "text/plain": [
       "Training:   0%|          | 0/330 [00:00<?, ?it/s]"
      ]
     },
     "metadata": {},
     "output_type": "display_data"
    },
    {
     "data": {
      "application/vnd.jupyter.widget-view+json": {
       "model_id": "3b157068b2c64af6bf9639b6d35d6dbc",
       "version_major": 2,
       "version_minor": 0
      },
      "text/plain": [
       "Validation:   0%|          | 0/180 [00:00<?, ?it/s]"
      ]
     },
     "metadata": {},
     "output_type": "display_data"
    },
    {
     "name": "stdout",
     "output_type": "stream",
     "text": [
      "val_losses 0.4556600181178914\n",
      "EarlyStopping counter: 1 out of 50\n"
     ]
    },
    {
     "data": {
      "application/vnd.jupyter.widget-view+json": {
       "model_id": "50eb4652b90a4166b45f3a3813812267",
       "version_major": 2,
       "version_minor": 0
      },
      "text/plain": [
       "Training:   0%|          | 0/330 [00:00<?, ?it/s]"
      ]
     },
     "metadata": {},
     "output_type": "display_data"
    },
    {
     "data": {
      "application/vnd.jupyter.widget-view+json": {
       "model_id": "0e4f69d3d563433e9558e795e2061dbe",
       "version_major": 2,
       "version_minor": 0
      },
      "text/plain": [
       "Validation:   0%|          | 0/180 [00:00<?, ?it/s]"
      ]
     },
     "metadata": {},
     "output_type": "display_data"
    },
    {
     "name": "stdout",
     "output_type": "stream",
     "text": [
      "val_losses 0.48771888667510616\n",
      "EarlyStopping counter: 2 out of 50\n"
     ]
    },
    {
     "data": {
      "application/vnd.jupyter.widget-view+json": {
       "model_id": "b4848471e3614d53a61df77009c3e373",
       "version_major": 2,
       "version_minor": 0
      },
      "text/plain": [
       "Training:   0%|          | 0/330 [00:00<?, ?it/s]"
      ]
     },
     "metadata": {},
     "output_type": "display_data"
    },
    {
     "data": {
      "application/vnd.jupyter.widget-view+json": {
       "model_id": "366af31a8df04a83904330ccddb9be79",
       "version_major": 2,
       "version_minor": 0
      },
      "text/plain": [
       "Validation:   0%|          | 0/180 [00:00<?, ?it/s]"
      ]
     },
     "metadata": {},
     "output_type": "display_data"
    },
    {
     "name": "stdout",
     "output_type": "stream",
     "text": [
      "val_losses 0.5233328414460023\n",
      "EarlyStopping counter: 3 out of 50\n"
     ]
    },
    {
     "data": {
      "application/vnd.jupyter.widget-view+json": {
       "model_id": "b95c6413fdd74a67abece971efd16c4e",
       "version_major": 2,
       "version_minor": 0
      },
      "text/plain": [
       "Training:   0%|          | 0/330 [00:00<?, ?it/s]"
      ]
     },
     "metadata": {},
     "output_type": "display_data"
    },
    {
     "data": {
      "application/vnd.jupyter.widget-view+json": {
       "model_id": "719f45ffa83b450985f8815b84c51b1c",
       "version_major": 2,
       "version_minor": 0
      },
      "text/plain": [
       "Validation:   0%|          | 0/180 [00:00<?, ?it/s]"
      ]
     },
     "metadata": {},
     "output_type": "display_data"
    },
    {
     "name": "stdout",
     "output_type": "stream",
     "text": [
      "val_losses 0.5360602047708299\n",
      "EarlyStopping counter: 4 out of 50\n"
     ]
    },
    {
     "data": {
      "application/vnd.jupyter.widget-view+json": {
       "model_id": "46d08118ef394e2c9b4d03e672c2b51b",
       "version_major": 2,
       "version_minor": 0
      },
      "text/plain": [
       "Training:   0%|          | 0/330 [00:00<?, ?it/s]"
      ]
     },
     "metadata": {},
     "output_type": "display_data"
    },
    {
     "data": {
      "application/vnd.jupyter.widget-view+json": {
       "model_id": "698b435c0ee2410cb1287cf525628883",
       "version_major": 2,
       "version_minor": 0
      },
      "text/plain": [
       "Validation:   0%|          | 0/180 [00:00<?, ?it/s]"
      ]
     },
     "metadata": {},
     "output_type": "display_data"
    },
    {
     "name": "stdout",
     "output_type": "stream",
     "text": [
      "val_losses 0.5447985433869892\n",
      "EarlyStopping counter: 5 out of 50\n"
     ]
    },
    {
     "data": {
      "application/vnd.jupyter.widget-view+json": {
       "model_id": "364e10a7bbe948c0914d35baf8ef7c3e",
       "version_major": 2,
       "version_minor": 0
      },
      "text/plain": [
       "Training:   0%|          | 0/330 [00:00<?, ?it/s]"
      ]
     },
     "metadata": {},
     "output_type": "display_data"
    },
    {
     "data": {
      "application/vnd.jupyter.widget-view+json": {
       "model_id": "88681086bb414f60a1886760fa211c74",
       "version_major": 2,
       "version_minor": 0
      },
      "text/plain": [
       "Validation:   0%|          | 0/180 [00:00<?, ?it/s]"
      ]
     },
     "metadata": {},
     "output_type": "display_data"
    },
    {
     "name": "stdout",
     "output_type": "stream",
     "text": [
      "val_losses 0.5772184809876812\n",
      "EarlyStopping counter: 6 out of 50\n"
     ]
    },
    {
     "data": {
      "application/vnd.jupyter.widget-view+json": {
       "model_id": "f2237510b5c74a028d58351ad65a9303",
       "version_major": 2,
       "version_minor": 0
      },
      "text/plain": [
       "Training:   0%|          | 0/330 [00:00<?, ?it/s]"
      ]
     },
     "metadata": {},
     "output_type": "display_data"
    },
    {
     "data": {
      "application/vnd.jupyter.widget-view+json": {
       "model_id": "9436e1062b424dd98e639c4636cae47d",
       "version_major": 2,
       "version_minor": 0
      },
      "text/plain": [
       "Validation:   0%|          | 0/180 [00:00<?, ?it/s]"
      ]
     },
     "metadata": {},
     "output_type": "display_data"
    },
    {
     "name": "stdout",
     "output_type": "stream",
     "text": [
      "val_losses 0.5311840211351713\n",
      "EarlyStopping counter: 7 out of 50\n"
     ]
    },
    {
     "data": {
      "application/vnd.jupyter.widget-view+json": {
       "model_id": "236b8571f95444d186d211c6210b72a8",
       "version_major": 2,
       "version_minor": 0
      },
      "text/plain": [
       "Training:   0%|          | 0/330 [00:00<?, ?it/s]"
      ]
     },
     "metadata": {},
     "output_type": "display_data"
    },
    {
     "data": {
      "application/vnd.jupyter.widget-view+json": {
       "model_id": "a5a9e7d22ec148dcae488df93644136f",
       "version_major": 2,
       "version_minor": 0
      },
      "text/plain": [
       "Validation:   0%|          | 0/180 [00:00<?, ?it/s]"
      ]
     },
     "metadata": {},
     "output_type": "display_data"
    },
    {
     "name": "stdout",
     "output_type": "stream",
     "text": [
      "val_losses 0.5466480363160372\n",
      "EarlyStopping counter: 8 out of 50\n"
     ]
    },
    {
     "data": {
      "application/vnd.jupyter.widget-view+json": {
       "model_id": "f8fdd2fad1fc4ac7ae3cab8060830aac",
       "version_major": 2,
       "version_minor": 0
      },
      "text/plain": [
       "Training:   0%|          | 0/330 [00:00<?, ?it/s]"
      ]
     },
     "metadata": {},
     "output_type": "display_data"
    },
    {
     "data": {
      "application/vnd.jupyter.widget-view+json": {
       "model_id": "2a1ea736297945aca2e03a18acde719d",
       "version_major": 2,
       "version_minor": 0
      },
      "text/plain": [
       "Validation:   0%|          | 0/180 [00:00<?, ?it/s]"
      ]
     },
     "metadata": {},
     "output_type": "display_data"
    },
    {
     "name": "stdout",
     "output_type": "stream",
     "text": [
      "val_losses 0.5878364073733489\n",
      "EarlyStopping counter: 9 out of 50\n"
     ]
    },
    {
     "data": {
      "application/vnd.jupyter.widget-view+json": {
       "model_id": "29d2bc5061284e97b97d9d30da7b93f7",
       "version_major": 2,
       "version_minor": 0
      },
      "text/plain": [
       "Training:   0%|          | 0/330 [00:00<?, ?it/s]"
      ]
     },
     "metadata": {},
     "output_type": "display_data"
    },
    {
     "data": {
      "application/vnd.jupyter.widget-view+json": {
       "model_id": "741297dd1f274a4692539fca86030f61",
       "version_major": 2,
       "version_minor": 0
      },
      "text/plain": [
       "Validation:   0%|          | 0/180 [00:00<?, ?it/s]"
      ]
     },
     "metadata": {},
     "output_type": "display_data"
    },
    {
     "name": "stdout",
     "output_type": "stream",
     "text": [
      "val_losses 0.581762074927489\n",
      "EarlyStopping counter: 10 out of 50\n"
     ]
    },
    {
     "data": {
      "application/vnd.jupyter.widget-view+json": {
       "model_id": "650591b2f64e41779467f37b79a40d22",
       "version_major": 2,
       "version_minor": 0
      },
      "text/plain": [
       "Training:   0%|          | 0/330 [00:00<?, ?it/s]"
      ]
     },
     "metadata": {},
     "output_type": "display_data"
    },
    {
     "data": {
      "application/vnd.jupyter.widget-view+json": {
       "model_id": "de06447728654f49ba2d0a09c2412da1",
       "version_major": 2,
       "version_minor": 0
      },
      "text/plain": [
       "Validation:   0%|          | 0/180 [00:00<?, ?it/s]"
      ]
     },
     "metadata": {},
     "output_type": "display_data"
    },
    {
     "name": "stdout",
     "output_type": "stream",
     "text": [
      "val_losses 0.6064610410481691\n",
      "EarlyStopping counter: 11 out of 50\n"
     ]
    },
    {
     "data": {
      "application/vnd.jupyter.widget-view+json": {
       "model_id": "54cf8dc297df4e7297da0eedbd91ed54",
       "version_major": 2,
       "version_minor": 0
      },
      "text/plain": [
       "Training:   0%|          | 0/330 [00:00<?, ?it/s]"
      ]
     },
     "metadata": {},
     "output_type": "display_data"
    },
    {
     "data": {
      "application/vnd.jupyter.widget-view+json": {
       "model_id": "721624c20db24ece992cfb33dd314fd5",
       "version_major": 2,
       "version_minor": 0
      },
      "text/plain": [
       "Validation:   0%|          | 0/180 [00:00<?, ?it/s]"
      ]
     },
     "metadata": {},
     "output_type": "display_data"
    },
    {
     "name": "stdout",
     "output_type": "stream",
     "text": [
      "val_losses 0.5927914458016554\n",
      "EarlyStopping counter: 12 out of 50\n"
     ]
    },
    {
     "data": {
      "application/vnd.jupyter.widget-view+json": {
       "model_id": "4c982c02988645508766e24760c805df",
       "version_major": 2,
       "version_minor": 0
      },
      "text/plain": [
       "Training:   0%|          | 0/330 [00:00<?, ?it/s]"
      ]
     },
     "metadata": {},
     "output_type": "display_data"
    },
    {
     "data": {
      "application/vnd.jupyter.widget-view+json": {
       "model_id": "fc82e0792bc34b3e8ab264298a9c9074",
       "version_major": 2,
       "version_minor": 0
      },
      "text/plain": [
       "Validation:   0%|          | 0/180 [00:00<?, ?it/s]"
      ]
     },
     "metadata": {},
     "output_type": "display_data"
    },
    {
     "name": "stdout",
     "output_type": "stream",
     "text": [
      "val_losses 0.6249823857512739\n",
      "EarlyStopping counter: 13 out of 50\n"
     ]
    },
    {
     "data": {
      "application/vnd.jupyter.widget-view+json": {
       "model_id": "86ee6ebe1c1c49d595228f3b3f2a4c58",
       "version_major": 2,
       "version_minor": 0
      },
      "text/plain": [
       "Training:   0%|          | 0/330 [00:00<?, ?it/s]"
      ]
     },
     "metadata": {},
     "output_type": "display_data"
    },
    {
     "data": {
      "application/vnd.jupyter.widget-view+json": {
       "model_id": "e6fb376a00374e8e9dddf3237495df9e",
       "version_major": 2,
       "version_minor": 0
      },
      "text/plain": [
       "Validation:   0%|          | 0/180 [00:00<?, ?it/s]"
      ]
     },
     "metadata": {},
     "output_type": "display_data"
    },
    {
     "name": "stdout",
     "output_type": "stream",
     "text": [
      "val_losses 0.6393296653197871\n",
      "EarlyStopping counter: 14 out of 50\n"
     ]
    },
    {
     "data": {
      "application/vnd.jupyter.widget-view+json": {
       "model_id": "0b6d07e6062c433ba506270db125f6ee",
       "version_major": 2,
       "version_minor": 0
      },
      "text/plain": [
       "Training:   0%|          | 0/330 [00:00<?, ?it/s]"
      ]
     },
     "metadata": {},
     "output_type": "display_data"
    },
    {
     "data": {
      "application/vnd.jupyter.widget-view+json": {
       "model_id": "08fff14cfd2c4429aa338ed2d1f2e6d3",
       "version_major": 2,
       "version_minor": 0
      },
      "text/plain": [
       "Validation:   0%|          | 0/180 [00:00<?, ?it/s]"
      ]
     },
     "metadata": {},
     "output_type": "display_data"
    },
    {
     "name": "stdout",
     "output_type": "stream",
     "text": [
      "val_losses 0.6076476946473122\n",
      "EarlyStopping counter: 15 out of 50\n"
     ]
    },
    {
     "data": {
      "application/vnd.jupyter.widget-view+json": {
       "model_id": "77ec5583f72b4d4e8220bd9d5af4270d",
       "version_major": 2,
       "version_minor": 0
      },
      "text/plain": [
       "Training:   0%|          | 0/330 [00:00<?, ?it/s]"
      ]
     },
     "metadata": {},
     "output_type": "display_data"
    },
    {
     "data": {
      "application/vnd.jupyter.widget-view+json": {
       "model_id": "cdb2c1318c464d5fbec152c8dc47efb8",
       "version_major": 2,
       "version_minor": 0
      },
      "text/plain": [
       "Validation:   0%|          | 0/180 [00:00<?, ?it/s]"
      ]
     },
     "metadata": {},
     "output_type": "display_data"
    },
    {
     "name": "stdout",
     "output_type": "stream",
     "text": [
      "val_losses 0.6087332379486826\n",
      "EarlyStopping counter: 16 out of 50\n"
     ]
    },
    {
     "data": {
      "application/vnd.jupyter.widget-view+json": {
       "model_id": "06e58f958d3b44189a706c8b7f32d4ef",
       "version_major": 2,
       "version_minor": 0
      },
      "text/plain": [
       "Training:   0%|          | 0/330 [00:00<?, ?it/s]"
      ]
     },
     "metadata": {},
     "output_type": "display_data"
    },
    {
     "data": {
      "application/vnd.jupyter.widget-view+json": {
       "model_id": "c622305cd1284f37bdc8b5e3852f7419",
       "version_major": 2,
       "version_minor": 0
      },
      "text/plain": [
       "Validation:   0%|          | 0/180 [00:00<?, ?it/s]"
      ]
     },
     "metadata": {},
     "output_type": "display_data"
    },
    {
     "name": "stdout",
     "output_type": "stream",
     "text": [
      "val_losses 0.5932430480917295\n",
      "EarlyStopping counter: 17 out of 50\n"
     ]
    },
    {
     "data": {
      "application/vnd.jupyter.widget-view+json": {
       "model_id": "70ccbe5e0cdf4a1bb19d51b3c0012f32",
       "version_major": 2,
       "version_minor": 0
      },
      "text/plain": [
       "Training:   0%|          | 0/330 [00:00<?, ?it/s]"
      ]
     },
     "metadata": {},
     "output_type": "display_data"
    },
    {
     "data": {
      "application/vnd.jupyter.widget-view+json": {
       "model_id": "4f0c71eeb1b646ffbd199c3b967515e2",
       "version_major": 2,
       "version_minor": 0
      },
      "text/plain": [
       "Validation:   0%|          | 0/180 [00:00<?, ?it/s]"
      ]
     },
     "metadata": {},
     "output_type": "display_data"
    },
    {
     "name": "stdout",
     "output_type": "stream",
     "text": [
      "val_losses 0.634385358211067\n",
      "EarlyStopping counter: 18 out of 50\n"
     ]
    },
    {
     "data": {
      "application/vnd.jupyter.widget-view+json": {
       "model_id": "85c96b89d8494b72bec1a41c3f40edd8",
       "version_major": 2,
       "version_minor": 0
      },
      "text/plain": [
       "Training:   0%|          | 0/330 [00:00<?, ?it/s]"
      ]
     },
     "metadata": {},
     "output_type": "display_data"
    },
    {
     "data": {
      "application/vnd.jupyter.widget-view+json": {
       "model_id": "5aee5b16bd4c40018baa56ad24edbca2",
       "version_major": 2,
       "version_minor": 0
      },
      "text/plain": [
       "Validation:   0%|          | 0/180 [00:00<?, ?it/s]"
      ]
     },
     "metadata": {},
     "output_type": "display_data"
    },
    {
     "name": "stdout",
     "output_type": "stream",
     "text": [
      "val_losses 0.6092212326824665\n",
      "EarlyStopping counter: 19 out of 50\n"
     ]
    },
    {
     "data": {
      "application/vnd.jupyter.widget-view+json": {
       "model_id": "28e40e96acbe47879fcc63b3e02d127d",
       "version_major": 2,
       "version_minor": 0
      },
      "text/plain": [
       "Training:   0%|          | 0/330 [00:00<?, ?it/s]"
      ]
     },
     "metadata": {},
     "output_type": "display_data"
    },
    {
     "data": {
      "application/vnd.jupyter.widget-view+json": {
       "model_id": "c3a34032a04b49b0a2eb5c3ae3059f81",
       "version_major": 2,
       "version_minor": 0
      },
      "text/plain": [
       "Validation:   0%|          | 0/180 [00:00<?, ?it/s]"
      ]
     },
     "metadata": {},
     "output_type": "display_data"
    },
    {
     "name": "stdout",
     "output_type": "stream",
     "text": [
      "val_losses 0.6174870711233881\n",
      "EarlyStopping counter: 20 out of 50\n"
     ]
    },
    {
     "data": {
      "application/vnd.jupyter.widget-view+json": {
       "model_id": "0c117d4e84f5491894f3ea995dfdb801",
       "version_major": 2,
       "version_minor": 0
      },
      "text/plain": [
       "Training:   0%|          | 0/330 [00:00<?, ?it/s]"
      ]
     },
     "metadata": {},
     "output_type": "display_data"
    },
    {
     "data": {
      "application/vnd.jupyter.widget-view+json": {
       "model_id": "96ee582ec7fc460aa6f71aa4321d76ec",
       "version_major": 2,
       "version_minor": 0
      },
      "text/plain": [
       "Validation:   0%|          | 0/180 [00:00<?, ?it/s]"
      ]
     },
     "metadata": {},
     "output_type": "display_data"
    },
    {
     "name": "stdout",
     "output_type": "stream",
     "text": [
      "val_losses 0.6391070218549835\n",
      "EarlyStopping counter: 21 out of 50\n"
     ]
    },
    {
     "data": {
      "application/vnd.jupyter.widget-view+json": {
       "model_id": "97193d591989416ea7a866db8947d42b",
       "version_major": 2,
       "version_minor": 0
      },
      "text/plain": [
       "Training:   0%|          | 0/330 [00:00<?, ?it/s]"
      ]
     },
     "metadata": {},
     "output_type": "display_data"
    },
    {
     "data": {
      "application/vnd.jupyter.widget-view+json": {
       "model_id": "3fd0ff95e816412f80139d15ab4e6d22",
       "version_major": 2,
       "version_minor": 0
      },
      "text/plain": [
       "Validation:   0%|          | 0/180 [00:00<?, ?it/s]"
      ]
     },
     "metadata": {},
     "output_type": "display_data"
    },
    {
     "name": "stdout",
     "output_type": "stream",
     "text": [
      "val_losses 0.6392364587220881\n",
      "EarlyStopping counter: 22 out of 50\n"
     ]
    },
    {
     "data": {
      "application/vnd.jupyter.widget-view+json": {
       "model_id": "ec8b48b9cc6149b784ce71f76601ee5a",
       "version_major": 2,
       "version_minor": 0
      },
      "text/plain": [
       "Training:   0%|          | 0/330 [00:00<?, ?it/s]"
      ]
     },
     "metadata": {},
     "output_type": "display_data"
    },
    {
     "data": {
      "application/vnd.jupyter.widget-view+json": {
       "model_id": "5a4c1da1383a429a8d78e07933bfbae7",
       "version_major": 2,
       "version_minor": 0
      },
      "text/plain": [
       "Validation:   0%|          | 0/180 [00:00<?, ?it/s]"
      ]
     },
     "metadata": {},
     "output_type": "display_data"
    },
    {
     "name": "stdout",
     "output_type": "stream",
     "text": [
      "val_losses 0.6300366382631991\n",
      "EarlyStopping counter: 23 out of 50\n"
     ]
    },
    {
     "data": {
      "application/vnd.jupyter.widget-view+json": {
       "model_id": "eb1b0416cf084624bcb953270f7d8348",
       "version_major": 2,
       "version_minor": 0
      },
      "text/plain": [
       "Training:   0%|          | 0/330 [00:00<?, ?it/s]"
      ]
     },
     "metadata": {},
     "output_type": "display_data"
    },
    {
     "data": {
      "application/vnd.jupyter.widget-view+json": {
       "model_id": "798e9343f2c24d70b1725ec5bf84e79c",
       "version_major": 2,
       "version_minor": 0
      },
      "text/plain": [
       "Validation:   0%|          | 0/180 [00:00<?, ?it/s]"
      ]
     },
     "metadata": {},
     "output_type": "display_data"
    },
    {
     "name": "stdout",
     "output_type": "stream",
     "text": [
      "val_losses 0.6019255591349469\n",
      "EarlyStopping counter: 24 out of 50\n"
     ]
    },
    {
     "data": {
      "application/vnd.jupyter.widget-view+json": {
       "model_id": "3ef8483bca3049ed96a6a73834e56992",
       "version_major": 2,
       "version_minor": 0
      },
      "text/plain": [
       "Training:   0%|          | 0/330 [00:00<?, ?it/s]"
      ]
     },
     "metadata": {},
     "output_type": "display_data"
    },
    {
     "data": {
      "application/vnd.jupyter.widget-view+json": {
       "model_id": "5b389d20c1ab48e09930f771fc40bb86",
       "version_major": 2,
       "version_minor": 0
      },
      "text/plain": [
       "Validation:   0%|          | 0/180 [00:00<?, ?it/s]"
      ]
     },
     "metadata": {},
     "output_type": "display_data"
    },
    {
     "name": "stdout",
     "output_type": "stream",
     "text": [
      "val_losses 0.6377815086394548\n",
      "EarlyStopping counter: 25 out of 50\n"
     ]
    },
    {
     "data": {
      "application/vnd.jupyter.widget-view+json": {
       "model_id": "ace9f0e37fc24855bc38d4f7c1c51a10",
       "version_major": 2,
       "version_minor": 0
      },
      "text/plain": [
       "Training:   0%|          | 0/330 [00:00<?, ?it/s]"
      ]
     },
     "metadata": {},
     "output_type": "display_data"
    },
    {
     "data": {
      "application/vnd.jupyter.widget-view+json": {
       "model_id": "5d08e0bd575c457686f7110b0fbe92c8",
       "version_major": 2,
       "version_minor": 0
      },
      "text/plain": [
       "Validation:   0%|          | 0/180 [00:00<?, ?it/s]"
      ]
     },
     "metadata": {},
     "output_type": "display_data"
    },
    {
     "name": "stdout",
     "output_type": "stream",
     "text": [
      "val_losses 0.3101055251641406\n",
      "Validation loss decreased (0.385127 --> 0.310106).  Saving model ...\n"
     ]
    },
    {
     "data": {
      "application/vnd.jupyter.widget-view+json": {
       "model_id": "0822266399ef41408ac458e4db809d8b",
       "version_major": 2,
       "version_minor": 0
      },
      "text/plain": [
       "Training:   0%|          | 0/330 [00:00<?, ?it/s]"
      ]
     },
     "metadata": {},
     "output_type": "display_data"
    },
    {
     "data": {
      "application/vnd.jupyter.widget-view+json": {
       "model_id": "257cf3cb1acc41ff9922272fd36a5ab5",
       "version_major": 2,
       "version_minor": 0
      },
      "text/plain": [
       "Validation:   0%|          | 0/180 [00:00<?, ?it/s]"
      ]
     },
     "metadata": {},
     "output_type": "display_data"
    },
    {
     "name": "stdout",
     "output_type": "stream",
     "text": [
      "val_losses 0.4704555199585027\n",
      "EarlyStopping counter: 1 out of 50\n"
     ]
    },
    {
     "data": {
      "application/vnd.jupyter.widget-view+json": {
       "model_id": "f9e19cdf03e64864998fd2510a8e81a2",
       "version_major": 2,
       "version_minor": 0
      },
      "text/plain": [
       "Training:   0%|          | 0/330 [00:00<?, ?it/s]"
      ]
     },
     "metadata": {},
     "output_type": "display_data"
    },
    {
     "data": {
      "application/vnd.jupyter.widget-view+json": {
       "model_id": "4304bdb4b6f943938656687f7145ea88",
       "version_major": 2,
       "version_minor": 0
      },
      "text/plain": [
       "Validation:   0%|          | 0/180 [00:00<?, ?it/s]"
      ]
     },
     "metadata": {},
     "output_type": "display_data"
    },
    {
     "name": "stdout",
     "output_type": "stream",
     "text": [
      "val_losses 0.5429977665758795\n",
      "EarlyStopping counter: 2 out of 50\n"
     ]
    },
    {
     "data": {
      "application/vnd.jupyter.widget-view+json": {
       "model_id": "8e34bcc554de4c058ec3f3de69340a42",
       "version_major": 2,
       "version_minor": 0
      },
      "text/plain": [
       "Training:   0%|          | 0/330 [00:00<?, ?it/s]"
      ]
     },
     "metadata": {},
     "output_type": "display_data"
    },
    {
     "data": {
      "application/vnd.jupyter.widget-view+json": {
       "model_id": "7f15994b26c04a568e0e0fe4a2f656ba",
       "version_major": 2,
       "version_minor": 0
      },
      "text/plain": [
       "Validation:   0%|          | 0/180 [00:00<?, ?it/s]"
      ]
     },
     "metadata": {},
     "output_type": "display_data"
    },
    {
     "name": "stdout",
     "output_type": "stream",
     "text": [
      "val_losses 0.5948344534056054\n",
      "EarlyStopping counter: 3 out of 50\n"
     ]
    },
    {
     "data": {
      "application/vnd.jupyter.widget-view+json": {
       "model_id": "a4e8a1df2e21450fad3ed5ffccd0d5b9",
       "version_major": 2,
       "version_minor": 0
      },
      "text/plain": [
       "Training:   0%|          | 0/330 [00:00<?, ?it/s]"
      ]
     },
     "metadata": {},
     "output_type": "display_data"
    },
    {
     "data": {
      "application/vnd.jupyter.widget-view+json": {
       "model_id": "1d52bc4d73b045bfb17701b39114c2af",
       "version_major": 2,
       "version_minor": 0
      },
      "text/plain": [
       "Validation:   0%|          | 0/180 [00:00<?, ?it/s]"
      ]
     },
     "metadata": {},
     "output_type": "display_data"
    },
    {
     "name": "stdout",
     "output_type": "stream",
     "text": [
      "val_losses 0.6264985651605659\n",
      "EarlyStopping counter: 4 out of 50\n"
     ]
    },
    {
     "data": {
      "application/vnd.jupyter.widget-view+json": {
       "model_id": "1c41cd7850384886b5f480f9068e2396",
       "version_major": 2,
       "version_minor": 0
      },
      "text/plain": [
       "Training:   0%|          | 0/330 [00:00<?, ?it/s]"
      ]
     },
     "metadata": {},
     "output_type": "display_data"
    },
    {
     "data": {
      "application/vnd.jupyter.widget-view+json": {
       "model_id": "b2c6b5c8275d47c5994251cdd51d07d2",
       "version_major": 2,
       "version_minor": 0
      },
      "text/plain": [
       "Validation:   0%|          | 0/180 [00:00<?, ?it/s]"
      ]
     },
     "metadata": {},
     "output_type": "display_data"
    },
    {
     "name": "stdout",
     "output_type": "stream",
     "text": [
      "val_losses 0.6570636150737603\n",
      "EarlyStopping counter: 5 out of 50\n"
     ]
    },
    {
     "data": {
      "application/vnd.jupyter.widget-view+json": {
       "model_id": "324539fa779f4c3db1816ce82eba623f",
       "version_major": 2,
       "version_minor": 0
      },
      "text/plain": [
       "Training:   0%|          | 0/330 [00:00<?, ?it/s]"
      ]
     },
     "metadata": {},
     "output_type": "display_data"
    },
    {
     "data": {
      "application/vnd.jupyter.widget-view+json": {
       "model_id": "d60c087aeec146e0bc50960f07671e08",
       "version_major": 2,
       "version_minor": 0
      },
      "text/plain": [
       "Validation:   0%|          | 0/180 [00:00<?, ?it/s]"
      ]
     },
     "metadata": {},
     "output_type": "display_data"
    },
    {
     "name": "stdout",
     "output_type": "stream",
     "text": [
      "val_losses 0.6614716284390952\n",
      "EarlyStopping counter: 6 out of 50\n"
     ]
    },
    {
     "data": {
      "application/vnd.jupyter.widget-view+json": {
       "model_id": "489d44bfa52140c5aaf13fb59e2e468b",
       "version_major": 2,
       "version_minor": 0
      },
      "text/plain": [
       "Training:   0%|          | 0/330 [00:00<?, ?it/s]"
      ]
     },
     "metadata": {},
     "output_type": "display_data"
    },
    {
     "data": {
      "application/vnd.jupyter.widget-view+json": {
       "model_id": "0eddba23ad8f49a5a905bf5a69d35f56",
       "version_major": 2,
       "version_minor": 0
      },
      "text/plain": [
       "Validation:   0%|          | 0/180 [00:00<?, ?it/s]"
      ]
     },
     "metadata": {},
     "output_type": "display_data"
    },
    {
     "name": "stdout",
     "output_type": "stream",
     "text": [
      "val_losses 0.6748318834851186\n",
      "EarlyStopping counter: 7 out of 50\n"
     ]
    },
    {
     "data": {
      "application/vnd.jupyter.widget-view+json": {
       "model_id": "9b64601a1b1f49cf863cb902b21d4d3c",
       "version_major": 2,
       "version_minor": 0
      },
      "text/plain": [
       "Training:   0%|          | 0/330 [00:00<?, ?it/s]"
      ]
     },
     "metadata": {},
     "output_type": "display_data"
    },
    {
     "data": {
      "application/vnd.jupyter.widget-view+json": {
       "model_id": "bea98ef29ce54416810e8b7019c06b27",
       "version_major": 2,
       "version_minor": 0
      },
      "text/plain": [
       "Validation:   0%|          | 0/180 [00:00<?, ?it/s]"
      ]
     },
     "metadata": {},
     "output_type": "display_data"
    },
    {
     "name": "stdout",
     "output_type": "stream",
     "text": [
      "val_losses 0.6885129493143823\n",
      "EarlyStopping counter: 8 out of 50\n"
     ]
    },
    {
     "data": {
      "application/vnd.jupyter.widget-view+json": {
       "model_id": "2e1ddad0335646bd8816985dd4800db1",
       "version_major": 2,
       "version_minor": 0
      },
      "text/plain": [
       "Training:   0%|          | 0/330 [00:00<?, ?it/s]"
      ]
     },
     "metadata": {},
     "output_type": "display_data"
    },
    {
     "data": {
      "application/vnd.jupyter.widget-view+json": {
       "model_id": "e9f106e387864cc39dbc23675525c160",
       "version_major": 2,
       "version_minor": 0
      },
      "text/plain": [
       "Validation:   0%|          | 0/180 [00:00<?, ?it/s]"
      ]
     },
     "metadata": {},
     "output_type": "display_data"
    },
    {
     "name": "stdout",
     "output_type": "stream",
     "text": [
      "val_losses 0.6816058312025335\n",
      "EarlyStopping counter: 9 out of 50\n"
     ]
    },
    {
     "data": {
      "application/vnd.jupyter.widget-view+json": {
       "model_id": "13ce0efb4e1640c2a7eb83d7bb597723",
       "version_major": 2,
       "version_minor": 0
      },
      "text/plain": [
       "Training:   0%|          | 0/330 [00:00<?, ?it/s]"
      ]
     },
     "metadata": {},
     "output_type": "display_data"
    },
    {
     "data": {
      "application/vnd.jupyter.widget-view+json": {
       "model_id": "a194ae7cde9044b598bd1600d6d5aa4d",
       "version_major": 2,
       "version_minor": 0
      },
      "text/plain": [
       "Validation:   0%|          | 0/180 [00:00<?, ?it/s]"
      ]
     },
     "metadata": {},
     "output_type": "display_data"
    },
    {
     "name": "stdout",
     "output_type": "stream",
     "text": [
      "val_losses 0.6480717031078206\n",
      "EarlyStopping counter: 10 out of 50\n"
     ]
    },
    {
     "data": {
      "application/vnd.jupyter.widget-view+json": {
       "model_id": "da4a5a4056854d75a748f1b416a7e42e",
       "version_major": 2,
       "version_minor": 0
      },
      "text/plain": [
       "Training:   0%|          | 0/330 [00:00<?, ?it/s]"
      ]
     },
     "metadata": {},
     "output_type": "display_data"
    },
    {
     "data": {
      "application/vnd.jupyter.widget-view+json": {
       "model_id": "bc69776192bc4191b4f2b6408e3cf8ff",
       "version_major": 2,
       "version_minor": 0
      },
      "text/plain": [
       "Validation:   0%|          | 0/180 [00:00<?, ?it/s]"
      ]
     },
     "metadata": {},
     "output_type": "display_data"
    },
    {
     "name": "stdout",
     "output_type": "stream",
     "text": [
      "val_losses 0.6879678254740106\n",
      "EarlyStopping counter: 11 out of 50\n"
     ]
    },
    {
     "data": {
      "application/vnd.jupyter.widget-view+json": {
       "model_id": "5b4260e430e341ada6968ce150bd02ac",
       "version_major": 2,
       "version_minor": 0
      },
      "text/plain": [
       "Training:   0%|          | 0/330 [00:00<?, ?it/s]"
      ]
     },
     "metadata": {},
     "output_type": "display_data"
    },
    {
     "data": {
      "application/vnd.jupyter.widget-view+json": {
       "model_id": "bedaa2c3ba2c424aac74809731c9f49a",
       "version_major": 2,
       "version_minor": 0
      },
      "text/plain": [
       "Validation:   0%|          | 0/180 [00:00<?, ?it/s]"
      ]
     },
     "metadata": {},
     "output_type": "display_data"
    },
    {
     "name": "stdout",
     "output_type": "stream",
     "text": [
      "val_losses 0.6585280436194605\n",
      "EarlyStopping counter: 12 out of 50\n"
     ]
    },
    {
     "data": {
      "application/vnd.jupyter.widget-view+json": {
       "model_id": "dbc52955e98143479efa08809d4738ae",
       "version_major": 2,
       "version_minor": 0
      },
      "text/plain": [
       "Training:   0%|          | 0/330 [00:00<?, ?it/s]"
      ]
     },
     "metadata": {},
     "output_type": "display_data"
    },
    {
     "data": {
      "application/vnd.jupyter.widget-view+json": {
       "model_id": "381144645fbd48378d4edfa761f489b2",
       "version_major": 2,
       "version_minor": 0
      },
      "text/plain": [
       "Validation:   0%|          | 0/180 [00:00<?, ?it/s]"
      ]
     },
     "metadata": {},
     "output_type": "display_data"
    },
    {
     "name": "stdout",
     "output_type": "stream",
     "text": [
      "val_losses 0.6480586750225888\n",
      "EarlyStopping counter: 13 out of 50\n"
     ]
    },
    {
     "data": {
      "application/vnd.jupyter.widget-view+json": {
       "model_id": "298c1b8d13d94a16898d8890e6c3c3de",
       "version_major": 2,
       "version_minor": 0
      },
      "text/plain": [
       "Training:   0%|          | 0/330 [00:00<?, ?it/s]"
      ]
     },
     "metadata": {},
     "output_type": "display_data"
    },
    {
     "data": {
      "application/vnd.jupyter.widget-view+json": {
       "model_id": "debe47c789d14f8389ef9e1d532d7ee6",
       "version_major": 2,
       "version_minor": 0
      },
      "text/plain": [
       "Validation:   0%|          | 0/180 [00:00<?, ?it/s]"
      ]
     },
     "metadata": {},
     "output_type": "display_data"
    },
    {
     "name": "stdout",
     "output_type": "stream",
     "text": [
      "val_losses 0.6646914049569104\n",
      "EarlyStopping counter: 14 out of 50\n"
     ]
    },
    {
     "data": {
      "application/vnd.jupyter.widget-view+json": {
       "model_id": "9bcafe95fcc74520bd94a528965cf86d",
       "version_major": 2,
       "version_minor": 0
      },
      "text/plain": [
       "Training:   0%|          | 0/330 [00:00<?, ?it/s]"
      ]
     },
     "metadata": {},
     "output_type": "display_data"
    },
    {
     "data": {
      "application/vnd.jupyter.widget-view+json": {
       "model_id": "d153ec52481e42b89ee81feaf04fb875",
       "version_major": 2,
       "version_minor": 0
      },
      "text/plain": [
       "Validation:   0%|          | 0/180 [00:00<?, ?it/s]"
      ]
     },
     "metadata": {},
     "output_type": "display_data"
    },
    {
     "name": "stdout",
     "output_type": "stream",
     "text": [
      "val_losses 0.6743179038994842\n",
      "EarlyStopping counter: 15 out of 50\n"
     ]
    },
    {
     "data": {
      "application/vnd.jupyter.widget-view+json": {
       "model_id": "405f40f77e5542028a7a94df7558d8aa",
       "version_major": 2,
       "version_minor": 0
      },
      "text/plain": [
       "Training:   0%|          | 0/330 [00:00<?, ?it/s]"
      ]
     },
     "metadata": {},
     "output_type": "display_data"
    },
    {
     "data": {
      "application/vnd.jupyter.widget-view+json": {
       "model_id": "06f4a208d67b4539bb08c169e3272549",
       "version_major": 2,
       "version_minor": 0
      },
      "text/plain": [
       "Validation:   0%|          | 0/180 [00:00<?, ?it/s]"
      ]
     },
     "metadata": {},
     "output_type": "display_data"
    },
    {
     "name": "stdout",
     "output_type": "stream",
     "text": [
      "val_losses 0.6785324286255572\n",
      "EarlyStopping counter: 16 out of 50\n"
     ]
    },
    {
     "data": {
      "application/vnd.jupyter.widget-view+json": {
       "model_id": "8813c084506842059901e46794d4e07f",
       "version_major": 2,
       "version_minor": 0
      },
      "text/plain": [
       "Training:   0%|          | 0/330 [00:00<?, ?it/s]"
      ]
     },
     "metadata": {},
     "output_type": "display_data"
    },
    {
     "data": {
      "application/vnd.jupyter.widget-view+json": {
       "model_id": "a5f98f8c70b14cd99390c9e7742fe66f",
       "version_major": 2,
       "version_minor": 0
      },
      "text/plain": [
       "Validation:   0%|          | 0/180 [00:00<?, ?it/s]"
      ]
     },
     "metadata": {},
     "output_type": "display_data"
    },
    {
     "name": "stdout",
     "output_type": "stream",
     "text": [
      "val_losses 0.6456828207605415\n",
      "EarlyStopping counter: 17 out of 50\n"
     ]
    },
    {
     "data": {
      "application/vnd.jupyter.widget-view+json": {
       "model_id": "9c849097a5d34842a95fe193e54bac86",
       "version_major": 2,
       "version_minor": 0
      },
      "text/plain": [
       "Training:   0%|          | 0/330 [00:00<?, ?it/s]"
      ]
     },
     "metadata": {},
     "output_type": "display_data"
    },
    {
     "data": {
      "application/vnd.jupyter.widget-view+json": {
       "model_id": "cb949ce406614120a255f769b2e9e655",
       "version_major": 2,
       "version_minor": 0
      },
      "text/plain": [
       "Validation:   0%|          | 0/180 [00:00<?, ?it/s]"
      ]
     },
     "metadata": {},
     "output_type": "display_data"
    },
    {
     "name": "stdout",
     "output_type": "stream",
     "text": [
      "val_losses 0.6852497260603639\n",
      "EarlyStopping counter: 18 out of 50\n"
     ]
    },
    {
     "data": {
      "application/vnd.jupyter.widget-view+json": {
       "model_id": "32cedb923a1b48a98a52c9a934347639",
       "version_major": 2,
       "version_minor": 0
      },
      "text/plain": [
       "Training:   0%|          | 0/330 [00:00<?, ?it/s]"
      ]
     },
     "metadata": {},
     "output_type": "display_data"
    },
    {
     "data": {
      "application/vnd.jupyter.widget-view+json": {
       "model_id": "8463a4cff30f4037b31075ab62fd2076",
       "version_major": 2,
       "version_minor": 0
      },
      "text/plain": [
       "Validation:   0%|          | 0/180 [00:00<?, ?it/s]"
      ]
     },
     "metadata": {},
     "output_type": "display_data"
    },
    {
     "name": "stdout",
     "output_type": "stream",
     "text": [
      "val_losses 0.6719103353718917\n",
      "EarlyStopping counter: 19 out of 50\n"
     ]
    },
    {
     "data": {
      "application/vnd.jupyter.widget-view+json": {
       "model_id": "7b0905f9e2f24dba80b655cec527c9c1",
       "version_major": 2,
       "version_minor": 0
      },
      "text/plain": [
       "Training:   0%|          | 0/330 [00:00<?, ?it/s]"
      ]
     },
     "metadata": {},
     "output_type": "display_data"
    },
    {
     "data": {
      "application/vnd.jupyter.widget-view+json": {
       "model_id": "0a6a37a95ba246dda57570978ad0b9fa",
       "version_major": 2,
       "version_minor": 0
      },
      "text/plain": [
       "Validation:   0%|          | 0/180 [00:00<?, ?it/s]"
      ]
     },
     "metadata": {},
     "output_type": "display_data"
    },
    {
     "name": "stdout",
     "output_type": "stream",
     "text": [
      "val_losses 0.6433876812458038\n",
      "EarlyStopping counter: 20 out of 50\n"
     ]
    },
    {
     "data": {
      "application/vnd.jupyter.widget-view+json": {
       "model_id": "28e0994d2bdc401b8f752e50c763a793",
       "version_major": 2,
       "version_minor": 0
      },
      "text/plain": [
       "Training:   0%|          | 0/330 [00:00<?, ?it/s]"
      ]
     },
     "metadata": {},
     "output_type": "display_data"
    },
    {
     "data": {
      "application/vnd.jupyter.widget-view+json": {
       "model_id": "04f4db9d96aa48128d4d7461eecffab6",
       "version_major": 2,
       "version_minor": 0
      },
      "text/plain": [
       "Validation:   0%|          | 0/180 [00:00<?, ?it/s]"
      ]
     },
     "metadata": {},
     "output_type": "display_data"
    },
    {
     "name": "stdout",
     "output_type": "stream",
     "text": [
      "val_losses 0.645599892280168\n",
      "EarlyStopping counter: 21 out of 50\n"
     ]
    },
    {
     "data": {
      "application/vnd.jupyter.widget-view+json": {
       "model_id": "144f435e386140beb65651b09c459d48",
       "version_major": 2,
       "version_minor": 0
      },
      "text/plain": [
       "Training:   0%|          | 0/330 [00:00<?, ?it/s]"
      ]
     },
     "metadata": {},
     "output_type": "display_data"
    },
    {
     "data": {
      "application/vnd.jupyter.widget-view+json": {
       "model_id": "3b243c8130e5440cb0b28750c662fdb9",
       "version_major": 2,
       "version_minor": 0
      },
      "text/plain": [
       "Validation:   0%|          | 0/180 [00:00<?, ?it/s]"
      ]
     },
     "metadata": {},
     "output_type": "display_data"
    },
    {
     "name": "stdout",
     "output_type": "stream",
     "text": [
      "val_losses 0.673539043797387\n",
      "EarlyStopping counter: 22 out of 50\n"
     ]
    },
    {
     "data": {
      "application/vnd.jupyter.widget-view+json": {
       "model_id": "db6805efb2dd435fb97386fb610532bb",
       "version_major": 2,
       "version_minor": 0
      },
      "text/plain": [
       "Training:   0%|          | 0/330 [00:00<?, ?it/s]"
      ]
     },
     "metadata": {},
     "output_type": "display_data"
    },
    {
     "data": {
      "application/vnd.jupyter.widget-view+json": {
       "model_id": "50ec0feb4b3149459ba473e156b5eea3",
       "version_major": 2,
       "version_minor": 0
      },
      "text/plain": [
       "Validation:   0%|          | 0/180 [00:00<?, ?it/s]"
      ]
     },
     "metadata": {},
     "output_type": "display_data"
    },
    {
     "name": "stdout",
     "output_type": "stream",
     "text": [
      "val_losses 0.6410401499933667\n",
      "EarlyStopping counter: 23 out of 50\n"
     ]
    },
    {
     "data": {
      "application/vnd.jupyter.widget-view+json": {
       "model_id": "bfac4c94f3d049e5a4fa571cac61b8dd",
       "version_major": 2,
       "version_minor": 0
      },
      "text/plain": [
       "Training:   0%|          | 0/330 [00:00<?, ?it/s]"
      ]
     },
     "metadata": {},
     "output_type": "display_data"
    },
    {
     "data": {
      "application/vnd.jupyter.widget-view+json": {
       "model_id": "9f128aa4ef9e4d6d842d089fbec58584",
       "version_major": 2,
       "version_minor": 0
      },
      "text/plain": [
       "Validation:   0%|          | 0/180 [00:00<?, ?it/s]"
      ]
     },
     "metadata": {},
     "output_type": "display_data"
    },
    {
     "name": "stdout",
     "output_type": "stream",
     "text": [
      "val_losses 0.6334858576042784\n",
      "EarlyStopping counter: 24 out of 50\n"
     ]
    },
    {
     "data": {
      "application/vnd.jupyter.widget-view+json": {
       "model_id": "9ad56c005f6140e5963a785670a4510f",
       "version_major": 2,
       "version_minor": 0
      },
      "text/plain": [
       "Training:   0%|          | 0/330 [00:00<?, ?it/s]"
      ]
     },
     "metadata": {},
     "output_type": "display_data"
    },
    {
     "data": {
      "application/vnd.jupyter.widget-view+json": {
       "model_id": "3c5a46b8bfdf4453a26e33b3a3c50b9c",
       "version_major": 2,
       "version_minor": 0
      },
      "text/plain": [
       "Validation:   0%|          | 0/180 [00:00<?, ?it/s]"
      ]
     },
     "metadata": {},
     "output_type": "display_data"
    },
    {
     "name": "stdout",
     "output_type": "stream",
     "text": [
      "val_losses 0.6356287093626128\n",
      "EarlyStopping counter: 25 out of 50\n"
     ]
    },
    {
     "data": {
      "application/vnd.jupyter.widget-view+json": {
       "model_id": "f273bcd965fd4c0a8c079ee46eb4aefa",
       "version_major": 2,
       "version_minor": 0
      },
      "text/plain": [
       "Training:   0%|          | 0/330 [00:00<?, ?it/s]"
      ]
     },
     "metadata": {},
     "output_type": "display_data"
    },
    {
     "data": {
      "application/vnd.jupyter.widget-view+json": {
       "model_id": "c0a68db4956743d2aae76fc71baa93a6",
       "version_major": 2,
       "version_minor": 0
      },
      "text/plain": [
       "Validation:   0%|          | 0/180 [00:00<?, ?it/s]"
      ]
     },
     "metadata": {},
     "output_type": "display_data"
    },
    {
     "name": "stdout",
     "output_type": "stream",
     "text": [
      "val_losses 0.3827639198551575\n",
      "EarlyStopping counter: 26 out of 50\n"
     ]
    },
    {
     "data": {
      "application/vnd.jupyter.widget-view+json": {
       "model_id": "c0ce424a550f40ec987074184a746965",
       "version_major": 2,
       "version_minor": 0
      },
      "text/plain": [
       "Training:   0%|          | 0/330 [00:00<?, ?it/s]"
      ]
     },
     "metadata": {},
     "output_type": "display_data"
    },
    {
     "data": {
      "application/vnd.jupyter.widget-view+json": {
       "model_id": "2944e5dd34e045f7b592a9fbc88117ea",
       "version_major": 2,
       "version_minor": 0
      },
      "text/plain": [
       "Validation:   0%|          | 0/180 [00:00<?, ?it/s]"
      ]
     },
     "metadata": {},
     "output_type": "display_data"
    },
    {
     "name": "stdout",
     "output_type": "stream",
     "text": [
      "val_losses 0.44724619595540893\n",
      "EarlyStopping counter: 27 out of 50\n"
     ]
    },
    {
     "data": {
      "application/vnd.jupyter.widget-view+json": {
       "model_id": "11b9e013994145f1913ab419ce45250e",
       "version_major": 2,
       "version_minor": 0
      },
      "text/plain": [
       "Training:   0%|          | 0/330 [00:00<?, ?it/s]"
      ]
     },
     "metadata": {},
     "output_type": "display_data"
    },
    {
     "data": {
      "application/vnd.jupyter.widget-view+json": {
       "model_id": "1ed7e7e526ed4ad080c8bb9648cb8abe",
       "version_major": 2,
       "version_minor": 0
      },
      "text/plain": [
       "Validation:   0%|          | 0/180 [00:00<?, ?it/s]"
      ]
     },
     "metadata": {},
     "output_type": "display_data"
    },
    {
     "name": "stdout",
     "output_type": "stream",
     "text": [
      "val_losses 0.4914701275113556\n",
      "EarlyStopping counter: 28 out of 50\n"
     ]
    },
    {
     "data": {
      "application/vnd.jupyter.widget-view+json": {
       "model_id": "cb247ffdc11a41258b4f1f3676a5b8e4",
       "version_major": 2,
       "version_minor": 0
      },
      "text/plain": [
       "Training:   0%|          | 0/330 [00:00<?, ?it/s]"
      ]
     },
     "metadata": {},
     "output_type": "display_data"
    },
    {
     "data": {
      "application/vnd.jupyter.widget-view+json": {
       "model_id": "3b9438e653cb4ea494550f9019777bef",
       "version_major": 2,
       "version_minor": 0
      },
      "text/plain": [
       "Validation:   0%|          | 0/180 [00:00<?, ?it/s]"
      ]
     },
     "metadata": {},
     "output_type": "display_data"
    },
    {
     "name": "stdout",
     "output_type": "stream",
     "text": [
      "val_losses 0.5176188829044501\n",
      "EarlyStopping counter: 29 out of 50\n"
     ]
    },
    {
     "data": {
      "application/vnd.jupyter.widget-view+json": {
       "model_id": "1e1df1eae07246aa8db6a8aec71d959f",
       "version_major": 2,
       "version_minor": 0
      },
      "text/plain": [
       "Training:   0%|          | 0/330 [00:00<?, ?it/s]"
      ]
     },
     "metadata": {},
     "output_type": "display_data"
    },
    {
     "data": {
      "application/vnd.jupyter.widget-view+json": {
       "model_id": "c346170e75fb4b058b32cebf3802f01b",
       "version_major": 2,
       "version_minor": 0
      },
      "text/plain": [
       "Validation:   0%|          | 0/180 [00:00<?, ?it/s]"
      ]
     },
     "metadata": {},
     "output_type": "display_data"
    },
    {
     "name": "stdout",
     "output_type": "stream",
     "text": [
      "val_losses 0.54189700546364\n",
      "EarlyStopping counter: 30 out of 50\n"
     ]
    },
    {
     "data": {
      "application/vnd.jupyter.widget-view+json": {
       "model_id": "c4cf92bda5784304baf8c5899d6e095b",
       "version_major": 2,
       "version_minor": 0
      },
      "text/plain": [
       "Training:   0%|          | 0/330 [00:00<?, ?it/s]"
      ]
     },
     "metadata": {},
     "output_type": "display_data"
    },
    {
     "data": {
      "application/vnd.jupyter.widget-view+json": {
       "model_id": "ec33b800005646cd8529ec1b1a5359c0",
       "version_major": 2,
       "version_minor": 0
      },
      "text/plain": [
       "Validation:   0%|          | 0/180 [00:00<?, ?it/s]"
      ]
     },
     "metadata": {},
     "output_type": "display_data"
    },
    {
     "name": "stdout",
     "output_type": "stream",
     "text": [
      "val_losses 0.568399862655335\n",
      "EarlyStopping counter: 31 out of 50\n"
     ]
    },
    {
     "data": {
      "application/vnd.jupyter.widget-view+json": {
       "model_id": "65b1f49c8180495d818b649294b15176",
       "version_major": 2,
       "version_minor": 0
      },
      "text/plain": [
       "Training:   0%|          | 0/330 [00:00<?, ?it/s]"
      ]
     },
     "metadata": {},
     "output_type": "display_data"
    },
    {
     "data": {
      "application/vnd.jupyter.widget-view+json": {
       "model_id": "8c49c98fcc024504be58f86b9a295295",
       "version_major": 2,
       "version_minor": 0
      },
      "text/plain": [
       "Validation:   0%|          | 0/180 [00:00<?, ?it/s]"
      ]
     },
     "metadata": {},
     "output_type": "display_data"
    },
    {
     "name": "stdout",
     "output_type": "stream",
     "text": [
      "val_losses 0.5741803783509466\n",
      "EarlyStopping counter: 32 out of 50\n"
     ]
    },
    {
     "data": {
      "application/vnd.jupyter.widget-view+json": {
       "model_id": "38468eab06cf410bb49fcce26f4e1ed9",
       "version_major": 2,
       "version_minor": 0
      },
      "text/plain": [
       "Training:   0%|          | 0/330 [00:00<?, ?it/s]"
      ]
     },
     "metadata": {},
     "output_type": "display_data"
    },
    {
     "data": {
      "application/vnd.jupyter.widget-view+json": {
       "model_id": "b371a464aefd4fbd819e84f3439264c7",
       "version_major": 2,
       "version_minor": 0
      },
      "text/plain": [
       "Validation:   0%|          | 0/180 [00:00<?, ?it/s]"
      ]
     },
     "metadata": {},
     "output_type": "display_data"
    },
    {
     "name": "stdout",
     "output_type": "stream",
     "text": [
      "val_losses 0.5778389420774248\n",
      "EarlyStopping counter: 33 out of 50\n"
     ]
    },
    {
     "data": {
      "application/vnd.jupyter.widget-view+json": {
       "model_id": "ecebfad645b0450ca7fe5b1534bd7e3a",
       "version_major": 2,
       "version_minor": 0
      },
      "text/plain": [
       "Training:   0%|          | 0/330 [00:00<?, ?it/s]"
      ]
     },
     "metadata": {},
     "output_type": "display_data"
    },
    {
     "data": {
      "application/vnd.jupyter.widget-view+json": {
       "model_id": "f3395771ba3e4fe4827617333a4f003a",
       "version_major": 2,
       "version_minor": 0
      },
      "text/plain": [
       "Validation:   0%|          | 0/180 [00:00<?, ?it/s]"
      ]
     },
     "metadata": {},
     "output_type": "display_data"
    },
    {
     "name": "stdout",
     "output_type": "stream",
     "text": [
      "val_losses 0.5996896156006389\n",
      "EarlyStopping counter: 34 out of 50\n"
     ]
    },
    {
     "data": {
      "application/vnd.jupyter.widget-view+json": {
       "model_id": "f19f6dce4ea64ed3aeae8e2f3a51ab74",
       "version_major": 2,
       "version_minor": 0
      },
      "text/plain": [
       "Training:   0%|          | 0/330 [00:00<?, ?it/s]"
      ]
     },
     "metadata": {},
     "output_type": "display_data"
    },
    {
     "data": {
      "application/vnd.jupyter.widget-view+json": {
       "model_id": "4474b94298664b66892e4ef5076b7327",
       "version_major": 2,
       "version_minor": 0
      },
      "text/plain": [
       "Validation:   0%|          | 0/180 [00:00<?, ?it/s]"
      ]
     },
     "metadata": {},
     "output_type": "display_data"
    },
    {
     "name": "stdout",
     "output_type": "stream",
     "text": [
      "val_losses 0.6229536770118608\n",
      "EarlyStopping counter: 35 out of 50\n"
     ]
    },
    {
     "data": {
      "application/vnd.jupyter.widget-view+json": {
       "model_id": "7561abba0fde4c2da1b11c29fc78fb54",
       "version_major": 2,
       "version_minor": 0
      },
      "text/plain": [
       "Training:   0%|          | 0/330 [00:00<?, ?it/s]"
      ]
     },
     "metadata": {},
     "output_type": "display_data"
    },
    {
     "data": {
      "application/vnd.jupyter.widget-view+json": {
       "model_id": "a12ca75756ac4fc8b55ab5d86a635435",
       "version_major": 2,
       "version_minor": 0
      },
      "text/plain": [
       "Validation:   0%|          | 0/180 [00:00<?, ?it/s]"
      ]
     },
     "metadata": {},
     "output_type": "display_data"
    },
    {
     "name": "stdout",
     "output_type": "stream",
     "text": [
      "val_losses 0.6109015160964595\n",
      "EarlyStopping counter: 36 out of 50\n"
     ]
    },
    {
     "data": {
      "application/vnd.jupyter.widget-view+json": {
       "model_id": "aaecb081ec444fa4b14ecaaef4d58e69",
       "version_major": 2,
       "version_minor": 0
      },
      "text/plain": [
       "Training:   0%|          | 0/330 [00:00<?, ?it/s]"
      ]
     },
     "metadata": {},
     "output_type": "display_data"
    },
    {
     "data": {
      "application/vnd.jupyter.widget-view+json": {
       "model_id": "cae6bc5be2ee4091956eca273fb975b7",
       "version_major": 2,
       "version_minor": 0
      },
      "text/plain": [
       "Validation:   0%|          | 0/180 [00:00<?, ?it/s]"
      ]
     },
     "metadata": {},
     "output_type": "display_data"
    },
    {
     "name": "stdout",
     "output_type": "stream",
     "text": [
      "val_losses 0.5864314137233628\n",
      "EarlyStopping counter: 37 out of 50\n"
     ]
    },
    {
     "data": {
      "application/vnd.jupyter.widget-view+json": {
       "model_id": "b05eccafb1584bb9aa7ed9d7055debde",
       "version_major": 2,
       "version_minor": 0
      },
      "text/plain": [
       "Training:   0%|          | 0/330 [00:00<?, ?it/s]"
      ]
     },
     "metadata": {},
     "output_type": "display_data"
    },
    {
     "data": {
      "application/vnd.jupyter.widget-view+json": {
       "model_id": "7e515e93147c4011a59fbe00d0345fc5",
       "version_major": 2,
       "version_minor": 0
      },
      "text/plain": [
       "Validation:   0%|          | 0/180 [00:00<?, ?it/s]"
      ]
     },
     "metadata": {},
     "output_type": "display_data"
    },
    {
     "name": "stdout",
     "output_type": "stream",
     "text": [
      "val_losses 0.605643887983428\n",
      "EarlyStopping counter: 38 out of 50\n"
     ]
    },
    {
     "data": {
      "application/vnd.jupyter.widget-view+json": {
       "model_id": "b8d656739d8c4570aa0a2bc084b9db22",
       "version_major": 2,
       "version_minor": 0
      },
      "text/plain": [
       "Training:   0%|          | 0/330 [00:00<?, ?it/s]"
      ]
     },
     "metadata": {},
     "output_type": "display_data"
    },
    {
     "data": {
      "application/vnd.jupyter.widget-view+json": {
       "model_id": "b729d9f95ed743edb795ff022781f346",
       "version_major": 2,
       "version_minor": 0
      },
      "text/plain": [
       "Validation:   0%|          | 0/180 [00:00<?, ?it/s]"
      ]
     },
     "metadata": {},
     "output_type": "display_data"
    },
    {
     "name": "stdout",
     "output_type": "stream",
     "text": [
      "val_losses 0.32725406835476556\n",
      "EarlyStopping counter: 39 out of 50\n"
     ]
    },
    {
     "data": {
      "application/vnd.jupyter.widget-view+json": {
       "model_id": "2a1a23a7adc54466ba49a69aa378416d",
       "version_major": 2,
       "version_minor": 0
      },
      "text/plain": [
       "Training:   0%|          | 0/330 [00:00<?, ?it/s]"
      ]
     },
     "metadata": {},
     "output_type": "display_data"
    },
    {
     "data": {
      "application/vnd.jupyter.widget-view+json": {
       "model_id": "da81631ebf4e4dfb96e6cc0597280e50",
       "version_major": 2,
       "version_minor": 0
      },
      "text/plain": [
       "Validation:   0%|          | 0/180 [00:00<?, ?it/s]"
      ]
     },
     "metadata": {},
     "output_type": "display_data"
    },
    {
     "name": "stdout",
     "output_type": "stream",
     "text": [
      "val_losses 0.4159894149750471\n",
      "EarlyStopping counter: 40 out of 50\n"
     ]
    },
    {
     "data": {
      "application/vnd.jupyter.widget-view+json": {
       "model_id": "9fbc274815bf474cb21cf8ae981bf573",
       "version_major": 2,
       "version_minor": 0
      },
      "text/plain": [
       "Training:   0%|          | 0/330 [00:00<?, ?it/s]"
      ]
     },
     "metadata": {},
     "output_type": "display_data"
    },
    {
     "data": {
      "application/vnd.jupyter.widget-view+json": {
       "model_id": "7ea6ac340d31493ea88c9defb0cd994f",
       "version_major": 2,
       "version_minor": 0
      },
      "text/plain": [
       "Validation:   0%|          | 0/180 [00:00<?, ?it/s]"
      ]
     },
     "metadata": {},
     "output_type": "display_data"
    },
    {
     "name": "stdout",
     "output_type": "stream",
     "text": [
      "val_losses 0.4657255787402391\n",
      "EarlyStopping counter: 41 out of 50\n"
     ]
    },
    {
     "data": {
      "application/vnd.jupyter.widget-view+json": {
       "model_id": "f6128a78a5ee40ceb91e225524323ece",
       "version_major": 2,
       "version_minor": 0
      },
      "text/plain": [
       "Training:   0%|          | 0/330 [00:00<?, ?it/s]"
      ]
     },
     "metadata": {},
     "output_type": "display_data"
    },
    {
     "data": {
      "application/vnd.jupyter.widget-view+json": {
       "model_id": "9d9a46d19b814a2181ab21f5e2eb1c30",
       "version_major": 2,
       "version_minor": 0
      },
      "text/plain": [
       "Validation:   0%|          | 0/180 [00:00<?, ?it/s]"
      ]
     },
     "metadata": {},
     "output_type": "display_data"
    },
    {
     "name": "stdout",
     "output_type": "stream",
     "text": [
      "val_losses 0.4967068733854426\n",
      "EarlyStopping counter: 42 out of 50\n"
     ]
    },
    {
     "data": {
      "application/vnd.jupyter.widget-view+json": {
       "model_id": "0351261c4feb46299738f2c719716039",
       "version_major": 2,
       "version_minor": 0
      },
      "text/plain": [
       "Training:   0%|          | 0/330 [00:00<?, ?it/s]"
      ]
     },
     "metadata": {},
     "output_type": "display_data"
    },
    {
     "data": {
      "application/vnd.jupyter.widget-view+json": {
       "model_id": "8d506718b7f1444fb2e86a3297fcbd16",
       "version_major": 2,
       "version_minor": 0
      },
      "text/plain": [
       "Validation:   0%|          | 0/180 [00:00<?, ?it/s]"
      ]
     },
     "metadata": {},
     "output_type": "display_data"
    },
    {
     "name": "stdout",
     "output_type": "stream",
     "text": [
      "val_losses 0.5234024049093325\n",
      "EarlyStopping counter: 43 out of 50\n"
     ]
    },
    {
     "data": {
      "application/vnd.jupyter.widget-view+json": {
       "model_id": "102d8b8fd4c44cdb816f07485d9173ae",
       "version_major": 2,
       "version_minor": 0
      },
      "text/plain": [
       "Training:   0%|          | 0/330 [00:00<?, ?it/s]"
      ]
     },
     "metadata": {},
     "output_type": "display_data"
    },
    {
     "data": {
      "application/vnd.jupyter.widget-view+json": {
       "model_id": "36fa898bd115490cba46f688717c9ce0",
       "version_major": 2,
       "version_minor": 0
      },
      "text/plain": [
       "Validation:   0%|          | 0/180 [00:00<?, ?it/s]"
      ]
     },
     "metadata": {},
     "output_type": "display_data"
    },
    {
     "name": "stdout",
     "output_type": "stream",
     "text": [
      "val_losses 0.5504701135059198\n",
      "EarlyStopping counter: 44 out of 50\n"
     ]
    },
    {
     "data": {
      "application/vnd.jupyter.widget-view+json": {
       "model_id": "a0386ebc5505467dab7f7166bc5a5618",
       "version_major": 2,
       "version_minor": 0
      },
      "text/plain": [
       "Training:   0%|          | 0/330 [00:00<?, ?it/s]"
      ]
     },
     "metadata": {},
     "output_type": "display_data"
    },
    {
     "data": {
      "application/vnd.jupyter.widget-view+json": {
       "model_id": "efb4b3c676e94ecf8207154b820c60d7",
       "version_major": 2,
       "version_minor": 0
      },
      "text/plain": [
       "Validation:   0%|          | 0/180 [00:00<?, ?it/s]"
      ]
     },
     "metadata": {},
     "output_type": "display_data"
    },
    {
     "name": "stdout",
     "output_type": "stream",
     "text": [
      "val_losses 0.5556414189024104\n",
      "EarlyStopping counter: 45 out of 50\n"
     ]
    },
    {
     "data": {
      "application/vnd.jupyter.widget-view+json": {
       "model_id": "9a94714bb8794262adc5a5f98d7f0487",
       "version_major": 2,
       "version_minor": 0
      },
      "text/plain": [
       "Training:   0%|          | 0/330 [00:00<?, ?it/s]"
      ]
     },
     "metadata": {},
     "output_type": "display_data"
    },
    {
     "data": {
      "application/vnd.jupyter.widget-view+json": {
       "model_id": "5e7d2b6bfcd34d03b6b55ced9923902f",
       "version_major": 2,
       "version_minor": 0
      },
      "text/plain": [
       "Validation:   0%|          | 0/180 [00:00<?, ?it/s]"
      ]
     },
     "metadata": {},
     "output_type": "display_data"
    },
    {
     "name": "stdout",
     "output_type": "stream",
     "text": [
      "val_losses 0.5634745493531227\n",
      "EarlyStopping counter: 46 out of 50\n"
     ]
    },
    {
     "data": {
      "application/vnd.jupyter.widget-view+json": {
       "model_id": "38b2bb7773ca428f9f270daa612039d2",
       "version_major": 2,
       "version_minor": 0
      },
      "text/plain": [
       "Training:   0%|          | 0/330 [00:00<?, ?it/s]"
      ]
     },
     "metadata": {},
     "output_type": "display_data"
    },
    {
     "data": {
      "application/vnd.jupyter.widget-view+json": {
       "model_id": "6a967bc408f643eab9120b41171d9e2f",
       "version_major": 2,
       "version_minor": 0
      },
      "text/plain": [
       "Validation:   0%|          | 0/180 [00:00<?, ?it/s]"
      ]
     },
     "metadata": {},
     "output_type": "display_data"
    },
    {
     "name": "stdout",
     "output_type": "stream",
     "text": [
      "val_losses 0.5662983107070129\n",
      "EarlyStopping counter: 47 out of 50\n"
     ]
    },
    {
     "data": {
      "application/vnd.jupyter.widget-view+json": {
       "model_id": "a425ff68dc7b476eae3cbe760f0cc5e3",
       "version_major": 2,
       "version_minor": 0
      },
      "text/plain": [
       "Training:   0%|          | 0/330 [00:00<?, ?it/s]"
      ]
     },
     "metadata": {},
     "output_type": "display_data"
    },
    {
     "data": {
      "application/vnd.jupyter.widget-view+json": {
       "model_id": "33539387beda4854875ad5ad0b7a7d1e",
       "version_major": 2,
       "version_minor": 0
      },
      "text/plain": [
       "Validation:   0%|          | 0/180 [00:00<?, ?it/s]"
      ]
     },
     "metadata": {},
     "output_type": "display_data"
    },
    {
     "name": "stdout",
     "output_type": "stream",
     "text": [
      "val_losses 0.576007470405764\n",
      "EarlyStopping counter: 48 out of 50\n"
     ]
    },
    {
     "data": {
      "application/vnd.jupyter.widget-view+json": {
       "model_id": "9064c15288c143aebc1d04ecb3ed7d62",
       "version_major": 2,
       "version_minor": 0
      },
      "text/plain": [
       "Training:   0%|          | 0/330 [00:00<?, ?it/s]"
      ]
     },
     "metadata": {},
     "output_type": "display_data"
    },
    {
     "data": {
      "application/vnd.jupyter.widget-view+json": {
       "model_id": "721ddfbf17db4160822535bbe717b2df",
       "version_major": 2,
       "version_minor": 0
      },
      "text/plain": [
       "Validation:   0%|          | 0/180 [00:00<?, ?it/s]"
      ]
     },
     "metadata": {},
     "output_type": "display_data"
    },
    {
     "name": "stdout",
     "output_type": "stream",
     "text": [
      "val_losses 0.574898121961289\n",
      "EarlyStopping counter: 49 out of 50\n"
     ]
    },
    {
     "data": {
      "application/vnd.jupyter.widget-view+json": {
       "model_id": "21d9440a9ee640dfb35b33c1727ec82a",
       "version_major": 2,
       "version_minor": 0
      },
      "text/plain": [
       "Training:   0%|          | 0/330 [00:00<?, ?it/s]"
      ]
     },
     "metadata": {},
     "output_type": "display_data"
    },
    {
     "data": {
      "application/vnd.jupyter.widget-view+json": {
       "model_id": "b925e0c6a9264d2fa5699f046d4dc232",
       "version_major": 2,
       "version_minor": 0
      },
      "text/plain": [
       "Validation:   0%|          | 0/180 [00:00<?, ?it/s]"
      ]
     },
     "metadata": {},
     "output_type": "display_data"
    },
    {
     "name": "stdout",
     "output_type": "stream",
     "text": [
      "val_losses 0.5613031541721688\n",
      "EarlyStopping counter: 50 out of 50\n",
      "early stopping epoch: 93\n",
      "***************************\n",
      "modelname:model_fold_3.ptを保存しました\n",
      "*************************************Test*************************************\n",
      "in constructor inchannel: 45\n",
      "Input channel count3\n",
      "model_dir =  model/20250131-CyclicLRv4\n",
      "Creating image arrays...\n",
      "Number of label images: 11\n",
      "Completed creating image arrays:\n",
      "Dataset shape  (11, 256, 256, 45)\n",
      "Label image shape  (11, 256, 256)\n",
      "\n",
      "index =  0\n",
      "予測画像: /home/eric/Documents/cervicalResearchIIP/result_test/20250131-CyclicLRv4/fold3/N1-5.png\n",
      "テストラベル: /home/eric/Documents/cervicalResearchIIP/img_1006t/labeled/N1-5.png\n",
      "index =  1\n",
      "予測画像: /home/eric/Documents/cervicalResearchIIP/result_test/20250131-CyclicLRv4/fold3/N1-10.png\n",
      "テストラベル: /home/eric/Documents/cervicalResearchIIP/img_1006t/labeled/N1-10.png\n",
      "index =  2\n",
      "予測画像: /home/eric/Documents/cervicalResearchIIP/result_test/20250131-CyclicLRv4/fold3/N2-4.png\n",
      "テストラベル: /home/eric/Documents/cervicalResearchIIP/img_1006t/labeled/N2-4.png\n",
      "index =  3\n",
      "予測画像: /home/eric/Documents/cervicalResearchIIP/result_test/20250131-CyclicLRv4/fold3/N2-6.png\n",
      "テストラベル: /home/eric/Documents/cervicalResearchIIP/img_1006t/labeled/N2-6.png\n",
      "index =  4\n",
      "予測画像: /home/eric/Documents/cervicalResearchIIP/result_test/20250131-CyclicLRv4/fold3/N2-9.png\n",
      "テストラベル: /home/eric/Documents/cervicalResearchIIP/img_1006t/labeled/N2-9.png\n",
      "index =  5\n",
      "予測画像: /home/eric/Documents/cervicalResearchIIP/result_test/20250131-CyclicLRv4/fold3/N3-4.png\n",
      "テストラベル: /home/eric/Documents/cervicalResearchIIP/img_1006t/labeled/N3-4.png\n",
      "index =  6\n",
      "予測画像: /home/eric/Documents/cervicalResearchIIP/result_test/20250131-CyclicLRv4/fold3/N3-8.png\n",
      "テストラベル: /home/eric/Documents/cervicalResearchIIP/img_1006t/labeled/N3-8.png\n",
      "index =  7\n",
      "予測画像: /home/eric/Documents/cervicalResearchIIP/result_test/20250131-CyclicLRv4/fold3/N4-3.png\n",
      "テストラベル: /home/eric/Documents/cervicalResearchIIP/img_1006t/labeled/N4-3.png\n",
      "index =  8\n",
      "予測画像: /home/eric/Documents/cervicalResearchIIP/result_test/20250131-CyclicLRv4/fold3/N4-8.png\n",
      "テストラベル: /home/eric/Documents/cervicalResearchIIP/img_1006t/labeled/N4-8.png\n",
      "index =  9\n",
      "予測画像: /home/eric/Documents/cervicalResearchIIP/result_test/20250131-CyclicLRv4/fold3/N4-9.png\n",
      "テストラベル: /home/eric/Documents/cervicalResearchIIP/img_1006t/labeled/N4-9.png\n",
      "index =  10\n",
      "予測画像: /home/eric/Documents/cervicalResearchIIP/result_test/20250131-CyclicLRv4/fold3/N5-5.png\n",
      "テストラベル: /home/eric/Documents/cervicalResearchIIP/img_1006t/labeled/N5-5.png\n",
      "Count1 =  [644502, 12056, 8566, 8363, 5894, 7003, 5552, 7977, 5543, 10351, 5089]\n",
      "Count2 =  [645554, 11408, 7742, 8203, 5795, 7796, 5880, 7927, 5507, 9512, 5572]\n",
      "Count3 =  [637994, 10658, 7398, 7388, 5410, 6517, 5257, 6546, 4926, 7637, 4499]\n",
      "Dice =  [0.9890950470367178, 0.9084555063075349, 0.9072847682119205, 0.891947362066884, 0.9256566002224313, 0.8807351848097844, 0.9196990902729181, 0.8231891348088531, 0.8915837104072398, 0.7689674268740875, 0.8440108807804146, 0.8761529664762069]\n",
      "Cross validation: True\n",
      "Fold: 4 out of 4\n",
      "Augmentation: True\n",
      "Augmentation amount: 30\n",
      "Training: Total of 22 cases.\n",
      "['N4-7' 'N3-9' 'N2-1' 'N3-3' 'N5-6' 'N2-6' 'N4-1' 'N1-10' 'N1-2' 'N1-3'\n",
      " 'N3-7' 'N2-5' 'N5-5' 'N2-2' 'N4-9' 'N1-9' 'N1-8' 'N3-6' 'N5-3' 'N4-8'\n",
      " 'N4-4' 'N3-2']\n",
      "Validation: Total of 12 cases.\n",
      "['N3-10' 'N2-4' 'N4-3' 'N3-4' 'N1-4' 'N1-5' 'N5-1' 'N4-6' 'N3-8' 'N2-9'\n",
      " 'N1-6' 'N2-10']\n",
      "Test: Total of 11 cases.\n",
      "['N1-1' 'N1-7' 'N2-3' 'N2-7' 'N2-8' 'N3-1' 'N3-5' 'N4-2' 'N4-5' 'N5-2'\n",
      " 'N5-4']\n",
      "\n",
      "Creating image arrays...\n",
      "Number of label images: 660\n",
      "Completed creating image arrays:\n",
      "Dataset shape  (660, 256, 256, 45)\n",
      "Label image shape  (660, 256, 256)\n",
      "\n",
      "Creating image arrays...\n",
      "Number of label images: 360\n",
      "Completed creating image arrays:\n",
      "Dataset shape  (360, 256, 256, 45)\n",
      "Label image shape  (360, 256, 256)\n",
      "\n",
      "*************************Training*************************\n",
      "x.shape =  torch.Size([2, 45, 256, 256])\n",
      "x.min(), x.max() =  tensor(0.) tensor(1.)\n",
      "y.shape =  torch.Size([2, 256, 256])\n",
      "torch.unique(y) =  tensor([ 0,  1,  2,  3,  4,  5,  6,  7,  8,  9, 10])\n",
      "in constructor inchannel: 45\n",
      "Input channel count3\n",
      "=======start training======\n"
     ]
    },
    {
     "data": {
      "application/vnd.jupyter.widget-view+json": {
       "model_id": "11a508b6f6374da5a446e1c9e86760eb",
       "version_major": 2,
       "version_minor": 0
      },
      "text/plain": [
       "Progress:   0%|          | 0/146 [00:00<?, ?it/s]"
      ]
     },
     "metadata": {},
     "output_type": "display_data"
    },
    {
     "data": {
      "application/vnd.jupyter.widget-view+json": {
       "model_id": "8d519373aa514815a1d225ad2e6edd54",
       "version_major": 2,
       "version_minor": 0
      },
      "text/plain": [
       "Training:   0%|          | 0/330 [00:00<?, ?it/s]"
      ]
     },
     "metadata": {},
     "output_type": "display_data"
    },
    {
     "data": {
      "application/vnd.jupyter.widget-view+json": {
       "model_id": "07c7244f7b7b4ec98f5fb65f26ebd3f7",
       "version_major": 2,
       "version_minor": 0
      },
      "text/plain": [
       "Validation:   0%|          | 0/180 [00:00<?, ?it/s]"
      ]
     },
     "metadata": {},
     "output_type": "display_data"
    },
    {
     "name": "stdout",
     "output_type": "stream",
     "text": [
      "val_losses 1.2989929556846618\n",
      "Validation loss decreased (inf --> 1.298993).  Saving model ...\n"
     ]
    },
    {
     "data": {
      "application/vnd.jupyter.widget-view+json": {
       "model_id": "26e08e88276f4ac4966329e73383e2a3",
       "version_major": 2,
       "version_minor": 0
      },
      "text/plain": [
       "Training:   0%|          | 0/330 [00:00<?, ?it/s]"
      ]
     },
     "metadata": {},
     "output_type": "display_data"
    },
    {
     "data": {
      "application/vnd.jupyter.widget-view+json": {
       "model_id": "8124970ae3104a02a1b537531a4f843d",
       "version_major": 2,
       "version_minor": 0
      },
      "text/plain": [
       "Validation:   0%|          | 0/180 [00:00<?, ?it/s]"
      ]
     },
     "metadata": {},
     "output_type": "display_data"
    },
    {
     "name": "stdout",
     "output_type": "stream",
     "text": [
      "val_losses 0.894052172700564\n",
      "Validation loss decreased (1.298993 --> 0.894052).  Saving model ...\n"
     ]
    },
    {
     "data": {
      "application/vnd.jupyter.widget-view+json": {
       "model_id": "abf8bd5f9de24a028bead03b154e297d",
       "version_major": 2,
       "version_minor": 0
      },
      "text/plain": [
       "Training:   0%|          | 0/330 [00:00<?, ?it/s]"
      ]
     },
     "metadata": {},
     "output_type": "display_data"
    },
    {
     "data": {
      "application/vnd.jupyter.widget-view+json": {
       "model_id": "eb6c441eec6647fab7775931a802f8ce",
       "version_major": 2,
       "version_minor": 0
      },
      "text/plain": [
       "Validation:   0%|          | 0/180 [00:00<?, ?it/s]"
      ]
     },
     "metadata": {},
     "output_type": "display_data"
    },
    {
     "name": "stdout",
     "output_type": "stream",
     "text": [
      "val_losses 0.6415892551342647\n",
      "Validation loss decreased (0.894052 --> 0.641589).  Saving model ...\n"
     ]
    },
    {
     "data": {
      "application/vnd.jupyter.widget-view+json": {
       "model_id": "1f9edd89ef434fe3bc245d08aab8a47f",
       "version_major": 2,
       "version_minor": 0
      },
      "text/plain": [
       "Training:   0%|          | 0/330 [00:00<?, ?it/s]"
      ]
     },
     "metadata": {},
     "output_type": "display_data"
    },
    {
     "data": {
      "application/vnd.jupyter.widget-view+json": {
       "model_id": "ebdca0aa6c26487bb73c64d16e3052a9",
       "version_major": 2,
       "version_minor": 0
      },
      "text/plain": [
       "Validation:   0%|          | 0/180 [00:00<?, ?it/s]"
      ]
     },
     "metadata": {},
     "output_type": "display_data"
    },
    {
     "name": "stdout",
     "output_type": "stream",
     "text": [
      "val_losses 0.5415690746572283\n",
      "Validation loss decreased (0.641589 --> 0.541569).  Saving model ...\n"
     ]
    },
    {
     "data": {
      "application/vnd.jupyter.widget-view+json": {
       "model_id": "1fbe596b7cf941658202277561f55a37",
       "version_major": 2,
       "version_minor": 0
      },
      "text/plain": [
       "Training:   0%|          | 0/330 [00:00<?, ?it/s]"
      ]
     },
     "metadata": {},
     "output_type": "display_data"
    },
    {
     "data": {
      "application/vnd.jupyter.widget-view+json": {
       "model_id": "24c90a6f4f64491dbcbed3003390efdf",
       "version_major": 2,
       "version_minor": 0
      },
      "text/plain": [
       "Validation:   0%|          | 0/180 [00:00<?, ?it/s]"
      ]
     },
     "metadata": {},
     "output_type": "display_data"
    },
    {
     "name": "stdout",
     "output_type": "stream",
     "text": [
      "val_losses 0.4917136288351483\n",
      "Validation loss decreased (0.541569 --> 0.491714).  Saving model ...\n"
     ]
    },
    {
     "data": {
      "application/vnd.jupyter.widget-view+json": {
       "model_id": "c632d28812344284a49948fc1b572501",
       "version_major": 2,
       "version_minor": 0
      },
      "text/plain": [
       "Training:   0%|          | 0/330 [00:00<?, ?it/s]"
      ]
     },
     "metadata": {},
     "output_type": "display_data"
    },
    {
     "data": {
      "application/vnd.jupyter.widget-view+json": {
       "model_id": "f1214fd9427d4cfbb39ae6480f00a673",
       "version_major": 2,
       "version_minor": 0
      },
      "text/plain": [
       "Validation:   0%|          | 0/180 [00:00<?, ?it/s]"
      ]
     },
     "metadata": {},
     "output_type": "display_data"
    },
    {
     "name": "stdout",
     "output_type": "stream",
     "text": [
      "val_losses 0.4304879269666142\n",
      "Validation loss decreased (0.491714 --> 0.430488).  Saving model ...\n"
     ]
    },
    {
     "data": {
      "application/vnd.jupyter.widget-view+json": {
       "model_id": "3910fb2999b048eb84f2b4bfa99b253d",
       "version_major": 2,
       "version_minor": 0
      },
      "text/plain": [
       "Training:   0%|          | 0/330 [00:00<?, ?it/s]"
      ]
     },
     "metadata": {},
     "output_type": "display_data"
    },
    {
     "data": {
      "application/vnd.jupyter.widget-view+json": {
       "model_id": "bcac5854e4354aa8b5f092e3b570d9ac",
       "version_major": 2,
       "version_minor": 0
      },
      "text/plain": [
       "Validation:   0%|          | 0/180 [00:00<?, ?it/s]"
      ]
     },
     "metadata": {},
     "output_type": "display_data"
    },
    {
     "name": "stdout",
     "output_type": "stream",
     "text": [
      "val_losses 0.418059568769402\n",
      "Validation loss decreased (0.430488 --> 0.418060).  Saving model ...\n"
     ]
    },
    {
     "data": {
      "application/vnd.jupyter.widget-view+json": {
       "model_id": "01eca0c74a4d4d889b7654d0d315f2c1",
       "version_major": 2,
       "version_minor": 0
      },
      "text/plain": [
       "Training:   0%|          | 0/330 [00:00<?, ?it/s]"
      ]
     },
     "metadata": {},
     "output_type": "display_data"
    },
    {
     "data": {
      "application/vnd.jupyter.widget-view+json": {
       "model_id": "5ea06d8aa7ab48b38a6f7741551aef22",
       "version_major": 2,
       "version_minor": 0
      },
      "text/plain": [
       "Validation:   0%|          | 0/180 [00:00<?, ?it/s]"
      ]
     },
     "metadata": {},
     "output_type": "display_data"
    },
    {
     "name": "stdout",
     "output_type": "stream",
     "text": [
      "val_losses 0.4060269187721941\n",
      "Validation loss decreased (0.418060 --> 0.406027).  Saving model ...\n"
     ]
    },
    {
     "data": {
      "application/vnd.jupyter.widget-view+json": {
       "model_id": "d73ae33ec9e84050a7aa12784f7e3ace",
       "version_major": 2,
       "version_minor": 0
      },
      "text/plain": [
       "Training:   0%|          | 0/330 [00:00<?, ?it/s]"
      ]
     },
     "metadata": {},
     "output_type": "display_data"
    },
    {
     "data": {
      "application/vnd.jupyter.widget-view+json": {
       "model_id": "7a74121461b34218ade7e7ab7587b92b",
       "version_major": 2,
       "version_minor": 0
      },
      "text/plain": [
       "Validation:   0%|          | 0/180 [00:00<?, ?it/s]"
      ]
     },
     "metadata": {},
     "output_type": "display_data"
    },
    {
     "name": "stdout",
     "output_type": "stream",
     "text": [
      "val_losses 0.42640692906247246\n",
      "EarlyStopping counter: 1 out of 50\n"
     ]
    },
    {
     "data": {
      "application/vnd.jupyter.widget-view+json": {
       "model_id": "1b96ae5ec6a8491e923444052a18cdc6",
       "version_major": 2,
       "version_minor": 0
      },
      "text/plain": [
       "Training:   0%|          | 0/330 [00:00<?, ?it/s]"
      ]
     },
     "metadata": {},
     "output_type": "display_data"
    },
    {
     "data": {
      "application/vnd.jupyter.widget-view+json": {
       "model_id": "8e2d37d532274110a5e0b1ddb38e9665",
       "version_major": 2,
       "version_minor": 0
      },
      "text/plain": [
       "Validation:   0%|          | 0/180 [00:00<?, ?it/s]"
      ]
     },
     "metadata": {},
     "output_type": "display_data"
    },
    {
     "name": "stdout",
     "output_type": "stream",
     "text": [
      "val_losses 0.38921602045496306\n",
      "Validation loss decreased (0.406027 --> 0.389216).  Saving model ...\n"
     ]
    },
    {
     "data": {
      "application/vnd.jupyter.widget-view+json": {
       "model_id": "31888694cd014f60a6c3b245ca37fc75",
       "version_major": 2,
       "version_minor": 0
      },
      "text/plain": [
       "Training:   0%|          | 0/330 [00:00<?, ?it/s]"
      ]
     },
     "metadata": {},
     "output_type": "display_data"
    },
    {
     "data": {
      "application/vnd.jupyter.widget-view+json": {
       "model_id": "87f84066b94643b693efac7d427c0df0",
       "version_major": 2,
       "version_minor": 0
      },
      "text/plain": [
       "Validation:   0%|          | 0/180 [00:00<?, ?it/s]"
      ]
     },
     "metadata": {},
     "output_type": "display_data"
    },
    {
     "name": "stdout",
     "output_type": "stream",
     "text": [
      "val_losses 0.4129973489377234\n",
      "EarlyStopping counter: 1 out of 50\n"
     ]
    },
    {
     "data": {
      "application/vnd.jupyter.widget-view+json": {
       "model_id": "29fed5785602414aa5d69bca02b6c4bb",
       "version_major": 2,
       "version_minor": 0
      },
      "text/plain": [
       "Training:   0%|          | 0/330 [00:00<?, ?it/s]"
      ]
     },
     "metadata": {},
     "output_type": "display_data"
    },
    {
     "data": {
      "application/vnd.jupyter.widget-view+json": {
       "model_id": "5314edfd7d6240ee968aefd39c7f327d",
       "version_major": 2,
       "version_minor": 0
      },
      "text/plain": [
       "Validation:   0%|          | 0/180 [00:00<?, ?it/s]"
      ]
     },
     "metadata": {},
     "output_type": "display_data"
    },
    {
     "name": "stdout",
     "output_type": "stream",
     "text": [
      "val_losses 0.38761324311296147\n",
      "Validation loss decreased (0.389216 --> 0.387613).  Saving model ...\n"
     ]
    },
    {
     "data": {
      "application/vnd.jupyter.widget-view+json": {
       "model_id": "1aab272322bc49758e3d4aee78f8146e",
       "version_major": 2,
       "version_minor": 0
      },
      "text/plain": [
       "Training:   0%|          | 0/330 [00:00<?, ?it/s]"
      ]
     },
     "metadata": {},
     "output_type": "display_data"
    },
    {
     "data": {
      "application/vnd.jupyter.widget-view+json": {
       "model_id": "42e45bce4bd34916821c3a8bf0cefb87",
       "version_major": 2,
       "version_minor": 0
      },
      "text/plain": [
       "Validation:   0%|          | 0/180 [00:00<?, ?it/s]"
      ]
     },
     "metadata": {},
     "output_type": "display_data"
    },
    {
     "name": "stdout",
     "output_type": "stream",
     "text": [
      "val_losses 0.38647564782036675\n",
      "Validation loss decreased (0.387613 --> 0.386476).  Saving model ...\n"
     ]
    },
    {
     "data": {
      "application/vnd.jupyter.widget-view+json": {
       "model_id": "3efb0df841ff45ae8df00866c681cf10",
       "version_major": 2,
       "version_minor": 0
      },
      "text/plain": [
       "Training:   0%|          | 0/330 [00:00<?, ?it/s]"
      ]
     },
     "metadata": {},
     "output_type": "display_data"
    },
    {
     "data": {
      "application/vnd.jupyter.widget-view+json": {
       "model_id": "548d0201c5a244c485a0c272b0d58a31",
       "version_major": 2,
       "version_minor": 0
      },
      "text/plain": [
       "Validation:   0%|          | 0/180 [00:00<?, ?it/s]"
      ]
     },
     "metadata": {},
     "output_type": "display_data"
    },
    {
     "name": "stdout",
     "output_type": "stream",
     "text": [
      "val_losses 0.41308664662970435\n",
      "EarlyStopping counter: 1 out of 50\n"
     ]
    },
    {
     "data": {
      "application/vnd.jupyter.widget-view+json": {
       "model_id": "f405956e213f47e3b1cca501504f846a",
       "version_major": 2,
       "version_minor": 0
      },
      "text/plain": [
       "Training:   0%|          | 0/330 [00:00<?, ?it/s]"
      ]
     },
     "metadata": {},
     "output_type": "display_data"
    },
    {
     "data": {
      "application/vnd.jupyter.widget-view+json": {
       "model_id": "d8850f72f8854d37aefa0b697e8c8681",
       "version_major": 2,
       "version_minor": 0
      },
      "text/plain": [
       "Validation:   0%|          | 0/180 [00:00<?, ?it/s]"
      ]
     },
     "metadata": {},
     "output_type": "display_data"
    },
    {
     "name": "stdout",
     "output_type": "stream",
     "text": [
      "val_losses 0.4040237122939693\n",
      "EarlyStopping counter: 2 out of 50\n"
     ]
    },
    {
     "data": {
      "application/vnd.jupyter.widget-view+json": {
       "model_id": "0a2598cf096443028d2abc446c7e2940",
       "version_major": 2,
       "version_minor": 0
      },
      "text/plain": [
       "Training:   0%|          | 0/330 [00:00<?, ?it/s]"
      ]
     },
     "metadata": {},
     "output_type": "display_data"
    },
    {
     "data": {
      "application/vnd.jupyter.widget-view+json": {
       "model_id": "a0a83046466f46919a56d33dd4c7a309",
       "version_major": 2,
       "version_minor": 0
      },
      "text/plain": [
       "Validation:   0%|          | 0/180 [00:00<?, ?it/s]"
      ]
     },
     "metadata": {},
     "output_type": "display_data"
    },
    {
     "name": "stdout",
     "output_type": "stream",
     "text": [
      "val_losses 0.3902454811665747\n",
      "EarlyStopping counter: 3 out of 50\n"
     ]
    },
    {
     "data": {
      "application/vnd.jupyter.widget-view+json": {
       "model_id": "2bce118f84234e93a64977eaf791d753",
       "version_major": 2,
       "version_minor": 0
      },
      "text/plain": [
       "Training:   0%|          | 0/330 [00:00<?, ?it/s]"
      ]
     },
     "metadata": {},
     "output_type": "display_data"
    },
    {
     "data": {
      "application/vnd.jupyter.widget-view+json": {
       "model_id": "0d1d8d21617344539e9f09d16b87dc86",
       "version_major": 2,
       "version_minor": 0
      },
      "text/plain": [
       "Validation:   0%|          | 0/180 [00:00<?, ?it/s]"
      ]
     },
     "metadata": {},
     "output_type": "display_data"
    },
    {
     "name": "stdout",
     "output_type": "stream",
     "text": [
      "val_losses 0.3783721611731582\n",
      "Validation loss decreased (0.386476 --> 0.378372).  Saving model ...\n"
     ]
    },
    {
     "data": {
      "application/vnd.jupyter.widget-view+json": {
       "model_id": "0e68b15480834fc49084aa22d8c783e7",
       "version_major": 2,
       "version_minor": 0
      },
      "text/plain": [
       "Training:   0%|          | 0/330 [00:00<?, ?it/s]"
      ]
     },
     "metadata": {},
     "output_type": "display_data"
    },
    {
     "data": {
      "application/vnd.jupyter.widget-view+json": {
       "model_id": "464f4663964342339e4da7f8b9275147",
       "version_major": 2,
       "version_minor": 0
      },
      "text/plain": [
       "Validation:   0%|          | 0/180 [00:00<?, ?it/s]"
      ]
     },
     "metadata": {},
     "output_type": "display_data"
    },
    {
     "name": "stdout",
     "output_type": "stream",
     "text": [
      "val_losses 0.4071739974949095\n",
      "EarlyStopping counter: 1 out of 50\n"
     ]
    },
    {
     "data": {
      "application/vnd.jupyter.widget-view+json": {
       "model_id": "59039172fee341a8ac90b04092deb5b3",
       "version_major": 2,
       "version_minor": 0
      },
      "text/plain": [
       "Training:   0%|          | 0/330 [00:00<?, ?it/s]"
      ]
     },
     "metadata": {},
     "output_type": "display_data"
    },
    {
     "data": {
      "application/vnd.jupyter.widget-view+json": {
       "model_id": "e2693e7bca4a4ea191aed961cd706e49",
       "version_major": 2,
       "version_minor": 0
      },
      "text/plain": [
       "Validation:   0%|          | 0/180 [00:00<?, ?it/s]"
      ]
     },
     "metadata": {},
     "output_type": "display_data"
    },
    {
     "name": "stdout",
     "output_type": "stream",
     "text": [
      "val_losses 0.4136502203842004\n",
      "EarlyStopping counter: 2 out of 50\n"
     ]
    },
    {
     "data": {
      "application/vnd.jupyter.widget-view+json": {
       "model_id": "2428c108b4544f8794c705b32f5e3734",
       "version_major": 2,
       "version_minor": 0
      },
      "text/plain": [
       "Training:   0%|          | 0/330 [00:00<?, ?it/s]"
      ]
     },
     "metadata": {},
     "output_type": "display_data"
    },
    {
     "data": {
      "application/vnd.jupyter.widget-view+json": {
       "model_id": "1c8dfc861e9548b3acb940d1e958ba5a",
       "version_major": 2,
       "version_minor": 0
      },
      "text/plain": [
       "Validation:   0%|          | 0/180 [00:00<?, ?it/s]"
      ]
     },
     "metadata": {},
     "output_type": "display_data"
    },
    {
     "name": "stdout",
     "output_type": "stream",
     "text": [
      "val_losses 0.38850808665156367\n",
      "EarlyStopping counter: 3 out of 50\n"
     ]
    },
    {
     "data": {
      "application/vnd.jupyter.widget-view+json": {
       "model_id": "4ea66614979c432cab621c913917cda5",
       "version_major": 2,
       "version_minor": 0
      },
      "text/plain": [
       "Training:   0%|          | 0/330 [00:00<?, ?it/s]"
      ]
     },
     "metadata": {},
     "output_type": "display_data"
    },
    {
     "data": {
      "application/vnd.jupyter.widget-view+json": {
       "model_id": "b5260a962b414535b600c12eedcaf78d",
       "version_major": 2,
       "version_minor": 0
      },
      "text/plain": [
       "Validation:   0%|          | 0/180 [00:00<?, ?it/s]"
      ]
     },
     "metadata": {},
     "output_type": "display_data"
    },
    {
     "name": "stdout",
     "output_type": "stream",
     "text": [
      "val_losses 0.3808640706870291\n",
      "EarlyStopping counter: 4 out of 50\n"
     ]
    },
    {
     "data": {
      "application/vnd.jupyter.widget-view+json": {
       "model_id": "5e505e8ffac14a0796657eaf4010bd1b",
       "version_major": 2,
       "version_minor": 0
      },
      "text/plain": [
       "Training:   0%|          | 0/330 [00:00<?, ?it/s]"
      ]
     },
     "metadata": {},
     "output_type": "display_data"
    },
    {
     "data": {
      "application/vnd.jupyter.widget-view+json": {
       "model_id": "31b0b99ef5454dc4a7212ae54459694c",
       "version_major": 2,
       "version_minor": 0
      },
      "text/plain": [
       "Validation:   0%|          | 0/180 [00:00<?, ?it/s]"
      ]
     },
     "metadata": {},
     "output_type": "display_data"
    },
    {
     "name": "stdout",
     "output_type": "stream",
     "text": [
      "val_losses 0.2131740138762527\n",
      "Validation loss decreased (0.378372 --> 0.213174).  Saving model ...\n"
     ]
    },
    {
     "data": {
      "application/vnd.jupyter.widget-view+json": {
       "model_id": "66cfa1acda9e44fcaa8c670b93c2c5f3",
       "version_major": 2,
       "version_minor": 0
      },
      "text/plain": [
       "Training:   0%|          | 0/330 [00:00<?, ?it/s]"
      ]
     },
     "metadata": {},
     "output_type": "display_data"
    },
    {
     "data": {
      "application/vnd.jupyter.widget-view+json": {
       "model_id": "92df6e08e6544f0db6e001abb9f8ddf0",
       "version_major": 2,
       "version_minor": 0
      },
      "text/plain": [
       "Validation:   0%|          | 0/180 [00:00<?, ?it/s]"
      ]
     },
     "metadata": {},
     "output_type": "display_data"
    },
    {
     "name": "stdout",
     "output_type": "stream",
     "text": [
      "val_losses 0.2674429691500134\n",
      "EarlyStopping counter: 1 out of 50\n"
     ]
    },
    {
     "data": {
      "application/vnd.jupyter.widget-view+json": {
       "model_id": "1cc0cddeb3ed4ce5b8c369f3b76cffeb",
       "version_major": 2,
       "version_minor": 0
      },
      "text/plain": [
       "Training:   0%|          | 0/330 [00:00<?, ?it/s]"
      ]
     },
     "metadata": {},
     "output_type": "display_data"
    },
    {
     "data": {
      "application/vnd.jupyter.widget-view+json": {
       "model_id": "c9f9036099b24466a1ee364924260ac4",
       "version_major": 2,
       "version_minor": 0
      },
      "text/plain": [
       "Validation:   0%|          | 0/180 [00:00<?, ?it/s]"
      ]
     },
     "metadata": {},
     "output_type": "display_data"
    },
    {
     "name": "stdout",
     "output_type": "stream",
     "text": [
      "val_losses 0.3114182870421145\n",
      "EarlyStopping counter: 2 out of 50\n"
     ]
    },
    {
     "data": {
      "application/vnd.jupyter.widget-view+json": {
       "model_id": "b7542128931749abbb5f060fff35a271",
       "version_major": 2,
       "version_minor": 0
      },
      "text/plain": [
       "Training:   0%|          | 0/330 [00:00<?, ?it/s]"
      ]
     },
     "metadata": {},
     "output_type": "display_data"
    },
    {
     "data": {
      "application/vnd.jupyter.widget-view+json": {
       "model_id": "00321636e3394372b238820e9dbed792",
       "version_major": 2,
       "version_minor": 0
      },
      "text/plain": [
       "Validation:   0%|          | 0/180 [00:00<?, ?it/s]"
      ]
     },
     "metadata": {},
     "output_type": "display_data"
    },
    {
     "name": "stdout",
     "output_type": "stream",
     "text": [
      "val_losses 0.3403468470606539\n",
      "EarlyStopping counter: 3 out of 50\n"
     ]
    },
    {
     "data": {
      "application/vnd.jupyter.widget-view+json": {
       "model_id": "8490f50cd58a47b98e8048e14f826550",
       "version_major": 2,
       "version_minor": 0
      },
      "text/plain": [
       "Training:   0%|          | 0/330 [00:00<?, ?it/s]"
      ]
     },
     "metadata": {},
     "output_type": "display_data"
    },
    {
     "data": {
      "application/vnd.jupyter.widget-view+json": {
       "model_id": "3afdfe6c1bcd4762b03739f4b206eed7",
       "version_major": 2,
       "version_minor": 0
      },
      "text/plain": [
       "Validation:   0%|          | 0/180 [00:00<?, ?it/s]"
      ]
     },
     "metadata": {},
     "output_type": "display_data"
    },
    {
     "name": "stdout",
     "output_type": "stream",
     "text": [
      "val_losses 0.34911965686413976\n",
      "EarlyStopping counter: 4 out of 50\n"
     ]
    },
    {
     "data": {
      "application/vnd.jupyter.widget-view+json": {
       "model_id": "fb020963db29443b8c57c0d974c2b50b",
       "version_major": 2,
       "version_minor": 0
      },
      "text/plain": [
       "Training:   0%|          | 0/330 [00:00<?, ?it/s]"
      ]
     },
     "metadata": {},
     "output_type": "display_data"
    },
    {
     "data": {
      "application/vnd.jupyter.widget-view+json": {
       "model_id": "b65516c2bceb46fa97d275a72872fe74",
       "version_major": 2,
       "version_minor": 0
      },
      "text/plain": [
       "Validation:   0%|          | 0/180 [00:00<?, ?it/s]"
      ]
     },
     "metadata": {},
     "output_type": "display_data"
    },
    {
     "name": "stdout",
     "output_type": "stream",
     "text": [
      "val_losses 0.38200266684095063\n",
      "EarlyStopping counter: 5 out of 50\n"
     ]
    },
    {
     "data": {
      "application/vnd.jupyter.widget-view+json": {
       "model_id": "ea831935b99e4d2fb7ecf4534f35d9f5",
       "version_major": 2,
       "version_minor": 0
      },
      "text/plain": [
       "Training:   0%|          | 0/330 [00:00<?, ?it/s]"
      ]
     },
     "metadata": {},
     "output_type": "display_data"
    },
    {
     "data": {
      "application/vnd.jupyter.widget-view+json": {
       "model_id": "d7f975cbf53a40e0892cf45225e4cbe4",
       "version_major": 2,
       "version_minor": 0
      },
      "text/plain": [
       "Validation:   0%|          | 0/180 [00:00<?, ?it/s]"
      ]
     },
     "metadata": {},
     "output_type": "display_data"
    },
    {
     "name": "stdout",
     "output_type": "stream",
     "text": [
      "val_losses 0.38763908139533465\n",
      "EarlyStopping counter: 6 out of 50\n"
     ]
    },
    {
     "data": {
      "application/vnd.jupyter.widget-view+json": {
       "model_id": "ea82e85cde924b56af956cdaf94305ab",
       "version_major": 2,
       "version_minor": 0
      },
      "text/plain": [
       "Training:   0%|          | 0/330 [00:00<?, ?it/s]"
      ]
     },
     "metadata": {},
     "output_type": "display_data"
    },
    {
     "data": {
      "application/vnd.jupyter.widget-view+json": {
       "model_id": "c281a2f7df764617b0c77f3ce95dd6c0",
       "version_major": 2,
       "version_minor": 0
      },
      "text/plain": [
       "Validation:   0%|          | 0/180 [00:00<?, ?it/s]"
      ]
     },
     "metadata": {},
     "output_type": "display_data"
    },
    {
     "name": "stdout",
     "output_type": "stream",
     "text": [
      "val_losses 0.3845873660511441\n",
      "EarlyStopping counter: 7 out of 50\n"
     ]
    },
    {
     "data": {
      "application/vnd.jupyter.widget-view+json": {
       "model_id": "c231649585e642e6895eb0e6bbc45e87",
       "version_major": 2,
       "version_minor": 0
      },
      "text/plain": [
       "Training:   0%|          | 0/330 [00:00<?, ?it/s]"
      ]
     },
     "metadata": {},
     "output_type": "display_data"
    },
    {
     "data": {
      "application/vnd.jupyter.widget-view+json": {
       "model_id": "a87038d656e84c7c9d48fc25851bc5d6",
       "version_major": 2,
       "version_minor": 0
      },
      "text/plain": [
       "Validation:   0%|          | 0/180 [00:00<?, ?it/s]"
      ]
     },
     "metadata": {},
     "output_type": "display_data"
    },
    {
     "name": "stdout",
     "output_type": "stream",
     "text": [
      "val_losses 0.39557302304440073\n",
      "EarlyStopping counter: 8 out of 50\n"
     ]
    },
    {
     "data": {
      "application/vnd.jupyter.widget-view+json": {
       "model_id": "24e8bf61c06a402ebb7e0908a35f6ee1",
       "version_major": 2,
       "version_minor": 0
      },
      "text/plain": [
       "Training:   0%|          | 0/330 [00:00<?, ?it/s]"
      ]
     },
     "metadata": {},
     "output_type": "display_data"
    },
    {
     "data": {
      "application/vnd.jupyter.widget-view+json": {
       "model_id": "869cb18fd83e4e15a561d684570b92ec",
       "version_major": 2,
       "version_minor": 0
      },
      "text/plain": [
       "Validation:   0%|          | 0/180 [00:00<?, ?it/s]"
      ]
     },
     "metadata": {},
     "output_type": "display_data"
    },
    {
     "name": "stdout",
     "output_type": "stream",
     "text": [
      "val_losses 0.40734390285280014\n",
      "EarlyStopping counter: 9 out of 50\n"
     ]
    },
    {
     "data": {
      "application/vnd.jupyter.widget-view+json": {
       "model_id": "57cce715956a44349e1d078b1736ae68",
       "version_major": 2,
       "version_minor": 0
      },
      "text/plain": [
       "Training:   0%|          | 0/330 [00:00<?, ?it/s]"
      ]
     },
     "metadata": {},
     "output_type": "display_data"
    },
    {
     "data": {
      "application/vnd.jupyter.widget-view+json": {
       "model_id": "f7ef685564094cc2a91a69c2773b5154",
       "version_major": 2,
       "version_minor": 0
      },
      "text/plain": [
       "Validation:   0%|          | 0/180 [00:00<?, ?it/s]"
      ]
     },
     "metadata": {},
     "output_type": "display_data"
    },
    {
     "name": "stdout",
     "output_type": "stream",
     "text": [
      "val_losses 0.3787986517780357\n",
      "EarlyStopping counter: 10 out of 50\n"
     ]
    },
    {
     "data": {
      "application/vnd.jupyter.widget-view+json": {
       "model_id": "d9aec6d5f8464c0d8214568739b92220",
       "version_major": 2,
       "version_minor": 0
      },
      "text/plain": [
       "Training:   0%|          | 0/330 [00:00<?, ?it/s]"
      ]
     },
     "metadata": {},
     "output_type": "display_data"
    },
    {
     "data": {
      "application/vnd.jupyter.widget-view+json": {
       "model_id": "31b81ada17354df98cfc9eb7af61b179",
       "version_major": 2,
       "version_minor": 0
      },
      "text/plain": [
       "Validation:   0%|          | 0/180 [00:00<?, ?it/s]"
      ]
     },
     "metadata": {},
     "output_type": "display_data"
    },
    {
     "name": "stdout",
     "output_type": "stream",
     "text": [
      "val_losses 0.38259282526042726\n",
      "EarlyStopping counter: 11 out of 50\n"
     ]
    },
    {
     "data": {
      "application/vnd.jupyter.widget-view+json": {
       "model_id": "3837432145cb44a5831b48d1f4db2b53",
       "version_major": 2,
       "version_minor": 0
      },
      "text/plain": [
       "Training:   0%|          | 0/330 [00:00<?, ?it/s]"
      ]
     },
     "metadata": {},
     "output_type": "display_data"
    },
    {
     "data": {
      "application/vnd.jupyter.widget-view+json": {
       "model_id": "c153251d1eef4a76852e4ee292743433",
       "version_major": 2,
       "version_minor": 0
      },
      "text/plain": [
       "Validation:   0%|          | 0/180 [00:00<?, ?it/s]"
      ]
     },
     "metadata": {},
     "output_type": "display_data"
    },
    {
     "name": "stdout",
     "output_type": "stream",
     "text": [
      "val_losses 0.3800861510965559\n",
      "EarlyStopping counter: 12 out of 50\n"
     ]
    },
    {
     "data": {
      "application/vnd.jupyter.widget-view+json": {
       "model_id": "09f0500dada94c38a92e487f060b4f4b",
       "version_major": 2,
       "version_minor": 0
      },
      "text/plain": [
       "Training:   0%|          | 0/330 [00:00<?, ?it/s]"
      ]
     },
     "metadata": {},
     "output_type": "display_data"
    },
    {
     "data": {
      "application/vnd.jupyter.widget-view+json": {
       "model_id": "00d3f908595045c1b42c09c3f93bccde",
       "version_major": 2,
       "version_minor": 0
      },
      "text/plain": [
       "Validation:   0%|          | 0/180 [00:00<?, ?it/s]"
      ]
     },
     "metadata": {},
     "output_type": "display_data"
    },
    {
     "name": "stdout",
     "output_type": "stream",
     "text": [
      "val_losses 0.38949298709630964\n",
      "EarlyStopping counter: 13 out of 50\n"
     ]
    },
    {
     "data": {
      "application/vnd.jupyter.widget-view+json": {
       "model_id": "8d7b7466025247a08f3092f4243d40df",
       "version_major": 2,
       "version_minor": 0
      },
      "text/plain": [
       "Training:   0%|          | 0/330 [00:00<?, ?it/s]"
      ]
     },
     "metadata": {},
     "output_type": "display_data"
    },
    {
     "data": {
      "application/vnd.jupyter.widget-view+json": {
       "model_id": "f34d670e17514243bb845460b0e7511d",
       "version_major": 2,
       "version_minor": 0
      },
      "text/plain": [
       "Validation:   0%|          | 0/180 [00:00<?, ?it/s]"
      ]
     },
     "metadata": {},
     "output_type": "display_data"
    },
    {
     "name": "stdout",
     "output_type": "stream",
     "text": [
      "val_losses 0.40272620138194826\n",
      "EarlyStopping counter: 14 out of 50\n"
     ]
    },
    {
     "data": {
      "application/vnd.jupyter.widget-view+json": {
       "model_id": "e4c6eec628f3411b82349180eb649fb8",
       "version_major": 2,
       "version_minor": 0
      },
      "text/plain": [
       "Training:   0%|          | 0/330 [00:00<?, ?it/s]"
      ]
     },
     "metadata": {},
     "output_type": "display_data"
    },
    {
     "data": {
      "application/vnd.jupyter.widget-view+json": {
       "model_id": "5f227b81060f482186d79f17a1f6b861",
       "version_major": 2,
       "version_minor": 0
      },
      "text/plain": [
       "Validation:   0%|          | 0/180 [00:00<?, ?it/s]"
      ]
     },
     "metadata": {},
     "output_type": "display_data"
    },
    {
     "name": "stdout",
     "output_type": "stream",
     "text": [
      "val_losses 0.38467101703087486\n",
      "EarlyStopping counter: 15 out of 50\n"
     ]
    },
    {
     "data": {
      "application/vnd.jupyter.widget-view+json": {
       "model_id": "f940e2c745474552a9930b74b534fb10",
       "version_major": 2,
       "version_minor": 0
      },
      "text/plain": [
       "Training:   0%|          | 0/330 [00:00<?, ?it/s]"
      ]
     },
     "metadata": {},
     "output_type": "display_data"
    },
    {
     "data": {
      "application/vnd.jupyter.widget-view+json": {
       "model_id": "f612b3f87c8941a9839aaa167cd79441",
       "version_major": 2,
       "version_minor": 0
      },
      "text/plain": [
       "Validation:   0%|          | 0/180 [00:00<?, ?it/s]"
      ]
     },
     "metadata": {},
     "output_type": "display_data"
    },
    {
     "name": "stdout",
     "output_type": "stream",
     "text": [
      "val_losses 0.3732629647685422\n",
      "EarlyStopping counter: 16 out of 50\n"
     ]
    },
    {
     "data": {
      "application/vnd.jupyter.widget-view+json": {
       "model_id": "9bb2a3347c6b4ef9a0c99047cd8e87e4",
       "version_major": 2,
       "version_minor": 0
      },
      "text/plain": [
       "Training:   0%|          | 0/330 [00:00<?, ?it/s]"
      ]
     },
     "metadata": {},
     "output_type": "display_data"
    },
    {
     "data": {
      "application/vnd.jupyter.widget-view+json": {
       "model_id": "a81f3762787e48c899cb90ea3f753b62",
       "version_major": 2,
       "version_minor": 0
      },
      "text/plain": [
       "Validation:   0%|          | 0/180 [00:00<?, ?it/s]"
      ]
     },
     "metadata": {},
     "output_type": "display_data"
    },
    {
     "name": "stdout",
     "output_type": "stream",
     "text": [
      "val_losses 0.3479170554214054\n",
      "EarlyStopping counter: 17 out of 50\n"
     ]
    },
    {
     "data": {
      "application/vnd.jupyter.widget-view+json": {
       "model_id": "4397208b99b04d07956f3c61b6a59da5",
       "version_major": 2,
       "version_minor": 0
      },
      "text/plain": [
       "Training:   0%|          | 0/330 [00:00<?, ?it/s]"
      ]
     },
     "metadata": {},
     "output_type": "display_data"
    },
    {
     "data": {
      "application/vnd.jupyter.widget-view+json": {
       "model_id": "2e4135f5e171479e97bb3df9f3d8ee9d",
       "version_major": 2,
       "version_minor": 0
      },
      "text/plain": [
       "Validation:   0%|          | 0/180 [00:00<?, ?it/s]"
      ]
     },
     "metadata": {},
     "output_type": "display_data"
    },
    {
     "name": "stdout",
     "output_type": "stream",
     "text": [
      "val_losses 0.3854456006652779\n",
      "EarlyStopping counter: 18 out of 50\n"
     ]
    },
    {
     "data": {
      "application/vnd.jupyter.widget-view+json": {
       "model_id": "6f8eaff77860490088412edb19abd73d",
       "version_major": 2,
       "version_minor": 0
      },
      "text/plain": [
       "Training:   0%|          | 0/330 [00:00<?, ?it/s]"
      ]
     },
     "metadata": {},
     "output_type": "display_data"
    },
    {
     "data": {
      "application/vnd.jupyter.widget-view+json": {
       "model_id": "09bad001ee5540a2ab743d8148bfed5c",
       "version_major": 2,
       "version_minor": 0
      },
      "text/plain": [
       "Validation:   0%|          | 0/180 [00:00<?, ?it/s]"
      ]
     },
     "metadata": {},
     "output_type": "display_data"
    },
    {
     "name": "stdout",
     "output_type": "stream",
     "text": [
      "val_losses 0.37720445584919715\n",
      "EarlyStopping counter: 19 out of 50\n"
     ]
    },
    {
     "data": {
      "application/vnd.jupyter.widget-view+json": {
       "model_id": "be4ebbbfaced4efda0c8e95f5ff95700",
       "version_major": 2,
       "version_minor": 0
      },
      "text/plain": [
       "Training:   0%|          | 0/330 [00:00<?, ?it/s]"
      ]
     },
     "metadata": {},
     "output_type": "display_data"
    },
    {
     "data": {
      "application/vnd.jupyter.widget-view+json": {
       "model_id": "4d1aba40b8ea4868870c0afaf0198397",
       "version_major": 2,
       "version_minor": 0
      },
      "text/plain": [
       "Validation:   0%|          | 0/180 [00:00<?, ?it/s]"
      ]
     },
     "metadata": {},
     "output_type": "display_data"
    },
    {
     "name": "stdout",
     "output_type": "stream",
     "text": [
      "val_losses 0.4059229644636313\n",
      "EarlyStopping counter: 20 out of 50\n"
     ]
    },
    {
     "data": {
      "application/vnd.jupyter.widget-view+json": {
       "model_id": "bed2ba0db60743b3b73f40463a459548",
       "version_major": 2,
       "version_minor": 0
      },
      "text/plain": [
       "Training:   0%|          | 0/330 [00:00<?, ?it/s]"
      ]
     },
     "metadata": {},
     "output_type": "display_data"
    },
    {
     "data": {
      "application/vnd.jupyter.widget-view+json": {
       "model_id": "e7b5f94aaae54d49a0bb0106b1695143",
       "version_major": 2,
       "version_minor": 0
      },
      "text/plain": [
       "Validation:   0%|          | 0/180 [00:00<?, ?it/s]"
      ]
     },
     "metadata": {},
     "output_type": "display_data"
    },
    {
     "name": "stdout",
     "output_type": "stream",
     "text": [
      "val_losses 0.41039701617426344\n",
      "EarlyStopping counter: 21 out of 50\n"
     ]
    },
    {
     "data": {
      "application/vnd.jupyter.widget-view+json": {
       "model_id": "9342bafbc641413889d5d1421ba11e72",
       "version_major": 2,
       "version_minor": 0
      },
      "text/plain": [
       "Training:   0%|          | 0/330 [00:00<?, ?it/s]"
      ]
     },
     "metadata": {},
     "output_type": "display_data"
    },
    {
     "data": {
      "application/vnd.jupyter.widget-view+json": {
       "model_id": "4187f11a764e44199e5eb007dedc95ce",
       "version_major": 2,
       "version_minor": 0
      },
      "text/plain": [
       "Validation:   0%|          | 0/180 [00:00<?, ?it/s]"
      ]
     },
     "metadata": {},
     "output_type": "display_data"
    },
    {
     "name": "stdout",
     "output_type": "stream",
     "text": [
      "val_losses 0.3939028860794173\n",
      "EarlyStopping counter: 22 out of 50\n"
     ]
    },
    {
     "data": {
      "application/vnd.jupyter.widget-view+json": {
       "model_id": "8c8c72ef404e4901ab77ab5aa781f55f",
       "version_major": 2,
       "version_minor": 0
      },
      "text/plain": [
       "Training:   0%|          | 0/330 [00:00<?, ?it/s]"
      ]
     },
     "metadata": {},
     "output_type": "display_data"
    },
    {
     "data": {
      "application/vnd.jupyter.widget-view+json": {
       "model_id": "420501aa64254f2ba1468eeef0995a31",
       "version_major": 2,
       "version_minor": 0
      },
      "text/plain": [
       "Validation:   0%|          | 0/180 [00:00<?, ?it/s]"
      ]
     },
     "metadata": {},
     "output_type": "display_data"
    },
    {
     "name": "stdout",
     "output_type": "stream",
     "text": [
      "val_losses 0.3829904370837741\n",
      "EarlyStopping counter: 23 out of 50\n"
     ]
    },
    {
     "data": {
      "application/vnd.jupyter.widget-view+json": {
       "model_id": "e42c0ea605994e8cb90939f630e1f89c",
       "version_major": 2,
       "version_minor": 0
      },
      "text/plain": [
       "Training:   0%|          | 0/330 [00:00<?, ?it/s]"
      ]
     },
     "metadata": {},
     "output_type": "display_data"
    },
    {
     "data": {
      "application/vnd.jupyter.widget-view+json": {
       "model_id": "b9f58fc21270406fbe778b12d8b22c94",
       "version_major": 2,
       "version_minor": 0
      },
      "text/plain": [
       "Validation:   0%|          | 0/180 [00:00<?, ?it/s]"
      ]
     },
     "metadata": {},
     "output_type": "display_data"
    },
    {
     "name": "stdout",
     "output_type": "stream",
     "text": [
      "val_losses 0.1738699275172419\n",
      "Validation loss decreased (0.213174 --> 0.173870).  Saving model ...\n"
     ]
    },
    {
     "data": {
      "application/vnd.jupyter.widget-view+json": {
       "model_id": "040158772e1e46ec938854070afc2190",
       "version_major": 2,
       "version_minor": 0
      },
      "text/plain": [
       "Training:   0%|          | 0/330 [00:00<?, ?it/s]"
      ]
     },
     "metadata": {},
     "output_type": "display_data"
    },
    {
     "data": {
      "application/vnd.jupyter.widget-view+json": {
       "model_id": "946b2b197e584b90ab3e4b7050a2eaf6",
       "version_major": 2,
       "version_minor": 0
      },
      "text/plain": [
       "Validation:   0%|          | 0/180 [00:00<?, ?it/s]"
      ]
     },
     "metadata": {},
     "output_type": "display_data"
    },
    {
     "name": "stdout",
     "output_type": "stream",
     "text": [
      "val_losses 0.22508425451815128\n",
      "EarlyStopping counter: 1 out of 50\n"
     ]
    },
    {
     "data": {
      "application/vnd.jupyter.widget-view+json": {
       "model_id": "2a15a96aa4364e0e8558d84d5ff8415e",
       "version_major": 2,
       "version_minor": 0
      },
      "text/plain": [
       "Training:   0%|          | 0/330 [00:00<?, ?it/s]"
      ]
     },
     "metadata": {},
     "output_type": "display_data"
    },
    {
     "data": {
      "application/vnd.jupyter.widget-view+json": {
       "model_id": "276b924cfa414cdfbf7ce0ccfc86ed6d",
       "version_major": 2,
       "version_minor": 0
      },
      "text/plain": [
       "Validation:   0%|          | 0/180 [00:00<?, ?it/s]"
      ]
     },
     "metadata": {},
     "output_type": "display_data"
    },
    {
     "name": "stdout",
     "output_type": "stream",
     "text": [
      "val_losses 0.24504640226562818\n",
      "EarlyStopping counter: 2 out of 50\n"
     ]
    },
    {
     "data": {
      "application/vnd.jupyter.widget-view+json": {
       "model_id": "dc0c8fd12cfe4994935dca9d57393aef",
       "version_major": 2,
       "version_minor": 0
      },
      "text/plain": [
       "Training:   0%|          | 0/330 [00:00<?, ?it/s]"
      ]
     },
     "metadata": {},
     "output_type": "display_data"
    },
    {
     "data": {
      "application/vnd.jupyter.widget-view+json": {
       "model_id": "78aa703c454540a19608e8345058c4bc",
       "version_major": 2,
       "version_minor": 0
      },
      "text/plain": [
       "Validation:   0%|          | 0/180 [00:00<?, ?it/s]"
      ]
     },
     "metadata": {},
     "output_type": "display_data"
    },
    {
     "name": "stdout",
     "output_type": "stream",
     "text": [
      "val_losses 0.267057709602846\n",
      "EarlyStopping counter: 3 out of 50\n"
     ]
    },
    {
     "data": {
      "application/vnd.jupyter.widget-view+json": {
       "model_id": "424019fa8d52486390846ea5de81570b",
       "version_major": 2,
       "version_minor": 0
      },
      "text/plain": [
       "Training:   0%|          | 0/330 [00:00<?, ?it/s]"
      ]
     },
     "metadata": {},
     "output_type": "display_data"
    },
    {
     "data": {
      "application/vnd.jupyter.widget-view+json": {
       "model_id": "9a711640041948a49f0e2af9339c16ac",
       "version_major": 2,
       "version_minor": 0
      },
      "text/plain": [
       "Validation:   0%|          | 0/180 [00:00<?, ?it/s]"
      ]
     },
     "metadata": {},
     "output_type": "display_data"
    },
    {
     "name": "stdout",
     "output_type": "stream",
     "text": [
      "val_losses 0.29001532710260813\n",
      "EarlyStopping counter: 4 out of 50\n"
     ]
    },
    {
     "data": {
      "application/vnd.jupyter.widget-view+json": {
       "model_id": "45daab009d284a87b6863ab146560196",
       "version_major": 2,
       "version_minor": 0
      },
      "text/plain": [
       "Training:   0%|          | 0/330 [00:00<?, ?it/s]"
      ]
     },
     "metadata": {},
     "output_type": "display_data"
    },
    {
     "data": {
      "application/vnd.jupyter.widget-view+json": {
       "model_id": "0014c0c95df644d59e2c52d0fcb58e9f",
       "version_major": 2,
       "version_minor": 0
      },
      "text/plain": [
       "Validation:   0%|          | 0/180 [00:00<?, ?it/s]"
      ]
     },
     "metadata": {},
     "output_type": "display_data"
    },
    {
     "name": "stdout",
     "output_type": "stream",
     "text": [
      "val_losses 0.3046639644437366\n",
      "EarlyStopping counter: 5 out of 50\n"
     ]
    },
    {
     "data": {
      "application/vnd.jupyter.widget-view+json": {
       "model_id": "242bcfcc94ae4345966c553dfb746ce4",
       "version_major": 2,
       "version_minor": 0
      },
      "text/plain": [
       "Training:   0%|          | 0/330 [00:00<?, ?it/s]"
      ]
     },
     "metadata": {},
     "output_type": "display_data"
    },
    {
     "data": {
      "application/vnd.jupyter.widget-view+json": {
       "model_id": "6d0fadde5cce43e0a4df5fe1af5b92c2",
       "version_major": 2,
       "version_minor": 0
      },
      "text/plain": [
       "Validation:   0%|          | 0/180 [00:00<?, ?it/s]"
      ]
     },
     "metadata": {},
     "output_type": "display_data"
    },
    {
     "name": "stdout",
     "output_type": "stream",
     "text": [
      "val_losses 0.3125170417129993\n",
      "EarlyStopping counter: 6 out of 50\n"
     ]
    },
    {
     "data": {
      "application/vnd.jupyter.widget-view+json": {
       "model_id": "e732cbf0787b46ebbedfad0856b96999",
       "version_major": 2,
       "version_minor": 0
      },
      "text/plain": [
       "Training:   0%|          | 0/330 [00:00<?, ?it/s]"
      ]
     },
     "metadata": {},
     "output_type": "display_data"
    },
    {
     "data": {
      "application/vnd.jupyter.widget-view+json": {
       "model_id": "8153cc62c2bc4afe8ca26bafd5d717cb",
       "version_major": 2,
       "version_minor": 0
      },
      "text/plain": [
       "Validation:   0%|          | 0/180 [00:00<?, ?it/s]"
      ]
     },
     "metadata": {},
     "output_type": "display_data"
    },
    {
     "name": "stdout",
     "output_type": "stream",
     "text": [
      "val_losses 0.32259877166814277\n",
      "EarlyStopping counter: 7 out of 50\n"
     ]
    },
    {
     "data": {
      "application/vnd.jupyter.widget-view+json": {
       "model_id": "4a10c1f8c1ca4fb781d99fcb64ea2132",
       "version_major": 2,
       "version_minor": 0
      },
      "text/plain": [
       "Training:   0%|          | 0/330 [00:00<?, ?it/s]"
      ]
     },
     "metadata": {},
     "output_type": "display_data"
    },
    {
     "data": {
      "application/vnd.jupyter.widget-view+json": {
       "model_id": "9f07da75615b4a94a9c40b3f9d4879c8",
       "version_major": 2,
       "version_minor": 0
      },
      "text/plain": [
       "Validation:   0%|          | 0/180 [00:00<?, ?it/s]"
      ]
     },
     "metadata": {},
     "output_type": "display_data"
    },
    {
     "name": "stdout",
     "output_type": "stream",
     "text": [
      "val_losses 0.3375367321901851\n",
      "EarlyStopping counter: 8 out of 50\n"
     ]
    },
    {
     "data": {
      "application/vnd.jupyter.widget-view+json": {
       "model_id": "992257b1ddd24afa853ef38927fd9bf4",
       "version_major": 2,
       "version_minor": 0
      },
      "text/plain": [
       "Training:   0%|          | 0/330 [00:00<?, ?it/s]"
      ]
     },
     "metadata": {},
     "output_type": "display_data"
    },
    {
     "data": {
      "application/vnd.jupyter.widget-view+json": {
       "model_id": "e760a914e12042149a17a1d7a093dfb3",
       "version_major": 2,
       "version_minor": 0
      },
      "text/plain": [
       "Validation:   0%|          | 0/180 [00:00<?, ?it/s]"
      ]
     },
     "metadata": {},
     "output_type": "display_data"
    },
    {
     "name": "stdout",
     "output_type": "stream",
     "text": [
      "val_losses 0.369374212788211\n",
      "EarlyStopping counter: 9 out of 50\n"
     ]
    },
    {
     "data": {
      "application/vnd.jupyter.widget-view+json": {
       "model_id": "b07e112f56964bc4b6cb1ef61ab8b4e3",
       "version_major": 2,
       "version_minor": 0
      },
      "text/plain": [
       "Training:   0%|          | 0/330 [00:00<?, ?it/s]"
      ]
     },
     "metadata": {},
     "output_type": "display_data"
    },
    {
     "data": {
      "application/vnd.jupyter.widget-view+json": {
       "model_id": "d2bd99ef366e45f0825eed351387f968",
       "version_major": 2,
       "version_minor": 0
      },
      "text/plain": [
       "Validation:   0%|          | 0/180 [00:00<?, ?it/s]"
      ]
     },
     "metadata": {},
     "output_type": "display_data"
    },
    {
     "name": "stdout",
     "output_type": "stream",
     "text": [
      "val_losses 0.36262327507138253\n",
      "EarlyStopping counter: 10 out of 50\n"
     ]
    },
    {
     "data": {
      "application/vnd.jupyter.widget-view+json": {
       "model_id": "04f96d448051430c9b96dd824032a9d1",
       "version_major": 2,
       "version_minor": 0
      },
      "text/plain": [
       "Training:   0%|          | 0/330 [00:00<?, ?it/s]"
      ]
     },
     "metadata": {},
     "output_type": "display_data"
    },
    {
     "data": {
      "application/vnd.jupyter.widget-view+json": {
       "model_id": "d10eaf8a338f402eb2634522a175c3f3",
       "version_major": 2,
       "version_minor": 0
      },
      "text/plain": [
       "Validation:   0%|          | 0/180 [00:00<?, ?it/s]"
      ]
     },
     "metadata": {},
     "output_type": "display_data"
    },
    {
     "name": "stdout",
     "output_type": "stream",
     "text": [
      "val_losses 0.3423478335969978\n",
      "EarlyStopping counter: 11 out of 50\n"
     ]
    },
    {
     "data": {
      "application/vnd.jupyter.widget-view+json": {
       "model_id": "bf174c7e7c254b5c810f4b86444b4b5c",
       "version_major": 2,
       "version_minor": 0
      },
      "text/plain": [
       "Training:   0%|          | 0/330 [00:00<?, ?it/s]"
      ]
     },
     "metadata": {},
     "output_type": "display_data"
    },
    {
     "data": {
      "application/vnd.jupyter.widget-view+json": {
       "model_id": "1ad2450c5b0049e9ac8b9973f18531a9",
       "version_major": 2,
       "version_minor": 0
      },
      "text/plain": [
       "Validation:   0%|          | 0/180 [00:00<?, ?it/s]"
      ]
     },
     "metadata": {},
     "output_type": "display_data"
    },
    {
     "name": "stdout",
     "output_type": "stream",
     "text": [
      "val_losses 0.369761956234773\n",
      "EarlyStopping counter: 12 out of 50\n"
     ]
    },
    {
     "data": {
      "application/vnd.jupyter.widget-view+json": {
       "model_id": "8ef2ac3c57c34f67aee0362c91a0c662",
       "version_major": 2,
       "version_minor": 0
      },
      "text/plain": [
       "Training:   0%|          | 0/330 [00:00<?, ?it/s]"
      ]
     },
     "metadata": {},
     "output_type": "display_data"
    },
    {
     "data": {
      "application/vnd.jupyter.widget-view+json": {
       "model_id": "37ed6e7eb4014c599df992b720569cd4",
       "version_major": 2,
       "version_minor": 0
      },
      "text/plain": [
       "Validation:   0%|          | 0/180 [00:00<?, ?it/s]"
      ]
     },
     "metadata": {},
     "output_type": "display_data"
    },
    {
     "name": "stdout",
     "output_type": "stream",
     "text": [
      "val_losses 0.3283541356523832\n",
      "EarlyStopping counter: 13 out of 50\n"
     ]
    },
    {
     "data": {
      "application/vnd.jupyter.widget-view+json": {
       "model_id": "fd17ccf588b74cfebdceafe7789b5ba0",
       "version_major": 2,
       "version_minor": 0
      },
      "text/plain": [
       "Training:   0%|          | 0/330 [00:00<?, ?it/s]"
      ]
     },
     "metadata": {},
     "output_type": "display_data"
    },
    {
     "data": {
      "application/vnd.jupyter.widget-view+json": {
       "model_id": "7cd23b2028e041cc87c1535aecf51cd4",
       "version_major": 2,
       "version_minor": 0
      },
      "text/plain": [
       "Validation:   0%|          | 0/180 [00:00<?, ?it/s]"
      ]
     },
     "metadata": {},
     "output_type": "display_data"
    },
    {
     "name": "stdout",
     "output_type": "stream",
     "text": [
      "val_losses 0.3237326069838471\n",
      "EarlyStopping counter: 14 out of 50\n"
     ]
    },
    {
     "data": {
      "application/vnd.jupyter.widget-view+json": {
       "model_id": "e8e02c680bca4aa1901c8d3a26c5cdb8",
       "version_major": 2,
       "version_minor": 0
      },
      "text/plain": [
       "Training:   0%|          | 0/330 [00:00<?, ?it/s]"
      ]
     },
     "metadata": {},
     "output_type": "display_data"
    },
    {
     "data": {
      "application/vnd.jupyter.widget-view+json": {
       "model_id": "9f16d96f653b435fb47b6ed166961dc1",
       "version_major": 2,
       "version_minor": 0
      },
      "text/plain": [
       "Validation:   0%|          | 0/180 [00:00<?, ?it/s]"
      ]
     },
     "metadata": {},
     "output_type": "display_data"
    },
    {
     "name": "stdout",
     "output_type": "stream",
     "text": [
      "val_losses 0.32894637915823194\n",
      "EarlyStopping counter: 15 out of 50\n"
     ]
    },
    {
     "data": {
      "application/vnd.jupyter.widget-view+json": {
       "model_id": "8fb7e0ac2f944520b5af91b6f5b8fcad",
       "version_major": 2,
       "version_minor": 0
      },
      "text/plain": [
       "Training:   0%|          | 0/330 [00:00<?, ?it/s]"
      ]
     },
     "metadata": {},
     "output_type": "display_data"
    },
    {
     "data": {
      "application/vnd.jupyter.widget-view+json": {
       "model_id": "0e33bb048b8848a1afe34a54f3a62802",
       "version_major": 2,
       "version_minor": 0
      },
      "text/plain": [
       "Validation:   0%|          | 0/180 [00:00<?, ?it/s]"
      ]
     },
     "metadata": {},
     "output_type": "display_data"
    },
    {
     "name": "stdout",
     "output_type": "stream",
     "text": [
      "val_losses 0.37229964236418406\n",
      "EarlyStopping counter: 16 out of 50\n"
     ]
    },
    {
     "data": {
      "application/vnd.jupyter.widget-view+json": {
       "model_id": "a6f6a121c1bd4ee69f25af59e39e4405",
       "version_major": 2,
       "version_minor": 0
      },
      "text/plain": [
       "Training:   0%|          | 0/330 [00:00<?, ?it/s]"
      ]
     },
     "metadata": {},
     "output_type": "display_data"
    },
    {
     "data": {
      "application/vnd.jupyter.widget-view+json": {
       "model_id": "e06aa4a82f404c5bb20abe7dcca67f2b",
       "version_major": 2,
       "version_minor": 0
      },
      "text/plain": [
       "Validation:   0%|          | 0/180 [00:00<?, ?it/s]"
      ]
     },
     "metadata": {},
     "output_type": "display_data"
    },
    {
     "name": "stdout",
     "output_type": "stream",
     "text": [
      "val_losses 0.34874652077754337\n",
      "EarlyStopping counter: 17 out of 50\n"
     ]
    },
    {
     "data": {
      "application/vnd.jupyter.widget-view+json": {
       "model_id": "c4a4ee4b97854ef78bc28ab614d4a4b8",
       "version_major": 2,
       "version_minor": 0
      },
      "text/plain": [
       "Training:   0%|          | 0/330 [00:00<?, ?it/s]"
      ]
     },
     "metadata": {},
     "output_type": "display_data"
    },
    {
     "data": {
      "application/vnd.jupyter.widget-view+json": {
       "model_id": "7efdfd8bd6514db599e5ae7c7ba48104",
       "version_major": 2,
       "version_minor": 0
      },
      "text/plain": [
       "Validation:   0%|          | 0/180 [00:00<?, ?it/s]"
      ]
     },
     "metadata": {},
     "output_type": "display_data"
    },
    {
     "name": "stdout",
     "output_type": "stream",
     "text": [
      "val_losses 0.32883178310261835\n",
      "EarlyStopping counter: 18 out of 50\n"
     ]
    },
    {
     "data": {
      "application/vnd.jupyter.widget-view+json": {
       "model_id": "7e9a8050a37d416b8deb3b704129c241",
       "version_major": 2,
       "version_minor": 0
      },
      "text/plain": [
       "Training:   0%|          | 0/330 [00:00<?, ?it/s]"
      ]
     },
     "metadata": {},
     "output_type": "display_data"
    },
    {
     "data": {
      "application/vnd.jupyter.widget-view+json": {
       "model_id": "344a89377a74494491eec663a364ade2",
       "version_major": 2,
       "version_minor": 0
      },
      "text/plain": [
       "Validation:   0%|          | 0/180 [00:00<?, ?it/s]"
      ]
     },
     "metadata": {},
     "output_type": "display_data"
    },
    {
     "name": "stdout",
     "output_type": "stream",
     "text": [
      "val_losses 0.3418254863884714\n",
      "EarlyStopping counter: 19 out of 50\n"
     ]
    },
    {
     "data": {
      "application/vnd.jupyter.widget-view+json": {
       "model_id": "3ae18f77cd83447ca86e7713fd83ee4c",
       "version_major": 2,
       "version_minor": 0
      },
      "text/plain": [
       "Training:   0%|          | 0/330 [00:00<?, ?it/s]"
      ]
     },
     "metadata": {},
     "output_type": "display_data"
    },
    {
     "data": {
      "application/vnd.jupyter.widget-view+json": {
       "model_id": "2b548a5579fd456aaf2f6fc20822d47c",
       "version_major": 2,
       "version_minor": 0
      },
      "text/plain": [
       "Validation:   0%|          | 0/180 [00:00<?, ?it/s]"
      ]
     },
     "metadata": {},
     "output_type": "display_data"
    },
    {
     "name": "stdout",
     "output_type": "stream",
     "text": [
      "val_losses 0.35638545726736387\n",
      "EarlyStopping counter: 20 out of 50\n"
     ]
    },
    {
     "data": {
      "application/vnd.jupyter.widget-view+json": {
       "model_id": "ec31b3d2507b4f7db0c0804e4f92c355",
       "version_major": 2,
       "version_minor": 0
      },
      "text/plain": [
       "Training:   0%|          | 0/330 [00:00<?, ?it/s]"
      ]
     },
     "metadata": {},
     "output_type": "display_data"
    },
    {
     "data": {
      "application/vnd.jupyter.widget-view+json": {
       "model_id": "cf289e5b9de24790adc36b2a755836b0",
       "version_major": 2,
       "version_minor": 0
      },
      "text/plain": [
       "Validation:   0%|          | 0/180 [00:00<?, ?it/s]"
      ]
     },
     "metadata": {},
     "output_type": "display_data"
    },
    {
     "name": "stdout",
     "output_type": "stream",
     "text": [
      "val_losses 0.34329102776116793\n",
      "EarlyStopping counter: 21 out of 50\n"
     ]
    },
    {
     "data": {
      "application/vnd.jupyter.widget-view+json": {
       "model_id": "b19e04a323374b999eb94f7be65edf42",
       "version_major": 2,
       "version_minor": 0
      },
      "text/plain": [
       "Training:   0%|          | 0/330 [00:00<?, ?it/s]"
      ]
     },
     "metadata": {},
     "output_type": "display_data"
    },
    {
     "data": {
      "application/vnd.jupyter.widget-view+json": {
       "model_id": "b2a6b4c6a5304eb1b20a6249b82b3777",
       "version_major": 2,
       "version_minor": 0
      },
      "text/plain": [
       "Validation:   0%|          | 0/180 [00:00<?, ?it/s]"
      ]
     },
     "metadata": {},
     "output_type": "display_data"
    },
    {
     "name": "stdout",
     "output_type": "stream",
     "text": [
      "val_losses 0.346599184970061\n",
      "EarlyStopping counter: 22 out of 50\n"
     ]
    },
    {
     "data": {
      "application/vnd.jupyter.widget-view+json": {
       "model_id": "7e1aa5f0452d4b72a45a53a6eabdfbbb",
       "version_major": 2,
       "version_minor": 0
      },
      "text/plain": [
       "Training:   0%|          | 0/330 [00:00<?, ?it/s]"
      ]
     },
     "metadata": {},
     "output_type": "display_data"
    },
    {
     "data": {
      "application/vnd.jupyter.widget-view+json": {
       "model_id": "e4d06cfa1b57404eb1f1409c1920d797",
       "version_major": 2,
       "version_minor": 0
      },
      "text/plain": [
       "Validation:   0%|          | 0/180 [00:00<?, ?it/s]"
      ]
     },
     "metadata": {},
     "output_type": "display_data"
    },
    {
     "name": "stdout",
     "output_type": "stream",
     "text": [
      "val_losses 0.3460841684705681\n",
      "EarlyStopping counter: 23 out of 50\n"
     ]
    },
    {
     "data": {
      "application/vnd.jupyter.widget-view+json": {
       "model_id": "e8929d1f20554cb6a36c52197f697515",
       "version_major": 2,
       "version_minor": 0
      },
      "text/plain": [
       "Training:   0%|          | 0/330 [00:00<?, ?it/s]"
      ]
     },
     "metadata": {},
     "output_type": "display_data"
    },
    {
     "data": {
      "application/vnd.jupyter.widget-view+json": {
       "model_id": "2172c222627b4bbc8d1dae77941534ec",
       "version_major": 2,
       "version_minor": 0
      },
      "text/plain": [
       "Validation:   0%|          | 0/180 [00:00<?, ?it/s]"
      ]
     },
     "metadata": {},
     "output_type": "display_data"
    },
    {
     "name": "stdout",
     "output_type": "stream",
     "text": [
      "val_losses 0.3334988623029656\n",
      "EarlyStopping counter: 24 out of 50\n"
     ]
    },
    {
     "data": {
      "application/vnd.jupyter.widget-view+json": {
       "model_id": "ce3973daf170451599007a1ad8c6831a",
       "version_major": 2,
       "version_minor": 0
      },
      "text/plain": [
       "Training:   0%|          | 0/330 [00:00<?, ?it/s]"
      ]
     },
     "metadata": {},
     "output_type": "display_data"
    },
    {
     "data": {
      "application/vnd.jupyter.widget-view+json": {
       "model_id": "a1a6666c1fd741b2b671be835bf9e340",
       "version_major": 2,
       "version_minor": 0
      },
      "text/plain": [
       "Validation:   0%|          | 0/180 [00:00<?, ?it/s]"
      ]
     },
     "metadata": {},
     "output_type": "display_data"
    },
    {
     "name": "stdout",
     "output_type": "stream",
     "text": [
      "val_losses 0.3400487744145923\n",
      "EarlyStopping counter: 25 out of 50\n"
     ]
    },
    {
     "data": {
      "application/vnd.jupyter.widget-view+json": {
       "model_id": "9a80b97f850d485fb98f869568bd2b72",
       "version_major": 2,
       "version_minor": 0
      },
      "text/plain": [
       "Training:   0%|          | 0/330 [00:00<?, ?it/s]"
      ]
     },
     "metadata": {},
     "output_type": "display_data"
    },
    {
     "data": {
      "application/vnd.jupyter.widget-view+json": {
       "model_id": "92f45218ab4640a887214cd3353d6571",
       "version_major": 2,
       "version_minor": 0
      },
      "text/plain": [
       "Validation:   0%|          | 0/180 [00:00<?, ?it/s]"
      ]
     },
     "metadata": {},
     "output_type": "display_data"
    },
    {
     "name": "stdout",
     "output_type": "stream",
     "text": [
      "val_losses 0.3504499809609519\n",
      "EarlyStopping counter: 26 out of 50\n"
     ]
    },
    {
     "data": {
      "application/vnd.jupyter.widget-view+json": {
       "model_id": "f47530b0e188402fbca16079ee213430",
       "version_major": 2,
       "version_minor": 0
      },
      "text/plain": [
       "Training:   0%|          | 0/330 [00:00<?, ?it/s]"
      ]
     },
     "metadata": {},
     "output_type": "display_data"
    },
    {
     "data": {
      "application/vnd.jupyter.widget-view+json": {
       "model_id": "b053a60b6cb04a249274f54365756e40",
       "version_major": 2,
       "version_minor": 0
      },
      "text/plain": [
       "Validation:   0%|          | 0/180 [00:00<?, ?it/s]"
      ]
     },
     "metadata": {},
     "output_type": "display_data"
    },
    {
     "name": "stdout",
     "output_type": "stream",
     "text": [
      "val_losses 0.369608545054992\n",
      "EarlyStopping counter: 27 out of 50\n"
     ]
    },
    {
     "data": {
      "application/vnd.jupyter.widget-view+json": {
       "model_id": "bd545a1767c0491cb7b7db46c6dba658",
       "version_major": 2,
       "version_minor": 0
      },
      "text/plain": [
       "Training:   0%|          | 0/330 [00:00<?, ?it/s]"
      ]
     },
     "metadata": {},
     "output_type": "display_data"
    },
    {
     "data": {
      "application/vnd.jupyter.widget-view+json": {
       "model_id": "11e95fad50714ac9b48a48c505a24728",
       "version_major": 2,
       "version_minor": 0
      },
      "text/plain": [
       "Validation:   0%|          | 0/180 [00:00<?, ?it/s]"
      ]
     },
     "metadata": {},
     "output_type": "display_data"
    },
    {
     "name": "stdout",
     "output_type": "stream",
     "text": [
      "val_losses 0.3545343851049741\n",
      "EarlyStopping counter: 28 out of 50\n"
     ]
    },
    {
     "data": {
      "application/vnd.jupyter.widget-view+json": {
       "model_id": "50b2c4660b9149e9aa242fe1a80983ee",
       "version_major": 2,
       "version_minor": 0
      },
      "text/plain": [
       "Training:   0%|          | 0/330 [00:00<?, ?it/s]"
      ]
     },
     "metadata": {},
     "output_type": "display_data"
    },
    {
     "data": {
      "application/vnd.jupyter.widget-view+json": {
       "model_id": "a2f91aaf96714a5481b890e8014b4627",
       "version_major": 2,
       "version_minor": 0
      },
      "text/plain": [
       "Validation:   0%|          | 0/180 [00:00<?, ?it/s]"
      ]
     },
     "metadata": {},
     "output_type": "display_data"
    },
    {
     "name": "stdout",
     "output_type": "stream",
     "text": [
      "val_losses 0.3621621482074261\n",
      "EarlyStopping counter: 29 out of 50\n"
     ]
    },
    {
     "data": {
      "application/vnd.jupyter.widget-view+json": {
       "model_id": "a0305c13946b4d1eb29fcb6efdfacee6",
       "version_major": 2,
       "version_minor": 0
      },
      "text/plain": [
       "Training:   0%|          | 0/330 [00:00<?, ?it/s]"
      ]
     },
     "metadata": {},
     "output_type": "display_data"
    },
    {
     "data": {
      "application/vnd.jupyter.widget-view+json": {
       "model_id": "4feb38428ba34bb7a1bded144e92539b",
       "version_major": 2,
       "version_minor": 0
      },
      "text/plain": [
       "Validation:   0%|          | 0/180 [00:00<?, ?it/s]"
      ]
     },
     "metadata": {},
     "output_type": "display_data"
    },
    {
     "name": "stdout",
     "output_type": "stream",
     "text": [
      "val_losses 0.33604975533154274\n",
      "EarlyStopping counter: 30 out of 50\n"
     ]
    },
    {
     "data": {
      "application/vnd.jupyter.widget-view+json": {
       "model_id": "0c59da7beea9406c9d21c3357a2a2657",
       "version_major": 2,
       "version_minor": 0
      },
      "text/plain": [
       "Training:   0%|          | 0/330 [00:00<?, ?it/s]"
      ]
     },
     "metadata": {},
     "output_type": "display_data"
    },
    {
     "data": {
      "application/vnd.jupyter.widget-view+json": {
       "model_id": "69a9dab15df24476b54e25a2ba99db65",
       "version_major": 2,
       "version_minor": 0
      },
      "text/plain": [
       "Validation:   0%|          | 0/180 [00:00<?, ?it/s]"
      ]
     },
     "metadata": {},
     "output_type": "display_data"
    },
    {
     "name": "stdout",
     "output_type": "stream",
     "text": [
      "val_losses 0.19951908472511504\n",
      "EarlyStopping counter: 31 out of 50\n"
     ]
    },
    {
     "data": {
      "application/vnd.jupyter.widget-view+json": {
       "model_id": "61df1e6e2ccc4df6b6e7fd9ede2ada9d",
       "version_major": 2,
       "version_minor": 0
      },
      "text/plain": [
       "Training:   0%|          | 0/330 [00:00<?, ?it/s]"
      ]
     },
     "metadata": {},
     "output_type": "display_data"
    },
    {
     "data": {
      "application/vnd.jupyter.widget-view+json": {
       "model_id": "9a680f3d77234f639d1bec371d4e551b",
       "version_major": 2,
       "version_minor": 0
      },
      "text/plain": [
       "Validation:   0%|          | 0/180 [00:00<?, ?it/s]"
      ]
     },
     "metadata": {},
     "output_type": "display_data"
    },
    {
     "name": "stdout",
     "output_type": "stream",
     "text": [
      "val_losses 0.24583321313063303\n",
      "EarlyStopping counter: 32 out of 50\n"
     ]
    },
    {
     "data": {
      "application/vnd.jupyter.widget-view+json": {
       "model_id": "34ae7bb314b24bba8f986494f3247ed7",
       "version_major": 2,
       "version_minor": 0
      },
      "text/plain": [
       "Training:   0%|          | 0/330 [00:00<?, ?it/s]"
      ]
     },
     "metadata": {},
     "output_type": "display_data"
    },
    {
     "data": {
      "application/vnd.jupyter.widget-view+json": {
       "model_id": "a1f790696d6f4632a632338d8c4a31ec",
       "version_major": 2,
       "version_minor": 0
      },
      "text/plain": [
       "Validation:   0%|          | 0/180 [00:00<?, ?it/s]"
      ]
     },
     "metadata": {},
     "output_type": "display_data"
    },
    {
     "name": "stdout",
     "output_type": "stream",
     "text": [
      "val_losses 0.2718769764320718\n",
      "EarlyStopping counter: 33 out of 50\n"
     ]
    },
    {
     "data": {
      "application/vnd.jupyter.widget-view+json": {
       "model_id": "4587055bcc6842aca454f5fc4aae3876",
       "version_major": 2,
       "version_minor": 0
      },
      "text/plain": [
       "Training:   0%|          | 0/330 [00:00<?, ?it/s]"
      ]
     },
     "metadata": {},
     "output_type": "display_data"
    },
    {
     "data": {
      "application/vnd.jupyter.widget-view+json": {
       "model_id": "80dcb9f4949e429d8d9abbe0de0f2966",
       "version_major": 2,
       "version_minor": 0
      },
      "text/plain": [
       "Validation:   0%|          | 0/180 [00:00<?, ?it/s]"
      ]
     },
     "metadata": {},
     "output_type": "display_data"
    },
    {
     "name": "stdout",
     "output_type": "stream",
     "text": [
      "val_losses 0.29485844886965223\n",
      "EarlyStopping counter: 34 out of 50\n"
     ]
    },
    {
     "data": {
      "application/vnd.jupyter.widget-view+json": {
       "model_id": "7a17d96987984a3381ef2b4b33c5a1bb",
       "version_major": 2,
       "version_minor": 0
      },
      "text/plain": [
       "Training:   0%|          | 0/330 [00:00<?, ?it/s]"
      ]
     },
     "metadata": {},
     "output_type": "display_data"
    },
    {
     "data": {
      "application/vnd.jupyter.widget-view+json": {
       "model_id": "5cfbd68aba90480097c4661988df4145",
       "version_major": 2,
       "version_minor": 0
      },
      "text/plain": [
       "Validation:   0%|          | 0/180 [00:00<?, ?it/s]"
      ]
     },
     "metadata": {},
     "output_type": "display_data"
    },
    {
     "name": "stdout",
     "output_type": "stream",
     "text": [
      "val_losses 0.30963570508692\n",
      "EarlyStopping counter: 35 out of 50\n"
     ]
    },
    {
     "data": {
      "application/vnd.jupyter.widget-view+json": {
       "model_id": "e8ed5ad0a8ba4657a19617e4b3571a5a",
       "version_major": 2,
       "version_minor": 0
      },
      "text/plain": [
       "Training:   0%|          | 0/330 [00:00<?, ?it/s]"
      ]
     },
     "metadata": {},
     "output_type": "display_data"
    },
    {
     "data": {
      "application/vnd.jupyter.widget-view+json": {
       "model_id": "20892384a2a44018a6044a9181720127",
       "version_major": 2,
       "version_minor": 0
      },
      "text/plain": [
       "Validation:   0%|          | 0/180 [00:00<?, ?it/s]"
      ]
     },
     "metadata": {},
     "output_type": "display_data"
    },
    {
     "name": "stdout",
     "output_type": "stream",
     "text": [
      "val_losses 0.32997112203803325\n",
      "EarlyStopping counter: 36 out of 50\n"
     ]
    },
    {
     "data": {
      "application/vnd.jupyter.widget-view+json": {
       "model_id": "94077ca5d4a141eea2591edd903bd32c",
       "version_major": 2,
       "version_minor": 0
      },
      "text/plain": [
       "Training:   0%|          | 0/330 [00:00<?, ?it/s]"
      ]
     },
     "metadata": {},
     "output_type": "display_data"
    },
    {
     "data": {
      "application/vnd.jupyter.widget-view+json": {
       "model_id": "b1eec8e0fffe4f4e802aca627cd5c0e3",
       "version_major": 2,
       "version_minor": 0
      },
      "text/plain": [
       "Validation:   0%|          | 0/180 [00:00<?, ?it/s]"
      ]
     },
     "metadata": {},
     "output_type": "display_data"
    },
    {
     "name": "stdout",
     "output_type": "stream",
     "text": [
      "val_losses 0.3450646721654468\n",
      "EarlyStopping counter: 37 out of 50\n"
     ]
    },
    {
     "data": {
      "application/vnd.jupyter.widget-view+json": {
       "model_id": "9014e2acfcc543b79b53965196f29937",
       "version_major": 2,
       "version_minor": 0
      },
      "text/plain": [
       "Training:   0%|          | 0/330 [00:00<?, ?it/s]"
      ]
     },
     "metadata": {},
     "output_type": "display_data"
    },
    {
     "data": {
      "application/vnd.jupyter.widget-view+json": {
       "model_id": "1c001f5c74da46bda3e65adf0fab9ec7",
       "version_major": 2,
       "version_minor": 0
      },
      "text/plain": [
       "Validation:   0%|          | 0/180 [00:00<?, ?it/s]"
      ]
     },
     "metadata": {},
     "output_type": "display_data"
    },
    {
     "name": "stdout",
     "output_type": "stream",
     "text": [
      "val_losses 0.36272530597117214\n",
      "EarlyStopping counter: 38 out of 50\n"
     ]
    },
    {
     "data": {
      "application/vnd.jupyter.widget-view+json": {
       "model_id": "731bd54f69564de59505d26b9b68503d",
       "version_major": 2,
       "version_minor": 0
      },
      "text/plain": [
       "Training:   0%|          | 0/330 [00:00<?, ?it/s]"
      ]
     },
     "metadata": {},
     "output_type": "display_data"
    },
    {
     "data": {
      "application/vnd.jupyter.widget-view+json": {
       "model_id": "69e701d17abe487cbdbfde50b25408ec",
       "version_major": 2,
       "version_minor": 0
      },
      "text/plain": [
       "Validation:   0%|          | 0/180 [00:00<?, ?it/s]"
      ]
     },
     "metadata": {},
     "output_type": "display_data"
    },
    {
     "name": "stdout",
     "output_type": "stream",
     "text": [
      "val_losses 0.3744184885587957\n",
      "EarlyStopping counter: 39 out of 50\n"
     ]
    },
    {
     "data": {
      "application/vnd.jupyter.widget-view+json": {
       "model_id": "0e767f358b794581978e26867870b0e8",
       "version_major": 2,
       "version_minor": 0
      },
      "text/plain": [
       "Training:   0%|          | 0/330 [00:00<?, ?it/s]"
      ]
     },
     "metadata": {},
     "output_type": "display_data"
    },
    {
     "data": {
      "application/vnd.jupyter.widget-view+json": {
       "model_id": "82364098ce284b009f7110af3cf0d34c",
       "version_major": 2,
       "version_minor": 0
      },
      "text/plain": [
       "Validation:   0%|          | 0/180 [00:00<?, ?it/s]"
      ]
     },
     "metadata": {},
     "output_type": "display_data"
    },
    {
     "name": "stdout",
     "output_type": "stream",
     "text": [
      "val_losses 0.36856809192233614\n",
      "EarlyStopping counter: 40 out of 50\n"
     ]
    },
    {
     "data": {
      "application/vnd.jupyter.widget-view+json": {
       "model_id": "9b4786a05f3b47df82c6e2f7252416cb",
       "version_major": 2,
       "version_minor": 0
      },
      "text/plain": [
       "Training:   0%|          | 0/330 [00:00<?, ?it/s]"
      ]
     },
     "metadata": {},
     "output_type": "display_data"
    },
    {
     "data": {
      "application/vnd.jupyter.widget-view+json": {
       "model_id": "e8a8a8d1defb4c22bf8cc56bb13ed521",
       "version_major": 2,
       "version_minor": 0
      },
      "text/plain": [
       "Validation:   0%|          | 0/180 [00:00<?, ?it/s]"
      ]
     },
     "metadata": {},
     "output_type": "display_data"
    },
    {
     "name": "stdout",
     "output_type": "stream",
     "text": [
      "val_losses 0.3760047177473704\n",
      "EarlyStopping counter: 41 out of 50\n"
     ]
    },
    {
     "data": {
      "application/vnd.jupyter.widget-view+json": {
       "model_id": "0a5f408f442941c0b39dffc169f16648",
       "version_major": 2,
       "version_minor": 0
      },
      "text/plain": [
       "Training:   0%|          | 0/330 [00:00<?, ?it/s]"
      ]
     },
     "metadata": {},
     "output_type": "display_data"
    },
    {
     "data": {
      "application/vnd.jupyter.widget-view+json": {
       "model_id": "b33839b359ce4c0f8d6c436ba9bb1aab",
       "version_major": 2,
       "version_minor": 0
      },
      "text/plain": [
       "Validation:   0%|          | 0/180 [00:00<?, ?it/s]"
      ]
     },
     "metadata": {},
     "output_type": "display_data"
    },
    {
     "name": "stdout",
     "output_type": "stream",
     "text": [
      "val_losses 0.3681312068468995\n",
      "EarlyStopping counter: 42 out of 50\n"
     ]
    },
    {
     "data": {
      "application/vnd.jupyter.widget-view+json": {
       "model_id": "33227229937144efa873cce240669b45",
       "version_major": 2,
       "version_minor": 0
      },
      "text/plain": [
       "Training:   0%|          | 0/330 [00:00<?, ?it/s]"
      ]
     },
     "metadata": {},
     "output_type": "display_data"
    },
    {
     "data": {
      "application/vnd.jupyter.widget-view+json": {
       "model_id": "2347cf23e73a4c4b91bb7058e0b6685d",
       "version_major": 2,
       "version_minor": 0
      },
      "text/plain": [
       "Validation:   0%|          | 0/180 [00:00<?, ?it/s]"
      ]
     },
     "metadata": {},
     "output_type": "display_data"
    },
    {
     "name": "stdout",
     "output_type": "stream",
     "text": [
      "val_losses 0.3663824988736047\n",
      "EarlyStopping counter: 43 out of 50\n"
     ]
    },
    {
     "data": {
      "application/vnd.jupyter.widget-view+json": {
       "model_id": "6b1cff24634b44e9a3538e9b6b38119f",
       "version_major": 2,
       "version_minor": 0
      },
      "text/plain": [
       "Training:   0%|          | 0/330 [00:00<?, ?it/s]"
      ]
     },
     "metadata": {},
     "output_type": "display_data"
    },
    {
     "data": {
      "application/vnd.jupyter.widget-view+json": {
       "model_id": "5292bc6ba2424d2baddca74a0b3c832f",
       "version_major": 2,
       "version_minor": 0
      },
      "text/plain": [
       "Validation:   0%|          | 0/180 [00:00<?, ?it/s]"
      ]
     },
     "metadata": {},
     "output_type": "display_data"
    },
    {
     "name": "stdout",
     "output_type": "stream",
     "text": [
      "val_losses 0.36950483380092514\n",
      "EarlyStopping counter: 44 out of 50\n"
     ]
    },
    {
     "data": {
      "application/vnd.jupyter.widget-view+json": {
       "model_id": "790538348f8a4c9c960a91569df5dcb4",
       "version_major": 2,
       "version_minor": 0
      },
      "text/plain": [
       "Training:   0%|          | 0/330 [00:00<?, ?it/s]"
      ]
     },
     "metadata": {},
     "output_type": "display_data"
    },
    {
     "data": {
      "application/vnd.jupyter.widget-view+json": {
       "model_id": "86bd4a886ddb483f89a7391a1101b566",
       "version_major": 2,
       "version_minor": 0
      },
      "text/plain": [
       "Validation:   0%|          | 0/180 [00:00<?, ?it/s]"
      ]
     },
     "metadata": {},
     "output_type": "display_data"
    },
    {
     "name": "stdout",
     "output_type": "stream",
     "text": [
      "val_losses 0.37456131453315417\n",
      "EarlyStopping counter: 45 out of 50\n"
     ]
    },
    {
     "data": {
      "application/vnd.jupyter.widget-view+json": {
       "model_id": "ac9a88aa61b54ac9a7a984c1a32b23c1",
       "version_major": 2,
       "version_minor": 0
      },
      "text/plain": [
       "Training:   0%|          | 0/330 [00:00<?, ?it/s]"
      ]
     },
     "metadata": {},
     "output_type": "display_data"
    },
    {
     "data": {
      "application/vnd.jupyter.widget-view+json": {
       "model_id": "33e5d1b9875041358944a35082084725",
       "version_major": 2,
       "version_minor": 0
      },
      "text/plain": [
       "Validation:   0%|          | 0/180 [00:00<?, ?it/s]"
      ]
     },
     "metadata": {},
     "output_type": "display_data"
    },
    {
     "name": "stdout",
     "output_type": "stream",
     "text": [
      "val_losses 0.33633344214823513\n",
      "EarlyStopping counter: 46 out of 50\n"
     ]
    },
    {
     "data": {
      "application/vnd.jupyter.widget-view+json": {
       "model_id": "f0ec014a35114c769896dca1d551d2f4",
       "version_major": 2,
       "version_minor": 0
      },
      "text/plain": [
       "Training:   0%|          | 0/330 [00:00<?, ?it/s]"
      ]
     },
     "metadata": {},
     "output_type": "display_data"
    },
    {
     "data": {
      "application/vnd.jupyter.widget-view+json": {
       "model_id": "ede44c8654db4a4e88beb12f7369543a",
       "version_major": 2,
       "version_minor": 0
      },
      "text/plain": [
       "Validation:   0%|          | 0/180 [00:00<?, ?it/s]"
      ]
     },
     "metadata": {},
     "output_type": "display_data"
    },
    {
     "name": "stdout",
     "output_type": "stream",
     "text": [
      "val_losses 0.3603687254091104\n",
      "EarlyStopping counter: 47 out of 50\n"
     ]
    },
    {
     "data": {
      "application/vnd.jupyter.widget-view+json": {
       "model_id": "a14f5240d0fb4e068864668623a87a97",
       "version_major": 2,
       "version_minor": 0
      },
      "text/plain": [
       "Training:   0%|          | 0/330 [00:00<?, ?it/s]"
      ]
     },
     "metadata": {},
     "output_type": "display_data"
    },
    {
     "data": {
      "application/vnd.jupyter.widget-view+json": {
       "model_id": "d4612665032b4631b64b3ae4631117e8",
       "version_major": 2,
       "version_minor": 0
      },
      "text/plain": [
       "Validation:   0%|          | 0/180 [00:00<?, ?it/s]"
      ]
     },
     "metadata": {},
     "output_type": "display_data"
    },
    {
     "name": "stdout",
     "output_type": "stream",
     "text": [
      "val_losses 0.36314974567956393\n",
      "EarlyStopping counter: 48 out of 50\n"
     ]
    },
    {
     "data": {
      "application/vnd.jupyter.widget-view+json": {
       "model_id": "4168713a9c314903ae234277957ed4cf",
       "version_major": 2,
       "version_minor": 0
      },
      "text/plain": [
       "Training:   0%|          | 0/330 [00:00<?, ?it/s]"
      ]
     },
     "metadata": {},
     "output_type": "display_data"
    },
    {
     "data": {
      "application/vnd.jupyter.widget-view+json": {
       "model_id": "db36026ba74345989772c699505b11df",
       "version_major": 2,
       "version_minor": 0
      },
      "text/plain": [
       "Validation:   0%|          | 0/180 [00:00<?, ?it/s]"
      ]
     },
     "metadata": {},
     "output_type": "display_data"
    },
    {
     "name": "stdout",
     "output_type": "stream",
     "text": [
      "val_losses 0.3399873868458801\n",
      "EarlyStopping counter: 49 out of 50\n"
     ]
    },
    {
     "data": {
      "application/vnd.jupyter.widget-view+json": {
       "model_id": "5e2a58f0cb994f189cef0aca4a96330b",
       "version_major": 2,
       "version_minor": 0
      },
      "text/plain": [
       "Training:   0%|          | 0/330 [00:00<?, ?it/s]"
      ]
     },
     "metadata": {},
     "output_type": "display_data"
    },
    {
     "data": {
      "application/vnd.jupyter.widget-view+json": {
       "model_id": "5cfa448210464817870d8ac070d5a666",
       "version_major": 2,
       "version_minor": 0
      },
      "text/plain": [
       "Validation:   0%|          | 0/180 [00:00<?, ?it/s]"
      ]
     },
     "metadata": {},
     "output_type": "display_data"
    },
    {
     "name": "stdout",
     "output_type": "stream",
     "text": [
      "val_losses 0.32677925792005325\n",
      "EarlyStopping counter: 50 out of 50\n",
      "early stopping epoch: 95\n",
      "***************************\n",
      "modelname:model_fold_4.ptを保存しました\n",
      "*************************************Test*************************************\n",
      "in constructor inchannel: 45\n",
      "Input channel count3\n",
      "model_dir =  model/20250131-CyclicLRv4\n",
      "Creating image arrays...\n",
      "Number of label images: 11\n",
      "Completed creating image arrays:\n",
      "Dataset shape  (11, 256, 256, 45)\n",
      "Label image shape  (11, 256, 256)\n",
      "\n",
      "index =  0\n",
      "予測画像: /home/eric/Documents/cervicalResearchIIP/result_test/20250131-CyclicLRv4/fold4/N1-1.png\n",
      "テストラベル: /home/eric/Documents/cervicalResearchIIP/img_1006t/labeled/N1-1.png\n",
      "index =  1\n",
      "予測画像: /home/eric/Documents/cervicalResearchIIP/result_test/20250131-CyclicLRv4/fold4/N1-7.png\n",
      "テストラベル: /home/eric/Documents/cervicalResearchIIP/img_1006t/labeled/N1-7.png\n",
      "index =  2\n",
      "予測画像: /home/eric/Documents/cervicalResearchIIP/result_test/20250131-CyclicLRv4/fold4/N2-3.png\n",
      "テストラベル: /home/eric/Documents/cervicalResearchIIP/img_1006t/labeled/N2-3.png\n",
      "index =  3\n",
      "予測画像: /home/eric/Documents/cervicalResearchIIP/result_test/20250131-CyclicLRv4/fold4/N2-7.png\n",
      "テストラベル: /home/eric/Documents/cervicalResearchIIP/img_1006t/labeled/N2-7.png\n",
      "index =  4\n",
      "予測画像: /home/eric/Documents/cervicalResearchIIP/result_test/20250131-CyclicLRv4/fold4/N2-8.png\n",
      "テストラベル: /home/eric/Documents/cervicalResearchIIP/img_1006t/labeled/N2-8.png\n",
      "index =  5\n",
      "予測画像: /home/eric/Documents/cervicalResearchIIP/result_test/20250131-CyclicLRv4/fold4/N3-1.png\n",
      "テストラベル: /home/eric/Documents/cervicalResearchIIP/img_1006t/labeled/N3-1.png\n",
      "index =  6\n",
      "予測画像: /home/eric/Documents/cervicalResearchIIP/result_test/20250131-CyclicLRv4/fold4/N3-5.png\n",
      "テストラベル: /home/eric/Documents/cervicalResearchIIP/img_1006t/labeled/N3-5.png\n",
      "index =  7\n",
      "予測画像: /home/eric/Documents/cervicalResearchIIP/result_test/20250131-CyclicLRv4/fold4/N4-2.png\n",
      "テストラベル: /home/eric/Documents/cervicalResearchIIP/img_1006t/labeled/N4-2.png\n",
      "index =  8\n",
      "予測画像: /home/eric/Documents/cervicalResearchIIP/result_test/20250131-CyclicLRv4/fold4/N4-5.png\n",
      "テストラベル: /home/eric/Documents/cervicalResearchIIP/img_1006t/labeled/N4-5.png\n",
      "index =  9\n",
      "予測画像: /home/eric/Documents/cervicalResearchIIP/result_test/20250131-CyclicLRv4/fold4/N5-2.png\n",
      "テストラベル: /home/eric/Documents/cervicalResearchIIP/img_1006t/labeled/N5-2.png\n",
      "index =  10\n",
      "予測画像: /home/eric/Documents/cervicalResearchIIP/result_test/20250131-CyclicLRv4/fold4/N5-4.png\n",
      "テストラベル: /home/eric/Documents/cervicalResearchIIP/img_1006t/labeled/N5-4.png\n",
      "Count1 =  [640553, 11905, 7691, 7808, 6553, 7949, 7075, 9533, 6071, 10588, 5170]\n",
      "Count2 =  [644883, 11859, 7682, 8171, 5841, 7602, 6012, 7476, 5881, 9394, 6095]\n",
      "Count3 =  [633776, 10826, 6961, 7232, 5078, 6552, 4696, 6117, 3821, 6654, 3679]\n",
      "Dice =  [0.9860872108763097, 0.9111260730516748, 0.9056137383724712, 0.9051880593278678, 0.8194287558496046, 0.8426467751270015, 0.717658745319783, 0.7192662707978129, 0.6393908969210174, 0.6659993994595136, 0.653173546382601, 0.7779492260609348]\n"
     ]
    }
   ],
   "source": [
    "from dataArrange import dataRearrange1\n",
    "## Test Learn_EA without annealing\n",
    "# training transformations and augmentations\n",
    "transforms_training = ComposeDouble([\n",
    "    FunctionWrapperDouble(create_dense_target, input=False, target=True),\n",
    "    FunctionWrapperDouble(np.moveaxis, input=True, target=False, source=-1, destination=0),\n",
    "    FunctionWrapperDouble(normalize_01)\n",
    "])\n",
    "\n",
    "#追加箇所ver3\n",
    "transforms_val =  ComposeDouble([\n",
    "    FunctionWrapperDouble(create_dense_target, input=False, target=True),\n",
    "    FunctionWrapperDouble(np.moveaxis, input=True, target=False, source=-1, destination=0),\n",
    "    FunctionWrapperDouble(normalize_01)\n",
    "])\n",
    "# random seed\n",
    "random_seed = 0\n",
    "\n",
    "X = file_names_with_prefix(data_dir, 'N')\n",
    "\n",
    "y_file_names = file_names_with_prefix(labeled_dir, 'N')\n",
    "y = [label_group[:2] for label_group in y_file_names]\n",
    "\n",
    "X = np.array(X)\n",
    "y = np.array(y)\n",
    "\n",
    "print(X)\n",
    "print(y)\n",
    "\n",
    "if CROSS_VAL:\n",
    "    skf = StratifiedKFold(n_splits=N_SPLIT, shuffle=True)\n",
    "    # each case same division\n",
    "    #skf = StratifiedKFold(n_splits=N_SPLIT, shuffle=True, random_state=42)\n",
    "    for fold, (train_index, test_index) in enumerate(skf.split(X, y), 1):\n",
    "        # Split the data into train and test sets\n",
    "        X_train, X_test = X[train_index], X[test_index]\n",
    "        y_train, y_test = y[train_index], y[test_index]\n",
    "        \n",
    "        # Split the training data further into train and validation ( 1/3 split)\n",
    "        X_train_final, X_val, y_train_final, y_val = train_test_split(\n",
    "            X_train, y_train, test_size=0.333333333, random_state=42, stratify=y_train)\n",
    "        \n",
    "        \n",
    "        input_train = X_train_final\n",
    "        input_name_val = X_val\n",
    "        print(\"Cross validation: \" + str(CROSS_VAL))\n",
    "        print(f\"Fold: {fold} out of {N_SPLIT}\")\n",
    "        print(\"Augmentation: \" + str(AUGMENTED))\n",
    "        if AUGMENTED:\n",
    "            print(\"Augmentation amount: \" + str(AUGMENTATION))\n",
    "        print(\"Training: Total of \" + str(len(input_train)) + \" cases.\")\n",
    "        print(input_train)\n",
    "\n",
    "        print(\"Validation: Total of \" + str(len(input_name_val)) + \" cases.\")\n",
    "        print(input_name_val)\n",
    "        \n",
    "        print(\"Test: Total of \" + str(len(X_test)) + \" cases.\")  \n",
    "        print(X_test)\n",
    "        print()\n",
    "        \n",
    "        if AUGMENTED:\n",
    "            ## This part is for accounting the data augmentation, attaches augmentation numbers after the original img\n",
    "            ## ex: original number N1-1 -> N1-1-1, N1-1-2 etc.\n",
    "            repeated_items_train = np.repeat(input_train, AUGMENTATION)\n",
    "            suffixes_train = np.tile(np.arange(1, AUGMENTATION + 1), len(repeated_items_train))\n",
    "            input_train = np.array([f\"{item}-{suffix}\" for item, suffix in zip(repeated_items_train, suffixes_train)])\n",
    "            #Custom Arranging for training dataset because of the augmentation order\n",
    "            input_train = np.array(dataRearrange1(input_train, AUGMENTATION))\n",
    "            \n",
    "            \n",
    "            repeated_items_val = np.repeat(input_name_val, AUGMENTATION)\n",
    "            suffixes_val = np.tile(np.arange(1, AUGMENTATION + 1), len(repeated_items_val))\n",
    "            input_name_val = np.array([f\"{item}-{suffix}\" for item, suffix in zip(repeated_items_val, suffixes_val)])\n",
    "        \n",
    "        \n",
    "        input_dataset,label_dataset = CreateWeightImage(input_train, AUGMENTED)\n",
    "        input_dataset_val,label_dataset_val = CreateWeightImage(input_name_val, AUGMENTED)\n",
    "        \n",
    "        Learn_EA(input_dataset,label_dataset,input_dataset_val,label_dataset_val, 0, fold)\n",
    "        mConv_predict(X_test, fold)\n",
    "else:\n",
    "    X_train, X_test, y_train, y_test = train_test_split(X, y, test_size=0.25, stratify=y, random_state=42)\n",
    "    \n",
    "    X_train_final, X_val, y_train_final, y_val = train_test_split(\n",
    "            X_train, y_train, test_size=0.333333333, random_state=42, stratify=y_train)\n",
    "    \n",
    "    input_train = X_train_final\n",
    "    input_name_val = X_val\n",
    "    \n",
    "    print(\"Cross validation: \" + str(CROSS_VAL))\n",
    "    print(\"Augmentation: \" + str(AUGMENTED))\n",
    "    if AUGMENTED:\n",
    "        print(\"Augmentation amount: \" + str(AUGMENTATION))\n",
    "    print(\"Training: Total of \" + str(len(input_train)) + \" cases.\")\n",
    "    print(input_train)\n",
    "\n",
    "    print(\"Validation: Total of \" + str(len(input_name_val)) + \" cases.\")\n",
    "    print(input_name_val)\n",
    "        \n",
    "    print(\"Test: Total of \" + str(len(X_test)) + \" cases.\")  \n",
    "    print(X_test)\n",
    "    print()\n",
    "    \n",
    "    if AUGMENTED:\n",
    "        ## This part is for accounting the data augmentation, attaches augmentation numbers after the original img\n",
    "        ## ex: original number N1-1 -> N1-1-1, N1-1-2 etc.\n",
    "        repeated_items_train = np.repeat(input_train, AUGMENTATION)\n",
    "        suffixes_train = np.tile(np.arange(1, AUGMENTATION + 1), len(repeated_items_train))\n",
    "        input_train = np.array([f\"{item}-{suffix}\" for item, suffix in zip(repeated_items_train, suffixes_train)])\n",
    "        \n",
    "        #Custom Arranging for training dataset because of the augmentation order\n",
    "        input_train = np.array(dataRearrange1(input_train, AUGMENTATION))\n",
    "            \n",
    "            \n",
    "        repeated_items_val = np.repeat(input_name_val, AUGMENTATION)\n",
    "        suffixes_val = np.tile(np.arange(1, AUGMENTATION + 1), len(repeated_items_val))\n",
    "        input_name_val = np.array([f\"{item}-{suffix}\" for item, suffix in zip(repeated_items_val, suffixes_val)])\n",
    "    \n",
    "    input_dataset,label_dataset = CreateWeightImage(input_train, AUGMENTED)\n",
    "    input_dataset_val,label_dataset_val = CreateWeightImage(input_name_val, AUGMENTED)\n",
    "        \n",
    "    Learn_EA(input_dataset,label_dataset,input_dataset_val,label_dataset_val, 0)\n",
    "    mConv_predict(X_test)\n",
    "    \n",
    "    "
   ]
  },
  {
   "cell_type": "code",
   "execution_count": 21,
   "metadata": {},
   "outputs": [],
   "source": [
    "# # Dicecの計算\n",
    "# def cal_Dice(dir, input_name):\n",
    "#     # change the label count as your preference\n",
    "#     Dice = [0] * 2\n",
    "#     Count1 = [0] * 2 #予測結果の各ラベルの要素数\n",
    "#     Count2 = [0] * 2 #ラベル画像の\n",
    "#     Count3 = [0] * 2 #正解した画素数\n",
    "#     unique_label = set()\n",
    "#     for index in range(len(input_name)):\n",
    "#         print('index = ', index)\n",
    "\n",
    "#         img1 = cv2.imread(dir + '/' + input_name[index] + \".png\", cv2.IMREAD_GRAYSCALE)\n",
    "#         img2 = cv2.imread(labeled_dir + '/' + input_name[index] + \".png\", cv2.IMREAD_GRAYSCALE)\n",
    "#         #_, img2 = cv2.threshold(img2, 0, 255, cv2.THRESH_BINARY)\n",
    "#         print(\"予測画像:\", dir  + '/' + input_name[index] + \".png\")\n",
    "#         print(\"テストラベル:\", labeled_dir + '/' + input_name[index] + \".png\")\n",
    "        \n",
    "#         # change the image array size to your need\n",
    "#         for n in range(255):\n",
    "#             for l in range(255):\n",
    "#                 value = img1[n,l]\n",
    "#                 unique_label.add(value)\n",
    "#                 if value == 0:\n",
    "#                     Count1[0] += 1\n",
    "#                 else:\n",
    "#                     Count1[1] = Count1[1] + 1\n",
    "#                 # Count1[value] = Count1[value] + 1\n",
    "#                 value2 = img2[n,l]\n",
    "#                 if value2 == 0:\n",
    "#                     Count2[0] = Count2[0] + 1\n",
    "#                 else:\n",
    "#                     Count2[1] = Count2[1] + 1\n",
    "#                 # Count2[value2] = Count2[value2] + 1\n",
    "\n",
    "#                 if(img1[n][l] == img2[n][l]):\n",
    "#                     if value == 0:\n",
    "#                         Count3[0] = Count3[0] + 1\n",
    "#                     else:\n",
    "#                         Count3[1] = Count3[1] + 1\n",
    "#                     # Count3[value] = Count3[value] + 1\n",
    "\n",
    "\n",
    "#     for i in range(2):\n",
    "#         if(Count1[i]+Count2[i] != 0):\n",
    "#             Dice[i] = (2*Count3[i])/(Count1[i] + Count2[i])\n",
    "#     print('Count1 = ', Count1)\n",
    "#     print('Count2 = ', Count2)\n",
    "#     print('Count3 = ', Count3)\n",
    "#     print('Dice = ', Dice)\n",
    "#     #print(unique_label)\n",
    "\n",
    "#     return Dice\n"
   ]
  },
  {
   "cell_type": "code",
   "execution_count": 22,
   "metadata": {},
   "outputs": [],
   "source": [
    "#########\n",
    "### To plot the label images of the test dataset\n",
    "#########\n",
    "\n",
    "# input_name = test_input_name\n",
    "# label_img = []\n",
    "# for index in range(len(input_name)):\n",
    "#     imgLabel = cv2.imread(labeled_dir + '/' + input_name[index] + \".png\", cv2.IMREAD_GRAYSCALE)\n",
    "#     label_img.append(imgLabel)\n",
    "\n",
    "# plot_output_img = label_img\n"
   ]
  },
  {
   "cell_type": "code",
   "execution_count": 23,
   "metadata": {},
   "outputs": [],
   "source": [
    "# from plotImg import plot_images\n",
    "# def plot_label_image(plot_output_img):\n",
    "#      plot_img = []\n",
    "#      for output_img in plot_output_img:\n",
    "#           labels = np.unique(output_img)\n",
    "#           image = np.ones((255, 255, 3), dtype=np.uint8) * 0\n",
    "#           for x in range(255):\n",
    "#                for y in range(255):\n",
    "#                     # Get the pixel value (brightness)\n",
    "#                     pixel = output_img[x][y]\n",
    "#                     #  print(type(output_img))\n",
    "#                     if pixel == labels[0]:\n",
    "#                          image[x, y] = [0,0,0]\n",
    "#                     elif pixel == labels[1]:\n",
    "#                          image[x, y] = [2, 247, 68]\n",
    "#                     elif pixel == labels[2]:\n",
    "#                          image[x, y] = [255, 0, 38]\n",
    "#                     elif pixel == labels[3]:\n",
    "#                          image[x, y] = [234, 5, 250]\n",
    "#                     elif pixel == labels[4]:\n",
    "#                          image[x, y] = [21, 0, 255]\n",
    "#                     elif pixel == labels[5]:\n",
    "#                          image[x, y] = [0, 220, 245]\n",
    "#                     elif pixel == labels[6]:\n",
    "#                          image[x, y] = [205, 240, 7]\n",
    "#                     elif pixel == labels[7]:\n",
    "#                          image[x, y] = [255, 98, 0]\n",
    "#                     elif pixel == labels[8]:\n",
    "#                          image[x, y] = [0, 174, 255]\n",
    "#                     elif pixel == labels[9]:\n",
    "#                          image[x, y] = [255, 0, 174]\n",
    "#                     elif pixel == labels[10]:\n",
    "#                          image[x, y] = [198, 119, 74]\n",
    "#                     else:\n",
    "#                          print(\"There are more labels!\")\n",
    "#           plot_img.append(image)\n",
    "#      plot_images(test_result_dir, plot_img)\n",
    "\n"
   ]
  },
  {
   "cell_type": "code",
   "execution_count": 24,
   "metadata": {},
   "outputs": [],
   "source": [
    "# plot_label_image(plot_output_img)"
   ]
  },
  {
   "cell_type": "code",
   "execution_count": 25,
   "metadata": {},
   "outputs": [],
   "source": [
    "# import csv\n",
    "# path = test_result_dir\n",
    "# filename = 'featureCombination.csv'\n",
    "# full_path = os.path.join(path, filename)\n",
    "# with open(full_path, 'w', newline='') as csvfile:\n",
    "#     writer = csv.writer(csvfile)\n",
    "#     # Write a single row containing the string\n",
    "#     writer.writerow([inputfeature_list])\n"
   ]
  },
  {
   "cell_type": "code",
   "execution_count": 26,
   "metadata": {},
   "outputs": [],
   "source": [
    "## use the part when trying to read already trained model's results from dir\n",
    "\n",
    "# result_test_path = '/home/eric/Documents/cervicalResearchIIP/result_test/20241024-Conv1x1-666'\n",
    "# images_label_gray = []\n",
    "# crf_file_names = []\n",
    "\n",
    "# for filename in os.listdir(result_test_path):\n",
    "#     # Check if the file is a PNG image\n",
    "#     if filename.endswith('.png'):\n",
    "#         if filename.startswith(\"oN\"):\n",
    "#             # Construct the full file path\n",
    "#             print(filename)\n",
    "#             crf_file_names.append(filename)\n",
    "#             file_path = os.path.join(result_test_path, filename)\n",
    "#             # Read the image using OpenCV\n",
    "#             img = cv2.imread(file_path)\n",
    "#             if img is not None:\n",
    "#                 #images.append(img) color\n",
    "#                 img_gray = cv2.cvtColor(img, cv2.COLOR_BGR2GRAY)\n",
    "#                 images_label_gray.append(img_gray)  # Append the grayscale image\n",
    "#             else:\n",
    "#                 print(f\"Failed to read image: {file_path}\")\n",
    "\n",
    "# # Now `images` contains all the loaded PNG images\n",
    "# print(f\"Loaded {len(images_label_gray)} images.\")\n",
    "\n",
    "# if images_label_gray:\n",
    "#     print(f\"Shape of the first image: {images_label_gray[0].shape}\")  # This will show the dimensions of the image\n",
    "# print(np.unique(images_label_gray))\n",
    "\n",
    "# plot_label_image(images_label_gray)"
   ]
  },
  {
   "cell_type": "code",
   "execution_count": 27,
   "metadata": {},
   "outputs": [],
   "source": [
    "# import pydensecrf.densecrf as dcrf\n",
    "# from pydensecrf.utils import unary_from_labels, create_pairwise_gaussian\n",
    "\n",
    "## use this part when using crf on already trained model with results\n",
    "## in other words, the unet output images are in \"output_img\" variable\n",
    "\n",
    "# images_label_gray = plot_output_img\n",
    "## implementations regarding crf file names when using already trained model\n",
    "##...\n",
    "\n",
    "\n",
    "# # Segmentation output from U-Net (predicted image)\n",
    "# images_label_gray = np.array(images_label_gray)\n",
    "# #labels = images_label_gray[5]\n",
    "# refined_labels = []\n",
    "# for image_label_gray in images_label_gray:\n",
    "#     print(image_label_gray.shape)\n",
    "\n",
    "\n",
    "\n",
    "#     H, W = image_label_gray.shape\n",
    "#     image_label_gray = image_label_gray.flatten()\n",
    "\n",
    "#     print(np.unique(image_label_gray))\n",
    "\n",
    "#     invalid_indices = np.where((image_label_gray < 0) | (image_label_gray > 10))\n",
    "\n",
    "#     # Check if there are any invalid indices\n",
    "#     if invalid_indices[0].size > 0:\n",
    "#         print(\"Invalid label indices:\", invalid_indices[0])  # Print the flat indices of invalid labels\n",
    "#         print(\"Invalid label values:\", image_label_gray[invalid_indices])  # Print the invalid label values\n",
    "#     else:\n",
    "#         print(\"All labels are within the valid range (0 to 10).\")\n",
    "\n",
    "\n",
    "#     # Create a dense CRF model\n",
    "#     num_classes = 11  # 0 to 10, so 11 classes\n",
    "#     d = dcrf.DenseCRF2D(W, H, num_classes)  # (width, height, num_classes)\n",
    "\n",
    "#     # Create unary potentials\n",
    "#     unary = unary_from_labels(image_label_gray, n_labels = num_classes, gt_prob=0.7, zero_unsure = False)\n",
    "#     d.setUnaryEnergy(unary)\n",
    "\n",
    "#     # Add pairwise terms (spatial & appearance smoothness)\n",
    "#     d.addPairwiseGaussian(sxy=3, compat=10)\n",
    "\n",
    "#     # Inference\n",
    "#     Q = d.inference(5)  # Perform 5 CRF iterations\n",
    "\n",
    "#     # Convert Q into a label image\n",
    "#     refined_label = np.argmax(Q, axis=0)  # Most probable class for each pixel\n",
    "\n",
    "#     # Reshape back to the original image shape\n",
    "#     refined_label = refined_label.reshape((H, W))\n",
    "#     refined_labels.append(np.array(refined_label))\n",
    "\n",
    "\n",
    "# preCRF = images_label_gray\n",
    "# postCRF = refined_labels\n",
    "\n",
    "\n",
    "# plot_label_image(preCRF)\n",
    "# plot_label_image(postCRF)"
   ]
  },
  {
   "cell_type": "code",
   "execution_count": 28,
   "metadata": {},
   "outputs": [],
   "source": [
    "# #crftestdir = str(root_dir / \"result_test\"  / \"abstractresult\" / \"thorough\" / \"unetpure\" / date_str / str(OUTPUT_DIR) / \"crf/\" )\n",
    "# crftestdir = str(root_dir / \"result_test\"  / \"abstractresult\" / \"thorough\" / \"unetconvmultip\" / \"20241029-Conv1x1-26\")\n",
    "# print(crftestdir)\n",
    "# import numpy as np\n",
    "# from PIL import Image\n",
    "\n",
    "# # # Assuming 'refined_labels' is your NumPy array with shape (H, W)\n",
    "# # # Convert the array to uint8 type if necessary\n",
    "# # for index, refined_label in enumerate(refined_labels):\n",
    "# #     refined_label_uint8 = refined_label.astype(np.uint8)\n",
    "# #     # Create a PIL image from the NumPy array\n",
    "# #     image = Image.fromarray(refined_label_uint8)\n",
    "# #     # Save the crf refined images to the specified crf folder    \n",
    "# #     image.save(crftestdir + \"/\" + crf_file_names[index]) "
   ]
  },
  {
   "cell_type": "code",
   "execution_count": 29,
   "metadata": {},
   "outputs": [],
   "source": [
    "\n",
    "# crf_test_imgs_name = []\n",
    "\n",
    "# crf_test_imgs_name.append('oN2-4')\n",
    "    \n",
    "# #for crf_test_pre in TEST:\n",
    "# #     crf_test_imgs_name.extend(file_names_with_prefix(crftestdir, crf_test_pre))\n",
    "\n",
    "# print(crf_test_imgs_name)\n",
    "\n",
    "# Dice = cal_DiceMulitple(crftestdir, crf_test_imgs_name)\n",
    "# df = pd.DataFrame(Dice)\n",
    "# df = df.T\n",
    "\n",
    "\n",
    "# #df.to_csv(test_result_dir + \"/Dice.csv\", mode='a', header=False) # Diceの結果をcsvに追加\n"
   ]
  }
 ],
 "metadata": {
  "kernelspec": {
   "display_name": "altenv",
   "language": "python",
   "name": "python3"
  },
  "language_info": {
   "codemirror_mode": {
    "name": "ipython",
    "version": 3
   },
   "file_extension": ".py",
   "mimetype": "text/x-python",
   "name": "python",
   "nbconvert_exporter": "python",
   "pygments_lexer": "ipython3",
   "version": "3.11.9"
  }
 },
 "nbformat": 4,
 "nbformat_minor": 2
}
