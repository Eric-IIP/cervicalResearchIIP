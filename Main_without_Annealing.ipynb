{
 "cells": [
  {
   "cell_type": "code",
   "execution_count": 1,
   "metadata": {},
   "outputs": [
    {
     "name": "stderr",
     "output_type": "stream",
     "text": [
      "2024-10-29 12:52:18.427784: I tensorflow/core/platform/cpu_feature_guard.cc:210] This TensorFlow binary is optimized to use available CPU instructions in performance-critical operations.\n",
      "To enable the following instructions: AVX2 FMA, in other operations, rebuild TensorFlow with the appropriate compiler flags.\n",
      "2024-10-29 12:52:19.112570: W tensorflow/compiler/tf2tensorrt/utils/py_utils.cc:38] TF-TRT Warning: Could not find TensorRT\n"
     ]
    }
   ],
   "source": [
    "from numpy.core.numeric import NaN\n",
    "from MCtool.RFilter import gray\n",
    "from genericpath import exists\n",
    "from matplotlib import image\n",
    "import math\n",
    "import sys\n",
    "import time\n",
    "\n",
    "import cv2\n",
    "from matplotlib import pyplot as plt\n",
    "from tensorflow.python.keras.backend import dtype\n",
    "from DeepLearning import LearnAndTest\n",
    "from Rpkg.Rfund.InputFeature import InputFeature\n",
    "import datetime\n",
    "import os\n",
    "import gc\n",
    "import tensorflow as tf\n",
    "import random\n",
    "import numpy as np\n",
    "import pandas as pd\n",
    "\n",
    "from Rpkg.Rfund import ReadFile, WriteFile\n",
    "from Rpkg.Rmodel import Unet, Mnet\n",
    "\n",
    "import Filtering\n",
    "\n",
    "import torch\n",
    "from torch import nn\n",
    "\n",
    "\n",
    "import DeepLearning\n",
    "from tensorflow.keras.optimizers import Adam\n",
    "\n",
    "from Rpkg.Rfund.InputFeature import InputFeature\n",
    "from Rpkg.Rfund import ReadFile, WriteFile\n",
    "from Rpkg.Rmodel import Unet, Mnet\n",
    "\n",
    "from MCtool import RFilter, resultEval\n",
    "from DeepLearning import save_eval_result\n",
    "\n",
    "import numpy as np\n",
    "import cv2\n",
    "import torch\n",
    "from transformations import ComposeDouble, FunctionWrapperDouble, create_dense_target, normalize_01\n",
    "from customdatasets import SegmentationDataSet1\n",
    "from torch.utils.data import DataLoader\n",
    "from sklearn.model_selection import train_test_split\n",
    "import pathlib\n",
    "from skimage.transform import resize\n",
    "\n",
    "#early stopping なし\n",
    "from unet import UNet\n",
    "from trainer import Trainer\n",
    "\n",
    "\n"
   ]
  },
  {
   "cell_type": "code",
   "execution_count": 2,
   "metadata": {},
   "outputs": [],
   "source": [
    "# Make sure there is no randomness in the output so that the output is reproduceable\n",
    "import torch\n",
    "import numpy as np\n",
    "import random\n",
    "\n",
    "# Set seed for Python random module\n",
    "random.seed(42)\n",
    "\n",
    "# Set seed for NumPy\n",
    "np.random.seed(42)\n",
    "\n",
    "# Set seed for PyTorch\n",
    "torch.manual_seed(42)\n",
    "\n",
    "# If you are using GPU\n",
    "torch.cuda.manual_seed(42)\n",
    "torch.cuda.manual_seed_all(42)\n",
    "\n",
    "# Make the convolution operations deterministic\n",
    "torch.backends.cudnn.deterministic = True\n",
    "\n",
    "# Disable the CUDNN benchmark to ensure deterministic results\n",
    "torch.backends.cudnn.benchmark = False\n"
   ]
  },
  {
   "cell_type": "code",
   "execution_count": 3,
   "metadata": {
    "tags": [
     "parameters"
    ]
   },
   "outputs": [
    {
     "name": "stdout",
     "output_type": "stream",
     "text": [
      "Test dataset:\n",
      "['oN4']\n"
     ]
    }
   ],
   "source": [
    "N_BLOCK = 4\n",
    "LR = 0.01\n",
    "OUTPUT_DIR = 666\n",
    "\n",
    "# after the 4 divided conv1x1 108/4 = 27\n",
    "IN_CHANNEL = 45\n",
    "\n",
    "# AUGMENTATION  =  10\n",
    "\n",
    "\n",
    "# def random_test_choose(test_data):\n",
    "#     for i in range(len(test_data)):\n",
    "#         test_data[i] +=  '-' + str(random.randint(1, AUGMENTATION)) + '.'\n",
    "#     return test_data\n",
    "\n",
    "\n",
    "\n",
    "# INPUT = ['N1', 'N2']\n",
    "# VALIDATION = [ 'N3']\n",
    "\n",
    "\n",
    "INPUT = ['N1', 'N2']\n",
    "VALIDATION = [ 'N3']\n",
    "ANNEALING = []\n",
    "\n",
    "# on data aug\n",
    "#TEST = ['oN4']\n",
    "\n",
    "# on original dataset\n",
    "TEST = ['oN4']\n",
    "\n",
    "# Randomly chooses one image from the test augmented image to ensure uniqueness and integrity of the test dataset\n",
    "# For example if the augmentaion scale is 10x, it means there are 10 aug images from single original image\n",
    "# Since we cant include all the image to the testing because the original one image is used 10 times\n",
    "# So random one image is chosen from the aug 10x imgs\n",
    "#TEST = ['N4-1', 'N4-2', 'N4-3', 'N4-4', 'N4-5', 'N4-6', 'N4-7', 'N4-8', 'N4-9']\n",
    "#TEST = random_test_choose(TEST)\n",
    "\n",
    "\n",
    "\n",
    "\n",
    "print('Test dataset:')\n",
    "print(TEST)"
   ]
  },
  {
   "cell_type": "code",
   "execution_count": 4,
   "metadata": {},
   "outputs": [
    {
     "name": "stdout",
     "output_type": "stream",
     "text": [
      "PyTorch Version installed: 2.3.0+cu121\n",
      "CUDA version associated with PyTorch version: 12.1\n",
      "Version of cuDNN (CUDA Deep Neural Network library) being used by PyTorch8902\n",
      "CUDA is available: True\n",
      "Number of GPUs compatible with CUDA:1\n",
      "Name of the GPU at index 0: NVIDIA GeForce RTX 2080 Ti\n",
      "Current CUDA device index: 0\n"
     ]
    }
   ],
   "source": [
    "# 自分の環境設定がうまくいったかどうかを確認しましょう、特にGPUの動作\n",
    "# Prints the version of PyTorch installed\n",
    "print('PyTorch Version installed: ' + torch.__version__)\n",
    "\n",
    "# Prints the version of CUDA associated with the installed PyTorch version\n",
    "print('CUDA version associated with PyTorch version: ' + torch.version.cuda)\n",
    "\n",
    "# Prints the version of cuDNN (CUDA Deep Neural Network library) being used by PyTorch\n",
    "print('Version of cuDNN (CUDA Deep Neural Network library) being used by PyTorch' + str(torch.backends.cudnn.version()))\n",
    "\n",
    "# Same as the line above\n",
    "print('CUDA is available: ' + str(torch.cuda.is_available()))\n",
    "\n",
    "# Returns the number of available CUDA-enabled GPUs\n",
    "print('Number of GPUs compatible with CUDA:' + str(torch.cuda.device_count()))\n",
    "\n",
    "# Returns the name of the GPU at index 0\n",
    "print('Name of the GPU at index 0: '  + str(torch.cuda.get_device_name(0)))\n",
    "\n",
    "# Returns the index of the current CUDA device being used\n",
    "print('Current CUDA device index: '  + str(torch.cuda.current_device()))\n"
   ]
  },
  {
   "cell_type": "code",
   "execution_count": 5,
   "metadata": {},
   "outputs": [],
   "source": [
    "# ファイル名の先頭部分（prefix）により自動的にファイル名を抽出するアルゴリズム。\n",
    "# 実際それぞれのファイル名は違うと思うので、必須ではない\n",
    "\n",
    "\"\"\" \n",
    "\n",
    "Extracts filenames in directory if they start with the prefix input \n",
    "\n",
    "\n",
    "Args/Parameters:\n",
    "\n",
    "    directory_path (string): The path of the dir (ex: /root/home/Documents/etc)\n",
    "    \n",
    "    prefix (string): Prefix of the file name (ex: 'Bo' is a prefix of 'Bone')\n",
    "\n",
    "Returns:\n",
    "\n",
    "    sorted_file_names (list of str): File names sorted in ascending order in the dir without extension ex: ['bone1', 'bone2', ...]\n",
    "\n",
    "Raises:\n",
    "\n",
    "    SomeError: ...\n",
    "\n",
    "\"\"\"\n",
    "\n",
    "def file_names_with_prefix(directory_path, prefix):\n",
    "\n",
    "    # Initialize an empty list to store the file names without extensions\n",
    "    file_names_without_extension = []\n",
    "\n",
    "    # Loop through all files in the specified directory\n",
    "    for filename in os.listdir(directory_path):\n",
    "        #Checking if the file in loop exists in the directory_path not sure how is this necessary\n",
    "        #??\n",
    "        if os.path.isfile(os.path.join(directory_path, filename)):\n",
    "            # Check if the file name starts with the specified prefix\n",
    "            if filename.startswith(prefix):\n",
    "                # Get the file name without extension\n",
    "                name_without_extension, _ = os.path.splitext(filename)\n",
    "\n",
    "                # Append the file name (without extension) to the list\n",
    "                file_names_without_extension.append(name_without_extension)\n",
    "\n",
    "    # Sort the list of file names without extensions in ascending order\n",
    "    sorted_file_names = sorted(\n",
    "        file_names_without_extension,\n",
    "        key=lambda x: (x.split('-')[0], int(x.split('-')[1]))\n",
    "    )  # Modify this part based on your file naming convention\n",
    "\n",
    "    # Now you have a sorted list of file names with the specified prefix and without extensions\n",
    "    return sorted_file_names\n"
   ]
  },
  {
   "cell_type": "code",
   "execution_count": 6,
   "metadata": {},
   "outputs": [],
   "source": [
    "# #############################\n",
    "# ###bugged/ doesnt read by order\n",
    "# ###Custom Function renames all files in format N1-...\n",
    "# ###Only need to run it one time\n",
    "# #############################\n",
    "\n",
    "# import os\n",
    "# from PIL import Image\n",
    "\n",
    "# def rename_images(directory):\n",
    "#     # Get a list of all files in the directory\n",
    "#     files = os.listdir(directory)\n",
    "    \n",
    "#     # Filter out only the image files\n",
    "#     image_files = [file for file in files if file.lower().endswith(('.png', '.jpg', '.jpeg', '.gif', '.bmp'))]\n",
    "    \n",
    "#     # Sort the image files to ensure consistent naming\n",
    "#     image_files.sort()\n",
    "    \n",
    "#     # Initialize counter\n",
    "#     counter = 1\n",
    "    \n",
    "#     # Iterate through the image files\n",
    "#     for filename in image_files:\n",
    "#         # Open the image\n",
    "#         image_path = os.path.join(directory, filename)\n",
    "#         with Image.open(image_path) as img:\n",
    "#             # Rename the image file\n",
    "#             new_filename = f\"N1-{counter}\" + os.path.splitext(filename)[1]\n",
    "#             new_image_path = os.path.join(directory, new_filename)\n",
    "            \n",
    "#             # Save the image with the new name\n",
    "#             img.save(new_image_path)\n",
    "        \n",
    "#         # Increment the counter\n",
    "#         counter += 1\n",
    "\n",
    "# # Specify the directory containing the images\n",
    "# directory_path = \"/home/eric/Downloads/imgNaming/processing\"\n",
    "\n",
    "# # Call the function to rename the images\n",
    "# rename_images(directory_path)\n"
   ]
  },
  {
   "cell_type": "code",
   "execution_count": 7,
   "metadata": {},
   "outputs": [
    {
     "name": "stdout",
     "output_type": "stream",
     "text": [
      "Root directory: /home/eric/Documents/cervicalResearchIIP\n",
      "Data directory (original dir): /home/eric/Documents/cervicalResearchIIP/img_1006t/originalTest\n",
      "Feature img directory: /home/eric/Documents/cervicalResearchIIP/img_1006t/testFeature\n",
      "Labeled img directory: /home/eric/Documents/cervicalResearchIIP/img_1006t/testLabel\n",
      "Annealing directory: /home/eric/Documents/cervicalResearchIIP/img_1006/original\n",
      "Result directory: /home/eric/Documents/cervicalResearchIIP/result/20241029-Conv1x1-666\n",
      "Test result directory: /home/eric/Documents/cervicalResearchIIP/result_test/20241029-Conv1x1-666\n",
      "['N1-1-2', 'N1-1-15', 'N1-1-18', 'N1-1-10', 'N1-1-27', 'N1-1-6', 'N1-1-28', 'N1-1-14', 'N1-1-7', 'N1-1-11', 'N1-1-5', 'N1-1-22', 'N1-1-17', 'N1-1-21', 'N1-1-8', 'N1-1-24', 'N1-1-26', 'N1-1-23', 'N1-1-12', 'N1-1-30', 'N1-1-4', 'N1-1-25', 'N1-1-3', 'N1-1-16', 'N1-1-20', 'N1-1-9', 'N1-1-1', 'N1-1-29', 'N1-1-13', 'N1-1-19', 'N1-2-4', 'N1-2-6', 'N1-2-21', 'N1-2-7', 'N1-2-17', 'N1-2-8', 'N1-2-18', 'N1-2-10', 'N1-2-30', 'N1-2-15', 'N1-2-5', 'N1-2-16', 'N1-2-28', 'N1-2-12', 'N1-2-2', 'N1-2-27', 'N1-2-19', 'N1-2-26', 'N1-2-13', 'N1-2-9', 'N1-2-22', 'N1-2-20', 'N1-2-14', 'N1-2-29', 'N1-2-11', 'N1-2-24', 'N1-2-3', 'N1-2-23', 'N1-2-25', 'N1-2-1', 'N1-3-16', 'N1-3-18', 'N1-3-10', 'N1-3-6', 'N1-3-14', 'N1-3-19', 'N1-3-5', 'N1-3-9', 'N1-3-4', 'N1-3-30', 'N1-3-12', 'N1-3-23', 'N1-3-7', 'N1-3-2', 'N1-3-1', 'N1-3-24', 'N1-3-27', 'N1-3-28', 'N1-3-11', 'N1-3-3', 'N1-3-20', 'N1-3-29', 'N1-3-13', 'N1-3-22', 'N1-3-8', 'N1-3-25', 'N1-3-17', 'N1-3-15', 'N1-3-26', 'N1-3-21', 'N1-4-19', 'N1-4-30', 'N1-4-24', 'N1-4-26', 'N1-4-12', 'N1-4-18', 'N1-4-8', 'N1-4-22', 'N1-4-3', 'N1-4-9', 'N1-4-21', 'N1-4-14', 'N1-4-17', 'N1-4-16', 'N1-4-15', 'N1-4-10', 'N1-4-7', 'N1-4-25', 'N1-4-6', 'N1-4-23', 'N1-4-27', 'N1-4-4', 'N1-4-11', 'N1-4-2', 'N1-4-1', 'N1-4-28', 'N1-4-13', 'N1-4-5', 'N1-4-20', 'N1-4-29', 'N1-5-24', 'N1-5-19', 'N1-5-15', 'N1-5-3', 'N1-5-30', 'N1-5-2', 'N1-5-4', 'N1-5-21', 'N1-5-8', 'N1-5-7', 'N1-5-11', 'N1-5-28', 'N1-5-5', 'N1-5-23', 'N1-5-12', 'N1-5-17', 'N1-5-1', 'N1-5-6', 'N1-5-29', 'N1-5-13', 'N1-5-14', 'N1-5-25', 'N1-5-22', 'N1-5-26', 'N1-5-9', 'N1-5-18', 'N1-5-20', 'N1-5-27', 'N1-5-10', 'N1-5-16', 'N1-6-9', 'N1-6-28', 'N1-6-3', 'N1-6-10', 'N1-6-30', 'N1-6-5', 'N1-6-24', 'N1-6-20', 'N1-6-1', 'N1-6-18', 'N1-6-27', 'N1-6-17', 'N1-6-13', 'N1-6-23', 'N1-6-26', 'N1-6-21', 'N1-6-19', 'N1-6-7', 'N1-6-14', 'N1-6-6', 'N1-6-12', 'N1-6-25', 'N1-6-4', 'N1-6-16', 'N1-6-22', 'N1-6-2', 'N1-6-11', 'N1-6-29', 'N1-6-15', 'N1-6-8', 'N1-7-5', 'N1-7-6', 'N1-7-21', 'N1-7-25', 'N1-7-26', 'N1-7-23', 'N1-7-15', 'N1-7-27', 'N1-7-2', 'N1-7-24', 'N1-7-8', 'N1-7-13', 'N1-7-22', 'N1-7-7', 'N1-7-12', 'N1-7-14', 'N1-7-11', 'N1-7-29', 'N1-7-9', 'N1-7-18', 'N1-7-19', 'N1-7-16', 'N1-7-4', 'N1-7-1', 'N1-7-20', 'N1-7-30', 'N1-7-28', 'N1-7-3', 'N1-7-17', 'N1-7-10', 'N1-8-2', 'N1-8-15', 'N1-8-17', 'N1-8-25', 'N1-8-13', 'N1-8-29', 'N1-8-8', 'N1-8-28', 'N1-8-9', 'N1-8-16', 'N1-8-5', 'N1-8-6', 'N1-8-23', 'N1-8-19', 'N1-8-10', 'N1-8-12', 'N1-8-3', 'N1-8-11', 'N1-8-7', 'N1-8-18', 'N1-8-24', 'N1-8-22', 'N1-8-30', 'N1-8-1', 'N1-8-14', 'N1-8-4', 'N1-8-27', 'N1-8-26', 'N1-8-21', 'N1-8-20', 'N1-9-17', 'N1-9-23', 'N1-9-8', 'N1-9-18', 'N1-9-22', 'N1-9-29', 'N1-9-3', 'N1-9-28', 'N1-9-30', 'N1-9-1', 'N1-9-21', 'N1-9-11', 'N1-9-19', 'N1-9-27', 'N1-9-4', 'N1-9-6', 'N1-9-25', 'N1-9-20', 'N1-9-14', 'N1-9-24', 'N1-9-16', 'N1-9-2', 'N1-9-9', 'N1-9-15', 'N1-9-10', 'N1-9-12', 'N1-9-7', 'N1-9-26', 'N1-9-13', 'N1-9-5', 'N1-10-22', 'N1-10-14', 'N1-10-29', 'N1-10-19', 'N1-10-16', 'N1-10-18', 'N1-10-4', 'N1-10-6', 'N1-10-3', 'N1-10-24', 'N1-10-21', 'N1-10-30', 'N1-10-9', 'N1-10-27', 'N1-10-15', 'N1-10-7', 'N1-10-2', 'N1-10-8', 'N1-10-25', 'N1-10-10', 'N1-10-13', 'N1-10-5', 'N1-10-26', 'N1-10-28', 'N1-10-12', 'N1-10-17', 'N1-10-1', 'N1-10-11', 'N1-10-23', 'N1-10-20', 'N2-1-6', 'N2-1-2', 'N2-1-1', 'N2-1-14', 'N2-1-4', 'N2-1-18', 'N2-1-5', 'N2-1-24', 'N2-1-19', 'N2-1-26', 'N2-1-7', 'N2-1-13', 'N2-1-10', 'N2-1-9', 'N2-1-25', 'N2-1-3', 'N2-1-29', 'N2-1-27', 'N2-1-20', 'N2-1-11', 'N2-1-21', 'N2-1-12', 'N2-1-8', 'N2-1-22', 'N2-1-17', 'N2-1-16', 'N2-1-30', 'N2-1-23', 'N2-1-28', 'N2-1-15', 'N2-2-5', 'N2-2-3', 'N2-2-17', 'N2-2-11', 'N2-2-13', 'N2-2-8', 'N2-2-16', 'N2-2-25', 'N2-2-18', 'N2-2-26', 'N2-2-22', 'N2-2-4', 'N2-2-10', 'N2-2-6', 'N2-2-15', 'N2-2-27', 'N2-2-30', 'N2-2-1', 'N2-2-28', 'N2-2-7', 'N2-2-23', 'N2-2-24', 'N2-2-9', 'N2-2-2', 'N2-2-29', 'N2-2-21', 'N2-2-19', 'N2-2-12', 'N2-2-14', 'N2-2-20', 'N2-3-2', 'N2-3-22', 'N2-3-24', 'N2-3-25', 'N2-3-26', 'N2-3-28', 'N2-3-19', 'N2-3-5', 'N2-3-10', 'N2-3-8', 'N2-3-6', 'N2-3-12', 'N2-3-23', 'N2-3-9', 'N2-3-14', 'N2-3-18', 'N2-3-3', 'N2-3-7', 'N2-3-17', 'N2-3-16', 'N2-3-15', 'N2-3-29', 'N2-3-11', 'N2-3-20', 'N2-3-27', 'N2-3-30', 'N2-3-21', 'N2-3-13', 'N2-3-4', 'N2-3-1', 'N2-4-29', 'N2-4-15', 'N2-4-30', 'N2-4-7', 'N2-4-6', 'N2-4-10', 'N2-4-22', 'N2-4-16', 'N2-4-23', 'N2-4-2', 'N2-4-4', 'N2-4-12', 'N2-4-8', 'N2-4-1', 'N2-4-28', 'N2-4-9', 'N2-4-19', 'N2-4-17', 'N2-4-24', 'N2-4-11', 'N2-4-21', 'N2-4-26', 'N2-4-13', 'N2-4-5', 'N2-4-20', 'N2-4-3', 'N2-4-25', 'N2-4-27', 'N2-4-14', 'N2-4-18', 'N2-5-22', 'N2-5-20', 'N2-5-21', 'N2-5-7', 'N2-5-15', 'N2-5-26', 'N2-5-12', 'N2-5-4', 'N2-5-24', 'N2-5-5', 'N2-5-1', 'N2-5-10', 'N2-5-30', 'N2-5-18', 'N2-5-8', 'N2-5-11', 'N2-5-25', 'N2-5-28', 'N2-5-14', 'N2-5-2', 'N2-5-9', 'N2-5-29', 'N2-5-27', 'N2-5-19', 'N2-5-17', 'N2-5-23', 'N2-5-16', 'N2-5-3', 'N2-5-13', 'N2-5-6', 'N2-6-14', 'N2-6-13', 'N2-6-18', 'N2-6-4', 'N2-6-16', 'N2-6-10', 'N2-6-12', 'N2-6-26', 'N2-6-30', 'N2-6-8', 'N2-6-19', 'N2-6-15', 'N2-6-22', 'N2-6-5', 'N2-6-21', 'N2-6-6', 'N2-6-28', 'N2-6-11', 'N2-6-17', 'N2-6-23', 'N2-6-3', 'N2-6-24', 'N2-6-1', 'N2-6-2', 'N2-6-20', 'N2-6-29', 'N2-6-27', 'N2-6-7', 'N2-6-25', 'N2-6-9', 'N2-7-27', 'N2-7-29', 'N2-7-6', 'N2-7-26', 'N2-7-10', 'N2-7-14', 'N2-7-18', 'N2-7-25', 'N2-7-7', 'N2-7-19', 'N2-7-11', 'N2-7-4', 'N2-7-9', 'N2-7-5', 'N2-7-3', 'N2-7-13', 'N2-7-16', 'N2-7-28', 'N2-7-2', 'N2-7-22', 'N2-7-12', 'N2-7-8', 'N2-7-1', 'N2-7-24', 'N2-7-17', 'N2-7-15', 'N2-7-21', 'N2-7-20', 'N2-7-30', 'N2-7-23', 'N2-8-16', 'N2-8-3', 'N2-8-29', 'N2-8-30', 'N2-8-24', 'N2-8-8', 'N2-8-28', 'N2-8-23', 'N2-8-12', 'N2-8-17', 'N2-8-27', 'N2-8-11', 'N2-8-10', 'N2-8-15', 'N2-8-9', 'N2-8-5', 'N2-8-25', 'N2-8-14', 'N2-8-22', 'N2-8-18', 'N2-8-26', 'N2-8-13', 'N2-8-4', 'N2-8-19', 'N2-8-2', 'N2-8-6', 'N2-8-7', 'N2-8-21', 'N2-8-1', 'N2-8-20', 'N2-9-11', 'N2-9-18', 'N2-9-20', 'N2-9-9', 'N2-9-8', 'N2-9-13', 'N2-9-5', 'N2-9-22', 'N2-9-12', 'N2-9-21', 'N2-9-25', 'N2-9-4', 'N2-9-15', 'N2-9-30', 'N2-9-1', 'N2-9-29', 'N2-9-14', 'N2-9-17', 'N2-9-2', 'N2-9-23', 'N2-9-6', 'N2-9-26', 'N2-9-24', 'N2-9-27', 'N2-9-10', 'N2-9-16', 'N2-9-19', 'N2-9-3', 'N2-9-28', 'N2-9-7', 'N2-10-27', 'N2-10-16', 'N2-10-8', 'N2-10-23', 'N2-10-14', 'N2-10-2', 'N2-10-7', 'N2-10-3', 'N2-10-11', 'N2-10-12', 'N2-10-24', 'N2-10-28', 'N2-10-1', 'N2-10-18', 'N2-10-21', 'N2-10-4', 'N2-10-17', 'N2-10-26', 'N2-10-15', 'N2-10-20', 'N2-10-5', 'N2-10-22', 'N2-10-6', 'N2-10-13', 'N2-10-10', 'N2-10-29', 'N2-10-30', 'N2-10-25', 'N2-10-19', 'N2-10-9']\n",
      "['N3-1-1', 'N3-1-21', 'N3-1-9', 'N3-1-26', 'N3-1-19', 'N3-1-2', 'N3-1-24', 'N3-1-12', 'N3-1-17', 'N3-1-14', 'N3-1-29', 'N3-1-30', 'N3-1-3', 'N3-1-13', 'N3-1-5', 'N3-1-4', 'N3-1-22', 'N3-1-11', 'N3-1-8', 'N3-1-7', 'N3-1-15', 'N3-1-16', 'N3-1-28', 'N3-1-6', 'N3-1-20', 'N3-1-18', 'N3-1-10', 'N3-1-27', 'N3-1-23', 'N3-1-25', 'N3-2-18', 'N3-2-5', 'N3-2-6', 'N3-2-27', 'N3-2-3', 'N3-2-17', 'N3-2-26', 'N3-2-24', 'N3-2-19', 'N3-2-16', 'N3-2-29', 'N3-2-21', 'N3-2-11', 'N3-2-2', 'N3-2-7', 'N3-2-25', 'N3-2-4', 'N3-2-13', 'N3-2-20', 'N3-2-23', 'N3-2-22', 'N3-2-30', 'N3-2-14', 'N3-2-10', 'N3-2-1', 'N3-2-12', 'N3-2-15', 'N3-2-8', 'N3-2-9', 'N3-2-28', 'N3-3-12', 'N3-3-6', 'N3-3-19', 'N3-3-26', 'N3-3-3', 'N3-3-22', 'N3-3-13', 'N3-3-9', 'N3-3-1', 'N3-3-10', 'N3-3-18', 'N3-3-20', 'N3-3-2', 'N3-3-21', 'N3-3-29', 'N3-3-5', 'N3-3-11', 'N3-3-28', 'N3-3-25', 'N3-3-8', 'N3-3-16', 'N3-3-30', 'N3-3-14', 'N3-3-7', 'N3-3-27', 'N3-3-4', 'N3-3-15', 'N3-3-24', 'N3-3-23', 'N3-3-17', 'N3-4-11', 'N3-4-6', 'N3-4-29', 'N3-4-19', 'N3-4-18', 'N3-4-14', 'N3-4-27', 'N3-4-12', 'N3-4-7', 'N3-4-28', 'N3-4-4', 'N3-4-25', 'N3-4-17', 'N3-4-9', 'N3-4-24', 'N3-4-3', 'N3-4-26', 'N3-4-8', 'N3-4-13', 'N3-4-21', 'N3-4-10', 'N3-4-5', 'N3-4-20', 'N3-4-1', 'N3-4-15', 'N3-4-22', 'N3-4-30', 'N3-4-23', 'N3-4-16', 'N3-4-2', 'N3-5-26', 'N3-5-17', 'N3-5-8', 'N3-5-7', 'N3-5-14', 'N3-5-13', 'N3-5-20', 'N3-5-11', 'N3-5-15', 'N3-5-9', 'N3-5-16', 'N3-5-5', 'N3-5-19', 'N3-5-23', 'N3-5-24', 'N3-5-2', 'N3-5-30', 'N3-5-29', 'N3-5-3', 'N3-5-6', 'N3-5-25', 'N3-5-28', 'N3-5-4', 'N3-5-18', 'N3-5-21', 'N3-5-1', 'N3-5-10', 'N3-5-22', 'N3-5-27', 'N3-5-12', 'N3-6-6', 'N3-6-28', 'N3-6-23', 'N3-6-18', 'N3-6-3', 'N3-6-8', 'N3-6-15', 'N3-6-22', 'N3-6-11', 'N3-6-27', 'N3-6-30', 'N3-6-7', 'N3-6-26', 'N3-6-10', 'N3-6-24', 'N3-6-21', 'N3-6-19', 'N3-6-5', 'N3-6-1', 'N3-6-4', 'N3-6-12', 'N3-6-20', 'N3-6-29', 'N3-6-13', 'N3-6-16', 'N3-6-9', 'N3-6-2', 'N3-6-14', 'N3-6-25', 'N3-6-17', 'N3-7-16', 'N3-7-19', 'N3-7-9', 'N3-7-24', 'N3-7-8', 'N3-7-28', 'N3-7-5', 'N3-7-11', 'N3-7-26', 'N3-7-4', 'N3-7-23', 'N3-7-15', 'N3-7-29', 'N3-7-21', 'N3-7-6', 'N3-7-12', 'N3-7-18', 'N3-7-10', 'N3-7-25', 'N3-7-17', 'N3-7-14', 'N3-7-27', 'N3-7-22', 'N3-7-30', 'N3-7-1', 'N3-7-13', 'N3-7-2', 'N3-7-7', 'N3-7-20', 'N3-7-3', 'N3-8-4', 'N3-8-20', 'N3-8-29', 'N3-8-28', 'N3-8-7', 'N3-8-12', 'N3-8-30', 'N3-8-8', 'N3-8-11', 'N3-8-27', 'N3-8-16', 'N3-8-22', 'N3-8-13', 'N3-8-6', 'N3-8-25', 'N3-8-5', 'N3-8-26', 'N3-8-23', 'N3-8-2', 'N3-8-1', 'N3-8-15', 'N3-8-10', 'N3-8-14', 'N3-8-24', 'N3-8-3', 'N3-8-19', 'N3-8-18', 'N3-8-9', 'N3-8-21', 'N3-8-17', 'N3-9-1', 'N3-9-28', 'N3-9-6', 'N3-9-22', 'N3-9-3', 'N3-9-15', 'N3-9-8', 'N3-9-24', 'N3-9-9', 'N3-9-2', 'N3-9-23', 'N3-9-18', 'N3-9-26', 'N3-9-25', 'N3-9-10', 'N3-9-20', 'N3-9-5', 'N3-9-11', 'N3-9-17', 'N3-9-4', 'N3-9-12', 'N3-9-21', 'N3-9-30', 'N3-9-16', 'N3-9-29', 'N3-9-19', 'N3-9-13', 'N3-9-14', 'N3-9-27', 'N3-9-7', 'N3-10-27', 'N3-10-25', 'N3-10-5', 'N3-10-4', 'N3-10-6', 'N3-10-14', 'N3-10-7', 'N3-10-18', 'N3-10-21', 'N3-10-28', 'N3-10-8', 'N3-10-20', 'N3-10-15', 'N3-10-2', 'N3-10-13', 'N3-10-11', 'N3-10-10', 'N3-10-17', 'N3-10-24', 'N3-10-12', 'N3-10-19', 'N3-10-23', 'N3-10-22', 'N3-10-29', 'N3-10-3', 'N3-10-9', 'N3-10-1', 'N3-10-30', 'N3-10-16', 'N3-10-26']\n",
      "[]\n",
      "['oN4-1', 'oN4-2', 'oN4-3', 'oN4-4', 'oN4-5', 'oN4-6', 'oN4-7', 'oN4-8', 'oN4-9']\n",
      "600\n",
      "300\n",
      "9\n",
      "0\n"
     ]
    }
   ],
   "source": [
    "import pathlib\n",
    "from pathlib import Path\n",
    "\n",
    "# ここで、folder名とかPathとか色々設定\n",
    "\n",
    "# Setting the directory name, path and other settings\n",
    "\n",
    "# Define the root directory where your project is located\n",
    "# Defining a Path object for the project's root dir\n",
    "root_dir = Path(pathlib.Path.cwd())\n",
    "\n",
    "# result folder name\n",
    "date_str = '20241029-Conv1x1-' + str(OUTPUT_DIR)\n",
    "\n",
    "# Define the directories for different types of data\n",
    "# Concatenating the root dir to the different dataset dirs\n",
    "data_dir = str(root_dir / \"img_1006t/originalTest\")\n",
    "feature_dir = str(root_dir / \"img_1006t/testFeature\") \n",
    "labeled_dir = str(root_dir / \"img_1006t/testLabel\")\n",
    "\n",
    "# test_data_dir = str(root_dir / \"img_1006/originalTest\") \n",
    "# test_labeled_dir = str(root_dir / \"img_1006/testLabel\") \n",
    "# test_feature_dir = str(root_dir / \"img_1006/testFeature\")\n",
    "\n",
    "\n",
    "# annealing_img_dir = str(root_dir / \"img_1006/annealing_img\") # 焼きなまし法時に使う\n",
    "# annealing later, original for now\n",
    "annealing_img_dir = str(root_dir / \"img_1006/original\")\n",
    "result_dir = str(root_dir / \"result\" / date_str)\n",
    "test_result_dir= str(root_dir / \"result_test\" / date_str)\n",
    "\n",
    "# Making directories based on the path string result_dir and test_result_dir\n",
    "Path(result_dir).mkdir(parents=True, exist_ok=True)\n",
    "Path(test_result_dir).mkdir(parents=True, exist_ok=True)\n",
    "\n",
    "# Prints the paths of the dirs\n",
    "print('Root directory: ' + str(root_dir))\n",
    "print('Data directory (original dir): ' + str(data_dir))\n",
    "print('Feature img directory: ' + str(feature_dir))\n",
    "print('Labeled img directory: ' + str(labeled_dir))\n",
    "print('Annealing directory: ' + str(annealing_img_dir))\n",
    "print('Result directory: ' + str(result_dir))\n",
    "print('Test result directory: ' + str(test_result_dir))\n",
    "\n",
    "# Defining variables filename list of path str starts with the prefix format\n",
    "# In this case: N1 and N3 is training data and N2 is validation data and N4 is a test data\n",
    "input_train = []\n",
    "input_name_val = []\n",
    "annealing_input_name = []\n",
    "input_train = []\n",
    "test_input_name = []\n",
    "for raw_input_img in INPUT:\n",
    "    input_train.extend(file_names_with_prefix(data_dir, raw_input_img))\n",
    "for raw_val_img in VALIDATION:\n",
    "    input_name_val.extend(file_names_with_prefix(data_dir, raw_val_img))\n",
    "for raw_anneal in ANNEALING:\n",
    "    annealing_input_name.extend(file_names_with_prefix(data_dir, raw_anneal))\n",
    "for raw_test in TEST:\n",
    "    test_input_name.extend(file_names_with_prefix(data_dir, raw_test))\n",
    "\n",
    "\n",
    "####old version of assigning\n",
    "# input_train = file_names_with_prefix(data_dir, INPUT)\n",
    "# input_name_val = file_names_with_prefix(data_dir, VALIDATION)\n",
    "# annealing_input_name = file_names_with_prefix(data_dir, ANNEALING)\n",
    "# test_input_name = file_names_with_prefix(data_dir, TEST) \n",
    "\n",
    "\n",
    "\n",
    "\n",
    "# added this part to investigate the overfitting comment out when it is done\n",
    "#test_input_name = input_train\n",
    "#test_input_name = input_name_val\n",
    "\n",
    "\n",
    "# extra_dataset = file_names_with_prefix(data_dir,'N5-')\n",
    "# input_train.extend(extra_dataset)\n",
    "\n",
    "# Prints the each data image name\n",
    "print(input_train)\n",
    "print(input_name_val)\n",
    "print(annealing_input_name)\n",
    "print(test_input_name)\n",
    "# print(extra_dataset)\n",
    "\n",
    "\n",
    "# Defining a var to store each list length\n",
    "len_train = len(input_train)\n",
    "len_val = len(input_name_val)\n",
    "len_test = len(test_input_name)\n",
    "len_annealing = len(annealing_input_name)\n",
    "\n",
    "\n",
    "print(len(input_train))\n",
    "\n",
    "print(len(input_name_val))\n",
    "print(len(test_input_name))\n",
    "print(len(annealing_input_name))\n"
   ]
  },
  {
   "cell_type": "code",
   "execution_count": 8,
   "metadata": {},
   "outputs": [
    {
     "name": "stdout",
     "output_type": "stream",
     "text": [
      "['GRY_', 'NML1', 'NML2', 'NML3', 'TOP1', 'TOP2', 'TOP3', 'TOP4', 'SBLX', 'SBLY', 'SBLM', 'SBLD', 'SBL1', 'SBL2', 'SBL3', 'SBL4', 'LPL1', 'LPL2', 'MEA1', 'MEA2', 'GAU1', 'GAU2', 'MED1', 'MED2', 'LBP1', 'LBP2', 'LBP3', 'ETC1', 'ETC2', 'STC1', 'STC2', 'HGF_', 'NGP_', 'POS1', 'POS2', 'POS3', 'SOL_', 'EMB1', 'EMB2', 'EMB3', 'KNN1', 'KNN2', 'BLT1', 'BLT2', 'OOO_']\n",
      "45\n"
     ]
    }
   ],
   "source": [
    "# 特徴画像の特徴一覧をリストとして取得\n",
    "inputfeature_list = list(map(str, InputFeature))\n",
    "print(inputfeature_list)\n",
    "\n",
    "feature_num = len(inputfeature_list)\n",
    "print(feature_num)"
   ]
  },
  {
   "cell_type": "code",
   "execution_count": 9,
   "metadata": {},
   "outputs": [],
   "source": [
    "## 重み計算なし\n",
    "def CreateWeightImage(input_number):\n",
    "    print(\"in create now\")\n",
    "    label_dataset = []\n",
    "    arrDataset = []\n",
    "    for i in input_number:\n",
    "        label_path = os.path.join(labeled_dir, f\"{i}.png\")\n",
    "        input_originallabel = cv2.imread(label_path, cv2.IMREAD_GRAYSCALE)\n",
    "        # commented the binary label because the project has more labels than 2 \n",
    "        #_, binary_label = cv2.threshold(input_originallabel, 0, 255, cv2.THRESH_BINARY)\n",
    "        \n",
    "        ## This part was used for decreasing and increasing the label count when there was inconsistency with the label dataset\n",
    "        \n",
    "        # if len(np.unique(input_originallabel)) > 11:\n",
    "        #     print(\"Defected image detected (more labels):\" + f\"{i}.png\")\n",
    "        #     print(np.unique(input_originallabel))\n",
    "        #     for y in range(256):\n",
    "        #         for x in range (256):\n",
    "        #             if (input_originallabel[y][x] == 11) or (input_originallabel[y][x] == 12):\n",
    "        #                 input_originallabel[y][x] = 0\n",
    "        #     print(np.unique(input_originallabel))\n",
    "        #     cv2.imwrite('testtttt.png', input_originallabel)\n",
    "        # elif len(np.unique(input_originallabel)) < 11:\n",
    "        #     print(\"Defected image detected (Less labels):\" + f\"{i}.png\")\n",
    "        #     defected = f\"{i}_.png\"\n",
    "        #     print(np.unique(input_originallabel))\n",
    "        #     path_to_mask = '/home/eric/Desktop/edit8label'\n",
    "\n",
    "        #     # 25->9 32->10\n",
    "        #     path_mask_abs = os.path.join(path_to_mask, defected)\n",
    "        #     mask = cv2.imread(path_mask_abs, cv2.IMREAD_GRAYSCALE)\n",
    "        #     for y in range(256):\n",
    "        #         for x in range (256):\n",
    "        #             if (input_originallabel[y][x] == 0) and (mask[y][x] == 25):\n",
    "        #                 input_originallabel[y][x] = 9\n",
    "        #             elif (input_originallabel[y][x] == 0) and (mask[y][x] == 32):\n",
    "        #                 input_originallabel[y][x] = 10\n",
    "        #     print(np.unique(input_originallabel))\n",
    "        #     label_fixed_path = os.path.join(path_to_mask, f\"{i}_fixed.png\")\n",
    "        #     cv2.imwrite(label_fixed_path, input_originallabel)\n",
    "                    \n",
    "        label_dataset.append(input_originallabel)\n",
    "\n",
    "    print(\"Number of label images:\", len(label_dataset))\n",
    "\n",
    "    for i in input_number:\n",
    "        # changed this part from 100 to 256\n",
    "        dataset_img = np.zeros((256, 256, feature_num), dtype=np.float32)\n",
    "\n",
    "        for m in range(feature_num):\n",
    "            feature_img_path = os.path.join(feature_dir, str(i), f\"{inputfeature_list[m]}.png\")\n",
    "            input_featureimg = cv2.imread(feature_img_path, cv2.IMREAD_GRAYSCALE)\n",
    "            dataset_img[:, :, m] = input_featureimg\n",
    "        # after the loop the dataset_img size will be like: (256, 256, 108) and the tensor type is np array\n",
    "        \n",
    "        \n",
    "        \n",
    "        ##this part is dividing the dataset to use multiple conv1x1 operation\n",
    "        #split_dataset_img = np.array_split(dataset_img, 4, axis = 2)\n",
    "        #post_conv = np.zeros((256, 256, 4), dtype=np.float32)\n",
    "        #concat_list = []\n",
    "        #for index, part in enumerate(split_dataset_img):\n",
    "            # after this operation shape will be from (256, 256, 27) to (1, 256, 256, 27)\n",
    "            #part = torch.tensor(part, dtype = torch.float32).unsqueeze(0)\n",
    "            # changed the shape for the conv again now it is (1, 27, 256, 256) (batch_size, channels, height, width)\n",
    "            #part = part.permute(0, 3, 1, 2)\n",
    "            #fusion = nn.Conv2d(in_channels = 27, out_channels = 1, kernel_size = 1, padding = 'same')\n",
    "            #output_conv = fusion(part)\n",
    "            #output_conv = output_conv.squeeze(0) #.permute(1, 2, 0) # now it is (256, 256, 1)\n",
    "            #output_conv = output_conv.cpu().detach().numpy()\n",
    "            #post_conv[:, :, index] = output_conv[0]\n",
    "            #print((output_conv).shape)\n",
    "            #concat_list.append(output_conv)\n",
    "            \n",
    "        #concat_output = torch.cat((concat_list[0], concat_list[1], concat_list[2], concat_list[3]), dim = 2)\n",
    "        ## convert the concat result tensor into numpy array and it has to be on cpu to do the operation\n",
    "        #print(np.unique(output_conv.detach()))\n",
    "        #concat_output = concat_output.detach()\n",
    "        #concat_output = concat_output.numpy()\n",
    "        \n",
    "        \n",
    "        #arrDataset = concat_list\n",
    "        arrDataset.append(dataset_img)\n",
    "\n",
    "    arrDataset = np.array(arrDataset)\n",
    "    print(\"dataset shape \", arrDataset.shape)\n",
    "    print(\"label shape \", np.shape(label_dataset))\n",
    "    print(\"end create now\")\n",
    "\n",
    "    return arrDataset, label_dataset\n"
   ]
  },
  {
   "cell_type": "code",
   "execution_count": 10,
   "metadata": {},
   "outputs": [],
   "source": [
    "# # ## Test code\n",
    "\n",
    "# input_dataset,label_dataset = CreateWeightImage(input_train)\n",
    "# input_dataset_val,label_dataset_val = CreateWeightImage(input_name_val)\n",
    "\n"
   ]
  },
  {
   "cell_type": "code",
   "execution_count": 11,
   "metadata": {},
   "outputs": [],
   "source": [
    "# #Augmentation function\n",
    "# # need to configure further to make it receive the new shape of the label images\n",
    "\n",
    "# import imgaug.augmenters as iaa\n",
    "# from imgaug.augmentables.segmaps import SegmentationMapsOnImage\n",
    "\n",
    "# test_data_dir = str(root_dir / \"img_1006/originalTest\") \n",
    "# test_labeled_dir = str(root_dir / \"img_1006/testLabel\") \n",
    "# test_feature_dir = str(root_dir / \"img_1006/testFeature\")\n",
    "\n",
    "\n",
    "# ## 重み計算なし\n",
    "# def ImageAug(input_number):\n",
    "#     print(\"in aug now\")\n",
    "#     label_dataset = []\n",
    "#     arrDataset = []\n",
    "#     for i in input_number:\n",
    "#         label_path = os.path.join(labeled_dir, f\"{i}.png\")\n",
    "#         input_originallabel = cv2.imread(label_path, cv2.IMREAD_GRAYSCALE)\n",
    "#         label_dataset.append(input_originallabel)\n",
    "\n",
    "\n",
    "#     print(\"Number of label images:\", len(label_dataset))\n",
    "    \n",
    "#     #means x augment\n",
    "#     augmentation_scale = AUGMENTATION\n",
    "    \n",
    "#     seq = iaa.Sequential([\n",
    "#     #iaa.Fliplr(0.5),  # horizontal flip with 50% probability\n",
    "#     #iaa.Flipud(0.5),  # vertical flip with 50% probability\n",
    "#     iaa.Affine(\n",
    "#         rotate=(-20, 20),  # rotate by -20 to +20 degrees\n",
    "#         scale=(0.8, 1.2),  # scale by 80% to 120%\n",
    "#         translate_percent={\"x\": (-0.2, 0.2), \"y\": (-0.2, 0.2)}  # translate by -20% to +20%\n",
    "#     ),\n",
    "#     #iaa.ElasticTransformation(alpha=50, sigma=5),  # elastic deformation\n",
    "#     #iaa.Multiply((0.8, 1.2)),  # change brightness\n",
    "#     #iaa.LinearContrast((0.75, 1.5))  # change contrast\n",
    "# ])\n",
    "\n",
    "    \n",
    "#     arr_labelDataset = []\n",
    "#     for i in input_number:\n",
    "#         print(i)\n",
    "#         original_img_path = os.path.join(data_dir, str(i) + \".png\")\n",
    "#         input_original_img = cv2.imread(original_img_path, cv2.IMREAD_GRAYSCALE)\n",
    "#         for k in range(augmentation_scale):\n",
    "#             augmented = seq(image = input_original_img, segmentation_maps = SegmentationMapsOnImage(label_dataset[input_number.index(i)], shape = label_dataset[input_number.index(i)].shape))\n",
    "#             arrDataset.append(np.array(augmented[0]))\n",
    "#             arr_labelDataset.append(np.array(augmented[1].get_arr()))\n",
    "            \n",
    "#         #arrDataset = np.array(arrDataset)\n",
    "#         #arr_labelDataset = np.array(arr_labelDataset)\n",
    "#         for c, aug_data, aug_label in zip(range(1,augmentation_scale + 1), arrDataset, arr_labelDataset):\n",
    "#             path1 = os.path.join(test_data_dir, (i + '-' + str(c)+'.png'))\n",
    "#             path2 = os.path.join(test_labeled_dir, (i + '-' + str(c)+'.png'))\n",
    "#             #print(path1)\n",
    "#             cv2.imwrite(path1, aug_data)\n",
    "#             cv2.imwrite(path2, aug_label)\n",
    "        \n",
    "#         arrDataset.clear()\n",
    "#         arr_labelDataset.clear()\n",
    "# print(file_names_with_prefix(data_dir, ''))\n",
    "# ImageAug(file_names_with_prefix(data_dir, ''))\n"
   ]
  },
  {
   "cell_type": "code",
   "execution_count": 12,
   "metadata": {},
   "outputs": [],
   "source": [
    "# # 重みを基づいて、MC画像を生成する\n",
    "# def CreateWeightImageforShow(weight, input_number, index):\n",
    "#     sum_weight = sum(weight)  # Calculate total weight\n",
    "\n",
    "#     label_dataset = []\n",
    "#     input_dataset = []\n",
    "#     dataset_original = []\n",
    "\n",
    "#     # Read label images\n",
    "#     for i in input_number:\n",
    "#         input_originallabel = cv2.imread(labeled_dir + \"/\" + str(i) + \".png\", flags=0)\n",
    "#         label_dataset.append(input_originallabel)\n",
    "\n",
    "#     print('Weight image for show, label length = ', len(label_dataset))\n",
    "\n",
    "#     # Create output directory\n",
    "#     os.makedirs(test_result_dir + \"/weightImage/\" + str(index), exist_ok=True)\n",
    "\n",
    "#     # Generate weighted images\n",
    "#     for i in input_number:\n",
    "#         # Create a blank image to store the weighted image, using float type for accumulation\n",
    "#         dataset_img = np.zeros((256, 256, 3), dtype=np.float32)\n",
    "#         input_originalimg = cv2.imread(data_dir + \"/\" + str(i) + \".png\")\n",
    "\n",
    "#         dataset_original.append(input_originalimg)\n",
    "#         for m in range(feature_num):\n",
    "#             input_featureimg = cv2.imread(feature_dir + \"/\" + str(i) + \"/\" + inputfeature_list[m] + \".png\", cv2.IMREAD_GRAYSCALE)\n",
    "#             # Normalize the feature image\n",
    "#             normalized_feature_img = cv2.normalize(input_featureimg.astype(np.float32), None, 0, 1, cv2.NORM_MINMAX)\n",
    "#             # Accumulate the weighted feature image\n",
    "#             dataset_img += normalized_feature_img[:, :, None] * (weight[m] / sum_weight)  # Convert 2D array to 3D array\n",
    "\n",
    "#         # Normalize the accumulated image to the range 0-255\n",
    "#         dataset_img = cv2.normalize(dataset_img, None, 0, 255, cv2.NORM_MINMAX)\n",
    "#         output_img = dataset_img.astype(np.uint8)  # Convert to uint8\n",
    "\n",
    "#         input_dataset.append(output_img)\n",
    "#         # Write to file\n",
    "#         cv2.imwrite(f\"{test_result_dir}/weightImage/{index}/{i}.png\", output_img)\n",
    "\n",
    "#     return input_dataset, label_dataset\n"
   ]
  },
  {
   "cell_type": "code",
   "execution_count": 13,
   "metadata": {},
   "outputs": [],
   "source": [
    "# #############################\n",
    "# ##Custom Function generates feature img\n",
    "# #############################\n",
    "\n",
    "# import os\n",
    "# import numpy as np\n",
    "# from PIL import Image\n",
    "\n",
    "# def read_images_from_directory(dir_path):\n",
    "#     IMAGE_SIZE = 256\n",
    "\n",
    "\n",
    "#     \"\"\"\n",
    "#     Reads all image files from a directory and returns a list of images as NumPy arrays.\n",
    "    \n",
    "#     :param dir_path: Path to the directory containing the images.\n",
    "#     :param image_size: Size of the images (assumes square images).\n",
    "    \n",
    "#     :return: img_list: List of images as NumPy arrays.\n",
    "#     \"\"\"\n",
    "#     img_list = []\n",
    "#     fn_without_list = []\n",
    "\n",
    "    \n",
    "#     # Iterate through all files in the directory\n",
    "#     for filename in os.listdir(dir_path):\n",
    "#         # Check if the file is an image file (you can add more extensions if needed)\n",
    "#         if filename.endswith(('.png', '.jpg', '.jpeg')):\n",
    "#             # Construct the full path to the image\n",
    "#             img_path = os.path.join(dir_path, filename)\n",
    "            \n",
    "#             # Open the image and resize it to the desired size\n",
    "#             img = Image.open(img_path).convert('L')\n",
    "#             img = img.resize((IMAGE_SIZE, IMAGE_SIZE))\n",
    "            \n",
    "#             # Convert the image to a NumPy array \n",
    "#             img_array = np.asarray(img, dtype=np.float64)\n",
    "            \n",
    "#             # Append the image array to the list\n",
    "#             img_list.append(img_array)\n",
    "#             # Gets the file name without extension for creating dir \n",
    "#             filename_without_extension = os.path.splitext(filename)[0]\n",
    "#             fn_without_list.append(filename_without_extension)\n",
    "    \n",
    "#     return img_list, fn_without_list\n",
    "\n",
    "# img_list, fn_without_list = read_images_from_directory(data_dir)\n",
    "# print(len(fn_without_list))\n",
    "# #print(fn_without_list[0])\n",
    "\n",
    "# counter = 0\n",
    "# for fn_wthout, img in zip(fn_without_list, img_list):\n",
    "#     #print(\"File that is being processed at the moment: \" + str(fn_wthout))\n",
    "#     WriteFile.make_folder(feature_dir, '/' + fn_wthout)\n",
    "#     fn_feature_list = []\n",
    "#     filtered_img_list = []\n",
    "#     for feature in InputFeature:\n",
    "#         #print('Processed feature now:' + str(feature))\n",
    "#         filtered_img= Filtering.single_image(img, feature)\n",
    "#         filtered_img_list.append(filtered_img)\n",
    "#         fn_feature_list.append(str(feature) + '.png')\n",
    "#     WriteFile.save_images(os.path.join(feature_dir,fn_wthout), fn_feature_list, filtered_img_list)\n",
    "#     counter += 1 \n",
    "#     print(counter)\n"
   ]
  },
  {
   "cell_type": "code",
   "execution_count": 14,
   "metadata": {},
   "outputs": [],
   "source": [
    "def print_model_shapes(model, input_tensor):\n",
    "    def forward_hook(module, input, output):\n",
    "        print(f\"Layer: {module.__class__.__name__}\")\n",
    "        print(f\"Input shape: {str(input[0].shape)}\")\n",
    "        print(f\"Output shape: {str(output.shape)}\")\n",
    "        print(\"-----------------------\")\n",
    "\n",
    "    hooks = []\n",
    "    for layer in model.children():\n",
    "        hook = layer.register_forward_hook(forward_hook)\n",
    "        hooks.append(hook)\n",
    "\n",
    "    print(\"Model Architecture:\")\n",
    "    print(model)\n",
    "\n",
    "    # Pass a dummy input tensor through the model to trigger the forward hooks\n",
    "    with torch.no_grad():\n",
    "        model(input_tensor)\n",
    "\n",
    "    for hook in hooks:\n",
    "        hook.remove()\n"
   ]
  },
  {
   "cell_type": "code",
   "execution_count": 15,
   "metadata": {},
   "outputs": [],
   "source": [
    "# preprocess function\n",
    "def preprocess(img: np.ndarray):\n",
    "    img = np.moveaxis(img, -1, 0)  # Change from [H, W, C] to [C, H, W]\n",
    "    img = normalize_01(img)  # Linear scaling to range [0-1]\n",
    "    img = np.expand_dims(img, axis=0)  # Add batch dimension [B, C, H, W]\n",
    "    img = img.astype(np.float32)  # Typecasting to float32\n",
    "    #print(\"in pre\")\n",
    "    #print(np.unique(img))\n",
    "    return img\n",
    "\n",
    "# postprocess function\n",
    "def postprocess(img: torch.tensor):\n",
    "    img = torch.argmax(img, dim = 1)  # Perform argmax to generate 1 channel\n",
    "    #img = img * 255.0 commented as the labels are from 0 to 11 in my case\n",
    "    img = img.cpu().numpy().astype(np.uint8)  # Send to CPU and transform to numpy.ndarray\n",
    "    # If batch_size > 1, you may need to loop through each batch and save them separately\n",
    "    # If batch_size == 1, you can remove the batch dimension to save a single image\n",
    "\n",
    "    # used for checking the unique label values whether if it is 0 to 11 or 0 to 255 scale\n",
    "    #print(\"in post\")\n",
    "    #print(np.unique(img))\n",
    "\n",
    "\n",
    "    img = np.squeeze(img)  # Remove batch dim and channel dim -> [H, W]\n",
    "    # img = re_normalize(img)  # Scale it to the range [0-255]\n",
    "\n",
    "    # If your image has multiple channels (C>1), like an RGB image, before saving with cv2.imwrite\n",
    "    # you need to ensure the channel order is [B, G, R] instead of the common [R, G, B]\n",
    "    # If C == 1, you can further reduce dimensions -> [H, W]\n",
    "    if img.shape[0] == 3:  # [C, H, W]\n",
    "        img = np.transpose(img, (1, 2, 0))  # [H, W, C]\n",
    "        img = img[:, :, ::-1]  # Convert RGB to BGR\n",
    "    elif img.shape[0] == 1:  # [C, H, W]\n",
    "        img = np.squeeze(img, 0)  # [H, W]\n",
    "    return img\n"
   ]
  },
  {
   "cell_type": "code",
   "execution_count": 16,
   "metadata": {},
   "outputs": [],
   "source": [
    "# earlystoppingあり\n",
    "# numpy形式のまま入力する用改良\n",
    "# 学習を行い予測結果画像を出力するとこまで\n",
    "from customdatasets import SegmentationDataSet0\n",
    "from customdatasets import SegmentationDataSet1\n",
    "from torch.utils.data import DataLoader\n",
    "\n",
    "def Learn_EA(input_dataset,label_dataset,input_dataset_val,label_dataset_val,type_number):\n",
    "    # 引数を追加して保存先を指定するよう改良\n",
    "    # try_number:何回目の焼きなましかどうか。モデルの保存に使用\n",
    "\n",
    "    # dataset training\n",
    "    dataset_train2 = SegmentationDataSet0(\n",
    "                                        #inputs=dataset_original,\n",
    "                                        inputs=input_dataset,\n",
    "                                        targets=label_dataset,\n",
    "                                        transform=transforms_training)\n",
    "\n",
    "    # dataloader training\n",
    "    dataloader_training2 = DataLoader(dataset=dataset_train2,\n",
    "                                     batch_size = 2,\n",
    "                                     shuffle=True)\n",
    "    #もとはシャッフルtrue\n",
    "\n",
    "\n",
    "    batch = next(iter(dataloader_training2))\n",
    "  \n",
    "    x, y = batch\n",
    "    print(\"x.shape = \", x.shape)\n",
    "    print(\"x.min(), x.max() = \", x.min(), x.max())\n",
    "    print(\"y.shape = \", y.shape)\n",
    "    print(\"torch.unique(y) = \", torch.unique(y))\n",
    "\n",
    "\n",
    "    \n",
    "    # dataset training\n",
    "    dataset_val = SegmentationDataSet0(inputs=input_dataset_val,\n",
    "                                        targets=label_dataset_val,\n",
    "                                        transform=transforms_val)\n",
    "    #書き換え箇所\n",
    "    dataloader_val = DataLoader(dataset=dataset_val,\n",
    "                                     batch_size = 2,\n",
    "                                     shuffle=False)\n",
    "    \n",
    "    \n",
    "    \n",
    "    ###earlystopping あり\n",
    "\n",
    "    from unet import UNet\n",
    "    from trainer2 import Trainer2 \n",
    "    from torch import nn #import torch \n",
    "    from pytorchtools import EarlyStopping\n",
    "    from torch.nn import BCEWithLogitsLoss\n",
    "\n",
    "    #device\n",
    "    if torch.cuda.is_available():\n",
    "        device = torch.device('cuda') \n",
    "    else: \n",
    "        torch.device('cpu')\n",
    "        print(\"Before creating the UNet model: GPU was not available and CPU will be used instead\")\n",
    "\n",
    "    # custom logging the parameters of the UNet\n",
    "    inChannels = IN_CHANNEL\n",
    "    outChannels = 11\n",
    "    nBlocks = N_BLOCK\n",
    "    startFilters = 32\n",
    "\n",
    "    from customLog import custom_logger\n",
    "    \n",
    "    #custom_logger(\"/log/customLog.log\", inChannels, outChannels, nBlocks, startFilters)\n",
    "\n",
    "    #model\n",
    "    model = UNet(in_channels = inChannels,\n",
    "                 out_channels = outChannels,\n",
    "                 n_blocks = nBlocks, \n",
    "                 start_filters=startFilters,\n",
    "                 activation='relu',\n",
    "                 normalization='batch',\n",
    "                 conv_mode='same',\n",
    "                 dim=2,\n",
    "                 ).to(device)\n",
    "\n",
    "    ### Later for experimenting\n",
    "    #from originalUNet import Original_UNet\n",
    "    #model = Original_UNet()\n",
    "\n",
    "    # Assuming input_tensor is a sample input tensor with the correct shape (e.g., torch.randn(1, 3, 100, 100))\n",
    "    input_tensor = torch.randn(1, 45, 100, 100).to(device)  # Adjust the shape as needed\n",
    "    # print_model_shapes(model, input_tensor)\n",
    "\n",
    "\n",
    "    #criterion\n",
    "    criterion = torch.nn.CrossEntropyLoss()\n",
    "    # criterion = BCEWithLogitsLoss()\n",
    "\n",
    "    #optimizer\n",
    "    optimizer = torch.optim.Adam(model.parameters(), lr=LR)\n",
    "\n",
    "    #trainer\n",
    "    trainer = Trainer2(model=model, \n",
    "                       device=device, \n",
    "                       criterion=criterion, \n",
    "                       optimizer=optimizer, \n",
    "                       training_DataLoader=dataloader_training2,\n",
    "                       #validation_DataLoader=None, \n",
    "                       validation_DataLoader=dataloader_val, \n",
    "                       lr_scheduler=None, \n",
    "                       epochs=200, ##😺😺😺😺 epoch=0, \n",
    "                       notebook=True)\n",
    "  \n",
    "    print(\"=======start training======\")\n",
    "    # start training\n",
    "    training_losses, validation_losses, lr_rates = trainer.run_trainer()\n",
    "    print(\"***************************\")\n",
    "\n",
    "    \n",
    "    \n",
    "    #ここがちゃんとESで最適なエポック数のモデルになっているか要検証\n",
    "    model_dir = os.path.join(\"model\", date_str)\n",
    "    if not os.path.exists(model_dir):\n",
    "        os.makedirs(model_dir)\n",
    "    model_name = f\"model.pt\"\n",
    "    model_path = os.path.join(model_dir, model_name)\n",
    "    torch.save(model.state_dict(), model_path)\n",
    "    print(f\"modelname:{model_name}を保存しました\")\n",
    "\n",
    "    model_weights = torch.load(model_path)\n",
    "    model.load_state_dict(model_weights)\n",
    "    \n",
    "\n",
    "    # images = annealing_input_dataset\n",
    "    images = input_dataset_val\n",
    "\n",
    "    from inference import predict\n",
    "    from transformations import normalize_01, re_normalize\n",
    "    # predict the segmentation maps \n",
    "    output = [predict(img, model, preprocess, postprocess, device) for img in images]\n",
    "\n",
    "\n",
    "    for i in range(len(input_name_val)):\n",
    "        if(type_number == 0):\n",
    "            cv2.imwrite(os.path.join(result_dir, f'{input_name_val[i]}.png'), output[i])\n",
    "        elif(type_number == 1):\n",
    "            cv2.imwrite(os.path.join(test_result_dir, 'result_original', f'{input_name_val[i]}.png'), output[i])\n",
    "        elif(type_number == 2):\n",
    "            cv2.imwrite(os.path.join(test_result_dir, 'result_test', f'{input_name_val[i]}.png'), output[i])\n",
    "\n"
   ]
  },
  {
   "cell_type": "code",
   "execution_count": 17,
   "metadata": {},
   "outputs": [
    {
     "name": "stdout",
     "output_type": "stream",
     "text": [
      "in create now\n"
     ]
    },
    {
     "name": "stdout",
     "output_type": "stream",
     "text": [
      "Number of label images: 600\n",
      "dataset shape  (600, 256, 256, 45)\n",
      "label shape  (600, 256, 256)\n",
      "end create now\n",
      "in create now\n",
      "Number of label images: 300\n",
      "dataset shape  (300, 256, 256, 45)\n",
      "label shape  (300, 256, 256)\n",
      "end create now\n",
      "x.shape =  torch.Size([2, 45, 256, 256])\n",
      "x.min(), x.max() =  tensor(0.) tensor(1.)\n",
      "y.shape =  torch.Size([2, 256, 256])\n",
      "torch.unique(y) =  tensor([ 0,  1,  2,  3,  4,  5,  6,  7,  8,  9, 10])\n",
      "in constructor inchannel: 45\n",
      "Input channel count1\n",
      "=======start training======\n"
     ]
    },
    {
     "data": {
      "application/vnd.jupyter.widget-view+json": {
       "model_id": "cd508c738c0a4a329a9fa30c73bbe31a",
       "version_major": 2,
       "version_minor": 0
      },
      "text/plain": [
       "Progress:   0%|          | 0/200 [00:00<?, ?it/s]"
      ]
     },
     "metadata": {},
     "output_type": "display_data"
    },
    {
     "data": {
      "application/vnd.jupyter.widget-view+json": {
       "model_id": "70f6af264be44a4a8aa2b63937eac03b",
       "version_major": 2,
       "version_minor": 0
      },
      "text/plain": [
       "Training:   0%|          | 0/300 [00:00<?, ?it/s]"
      ]
     },
     "metadata": {},
     "output_type": "display_data"
    },
    {
     "name": "stderr",
     "output_type": "stream",
     "text": [
      "/home/eric/anaconda3/envs/altenv/lib/python3.11/site-packages/torch/nn/modules/conv.py:952: UserWarning: Plan failed with a cudnnException: CUDNN_BACKEND_EXECUTION_PLAN_DESCRIPTOR: cudnnFinalize Descriptor Failed cudnn_status: CUDNN_STATUS_NOT_SUPPORTED (Triggered internally at ../aten/src/ATen/native/cudnn/Conv_v8.cpp:919.)\n",
      "  return F.conv_transpose2d(\n"
     ]
    },
    {
     "data": {
      "application/vnd.jupyter.widget-view+json": {
       "model_id": "39f3e4eb24884480916d8c8096015cd5",
       "version_major": 2,
       "version_minor": 0
      },
      "text/plain": [
       "Validation:   0%|          | 0/150 [00:00<?, ?it/s]"
      ]
     },
     "metadata": {},
     "output_type": "display_data"
    },
    {
     "name": "stdout",
     "output_type": "stream",
     "text": [
      "val_losses 0.25314240271846455\n",
      "Validation loss decreased (inf --> 0.253142).  Saving model ...\n"
     ]
    },
    {
     "data": {
      "application/vnd.jupyter.widget-view+json": {
       "model_id": "a42ddf64253d4d12aea4c9bdc534b421",
       "version_major": 2,
       "version_minor": 0
      },
      "text/plain": [
       "Training:   0%|          | 0/300 [00:00<?, ?it/s]"
      ]
     },
     "metadata": {},
     "output_type": "display_data"
    },
    {
     "data": {
      "application/vnd.jupyter.widget-view+json": {
       "model_id": "63a8888e39604792b518efde9c1f3783",
       "version_major": 2,
       "version_minor": 0
      },
      "text/plain": [
       "Validation:   0%|          | 0/150 [00:00<?, ?it/s]"
      ]
     },
     "metadata": {},
     "output_type": "display_data"
    },
    {
     "name": "stdout",
     "output_type": "stream",
     "text": [
      "val_losses 0.26035080909729\n",
      "EarlyStopping counter: 1 out of 50\n"
     ]
    },
    {
     "data": {
      "application/vnd.jupyter.widget-view+json": {
       "model_id": "9254075b1b284d0fb2981b08fa0161c7",
       "version_major": 2,
       "version_minor": 0
      },
      "text/plain": [
       "Training:   0%|          | 0/300 [00:00<?, ?it/s]"
      ]
     },
     "metadata": {},
     "output_type": "display_data"
    },
    {
     "data": {
      "application/vnd.jupyter.widget-view+json": {
       "model_id": "d2a59291fecc4827b0213d6889875376",
       "version_major": 2,
       "version_minor": 0
      },
      "text/plain": [
       "Validation:   0%|          | 0/150 [00:00<?, ?it/s]"
      ]
     },
     "metadata": {},
     "output_type": "display_data"
    },
    {
     "name": "stdout",
     "output_type": "stream",
     "text": [
      "val_losses 0.27333463666339713\n",
      "EarlyStopping counter: 2 out of 50\n"
     ]
    },
    {
     "data": {
      "application/vnd.jupyter.widget-view+json": {
       "model_id": "6295fccc091c4b5c9b5d0a599018837f",
       "version_major": 2,
       "version_minor": 0
      },
      "text/plain": [
       "Training:   0%|          | 0/300 [00:00<?, ?it/s]"
      ]
     },
     "metadata": {},
     "output_type": "display_data"
    },
    {
     "data": {
      "application/vnd.jupyter.widget-view+json": {
       "model_id": "6796f5ba3bbb44a38339cc30acbc127c",
       "version_major": 2,
       "version_minor": 0
      },
      "text/plain": [
       "Validation:   0%|          | 0/150 [00:00<?, ?it/s]"
      ]
     },
     "metadata": {},
     "output_type": "display_data"
    },
    {
     "name": "stdout",
     "output_type": "stream",
     "text": [
      "val_losses 0.29898927663763364\n",
      "EarlyStopping counter: 3 out of 50\n"
     ]
    },
    {
     "data": {
      "application/vnd.jupyter.widget-view+json": {
       "model_id": "46f9868a8bd64f0488c7de5c41d743c8",
       "version_major": 2,
       "version_minor": 0
      },
      "text/plain": [
       "Training:   0%|          | 0/300 [00:00<?, ?it/s]"
      ]
     },
     "metadata": {},
     "output_type": "display_data"
    },
    {
     "data": {
      "application/vnd.jupyter.widget-view+json": {
       "model_id": "08223a90518947828d67a80b86ce3d13",
       "version_major": 2,
       "version_minor": 0
      },
      "text/plain": [
       "Validation:   0%|          | 0/150 [00:00<?, ?it/s]"
      ]
     },
     "metadata": {},
     "output_type": "display_data"
    },
    {
     "name": "stdout",
     "output_type": "stream",
     "text": [
      "val_losses 0.6421480216582616\n",
      "EarlyStopping counter: 4 out of 50\n"
     ]
    },
    {
     "data": {
      "application/vnd.jupyter.widget-view+json": {
       "model_id": "43808e54739e429d8049248957cc6097",
       "version_major": 2,
       "version_minor": 0
      },
      "text/plain": [
       "Training:   0%|          | 0/300 [00:00<?, ?it/s]"
      ]
     },
     "metadata": {},
     "output_type": "display_data"
    },
    {
     "data": {
      "application/vnd.jupyter.widget-view+json": {
       "model_id": "a704f0a8734844fc808669decde84cbd",
       "version_major": 2,
       "version_minor": 0
      },
      "text/plain": [
       "Validation:   0%|          | 0/150 [00:00<?, ?it/s]"
      ]
     },
     "metadata": {},
     "output_type": "display_data"
    },
    {
     "name": "stdout",
     "output_type": "stream",
     "text": [
      "val_losses 0.29566537802418075\n",
      "EarlyStopping counter: 5 out of 50\n"
     ]
    },
    {
     "data": {
      "application/vnd.jupyter.widget-view+json": {
       "model_id": "19ef797e2c774a5c851592745c5b031a",
       "version_major": 2,
       "version_minor": 0
      },
      "text/plain": [
       "Training:   0%|          | 0/300 [00:00<?, ?it/s]"
      ]
     },
     "metadata": {},
     "output_type": "display_data"
    },
    {
     "data": {
      "application/vnd.jupyter.widget-view+json": {
       "model_id": "5dad8c5d7f5943bc9dd4a4339f930a9f",
       "version_major": 2,
       "version_minor": 0
      },
      "text/plain": [
       "Validation:   0%|          | 0/150 [00:00<?, ?it/s]"
      ]
     },
     "metadata": {},
     "output_type": "display_data"
    },
    {
     "name": "stdout",
     "output_type": "stream",
     "text": [
      "val_losses 0.29876003553469976\n",
      "EarlyStopping counter: 6 out of 50\n"
     ]
    },
    {
     "data": {
      "application/vnd.jupyter.widget-view+json": {
       "model_id": "9059fada6b6a47e58919c72f21c1142a",
       "version_major": 2,
       "version_minor": 0
      },
      "text/plain": [
       "Training:   0%|          | 0/300 [00:00<?, ?it/s]"
      ]
     },
     "metadata": {},
     "output_type": "display_data"
    },
    {
     "data": {
      "application/vnd.jupyter.widget-view+json": {
       "model_id": "06c4f2c7113f40459b68ec785658dbe5",
       "version_major": 2,
       "version_minor": 0
      },
      "text/plain": [
       "Validation:   0%|          | 0/150 [00:00<?, ?it/s]"
      ]
     },
     "metadata": {},
     "output_type": "display_data"
    },
    {
     "name": "stdout",
     "output_type": "stream",
     "text": [
      "val_losses 0.3398733735332886\n",
      "EarlyStopping counter: 7 out of 50\n"
     ]
    },
    {
     "data": {
      "application/vnd.jupyter.widget-view+json": {
       "model_id": "413ca071f6b2477ca2b9d2ba85985b38",
       "version_major": 2,
       "version_minor": 0
      },
      "text/plain": [
       "Training:   0%|          | 0/300 [00:00<?, ?it/s]"
      ]
     },
     "metadata": {},
     "output_type": "display_data"
    },
    {
     "data": {
      "application/vnd.jupyter.widget-view+json": {
       "model_id": "a6f6f3b2f7504a40869ee8a2d6929acf",
       "version_major": 2,
       "version_minor": 0
      },
      "text/plain": [
       "Validation:   0%|          | 0/150 [00:00<?, ?it/s]"
      ]
     },
     "metadata": {},
     "output_type": "display_data"
    },
    {
     "name": "stdout",
     "output_type": "stream",
     "text": [
      "val_losses 0.32346311333278815\n",
      "EarlyStopping counter: 8 out of 50\n"
     ]
    },
    {
     "data": {
      "application/vnd.jupyter.widget-view+json": {
       "model_id": "94dcd30f5c4a413984dc2c6833e0168a",
       "version_major": 2,
       "version_minor": 0
      },
      "text/plain": [
       "Training:   0%|          | 0/300 [00:00<?, ?it/s]"
      ]
     },
     "metadata": {},
     "output_type": "display_data"
    },
    {
     "data": {
      "application/vnd.jupyter.widget-view+json": {
       "model_id": "71083c7367e44979a1f0c1b9ff37d9e2",
       "version_major": 2,
       "version_minor": 0
      },
      "text/plain": [
       "Validation:   0%|          | 0/150 [00:00<?, ?it/s]"
      ]
     },
     "metadata": {},
     "output_type": "display_data"
    },
    {
     "name": "stdout",
     "output_type": "stream",
     "text": [
      "val_losses 0.27675582038859525\n",
      "EarlyStopping counter: 9 out of 50\n"
     ]
    },
    {
     "data": {
      "application/vnd.jupyter.widget-view+json": {
       "model_id": "1311e54b4b7b44ce88aa05cc45ccfae3",
       "version_major": 2,
       "version_minor": 0
      },
      "text/plain": [
       "Training:   0%|          | 0/300 [00:00<?, ?it/s]"
      ]
     },
     "metadata": {},
     "output_type": "display_data"
    },
    {
     "data": {
      "application/vnd.jupyter.widget-view+json": {
       "model_id": "05106326e8f54c75acff3d9b0d3a72b8",
       "version_major": 2,
       "version_minor": 0
      },
      "text/plain": [
       "Validation:   0%|          | 0/150 [00:00<?, ?it/s]"
      ]
     },
     "metadata": {},
     "output_type": "display_data"
    },
    {
     "name": "stdout",
     "output_type": "stream",
     "text": [
      "val_losses 0.3079488226026297\n",
      "EarlyStopping counter: 10 out of 50\n"
     ]
    },
    {
     "data": {
      "application/vnd.jupyter.widget-view+json": {
       "model_id": "1680ec7d60d14be4a1c163ad6a1fdc88",
       "version_major": 2,
       "version_minor": 0
      },
      "text/plain": [
       "Training:   0%|          | 0/300 [00:00<?, ?it/s]"
      ]
     },
     "metadata": {},
     "output_type": "display_data"
    },
    {
     "data": {
      "application/vnd.jupyter.widget-view+json": {
       "model_id": "66f0c91d94de4aad894087b28fd89c16",
       "version_major": 2,
       "version_minor": 0
      },
      "text/plain": [
       "Validation:   0%|          | 0/150 [00:00<?, ?it/s]"
      ]
     },
     "metadata": {},
     "output_type": "display_data"
    },
    {
     "name": "stdout",
     "output_type": "stream",
     "text": [
      "val_losses 0.32728061522046725\n",
      "EarlyStopping counter: 11 out of 50\n"
     ]
    },
    {
     "data": {
      "application/vnd.jupyter.widget-view+json": {
       "model_id": "e994891fff514e7ea6a6c3bb940e0573",
       "version_major": 2,
       "version_minor": 0
      },
      "text/plain": [
       "Training:   0%|          | 0/300 [00:00<?, ?it/s]"
      ]
     },
     "metadata": {},
     "output_type": "display_data"
    },
    {
     "data": {
      "application/vnd.jupyter.widget-view+json": {
       "model_id": "e20929d40aa24deba96d72de4eda2362",
       "version_major": 2,
       "version_minor": 0
      },
      "text/plain": [
       "Validation:   0%|          | 0/150 [00:00<?, ?it/s]"
      ]
     },
     "metadata": {},
     "output_type": "display_data"
    },
    {
     "name": "stdout",
     "output_type": "stream",
     "text": [
      "val_losses 0.33077442958951\n",
      "EarlyStopping counter: 12 out of 50\n"
     ]
    },
    {
     "data": {
      "application/vnd.jupyter.widget-view+json": {
       "model_id": "493ba7384a2548db902062c6169c2f9e",
       "version_major": 2,
       "version_minor": 0
      },
      "text/plain": [
       "Training:   0%|          | 0/300 [00:00<?, ?it/s]"
      ]
     },
     "metadata": {},
     "output_type": "display_data"
    },
    {
     "data": {
      "application/vnd.jupyter.widget-view+json": {
       "model_id": "2fec3b7ef47249ca8f86ba8b03a7c2f5",
       "version_major": 2,
       "version_minor": 0
      },
      "text/plain": [
       "Validation:   0%|          | 0/150 [00:00<?, ?it/s]"
      ]
     },
     "metadata": {},
     "output_type": "display_data"
    },
    {
     "name": "stdout",
     "output_type": "stream",
     "text": [
      "val_losses 0.36022796101868154\n",
      "EarlyStopping counter: 13 out of 50\n"
     ]
    },
    {
     "data": {
      "application/vnd.jupyter.widget-view+json": {
       "model_id": "813e18ce1e52475dad262b80e052ee64",
       "version_major": 2,
       "version_minor": 0
      },
      "text/plain": [
       "Training:   0%|          | 0/300 [00:00<?, ?it/s]"
      ]
     },
     "metadata": {},
     "output_type": "display_data"
    },
    {
     "data": {
      "application/vnd.jupyter.widget-view+json": {
       "model_id": "79c371f306d643829cda636591fdc650",
       "version_major": 2,
       "version_minor": 0
      },
      "text/plain": [
       "Validation:   0%|          | 0/150 [00:00<?, ?it/s]"
      ]
     },
     "metadata": {},
     "output_type": "display_data"
    },
    {
     "name": "stdout",
     "output_type": "stream",
     "text": [
      "val_losses 0.39870723612606523\n",
      "EarlyStopping counter: 14 out of 50\n"
     ]
    },
    {
     "data": {
      "application/vnd.jupyter.widget-view+json": {
       "model_id": "4c6c39a4e4324fb1981f1cf65cfa0d88",
       "version_major": 2,
       "version_minor": 0
      },
      "text/plain": [
       "Training:   0%|          | 0/300 [00:00<?, ?it/s]"
      ]
     },
     "metadata": {},
     "output_type": "display_data"
    },
    {
     "data": {
      "application/vnd.jupyter.widget-view+json": {
       "model_id": "eb3774e06297419a9b082f0ef1810233",
       "version_major": 2,
       "version_minor": 0
      },
      "text/plain": [
       "Validation:   0%|          | 0/150 [00:00<?, ?it/s]"
      ]
     },
     "metadata": {},
     "output_type": "display_data"
    },
    {
     "name": "stdout",
     "output_type": "stream",
     "text": [
      "val_losses 0.404157647266984\n",
      "EarlyStopping counter: 15 out of 50\n"
     ]
    },
    {
     "data": {
      "application/vnd.jupyter.widget-view+json": {
       "model_id": "00237e38dfd24f1f8c8a2ac8cec263ca",
       "version_major": 2,
       "version_minor": 0
      },
      "text/plain": [
       "Training:   0%|          | 0/300 [00:00<?, ?it/s]"
      ]
     },
     "metadata": {},
     "output_type": "display_data"
    },
    {
     "data": {
      "application/vnd.jupyter.widget-view+json": {
       "model_id": "d715412ce224413b8f8efa0f753b2f06",
       "version_major": 2,
       "version_minor": 0
      },
      "text/plain": [
       "Validation:   0%|          | 0/150 [00:00<?, ?it/s]"
      ]
     },
     "metadata": {},
     "output_type": "display_data"
    },
    {
     "name": "stdout",
     "output_type": "stream",
     "text": [
      "val_losses 0.30311214302976924\n",
      "EarlyStopping counter: 16 out of 50\n"
     ]
    },
    {
     "data": {
      "application/vnd.jupyter.widget-view+json": {
       "model_id": "eaaf9c776ff84b5b864b84fdbf741527",
       "version_major": 2,
       "version_minor": 0
      },
      "text/plain": [
       "Training:   0%|          | 0/300 [00:00<?, ?it/s]"
      ]
     },
     "metadata": {},
     "output_type": "display_data"
    },
    {
     "data": {
      "application/vnd.jupyter.widget-view+json": {
       "model_id": "a2c2226525b642588a80dcf5d9026474",
       "version_major": 2,
       "version_minor": 0
      },
      "text/plain": [
       "Validation:   0%|          | 0/150 [00:00<?, ?it/s]"
      ]
     },
     "metadata": {},
     "output_type": "display_data"
    },
    {
     "name": "stdout",
     "output_type": "stream",
     "text": [
      "val_losses 16.44516163751483\n",
      "EarlyStopping counter: 17 out of 50\n"
     ]
    },
    {
     "data": {
      "application/vnd.jupyter.widget-view+json": {
       "model_id": "611008aacbc74249b65a664585a9e8a1",
       "version_major": 2,
       "version_minor": 0
      },
      "text/plain": [
       "Training:   0%|          | 0/300 [00:00<?, ?it/s]"
      ]
     },
     "metadata": {},
     "output_type": "display_data"
    },
    {
     "data": {
      "application/vnd.jupyter.widget-view+json": {
       "model_id": "1497d1fba1234e1582461d15e9974e46",
       "version_major": 2,
       "version_minor": 0
      },
      "text/plain": [
       "Validation:   0%|          | 0/150 [00:00<?, ?it/s]"
      ]
     },
     "metadata": {},
     "output_type": "display_data"
    },
    {
     "name": "stdout",
     "output_type": "stream",
     "text": [
      "val_losses 437.6783236338943\n",
      "EarlyStopping counter: 18 out of 50\n"
     ]
    },
    {
     "data": {
      "application/vnd.jupyter.widget-view+json": {
       "model_id": "a7476e87676d4f71bec9029ea01e2419",
       "version_major": 2,
       "version_minor": 0
      },
      "text/plain": [
       "Training:   0%|          | 0/300 [00:00<?, ?it/s]"
      ]
     },
     "metadata": {},
     "output_type": "display_data"
    },
    {
     "data": {
      "application/vnd.jupyter.widget-view+json": {
       "model_id": "5ca53e22e4414247a2fb6a976d105072",
       "version_major": 2,
       "version_minor": 0
      },
      "text/plain": [
       "Validation:   0%|          | 0/150 [00:00<?, ?it/s]"
      ]
     },
     "metadata": {},
     "output_type": "display_data"
    },
    {
     "name": "stdout",
     "output_type": "stream",
     "text": [
      "val_losses 82.08850939509769\n",
      "EarlyStopping counter: 19 out of 50\n"
     ]
    },
    {
     "data": {
      "application/vnd.jupyter.widget-view+json": {
       "model_id": "42d8c9beee8b4b80ba1d2c709dc47091",
       "version_major": 2,
       "version_minor": 0
      },
      "text/plain": [
       "Training:   0%|          | 0/300 [00:00<?, ?it/s]"
      ]
     },
     "metadata": {},
     "output_type": "display_data"
    },
    {
     "data": {
      "application/vnd.jupyter.widget-view+json": {
       "model_id": "a7075360e5b64687a0ec916e4929be81",
       "version_major": 2,
       "version_minor": 0
      },
      "text/plain": [
       "Validation:   0%|          | 0/150 [00:00<?, ?it/s]"
      ]
     },
     "metadata": {},
     "output_type": "display_data"
    },
    {
     "name": "stdout",
     "output_type": "stream",
     "text": [
      "val_losses 25.41424504198134\n",
      "EarlyStopping counter: 20 out of 50\n"
     ]
    },
    {
     "data": {
      "application/vnd.jupyter.widget-view+json": {
       "model_id": "dedb2e1efbd5408780a7e9b89c6b43a8",
       "version_major": 2,
       "version_minor": 0
      },
      "text/plain": [
       "Training:   0%|          | 0/300 [00:00<?, ?it/s]"
      ]
     },
     "metadata": {},
     "output_type": "display_data"
    },
    {
     "data": {
      "application/vnd.jupyter.widget-view+json": {
       "model_id": "04ed90e8fc584fe7b6d75f5be52dd535",
       "version_major": 2,
       "version_minor": 0
      },
      "text/plain": [
       "Validation:   0%|          | 0/150 [00:00<?, ?it/s]"
      ]
     },
     "metadata": {},
     "output_type": "display_data"
    },
    {
     "name": "stdout",
     "output_type": "stream",
     "text": [
      "val_losses 26.371478510946034\n",
      "EarlyStopping counter: 21 out of 50\n"
     ]
    },
    {
     "data": {
      "application/vnd.jupyter.widget-view+json": {
       "model_id": "dd22efefd091479a81ac0ab290c29e9b",
       "version_major": 2,
       "version_minor": 0
      },
      "text/plain": [
       "Training:   0%|          | 0/300 [00:00<?, ?it/s]"
      ]
     },
     "metadata": {},
     "output_type": "display_data"
    },
    {
     "data": {
      "application/vnd.jupyter.widget-view+json": {
       "model_id": "c3f1ca12af66407d89410b8a62f2be50",
       "version_major": 2,
       "version_minor": 0
      },
      "text/plain": [
       "Validation:   0%|          | 0/150 [00:00<?, ?it/s]"
      ]
     },
     "metadata": {},
     "output_type": "display_data"
    },
    {
     "name": "stdout",
     "output_type": "stream",
     "text": [
      "val_losses 1.0092095780124266\n",
      "EarlyStopping counter: 22 out of 50\n"
     ]
    },
    {
     "data": {
      "application/vnd.jupyter.widget-view+json": {
       "model_id": "b9bf90936ec04b9785d4d50f7ac7f2f8",
       "version_major": 2,
       "version_minor": 0
      },
      "text/plain": [
       "Training:   0%|          | 0/300 [00:00<?, ?it/s]"
      ]
     },
     "metadata": {},
     "output_type": "display_data"
    },
    {
     "data": {
      "application/vnd.jupyter.widget-view+json": {
       "model_id": "11d76ddf9e80420292b5e042d6a44bd7",
       "version_major": 2,
       "version_minor": 0
      },
      "text/plain": [
       "Validation:   0%|          | 0/150 [00:00<?, ?it/s]"
      ]
     },
     "metadata": {},
     "output_type": "display_data"
    },
    {
     "name": "stdout",
     "output_type": "stream",
     "text": [
      "val_losses 0.37674472292264305\n",
      "EarlyStopping counter: 23 out of 50\n"
     ]
    },
    {
     "data": {
      "application/vnd.jupyter.widget-view+json": {
       "model_id": "1a461e1b494e46c58b7aa007c01f2403",
       "version_major": 2,
       "version_minor": 0
      },
      "text/plain": [
       "Training:   0%|          | 0/300 [00:00<?, ?it/s]"
      ]
     },
     "metadata": {},
     "output_type": "display_data"
    },
    {
     "data": {
      "application/vnd.jupyter.widget-view+json": {
       "model_id": "c6111aef81044ebbb64d1abb533d817c",
       "version_major": 2,
       "version_minor": 0
      },
      "text/plain": [
       "Validation:   0%|          | 0/150 [00:00<?, ?it/s]"
      ]
     },
     "metadata": {},
     "output_type": "display_data"
    },
    {
     "name": "stdout",
     "output_type": "stream",
     "text": [
      "val_losses 0.2996681529531876\n",
      "EarlyStopping counter: 24 out of 50\n"
     ]
    },
    {
     "data": {
      "application/vnd.jupyter.widget-view+json": {
       "model_id": "fd06c760130a4d9da940eaa7bd6501df",
       "version_major": 2,
       "version_minor": 0
      },
      "text/plain": [
       "Training:   0%|          | 0/300 [00:00<?, ?it/s]"
      ]
     },
     "metadata": {},
     "output_type": "display_data"
    },
    {
     "data": {
      "application/vnd.jupyter.widget-view+json": {
       "model_id": "0614f9e7bc304069b9c67b4143ddab60",
       "version_major": 2,
       "version_minor": 0
      },
      "text/plain": [
       "Validation:   0%|          | 0/150 [00:00<?, ?it/s]"
      ]
     },
     "metadata": {},
     "output_type": "display_data"
    },
    {
     "name": "stdout",
     "output_type": "stream",
     "text": [
      "val_losses 0.3309165454655886\n",
      "EarlyStopping counter: 25 out of 50\n"
     ]
    },
    {
     "data": {
      "application/vnd.jupyter.widget-view+json": {
       "model_id": "975458af5f1b4e46ae9147004f42c564",
       "version_major": 2,
       "version_minor": 0
      },
      "text/plain": [
       "Training:   0%|          | 0/300 [00:00<?, ?it/s]"
      ]
     },
     "metadata": {},
     "output_type": "display_data"
    },
    {
     "data": {
      "application/vnd.jupyter.widget-view+json": {
       "model_id": "5bc92917f38742afaf89f9c080dcb76b",
       "version_major": 2,
       "version_minor": 0
      },
      "text/plain": [
       "Validation:   0%|          | 0/150 [00:00<?, ?it/s]"
      ]
     },
     "metadata": {},
     "output_type": "display_data"
    },
    {
     "name": "stdout",
     "output_type": "stream",
     "text": [
      "val_losses 0.35441882729530333\n",
      "EarlyStopping counter: 26 out of 50\n"
     ]
    },
    {
     "data": {
      "application/vnd.jupyter.widget-view+json": {
       "model_id": "04055389433f41e2a20530fd54211b33",
       "version_major": 2,
       "version_minor": 0
      },
      "text/plain": [
       "Training:   0%|          | 0/300 [00:00<?, ?it/s]"
      ]
     },
     "metadata": {},
     "output_type": "display_data"
    },
    {
     "data": {
      "application/vnd.jupyter.widget-view+json": {
       "model_id": "73a15ef8593047008345e734e19a6fe3",
       "version_major": 2,
       "version_minor": 0
      },
      "text/plain": [
       "Validation:   0%|          | 0/150 [00:00<?, ?it/s]"
      ]
     },
     "metadata": {},
     "output_type": "display_data"
    },
    {
     "name": "stdout",
     "output_type": "stream",
     "text": [
      "val_losses 0.35854817296067876\n",
      "EarlyStopping counter: 27 out of 50\n"
     ]
    },
    {
     "data": {
      "application/vnd.jupyter.widget-view+json": {
       "model_id": "77b990009b4f43cda69b29901a1d7e26",
       "version_major": 2,
       "version_minor": 0
      },
      "text/plain": [
       "Training:   0%|          | 0/300 [00:00<?, ?it/s]"
      ]
     },
     "metadata": {},
     "output_type": "display_data"
    },
    {
     "data": {
      "application/vnd.jupyter.widget-view+json": {
       "model_id": "f52a0a2bbdd64be6a7207501647520e4",
       "version_major": 2,
       "version_minor": 0
      },
      "text/plain": [
       "Validation:   0%|          | 0/150 [00:00<?, ?it/s]"
      ]
     },
     "metadata": {},
     "output_type": "display_data"
    },
    {
     "name": "stdout",
     "output_type": "stream",
     "text": [
      "val_losses 0.3767943736165762\n",
      "EarlyStopping counter: 28 out of 50\n"
     ]
    },
    {
     "data": {
      "application/vnd.jupyter.widget-view+json": {
       "model_id": "d000dccd4ad041e8ae6929a0c1274af6",
       "version_major": 2,
       "version_minor": 0
      },
      "text/plain": [
       "Training:   0%|          | 0/300 [00:00<?, ?it/s]"
      ]
     },
     "metadata": {},
     "output_type": "display_data"
    },
    {
     "data": {
      "application/vnd.jupyter.widget-view+json": {
       "model_id": "0dbb5b1c31634f5ebcff0be197160029",
       "version_major": 2,
       "version_minor": 0
      },
      "text/plain": [
       "Validation:   0%|          | 0/150 [00:00<?, ?it/s]"
      ]
     },
     "metadata": {},
     "output_type": "display_data"
    },
    {
     "name": "stdout",
     "output_type": "stream",
     "text": [
      "val_losses 0.37399355113506316\n",
      "EarlyStopping counter: 29 out of 50\n"
     ]
    },
    {
     "data": {
      "application/vnd.jupyter.widget-view+json": {
       "model_id": "595704e44cb04616b77b5ff5fe35b00b",
       "version_major": 2,
       "version_minor": 0
      },
      "text/plain": [
       "Training:   0%|          | 0/300 [00:00<?, ?it/s]"
      ]
     },
     "metadata": {},
     "output_type": "display_data"
    },
    {
     "data": {
      "application/vnd.jupyter.widget-view+json": {
       "model_id": "de30853367aa47f6b08f124d1aa0958e",
       "version_major": 2,
       "version_minor": 0
      },
      "text/plain": [
       "Validation:   0%|          | 0/150 [00:00<?, ?it/s]"
      ]
     },
     "metadata": {},
     "output_type": "display_data"
    },
    {
     "name": "stdout",
     "output_type": "stream",
     "text": [
      "val_losses 0.38593620342512924\n",
      "EarlyStopping counter: 30 out of 50\n"
     ]
    },
    {
     "data": {
      "application/vnd.jupyter.widget-view+json": {
       "model_id": "72f91ed8a18141d2a55871cd6d4d63d3",
       "version_major": 2,
       "version_minor": 0
      },
      "text/plain": [
       "Training:   0%|          | 0/300 [00:00<?, ?it/s]"
      ]
     },
     "metadata": {},
     "output_type": "display_data"
    },
    {
     "data": {
      "application/vnd.jupyter.widget-view+json": {
       "model_id": "c141fa8ffe1748d9908ba812f4760805",
       "version_major": 2,
       "version_minor": 0
      },
      "text/plain": [
       "Validation:   0%|          | 0/150 [00:00<?, ?it/s]"
      ]
     },
     "metadata": {},
     "output_type": "display_data"
    },
    {
     "name": "stdout",
     "output_type": "stream",
     "text": [
      "val_losses 0.4049114773670832\n",
      "EarlyStopping counter: 31 out of 50\n"
     ]
    },
    {
     "data": {
      "application/vnd.jupyter.widget-view+json": {
       "model_id": "a6d544be7f184864ba81e5a102215887",
       "version_major": 2,
       "version_minor": 0
      },
      "text/plain": [
       "Training:   0%|          | 0/300 [00:00<?, ?it/s]"
      ]
     },
     "metadata": {},
     "output_type": "display_data"
    },
    {
     "data": {
      "application/vnd.jupyter.widget-view+json": {
       "model_id": "e9fc851d8a6146b6b33be61035b9f4a6",
       "version_major": 2,
       "version_minor": 0
      },
      "text/plain": [
       "Validation:   0%|          | 0/150 [00:00<?, ?it/s]"
      ]
     },
     "metadata": {},
     "output_type": "display_data"
    },
    {
     "name": "stdout",
     "output_type": "stream",
     "text": [
      "val_losses 1.701244846532742\n",
      "EarlyStopping counter: 32 out of 50\n"
     ]
    },
    {
     "data": {
      "application/vnd.jupyter.widget-view+json": {
       "model_id": "7de9d46d4ec14a1e8cec7688250d553c",
       "version_major": 2,
       "version_minor": 0
      },
      "text/plain": [
       "Training:   0%|          | 0/300 [00:00<?, ?it/s]"
      ]
     },
     "metadata": {},
     "output_type": "display_data"
    },
    {
     "data": {
      "application/vnd.jupyter.widget-view+json": {
       "model_id": "ec8aa3e7b57e4cf2889beaaefe1b73be",
       "version_major": 2,
       "version_minor": 0
      },
      "text/plain": [
       "Validation:   0%|          | 0/150 [00:00<?, ?it/s]"
      ]
     },
     "metadata": {},
     "output_type": "display_data"
    },
    {
     "name": "stdout",
     "output_type": "stream",
     "text": [
      "val_losses 0.31921754732728\n",
      "EarlyStopping counter: 33 out of 50\n"
     ]
    },
    {
     "data": {
      "application/vnd.jupyter.widget-view+json": {
       "model_id": "e1a96367642b4ca09cb4c3f54ce0770c",
       "version_major": 2,
       "version_minor": 0
      },
      "text/plain": [
       "Training:   0%|          | 0/300 [00:00<?, ?it/s]"
      ]
     },
     "metadata": {},
     "output_type": "display_data"
    },
    {
     "data": {
      "application/vnd.jupyter.widget-view+json": {
       "model_id": "00ebb383dbff4dac8726365866eba79b",
       "version_major": 2,
       "version_minor": 0
      },
      "text/plain": [
       "Validation:   0%|          | 0/150 [00:00<?, ?it/s]"
      ]
     },
     "metadata": {},
     "output_type": "display_data"
    },
    {
     "name": "stdout",
     "output_type": "stream",
     "text": [
      "val_losses 8.215031795203686\n",
      "EarlyStopping counter: 34 out of 50\n"
     ]
    },
    {
     "data": {
      "application/vnd.jupyter.widget-view+json": {
       "model_id": "eacae789cc134377824f9c9026bfb14a",
       "version_major": 2,
       "version_minor": 0
      },
      "text/plain": [
       "Training:   0%|          | 0/300 [00:00<?, ?it/s]"
      ]
     },
     "metadata": {},
     "output_type": "display_data"
    },
    {
     "data": {
      "application/vnd.jupyter.widget-view+json": {
       "model_id": "35c86e36741748718689f55ef91d8b22",
       "version_major": 2,
       "version_minor": 0
      },
      "text/plain": [
       "Validation:   0%|          | 0/150 [00:00<?, ?it/s]"
      ]
     },
     "metadata": {},
     "output_type": "display_data"
    },
    {
     "name": "stdout",
     "output_type": "stream",
     "text": [
      "val_losses 0.4214320801943541\n",
      "EarlyStopping counter: 35 out of 50\n"
     ]
    },
    {
     "data": {
      "application/vnd.jupyter.widget-view+json": {
       "model_id": "7dd4e84e5d154695ba2ef0b862e2af0a",
       "version_major": 2,
       "version_minor": 0
      },
      "text/plain": [
       "Training:   0%|          | 0/300 [00:00<?, ?it/s]"
      ]
     },
     "metadata": {},
     "output_type": "display_data"
    },
    {
     "data": {
      "application/vnd.jupyter.widget-view+json": {
       "model_id": "077bde0ec712426c852a27bb51cf5f1e",
       "version_major": 2,
       "version_minor": 0
      },
      "text/plain": [
       "Validation:   0%|          | 0/150 [00:00<?, ?it/s]"
      ]
     },
     "metadata": {},
     "output_type": "display_data"
    },
    {
     "name": "stdout",
     "output_type": "stream",
     "text": [
      "val_losses 0.3802277133613825\n",
      "EarlyStopping counter: 36 out of 50\n"
     ]
    },
    {
     "data": {
      "application/vnd.jupyter.widget-view+json": {
       "model_id": "9b614bc136a149e4b1479f717a9a49f4",
       "version_major": 2,
       "version_minor": 0
      },
      "text/plain": [
       "Training:   0%|          | 0/300 [00:00<?, ?it/s]"
      ]
     },
     "metadata": {},
     "output_type": "display_data"
    },
    {
     "data": {
      "application/vnd.jupyter.widget-view+json": {
       "model_id": "e764d5cd95fc4a538df1322b00c0d7be",
       "version_major": 2,
       "version_minor": 0
      },
      "text/plain": [
       "Validation:   0%|          | 0/150 [00:00<?, ?it/s]"
      ]
     },
     "metadata": {},
     "output_type": "display_data"
    },
    {
     "name": "stdout",
     "output_type": "stream",
     "text": [
      "val_losses 0.3959221226473649\n",
      "EarlyStopping counter: 37 out of 50\n"
     ]
    },
    {
     "data": {
      "application/vnd.jupyter.widget-view+json": {
       "model_id": "414446f4bb434bb2bd0fba871aa63a64",
       "version_major": 2,
       "version_minor": 0
      },
      "text/plain": [
       "Training:   0%|          | 0/300 [00:00<?, ?it/s]"
      ]
     },
     "metadata": {},
     "output_type": "display_data"
    },
    {
     "data": {
      "application/vnd.jupyter.widget-view+json": {
       "model_id": "df6edfbe10774233baf8c23ec694a5f0",
       "version_major": 2,
       "version_minor": 0
      },
      "text/plain": [
       "Validation:   0%|          | 0/150 [00:00<?, ?it/s]"
      ]
     },
     "metadata": {},
     "output_type": "display_data"
    },
    {
     "name": "stdout",
     "output_type": "stream",
     "text": [
      "val_losses 0.41360277225573855\n",
      "EarlyStopping counter: 38 out of 50\n"
     ]
    },
    {
     "data": {
      "application/vnd.jupyter.widget-view+json": {
       "model_id": "23eb7fd84c604d1bbd2e962a05c7379a",
       "version_major": 2,
       "version_minor": 0
      },
      "text/plain": [
       "Training:   0%|          | 0/300 [00:00<?, ?it/s]"
      ]
     },
     "metadata": {},
     "output_type": "display_data"
    },
    {
     "data": {
      "application/vnd.jupyter.widget-view+json": {
       "model_id": "29b440805fc443a8a9680da764f4c76e",
       "version_major": 2,
       "version_minor": 0
      },
      "text/plain": [
       "Validation:   0%|          | 0/150 [00:00<?, ?it/s]"
      ]
     },
     "metadata": {},
     "output_type": "display_data"
    },
    {
     "name": "stdout",
     "output_type": "stream",
     "text": [
      "val_losses 0.4161544154336055\n",
      "EarlyStopping counter: 39 out of 50\n"
     ]
    },
    {
     "data": {
      "application/vnd.jupyter.widget-view+json": {
       "model_id": "088bc65642d3460694a8e4dea5b2266f",
       "version_major": 2,
       "version_minor": 0
      },
      "text/plain": [
       "Training:   0%|          | 0/300 [00:00<?, ?it/s]"
      ]
     },
     "metadata": {},
     "output_type": "display_data"
    },
    {
     "data": {
      "application/vnd.jupyter.widget-view+json": {
       "model_id": "e52558efe8fa4b148f115f350c47be15",
       "version_major": 2,
       "version_minor": 0
      },
      "text/plain": [
       "Validation:   0%|          | 0/150 [00:00<?, ?it/s]"
      ]
     },
     "metadata": {},
     "output_type": "display_data"
    },
    {
     "name": "stdout",
     "output_type": "stream",
     "text": [
      "val_losses 0.9749745888759692\n",
      "EarlyStopping counter: 40 out of 50\n"
     ]
    },
    {
     "data": {
      "application/vnd.jupyter.widget-view+json": {
       "model_id": "b327eba4e5fe4b379bb72d9d22757669",
       "version_major": 2,
       "version_minor": 0
      },
      "text/plain": [
       "Training:   0%|          | 0/300 [00:00<?, ?it/s]"
      ]
     },
     "metadata": {},
     "output_type": "display_data"
    },
    {
     "data": {
      "application/vnd.jupyter.widget-view+json": {
       "model_id": "475bacc894b948a19a8da6a5cd96e92b",
       "version_major": 2,
       "version_minor": 0
      },
      "text/plain": [
       "Validation:   0%|          | 0/150 [00:00<?, ?it/s]"
      ]
     },
     "metadata": {},
     "output_type": "display_data"
    },
    {
     "name": "stdout",
     "output_type": "stream",
     "text": [
      "val_losses 1.1132432987292609\n",
      "EarlyStopping counter: 41 out of 50\n"
     ]
    },
    {
     "data": {
      "application/vnd.jupyter.widget-view+json": {
       "model_id": "6caf1ed5482c41f4bad5f72cc5c25d9f",
       "version_major": 2,
       "version_minor": 0
      },
      "text/plain": [
       "Training:   0%|          | 0/300 [00:00<?, ?it/s]"
      ]
     },
     "metadata": {},
     "output_type": "display_data"
    },
    {
     "data": {
      "application/vnd.jupyter.widget-view+json": {
       "model_id": "16b1e9385e1c4bab91cde20391d659e5",
       "version_major": 2,
       "version_minor": 0
      },
      "text/plain": [
       "Validation:   0%|          | 0/150 [00:00<?, ?it/s]"
      ]
     },
     "metadata": {},
     "output_type": "display_data"
    },
    {
     "name": "stdout",
     "output_type": "stream",
     "text": [
      "val_losses 0.44975269846618177\n",
      "EarlyStopping counter: 42 out of 50\n"
     ]
    },
    {
     "data": {
      "application/vnd.jupyter.widget-view+json": {
       "model_id": "16c7d3abc4cd4ec991d57467496e0e12",
       "version_major": 2,
       "version_minor": 0
      },
      "text/plain": [
       "Training:   0%|          | 0/300 [00:00<?, ?it/s]"
      ]
     },
     "metadata": {},
     "output_type": "display_data"
    },
    {
     "data": {
      "application/vnd.jupyter.widget-view+json": {
       "model_id": "b4c3e75c44e24b68a29bbd46ef7b52a8",
       "version_major": 2,
       "version_minor": 0
      },
      "text/plain": [
       "Validation:   0%|          | 0/150 [00:00<?, ?it/s]"
      ]
     },
     "metadata": {},
     "output_type": "display_data"
    },
    {
     "name": "stdout",
     "output_type": "stream",
     "text": [
      "val_losses 2.4482719197372593\n",
      "EarlyStopping counter: 43 out of 50\n"
     ]
    },
    {
     "data": {
      "application/vnd.jupyter.widget-view+json": {
       "model_id": "a170321a6ade47ad88bd9778428e669f",
       "version_major": 2,
       "version_minor": 0
      },
      "text/plain": [
       "Training:   0%|          | 0/300 [00:00<?, ?it/s]"
      ]
     },
     "metadata": {},
     "output_type": "display_data"
    },
    {
     "data": {
      "application/vnd.jupyter.widget-view+json": {
       "model_id": "39e4fb2537a74970b17db738fb7778ba",
       "version_major": 2,
       "version_minor": 0
      },
      "text/plain": [
       "Validation:   0%|          | 0/150 [00:00<?, ?it/s]"
      ]
     },
     "metadata": {},
     "output_type": "display_data"
    },
    {
     "name": "stdout",
     "output_type": "stream",
     "text": [
      "val_losses 3.0536986403912305\n",
      "EarlyStopping counter: 44 out of 50\n"
     ]
    },
    {
     "data": {
      "application/vnd.jupyter.widget-view+json": {
       "model_id": "9a0ac6bf401c4a478219871b1cddd98d",
       "version_major": 2,
       "version_minor": 0
      },
      "text/plain": [
       "Training:   0%|          | 0/300 [00:00<?, ?it/s]"
      ]
     },
     "metadata": {},
     "output_type": "display_data"
    },
    {
     "data": {
      "application/vnd.jupyter.widget-view+json": {
       "model_id": "26d639ee0d2d44399ac3f10febf81b1b",
       "version_major": 2,
       "version_minor": 0
      },
      "text/plain": [
       "Validation:   0%|          | 0/150 [00:00<?, ?it/s]"
      ]
     },
     "metadata": {},
     "output_type": "display_data"
    },
    {
     "name": "stdout",
     "output_type": "stream",
     "text": [
      "val_losses 0.4036157675584157\n",
      "EarlyStopping counter: 45 out of 50\n"
     ]
    },
    {
     "data": {
      "application/vnd.jupyter.widget-view+json": {
       "model_id": "2c10d1d97dab41d0b1afd1ab98d7b49b",
       "version_major": 2,
       "version_minor": 0
      },
      "text/plain": [
       "Training:   0%|          | 0/300 [00:00<?, ?it/s]"
      ]
     },
     "metadata": {},
     "output_type": "display_data"
    },
    {
     "data": {
      "application/vnd.jupyter.widget-view+json": {
       "model_id": "3842602172414186bf101f0eb73ebb8c",
       "version_major": 2,
       "version_minor": 0
      },
      "text/plain": [
       "Validation:   0%|          | 0/150 [00:00<?, ?it/s]"
      ]
     },
     "metadata": {},
     "output_type": "display_data"
    },
    {
     "name": "stdout",
     "output_type": "stream",
     "text": [
      "val_losses 5.753492712080479\n",
      "EarlyStopping counter: 46 out of 50\n"
     ]
    },
    {
     "data": {
      "application/vnd.jupyter.widget-view+json": {
       "model_id": "c410600e6464470fbde050df566c3000",
       "version_major": 2,
       "version_minor": 0
      },
      "text/plain": [
       "Training:   0%|          | 0/300 [00:00<?, ?it/s]"
      ]
     },
     "metadata": {},
     "output_type": "display_data"
    },
    {
     "data": {
      "application/vnd.jupyter.widget-view+json": {
       "model_id": "3767d774686a416cbe278c9f4153e568",
       "version_major": 2,
       "version_minor": 0
      },
      "text/plain": [
       "Validation:   0%|          | 0/150 [00:00<?, ?it/s]"
      ]
     },
     "metadata": {},
     "output_type": "display_data"
    },
    {
     "name": "stdout",
     "output_type": "stream",
     "text": [
      "val_losses 1.783060422167182\n",
      "EarlyStopping counter: 47 out of 50\n"
     ]
    },
    {
     "data": {
      "application/vnd.jupyter.widget-view+json": {
       "model_id": "5974425adca049eebc9163968786b013",
       "version_major": 2,
       "version_minor": 0
      },
      "text/plain": [
       "Training:   0%|          | 0/300 [00:00<?, ?it/s]"
      ]
     },
     "metadata": {},
     "output_type": "display_data"
    },
    {
     "data": {
      "application/vnd.jupyter.widget-view+json": {
       "model_id": "e642a78b894740d1a7d815f8eb100024",
       "version_major": 2,
       "version_minor": 0
      },
      "text/plain": [
       "Validation:   0%|          | 0/150 [00:00<?, ?it/s]"
      ]
     },
     "metadata": {},
     "output_type": "display_data"
    },
    {
     "name": "stdout",
     "output_type": "stream",
     "text": [
      "val_losses 0.429046839872996\n",
      "EarlyStopping counter: 48 out of 50\n"
     ]
    },
    {
     "data": {
      "application/vnd.jupyter.widget-view+json": {
       "model_id": "9c822eeae49740f98d4c3cfa2c5391e3",
       "version_major": 2,
       "version_minor": 0
      },
      "text/plain": [
       "Training:   0%|          | 0/300 [00:00<?, ?it/s]"
      ]
     },
     "metadata": {},
     "output_type": "display_data"
    },
    {
     "data": {
      "application/vnd.jupyter.widget-view+json": {
       "model_id": "7deccc2c1fcc4747b5e3ece93b038b0e",
       "version_major": 2,
       "version_minor": 0
      },
      "text/plain": [
       "Validation:   0%|          | 0/150 [00:00<?, ?it/s]"
      ]
     },
     "metadata": {},
     "output_type": "display_data"
    },
    {
     "name": "stdout",
     "output_type": "stream",
     "text": [
      "val_losses 6.208486632083853\n",
      "EarlyStopping counter: 49 out of 50\n"
     ]
    },
    {
     "data": {
      "application/vnd.jupyter.widget-view+json": {
       "model_id": "66264dd75bf24992aaefcd7ab4fd103f",
       "version_major": 2,
       "version_minor": 0
      },
      "text/plain": [
       "Training:   0%|          | 0/300 [00:00<?, ?it/s]"
      ]
     },
     "metadata": {},
     "output_type": "display_data"
    },
    {
     "data": {
      "application/vnd.jupyter.widget-view+json": {
       "model_id": "e2491414661948dab0ea70d3d4566696",
       "version_major": 2,
       "version_minor": 0
      },
      "text/plain": [
       "Validation:   0%|          | 0/150 [00:00<?, ?it/s]"
      ]
     },
     "metadata": {},
     "output_type": "display_data"
    },
    {
     "name": "stdout",
     "output_type": "stream",
     "text": [
      "val_losses 0.6939203474919001\n",
      "EarlyStopping counter: 50 out of 50\n",
      "early stopping epoch: 50\n",
      "***************************\n",
      "modelname:model.ptを保存しました\n"
     ]
    }
   ],
   "source": [
    "## Test Learn_EA without annealing\n",
    "# training transformations and augmentations\n",
    "transforms_training = ComposeDouble([\n",
    "    FunctionWrapperDouble(create_dense_target, input=False, target=True),\n",
    "    FunctionWrapperDouble(np.moveaxis, input=True, target=False, source=-1, destination=0),\n",
    "    FunctionWrapperDouble(normalize_01)\n",
    "])\n",
    "\n",
    "#追加箇所ver3\n",
    "transforms_val =  ComposeDouble([\n",
    "    FunctionWrapperDouble(create_dense_target, input=False, target=True),\n",
    "    FunctionWrapperDouble(np.moveaxis, input=True, target=False, source=-1, destination=0),\n",
    "    FunctionWrapperDouble(normalize_01)\n",
    "])\n",
    "# random seed\n",
    "random_seed = 0\n",
    "input_dataset,label_dataset = CreateWeightImage(input_train)\n",
    "input_dataset_val,label_dataset_val = CreateWeightImage(input_name_val)\n",
    "\n",
    "\n",
    "Learn_EA(input_dataset,label_dataset,input_dataset_val,label_dataset_val,0)"
   ]
  },
  {
   "cell_type": "code",
   "execution_count": 18,
   "metadata": {},
   "outputs": [],
   "source": [
    "# # Dicecの計算\n",
    "# def cal_Dice(dir, input_name):\n",
    "#     # change the label count as your preference\n",
    "#     Dice = [0] * 2\n",
    "#     Count1 = [0] * 2 #予測結果の各ラベルの要素数\n",
    "#     Count2 = [0] * 2 #ラベル画像の\n",
    "#     Count3 = [0] * 2 #正解した画素数\n",
    "#     unique_label = set()\n",
    "#     for index in range(len(input_name)):\n",
    "#         print('index = ', index)\n",
    "\n",
    "#         img1 = cv2.imread(dir + '/' + input_name[index] + \".png\", cv2.IMREAD_GRAYSCALE)\n",
    "#         img2 = cv2.imread(labeled_dir + '/' + input_name[index] + \".png\", cv2.IMREAD_GRAYSCALE)\n",
    "#         #_, img2 = cv2.threshold(img2, 0, 255, cv2.THRESH_BINARY)\n",
    "#         print(\"予測画像:\", dir  + '/' + input_name[index] + \".png\")\n",
    "#         print(\"テストラベル:\", labeled_dir + '/' + input_name[index] + \".png\")\n",
    "        \n",
    "#         # change the image array size to your need\n",
    "#         for n in range(255):\n",
    "#             for l in range(255):\n",
    "#                 value = img1[n,l]\n",
    "#                 unique_label.add(value)\n",
    "#                 if value == 0:\n",
    "#                     Count1[0] += 1\n",
    "#                 else:\n",
    "#                     Count1[1] = Count1[1] + 1\n",
    "#                 # Count1[value] = Count1[value] + 1\n",
    "#                 value2 = img2[n,l]\n",
    "#                 if value2 == 0:\n",
    "#                     Count2[0] = Count2[0] + 1\n",
    "#                 else:\n",
    "#                     Count2[1] = Count2[1] + 1\n",
    "#                 # Count2[value2] = Count2[value2] + 1\n",
    "\n",
    "#                 if(img1[n][l] == img2[n][l]):\n",
    "#                     if value == 0:\n",
    "#                         Count3[0] = Count3[0] + 1\n",
    "#                     else:\n",
    "#                         Count3[1] = Count3[1] + 1\n",
    "#                     # Count3[value] = Count3[value] + 1\n",
    "\n",
    "\n",
    "#     for i in range(2):\n",
    "#         if(Count1[i]+Count2[i] != 0):\n",
    "#             Dice[i] = (2*Count3[i])/(Count1[i] + Count2[i])\n",
    "#     print('Count1 = ', Count1)\n",
    "#     print('Count2 = ', Count2)\n",
    "#     print('Count3 = ', Count3)\n",
    "#     print('Dice = ', Dice)\n",
    "#     #print(unique_label)\n",
    "\n",
    "#     return Dice\n"
   ]
  },
  {
   "cell_type": "code",
   "execution_count": 19,
   "metadata": {},
   "outputs": [],
   "source": [
    "import statistics\n",
    "# Dicecの計算\n",
    "def cal_DiceMulitple(dir, input_name):\n",
    "    # change the label count as your preference\n",
    "    Dice = [0] * 11\n",
    "    Count1 = [0] * 11 #予測結果の各ラベルの要素数\n",
    "    Count2 = [0] * 11 #ラベル画像の\n",
    "    Count3 = [0] * 11 #正解した画素数\n",
    "    \n",
    "    for index in range(len(input_name)):\n",
    "        print('index = ', index)\n",
    "\n",
    "        img1 = cv2.imread(dir + '/' + input_name[index] + \".png\", cv2.IMREAD_GRAYSCALE)\n",
    "        img2 = cv2.imread(labeled_dir + '/' + input_name[index] + \".png\", cv2.IMREAD_GRAYSCALE)\n",
    "        #_, img2 = cv2.threshold(img2, 0, 255, cv2.THRESH_BINARY)\n",
    "        print(\"予測画像:\", dir  + '/' + input_name[index] + \".png\")\n",
    "        print(\"テストラベル:\", labeled_dir + '/' + input_name[index] + \".png\")\n",
    "        unique_label1 = np.unique(img1)\n",
    "        unique_label2 = np.unique(img2)\n",
    "        # print(unique_label1)\n",
    "        # print(unique_label2)\n",
    "        # change the image array size to your need\n",
    "        for n in range(256):\n",
    "            for l in range(256):\n",
    "                value1 = img1[n,l]\n",
    "                # for index, uq_value in enumerate(unique_label1):\n",
    "                #     if(value1 == uq_value):\n",
    "                #         value1 = index\n",
    "\n",
    "                Count1[value1] += 1\n",
    "\n",
    "                value2 = img2[n,l]\n",
    "                Count2[value2] += 1                    \n",
    "\n",
    "                if(value1 == value2):\n",
    "                    Count3[value1] += 1 \n",
    "    for i in range(11):\n",
    "        if(Count1[i]+Count2[i] != 0):\n",
    "            Dice[i] = (2*Count3[i])/(Count1[i] + Count2[i])\n",
    "        if(Count1[i]+Count2[i] == 0):\n",
    "            print(\"\")\n",
    "            #print(\"4 label case:\" + str(input_name[index]))\n",
    "    Dice.append(statistics.mean(Dice[1:]))\n",
    "    print('Count1 = ', Count1)\n",
    "    print('Count2 = ', Count2)\n",
    "    print('Count3 = ', Count3)\n",
    "    print('Dice = ', Dice)\n",
    "    #print(unique_label)\n",
    "\n",
    "    return Dice\n"
   ]
  },
  {
   "cell_type": "code",
   "execution_count": 20,
   "metadata": {},
   "outputs": [
    {
     "name": "stdout",
     "output_type": "stream",
     "text": [
      "in constructor inchannel: 45\n",
      "Input channel count1\n",
      "model_dir =  model/20241029-Conv1x1-666\n",
      "in create now\n",
      "Number of label images: 9\n",
      "dataset shape  (9, 256, 256, 45)\n",
      "label shape  (9, 256, 256)\n",
      "end create now\n",
      "index =  0\n",
      "予測画像: /home/eric/Documents/cervicalResearchIIP/result_test/20241029-Conv1x1-666/oN4-1.png\n",
      "テストラベル: /home/eric/Documents/cervicalResearchIIP/img_1006t/testLabel/oN4-1.png\n",
      "index =  1\n",
      "予測画像: /home/eric/Documents/cervicalResearchIIP/result_test/20241029-Conv1x1-666/oN4-2.png\n",
      "テストラベル: /home/eric/Documents/cervicalResearchIIP/img_1006t/testLabel/oN4-2.png\n",
      "index =  2\n",
      "予測画像: /home/eric/Documents/cervicalResearchIIP/result_test/20241029-Conv1x1-666/oN4-3.png\n",
      "テストラベル: /home/eric/Documents/cervicalResearchIIP/img_1006t/testLabel/oN4-3.png\n",
      "index =  3\n",
      "予測画像: /home/eric/Documents/cervicalResearchIIP/result_test/20241029-Conv1x1-666/oN4-4.png\n",
      "テストラベル: /home/eric/Documents/cervicalResearchIIP/img_1006t/testLabel/oN4-4.png\n",
      "index =  4\n",
      "予測画像: /home/eric/Documents/cervicalResearchIIP/result_test/20241029-Conv1x1-666/oN4-5.png\n",
      "テストラベル: /home/eric/Documents/cervicalResearchIIP/img_1006t/testLabel/oN4-5.png\n",
      "index =  5\n",
      "予測画像: /home/eric/Documents/cervicalResearchIIP/result_test/20241029-Conv1x1-666/oN4-6.png\n",
      "テストラベル: /home/eric/Documents/cervicalResearchIIP/img_1006t/testLabel/oN4-6.png\n",
      "index =  6\n",
      "予測画像: /home/eric/Documents/cervicalResearchIIP/result_test/20241029-Conv1x1-666/oN4-7.png\n",
      "テストラベル: /home/eric/Documents/cervicalResearchIIP/img_1006t/testLabel/oN4-7.png\n",
      "index =  7\n",
      "予測画像: /home/eric/Documents/cervicalResearchIIP/result_test/20241029-Conv1x1-666/oN4-8.png\n",
      "テストラベル: /home/eric/Documents/cervicalResearchIIP/img_1006t/testLabel/oN4-8.png\n",
      "index =  8\n",
      "予測画像: /home/eric/Documents/cervicalResearchIIP/result_test/20241029-Conv1x1-666/oN4-9.png\n",
      "テストラベル: /home/eric/Documents/cervicalResearchIIP/img_1006t/testLabel/oN4-9.png\n",
      "Count1 =  [523099, 10047, 6545, 7737, 5076, 6407, 5239, 6769, 4910, 8502, 5493]\n",
      "Count2 =  [523295, 10006, 6824, 7331, 5082, 6971, 5069, 6935, 4980, 8115, 5216]\n",
      "Count3 =  [517794, 9170, 6161, 6636, 4663, 5760, 4152, 5774, 3803, 6838, 4559]\n",
      "Dice =  [0.9896731059237724, 0.9145763726125766, 0.9216844939786072, 0.8808070082293602, 0.9180941130143729, 0.8611152638660488, 0.8055878928987195, 0.8426736719206072, 0.7690596562184024, 0.8230125774808931, 0.8514333737977402, 0.8588044424017328]\n"
     ]
    }
   ],
   "source": [
    "## Test of 1x1conv\n",
    "import statistics\n",
    "# device\n",
    "if torch.cuda.is_available():\n",
    "    device = torch.device('cuda')\n",
    "else:\n",
    "    print(\"Using CPU instead of GPU\")\n",
    "    torch.device('cpu')\n",
    "\n",
    "model = UNet(in_channels=IN_CHANNEL,  # check the parameters\n",
    "             out_channels=11,\n",
    "             n_blocks=N_BLOCK,\n",
    "             start_filters=32,\n",
    "             activation='relu',\n",
    "             normalization='batch', #use instance when \"batch\" size is less than 10? batch\n",
    "             conv_mode='same',\n",
    "             dim=2).to(device)\n",
    "\n",
    "model_dir = os.path.join(\"model\", date_str)\n",
    "print(\"model_dir = \", model_dir)\n",
    "model_path = os.path.join(model_dir, \"model.pt\") # load the model\n",
    "model_weights = torch.load(model_path)\n",
    "model.load_state_dict(model_weights)\n",
    "\n",
    "model.eval()\n",
    "\n",
    "# create test dataset\n",
    "test_input_dataset, _ = CreateWeightImage(test_input_name) \n",
    "\n",
    "# convert to torch\n",
    "test_input_tensor = torch.from_numpy(test_input_dataset).float().to(device)\n",
    "\n",
    "from inference import predict\n",
    "from transformations import normalize_01, re_normalize\n",
    "# predict\n",
    "output = [predict(img, model, preprocess, postprocess, device) for img in test_input_dataset]\n",
    "\n",
    "\n",
    "plot_output_img = list()\n",
    "# save images\n",
    "for i, output_img in enumerate(output):\n",
    "    #for checking the unique values of the result label\n",
    "    labels = np.unique(output_img)\n",
    "\n",
    "    cv2.imwrite(os.path.join(test_result_dir, f\"{test_input_name[i]}.png\"), output_img)  # 根据需要调整文件路径和命名\n",
    "\n",
    "    #print(labels)\n",
    "    plot_output_img.append(output_img)\n",
    "\n",
    "\n",
    "Dice = cal_DiceMulitple(test_result_dir, test_input_name)\n",
    "df = pd.DataFrame(Dice)\n",
    "df = df.T\n",
    "df.to_csv(test_result_dir + \"/Dice.csv\", mode='a', header=False) # Diceの結果をcsvに追加\n",
    "\n"
   ]
  },
  {
   "cell_type": "code",
   "execution_count": 21,
   "metadata": {},
   "outputs": [],
   "source": [
    "#########\n",
    "### To plot the label images of the test dataset\n",
    "#########\n",
    "\n",
    "# input_name = test_input_name\n",
    "# label_img = []\n",
    "# for index in range(len(input_name)):\n",
    "#     imgLabel = cv2.imread(labeled_dir + '/' + input_name[index] + \".png\", cv2.IMREAD_GRAYSCALE)\n",
    "#     label_img.append(imgLabel)\n",
    "\n",
    "# plot_output_img = label_img\n"
   ]
  },
  {
   "cell_type": "code",
   "execution_count": 22,
   "metadata": {},
   "outputs": [],
   "source": [
    "from plotImg import plot_images\n",
    "def plot_label_image(plot_output_img):\n",
    "     plot_img = []\n",
    "     for output_img in plot_output_img:\n",
    "          labels = np.unique(output_img)\n",
    "          image = np.ones((255, 255, 3), dtype=np.uint8) * 0\n",
    "          for x in range(255):\n",
    "               for y in range(255):\n",
    "                    # Get the pixel value (brightness)\n",
    "                    pixel = output_img[x][y]\n",
    "                    #  print(type(output_img))\n",
    "                    if pixel == labels[0]:\n",
    "                         image[x, y] = [0,0,0]\n",
    "                    elif pixel == labels[1]:\n",
    "                         image[x, y] = [2, 247, 68]\n",
    "                    elif pixel == labels[2]:\n",
    "                         image[x, y] = [255, 0, 38]\n",
    "                    elif pixel == labels[3]:\n",
    "                         image[x, y] = [234, 5, 250]\n",
    "                    elif pixel == labels[4]:\n",
    "                         image[x, y] = [21, 0, 255]\n",
    "                    elif pixel == labels[5]:\n",
    "                         image[x, y] = [0, 220, 245]\n",
    "                    elif pixel == labels[6]:\n",
    "                         image[x, y] = [205, 240, 7]\n",
    "                    elif pixel == labels[7]:\n",
    "                         image[x, y] = [255, 98, 0]\n",
    "                    elif pixel == labels[8]:\n",
    "                         image[x, y] = [0, 174, 255]\n",
    "                    elif pixel == labels[9]:\n",
    "                         image[x, y] = [255, 0, 174]\n",
    "                    elif pixel == labels[10]:\n",
    "                         image[x, y] = [198, 119, 74]\n",
    "                    else:\n",
    "                         print(\"There are more labels!\")\n",
    "          plot_img.append(image)\n",
    "     plot_images(test_result_dir, plot_img)\n",
    "\n"
   ]
  },
  {
   "cell_type": "code",
   "execution_count": 23,
   "metadata": {},
   "outputs": [
    {
     "data": {
      "image/png": "[encoded data removed]",
      "text/plain": [
       "<Figure size 800x800 with 9 Axes>"
      ]
     },
     "metadata": {},
     "output_type": "display_data"
    }
   ],
   "source": [
    "plot_label_image(plot_output_img)"
   ]
  },
  {
   "cell_type": "code",
   "execution_count": 24,
   "metadata": {},
   "outputs": [],
   "source": [
    "import csv\n",
    "path = test_result_dir\n",
    "filename = 'featureCombination.csv'\n",
    "full_path = os.path.join(path, filename)\n",
    "with open(full_path, 'w', newline='') as csvfile:\n",
    "    writer = csv.writer(csvfile)\n",
    "    # Write a single row containing the string\n",
    "    writer.writerow([inputfeature_list])\n"
   ]
  },
  {
   "cell_type": "code",
   "execution_count": 25,
   "metadata": {},
   "outputs": [],
   "source": [
    "## use the part when trying to read already trained model's results from dir\n",
    "\n",
    "# result_test_path = '/home/eric/Documents/cervicalResearchIIP/result_test/20241024-Conv1x1-666'\n",
    "# images_label_gray = []\n",
    "# crf_file_names = []\n",
    "\n",
    "# for filename in os.listdir(result_test_path):\n",
    "#     # Check if the file is a PNG image\n",
    "#     if filename.endswith('.png'):\n",
    "#         if filename.startswith(\"oN\"):\n",
    "#             # Construct the full file path\n",
    "#             print(filename)\n",
    "#             crf_file_names.append(filename)\n",
    "#             file_path = os.path.join(result_test_path, filename)\n",
    "#             # Read the image using OpenCV\n",
    "#             img = cv2.imread(file_path)\n",
    "#             if img is not None:\n",
    "#                 #images.append(img) color\n",
    "#                 img_gray = cv2.cvtColor(img, cv2.COLOR_BGR2GRAY)\n",
    "#                 images_label_gray.append(img_gray)  # Append the grayscale image\n",
    "#             else:\n",
    "#                 print(f\"Failed to read image: {file_path}\")\n",
    "\n",
    "# # Now `images` contains all the loaded PNG images\n",
    "# print(f\"Loaded {len(images_label_gray)} images.\")\n",
    "\n",
    "# if images_label_gray:\n",
    "#     print(f\"Shape of the first image: {images_label_gray[0].shape}\")  # This will show the dimensions of the image\n",
    "# print(np.unique(images_label_gray))\n",
    "\n",
    "# plot_label_image(images_label_gray)"
   ]
  },
  {
   "cell_type": "code",
   "execution_count": 26,
   "metadata": {},
   "outputs": [],
   "source": [
    "# import pydensecrf.densecrf as dcrf\n",
    "# from pydensecrf.utils import unary_from_labels, create_pairwise_gaussian\n",
    "\n",
    "## use this part when using crf on already trained model with results\n",
    "## in other words, the unet output images are in \"output_img\" variable\n",
    "\n",
    "# images_label_gray = plot_output_img\n",
    "## implementations regarding crf file names when using already trained model\n",
    "##...\n",
    "\n",
    "\n",
    "# # Segmentation output from U-Net (predicted image)\n",
    "# images_label_gray = np.array(images_label_gray)\n",
    "# #labels = images_label_gray[5]\n",
    "# refined_labels = []\n",
    "# for image_label_gray in images_label_gray:\n",
    "#     print(image_label_gray.shape)\n",
    "\n",
    "\n",
    "\n",
    "#     H, W = image_label_gray.shape\n",
    "#     image_label_gray = image_label_gray.flatten()\n",
    "\n",
    "#     print(np.unique(image_label_gray))\n",
    "\n",
    "#     invalid_indices = np.where((image_label_gray < 0) | (image_label_gray > 10))\n",
    "\n",
    "#     # Check if there are any invalid indices\n",
    "#     if invalid_indices[0].size > 0:\n",
    "#         print(\"Invalid label indices:\", invalid_indices[0])  # Print the flat indices of invalid labels\n",
    "#         print(\"Invalid label values:\", image_label_gray[invalid_indices])  # Print the invalid label values\n",
    "#     else:\n",
    "#         print(\"All labels are within the valid range (0 to 10).\")\n",
    "\n",
    "\n",
    "#     # Create a dense CRF model\n",
    "#     num_classes = 11  # 0 to 10, so 11 classes\n",
    "#     d = dcrf.DenseCRF2D(W, H, num_classes)  # (width, height, num_classes)\n",
    "\n",
    "#     # Create unary potentials\n",
    "#     unary = unary_from_labels(image_label_gray, n_labels = num_classes, gt_prob=0.7, zero_unsure = False)\n",
    "#     d.setUnaryEnergy(unary)\n",
    "\n",
    "#     # Add pairwise terms (spatial & appearance smoothness)\n",
    "#     d.addPairwiseGaussian(sxy=3, compat=10)\n",
    "\n",
    "#     # Inference\n",
    "#     Q = d.inference(5)  # Perform 5 CRF iterations\n",
    "\n",
    "#     # Convert Q into a label image\n",
    "#     refined_label = np.argmax(Q, axis=0)  # Most probable class for each pixel\n",
    "\n",
    "#     # Reshape back to the original image shape\n",
    "#     refined_label = refined_label.reshape((H, W))\n",
    "#     refined_labels.append(np.array(refined_label))\n",
    "\n",
    "\n",
    "# preCRF = images_label_gray\n",
    "# postCRF = refined_labels\n",
    "\n",
    "\n",
    "# plot_label_image(preCRF)\n",
    "# plot_label_image(postCRF)"
   ]
  },
  {
   "cell_type": "code",
   "execution_count": 27,
   "metadata": {},
   "outputs": [],
   "source": [
    "# crftestdir = str(root_dir / \"result_test\" / date_str / str(OUTPUT_DIR) / \"crf/\" )\n",
    "# print(crftestdir)\n",
    "# import numpy as np\n",
    "# from PIL import Image\n",
    "\n",
    "# # Assuming 'refined_labels' is your NumPy array with shape (H, W)\n",
    "# # Convert the array to uint8 type if necessary\n",
    "# for index, refined_label in enumerate(refined_labels):\n",
    "#     refined_label_uint8 = refined_label.astype(np.uint8)\n",
    "#     # Create a PIL image from the NumPy array\n",
    "#     image = Image.fromarray(refined_label_uint8)\n",
    "#     # Save the crf refined images to the specified crf folder    \n",
    "#     image.save(crftestdir + \"/\" + crf_file_names[index]) "
   ]
  },
  {
   "cell_type": "code",
   "execution_count": 28,
   "metadata": {},
   "outputs": [],
   "source": [
    "\n",
    "# crf_test_imgs_name = ['oN4-8']\n",
    "\n",
    "# #crf_test_imgs_name.append('oN4-3')\n",
    "    \n",
    "# # for crf_test_pre in TEST:\n",
    "# #     crf_test_imgs_name.extend(file_names_with_prefix(crftestdir, crf_test_pre))\n",
    "\n",
    "# print(crf_test_imgs_name)\n",
    "\n",
    "# Dice = cal_DiceMulitple(crftestdir, crf_test_imgs_name)\n",
    "# df = pd.DataFrame(Dice)\n",
    "# df = df.T\n",
    "# #df.to_csv(test_result_dir + \"/Dice.csv\", mode='a', header=False) # Diceの結果をcsvに追加\n"
   ]
  },
  {
   "cell_type": "code",
   "execution_count": 1,
   "metadata": {},
   "outputs": [
    {
     "data": {
      "text/plain": [
       "10"
      ]
     },
     "execution_count": 1,
     "metadata": {},
     "output_type": "execute_result"
    }
   ],
   "source": [
    "# test with github\n",
    "\n",
    "a = 10\n",
    "\n",
    "b  = a*a\n",
    "\n",
    "a"
   ]
  }
 ],
 "metadata": {
  "kernelspec": {
   "display_name": "altenv",
   "language": "python",
   "name": "python3"
  },
  "language_info": {
   "codemirror_mode": {
    "name": "ipython",
    "version": 3
   },
   "file_extension": ".py",
   "mimetype": "text/x-python",
   "name": "python",
   "nbconvert_exporter": "python",
   "pygments_lexer": "ipython3",
   "version": "3.11.9"
  }
 },
 "nbformat": 4,
 "nbformat_minor": 2
}
