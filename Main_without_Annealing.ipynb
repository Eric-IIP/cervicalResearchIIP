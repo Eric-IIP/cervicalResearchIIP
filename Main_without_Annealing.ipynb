{
 "cells": [
  {
   "cell_type": "code",
   "execution_count": 1,
   "metadata": {
    "tags": [
     "parameters"
    ]
   },
   "outputs": [],
   "source": [
    "## parameters for experiment\n",
    "N_BLOCK = 5\n",
    "LR = 0.003\n",
    "\n",
    "OUTPUT_DIR = '20250616-MaskRCNN-v1.0.1-trial'\n",
    "\n",
    "IN_CHANNEL = 108\n",
    "\n",
    "AUGMENTED = True\n",
    "AUGMENTATION  =  30\n",
    "\n",
    "\n",
    "CROSS_VAL = True\n",
    "N_SPLIT = 4\n",
    "\n",
    "\n",
    "#optimization constants\n",
    "DICE_IMPORTANCE = 1.0\n",
    "CE_IMPORTANCE = 1.0"
   ]
  },
  {
   "cell_type": "code",
   "execution_count": 2,
   "metadata": {},
   "outputs": [
    {
     "name": "stderr",
     "output_type": "stream",
     "text": [
      "2025-06-16 14:19:08.760821: I tensorflow/core/platform/cpu_feature_guard.cc:210] This TensorFlow binary is optimized to use available CPU instructions in performance-critical operations.\n",
      "To enable the following instructions: AVX2 FMA, in other operations, rebuild TensorFlow with the appropriate compiler flags.\n",
      "2025-06-16 14:19:09.507347: W tensorflow/compiler/tf2tensorrt/utils/py_utils.cc:38] TF-TRT Warning: Could not find TensorRT\n"
     ]
    }
   ],
   "source": [
    "## import libraries\n",
    "from numpy.core.numeric import NaN\n",
    "from MCtool.RFilter import gray\n",
    "from genericpath import exists\n",
    "from matplotlib import image\n",
    "import math\n",
    "import sys\n",
    "import time\n",
    "\n",
    "import cv2\n",
    "from matplotlib import pyplot as plt\n",
    "from tensorflow.python.keras.backend import dtype\n",
    "from DeepLearning import LearnAndTest\n",
    "from Rpkg.Rfund.InputFeature import InputFeature\n",
    "import datetime\n",
    "import os\n",
    "import gc\n",
    "import tensorflow as tf\n",
    "import random\n",
    "import numpy as np\n",
    "import pandas as pd\n",
    "\n",
    "from Rpkg.Rfund import ReadFile, WriteFile\n",
    "from Rpkg.Rmodel import Unet, Mnet\n",
    "\n",
    "import Filtering\n",
    "\n",
    "import torch\n",
    "from torch import nn\n",
    "\n",
    "\n",
    "import DeepLearning\n",
    "from tensorflow.keras.optimizers import Adam\n",
    "\n",
    "from Rpkg.Rfund.InputFeature import InputFeature\n",
    "from Rpkg.Rfund import ReadFile, WriteFile\n",
    "from Rpkg.Rmodel import Unet, Mnet\n",
    "\n",
    "from MCtool import RFilter, resultEval\n",
    "from DeepLearning import save_eval_result\n",
    "\n",
    "import numpy as np\n",
    "import cv2\n",
    "import torch\n",
    "from transformations import ComposeDouble, FunctionWrapperDouble, create_dense_target, normalize_01\n",
    "from customdatasets import SegmentationDataSet1\n",
    "from customdatasets import SegmentationDataSet4\n",
    "from torch.utils.data import DataLoader\n",
    "from sklearn.model_selection import train_test_split\n",
    "import pathlib\n",
    "from skimage.transform import resize\n",
    "\n",
    "#early stopping なし\n",
    "from unet import UNet\n",
    "from trainer import Trainer\n",
    "from sklearn.model_selection import StratifiedKFold, train_test_split\n",
    "\n",
    "\n"
   ]
  },
  {
   "cell_type": "code",
   "execution_count": 3,
   "metadata": {},
   "outputs": [],
   "source": [
    "## random seed config\n",
    "# Make sure there is no randomness in the output so that the output is reproduceable\n",
    "import torch\n",
    "import numpy as np\n",
    "import random\n",
    "\n",
    "# Set seed for Python random module\n",
    "random.seed(42)\n",
    "\n",
    "# Set seed for NumPy\n",
    "np.random.seed(42)\n",
    "\n",
    "# Set seed for PyTorch\n",
    "torch.manual_seed(42)\n",
    "\n",
    "# If you are using GPU\n",
    "torch.cuda.manual_seed(42)\n",
    "torch.cuda.manual_seed_all(42)\n",
    "\n",
    "# Make the convolution operations deterministic\n",
    "torch.backends.cudnn.deterministic = True\n",
    "\n",
    "# Disable the CUDNN benchmark to ensure deterministic results\n",
    "torch.backends.cudnn.benchmark = False\n"
   ]
  },
  {
   "cell_type": "code",
   "execution_count": 4,
   "metadata": {},
   "outputs": [
    {
     "name": "stdout",
     "output_type": "stream",
     "text": [
      "PyTorch Version installed: 2.3.0+cu121\n",
      "CUDA version associated with PyTorch version: 12.1\n",
      "Version of cuDNN (CUDA Deep Neural Network library) being used by PyTorch8902\n",
      "CUDA is available: True\n",
      "Number of GPUs compatible with CUDA:1\n",
      "Name of the GPU at index 0: NVIDIA GeForce RTX 2080 Ti\n",
      "Current CUDA device index: 0\n"
     ]
    }
   ],
   "source": [
    "## cuda and pytorch stats\n",
    "# 自分の環境設定がうまくいったかどうかを確認しましょう、特にGPUの動作\n",
    "# Prints the version of PyTorch installed\n",
    "print('PyTorch Version installed: ' + torch.__version__)\n",
    "\n",
    "# Prints the version of CUDA associated with the installed PyTorch version\n",
    "print('CUDA version associated with PyTorch version: ' + torch.version.cuda)\n",
    "\n",
    "# Prints the version of cuDNN (CUDA Deep Neural Network library) being used by PyTorch\n",
    "print('Version of cuDNN (CUDA Deep Neural Network library) being used by PyTorch' + str(torch.backends.cudnn.version()))\n",
    "\n",
    "# Same as the line above\n",
    "print('CUDA is available: ' + str(torch.cuda.is_available()))\n",
    "\n",
    "# Returns the number of available CUDA-enabled GPUs\n",
    "print('Number of GPUs compatible with CUDA:' + str(torch.cuda.device_count()))\n",
    "\n",
    "# Returns the name of the GPU at index 0\n",
    "print('Name of the GPU at index 0: '  + str(torch.cuda.get_device_name(0)))\n",
    "\n",
    "# Returns the index of the current CUDA device being used\n",
    "print('Current CUDA device index: '  + str(torch.cuda.current_device()))\n"
   ]
  },
  {
   "cell_type": "code",
   "execution_count": 5,
   "metadata": {},
   "outputs": [],
   "source": [
    "def clear_cuda_memory():\n",
    "    gc.collect()\n",
    "    torch.cuda.empty_cache()\n",
    "    torch.cuda.reset_peak_memory_stats()"
   ]
  },
  {
   "cell_type": "code",
   "execution_count": 6,
   "metadata": {},
   "outputs": [],
   "source": [
    "## file_names_with_prefix\n",
    "# ファイル名の先頭部分（prefix）により自動的にファイル名を抽出するアルゴリズム。\n",
    "# 実際それぞれのファイル名は違うと思うので、必須ではない\n",
    "\n",
    "\"\"\" \n",
    "\n",
    "Extracts filenames in directory if they start with the prefix input \n",
    "\n",
    "\n",
    "Args/Parameters:\n",
    "\n",
    "    directory_path (string): The path of the dir (ex: /root/home/Documents/etc)\n",
    "    \n",
    "    prefix (string): Prefix of the file name (ex: 'Bo' is a prefix of 'Bone')\n",
    "\n",
    "Returns:\n",
    "\n",
    "    sorted_file_names (list of str): File names sorted in ascending order in the dir without extension ex: ['bone1', 'bone2', ...]\n",
    "\n",
    "Raises:\n",
    "\n",
    "    SomeError: ...\n",
    "\n",
    "\"\"\"\n",
    "\n",
    "def file_names_with_prefix(directory_path, prefix):\n",
    "\n",
    "    # Initialize an empty list to store the file names without extensions\n",
    "    file_names_without_extension = []\n",
    "\n",
    "    # Loop through all files in the specified directory\n",
    "    for filename in os.listdir(directory_path):\n",
    "        #Checking if the file in loop exists in the directory_path not sure how is this necessary\n",
    "        #??\n",
    "        if os.path.isfile(os.path.join(directory_path, filename)):\n",
    "            # Check if the file name starts with the specified prefix\n",
    "            if filename.startswith(prefix):\n",
    "                # Get the file name without extension\n",
    "                name_without_extension, _ = os.path.splitext(filename)\n",
    "\n",
    "                # Append the file name (without extension) to the list\n",
    "                file_names_without_extension.append(name_without_extension)\n",
    "\n",
    "    # Sort the list of file names without extensions in ascending order\n",
    "    sorted_file_names = sorted(\n",
    "        file_names_without_extension,\n",
    "        key=lambda x: (x.split('-')[0], int(x.split('-')[1]))\n",
    "    )  # Modify this part based on your file naming convention\n",
    "\n",
    "    # Now you have a sorted list of file names with the specified prefix and without extensions\n",
    "    return sorted_file_names\n"
   ]
  },
  {
   "cell_type": "code",
   "execution_count": 7,
   "metadata": {},
   "outputs": [
    {
     "name": "stdout",
     "output_type": "stream",
     "text": [
      "Root directory: /home/eric/Documents/cervicalResearchIIP\n",
      "Data directory (original dir): /home/eric/Documents/cervicalResearchIIP/img_1006t/original\n",
      "Feature img directory: /home/eric/Documents/cervicalResearchIIP/img_1006t/feature\n",
      "Labeled img directory: /home/eric/Documents/cervicalResearchIIP/img_1006t/labeled\n",
      "Annealing directory: /home/eric/Documents/cervicalResearchIIP/img_1006/original\n",
      "Result directory: /home/eric/Documents/cervicalResearchIIP/result/20250616-MaskRCNN-v1.0.1-trial\n",
      "Test result directory: /home/eric/Documents/cervicalResearchIIP/result_test/20250616-MaskRCNN-v1.0.1-trial\n"
     ]
    }
   ],
   "source": [
    "## paths config\n",
    "import pathlib\n",
    "from pathlib import Path\n",
    "\n",
    "# ここで、folder名とかPathとか色々設定\n",
    "\n",
    "# Setting the directory name, path and other settings\n",
    "\n",
    "# Define the root directory where your project is located\n",
    "# Defining a Path object for the project's root dir\n",
    "root_dir = Path(pathlib.Path.cwd())\n",
    "\n",
    "# result folder name\n",
    "#date_str = '20241202-Conv1x1-' + str(OUTPUT_DIR)\n",
    "date_str = OUTPUT_DIR\n",
    "\n",
    "# Define the directories for different types of data\n",
    "# Concatenating the root dir to the different dataset dirs\n",
    "data_dir = str(root_dir / \"img_1006t/original\")\n",
    "feature_dir = str(root_dir / \"img_1006t/feature\") \n",
    "labeled_dir = str(root_dir / \"img_1006t/labeled\")\n",
    "\n",
    "augmented_labeled_dir = str(root_dir / \"img_1006t/labelAug\")\n",
    "augmented_data_dir = str(root_dir / \"img_1006t/originalAug\")\n",
    "augmented_feature_dir = str(root_dir / \"img_1006t/featureAug\")\n",
    "\n",
    "\n",
    "# data_dir = str(root_dir / \"img_1006t/MC3x3(108_3out)/mcOriginal\")\n",
    "# feature_dir = str(root_dir / \"img_1006t/MC3x3(108_3out)/mcFeature\") \n",
    "# labeled_dir = str(root_dir / \"img_1006t/labeled\")\n",
    "\n",
    "# augmented_labeled_dir = str(root_dir / \"img_1006t/MC3x3(108_3out)/augMCLabel\")\n",
    "# augmented_data_dir = str(root_dir / \"img_1006t/MC3x3(108_3out)/augMCOriginal\")\n",
    "# augmented_feature_dir = str(root_dir / \"img_1006t/MC3x3(108_3out)/augMCFeature\")\n",
    "\n",
    "# annealing_img_dir = str(root_dir / \"img_1006/annealing_img\") # 焼きなまし法時に使う\n",
    "# annealing later, original for now\n",
    "annealing_img_dir = str(root_dir / \"img_1006/original\")\n",
    "result_dir = str(root_dir / \"result\" / date_str)\n",
    "test_result_dir= str(root_dir / \"result_test\" / date_str)\n",
    "\n",
    "# Making directories based on the path string result_dir and test_result_dir\n",
    "Path(result_dir).mkdir(parents=True, exist_ok=True)\n",
    "Path(test_result_dir).mkdir(parents=True, exist_ok=True)\n",
    "\n",
    "# Prints the paths of the dirs\n",
    "print('Root directory: ' + str(root_dir))\n",
    "print('Data directory (original dir): ' + str(data_dir))\n",
    "print('Feature img directory: ' + str(feature_dir))\n",
    "print('Labeled img directory: ' + str(labeled_dir))\n",
    "print('Annealing directory: ' + str(annealing_img_dir))\n",
    "print('Result directory: ' + str(result_dir))\n",
    "print('Test result directory: ' + str(test_result_dir))\n",
    "\n",
    "# Defining variables filename list of path str starts with the prefix format\n",
    "# In this case: N1 and N3 is training data and N2 is validation data and N4 is a test data\n",
    "input_train = []\n",
    "input_name_val = []\n",
    "annealing_input_name = []\n",
    "input_train = []\n",
    "test_input_name = []\n",
    "\n",
    "\n",
    "# for raw_input_img in INPUT:\n",
    "#     input_train.extend(file_names_with_prefix(data_dir, raw_input_img))\n",
    "# for raw_val_img in VALIDATION:\n",
    "#     input_name_val.extend(file_names_with_prefix(data_dir, raw_val_img))\n",
    "# for raw_anneal in ANNEALING:\n",
    "#     annealing_input_name.extend(file_names_with_prefix(data_dir, raw_anneal))\n",
    "# for raw_test in TEST:\n",
    "#     test_input_name.extend(file_names_with_prefix(data_dir, raw_test))\n",
    "\n",
    "\n",
    "####old version of assigning\n",
    "# input_train = file_names_with_prefix(data_dir, INPUT)\n",
    "# input_name_val = file_names_with_prefix(data_dir, VALIDATION)\n",
    "# annealing_input_name = file_names_with_prefix(data_dir, ANNEALING)\n",
    "# test_input_name = file_names_with_prefix(data_dir, TEST) \n",
    "\n",
    "\n",
    "# extra_dataset = file_names_with_prefix(data_dir,'N5-')\n",
    "# input_train.extend(extra_dataset)\n",
    "\n",
    "# Prints the each data image name\n",
    "# print(input_train)\n",
    "# print(input_name_val)\n",
    "# print(annealing_input_name)\n",
    "# print(test_input_name)\n",
    "# print(extra_dataset)\n",
    "\n",
    "\n",
    "# Defining a var to store each list length\n",
    "len_train = len(input_train)\n",
    "len_val = len(input_name_val)\n",
    "len_test = len(test_input_name)\n",
    "len_annealing = len(annealing_input_name)\n",
    "\n",
    "\n",
    "# print(len(input_train))\n",
    "\n",
    "# print(len(input_name_val))\n",
    "# print(len(test_input_name))\n",
    "# print(len(annealing_input_name))\n"
   ]
  },
  {
   "cell_type": "code",
   "execution_count": 8,
   "metadata": {},
   "outputs": [
    {
     "name": "stdout",
     "output_type": "stream",
     "text": [
      "['GRY_', 'NML1', 'NML2', 'NML3', 'TOP1', 'TOP2', 'TOP3', 'TOP4', 'SBLX', 'SBLY', 'SBLM', 'SBLD', 'SBL1', 'SBL2', 'SBL3', 'SBL4', 'LPL1', 'LPL2', 'MEA1', 'MEA2', 'GAU1', 'GAU2', 'MED1', 'MED2', 'LBP1', 'LBP2', 'LBP3', 'ETC1', 'ETC2', 'STC1', 'STC2', 'HGF_', 'NGP_', 'POS1', 'POS2', 'POS3', 'SOL_', 'EMB1', 'EMB2', 'EMB3', 'KNN1', 'KNN2', 'BLT1', 'BLT2', 'OOO_', 'CAN1', 'CAN2', 'CAN3', 'PRE1', 'PRE2', 'PRE3', 'PRE4', 'UNS1', 'UNS2', 'UNS3', 'UNS4', 'UNS5', 'FOU1', 'FOU2', 'FOU3', 'FOU4', 'ERO1', 'ERO2', 'ERO3', 'ERO4', 'ERO5', 'ERO6', 'OPN1', 'OPN2', 'OPN3', 'OPN4', 'OPN5', 'CLO1', 'CLO2', 'CLO3', 'CLO4', 'CLO5', 'SCH1', 'SCH2', 'SCH3', 'SCH4', 'ROB1', 'ROB2', 'ROB3', 'ROB4', 'MIN1', 'MIN2', 'MIN3', 'MIN4', 'MAX1', 'MAX2', 'MAX3', 'MAX4', 'MRG1', 'MRG2', 'MRG3', 'MRG4', 'MRL1', 'MRL2', 'MRL3', 'MRL4', 'BTM1', 'BTM2', 'BTM3', 'BTM4', 'DST_', 'HOM_', 'RIC_']\n",
      "108\n"
     ]
    }
   ],
   "source": [
    "## feature list definition\n",
    "# 特徴画像の特徴一覧をリストとして取得\n",
    "inputfeature_list = list(map(str, InputFeature))\n",
    "\n",
    "# inputfeature_list = [\"GRY_\", \"NML1\", \"NML2\", \"NML3\", \"NML1\", \"MEA1\",\n",
    "#                      \"MEA2\", \"MED1\", \"MED2\", \"NML1\", \"NGP_\", \"KNN1\",\n",
    "#                      \"KNN2\", \"BLT1\", \"BLT2\", \"UNS1\", \"UNS2\", \"UNS3\",\n",
    "#                      \"UNS4\", \"UNS5\", \"ERO1\", \"ERO2\", \"ERO3\", \"ERO4\",\n",
    "#                      \"ERO5\", \"ERO6\", \"OPN1\", \"OPN2\", \"OPN3\", \"OPN4\",\n",
    "#                      \"OPN5\", \"CLO1\", \"CLO2\", \"CLO3\", \"CLO4\", \"CLO5\",\n",
    "#                      \"MIN1\", \"MIN2\", \"MIN3\", \"MIN4\", \"MAX1\", \"MAX2\",\n",
    "#                      \"MAX3\", \"MAX4\", \"MRL1\", \"MRL2\", \"MRL3\", \"MRL4\",\n",
    "#                      \"RIC_\",\n",
    "#                      ]\n",
    "\n",
    "\n",
    "\n",
    "# unet only\n",
    "#inputfeature_list = inputfeature_list[:1]\n",
    "\n",
    "#inputfeature_list.clear()\n",
    "\n",
    "#inputfeature_list.append(\"RIC_\")\n",
    "#print(inputfeature_list)\n",
    "\n",
    "#inputfeature_list.remove(OUTPUT_DIR[-4:])\n",
    "# inputfeature_list.remove(\"TOP1\")\n",
    "# inputfeature_list.remove(\"TOP2\")\n",
    "# inputfeature_list.remove(\"TOP3\")\n",
    "# inputfeature_list.remove(\"TOP4\")\n",
    "\n",
    "# inputfeature_list.remove(\"SBLX\")\n",
    "# inputfeature_list.remove(\"SBLY\")\n",
    "# inputfeature_list.remove(\"SBLM\")\n",
    "# inputfeature_list.remove(\"SBLD\")\n",
    "# inputfeature_list.remove(\"SBL1\")\n",
    "# inputfeature_list.remove(\"SBL2\")\n",
    "# inputfeature_list.remove(\"SBL3\")\n",
    "# inputfeature_list.remove(\"SBL4\")\n",
    "\n",
    "# inputfeature_list.remove(\"LPL1\")\n",
    "# inputfeature_list.remove(\"LPL2\")\n",
    "\n",
    "# inputfeature_list.remove(\"LBP1\")\n",
    "# inputfeature_list.remove(\"LBP2\")\n",
    "# inputfeature_list.remove(\"LBP3\")\n",
    "\n",
    "# inputfeature_list.remove(\"SOL_\")\n",
    "# inputfeature_list.remove(\"OOO_\")\n",
    "\n",
    "# inputfeature_list.remove(\"CAN1\")\n",
    "# inputfeature_list.remove(\"CAN2\")\n",
    "# inputfeature_list.remove(\"CAN3\")\n",
    "\n",
    "\n",
    "# inputfeature_list.remove(\"FOU1\")\n",
    "# inputfeature_list.remove(\"FOU2\")\n",
    "# inputfeature_list.remove(\"FOU3\")\n",
    "# inputfeature_list.remove(\"FOU4\")\n",
    "\n",
    "# inputfeature_list.remove(\"SCH1\")\n",
    "# inputfeature_list.remove(\"SCH2\")\n",
    "# inputfeature_list.remove(\"SCH3\")\n",
    "# inputfeature_list.remove(\"SCH4\")\n",
    "\n",
    "# inputfeature_list.remove(\"ROB1\")\n",
    "# inputfeature_list.remove(\"ROB2\")\n",
    "# inputfeature_list.remove(\"ROB3\")\n",
    "# inputfeature_list.remove(\"ROB4\")\n",
    "\n",
    "# inputfeature_list.remove(\"MRG1\")\n",
    "# inputfeature_list.remove(\"MRG2\")\n",
    "# inputfeature_list.remove(\"MRG3\")\n",
    "# inputfeature_list.remove(\"MRG4\")\n",
    "\n",
    "# inputfeature_list.remove(\"BTM1\")\n",
    "# inputfeature_list.remove(\"BTM2\")\n",
    "# inputfeature_list.remove(\"BTM3\")\n",
    "# inputfeature_list.remove(\"BTM4\")\n",
    "\n",
    "# inputfeature_list.remove(\"DST_\")\n",
    "# inputfeature_list.remove(\"HOM_\")\n",
    "\n",
    "# for i in range(108):\n",
    "#     stckd_feature_name = \"NGP_\" + inputfeature_list[i]\n",
    "#     inputfeature_list.append(stckd_feature_name)\n",
    "\n",
    "# for input_feature in inputfeature_list[:]:\n",
    "#     if not input_feature.startswith(\"NGP\"):\n",
    "#         inputfeature_list.remove(input_feature)\n",
    "        \n",
    "\n",
    "\n",
    "print(inputfeature_list)\n",
    "feature_num = len(inputfeature_list)\n",
    "\n",
    "\n",
    "print(feature_num)"
   ]
  },
  {
   "cell_type": "code",
   "execution_count": 9,
   "metadata": {},
   "outputs": [],
   "source": [
    "## createweightimage read by images\n",
    "# takes too much memory cuz it loads all images into np array at once\n",
    "\n",
    "\n",
    "## 重み計算なし\n",
    "def CreateWeightImage(input_number, augmentation=False):\n",
    "    print(\"Creating image arrays...\")\n",
    "    label_dataset = []\n",
    "    arrDataset = []\n",
    "    for i in input_number:\n",
    "        if augmentation:\n",
    "            label_path = os.path.join(augmented_labeled_dir, str(AUGMENTATION) + \"aug/\" , f\"{i}.png\")\n",
    "        else:\n",
    "            label_path = os.path.join(labeled_dir, f\"{i}.png\")\n",
    "        input_originallabel = cv2.imread(label_path, cv2.IMREAD_GRAYSCALE)\n",
    "        # commented the binary label because the project has more labels than 2 \n",
    "        #_, binary_label = cv2.threshold(input_originallabel, 0, 255, cv2.THRESH_BINARY)\n",
    "        \n",
    "        ## This part was used for decreasing and increasing the label count when there was inconsistency with the label dataset\n",
    "        \n",
    "        # if len(np.unique(input_originallabel)) > 11:\n",
    "        #     print(\"Defected image detected (more labels):\" + f\"{i}.png\")\n",
    "        #     print(np.unique(input_originallabel))\n",
    "        #     for y in range(256):\n",
    "        #         for x in range (256):\n",
    "        #             if (input_originallabel[y][x] == 11) or (input_originallabel[y][x] == 12):\n",
    "        #                 input_originallabel[y][x] = 0\n",
    "        #     print(np.unique(input_originallabel))\n",
    "        #     cv2.imwrite('testtttt.png', input_originallabel)\n",
    "        # elif len(np.unique(input_originallabel)) < 11:\n",
    "        #     print(\"Defected image detected (Less labels):\" + f\"{i}.png\")\n",
    "        #     defected = f\"{i}_.png\"\n",
    "        #     print(np.unique(input_originallabel))\n",
    "        #     path_to_mask = '/home/eric/Desktop/edit8label'\n",
    "\n",
    "        #     # 25->9 32->10\n",
    "        #     path_mask_abs = os.path.join(path_to_mask, defected)\n",
    "        #     mask = cv2.imread(path_mask_abs, cv2.IMREAD_GRAYSCALE)\n",
    "        #     for y in range(256):\n",
    "        #         for x in range (256):\n",
    "        #             if (input_originallabel[y][x] == 0) and (mask[y][x] == 25):\n",
    "        #                 input_originallabel[y][x] = 9\n",
    "        #             elif (input_originallabel[y][x] == 0) and (mask[y][x] == 32):\n",
    "        #                 input_originallabel[y][x] = 10\n",
    "        #     print(np.unique(input_originallabel))\n",
    "        #     label_fixed_path = os.path.join(path_to_mask, f\"{i}_fixed.png\")\n",
    "        #     cv2.imwrite(label_fixed_path, input_originallabel)\n",
    "                    \n",
    "        label_dataset.append(input_originallabel)\n",
    "\n",
    "    print(\"Number of label images:\", len(label_dataset))\n",
    "\n",
    "    for i in input_number:\n",
    "        # changed this part from 100 to 256\n",
    "\n",
    "        dataset_img =  np.zeros((256, 256, feature_num), dtype=np.float32)\n",
    "            \n",
    "            \n",
    "        for m in range(feature_num):\n",
    "            if augmentation:\n",
    "                feature_img_path = os.path.join(augmented_feature_dir, str(AUGMENTATION) + \"aug/\" , str(i), f\"{inputfeature_list[m]}.png\")\n",
    "            else:\n",
    "                feature_img_path = os.path.join(feature_dir, str(i), f\"{inputfeature_list[m]}.png\")\n",
    "            input_featureimg = cv2.imread(feature_img_path, cv2.IMREAD_GRAYSCALE)\n",
    "            dataset_img[:, :, m] = input_featureimg\n",
    "        \n",
    "            \n",
    "        \n",
    "            \n",
    "        # after the loop the dataset_img size will be like: (256, 256, 108) and the tensor type is np array\n",
    "        \n",
    "        \n",
    "        \n",
    "        ##this part is dividing the dataset to use multiple conv1x1 operation\n",
    "        #split_dataset_img = np.array_split(dataset_img, 4, axis = 2)\n",
    "        #post_conv = np.zeros((256, 256, 4), dtype=np.float32)\n",
    "        #concat_list = []\n",
    "        #for index, part in enumerate(split_dataset_img):\n",
    "            # after this operation shape will be from (256, 256, 27) to (1, 256, 256, 27)\n",
    "            #part = torch.tensor(part, dtype = torch.float32).unsqueeze(0)\n",
    "            # changed the shape for the conv again now it is (1, 27, 256, 256) (batch_size, channels, height, width)\n",
    "            #part = part.permute(0, 3, 1, 2)\n",
    "            #fusion = nn.Conv2d(in_channels = 27, out_channels = 1, kernel_size = 1, padding = 'same')\n",
    "            #output_conv = fusion(part)\n",
    "            #output_conv = output_conv.squeeze(0) #.permute(1, 2, 0) # now it is (256, 256, 1)\n",
    "            #output_conv = output_conv.cpu().detach().numpy()\n",
    "            #post_conv[:, :, index] = output_conv[0]\n",
    "            #print((output_conv).shape)\n",
    "            #concat_list.append(output_conv)\n",
    "            \n",
    "        #concat_output = torch.cat((concat_list[0], concat_list[1], concat_list[2], concat_list[3]), dim = 2)\n",
    "        ## convert the concat result tensor into numpy array and it has to be on cpu to do the operation\n",
    "        #print(np.unique(output_conv.detach()))\n",
    "        #concat_output = concat_output.detach()\n",
    "        #concat_output = concat_output.numpy()\n",
    "        \n",
    "        \n",
    "        #arrDataset = concat_list\n",
    "        arrDataset.append(dataset_img)\n",
    "\n",
    "    arrDataset = np.array(arrDataset)\n",
    "    print(\"Completed creating image arrays:\")\n",
    "    print(\"Dataset shape \", arrDataset.shape)\n",
    "    print(\"Label image shape \", np.shape(label_dataset))\n",
    "    print()\n",
    "\n",
    "    return arrDataset, label_dataset\n"
   ]
  },
  {
   "cell_type": "code",
   "execution_count": 10,
   "metadata": {},
   "outputs": [],
   "source": [
    "## createweightimagenew read paths only\n",
    "def CreateWeightImageNew(input_numbers, augmentation=False):\n",
    "    print(\"Creating image paths...\")\n",
    "    label_paths = []\n",
    "    feature_paths = []\n",
    "\n",
    "    for i in input_numbers:\n",
    "        if augmentation:\n",
    "            label_path = os.path.join(augmented_labeled_dir, str(AUGMENTATION) + \"aug/\", f\"{i}.png\")\n",
    "        else:\n",
    "            label_path = os.path.join(labeled_dir, f\"{i}.png\")\n",
    "        label_paths.append(label_path)\n",
    "\n",
    "        feature_img_paths = []\n",
    "        for feature_name in inputfeature_list:\n",
    "            if augmentation:\n",
    "                feature_img_path = os.path.join(augmented_feature_dir, str(AUGMENTATION) + \"aug/\", str(i), f\"{feature_name}.png\")\n",
    "            else:\n",
    "                feature_img_path = os.path.join(feature_dir, str(i), f\"{feature_name}.png\")\n",
    "            feature_img_paths.append(feature_img_path)\n",
    "\n",
    "        feature_paths.append(feature_img_paths)\n",
    "\n",
    "    print(f\"Processed {len(label_paths)} label paths and {len(feature_paths)} feature paths.\")\n",
    "    return feature_paths, label_paths\n"
   ]
  },
  {
   "cell_type": "code",
   "execution_count": 11,
   "metadata": {},
   "outputs": [],
   "source": [
    "## create weight test example\n",
    "\n",
    "# input_dataset,label_dataset = CreateWeightImage(input_train)\n",
    "# input_dataset_val,label_dataset_val = CreateWeightImage(input_name_val)\n",
    "\n"
   ]
  },
  {
   "cell_type": "code",
   "execution_count": 12,
   "metadata": {},
   "outputs": [],
   "source": [
    "## createweightimageforshow\n",
    "# # # 重みを基づいて、MC画像を生成する\n",
    "# # # function for showing MC image\n",
    "# # # gets 1d array as weight, input_number is image name, and index is directory name for the mc image to save\n",
    "# def CreateWeightImageforShow(weight, input_number, index):\n",
    "#     sum_weight = sum(weight)  # Calculate total weight\n",
    "\n",
    "#     label_dataset = []\n",
    "#     input_dataset = []\n",
    "#     dataset_original = []\n",
    "\n",
    "#     # Read label images\n",
    "#     for i in input_number:\n",
    "#         input_originallabel = cv2.imread(labeled_dir + \"/\" + str(i) + \".png\", flags=0)\n",
    "#         label_dataset.append(input_originallabel)\n",
    "\n",
    "#     print('Weight image for show, label length = ', len(label_dataset))\n",
    "\n",
    "#     # Create output directory\n",
    "#     os.makedirs(test_result_dir + \"/weightImage/\" + str(index), exist_ok=True)\n",
    "\n",
    "#     # Generate weighted images\n",
    "#     for i in input_number:\n",
    "#         # Create a blank image to store the weighted image, using float type for accumulation\n",
    "#         dataset_img = np.zeros((256, 256, 3), dtype=np.float32)\n",
    "#         input_originalimg = cv2.imread(data_dir + \"/\" + str(i) + \".png\")\n",
    "\n",
    "#         dataset_original.append(input_originalimg)\n",
    "#         for m in range(feature_num):\n",
    "#             input_featureimg = cv2.imread(feature_dir + \"/\" + str(i) + \"/\" + inputfeature_list[m] + \".png\", cv2.IMREAD_GRAYSCALE)\n",
    "#             # Normalize the feature image\n",
    "#             normalized_feature_img = cv2.normalize(input_featureimg.astype(np.float32), None, 0, 1, cv2.NORM_MINMAX)\n",
    "#             # Accumulate the weighted feature image\n",
    "#             dataset_img += normalized_feature_img[:, :, None] * (weight[m] / sum_weight)  # Convert 2D array to 3D array\n",
    "\n",
    "#         # Normalize the accumulated image to the range 0-255\n",
    "#         dataset_img = cv2.normalize(dataset_img, None, 0, 255, cv2.NORM_MINMAX)\n",
    "#         output_img = dataset_img.astype(np.uint8)  # Convert to uint8\n",
    "\n",
    "#         input_dataset.append(output_img)\n",
    "#         # Write to file\n",
    "#         cv2.imwrite(f\"{test_result_dir}/weightImage/{index}/{i}.png\", output_img)\n",
    "\n",
    "#     return input_dataset, label_dataset\n"
   ]
  },
  {
   "cell_type": "code",
   "execution_count": 13,
   "metadata": {},
   "outputs": [],
   "source": [
    "## value extraction for visual mc\n",
    "# # ## Netron app to extract the weight tensor\n",
    "# # ## if the conv is 1x1 the tensor has 45 values\n",
    "# # ## if the conv is 3x3 there are 9 x 45 values so the function averages 9 value into 1 and so on\n",
    "# def compute_mean_values(input_list):\n",
    "#     \"\"\"\n",
    "#     Compute mean of 3x3 blocks in each channel of the input list.\n",
    "    \n",
    "#     Args:\n",
    "#         input_list (list): A 4D list of shape (1, C, H, W).\n",
    "        \n",
    "#     Returns:\n",
    "#         list: A 1D list of length C containing the mean values for each channel.\n",
    "#     \"\"\"\n",
    "#     # Ensure the input is a 4D list\n",
    "#     if not isinstance(input_list, list) or len(input_list) != 1:\n",
    "#         raise ValueError(\"Expected input list of shape (1, C, H, W)\")\n",
    "    \n",
    "#     channels = input_list[0]  # Get the channels (C, H, W)\n",
    "    \n",
    "#     if not isinstance(channels, list) or not all(isinstance(channel, list) for channel in channels):\n",
    "#         raise ValueError(\"Each channel must be a list of 2D lists (H, W).\")\n",
    "    \n",
    "#     mean_values = []\n",
    "#     for channel in channels:\n",
    "#         if not all(isinstance(row, list) for row in channel):\n",
    "#             raise ValueError(\"Each channel must contain 2D lists.\")\n",
    "        \n",
    "#         # Flatten the 2D channel to compute the mean\n",
    "#         flattened = [value for row in channel for value in row]\n",
    "#         mean_values.append(sum(flattened) / len(flattened))\n",
    "    \n",
    "#     return mean_values\n"
   ]
  },
  {
   "cell_type": "code",
   "execution_count": 14,
   "metadata": {},
   "outputs": [],
   "source": [
    "## mc image visualization example\n",
    "# ### 1X1-1029-23-n1-1\n",
    "# ### JUST SINGLE VARIATION\n",
    "# weight_tensor_1x1_1029_23_n1_1_example = [\n",
    "#     [\n",
    "#         [\n",
    "#             [\n",
    "#                 0.048620592802762985\n",
    "#                 ...\n",
    "#     ]\n",
    "# ]\n",
    "\n",
    "# input_number = ['N1-1']\n",
    "\n",
    "# #single\n",
    "# weight_cn = compute_mean_values(weight_tensor_1x1_1029_23_n1_1)\n",
    "\n",
    "# weight_cn1 = compute_mean_values(weight_tensor_1x1_1029_36_n1_1)\n",
    "# weight_cn2 = compute_mean_values(weight_tensor_3x3_1_1029_36_n1_1)\n",
    "# weight_cn3 = compute_mean_values(weight_tensor_3x3_2_1029_36_n1_1)\n",
    "# weight_cn4 = compute_mean_values(weight_tensor_5x5_1_1029_36_n1_1)\n",
    "# weight_cn5 = compute_mean_values(weight_tensor_5x5_2_1029_36_n1_1)\n",
    "\n",
    "# print(len(weight_cn))\n",
    "# print(len(weight_cn1))\n",
    "# print(len(weight_cn2))\n",
    "# print(len(weight_cn3))\n",
    "# print(len(weight_cn4))\n",
    "# print(len(weight_cn5))\n",
    "\n",
    "# CreateWeightImageforShow(weight_cn, input_number, \"single\")\n",
    "\n",
    "# CreateWeightImageforShow(weight_cn1, input_number, \"multiple1x1\")\n",
    "# CreateWeightImageforShow(weight_cn2, input_number, \"multiple3x3-1\")\n",
    "# CreateWeightImageforShow(weight_cn3, input_number, \"multiple3x3-2\")\n",
    "# CreateWeightImageforShow(weight_cn4, input_number, \"multiple5x5-1\")\n",
    "# CreateWeightImageforShow(weight_cn5, input_number, \"multiple5x5-2\")\n",
    "\n"
   ]
  },
  {
   "cell_type": "code",
   "execution_count": 15,
   "metadata": {},
   "outputs": [],
   "source": [
    "## mc image visualization example\n",
    "# weight_tensor = np.load(\"/home/eric/Documents/cervicalResearchIIP/result_test/20250420-MCU-Net-108/0420_MCU108_fold4_w.npy\")\n",
    "\n",
    "# # initial shape (3, 108, 3, 3) (out_channels, channels, height_convolution, width_convolution)\n",
    "# # np.mean takes mean value of out_channels\n",
    "# # [np.newaxis, :] shapes into (1, 108, 3, 3)\n",
    "# weight_tensor = np.mean(weight_tensor, axis = 0)[np.newaxis, :]\n",
    "# weight_tensor = weight_tensor.tolist()\n",
    "\n",
    "# #f1\n",
    "# #input_number = [\"N1-1\", \"N1-7\", \"N1-9\", \"N2-3\", \"N2-7\", \"N2-10\", \"N3-1\", \"N3-8\", \"N3-10\", \"N4-8\", \"N5-4\"]\n",
    "# #f2\n",
    "# #input_number = [\"N1-2\", \"N1-5\", \"N1-10\", \"N2-4\", \"N3-2\", \"N3-4\", \"N3-5\", \"N3-9\", \"N4-3\", \"N4-9\", \"N5-2\"]\n",
    "# #f3\n",
    "# #input_number = [\"N1-3\", \"N1-4\", \"N1-10\", \"N2-1\", \"N2-5\", \"N2-8\", \"N3-3\", \"N3-7\", \"N4-4\", \"N4-5\", \"N4-6\", \"N5-1\", \"N5-6\"]\n",
    "# #f4\n",
    "# input_number = [\"N1-6\", \"N1-8\", \"N2-2\", \"N2-6\", \"N2-9\", \"N3-6\", \"N4-1\", \"N4-2\", \"N4-7\", \"N5-3\", \"N5-5\"]\n",
    "\n",
    "# # weight_tensor_converted = weight_tensor[0].tolist()\n",
    "\n",
    "# # weight_tensor_dv1 = [weight_tensor_converted]\n",
    "# # # print(weight_tensor_dv1.shape)\n",
    "# weight_cn  = compute_mean_values(weight_tensor)\n",
    "\n",
    "# CreateWeightImageforShow(weight_cn, input_number, \"fold4\")"
   ]
  },
  {
   "cell_type": "code",
   "execution_count": 16,
   "metadata": {},
   "outputs": [],
   "source": [
    "## minor irrelevant function\n",
    "def print_model_shapes(model, input_tensor):\n",
    "    def forward_hook(module, input, output):\n",
    "        print(f\"Layer: {module.__class__.__name__}\")\n",
    "        print(f\"Input shape: {str(input[0].shape)}\")\n",
    "        print(f\"Output shape: {str(output.shape)}\")\n",
    "        print(\"-----------------------\")\n",
    "\n",
    "    hooks = []\n",
    "    for layer in model.children():\n",
    "        hook = layer.register_forward_hook(forward_hook)\n",
    "        hooks.append(hook)\n",
    "\n",
    "    print(\"Model Architecture:\")\n",
    "    print(model)\n",
    "\n",
    "    # Pass a dummy input tensor through the model to trigger the forward hooks\n",
    "    with torch.no_grad():\n",
    "        model(input_tensor)\n",
    "\n",
    "    for hook in hooks:\n",
    "        hook.remove()\n"
   ]
  },
  {
   "cell_type": "code",
   "execution_count": 17,
   "metadata": {},
   "outputs": [],
   "source": [
    "## preprocess and postprocess function\n",
    "def preprocess(img: np.ndarray):\n",
    "    img = np.moveaxis(img, -1, 0)  # Change from [H, W, C] to [C, H, W]\n",
    "    img = normalize_01(img)  # Linear scaling to range [0-1]\n",
    "    img = np.expand_dims(img, axis=0)  # Add batch dimension [B, C, H, W]\n",
    "    img = img.astype(np.float32)  # Typecasting to float32\n",
    "    #print(\"in pre\")\n",
    "    #print(np.unique(img))\n",
    "    return img\n",
    "\n",
    "# postprocess function\n",
    "def postprocess(img: torch.tensor):\n",
    "    img = torch.argmax(img, dim = 1)  # Perform argmax to generate 1 channel\n",
    "    #img = img * 255.0 commented as the labels are from 0 to 11 in my case\n",
    "    img = img.cpu().numpy().astype(np.uint8)  # Send to CPU and transform to numpy.ndarray\n",
    "    # If batch_size > 1, you may need to loop through each batch and save them separately\n",
    "    # If batch_size == 1, you can remove the batch dimension to save a single image\n",
    "\n",
    "    # used for checking the unique label values whether if it is 0 to 11 or 0 to 255 scale\n",
    "    #print(\"in post\")\n",
    "    #print(np.unique(img))\n",
    "\n",
    "\n",
    "    img = np.squeeze(img)  # Remove batch dim and channel dim -> [H, W]\n",
    "    # img = re_normalize(img)  # Scale it to the range [0-255]\n",
    "\n",
    "    # If your image has multiple channels (C>1), like an RGB image, before saving with cv2.imwrite\n",
    "    # you need to ensure the channel order is [B, G, R] instead of the common [R, G, B]\n",
    "    # If C == 1, you can further reduce dimensions -> [H, W]\n",
    "    if img.shape[0] == 3:  # [C, H, W]\n",
    "        img = np.transpose(img, (1, 2, 0))  # [H, W, C]\n",
    "        img = img[:, :, ::-1]  # Convert RGB to BGR\n",
    "    elif img.shape[0] == 1:  # [C, H, W]\n",
    "        img = np.squeeze(img, 0)  # [H, W]\n",
    "    return img\n"
   ]
  },
  {
   "cell_type": "code",
   "execution_count": 18,
   "metadata": {},
   "outputs": [],
   "source": [
    "## learn_ea function training logic\n",
    "# earlystoppingあり\n",
    "# numpy形式のまま入力する用改良\n",
    "# 学習を行い予測結果画像を出力するとこまで\n",
    "from customdatasets import SegmentationDataSet0\n",
    "from customdatasets import SegmentationDataSet1\n",
    "from customdatasets import SegmentationDataSet5\n",
    "from customdatasets import SegmentationDataSetMaskRcnn\n",
    "from torch.utils.data import DataLoader\n",
    "from maskrcnn import get_maskrcnn_model\n",
    "\n",
    "def Learn_EA(input_dataset,label_dataset,input_dataset_val,label_dataset_val, type_number, fold=0):\n",
    "    print(\"*************************Training*************************\")\n",
    "    # 引数を追加して保存先を指定するよう改良\n",
    "    # try_number:何回目の焼きなましかどうか。モデルの保存に使用\n",
    "\n",
    "    # dataset training\n",
    "    # dataset_train2 = SegmentationDataSet0(\n",
    "    #                                     #inputs=dataset_original,\n",
    "    #                                     inputs=input_dataset,\n",
    "    #                                     targets=label_dataset,\n",
    "    #                                     transform=transforms_training)\n",
    "    \n",
    "    dataset_train2 = SegmentationDataSet5(\n",
    "                                        #inputs=dataset_original,\n",
    "                                        feature_paths=input_dataset,\n",
    "                                        label_paths=label_dataset,\n",
    "                                        feature_num = IN_CHANNEL,\n",
    "                                        transform=transforms_training)\n",
    "\n",
    "    # dataloader training\n",
    "    #rearranged in custom order so shuffle is false in normal case: true\n",
    "    dataloader_training2 = DataLoader(dataset=dataset_train2,\n",
    "                                     batch_size = 2,\n",
    "                                     shuffle=True,\n",
    "                                     num_workers=4,\n",
    "                                     pin_memory=True)\n",
    "    #もとはシャッフルtrue\n",
    "\n",
    "\n",
    "    batch = next(iter(dataloader_training2))\n",
    "  \n",
    "    x, y = batch\n",
    "    print(\"x.shape = \", x.shape)\n",
    "    print(\"x.min(), x.max() = \", x.min(), x.max())\n",
    "    print(\"y.shape = \", y.shape)\n",
    "    print(\"torch.unique(y) = \", torch.unique(y))\n",
    "\n",
    "\n",
    "    \n",
    "    # dataset training\n",
    "    dataset_val = SegmentationDataSet0(inputs=input_dataset_val,\n",
    "                                        targets=label_dataset_val,\n",
    "                                        transform=transforms_val)\n",
    "    #書き換え箇所\n",
    "    dataloader_val = DataLoader(dataset=dataset_val,\n",
    "                                     batch_size = 2,\n",
    "                                     shuffle=False,\n",
    "                                     num_workers=4,\n",
    "                                     pin_memory=True)\n",
    "    \n",
    "    \n",
    "    \n",
    "    ###earlystopping あり\n",
    "\n",
    "    from unet import UNet\n",
    "    from trainer2 import Trainer2 \n",
    "    from torch import nn #import torch \n",
    "    from pytorchtools import EarlyStopping\n",
    "    from torch.nn import BCEWithLogitsLoss\n",
    "    from customLoss import DiceCELoss\n",
    "    from customLoss import DiceLoss\n",
    "    from customLoss import ExponentialLogCE_DiceLoss\n",
    "\n",
    "\n",
    "    #device\n",
    "    if torch.cuda.is_available():\n",
    "        device = torch.device('cuda') \n",
    "    else: \n",
    "        torch.device('cpu')\n",
    "        print(\"Before creating the UNet model: GPU was not available and CPU will be used instead\")\n",
    "\n",
    "    # custom logging the parameters of the UNet\n",
    "    inChannels = IN_CHANNEL\n",
    "    outChannels = 11\n",
    "    nBlocks = N_BLOCK\n",
    "    startFilters = 32\n",
    "\n",
    "    from customLog import custom_logger\n",
    "    \n",
    "    #custom_logger(\"/log/customLog.log\", inChannels, outChannels, nBlocks, startFilters)\n",
    "\n",
    "    #model\n",
    "    model = UNet(in_channels = inChannels,\n",
    "                 out_channels = outChannels,\n",
    "                 n_blocks = nBlocks, \n",
    "                 start_filters=32,\n",
    "                 activation='relu',\n",
    "                 normalization='instance',\n",
    "                 conv_mode='same',\n",
    "                 dim=2,\n",
    "                 ).to(device)\n",
    "\n",
    "    ### Later for experimenting\n",
    "    #from originalUNet import Original_UNet\n",
    "    #model = Original_UNet()\n",
    "\n",
    "    # Assuming input_tensor is a sample input tensor with the correct shape (e.g., torch.randn(1, 3, 100, 100))\n",
    "    input_tensor = torch.randn(1, 45, 100, 100).to(device)  # Adjust the shape as needed\n",
    "    # print_model_shapes(model, input_tensor)\n",
    "\n",
    "\n",
    "    #loss function\n",
    "    \n",
    "    # pytorch cross entropy loss function\n",
    "    criterion = torch.nn.CrossEntropyLoss()\n",
    "    \n",
    "    #custom dice loss\n",
    "    #criterion = DiceLoss()\n",
    "    \n",
    "    #custom combination loss of dice and cross entropy\n",
    "    # 40 60 ratio\n",
    "    #criterion = DiceCELoss(dice_weight = DICE_IMPORTANCE, ce_weight = CE_IMPORTANCE)\n",
    "    \n",
    "    # pytorch bce loss \n",
    "    # criterion = BCEWithLogitsLoss()\n",
    "    \n",
    "    # custom combination log exp loss of dice and cross entropy\n",
    "    # requires segmentation class number\n",
    "    #criterion = ExponentialLogCE_DiceLoss(num_class = 11)\n",
    "\n",
    "    #optimizer\n",
    "    #optimizer = torch.optim.Adam(model.parameters(), lr=LR, weight_decay=1e-7)\n",
    "    optimizer = torch.optim.Adam(model.parameters(), lr=LR)\n",
    "\n",
    "    #trainer\n",
    "    trainer = Trainer2(model=model, \n",
    "                       device=device, \n",
    "                       criterion=criterion, \n",
    "                       optimizer=optimizer, \n",
    "                       training_DataLoader=dataloader_training2,\n",
    "                       #validation_DataLoader=None, \n",
    "                       validation_DataLoader=dataloader_val, \n",
    "                       lr_scheduler=None, \n",
    "                       epochs=146, ##😺😺😺😺 epoch=0, \n",
    "                       notebook=True)\n",
    "  \n",
    "    print(\"=======start training======\")\n",
    "    \n",
    "    # start training\n",
    "    training_losses, validation_losses, lr_rates = trainer.run_trainer()\n",
    "    print(\"***************************\")\n",
    "\n",
    "    \n",
    "    \n",
    "    #ここがちゃんとESで最適なエポック数のモデルになっているか要検証\n",
    "    model_dir = os.path.join(\"model\", date_str)\n",
    "    if not os.path.exists(model_dir):\n",
    "        os.makedirs(model_dir)\n",
    "    model_name = f\"model_fold_{fold}.pt\"\n",
    "    model_path = os.path.join(model_dir, model_name)\n",
    "    torch.save(model.state_dict(), model_path)\n",
    "    print(f\"modelname:{model_name}を保存しました\")\n",
    "    #torch.cuda.empty_cache()\n",
    "    \n",
    "\n",
    "    model_weights = torch.load(model_path)\n",
    "    model.load_state_dict(model_weights)\n",
    "    \n",
    "    \n",
    "\n",
    "    # images = annealing_input_dataset\n",
    "    images = input_dataset_val\n",
    "\n",
    "    from inference import predict\n",
    "    from transformations import normalize_01, re_normalize\n",
    "    # predict the segmentation maps \n",
    "    output = [predict(img, model, preprocess, postprocess, device) for img in images]\n",
    "\n",
    "\n",
    "    for i in range(len(input_name_val)):\n",
    "        if(type_number == 0):\n",
    "            cv2.imwrite(os.path.join(result_dir, f'{input_name_val[i]}.png'), output[i])\n",
    "        elif(type_number == 1):\n",
    "            cv2.imwrite(os.path.join(test_result_dir, 'result_original', f'{input_name_val[i]}.png'), output[i])\n",
    "        elif(type_number == 2):\n",
    "            cv2.imwrite(os.path.join(test_result_dir, 'result_test', f'{input_name_val[i]}.png'), output[i])\n",
    "\n"
   ]
  },
  {
   "cell_type": "code",
   "execution_count": 19,
   "metadata": {},
   "outputs": [],
   "source": [
    "## learn_ea for mask rcnn function training logic\n",
    "# earlystoppingあり\n",
    "# numpy形式のまま入力する用改良\n",
    "# 学習を行い予測結果画像を出力するとこまで\n",
    "from customdatasets import SegmentationDataSet0\n",
    "from customdatasets import SegmentationDataSet1\n",
    "from customdatasets import SegmentationDataSet5\n",
    "from customdatasets import SegmentationDataSetMaskRcnn\n",
    "from torch.utils.data import DataLoader\n",
    "from maskrcnn import get_maskrcnn_model\n",
    "from maskrcnn import Trainer2MaskRCNN\n",
    "from inference import predict_mrcnn\n",
    "\n",
    "\n",
    "def collate_fn(batch):\n",
    "    return tuple(zip(*batch))\n",
    "\n",
    "def Learn_EA_mask_rcnn(input_dataset,label_dataset,input_dataset_val,label_dataset_val, type_number, fold=0):\n",
    "    print(\"*************************Training*************************\")\n",
    "    \n",
    "    # ****************maskrcnn train variable****************\n",
    "    #\n",
    "    \n",
    "    dataset_train_mrcnn = SegmentationDataSetMaskRcnn(\n",
    "                                        label_paths=label_dataset,\n",
    "                                        transform=transforms_training)\n",
    "\n",
    "\n",
    "    \n",
    "    dataloader_training2 = DataLoader(dataset=dataset_train_mrcnn,\n",
    "                                     batch_size = 2,\n",
    "                                     shuffle=True,\n",
    "                                     num_workers=4,\n",
    "                                     pin_memory=True,\n",
    "                                     collate_fn=collate_fn)\n",
    "    \n",
    "    #\n",
    "    # ****************maskrcnn train variable****************\n",
    "\n",
    "    batch = next(iter(dataloader_training2))\n",
    "  \n",
    "    x, y = batch\n",
    "        \n",
    "    print(\"len(x) =\", len(x))  # e.g., 2 if batch_size=2\n",
    "    print(\"x[0].shape =\", x[0].shape)\n",
    "    print(\"x[0].min(), x[0].max() =\", x[0].min(), x[0].max())\n",
    "    # print(\"x.shape = \", x.shape)\n",
    "    # print(\"x.min(), x.max() = \", x.min(), x.max())\n",
    "    # print(\"y.shape = \", y.shape)\n",
    "    # print(\"torch.unique(y) = \", torch.unique(y))\n",
    "\n",
    "\n",
    "    \n",
    "    # dataset training\n",
    "    dataset_val = SegmentationDataSetMaskRcnn(label_paths=label_dataset_val,\n",
    "                                        transform=transforms_training)\n",
    "    #書き換え箇所\n",
    "    dataloader_val = DataLoader(dataset=dataset_val,\n",
    "                                     batch_size = 2,\n",
    "                                     shuffle=False,\n",
    "                                     num_workers=4,\n",
    "                                     pin_memory=True,\n",
    "                                     collate_fn=collate_fn)\n",
    "    \n",
    "    \n",
    "    \n",
    "    ###earlystopping あり\n",
    "\n",
    "    from unet import UNet\n",
    "    from trainer2 import Trainer2 \n",
    "    from torch import nn #import torch \n",
    "    from pytorchtools import EarlyStopping\n",
    "    from torch.nn import BCEWithLogitsLoss\n",
    "    from customLoss import DiceCELoss\n",
    "    from customLoss import DiceLoss\n",
    "    from customLoss import ExponentialLogCE_DiceLoss\n",
    "\n",
    "\n",
    "    #device\n",
    "    if torch.cuda.is_available():\n",
    "        device = torch.device('cuda') \n",
    "    else: \n",
    "        torch.device('cpu')\n",
    "        print(\"Before creating the UNet model: GPU was not available and CPU will be used instead\")\n",
    "\n",
    "\n",
    "    from customLog import custom_logger\n",
    "    \n",
    "    #custom_logger(\"/log/customLog.log\", inChannels, outChannels, nBlocks, startFilters)\n",
    "\n",
    "    #model\n",
    "    model = get_maskrcnn_model(num_classes=11).to(device)\n",
    "\n",
    "    ### Later for experimenting\n",
    "    #from originalUNet import Original_UNet\n",
    "    #model = Original_UNet()\n",
    "\n",
    "    # Assuming input_tensor is a sample input tensor with the correct shape (e.g., torch.randn(1, 3, 100, 100))\n",
    "    input_tensor = torch.randn(1, 45, 100, 100).to(device)  # Adjust the shape as needed\n",
    "    # print_model_shapes(model, input_tensor)\n",
    "\n",
    "\n",
    "    #loss function\n",
    "    \n",
    "    # pytorch cross entropy loss function\n",
    "    #criterion = torch.nn.CrossEntropyLoss()\n",
    "    \n",
    "    #custom dice loss\n",
    "    #criterion = DiceLoss()\n",
    "    \n",
    "    #custom combination loss of dice and cross entropy\n",
    "    # 40 60 ratio\n",
    "    #criterion = DiceCELoss(dice_weight = DICE_IMPORTANCE, ce_weight = CE_IMPORTANCE)\n",
    "    \n",
    "    # pytorch bce loss \n",
    "    # criterion = BCEWithLogitsLoss()\n",
    "    \n",
    "    # custom combination log exp loss of dice and cross entropy\n",
    "    # requires segmentation class number\n",
    "    #criterion = ExponentialLogCE_DiceLoss(num_class = 11)\n",
    "\n",
    "    #optimizer\n",
    "    #optimizer = torch.optim.Adam(model.parameters(), lr=LR, weight_decay=1e-7)\n",
    "    #optimizer = torch.optim.Adam(model.parameters(), lr=LR)\n",
    "    params = [p for p in model.parameters() if p.requires_grad]\n",
    "    optimizer = torch.optim.SGD(params, lr=0.005, momentum=0.9, weight_decay=0.0005)\n",
    "\n",
    "\n",
    "    #trainer\n",
    "    trainer = Trainer2MaskRCNN(model=model, \n",
    "                       device=device, \n",
    "                       #criterion=criterion, \n",
    "                       optimizer=optimizer, \n",
    "                       training_DataLoader=dataloader_training2,\n",
    "                       #validation_DataLoader=None, \n",
    "                       validation_DataLoader=dataloader_val, \n",
    "                       epochs=100, ##😺😺😺😺 epoch=0, \n",
    "                       )\n",
    "  \n",
    "    print(\"=======start training======\")\n",
    "    \n",
    "    # start training\n",
    "    trainer.run_trainer()\n",
    "    print(\"***************************\")\n",
    "\n",
    "    \n",
    "    \n",
    "    #ここがちゃんとESで最適なエポック数のモデルになっているか要検証\n",
    "    model_dir = os.path.join(\"model\", date_str)\n",
    "    if not os.path.exists(model_dir):\n",
    "        os.makedirs(model_dir)\n",
    "    model_name = f\"model_mask_rcnn_fold_{fold}.pt\"\n",
    "    model_path = os.path.join(model_dir, model_name)\n",
    "    torch.save(model.state_dict(), model_path)\n",
    "    print(f\"modelname:{model_name}を保存しました\")\n",
    "    #torch.cuda.empty_cache()\n",
    "    \n",
    "    clear_cuda_memory()\n",
    "\n",
    "    model_weights = torch.load(model_path)\n",
    "    model.load_state_dict(model_weights)\n",
    "    \n",
    "    \n",
    "\n",
    "    # images = annealing_input_dataset\n",
    "    outputs = []\n",
    "    \n",
    "    for img_path in label_dataset_val:\n",
    "        img = cv2.imread(img_path, cv2.IMREAD_GRAYSCALE)\n",
    "        # plt.imshow(img, cmap='gray' if img.ndim == 2 else None)\n",
    "        # plt.axis('off')  # Hide axes\n",
    "        # plt.show()\n",
    "        img = (img > 0).astype(np.uint8)\n",
    "        # plt.imshow(img, cmap='gray' if img.ndim == 2 else None)\n",
    "        # plt.axis('off')  # Hide axes\n",
    "        # plt.show()\n",
    "        output = predict_mrcnn(img, model, preprocess, postprocess, device)\n",
    "        outputs.append(output[0])\n",
    "\n",
    "    from inference import predict\n",
    "    from transformations import normalize_01, re_normalize\n",
    "    # predict the segmentation maps \n",
    "\n",
    "\n",
    "\n",
    "    for i in range(len(input_name_val)):\n",
    "        if(type_number == 0):\n",
    "            val_path = result_dir + f'/Mask_RCNN_{input_name_val[i]}.png'\n",
    "            cv2.imwrite(val_path, outputs[i])\n",
    "        elif(type_number == 1):\n",
    "            cv2.imwrite(os.path.join(test_result_dir, 'result_original', f'Mask_RCNN_{input_name_val[i]}.png'), outputs[i])\n",
    "        elif(type_number == 2):\n",
    "            cv2.imwrite(os.path.join(test_result_dir, 'result_test', f'Mask_RCNN_{input_name_val[i]}.png'), outputs[i])\n",
    "\n"
   ]
  },
  {
   "cell_type": "code",
   "execution_count": 20,
   "metadata": {},
   "outputs": [],
   "source": [
    "## dice calculation\n",
    "import statistics\n",
    "# Dicecの計算\n",
    "def cal_DiceMulitple(dir, input_name, mrcnn=False):\n",
    "    # change the label count as your preference\n",
    "    Dice = [0] * 11\n",
    "    Count1 = [0] * 11 #予測結果の各ラベルの要素数\n",
    "    Count2 = [0] * 11 #ラベル画像の\n",
    "    Count3 = [0] * 11 #正解した画素数\n",
    "    \n",
    "    for index in range(len(input_name)):\n",
    "        print('index = ', index)\n",
    "\n",
    "        if mrcnn == True:\n",
    "            img1 = cv2.imread(dir + '/Mask_RCNN_' + input_name[index] + \".png\", cv2.IMREAD_GRAYSCALE)\n",
    "        else:\n",
    "            img1 = cv2.imread(dir + '/' + input_name[index] + \".png\", cv2.IMREAD_GRAYSCALE)\n",
    "        img2 = cv2.imread(labeled_dir + '/' + input_name[index] + \".png\", cv2.IMREAD_GRAYSCALE)\n",
    "        #_, img2 = cv2.threshold(img2, 0, 255, cv2.THRESH_BINARY)\n",
    "        print(\"予測画像:\", dir  + '/' + input_name[index] + \".png\")\n",
    "        print(\"テストラベル:\", labeled_dir + '/' + input_name[index] + \".png\")\n",
    "        unique_label1 = np.unique(img1)\n",
    "        unique_label2 = np.unique(img2)\n",
    "        # print(unique_label1)\n",
    "        # print(unique_label2)\n",
    "        # change the image array size to your need\n",
    "        for n in range(256):\n",
    "            for l in range(256):\n",
    "                value1 = img1[n,l]\n",
    "                # for index, uq_value in enumerate(unique_label1):\n",
    "                #     if(value1 == uq_value):\n",
    "                #         value1 = index\n",
    "\n",
    "                Count1[value1] += 1\n",
    "\n",
    "                value2 = img2[n,l]\n",
    "                Count2[value2] += 1                    \n",
    "\n",
    "                if(value1 == value2):\n",
    "                    Count3[value1] += 1 \n",
    "    for i in range(11):\n",
    "        if(Count1[i]+Count2[i] != 0):\n",
    "            Dice[i] = (2*Count3[i])/(Count1[i] + Count2[i])\n",
    "        if(Count1[i]+Count2[i] == 0):\n",
    "            print(\"\")\n",
    "            #print(\"4 label case:\" + str(input_name[index]))\n",
    "    Dice.append(statistics.mean(Dice[1:]))\n",
    "    print('Count1 = ', Count1)\n",
    "    print('Count2 = ', Count2)\n",
    "    print('Count3 = ', Count3)\n",
    "    print('Dice = ', Dice)\n",
    "    #print(unique_label)\n",
    "\n",
    "    return Dice\n"
   ]
  },
  {
   "cell_type": "code",
   "execution_count": 21,
   "metadata": {},
   "outputs": [],
   "source": [
    "## mConv_predict test function\n",
    "import statistics\n",
    "from denseCRF import noiseReduction\n",
    "# device\n",
    "def mConv_predict(test_input_name, fold=0):\n",
    "    print(\"*************************************Test*************************************\")\n",
    "    if torch.cuda.is_available():\n",
    "        device = torch.device('cuda')\n",
    "    else:\n",
    "        print(\"Using CPU instead of GPU\")\n",
    "        torch.device('cpu')\n",
    "\n",
    "    model = UNet(in_channels=IN_CHANNEL,  # check the parameters\n",
    "                out_channels=11,\n",
    "                n_blocks=N_BLOCK,\n",
    "                start_filters=32,\n",
    "                activation='relu',\n",
    "                normalization='instance', #use instance when \"batch\" size is less than 10? batch\n",
    "                conv_mode='same',\n",
    "                dim=2).to(device)\n",
    "\n",
    "    model_dir = os.path.join(\"model\", date_str)\n",
    "    print(\"model_dir = \", model_dir)\n",
    "    model_path = os.path.join(model_dir, f\"model_fold_{fold}.pt\") # load the model\n",
    "    model_weights = torch.load(model_path)\n",
    "    model.load_state_dict(model_weights)\n",
    "\n",
    "    model.eval()\n",
    "\n",
    "    # create test dataset\n",
    "    test_input_dataset, _ = CreateWeightImage(test_input_name)\n",
    " \n",
    "\n",
    "    # convert to torch\n",
    "    test_input_tensor = torch.from_numpy(test_input_dataset).float().to(device)\n",
    "\n",
    "\n",
    "    from inference import predict\n",
    "    from transformations import normalize_01, re_normalize\n",
    "    # predict\n",
    "    output = [predict(img, model, preprocess, postprocess, device) for img in test_input_dataset]\n",
    "\n",
    "\n",
    "    plot_output_img = list()\n",
    "    \n",
    "    \n",
    "    fold_dir = os.path.join(test_result_dir, f\"fold{fold}\")\n",
    "    os.makedirs(fold_dir, exist_ok=True)\n",
    "    \n",
    "    # save images\n",
    "    for i, output_img in enumerate(output):\n",
    "        #for checking the unique values of the result label\n",
    "        labels = np.unique(output_img)\n",
    "\n",
    "        output_image_path = os.path.join(fold_dir, f\"{test_input_name[i]}.png\")\n",
    "        cv2.imwrite(output_image_path, output_img)\n",
    "        \n",
    "        # old writing when there was no stratifiedkfold\n",
    "        # cv2.imwrite(os.path.join(test_result_dir, f\"{test_input_name[i]}.png\"), output_img)  # 根据需要调整文件路径和命名\n",
    "\n",
    "        #print(labels)\n",
    "        plot_output_img.append(output_img)\n",
    "\n",
    "\n",
    "    Dice = cal_DiceMulitple(fold_dir, test_input_name)\n",
    "    df = pd.DataFrame(Dice)\n",
    "    df = df.T\n",
    "    df.to_csv(test_result_dir + \"/Dice.csv\", mode='a', header=False) # Diceの結果をcsvに追加\n",
    "    \n",
    "    postCRF = noiseReduction(output, test_input_name, labeled_dir, fold_dir, 0.8)\n",
    "    \n",
    "    DiceCRF = cal_DiceMulitple( fold_dir + \"/crf\", test_input_name)\n",
    "    dfCRF = pd.DataFrame(DiceCRF)\n",
    "    dfCRF = dfCRF.T\n",
    "    dfCRF.to_csv(test_result_dir + \"/CRFDice.csv\", mode='a', header=False) # Diceの結果をcsvに追加\n",
    "    \n",
    "\n",
    "    \n",
    "\n"
   ]
  },
  {
   "cell_type": "code",
   "execution_count": 22,
   "metadata": {},
   "outputs": [],
   "source": [
    "## mConv_predict test function\n",
    "import statistics\n",
    "from denseCRF import noiseReduction\n",
    "from maskrcnn import get_maskrcnn_model\n",
    "# device\n",
    "def mConv_predict_mask_rcnn(test_input_name, fold=0):\n",
    "    print(\"*************************************Test*************************************\")\n",
    "    if torch.cuda.is_available():\n",
    "        device = torch.device('cuda')\n",
    "    else:\n",
    "        print(\"Using CPU instead of GPU\")\n",
    "        torch.device('cpu')\n",
    "\n",
    "    model = get_maskrcnn_model(11).to(device)\n",
    "\n",
    "    model_dir = os.path.join(\"model\", date_str)\n",
    "    print(\"model_dir = \", model_dir)\n",
    "    model_path = os.path.join(model_dir, f\"model_mask_rcnn_fold_{fold}.pt\") # load the model\n",
    "    model_weights = torch.load(model_path)\n",
    "    model.load_state_dict(model_weights)\n",
    "\n",
    "    model.eval()\n",
    "\n",
    "    # create test dataset\n",
    "    #_, test_input_dataset = CreateWeightImage(test_input_name)\n",
    "    # convert binary for mrcnn\n",
    "    #test_input_dataset = [(img > 0).astype(np.uint8) for img in test_input_dataset]\n",
    "    # images_test = []\n",
    "    # for img in test_input_dataset:\n",
    "    #     img = (img > 0).astype(np.uint8)\n",
    "    #     output = predict_mrcnn(img, model, preprocess, postprocess, device)\n",
    "    #     images_test.append(output[0])\n",
    "    # print(type(images_test))\n",
    "    # convert to torch\n",
    "    #test_input_tensor = torch.from_numpy(test_input_dataset).float().to(device)\n",
    "\n",
    "    fold_dir = os.path.join(test_result_dir, f\"fold{fold}/crf/\")\n",
    "    os.makedirs(fold_dir, exist_ok=True)\n",
    "    \n",
    "    \n",
    "    images_test = []\n",
    "    for i, img in enumerate(test_input_name):\n",
    "        img_path = fold_dir + f\"{test_input_name[i]}.png\"\n",
    "        img = cv2.imread(img_path, cv2.IMREAD_GRAYSCALE)\n",
    "        img = (img > 0).astype(np.uint8)\n",
    "        output = predict_mrcnn(img, model, preprocess, postprocess, device)\n",
    "        images_test.append(output[0])\n",
    "    print(type(images_test))\n",
    "\n",
    "    from inference import predict\n",
    "    from transformations import normalize_01, re_normalize\n",
    "    # predict\n",
    "    # to be used in real unet combination\n",
    "    # outputs = []\n",
    "    \n",
    "    # for img_path in test_input_dataset:\n",
    "    #     img = cv2.imread(img_path, cv2.IMREAD_GRAYSCALE)\n",
    "    #     # plt.imshow(img, cmap='gray' if img.ndim == 2 else None)\n",
    "    #     # plt.axis('off')  # Hide axes\n",
    "    #     # plt.show()\n",
    "    #     img = (img > 0).astype(np.uint8)\n",
    "    #     # plt.imshow(img, cmap='gray' if img.ndim == 2 else None)\n",
    "    #     # plt.axis('off')  # Hide axes\n",
    "    #     # plt.show()\n",
    "    #     output = predict_mrcnn(img, model, preprocess, postprocess, device)\n",
    "    #     outputs.append(img[0])\n",
    "    \n",
    "\n",
    "\n",
    "    plot_output_img = list()\n",
    "    \n",
    "    \n",
    "   \n",
    "    \n",
    "    # save images\n",
    "    for i, output_img in enumerate(images_test):\n",
    "        #for checking the unique values of the result label\n",
    "        labels = np.unique(output_img)\n",
    "\n",
    "        output_image_path = os.path.join(fold_dir, f\"Mask_RCNN_{test_input_name[i]}.png\")\n",
    "        cv2.imwrite(output_image_path, output_img)\n",
    "        \n",
    "        # old writing when there was no stratifiedkfold\n",
    "        # cv2.imwrite(os.path.join(test_result_dir, f\"{test_input_name[i]}.png\"), output_img)  # 根据需要调整文件路径和命名\n",
    "\n",
    "        #print(labels)\n",
    "        plot_output_img.append(output_img)\n",
    "\n",
    "    Dice = cal_DiceMulitple(fold_dir, test_input_name, True)\n",
    "    df = pd.DataFrame(Dice)\n",
    "    df = df.T\n",
    "    df.to_csv(test_result_dir + \"/DiceMaskRCNN.csv\", mode='a', header=False) # Diceの結果をcsvに追加\n",
    "    \n",
    "    # postCRF = noiseReduction(output, test_input_name, labeled_dir, fold_dir, 0.8)\n",
    "    \n",
    "    # DiceCRF = cal_DiceMulitple( fold_dir + \"/crf\", test_input_name)\n",
    "    # dfCRF = pd.DataFrame(DiceCRF)\n",
    "    # dfCRF = dfCRF.T\n",
    "    # dfCRF.to_csv(test_result_dir + \"/CRFDice.csv\", mode='a', header=False) # Diceの結果をcsvに追加\n",
    "    \n",
    "\n",
    "    \n",
    "\n"
   ]
  },
  {
   "cell_type": "code",
   "execution_count": 23,
   "metadata": {},
   "outputs": [
    {
     "name": "stdout",
     "output_type": "stream",
     "text": [
      "['N1-1' 'N1-2' 'N1-3' 'N1-4' 'N1-5' 'N1-6' 'N1-7' 'N1-8' 'N1-9' 'N1-10'\n",
      " 'N2-1' 'N2-2' 'N2-3' 'N2-4' 'N2-5' 'N2-6' 'N2-7' 'N2-8' 'N2-9' 'N2-10'\n",
      " 'N3-1' 'N3-2' 'N3-3' 'N3-4' 'N3-5' 'N3-6' 'N3-7' 'N3-8' 'N3-9' 'N3-10'\n",
      " 'N4-1' 'N4-2' 'N4-3' 'N4-4' 'N4-5' 'N4-6' 'N4-7' 'N4-8' 'N4-9' 'N5-1'\n",
      " 'N5-2' 'N5-3' 'N5-4' 'N5-5' 'N5-6']\n",
      "['N1' 'N1' 'N1' 'N1' 'N1' 'N1' 'N1' 'N1' 'N1' 'N1' 'N2' 'N2' 'N2' 'N2'\n",
      " 'N2' 'N2' 'N2' 'N2' 'N2' 'N2' 'N3' 'N3' 'N3' 'N3' 'N3' 'N3' 'N3' 'N3'\n",
      " 'N3' 'N3' 'N4' 'N4' 'N4' 'N4' 'N4' 'N4' 'N4' 'N4' 'N4' 'N5' 'N5' 'N5'\n",
      " 'N5' 'N5' 'N5']\n",
      "Cross validation: True\n",
      "Fold: 1 out of 4\n",
      "Augmentation: True\n",
      "Augmentation amount: 30\n",
      "Training: Total of 22 cases.\n",
      "['N4-9' 'N3-1' 'N2-8' 'N3-10' 'N5-5' 'N2-3' 'N4-3' 'N1-7' 'N1-10' 'N1-1'\n",
      " 'N3-8' 'N2-6' 'N5-4' 'N2-4' 'N4-4' 'N1-9' 'N1-3' 'N3-5' 'N5-3' 'N3-6'\n",
      " 'N4-8' 'N2-7']\n",
      "Validation: Total of 11 cases.\n",
      "['N4-5' 'N5-2' 'N2-10' 'N1-8' 'N3-4' 'N4-2' 'N3-7' 'N4-7' 'N2-5' 'N1-5'\n",
      " 'N2-9']\n",
      "Test: Total of 12 cases.\n",
      "['N1-2' 'N1-4' 'N1-6' 'N2-1' 'N2-2' 'N3-2' 'N3-3' 'N3-9' 'N4-1' 'N4-6'\n",
      " 'N5-1' 'N5-6']\n",
      "\n",
      "Creating image paths...\n",
      "Processed 660 label paths and 660 feature paths.\n",
      "Creating image arrays...\n",
      "Number of label images: 330\n",
      "Completed creating image arrays:\n",
      "Dataset shape  (330, 256, 256, 108)\n",
      "Label image shape  (330, 256, 256)\n",
      "\n",
      "*************************Training*************************\n",
      "x.shape =  torch.Size([2, 108, 256, 256])\n",
      "x.min(), x.max() =  tensor(0.) tensor(1.)\n",
      "y.shape =  torch.Size([2, 256, 256])\n",
      "torch.unique(y) =  tensor([ 0,  1,  2,  3,  4,  5,  6,  7,  8,  9, 10])\n",
      "in constructor inchannel: 108\n",
      "Input channel count3\n",
      "=======start training======\n"
     ]
    },
    {
     "data": {
      "application/vnd.jupyter.widget-view+json": {
       "model_id": "dad75de47f60449099acf9598ac4597c",
       "version_major": 2,
       "version_minor": 0
      },
      "text/plain": [
       "Progress:   0%|          | 0/146 [00:00<?, ?it/s]"
      ]
     },
     "metadata": {},
     "output_type": "display_data"
    },
    {
     "data": {
      "application/vnd.jupyter.widget-view+json": {
       "model_id": "22fa02a3289b4f44a121b169ec32049f",
       "version_major": 2,
       "version_minor": 0
      },
      "text/plain": [
       "Training:   0%|          | 0/330 [00:00<?, ?it/s]"
      ]
     },
     "metadata": {},
     "output_type": "display_data"
    },
    {
     "name": "stderr",
     "output_type": "stream",
     "text": [
      "/home/eric/anaconda3/envs/myenv/lib/python3.11/site-packages/torch/nn/modules/conv.py:952: UserWarning: Plan failed with a cudnnException: CUDNN_BACKEND_EXECUTION_PLAN_DESCRIPTOR: cudnnFinalize Descriptor Failed cudnn_status: CUDNN_STATUS_NOT_SUPPORTED (Triggered internally at ../aten/src/ATen/native/cudnn/Conv_v8.cpp:919.)\n",
      "  return F.conv_transpose2d(\n"
     ]
    },
    {
     "data": {
      "application/vnd.jupyter.widget-view+json": {
       "model_id": "0b745859d74841048fa188dfe6dd5dd8",
       "version_major": 2,
       "version_minor": 0
      },
      "text/plain": [
       "Validation:   0%|          | 0/165 [00:00<?, ?it/s]"
      ]
     },
     "metadata": {},
     "output_type": "display_data"
    },
    {
     "name": "stdout",
     "output_type": "stream",
     "text": [
      "val_losses 1.1029667261875038\n",
      "Validation loss decreased (inf --> 1.102967).  Saving model ...\n"
     ]
    },
    {
     "data": {
      "application/vnd.jupyter.widget-view+json": {
       "model_id": "02bef62f9cdc4f488f61b0ca7251a490",
       "version_major": 2,
       "version_minor": 0
      },
      "text/plain": [
       "Training:   0%|          | 0/330 [00:00<?, ?it/s]"
      ]
     },
     "metadata": {},
     "output_type": "display_data"
    },
    {
     "data": {
      "application/vnd.jupyter.widget-view+json": {
       "model_id": "baf6360ba2ac445886db0c4da332ee74",
       "version_major": 2,
       "version_minor": 0
      },
      "text/plain": [
       "Validation:   0%|          | 0/165 [00:00<?, ?it/s]"
      ]
     },
     "metadata": {},
     "output_type": "display_data"
    },
    {
     "name": "stdout",
     "output_type": "stream",
     "text": [
      "val_losses 0.7613445415641322\n",
      "Validation loss decreased (1.102967 --> 0.761345).  Saving model ...\n"
     ]
    },
    {
     "data": {
      "application/vnd.jupyter.widget-view+json": {
       "model_id": "916ab1a8cf794f0a97af468f4189a526",
       "version_major": 2,
       "version_minor": 0
      },
      "text/plain": [
       "Training:   0%|          | 0/330 [00:00<?, ?it/s]"
      ]
     },
     "metadata": {},
     "output_type": "display_data"
    },
    {
     "data": {
      "application/vnd.jupyter.widget-view+json": {
       "model_id": "ce37a64f57a04e338d28905f553244e9",
       "version_major": 2,
       "version_minor": 0
      },
      "text/plain": [
       "Validation:   0%|          | 0/165 [00:00<?, ?it/s]"
      ]
     },
     "metadata": {},
     "output_type": "display_data"
    },
    {
     "name": "stdout",
     "output_type": "stream",
     "text": [
      "val_losses 0.6079125185807546\n",
      "Validation loss decreased (0.761345 --> 0.607913).  Saving model ...\n"
     ]
    },
    {
     "data": {
      "application/vnd.jupyter.widget-view+json": {
       "model_id": "f6a7a3427db84b3abbe0ba7653392d1f",
       "version_major": 2,
       "version_minor": 0
      },
      "text/plain": [
       "Training:   0%|          | 0/330 [00:00<?, ?it/s]"
      ]
     },
     "metadata": {},
     "output_type": "display_data"
    },
    {
     "data": {
      "application/vnd.jupyter.widget-view+json": {
       "model_id": "f6ece855d6de4b41bf1638afb9fff140",
       "version_major": 2,
       "version_minor": 0
      },
      "text/plain": [
       "Validation:   0%|          | 0/165 [00:00<?, ?it/s]"
      ]
     },
     "metadata": {},
     "output_type": "display_data"
    },
    {
     "name": "stdout",
     "output_type": "stream",
     "text": [
      "val_losses 0.5578171677661664\n",
      "Validation loss decreased (0.607913 --> 0.557817).  Saving model ...\n"
     ]
    },
    {
     "data": {
      "application/vnd.jupyter.widget-view+json": {
       "model_id": "d9bb2bf82130494e99a1c3f5194a734c",
       "version_major": 2,
       "version_minor": 0
      },
      "text/plain": [
       "Training:   0%|          | 0/330 [00:00<?, ?it/s]"
      ]
     },
     "metadata": {},
     "output_type": "display_data"
    },
    {
     "data": {
      "application/vnd.jupyter.widget-view+json": {
       "model_id": "84923efe4fb942e8a1bb320a37d068be",
       "version_major": 2,
       "version_minor": 0
      },
      "text/plain": [
       "Validation:   0%|          | 0/165 [00:00<?, ?it/s]"
      ]
     },
     "metadata": {},
     "output_type": "display_data"
    },
    {
     "name": "stdout",
     "output_type": "stream",
     "text": [
      "val_losses 0.462312323216236\n",
      "Validation loss decreased (0.557817 --> 0.462312).  Saving model ...\n"
     ]
    },
    {
     "data": {
      "application/vnd.jupyter.widget-view+json": {
       "model_id": "541447d83afa405093a13737259968b5",
       "version_major": 2,
       "version_minor": 0
      },
      "text/plain": [
       "Training:   0%|          | 0/330 [00:00<?, ?it/s]"
      ]
     },
     "metadata": {},
     "output_type": "display_data"
    },
    {
     "data": {
      "application/vnd.jupyter.widget-view+json": {
       "model_id": "2d542a91b6b842abaa5fb7f4a3d05f7a",
       "version_major": 2,
       "version_minor": 0
      },
      "text/plain": [
       "Validation:   0%|          | 0/165 [00:00<?, ?it/s]"
      ]
     },
     "metadata": {},
     "output_type": "display_data"
    },
    {
     "name": "stdout",
     "output_type": "stream",
     "text": [
      "val_losses 0.46088703446316\n",
      "Validation loss decreased (0.462312 --> 0.460887).  Saving model ...\n"
     ]
    },
    {
     "data": {
      "application/vnd.jupyter.widget-view+json": {
       "model_id": "e93b8ce7fe1e4158915ff9797da03ba7",
       "version_major": 2,
       "version_minor": 0
      },
      "text/plain": [
       "Training:   0%|          | 0/330 [00:00<?, ?it/s]"
      ]
     },
     "metadata": {},
     "output_type": "display_data"
    },
    {
     "data": {
      "application/vnd.jupyter.widget-view+json": {
       "model_id": "134207b23e014014868e219d915e6343",
       "version_major": 2,
       "version_minor": 0
      },
      "text/plain": [
       "Validation:   0%|          | 0/165 [00:00<?, ?it/s]"
      ]
     },
     "metadata": {},
     "output_type": "display_data"
    },
    {
     "name": "stdout",
     "output_type": "stream",
     "text": [
      "val_losses 0.41962854239073666\n",
      "Validation loss decreased (0.460887 --> 0.419629).  Saving model ...\n"
     ]
    },
    {
     "data": {
      "application/vnd.jupyter.widget-view+json": {
       "model_id": "16282e812a5d49da81c64fbb236bd56d",
       "version_major": 2,
       "version_minor": 0
      },
      "text/plain": [
       "Training:   0%|          | 0/330 [00:00<?, ?it/s]"
      ]
     },
     "metadata": {},
     "output_type": "display_data"
    },
    {
     "data": {
      "application/vnd.jupyter.widget-view+json": {
       "model_id": "501e7371ac1940c68eaa7fd328ba5ef5",
       "version_major": 2,
       "version_minor": 0
      },
      "text/plain": [
       "Validation:   0%|          | 0/165 [00:00<?, ?it/s]"
      ]
     },
     "metadata": {},
     "output_type": "display_data"
    },
    {
     "name": "stdout",
     "output_type": "stream",
     "text": [
      "val_losses 0.41611489102695925\n",
      "Validation loss decreased (0.419629 --> 0.416115).  Saving model ...\n"
     ]
    },
    {
     "data": {
      "application/vnd.jupyter.widget-view+json": {
       "model_id": "ca90c40882bc4eae80094c432512353c",
       "version_major": 2,
       "version_minor": 0
      },
      "text/plain": [
       "Training:   0%|          | 0/330 [00:00<?, ?it/s]"
      ]
     },
     "metadata": {},
     "output_type": "display_data"
    },
    {
     "data": {
      "application/vnd.jupyter.widget-view+json": {
       "model_id": "d391179513884bb397f2eccbcefabdb0",
       "version_major": 2,
       "version_minor": 0
      },
      "text/plain": [
       "Validation:   0%|          | 0/165 [00:00<?, ?it/s]"
      ]
     },
     "metadata": {},
     "output_type": "display_data"
    },
    {
     "name": "stdout",
     "output_type": "stream",
     "text": [
      "val_losses 0.41546653003403633\n",
      "Validation loss decreased (0.416115 --> 0.415467).  Saving model ...\n"
     ]
    },
    {
     "data": {
      "application/vnd.jupyter.widget-view+json": {
       "model_id": "09178d6a8f3e402e806a78c204de4f81",
       "version_major": 2,
       "version_minor": 0
      },
      "text/plain": [
       "Training:   0%|          | 0/330 [00:00<?, ?it/s]"
      ]
     },
     "metadata": {},
     "output_type": "display_data"
    },
    {
     "data": {
      "application/vnd.jupyter.widget-view+json": {
       "model_id": "98068de912c447c0bfe909b65ce15b71",
       "version_major": 2,
       "version_minor": 0
      },
      "text/plain": [
       "Validation:   0%|          | 0/165 [00:00<?, ?it/s]"
      ]
     },
     "metadata": {},
     "output_type": "display_data"
    },
    {
     "name": "stdout",
     "output_type": "stream",
     "text": [
      "val_losses 0.4091000500050458\n",
      "Validation loss decreased (0.415467 --> 0.409100).  Saving model ...\n"
     ]
    },
    {
     "data": {
      "application/vnd.jupyter.widget-view+json": {
       "model_id": "7ae7332401ff4ebe926c90fe15dca180",
       "version_major": 2,
       "version_minor": 0
      },
      "text/plain": [
       "Training:   0%|          | 0/330 [00:00<?, ?it/s]"
      ]
     },
     "metadata": {},
     "output_type": "display_data"
    },
    {
     "data": {
      "application/vnd.jupyter.widget-view+json": {
       "model_id": "5913ce6fde424f90b4739d6ecf9464b0",
       "version_major": 2,
       "version_minor": 0
      },
      "text/plain": [
       "Validation:   0%|          | 0/165 [00:00<?, ?it/s]"
      ]
     },
     "metadata": {},
     "output_type": "display_data"
    },
    {
     "name": "stdout",
     "output_type": "stream",
     "text": [
      "val_losses 0.39833950833840803\n",
      "Validation loss decreased (0.409100 --> 0.398340).  Saving model ...\n"
     ]
    },
    {
     "data": {
      "application/vnd.jupyter.widget-view+json": {
       "model_id": "b3af7c46fb3c492c916155cbeafa8ddc",
       "version_major": 2,
       "version_minor": 0
      },
      "text/plain": [
       "Training:   0%|          | 0/330 [00:00<?, ?it/s]"
      ]
     },
     "metadata": {},
     "output_type": "display_data"
    },
    {
     "data": {
      "application/vnd.jupyter.widget-view+json": {
       "model_id": "03e1f947169e48d19e5ae60ee485c8c1",
       "version_major": 2,
       "version_minor": 0
      },
      "text/plain": [
       "Validation:   0%|          | 0/165 [00:00<?, ?it/s]"
      ]
     },
     "metadata": {},
     "output_type": "display_data"
    },
    {
     "name": "stdout",
     "output_type": "stream",
     "text": [
      "val_losses 0.4330390043330915\n",
      "EarlyStopping counter: 1 out of 50\n"
     ]
    },
    {
     "data": {
      "application/vnd.jupyter.widget-view+json": {
       "model_id": "dd1a528bf20b4092bb617d5102f99eb1",
       "version_major": 2,
       "version_minor": 0
      },
      "text/plain": [
       "Training:   0%|          | 0/330 [00:00<?, ?it/s]"
      ]
     },
     "metadata": {},
     "output_type": "display_data"
    },
    {
     "data": {
      "application/vnd.jupyter.widget-view+json": {
       "model_id": "fbb4a104b3e44c68b1ebb2a9a9c917f7",
       "version_major": 2,
       "version_minor": 0
      },
      "text/plain": [
       "Validation:   0%|          | 0/165 [00:00<?, ?it/s]"
      ]
     },
     "metadata": {},
     "output_type": "display_data"
    },
    {
     "name": "stdout",
     "output_type": "stream",
     "text": [
      "val_losses 0.44932332427212685\n",
      "EarlyStopping counter: 2 out of 50\n"
     ]
    },
    {
     "data": {
      "application/vnd.jupyter.widget-view+json": {
       "model_id": "c3455dac9681431d85a9c5cc2da3dd16",
       "version_major": 2,
       "version_minor": 0
      },
      "text/plain": [
       "Training:   0%|          | 0/330 [00:00<?, ?it/s]"
      ]
     },
     "metadata": {},
     "output_type": "display_data"
    },
    {
     "data": {
      "application/vnd.jupyter.widget-view+json": {
       "model_id": "53ef2e1d80f44f1f9fc548131e1ba0dc",
       "version_major": 2,
       "version_minor": 0
      },
      "text/plain": [
       "Validation:   0%|          | 0/165 [00:00<?, ?it/s]"
      ]
     },
     "metadata": {},
     "output_type": "display_data"
    },
    {
     "name": "stdout",
     "output_type": "stream",
     "text": [
      "val_losses 0.401025513085452\n",
      "EarlyStopping counter: 3 out of 50\n"
     ]
    },
    {
     "data": {
      "application/vnd.jupyter.widget-view+json": {
       "model_id": "4323d4911e994825bb04d60ef8bb639a",
       "version_major": 2,
       "version_minor": 0
      },
      "text/plain": [
       "Training:   0%|          | 0/330 [00:00<?, ?it/s]"
      ]
     },
     "metadata": {},
     "output_type": "display_data"
    },
    {
     "data": {
      "application/vnd.jupyter.widget-view+json": {
       "model_id": "31293a2e68b04827b083b0eacd4813e9",
       "version_major": 2,
       "version_minor": 0
      },
      "text/plain": [
       "Validation:   0%|          | 0/165 [00:00<?, ?it/s]"
      ]
     },
     "metadata": {},
     "output_type": "display_data"
    },
    {
     "name": "stdout",
     "output_type": "stream",
     "text": [
      "val_losses 0.452570016727303\n",
      "EarlyStopping counter: 4 out of 50\n"
     ]
    },
    {
     "data": {
      "application/vnd.jupyter.widget-view+json": {
       "model_id": "13ef03b7eac0454194e7e931d3761cda",
       "version_major": 2,
       "version_minor": 0
      },
      "text/plain": [
       "Training:   0%|          | 0/330 [00:00<?, ?it/s]"
      ]
     },
     "metadata": {},
     "output_type": "display_data"
    },
    {
     "data": {
      "application/vnd.jupyter.widget-view+json": {
       "model_id": "dfa404b6034b4d2ebf830c30bd182964",
       "version_major": 2,
       "version_minor": 0
      },
      "text/plain": [
       "Validation:   0%|          | 0/165 [00:00<?, ?it/s]"
      ]
     },
     "metadata": {},
     "output_type": "display_data"
    },
    {
     "name": "stdout",
     "output_type": "stream",
     "text": [
      "val_losses 0.4476551822640679\n",
      "EarlyStopping counter: 5 out of 50\n"
     ]
    },
    {
     "data": {
      "application/vnd.jupyter.widget-view+json": {
       "model_id": "1296d7e7ed304b4ead500704675f0319",
       "version_major": 2,
       "version_minor": 0
      },
      "text/plain": [
       "Training:   0%|          | 0/330 [00:00<?, ?it/s]"
      ]
     },
     "metadata": {},
     "output_type": "display_data"
    },
    {
     "data": {
      "application/vnd.jupyter.widget-view+json": {
       "model_id": "11f4a7d285c94753afdb19239a386dc2",
       "version_major": 2,
       "version_minor": 0
      },
      "text/plain": [
       "Validation:   0%|          | 0/165 [00:00<?, ?it/s]"
      ]
     },
     "metadata": {},
     "output_type": "display_data"
    },
    {
     "name": "stdout",
     "output_type": "stream",
     "text": [
      "val_losses 0.4256372590859731\n",
      "EarlyStopping counter: 6 out of 50\n"
     ]
    },
    {
     "data": {
      "application/vnd.jupyter.widget-view+json": {
       "model_id": "bd59d873db0a4f24a2271090d52277eb",
       "version_major": 2,
       "version_minor": 0
      },
      "text/plain": [
       "Training:   0%|          | 0/330 [00:00<?, ?it/s]"
      ]
     },
     "metadata": {},
     "output_type": "display_data"
    },
    {
     "data": {
      "application/vnd.jupyter.widget-view+json": {
       "model_id": "11dfb63dbf6f40d59f243612d8f8e242",
       "version_major": 2,
       "version_minor": 0
      },
      "text/plain": [
       "Validation:   0%|          | 0/165 [00:00<?, ?it/s]"
      ]
     },
     "metadata": {},
     "output_type": "display_data"
    },
    {
     "name": "stdout",
     "output_type": "stream",
     "text": [
      "val_losses 0.1980317181710041\n",
      "Validation loss decreased (0.398340 --> 0.198032).  Saving model ...\n"
     ]
    },
    {
     "data": {
      "application/vnd.jupyter.widget-view+json": {
       "model_id": "cdd2305b527e4a3d8dc8e4c2c9e892ef",
       "version_major": 2,
       "version_minor": 0
      },
      "text/plain": [
       "Training:   0%|          | 0/330 [00:00<?, ?it/s]"
      ]
     },
     "metadata": {},
     "output_type": "display_data"
    },
    {
     "data": {
      "application/vnd.jupyter.widget-view+json": {
       "model_id": "f8b2a39ced8744c6a4756d7886c55f9c",
       "version_major": 2,
       "version_minor": 0
      },
      "text/plain": [
       "Validation:   0%|          | 0/165 [00:00<?, ?it/s]"
      ]
     },
     "metadata": {},
     "output_type": "display_data"
    },
    {
     "name": "stdout",
     "output_type": "stream",
     "text": [
      "val_losses 0.28718031121022775\n",
      "EarlyStopping counter: 1 out of 50\n"
     ]
    },
    {
     "data": {
      "application/vnd.jupyter.widget-view+json": {
       "model_id": "43de1666344749d8bd70b58c99161a7e",
       "version_major": 2,
       "version_minor": 0
      },
      "text/plain": [
       "Training:   0%|          | 0/330 [00:00<?, ?it/s]"
      ]
     },
     "metadata": {},
     "output_type": "display_data"
    },
    {
     "data": {
      "application/vnd.jupyter.widget-view+json": {
       "model_id": "24bebc6bf24a4f04aa51eb6dd160e765",
       "version_major": 2,
       "version_minor": 0
      },
      "text/plain": [
       "Validation:   0%|          | 0/165 [00:00<?, ?it/s]"
      ]
     },
     "metadata": {},
     "output_type": "display_data"
    },
    {
     "name": "stdout",
     "output_type": "stream",
     "text": [
      "val_losses 0.3325351998661504\n",
      "EarlyStopping counter: 2 out of 50\n"
     ]
    },
    {
     "data": {
      "application/vnd.jupyter.widget-view+json": {
       "model_id": "c42d1d9d619f4fd98036cd62f1c2559b",
       "version_major": 2,
       "version_minor": 0
      },
      "text/plain": [
       "Training:   0%|          | 0/330 [00:00<?, ?it/s]"
      ]
     },
     "metadata": {},
     "output_type": "display_data"
    },
    {
     "data": {
      "application/vnd.jupyter.widget-view+json": {
       "model_id": "534c8b248590448f9ea76e2a6d7e36e0",
       "version_major": 2,
       "version_minor": 0
      },
      "text/plain": [
       "Validation:   0%|          | 0/165 [00:00<?, ?it/s]"
      ]
     },
     "metadata": {},
     "output_type": "display_data"
    },
    {
     "name": "stdout",
     "output_type": "stream",
     "text": [
      "val_losses 0.34931588195490115\n",
      "EarlyStopping counter: 3 out of 50\n"
     ]
    },
    {
     "data": {
      "application/vnd.jupyter.widget-view+json": {
       "model_id": "6b115eed50e046eebb0ea1132f53b6a0",
       "version_major": 2,
       "version_minor": 0
      },
      "text/plain": [
       "Training:   0%|          | 0/330 [00:00<?, ?it/s]"
      ]
     },
     "metadata": {},
     "output_type": "display_data"
    },
    {
     "data": {
      "application/vnd.jupyter.widget-view+json": {
       "model_id": "ea6e48237fc14e7496a68f99670552a6",
       "version_major": 2,
       "version_minor": 0
      },
      "text/plain": [
       "Validation:   0%|          | 0/165 [00:00<?, ?it/s]"
      ]
     },
     "metadata": {},
     "output_type": "display_data"
    },
    {
     "name": "stdout",
     "output_type": "stream",
     "text": [
      "val_losses 0.3843195983406269\n",
      "EarlyStopping counter: 4 out of 50\n"
     ]
    },
    {
     "data": {
      "application/vnd.jupyter.widget-view+json": {
       "model_id": "731a4bf8459d43cbb25f72a98a8521ac",
       "version_major": 2,
       "version_minor": 0
      },
      "text/plain": [
       "Training:   0%|          | 0/330 [00:00<?, ?it/s]"
      ]
     },
     "metadata": {},
     "output_type": "display_data"
    },
    {
     "data": {
      "application/vnd.jupyter.widget-view+json": {
       "model_id": "c337cf7b486243e59f38dcb349b367df",
       "version_major": 2,
       "version_minor": 0
      },
      "text/plain": [
       "Validation:   0%|          | 0/165 [00:00<?, ?it/s]"
      ]
     },
     "metadata": {},
     "output_type": "display_data"
    },
    {
     "name": "stdout",
     "output_type": "stream",
     "text": [
      "val_losses 0.3664370179627881\n",
      "EarlyStopping counter: 5 out of 50\n"
     ]
    },
    {
     "data": {
      "application/vnd.jupyter.widget-view+json": {
       "model_id": "09fa80dbcbf3445fb2892ac3bc3abf42",
       "version_major": 2,
       "version_minor": 0
      },
      "text/plain": [
       "Training:   0%|          | 0/330 [00:00<?, ?it/s]"
      ]
     },
     "metadata": {},
     "output_type": "display_data"
    },
    {
     "data": {
      "application/vnd.jupyter.widget-view+json": {
       "model_id": "1edc422abeb8446bbc359a5a332a6b90",
       "version_major": 2,
       "version_minor": 0
      },
      "text/plain": [
       "Validation:   0%|          | 0/165 [00:00<?, ?it/s]"
      ]
     },
     "metadata": {},
     "output_type": "display_data"
    },
    {
     "name": "stdout",
     "output_type": "stream",
     "text": [
      "val_losses 0.3884051934336171\n",
      "EarlyStopping counter: 6 out of 50\n"
     ]
    },
    {
     "data": {
      "application/vnd.jupyter.widget-view+json": {
       "model_id": "3e28c567593f4f85af6850c93d8e72d5",
       "version_major": 2,
       "version_minor": 0
      },
      "text/plain": [
       "Training:   0%|          | 0/330 [00:00<?, ?it/s]"
      ]
     },
     "metadata": {},
     "output_type": "display_data"
    },
    {
     "data": {
      "application/vnd.jupyter.widget-view+json": {
       "model_id": "4d942eede21a456fa84905995f32fa2b",
       "version_major": 2,
       "version_minor": 0
      },
      "text/plain": [
       "Validation:   0%|          | 0/165 [00:00<?, ?it/s]"
      ]
     },
     "metadata": {},
     "output_type": "display_data"
    },
    {
     "name": "stdout",
     "output_type": "stream",
     "text": [
      "val_losses 0.40919932650797297\n",
      "EarlyStopping counter: 7 out of 50\n"
     ]
    },
    {
     "data": {
      "application/vnd.jupyter.widget-view+json": {
       "model_id": "0ba7b02e8b9b4af8a60527592935feea",
       "version_major": 2,
       "version_minor": 0
      },
      "text/plain": [
       "Training:   0%|          | 0/330 [00:00<?, ?it/s]"
      ]
     },
     "metadata": {},
     "output_type": "display_data"
    },
    {
     "data": {
      "application/vnd.jupyter.widget-view+json": {
       "model_id": "71114430b1ba469891b5025f0b888251",
       "version_major": 2,
       "version_minor": 0
      },
      "text/plain": [
       "Validation:   0%|          | 0/165 [00:00<?, ?it/s]"
      ]
     },
     "metadata": {},
     "output_type": "display_data"
    },
    {
     "name": "stdout",
     "output_type": "stream",
     "text": [
      "val_losses 0.40925433924703886\n",
      "EarlyStopping counter: 8 out of 50\n"
     ]
    },
    {
     "data": {
      "application/vnd.jupyter.widget-view+json": {
       "model_id": "6a942e45af244d5b917bdb356eaa35af",
       "version_major": 2,
       "version_minor": 0
      },
      "text/plain": [
       "Training:   0%|          | 0/330 [00:00<?, ?it/s]"
      ]
     },
     "metadata": {},
     "output_type": "display_data"
    },
    {
     "data": {
      "application/vnd.jupyter.widget-view+json": {
       "model_id": "24763bbba8964a08b8a4f81947fe44e1",
       "version_major": 2,
       "version_minor": 0
      },
      "text/plain": [
       "Validation:   0%|          | 0/165 [00:00<?, ?it/s]"
      ]
     },
     "metadata": {},
     "output_type": "display_data"
    },
    {
     "name": "stdout",
     "output_type": "stream",
     "text": [
      "val_losses 0.3918603273052158\n",
      "EarlyStopping counter: 9 out of 50\n"
     ]
    },
    {
     "data": {
      "application/vnd.jupyter.widget-view+json": {
       "model_id": "dbc0c51d4f57420ca7923e15b0668d79",
       "version_major": 2,
       "version_minor": 0
      },
      "text/plain": [
       "Training:   0%|          | 0/330 [00:00<?, ?it/s]"
      ]
     },
     "metadata": {},
     "output_type": "display_data"
    },
    {
     "data": {
      "application/vnd.jupyter.widget-view+json": {
       "model_id": "e4e9fbe4607c44f59b92478597421614",
       "version_major": 2,
       "version_minor": 0
      },
      "text/plain": [
       "Validation:   0%|          | 0/165 [00:00<?, ?it/s]"
      ]
     },
     "metadata": {},
     "output_type": "display_data"
    },
    {
     "name": "stdout",
     "output_type": "stream",
     "text": [
      "val_losses 0.3925605037447178\n",
      "EarlyStopping counter: 10 out of 50\n"
     ]
    },
    {
     "data": {
      "application/vnd.jupyter.widget-view+json": {
       "model_id": "0325c490895b416aaa3be972a57119a6",
       "version_major": 2,
       "version_minor": 0
      },
      "text/plain": [
       "Training:   0%|          | 0/330 [00:00<?, ?it/s]"
      ]
     },
     "metadata": {},
     "output_type": "display_data"
    },
    {
     "data": {
      "application/vnd.jupyter.widget-view+json": {
       "model_id": "11f5686b142c4e43ae9b0a0a9e7d0586",
       "version_major": 2,
       "version_minor": 0
      },
      "text/plain": [
       "Validation:   0%|          | 0/165 [00:00<?, ?it/s]"
      ]
     },
     "metadata": {},
     "output_type": "display_data"
    },
    {
     "name": "stdout",
     "output_type": "stream",
     "text": [
      "val_losses 0.38781241873900096\n",
      "EarlyStopping counter: 11 out of 50\n"
     ]
    },
    {
     "data": {
      "application/vnd.jupyter.widget-view+json": {
       "model_id": "3fc5445e3c7043f1a0e849787eb0d279",
       "version_major": 2,
       "version_minor": 0
      },
      "text/plain": [
       "Training:   0%|          | 0/330 [00:00<?, ?it/s]"
      ]
     },
     "metadata": {},
     "output_type": "display_data"
    },
    {
     "data": {
      "application/vnd.jupyter.widget-view+json": {
       "model_id": "b09e9c3eef77471e9a269cb4d2e7073e",
       "version_major": 2,
       "version_minor": 0
      },
      "text/plain": [
       "Validation:   0%|          | 0/165 [00:00<?, ?it/s]"
      ]
     },
     "metadata": {},
     "output_type": "display_data"
    },
    {
     "name": "stdout",
     "output_type": "stream",
     "text": [
      "val_losses 0.3824528778141195\n",
      "EarlyStopping counter: 12 out of 50\n"
     ]
    },
    {
     "data": {
      "application/vnd.jupyter.widget-view+json": {
       "model_id": "a1e12fb3eabe4ba78919a51f40359418",
       "version_major": 2,
       "version_minor": 0
      },
      "text/plain": [
       "Training:   0%|          | 0/330 [00:00<?, ?it/s]"
      ]
     },
     "metadata": {},
     "output_type": "display_data"
    },
    {
     "data": {
      "application/vnd.jupyter.widget-view+json": {
       "model_id": "f94ff75d0e9e403c88acc9b777b570a2",
       "version_major": 2,
       "version_minor": 0
      },
      "text/plain": [
       "Validation:   0%|          | 0/165 [00:00<?, ?it/s]"
      ]
     },
     "metadata": {},
     "output_type": "display_data"
    },
    {
     "name": "stdout",
     "output_type": "stream",
     "text": [
      "val_losses 0.35620307339863344\n",
      "EarlyStopping counter: 13 out of 50\n"
     ]
    },
    {
     "data": {
      "application/vnd.jupyter.widget-view+json": {
       "model_id": "192c71743a434a97b461eeec17b663a9",
       "version_major": 2,
       "version_minor": 0
      },
      "text/plain": [
       "Training:   0%|          | 0/330 [00:00<?, ?it/s]"
      ]
     },
     "metadata": {},
     "output_type": "display_data"
    },
    {
     "data": {
      "application/vnd.jupyter.widget-view+json": {
       "model_id": "6fcbefb176954dada730fde14ac2aa72",
       "version_major": 2,
       "version_minor": 0
      },
      "text/plain": [
       "Validation:   0%|          | 0/165 [00:00<?, ?it/s]"
      ]
     },
     "metadata": {},
     "output_type": "display_data"
    },
    {
     "name": "stdout",
     "output_type": "stream",
     "text": [
      "val_losses 0.34707036754398635\n",
      "EarlyStopping counter: 14 out of 50\n"
     ]
    },
    {
     "data": {
      "application/vnd.jupyter.widget-view+json": {
       "model_id": "76247b7ae7fd4dca8dd326b9285ad88d",
       "version_major": 2,
       "version_minor": 0
      },
      "text/plain": [
       "Training:   0%|          | 0/330 [00:00<?, ?it/s]"
      ]
     },
     "metadata": {},
     "output_type": "display_data"
    },
    {
     "data": {
      "application/vnd.jupyter.widget-view+json": {
       "model_id": "471630819afa40bdbc681fd1e632bf1f",
       "version_major": 2,
       "version_minor": 0
      },
      "text/plain": [
       "Validation:   0%|          | 0/165 [00:00<?, ?it/s]"
      ]
     },
     "metadata": {},
     "output_type": "display_data"
    },
    {
     "name": "stdout",
     "output_type": "stream",
     "text": [
      "val_losses 0.3647525078419483\n",
      "EarlyStopping counter: 15 out of 50\n"
     ]
    },
    {
     "data": {
      "application/vnd.jupyter.widget-view+json": {
       "model_id": "b07b378bcdfb48409d5205165332f972",
       "version_major": 2,
       "version_minor": 0
      },
      "text/plain": [
       "Training:   0%|          | 0/330 [00:00<?, ?it/s]"
      ]
     },
     "metadata": {},
     "output_type": "display_data"
    },
    {
     "data": {
      "application/vnd.jupyter.widget-view+json": {
       "model_id": "e48641a7846f4b889f571aae913e2fa2",
       "version_major": 2,
       "version_minor": 0
      },
      "text/plain": [
       "Validation:   0%|          | 0/165 [00:00<?, ?it/s]"
      ]
     },
     "metadata": {},
     "output_type": "display_data"
    },
    {
     "name": "stdout",
     "output_type": "stream",
     "text": [
      "val_losses 0.3773562479199785\n",
      "EarlyStopping counter: 16 out of 50\n"
     ]
    },
    {
     "data": {
      "application/vnd.jupyter.widget-view+json": {
       "model_id": "11ae7f0464bd4abda3530ffa235ffbbd",
       "version_major": 2,
       "version_minor": 0
      },
      "text/plain": [
       "Training:   0%|          | 0/330 [00:00<?, ?it/s]"
      ]
     },
     "metadata": {},
     "output_type": "display_data"
    },
    {
     "data": {
      "application/vnd.jupyter.widget-view+json": {
       "model_id": "44dfeb4b91e242f1a07996cd018c8c51",
       "version_major": 2,
       "version_minor": 0
      },
      "text/plain": [
       "Validation:   0%|          | 0/165 [00:00<?, ?it/s]"
      ]
     },
     "metadata": {},
     "output_type": "display_data"
    },
    {
     "name": "stdout",
     "output_type": "stream",
     "text": [
      "val_losses 0.35215345526283437\n",
      "EarlyStopping counter: 17 out of 50\n"
     ]
    },
    {
     "data": {
      "application/vnd.jupyter.widget-view+json": {
       "model_id": "e093524a77014a6e95008fdcf094f2c5",
       "version_major": 2,
       "version_minor": 0
      },
      "text/plain": [
       "Training:   0%|          | 0/330 [00:00<?, ?it/s]"
      ]
     },
     "metadata": {},
     "output_type": "display_data"
    },
    {
     "data": {
      "application/vnd.jupyter.widget-view+json": {
       "model_id": "19d0cfd71afb417f9ccc2aa241e1d473",
       "version_major": 2,
       "version_minor": 0
      },
      "text/plain": [
       "Validation:   0%|          | 0/165 [00:00<?, ?it/s]"
      ]
     },
     "metadata": {},
     "output_type": "display_data"
    },
    {
     "name": "stdout",
     "output_type": "stream",
     "text": [
      "val_losses 0.3839846954201207\n",
      "EarlyStopping counter: 18 out of 50\n"
     ]
    },
    {
     "data": {
      "application/vnd.jupyter.widget-view+json": {
       "model_id": "0e6b03c1282e499699c3b130d41de6d5",
       "version_major": 2,
       "version_minor": 0
      },
      "text/plain": [
       "Training:   0%|          | 0/330 [00:00<?, ?it/s]"
      ]
     },
     "metadata": {},
     "output_type": "display_data"
    },
    {
     "data": {
      "application/vnd.jupyter.widget-view+json": {
       "model_id": "aa069da3ff874d5599413b91d9eea491",
       "version_major": 2,
       "version_minor": 0
      },
      "text/plain": [
       "Validation:   0%|          | 0/165 [00:00<?, ?it/s]"
      ]
     },
     "metadata": {},
     "output_type": "display_data"
    },
    {
     "name": "stdout",
     "output_type": "stream",
     "text": [
      "val_losses 0.37079230704993915\n",
      "EarlyStopping counter: 19 out of 50\n"
     ]
    },
    {
     "data": {
      "application/vnd.jupyter.widget-view+json": {
       "model_id": "7a499d0ff96e478c993c7d779cc6c475",
       "version_major": 2,
       "version_minor": 0
      },
      "text/plain": [
       "Training:   0%|          | 0/330 [00:00<?, ?it/s]"
      ]
     },
     "metadata": {},
     "output_type": "display_data"
    },
    {
     "data": {
      "application/vnd.jupyter.widget-view+json": {
       "model_id": "d4878ef5444e4a659afbe4c6d3103769",
       "version_major": 2,
       "version_minor": 0
      },
      "text/plain": [
       "Validation:   0%|          | 0/165 [00:00<?, ?it/s]"
      ]
     },
     "metadata": {},
     "output_type": "display_data"
    },
    {
     "name": "stdout",
     "output_type": "stream",
     "text": [
      "val_losses 0.3692076631567695\n",
      "EarlyStopping counter: 20 out of 50\n"
     ]
    },
    {
     "data": {
      "application/vnd.jupyter.widget-view+json": {
       "model_id": "0205c0c831454e9aa0367723f30d2e0c",
       "version_major": 2,
       "version_minor": 0
      },
      "text/plain": [
       "Training:   0%|          | 0/330 [00:00<?, ?it/s]"
      ]
     },
     "metadata": {},
     "output_type": "display_data"
    },
    {
     "data": {
      "application/vnd.jupyter.widget-view+json": {
       "model_id": "4db0746aba6f4d85b9a958b478fe9eca",
       "version_major": 2,
       "version_minor": 0
      },
      "text/plain": [
       "Validation:   0%|          | 0/165 [00:00<?, ?it/s]"
      ]
     },
     "metadata": {},
     "output_type": "display_data"
    },
    {
     "name": "stdout",
     "output_type": "stream",
     "text": [
      "val_losses 0.16979896742286105\n",
      "Validation loss decreased (0.198032 --> 0.169799).  Saving model ...\n"
     ]
    },
    {
     "data": {
      "application/vnd.jupyter.widget-view+json": {
       "model_id": "b09b34be9e57489b807770e8714b3d9e",
       "version_major": 2,
       "version_minor": 0
      },
      "text/plain": [
       "Training:   0%|          | 0/330 [00:00<?, ?it/s]"
      ]
     },
     "metadata": {},
     "output_type": "display_data"
    },
    {
     "data": {
      "application/vnd.jupyter.widget-view+json": {
       "model_id": "cc11ec87ec19407f9e18805dc003b2d3",
       "version_major": 2,
       "version_minor": 0
      },
      "text/plain": [
       "Validation:   0%|          | 0/165 [00:00<?, ?it/s]"
      ]
     },
     "metadata": {},
     "output_type": "display_data"
    },
    {
     "name": "stdout",
     "output_type": "stream",
     "text": [
      "val_losses 0.18151135568817456\n",
      "EarlyStopping counter: 1 out of 50\n"
     ]
    },
    {
     "data": {
      "application/vnd.jupyter.widget-view+json": {
       "model_id": "d1cb953df88f4586b7b2cb974f25784f",
       "version_major": 2,
       "version_minor": 0
      },
      "text/plain": [
       "Training:   0%|          | 0/330 [00:00<?, ?it/s]"
      ]
     },
     "metadata": {},
     "output_type": "display_data"
    },
    {
     "data": {
      "application/vnd.jupyter.widget-view+json": {
       "model_id": "3ef26059a1d146f2bb42b82b52b0015f",
       "version_major": 2,
       "version_minor": 0
      },
      "text/plain": [
       "Validation:   0%|          | 0/165 [00:00<?, ?it/s]"
      ]
     },
     "metadata": {},
     "output_type": "display_data"
    },
    {
     "name": "stdout",
     "output_type": "stream",
     "text": [
      "val_losses 0.22251112002766493\n",
      "EarlyStopping counter: 2 out of 50\n"
     ]
    },
    {
     "data": {
      "application/vnd.jupyter.widget-view+json": {
       "model_id": "e96028f4f8bf463f82cfbe53eda4f1a8",
       "version_major": 2,
       "version_minor": 0
      },
      "text/plain": [
       "Training:   0%|          | 0/330 [00:00<?, ?it/s]"
      ]
     },
     "metadata": {},
     "output_type": "display_data"
    },
    {
     "data": {
      "application/vnd.jupyter.widget-view+json": {
       "model_id": "2bb5e96a62d34a079c8521db063b976a",
       "version_major": 2,
       "version_minor": 0
      },
      "text/plain": [
       "Validation:   0%|          | 0/165 [00:00<?, ?it/s]"
      ]
     },
     "metadata": {},
     "output_type": "display_data"
    },
    {
     "name": "stdout",
     "output_type": "stream",
     "text": [
      "val_losses 0.2654728961713386\n",
      "EarlyStopping counter: 3 out of 50\n"
     ]
    },
    {
     "data": {
      "application/vnd.jupyter.widget-view+json": {
       "model_id": "6932b9119ac34120b7beeb54fc9235a8",
       "version_major": 2,
       "version_minor": 0
      },
      "text/plain": [
       "Training:   0%|          | 0/330 [00:00<?, ?it/s]"
      ]
     },
     "metadata": {},
     "output_type": "display_data"
    },
    {
     "data": {
      "application/vnd.jupyter.widget-view+json": {
       "model_id": "266b2bb50ae846b8b986ef13fe568efb",
       "version_major": 2,
       "version_minor": 0
      },
      "text/plain": [
       "Validation:   0%|          | 0/165 [00:00<?, ?it/s]"
      ]
     },
     "metadata": {},
     "output_type": "display_data"
    },
    {
     "name": "stdout",
     "output_type": "stream",
     "text": [
      "val_losses 0.28753297437321057\n",
      "EarlyStopping counter: 4 out of 50\n"
     ]
    },
    {
     "data": {
      "application/vnd.jupyter.widget-view+json": {
       "model_id": "4ad2e187c0b14439a323eccf24e68a6e",
       "version_major": 2,
       "version_minor": 0
      },
      "text/plain": [
       "Training:   0%|          | 0/330 [00:00<?, ?it/s]"
      ]
     },
     "metadata": {},
     "output_type": "display_data"
    },
    {
     "data": {
      "application/vnd.jupyter.widget-view+json": {
       "model_id": "e7ff7c3865f34033bdcc15687759e89f",
       "version_major": 2,
       "version_minor": 0
      },
      "text/plain": [
       "Validation:   0%|          | 0/165 [00:00<?, ?it/s]"
      ]
     },
     "metadata": {},
     "output_type": "display_data"
    },
    {
     "name": "stdout",
     "output_type": "stream",
     "text": [
      "val_losses 0.2964415077910279\n",
      "EarlyStopping counter: 5 out of 50\n"
     ]
    },
    {
     "data": {
      "application/vnd.jupyter.widget-view+json": {
       "model_id": "ee183fba4e6749a790d8a30d0804e40a",
       "version_major": 2,
       "version_minor": 0
      },
      "text/plain": [
       "Training:   0%|          | 0/330 [00:00<?, ?it/s]"
      ]
     },
     "metadata": {},
     "output_type": "display_data"
    },
    {
     "data": {
      "application/vnd.jupyter.widget-view+json": {
       "model_id": "2dbc969846754f19959c6b6c75ec3ac2",
       "version_major": 2,
       "version_minor": 0
      },
      "text/plain": [
       "Validation:   0%|          | 0/165 [00:00<?, ?it/s]"
      ]
     },
     "metadata": {},
     "output_type": "display_data"
    },
    {
     "name": "stdout",
     "output_type": "stream",
     "text": [
      "val_losses 0.3184382850473577\n",
      "EarlyStopping counter: 6 out of 50\n"
     ]
    },
    {
     "data": {
      "application/vnd.jupyter.widget-view+json": {
       "model_id": "3fb032db726c40c3a6be41bbd5eccbe8",
       "version_major": 2,
       "version_minor": 0
      },
      "text/plain": [
       "Training:   0%|          | 0/330 [00:00<?, ?it/s]"
      ]
     },
     "metadata": {},
     "output_type": "display_data"
    },
    {
     "data": {
      "application/vnd.jupyter.widget-view+json": {
       "model_id": "bfcd129874fc4bfc8d092f5e98b6934d",
       "version_major": 2,
       "version_minor": 0
      },
      "text/plain": [
       "Validation:   0%|          | 0/165 [00:00<?, ?it/s]"
      ]
     },
     "metadata": {},
     "output_type": "display_data"
    },
    {
     "name": "stdout",
     "output_type": "stream",
     "text": [
      "val_losses 0.3171414634946621\n",
      "EarlyStopping counter: 7 out of 50\n"
     ]
    },
    {
     "data": {
      "application/vnd.jupyter.widget-view+json": {
       "model_id": "30e2a3c4958f41f9a79999c811a6b732",
       "version_major": 2,
       "version_minor": 0
      },
      "text/plain": [
       "Training:   0%|          | 0/330 [00:00<?, ?it/s]"
      ]
     },
     "metadata": {},
     "output_type": "display_data"
    },
    {
     "data": {
      "application/vnd.jupyter.widget-view+json": {
       "model_id": "15067b5b246248288d923fd4ec5533e3",
       "version_major": 2,
       "version_minor": 0
      },
      "text/plain": [
       "Validation:   0%|          | 0/165 [00:00<?, ?it/s]"
      ]
     },
     "metadata": {},
     "output_type": "display_data"
    },
    {
     "name": "stdout",
     "output_type": "stream",
     "text": [
      "val_losses 0.33624433504812645\n",
      "EarlyStopping counter: 8 out of 50\n"
     ]
    },
    {
     "data": {
      "application/vnd.jupyter.widget-view+json": {
       "model_id": "3224e1dc4a8547d696ae0f2c711870c1",
       "version_major": 2,
       "version_minor": 0
      },
      "text/plain": [
       "Training:   0%|          | 0/330 [00:00<?, ?it/s]"
      ]
     },
     "metadata": {},
     "output_type": "display_data"
    },
    {
     "data": {
      "application/vnd.jupyter.widget-view+json": {
       "model_id": "e2d5fa35bafd46e8be66fcb16ad47cf5",
       "version_major": 2,
       "version_minor": 0
      },
      "text/plain": [
       "Validation:   0%|          | 0/165 [00:00<?, ?it/s]"
      ]
     },
     "metadata": {},
     "output_type": "display_data"
    },
    {
     "name": "stdout",
     "output_type": "stream",
     "text": [
      "val_losses 0.34541627471194125\n",
      "EarlyStopping counter: 9 out of 50\n"
     ]
    },
    {
     "data": {
      "application/vnd.jupyter.widget-view+json": {
       "model_id": "25120bb3c6fc4b80854e6f438c748a0c",
       "version_major": 2,
       "version_minor": 0
      },
      "text/plain": [
       "Training:   0%|          | 0/330 [00:00<?, ?it/s]"
      ]
     },
     "metadata": {},
     "output_type": "display_data"
    },
    {
     "data": {
      "application/vnd.jupyter.widget-view+json": {
       "model_id": "42bcffa2cacd4c179995d51f3c5c1103",
       "version_major": 2,
       "version_minor": 0
      },
      "text/plain": [
       "Validation:   0%|          | 0/165 [00:00<?, ?it/s]"
      ]
     },
     "metadata": {},
     "output_type": "display_data"
    },
    {
     "name": "stdout",
     "output_type": "stream",
     "text": [
      "val_losses 0.3297750513210441\n",
      "EarlyStopping counter: 10 out of 50\n"
     ]
    },
    {
     "data": {
      "application/vnd.jupyter.widget-view+json": {
       "model_id": "6352aed452a94dc39345c21dfd1f4ba5",
       "version_major": 2,
       "version_minor": 0
      },
      "text/plain": [
       "Training:   0%|          | 0/330 [00:00<?, ?it/s]"
      ]
     },
     "metadata": {},
     "output_type": "display_data"
    },
    {
     "data": {
      "application/vnd.jupyter.widget-view+json": {
       "model_id": "d1a2d10750d44a509913686c53f0f524",
       "version_major": 2,
       "version_minor": 0
      },
      "text/plain": [
       "Validation:   0%|          | 0/165 [00:00<?, ?it/s]"
      ]
     },
     "metadata": {},
     "output_type": "display_data"
    },
    {
     "name": "stdout",
     "output_type": "stream",
     "text": [
      "val_losses 0.3292549267862782\n",
      "EarlyStopping counter: 11 out of 50\n"
     ]
    },
    {
     "data": {
      "application/vnd.jupyter.widget-view+json": {
       "model_id": "f793e59e87e8425091376c1d220a521c",
       "version_major": 2,
       "version_minor": 0
      },
      "text/plain": [
       "Training:   0%|          | 0/330 [00:00<?, ?it/s]"
      ]
     },
     "metadata": {},
     "output_type": "display_data"
    },
    {
     "data": {
      "application/vnd.jupyter.widget-view+json": {
       "model_id": "f4ad34cc8aa64eb28b747d3592f17e23",
       "version_major": 2,
       "version_minor": 0
      },
      "text/plain": [
       "Validation:   0%|          | 0/165 [00:00<?, ?it/s]"
      ]
     },
     "metadata": {},
     "output_type": "display_data"
    },
    {
     "name": "stdout",
     "output_type": "stream",
     "text": [
      "val_losses 0.349269140940724\n",
      "EarlyStopping counter: 12 out of 50\n"
     ]
    },
    {
     "data": {
      "application/vnd.jupyter.widget-view+json": {
       "model_id": "a575064d87d44f1dbdb5d376e966eef6",
       "version_major": 2,
       "version_minor": 0
      },
      "text/plain": [
       "Training:   0%|          | 0/330 [00:00<?, ?it/s]"
      ]
     },
     "metadata": {},
     "output_type": "display_data"
    },
    {
     "data": {
      "application/vnd.jupyter.widget-view+json": {
       "model_id": "4f4b167d5f744737af92e5e3b00858ff",
       "version_major": 2,
       "version_minor": 0
      },
      "text/plain": [
       "Validation:   0%|          | 0/165 [00:00<?, ?it/s]"
      ]
     },
     "metadata": {},
     "output_type": "display_data"
    },
    {
     "name": "stdout",
     "output_type": "stream",
     "text": [
      "val_losses 0.37602556374940005\n",
      "EarlyStopping counter: 13 out of 50\n"
     ]
    },
    {
     "data": {
      "application/vnd.jupyter.widget-view+json": {
       "model_id": "7a55e4ba84724918b499fda6dca1e9aa",
       "version_major": 2,
       "version_minor": 0
      },
      "text/plain": [
       "Training:   0%|          | 0/330 [00:00<?, ?it/s]"
      ]
     },
     "metadata": {},
     "output_type": "display_data"
    },
    {
     "data": {
      "application/vnd.jupyter.widget-view+json": {
       "model_id": "a675dc6a662c4ce1a0f874b6aa5ecdf5",
       "version_major": 2,
       "version_minor": 0
      },
      "text/plain": [
       "Validation:   0%|          | 0/165 [00:00<?, ?it/s]"
      ]
     },
     "metadata": {},
     "output_type": "display_data"
    },
    {
     "name": "stdout",
     "output_type": "stream",
     "text": [
      "val_losses 0.33979797692913\n",
      "EarlyStopping counter: 14 out of 50\n"
     ]
    },
    {
     "data": {
      "application/vnd.jupyter.widget-view+json": {
       "model_id": "9296dd3f32314233919e3b66e2b0a8e0",
       "version_major": 2,
       "version_minor": 0
      },
      "text/plain": [
       "Training:   0%|          | 0/330 [00:00<?, ?it/s]"
      ]
     },
     "metadata": {},
     "output_type": "display_data"
    },
    {
     "data": {
      "application/vnd.jupyter.widget-view+json": {
       "model_id": "d17741d4e6094274b0db7f0e6fa7ee99",
       "version_major": 2,
       "version_minor": 0
      },
      "text/plain": [
       "Validation:   0%|          | 0/165 [00:00<?, ?it/s]"
      ]
     },
     "metadata": {},
     "output_type": "display_data"
    },
    {
     "name": "stdout",
     "output_type": "stream",
     "text": [
      "val_losses 0.3396482341668823\n",
      "EarlyStopping counter: 15 out of 50\n"
     ]
    },
    {
     "data": {
      "application/vnd.jupyter.widget-view+json": {
       "model_id": "e7715e744c074d0faa77018c4f91a96f",
       "version_major": 2,
       "version_minor": 0
      },
      "text/plain": [
       "Training:   0%|          | 0/330 [00:00<?, ?it/s]"
      ]
     },
     "metadata": {},
     "output_type": "display_data"
    },
    {
     "data": {
      "application/vnd.jupyter.widget-view+json": {
       "model_id": "202df5813bce4d299b46aa95cfb49be7",
       "version_major": 2,
       "version_minor": 0
      },
      "text/plain": [
       "Validation:   0%|          | 0/165 [00:00<?, ?it/s]"
      ]
     },
     "metadata": {},
     "output_type": "display_data"
    },
    {
     "name": "stdout",
     "output_type": "stream",
     "text": [
      "val_losses 0.2750344848994053\n",
      "EarlyStopping counter: 16 out of 50\n"
     ]
    },
    {
     "data": {
      "application/vnd.jupyter.widget-view+json": {
       "model_id": "a2fc07a53e8a42498d84ce0c7b6ae40d",
       "version_major": 2,
       "version_minor": 0
      },
      "text/plain": [
       "Training:   0%|          | 0/330 [00:00<?, ?it/s]"
      ]
     },
     "metadata": {},
     "output_type": "display_data"
    },
    {
     "data": {
      "application/vnd.jupyter.widget-view+json": {
       "model_id": "e6177c60ab28488a9ec1e6c12c7a2601",
       "version_major": 2,
       "version_minor": 0
      },
      "text/plain": [
       "Validation:   0%|          | 0/165 [00:00<?, ?it/s]"
      ]
     },
     "metadata": {},
     "output_type": "display_data"
    },
    {
     "name": "stdout",
     "output_type": "stream",
     "text": [
      "val_losses 0.12017130332462715\n",
      "Validation loss decreased (0.169799 --> 0.120171).  Saving model ...\n"
     ]
    },
    {
     "data": {
      "application/vnd.jupyter.widget-view+json": {
       "model_id": "c98966ee190a4c79a60ff3ccf8fa3763",
       "version_major": 2,
       "version_minor": 0
      },
      "text/plain": [
       "Training:   0%|          | 0/330 [00:00<?, ?it/s]"
      ]
     },
     "metadata": {},
     "output_type": "display_data"
    },
    {
     "data": {
      "application/vnd.jupyter.widget-view+json": {
       "model_id": "7c0a2a7f0bb84a0ea51901361c2f6734",
       "version_major": 2,
       "version_minor": 0
      },
      "text/plain": [
       "Validation:   0%|          | 0/165 [00:00<?, ?it/s]"
      ]
     },
     "metadata": {},
     "output_type": "display_data"
    },
    {
     "name": "stdout",
     "output_type": "stream",
     "text": [
      "val_losses 0.15938005232901284\n",
      "EarlyStopping counter: 1 out of 50\n"
     ]
    },
    {
     "data": {
      "application/vnd.jupyter.widget-view+json": {
       "model_id": "a70597827a7f4d70b7827c2fdf38f72d",
       "version_major": 2,
       "version_minor": 0
      },
      "text/plain": [
       "Training:   0%|          | 0/330 [00:00<?, ?it/s]"
      ]
     },
     "metadata": {},
     "output_type": "display_data"
    },
    {
     "data": {
      "application/vnd.jupyter.widget-view+json": {
       "model_id": "4364acaedf83412ab95140e015075f55",
       "version_major": 2,
       "version_minor": 0
      },
      "text/plain": [
       "Validation:   0%|          | 0/165 [00:00<?, ?it/s]"
      ]
     },
     "metadata": {},
     "output_type": "display_data"
    },
    {
     "name": "stdout",
     "output_type": "stream",
     "text": [
      "val_losses 0.18891287405382504\n",
      "EarlyStopping counter: 2 out of 50\n"
     ]
    },
    {
     "data": {
      "application/vnd.jupyter.widget-view+json": {
       "model_id": "156ed9c043a24555afece02b7a2995ec",
       "version_major": 2,
       "version_minor": 0
      },
      "text/plain": [
       "Training:   0%|          | 0/330 [00:00<?, ?it/s]"
      ]
     },
     "metadata": {},
     "output_type": "display_data"
    },
    {
     "data": {
      "application/vnd.jupyter.widget-view+json": {
       "model_id": "970114c2e67e42b7bc13ca41c06a32c5",
       "version_major": 2,
       "version_minor": 0
      },
      "text/plain": [
       "Validation:   0%|          | 0/165 [00:00<?, ?it/s]"
      ]
     },
     "metadata": {},
     "output_type": "display_data"
    },
    {
     "name": "stdout",
     "output_type": "stream",
     "text": [
      "val_losses 0.20623738571549907\n",
      "EarlyStopping counter: 3 out of 50\n"
     ]
    },
    {
     "data": {
      "application/vnd.jupyter.widget-view+json": {
       "model_id": "f70d4117f0d7424f9c8440fb5ed3f6d4",
       "version_major": 2,
       "version_minor": 0
      },
      "text/plain": [
       "Training:   0%|          | 0/330 [00:00<?, ?it/s]"
      ]
     },
     "metadata": {},
     "output_type": "display_data"
    },
    {
     "data": {
      "application/vnd.jupyter.widget-view+json": {
       "model_id": "2333c743770741a2b3870ef40bb67013",
       "version_major": 2,
       "version_minor": 0
      },
      "text/plain": [
       "Validation:   0%|          | 0/165 [00:00<?, ?it/s]"
      ]
     },
     "metadata": {},
     "output_type": "display_data"
    },
    {
     "name": "stdout",
     "output_type": "stream",
     "text": [
      "val_losses 0.2189943379073432\n",
      "EarlyStopping counter: 4 out of 50\n"
     ]
    },
    {
     "data": {
      "application/vnd.jupyter.widget-view+json": {
       "model_id": "4679acad91a945cdb369187885f7f722",
       "version_major": 2,
       "version_minor": 0
      },
      "text/plain": [
       "Training:   0%|          | 0/330 [00:00<?, ?it/s]"
      ]
     },
     "metadata": {},
     "output_type": "display_data"
    },
    {
     "data": {
      "application/vnd.jupyter.widget-view+json": {
       "model_id": "048a527881d64a2b880e663a5a22ce8a",
       "version_major": 2,
       "version_minor": 0
      },
      "text/plain": [
       "Validation:   0%|          | 0/165 [00:00<?, ?it/s]"
      ]
     },
     "metadata": {},
     "output_type": "display_data"
    },
    {
     "name": "stdout",
     "output_type": "stream",
     "text": [
      "val_losses 0.224050834774971\n",
      "EarlyStopping counter: 5 out of 50\n"
     ]
    },
    {
     "data": {
      "application/vnd.jupyter.widget-view+json": {
       "model_id": "5cd3291839284aac989598b5cef8aae3",
       "version_major": 2,
       "version_minor": 0
      },
      "text/plain": [
       "Training:   0%|          | 0/330 [00:00<?, ?it/s]"
      ]
     },
     "metadata": {},
     "output_type": "display_data"
    },
    {
     "data": {
      "application/vnd.jupyter.widget-view+json": {
       "model_id": "75218ba0e10d41818225281d327e3140",
       "version_major": 2,
       "version_minor": 0
      },
      "text/plain": [
       "Validation:   0%|          | 0/165 [00:00<?, ?it/s]"
      ]
     },
     "metadata": {},
     "output_type": "display_data"
    },
    {
     "name": "stdout",
     "output_type": "stream",
     "text": [
      "val_losses 0.240068288824775\n",
      "EarlyStopping counter: 6 out of 50\n"
     ]
    },
    {
     "data": {
      "application/vnd.jupyter.widget-view+json": {
       "model_id": "bf7de6286a8e4227ad96511a485c8eef",
       "version_major": 2,
       "version_minor": 0
      },
      "text/plain": [
       "Training:   0%|          | 0/330 [00:00<?, ?it/s]"
      ]
     },
     "metadata": {},
     "output_type": "display_data"
    },
    {
     "data": {
      "application/vnd.jupyter.widget-view+json": {
       "model_id": "300ec9af9d1f4490b4bac21fda569ff6",
       "version_major": 2,
       "version_minor": 0
      },
      "text/plain": [
       "Validation:   0%|          | 0/165 [00:00<?, ?it/s]"
      ]
     },
     "metadata": {},
     "output_type": "display_data"
    },
    {
     "name": "stdout",
     "output_type": "stream",
     "text": [
      "val_losses 0.24954704068826908\n",
      "EarlyStopping counter: 7 out of 50\n"
     ]
    },
    {
     "data": {
      "application/vnd.jupyter.widget-view+json": {
       "model_id": "391963fc11474c5b8cecde711872ed73",
       "version_major": 2,
       "version_minor": 0
      },
      "text/plain": [
       "Training:   0%|          | 0/330 [00:00<?, ?it/s]"
      ]
     },
     "metadata": {},
     "output_type": "display_data"
    },
    {
     "data": {
      "application/vnd.jupyter.widget-view+json": {
       "model_id": "85ca33e322a14ef889c2d6812f650b2a",
       "version_major": 2,
       "version_minor": 0
      },
      "text/plain": [
       "Validation:   0%|          | 0/165 [00:00<?, ?it/s]"
      ]
     },
     "metadata": {},
     "output_type": "display_data"
    },
    {
     "name": "stdout",
     "output_type": "stream",
     "text": [
      "val_losses 0.25176083115917264\n",
      "EarlyStopping counter: 8 out of 50\n"
     ]
    },
    {
     "data": {
      "application/vnd.jupyter.widget-view+json": {
       "model_id": "04940c7490b94b5c8b2ef0c4f0a3bebf",
       "version_major": 2,
       "version_minor": 0
      },
      "text/plain": [
       "Training:   0%|          | 0/330 [00:00<?, ?it/s]"
      ]
     },
     "metadata": {},
     "output_type": "display_data"
    },
    {
     "data": {
      "application/vnd.jupyter.widget-view+json": {
       "model_id": "e7968c9e7a20403d9ba157e969d491c4",
       "version_major": 2,
       "version_minor": 0
      },
      "text/plain": [
       "Validation:   0%|          | 0/165 [00:00<?, ?it/s]"
      ]
     },
     "metadata": {},
     "output_type": "display_data"
    },
    {
     "name": "stdout",
     "output_type": "stream",
     "text": [
      "val_losses 0.2567575839432803\n",
      "EarlyStopping counter: 9 out of 50\n"
     ]
    },
    {
     "data": {
      "application/vnd.jupyter.widget-view+json": {
       "model_id": "41dcc050482e4e33a762532d34d8c4a5",
       "version_major": 2,
       "version_minor": 0
      },
      "text/plain": [
       "Training:   0%|          | 0/330 [00:00<?, ?it/s]"
      ]
     },
     "metadata": {},
     "output_type": "display_data"
    },
    {
     "data": {
      "application/vnd.jupyter.widget-view+json": {
       "model_id": "28ff073a49ce4ec58e9621f5cfb76d7d",
       "version_major": 2,
       "version_minor": 0
      },
      "text/plain": [
       "Validation:   0%|          | 0/165 [00:00<?, ?it/s]"
      ]
     },
     "metadata": {},
     "output_type": "display_data"
    },
    {
     "name": "stdout",
     "output_type": "stream",
     "text": [
      "val_losses 0.269905561208725\n",
      "EarlyStopping counter: 10 out of 50\n"
     ]
    },
    {
     "data": {
      "application/vnd.jupyter.widget-view+json": {
       "model_id": "e478388768794c919c708cf29b35eb8b",
       "version_major": 2,
       "version_minor": 0
      },
      "text/plain": [
       "Training:   0%|          | 0/330 [00:00<?, ?it/s]"
      ]
     },
     "metadata": {},
     "output_type": "display_data"
    },
    {
     "data": {
      "application/vnd.jupyter.widget-view+json": {
       "model_id": "488d7a4257db4e22a48d479f33a6fd6f",
       "version_major": 2,
       "version_minor": 0
      },
      "text/plain": [
       "Validation:   0%|          | 0/165 [00:00<?, ?it/s]"
      ]
     },
     "metadata": {},
     "output_type": "display_data"
    },
    {
     "name": "stdout",
     "output_type": "stream",
     "text": [
      "val_losses 0.27558936250932287\n",
      "EarlyStopping counter: 11 out of 50\n"
     ]
    },
    {
     "data": {
      "application/vnd.jupyter.widget-view+json": {
       "model_id": "f5f6b33bb2464f7ea525834894650f38",
       "version_major": 2,
       "version_minor": 0
      },
      "text/plain": [
       "Training:   0%|          | 0/330 [00:00<?, ?it/s]"
      ]
     },
     "metadata": {},
     "output_type": "display_data"
    },
    {
     "data": {
      "application/vnd.jupyter.widget-view+json": {
       "model_id": "e8c93d2b8aff4a0ea02e58d6224448e7",
       "version_major": 2,
       "version_minor": 0
      },
      "text/plain": [
       "Validation:   0%|          | 0/165 [00:00<?, ?it/s]"
      ]
     },
     "metadata": {},
     "output_type": "display_data"
    },
    {
     "name": "stdout",
     "output_type": "stream",
     "text": [
      "val_losses 0.2718015886617429\n",
      "EarlyStopping counter: 12 out of 50\n"
     ]
    },
    {
     "data": {
      "application/vnd.jupyter.widget-view+json": {
       "model_id": "b5b422cf44464e7d84acd2b3843ce8f5",
       "version_major": 2,
       "version_minor": 0
      },
      "text/plain": [
       "Training:   0%|          | 0/330 [00:00<?, ?it/s]"
      ]
     },
     "metadata": {},
     "output_type": "display_data"
    },
    {
     "data": {
      "application/vnd.jupyter.widget-view+json": {
       "model_id": "088b8850ad0b4bf69453df76eaeb3f74",
       "version_major": 2,
       "version_minor": 0
      },
      "text/plain": [
       "Validation:   0%|          | 0/165 [00:00<?, ?it/s]"
      ]
     },
     "metadata": {},
     "output_type": "display_data"
    },
    {
     "name": "stdout",
     "output_type": "stream",
     "text": [
      "val_losses 0.25824183252724736\n",
      "EarlyStopping counter: 13 out of 50\n"
     ]
    },
    {
     "data": {
      "application/vnd.jupyter.widget-view+json": {
       "model_id": "254e4c1644f247dc8e5f80d7308c3c99",
       "version_major": 2,
       "version_minor": 0
      },
      "text/plain": [
       "Training:   0%|          | 0/330 [00:00<?, ?it/s]"
      ]
     },
     "metadata": {},
     "output_type": "display_data"
    },
    {
     "data": {
      "application/vnd.jupyter.widget-view+json": {
       "model_id": "701d2e798328413fafd8d25c03100bb8",
       "version_major": 2,
       "version_minor": 0
      },
      "text/plain": [
       "Validation:   0%|          | 0/165 [00:00<?, ?it/s]"
      ]
     },
     "metadata": {},
     "output_type": "display_data"
    },
    {
     "name": "stdout",
     "output_type": "stream",
     "text": [
      "val_losses 0.2626222691301143\n",
      "EarlyStopping counter: 14 out of 50\n"
     ]
    },
    {
     "data": {
      "application/vnd.jupyter.widget-view+json": {
       "model_id": "9374f45ee1d943d58422ab58a1edb06b",
       "version_major": 2,
       "version_minor": 0
      },
      "text/plain": [
       "Training:   0%|          | 0/330 [00:00<?, ?it/s]"
      ]
     },
     "metadata": {},
     "output_type": "display_data"
    },
    {
     "data": {
      "application/vnd.jupyter.widget-view+json": {
       "model_id": "fe3ed738bf974beb85396a945a370981",
       "version_major": 2,
       "version_minor": 0
      },
      "text/plain": [
       "Validation:   0%|          | 0/165 [00:00<?, ?it/s]"
      ]
     },
     "metadata": {},
     "output_type": "display_data"
    },
    {
     "name": "stdout",
     "output_type": "stream",
     "text": [
      "val_losses 0.25909049930897626\n",
      "EarlyStopping counter: 15 out of 50\n"
     ]
    },
    {
     "data": {
      "application/vnd.jupyter.widget-view+json": {
       "model_id": "71f103e0b7b442e0b200eb7d6cea77ea",
       "version_major": 2,
       "version_minor": 0
      },
      "text/plain": [
       "Training:   0%|          | 0/330 [00:00<?, ?it/s]"
      ]
     },
     "metadata": {},
     "output_type": "display_data"
    },
    {
     "data": {
      "application/vnd.jupyter.widget-view+json": {
       "model_id": "6387de093ba94860959fc26a13619d86",
       "version_major": 2,
       "version_minor": 0
      },
      "text/plain": [
       "Validation:   0%|          | 0/165 [00:00<?, ?it/s]"
      ]
     },
     "metadata": {},
     "output_type": "display_data"
    },
    {
     "name": "stdout",
     "output_type": "stream",
     "text": [
      "val_losses 0.2760507326686021\n",
      "EarlyStopping counter: 16 out of 50\n"
     ]
    },
    {
     "data": {
      "application/vnd.jupyter.widget-view+json": {
       "model_id": "87813f3875914f2f96a6fcd45d2e29c0",
       "version_major": 2,
       "version_minor": 0
      },
      "text/plain": [
       "Training:   0%|          | 0/330 [00:00<?, ?it/s]"
      ]
     },
     "metadata": {},
     "output_type": "display_data"
    },
    {
     "data": {
      "application/vnd.jupyter.widget-view+json": {
       "model_id": "f99bbb8938d043dea0f33858157ba41f",
       "version_major": 2,
       "version_minor": 0
      },
      "text/plain": [
       "Validation:   0%|          | 0/165 [00:00<?, ?it/s]"
      ]
     },
     "metadata": {},
     "output_type": "display_data"
    },
    {
     "name": "stdout",
     "output_type": "stream",
     "text": [
      "val_losses 0.11525601853023876\n",
      "Validation loss decreased (0.120171 --> 0.115256).  Saving model ...\n"
     ]
    },
    {
     "data": {
      "application/vnd.jupyter.widget-view+json": {
       "model_id": "47f7bdfdea0345d9a8cbea358e54ce45",
       "version_major": 2,
       "version_minor": 0
      },
      "text/plain": [
       "Training:   0%|          | 0/330 [00:00<?, ?it/s]"
      ]
     },
     "metadata": {},
     "output_type": "display_data"
    },
    {
     "data": {
      "application/vnd.jupyter.widget-view+json": {
       "model_id": "c6004d2f39e6499693cb0f8c643f9172",
       "version_major": 2,
       "version_minor": 0
      },
      "text/plain": [
       "Validation:   0%|          | 0/165 [00:00<?, ?it/s]"
      ]
     },
     "metadata": {},
     "output_type": "display_data"
    },
    {
     "name": "stdout",
     "output_type": "stream",
     "text": [
      "val_losses 0.13455930250612172\n",
      "EarlyStopping counter: 1 out of 50\n"
     ]
    },
    {
     "data": {
      "application/vnd.jupyter.widget-view+json": {
       "model_id": "35f0ad322e6c4b2b8c92167d4241ea3a",
       "version_major": 2,
       "version_minor": 0
      },
      "text/plain": [
       "Training:   0%|          | 0/330 [00:00<?, ?it/s]"
      ]
     },
     "metadata": {},
     "output_type": "display_data"
    },
    {
     "data": {
      "application/vnd.jupyter.widget-view+json": {
       "model_id": "b823b38d36df46e8bce0300e7c095e95",
       "version_major": 2,
       "version_minor": 0
      },
      "text/plain": [
       "Validation:   0%|          | 0/165 [00:00<?, ?it/s]"
      ]
     },
     "metadata": {},
     "output_type": "display_data"
    },
    {
     "name": "stdout",
     "output_type": "stream",
     "text": [
      "val_losses 0.1703308573952227\n",
      "EarlyStopping counter: 2 out of 50\n"
     ]
    },
    {
     "data": {
      "application/vnd.jupyter.widget-view+json": {
       "model_id": "74ce86b6b4b34484b50dc8c109174d2a",
       "version_major": 2,
       "version_minor": 0
      },
      "text/plain": [
       "Training:   0%|          | 0/330 [00:00<?, ?it/s]"
      ]
     },
     "metadata": {},
     "output_type": "display_data"
    },
    {
     "data": {
      "application/vnd.jupyter.widget-view+json": {
       "model_id": "eed1f29cee2b49b4b06e24615118de59",
       "version_major": 2,
       "version_minor": 0
      },
      "text/plain": [
       "Validation:   0%|          | 0/165 [00:00<?, ?it/s]"
      ]
     },
     "metadata": {},
     "output_type": "display_data"
    },
    {
     "name": "stdout",
     "output_type": "stream",
     "text": [
      "val_losses 0.19128492108800194\n",
      "EarlyStopping counter: 3 out of 50\n"
     ]
    },
    {
     "data": {
      "application/vnd.jupyter.widget-view+json": {
       "model_id": "d93c4c50ef7445c89f20c02ccbc1b2ff",
       "version_major": 2,
       "version_minor": 0
      },
      "text/plain": [
       "Training:   0%|          | 0/330 [00:00<?, ?it/s]"
      ]
     },
     "metadata": {},
     "output_type": "display_data"
    },
    {
     "data": {
      "application/vnd.jupyter.widget-view+json": {
       "model_id": "613f377914e14051890a2b2cb70b0934",
       "version_major": 2,
       "version_minor": 0
      },
      "text/plain": [
       "Validation:   0%|          | 0/165 [00:00<?, ?it/s]"
      ]
     },
     "metadata": {},
     "output_type": "display_data"
    },
    {
     "name": "stdout",
     "output_type": "stream",
     "text": [
      "val_losses 0.20680241498983268\n",
      "EarlyStopping counter: 4 out of 50\n"
     ]
    },
    {
     "data": {
      "application/vnd.jupyter.widget-view+json": {
       "model_id": "ecb516759e924e6daca57bf136ade9fe",
       "version_major": 2,
       "version_minor": 0
      },
      "text/plain": [
       "Training:   0%|          | 0/330 [00:00<?, ?it/s]"
      ]
     },
     "metadata": {},
     "output_type": "display_data"
    },
    {
     "data": {
      "application/vnd.jupyter.widget-view+json": {
       "model_id": "eb662eebab304dc2ac4e598be76086bd",
       "version_major": 2,
       "version_minor": 0
      },
      "text/plain": [
       "Validation:   0%|          | 0/165 [00:00<?, ?it/s]"
      ]
     },
     "metadata": {},
     "output_type": "display_data"
    },
    {
     "name": "stdout",
     "output_type": "stream",
     "text": [
      "val_losses 0.2244668727571314\n",
      "EarlyStopping counter: 5 out of 50\n"
     ]
    },
    {
     "data": {
      "application/vnd.jupyter.widget-view+json": {
       "model_id": "d155a7509bdb455babdfabdfd5e94f7d",
       "version_major": 2,
       "version_minor": 0
      },
      "text/plain": [
       "Training:   0%|          | 0/330 [00:00<?, ?it/s]"
      ]
     },
     "metadata": {},
     "output_type": "display_data"
    },
    {
     "data": {
      "application/vnd.jupyter.widget-view+json": {
       "model_id": "abe9136801d3493791e63678ddb87740",
       "version_major": 2,
       "version_minor": 0
      },
      "text/plain": [
       "Validation:   0%|          | 0/165 [00:00<?, ?it/s]"
      ]
     },
     "metadata": {},
     "output_type": "display_data"
    },
    {
     "name": "stdout",
     "output_type": "stream",
     "text": [
      "val_losses 0.2365152787530061\n",
      "EarlyStopping counter: 6 out of 50\n"
     ]
    },
    {
     "data": {
      "application/vnd.jupyter.widget-view+json": {
       "model_id": "7df6f7d68ff0454dbb76934cc89e03bb",
       "version_major": 2,
       "version_minor": 0
      },
      "text/plain": [
       "Training:   0%|          | 0/330 [00:00<?, ?it/s]"
      ]
     },
     "metadata": {},
     "output_type": "display_data"
    },
    {
     "data": {
      "application/vnd.jupyter.widget-view+json": {
       "model_id": "61342694b51a45c1ac755f798bd1d7be",
       "version_major": 2,
       "version_minor": 0
      },
      "text/plain": [
       "Validation:   0%|          | 0/165 [00:00<?, ?it/s]"
      ]
     },
     "metadata": {},
     "output_type": "display_data"
    },
    {
     "name": "stdout",
     "output_type": "stream",
     "text": [
      "val_losses 0.24391331054044493\n",
      "EarlyStopping counter: 7 out of 50\n"
     ]
    },
    {
     "data": {
      "application/vnd.jupyter.widget-view+json": {
       "model_id": "766f75f8feb14e40871df86a18494dfd",
       "version_major": 2,
       "version_minor": 0
      },
      "text/plain": [
       "Training:   0%|          | 0/330 [00:00<?, ?it/s]"
      ]
     },
     "metadata": {},
     "output_type": "display_data"
    },
    {
     "data": {
      "application/vnd.jupyter.widget-view+json": {
       "model_id": "62762392a1bf4c379329cb77fdb3bfba",
       "version_major": 2,
       "version_minor": 0
      },
      "text/plain": [
       "Validation:   0%|          | 0/165 [00:00<?, ?it/s]"
      ]
     },
     "metadata": {},
     "output_type": "display_data"
    },
    {
     "name": "stdout",
     "output_type": "stream",
     "text": [
      "val_losses 0.2515818185878522\n",
      "EarlyStopping counter: 8 out of 50\n"
     ]
    },
    {
     "data": {
      "application/vnd.jupyter.widget-view+json": {
       "model_id": "635d2fd0dd98430abb884424f89f3a7e",
       "version_major": 2,
       "version_minor": 0
      },
      "text/plain": [
       "Training:   0%|          | 0/330 [00:00<?, ?it/s]"
      ]
     },
     "metadata": {},
     "output_type": "display_data"
    },
    {
     "data": {
      "application/vnd.jupyter.widget-view+json": {
       "model_id": "8cf085ce11ca4f4a924f171ad2b28cbc",
       "version_major": 2,
       "version_minor": 0
      },
      "text/plain": [
       "Validation:   0%|          | 0/165 [00:00<?, ?it/s]"
      ]
     },
     "metadata": {},
     "output_type": "display_data"
    },
    {
     "name": "stdout",
     "output_type": "stream",
     "text": [
      "val_losses 0.251952695033767\n",
      "EarlyStopping counter: 9 out of 50\n"
     ]
    },
    {
     "data": {
      "application/vnd.jupyter.widget-view+json": {
       "model_id": "f33234a640ad459ab2f378c38845680c",
       "version_major": 2,
       "version_minor": 0
      },
      "text/plain": [
       "Training:   0%|          | 0/330 [00:00<?, ?it/s]"
      ]
     },
     "metadata": {},
     "output_type": "display_data"
    },
    {
     "data": {
      "application/vnd.jupyter.widget-view+json": {
       "model_id": "41340b61dd4f4ff29fa59babb7307c5b",
       "version_major": 2,
       "version_minor": 0
      },
      "text/plain": [
       "Validation:   0%|          | 0/165 [00:00<?, ?it/s]"
      ]
     },
     "metadata": {},
     "output_type": "display_data"
    },
    {
     "name": "stdout",
     "output_type": "stream",
     "text": [
      "val_losses 0.2482888758634076\n",
      "EarlyStopping counter: 10 out of 50\n"
     ]
    },
    {
     "data": {
      "application/vnd.jupyter.widget-view+json": {
       "model_id": "93c1c03c84424710a9d0eb4ea7f10d63",
       "version_major": 2,
       "version_minor": 0
      },
      "text/plain": [
       "Training:   0%|          | 0/330 [00:00<?, ?it/s]"
      ]
     },
     "metadata": {},
     "output_type": "display_data"
    },
    {
     "data": {
      "application/vnd.jupyter.widget-view+json": {
       "model_id": "073b3171c46b4960910a7891b8d43f7e",
       "version_major": 2,
       "version_minor": 0
      },
      "text/plain": [
       "Validation:   0%|          | 0/165 [00:00<?, ?it/s]"
      ]
     },
     "metadata": {},
     "output_type": "display_data"
    },
    {
     "name": "stdout",
     "output_type": "stream",
     "text": [
      "val_losses 0.26779025467959316\n",
      "EarlyStopping counter: 11 out of 50\n"
     ]
    },
    {
     "data": {
      "application/vnd.jupyter.widget-view+json": {
       "model_id": "92bbd97846214926b566a9b3bbd1e36c",
       "version_major": 2,
       "version_minor": 0
      },
      "text/plain": [
       "Training:   0%|          | 0/330 [00:00<?, ?it/s]"
      ]
     },
     "metadata": {},
     "output_type": "display_data"
    },
    {
     "data": {
      "application/vnd.jupyter.widget-view+json": {
       "model_id": "d77a302699f340f99f8ea08db6f0f99a",
       "version_major": 2,
       "version_minor": 0
      },
      "text/plain": [
       "Validation:   0%|          | 0/165 [00:00<?, ?it/s]"
      ]
     },
     "metadata": {},
     "output_type": "display_data"
    },
    {
     "name": "stdout",
     "output_type": "stream",
     "text": [
      "val_losses 0.2765964721188401\n",
      "EarlyStopping counter: 12 out of 50\n"
     ]
    },
    {
     "data": {
      "application/vnd.jupyter.widget-view+json": {
       "model_id": "f07d582399eb49298ffcd367b08d2505",
       "version_major": 2,
       "version_minor": 0
      },
      "text/plain": [
       "Training:   0%|          | 0/330 [00:00<?, ?it/s]"
      ]
     },
     "metadata": {},
     "output_type": "display_data"
    },
    {
     "data": {
      "application/vnd.jupyter.widget-view+json": {
       "model_id": "1ebafe004bef4ec08275ac66a6a30f42",
       "version_major": 2,
       "version_minor": 0
      },
      "text/plain": [
       "Validation:   0%|          | 0/165 [00:00<?, ?it/s]"
      ]
     },
     "metadata": {},
     "output_type": "display_data"
    },
    {
     "name": "stdout",
     "output_type": "stream",
     "text": [
      "val_losses 0.2801821371822646\n",
      "EarlyStopping counter: 13 out of 50\n"
     ]
    },
    {
     "data": {
      "application/vnd.jupyter.widget-view+json": {
       "model_id": "dec3f48e65c64d6b8761f201025553a7",
       "version_major": 2,
       "version_minor": 0
      },
      "text/plain": [
       "Training:   0%|          | 0/330 [00:00<?, ?it/s]"
      ]
     },
     "metadata": {},
     "output_type": "display_data"
    },
    {
     "data": {
      "application/vnd.jupyter.widget-view+json": {
       "model_id": "72670d79ae7347c88134a106a4513b76",
       "version_major": 2,
       "version_minor": 0
      },
      "text/plain": [
       "Validation:   0%|          | 0/165 [00:00<?, ?it/s]"
      ]
     },
     "metadata": {},
     "output_type": "display_data"
    },
    {
     "name": "stdout",
     "output_type": "stream",
     "text": [
      "val_losses 0.28531395630403\n",
      "EarlyStopping counter: 14 out of 50\n"
     ]
    },
    {
     "data": {
      "application/vnd.jupyter.widget-view+json": {
       "model_id": "3881e719c0604a59b10c6dc6585ad524",
       "version_major": 2,
       "version_minor": 0
      },
      "text/plain": [
       "Training:   0%|          | 0/330 [00:00<?, ?it/s]"
      ]
     },
     "metadata": {},
     "output_type": "display_data"
    },
    {
     "data": {
      "application/vnd.jupyter.widget-view+json": {
       "model_id": "c9eedccddeb24bd2a43b855cbec17a76",
       "version_major": 2,
       "version_minor": 0
      },
      "text/plain": [
       "Validation:   0%|          | 0/165 [00:00<?, ?it/s]"
      ]
     },
     "metadata": {},
     "output_type": "display_data"
    },
    {
     "name": "stdout",
     "output_type": "stream",
     "text": [
      "val_losses 0.2740093871951103\n",
      "EarlyStopping counter: 15 out of 50\n"
     ]
    },
    {
     "data": {
      "application/vnd.jupyter.widget-view+json": {
       "model_id": "abab5022f7a449508447337519e12cf3",
       "version_major": 2,
       "version_minor": 0
      },
      "text/plain": [
       "Training:   0%|          | 0/330 [00:00<?, ?it/s]"
      ]
     },
     "metadata": {},
     "output_type": "display_data"
    },
    {
     "data": {
      "application/vnd.jupyter.widget-view+json": {
       "model_id": "361e3dbb35c4426e931bda85516395ee",
       "version_major": 2,
       "version_minor": 0
      },
      "text/plain": [
       "Validation:   0%|          | 0/165 [00:00<?, ?it/s]"
      ]
     },
     "metadata": {},
     "output_type": "display_data"
    },
    {
     "name": "stdout",
     "output_type": "stream",
     "text": [
      "val_losses 0.31082088617664394\n",
      "EarlyStopping counter: 16 out of 50\n"
     ]
    },
    {
     "data": {
      "application/vnd.jupyter.widget-view+json": {
       "model_id": "9108a391558f4a13b6af4b13f2a2bcb3",
       "version_major": 2,
       "version_minor": 0
      },
      "text/plain": [
       "Training:   0%|          | 0/330 [00:00<?, ?it/s]"
      ]
     },
     "metadata": {},
     "output_type": "display_data"
    },
    {
     "data": {
      "application/vnd.jupyter.widget-view+json": {
       "model_id": "e3a3ea77d2b6437897dca0aa2a384443",
       "version_major": 2,
       "version_minor": 0
      },
      "text/plain": [
       "Validation:   0%|          | 0/165 [00:00<?, ?it/s]"
      ]
     },
     "metadata": {},
     "output_type": "display_data"
    },
    {
     "name": "stdout",
     "output_type": "stream",
     "text": [
      "val_losses 0.3188844851020611\n",
      "EarlyStopping counter: 17 out of 50\n"
     ]
    },
    {
     "data": {
      "application/vnd.jupyter.widget-view+json": {
       "model_id": "8d7b140a6fb546dc8bbbfb8148694e74",
       "version_major": 2,
       "version_minor": 0
      },
      "text/plain": [
       "Training:   0%|          | 0/330 [00:00<?, ?it/s]"
      ]
     },
     "metadata": {},
     "output_type": "display_data"
    },
    {
     "data": {
      "application/vnd.jupyter.widget-view+json": {
       "model_id": "251907f248974ddf806452cbac2c4beb",
       "version_major": 2,
       "version_minor": 0
      },
      "text/plain": [
       "Validation:   0%|          | 0/165 [00:00<?, ?it/s]"
      ]
     },
     "metadata": {},
     "output_type": "display_data"
    },
    {
     "name": "stdout",
     "output_type": "stream",
     "text": [
      "val_losses 0.29618472366622\n",
      "EarlyStopping counter: 18 out of 50\n"
     ]
    },
    {
     "data": {
      "application/vnd.jupyter.widget-view+json": {
       "model_id": "b2cb5c53a3ca481bbcff87f62d4a6eed",
       "version_major": 2,
       "version_minor": 0
      },
      "text/plain": [
       "Training:   0%|          | 0/330 [00:00<?, ?it/s]"
      ]
     },
     "metadata": {},
     "output_type": "display_data"
    },
    {
     "data": {
      "application/vnd.jupyter.widget-view+json": {
       "model_id": "6c1373d0e0f840c1a3b0e5cd4177120a",
       "version_major": 2,
       "version_minor": 0
      },
      "text/plain": [
       "Validation:   0%|          | 0/165 [00:00<?, ?it/s]"
      ]
     },
     "metadata": {},
     "output_type": "display_data"
    },
    {
     "name": "stdout",
     "output_type": "stream",
     "text": [
      "val_losses 0.3134382105686448\n",
      "EarlyStopping counter: 19 out of 50\n"
     ]
    },
    {
     "data": {
      "application/vnd.jupyter.widget-view+json": {
       "model_id": "6351a9f57c2f4be8a7f88e9954515393",
       "version_major": 2,
       "version_minor": 0
      },
      "text/plain": [
       "Training:   0%|          | 0/330 [00:00<?, ?it/s]"
      ]
     },
     "metadata": {},
     "output_type": "display_data"
    },
    {
     "data": {
      "application/vnd.jupyter.widget-view+json": {
       "model_id": "c2dc9a29cce8465b880f8a94854aa527",
       "version_major": 2,
       "version_minor": 0
      },
      "text/plain": [
       "Validation:   0%|          | 0/165 [00:00<?, ?it/s]"
      ]
     },
     "metadata": {},
     "output_type": "display_data"
    },
    {
     "name": "stdout",
     "output_type": "stream",
     "text": [
      "val_losses 0.3085527921716372\n",
      "EarlyStopping counter: 20 out of 50\n"
     ]
    },
    {
     "data": {
      "application/vnd.jupyter.widget-view+json": {
       "model_id": "9c4ed1a1b36b487c97f4b536066ab96b",
       "version_major": 2,
       "version_minor": 0
      },
      "text/plain": [
       "Training:   0%|          | 0/330 [00:00<?, ?it/s]"
      ]
     },
     "metadata": {},
     "output_type": "display_data"
    },
    {
     "data": {
      "application/vnd.jupyter.widget-view+json": {
       "model_id": "5058d29db56d4343863deac605e6f4c2",
       "version_major": 2,
       "version_minor": 0
      },
      "text/plain": [
       "Validation:   0%|          | 0/165 [00:00<?, ?it/s]"
      ]
     },
     "metadata": {},
     "output_type": "display_data"
    },
    {
     "name": "stdout",
     "output_type": "stream",
     "text": [
      "val_losses 0.31069894699436246\n",
      "EarlyStopping counter: 21 out of 50\n"
     ]
    },
    {
     "data": {
      "application/vnd.jupyter.widget-view+json": {
       "model_id": "48bc7a073a514c0ba462d73cf7ac6ff0",
       "version_major": 2,
       "version_minor": 0
      },
      "text/plain": [
       "Training:   0%|          | 0/330 [00:00<?, ?it/s]"
      ]
     },
     "metadata": {},
     "output_type": "display_data"
    },
    {
     "data": {
      "application/vnd.jupyter.widget-view+json": {
       "model_id": "24c551b065b345fb83b2892a9e902f63",
       "version_major": 2,
       "version_minor": 0
      },
      "text/plain": [
       "Validation:   0%|          | 0/165 [00:00<?, ?it/s]"
      ]
     },
     "metadata": {},
     "output_type": "display_data"
    },
    {
     "name": "stdout",
     "output_type": "stream",
     "text": [
      "val_losses 0.3196308146823536\n",
      "EarlyStopping counter: 22 out of 50\n"
     ]
    },
    {
     "data": {
      "application/vnd.jupyter.widget-view+json": {
       "model_id": "968f777c9c48494e9f770ff4e6edb23c",
       "version_major": 2,
       "version_minor": 0
      },
      "text/plain": [
       "Training:   0%|          | 0/330 [00:00<?, ?it/s]"
      ]
     },
     "metadata": {},
     "output_type": "display_data"
    },
    {
     "data": {
      "application/vnd.jupyter.widget-view+json": {
       "model_id": "c27ed99a23cf4785a29ba64670bffcf8",
       "version_major": 2,
       "version_minor": 0
      },
      "text/plain": [
       "Validation:   0%|          | 0/165 [00:00<?, ?it/s]"
      ]
     },
     "metadata": {},
     "output_type": "display_data"
    },
    {
     "name": "stdout",
     "output_type": "stream",
     "text": [
      "val_losses 0.29988799063545285\n",
      "EarlyStopping counter: 23 out of 50\n"
     ]
    },
    {
     "data": {
      "application/vnd.jupyter.widget-view+json": {
       "model_id": "39f035d701c741f0aba16e1802111689",
       "version_major": 2,
       "version_minor": 0
      },
      "text/plain": [
       "Training:   0%|          | 0/330 [00:00<?, ?it/s]"
      ]
     },
     "metadata": {},
     "output_type": "display_data"
    },
    {
     "data": {
      "application/vnd.jupyter.widget-view+json": {
       "model_id": "8737be552f0b43628428042f66c5a042",
       "version_major": 2,
       "version_minor": 0
      },
      "text/plain": [
       "Validation:   0%|          | 0/165 [00:00<?, ?it/s]"
      ]
     },
     "metadata": {},
     "output_type": "display_data"
    },
    {
     "name": "stdout",
     "output_type": "stream",
     "text": [
      "val_losses 0.32311932489727485\n",
      "EarlyStopping counter: 24 out of 50\n"
     ]
    },
    {
     "data": {
      "application/vnd.jupyter.widget-view+json": {
       "model_id": "9a4c049055b042b99de69ba4f5a615e6",
       "version_major": 2,
       "version_minor": 0
      },
      "text/plain": [
       "Training:   0%|          | 0/330 [00:00<?, ?it/s]"
      ]
     },
     "metadata": {},
     "output_type": "display_data"
    },
    {
     "data": {
      "application/vnd.jupyter.widget-view+json": {
       "model_id": "9837aaa150a74447a990dd341970c53a",
       "version_major": 2,
       "version_minor": 0
      },
      "text/plain": [
       "Validation:   0%|          | 0/165 [00:00<?, ?it/s]"
      ]
     },
     "metadata": {},
     "output_type": "display_data"
    },
    {
     "name": "stdout",
     "output_type": "stream",
     "text": [
      "val_losses 0.3297055434096943\n",
      "EarlyStopping counter: 25 out of 50\n"
     ]
    },
    {
     "data": {
      "application/vnd.jupyter.widget-view+json": {
       "model_id": "4fce645d09104a71b5c6063b5a84dd6a",
       "version_major": 2,
       "version_minor": 0
      },
      "text/plain": [
       "Training:   0%|          | 0/330 [00:00<?, ?it/s]"
      ]
     },
     "metadata": {},
     "output_type": "display_data"
    },
    {
     "data": {
      "application/vnd.jupyter.widget-view+json": {
       "model_id": "42ba052f792845549bb0c3d90836be86",
       "version_major": 2,
       "version_minor": 0
      },
      "text/plain": [
       "Validation:   0%|          | 0/165 [00:00<?, ?it/s]"
      ]
     },
     "metadata": {},
     "output_type": "display_data"
    },
    {
     "name": "stdout",
     "output_type": "stream",
     "text": [
      "val_losses 0.3155403837561607\n",
      "EarlyStopping counter: 26 out of 50\n"
     ]
    },
    {
     "data": {
      "application/vnd.jupyter.widget-view+json": {
       "model_id": "54580264d33a49deba0f1ae40435a670",
       "version_major": 2,
       "version_minor": 0
      },
      "text/plain": [
       "Training:   0%|          | 0/330 [00:00<?, ?it/s]"
      ]
     },
     "metadata": {},
     "output_type": "display_data"
    },
    {
     "data": {
      "application/vnd.jupyter.widget-view+json": {
       "model_id": "96a80029c53e4e788ef3f34ac837cfba",
       "version_major": 2,
       "version_minor": 0
      },
      "text/plain": [
       "Validation:   0%|          | 0/165 [00:00<?, ?it/s]"
      ]
     },
     "metadata": {},
     "output_type": "display_data"
    },
    {
     "name": "stdout",
     "output_type": "stream",
     "text": [
      "val_losses 0.3145840725212386\n",
      "EarlyStopping counter: 27 out of 50\n"
     ]
    },
    {
     "data": {
      "application/vnd.jupyter.widget-view+json": {
       "model_id": "5247826e6a6f4dd6a1a5c26a1253e23d",
       "version_major": 2,
       "version_minor": 0
      },
      "text/plain": [
       "Training:   0%|          | 0/330 [00:00<?, ?it/s]"
      ]
     },
     "metadata": {},
     "output_type": "display_data"
    },
    {
     "data": {
      "application/vnd.jupyter.widget-view+json": {
       "model_id": "238626a5de354754a4edf060531fa8ba",
       "version_major": 2,
       "version_minor": 0
      },
      "text/plain": [
       "Validation:   0%|          | 0/165 [00:00<?, ?it/s]"
      ]
     },
     "metadata": {},
     "output_type": "display_data"
    },
    {
     "name": "stdout",
     "output_type": "stream",
     "text": [
      "val_losses 0.333044747782476\n",
      "EarlyStopping counter: 28 out of 50\n"
     ]
    },
    {
     "data": {
      "application/vnd.jupyter.widget-view+json": {
       "model_id": "53366393e0bd4733b91289df6aeac437",
       "version_major": 2,
       "version_minor": 0
      },
      "text/plain": [
       "Training:   0%|          | 0/330 [00:00<?, ?it/s]"
      ]
     },
     "metadata": {},
     "output_type": "display_data"
    },
    {
     "data": {
      "application/vnd.jupyter.widget-view+json": {
       "model_id": "1486b3ef6b2a41ac853f8714e3cc7abd",
       "version_major": 2,
       "version_minor": 0
      },
      "text/plain": [
       "Validation:   0%|          | 0/165 [00:00<?, ?it/s]"
      ]
     },
     "metadata": {},
     "output_type": "display_data"
    },
    {
     "name": "stdout",
     "output_type": "stream",
     "text": [
      "val_losses 0.34162435089096876\n",
      "EarlyStopping counter: 29 out of 50\n"
     ]
    },
    {
     "data": {
      "application/vnd.jupyter.widget-view+json": {
       "model_id": "1975a140958f478fbc8bf7fbc7b98b7f",
       "version_major": 2,
       "version_minor": 0
      },
      "text/plain": [
       "Training:   0%|          | 0/330 [00:00<?, ?it/s]"
      ]
     },
     "metadata": {},
     "output_type": "display_data"
    },
    {
     "data": {
      "application/vnd.jupyter.widget-view+json": {
       "model_id": "55bcecee50db44d196bd0c948e622fec",
       "version_major": 2,
       "version_minor": 0
      },
      "text/plain": [
       "Validation:   0%|          | 0/165 [00:00<?, ?it/s]"
      ]
     },
     "metadata": {},
     "output_type": "display_data"
    },
    {
     "name": "stdout",
     "output_type": "stream",
     "text": [
      "val_losses 0.317404299251961\n",
      "EarlyStopping counter: 30 out of 50\n"
     ]
    },
    {
     "data": {
      "application/vnd.jupyter.widget-view+json": {
       "model_id": "6d4e1661492d44259dd7122bd7dc9e73",
       "version_major": 2,
       "version_minor": 0
      },
      "text/plain": [
       "Training:   0%|          | 0/330 [00:00<?, ?it/s]"
      ]
     },
     "metadata": {},
     "output_type": "display_data"
    },
    {
     "data": {
      "application/vnd.jupyter.widget-view+json": {
       "model_id": "c2b6a0ee3f514d35a6692b1a29d02fc6",
       "version_major": 2,
       "version_minor": 0
      },
      "text/plain": [
       "Validation:   0%|          | 0/165 [00:00<?, ?it/s]"
      ]
     },
     "metadata": {},
     "output_type": "display_data"
    },
    {
     "name": "stdout",
     "output_type": "stream",
     "text": [
      "val_losses 0.3644367204471068\n",
      "EarlyStopping counter: 31 out of 50\n"
     ]
    },
    {
     "data": {
      "application/vnd.jupyter.widget-view+json": {
       "model_id": "5a95a0673efb44e7890a5af20b6de86c",
       "version_major": 2,
       "version_minor": 0
      },
      "text/plain": [
       "Training:   0%|          | 0/330 [00:00<?, ?it/s]"
      ]
     },
     "metadata": {},
     "output_type": "display_data"
    },
    {
     "data": {
      "application/vnd.jupyter.widget-view+json": {
       "model_id": "0e0b997980e141aba7298c0400078e3e",
       "version_major": 2,
       "version_minor": 0
      },
      "text/plain": [
       "Validation:   0%|          | 0/165 [00:00<?, ?it/s]"
      ]
     },
     "metadata": {},
     "output_type": "display_data"
    },
    {
     "name": "stdout",
     "output_type": "stream",
     "text": [
      "val_losses 0.37146744068824883\n",
      "EarlyStopping counter: 32 out of 50\n"
     ]
    },
    {
     "data": {
      "application/vnd.jupyter.widget-view+json": {
       "model_id": "c11bd7c4216e4a88aaac6fa7e2d9fb83",
       "version_major": 2,
       "version_minor": 0
      },
      "text/plain": [
       "Training:   0%|          | 0/330 [00:00<?, ?it/s]"
      ]
     },
     "metadata": {},
     "output_type": "display_data"
    },
    {
     "data": {
      "application/vnd.jupyter.widget-view+json": {
       "model_id": "7ac9d7d16b164c828f7130bdbb5f8239",
       "version_major": 2,
       "version_minor": 0
      },
      "text/plain": [
       "Validation:   0%|          | 0/165 [00:00<?, ?it/s]"
      ]
     },
     "metadata": {},
     "output_type": "display_data"
    },
    {
     "name": "stdout",
     "output_type": "stream",
     "text": [
      "val_losses 0.3464956935156475\n",
      "EarlyStopping counter: 33 out of 50\n"
     ]
    },
    {
     "data": {
      "application/vnd.jupyter.widget-view+json": {
       "model_id": "f01c132c5f7e4d38b1012a8357424fa8",
       "version_major": 2,
       "version_minor": 0
      },
      "text/plain": [
       "Training:   0%|          | 0/330 [00:00<?, ?it/s]"
      ]
     },
     "metadata": {},
     "output_type": "display_data"
    },
    {
     "data": {
      "application/vnd.jupyter.widget-view+json": {
       "model_id": "b345a71110d5419e9f1ef5239d5233b4",
       "version_major": 2,
       "version_minor": 0
      },
      "text/plain": [
       "Validation:   0%|          | 0/165 [00:00<?, ?it/s]"
      ]
     },
     "metadata": {},
     "output_type": "display_data"
    },
    {
     "name": "stdout",
     "output_type": "stream",
     "text": [
      "val_losses 0.11539971042763103\n",
      "EarlyStopping counter: 34 out of 50\n"
     ]
    },
    {
     "data": {
      "application/vnd.jupyter.widget-view+json": {
       "model_id": "4094aa9489d249f886c2a0ae70e30b5a",
       "version_major": 2,
       "version_minor": 0
      },
      "text/plain": [
       "Training:   0%|          | 0/330 [00:00<?, ?it/s]"
      ]
     },
     "metadata": {},
     "output_type": "display_data"
    },
    {
     "data": {
      "application/vnd.jupyter.widget-view+json": {
       "model_id": "448953deb41e47fba52a5c09b2e9b031",
       "version_major": 2,
       "version_minor": 0
      },
      "text/plain": [
       "Validation:   0%|          | 0/165 [00:00<?, ?it/s]"
      ]
     },
     "metadata": {},
     "output_type": "display_data"
    },
    {
     "name": "stdout",
     "output_type": "stream",
     "text": [
      "val_losses 0.1330173302554723\n",
      "EarlyStopping counter: 35 out of 50\n"
     ]
    },
    {
     "data": {
      "application/vnd.jupyter.widget-view+json": {
       "model_id": "160ae5560e964c2e8a191861f40ef018",
       "version_major": 2,
       "version_minor": 0
      },
      "text/plain": [
       "Training:   0%|          | 0/330 [00:00<?, ?it/s]"
      ]
     },
     "metadata": {},
     "output_type": "display_data"
    },
    {
     "data": {
      "application/vnd.jupyter.widget-view+json": {
       "model_id": "3e1551f9dbb643edbaa4cb4c276b9951",
       "version_major": 2,
       "version_minor": 0
      },
      "text/plain": [
       "Validation:   0%|          | 0/165 [00:00<?, ?it/s]"
      ]
     },
     "metadata": {},
     "output_type": "display_data"
    },
    {
     "name": "stdout",
     "output_type": "stream",
     "text": [
      "val_losses 0.15851942194682178\n",
      "EarlyStopping counter: 36 out of 50\n"
     ]
    },
    {
     "data": {
      "application/vnd.jupyter.widget-view+json": {
       "model_id": "65d69d6ee62c46a5a5a957f192004046",
       "version_major": 2,
       "version_minor": 0
      },
      "text/plain": [
       "Training:   0%|          | 0/330 [00:00<?, ?it/s]"
      ]
     },
     "metadata": {},
     "output_type": "display_data"
    },
    {
     "data": {
      "application/vnd.jupyter.widget-view+json": {
       "model_id": "d5bebbe89cc340b5a6600344fe06fb74",
       "version_major": 2,
       "version_minor": 0
      },
      "text/plain": [
       "Validation:   0%|          | 0/165 [00:00<?, ?it/s]"
      ]
     },
     "metadata": {},
     "output_type": "display_data"
    },
    {
     "name": "stdout",
     "output_type": "stream",
     "text": [
      "val_losses 0.1714385849056822\n",
      "EarlyStopping counter: 37 out of 50\n"
     ]
    },
    {
     "data": {
      "application/vnd.jupyter.widget-view+json": {
       "model_id": "4d7abb2bca2c488fb9edf163bf745c80",
       "version_major": 2,
       "version_minor": 0
      },
      "text/plain": [
       "Training:   0%|          | 0/330 [00:00<?, ?it/s]"
      ]
     },
     "metadata": {},
     "output_type": "display_data"
    },
    {
     "data": {
      "application/vnd.jupyter.widget-view+json": {
       "model_id": "985ba0bcb6ac401d8f9e84fbe641cd49",
       "version_major": 2,
       "version_minor": 0
      },
      "text/plain": [
       "Validation:   0%|          | 0/165 [00:00<?, ?it/s]"
      ]
     },
     "metadata": {},
     "output_type": "display_data"
    },
    {
     "name": "stdout",
     "output_type": "stream",
     "text": [
      "val_losses 0.17915084330421505\n",
      "EarlyStopping counter: 38 out of 50\n"
     ]
    },
    {
     "data": {
      "application/vnd.jupyter.widget-view+json": {
       "model_id": "a0e2ed6570a741e08092f27d39cf3a8a",
       "version_major": 2,
       "version_minor": 0
      },
      "text/plain": [
       "Training:   0%|          | 0/330 [00:00<?, ?it/s]"
      ]
     },
     "metadata": {},
     "output_type": "display_data"
    },
    {
     "data": {
      "application/vnd.jupyter.widget-view+json": {
       "model_id": "3f9f5c62e2cc481bb45eee6b10824a81",
       "version_major": 2,
       "version_minor": 0
      },
      "text/plain": [
       "Validation:   0%|          | 0/165 [00:00<?, ?it/s]"
      ]
     },
     "metadata": {},
     "output_type": "display_data"
    },
    {
     "name": "stdout",
     "output_type": "stream",
     "text": [
      "val_losses 0.19300952743400226\n",
      "EarlyStopping counter: 39 out of 50\n"
     ]
    },
    {
     "data": {
      "application/vnd.jupyter.widget-view+json": {
       "model_id": "5cbcdcbf73d14c94886c5ed2e0568081",
       "version_major": 2,
       "version_minor": 0
      },
      "text/plain": [
       "Training:   0%|          | 0/330 [00:00<?, ?it/s]"
      ]
     },
     "metadata": {},
     "output_type": "display_data"
    },
    {
     "data": {
      "application/vnd.jupyter.widget-view+json": {
       "model_id": "47210a761194444aaddc5720929d0f8c",
       "version_major": 2,
       "version_minor": 0
      },
      "text/plain": [
       "Validation:   0%|          | 0/165 [00:00<?, ?it/s]"
      ]
     },
     "metadata": {},
     "output_type": "display_data"
    },
    {
     "name": "stdout",
     "output_type": "stream",
     "text": [
      "val_losses 0.2055822318702033\n",
      "EarlyStopping counter: 40 out of 50\n"
     ]
    },
    {
     "data": {
      "application/vnd.jupyter.widget-view+json": {
       "model_id": "376e726303b64c31abbde424221100d3",
       "version_major": 2,
       "version_minor": 0
      },
      "text/plain": [
       "Training:   0%|          | 0/330 [00:00<?, ?it/s]"
      ]
     },
     "metadata": {},
     "output_type": "display_data"
    },
    {
     "data": {
      "application/vnd.jupyter.widget-view+json": {
       "model_id": "c1e184e30b874f609db2f2d9c62529e6",
       "version_major": 2,
       "version_minor": 0
      },
      "text/plain": [
       "Validation:   0%|          | 0/165 [00:00<?, ?it/s]"
      ]
     },
     "metadata": {},
     "output_type": "display_data"
    },
    {
     "name": "stdout",
     "output_type": "stream",
     "text": [
      "val_losses 0.2106353288347071\n",
      "EarlyStopping counter: 41 out of 50\n"
     ]
    },
    {
     "data": {
      "application/vnd.jupyter.widget-view+json": {
       "model_id": "afa319ebeb81402ab376f27c896577c0",
       "version_major": 2,
       "version_minor": 0
      },
      "text/plain": [
       "Training:   0%|          | 0/330 [00:00<?, ?it/s]"
      ]
     },
     "metadata": {},
     "output_type": "display_data"
    },
    {
     "data": {
      "application/vnd.jupyter.widget-view+json": {
       "model_id": "5cbf18818eec4e36be18e93dc186ce3a",
       "version_major": 2,
       "version_minor": 0
      },
      "text/plain": [
       "Validation:   0%|          | 0/165 [00:00<?, ?it/s]"
      ]
     },
     "metadata": {},
     "output_type": "display_data"
    },
    {
     "name": "stdout",
     "output_type": "stream",
     "text": [
      "val_losses 0.22753238434141332\n",
      "EarlyStopping counter: 42 out of 50\n"
     ]
    },
    {
     "data": {
      "application/vnd.jupyter.widget-view+json": {
       "model_id": "d8f869e6b4c54a4f9d345b37771039da",
       "version_major": 2,
       "version_minor": 0
      },
      "text/plain": [
       "Training:   0%|          | 0/330 [00:00<?, ?it/s]"
      ]
     },
     "metadata": {},
     "output_type": "display_data"
    },
    {
     "data": {
      "application/vnd.jupyter.widget-view+json": {
       "model_id": "84e28c43de014e8f8b23807252c00eb8",
       "version_major": 2,
       "version_minor": 0
      },
      "text/plain": [
       "Validation:   0%|          | 0/165 [00:00<?, ?it/s]"
      ]
     },
     "metadata": {},
     "output_type": "display_data"
    },
    {
     "name": "stdout",
     "output_type": "stream",
     "text": [
      "val_losses 0.22260242090983826\n",
      "EarlyStopping counter: 43 out of 50\n"
     ]
    },
    {
     "data": {
      "application/vnd.jupyter.widget-view+json": {
       "model_id": "024260d4fb8f401b9a0a0e82e119c6bf",
       "version_major": 2,
       "version_minor": 0
      },
      "text/plain": [
       "Training:   0%|          | 0/330 [00:00<?, ?it/s]"
      ]
     },
     "metadata": {},
     "output_type": "display_data"
    },
    {
     "data": {
      "application/vnd.jupyter.widget-view+json": {
       "model_id": "c1e211a9bdb048be8482be665185c9d8",
       "version_major": 2,
       "version_minor": 0
      },
      "text/plain": [
       "Validation:   0%|          | 0/165 [00:00<?, ?it/s]"
      ]
     },
     "metadata": {},
     "output_type": "display_data"
    },
    {
     "name": "stdout",
     "output_type": "stream",
     "text": [
      "val_losses 0.23246334989865622\n",
      "EarlyStopping counter: 44 out of 50\n"
     ]
    },
    {
     "data": {
      "application/vnd.jupyter.widget-view+json": {
       "model_id": "3667032c24b3440a92c5f8ffb0878d05",
       "version_major": 2,
       "version_minor": 0
      },
      "text/plain": [
       "Training:   0%|          | 0/330 [00:00<?, ?it/s]"
      ]
     },
     "metadata": {},
     "output_type": "display_data"
    },
    {
     "data": {
      "application/vnd.jupyter.widget-view+json": {
       "model_id": "ba07d96bc68e4d258cb63218e8d35d6c",
       "version_major": 2,
       "version_minor": 0
      },
      "text/plain": [
       "Validation:   0%|          | 0/165 [00:00<?, ?it/s]"
      ]
     },
     "metadata": {},
     "output_type": "display_data"
    },
    {
     "name": "stdout",
     "output_type": "stream",
     "text": [
      "val_losses 0.24493139887397938\n",
      "EarlyStopping counter: 45 out of 50\n"
     ]
    },
    {
     "data": {
      "application/vnd.jupyter.widget-view+json": {
       "model_id": "0f878e53e5c748b8ae669a7d57581300",
       "version_major": 2,
       "version_minor": 0
      },
      "text/plain": [
       "Training:   0%|          | 0/330 [00:00<?, ?it/s]"
      ]
     },
     "metadata": {},
     "output_type": "display_data"
    },
    {
     "data": {
      "application/vnd.jupyter.widget-view+json": {
       "model_id": "e9aadf77a4844cd0900a0cd9270a828f",
       "version_major": 2,
       "version_minor": 0
      },
      "text/plain": [
       "Validation:   0%|          | 0/165 [00:00<?, ?it/s]"
      ]
     },
     "metadata": {},
     "output_type": "display_data"
    },
    {
     "name": "stdout",
     "output_type": "stream",
     "text": [
      "val_losses 0.2506850431814338\n",
      "EarlyStopping counter: 46 out of 50\n"
     ]
    },
    {
     "data": {
      "application/vnd.jupyter.widget-view+json": {
       "model_id": "bb3b10bfe59d404ca0bb9fbfa3321ac2",
       "version_major": 2,
       "version_minor": 0
      },
      "text/plain": [
       "Training:   0%|          | 0/330 [00:00<?, ?it/s]"
      ]
     },
     "metadata": {},
     "output_type": "display_data"
    },
    {
     "data": {
      "application/vnd.jupyter.widget-view+json": {
       "model_id": "c74de75e3a80469db6642f46696ce15d",
       "version_major": 2,
       "version_minor": 0
      },
      "text/plain": [
       "Validation:   0%|          | 0/165 [00:00<?, ?it/s]"
      ]
     },
     "metadata": {},
     "output_type": "display_data"
    },
    {
     "name": "stdout",
     "output_type": "stream",
     "text": [
      "val_losses 0.2571766737735633\n",
      "EarlyStopping counter: 47 out of 50\n"
     ]
    },
    {
     "data": {
      "application/vnd.jupyter.widget-view+json": {
       "model_id": "c2092d628f8f47ba9d0611ff4f82b9e8",
       "version_major": 2,
       "version_minor": 0
      },
      "text/plain": [
       "Training:   0%|          | 0/330 [00:00<?, ?it/s]"
      ]
     },
     "metadata": {},
     "output_type": "display_data"
    },
    {
     "data": {
      "application/vnd.jupyter.widget-view+json": {
       "model_id": "02b4e8a340254021942f42c4453e8585",
       "version_major": 2,
       "version_minor": 0
      },
      "text/plain": [
       "Validation:   0%|          | 0/165 [00:00<?, ?it/s]"
      ]
     },
     "metadata": {},
     "output_type": "display_data"
    },
    {
     "name": "stdout",
     "output_type": "stream",
     "text": [
      "val_losses 0.2581383647340717\n",
      "EarlyStopping counter: 48 out of 50\n"
     ]
    },
    {
     "data": {
      "application/vnd.jupyter.widget-view+json": {
       "model_id": "517964b30d8f4972980bbde048671d26",
       "version_major": 2,
       "version_minor": 0
      },
      "text/plain": [
       "Training:   0%|          | 0/330 [00:00<?, ?it/s]"
      ]
     },
     "metadata": {},
     "output_type": "display_data"
    },
    {
     "data": {
      "application/vnd.jupyter.widget-view+json": {
       "model_id": "e2d192d1bde746b38ea0bccebecee978",
       "version_major": 2,
       "version_minor": 0
      },
      "text/plain": [
       "Validation:   0%|          | 0/165 [00:00<?, ?it/s]"
      ]
     },
     "metadata": {},
     "output_type": "display_data"
    },
    {
     "name": "stdout",
     "output_type": "stream",
     "text": [
      "val_losses 0.2558196989875851\n",
      "EarlyStopping counter: 49 out of 50\n"
     ]
    },
    {
     "data": {
      "application/vnd.jupyter.widget-view+json": {
       "model_id": "868735865b4d4e7ea8ce867f00c84eec",
       "version_major": 2,
       "version_minor": 0
      },
      "text/plain": [
       "Training:   0%|          | 0/330 [00:00<?, ?it/s]"
      ]
     },
     "metadata": {},
     "output_type": "display_data"
    },
    {
     "data": {
      "application/vnd.jupyter.widget-view+json": {
       "model_id": "ac371d074509445c99103426f7df66e1",
       "version_major": 2,
       "version_minor": 0
      },
      "text/plain": [
       "Validation:   0%|          | 0/165 [00:00<?, ?it/s]"
      ]
     },
     "metadata": {},
     "output_type": "display_data"
    },
    {
     "name": "stdout",
     "output_type": "stream",
     "text": [
      "val_losses 0.2570303019700628\n",
      "EarlyStopping counter: 50 out of 50\n",
      "early stopping epoch: 122\n",
      "***************************\n",
      "modelname:model_fold_1.ptを保存しました\n",
      "*************************************Test*************************************\n",
      "in constructor inchannel: 108\n",
      "Input channel count3\n",
      "model_dir =  model/20250616-MaskRCNN-v1.0.1-trial\n",
      "Creating image arrays...\n",
      "Number of label images: 12\n",
      "Completed creating image arrays:\n",
      "Dataset shape  (12, 256, 256, 108)\n",
      "Label image shape  (12, 256, 256)\n",
      "\n",
      "index =  0\n",
      "予測画像: /home/eric/Documents/cervicalResearchIIP/result_test/20250616-MaskRCNN-v1.0.1-trial/fold1/N1-2.png\n",
      "テストラベル: /home/eric/Documents/cervicalResearchIIP/img_1006t/labeled/N1-2.png\n",
      "index =  1\n",
      "予測画像: /home/eric/Documents/cervicalResearchIIP/result_test/20250616-MaskRCNN-v1.0.1-trial/fold1/N1-4.png\n",
      "テストラベル: /home/eric/Documents/cervicalResearchIIP/img_1006t/labeled/N1-4.png\n",
      "index =  2\n",
      "予測画像: /home/eric/Documents/cervicalResearchIIP/result_test/20250616-MaskRCNN-v1.0.1-trial/fold1/N1-6.png\n",
      "テストラベル: /home/eric/Documents/cervicalResearchIIP/img_1006t/labeled/N1-6.png\n",
      "index =  3\n",
      "予測画像: /home/eric/Documents/cervicalResearchIIP/result_test/20250616-MaskRCNN-v1.0.1-trial/fold1/N2-1.png\n",
      "テストラベル: /home/eric/Documents/cervicalResearchIIP/img_1006t/labeled/N2-1.png\n",
      "index =  4\n",
      "予測画像: /home/eric/Documents/cervicalResearchIIP/result_test/20250616-MaskRCNN-v1.0.1-trial/fold1/N2-2.png\n",
      "テストラベル: /home/eric/Documents/cervicalResearchIIP/img_1006t/labeled/N2-2.png\n",
      "index =  5\n",
      "予測画像: /home/eric/Documents/cervicalResearchIIP/result_test/20250616-MaskRCNN-v1.0.1-trial/fold1/N3-2.png\n",
      "テストラベル: /home/eric/Documents/cervicalResearchIIP/img_1006t/labeled/N3-2.png\n",
      "index =  6\n",
      "予測画像: /home/eric/Documents/cervicalResearchIIP/result_test/20250616-MaskRCNN-v1.0.1-trial/fold1/N3-3.png\n",
      "テストラベル: /home/eric/Documents/cervicalResearchIIP/img_1006t/labeled/N3-3.png\n",
      "index =  7\n",
      "予測画像: /home/eric/Documents/cervicalResearchIIP/result_test/20250616-MaskRCNN-v1.0.1-trial/fold1/N3-9.png\n",
      "テストラベル: /home/eric/Documents/cervicalResearchIIP/img_1006t/labeled/N3-9.png\n",
      "index =  8\n",
      "予測画像: /home/eric/Documents/cervicalResearchIIP/result_test/20250616-MaskRCNN-v1.0.1-trial/fold1/N4-1.png\n",
      "テストラベル: /home/eric/Documents/cervicalResearchIIP/img_1006t/labeled/N4-1.png\n",
      "index =  9\n",
      "予測画像: /home/eric/Documents/cervicalResearchIIP/result_test/20250616-MaskRCNN-v1.0.1-trial/fold1/N4-6.png\n",
      "テストラベル: /home/eric/Documents/cervicalResearchIIP/img_1006t/labeled/N4-6.png\n",
      "index =  10\n",
      "予測画像: /home/eric/Documents/cervicalResearchIIP/result_test/20250616-MaskRCNN-v1.0.1-trial/fold1/N5-1.png\n",
      "テストラベル: /home/eric/Documents/cervicalResearchIIP/img_1006t/labeled/N5-1.png\n",
      "index =  11\n",
      "予測画像: /home/eric/Documents/cervicalResearchIIP/result_test/20250616-MaskRCNN-v1.0.1-trial/fold1/N5-6.png\n",
      "テストラベル: /home/eric/Documents/cervicalResearchIIP/img_1006t/labeled/N5-6.png\n",
      "Count1 =  [699633, 13786, 8651, 9296, 6381, 8579, 6629, 8798, 6335, 12262, 6082]\n",
      "Count2 =  [704509, 13124, 8211, 8829, 6100, 8123, 5992, 8687, 5924, 11092, 5841]\n",
      "Count3 =  [690785, 11445, 7489, 7681, 5539, 7002, 5397, 6669, 4962, 8470, 4057]\n",
      "Dice =  [0.9839247027722268, 0.850613154960981, 0.8882694816747717, 0.8475586206896552, 0.8875891354859387, 0.8384624595856783, 0.8552412645590682, 0.762825278810409, 0.8095276939391467, 0.7253575404641603, 0.6805334227962762, 0.8145978052966085]\n",
      "All labels are within the valid range (0 to 10).\n",
      "All labels are within the valid range (0 to 10).\n",
      "All labels are within the valid range (0 to 10).\n",
      "All labels are within the valid range (0 to 10).\n",
      "All labels are within the valid range (0 to 10).\n",
      "All labels are within the valid range (0 to 10).\n",
      "All labels are within the valid range (0 to 10).\n",
      "All labels are within the valid range (0 to 10).\n",
      "All labels are within the valid range (0 to 10).\n",
      "All labels are within the valid range (0 to 10).\n",
      "All labels are within the valid range (0 to 10).\n",
      "All labels are within the valid range (0 to 10).\n",
      "index =  0\n",
      "予測画像: /home/eric/Documents/cervicalResearchIIP/result_test/20250616-MaskRCNN-v1.0.1-trial/fold1/crf/N1-2.png\n",
      "テストラベル: /home/eric/Documents/cervicalResearchIIP/img_1006t/labeled/N1-2.png\n",
      "index =  1\n",
      "予測画像: /home/eric/Documents/cervicalResearchIIP/result_test/20250616-MaskRCNN-v1.0.1-trial/fold1/crf/N1-4.png\n",
      "テストラベル: /home/eric/Documents/cervicalResearchIIP/img_1006t/labeled/N1-4.png\n",
      "index =  2\n",
      "予測画像: /home/eric/Documents/cervicalResearchIIP/result_test/20250616-MaskRCNN-v1.0.1-trial/fold1/crf/N1-6.png\n",
      "テストラベル: /home/eric/Documents/cervicalResearchIIP/img_1006t/labeled/N1-6.png\n",
      "index =  3\n",
      "予測画像: /home/eric/Documents/cervicalResearchIIP/result_test/20250616-MaskRCNN-v1.0.1-trial/fold1/crf/N2-1.png\n",
      "テストラベル: /home/eric/Documents/cervicalResearchIIP/img_1006t/labeled/N2-1.png\n",
      "index =  4\n",
      "予測画像: /home/eric/Documents/cervicalResearchIIP/result_test/20250616-MaskRCNN-v1.0.1-trial/fold1/crf/N2-2.png\n",
      "テストラベル: /home/eric/Documents/cervicalResearchIIP/img_1006t/labeled/N2-2.png\n",
      "index =  5\n",
      "予測画像: /home/eric/Documents/cervicalResearchIIP/result_test/20250616-MaskRCNN-v1.0.1-trial/fold1/crf/N3-2.png\n",
      "テストラベル: /home/eric/Documents/cervicalResearchIIP/img_1006t/labeled/N3-2.png\n",
      "index =  6\n",
      "予測画像: /home/eric/Documents/cervicalResearchIIP/result_test/20250616-MaskRCNN-v1.0.1-trial/fold1/crf/N3-3.png\n",
      "テストラベル: /home/eric/Documents/cervicalResearchIIP/img_1006t/labeled/N3-3.png\n",
      "index =  7\n",
      "予測画像: /home/eric/Documents/cervicalResearchIIP/result_test/20250616-MaskRCNN-v1.0.1-trial/fold1/crf/N3-9.png\n",
      "テストラベル: /home/eric/Documents/cervicalResearchIIP/img_1006t/labeled/N3-9.png\n",
      "index =  8\n",
      "予測画像: /home/eric/Documents/cervicalResearchIIP/result_test/20250616-MaskRCNN-v1.0.1-trial/fold1/crf/N4-1.png\n",
      "テストラベル: /home/eric/Documents/cervicalResearchIIP/img_1006t/labeled/N4-1.png\n",
      "index =  9\n",
      "予測画像: /home/eric/Documents/cervicalResearchIIP/result_test/20250616-MaskRCNN-v1.0.1-trial/fold1/crf/N4-6.png\n",
      "テストラベル: /home/eric/Documents/cervicalResearchIIP/img_1006t/labeled/N4-6.png\n",
      "index =  10\n",
      "予測画像: /home/eric/Documents/cervicalResearchIIP/result_test/20250616-MaskRCNN-v1.0.1-trial/fold1/crf/N5-1.png\n",
      "テストラベル: /home/eric/Documents/cervicalResearchIIP/img_1006t/labeled/N5-1.png\n",
      "index =  11\n",
      "予測画像: /home/eric/Documents/cervicalResearchIIP/result_test/20250616-MaskRCNN-v1.0.1-trial/fold1/crf/N5-6.png\n",
      "テストラベル: /home/eric/Documents/cervicalResearchIIP/img_1006t/labeled/N5-6.png\n",
      "Count1 =  [701867, 13623, 8528, 9140, 6239, 8583, 6402, 8625, 6138, 11565, 5722]\n",
      "Count2 =  [704509, 13124, 8211, 8829, 6100, 8123, 5992, 8687, 5924, 11092, 5841]\n",
      "Count3 =  [692575, 11453, 7490, 7654, 5543, 7018, 5389, 6651, 4974, 8376, 4026]\n",
      "Dice =  [0.9849073078607712, 0.8563951097319326, 0.8949160642810203, 0.8519116255773833, 0.8984520625658481, 0.840177181850832, 0.8696143295142811, 0.7683687615526802, 0.8247388492787265, 0.7393741448558945, 0.6963590763642653, 0.8240307205572864]\n",
      "Creating image paths...\n",
      "Processed 330 label paths and 330 feature paths.\n",
      "*************************Training*************************\n",
      "len(x) = 2\n",
      "x[0].shape = torch.Size([3, 256, 256])\n",
      "x[0].min(), x[0].max() = tensor(0.) tensor(1.)\n"
     ]
    },
    {
     "name": "stderr",
     "output_type": "stream",
     "text": [
      "/home/eric/anaconda3/envs/myenv/lib/python3.11/site-packages/torchvision/models/_utils.py:208: UserWarning: The parameter 'pretrained' is deprecated since 0.13 and may be removed in the future, please use 'weights' instead.\n",
      "  warnings.warn(\n",
      "/home/eric/anaconda3/envs/myenv/lib/python3.11/site-packages/torchvision/models/_utils.py:223: UserWarning: Arguments other than a weight enum or `None` for 'weights' are deprecated since 0.13 and may be removed in the future. The current behavior is equivalent to passing `weights=MaskRCNN_ResNet50_FPN_Weights.COCO_V1`. You can also use `weights=MaskRCNN_ResNet50_FPN_Weights.DEFAULT` to get the most up-to-date weights.\n",
      "  warnings.warn(msg)\n"
     ]
    },
    {
     "name": "stdout",
     "output_type": "stream",
     "text": [
      "=======start training======\n"
     ]
    },
    {
     "name": "stderr",
     "output_type": "stream",
     "text": [
      "/home/eric/anaconda3/envs/myenv/lib/python3.11/site-packages/torch/autograd/graph.py:744: UserWarning: Plan failed with a cudnnException: CUDNN_BACKEND_EXECUTION_PLAN_DESCRIPTOR: cudnnFinalize Descriptor Failed cudnn_status: CUDNN_STATUS_NOT_SUPPORTED (Triggered internally at ../aten/src/ATen/native/cudnn/Conv_v8.cpp:919.)\n",
      "  return Variable._execution_engine.run_backward(  # Calls into the C++ engine to run the backward pass\n"
     ]
    },
    {
     "name": "stdout",
     "output_type": "stream",
     "text": [
      "Epoch 0, loss: 0.2349\n",
      "Epoch 1, loss: 0.1501\n",
      "Epoch 2, loss: 0.1633\n",
      "Epoch 3, loss: 0.1349\n",
      "Epoch 4, loss: 0.1291\n",
      "Epoch 5, loss: 0.1128\n",
      "Epoch 6, loss: 0.1140\n",
      "Epoch 7, loss: 0.1218\n",
      "Epoch 8, loss: 0.1069\n",
      "Epoch 9, loss: 0.1305\n",
      "Epoch 10, loss: 0.1062\n",
      "Epoch 11, loss: 0.1186\n",
      "Epoch 12, loss: 0.0995\n",
      "Epoch 13, loss: 0.1083\n",
      "Epoch 14, loss: 0.0958\n",
      "Epoch 15, loss: 0.0998\n",
      "Epoch 16, loss: 0.0912\n",
      "Epoch 17, loss: 0.0964\n",
      "Epoch 18, loss: 0.0974\n",
      "Epoch 19, loss: 0.1100\n",
      "Epoch 20, loss: 0.0880\n",
      "Epoch 21, loss: 0.1036\n",
      "Epoch 22, loss: 0.0961\n",
      "Epoch 23, loss: 0.0915\n",
      "Epoch 24, loss: 0.0872\n",
      "Epoch 25, loss: 0.0990\n",
      "Epoch 26, loss: 0.0952\n",
      "Epoch 27, loss: 0.0991\n",
      "Epoch 28, loss: 0.1037\n",
      "Epoch 29, loss: 0.0938\n",
      "Epoch 30, loss: 0.1000\n",
      "Epoch 31, loss: 0.0947\n",
      "Epoch 32, loss: 0.0969\n",
      "Epoch 33, loss: 0.0940\n",
      "Epoch 34, loss: 0.0923\n",
      "Epoch 35, loss: 0.1177\n",
      "Epoch 36, loss: 0.0985\n",
      "Epoch 37, loss: 0.0926\n",
      "Epoch 38, loss: 0.0945\n",
      "Epoch 39, loss: 0.1110\n",
      "Epoch 40, loss: 0.1111\n",
      "Epoch 41, loss: 0.0884\n",
      "Epoch 42, loss: 0.0950\n",
      "Epoch 43, loss: 0.0986\n",
      "Epoch 44, loss: 0.0864\n",
      "Epoch 45, loss: 0.0930\n",
      "Epoch 46, loss: 0.0919\n",
      "Epoch 47, loss: 0.0952\n",
      "Epoch 48, loss: 0.0780\n",
      "Epoch 49, loss: 0.0976\n",
      "Epoch 50, loss: 0.0912\n",
      "Epoch 51, loss: 0.0890\n",
      "Epoch 52, loss: 0.0853\n",
      "Epoch 53, loss: 0.0966\n",
      "Epoch 54, loss: 0.0943\n",
      "Epoch 55, loss: 0.0835\n",
      "Epoch 56, loss: 0.0940\n",
      "Epoch 57, loss: 0.0926\n",
      "Epoch 58, loss: 0.1068\n",
      "Epoch 59, loss: 0.1048\n",
      "Epoch 60, loss: 0.0919\n",
      "Epoch 61, loss: 0.0900\n",
      "Epoch 62, loss: 0.0934\n",
      "Epoch 63, loss: 0.0888\n",
      "Epoch 64, loss: 0.1024\n",
      "Epoch 65, loss: 0.0959\n",
      "Epoch 66, loss: 0.0898\n",
      "Epoch 67, loss: 0.0949\n",
      "Epoch 68, loss: 0.0967\n",
      "Epoch 69, loss: 0.1006\n",
      "Epoch 70, loss: 0.0832\n",
      "Epoch 71, loss: 0.0942\n",
      "Epoch 72, loss: 0.0881\n",
      "Epoch 73, loss: 0.0912\n",
      "Epoch 74, loss: 0.1101\n",
      "Epoch 75, loss: 0.1007\n",
      "Epoch 76, loss: 0.0873\n",
      "Epoch 77, loss: 0.0972\n",
      "Epoch 78, loss: 0.0915\n",
      "Epoch 79, loss: 0.0990\n",
      "Epoch 80, loss: 0.0917\n",
      "Epoch 81, loss: 0.0921\n",
      "Epoch 82, loss: 0.0974\n",
      "Epoch 83, loss: 0.1068\n",
      "Epoch 84, loss: 0.0908\n",
      "Epoch 85, loss: 0.0965\n",
      "Epoch 86, loss: 0.1032\n",
      "Epoch 87, loss: 0.0913\n",
      "Epoch 88, loss: 0.0972\n",
      "Epoch 89, loss: 0.0980\n",
      "Epoch 90, loss: 0.0928\n",
      "Epoch 91, loss: 0.0901\n",
      "Epoch 92, loss: 0.1001\n",
      "Epoch 93, loss: 0.0866\n",
      "Epoch 94, loss: 0.0978\n",
      "Epoch 95, loss: 0.1015\n",
      "Epoch 96, loss: 0.0961\n",
      "Epoch 97, loss: 0.0968\n",
      "Epoch 98, loss: 0.0981\n",
      "Epoch 99, loss: 0.0936\n",
      "Validation Dice: 0.9491\n",
      "***************************\n",
      "modelname:model_mask_rcnn_fold_1.ptを保存しました\n",
      "*************************************Test*************************************\n",
      "model_dir =  model/20250616-MaskRCNN-v1.0.1-trial\n",
      "<class 'list'>\n",
      "index =  0\n",
      "予測画像: /home/eric/Documents/cervicalResearchIIP/result_test/20250616-MaskRCNN-v1.0.1-trial/fold1/crf//N1-2.png\n",
      "テストラベル: /home/eric/Documents/cervicalResearchIIP/img_1006t/labeled/N1-2.png\n",
      "index =  1\n",
      "予測画像: /home/eric/Documents/cervicalResearchIIP/result_test/20250616-MaskRCNN-v1.0.1-trial/fold1/crf//N1-4.png\n",
      "テストラベル: /home/eric/Documents/cervicalResearchIIP/img_1006t/labeled/N1-4.png\n",
      "index =  2\n",
      "予測画像: /home/eric/Documents/cervicalResearchIIP/result_test/20250616-MaskRCNN-v1.0.1-trial/fold1/crf//N1-6.png\n",
      "テストラベル: /home/eric/Documents/cervicalResearchIIP/img_1006t/labeled/N1-6.png\n",
      "index =  3\n",
      "予測画像: /home/eric/Documents/cervicalResearchIIP/result_test/20250616-MaskRCNN-v1.0.1-trial/fold1/crf//N2-1.png\n",
      "テストラベル: /home/eric/Documents/cervicalResearchIIP/img_1006t/labeled/N2-1.png\n",
      "index =  4\n",
      "予測画像: /home/eric/Documents/cervicalResearchIIP/result_test/20250616-MaskRCNN-v1.0.1-trial/fold1/crf//N2-2.png\n",
      "テストラベル: /home/eric/Documents/cervicalResearchIIP/img_1006t/labeled/N2-2.png\n",
      "index =  5\n",
      "予測画像: /home/eric/Documents/cervicalResearchIIP/result_test/20250616-MaskRCNN-v1.0.1-trial/fold1/crf//N3-2.png\n",
      "テストラベル: /home/eric/Documents/cervicalResearchIIP/img_1006t/labeled/N3-2.png\n",
      "index =  6\n",
      "予測画像: /home/eric/Documents/cervicalResearchIIP/result_test/20250616-MaskRCNN-v1.0.1-trial/fold1/crf//N3-3.png\n",
      "テストラベル: /home/eric/Documents/cervicalResearchIIP/img_1006t/labeled/N3-3.png\n",
      "index =  7\n",
      "予測画像: /home/eric/Documents/cervicalResearchIIP/result_test/20250616-MaskRCNN-v1.0.1-trial/fold1/crf//N3-9.png\n",
      "テストラベル: /home/eric/Documents/cervicalResearchIIP/img_1006t/labeled/N3-9.png\n",
      "index =  8\n",
      "予測画像: /home/eric/Documents/cervicalResearchIIP/result_test/20250616-MaskRCNN-v1.0.1-trial/fold1/crf//N4-1.png\n",
      "テストラベル: /home/eric/Documents/cervicalResearchIIP/img_1006t/labeled/N4-1.png\n",
      "index =  9\n",
      "予測画像: /home/eric/Documents/cervicalResearchIIP/result_test/20250616-MaskRCNN-v1.0.1-trial/fold1/crf//N4-6.png\n",
      "テストラベル: /home/eric/Documents/cervicalResearchIIP/img_1006t/labeled/N4-6.png\n",
      "index =  10\n",
      "予測画像: /home/eric/Documents/cervicalResearchIIP/result_test/20250616-MaskRCNN-v1.0.1-trial/fold1/crf//N5-1.png\n",
      "テストラベル: /home/eric/Documents/cervicalResearchIIP/img_1006t/labeled/N5-1.png\n",
      "index =  11\n",
      "予測画像: /home/eric/Documents/cervicalResearchIIP/result_test/20250616-MaskRCNN-v1.0.1-trial/fold1/crf//N5-6.png\n",
      "テストラベル: /home/eric/Documents/cervicalResearchIIP/img_1006t/labeled/N5-6.png\n",
      "Count1 =  [701437, 13672, 9439, 9633, 6008, 7995, 6116, 7817, 5867, 12714, 5734]\n",
      "Count2 =  [704509, 13124, 8211, 8829, 6100, 8123, 5992, 8687, 5924, 11092, 5841]\n",
      "Count3 =  [691944, 11655, 7636, 8077, 5419, 6785, 4969, 6654, 4347, 8399, 3945]\n",
      "Dice =  [0.984310919480549, 0.8699059561128527, 0.8652691218130312, 0.8749864586718665, 0.8951106706309878, 0.8419158704553915, 0.820779649818302, 0.8063499757634512, 0.7373420405393944, 0.70562043182391, 0.6816414686825054, 0.8098921644311693]\n",
      "Cross validation: True\n",
      "Fold: 2 out of 4\n",
      "Augmentation: True\n",
      "Augmentation amount: 30\n",
      "Training: Total of 22 cases.\n",
      "['N4-1' 'N3-1' 'N2-1' 'N3-4' 'N5-1' 'N2-6' 'N4-9' 'N1-5' 'N1-1' 'N1-2'\n",
      " 'N3-2' 'N2-4' 'N5-4' 'N2-2' 'N4-3' 'N1-10' 'N1-7' 'N3-9' 'N5-2' 'N3-5'\n",
      " 'N4-8' 'N2-7']\n",
      "Validation: Total of 12 cases.\n",
      "['N4-5' 'N3-8' 'N5-5' 'N4-6' 'N1-4' 'N2-9' 'N5-6' 'N4-2' 'N3-3' 'N2-8'\n",
      " 'N1-6' 'N2-3']\n",
      "Test: Total of 11 cases.\n",
      "['N1-3' 'N1-8' 'N1-9' 'N2-5' 'N2-10' 'N3-6' 'N3-7' 'N3-10' 'N4-4' 'N4-7'\n",
      " 'N5-3']\n",
      "\n",
      "Creating image paths...\n",
      "Processed 660 label paths and 660 feature paths.\n",
      "Creating image arrays...\n",
      "Number of label images: 360\n",
      "Completed creating image arrays:\n",
      "Dataset shape  (360, 256, 256, 108)\n",
      "Label image shape  (360, 256, 256)\n",
      "\n",
      "*************************Training*************************\n",
      "x.shape =  torch.Size([2, 108, 256, 256])\n",
      "x.min(), x.max() =  tensor(0.) tensor(1.)\n",
      "y.shape =  torch.Size([2, 256, 256])\n",
      "torch.unique(y) =  tensor([ 0,  1,  2,  3,  4,  5,  6,  7,  8,  9, 10])\n",
      "in constructor inchannel: 108\n",
      "Input channel count3\n",
      "=======start training======\n"
     ]
    },
    {
     "data": {
      "application/vnd.jupyter.widget-view+json": {
       "model_id": "6dc2f052b13949cfaa6ed4feab31c7c7",
       "version_major": 2,
       "version_minor": 0
      },
      "text/plain": [
       "Progress:   0%|          | 0/146 [00:00<?, ?it/s]"
      ]
     },
     "metadata": {},
     "output_type": "display_data"
    },
    {
     "data": {
      "application/vnd.jupyter.widget-view+json": {
       "model_id": "43a33c7f30cb4e75aa6cb567785a9358",
       "version_major": 2,
       "version_minor": 0
      },
      "text/plain": [
       "Training:   0%|          | 0/330 [00:00<?, ?it/s]"
      ]
     },
     "metadata": {},
     "output_type": "display_data"
    },
    {
     "data": {
      "application/vnd.jupyter.widget-view+json": {
       "model_id": "0c82367076754d2c86a5587bba6d8073",
       "version_major": 2,
       "version_minor": 0
      },
      "text/plain": [
       "Validation:   0%|          | 0/180 [00:00<?, ?it/s]"
      ]
     },
     "metadata": {},
     "output_type": "display_data"
    },
    {
     "name": "stdout",
     "output_type": "stream",
     "text": [
      "val_losses 1.4866664330164592\n",
      "Validation loss decreased (inf --> 1.486666).  Saving model ...\n"
     ]
    },
    {
     "data": {
      "application/vnd.jupyter.widget-view+json": {
       "model_id": "2bb8cc562233456393afa2950d044b5e",
       "version_major": 2,
       "version_minor": 0
      },
      "text/plain": [
       "Training:   0%|          | 0/330 [00:00<?, ?it/s]"
      ]
     },
     "metadata": {},
     "output_type": "display_data"
    },
    {
     "data": {
      "application/vnd.jupyter.widget-view+json": {
       "model_id": "5766fde948ad42b6bdbf911590ce9e1b",
       "version_major": 2,
       "version_minor": 0
      },
      "text/plain": [
       "Validation:   0%|          | 0/180 [00:00<?, ?it/s]"
      ]
     },
     "metadata": {},
     "output_type": "display_data"
    },
    {
     "name": "stdout",
     "output_type": "stream",
     "text": [
      "val_losses 1.103620171546936\n",
      "Validation loss decreased (1.486666 --> 1.103620).  Saving model ...\n"
     ]
    },
    {
     "data": {
      "application/vnd.jupyter.widget-view+json": {
       "model_id": "95b5e42358804c1b942874046e8eeca7",
       "version_major": 2,
       "version_minor": 0
      },
      "text/plain": [
       "Training:   0%|          | 0/330 [00:00<?, ?it/s]"
      ]
     },
     "metadata": {},
     "output_type": "display_data"
    },
    {
     "data": {
      "application/vnd.jupyter.widget-view+json": {
       "model_id": "93f7e0fe867c469eaa7fef2864b98ea6",
       "version_major": 2,
       "version_minor": 0
      },
      "text/plain": [
       "Validation:   0%|          | 0/180 [00:00<?, ?it/s]"
      ]
     },
     "metadata": {},
     "output_type": "display_data"
    },
    {
     "name": "stdout",
     "output_type": "stream",
     "text": [
      "val_losses 0.9129002610842387\n",
      "Validation loss decreased (1.103620 --> 0.912900).  Saving model ...\n"
     ]
    },
    {
     "data": {
      "application/vnd.jupyter.widget-view+json": {
       "model_id": "65be1dba199a4209ac491463021b200a",
       "version_major": 2,
       "version_minor": 0
      },
      "text/plain": [
       "Training:   0%|          | 0/330 [00:00<?, ?it/s]"
      ]
     },
     "metadata": {},
     "output_type": "display_data"
    },
    {
     "data": {
      "application/vnd.jupyter.widget-view+json": {
       "model_id": "b922233104c84111ba113e020cb294b0",
       "version_major": 2,
       "version_minor": 0
      },
      "text/plain": [
       "Validation:   0%|          | 0/180 [00:00<?, ?it/s]"
      ]
     },
     "metadata": {},
     "output_type": "display_data"
    },
    {
     "name": "stdout",
     "output_type": "stream",
     "text": [
      "val_losses 0.8189691220720609\n",
      "Validation loss decreased (0.912900 --> 0.818969).  Saving model ...\n"
     ]
    },
    {
     "data": {
      "application/vnd.jupyter.widget-view+json": {
       "model_id": "a97d0973465e4f56a8720cdf4d9951d3",
       "version_major": 2,
       "version_minor": 0
      },
      "text/plain": [
       "Training:   0%|          | 0/330 [00:00<?, ?it/s]"
      ]
     },
     "metadata": {},
     "output_type": "display_data"
    },
    {
     "data": {
      "application/vnd.jupyter.widget-view+json": {
       "model_id": "9ae57e848c2d4cef8378ecb58b7841d8",
       "version_major": 2,
       "version_minor": 0
      },
      "text/plain": [
       "Validation:   0%|          | 0/180 [00:00<?, ?it/s]"
      ]
     },
     "metadata": {},
     "output_type": "display_data"
    },
    {
     "name": "stdout",
     "output_type": "stream",
     "text": [
      "val_losses 0.7977296577559577\n",
      "Validation loss decreased (0.818969 --> 0.797730).  Saving model ...\n"
     ]
    },
    {
     "data": {
      "application/vnd.jupyter.widget-view+json": {
       "model_id": "c3f4888495a643698b7bd8785d0fcbe3",
       "version_major": 2,
       "version_minor": 0
      },
      "text/plain": [
       "Training:   0%|          | 0/330 [00:00<?, ?it/s]"
      ]
     },
     "metadata": {},
     "output_type": "display_data"
    },
    {
     "data": {
      "application/vnd.jupyter.widget-view+json": {
       "model_id": "89e002c22b4244c298418cd04da559c9",
       "version_major": 2,
       "version_minor": 0
      },
      "text/plain": [
       "Validation:   0%|          | 0/180 [00:00<?, ?it/s]"
      ]
     },
     "metadata": {},
     "output_type": "display_data"
    },
    {
     "name": "stdout",
     "output_type": "stream",
     "text": [
      "val_losses 0.7719212119777997\n",
      "Validation loss decreased (0.797730 --> 0.771921).  Saving model ...\n"
     ]
    },
    {
     "data": {
      "application/vnd.jupyter.widget-view+json": {
       "model_id": "2e577d58bb9048458925fc2c7f3412c0",
       "version_major": 2,
       "version_minor": 0
      },
      "text/plain": [
       "Training:   0%|          | 0/330 [00:00<?, ?it/s]"
      ]
     },
     "metadata": {},
     "output_type": "display_data"
    },
    {
     "data": {
      "application/vnd.jupyter.widget-view+json": {
       "model_id": "740c5fc6d0b649c8b8018b8b75dca150",
       "version_major": 2,
       "version_minor": 0
      },
      "text/plain": [
       "Validation:   0%|          | 0/180 [00:00<?, ?it/s]"
      ]
     },
     "metadata": {},
     "output_type": "display_data"
    },
    {
     "name": "stdout",
     "output_type": "stream",
     "text": [
      "val_losses 0.7787938581572639\n",
      "EarlyStopping counter: 1 out of 50\n"
     ]
    },
    {
     "data": {
      "application/vnd.jupyter.widget-view+json": {
       "model_id": "20d2534b93fb433ba9a77b20e1b9c9fc",
       "version_major": 2,
       "version_minor": 0
      },
      "text/plain": [
       "Training:   0%|          | 0/330 [00:00<?, ?it/s]"
      ]
     },
     "metadata": {},
     "output_type": "display_data"
    },
    {
     "data": {
      "application/vnd.jupyter.widget-view+json": {
       "model_id": "d46a3b299e75441cb975b9a75e341214",
       "version_major": 2,
       "version_minor": 0
      },
      "text/plain": [
       "Validation:   0%|          | 0/180 [00:00<?, ?it/s]"
      ]
     },
     "metadata": {},
     "output_type": "display_data"
    },
    {
     "name": "stdout",
     "output_type": "stream",
     "text": [
      "val_losses 0.7846273559663031\n",
      "EarlyStopping counter: 2 out of 50\n"
     ]
    },
    {
     "data": {
      "application/vnd.jupyter.widget-view+json": {
       "model_id": "035e33cd1a924c46a2ec1b0a0f293787",
       "version_major": 2,
       "version_minor": 0
      },
      "text/plain": [
       "Training:   0%|          | 0/330 [00:00<?, ?it/s]"
      ]
     },
     "metadata": {},
     "output_type": "display_data"
    },
    {
     "data": {
      "application/vnd.jupyter.widget-view+json": {
       "model_id": "47b6d87829b24751b116f37b80fd33db",
       "version_major": 2,
       "version_minor": 0
      },
      "text/plain": [
       "Validation:   0%|          | 0/180 [00:00<?, ?it/s]"
      ]
     },
     "metadata": {},
     "output_type": "display_data"
    },
    {
     "name": "stdout",
     "output_type": "stream",
     "text": [
      "val_losses 0.8208628640406661\n",
      "EarlyStopping counter: 3 out of 50\n"
     ]
    },
    {
     "data": {
      "application/vnd.jupyter.widget-view+json": {
       "model_id": "5966ef5751a342809c33fbd3d5f9a67a",
       "version_major": 2,
       "version_minor": 0
      },
      "text/plain": [
       "Training:   0%|          | 0/330 [00:00<?, ?it/s]"
      ]
     },
     "metadata": {},
     "output_type": "display_data"
    },
    {
     "data": {
      "application/vnd.jupyter.widget-view+json": {
       "model_id": "39bffa269b4d4cbdb2af82c12c5c7ea7",
       "version_major": 2,
       "version_minor": 0
      },
      "text/plain": [
       "Validation:   0%|          | 0/180 [00:00<?, ?it/s]"
      ]
     },
     "metadata": {},
     "output_type": "display_data"
    },
    {
     "name": "stdout",
     "output_type": "stream",
     "text": [
      "val_losses 0.8142082270648744\n",
      "EarlyStopping counter: 4 out of 50\n"
     ]
    },
    {
     "data": {
      "application/vnd.jupyter.widget-view+json": {
       "model_id": "176097fdbc724bc38f6b537ae46589c2",
       "version_major": 2,
       "version_minor": 0
      },
      "text/plain": [
       "Training:   0%|          | 0/330 [00:00<?, ?it/s]"
      ]
     },
     "metadata": {},
     "output_type": "display_data"
    },
    {
     "data": {
      "application/vnd.jupyter.widget-view+json": {
       "model_id": "26b846fcc43c4bffb9d611216735b520",
       "version_major": 2,
       "version_minor": 0
      },
      "text/plain": [
       "Validation:   0%|          | 0/180 [00:00<?, ?it/s]"
      ]
     },
     "metadata": {},
     "output_type": "display_data"
    },
    {
     "name": "stdout",
     "output_type": "stream",
     "text": [
      "val_losses 0.7903236912356483\n",
      "EarlyStopping counter: 5 out of 50\n"
     ]
    },
    {
     "data": {
      "application/vnd.jupyter.widget-view+json": {
       "model_id": "f681f2a753214c5a92d6eccd3d968185",
       "version_major": 2,
       "version_minor": 0
      },
      "text/plain": [
       "Training:   0%|          | 0/330 [00:00<?, ?it/s]"
      ]
     },
     "metadata": {},
     "output_type": "display_data"
    },
    {
     "data": {
      "application/vnd.jupyter.widget-view+json": {
       "model_id": "7729f761897d47848650f2efff6810bd",
       "version_major": 2,
       "version_minor": 0
      },
      "text/plain": [
       "Validation:   0%|          | 0/180 [00:00<?, ?it/s]"
      ]
     },
     "metadata": {},
     "output_type": "display_data"
    },
    {
     "name": "stdout",
     "output_type": "stream",
     "text": [
      "val_losses 0.8382055125302739\n",
      "EarlyStopping counter: 6 out of 50\n"
     ]
    },
    {
     "data": {
      "application/vnd.jupyter.widget-view+json": {
       "model_id": "68aca5c7cbfa491e8160f2fc956e0442",
       "version_major": 2,
       "version_minor": 0
      },
      "text/plain": [
       "Training:   0%|          | 0/330 [00:00<?, ?it/s]"
      ]
     },
     "metadata": {},
     "output_type": "display_data"
    },
    {
     "data": {
      "application/vnd.jupyter.widget-view+json": {
       "model_id": "e7873e46eaa34bb0aa6d601e4999ef4d",
       "version_major": 2,
       "version_minor": 0
      },
      "text/plain": [
       "Validation:   0%|          | 0/180 [00:00<?, ?it/s]"
      ]
     },
     "metadata": {},
     "output_type": "display_data"
    },
    {
     "name": "stdout",
     "output_type": "stream",
     "text": [
      "val_losses 0.8406727796627416\n",
      "EarlyStopping counter: 7 out of 50\n"
     ]
    },
    {
     "data": {
      "application/vnd.jupyter.widget-view+json": {
       "model_id": "9862f0f888d04e3fa731222fe05587ef",
       "version_major": 2,
       "version_minor": 0
      },
      "text/plain": [
       "Training:   0%|          | 0/330 [00:00<?, ?it/s]"
      ]
     },
     "metadata": {},
     "output_type": "display_data"
    },
    {
     "data": {
      "application/vnd.jupyter.widget-view+json": {
       "model_id": "0896d0a68c2c4d46a411f48d3b88e8f0",
       "version_major": 2,
       "version_minor": 0
      },
      "text/plain": [
       "Validation:   0%|          | 0/180 [00:00<?, ?it/s]"
      ]
     },
     "metadata": {},
     "output_type": "display_data"
    },
    {
     "name": "stdout",
     "output_type": "stream",
     "text": [
      "val_losses 0.8007620101173719\n",
      "EarlyStopping counter: 8 out of 50\n"
     ]
    },
    {
     "data": {
      "application/vnd.jupyter.widget-view+json": {
       "model_id": "cb93ba8b7cdd4c339c9a202eb390152c",
       "version_major": 2,
       "version_minor": 0
      },
      "text/plain": [
       "Training:   0%|          | 0/330 [00:00<?, ?it/s]"
      ]
     },
     "metadata": {},
     "output_type": "display_data"
    },
    {
     "data": {
      "application/vnd.jupyter.widget-view+json": {
       "model_id": "2c619fe1e9e3477e8d4c8505ee222f0e",
       "version_major": 2,
       "version_minor": 0
      },
      "text/plain": [
       "Validation:   0%|          | 0/180 [00:00<?, ?it/s]"
      ]
     },
     "metadata": {},
     "output_type": "display_data"
    },
    {
     "name": "stdout",
     "output_type": "stream",
     "text": [
      "val_losses 0.8680356043080489\n",
      "EarlyStopping counter: 9 out of 50\n"
     ]
    },
    {
     "data": {
      "application/vnd.jupyter.widget-view+json": {
       "model_id": "ed36fb9a66a845938d6aac2b0f7fdca3",
       "version_major": 2,
       "version_minor": 0
      },
      "text/plain": [
       "Training:   0%|          | 0/330 [00:00<?, ?it/s]"
      ]
     },
     "metadata": {},
     "output_type": "display_data"
    },
    {
     "data": {
      "application/vnd.jupyter.widget-view+json": {
       "model_id": "6ff03988217b403f8c7c9c881eb81a4c",
       "version_major": 2,
       "version_minor": 0
      },
      "text/plain": [
       "Validation:   0%|          | 0/180 [00:00<?, ?it/s]"
      ]
     },
     "metadata": {},
     "output_type": "display_data"
    },
    {
     "name": "stdout",
     "output_type": "stream",
     "text": [
      "val_losses 0.8717864770028326\n",
      "EarlyStopping counter: 10 out of 50\n"
     ]
    },
    {
     "data": {
      "application/vnd.jupyter.widget-view+json": {
       "model_id": "d8f8f3249b3d4ee8be45cd8c2a91ad6a",
       "version_major": 2,
       "version_minor": 0
      },
      "text/plain": [
       "Training:   0%|          | 0/330 [00:00<?, ?it/s]"
      ]
     },
     "metadata": {},
     "output_type": "display_data"
    },
    {
     "data": {
      "application/vnd.jupyter.widget-view+json": {
       "model_id": "60ba2beaba164a9981315e0834d74f2a",
       "version_major": 2,
       "version_minor": 0
      },
      "text/plain": [
       "Validation:   0%|          | 0/180 [00:00<?, ?it/s]"
      ]
     },
     "metadata": {},
     "output_type": "display_data"
    },
    {
     "name": "stdout",
     "output_type": "stream",
     "text": [
      "val_losses 0.8475930072367192\n",
      "EarlyStopping counter: 11 out of 50\n"
     ]
    },
    {
     "data": {
      "application/vnd.jupyter.widget-view+json": {
       "model_id": "ef7a6e5f402a43d3b4e8cf7618cfbf01",
       "version_major": 2,
       "version_minor": 0
      },
      "text/plain": [
       "Training:   0%|          | 0/330 [00:00<?, ?it/s]"
      ]
     },
     "metadata": {},
     "output_type": "display_data"
    },
    {
     "data": {
      "application/vnd.jupyter.widget-view+json": {
       "model_id": "c2313da97df54d8a9ca04c4dac732f2d",
       "version_major": 2,
       "version_minor": 0
      },
      "text/plain": [
       "Validation:   0%|          | 0/180 [00:00<?, ?it/s]"
      ]
     },
     "metadata": {},
     "output_type": "display_data"
    },
    {
     "name": "stdout",
     "output_type": "stream",
     "text": [
      "val_losses 0.8621986725264126\n",
      "EarlyStopping counter: 12 out of 50\n"
     ]
    },
    {
     "data": {
      "application/vnd.jupyter.widget-view+json": {
       "model_id": "d7fcc7e58fa34671ae7e0feb56e29c50",
       "version_major": 2,
       "version_minor": 0
      },
      "text/plain": [
       "Training:   0%|          | 0/330 [00:00<?, ?it/s]"
      ]
     },
     "metadata": {},
     "output_type": "display_data"
    },
    {
     "data": {
      "application/vnd.jupyter.widget-view+json": {
       "model_id": "f7416375f9a94c56aa057d03939f37de",
       "version_major": 2,
       "version_minor": 0
      },
      "text/plain": [
       "Validation:   0%|          | 0/180 [00:00<?, ?it/s]"
      ]
     },
     "metadata": {},
     "output_type": "display_data"
    },
    {
     "name": "stdout",
     "output_type": "stream",
     "text": [
      "val_losses 0.8764942354626126\n",
      "EarlyStopping counter: 13 out of 50\n"
     ]
    },
    {
     "data": {
      "application/vnd.jupyter.widget-view+json": {
       "model_id": "d0cb119132da4d70b70766724e1c7633",
       "version_major": 2,
       "version_minor": 0
      },
      "text/plain": [
       "Training:   0%|          | 0/330 [00:00<?, ?it/s]"
      ]
     },
     "metadata": {},
     "output_type": "display_data"
    },
    {
     "data": {
      "application/vnd.jupyter.widget-view+json": {
       "model_id": "f0863d24e594461fb45be8409182e0ee",
       "version_major": 2,
       "version_minor": 0
      },
      "text/plain": [
       "Validation:   0%|          | 0/180 [00:00<?, ?it/s]"
      ]
     },
     "metadata": {},
     "output_type": "display_data"
    },
    {
     "name": "stdout",
     "output_type": "stream",
     "text": [
      "val_losses 0.564899539657765\n",
      "Validation loss decreased (0.771921 --> 0.564900).  Saving model ...\n"
     ]
    },
    {
     "data": {
      "application/vnd.jupyter.widget-view+json": {
       "model_id": "8a1e1b237273488a9565670cc9b702b2",
       "version_major": 2,
       "version_minor": 0
      },
      "text/plain": [
       "Training:   0%|          | 0/330 [00:00<?, ?it/s]"
      ]
     },
     "metadata": {},
     "output_type": "display_data"
    },
    {
     "data": {
      "application/vnd.jupyter.widget-view+json": {
       "model_id": "fcc6570c51ae4393bf9f7a8083bb0812",
       "version_major": 2,
       "version_minor": 0
      },
      "text/plain": [
       "Validation:   0%|          | 0/180 [00:00<?, ?it/s]"
      ]
     },
     "metadata": {},
     "output_type": "display_data"
    },
    {
     "name": "stdout",
     "output_type": "stream",
     "text": [
      "val_losses 0.6089556210984787\n",
      "EarlyStopping counter: 1 out of 50\n"
     ]
    },
    {
     "data": {
      "application/vnd.jupyter.widget-view+json": {
       "model_id": "35c8d553b0334bcea9d06390adac57f4",
       "version_major": 2,
       "version_minor": 0
      },
      "text/plain": [
       "Training:   0%|          | 0/330 [00:00<?, ?it/s]"
      ]
     },
     "metadata": {},
     "output_type": "display_data"
    },
    {
     "data": {
      "application/vnd.jupyter.widget-view+json": {
       "model_id": "e825d63e98414dda90bd5549d6f56af3",
       "version_major": 2,
       "version_minor": 0
      },
      "text/plain": [
       "Validation:   0%|          | 0/180 [00:00<?, ?it/s]"
      ]
     },
     "metadata": {},
     "output_type": "display_data"
    },
    {
     "name": "stdout",
     "output_type": "stream",
     "text": [
      "val_losses 0.6759788777265284\n",
      "EarlyStopping counter: 2 out of 50\n"
     ]
    },
    {
     "data": {
      "application/vnd.jupyter.widget-view+json": {
       "model_id": "b231a55fed6c494ea106d6fce51a44a2",
       "version_major": 2,
       "version_minor": 0
      },
      "text/plain": [
       "Training:   0%|          | 0/330 [00:00<?, ?it/s]"
      ]
     },
     "metadata": {},
     "output_type": "display_data"
    },
    {
     "data": {
      "application/vnd.jupyter.widget-view+json": {
       "model_id": "67cd04dcaa7340b492bdee51a4ff3f33",
       "version_major": 2,
       "version_minor": 0
      },
      "text/plain": [
       "Validation:   0%|          | 0/180 [00:00<?, ?it/s]"
      ]
     },
     "metadata": {},
     "output_type": "display_data"
    },
    {
     "name": "stdout",
     "output_type": "stream",
     "text": [
      "val_losses 0.7363729638357958\n",
      "EarlyStopping counter: 3 out of 50\n"
     ]
    },
    {
     "data": {
      "application/vnd.jupyter.widget-view+json": {
       "model_id": "67fafbecab41498880fa2d7e66c655ed",
       "version_major": 2,
       "version_minor": 0
      },
      "text/plain": [
       "Training:   0%|          | 0/330 [00:00<?, ?it/s]"
      ]
     },
     "metadata": {},
     "output_type": "display_data"
    },
    {
     "data": {
      "application/vnd.jupyter.widget-view+json": {
       "model_id": "1f1047680fa14531bdae11148803f85f",
       "version_major": 2,
       "version_minor": 0
      },
      "text/plain": [
       "Validation:   0%|          | 0/180 [00:00<?, ?it/s]"
      ]
     },
     "metadata": {},
     "output_type": "display_data"
    },
    {
     "name": "stdout",
     "output_type": "stream",
     "text": [
      "val_losses 0.8055734038352966\n",
      "EarlyStopping counter: 4 out of 50\n"
     ]
    },
    {
     "data": {
      "application/vnd.jupyter.widget-view+json": {
       "model_id": "94554f4b44ca47cea6df281c44cc75a4",
       "version_major": 2,
       "version_minor": 0
      },
      "text/plain": [
       "Training:   0%|          | 0/330 [00:00<?, ?it/s]"
      ]
     },
     "metadata": {},
     "output_type": "display_data"
    },
    {
     "data": {
      "application/vnd.jupyter.widget-view+json": {
       "model_id": "f168bb5e9c914b139d2cacad3dd99466",
       "version_major": 2,
       "version_minor": 0
      },
      "text/plain": [
       "Validation:   0%|          | 0/180 [00:00<?, ?it/s]"
      ]
     },
     "metadata": {},
     "output_type": "display_data"
    },
    {
     "name": "stdout",
     "output_type": "stream",
     "text": [
      "val_losses 0.802146244669954\n",
      "EarlyStopping counter: 5 out of 50\n"
     ]
    },
    {
     "data": {
      "application/vnd.jupyter.widget-view+json": {
       "model_id": "ab6cdaf16e7a4eb48bad097f75e6edb8",
       "version_major": 2,
       "version_minor": 0
      },
      "text/plain": [
       "Training:   0%|          | 0/330 [00:00<?, ?it/s]"
      ]
     },
     "metadata": {},
     "output_type": "display_data"
    },
    {
     "data": {
      "application/vnd.jupyter.widget-view+json": {
       "model_id": "c3cda1f6fec147a585f662d34fe07c32",
       "version_major": 2,
       "version_minor": 0
      },
      "text/plain": [
       "Validation:   0%|          | 0/180 [00:00<?, ?it/s]"
      ]
     },
     "metadata": {},
     "output_type": "display_data"
    },
    {
     "name": "stdout",
     "output_type": "stream",
     "text": [
      "val_losses 0.8365647397935391\n",
      "EarlyStopping counter: 6 out of 50\n"
     ]
    },
    {
     "data": {
      "application/vnd.jupyter.widget-view+json": {
       "model_id": "fc68f065d4344016965245076f1f6a53",
       "version_major": 2,
       "version_minor": 0
      },
      "text/plain": [
       "Training:   0%|          | 0/330 [00:00<?, ?it/s]"
      ]
     },
     "metadata": {},
     "output_type": "display_data"
    },
    {
     "data": {
      "application/vnd.jupyter.widget-view+json": {
       "model_id": "dc0b55fc1afa4e1392255faa4a42a1f2",
       "version_major": 2,
       "version_minor": 0
      },
      "text/plain": [
       "Validation:   0%|          | 0/180 [00:00<?, ?it/s]"
      ]
     },
     "metadata": {},
     "output_type": "display_data"
    },
    {
     "name": "stdout",
     "output_type": "stream",
     "text": [
      "val_losses 0.8089358861247699\n",
      "EarlyStopping counter: 7 out of 50\n"
     ]
    },
    {
     "data": {
      "application/vnd.jupyter.widget-view+json": {
       "model_id": "de4270d4d9d34607932723c2f7de1144",
       "version_major": 2,
       "version_minor": 0
      },
      "text/plain": [
       "Training:   0%|          | 0/330 [00:00<?, ?it/s]"
      ]
     },
     "metadata": {},
     "output_type": "display_data"
    },
    {
     "data": {
      "application/vnd.jupyter.widget-view+json": {
       "model_id": "748d795f4eea42c5b2308483b5efb8bc",
       "version_major": 2,
       "version_minor": 0
      },
      "text/plain": [
       "Validation:   0%|          | 0/180 [00:00<?, ?it/s]"
      ]
     },
     "metadata": {},
     "output_type": "display_data"
    },
    {
     "name": "stdout",
     "output_type": "stream",
     "text": [
      "val_losses 0.8362168526483906\n",
      "EarlyStopping counter: 8 out of 50\n"
     ]
    },
    {
     "data": {
      "application/vnd.jupyter.widget-view+json": {
       "model_id": "fff1517b4a964e719cac9d35deadd09c",
       "version_major": 2,
       "version_minor": 0
      },
      "text/plain": [
       "Training:   0%|          | 0/330 [00:00<?, ?it/s]"
      ]
     },
     "metadata": {},
     "output_type": "display_data"
    },
    {
     "data": {
      "application/vnd.jupyter.widget-view+json": {
       "model_id": "77df51294df84d9c91f99f3e390f886d",
       "version_major": 2,
       "version_minor": 0
      },
      "text/plain": [
       "Validation:   0%|          | 0/180 [00:00<?, ?it/s]"
      ]
     },
     "metadata": {},
     "output_type": "display_data"
    },
    {
     "name": "stdout",
     "output_type": "stream",
     "text": [
      "val_losses 0.8259684400426017\n",
      "EarlyStopping counter: 9 out of 50\n"
     ]
    },
    {
     "data": {
      "application/vnd.jupyter.widget-view+json": {
       "model_id": "0d21eb0408ae4ba98ec11cfab2179e6b",
       "version_major": 2,
       "version_minor": 0
      },
      "text/plain": [
       "Training:   0%|          | 0/330 [00:00<?, ?it/s]"
      ]
     },
     "metadata": {},
     "output_type": "display_data"
    },
    {
     "data": {
      "application/vnd.jupyter.widget-view+json": {
       "model_id": "3d260c6c15ee459bb65f52867b0f5381",
       "version_major": 2,
       "version_minor": 0
      },
      "text/plain": [
       "Validation:   0%|          | 0/180 [00:00<?, ?it/s]"
      ]
     },
     "metadata": {},
     "output_type": "display_data"
    },
    {
     "name": "stdout",
     "output_type": "stream",
     "text": [
      "val_losses 0.847048080753949\n",
      "EarlyStopping counter: 10 out of 50\n"
     ]
    },
    {
     "data": {
      "application/vnd.jupyter.widget-view+json": {
       "model_id": "87c924a4eddb4f4f9da901bd50d5c0b0",
       "version_major": 2,
       "version_minor": 0
      },
      "text/plain": [
       "Training:   0%|          | 0/330 [00:00<?, ?it/s]"
      ]
     },
     "metadata": {},
     "output_type": "display_data"
    },
    {
     "data": {
      "application/vnd.jupyter.widget-view+json": {
       "model_id": "eee8d4852c7f4717b78202a50917a6d0",
       "version_major": 2,
       "version_minor": 0
      },
      "text/plain": [
       "Validation:   0%|          | 0/180 [00:00<?, ?it/s]"
      ]
     },
     "metadata": {},
     "output_type": "display_data"
    },
    {
     "name": "stdout",
     "output_type": "stream",
     "text": [
      "val_losses 0.8456790378938118\n",
      "EarlyStopping counter: 11 out of 50\n"
     ]
    },
    {
     "data": {
      "application/vnd.jupyter.widget-view+json": {
       "model_id": "b72112d5107b4b1a9f1dd5fce48f0ffa",
       "version_major": 2,
       "version_minor": 0
      },
      "text/plain": [
       "Training:   0%|          | 0/330 [00:00<?, ?it/s]"
      ]
     },
     "metadata": {},
     "output_type": "display_data"
    },
    {
     "data": {
      "application/vnd.jupyter.widget-view+json": {
       "model_id": "a07569d626b04de3b92f33e1bf8a4af0",
       "version_major": 2,
       "version_minor": 0
      },
      "text/plain": [
       "Validation:   0%|          | 0/180 [00:00<?, ?it/s]"
      ]
     },
     "metadata": {},
     "output_type": "display_data"
    },
    {
     "name": "stdout",
     "output_type": "stream",
     "text": [
      "val_losses 0.9260916079911921\n",
      "EarlyStopping counter: 12 out of 50\n"
     ]
    },
    {
     "data": {
      "application/vnd.jupyter.widget-view+json": {
       "model_id": "f926e674802d4cbaa55e7b3da2216b22",
       "version_major": 2,
       "version_minor": 0
      },
      "text/plain": [
       "Training:   0%|          | 0/330 [00:00<?, ?it/s]"
      ]
     },
     "metadata": {},
     "output_type": "display_data"
    },
    {
     "data": {
      "application/vnd.jupyter.widget-view+json": {
       "model_id": "7b0f54018bae4dcca4decf160947f911",
       "version_major": 2,
       "version_minor": 0
      },
      "text/plain": [
       "Validation:   0%|          | 0/180 [00:00<?, ?it/s]"
      ]
     },
     "metadata": {},
     "output_type": "display_data"
    },
    {
     "name": "stdout",
     "output_type": "stream",
     "text": [
      "val_losses 0.8744506460924943\n",
      "EarlyStopping counter: 13 out of 50\n"
     ]
    },
    {
     "data": {
      "application/vnd.jupyter.widget-view+json": {
       "model_id": "db1e0771e15e4ad6afc24eb4be604b0c",
       "version_major": 2,
       "version_minor": 0
      },
      "text/plain": [
       "Training:   0%|          | 0/330 [00:00<?, ?it/s]"
      ]
     },
     "metadata": {},
     "output_type": "display_data"
    },
    {
     "data": {
      "application/vnd.jupyter.widget-view+json": {
       "model_id": "c5a02e9f4c5c455e8407a7450cf0575d",
       "version_major": 2,
       "version_minor": 0
      },
      "text/plain": [
       "Validation:   0%|          | 0/180 [00:00<?, ?it/s]"
      ]
     },
     "metadata": {},
     "output_type": "display_data"
    },
    {
     "name": "stdout",
     "output_type": "stream",
     "text": [
      "val_losses 0.8909549590614106\n",
      "EarlyStopping counter: 14 out of 50\n"
     ]
    },
    {
     "data": {
      "application/vnd.jupyter.widget-view+json": {
       "model_id": "d74ad16f3b1e4415abd8cdfba37c271b",
       "version_major": 2,
       "version_minor": 0
      },
      "text/plain": [
       "Training:   0%|          | 0/330 [00:00<?, ?it/s]"
      ]
     },
     "metadata": {},
     "output_type": "display_data"
    },
    {
     "data": {
      "application/vnd.jupyter.widget-view+json": {
       "model_id": "cfbd83ae1c5f4cef9649df0885cad509",
       "version_major": 2,
       "version_minor": 0
      },
      "text/plain": [
       "Validation:   0%|          | 0/180 [00:00<?, ?it/s]"
      ]
     },
     "metadata": {},
     "output_type": "display_data"
    },
    {
     "name": "stdout",
     "output_type": "stream",
     "text": [
      "val_losses 0.8576006287915839\n",
      "EarlyStopping counter: 15 out of 50\n"
     ]
    },
    {
     "data": {
      "application/vnd.jupyter.widget-view+json": {
       "model_id": "b735c39515fe48dd81cad8f963c67ee0",
       "version_major": 2,
       "version_minor": 0
      },
      "text/plain": [
       "Training:   0%|          | 0/330 [00:00<?, ?it/s]"
      ]
     },
     "metadata": {},
     "output_type": "display_data"
    },
    {
     "data": {
      "application/vnd.jupyter.widget-view+json": {
       "model_id": "528ce9122e5f4d8485cdbb9864d0e3d2",
       "version_major": 2,
       "version_minor": 0
      },
      "text/plain": [
       "Validation:   0%|          | 0/180 [00:00<?, ?it/s]"
      ]
     },
     "metadata": {},
     "output_type": "display_data"
    },
    {
     "name": "stdout",
     "output_type": "stream",
     "text": [
      "val_losses 0.8806919610334767\n",
      "EarlyStopping counter: 16 out of 50\n"
     ]
    },
    {
     "data": {
      "application/vnd.jupyter.widget-view+json": {
       "model_id": "bb549848ac204460aaceb3943ac66ed5",
       "version_major": 2,
       "version_minor": 0
      },
      "text/plain": [
       "Training:   0%|          | 0/330 [00:00<?, ?it/s]"
      ]
     },
     "metadata": {},
     "output_type": "display_data"
    },
    {
     "data": {
      "application/vnd.jupyter.widget-view+json": {
       "model_id": "1ddcc0c1ec8543a89e4ebb4dcbba7f66",
       "version_major": 2,
       "version_minor": 0
      },
      "text/plain": [
       "Validation:   0%|          | 0/180 [00:00<?, ?it/s]"
      ]
     },
     "metadata": {},
     "output_type": "display_data"
    },
    {
     "name": "stdout",
     "output_type": "stream",
     "text": [
      "val_losses 0.8486820948620637\n",
      "EarlyStopping counter: 17 out of 50\n"
     ]
    },
    {
     "data": {
      "application/vnd.jupyter.widget-view+json": {
       "model_id": "1f7d932ec9184d4a9698c5ce6c55d02e",
       "version_major": 2,
       "version_minor": 0
      },
      "text/plain": [
       "Training:   0%|          | 0/330 [00:00<?, ?it/s]"
      ]
     },
     "metadata": {},
     "output_type": "display_data"
    },
    {
     "data": {
      "application/vnd.jupyter.widget-view+json": {
       "model_id": "7e3d5575bf8c438a8672c037c10c0055",
       "version_major": 2,
       "version_minor": 0
      },
      "text/plain": [
       "Validation:   0%|          | 0/180 [00:00<?, ?it/s]"
      ]
     },
     "metadata": {},
     "output_type": "display_data"
    },
    {
     "name": "stdout",
     "output_type": "stream",
     "text": [
      "val_losses 0.8637669948240121\n",
      "EarlyStopping counter: 18 out of 50\n"
     ]
    },
    {
     "data": {
      "application/vnd.jupyter.widget-view+json": {
       "model_id": "6aebd658c30941ca8d29c64e8849b151",
       "version_major": 2,
       "version_minor": 0
      },
      "text/plain": [
       "Training:   0%|          | 0/330 [00:00<?, ?it/s]"
      ]
     },
     "metadata": {},
     "output_type": "display_data"
    },
    {
     "data": {
      "application/vnd.jupyter.widget-view+json": {
       "model_id": "374d34ebebba425ba7231a2d09a14b99",
       "version_major": 2,
       "version_minor": 0
      },
      "text/plain": [
       "Validation:   0%|          | 0/180 [00:00<?, ?it/s]"
      ]
     },
     "metadata": {},
     "output_type": "display_data"
    },
    {
     "name": "stdout",
     "output_type": "stream",
     "text": [
      "val_losses 0.8883856722878085\n",
      "EarlyStopping counter: 19 out of 50\n"
     ]
    },
    {
     "data": {
      "application/vnd.jupyter.widget-view+json": {
       "model_id": "e62271d23796450dadeb977cc2271165",
       "version_major": 2,
       "version_minor": 0
      },
      "text/plain": [
       "Training:   0%|          | 0/330 [00:00<?, ?it/s]"
      ]
     },
     "metadata": {},
     "output_type": "display_data"
    },
    {
     "data": {
      "application/vnd.jupyter.widget-view+json": {
       "model_id": "10153cd9af0b45e0981a1b70fb2b95f9",
       "version_major": 2,
       "version_minor": 0
      },
      "text/plain": [
       "Validation:   0%|          | 0/180 [00:00<?, ?it/s]"
      ]
     },
     "metadata": {},
     "output_type": "display_data"
    },
    {
     "name": "stdout",
     "output_type": "stream",
     "text": [
      "val_losses 0.509798280791276\n",
      "Validation loss decreased (0.564900 --> 0.509798).  Saving model ...\n"
     ]
    },
    {
     "data": {
      "application/vnd.jupyter.widget-view+json": {
       "model_id": "cba2eab89cd14ad5939ca8465838e77b",
       "version_major": 2,
       "version_minor": 0
      },
      "text/plain": [
       "Training:   0%|          | 0/330 [00:00<?, ?it/s]"
      ]
     },
     "metadata": {},
     "output_type": "display_data"
    },
    {
     "data": {
      "application/vnd.jupyter.widget-view+json": {
       "model_id": "fc07d298ffb14b4dbc96541277c2fcff",
       "version_major": 2,
       "version_minor": 0
      },
      "text/plain": [
       "Validation:   0%|          | 0/180 [00:00<?, ?it/s]"
      ]
     },
     "metadata": {},
     "output_type": "display_data"
    },
    {
     "name": "stdout",
     "output_type": "stream",
     "text": [
      "val_losses 0.6753599137895637\n",
      "EarlyStopping counter: 1 out of 50\n"
     ]
    },
    {
     "data": {
      "application/vnd.jupyter.widget-view+json": {
       "model_id": "5661d9b2bba84ad5be0ab5c8331bad10",
       "version_major": 2,
       "version_minor": 0
      },
      "text/plain": [
       "Training:   0%|          | 0/330 [00:00<?, ?it/s]"
      ]
     },
     "metadata": {},
     "output_type": "display_data"
    },
    {
     "data": {
      "application/vnd.jupyter.widget-view+json": {
       "model_id": "870b774f5639466fa0ff227521b609b9",
       "version_major": 2,
       "version_minor": 0
      },
      "text/plain": [
       "Validation:   0%|          | 0/180 [00:00<?, ?it/s]"
      ]
     },
     "metadata": {},
     "output_type": "display_data"
    },
    {
     "name": "stdout",
     "output_type": "stream",
     "text": [
      "val_losses 0.710111908076538\n",
      "EarlyStopping counter: 2 out of 50\n"
     ]
    },
    {
     "data": {
      "application/vnd.jupyter.widget-view+json": {
       "model_id": "8e0df36d022a4cb5b4d587016fd3834c",
       "version_major": 2,
       "version_minor": 0
      },
      "text/plain": [
       "Training:   0%|          | 0/330 [00:00<?, ?it/s]"
      ]
     },
     "metadata": {},
     "output_type": "display_data"
    },
    {
     "data": {
      "application/vnd.jupyter.widget-view+json": {
       "model_id": "b5c7279e2dc449839ac3c2a92bc4f6da",
       "version_major": 2,
       "version_minor": 0
      },
      "text/plain": [
       "Validation:   0%|          | 0/180 [00:00<?, ?it/s]"
      ]
     },
     "metadata": {},
     "output_type": "display_data"
    },
    {
     "name": "stdout",
     "output_type": "stream",
     "text": [
      "val_losses 0.7575908276355929\n",
      "EarlyStopping counter: 3 out of 50\n"
     ]
    },
    {
     "data": {
      "application/vnd.jupyter.widget-view+json": {
       "model_id": "5e39a881f3d04303b4497bb9e45626e4",
       "version_major": 2,
       "version_minor": 0
      },
      "text/plain": [
       "Training:   0%|          | 0/330 [00:00<?, ?it/s]"
      ]
     },
     "metadata": {},
     "output_type": "display_data"
    },
    {
     "data": {
      "application/vnd.jupyter.widget-view+json": {
       "model_id": "0a7ce97f8282435caee6808a02611d33",
       "version_major": 2,
       "version_minor": 0
      },
      "text/plain": [
       "Validation:   0%|          | 0/180 [00:00<?, ?it/s]"
      ]
     },
     "metadata": {},
     "output_type": "display_data"
    },
    {
     "name": "stdout",
     "output_type": "stream",
     "text": [
      "val_losses 0.7755520780467324\n",
      "EarlyStopping counter: 4 out of 50\n"
     ]
    },
    {
     "data": {
      "application/vnd.jupyter.widget-view+json": {
       "model_id": "308aa89ffdee4367af58d432a4470e46",
       "version_major": 2,
       "version_minor": 0
      },
      "text/plain": [
       "Training:   0%|          | 0/330 [00:00<?, ?it/s]"
      ]
     },
     "metadata": {},
     "output_type": "display_data"
    },
    {
     "data": {
      "application/vnd.jupyter.widget-view+json": {
       "model_id": "59eed1a8de874c5e8fb9c23cb5919134",
       "version_major": 2,
       "version_minor": 0
      },
      "text/plain": [
       "Validation:   0%|          | 0/180 [00:00<?, ?it/s]"
      ]
     },
     "metadata": {},
     "output_type": "display_data"
    },
    {
     "name": "stdout",
     "output_type": "stream",
     "text": [
      "val_losses 0.8353863870104153\n",
      "EarlyStopping counter: 5 out of 50\n"
     ]
    },
    {
     "data": {
      "application/vnd.jupyter.widget-view+json": {
       "model_id": "ca9c620926484064a9bfec9132b5f616",
       "version_major": 2,
       "version_minor": 0
      },
      "text/plain": [
       "Training:   0%|          | 0/330 [00:00<?, ?it/s]"
      ]
     },
     "metadata": {},
     "output_type": "display_data"
    },
    {
     "data": {
      "application/vnd.jupyter.widget-view+json": {
       "model_id": "c262b21aa0be42e0b724938e35eaff36",
       "version_major": 2,
       "version_minor": 0
      },
      "text/plain": [
       "Validation:   0%|          | 0/180 [00:00<?, ?it/s]"
      ]
     },
     "metadata": {},
     "output_type": "display_data"
    },
    {
     "name": "stdout",
     "output_type": "stream",
     "text": [
      "val_losses 0.818055076400439\n",
      "EarlyStopping counter: 6 out of 50\n"
     ]
    },
    {
     "data": {
      "application/vnd.jupyter.widget-view+json": {
       "model_id": "541629ff692d4759815f0b7280eefd75",
       "version_major": 2,
       "version_minor": 0
      },
      "text/plain": [
       "Training:   0%|          | 0/330 [00:00<?, ?it/s]"
      ]
     },
     "metadata": {},
     "output_type": "display_data"
    },
    {
     "data": {
      "application/vnd.jupyter.widget-view+json": {
       "model_id": "c8dc84fab9634a3e95750b18ecfc62c0",
       "version_major": 2,
       "version_minor": 0
      },
      "text/plain": [
       "Validation:   0%|          | 0/180 [00:00<?, ?it/s]"
      ]
     },
     "metadata": {},
     "output_type": "display_data"
    },
    {
     "name": "stdout",
     "output_type": "stream",
     "text": [
      "val_losses 0.8291076089358992\n",
      "EarlyStopping counter: 7 out of 50\n"
     ]
    },
    {
     "data": {
      "application/vnd.jupyter.widget-view+json": {
       "model_id": "4aaff56899ba441a8265d3d04cf03dca",
       "version_major": 2,
       "version_minor": 0
      },
      "text/plain": [
       "Training:   0%|          | 0/330 [00:00<?, ?it/s]"
      ]
     },
     "metadata": {},
     "output_type": "display_data"
    },
    {
     "data": {
      "application/vnd.jupyter.widget-view+json": {
       "model_id": "1bfd9f1b0bc1486a841d9f08a07e9f42",
       "version_major": 2,
       "version_minor": 0
      },
      "text/plain": [
       "Validation:   0%|          | 0/180 [00:00<?, ?it/s]"
      ]
     },
     "metadata": {},
     "output_type": "display_data"
    },
    {
     "name": "stdout",
     "output_type": "stream",
     "text": [
      "val_losses 0.8556780363536544\n",
      "EarlyStopping counter: 8 out of 50\n"
     ]
    },
    {
     "data": {
      "application/vnd.jupyter.widget-view+json": {
       "model_id": "86736788abf040ad8f8101a7168013c7",
       "version_major": 2,
       "version_minor": 0
      },
      "text/plain": [
       "Training:   0%|          | 0/330 [00:00<?, ?it/s]"
      ]
     },
     "metadata": {},
     "output_type": "display_data"
    },
    {
     "data": {
      "application/vnd.jupyter.widget-view+json": {
       "model_id": "59e45e354fdd4cba8562173103a93861",
       "version_major": 2,
       "version_minor": 0
      },
      "text/plain": [
       "Validation:   0%|          | 0/180 [00:00<?, ?it/s]"
      ]
     },
     "metadata": {},
     "output_type": "display_data"
    },
    {
     "name": "stdout",
     "output_type": "stream",
     "text": [
      "val_losses 0.8479947158031993\n",
      "EarlyStopping counter: 9 out of 50\n"
     ]
    },
    {
     "data": {
      "application/vnd.jupyter.widget-view+json": {
       "model_id": "108c5f0b39944878bb75f7c3a8ed7d87",
       "version_major": 2,
       "version_minor": 0
      },
      "text/plain": [
       "Training:   0%|          | 0/330 [00:00<?, ?it/s]"
      ]
     },
     "metadata": {},
     "output_type": "display_data"
    },
    {
     "data": {
      "application/vnd.jupyter.widget-view+json": {
       "model_id": "6100698209e3420aa1ba8837cd5df5e7",
       "version_major": 2,
       "version_minor": 0
      },
      "text/plain": [
       "Validation:   0%|          | 0/180 [00:00<?, ?it/s]"
      ]
     },
     "metadata": {},
     "output_type": "display_data"
    },
    {
     "name": "stdout",
     "output_type": "stream",
     "text": [
      "val_losses 0.845920276766022\n",
      "EarlyStopping counter: 10 out of 50\n"
     ]
    },
    {
     "data": {
      "application/vnd.jupyter.widget-view+json": {
       "model_id": "a1f371225133404c9bb0602bcf3f269d",
       "version_major": 2,
       "version_minor": 0
      },
      "text/plain": [
       "Training:   0%|          | 0/330 [00:00<?, ?it/s]"
      ]
     },
     "metadata": {},
     "output_type": "display_data"
    },
    {
     "data": {
      "application/vnd.jupyter.widget-view+json": {
       "model_id": "9d0fa7f01b4d417086736723c0c07a1d",
       "version_major": 2,
       "version_minor": 0
      },
      "text/plain": [
       "Validation:   0%|          | 0/180 [00:00<?, ?it/s]"
      ]
     },
     "metadata": {},
     "output_type": "display_data"
    },
    {
     "name": "stdout",
     "output_type": "stream",
     "text": [
      "val_losses 0.36667958634595077\n",
      "Validation loss decreased (0.509798 --> 0.366680).  Saving model ...\n"
     ]
    },
    {
     "data": {
      "application/vnd.jupyter.widget-view+json": {
       "model_id": "7ac0dbcada1b45f5814f88949e7676b0",
       "version_major": 2,
       "version_minor": 0
      },
      "text/plain": [
       "Training:   0%|          | 0/330 [00:00<?, ?it/s]"
      ]
     },
     "metadata": {},
     "output_type": "display_data"
    },
    {
     "data": {
      "application/vnd.jupyter.widget-view+json": {
       "model_id": "8991a53bf2fe4b2e8c0da660ff81be6c",
       "version_major": 2,
       "version_minor": 0
      },
      "text/plain": [
       "Validation:   0%|          | 0/180 [00:00<?, ?it/s]"
      ]
     },
     "metadata": {},
     "output_type": "display_data"
    },
    {
     "name": "stdout",
     "output_type": "stream",
     "text": [
      "val_losses 0.43743924475792384\n",
      "EarlyStopping counter: 1 out of 50\n"
     ]
    },
    {
     "data": {
      "application/vnd.jupyter.widget-view+json": {
       "model_id": "6caa15679e6941e18e215eba9a28bfd7",
       "version_major": 2,
       "version_minor": 0
      },
      "text/plain": [
       "Training:   0%|          | 0/330 [00:00<?, ?it/s]"
      ]
     },
     "metadata": {},
     "output_type": "display_data"
    },
    {
     "data": {
      "application/vnd.jupyter.widget-view+json": {
       "model_id": "810461f23705417dbf04de22e9d76f3f",
       "version_major": 2,
       "version_minor": 0
      },
      "text/plain": [
       "Validation:   0%|          | 0/180 [00:00<?, ?it/s]"
      ]
     },
     "metadata": {},
     "output_type": "display_data"
    },
    {
     "name": "stdout",
     "output_type": "stream",
     "text": [
      "val_losses 0.5226262801844213\n",
      "EarlyStopping counter: 2 out of 50\n"
     ]
    },
    {
     "data": {
      "application/vnd.jupyter.widget-view+json": {
       "model_id": "c8aef87c369b4ce98a11eb8a49190539",
       "version_major": 2,
       "version_minor": 0
      },
      "text/plain": [
       "Training:   0%|          | 0/330 [00:00<?, ?it/s]"
      ]
     },
     "metadata": {},
     "output_type": "display_data"
    },
    {
     "data": {
      "application/vnd.jupyter.widget-view+json": {
       "model_id": "2b389d0b620045669daafcfb972c4112",
       "version_major": 2,
       "version_minor": 0
      },
      "text/plain": [
       "Validation:   0%|          | 0/180 [00:00<?, ?it/s]"
      ]
     },
     "metadata": {},
     "output_type": "display_data"
    },
    {
     "name": "stdout",
     "output_type": "stream",
     "text": [
      "val_losses 0.578098844902383\n",
      "EarlyStopping counter: 3 out of 50\n"
     ]
    },
    {
     "data": {
      "application/vnd.jupyter.widget-view+json": {
       "model_id": "5dda464174464e909bc2a8b6a445d948",
       "version_major": 2,
       "version_minor": 0
      },
      "text/plain": [
       "Training:   0%|          | 0/330 [00:00<?, ?it/s]"
      ]
     },
     "metadata": {},
     "output_type": "display_data"
    },
    {
     "data": {
      "application/vnd.jupyter.widget-view+json": {
       "model_id": "be6948df5fc54eaf9b93a48183501c5d",
       "version_major": 2,
       "version_minor": 0
      },
      "text/plain": [
       "Validation:   0%|          | 0/180 [00:00<?, ?it/s]"
      ]
     },
     "metadata": {},
     "output_type": "display_data"
    },
    {
     "name": "stdout",
     "output_type": "stream",
     "text": [
      "val_losses 0.6031028485546509\n",
      "EarlyStopping counter: 4 out of 50\n"
     ]
    },
    {
     "data": {
      "application/vnd.jupyter.widget-view+json": {
       "model_id": "1f4b1de1137341639e41924a9fb9355e",
       "version_major": 2,
       "version_minor": 0
      },
      "text/plain": [
       "Training:   0%|          | 0/330 [00:00<?, ?it/s]"
      ]
     },
     "metadata": {},
     "output_type": "display_data"
    },
    {
     "data": {
      "application/vnd.jupyter.widget-view+json": {
       "model_id": "0585f23cba9b4e4a8f9efa3ae13916f4",
       "version_major": 2,
       "version_minor": 0
      },
      "text/plain": [
       "Validation:   0%|          | 0/180 [00:00<?, ?it/s]"
      ]
     },
     "metadata": {},
     "output_type": "display_data"
    },
    {
     "name": "stdout",
     "output_type": "stream",
     "text": [
      "val_losses 0.659557311816348\n",
      "EarlyStopping counter: 5 out of 50\n"
     ]
    },
    {
     "data": {
      "application/vnd.jupyter.widget-view+json": {
       "model_id": "9904ed0d9295414eabadfeb7d8f4295c",
       "version_major": 2,
       "version_minor": 0
      },
      "text/plain": [
       "Training:   0%|          | 0/330 [00:00<?, ?it/s]"
      ]
     },
     "metadata": {},
     "output_type": "display_data"
    },
    {
     "data": {
      "application/vnd.jupyter.widget-view+json": {
       "model_id": "7c436657e4e243429cea6415f9b7f202",
       "version_major": 2,
       "version_minor": 0
      },
      "text/plain": [
       "Validation:   0%|          | 0/180 [00:00<?, ?it/s]"
      ]
     },
     "metadata": {},
     "output_type": "display_data"
    },
    {
     "name": "stdout",
     "output_type": "stream",
     "text": [
      "val_losses 0.6428292507926623\n",
      "EarlyStopping counter: 6 out of 50\n"
     ]
    },
    {
     "data": {
      "application/vnd.jupyter.widget-view+json": {
       "model_id": "245a921fe2824098a4f5ab52ebb83e0f",
       "version_major": 2,
       "version_minor": 0
      },
      "text/plain": [
       "Training:   0%|          | 0/330 [00:00<?, ?it/s]"
      ]
     },
     "metadata": {},
     "output_type": "display_data"
    },
    {
     "data": {
      "application/vnd.jupyter.widget-view+json": {
       "model_id": "4ceb8f29f2e64754aed9de3b19eb2433",
       "version_major": 2,
       "version_minor": 0
      },
      "text/plain": [
       "Validation:   0%|          | 0/180 [00:00<?, ?it/s]"
      ]
     },
     "metadata": {},
     "output_type": "display_data"
    },
    {
     "name": "stdout",
     "output_type": "stream",
     "text": [
      "val_losses 0.6692294947389099\n",
      "EarlyStopping counter: 7 out of 50\n"
     ]
    },
    {
     "data": {
      "application/vnd.jupyter.widget-view+json": {
       "model_id": "ce9c39fbedee4fc9b96e753e87a2e772",
       "version_major": 2,
       "version_minor": 0
      },
      "text/plain": [
       "Training:   0%|          | 0/330 [00:00<?, ?it/s]"
      ]
     },
     "metadata": {},
     "output_type": "display_data"
    },
    {
     "data": {
      "application/vnd.jupyter.widget-view+json": {
       "model_id": "47d3a0f4744b4d44a4bffea50da727bd",
       "version_major": 2,
       "version_minor": 0
      },
      "text/plain": [
       "Validation:   0%|          | 0/180 [00:00<?, ?it/s]"
      ]
     },
     "metadata": {},
     "output_type": "display_data"
    },
    {
     "name": "stdout",
     "output_type": "stream",
     "text": [
      "val_losses 0.7211818723214998\n",
      "EarlyStopping counter: 8 out of 50\n"
     ]
    },
    {
     "data": {
      "application/vnd.jupyter.widget-view+json": {
       "model_id": "95c6115231e546c48ce04a17ca341add",
       "version_major": 2,
       "version_minor": 0
      },
      "text/plain": [
       "Training:   0%|          | 0/330 [00:00<?, ?it/s]"
      ]
     },
     "metadata": {},
     "output_type": "display_data"
    },
    {
     "data": {
      "application/vnd.jupyter.widget-view+json": {
       "model_id": "9dc19eea2f394f66a0c904b57eeed125",
       "version_major": 2,
       "version_minor": 0
      },
      "text/plain": [
       "Validation:   0%|          | 0/180 [00:00<?, ?it/s]"
      ]
     },
     "metadata": {},
     "output_type": "display_data"
    },
    {
     "name": "stdout",
     "output_type": "stream",
     "text": [
      "val_losses 0.7213009083850517\n",
      "EarlyStopping counter: 9 out of 50\n"
     ]
    },
    {
     "data": {
      "application/vnd.jupyter.widget-view+json": {
       "model_id": "7a169643bd3d4a41aa8e75adf4dbad23",
       "version_major": 2,
       "version_minor": 0
      },
      "text/plain": [
       "Training:   0%|          | 0/330 [00:00<?, ?it/s]"
      ]
     },
     "metadata": {},
     "output_type": "display_data"
    },
    {
     "data": {
      "application/vnd.jupyter.widget-view+json": {
       "model_id": "15ac8180ab724b078a19b853daf171e0",
       "version_major": 2,
       "version_minor": 0
      },
      "text/plain": [
       "Validation:   0%|          | 0/180 [00:00<?, ?it/s]"
      ]
     },
     "metadata": {},
     "output_type": "display_data"
    },
    {
     "name": "stdout",
     "output_type": "stream",
     "text": [
      "val_losses 0.7123061248825656\n",
      "EarlyStopping counter: 10 out of 50\n"
     ]
    },
    {
     "data": {
      "application/vnd.jupyter.widget-view+json": {
       "model_id": "51ebb17747c44a15900696430b6c4c39",
       "version_major": 2,
       "version_minor": 0
      },
      "text/plain": [
       "Training:   0%|          | 0/330 [00:00<?, ?it/s]"
      ]
     },
     "metadata": {},
     "output_type": "display_data"
    },
    {
     "data": {
      "application/vnd.jupyter.widget-view+json": {
       "model_id": "2b715d70241b424881fb67452ee6fb00",
       "version_major": 2,
       "version_minor": 0
      },
      "text/plain": [
       "Validation:   0%|          | 0/180 [00:00<?, ?it/s]"
      ]
     },
     "metadata": {},
     "output_type": "display_data"
    },
    {
     "name": "stdout",
     "output_type": "stream",
     "text": [
      "val_losses 0.7045641850266192\n",
      "EarlyStopping counter: 11 out of 50\n"
     ]
    },
    {
     "data": {
      "application/vnd.jupyter.widget-view+json": {
       "model_id": "ab17ca3a9d3143259f76d1af797b6773",
       "version_major": 2,
       "version_minor": 0
      },
      "text/plain": [
       "Training:   0%|          | 0/330 [00:00<?, ?it/s]"
      ]
     },
     "metadata": {},
     "output_type": "display_data"
    },
    {
     "data": {
      "application/vnd.jupyter.widget-view+json": {
       "model_id": "d8108baf46e6420da376db0add9c1ad1",
       "version_major": 2,
       "version_minor": 0
      },
      "text/plain": [
       "Validation:   0%|          | 0/180 [00:00<?, ?it/s]"
      ]
     },
     "metadata": {},
     "output_type": "display_data"
    },
    {
     "name": "stdout",
     "output_type": "stream",
     "text": [
      "val_losses 0.7330225252856811\n",
      "EarlyStopping counter: 12 out of 50\n"
     ]
    },
    {
     "data": {
      "application/vnd.jupyter.widget-view+json": {
       "model_id": "4f072e857a44452f945a07a60629253e",
       "version_major": 2,
       "version_minor": 0
      },
      "text/plain": [
       "Training:   0%|          | 0/330 [00:00<?, ?it/s]"
      ]
     },
     "metadata": {},
     "output_type": "display_data"
    },
    {
     "data": {
      "application/vnd.jupyter.widget-view+json": {
       "model_id": "3c765a4fdd8c449eb017872884d9ad6d",
       "version_major": 2,
       "version_minor": 0
      },
      "text/plain": [
       "Validation:   0%|          | 0/180 [00:00<?, ?it/s]"
      ]
     },
     "metadata": {},
     "output_type": "display_data"
    },
    {
     "name": "stdout",
     "output_type": "stream",
     "text": [
      "val_losses 0.69616929570006\n",
      "EarlyStopping counter: 13 out of 50\n"
     ]
    },
    {
     "data": {
      "application/vnd.jupyter.widget-view+json": {
       "model_id": "30ff54ddeb184fa699568586679c257b",
       "version_major": 2,
       "version_minor": 0
      },
      "text/plain": [
       "Training:   0%|          | 0/330 [00:00<?, ?it/s]"
      ]
     },
     "metadata": {},
     "output_type": "display_data"
    },
    {
     "data": {
      "application/vnd.jupyter.widget-view+json": {
       "model_id": "a3d3e7ca2de74a839e7cf5ec24b6f320",
       "version_major": 2,
       "version_minor": 0
      },
      "text/plain": [
       "Validation:   0%|          | 0/180 [00:00<?, ?it/s]"
      ]
     },
     "metadata": {},
     "output_type": "display_data"
    },
    {
     "name": "stdout",
     "output_type": "stream",
     "text": [
      "val_losses 0.756221123246683\n",
      "EarlyStopping counter: 14 out of 50\n"
     ]
    },
    {
     "data": {
      "application/vnd.jupyter.widget-view+json": {
       "model_id": "453539afcc734142b1dc678464162807",
       "version_major": 2,
       "version_minor": 0
      },
      "text/plain": [
       "Training:   0%|          | 0/330 [00:00<?, ?it/s]"
      ]
     },
     "metadata": {},
     "output_type": "display_data"
    },
    {
     "data": {
      "application/vnd.jupyter.widget-view+json": {
       "model_id": "6d97a29bbe8d40c98f5e175045f51d1d",
       "version_major": 2,
       "version_minor": 0
      },
      "text/plain": [
       "Validation:   0%|          | 0/180 [00:00<?, ?it/s]"
      ]
     },
     "metadata": {},
     "output_type": "display_data"
    },
    {
     "name": "stdout",
     "output_type": "stream",
     "text": [
      "val_losses 0.7280893324563901\n",
      "EarlyStopping counter: 15 out of 50\n"
     ]
    },
    {
     "data": {
      "application/vnd.jupyter.widget-view+json": {
       "model_id": "e0166d11223a46e391e081f22108b558",
       "version_major": 2,
       "version_minor": 0
      },
      "text/plain": [
       "Training:   0%|          | 0/330 [00:00<?, ?it/s]"
      ]
     },
     "metadata": {},
     "output_type": "display_data"
    },
    {
     "data": {
      "application/vnd.jupyter.widget-view+json": {
       "model_id": "38a55df71f704ece804064edc747d651",
       "version_major": 2,
       "version_minor": 0
      },
      "text/plain": [
       "Validation:   0%|          | 0/180 [00:00<?, ?it/s]"
      ]
     },
     "metadata": {},
     "output_type": "display_data"
    },
    {
     "name": "stdout",
     "output_type": "stream",
     "text": [
      "val_losses 0.7540238692942592\n",
      "EarlyStopping counter: 16 out of 50\n"
     ]
    },
    {
     "data": {
      "application/vnd.jupyter.widget-view+json": {
       "model_id": "8fe20e380a014219a22f2d8018fa5eee",
       "version_major": 2,
       "version_minor": 0
      },
      "text/plain": [
       "Training:   0%|          | 0/330 [00:00<?, ?it/s]"
      ]
     },
     "metadata": {},
     "output_type": "display_data"
    },
    {
     "data": {
      "application/vnd.jupyter.widget-view+json": {
       "model_id": "9f0b5025d22d40d38d362ae8c91db174",
       "version_major": 2,
       "version_minor": 0
      },
      "text/plain": [
       "Validation:   0%|          | 0/180 [00:00<?, ?it/s]"
      ]
     },
     "metadata": {},
     "output_type": "display_data"
    },
    {
     "name": "stdout",
     "output_type": "stream",
     "text": [
      "val_losses 0.791527539698614\n",
      "EarlyStopping counter: 17 out of 50\n"
     ]
    },
    {
     "data": {
      "application/vnd.jupyter.widget-view+json": {
       "model_id": "bf6b493312b04290ba2df70e36eae116",
       "version_major": 2,
       "version_minor": 0
      },
      "text/plain": [
       "Training:   0%|          | 0/330 [00:00<?, ?it/s]"
      ]
     },
     "metadata": {},
     "output_type": "display_data"
    },
    {
     "data": {
      "application/vnd.jupyter.widget-view+json": {
       "model_id": "4c17bee2ed704ec69ad0ab1142eb6955",
       "version_major": 2,
       "version_minor": 0
      },
      "text/plain": [
       "Validation:   0%|          | 0/180 [00:00<?, ?it/s]"
      ]
     },
     "metadata": {},
     "output_type": "display_data"
    },
    {
     "name": "stdout",
     "output_type": "stream",
     "text": [
      "val_losses 0.7498691321661075\n",
      "EarlyStopping counter: 18 out of 50\n"
     ]
    },
    {
     "data": {
      "application/vnd.jupyter.widget-view+json": {
       "model_id": "cf01e088aeac479983d0ef83899830e6",
       "version_major": 2,
       "version_minor": 0
      },
      "text/plain": [
       "Training:   0%|          | 0/330 [00:00<?, ?it/s]"
      ]
     },
     "metadata": {},
     "output_type": "display_data"
    },
    {
     "data": {
      "application/vnd.jupyter.widget-view+json": {
       "model_id": "c3714c20b112414e840293c2a3c41468",
       "version_major": 2,
       "version_minor": 0
      },
      "text/plain": [
       "Validation:   0%|          | 0/180 [00:00<?, ?it/s]"
      ]
     },
     "metadata": {},
     "output_type": "display_data"
    },
    {
     "name": "stdout",
     "output_type": "stream",
     "text": [
      "val_losses 0.7882823634892702\n",
      "EarlyStopping counter: 19 out of 50\n"
     ]
    },
    {
     "data": {
      "application/vnd.jupyter.widget-view+json": {
       "model_id": "a993f14bf7314a0c9ce365b1b76ec802",
       "version_major": 2,
       "version_minor": 0
      },
      "text/plain": [
       "Training:   0%|          | 0/330 [00:00<?, ?it/s]"
      ]
     },
     "metadata": {},
     "output_type": "display_data"
    },
    {
     "data": {
      "application/vnd.jupyter.widget-view+json": {
       "model_id": "1af124bda2694fa3bcb771127e605ccc",
       "version_major": 2,
       "version_minor": 0
      },
      "text/plain": [
       "Validation:   0%|          | 0/180 [00:00<?, ?it/s]"
      ]
     },
     "metadata": {},
     "output_type": "display_data"
    },
    {
     "name": "stdout",
     "output_type": "stream",
     "text": [
      "val_losses 0.7888878404680225\n",
      "EarlyStopping counter: 20 out of 50\n"
     ]
    },
    {
     "data": {
      "application/vnd.jupyter.widget-view+json": {
       "model_id": "1c480302e6f64761961ac0f1737b3392",
       "version_major": 2,
       "version_minor": 0
      },
      "text/plain": [
       "Training:   0%|          | 0/330 [00:00<?, ?it/s]"
      ]
     },
     "metadata": {},
     "output_type": "display_data"
    },
    {
     "data": {
      "application/vnd.jupyter.widget-view+json": {
       "model_id": "e6279ce4b78042a281f26d88f38ebbdd",
       "version_major": 2,
       "version_minor": 0
      },
      "text/plain": [
       "Validation:   0%|          | 0/180 [00:00<?, ?it/s]"
      ]
     },
     "metadata": {},
     "output_type": "display_data"
    },
    {
     "name": "stdout",
     "output_type": "stream",
     "text": [
      "val_losses 0.8000656651953856\n",
      "EarlyStopping counter: 21 out of 50\n"
     ]
    },
    {
     "data": {
      "application/vnd.jupyter.widget-view+json": {
       "model_id": "7639fc3c3a414a08abc12458efe710e1",
       "version_major": 2,
       "version_minor": 0
      },
      "text/plain": [
       "Training:   0%|          | 0/330 [00:00<?, ?it/s]"
      ]
     },
     "metadata": {},
     "output_type": "display_data"
    },
    {
     "data": {
      "application/vnd.jupyter.widget-view+json": {
       "model_id": "8c3b3f94ccfd48e190286d90963218d7",
       "version_major": 2,
       "version_minor": 0
      },
      "text/plain": [
       "Validation:   0%|          | 0/180 [00:00<?, ?it/s]"
      ]
     },
     "metadata": {},
     "output_type": "display_data"
    },
    {
     "name": "stdout",
     "output_type": "stream",
     "text": [
      "val_losses 0.8139918598863813\n",
      "EarlyStopping counter: 22 out of 50\n"
     ]
    },
    {
     "data": {
      "application/vnd.jupyter.widget-view+json": {
       "model_id": "2923cfca57454e3a9e8773302229f6c4",
       "version_major": 2,
       "version_minor": 0
      },
      "text/plain": [
       "Training:   0%|          | 0/330 [00:00<?, ?it/s]"
      ]
     },
     "metadata": {},
     "output_type": "display_data"
    },
    {
     "data": {
      "application/vnd.jupyter.widget-view+json": {
       "model_id": "2a7d24c06b7140698a124377aa1cd2c4",
       "version_major": 2,
       "version_minor": 0
      },
      "text/plain": [
       "Validation:   0%|          | 0/180 [00:00<?, ?it/s]"
      ]
     },
     "metadata": {},
     "output_type": "display_data"
    },
    {
     "name": "stdout",
     "output_type": "stream",
     "text": [
      "val_losses 0.82419333031608\n",
      "EarlyStopping counter: 23 out of 50\n"
     ]
    },
    {
     "data": {
      "application/vnd.jupyter.widget-view+json": {
       "model_id": "2f1416efd5f1420aba1713340c206f1b",
       "version_major": 2,
       "version_minor": 0
      },
      "text/plain": [
       "Training:   0%|          | 0/330 [00:00<?, ?it/s]"
      ]
     },
     "metadata": {},
     "output_type": "display_data"
    },
    {
     "data": {
      "application/vnd.jupyter.widget-view+json": {
       "model_id": "ae1fa54776f04d32b637263ef95d2e6b",
       "version_major": 2,
       "version_minor": 0
      },
      "text/plain": [
       "Validation:   0%|          | 0/180 [00:00<?, ?it/s]"
      ]
     },
     "metadata": {},
     "output_type": "display_data"
    },
    {
     "name": "stdout",
     "output_type": "stream",
     "text": [
      "val_losses 0.7716082894553741\n",
      "EarlyStopping counter: 24 out of 50\n"
     ]
    },
    {
     "data": {
      "application/vnd.jupyter.widget-view+json": {
       "model_id": "57ee031e010c4d6e8ca99ca0a37cd9b4",
       "version_major": 2,
       "version_minor": 0
      },
      "text/plain": [
       "Training:   0%|          | 0/330 [00:00<?, ?it/s]"
      ]
     },
     "metadata": {},
     "output_type": "display_data"
    },
    {
     "data": {
      "application/vnd.jupyter.widget-view+json": {
       "model_id": "73d73467336d47f7adfb2bb80dc3d290",
       "version_major": 2,
       "version_minor": 0
      },
      "text/plain": [
       "Validation:   0%|          | 0/180 [00:00<?, ?it/s]"
      ]
     },
     "metadata": {},
     "output_type": "display_data"
    },
    {
     "name": "stdout",
     "output_type": "stream",
     "text": [
      "val_losses 0.822586393273539\n",
      "EarlyStopping counter: 25 out of 50\n"
     ]
    },
    {
     "data": {
      "application/vnd.jupyter.widget-view+json": {
       "model_id": "680dadb464fe41ab8cc09665ea801c93",
       "version_major": 2,
       "version_minor": 0
      },
      "text/plain": [
       "Training:   0%|          | 0/330 [00:00<?, ?it/s]"
      ]
     },
     "metadata": {},
     "output_type": "display_data"
    },
    {
     "data": {
      "application/vnd.jupyter.widget-view+json": {
       "model_id": "2e6a36282f004514b7fb246fae30260c",
       "version_major": 2,
       "version_minor": 0
      },
      "text/plain": [
       "Validation:   0%|          | 0/180 [00:00<?, ?it/s]"
      ]
     },
     "metadata": {},
     "output_type": "display_data"
    },
    {
     "name": "stdout",
     "output_type": "stream",
     "text": [
      "val_losses 0.7994104973557923\n",
      "EarlyStopping counter: 26 out of 50\n"
     ]
    },
    {
     "data": {
      "application/vnd.jupyter.widget-view+json": {
       "model_id": "17a09c95a9fc4ec2924874fac6047070",
       "version_major": 2,
       "version_minor": 0
      },
      "text/plain": [
       "Training:   0%|          | 0/330 [00:00<?, ?it/s]"
      ]
     },
     "metadata": {},
     "output_type": "display_data"
    },
    {
     "data": {
      "application/vnd.jupyter.widget-view+json": {
       "model_id": "6f6b3ac661d84005bc96faedc3925461",
       "version_major": 2,
       "version_minor": 0
      },
      "text/plain": [
       "Validation:   0%|          | 0/180 [00:00<?, ?it/s]"
      ]
     },
     "metadata": {},
     "output_type": "display_data"
    },
    {
     "name": "stdout",
     "output_type": "stream",
     "text": [
      "val_losses 0.8507388706008593\n",
      "EarlyStopping counter: 27 out of 50\n"
     ]
    },
    {
     "data": {
      "application/vnd.jupyter.widget-view+json": {
       "model_id": "f52764cc8cd647a9a10cf94a783cc238",
       "version_major": 2,
       "version_minor": 0
      },
      "text/plain": [
       "Training:   0%|          | 0/330 [00:00<?, ?it/s]"
      ]
     },
     "metadata": {},
     "output_type": "display_data"
    },
    {
     "data": {
      "application/vnd.jupyter.widget-view+json": {
       "model_id": "6561b3b7b0f742ba93ac4fd7ff0ad371",
       "version_major": 2,
       "version_minor": 0
      },
      "text/plain": [
       "Validation:   0%|          | 0/180 [00:00<?, ?it/s]"
      ]
     },
     "metadata": {},
     "output_type": "display_data"
    },
    {
     "name": "stdout",
     "output_type": "stream",
     "text": [
      "val_losses 0.8645470245016946\n",
      "EarlyStopping counter: 28 out of 50\n"
     ]
    },
    {
     "data": {
      "application/vnd.jupyter.widget-view+json": {
       "model_id": "4bd00d181d6844fbb353ffd80072f736",
       "version_major": 2,
       "version_minor": 0
      },
      "text/plain": [
       "Training:   0%|          | 0/330 [00:00<?, ?it/s]"
      ]
     },
     "metadata": {},
     "output_type": "display_data"
    },
    {
     "data": {
      "application/vnd.jupyter.widget-view+json": {
       "model_id": "ec3e8edba63e4a54b0d47f8559d1eca3",
       "version_major": 2,
       "version_minor": 0
      },
      "text/plain": [
       "Validation:   0%|          | 0/180 [00:00<?, ?it/s]"
      ]
     },
     "metadata": {},
     "output_type": "display_data"
    },
    {
     "name": "stdout",
     "output_type": "stream",
     "text": [
      "val_losses 0.839904081241952\n",
      "EarlyStopping counter: 29 out of 50\n"
     ]
    },
    {
     "data": {
      "application/vnd.jupyter.widget-view+json": {
       "model_id": "a6548509fc294aa7886615f83ae93463",
       "version_major": 2,
       "version_minor": 0
      },
      "text/plain": [
       "Training:   0%|          | 0/330 [00:00<?, ?it/s]"
      ]
     },
     "metadata": {},
     "output_type": "display_data"
    },
    {
     "data": {
      "application/vnd.jupyter.widget-view+json": {
       "model_id": "43e0c964377c4f8082067c715535f580",
       "version_major": 2,
       "version_minor": 0
      },
      "text/plain": [
       "Validation:   0%|          | 0/180 [00:00<?, ?it/s]"
      ]
     },
     "metadata": {},
     "output_type": "display_data"
    },
    {
     "name": "stdout",
     "output_type": "stream",
     "text": [
      "val_losses 0.8666785752193795\n",
      "EarlyStopping counter: 30 out of 50\n"
     ]
    },
    {
     "data": {
      "application/vnd.jupyter.widget-view+json": {
       "model_id": "c3c0cafd0225474d8f81c8b7896a7582",
       "version_major": 2,
       "version_minor": 0
      },
      "text/plain": [
       "Training:   0%|          | 0/330 [00:00<?, ?it/s]"
      ]
     },
     "metadata": {},
     "output_type": "display_data"
    },
    {
     "data": {
      "application/vnd.jupyter.widget-view+json": {
       "model_id": "ca2a115912874cf398312a06855c3082",
       "version_major": 2,
       "version_minor": 0
      },
      "text/plain": [
       "Validation:   0%|          | 0/180 [00:00<?, ?it/s]"
      ]
     },
     "metadata": {},
     "output_type": "display_data"
    },
    {
     "name": "stdout",
     "output_type": "stream",
     "text": [
      "val_losses 0.8869909224824772\n",
      "EarlyStopping counter: 31 out of 50\n"
     ]
    },
    {
     "data": {
      "application/vnd.jupyter.widget-view+json": {
       "model_id": "811589ecc40347a48d06b9e1fa682be7",
       "version_major": 2,
       "version_minor": 0
      },
      "text/plain": [
       "Training:   0%|          | 0/330 [00:00<?, ?it/s]"
      ]
     },
     "metadata": {},
     "output_type": "display_data"
    },
    {
     "data": {
      "application/vnd.jupyter.widget-view+json": {
       "model_id": "b20d728f881c4cb5a4e5fc2dc05b4f7f",
       "version_major": 2,
       "version_minor": 0
      },
      "text/plain": [
       "Validation:   0%|          | 0/180 [00:00<?, ?it/s]"
      ]
     },
     "metadata": {},
     "output_type": "display_data"
    },
    {
     "name": "stdout",
     "output_type": "stream",
     "text": [
      "val_losses 0.8605014802681075\n",
      "EarlyStopping counter: 32 out of 50\n"
     ]
    },
    {
     "data": {
      "application/vnd.jupyter.widget-view+json": {
       "model_id": "dacb394959264753842242f014c9c1e6",
       "version_major": 2,
       "version_minor": 0
      },
      "text/plain": [
       "Training:   0%|          | 0/330 [00:00<?, ?it/s]"
      ]
     },
     "metadata": {},
     "output_type": "display_data"
    },
    {
     "data": {
      "application/vnd.jupyter.widget-view+json": {
       "model_id": "2661337151b24c57a580b766d871f4e1",
       "version_major": 2,
       "version_minor": 0
      },
      "text/plain": [
       "Validation:   0%|          | 0/180 [00:00<?, ?it/s]"
      ]
     },
     "metadata": {},
     "output_type": "display_data"
    },
    {
     "name": "stdout",
     "output_type": "stream",
     "text": [
      "val_losses 0.8440070245414972\n",
      "EarlyStopping counter: 33 out of 50\n"
     ]
    },
    {
     "data": {
      "application/vnd.jupyter.widget-view+json": {
       "model_id": "977c5061374243e6a8a0f4d757aa511d",
       "version_major": 2,
       "version_minor": 0
      },
      "text/plain": [
       "Training:   0%|          | 0/330 [00:00<?, ?it/s]"
      ]
     },
     "metadata": {},
     "output_type": "display_data"
    },
    {
     "data": {
      "application/vnd.jupyter.widget-view+json": {
       "model_id": "c1a8a250942945118071cc52565eabad",
       "version_major": 2,
       "version_minor": 0
      },
      "text/plain": [
       "Validation:   0%|          | 0/180 [00:00<?, ?it/s]"
      ]
     },
     "metadata": {},
     "output_type": "display_data"
    },
    {
     "name": "stdout",
     "output_type": "stream",
     "text": [
      "val_losses 0.8942312336630291\n",
      "EarlyStopping counter: 34 out of 50\n"
     ]
    },
    {
     "data": {
      "application/vnd.jupyter.widget-view+json": {
       "model_id": "2f8c6f49523142199edb5d609ade9d95",
       "version_major": 2,
       "version_minor": 0
      },
      "text/plain": [
       "Training:   0%|          | 0/330 [00:00<?, ?it/s]"
      ]
     },
     "metadata": {},
     "output_type": "display_data"
    },
    {
     "data": {
      "application/vnd.jupyter.widget-view+json": {
       "model_id": "f28c629fcc2e4a04a7e9479eac4d26c0",
       "version_major": 2,
       "version_minor": 0
      },
      "text/plain": [
       "Validation:   0%|          | 0/180 [00:00<?, ?it/s]"
      ]
     },
     "metadata": {},
     "output_type": "display_data"
    },
    {
     "name": "stdout",
     "output_type": "stream",
     "text": [
      "val_losses 0.9318719401955604\n",
      "EarlyStopping counter: 35 out of 50\n"
     ]
    },
    {
     "data": {
      "application/vnd.jupyter.widget-view+json": {
       "model_id": "6d9a7cd8ffd24d6d8e9801e9c6356f94",
       "version_major": 2,
       "version_minor": 0
      },
      "text/plain": [
       "Training:   0%|          | 0/330 [00:00<?, ?it/s]"
      ]
     },
     "metadata": {},
     "output_type": "display_data"
    },
    {
     "data": {
      "application/vnd.jupyter.widget-view+json": {
       "model_id": "9b7b53013e224fa3ba0481c9bed764de",
       "version_major": 2,
       "version_minor": 0
      },
      "text/plain": [
       "Validation:   0%|          | 0/180 [00:00<?, ?it/s]"
      ]
     },
     "metadata": {},
     "output_type": "display_data"
    },
    {
     "name": "stdout",
     "output_type": "stream",
     "text": [
      "val_losses 0.8601747976822985\n",
      "EarlyStopping counter: 36 out of 50\n"
     ]
    },
    {
     "data": {
      "application/vnd.jupyter.widget-view+json": {
       "model_id": "4f3c49b4206144fe9c137da2d43a012b",
       "version_major": 2,
       "version_minor": 0
      },
      "text/plain": [
       "Training:   0%|          | 0/330 [00:00<?, ?it/s]"
      ]
     },
     "metadata": {},
     "output_type": "display_data"
    },
    {
     "data": {
      "application/vnd.jupyter.widget-view+json": {
       "model_id": "2f40d07ad12d456682f159f5c6a9a8c9",
       "version_major": 2,
       "version_minor": 0
      },
      "text/plain": [
       "Validation:   0%|          | 0/180 [00:00<?, ?it/s]"
      ]
     },
     "metadata": {},
     "output_type": "display_data"
    },
    {
     "name": "stdout",
     "output_type": "stream",
     "text": [
      "val_losses 0.8714149538841512\n",
      "EarlyStopping counter: 37 out of 50\n"
     ]
    },
    {
     "data": {
      "application/vnd.jupyter.widget-view+json": {
       "model_id": "ef79391dff854a0782070b2ff364a0d5",
       "version_major": 2,
       "version_minor": 0
      },
      "text/plain": [
       "Training:   0%|          | 0/330 [00:00<?, ?it/s]"
      ]
     },
     "metadata": {},
     "output_type": "display_data"
    },
    {
     "data": {
      "application/vnd.jupyter.widget-view+json": {
       "model_id": "d643eb7d874f4e31a6dffe7fa13b8259",
       "version_major": 2,
       "version_minor": 0
      },
      "text/plain": [
       "Validation:   0%|          | 0/180 [00:00<?, ?it/s]"
      ]
     },
     "metadata": {},
     "output_type": "display_data"
    },
    {
     "name": "stdout",
     "output_type": "stream",
     "text": [
      "val_losses 0.8412247332847781\n",
      "EarlyStopping counter: 38 out of 50\n"
     ]
    },
    {
     "data": {
      "application/vnd.jupyter.widget-view+json": {
       "model_id": "0e6e5f7a1bd74412b205849aa6a05a64",
       "version_major": 2,
       "version_minor": 0
      },
      "text/plain": [
       "Training:   0%|          | 0/330 [00:00<?, ?it/s]"
      ]
     },
     "metadata": {},
     "output_type": "display_data"
    },
    {
     "data": {
      "application/vnd.jupyter.widget-view+json": {
       "model_id": "8ae357ccd79748108e6650022aeb450d",
       "version_major": 2,
       "version_minor": 0
      },
      "text/plain": [
       "Validation:   0%|          | 0/180 [00:00<?, ?it/s]"
      ]
     },
     "metadata": {},
     "output_type": "display_data"
    },
    {
     "name": "stdout",
     "output_type": "stream",
     "text": [
      "val_losses 0.910049459296796\n",
      "EarlyStopping counter: 39 out of 50\n"
     ]
    },
    {
     "data": {
      "application/vnd.jupyter.widget-view+json": {
       "model_id": "f392140c33084f748a200de51a68d83b",
       "version_major": 2,
       "version_minor": 0
      },
      "text/plain": [
       "Training:   0%|          | 0/330 [00:00<?, ?it/s]"
      ]
     },
     "metadata": {},
     "output_type": "display_data"
    },
    {
     "data": {
      "application/vnd.jupyter.widget-view+json": {
       "model_id": "81c32e0596c0402f80bff59ece5b287d",
       "version_major": 2,
       "version_minor": 0
      },
      "text/plain": [
       "Validation:   0%|          | 0/180 [00:00<?, ?it/s]"
      ]
     },
     "metadata": {},
     "output_type": "display_data"
    },
    {
     "name": "stdout",
     "output_type": "stream",
     "text": [
      "val_losses 0.9021623329983817\n",
      "EarlyStopping counter: 40 out of 50\n"
     ]
    },
    {
     "data": {
      "application/vnd.jupyter.widget-view+json": {
       "model_id": "76afd450b1d84189bdd430717add68d7",
       "version_major": 2,
       "version_minor": 0
      },
      "text/plain": [
       "Training:   0%|          | 0/330 [00:00<?, ?it/s]"
      ]
     },
     "metadata": {},
     "output_type": "display_data"
    },
    {
     "data": {
      "application/vnd.jupyter.widget-view+json": {
       "model_id": "e23efd08e0cb4f21918e08112f61a034",
       "version_major": 2,
       "version_minor": 0
      },
      "text/plain": [
       "Validation:   0%|          | 0/180 [00:00<?, ?it/s]"
      ]
     },
     "metadata": {},
     "output_type": "display_data"
    },
    {
     "name": "stdout",
     "output_type": "stream",
     "text": [
      "val_losses 0.9126749735739496\n",
      "EarlyStopping counter: 41 out of 50\n"
     ]
    },
    {
     "data": {
      "application/vnd.jupyter.widget-view+json": {
       "model_id": "ec1d01818da94a1e8c5cbb011b30414b",
       "version_major": 2,
       "version_minor": 0
      },
      "text/plain": [
       "Training:   0%|          | 0/330 [00:00<?, ?it/s]"
      ]
     },
     "metadata": {},
     "output_type": "display_data"
    },
    {
     "data": {
      "application/vnd.jupyter.widget-view+json": {
       "model_id": "acb48c7e3bf04939b217c5b2cf28f405",
       "version_major": 2,
       "version_minor": 0
      },
      "text/plain": [
       "Validation:   0%|          | 0/180 [00:00<?, ?it/s]"
      ]
     },
     "metadata": {},
     "output_type": "display_data"
    },
    {
     "name": "stdout",
     "output_type": "stream",
     "text": [
      "val_losses 0.8734424929238028\n",
      "EarlyStopping counter: 42 out of 50\n"
     ]
    },
    {
     "data": {
      "application/vnd.jupyter.widget-view+json": {
       "model_id": "60ffdc9caefe47ae8d2422cfbeadd0e8",
       "version_major": 2,
       "version_minor": 0
      },
      "text/plain": [
       "Training:   0%|          | 0/330 [00:00<?, ?it/s]"
      ]
     },
     "metadata": {},
     "output_type": "display_data"
    },
    {
     "data": {
      "application/vnd.jupyter.widget-view+json": {
       "model_id": "3cdab68549b044b3b9ec481cdf39e525",
       "version_major": 2,
       "version_minor": 0
      },
      "text/plain": [
       "Validation:   0%|          | 0/180 [00:00<?, ?it/s]"
      ]
     },
     "metadata": {},
     "output_type": "display_data"
    },
    {
     "name": "stdout",
     "output_type": "stream",
     "text": [
      "val_losses 0.9231141952176889\n",
      "EarlyStopping counter: 43 out of 50\n"
     ]
    },
    {
     "data": {
      "application/vnd.jupyter.widget-view+json": {
       "model_id": "ffc51a4b37084f57ad414822e38387a2",
       "version_major": 2,
       "version_minor": 0
      },
      "text/plain": [
       "Training:   0%|          | 0/330 [00:00<?, ?it/s]"
      ]
     },
     "metadata": {},
     "output_type": "display_data"
    },
    {
     "data": {
      "application/vnd.jupyter.widget-view+json": {
       "model_id": "67d68cf08bae4496b384456e87814747",
       "version_major": 2,
       "version_minor": 0
      },
      "text/plain": [
       "Validation:   0%|          | 0/180 [00:00<?, ?it/s]"
      ]
     },
     "metadata": {},
     "output_type": "display_data"
    },
    {
     "name": "stdout",
     "output_type": "stream",
     "text": [
      "val_losses 0.9232332311570645\n",
      "EarlyStopping counter: 44 out of 50\n"
     ]
    },
    {
     "data": {
      "application/vnd.jupyter.widget-view+json": {
       "model_id": "ecc4d927dca14735ad458544754bc2eb",
       "version_major": 2,
       "version_minor": 0
      },
      "text/plain": [
       "Training:   0%|          | 0/330 [00:00<?, ?it/s]"
      ]
     },
     "metadata": {},
     "output_type": "display_data"
    },
    {
     "data": {
      "application/vnd.jupyter.widget-view+json": {
       "model_id": "f2c0a1007a074245a98f5451a201c46a",
       "version_major": 2,
       "version_minor": 0
      },
      "text/plain": [
       "Validation:   0%|          | 0/180 [00:00<?, ?it/s]"
      ]
     },
     "metadata": {},
     "output_type": "display_data"
    },
    {
     "name": "stdout",
     "output_type": "stream",
     "text": [
      "val_losses 0.8666808283991284\n",
      "EarlyStopping counter: 45 out of 50\n"
     ]
    },
    {
     "data": {
      "application/vnd.jupyter.widget-view+json": {
       "model_id": "1f36e90465e84d9bb18e70892803eed9",
       "version_major": 2,
       "version_minor": 0
      },
      "text/plain": [
       "Training:   0%|          | 0/330 [00:00<?, ?it/s]"
      ]
     },
     "metadata": {},
     "output_type": "display_data"
    },
    {
     "data": {
      "application/vnd.jupyter.widget-view+json": {
       "model_id": "baa4b1261845449281552b17a5553af8",
       "version_major": 2,
       "version_minor": 0
      },
      "text/plain": [
       "Validation:   0%|          | 0/180 [00:00<?, ?it/s]"
      ]
     },
     "metadata": {},
     "output_type": "display_data"
    },
    {
     "name": "stdout",
     "output_type": "stream",
     "text": [
      "val_losses 0.8539006118973096\n",
      "EarlyStopping counter: 46 out of 50\n"
     ]
    },
    {
     "data": {
      "application/vnd.jupyter.widget-view+json": {
       "model_id": "7ccbc120f6304b488c009c3a792a3dc6",
       "version_major": 2,
       "version_minor": 0
      },
      "text/plain": [
       "Training:   0%|          | 0/330 [00:00<?, ?it/s]"
      ]
     },
     "metadata": {},
     "output_type": "display_data"
    },
    {
     "data": {
      "application/vnd.jupyter.widget-view+json": {
       "model_id": "55c8f37e2cb9409185a879e12efdc193",
       "version_major": 2,
       "version_minor": 0
      },
      "text/plain": [
       "Validation:   0%|          | 0/180 [00:00<?, ?it/s]"
      ]
     },
     "metadata": {},
     "output_type": "display_data"
    },
    {
     "name": "stdout",
     "output_type": "stream",
     "text": [
      "val_losses 0.9601666831307941\n",
      "EarlyStopping counter: 47 out of 50\n"
     ]
    },
    {
     "data": {
      "application/vnd.jupyter.widget-view+json": {
       "model_id": "b33686c6dc144c64848e8c00e2e58322",
       "version_major": 2,
       "version_minor": 0
      },
      "text/plain": [
       "Training:   0%|          | 0/330 [00:00<?, ?it/s]"
      ]
     },
     "metadata": {},
     "output_type": "display_data"
    },
    {
     "data": {
      "application/vnd.jupyter.widget-view+json": {
       "model_id": "1fa419921307407cb04058c2826e53a3",
       "version_major": 2,
       "version_minor": 0
      },
      "text/plain": [
       "Validation:   0%|          | 0/180 [00:00<?, ?it/s]"
      ]
     },
     "metadata": {},
     "output_type": "display_data"
    },
    {
     "name": "stdout",
     "output_type": "stream",
     "text": [
      "val_losses 0.915621742606163\n",
      "EarlyStopping counter: 48 out of 50\n"
     ]
    },
    {
     "data": {
      "application/vnd.jupyter.widget-view+json": {
       "model_id": "5776a0274ab6452ca179574d148cbc60",
       "version_major": 2,
       "version_minor": 0
      },
      "text/plain": [
       "Training:   0%|          | 0/330 [00:00<?, ?it/s]"
      ]
     },
     "metadata": {},
     "output_type": "display_data"
    },
    {
     "data": {
      "application/vnd.jupyter.widget-view+json": {
       "model_id": "24c8cfea95e044458b75fbe7264c351c",
       "version_major": 2,
       "version_minor": 0
      },
      "text/plain": [
       "Validation:   0%|          | 0/180 [00:00<?, ?it/s]"
      ]
     },
     "metadata": {},
     "output_type": "display_data"
    },
    {
     "name": "stdout",
     "output_type": "stream",
     "text": [
      "val_losses 0.8969865284032292\n",
      "EarlyStopping counter: 49 out of 50\n"
     ]
    },
    {
     "data": {
      "application/vnd.jupyter.widget-view+json": {
       "model_id": "db100a14a09b45dfb5e8d25c34e2f712",
       "version_major": 2,
       "version_minor": 0
      },
      "text/plain": [
       "Training:   0%|          | 0/330 [00:00<?, ?it/s]"
      ]
     },
     "metadata": {},
     "output_type": "display_data"
    },
    {
     "data": {
      "application/vnd.jupyter.widget-view+json": {
       "model_id": "eb42d8e7ec7148ce8a8fefcefe0578ca",
       "version_major": 2,
       "version_minor": 0
      },
      "text/plain": [
       "Validation:   0%|          | 0/180 [00:00<?, ?it/s]"
      ]
     },
     "metadata": {},
     "output_type": "display_data"
    },
    {
     "name": "stdout",
     "output_type": "stream",
     "text": [
      "val_losses 0.9170388922095298\n",
      "EarlyStopping counter: 50 out of 50\n",
      "early stopping epoch: 100\n",
      "***************************\n",
      "modelname:model_fold_2.ptを保存しました\n",
      "*************************************Test*************************************\n",
      "in constructor inchannel: 108\n",
      "Input channel count3\n",
      "model_dir =  model/20250616-MaskRCNN-v1.0.1-trial\n",
      "Creating image arrays...\n",
      "Number of label images: 11\n",
      "Completed creating image arrays:\n",
      "Dataset shape  (11, 256, 256, 108)\n",
      "Label image shape  (11, 256, 256)\n",
      "\n",
      "index =  0\n",
      "予測画像: /home/eric/Documents/cervicalResearchIIP/result_test/20250616-MaskRCNN-v1.0.1-trial/fold2/N1-3.png\n",
      "テストラベル: /home/eric/Documents/cervicalResearchIIP/img_1006t/labeled/N1-3.png\n",
      "index =  1\n",
      "予測画像: /home/eric/Documents/cervicalResearchIIP/result_test/20250616-MaskRCNN-v1.0.1-trial/fold2/N1-8.png\n",
      "テストラベル: /home/eric/Documents/cervicalResearchIIP/img_1006t/labeled/N1-8.png\n",
      "index =  2\n",
      "予測画像: /home/eric/Documents/cervicalResearchIIP/result_test/20250616-MaskRCNN-v1.0.1-trial/fold2/N1-9.png\n",
      "テストラベル: /home/eric/Documents/cervicalResearchIIP/img_1006t/labeled/N1-9.png\n",
      "index =  3\n",
      "予測画像: /home/eric/Documents/cervicalResearchIIP/result_test/20250616-MaskRCNN-v1.0.1-trial/fold2/N2-5.png\n",
      "テストラベル: /home/eric/Documents/cervicalResearchIIP/img_1006t/labeled/N2-5.png\n",
      "index =  4\n",
      "予測画像: /home/eric/Documents/cervicalResearchIIP/result_test/20250616-MaskRCNN-v1.0.1-trial/fold2/N2-10.png\n",
      "テストラベル: /home/eric/Documents/cervicalResearchIIP/img_1006t/labeled/N2-10.png\n",
      "index =  5\n",
      "予測画像: /home/eric/Documents/cervicalResearchIIP/result_test/20250616-MaskRCNN-v1.0.1-trial/fold2/N3-6.png\n",
      "テストラベル: /home/eric/Documents/cervicalResearchIIP/img_1006t/labeled/N3-6.png\n",
      "index =  6\n",
      "予測画像: /home/eric/Documents/cervicalResearchIIP/result_test/20250616-MaskRCNN-v1.0.1-trial/fold2/N3-7.png\n",
      "テストラベル: /home/eric/Documents/cervicalResearchIIP/img_1006t/labeled/N3-7.png\n",
      "index =  7\n",
      "予測画像: /home/eric/Documents/cervicalResearchIIP/result_test/20250616-MaskRCNN-v1.0.1-trial/fold2/N3-10.png\n",
      "テストラベル: /home/eric/Documents/cervicalResearchIIP/img_1006t/labeled/N3-10.png\n",
      "index =  8\n",
      "予測画像: /home/eric/Documents/cervicalResearchIIP/result_test/20250616-MaskRCNN-v1.0.1-trial/fold2/N4-4.png\n",
      "テストラベル: /home/eric/Documents/cervicalResearchIIP/img_1006t/labeled/N4-4.png\n",
      "index =  9\n",
      "予測画像: /home/eric/Documents/cervicalResearchIIP/result_test/20250616-MaskRCNN-v1.0.1-trial/fold2/N4-7.png\n",
      "テストラベル: /home/eric/Documents/cervicalResearchIIP/img_1006t/labeled/N4-7.png\n",
      "index =  10\n",
      "予測画像: /home/eric/Documents/cervicalResearchIIP/result_test/20250616-MaskRCNN-v1.0.1-trial/fold2/N5-3.png\n",
      "テストラベル: /home/eric/Documents/cervicalResearchIIP/img_1006t/labeled/N5-3.png\n",
      "Count1 =  [643134, 12248, 7874, 8386, 5879, 7942, 5838, 7937, 5512, 10071, 6075]\n",
      "Count2 =  [642734, 12157, 7801, 8284, 5889, 7835, 5987, 8241, 5674, 10428, 5866]\n",
      "Count3 =  [635476, 10717, 6648, 7142, 5147, 6877, 5129, 6834, 4819, 8251, 5021]\n",
      "Dice =  [0.9884000535047143, 0.8782626510960869, 0.8482296650717703, 0.856868626274745, 0.8747450713800136, 0.8717753692083413, 0.8674841437632135, 0.8448510322660403, 0.8616127301984624, 0.8050148787745743, 0.8409680931245289, 0.8549812261157776]\n",
      "All labels are within the valid range (0 to 10).\n",
      "All labels are within the valid range (0 to 10).\n",
      "All labels are within the valid range (0 to 10).\n",
      "All labels are within the valid range (0 to 10).\n",
      "All labels are within the valid range (0 to 10).\n",
      "All labels are within the valid range (0 to 10).\n",
      "All labels are within the valid range (0 to 10).\n",
      "All labels are within the valid range (0 to 10).\n",
      "All labels are within the valid range (0 to 10).\n",
      "All labels are within the valid range (0 to 10).\n",
      "All labels are within the valid range (0 to 10).\n",
      "index =  0\n",
      "予測画像: /home/eric/Documents/cervicalResearchIIP/result_test/20250616-MaskRCNN-v1.0.1-trial/fold2/crf/N1-3.png\n",
      "テストラベル: /home/eric/Documents/cervicalResearchIIP/img_1006t/labeled/N1-3.png\n",
      "index =  1\n",
      "予測画像: /home/eric/Documents/cervicalResearchIIP/result_test/20250616-MaskRCNN-v1.0.1-trial/fold2/crf/N1-8.png\n",
      "テストラベル: /home/eric/Documents/cervicalResearchIIP/img_1006t/labeled/N1-8.png\n",
      "index =  2\n",
      "予測画像: /home/eric/Documents/cervicalResearchIIP/result_test/20250616-MaskRCNN-v1.0.1-trial/fold2/crf/N1-9.png\n",
      "テストラベル: /home/eric/Documents/cervicalResearchIIP/img_1006t/labeled/N1-9.png\n",
      "index =  3\n",
      "予測画像: /home/eric/Documents/cervicalResearchIIP/result_test/20250616-MaskRCNN-v1.0.1-trial/fold2/crf/N2-5.png\n",
      "テストラベル: /home/eric/Documents/cervicalResearchIIP/img_1006t/labeled/N2-5.png\n",
      "index =  4\n",
      "予測画像: /home/eric/Documents/cervicalResearchIIP/result_test/20250616-MaskRCNN-v1.0.1-trial/fold2/crf/N2-10.png\n",
      "テストラベル: /home/eric/Documents/cervicalResearchIIP/img_1006t/labeled/N2-10.png\n",
      "index =  5\n",
      "予測画像: /home/eric/Documents/cervicalResearchIIP/result_test/20250616-MaskRCNN-v1.0.1-trial/fold2/crf/N3-6.png\n",
      "テストラベル: /home/eric/Documents/cervicalResearchIIP/img_1006t/labeled/N3-6.png\n",
      "index =  6\n",
      "予測画像: /home/eric/Documents/cervicalResearchIIP/result_test/20250616-MaskRCNN-v1.0.1-trial/fold2/crf/N3-7.png\n",
      "テストラベル: /home/eric/Documents/cervicalResearchIIP/img_1006t/labeled/N3-7.png\n",
      "index =  7\n",
      "予測画像: /home/eric/Documents/cervicalResearchIIP/result_test/20250616-MaskRCNN-v1.0.1-trial/fold2/crf/N3-10.png\n",
      "テストラベル: /home/eric/Documents/cervicalResearchIIP/img_1006t/labeled/N3-10.png\n",
      "index =  8\n",
      "予測画像: /home/eric/Documents/cervicalResearchIIP/result_test/20250616-MaskRCNN-v1.0.1-trial/fold2/crf/N4-4.png\n",
      "テストラベル: /home/eric/Documents/cervicalResearchIIP/img_1006t/labeled/N4-4.png\n",
      "index =  9\n",
      "予測画像: /home/eric/Documents/cervicalResearchIIP/result_test/20250616-MaskRCNN-v1.0.1-trial/fold2/crf/N4-7.png\n",
      "テストラベル: /home/eric/Documents/cervicalResearchIIP/img_1006t/labeled/N4-7.png\n",
      "index =  10\n",
      "予測画像: /home/eric/Documents/cervicalResearchIIP/result_test/20250616-MaskRCNN-v1.0.1-trial/fold2/crf/N5-3.png\n",
      "テストラベル: /home/eric/Documents/cervicalResearchIIP/img_1006t/labeled/N5-3.png\n",
      "Count1 =  [643987, 12241, 7837, 8363, 5847, 7830, 5777, 7820, 5513, 9852, 5829]\n",
      "Count2 =  [642734, 12157, 7801, 8284, 5889, 7835, 5987, 8241, 5674, 10428, 5866]\n",
      "Count3 =  [636079, 10734, 6648, 7094, 5148, 6856, 5100, 6762, 4808, 8170, 5009]\n",
      "Dice =  [0.9886820841503325, 0.8799081891958357, 0.8502366031461823, 0.8522856971226047, 0.8773006134969326, 0.8753271624640919, 0.8670520231213873, 0.8420397235539505, 0.8595691427549834, 0.8057199211045365, 0.8566053869174861, 0.8566044462877991]\n",
      "Creating image paths...\n",
      "Processed 360 label paths and 360 feature paths.\n",
      "*************************Training*************************\n",
      "len(x) = 2\n",
      "x[0].shape = torch.Size([3, 256, 256])\n",
      "x[0].min(), x[0].max() = tensor(0.) tensor(1.)\n"
     ]
    },
    {
     "name": "stderr",
     "output_type": "stream",
     "text": [
      "/home/eric/anaconda3/envs/myenv/lib/python3.11/site-packages/torchvision/models/_utils.py:208: UserWarning: The parameter 'pretrained' is deprecated since 0.13 and may be removed in the future, please use 'weights' instead.\n",
      "  warnings.warn(\n",
      "/home/eric/anaconda3/envs/myenv/lib/python3.11/site-packages/torchvision/models/_utils.py:223: UserWarning: Arguments other than a weight enum or `None` for 'weights' are deprecated since 0.13 and may be removed in the future. The current behavior is equivalent to passing `weights=MaskRCNN_ResNet50_FPN_Weights.COCO_V1`. You can also use `weights=MaskRCNN_ResNet50_FPN_Weights.DEFAULT` to get the most up-to-date weights.\n",
      "  warnings.warn(msg)\n"
     ]
    },
    {
     "name": "stdout",
     "output_type": "stream",
     "text": [
      "=======start training======\n",
      "Epoch 0, loss: 0.2462\n",
      "Epoch 1, loss: 0.1704\n",
      "Epoch 2, loss: 0.1394\n",
      "Epoch 3, loss: 0.1539\n",
      "Epoch 4, loss: 0.1224\n",
      "Epoch 5, loss: 0.1158\n",
      "Epoch 6, loss: 0.1248\n",
      "Epoch 7, loss: 0.1240\n",
      "Epoch 8, loss: 0.1088\n",
      "Epoch 9, loss: 0.1221\n",
      "Epoch 10, loss: 0.1057\n",
      "Epoch 11, loss: 0.1032\n",
      "Epoch 12, loss: 0.1093\n",
      "Epoch 13, loss: 0.1233\n",
      "Epoch 14, loss: 0.1058\n",
      "Epoch 15, loss: 0.1175\n",
      "Epoch 16, loss: 0.1164\n",
      "Epoch 17, loss: 0.0958\n",
      "Epoch 18, loss: 0.1090\n",
      "Epoch 19, loss: 0.1060\n",
      "Epoch 20, loss: 0.1165\n",
      "Epoch 21, loss: 0.0966\n",
      "Epoch 22, loss: 0.1138\n",
      "Epoch 23, loss: 0.1014\n",
      "Epoch 24, loss: 0.0935\n",
      "Epoch 25, loss: 0.0962\n",
      "Epoch 26, loss: 0.1040\n",
      "Epoch 27, loss: 0.0876\n",
      "Epoch 28, loss: 0.1025\n",
      "Epoch 29, loss: 0.0878\n",
      "Epoch 30, loss: 0.0961\n",
      "Epoch 31, loss: 0.1006\n",
      "Epoch 32, loss: 0.0847\n",
      "Epoch 33, loss: 0.0897\n",
      "Epoch 34, loss: 0.1065\n",
      "Epoch 35, loss: 0.0921\n",
      "Epoch 36, loss: 0.1004\n",
      "Epoch 37, loss: 0.0861\n",
      "Epoch 38, loss: 0.0894\n",
      "Epoch 39, loss: 0.1011\n",
      "Epoch 40, loss: 0.0952\n",
      "Epoch 41, loss: 0.0841\n",
      "Epoch 42, loss: 0.1075\n",
      "Epoch 43, loss: 0.0962\n",
      "Epoch 44, loss: 0.1025\n",
      "Epoch 45, loss: 0.0971\n",
      "Epoch 46, loss: 0.0939\n",
      "Epoch 47, loss: 0.0983\n",
      "Epoch 48, loss: 0.1046\n",
      "Epoch 49, loss: 0.0919\n",
      "Epoch 50, loss: 0.0914\n",
      "Epoch 51, loss: 0.0945\n",
      "Epoch 52, loss: 0.0942\n",
      "Epoch 53, loss: 0.0878\n",
      "Epoch 54, loss: 0.0996\n",
      "Epoch 55, loss: 0.1004\n",
      "Epoch 56, loss: 0.0964\n",
      "Epoch 57, loss: 0.0914\n",
      "Epoch 58, loss: 0.0912\n",
      "Epoch 59, loss: 0.0911\n",
      "Epoch 60, loss: 0.0921\n",
      "Epoch 61, loss: 0.1007\n",
      "Epoch 62, loss: 0.0985\n",
      "Epoch 63, loss: 0.0936\n",
      "Epoch 64, loss: 0.0991\n",
      "Epoch 65, loss: 0.0913\n",
      "Epoch 66, loss: 0.0877\n",
      "Epoch 67, loss: 0.1031\n",
      "Epoch 68, loss: 0.1101\n",
      "Epoch 69, loss: 0.0975\n",
      "Epoch 70, loss: 0.0910\n",
      "Epoch 71, loss: 0.0992\n",
      "Epoch 72, loss: 0.0918\n",
      "Epoch 73, loss: 0.1013\n",
      "Epoch 74, loss: 0.0963\n",
      "Epoch 75, loss: 0.0866\n",
      "Epoch 76, loss: 0.0888\n",
      "Epoch 77, loss: 0.1016\n",
      "Epoch 78, loss: 0.0912\n",
      "Epoch 79, loss: 0.1019\n",
      "Epoch 80, loss: 0.0861\n",
      "Epoch 81, loss: 0.0928\n",
      "Epoch 82, loss: 0.0893\n",
      "Epoch 83, loss: 0.0971\n",
      "Epoch 84, loss: 0.1051\n",
      "Epoch 85, loss: 0.0992\n",
      "Epoch 86, loss: 0.0927\n",
      "Epoch 87, loss: 0.1014\n",
      "Epoch 88, loss: 0.1034\n",
      "Epoch 89, loss: 0.0896\n",
      "Epoch 90, loss: 0.0988\n",
      "Epoch 91, loss: 0.0962\n",
      "Epoch 92, loss: 0.0846\n",
      "Epoch 93, loss: 0.0953\n",
      "Epoch 94, loss: 0.0845\n",
      "Epoch 95, loss: 0.0977\n",
      "Epoch 96, loss: 0.0961\n",
      "Epoch 97, loss: 0.0968\n",
      "Epoch 98, loss: 0.0875\n",
      "Epoch 99, loss: 0.0891\n"
     ]
    },
    {
     "ename": "TypeError",
     "evalue": "expected Tensor as element 2215 in argument 0, but got int",
     "output_type": "error",
     "traceback": [
      "\u001b[0;31m---------------------------------------------------------------------------\u001b[0m",
      "\u001b[0;31mTypeError\u001b[0m                                 Traceback (most recent call last)",
      "Cell \u001b[0;32mIn[23], line 174\u001b[0m\n\u001b[1;32m    171\u001b[0m clear_cuda_memory()\n\u001b[1;32m    173\u001b[0m input_dataset_val,label_dataset_val \u001b[38;5;241m=\u001b[39m CreateWeightImageNew(input_name_val, augmentation\u001b[38;5;241m=\u001b[39mAUGMENTED)\n\u001b[0;32m--> 174\u001b[0m \u001b[43mLearn_EA_mask_rcnn\u001b[49m\u001b[43m(\u001b[49m\u001b[43minput_dataset\u001b[49m\u001b[43m,\u001b[49m\u001b[43mlabel_dataset\u001b[49m\u001b[43m,\u001b[49m\u001b[43minput_dataset_val\u001b[49m\u001b[43m,\u001b[49m\u001b[43mlabel_dataset_val\u001b[49m\u001b[43m,\u001b[49m\u001b[43m \u001b[49m\u001b[38;5;241;43m0\u001b[39;49m\u001b[43m,\u001b[49m\u001b[43m \u001b[49m\u001b[43mfold\u001b[49m\u001b[43m)\u001b[49m\n\u001b[1;32m    175\u001b[0m clear_cuda_memory()\n\u001b[1;32m    176\u001b[0m mConv_predict_mask_rcnn(X_test, fold)\n",
      "Cell \u001b[0;32mIn[19], line 143\u001b[0m, in \u001b[0;36mLearn_EA_mask_rcnn\u001b[0;34m(input_dataset, label_dataset, input_dataset_val, label_dataset_val, type_number, fold)\u001b[0m\n\u001b[1;32m    140\u001b[0m \u001b[38;5;28mprint\u001b[39m(\u001b[38;5;124m\"\u001b[39m\u001b[38;5;124m=======start training======\u001b[39m\u001b[38;5;124m\"\u001b[39m)\n\u001b[1;32m    142\u001b[0m \u001b[38;5;66;03m# start training\u001b[39;00m\n\u001b[0;32m--> 143\u001b[0m \u001b[43mtrainer\u001b[49m\u001b[38;5;241;43m.\u001b[39;49m\u001b[43mrun_trainer\u001b[49m\u001b[43m(\u001b[49m\u001b[43m)\u001b[49m\n\u001b[1;32m    144\u001b[0m \u001b[38;5;28mprint\u001b[39m(\u001b[38;5;124m\"\u001b[39m\u001b[38;5;124m***************************\u001b[39m\u001b[38;5;124m\"\u001b[39m)\n\u001b[1;32m    148\u001b[0m \u001b[38;5;66;03m#ここがちゃんとESで最適なエポック数のモデルになっているか要検証\u001b[39;00m\n",
      "File \u001b[0;32m~/Documents/cervicalResearchIIP/maskrcnn.py:69\u001b[0m, in \u001b[0;36mTrainer2MaskRCNN.run_trainer\u001b[0;34m(self)\u001b[0m\n\u001b[1;32m     67\u001b[0m \u001b[38;5;28;01mdef\u001b[39;00m \u001b[38;5;21mrun_trainer\u001b[39m(\u001b[38;5;28mself\u001b[39m):\n\u001b[1;32m     68\u001b[0m     \u001b[38;5;28mself\u001b[39m\u001b[38;5;241m.\u001b[39mtrain()\n\u001b[0;32m---> 69\u001b[0m     \u001b[38;5;28;43mself\u001b[39;49m\u001b[38;5;241;43m.\u001b[39;49m\u001b[43mvalidate\u001b[49m\u001b[43m(\u001b[49m\u001b[43m)\u001b[49m\n",
      "File \u001b[0;32m~/Documents/cervicalResearchIIP/maskrcnn.py:127\u001b[0m, in \u001b[0;36mTrainer2MaskRCNN.validate\u001b[0;34m(self)\u001b[0m\n\u001b[1;32m    124\u001b[0m                     best_dice \u001b[38;5;241m=\u001b[39m \u001b[38;5;28mmax\u001b[39m(best_dice, dice)\n\u001b[1;32m    125\u001b[0m                 dice_scores\u001b[38;5;241m.\u001b[39mappend(best_dice)\n\u001b[0;32m--> 127\u001b[0m mean_dice \u001b[38;5;241m=\u001b[39m \u001b[43mtorch\u001b[49m\u001b[38;5;241;43m.\u001b[39;49m\u001b[43mstack\u001b[49m\u001b[43m(\u001b[49m\u001b[43mdice_scores\u001b[49m\u001b[43m)\u001b[49m\u001b[38;5;241m.\u001b[39mmean()\u001b[38;5;241m.\u001b[39mitem()\n\u001b[1;32m    128\u001b[0m \u001b[38;5;28mprint\u001b[39m(\u001b[38;5;124mf\u001b[39m\u001b[38;5;124m\"\u001b[39m\u001b[38;5;124mValidation Dice: \u001b[39m\u001b[38;5;132;01m{\u001b[39;00mmean_dice\u001b[38;5;132;01m:\u001b[39;00m\u001b[38;5;124m.4f\u001b[39m\u001b[38;5;132;01m}\u001b[39;00m\u001b[38;5;124m\"\u001b[39m)\n",
      "\u001b[0;31mTypeError\u001b[0m: expected Tensor as element 2215 in argument 0, but got int"
     ]
    }
   ],
   "source": [
    "## Execution\n",
    "from dataArrange import dataRearrange1\n",
    "## Test Learn_EA without annealing\n",
    "# training transformations and augmentations\n",
    "\n",
    "transforms_training = ComposeDouble([\n",
    "    FunctionWrapperDouble(create_dense_target, input=False, target=True),\n",
    "    FunctionWrapperDouble(np.moveaxis, input=True, target=False, source=-1, destination=0),\n",
    "    FunctionWrapperDouble(normalize_01)\n",
    "])\n",
    "\n",
    "#追加箇所ver3\n",
    "transforms_val =  ComposeDouble([\n",
    "    FunctionWrapperDouble(create_dense_target, input=False, target=True),\n",
    "    FunctionWrapperDouble(np.moveaxis, input=True, target=False, source=-1, destination=0),\n",
    "    FunctionWrapperDouble(normalize_01)\n",
    "\n",
    "])\n",
    "\n",
    "# random seed\n",
    "random_seed = 0\n",
    "\n",
    "X = file_names_with_prefix(data_dir, 'N')\n",
    "\n",
    "#X.remove('N5-2')\n",
    "#X.remove('N5-6')\n",
    "\n",
    "y_file_names = file_names_with_prefix(labeled_dir, 'N')\n",
    "\n",
    "#y_file_names.remove('N5-2')\n",
    "#y_file_names.remove('N5-6')\n",
    "\n",
    "y = [label_group[:2] for label_group in y_file_names]\n",
    "\n",
    "X = np.array(X)\n",
    "y = np.array(y)\n",
    "\n",
    "print(X)\n",
    "print(y)\n",
    "\n",
    "##RANDOM WEIGHT TENSOR for now\n",
    "# weights = torch.tensor([\n",
    "#     #'GRY_', 'NML1', 'NML2', 'NML3', 'TOP1', 'TOP2', 'TOP3', 'TOP4', 'SBLX', 'SBLY', \n",
    "#     1.4, 1.4, 1.4, 1.4, 0.5, 0.5, 0.5, 0.5, 0.5, 0.5,\n",
    "#     #'SBLM', 'SBLD', 'SBL1', 'SBL2', 'SBL3', 'SBL4', 'LPL1', 'LPL2', 'MEA1', 'MEA2', \n",
    "#     0.5, 0.5, 0.5, 0.5, 0.5, 0.5, 0.3, 0.3, 1.4, 1.3,\n",
    "#     #'GAU1', 'GAU2', 'MED1', 'MED2', 'LBP1', 'LBP2', 'LBP3', 'ETC1', 'ETC2', 'STC1', \n",
    "#     1.2, 1.2, 1.4, 1.4, 0.3, 0.3, 0.3, 1.3, 1.3, 1.3,\n",
    "#     #'STC2', 'HGF_', 'NGP_', 'POS1', 'POS2', 'POS3', 'SOL_', 'EMB1', 'EMB2', 'EMB3', \n",
    "#     1.2, 1.3, 2.0, 1.4, 1.4, 1.4, 0.5, 1.3, 1.3, 1.3,\n",
    "#     #'KNN1', 'KNN2', 'BLT1', 'BLT2', 'OOO_', 'CAN1', 'CAN2', 'CAN3', 'PRE1', 'PRE2', \n",
    "#     1.4, 1.4, 1.4, 1.4, -2.0, 0.3, 0.3, 0.3, 1.2, 1.4,\n",
    "#     #'PRE3', 'PRE4', 'UNS1', 'UNS2', 'UNS3', 'UNS4', 'UNS5', 'FOU1', 'FOU2', 'FOU3', \n",
    "#     1.0, 1.4, 1.4, 1.4, 1.4, 1.4, 1.4, 0.5, 0.5, 0.5,\n",
    "#     #'FOU4', 'ERO1', 'ERO2', 'ERO3', 'ERO4', 'ERO5', 'ERO6', 'OPN1', 'OPN2', 'OPN3', \n",
    "#     0.5, 1.2, 1.2, 1.2, 1.2, 1.2, 1.2, 1.4, 1.4, 1.4,\n",
    "#     #'OPN4', 'OPN5', 'CLO1', 'CLO2', 'CLO3', 'CLO4', 'CLO5', 'SCH1', 'SCH2', 'SCH3', \n",
    "#     1.4, 1.4, 1.4, 1.4, 1.4, 1.4, 1.4, 0.3, 0.3, 0.3,\n",
    "#     #'SCH4', 'ROB1', 'ROB2', 'ROB3', 'ROB4', 'MIN1', 'MIN2', 'MIN3', 'MIN4', 'MAX1', \n",
    "#     0.3, 0.5, 0.5, 0.5, 0.5, 1.4, 1.4, 1.4, 1.4, 1.4,\n",
    "#     #'MAX2', 'MAX3', 'MAX4', 'MRG1', 'MRG2', 'MRG3', 'MRG4', 'MRL1', 'MRL2', 'MRL3', \n",
    "#     1.4, 1.4, 1.4, 0.5, 0.5, 0.5, 0.5, 1.4, 1.4, 1.4,\n",
    "#     #'MRL4', 'BTM1', 'BTM2', 'BTM3', 'BTM4', 'DST_', 'HOM_', 'RIC_'\n",
    "#     1.4, 0.5, 0.5, 0.5, -.5, -2.0, -2.0, 1.4\n",
    "# ])\n",
    "\n",
    "\n",
    "#dices\n",
    "#ablation weight\n",
    "# weights = torch.tensor([\n",
    "#      0.666, 0.603, 0.686, 0.691, 0.62, 0.671, 0.7, 0.661, 0.709, 0.624, \n",
    "#      0.714, 0.728, 0.639, 0.731, 0.704, 0.734, 0.741, 0.731, 0.715, 0.663, \n",
    "#      0.648, 0.692, 0.749, 0.609, 0.744, 0.661, 0.663, 0.723, 0.698, 0.685, 0.722, \n",
    "#      0.641, 0.667, 0.752, 0.654, 0.683, 0.683, 0.18, 0.658, 0.68, 0.677, 0.669, 0.687, \n",
    "#      0.789, 0.717, 0.773, 0.748, 0.675, 0.746, 0.74, 0.694, 0.688, 0.637, 0.63, 0.669, 0.722, \n",
    "#      0.746, 0.705, 0.64, 0.693, 0.662, 0.652, 0.703, 0.744, 0.657, 0.676, 0.676, 0.671, 0.674, \n",
    "#      0.683, 0.679, 0.702, 0.672, 0.681, 0.647, 0.732, 0.735, 0.676, 0.699, 0.651, 0.766, 0.74, \n",
    "#      0.716, 0.634, 0.665, 0.649, 0.761, 0.713, 0.649, 0.72, 0.747, 0.67, 0.667, 0.666, 0.674, \n",
    "#      0.649, 0.637, 0.749, 0.682, 0.721, 0.729, 0.691, 0.74, 0.735, 0.766, 0.761, 0.732, 0.686\n",
    "# ])\n",
    "\n",
    "\n",
    "# #individual filter weights\n",
    "# weights = torch.tensor([\n",
    "#     0.717, 0.704, 0.695, 0.708, 0.467, 0.386, 0.489, 0.633, \n",
    "#     0.479, 0.53, 0.497, 0.464, 0.503, 0.565, 0.45, 0.583, 0.223, \n",
    "#     0.337, 0.708, 0.674, 0.688, 0.651, 0.683, 0.734, 0.39, 0.274, 0.382, \n",
    "#     0.649, 0.669, 0.666, 0.628, 0.67, 0.819, 0.633, 0.641, 0.691, 0.547, \n",
    "#     0.633, 0.645, 0.606, 0.694, 0.684, 0.699, 0.713, 0, 0.398, 0.347, 0.259, \n",
    "#     0.582, 0.733, 0.552, 0.711, 0.689, 0.688, 0.676, 0.71, 0.687, 0.691, 0.383, \n",
    "#     0.375, 0.721, 0.693, 0.727, 0.672, 0.681, 0.67, 0.642, 0.68, 0.702, 0.666, 0.674, \n",
    "#     0.719, 0.706, 0.669, 0.725, 0.734, 0.693, 0.402, 0.308, 0.582, 0.217, 0.467, 0.663, \n",
    "#     0.537, 0.508, 0.691, 0.681, 0.677, 0.659, 0.701, 0.688, 0.652, 0.664, 0.548, 0.588, \n",
    "#     0.614, 0.562, 0.68, 0.709, 0.653, 0.679, 0.357, 0.485, 0.532, 0.581, 0.195, 0.307, 0.699\n",
    "# ])\n",
    "\n",
    "# import torch.nn.functional as F\n",
    "# weights = F.softmax(weights, dim=0)\n",
    "\n",
    "\n",
    "\n",
    "if CROSS_VAL:\n",
    "    skf = StratifiedKFold(n_splits=N_SPLIT, shuffle=True)\n",
    "    # each case same division\n",
    "    #skf = StratifiedKFold(n_splits=N_SPLIT, shuffle=True, random_state=42)\n",
    "    for fold, (train_index, test_index) in enumerate(skf.split(X, y), 1):\n",
    "        # if fold < 4:\n",
    "        #      continue\n",
    "        # Split the data into train and test sets\n",
    "        X_train, X_test = X[train_index], X[test_index]\n",
    "        y_train, y_test = y[train_index], y[test_index]\n",
    "        \n",
    "        # Split the training data further into train and validation ( 1/3 split)\n",
    "        X_train_final, X_val, y_train_final, y_val = train_test_split(\n",
    "            X_train, y_train, test_size=0.333333333, random_state=42, stratify=y_train)\n",
    "        \n",
    "        \n",
    "        input_train = X_train_final\n",
    "        input_name_val = X_val\n",
    "        print(\"Cross validation: \" + str(CROSS_VAL))\n",
    "        print(f\"Fold: {fold} out of {N_SPLIT}\")\n",
    "        print(\"Augmentation: \" + str(AUGMENTED))\n",
    "        if AUGMENTED:\n",
    "            print(\"Augmentation amount: \" + str(AUGMENTATION))\n",
    "        print(\"Training: Total of \" + str(len(input_train)) + \" cases.\")\n",
    "        print(input_train)\n",
    "\n",
    "        print(\"Validation: Total of \" + str(len(input_name_val)) + \" cases.\")\n",
    "        print(input_name_val)\n",
    "        \n",
    "        print(\"Test: Total of \" + str(len(X_test)) + \" cases.\")  \n",
    "        print(X_test)\n",
    "        print()\n",
    "        \n",
    "        if AUGMENTED:\n",
    "            ## This part is for accounting the data augmentation, attaches augmentation numbers after the original img\n",
    "            ## ex: original number N1-1 -> N1-1-1, N1-1-2 etc.\n",
    "            repeated_items_train = np.repeat(input_train, AUGMENTATION)\n",
    "            suffixes_train = np.tile(np.arange(1, AUGMENTATION + 1), len(repeated_items_train))\n",
    "            input_train = np.array([f\"{item}-{suffix}\" for item, suffix in zip(repeated_items_train, suffixes_train)])\n",
    "            #Custom Arranging for training dataset because of the augmentation order\n",
    "            input_train = np.array(dataRearrange1(input_train, AUGMENTATION))\n",
    "            \n",
    "            \n",
    "            repeated_items_val = np.repeat(input_name_val, AUGMENTATION)\n",
    "            suffixes_val = np.tile(np.arange(1, AUGMENTATION + 1), len(repeated_items_val))\n",
    "            input_name_val = np.array([f\"{item}-{suffix}\" for item, suffix in zip(repeated_items_val, suffixes_val)])\n",
    "        \n",
    "        \n",
    "        input_dataset,label_dataset = CreateWeightImageNew(input_train, augmentation=AUGMENTED)\n",
    "        input_dataset_val,label_dataset_val = CreateWeightImage(input_name_val, augmentation=AUGMENTED)\n",
    "        \n",
    "        # ### lastly added for weight management\n",
    "        # weights = weights.view(1, 1, 1, -1)  # Reshape for broadcasting\n",
    "        \n",
    "        # #making pytorch tensor\n",
    "        # input_dataset = torch.tensor(input_dataset, dtype=torch.float32)\n",
    "        # input_dataset_val = torch.tensor(input_dataset_val, dtype=torch.float32)\n",
    "        # weights = torch.tensor(weights, dtype=torch.float32)\n",
    "        \n",
    "        # input_dataset = input_dataset * weights\n",
    "        # input_dataset_val = input_dataset_val * weights\n",
    "        \n",
    "        # input_dataset = input_dataset.numpy()\n",
    "        # input_dataset_val = input_dataset_val.numpy()\n",
    "        \n",
    "        \n",
    "        Learn_EA(input_dataset,label_dataset,input_dataset_val,label_dataset_val, 0, fold)\n",
    "        mConv_predict(X_test, fold)\n",
    "        \n",
    "        clear_cuda_memory()\n",
    "        \n",
    "        input_dataset_val,label_dataset_val = CreateWeightImageNew(input_name_val, augmentation=AUGMENTED)\n",
    "        Learn_EA_mask_rcnn(input_dataset,label_dataset,input_dataset_val,label_dataset_val, 0, fold)\n",
    "        clear_cuda_memory()\n",
    "        mConv_predict_mask_rcnn(X_test, fold)\n",
    "        clear_cuda_memory()\n",
    "else:\n",
    "    X_train, X_test, y_train, y_test = train_test_split(X, y, test_size=0.25, stratify=y, random_state=42)\n",
    "    \n",
    "    X_train_final, X_val, y_train_final, y_val = train_test_split(\n",
    "            X_train, y_train, test_size=0.333333333, random_state=42, stratify=y_train)\n",
    "    \n",
    "    input_train = X_train_final\n",
    "    input_name_val = X_val\n",
    "    \n",
    "    print(\"Cross validation: \" + str(CROSS_VAL))\n",
    "    print(\"Augmentation: \" + str(AUGMENTED))\n",
    "    if AUGMENTED:\n",
    "        print(\"Augmentation amount: \" + str(AUGMENTATION))\n",
    "    print(\"Training: Total of \" + str(len(input_train)) + \" cases.\")\n",
    "    print(input_train)\n",
    "\n",
    "    print(\"Validation: Total of \" + str(len(input_name_val)) + \" cases.\")\n",
    "    print(input_name_val)\n",
    "        \n",
    "    print(\"Test: Total of \" + str(len(X_test)) + \" cases.\")  \n",
    "    print(X_test)\n",
    "    print()\n",
    "    \n",
    "    if AUGMENTED:\n",
    "        ## This part is for accounting the data augmentation, attaches augmentation numbers after the original img\n",
    "        ## ex: original number N1-1 -> N1-1-1, N1-1-2 etc.\n",
    "        repeated_items_train = np.repeat(input_train, AUGMENTATION)\n",
    "        suffixes_train = np.tile(np.arange(1, AUGMENTATION + 1), len(repeated_items_train))\n",
    "        input_train = np.array([f\"{item}-{suffix}\" for item, suffix in zip(repeated_items_train, suffixes_train)])\n",
    "        \n",
    "        #Custom Arranging for training dataset because of the augmentation order\n",
    "        input_train = np.array(dataRearrange1(input_train, AUGMENTATION))\n",
    "            \n",
    "            \n",
    "        repeated_items_val = np.repeat(input_name_val, AUGMENTATION)\n",
    "        suffixes_val = np.tile(np.arange(1, AUGMENTATION + 1), len(repeated_items_val))\n",
    "        input_name_val = np.array([f\"{item}-{suffix}\" for item, suffix in zip(repeated_items_val, suffixes_val)])\n",
    "    \n",
    "    input_dataset,label_dataset = CreateWeightImageNew(input_train, augmentation=AUGMENTED)\n",
    "    input_dataset_val,label_dataset_val = CreateWeightImage(input_name_val, augmentation=AUGMENTED)\n",
    "    \n",
    "    \n",
    "    \n",
    "    # # ### lastly added for weight management\n",
    "    # weights = weights.view(1, 1, 1, -1)  # Reshape for broadcasting\n",
    "    \n",
    "    # #making pytorch tensor\n",
    "    # input_dataset = torch.tensor(input_dataset, dtype=torch.float32)\n",
    "    # input_dataset_val = torch.tensor(input_dataset_val, dtype=torch.float32)\n",
    "    # weights = torch.tensor(weights, dtype=torch.float32)\n",
    "    \n",
    "    # input_dataset = input_dataset * weights\n",
    "    # input_dataset_val = input_dataset_val * weights\n",
    "    # input_dataset = input_dataset.numpy()\n",
    "    # input_dataset_val = input_dataset_val.numpy()\n",
    "    Learn_EA(input_dataset,label_dataset,input_dataset_val,label_dataset_val, 0)\n",
    "    mConv_predict(X_test)\n",
    "    clear_cuda_memory()\n",
    "    input_dataset_val,label_dataset_val = CreateWeightImageNew(input_name_val, augmentation=AUGMENTED)\n",
    "    Learn_EA_mask_rcnn(input_dataset,label_dataset,input_dataset_val,label_dataset_val, 0)\n",
    "    clear_cuda_memory()\n",
    "    \n",
    "    mConv_predict_mask_rcnn(X_test)\n",
    "    clear_cuda_memory()\n",
    "    "
   ]
  },
  {
   "cell_type": "code",
   "execution_count": null,
   "metadata": {},
   "outputs": [],
   "source": [
    "# df_optuna = pd.DataFrame(columns = ['Dice_importance', 'CE_importance', \"Dice\"])\n",
    "# def objective(trial):\n",
    "#     N_BLOCK = 5\n",
    "#     LR = 0.003\n",
    "\n",
    "#     OUTPUT_DIR = '20250528-DiCELossOptimization'\n",
    "    \n",
    "#     print(f\"Trial {trial.number}\")\n",
    "\n",
    "#     IN_CHANNEL = 108\n",
    "\n",
    "#     AUGMENTED = False\n",
    "#     AUGMENTATION  =  30\n",
    "\n",
    "\n",
    "#     CROSS_VAL = False\n",
    "#     N_SPLIT = 4\n",
    "    \n",
    "#     DICE_IMPORTANCE = trial.suggest_float(\"dice_importance\", 1.0, 100.0)\n",
    "#     CE_IMPORTANCE = trial.suggest_float(\"ce_importance\", 1.0, 100.0)\n",
    "       \n",
    "    \n",
    "#     dice_val = executeExperiment()\n",
    "    \n",
    "#     #df_optuna.add([DICE_IMPORTANCE, CE_IMPORTANCE, dice_val])\n",
    "#     return dice_val\n",
    "    \n",
    "# import optuna\n",
    "\n",
    "# # Create a study to minimize or maximize the metric\n",
    "# study = optuna.create_study(direction='maximize')  # or 'minimize' based on your metric\n",
    "# study.optimize(objective, n_trials = 360)\n",
    "# #df_optuna.to_csv(\"optuna_optimization_loss_function.csv\") \n"
   ]
  },
  {
   "cell_type": "code",
   "execution_count": null,
   "metadata": {},
   "outputs": [],
   "source": [
    "# print(study.best_params)\n",
    "# study.best_value"
   ]
  }
 ],
 "metadata": {
  "kernelspec": {
   "display_name": "myenv",
   "language": "python",
   "name": "python3"
  },
  "language_info": {
   "codemirror_mode": {
    "name": "ipython",
    "version": 3
   },
   "file_extension": ".py",
   "mimetype": "text/x-python",
   "name": "python",
   "nbconvert_exporter": "python",
   "pygments_lexer": "ipython3",
   "version": "3.11.9"
  }
 },
 "nbformat": 4,
 "nbformat_minor": 2
}
