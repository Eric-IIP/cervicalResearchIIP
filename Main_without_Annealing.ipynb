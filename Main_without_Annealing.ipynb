{
 "cells": [
  {
   "cell_type": "code",
   "execution_count": 1,
   "metadata": {
    "tags": [
     "parameters"
    ]
   },
   "outputs": [],
   "source": [
    "N_BLOCK = 5\n",
    "LR = 0.003\n",
    "OUTPUT_DIR = '20250205-DenseCRFIntegrationExperiment2'\n",
    "\n",
    "# after the 4 divided conv1x1 108/4 = 27\n",
    "IN_CHANNEL = 45\n",
    "\n",
    "AUGMENTED = True\n",
    "AUGMENTATION  =  30\n",
    "\n",
    "\n",
    "CROSS_VAL = True\n",
    "N_SPLIT = 4"
   ]
  },
  {
   "cell_type": "code",
   "execution_count": 2,
   "metadata": {},
   "outputs": [
    {
     "name": "stderr",
     "output_type": "stream",
     "text": [
      "2025-02-05 07:08:02.743277: I tensorflow/core/platform/cpu_feature_guard.cc:210] This TensorFlow binary is optimized to use available CPU instructions in performance-critical operations.\n",
      "To enable the following instructions: AVX2 FMA, in other operations, rebuild TensorFlow with the appropriate compiler flags.\n",
      "2025-02-05 07:08:03.437968: W tensorflow/compiler/tf2tensorrt/utils/py_utils.cc:38] TF-TRT Warning: Could not find TensorRT\n"
     ]
    }
   ],
   "source": [
    "from numpy.core.numeric import NaN\n",
    "from MCtool.RFilter import gray\n",
    "from genericpath import exists\n",
    "from matplotlib import image\n",
    "import math\n",
    "import sys\n",
    "import time\n",
    "\n",
    "import cv2\n",
    "from matplotlib import pyplot as plt\n",
    "from tensorflow.python.keras.backend import dtype\n",
    "from DeepLearning import LearnAndTest\n",
    "from Rpkg.Rfund.InputFeature import InputFeature\n",
    "import datetime\n",
    "import os\n",
    "import gc\n",
    "import tensorflow as tf\n",
    "import random\n",
    "import numpy as np\n",
    "import pandas as pd\n",
    "\n",
    "from Rpkg.Rfund import ReadFile, WriteFile\n",
    "from Rpkg.Rmodel import Unet, Mnet\n",
    "\n",
    "import Filtering\n",
    "\n",
    "import torch\n",
    "from torch import nn\n",
    "\n",
    "\n",
    "import DeepLearning\n",
    "from tensorflow.keras.optimizers import Adam\n",
    "\n",
    "from Rpkg.Rfund.InputFeature import InputFeature\n",
    "from Rpkg.Rfund import ReadFile, WriteFile\n",
    "from Rpkg.Rmodel import Unet, Mnet\n",
    "\n",
    "from MCtool import RFilter, resultEval\n",
    "from DeepLearning import save_eval_result\n",
    "\n",
    "import numpy as np\n",
    "import cv2\n",
    "import torch\n",
    "from transformations import ComposeDouble, FunctionWrapperDouble, create_dense_target, normalize_01\n",
    "from customdatasets import SegmentationDataSet1\n",
    "from torch.utils.data import DataLoader\n",
    "from sklearn.model_selection import train_test_split\n",
    "import pathlib\n",
    "from skimage.transform import resize\n",
    "\n",
    "#early stopping なし\n",
    "from unet import UNet\n",
    "from trainer import Trainer\n",
    "from sklearn.model_selection import StratifiedKFold, train_test_split\n",
    "\n",
    "\n"
   ]
  },
  {
   "cell_type": "code",
   "execution_count": 4,
   "metadata": {},
   "outputs": [],
   "source": [
    "# Make sure there is no randomness in the output so that the output is reproduceable\n",
    "import torch\n",
    "import numpy as np\n",
    "import random\n",
    "\n",
    "# Set seed for Python random module\n",
    "random.seed(42)\n",
    "\n",
    "# Set seed for NumPy\n",
    "np.random.seed(42)\n",
    "\n",
    "# Set seed for PyTorch\n",
    "torch.manual_seed(42)\n",
    "\n",
    "# If you are using GPU\n",
    "torch.cuda.manual_seed(42)\n",
    "torch.cuda.manual_seed_all(42)\n",
    "\n",
    "# Make the convolution operations deterministic\n",
    "torch.backends.cudnn.deterministic = True\n",
    "\n",
    "# Disable the CUDNN benchmark to ensure deterministic results\n",
    "torch.backends.cudnn.benchmark = False\n"
   ]
  },
  {
   "cell_type": "code",
   "execution_count": 5,
   "metadata": {},
   "outputs": [
    {
     "name": "stdout",
     "output_type": "stream",
     "text": [
      "PyTorch Version installed: 2.3.0+cu121\n",
      "CUDA version associated with PyTorch version: 12.1\n",
      "Version of cuDNN (CUDA Deep Neural Network library) being used by PyTorch8902\n",
      "CUDA is available: True\n",
      "Number of GPUs compatible with CUDA:1\n",
      "Name of the GPU at index 0: NVIDIA GeForce RTX 2080 Ti\n",
      "Current CUDA device index: 0\n"
     ]
    }
   ],
   "source": [
    "# 自分の環境設定がうまくいったかどうかを確認しましょう、特にGPUの動作\n",
    "# Prints the version of PyTorch installed\n",
    "print('PyTorch Version installed: ' + torch.__version__)\n",
    "\n",
    "# Prints the version of CUDA associated with the installed PyTorch version\n",
    "print('CUDA version associated with PyTorch version: ' + torch.version.cuda)\n",
    "\n",
    "# Prints the version of cuDNN (CUDA Deep Neural Network library) being used by PyTorch\n",
    "print('Version of cuDNN (CUDA Deep Neural Network library) being used by PyTorch' + str(torch.backends.cudnn.version()))\n",
    "\n",
    "# Same as the line above\n",
    "print('CUDA is available: ' + str(torch.cuda.is_available()))\n",
    "\n",
    "# Returns the number of available CUDA-enabled GPUs\n",
    "print('Number of GPUs compatible with CUDA:' + str(torch.cuda.device_count()))\n",
    "\n",
    "# Returns the name of the GPU at index 0\n",
    "print('Name of the GPU at index 0: '  + str(torch.cuda.get_device_name(0)))\n",
    "\n",
    "# Returns the index of the current CUDA device being used\n",
    "print('Current CUDA device index: '  + str(torch.cuda.current_device()))\n"
   ]
  },
  {
   "cell_type": "code",
   "execution_count": 6,
   "metadata": {},
   "outputs": [],
   "source": [
    "# ファイル名の先頭部分（prefix）により自動的にファイル名を抽出するアルゴリズム。\n",
    "# 実際それぞれのファイル名は違うと思うので、必須ではない\n",
    "\n",
    "\"\"\" \n",
    "\n",
    "Extracts filenames in directory if they start with the prefix input \n",
    "\n",
    "\n",
    "Args/Parameters:\n",
    "\n",
    "    directory_path (string): The path of the dir (ex: /root/home/Documents/etc)\n",
    "    \n",
    "    prefix (string): Prefix of the file name (ex: 'Bo' is a prefix of 'Bone')\n",
    "\n",
    "Returns:\n",
    "\n",
    "    sorted_file_names (list of str): File names sorted in ascending order in the dir without extension ex: ['bone1', 'bone2', ...]\n",
    "\n",
    "Raises:\n",
    "\n",
    "    SomeError: ...\n",
    "\n",
    "\"\"\"\n",
    "\n",
    "def file_names_with_prefix(directory_path, prefix):\n",
    "\n",
    "    # Initialize an empty list to store the file names without extensions\n",
    "    file_names_without_extension = []\n",
    "\n",
    "    # Loop through all files in the specified directory\n",
    "    for filename in os.listdir(directory_path):\n",
    "        #Checking if the file in loop exists in the directory_path not sure how is this necessary\n",
    "        #??\n",
    "        if os.path.isfile(os.path.join(directory_path, filename)):\n",
    "            # Check if the file name starts with the specified prefix\n",
    "            if filename.startswith(prefix):\n",
    "                # Get the file name without extension\n",
    "                name_without_extension, _ = os.path.splitext(filename)\n",
    "\n",
    "                # Append the file name (without extension) to the list\n",
    "                file_names_without_extension.append(name_without_extension)\n",
    "\n",
    "    # Sort the list of file names without extensions in ascending order\n",
    "    sorted_file_names = sorted(\n",
    "        file_names_without_extension,\n",
    "        key=lambda x: (x.split('-')[0], int(x.split('-')[1]))\n",
    "    )  # Modify this part based on your file naming convention\n",
    "\n",
    "    # Now you have a sorted list of file names with the specified prefix and without extensions\n",
    "    return sorted_file_names\n"
   ]
  },
  {
   "cell_type": "code",
   "execution_count": 8,
   "metadata": {},
   "outputs": [
    {
     "name": "stdout",
     "output_type": "stream",
     "text": [
      "Root directory: /home/eric/Documents/cervicalResearchIIP\n",
      "Data directory (original dir): /home/eric/Documents/cervicalResearchIIP/img_1006t/original\n",
      "Feature img directory: /home/eric/Documents/cervicalResearchIIP/img_1006t/feature\n",
      "Labeled img directory: /home/eric/Documents/cervicalResearchIIP/img_1006t/labeled\n",
      "Annealing directory: /home/eric/Documents/cervicalResearchIIP/img_1006/original\n",
      "Result directory: /home/eric/Documents/cervicalResearchIIP/result/20250205-DenseCRFIntegrationExperiment2\n",
      "Test result directory: /home/eric/Documents/cervicalResearchIIP/result_test/20250205-DenseCRFIntegrationExperiment2\n"
     ]
    }
   ],
   "source": [
    "import pathlib\n",
    "from pathlib import Path\n",
    "\n",
    "# ここで、folder名とかPathとか色々設定\n",
    "\n",
    "# Setting the directory name, path and other settings\n",
    "\n",
    "# Define the root directory where your project is located\n",
    "# Defining a Path object for the project's root dir\n",
    "root_dir = Path(pathlib.Path.cwd())\n",
    "\n",
    "# result folder name\n",
    "#date_str = '20241202-Conv1x1-' + str(OUTPUT_DIR)\n",
    "date_str = OUTPUT_DIR\n",
    "\n",
    "# Define the directories for different types of data\n",
    "# Concatenating the root dir to the different dataset dirs\n",
    "data_dir = str(root_dir / \"img_1006t/original\")\n",
    "feature_dir = str(root_dir / \"img_1006t/feature\") \n",
    "labeled_dir = str(root_dir / \"img_1006t/labeled\")\n",
    "\n",
    "augmented_labeled_dir = str(root_dir / \"img_1006t/labelAug\")\n",
    "augmented_data_dir = str(root_dir / \"img_1006t/originalAug\")\n",
    "augmented_feature_dir = str(root_dir / \"img_1006t/featureAug\")\n",
    "\n",
    "# annealing_img_dir = str(root_dir / \"img_1006/annealing_img\") # 焼きなまし法時に使う\n",
    "# annealing later, original for now\n",
    "annealing_img_dir = str(root_dir / \"img_1006/original\")\n",
    "result_dir = str(root_dir / \"result\" / date_str)\n",
    "test_result_dir= str(root_dir / \"result_test\" / date_str)\n",
    "\n",
    "# Making directories based on the path string result_dir and test_result_dir\n",
    "Path(result_dir).mkdir(parents=True, exist_ok=True)\n",
    "Path(test_result_dir).mkdir(parents=True, exist_ok=True)\n",
    "\n",
    "# Prints the paths of the dirs\n",
    "print('Root directory: ' + str(root_dir))\n",
    "print('Data directory (original dir): ' + str(data_dir))\n",
    "print('Feature img directory: ' + str(feature_dir))\n",
    "print('Labeled img directory: ' + str(labeled_dir))\n",
    "print('Annealing directory: ' + str(annealing_img_dir))\n",
    "print('Result directory: ' + str(result_dir))\n",
    "print('Test result directory: ' + str(test_result_dir))\n",
    "\n",
    "# Defining variables filename list of path str starts with the prefix format\n",
    "# In this case: N1 and N3 is training data and N2 is validation data and N4 is a test data\n",
    "input_train = []\n",
    "input_name_val = []\n",
    "annealing_input_name = []\n",
    "input_train = []\n",
    "test_input_name = []\n",
    "\n",
    "\n",
    "# for raw_input_img in INPUT:\n",
    "#     input_train.extend(file_names_with_prefix(data_dir, raw_input_img))\n",
    "# for raw_val_img in VALIDATION:\n",
    "#     input_name_val.extend(file_names_with_prefix(data_dir, raw_val_img))\n",
    "# for raw_anneal in ANNEALING:\n",
    "#     annealing_input_name.extend(file_names_with_prefix(data_dir, raw_anneal))\n",
    "# for raw_test in TEST:\n",
    "#     test_input_name.extend(file_names_with_prefix(data_dir, raw_test))\n",
    "\n",
    "\n",
    "####old version of assigning\n",
    "# input_train = file_names_with_prefix(data_dir, INPUT)\n",
    "# input_name_val = file_names_with_prefix(data_dir, VALIDATION)\n",
    "# annealing_input_name = file_names_with_prefix(data_dir, ANNEALING)\n",
    "# test_input_name = file_names_with_prefix(data_dir, TEST) \n",
    "\n",
    "\n",
    "# extra_dataset = file_names_with_prefix(data_dir,'N5-')\n",
    "# input_train.extend(extra_dataset)\n",
    "\n",
    "# Prints the each data image name\n",
    "# print(input_train)\n",
    "# print(input_name_val)\n",
    "# print(annealing_input_name)\n",
    "# print(test_input_name)\n",
    "# print(extra_dataset)\n",
    "\n",
    "\n",
    "# Defining a var to store each list length\n",
    "len_train = len(input_train)\n",
    "len_val = len(input_name_val)\n",
    "len_test = len(test_input_name)\n",
    "len_annealing = len(annealing_input_name)\n",
    "\n",
    "\n",
    "# print(len(input_train))\n",
    "\n",
    "# print(len(input_name_val))\n",
    "# print(len(test_input_name))\n",
    "# print(len(annealing_input_name))\n"
   ]
  },
  {
   "cell_type": "code",
   "execution_count": 9,
   "metadata": {},
   "outputs": [
    {
     "name": "stdout",
     "output_type": "stream",
     "text": [
      "['GRY_', 'NML1', 'NML2', 'NML3', 'TOP1', 'TOP2', 'TOP3', 'TOP4', 'SBLX', 'SBLY', 'SBLM', 'SBLD', 'SBL1', 'SBL2', 'SBL3', 'SBL4', 'LPL1', 'LPL2', 'MEA1', 'MEA2', 'GAU1', 'GAU2', 'MED1', 'MED2', 'LBP1', 'LBP2', 'LBP3', 'ETC1', 'ETC2', 'STC1', 'STC2', 'HGF_', 'NGP_', 'POS1', 'POS2', 'POS3', 'SOL_', 'EMB1', 'EMB2', 'EMB3', 'KNN1', 'KNN2', 'BLT1', 'BLT2', 'OOO_']\n",
      "45\n"
     ]
    }
   ],
   "source": [
    "# 特徴画像の特徴一覧をリストとして取得\n",
    "inputfeature_list = list(map(str, InputFeature))\n",
    "print(inputfeature_list)\n",
    "\n",
    "feature_num = len(inputfeature_list)\n",
    "print(feature_num)"
   ]
  },
  {
   "cell_type": "code",
   "execution_count": 10,
   "metadata": {},
   "outputs": [],
   "source": [
    "## 重み計算なし\n",
    "def CreateWeightImage(input_number, augmentation=False):\n",
    "    print(\"Creating image arrays...\")\n",
    "    label_dataset = []\n",
    "    arrDataset = []\n",
    "    for i in input_number:\n",
    "        if augmentation:\n",
    "            label_path = os.path.join(augmented_labeled_dir, str(AUGMENTATION) + \"aug/\" , f\"{i}.png\")\n",
    "        else:\n",
    "            label_path = os.path.join(labeled_dir, f\"{i}.png\")\n",
    "        input_originallabel = cv2.imread(label_path, cv2.IMREAD_GRAYSCALE)\n",
    "        # commented the binary label because the project has more labels than 2 \n",
    "        #_, binary_label = cv2.threshold(input_originallabel, 0, 255, cv2.THRESH_BINARY)\n",
    "        \n",
    "        ## This part was used for decreasing and increasing the label count when there was inconsistency with the label dataset\n",
    "        \n",
    "        # if len(np.unique(input_originallabel)) > 11:\n",
    "        #     print(\"Defected image detected (more labels):\" + f\"{i}.png\")\n",
    "        #     print(np.unique(input_originallabel))\n",
    "        #     for y in range(256):\n",
    "        #         for x in range (256):\n",
    "        #             if (input_originallabel[y][x] == 11) or (input_originallabel[y][x] == 12):\n",
    "        #                 input_originallabel[y][x] = 0\n",
    "        #     print(np.unique(input_originallabel))\n",
    "        #     cv2.imwrite('testtttt.png', input_originallabel)\n",
    "        # elif len(np.unique(input_originallabel)) < 11:\n",
    "        #     print(\"Defected image detected (Less labels):\" + f\"{i}.png\")\n",
    "        #     defected = f\"{i}_.png\"\n",
    "        #     print(np.unique(input_originallabel))\n",
    "        #     path_to_mask = '/home/eric/Desktop/edit8label'\n",
    "\n",
    "        #     # 25->9 32->10\n",
    "        #     path_mask_abs = os.path.join(path_to_mask, defected)\n",
    "        #     mask = cv2.imread(path_mask_abs, cv2.IMREAD_GRAYSCALE)\n",
    "        #     for y in range(256):\n",
    "        #         for x in range (256):\n",
    "        #             if (input_originallabel[y][x] == 0) and (mask[y][x] == 25):\n",
    "        #                 input_originallabel[y][x] = 9\n",
    "        #             elif (input_originallabel[y][x] == 0) and (mask[y][x] == 32):\n",
    "        #                 input_originallabel[y][x] = 10\n",
    "        #     print(np.unique(input_originallabel))\n",
    "        #     label_fixed_path = os.path.join(path_to_mask, f\"{i}_fixed.png\")\n",
    "        #     cv2.imwrite(label_fixed_path, input_originallabel)\n",
    "                    \n",
    "        label_dataset.append(input_originallabel)\n",
    "\n",
    "    print(\"Number of label images:\", len(label_dataset))\n",
    "\n",
    "    for i in input_number:\n",
    "        # changed this part from 100 to 256\n",
    "        dataset_img = np.zeros((256, 256, feature_num), dtype=np.float32)\n",
    "\n",
    "        for m in range(feature_num):\n",
    "            if augmentation:\n",
    "                feature_img_path = os.path.join(augmented_feature_dir, str(AUGMENTATION) + \"aug/\" , str(i), f\"{inputfeature_list[m]}.png\")\n",
    "            else:\n",
    "                feature_img_path = os.path.join(feature_dir, str(i), f\"{inputfeature_list[m]}.png\")\n",
    "            input_featureimg = cv2.imread(feature_img_path, cv2.IMREAD_GRAYSCALE)\n",
    "            dataset_img[:, :, m] = input_featureimg\n",
    "        # after the loop the dataset_img size will be like: (256, 256, 108) and the tensor type is np array\n",
    "        \n",
    "        \n",
    "        \n",
    "        ##this part is dividing the dataset to use multiple conv1x1 operation\n",
    "        #split_dataset_img = np.array_split(dataset_img, 4, axis = 2)\n",
    "        #post_conv = np.zeros((256, 256, 4), dtype=np.float32)\n",
    "        #concat_list = []\n",
    "        #for index, part in enumerate(split_dataset_img):\n",
    "            # after this operation shape will be from (256, 256, 27) to (1, 256, 256, 27)\n",
    "            #part = torch.tensor(part, dtype = torch.float32).unsqueeze(0)\n",
    "            # changed the shape for the conv again now it is (1, 27, 256, 256) (batch_size, channels, height, width)\n",
    "            #part = part.permute(0, 3, 1, 2)\n",
    "            #fusion = nn.Conv2d(in_channels = 27, out_channels = 1, kernel_size = 1, padding = 'same')\n",
    "            #output_conv = fusion(part)\n",
    "            #output_conv = output_conv.squeeze(0) #.permute(1, 2, 0) # now it is (256, 256, 1)\n",
    "            #output_conv = output_conv.cpu().detach().numpy()\n",
    "            #post_conv[:, :, index] = output_conv[0]\n",
    "            #print((output_conv).shape)\n",
    "            #concat_list.append(output_conv)\n",
    "            \n",
    "        #concat_output = torch.cat((concat_list[0], concat_list[1], concat_list[2], concat_list[3]), dim = 2)\n",
    "        ## convert the concat result tensor into numpy array and it has to be on cpu to do the operation\n",
    "        #print(np.unique(output_conv.detach()))\n",
    "        #concat_output = concat_output.detach()\n",
    "        #concat_output = concat_output.numpy()\n",
    "        \n",
    "        \n",
    "        #arrDataset = concat_list\n",
    "        arrDataset.append(dataset_img)\n",
    "\n",
    "    arrDataset = np.array(arrDataset)\n",
    "    print(\"Completed creating image arrays:\")\n",
    "    print(\"Dataset shape \", arrDataset.shape)\n",
    "    print(\"Label image shape \", np.shape(label_dataset))\n",
    "    print()\n",
    "\n",
    "    return arrDataset, label_dataset\n"
   ]
  },
  {
   "cell_type": "code",
   "execution_count": 11,
   "metadata": {},
   "outputs": [],
   "source": [
    "# # ## Test code\n",
    "\n",
    "# input_dataset,label_dataset = CreateWeightImage(input_train)\n",
    "# input_dataset_val,label_dataset_val = CreateWeightImage(input_name_val)\n",
    "\n"
   ]
  },
  {
   "cell_type": "code",
   "execution_count": 12,
   "metadata": {},
   "outputs": [],
   "source": [
    "# from statistics import mean\n",
    "# # 重みを基づいて、MC画像を生成する\n",
    "# # function for showing MC image\n",
    "# # gets 1d array as weight, input_number is image name, and index is directory name for the mc image to save\n",
    "# def CreateWeightImageforShow(weight, input_number, index):\n",
    "#     sum_weight = sum(weight)  # Calculate total weight\n",
    "\n",
    "#     label_dataset = []\n",
    "#     input_dataset = []\n",
    "#     dataset_original = []\n",
    "\n",
    "#     # Read label images\n",
    "#     for i in input_number:\n",
    "#         input_originallabel = cv2.imread(labeled_dir + \"/\" + str(i) + \".png\", flags=0)\n",
    "#         label_dataset.append(input_originallabel)\n",
    "\n",
    "#     print('Weight image for show, label length = ', len(label_dataset))\n",
    "\n",
    "#     # Create output directory\n",
    "#     os.makedirs(test_result_dir + \"/weightImage/\" + str(index), exist_ok=True)\n",
    "\n",
    "#     # Generate weighted images\n",
    "#     for i in input_number:\n",
    "#         # Create a blank image to store the weighted image, using float type for accumulation\n",
    "#         dataset_img = np.zeros((256, 256, 3), dtype=np.float32)\n",
    "#         input_originalimg = cv2.imread(data_dir + \"/\" + str(i) + \".png\")\n",
    "\n",
    "#         dataset_original.append(input_originalimg)\n",
    "#         for m in range(feature_num):\n",
    "#             input_featureimg = cv2.imread(feature_dir + \"/\" + str(i) + \"/\" + inputfeature_list[m] + \".png\", cv2.IMREAD_GRAYSCALE)\n",
    "#             # Normalize the feature image\n",
    "#             normalized_feature_img = cv2.normalize(input_featureimg.astype(np.float32), None, 0, 1, cv2.NORM_MINMAX)\n",
    "#             # Accumulate the weighted feature image\n",
    "#             dataset_img += normalized_feature_img[:, :, None] * (weight[m] / sum_weight)  # Convert 2D array to 3D array\n",
    "\n",
    "#         # Normalize the accumulated image to the range 0-255\n",
    "#         dataset_img = cv2.normalize(dataset_img, None, 0, 255, cv2.NORM_MINMAX)\n",
    "#         output_img = dataset_img.astype(np.uint8)  # Convert to uint8\n",
    "\n",
    "#         input_dataset.append(output_img)\n",
    "#         # Write to file\n",
    "#         cv2.imwrite(f\"{test_result_dir}/weightImage/{index}/{i}.png\", output_img)\n",
    "\n",
    "#     return input_dataset, label_dataset\n"
   ]
  },
  {
   "cell_type": "code",
   "execution_count": 13,
   "metadata": {},
   "outputs": [],
   "source": [
    "# ## Function to extract the weight values from the list average it and then pass the weight array to CreateWeightImageforShow\n",
    "# ## Netron app to extract the weight tensor\n",
    "# ## if the conv is 1x1 the tensor has 45 values\n",
    "# ## if the conv is 3x3 there are 9 x 45 values so the function averages 9 value into 1 and so on\n",
    "# def compute_mean_values(input_list):\n",
    "#     \"\"\"\n",
    "#     Compute mean of 3x3 blocks in each channel of the input list.\n",
    "    \n",
    "#     Args:\n",
    "#         input_list (list): A 4D list of shape (1, C, H, W).\n",
    "        \n",
    "#     Returns:\n",
    "#         list: A 1D list of length C containing the mean values for each channel.\n",
    "#     \"\"\"\n",
    "#     # Ensure the input is a 4D list\n",
    "#     if not isinstance(input_list, list) or len(input_list) != 1:\n",
    "#         raise ValueError(\"Expected input list of shape (1, C, H, W)\")\n",
    "    \n",
    "#     channels = input_list[0]  # Get the channels (C, H, W)\n",
    "    \n",
    "#     if not isinstance(channels, list) or not all(isinstance(channel, list) for channel in channels):\n",
    "#         raise ValueError(\"Each channel must be a list of 2D lists (H, W).\")\n",
    "    \n",
    "#     mean_values = []\n",
    "#     for channel in channels:\n",
    "#         if not all(isinstance(row, list) for row in channel):\n",
    "#             raise ValueError(\"Each channel must contain 2D lists.\")\n",
    "        \n",
    "#         # Flatten the 2D channel to compute the mean\n",
    "#         flattened = [value for row in channel for value in row]\n",
    "#         mean_values.append(sum(flattened) / len(flattened))\n",
    "    \n",
    "#     return mean_values\n"
   ]
  },
  {
   "cell_type": "code",
   "execution_count": 14,
   "metadata": {},
   "outputs": [],
   "source": [
    "# ## Example for creating MC image for showing\n",
    "\n",
    "# ### 1X1-1029-23-n1-1\n",
    "# ### JUST SINGLE VARIATION\n",
    "# weight_tensor_1x1_1029_23_n1_1_example = [\n",
    "#     [\n",
    "#         [\n",
    "#             [\n",
    "#                 0.048620592802762985\n",
    "#                 ...\n",
    "#     ]\n",
    "# ]\n",
    "\n",
    "# input_number = ['N1-1']\n",
    "\n",
    "# #single\n",
    "# weight_cn = compute_mean_values(weight_tensor_1x1_1029_23_n1_1)\n",
    "\n",
    "# weight_cn1 = compute_mean_values(weight_tensor_1x1_1029_36_n1_1)\n",
    "# weight_cn2 = compute_mean_values(weight_tensor_3x3_1_1029_36_n1_1)\n",
    "# weight_cn3 = compute_mean_values(weight_tensor_3x3_2_1029_36_n1_1)\n",
    "# weight_cn4 = compute_mean_values(weight_tensor_5x5_1_1029_36_n1_1)\n",
    "# weight_cn5 = compute_mean_values(weight_tensor_5x5_2_1029_36_n1_1)\n",
    "\n",
    "# print(len(weight_cn))\n",
    "# print(len(weight_cn1))\n",
    "# print(len(weight_cn2))\n",
    "# print(len(weight_cn3))\n",
    "# print(len(weight_cn4))\n",
    "# print(len(weight_cn5))\n",
    "\n",
    "# CreateWeightImageforShow(weight_cn, input_number, \"single\")\n",
    "\n",
    "# CreateWeightImageforShow(weight_cn1, input_number, \"multiple1x1\")\n",
    "# CreateWeightImageforShow(weight_cn2, input_number, \"multiple3x3-1\")\n",
    "# CreateWeightImageforShow(weight_cn3, input_number, \"multiple3x3-2\")\n",
    "# CreateWeightImageforShow(weight_cn4, input_number, \"multiple5x5-1\")\n",
    "# CreateWeightImageforShow(weight_cn5, input_number, \"multiple5x5-2\")\n",
    "\n"
   ]
  },
  {
   "cell_type": "code",
   "execution_count": 15,
   "metadata": {},
   "outputs": [],
   "source": [
    "def print_model_shapes(model, input_tensor):\n",
    "    def forward_hook(module, input, output):\n",
    "        print(f\"Layer: {module.__class__.__name__}\")\n",
    "        print(f\"Input shape: {str(input[0].shape)}\")\n",
    "        print(f\"Output shape: {str(output.shape)}\")\n",
    "        print(\"-----------------------\")\n",
    "\n",
    "    hooks = []\n",
    "    for layer in model.children():\n",
    "        hook = layer.register_forward_hook(forward_hook)\n",
    "        hooks.append(hook)\n",
    "\n",
    "    print(\"Model Architecture:\")\n",
    "    print(model)\n",
    "\n",
    "    # Pass a dummy input tensor through the model to trigger the forward hooks\n",
    "    with torch.no_grad():\n",
    "        model(input_tensor)\n",
    "\n",
    "    for hook in hooks:\n",
    "        hook.remove()\n"
   ]
  },
  {
   "cell_type": "code",
   "execution_count": 16,
   "metadata": {},
   "outputs": [],
   "source": [
    "# preprocess function\n",
    "def preprocess(img: np.ndarray):\n",
    "    img = np.moveaxis(img, -1, 0)  # Change from [H, W, C] to [C, H, W]\n",
    "    img = normalize_01(img)  # Linear scaling to range [0-1]\n",
    "    img = np.expand_dims(img, axis=0)  # Add batch dimension [B, C, H, W]\n",
    "    img = img.astype(np.float32)  # Typecasting to float32\n",
    "    #print(\"in pre\")\n",
    "    #print(np.unique(img))\n",
    "    return img\n",
    "\n",
    "# postprocess function\n",
    "def postprocess(img: torch.tensor):\n",
    "    img = torch.argmax(img, dim = 1)  # Perform argmax to generate 1 channel\n",
    "    #img = img * 255.0 commented as the labels are from 0 to 11 in my case\n",
    "    img = img.cpu().numpy().astype(np.uint8)  # Send to CPU and transform to numpy.ndarray\n",
    "    # If batch_size > 1, you may need to loop through each batch and save them separately\n",
    "    # If batch_size == 1, you can remove the batch dimension to save a single image\n",
    "\n",
    "    # used for checking the unique label values whether if it is 0 to 11 or 0 to 255 scale\n",
    "    #print(\"in post\")\n",
    "    #print(np.unique(img))\n",
    "\n",
    "\n",
    "    img = np.squeeze(img)  # Remove batch dim and channel dim -> [H, W]\n",
    "    # img = re_normalize(img)  # Scale it to the range [0-255]\n",
    "\n",
    "    # If your image has multiple channels (C>1), like an RGB image, before saving with cv2.imwrite\n",
    "    # you need to ensure the channel order is [B, G, R] instead of the common [R, G, B]\n",
    "    # If C == 1, you can further reduce dimensions -> [H, W]\n",
    "    if img.shape[0] == 3:  # [C, H, W]\n",
    "        img = np.transpose(img, (1, 2, 0))  # [H, W, C]\n",
    "        img = img[:, :, ::-1]  # Convert RGB to BGR\n",
    "    elif img.shape[0] == 1:  # [C, H, W]\n",
    "        img = np.squeeze(img, 0)  # [H, W]\n",
    "    return img\n"
   ]
  },
  {
   "cell_type": "code",
   "execution_count": 17,
   "metadata": {},
   "outputs": [],
   "source": [
    "# earlystoppingあり\n",
    "# numpy形式のまま入力する用改良\n",
    "# 学習を行い予測結果画像を出力するとこまで\n",
    "from customdatasets import SegmentationDataSet0\n",
    "from customdatasets import SegmentationDataSet1\n",
    "from torch.utils.data import DataLoader\n",
    "\n",
    "def Learn_EA(input_dataset,label_dataset,input_dataset_val,label_dataset_val,type_number, fold=0):\n",
    "    print(\"*************************Training*************************\")\n",
    "    # 引数を追加して保存先を指定するよう改良\n",
    "    # try_number:何回目の焼きなましかどうか。モデルの保存に使用\n",
    "\n",
    "    # dataset training\n",
    "    dataset_train2 = SegmentationDataSet0(\n",
    "                                        #inputs=dataset_original,\n",
    "                                        inputs=input_dataset,\n",
    "                                        targets=label_dataset,\n",
    "                                        transform=transforms_training)\n",
    "\n",
    "    # dataloader training\n",
    "    #rearranged in custom order so shuffle is false in normal case: true\n",
    "    dataloader_training2 = DataLoader(dataset=dataset_train2,\n",
    "                                     batch_size = 2,\n",
    "                                     shuffle=False)\n",
    "    #もとはシャッフルtrue\n",
    "\n",
    "\n",
    "    batch = next(iter(dataloader_training2))\n",
    "  \n",
    "    x, y = batch\n",
    "    print(\"x.shape = \", x.shape)\n",
    "    print(\"x.min(), x.max() = \", x.min(), x.max())\n",
    "    print(\"y.shape = \", y.shape)\n",
    "    print(\"torch.unique(y) = \", torch.unique(y))\n",
    "\n",
    "\n",
    "    \n",
    "    # dataset training\n",
    "    dataset_val = SegmentationDataSet0(inputs=input_dataset_val,\n",
    "                                        targets=label_dataset_val,\n",
    "                                        transform=transforms_val)\n",
    "    #書き換え箇所\n",
    "    dataloader_val = DataLoader(dataset=dataset_val,\n",
    "                                     batch_size = 2,\n",
    "                                     shuffle=False)\n",
    "    \n",
    "    \n",
    "    \n",
    "    ###earlystopping あり\n",
    "\n",
    "    from unet import UNet\n",
    "    from trainer2 import Trainer2 \n",
    "    from torch import nn #import torch \n",
    "    from pytorchtools import EarlyStopping\n",
    "    from torch.nn import BCEWithLogitsLoss\n",
    "\n",
    "    #device\n",
    "    if torch.cuda.is_available():\n",
    "        device = torch.device('cuda') \n",
    "    else: \n",
    "        torch.device('cpu')\n",
    "        print(\"Before creating the UNet model: GPU was not available and CPU will be used instead\")\n",
    "\n",
    "    # custom logging the parameters of the UNet\n",
    "    inChannels = IN_CHANNEL\n",
    "    outChannels = 11\n",
    "    nBlocks = N_BLOCK\n",
    "    startFilters = 32\n",
    "\n",
    "    from customLog import custom_logger\n",
    "    \n",
    "    #custom_logger(\"/log/customLog.log\", inChannels, outChannels, nBlocks, startFilters)\n",
    "\n",
    "    #model\n",
    "    model = UNet(in_channels = inChannels,\n",
    "                 out_channels = outChannels,\n",
    "                 n_blocks = nBlocks, \n",
    "                 start_filters=startFilters,\n",
    "                 activation='relu',\n",
    "                 normalization='instance',\n",
    "                 conv_mode='same',\n",
    "                 dim=2,\n",
    "                 ).to(device)\n",
    "\n",
    "    ### Later for experimenting\n",
    "    #from originalUNet import Original_UNet\n",
    "    #model = Original_UNet()\n",
    "\n",
    "    # Assuming input_tensor is a sample input tensor with the correct shape (e.g., torch.randn(1, 3, 100, 100))\n",
    "    input_tensor = torch.randn(1, 45, 100, 100).to(device)  # Adjust the shape as needed\n",
    "    # print_model_shapes(model, input_tensor)\n",
    "\n",
    "\n",
    "    #criterion\n",
    "    criterion = torch.nn.CrossEntropyLoss()\n",
    "    # criterion = BCEWithLogitsLoss()\n",
    "\n",
    "    #optimizer\n",
    "    optimizer = torch.optim.Adam(model.parameters(), lr=LR)\n",
    "\n",
    "    #trainer\n",
    "    trainer = Trainer2(model=model, \n",
    "                       device=device, \n",
    "                       criterion=criterion, \n",
    "                       optimizer=optimizer, \n",
    "                       training_DataLoader=dataloader_training2,\n",
    "                       #validation_DataLoader=None, \n",
    "                       validation_DataLoader=dataloader_val, \n",
    "                       lr_scheduler=None, \n",
    "                       epochs=146, ##😺😺😺😺 epoch=0, \n",
    "                       notebook=True)\n",
    "  \n",
    "    print(\"=======start training======\")\n",
    "    \n",
    "    # start training\n",
    "    training_losses, validation_losses, lr_rates = trainer.run_trainer()\n",
    "    print(\"***************************\")\n",
    "\n",
    "    \n",
    "    \n",
    "    #ここがちゃんとESで最適なエポック数のモデルになっているか要検証\n",
    "    model_dir = os.path.join(\"model\", date_str)\n",
    "    if not os.path.exists(model_dir):\n",
    "        os.makedirs(model_dir)\n",
    "    model_name = f\"model_fold_{fold}.pt\"\n",
    "    model_path = os.path.join(model_dir, model_name)\n",
    "    torch.save(model.state_dict(), model_path)\n",
    "    print(f\"modelname:{model_name}を保存しました\")\n",
    "\n",
    "    model_weights = torch.load(model_path)\n",
    "    model.load_state_dict(model_weights)\n",
    "    \n",
    "\n",
    "    # images = annealing_input_dataset\n",
    "    images = input_dataset_val\n",
    "\n",
    "    from inference import predict\n",
    "    from transformations import normalize_01, re_normalize\n",
    "    # predict the segmentation maps \n",
    "    output = [predict(img, model, preprocess, postprocess, device) for img in images]\n",
    "\n",
    "\n",
    "    for i in range(len(input_name_val)):\n",
    "        if(type_number == 0):\n",
    "            cv2.imwrite(os.path.join(result_dir, f'{input_name_val[i]}.png'), output[i])\n",
    "        elif(type_number == 1):\n",
    "            cv2.imwrite(os.path.join(test_result_dir, 'result_original', f'{input_name_val[i]}.png'), output[i])\n",
    "        elif(type_number == 2):\n",
    "            cv2.imwrite(os.path.join(test_result_dir, 'result_test', f'{input_name_val[i]}.png'), output[i])\n",
    "\n"
   ]
  },
  {
   "cell_type": "code",
   "execution_count": 18,
   "metadata": {},
   "outputs": [],
   "source": [
    "import statistics\n",
    "# Dicecの計算\n",
    "def cal_DiceMulitple(dir, input_name):\n",
    "    # change the label count as your preference\n",
    "    Dice = [0] * 11\n",
    "    Count1 = [0] * 11 #予測結果の各ラベルの要素数\n",
    "    Count2 = [0] * 11 #ラベル画像の\n",
    "    Count3 = [0] * 11 #正解した画素数\n",
    "    \n",
    "    for index in range(len(input_name)):\n",
    "        print('index = ', index)\n",
    "\n",
    "        img1 = cv2.imread(dir + '/' + input_name[index] + \".png\", cv2.IMREAD_GRAYSCALE)\n",
    "        img2 = cv2.imread(labeled_dir + '/' + input_name[index] + \".png\", cv2.IMREAD_GRAYSCALE)\n",
    "        #_, img2 = cv2.threshold(img2, 0, 255, cv2.THRESH_BINARY)\n",
    "        print(\"予測画像:\", dir  + '/' + input_name[index] + \".png\")\n",
    "        print(\"テストラベル:\", labeled_dir + '/' + input_name[index] + \".png\")\n",
    "        unique_label1 = np.unique(img1)\n",
    "        unique_label2 = np.unique(img2)\n",
    "        # print(unique_label1)\n",
    "        # print(unique_label2)\n",
    "        # change the image array size to your need\n",
    "        for n in range(256):\n",
    "            for l in range(256):\n",
    "                value1 = img1[n,l]\n",
    "                # for index, uq_value in enumerate(unique_label1):\n",
    "                #     if(value1 == uq_value):\n",
    "                #         value1 = index\n",
    "\n",
    "                Count1[value1] += 1\n",
    "\n",
    "                value2 = img2[n,l]\n",
    "                Count2[value2] += 1                    \n",
    "\n",
    "                if(value1 == value2):\n",
    "                    Count3[value1] += 1 \n",
    "    for i in range(11):\n",
    "        if(Count1[i]+Count2[i] != 0):\n",
    "            Dice[i] = (2*Count3[i])/(Count1[i] + Count2[i])\n",
    "        if(Count1[i]+Count2[i] == 0):\n",
    "            print(\"\")\n",
    "            #print(\"4 label case:\" + str(input_name[index]))\n",
    "    Dice.append(statistics.mean(Dice[1:]))\n",
    "    print('Count1 = ', Count1)\n",
    "    print('Count2 = ', Count2)\n",
    "    print('Count3 = ', Count3)\n",
    "    print('Dice = ', Dice)\n",
    "    #print(unique_label)\n",
    "\n",
    "    return Dice\n"
   ]
  },
  {
   "cell_type": "code",
   "execution_count": 19,
   "metadata": {},
   "outputs": [],
   "source": [
    "\n",
    "## Test of 1x1conv\n",
    "import statistics\n",
    "from denseCRF import noiseReduction\n",
    "# device\n",
    "def mConv_predict(test_input_name, fold=0):\n",
    "    print(\"*************************************Test*************************************\")\n",
    "    if torch.cuda.is_available():\n",
    "        device = torch.device('cuda')\n",
    "    else:\n",
    "        print(\"Using CPU instead of GPU\")\n",
    "        torch.device('cpu')\n",
    "\n",
    "    model = UNet(in_channels=IN_CHANNEL,  # check the parameters\n",
    "                out_channels=11,\n",
    "                n_blocks=N_BLOCK,\n",
    "                start_filters=32,\n",
    "                activation='relu',\n",
    "                normalization='instance', #use instance when \"batch\" size is less than 10? batch\n",
    "                conv_mode='same',\n",
    "                dim=2).to(device)\n",
    "\n",
    "    model_dir = os.path.join(\"model\", date_str)\n",
    "    print(\"model_dir = \", model_dir)\n",
    "    model_path = os.path.join(model_dir, f\"model_fold_{fold}.pt\") # load the model\n",
    "    model_weights = torch.load(model_path)\n",
    "    model.load_state_dict(model_weights)\n",
    "\n",
    "    model.eval()\n",
    "\n",
    "    # create test dataset\n",
    "    test_input_dataset, _ = CreateWeightImage(test_input_name)\n",
    " \n",
    "\n",
    "    # convert to torch\n",
    "    test_input_tensor = torch.from_numpy(test_input_dataset).float().to(device)\n",
    "\n",
    "    from inference import predict\n",
    "    from transformations import normalize_01, re_normalize\n",
    "    # predict\n",
    "    output = [predict(img, model, preprocess, postprocess, device) for img in test_input_dataset]\n",
    "\n",
    "\n",
    "    plot_output_img = list()\n",
    "    \n",
    "    \n",
    "    fold_dir = os.path.join(test_result_dir, f\"fold{fold}\")\n",
    "    os.makedirs(fold_dir, exist_ok=True)\n",
    "    \n",
    "    # save images\n",
    "    for i, output_img in enumerate(output):\n",
    "        #for checking the unique values of the result label\n",
    "        labels = np.unique(output_img)\n",
    "\n",
    "        output_image_path = os.path.join(fold_dir, f\"{test_input_name[i]}.png\")\n",
    "        cv2.imwrite(output_image_path, output_img)\n",
    "        \n",
    "        # old writing when there was no stratifiedkfold\n",
    "        # cv2.imwrite(os.path.join(test_result_dir, f\"{test_input_name[i]}.png\"), output_img)  # 根据需要调整文件路径和命名\n",
    "\n",
    "        #print(labels)\n",
    "        plot_output_img.append(output_img)\n",
    "\n",
    "\n",
    "    Dice = cal_DiceMulitple(fold_dir, test_input_name)\n",
    "    df = pd.DataFrame(Dice)\n",
    "    df = df.T\n",
    "    df.to_csv(test_result_dir + \"/Dice.csv\", mode='a', header=False) # Diceの結果をcsvに追加\n",
    "    \n",
    "    postCRF = noiseReduction(output, test_input_name, labeled_dir, fold_dir, 0.8)\n",
    "    \n",
    "    DiceCRF = cal_DiceMulitple( fold_dir + \"/crf\", test_input_name)\n",
    "    dfCRF = pd.DataFrame(DiceCRF)\n",
    "    dfCRF = dfCRF.T\n",
    "    dfCRF.to_csv(test_result_dir + \"/CRFDice.csv\", mode='a', header=False) # Diceの結果をcsvに追加\n",
    "    \n",
    "    \n",
    "\n"
   ]
  },
  {
   "cell_type": "code",
   "execution_count": 20,
   "metadata": {},
   "outputs": [
    {
     "name": "stdout",
     "output_type": "stream",
     "text": [
      "['N1-1' 'N1-2' 'N1-3' 'N1-4' 'N1-5' 'N1-6' 'N1-7' 'N1-8' 'N1-9' 'N1-10'\n",
      " 'N2-1' 'N2-2' 'N2-3' 'N2-4' 'N2-5' 'N2-6' 'N2-7' 'N2-8' 'N2-9' 'N2-10'\n",
      " 'N3-1' 'N3-2' 'N3-3' 'N3-4' 'N3-5' 'N3-6' 'N3-7' 'N3-8' 'N3-9' 'N3-10'\n",
      " 'N4-1' 'N4-2' 'N4-3' 'N4-4' 'N4-5' 'N4-6' 'N4-7' 'N4-8' 'N4-9' 'N5-1'\n",
      " 'N5-2' 'N5-3' 'N5-4' 'N5-5' 'N5-6']\n",
      "['N1' 'N1' 'N1' 'N1' 'N1' 'N1' 'N1' 'N1' 'N1' 'N1' 'N2' 'N2' 'N2' 'N2'\n",
      " 'N2' 'N2' 'N2' 'N2' 'N2' 'N2' 'N3' 'N3' 'N3' 'N3' 'N3' 'N3' 'N3' 'N3'\n",
      " 'N3' 'N3' 'N4' 'N4' 'N4' 'N4' 'N4' 'N4' 'N4' 'N4' 'N4' 'N5' 'N5' 'N5'\n",
      " 'N5' 'N5' 'N5']\n",
      "Cross validation: True\n",
      "Fold: 1 out of 4\n",
      "Augmentation: True\n",
      "Augmentation amount: 30\n",
      "Training: Total of 22 cases.\n",
      "['N4-9' 'N3-1' 'N2-8' 'N3-10' 'N5-5' 'N2-3' 'N4-3' 'N1-7' 'N1-10' 'N1-1'\n",
      " 'N3-8' 'N2-6' 'N5-4' 'N2-4' 'N4-4' 'N1-9' 'N1-3' 'N3-5' 'N5-3' 'N3-6'\n",
      " 'N4-8' 'N2-7']\n",
      "Validation: Total of 11 cases.\n",
      "['N4-5' 'N5-2' 'N2-10' 'N1-8' 'N3-4' 'N4-2' 'N3-7' 'N4-7' 'N2-5' 'N1-5'\n",
      " 'N2-9']\n",
      "Test: Total of 12 cases.\n",
      "['N1-2' 'N1-4' 'N1-6' 'N2-1' 'N2-2' 'N3-2' 'N3-3' 'N3-9' 'N4-1' 'N4-6'\n",
      " 'N5-1' 'N5-6']\n",
      "\n",
      "Creating image arrays...\n",
      "Number of label images: 660\n",
      "Completed creating image arrays:\n",
      "Dataset shape  (660, 256, 256, 45)\n",
      "Label image shape  (660, 256, 256)\n",
      "\n",
      "Creating image arrays...\n",
      "Number of label images: 330\n",
      "Completed creating image arrays:\n",
      "Dataset shape  (330, 256, 256, 45)\n",
      "Label image shape  (330, 256, 256)\n",
      "\n",
      "*************************Training*************************\n",
      "x.shape =  torch.Size([2, 45, 256, 256])\n",
      "x.min(), x.max() =  tensor(0.) tensor(1.)\n",
      "y.shape =  torch.Size([2, 256, 256])\n",
      "torch.unique(y) =  tensor([ 0,  1,  2,  3,  4,  5,  6,  7,  8,  9, 10])\n",
      "in constructor inchannel: 45\n",
      "Input channel count3\n",
      "=======start training======\n"
     ]
    },
    {
     "data": {
      "application/vnd.jupyter.widget-view+json": {
       "model_id": "b1e1e7c4a4fe406ea60260b2e3e3c263",
       "version_major": 2,
       "version_minor": 0
      },
      "text/plain": [
       "Progress:   0%|          | 0/146 [00:00<?, ?it/s]"
      ]
     },
     "metadata": {},
     "output_type": "display_data"
    },
    {
     "data": {
      "application/vnd.jupyter.widget-view+json": {
       "model_id": "6a0c4a0592464085b08f0ceefdf60f6d",
       "version_major": 2,
       "version_minor": 0
      },
      "text/plain": [
       "Training:   0%|          | 0/330 [00:00<?, ?it/s]"
      ]
     },
     "metadata": {},
     "output_type": "display_data"
    },
    {
     "name": "stderr",
     "output_type": "stream",
     "text": [
      "/home/eric/anaconda3/envs/altenv/lib/python3.11/site-packages/torch/nn/modules/conv.py:952: UserWarning: Plan failed with a cudnnException: CUDNN_BACKEND_EXECUTION_PLAN_DESCRIPTOR: cudnnFinalize Descriptor Failed cudnn_status: CUDNN_STATUS_NOT_SUPPORTED (Triggered internally at ../aten/src/ATen/native/cudnn/Conv_v8.cpp:919.)\n",
      "  return F.conv_transpose2d(\n"
     ]
    },
    {
     "data": {
      "application/vnd.jupyter.widget-view+json": {
       "model_id": "3736e59428594e91a0f6ec8e0cab107f",
       "version_major": 2,
       "version_minor": 0
      },
      "text/plain": [
       "Validation:   0%|          | 0/165 [00:00<?, ?it/s]"
      ]
     },
     "metadata": {},
     "output_type": "display_data"
    },
    {
     "name": "stdout",
     "output_type": "stream",
     "text": [
      "val_losses 1.3265635100277988\n",
      "Validation loss decreased (inf --> 1.326564).  Saving model ...\n"
     ]
    },
    {
     "data": {
      "application/vnd.jupyter.widget-view+json": {
       "model_id": "1d17f245013c469b87099ac97f133444",
       "version_major": 2,
       "version_minor": 0
      },
      "text/plain": [
       "Training:   0%|          | 0/330 [00:00<?, ?it/s]"
      ]
     },
     "metadata": {},
     "output_type": "display_data"
    },
    {
     "data": {
      "application/vnd.jupyter.widget-view+json": {
       "model_id": "d758445f2a344652b438abed90e38c05",
       "version_major": 2,
       "version_minor": 0
      },
      "text/plain": [
       "Validation:   0%|          | 0/165 [00:00<?, ?it/s]"
      ]
     },
     "metadata": {},
     "output_type": "display_data"
    },
    {
     "name": "stdout",
     "output_type": "stream",
     "text": [
      "val_losses 0.8458941394632513\n",
      "Validation loss decreased (1.326564 --> 0.845894).  Saving model ...\n"
     ]
    },
    {
     "data": {
      "application/vnd.jupyter.widget-view+json": {
       "model_id": "515e8842bc2d477faadfdaf183098783",
       "version_major": 2,
       "version_minor": 0
      },
      "text/plain": [
       "Training:   0%|          | 0/330 [00:00<?, ?it/s]"
      ]
     },
     "metadata": {},
     "output_type": "display_data"
    },
    {
     "data": {
      "application/vnd.jupyter.widget-view+json": {
       "model_id": "12594f689fa040c48f455b6b5a972afe",
       "version_major": 2,
       "version_minor": 0
      },
      "text/plain": [
       "Validation:   0%|          | 0/165 [00:00<?, ?it/s]"
      ]
     },
     "metadata": {},
     "output_type": "display_data"
    },
    {
     "name": "stdout",
     "output_type": "stream",
     "text": [
      "val_losses 0.5996995342500282\n",
      "Validation loss decreased (0.845894 --> 0.599700).  Saving model ...\n"
     ]
    },
    {
     "data": {
      "application/vnd.jupyter.widget-view+json": {
       "model_id": "7515add96a3c46e29023966bbff3ab6c",
       "version_major": 2,
       "version_minor": 0
      },
      "text/plain": [
       "Training:   0%|          | 0/330 [00:00<?, ?it/s]"
      ]
     },
     "metadata": {},
     "output_type": "display_data"
    },
    {
     "data": {
      "application/vnd.jupyter.widget-view+json": {
       "model_id": "c9bd31b06ba54670816b74e5c679c286",
       "version_major": 2,
       "version_minor": 0
      },
      "text/plain": [
       "Validation:   0%|          | 0/165 [00:00<?, ?it/s]"
      ]
     },
     "metadata": {},
     "output_type": "display_data"
    },
    {
     "name": "stdout",
     "output_type": "stream",
     "text": [
      "val_losses 0.4881657533573382\n",
      "Validation loss decreased (0.599700 --> 0.488166).  Saving model ...\n"
     ]
    },
    {
     "data": {
      "application/vnd.jupyter.widget-view+json": {
       "model_id": "015a32d100f74c00b50e00a1aa36a03e",
       "version_major": 2,
       "version_minor": 0
      },
      "text/plain": [
       "Training:   0%|          | 0/330 [00:00<?, ?it/s]"
      ]
     },
     "metadata": {},
     "output_type": "display_data"
    },
    {
     "data": {
      "application/vnd.jupyter.widget-view+json": {
       "model_id": "0da9fc4213bf426098a84e9dfef48a05",
       "version_major": 2,
       "version_minor": 0
      },
      "text/plain": [
       "Validation:   0%|          | 0/165 [00:00<?, ?it/s]"
      ]
     },
     "metadata": {},
     "output_type": "display_data"
    },
    {
     "name": "stdout",
     "output_type": "stream",
     "text": [
      "val_losses 0.43652015509027425\n",
      "Validation loss decreased (0.488166 --> 0.436520).  Saving model ...\n"
     ]
    },
    {
     "data": {
      "application/vnd.jupyter.widget-view+json": {
       "model_id": "caa96f80c8c54e798d216f3498d84d1b",
       "version_major": 2,
       "version_minor": 0
      },
      "text/plain": [
       "Training:   0%|          | 0/330 [00:00<?, ?it/s]"
      ]
     },
     "metadata": {},
     "output_type": "display_data"
    },
    {
     "data": {
      "application/vnd.jupyter.widget-view+json": {
       "model_id": "f6f7eabef7a2493499af5ac93d6d7684",
       "version_major": 2,
       "version_minor": 0
      },
      "text/plain": [
       "Validation:   0%|          | 0/165 [00:00<?, ?it/s]"
      ]
     },
     "metadata": {},
     "output_type": "display_data"
    },
    {
     "name": "stdout",
     "output_type": "stream",
     "text": [
      "val_losses 0.38683634743545997\n",
      "Validation loss decreased (0.436520 --> 0.386836).  Saving model ...\n"
     ]
    },
    {
     "data": {
      "application/vnd.jupyter.widget-view+json": {
       "model_id": "c7e223c2ff1a45fd81d4977267cf30ce",
       "version_major": 2,
       "version_minor": 0
      },
      "text/plain": [
       "Training:   0%|          | 0/330 [00:00<?, ?it/s]"
      ]
     },
     "metadata": {},
     "output_type": "display_data"
    },
    {
     "data": {
      "application/vnd.jupyter.widget-view+json": {
       "model_id": "43cd2a0e6798497ba40a61c64131d692",
       "version_major": 2,
       "version_minor": 0
      },
      "text/plain": [
       "Validation:   0%|          | 0/165 [00:00<?, ?it/s]"
      ]
     },
     "metadata": {},
     "output_type": "display_data"
    },
    {
     "name": "stdout",
     "output_type": "stream",
     "text": [
      "val_losses 0.358482321284034\n",
      "Validation loss decreased (0.386836 --> 0.358482).  Saving model ...\n"
     ]
    },
    {
     "data": {
      "application/vnd.jupyter.widget-view+json": {
       "model_id": "6f3d14909bce48f0aa1de34aae527413",
       "version_major": 2,
       "version_minor": 0
      },
      "text/plain": [
       "Training:   0%|          | 0/330 [00:00<?, ?it/s]"
      ]
     },
     "metadata": {},
     "output_type": "display_data"
    },
    {
     "data": {
      "application/vnd.jupyter.widget-view+json": {
       "model_id": "febee791dd6d4a548064a5b6d11f5708",
       "version_major": 2,
       "version_minor": 0
      },
      "text/plain": [
       "Validation:   0%|          | 0/165 [00:00<?, ?it/s]"
      ]
     },
     "metadata": {},
     "output_type": "display_data"
    },
    {
     "name": "stdout",
     "output_type": "stream",
     "text": [
      "val_losses 0.34284958875540533\n",
      "Validation loss decreased (0.358482 --> 0.342850).  Saving model ...\n"
     ]
    },
    {
     "data": {
      "application/vnd.jupyter.widget-view+json": {
       "model_id": "41e59fd0944e4a9e8af5079132cc460d",
       "version_major": 2,
       "version_minor": 0
      },
      "text/plain": [
       "Training:   0%|          | 0/330 [00:00<?, ?it/s]"
      ]
     },
     "metadata": {},
     "output_type": "display_data"
    },
    {
     "data": {
      "application/vnd.jupyter.widget-view+json": {
       "model_id": "73460177cc9c47189f749f725a097d79",
       "version_major": 2,
       "version_minor": 0
      },
      "text/plain": [
       "Validation:   0%|          | 0/165 [00:00<?, ?it/s]"
      ]
     },
     "metadata": {},
     "output_type": "display_data"
    },
    {
     "name": "stdout",
     "output_type": "stream",
     "text": [
      "val_losses 0.3483730550065185\n",
      "EarlyStopping counter: 1 out of 50\n"
     ]
    },
    {
     "data": {
      "application/vnd.jupyter.widget-view+json": {
       "model_id": "f45ffcf0452e45b7925dab37aa67e644",
       "version_major": 2,
       "version_minor": 0
      },
      "text/plain": [
       "Training:   0%|          | 0/330 [00:00<?, ?it/s]"
      ]
     },
     "metadata": {},
     "output_type": "display_data"
    },
    {
     "data": {
      "application/vnd.jupyter.widget-view+json": {
       "model_id": "16da479475954138a09ced27d77739cf",
       "version_major": 2,
       "version_minor": 0
      },
      "text/plain": [
       "Validation:   0%|          | 0/165 [00:00<?, ?it/s]"
      ]
     },
     "metadata": {},
     "output_type": "display_data"
    },
    {
     "name": "stdout",
     "output_type": "stream",
     "text": [
      "val_losses 0.3503198041157289\n",
      "EarlyStopping counter: 2 out of 50\n"
     ]
    },
    {
     "data": {
      "application/vnd.jupyter.widget-view+json": {
       "model_id": "7f019c65442b4c029b1399b58f25c93a",
       "version_major": 2,
       "version_minor": 0
      },
      "text/plain": [
       "Training:   0%|          | 0/330 [00:00<?, ?it/s]"
      ]
     },
     "metadata": {},
     "output_type": "display_data"
    },
    {
     "data": {
      "application/vnd.jupyter.widget-view+json": {
       "model_id": "8cc05c9b0adf4b649be59a5ae3a1a883",
       "version_major": 2,
       "version_minor": 0
      },
      "text/plain": [
       "Validation:   0%|          | 0/165 [00:00<?, ?it/s]"
      ]
     },
     "metadata": {},
     "output_type": "display_data"
    },
    {
     "name": "stdout",
     "output_type": "stream",
     "text": [
      "val_losses 0.3522868809374896\n",
      "EarlyStopping counter: 3 out of 50\n"
     ]
    },
    {
     "data": {
      "application/vnd.jupyter.widget-view+json": {
       "model_id": "53c3f5ce9e8049529f62043a6ae0760c",
       "version_major": 2,
       "version_minor": 0
      },
      "text/plain": [
       "Training:   0%|          | 0/330 [00:00<?, ?it/s]"
      ]
     },
     "metadata": {},
     "output_type": "display_data"
    },
    {
     "data": {
      "application/vnd.jupyter.widget-view+json": {
       "model_id": "0d1d67b294364b909322bfbb7a2b5d10",
       "version_major": 2,
       "version_minor": 0
      },
      "text/plain": [
       "Validation:   0%|          | 0/165 [00:00<?, ?it/s]"
      ]
     },
     "metadata": {},
     "output_type": "display_data"
    },
    {
     "name": "stdout",
     "output_type": "stream",
     "text": [
      "val_losses 0.34856400209845917\n",
      "EarlyStopping counter: 4 out of 50\n"
     ]
    },
    {
     "data": {
      "application/vnd.jupyter.widget-view+json": {
       "model_id": "f356ee2299e0470d80f49c55ce297d42",
       "version_major": 2,
       "version_minor": 0
      },
      "text/plain": [
       "Training:   0%|          | 0/330 [00:00<?, ?it/s]"
      ]
     },
     "metadata": {},
     "output_type": "display_data"
    },
    {
     "data": {
      "application/vnd.jupyter.widget-view+json": {
       "model_id": "90af9e684985477eba00f94bf46b9dcb",
       "version_major": 2,
       "version_minor": 0
      },
      "text/plain": [
       "Validation:   0%|          | 0/165 [00:00<?, ?it/s]"
      ]
     },
     "metadata": {},
     "output_type": "display_data"
    },
    {
     "name": "stdout",
     "output_type": "stream",
     "text": [
      "val_losses 0.3439663651314649\n",
      "EarlyStopping counter: 5 out of 50\n"
     ]
    },
    {
     "data": {
      "application/vnd.jupyter.widget-view+json": {
       "model_id": "a96a765ce6814ec6bd06d91cf0537346",
       "version_major": 2,
       "version_minor": 0
      },
      "text/plain": [
       "Training:   0%|          | 0/330 [00:00<?, ?it/s]"
      ]
     },
     "metadata": {},
     "output_type": "display_data"
    },
    {
     "data": {
      "application/vnd.jupyter.widget-view+json": {
       "model_id": "4478986db1404e538340ce9d86e76ad4",
       "version_major": 2,
       "version_minor": 0
      },
      "text/plain": [
       "Validation:   0%|          | 0/165 [00:00<?, ?it/s]"
      ]
     },
     "metadata": {},
     "output_type": "display_data"
    },
    {
     "name": "stdout",
     "output_type": "stream",
     "text": [
      "val_losses 0.334796030774261\n",
      "Validation loss decreased (0.342850 --> 0.334796).  Saving model ...\n"
     ]
    },
    {
     "data": {
      "application/vnd.jupyter.widget-view+json": {
       "model_id": "f0a22e1c8d194aa398709ffa4ded70a2",
       "version_major": 2,
       "version_minor": 0
      },
      "text/plain": [
       "Training:   0%|          | 0/330 [00:00<?, ?it/s]"
      ]
     },
     "metadata": {},
     "output_type": "display_data"
    },
    {
     "data": {
      "application/vnd.jupyter.widget-view+json": {
       "model_id": "26c6b2083c434e888dd6633dfa7f5c69",
       "version_major": 2,
       "version_minor": 0
      },
      "text/plain": [
       "Validation:   0%|          | 0/165 [00:00<?, ?it/s]"
      ]
     },
     "metadata": {},
     "output_type": "display_data"
    },
    {
     "name": "stdout",
     "output_type": "stream",
     "text": [
      "val_losses 0.338903900393934\n",
      "EarlyStopping counter: 1 out of 50\n"
     ]
    },
    {
     "data": {
      "application/vnd.jupyter.widget-view+json": {
       "model_id": "26627aa1336d4dad9c657ba11c6f95b4",
       "version_major": 2,
       "version_minor": 0
      },
      "text/plain": [
       "Training:   0%|          | 0/330 [00:00<?, ?it/s]"
      ]
     },
     "metadata": {},
     "output_type": "display_data"
    },
    {
     "data": {
      "application/vnd.jupyter.widget-view+json": {
       "model_id": "e023ff474fd14450b5037e9f3e1c1eba",
       "version_major": 2,
       "version_minor": 0
      },
      "text/plain": [
       "Validation:   0%|          | 0/165 [00:00<?, ?it/s]"
      ]
     },
     "metadata": {},
     "output_type": "display_data"
    },
    {
     "name": "stdout",
     "output_type": "stream",
     "text": [
      "val_losses 0.640741166382125\n",
      "EarlyStopping counter: 2 out of 50\n"
     ]
    },
    {
     "data": {
      "application/vnd.jupyter.widget-view+json": {
       "model_id": "8dea383de9ae4b088f2b9edf9682ebaa",
       "version_major": 2,
       "version_minor": 0
      },
      "text/plain": [
       "Training:   0%|          | 0/330 [00:00<?, ?it/s]"
      ]
     },
     "metadata": {},
     "output_type": "display_data"
    },
    {
     "data": {
      "application/vnd.jupyter.widget-view+json": {
       "model_id": "cef677d6322c46aebf94055db686bbd7",
       "version_major": 2,
       "version_minor": 0
      },
      "text/plain": [
       "Validation:   0%|          | 0/165 [00:00<?, ?it/s]"
      ]
     },
     "metadata": {},
     "output_type": "display_data"
    },
    {
     "name": "stdout",
     "output_type": "stream",
     "text": [
      "val_losses 0.20189057624701298\n",
      "Validation loss decreased (0.334796 --> 0.201891).  Saving model ...\n"
     ]
    },
    {
     "data": {
      "application/vnd.jupyter.widget-view+json": {
       "model_id": "6c94de8120d3431ab808cb94c958c15a",
       "version_major": 2,
       "version_minor": 0
      },
      "text/plain": [
       "Training:   0%|          | 0/330 [00:00<?, ?it/s]"
      ]
     },
     "metadata": {},
     "output_type": "display_data"
    },
    {
     "data": {
      "application/vnd.jupyter.widget-view+json": {
       "model_id": "3f6fbb58fc2b4bca8590055466e516c2",
       "version_major": 2,
       "version_minor": 0
      },
      "text/plain": [
       "Validation:   0%|          | 0/165 [00:00<?, ?it/s]"
      ]
     },
     "metadata": {},
     "output_type": "display_data"
    },
    {
     "name": "stdout",
     "output_type": "stream",
     "text": [
      "val_losses 0.22604484531012448\n",
      "EarlyStopping counter: 1 out of 50\n"
     ]
    },
    {
     "data": {
      "application/vnd.jupyter.widget-view+json": {
       "model_id": "dbbb309a45d245b39617915cf3a621ac",
       "version_major": 2,
       "version_minor": 0
      },
      "text/plain": [
       "Training:   0%|          | 0/330 [00:00<?, ?it/s]"
      ]
     },
     "metadata": {},
     "output_type": "display_data"
    },
    {
     "data": {
      "application/vnd.jupyter.widget-view+json": {
       "model_id": "9013f61cc677480d952659f934c4a8fd",
       "version_major": 2,
       "version_minor": 0
      },
      "text/plain": [
       "Validation:   0%|          | 0/165 [00:00<?, ?it/s]"
      ]
     },
     "metadata": {},
     "output_type": "display_data"
    },
    {
     "name": "stdout",
     "output_type": "stream",
     "text": [
      "val_losses 0.24268034105048036\n",
      "EarlyStopping counter: 2 out of 50\n"
     ]
    },
    {
     "data": {
      "application/vnd.jupyter.widget-view+json": {
       "model_id": "c879cda39850407082f5bec96c2543da",
       "version_major": 2,
       "version_minor": 0
      },
      "text/plain": [
       "Training:   0%|          | 0/330 [00:00<?, ?it/s]"
      ]
     },
     "metadata": {},
     "output_type": "display_data"
    },
    {
     "data": {
      "application/vnd.jupyter.widget-view+json": {
       "model_id": "61f18b5a4614454eb1c39419ce7ae5ca",
       "version_major": 2,
       "version_minor": 0
      },
      "text/plain": [
       "Validation:   0%|          | 0/165 [00:00<?, ?it/s]"
      ]
     },
     "metadata": {},
     "output_type": "display_data"
    },
    {
     "name": "stdout",
     "output_type": "stream",
     "text": [
      "val_losses 0.25715453353795137\n",
      "EarlyStopping counter: 3 out of 50\n"
     ]
    },
    {
     "data": {
      "application/vnd.jupyter.widget-view+json": {
       "model_id": "9b1500f2014f490baf7d9f141f1a4e03",
       "version_major": 2,
       "version_minor": 0
      },
      "text/plain": [
       "Training:   0%|          | 0/330 [00:00<?, ?it/s]"
      ]
     },
     "metadata": {},
     "output_type": "display_data"
    },
    {
     "data": {
      "application/vnd.jupyter.widget-view+json": {
       "model_id": "ad06558a9b80486cbec5e46f230ea108",
       "version_major": 2,
       "version_minor": 0
      },
      "text/plain": [
       "Validation:   0%|          | 0/165 [00:00<?, ?it/s]"
      ]
     },
     "metadata": {},
     "output_type": "display_data"
    },
    {
     "name": "stdout",
     "output_type": "stream",
     "text": [
      "val_losses 0.26941928493254114\n",
      "EarlyStopping counter: 4 out of 50\n"
     ]
    },
    {
     "data": {
      "application/vnd.jupyter.widget-view+json": {
       "model_id": "033f6664b3674c6fa1ceb207537994bc",
       "version_major": 2,
       "version_minor": 0
      },
      "text/plain": [
       "Training:   0%|          | 0/330 [00:00<?, ?it/s]"
      ]
     },
     "metadata": {},
     "output_type": "display_data"
    },
    {
     "data": {
      "application/vnd.jupyter.widget-view+json": {
       "model_id": "434c8fb1554741c3a9655c8ab3d300f9",
       "version_major": 2,
       "version_minor": 0
      },
      "text/plain": [
       "Validation:   0%|          | 0/165 [00:00<?, ?it/s]"
      ]
     },
     "metadata": {},
     "output_type": "display_data"
    },
    {
     "name": "stdout",
     "output_type": "stream",
     "text": [
      "val_losses 0.28296779470913336\n",
      "EarlyStopping counter: 5 out of 50\n"
     ]
    },
    {
     "data": {
      "application/vnd.jupyter.widget-view+json": {
       "model_id": "10b48dc9f19a4eeeb839e264d86f19c5",
       "version_major": 2,
       "version_minor": 0
      },
      "text/plain": [
       "Training:   0%|          | 0/330 [00:00<?, ?it/s]"
      ]
     },
     "metadata": {},
     "output_type": "display_data"
    },
    {
     "data": {
      "application/vnd.jupyter.widget-view+json": {
       "model_id": "efaace962a274589aef899c8c4fbdb3e",
       "version_major": 2,
       "version_minor": 0
      },
      "text/plain": [
       "Validation:   0%|          | 0/165 [00:00<?, ?it/s]"
      ]
     },
     "metadata": {},
     "output_type": "display_data"
    },
    {
     "name": "stdout",
     "output_type": "stream",
     "text": [
      "val_losses 0.2861157043865233\n",
      "EarlyStopping counter: 6 out of 50\n"
     ]
    },
    {
     "data": {
      "application/vnd.jupyter.widget-view+json": {
       "model_id": "fbe05a2ee8f44b6793271d5e7527c445",
       "version_major": 2,
       "version_minor": 0
      },
      "text/plain": [
       "Training:   0%|          | 0/330 [00:00<?, ?it/s]"
      ]
     },
     "metadata": {},
     "output_type": "display_data"
    },
    {
     "data": {
      "application/vnd.jupyter.widget-view+json": {
       "model_id": "888605f3b20f4c00ac37a9c681258641",
       "version_major": 2,
       "version_minor": 0
      },
      "text/plain": [
       "Validation:   0%|          | 0/165 [00:00<?, ?it/s]"
      ]
     },
     "metadata": {},
     "output_type": "display_data"
    },
    {
     "name": "stdout",
     "output_type": "stream",
     "text": [
      "val_losses 0.27028267776424236\n",
      "EarlyStopping counter: 7 out of 50\n"
     ]
    },
    {
     "data": {
      "application/vnd.jupyter.widget-view+json": {
       "model_id": "f64618ff73374712b29b7317f4154f7f",
       "version_major": 2,
       "version_minor": 0
      },
      "text/plain": [
       "Training:   0%|          | 0/330 [00:00<?, ?it/s]"
      ]
     },
     "metadata": {},
     "output_type": "display_data"
    },
    {
     "data": {
      "application/vnd.jupyter.widget-view+json": {
       "model_id": "552c37b8c2f94d9691d5cb9ccfce9693",
       "version_major": 2,
       "version_minor": 0
      },
      "text/plain": [
       "Validation:   0%|          | 0/165 [00:00<?, ?it/s]"
      ]
     },
     "metadata": {},
     "output_type": "display_data"
    },
    {
     "name": "stdout",
     "output_type": "stream",
     "text": [
      "val_losses 0.2997742455565568\n",
      "EarlyStopping counter: 8 out of 50\n"
     ]
    },
    {
     "data": {
      "application/vnd.jupyter.widget-view+json": {
       "model_id": "f1beff935e60402b8eef5142b39289c9",
       "version_major": 2,
       "version_minor": 0
      },
      "text/plain": [
       "Training:   0%|          | 0/330 [00:00<?, ?it/s]"
      ]
     },
     "metadata": {},
     "output_type": "display_data"
    },
    {
     "data": {
      "application/vnd.jupyter.widget-view+json": {
       "model_id": "31ddf6c7a37d4e2e98965fdf38652b59",
       "version_major": 2,
       "version_minor": 0
      },
      "text/plain": [
       "Validation:   0%|          | 0/165 [00:00<?, ?it/s]"
      ]
     },
     "metadata": {},
     "output_type": "display_data"
    },
    {
     "name": "stdout",
     "output_type": "stream",
     "text": [
      "val_losses 0.3032386908928553\n",
      "EarlyStopping counter: 9 out of 50\n"
     ]
    },
    {
     "data": {
      "application/vnd.jupyter.widget-view+json": {
       "model_id": "8880dd70e74b4efaa19c2efbd5c34a90",
       "version_major": 2,
       "version_minor": 0
      },
      "text/plain": [
       "Training:   0%|          | 0/330 [00:00<?, ?it/s]"
      ]
     },
     "metadata": {},
     "output_type": "display_data"
    },
    {
     "data": {
      "application/vnd.jupyter.widget-view+json": {
       "model_id": "737afeab959e4fb2a3af0bc37bd4f55f",
       "version_major": 2,
       "version_minor": 0
      },
      "text/plain": [
       "Validation:   0%|          | 0/165 [00:00<?, ?it/s]"
      ]
     },
     "metadata": {},
     "output_type": "display_data"
    },
    {
     "name": "stdout",
     "output_type": "stream",
     "text": [
      "val_losses 0.2960404500816808\n",
      "EarlyStopping counter: 10 out of 50\n"
     ]
    },
    {
     "data": {
      "application/vnd.jupyter.widget-view+json": {
       "model_id": "c27759ca5fc1451a89de8c2a0fa50a42",
       "version_major": 2,
       "version_minor": 0
      },
      "text/plain": [
       "Training:   0%|          | 0/330 [00:00<?, ?it/s]"
      ]
     },
     "metadata": {},
     "output_type": "display_data"
    },
    {
     "data": {
      "application/vnd.jupyter.widget-view+json": {
       "model_id": "94b4f34dd13b47d2a5688de353a7f81c",
       "version_major": 2,
       "version_minor": 0
      },
      "text/plain": [
       "Validation:   0%|          | 0/165 [00:00<?, ?it/s]"
      ]
     },
     "metadata": {},
     "output_type": "display_data"
    },
    {
     "name": "stdout",
     "output_type": "stream",
     "text": [
      "val_losses 0.28509381634719444\n",
      "EarlyStopping counter: 11 out of 50\n"
     ]
    },
    {
     "data": {
      "application/vnd.jupyter.widget-view+json": {
       "model_id": "cca964a348df4bb5abdcb5bfe59aa8c8",
       "version_major": 2,
       "version_minor": 0
      },
      "text/plain": [
       "Training:   0%|          | 0/330 [00:00<?, ?it/s]"
      ]
     },
     "metadata": {},
     "output_type": "display_data"
    },
    {
     "data": {
      "application/vnd.jupyter.widget-view+json": {
       "model_id": "34e46c5cd1c148f3b50d350da2878116",
       "version_major": 2,
       "version_minor": 0
      },
      "text/plain": [
       "Validation:   0%|          | 0/165 [00:00<?, ?it/s]"
      ]
     },
     "metadata": {},
     "output_type": "display_data"
    },
    {
     "name": "stdout",
     "output_type": "stream",
     "text": [
      "val_losses 0.3253073002352859\n",
      "EarlyStopping counter: 12 out of 50\n"
     ]
    },
    {
     "data": {
      "application/vnd.jupyter.widget-view+json": {
       "model_id": "f211af1716d54b62b2300b24f37d6894",
       "version_major": 2,
       "version_minor": 0
      },
      "text/plain": [
       "Training:   0%|          | 0/330 [00:00<?, ?it/s]"
      ]
     },
     "metadata": {},
     "output_type": "display_data"
    },
    {
     "data": {
      "application/vnd.jupyter.widget-view+json": {
       "model_id": "d1752b0c79ba4713913eb5a0f5aa37f5",
       "version_major": 2,
       "version_minor": 0
      },
      "text/plain": [
       "Validation:   0%|          | 0/165 [00:00<?, ?it/s]"
      ]
     },
     "metadata": {},
     "output_type": "display_data"
    },
    {
     "name": "stdout",
     "output_type": "stream",
     "text": [
      "val_losses 0.15541999798380968\n",
      "Validation loss decreased (0.201891 --> 0.155420).  Saving model ...\n"
     ]
    },
    {
     "data": {
      "application/vnd.jupyter.widget-view+json": {
       "model_id": "29f51b5b4acc44a5b61174569d042230",
       "version_major": 2,
       "version_minor": 0
      },
      "text/plain": [
       "Training:   0%|          | 0/330 [00:00<?, ?it/s]"
      ]
     },
     "metadata": {},
     "output_type": "display_data"
    },
    {
     "data": {
      "application/vnd.jupyter.widget-view+json": {
       "model_id": "90a56041fac34df6a3925e11b3e58755",
       "version_major": 2,
       "version_minor": 0
      },
      "text/plain": [
       "Validation:   0%|          | 0/165 [00:00<?, ?it/s]"
      ]
     },
     "metadata": {},
     "output_type": "display_data"
    },
    {
     "name": "stdout",
     "output_type": "stream",
     "text": [
      "val_losses 0.21083950599034626\n",
      "EarlyStopping counter: 1 out of 50\n"
     ]
    },
    {
     "data": {
      "application/vnd.jupyter.widget-view+json": {
       "model_id": "d48fe37996b9417692cd9b1b3f9b83f8",
       "version_major": 2,
       "version_minor": 0
      },
      "text/plain": [
       "Training:   0%|          | 0/330 [00:00<?, ?it/s]"
      ]
     },
     "metadata": {},
     "output_type": "display_data"
    },
    {
     "data": {
      "application/vnd.jupyter.widget-view+json": {
       "model_id": "d31d18f34d0e460c97b9133014f966ee",
       "version_major": 2,
       "version_minor": 0
      },
      "text/plain": [
       "Validation:   0%|          | 0/165 [00:00<?, ?it/s]"
      ]
     },
     "metadata": {},
     "output_type": "display_data"
    },
    {
     "name": "stdout",
     "output_type": "stream",
     "text": [
      "val_losses 0.2371253836335558\n",
      "EarlyStopping counter: 2 out of 50\n"
     ]
    },
    {
     "data": {
      "application/vnd.jupyter.widget-view+json": {
       "model_id": "43898719626a473a9501dec3fd1b9cee",
       "version_major": 2,
       "version_minor": 0
      },
      "text/plain": [
       "Training:   0%|          | 0/330 [00:00<?, ?it/s]"
      ]
     },
     "metadata": {},
     "output_type": "display_data"
    },
    {
     "data": {
      "application/vnd.jupyter.widget-view+json": {
       "model_id": "b0677de266fc4d348c8d92502e882f1a",
       "version_major": 2,
       "version_minor": 0
      },
      "text/plain": [
       "Validation:   0%|          | 0/165 [00:00<?, ?it/s]"
      ]
     },
     "metadata": {},
     "output_type": "display_data"
    },
    {
     "name": "stdout",
     "output_type": "stream",
     "text": [
      "val_losses 0.2546296192389546\n",
      "EarlyStopping counter: 3 out of 50\n"
     ]
    },
    {
     "data": {
      "application/vnd.jupyter.widget-view+json": {
       "model_id": "10b226e61fb64199922d85274289d6ee",
       "version_major": 2,
       "version_minor": 0
      },
      "text/plain": [
       "Training:   0%|          | 0/330 [00:00<?, ?it/s]"
      ]
     },
     "metadata": {},
     "output_type": "display_data"
    },
    {
     "data": {
      "application/vnd.jupyter.widget-view+json": {
       "model_id": "2e65f1c07c6348889740418e8edda16e",
       "version_major": 2,
       "version_minor": 0
      },
      "text/plain": [
       "Validation:   0%|          | 0/165 [00:00<?, ?it/s]"
      ]
     },
     "metadata": {},
     "output_type": "display_data"
    },
    {
     "name": "stdout",
     "output_type": "stream",
     "text": [
      "val_losses 0.26027951294725593\n",
      "EarlyStopping counter: 4 out of 50\n"
     ]
    },
    {
     "data": {
      "application/vnd.jupyter.widget-view+json": {
       "model_id": "d697bec664d64fa0a8a1e47c0d58a6d7",
       "version_major": 2,
       "version_minor": 0
      },
      "text/plain": [
       "Training:   0%|          | 0/330 [00:00<?, ?it/s]"
      ]
     },
     "metadata": {},
     "output_type": "display_data"
    },
    {
     "data": {
      "application/vnd.jupyter.widget-view+json": {
       "model_id": "747f9630c38b4b998ae72152eb74140b",
       "version_major": 2,
       "version_minor": 0
      },
      "text/plain": [
       "Validation:   0%|          | 0/165 [00:00<?, ?it/s]"
      ]
     },
     "metadata": {},
     "output_type": "display_data"
    },
    {
     "name": "stdout",
     "output_type": "stream",
     "text": [
      "val_losses 0.2519613909901995\n",
      "EarlyStopping counter: 5 out of 50\n"
     ]
    },
    {
     "data": {
      "application/vnd.jupyter.widget-view+json": {
       "model_id": "702c2130941d4bd89584e2c441a8c2cd",
       "version_major": 2,
       "version_minor": 0
      },
      "text/plain": [
       "Training:   0%|          | 0/330 [00:00<?, ?it/s]"
      ]
     },
     "metadata": {},
     "output_type": "display_data"
    },
    {
     "data": {
      "application/vnd.jupyter.widget-view+json": {
       "model_id": "48872163e517468ebf5dbecf7135cfc2",
       "version_major": 2,
       "version_minor": 0
      },
      "text/plain": [
       "Validation:   0%|          | 0/165 [00:00<?, ?it/s]"
      ]
     },
     "metadata": {},
     "output_type": "display_data"
    },
    {
     "name": "stdout",
     "output_type": "stream",
     "text": [
      "val_losses 0.27524425626704185\n",
      "EarlyStopping counter: 6 out of 50\n"
     ]
    },
    {
     "data": {
      "application/vnd.jupyter.widget-view+json": {
       "model_id": "672add6a4c91498c83cf9dff304947b4",
       "version_major": 2,
       "version_minor": 0
      },
      "text/plain": [
       "Training:   0%|          | 0/330 [00:00<?, ?it/s]"
      ]
     },
     "metadata": {},
     "output_type": "display_data"
    },
    {
     "data": {
      "application/vnd.jupyter.widget-view+json": {
       "model_id": "658dd24d0df74ecc949773c2517fcb2e",
       "version_major": 2,
       "version_minor": 0
      },
      "text/plain": [
       "Validation:   0%|          | 0/165 [00:00<?, ?it/s]"
      ]
     },
     "metadata": {},
     "output_type": "display_data"
    },
    {
     "name": "stdout",
     "output_type": "stream",
     "text": [
      "val_losses 0.24853736604705\n",
      "EarlyStopping counter: 7 out of 50\n"
     ]
    },
    {
     "data": {
      "application/vnd.jupyter.widget-view+json": {
       "model_id": "d067ac29585d4f5e91cd3d696d30932c",
       "version_major": 2,
       "version_minor": 0
      },
      "text/plain": [
       "Training:   0%|          | 0/330 [00:00<?, ?it/s]"
      ]
     },
     "metadata": {},
     "output_type": "display_data"
    },
    {
     "data": {
      "application/vnd.jupyter.widget-view+json": {
       "model_id": "80d452bb908c443e9eec2adcf9ff52cf",
       "version_major": 2,
       "version_minor": 0
      },
      "text/plain": [
       "Validation:   0%|          | 0/165 [00:00<?, ?it/s]"
      ]
     },
     "metadata": {},
     "output_type": "display_data"
    },
    {
     "name": "stdout",
     "output_type": "stream",
     "text": [
      "val_losses 0.2576375070394892\n",
      "EarlyStopping counter: 8 out of 50\n"
     ]
    },
    {
     "data": {
      "application/vnd.jupyter.widget-view+json": {
       "model_id": "b6d97a23d023459097866d97a1ba5759",
       "version_major": 2,
       "version_minor": 0
      },
      "text/plain": [
       "Training:   0%|          | 0/330 [00:00<?, ?it/s]"
      ]
     },
     "metadata": {},
     "output_type": "display_data"
    },
    {
     "data": {
      "application/vnd.jupyter.widget-view+json": {
       "model_id": "2b4c664bef4e454eb8e408e3acb8d603",
       "version_major": 2,
       "version_minor": 0
      },
      "text/plain": [
       "Validation:   0%|          | 0/165 [00:00<?, ?it/s]"
      ]
     },
     "metadata": {},
     "output_type": "display_data"
    },
    {
     "name": "stdout",
     "output_type": "stream",
     "text": [
      "val_losses 0.26714772256937896\n",
      "EarlyStopping counter: 9 out of 50\n"
     ]
    },
    {
     "data": {
      "application/vnd.jupyter.widget-view+json": {
       "model_id": "b6bb4001885441839e4b2bcd49b6d1b1",
       "version_major": 2,
       "version_minor": 0
      },
      "text/plain": [
       "Training:   0%|          | 0/330 [00:00<?, ?it/s]"
      ]
     },
     "metadata": {},
     "output_type": "display_data"
    },
    {
     "data": {
      "application/vnd.jupyter.widget-view+json": {
       "model_id": "c8ab30c1d8404df0980234c4bbf894aa",
       "version_major": 2,
       "version_minor": 0
      },
      "text/plain": [
       "Validation:   0%|          | 0/165 [00:00<?, ?it/s]"
      ]
     },
     "metadata": {},
     "output_type": "display_data"
    },
    {
     "name": "stdout",
     "output_type": "stream",
     "text": [
      "val_losses 0.2756564684437983\n",
      "EarlyStopping counter: 10 out of 50\n"
     ]
    },
    {
     "data": {
      "application/vnd.jupyter.widget-view+json": {
       "model_id": "1ef77a0b7fe74caabf0097da73624184",
       "version_major": 2,
       "version_minor": 0
      },
      "text/plain": [
       "Training:   0%|          | 0/330 [00:00<?, ?it/s]"
      ]
     },
     "metadata": {},
     "output_type": "display_data"
    },
    {
     "data": {
      "application/vnd.jupyter.widget-view+json": {
       "model_id": "c184a414d68e4a2aa561b64465f0e82e",
       "version_major": 2,
       "version_minor": 0
      },
      "text/plain": [
       "Validation:   0%|          | 0/165 [00:00<?, ?it/s]"
      ]
     },
     "metadata": {},
     "output_type": "display_data"
    },
    {
     "name": "stdout",
     "output_type": "stream",
     "text": [
      "val_losses 0.29240957191496186\n",
      "EarlyStopping counter: 11 out of 50\n"
     ]
    },
    {
     "data": {
      "application/vnd.jupyter.widget-view+json": {
       "model_id": "4d4576a846bb443d8b7070d4ef476e35",
       "version_major": 2,
       "version_minor": 0
      },
      "text/plain": [
       "Training:   0%|          | 0/330 [00:00<?, ?it/s]"
      ]
     },
     "metadata": {},
     "output_type": "display_data"
    },
    {
     "data": {
      "application/vnd.jupyter.widget-view+json": {
       "model_id": "100afcfcae5a4bcb8a1b397d6edc919c",
       "version_major": 2,
       "version_minor": 0
      },
      "text/plain": [
       "Validation:   0%|          | 0/165 [00:00<?, ?it/s]"
      ]
     },
     "metadata": {},
     "output_type": "display_data"
    },
    {
     "name": "stdout",
     "output_type": "stream",
     "text": [
      "val_losses 0.275544872925137\n",
      "EarlyStopping counter: 12 out of 50\n"
     ]
    },
    {
     "data": {
      "application/vnd.jupyter.widget-view+json": {
       "model_id": "2a241cea2b504c31880af58be9cf53e1",
       "version_major": 2,
       "version_minor": 0
      },
      "text/plain": [
       "Training:   0%|          | 0/330 [00:00<?, ?it/s]"
      ]
     },
     "metadata": {},
     "output_type": "display_data"
    },
    {
     "data": {
      "application/vnd.jupyter.widget-view+json": {
       "model_id": "5c2bac704f2d401fa915676fe93846af",
       "version_major": 2,
       "version_minor": 0
      },
      "text/plain": [
       "Validation:   0%|          | 0/165 [00:00<?, ?it/s]"
      ]
     },
     "metadata": {},
     "output_type": "display_data"
    },
    {
     "name": "stdout",
     "output_type": "stream",
     "text": [
      "val_losses 0.28806337082024774\n",
      "EarlyStopping counter: 13 out of 50\n"
     ]
    },
    {
     "data": {
      "application/vnd.jupyter.widget-view+json": {
       "model_id": "918a37a1f8a14d5baba7b2b5091b89ea",
       "version_major": 2,
       "version_minor": 0
      },
      "text/plain": [
       "Training:   0%|          | 0/330 [00:00<?, ?it/s]"
      ]
     },
     "metadata": {},
     "output_type": "display_data"
    },
    {
     "data": {
      "application/vnd.jupyter.widget-view+json": {
       "model_id": "af94b6ae75904653bcecb05a163ea60d",
       "version_major": 2,
       "version_minor": 0
      },
      "text/plain": [
       "Validation:   0%|          | 0/165 [00:00<?, ?it/s]"
      ]
     },
     "metadata": {},
     "output_type": "display_data"
    },
    {
     "name": "stdout",
     "output_type": "stream",
     "text": [
      "val_losses 0.2947888460574728\n",
      "EarlyStopping counter: 14 out of 50\n"
     ]
    },
    {
     "data": {
      "application/vnd.jupyter.widget-view+json": {
       "model_id": "ebb69f40b93441b19bdf2ae97c830ee2",
       "version_major": 2,
       "version_minor": 0
      },
      "text/plain": [
       "Training:   0%|          | 0/330 [00:00<?, ?it/s]"
      ]
     },
     "metadata": {},
     "output_type": "display_data"
    },
    {
     "data": {
      "application/vnd.jupyter.widget-view+json": {
       "model_id": "99b4ee8fe0b6474fa865842016d73259",
       "version_major": 2,
       "version_minor": 0
      },
      "text/plain": [
       "Validation:   0%|          | 0/165 [00:00<?, ?it/s]"
      ]
     },
     "metadata": {},
     "output_type": "display_data"
    },
    {
     "name": "stdout",
     "output_type": "stream",
     "text": [
      "val_losses 0.2788264289498329\n",
      "EarlyStopping counter: 15 out of 50\n"
     ]
    },
    {
     "data": {
      "application/vnd.jupyter.widget-view+json": {
       "model_id": "ff2a7a5a39ae4670b6920885bdc622fd",
       "version_major": 2,
       "version_minor": 0
      },
      "text/plain": [
       "Training:   0%|          | 0/330 [00:00<?, ?it/s]"
      ]
     },
     "metadata": {},
     "output_type": "display_data"
    },
    {
     "data": {
      "application/vnd.jupyter.widget-view+json": {
       "model_id": "cf291c423163461696a1201484529518",
       "version_major": 2,
       "version_minor": 0
      },
      "text/plain": [
       "Validation:   0%|          | 0/165 [00:00<?, ?it/s]"
      ]
     },
     "metadata": {},
     "output_type": "display_data"
    },
    {
     "name": "stdout",
     "output_type": "stream",
     "text": [
      "val_losses 0.2926646880128167\n",
      "EarlyStopping counter: 16 out of 50\n"
     ]
    },
    {
     "data": {
      "application/vnd.jupyter.widget-view+json": {
       "model_id": "345889bbe709448bb38d2ec4795b8842",
       "version_major": 2,
       "version_minor": 0
      },
      "text/plain": [
       "Training:   0%|          | 0/330 [00:00<?, ?it/s]"
      ]
     },
     "metadata": {},
     "output_type": "display_data"
    },
    {
     "data": {
      "application/vnd.jupyter.widget-view+json": {
       "model_id": "38c4de516e0f4456a0b4339e37fde000",
       "version_major": 2,
       "version_minor": 0
      },
      "text/plain": [
       "Validation:   0%|          | 0/165 [00:00<?, ?it/s]"
      ]
     },
     "metadata": {},
     "output_type": "display_data"
    },
    {
     "name": "stdout",
     "output_type": "stream",
     "text": [
      "val_losses 0.3054697907332218\n",
      "EarlyStopping counter: 17 out of 50\n"
     ]
    },
    {
     "data": {
      "application/vnd.jupyter.widget-view+json": {
       "model_id": "5a2f0ae420ff46728fc4d5ea7d289a4d",
       "version_major": 2,
       "version_minor": 0
      },
      "text/plain": [
       "Training:   0%|          | 0/330 [00:00<?, ?it/s]"
      ]
     },
     "metadata": {},
     "output_type": "display_data"
    },
    {
     "data": {
      "application/vnd.jupyter.widget-view+json": {
       "model_id": "dff643e6b7914bb080bfa883e113c29b",
       "version_major": 2,
       "version_minor": 0
      },
      "text/plain": [
       "Validation:   0%|          | 0/165 [00:00<?, ?it/s]"
      ]
     },
     "metadata": {},
     "output_type": "display_data"
    },
    {
     "name": "stdout",
     "output_type": "stream",
     "text": [
      "val_losses 0.33280068437258403\n",
      "EarlyStopping counter: 18 out of 50\n"
     ]
    },
    {
     "data": {
      "application/vnd.jupyter.widget-view+json": {
       "model_id": "8e29ff18d4494d88895001f5f05d05aa",
       "version_major": 2,
       "version_minor": 0
      },
      "text/plain": [
       "Training:   0%|          | 0/330 [00:00<?, ?it/s]"
      ]
     },
     "metadata": {},
     "output_type": "display_data"
    },
    {
     "data": {
      "application/vnd.jupyter.widget-view+json": {
       "model_id": "cf9d046daa1344fdb5ef8a24981a8d86",
       "version_major": 2,
       "version_minor": 0
      },
      "text/plain": [
       "Validation:   0%|          | 0/165 [00:00<?, ?it/s]"
      ]
     },
     "metadata": {},
     "output_type": "display_data"
    },
    {
     "name": "stdout",
     "output_type": "stream",
     "text": [
      "val_losses 0.30854495668953114\n",
      "EarlyStopping counter: 19 out of 50\n"
     ]
    },
    {
     "data": {
      "application/vnd.jupyter.widget-view+json": {
       "model_id": "27cf62b7b71a495f9357d0f06f1df940",
       "version_major": 2,
       "version_minor": 0
      },
      "text/plain": [
       "Training:   0%|          | 0/330 [00:00<?, ?it/s]"
      ]
     },
     "metadata": {},
     "output_type": "display_data"
    },
    {
     "data": {
      "application/vnd.jupyter.widget-view+json": {
       "model_id": "2f94ff06a3504003bb9b1d7aa636984b",
       "version_major": 2,
       "version_minor": 0
      },
      "text/plain": [
       "Validation:   0%|          | 0/165 [00:00<?, ?it/s]"
      ]
     },
     "metadata": {},
     "output_type": "display_data"
    },
    {
     "name": "stdout",
     "output_type": "stream",
     "text": [
      "val_losses 0.16396445004325924\n",
      "EarlyStopping counter: 20 out of 50\n"
     ]
    },
    {
     "data": {
      "application/vnd.jupyter.widget-view+json": {
       "model_id": "037b0c4d3f2f4af8b0d01dcd5a1ae070",
       "version_major": 2,
       "version_minor": 0
      },
      "text/plain": [
       "Training:   0%|          | 0/330 [00:00<?, ?it/s]"
      ]
     },
     "metadata": {},
     "output_type": "display_data"
    },
    {
     "data": {
      "application/vnd.jupyter.widget-view+json": {
       "model_id": "9bf1123a56b94c1bb9e95c27dffca341",
       "version_major": 2,
       "version_minor": 0
      },
      "text/plain": [
       "Validation:   0%|          | 0/165 [00:00<?, ?it/s]"
      ]
     },
     "metadata": {},
     "output_type": "display_data"
    },
    {
     "name": "stdout",
     "output_type": "stream",
     "text": [
      "val_losses 0.19808881014133944\n",
      "EarlyStopping counter: 21 out of 50\n"
     ]
    },
    {
     "data": {
      "application/vnd.jupyter.widget-view+json": {
       "model_id": "b11ec453b1b441f9a0aac8d5059e914c",
       "version_major": 2,
       "version_minor": 0
      },
      "text/plain": [
       "Training:   0%|          | 0/330 [00:00<?, ?it/s]"
      ]
     },
     "metadata": {},
     "output_type": "display_data"
    },
    {
     "data": {
      "application/vnd.jupyter.widget-view+json": {
       "model_id": "7d00145699bd40e39ec4216ea2545702",
       "version_major": 2,
       "version_minor": 0
      },
      "text/plain": [
       "Validation:   0%|          | 0/165 [00:00<?, ?it/s]"
      ]
     },
     "metadata": {},
     "output_type": "display_data"
    },
    {
     "name": "stdout",
     "output_type": "stream",
     "text": [
      "val_losses 0.21657066715486123\n",
      "EarlyStopping counter: 22 out of 50\n"
     ]
    },
    {
     "data": {
      "application/vnd.jupyter.widget-view+json": {
       "model_id": "927797f2ba17448a93a8e0c21a4a87f4",
       "version_major": 2,
       "version_minor": 0
      },
      "text/plain": [
       "Training:   0%|          | 0/330 [00:00<?, ?it/s]"
      ]
     },
     "metadata": {},
     "output_type": "display_data"
    },
    {
     "data": {
      "application/vnd.jupyter.widget-view+json": {
       "model_id": "ad8f42c0cd5246acaf00d0fe43dc1eb0",
       "version_major": 2,
       "version_minor": 0
      },
      "text/plain": [
       "Validation:   0%|          | 0/165 [00:00<?, ?it/s]"
      ]
     },
     "metadata": {},
     "output_type": "display_data"
    },
    {
     "name": "stdout",
     "output_type": "stream",
     "text": [
      "val_losses 0.2242079039866274\n",
      "EarlyStopping counter: 23 out of 50\n"
     ]
    },
    {
     "data": {
      "application/vnd.jupyter.widget-view+json": {
       "model_id": "4da9740a1a334c86b43fe5362ef57019",
       "version_major": 2,
       "version_minor": 0
      },
      "text/plain": [
       "Training:   0%|          | 0/330 [00:00<?, ?it/s]"
      ]
     },
     "metadata": {},
     "output_type": "display_data"
    },
    {
     "data": {
      "application/vnd.jupyter.widget-view+json": {
       "model_id": "4da7cd13be724b4ab43eba48cb39bdf8",
       "version_major": 2,
       "version_minor": 0
      },
      "text/plain": [
       "Validation:   0%|          | 0/165 [00:00<?, ?it/s]"
      ]
     },
     "metadata": {},
     "output_type": "display_data"
    },
    {
     "name": "stdout",
     "output_type": "stream",
     "text": [
      "val_losses 0.23181579329750754\n",
      "EarlyStopping counter: 24 out of 50\n"
     ]
    },
    {
     "data": {
      "application/vnd.jupyter.widget-view+json": {
       "model_id": "8b2b582a515843fb96d4baba158cce82",
       "version_major": 2,
       "version_minor": 0
      },
      "text/plain": [
       "Training:   0%|          | 0/330 [00:00<?, ?it/s]"
      ]
     },
     "metadata": {},
     "output_type": "display_data"
    },
    {
     "data": {
      "application/vnd.jupyter.widget-view+json": {
       "model_id": "cf95566720b34984b5a80754969600cb",
       "version_major": 2,
       "version_minor": 0
      },
      "text/plain": [
       "Validation:   0%|          | 0/165 [00:00<?, ?it/s]"
      ]
     },
     "metadata": {},
     "output_type": "display_data"
    },
    {
     "name": "stdout",
     "output_type": "stream",
     "text": [
      "val_losses 0.24563644072323135\n",
      "EarlyStopping counter: 25 out of 50\n"
     ]
    },
    {
     "data": {
      "application/vnd.jupyter.widget-view+json": {
       "model_id": "aeedce991c5d4f0eb2f44166fdb5e411",
       "version_major": 2,
       "version_minor": 0
      },
      "text/plain": [
       "Training:   0%|          | 0/330 [00:00<?, ?it/s]"
      ]
     },
     "metadata": {},
     "output_type": "display_data"
    },
    {
     "data": {
      "application/vnd.jupyter.widget-view+json": {
       "model_id": "96465f3cc3a14bf2a027b9aa9bfe1c30",
       "version_major": 2,
       "version_minor": 0
      },
      "text/plain": [
       "Validation:   0%|          | 0/165 [00:00<?, ?it/s]"
      ]
     },
     "metadata": {},
     "output_type": "display_data"
    },
    {
     "name": "stdout",
     "output_type": "stream",
     "text": [
      "val_losses 0.24537133195183494\n",
      "EarlyStopping counter: 26 out of 50\n"
     ]
    },
    {
     "data": {
      "application/vnd.jupyter.widget-view+json": {
       "model_id": "d6c8a2048db9471bb5af0c9d2d1a7aa4",
       "version_major": 2,
       "version_minor": 0
      },
      "text/plain": [
       "Training:   0%|          | 0/330 [00:00<?, ?it/s]"
      ]
     },
     "metadata": {},
     "output_type": "display_data"
    },
    {
     "data": {
      "application/vnd.jupyter.widget-view+json": {
       "model_id": "fc104103de054cdd8c7971c1d1a61fb4",
       "version_major": 2,
       "version_minor": 0
      },
      "text/plain": [
       "Validation:   0%|          | 0/165 [00:00<?, ?it/s]"
      ]
     },
     "metadata": {},
     "output_type": "display_data"
    },
    {
     "name": "stdout",
     "output_type": "stream",
     "text": [
      "val_losses 0.24781454544175754\n",
      "EarlyStopping counter: 27 out of 50\n"
     ]
    },
    {
     "data": {
      "application/vnd.jupyter.widget-view+json": {
       "model_id": "f6baa370cddf40a18014bdfc33293eab",
       "version_major": 2,
       "version_minor": 0
      },
      "text/plain": [
       "Training:   0%|          | 0/330 [00:00<?, ?it/s]"
      ]
     },
     "metadata": {},
     "output_type": "display_data"
    },
    {
     "data": {
      "application/vnd.jupyter.widget-view+json": {
       "model_id": "1d29e9f4b6d94699b28024d5f14056c5",
       "version_major": 2,
       "version_minor": 0
      },
      "text/plain": [
       "Validation:   0%|          | 0/165 [00:00<?, ?it/s]"
      ]
     },
     "metadata": {},
     "output_type": "display_data"
    },
    {
     "name": "stdout",
     "output_type": "stream",
     "text": [
      "val_losses 0.25352273393761027\n",
      "EarlyStopping counter: 28 out of 50\n"
     ]
    },
    {
     "data": {
      "application/vnd.jupyter.widget-view+json": {
       "model_id": "54c8956e66b1405c88ed251bb86d553e",
       "version_major": 2,
       "version_minor": 0
      },
      "text/plain": [
       "Training:   0%|          | 0/330 [00:00<?, ?it/s]"
      ]
     },
     "metadata": {},
     "output_type": "display_data"
    },
    {
     "data": {
      "application/vnd.jupyter.widget-view+json": {
       "model_id": "25f20ab16842412881c05ef36eb358a6",
       "version_major": 2,
       "version_minor": 0
      },
      "text/plain": [
       "Validation:   0%|          | 0/165 [00:00<?, ?it/s]"
      ]
     },
     "metadata": {},
     "output_type": "display_data"
    },
    {
     "name": "stdout",
     "output_type": "stream",
     "text": [
      "val_losses 0.26290372000499207\n",
      "EarlyStopping counter: 29 out of 50\n"
     ]
    },
    {
     "data": {
      "application/vnd.jupyter.widget-view+json": {
       "model_id": "d45af7d0f4ef45ff9b4f19b1a01c1d94",
       "version_major": 2,
       "version_minor": 0
      },
      "text/plain": [
       "Training:   0%|          | 0/330 [00:00<?, ?it/s]"
      ]
     },
     "metadata": {},
     "output_type": "display_data"
    },
    {
     "data": {
      "application/vnd.jupyter.widget-view+json": {
       "model_id": "5f3f9e844b9847a3b2e5bedcf57843ee",
       "version_major": 2,
       "version_minor": 0
      },
      "text/plain": [
       "Validation:   0%|          | 0/165 [00:00<?, ?it/s]"
      ]
     },
     "metadata": {},
     "output_type": "display_data"
    },
    {
     "name": "stdout",
     "output_type": "stream",
     "text": [
      "val_losses 0.25582007553541297\n",
      "EarlyStopping counter: 30 out of 50\n"
     ]
    },
    {
     "data": {
      "application/vnd.jupyter.widget-view+json": {
       "model_id": "000c4bff3e9d444dbb1aa90cf3d81c5b",
       "version_major": 2,
       "version_minor": 0
      },
      "text/plain": [
       "Training:   0%|          | 0/330 [00:00<?, ?it/s]"
      ]
     },
     "metadata": {},
     "output_type": "display_data"
    },
    {
     "data": {
      "application/vnd.jupyter.widget-view+json": {
       "model_id": "2e5ebfe281e0469781bc7dc5c034ab20",
       "version_major": 2,
       "version_minor": 0
      },
      "text/plain": [
       "Validation:   0%|          | 0/165 [00:00<?, ?it/s]"
      ]
     },
     "metadata": {},
     "output_type": "display_data"
    },
    {
     "name": "stdout",
     "output_type": "stream",
     "text": [
      "val_losses 0.3147906165231358\n",
      "EarlyStopping counter: 31 out of 50\n"
     ]
    },
    {
     "data": {
      "application/vnd.jupyter.widget-view+json": {
       "model_id": "fe179138f822451698da9d490532fe7a",
       "version_major": 2,
       "version_minor": 0
      },
      "text/plain": [
       "Training:   0%|          | 0/330 [00:00<?, ?it/s]"
      ]
     },
     "metadata": {},
     "output_type": "display_data"
    },
    {
     "data": {
      "application/vnd.jupyter.widget-view+json": {
       "model_id": "d949913baabf4a9f937f2c3631e0d699",
       "version_major": 2,
       "version_minor": 0
      },
      "text/plain": [
       "Validation:   0%|          | 0/165 [00:00<?, ?it/s]"
      ]
     },
     "metadata": {},
     "output_type": "display_data"
    },
    {
     "name": "stdout",
     "output_type": "stream",
     "text": [
      "val_losses 0.31586441185438274\n",
      "EarlyStopping counter: 32 out of 50\n"
     ]
    },
    {
     "data": {
      "application/vnd.jupyter.widget-view+json": {
       "model_id": "a048cfb773f446cdb810f1b00f6ebde4",
       "version_major": 2,
       "version_minor": 0
      },
      "text/plain": [
       "Training:   0%|          | 0/330 [00:00<?, ?it/s]"
      ]
     },
     "metadata": {},
     "output_type": "display_data"
    },
    {
     "data": {
      "application/vnd.jupyter.widget-view+json": {
       "model_id": "9dd0f3c9b00e4ca28f96d6700b29acd9",
       "version_major": 2,
       "version_minor": 0
      },
      "text/plain": [
       "Validation:   0%|          | 0/165 [00:00<?, ?it/s]"
      ]
     },
     "metadata": {},
     "output_type": "display_data"
    },
    {
     "name": "stdout",
     "output_type": "stream",
     "text": [
      "val_losses 0.29352779216838604\n",
      "EarlyStopping counter: 33 out of 50\n"
     ]
    },
    {
     "data": {
      "application/vnd.jupyter.widget-view+json": {
       "model_id": "76a828052e82425eb5d466c83c30da2c",
       "version_major": 2,
       "version_minor": 0
      },
      "text/plain": [
       "Training:   0%|          | 0/330 [00:00<?, ?it/s]"
      ]
     },
     "metadata": {},
     "output_type": "display_data"
    },
    {
     "data": {
      "application/vnd.jupyter.widget-view+json": {
       "model_id": "1cd7cec022574ed7b3302df2b399ed36",
       "version_major": 2,
       "version_minor": 0
      },
      "text/plain": [
       "Validation:   0%|          | 0/165 [00:00<?, ?it/s]"
      ]
     },
     "metadata": {},
     "output_type": "display_data"
    },
    {
     "name": "stdout",
     "output_type": "stream",
     "text": [
      "val_losses 0.3082535243395603\n",
      "EarlyStopping counter: 34 out of 50\n"
     ]
    },
    {
     "data": {
      "application/vnd.jupyter.widget-view+json": {
       "model_id": "6cee6ee4c4924004ab7538945fadad66",
       "version_major": 2,
       "version_minor": 0
      },
      "text/plain": [
       "Training:   0%|          | 0/330 [00:00<?, ?it/s]"
      ]
     },
     "metadata": {},
     "output_type": "display_data"
    },
    {
     "data": {
      "application/vnd.jupyter.widget-view+json": {
       "model_id": "917ed4af94924844b45d4ce324f22cc8",
       "version_major": 2,
       "version_minor": 0
      },
      "text/plain": [
       "Validation:   0%|          | 0/165 [00:00<?, ?it/s]"
      ]
     },
     "metadata": {},
     "output_type": "display_data"
    },
    {
     "name": "stdout",
     "output_type": "stream",
     "text": [
      "val_losses 0.32096415663307365\n",
      "EarlyStopping counter: 35 out of 50\n"
     ]
    },
    {
     "data": {
      "application/vnd.jupyter.widget-view+json": {
       "model_id": "be09a06b94794205be5a0d075a09c914",
       "version_major": 2,
       "version_minor": 0
      },
      "text/plain": [
       "Training:   0%|          | 0/330 [00:00<?, ?it/s]"
      ]
     },
     "metadata": {},
     "output_type": "display_data"
    },
    {
     "data": {
      "application/vnd.jupyter.widget-view+json": {
       "model_id": "c36cca9f49c14da7afde7b79402a96a8",
       "version_major": 2,
       "version_minor": 0
      },
      "text/plain": [
       "Validation:   0%|          | 0/165 [00:00<?, ?it/s]"
      ]
     },
     "metadata": {},
     "output_type": "display_data"
    },
    {
     "name": "stdout",
     "output_type": "stream",
     "text": [
      "val_losses 0.22094487132448137\n",
      "EarlyStopping counter: 36 out of 50\n"
     ]
    },
    {
     "data": {
      "application/vnd.jupyter.widget-view+json": {
       "model_id": "b37e7d6875534556b7088a26d6d441df",
       "version_major": 2,
       "version_minor": 0
      },
      "text/plain": [
       "Training:   0%|          | 0/330 [00:00<?, ?it/s]"
      ]
     },
     "metadata": {},
     "output_type": "display_data"
    },
    {
     "data": {
      "application/vnd.jupyter.widget-view+json": {
       "model_id": "636af5721e6c4b0095314ec19b1dc464",
       "version_major": 2,
       "version_minor": 0
      },
      "text/plain": [
       "Validation:   0%|          | 0/165 [00:00<?, ?it/s]"
      ]
     },
     "metadata": {},
     "output_type": "display_data"
    },
    {
     "name": "stdout",
     "output_type": "stream",
     "text": [
      "val_losses 0.24844546963771183\n",
      "EarlyStopping counter: 37 out of 50\n"
     ]
    },
    {
     "data": {
      "application/vnd.jupyter.widget-view+json": {
       "model_id": "fb55a70a3fc14a63b5e89692804d1b1a",
       "version_major": 2,
       "version_minor": 0
      },
      "text/plain": [
       "Training:   0%|          | 0/330 [00:00<?, ?it/s]"
      ]
     },
     "metadata": {},
     "output_type": "display_data"
    },
    {
     "data": {
      "application/vnd.jupyter.widget-view+json": {
       "model_id": "9ea86ee4e19b444b989184efb66235e4",
       "version_major": 2,
       "version_minor": 0
      },
      "text/plain": [
       "Validation:   0%|          | 0/165 [00:00<?, ?it/s]"
      ]
     },
     "metadata": {},
     "output_type": "display_data"
    },
    {
     "name": "stdout",
     "output_type": "stream",
     "text": [
      "val_losses 0.2602380420673977\n",
      "EarlyStopping counter: 38 out of 50\n"
     ]
    },
    {
     "data": {
      "application/vnd.jupyter.widget-view+json": {
       "model_id": "2cf8717359514eaeaa83ea847870654e",
       "version_major": 2,
       "version_minor": 0
      },
      "text/plain": [
       "Training:   0%|          | 0/330 [00:00<?, ?it/s]"
      ]
     },
     "metadata": {},
     "output_type": "display_data"
    },
    {
     "data": {
      "application/vnd.jupyter.widget-view+json": {
       "model_id": "109a7fd78b8b4f9c89cfcd77ed6a1fa6",
       "version_major": 2,
       "version_minor": 0
      },
      "text/plain": [
       "Validation:   0%|          | 0/165 [00:00<?, ?it/s]"
      ]
     },
     "metadata": {},
     "output_type": "display_data"
    },
    {
     "name": "stdout",
     "output_type": "stream",
     "text": [
      "val_losses 0.282809046904246\n",
      "EarlyStopping counter: 39 out of 50\n"
     ]
    },
    {
     "data": {
      "application/vnd.jupyter.widget-view+json": {
       "model_id": "2676e0742f174efa834bdc8675e81942",
       "version_major": 2,
       "version_minor": 0
      },
      "text/plain": [
       "Training:   0%|          | 0/330 [00:00<?, ?it/s]"
      ]
     },
     "metadata": {},
     "output_type": "display_data"
    },
    {
     "data": {
      "application/vnd.jupyter.widget-view+json": {
       "model_id": "a57fd3c32a8c401b8ac93006076db0c1",
       "version_major": 2,
       "version_minor": 0
      },
      "text/plain": [
       "Validation:   0%|          | 0/165 [00:00<?, ?it/s]"
      ]
     },
     "metadata": {},
     "output_type": "display_data"
    },
    {
     "name": "stdout",
     "output_type": "stream",
     "text": [
      "val_losses 0.32022755326646746\n",
      "EarlyStopping counter: 40 out of 50\n"
     ]
    },
    {
     "data": {
      "application/vnd.jupyter.widget-view+json": {
       "model_id": "c384671f7a674197b4689dcfa299752f",
       "version_major": 2,
       "version_minor": 0
      },
      "text/plain": [
       "Training:   0%|          | 0/330 [00:00<?, ?it/s]"
      ]
     },
     "metadata": {},
     "output_type": "display_data"
    },
    {
     "data": {
      "application/vnd.jupyter.widget-view+json": {
       "model_id": "f45fcdbdb8fc4e9db8ce2f919eb5efcf",
       "version_major": 2,
       "version_minor": 0
      },
      "text/plain": [
       "Validation:   0%|          | 0/165 [00:00<?, ?it/s]"
      ]
     },
     "metadata": {},
     "output_type": "display_data"
    },
    {
     "name": "stdout",
     "output_type": "stream",
     "text": [
      "val_losses 0.3178705877426899\n",
      "EarlyStopping counter: 41 out of 50\n"
     ]
    },
    {
     "data": {
      "application/vnd.jupyter.widget-view+json": {
       "model_id": "c62775328c5f4a44a58dee2186b716aa",
       "version_major": 2,
       "version_minor": 0
      },
      "text/plain": [
       "Training:   0%|          | 0/330 [00:00<?, ?it/s]"
      ]
     },
     "metadata": {},
     "output_type": "display_data"
    },
    {
     "data": {
      "application/vnd.jupyter.widget-view+json": {
       "model_id": "e1749dcfeb2946fdb47e18540d0d140b",
       "version_major": 2,
       "version_minor": 0
      },
      "text/plain": [
       "Validation:   0%|          | 0/165 [00:00<?, ?it/s]"
      ]
     },
     "metadata": {},
     "output_type": "display_data"
    },
    {
     "name": "stdout",
     "output_type": "stream",
     "text": [
      "val_losses 0.32571940151127904\n",
      "EarlyStopping counter: 42 out of 50\n"
     ]
    },
    {
     "data": {
      "application/vnd.jupyter.widget-view+json": {
       "model_id": "ed84d47b09ed4f1c9042abbeca547c4f",
       "version_major": 2,
       "version_minor": 0
      },
      "text/plain": [
       "Training:   0%|          | 0/330 [00:00<?, ?it/s]"
      ]
     },
     "metadata": {},
     "output_type": "display_data"
    },
    {
     "data": {
      "application/vnd.jupyter.widget-view+json": {
       "model_id": "a908e13a63d540cda6e03099c3ceb4e4",
       "version_major": 2,
       "version_minor": 0
      },
      "text/plain": [
       "Validation:   0%|          | 0/165 [00:00<?, ?it/s]"
      ]
     },
     "metadata": {},
     "output_type": "display_data"
    },
    {
     "name": "stdout",
     "output_type": "stream",
     "text": [
      "val_losses 0.334718991996664\n",
      "EarlyStopping counter: 43 out of 50\n"
     ]
    },
    {
     "data": {
      "application/vnd.jupyter.widget-view+json": {
       "model_id": "ca4675a74cc8494f934dc3c3d407ffd5",
       "version_major": 2,
       "version_minor": 0
      },
      "text/plain": [
       "Training:   0%|          | 0/330 [00:00<?, ?it/s]"
      ]
     },
     "metadata": {},
     "output_type": "display_data"
    },
    {
     "data": {
      "application/vnd.jupyter.widget-view+json": {
       "model_id": "96a05aaba61f4af09fc1bffe8b4c89d9",
       "version_major": 2,
       "version_minor": 0
      },
      "text/plain": [
       "Validation:   0%|          | 0/165 [00:00<?, ?it/s]"
      ]
     },
     "metadata": {},
     "output_type": "display_data"
    },
    {
     "name": "stdout",
     "output_type": "stream",
     "text": [
      "val_losses 0.328075992157965\n",
      "EarlyStopping counter: 44 out of 50\n"
     ]
    },
    {
     "data": {
      "application/vnd.jupyter.widget-view+json": {
       "model_id": "ecb4e3f32d454acb934e8f7e4d02e2eb",
       "version_major": 2,
       "version_minor": 0
      },
      "text/plain": [
       "Training:   0%|          | 0/330 [00:00<?, ?it/s]"
      ]
     },
     "metadata": {},
     "output_type": "display_data"
    },
    {
     "data": {
      "application/vnd.jupyter.widget-view+json": {
       "model_id": "4e8d54ab603e4134920a78fb4884b833",
       "version_major": 2,
       "version_minor": 0
      },
      "text/plain": [
       "Validation:   0%|          | 0/165 [00:00<?, ?it/s]"
      ]
     },
     "metadata": {},
     "output_type": "display_data"
    },
    {
     "name": "stdout",
     "output_type": "stream",
     "text": [
      "val_losses 0.34940112747929314\n",
      "EarlyStopping counter: 45 out of 50\n"
     ]
    },
    {
     "data": {
      "application/vnd.jupyter.widget-view+json": {
       "model_id": "cdf6e76f8bde4321bbc3340be40a124a",
       "version_major": 2,
       "version_minor": 0
      },
      "text/plain": [
       "Training:   0%|          | 0/330 [00:00<?, ?it/s]"
      ]
     },
     "metadata": {},
     "output_type": "display_data"
    },
    {
     "data": {
      "application/vnd.jupyter.widget-view+json": {
       "model_id": "50da862ce4434c6c9df8c0a449404536",
       "version_major": 2,
       "version_minor": 0
      },
      "text/plain": [
       "Validation:   0%|          | 0/165 [00:00<?, ?it/s]"
      ]
     },
     "metadata": {},
     "output_type": "display_data"
    },
    {
     "name": "stdout",
     "output_type": "stream",
     "text": [
      "val_losses 0.3627804030071605\n",
      "EarlyStopping counter: 46 out of 50\n"
     ]
    },
    {
     "data": {
      "application/vnd.jupyter.widget-view+json": {
       "model_id": "f4e9121f52ac485d9ca7ba731aae8a62",
       "version_major": 2,
       "version_minor": 0
      },
      "text/plain": [
       "Training:   0%|          | 0/330 [00:00<?, ?it/s]"
      ]
     },
     "metadata": {},
     "output_type": "display_data"
    },
    {
     "data": {
      "application/vnd.jupyter.widget-view+json": {
       "model_id": "095866dbe9af4e50a8817a9d85ddcacc",
       "version_major": 2,
       "version_minor": 0
      },
      "text/plain": [
       "Validation:   0%|          | 0/165 [00:00<?, ?it/s]"
      ]
     },
     "metadata": {},
     "output_type": "display_data"
    },
    {
     "name": "stdout",
     "output_type": "stream",
     "text": [
      "val_losses 0.3494313202121041\n",
      "EarlyStopping counter: 47 out of 50\n"
     ]
    },
    {
     "data": {
      "application/vnd.jupyter.widget-view+json": {
       "model_id": "5b405bd6679b44a29693202cb292e92c",
       "version_major": 2,
       "version_minor": 0
      },
      "text/plain": [
       "Training:   0%|          | 0/330 [00:00<?, ?it/s]"
      ]
     },
     "metadata": {},
     "output_type": "display_data"
    },
    {
     "data": {
      "application/vnd.jupyter.widget-view+json": {
       "model_id": "4de248e265a04e29a379d2601fdf7519",
       "version_major": 2,
       "version_minor": 0
      },
      "text/plain": [
       "Validation:   0%|          | 0/165 [00:00<?, ?it/s]"
      ]
     },
     "metadata": {},
     "output_type": "display_data"
    },
    {
     "name": "stdout",
     "output_type": "stream",
     "text": [
      "val_losses 0.30403599454597996\n",
      "EarlyStopping counter: 48 out of 50\n"
     ]
    },
    {
     "data": {
      "application/vnd.jupyter.widget-view+json": {
       "model_id": "363d9fb44e9846f99c5e570ffc86f2b1",
       "version_major": 2,
       "version_minor": 0
      },
      "text/plain": [
       "Training:   0%|          | 0/330 [00:00<?, ?it/s]"
      ]
     },
     "metadata": {},
     "output_type": "display_data"
    },
    {
     "data": {
      "application/vnd.jupyter.widget-view+json": {
       "model_id": "a70464d9434d4c01a7a1d8992c4bf931",
       "version_major": 2,
       "version_minor": 0
      },
      "text/plain": [
       "Validation:   0%|          | 0/165 [00:00<?, ?it/s]"
      ]
     },
     "metadata": {},
     "output_type": "display_data"
    },
    {
     "name": "stdout",
     "output_type": "stream",
     "text": [
      "val_losses 0.3309988497333093\n",
      "EarlyStopping counter: 49 out of 50\n"
     ]
    },
    {
     "data": {
      "application/vnd.jupyter.widget-view+json": {
       "model_id": "7d5d42617c224f8e8801e1ea7e113852",
       "version_major": 2,
       "version_minor": 0
      },
      "text/plain": [
       "Training:   0%|          | 0/330 [00:00<?, ?it/s]"
      ]
     },
     "metadata": {},
     "output_type": "display_data"
    },
    {
     "data": {
      "application/vnd.jupyter.widget-view+json": {
       "model_id": "ff4b63a56f0a406a8853379745e50bd3",
       "version_major": 2,
       "version_minor": 0
      },
      "text/plain": [
       "Validation:   0%|          | 0/165 [00:00<?, ?it/s]"
      ]
     },
     "metadata": {},
     "output_type": "display_data"
    },
    {
     "name": "stdout",
     "output_type": "stream",
     "text": [
      "val_losses 0.33731519728899\n",
      "EarlyStopping counter: 50 out of 50\n",
      "early stopping epoch: 79\n",
      "***************************\n",
      "modelname:model_fold_1.ptを保存しました\n",
      "*************************************Test*************************************\n",
      "in constructor inchannel: 45\n",
      "Input channel count3\n",
      "model_dir =  model/20250205-DenseCRFIntegrationExperiment2\n",
      "Creating image arrays...\n",
      "Number of label images: 12\n",
      "Completed creating image arrays:\n",
      "Dataset shape  (12, 256, 256, 45)\n",
      "Label image shape  (12, 256, 256)\n",
      "\n",
      "index =  0\n",
      "予測画像: /home/eric/Documents/cervicalResearchIIP/result_test/20250205-DenseCRFIntegrationExperiment2/fold1/N1-2.png\n",
      "テストラベル: /home/eric/Documents/cervicalResearchIIP/img_1006t/labeled/N1-2.png\n",
      "index =  1\n",
      "予測画像: /home/eric/Documents/cervicalResearchIIP/result_test/20250205-DenseCRFIntegrationExperiment2/fold1/N1-4.png\n",
      "テストラベル: /home/eric/Documents/cervicalResearchIIP/img_1006t/labeled/N1-4.png\n",
      "index =  2\n",
      "予測画像: /home/eric/Documents/cervicalResearchIIP/result_test/20250205-DenseCRFIntegrationExperiment2/fold1/N1-6.png\n",
      "テストラベル: /home/eric/Documents/cervicalResearchIIP/img_1006t/labeled/N1-6.png\n",
      "index =  3\n",
      "予測画像: /home/eric/Documents/cervicalResearchIIP/result_test/20250205-DenseCRFIntegrationExperiment2/fold1/N2-1.png\n",
      "テストラベル: /home/eric/Documents/cervicalResearchIIP/img_1006t/labeled/N2-1.png\n",
      "index =  4\n",
      "予測画像: /home/eric/Documents/cervicalResearchIIP/result_test/20250205-DenseCRFIntegrationExperiment2/fold1/N2-2.png\n",
      "テストラベル: /home/eric/Documents/cervicalResearchIIP/img_1006t/labeled/N2-2.png\n",
      "index =  5\n",
      "予測画像: /home/eric/Documents/cervicalResearchIIP/result_test/20250205-DenseCRFIntegrationExperiment2/fold1/N3-2.png\n",
      "テストラベル: /home/eric/Documents/cervicalResearchIIP/img_1006t/labeled/N3-2.png\n",
      "index =  6\n",
      "予測画像: /home/eric/Documents/cervicalResearchIIP/result_test/20250205-DenseCRFIntegrationExperiment2/fold1/N3-3.png\n",
      "テストラベル: /home/eric/Documents/cervicalResearchIIP/img_1006t/labeled/N3-3.png\n",
      "index =  7\n",
      "予測画像: /home/eric/Documents/cervicalResearchIIP/result_test/20250205-DenseCRFIntegrationExperiment2/fold1/N3-9.png\n",
      "テストラベル: /home/eric/Documents/cervicalResearchIIP/img_1006t/labeled/N3-9.png\n",
      "index =  8\n",
      "予測画像: /home/eric/Documents/cervicalResearchIIP/result_test/20250205-DenseCRFIntegrationExperiment2/fold1/N4-1.png\n",
      "テストラベル: /home/eric/Documents/cervicalResearchIIP/img_1006t/labeled/N4-1.png\n",
      "index =  9\n",
      "予測画像: /home/eric/Documents/cervicalResearchIIP/result_test/20250205-DenseCRFIntegrationExperiment2/fold1/N4-6.png\n",
      "テストラベル: /home/eric/Documents/cervicalResearchIIP/img_1006t/labeled/N4-6.png\n",
      "index =  10\n",
      "予測画像: /home/eric/Documents/cervicalResearchIIP/result_test/20250205-DenseCRFIntegrationExperiment2/fold1/N5-1.png\n",
      "テストラベル: /home/eric/Documents/cervicalResearchIIP/img_1006t/labeled/N5-1.png\n",
      "index =  11\n",
      "予測画像: /home/eric/Documents/cervicalResearchIIP/result_test/20250205-DenseCRFIntegrationExperiment2/fold1/N5-6.png\n",
      "テストラベル: /home/eric/Documents/cervicalResearchIIP/img_1006t/labeled/N5-6.png\n",
      "Count1 =  [698601, 13659, 8545, 9406, 6469, 7872, 6625, 9287, 5990, 13501, 6477]\n",
      "Count2 =  [704509, 13124, 8211, 8829, 6100, 8123, 5992, 8687, 5924, 11092, 5841]\n",
      "Count3 =  [690044, 11562, 7544, 7904, 5530, 6445, 5348, 6497, 4973, 8862, 4621]\n",
      "Dice =  [0.9835921631233474, 0.8633834895269388, 0.9004535688708523, 0.8669043049081436, 0.8799427162065399, 0.8058768365114098, 0.8477451058096219, 0.7229331256259041, 0.8348161826422696, 0.7206928800878298, 0.750284137035233, 0.8193032347224742]\n",
      "All labels are within the valid range (0 to 10).\n",
      "All labels are within the valid range (0 to 10).\n",
      "All labels are within the valid range (0 to 10).\n",
      "All labels are within the valid range (0 to 10).\n",
      "All labels are within the valid range (0 to 10).\n",
      "All labels are within the valid range (0 to 10).\n",
      "All labels are within the valid range (0 to 10).\n",
      "All labels are within the valid range (0 to 10).\n",
      "All labels are within the valid range (0 to 10).\n",
      "All labels are within the valid range (0 to 10).\n",
      "All labels are within the valid range (0 to 10).\n",
      "All labels are within the valid range (0 to 10).\n",
      "index =  0\n",
      "予測画像: /home/eric/Documents/cervicalResearchIIP/result_test/20250205-DenseCRFIntegrationExperiment2/fold1/crf/N1-2.png\n",
      "テストラベル: /home/eric/Documents/cervicalResearchIIP/img_1006t/labeled/N1-2.png\n",
      "index =  1\n",
      "予測画像: /home/eric/Documents/cervicalResearchIIP/result_test/20250205-DenseCRFIntegrationExperiment2/fold1/crf/N1-4.png\n",
      "テストラベル: /home/eric/Documents/cervicalResearchIIP/img_1006t/labeled/N1-4.png\n",
      "index =  2\n",
      "予測画像: /home/eric/Documents/cervicalResearchIIP/result_test/20250205-DenseCRFIntegrationExperiment2/fold1/crf/N1-6.png\n",
      "テストラベル: /home/eric/Documents/cervicalResearchIIP/img_1006t/labeled/N1-6.png\n",
      "index =  3\n",
      "予測画像: /home/eric/Documents/cervicalResearchIIP/result_test/20250205-DenseCRFIntegrationExperiment2/fold1/crf/N2-1.png\n",
      "テストラベル: /home/eric/Documents/cervicalResearchIIP/img_1006t/labeled/N2-1.png\n",
      "index =  4\n",
      "予測画像: /home/eric/Documents/cervicalResearchIIP/result_test/20250205-DenseCRFIntegrationExperiment2/fold1/crf/N2-2.png\n",
      "テストラベル: /home/eric/Documents/cervicalResearchIIP/img_1006t/labeled/N2-2.png\n",
      "index =  5\n",
      "予測画像: /home/eric/Documents/cervicalResearchIIP/result_test/20250205-DenseCRFIntegrationExperiment2/fold1/crf/N3-2.png\n",
      "テストラベル: /home/eric/Documents/cervicalResearchIIP/img_1006t/labeled/N3-2.png\n",
      "index =  6\n",
      "予測画像: /home/eric/Documents/cervicalResearchIIP/result_test/20250205-DenseCRFIntegrationExperiment2/fold1/crf/N3-3.png\n",
      "テストラベル: /home/eric/Documents/cervicalResearchIIP/img_1006t/labeled/N3-3.png\n",
      "index =  7\n",
      "予測画像: /home/eric/Documents/cervicalResearchIIP/result_test/20250205-DenseCRFIntegrationExperiment2/fold1/crf/N3-9.png\n",
      "テストラベル: /home/eric/Documents/cervicalResearchIIP/img_1006t/labeled/N3-9.png\n",
      "index =  8\n",
      "予測画像: /home/eric/Documents/cervicalResearchIIP/result_test/20250205-DenseCRFIntegrationExperiment2/fold1/crf/N4-1.png\n",
      "テストラベル: /home/eric/Documents/cervicalResearchIIP/img_1006t/labeled/N4-1.png\n",
      "index =  9\n",
      "予測画像: /home/eric/Documents/cervicalResearchIIP/result_test/20250205-DenseCRFIntegrationExperiment2/fold1/crf/N4-6.png\n",
      "テストラベル: /home/eric/Documents/cervicalResearchIIP/img_1006t/labeled/N4-6.png\n",
      "index =  10\n",
      "予測画像: /home/eric/Documents/cervicalResearchIIP/result_test/20250205-DenseCRFIntegrationExperiment2/fold1/crf/N5-1.png\n",
      "テストラベル: /home/eric/Documents/cervicalResearchIIP/img_1006t/labeled/N5-1.png\n",
      "index =  11\n",
      "予測画像: /home/eric/Documents/cervicalResearchIIP/result_test/20250205-DenseCRFIntegrationExperiment2/fold1/crf/N5-6.png\n",
      "テストラベル: /home/eric/Documents/cervicalResearchIIP/img_1006t/labeled/N5-6.png\n",
      "Count1 =  [700863, 13613, 8422, 9195, 6260, 7726, 6350, 9298, 5913, 12500, 6292]\n",
      "Count2 =  [704509, 13124, 8211, 8829, 6100, 8123, 5992, 8687, 5924, 11092, 5841]\n",
      "Count3 =  [692050, 11556, 7544, 7903, 5520, 6482, 5372, 6508, 4971, 8773, 4612]\n",
      "Dice =  [0.9848637940701821, 0.8644200920073307, 0.9071123669813023, 0.876941855304039, 0.8932038834951457, 0.8179695879866238, 0.8705234159779615, 0.7237142062830136, 0.8399087606657092, 0.7437266870125466, 0.7602406659523613, 0.8297761521666034]\n",
      "Cross validation: True\n",
      "Fold: 2 out of 4\n",
      "Augmentation: True\n",
      "Augmentation amount: 30\n",
      "Training: Total of 22 cases.\n",
      "['N4-1' 'N3-1' 'N2-1' 'N3-4' 'N5-1' 'N2-6' 'N4-9' 'N1-5' 'N1-1' 'N1-2'\n",
      " 'N3-2' 'N2-4' 'N5-4' 'N2-2' 'N4-3' 'N1-10' 'N1-7' 'N3-9' 'N5-2' 'N3-5'\n",
      " 'N4-8' 'N2-7']\n",
      "Validation: Total of 12 cases.\n",
      "['N4-5' 'N3-8' 'N5-5' 'N4-6' 'N1-4' 'N2-9' 'N5-6' 'N4-2' 'N3-3' 'N2-8'\n",
      " 'N1-6' 'N2-3']\n",
      "Test: Total of 11 cases.\n",
      "['N1-3' 'N1-8' 'N1-9' 'N2-5' 'N2-10' 'N3-6' 'N3-7' 'N3-10' 'N4-4' 'N4-7'\n",
      " 'N5-3']\n",
      "\n",
      "Creating image arrays...\n",
      "Number of label images: 660\n",
      "Completed creating image arrays:\n",
      "Dataset shape  (660, 256, 256, 45)\n",
      "Label image shape  (660, 256, 256)\n",
      "\n",
      "Creating image arrays...\n",
      "Number of label images: 360\n",
      "Completed creating image arrays:\n",
      "Dataset shape  (360, 256, 256, 45)\n",
      "Label image shape  (360, 256, 256)\n",
      "\n",
      "*************************Training*************************\n",
      "x.shape =  torch.Size([2, 45, 256, 256])\n",
      "x.min(), x.max() =  tensor(0.) tensor(1.)\n",
      "y.shape =  torch.Size([2, 256, 256])\n",
      "torch.unique(y) =  tensor([ 0,  1,  2,  3,  4,  5,  6,  7,  8,  9, 10])\n",
      "in constructor inchannel: 45\n",
      "Input channel count3\n",
      "=======start training======\n"
     ]
    },
    {
     "data": {
      "application/vnd.jupyter.widget-view+json": {
       "model_id": "55c5fdb8f1af42089411cadfb7535488",
       "version_major": 2,
       "version_minor": 0
      },
      "text/plain": [
       "Progress:   0%|          | 0/146 [00:00<?, ?it/s]"
      ]
     },
     "metadata": {},
     "output_type": "display_data"
    },
    {
     "data": {
      "application/vnd.jupyter.widget-view+json": {
       "model_id": "a05ecbf76c444929b6205823855f2996",
       "version_major": 2,
       "version_minor": 0
      },
      "text/plain": [
       "Training:   0%|          | 0/330 [00:00<?, ?it/s]"
      ]
     },
     "metadata": {},
     "output_type": "display_data"
    },
    {
     "data": {
      "application/vnd.jupyter.widget-view+json": {
       "model_id": "c89a4606ab2e42bf89f57f9c3d39f1cf",
       "version_major": 2,
       "version_minor": 0
      },
      "text/plain": [
       "Validation:   0%|          | 0/180 [00:00<?, ?it/s]"
      ]
     },
     "metadata": {},
     "output_type": "display_data"
    },
    {
     "name": "stdout",
     "output_type": "stream",
     "text": [
      "val_losses 1.4942175467809042\n",
      "Validation loss decreased (inf --> 1.494218).  Saving model ...\n"
     ]
    },
    {
     "data": {
      "application/vnd.jupyter.widget-view+json": {
       "model_id": "b4eb67da1d604589bccf5dd6181d9eac",
       "version_major": 2,
       "version_minor": 0
      },
      "text/plain": [
       "Training:   0%|          | 0/330 [00:00<?, ?it/s]"
      ]
     },
     "metadata": {},
     "output_type": "display_data"
    },
    {
     "data": {
      "application/vnd.jupyter.widget-view+json": {
       "model_id": "c6e666e8cd7346d6b57c09f76a292bb1",
       "version_major": 2,
       "version_minor": 0
      },
      "text/plain": [
       "Validation:   0%|          | 0/180 [00:00<?, ?it/s]"
      ]
     },
     "metadata": {},
     "output_type": "display_data"
    },
    {
     "name": "stdout",
     "output_type": "stream",
     "text": [
      "val_losses 1.0933041360643174\n",
      "Validation loss decreased (1.494218 --> 1.093304).  Saving model ...\n"
     ]
    },
    {
     "data": {
      "application/vnd.jupyter.widget-view+json": {
       "model_id": "b11f72e836b34d3f8ead7e563dbb568e",
       "version_major": 2,
       "version_minor": 0
      },
      "text/plain": [
       "Training:   0%|          | 0/330 [00:00<?, ?it/s]"
      ]
     },
     "metadata": {},
     "output_type": "display_data"
    },
    {
     "data": {
      "application/vnd.jupyter.widget-view+json": {
       "model_id": "8abce35abcf74b4487cc8b57b5eebba7",
       "version_major": 2,
       "version_minor": 0
      },
      "text/plain": [
       "Validation:   0%|          | 0/180 [00:00<?, ?it/s]"
      ]
     },
     "metadata": {},
     "output_type": "display_data"
    },
    {
     "name": "stdout",
     "output_type": "stream",
     "text": [
      "val_losses 0.8799277477794223\n",
      "Validation loss decreased (1.093304 --> 0.879928).  Saving model ...\n"
     ]
    },
    {
     "data": {
      "application/vnd.jupyter.widget-view+json": {
       "model_id": "9c75802325474a9580dcf8fc009ed82e",
       "version_major": 2,
       "version_minor": 0
      },
      "text/plain": [
       "Training:   0%|          | 0/330 [00:00<?, ?it/s]"
      ]
     },
     "metadata": {},
     "output_type": "display_data"
    },
    {
     "data": {
      "application/vnd.jupyter.widget-view+json": {
       "model_id": "496a1faf4adf44608c24cee89d01a371",
       "version_major": 2,
       "version_minor": 0
      },
      "text/plain": [
       "Validation:   0%|          | 0/180 [00:00<?, ?it/s]"
      ]
     },
     "metadata": {},
     "output_type": "display_data"
    },
    {
     "name": "stdout",
     "output_type": "stream",
     "text": [
      "val_losses 0.8362235758039687\n",
      "Validation loss decreased (0.879928 --> 0.836224).  Saving model ...\n"
     ]
    },
    {
     "data": {
      "application/vnd.jupyter.widget-view+json": {
       "model_id": "9195a0f980004d0ba101f81fee764f35",
       "version_major": 2,
       "version_minor": 0
      },
      "text/plain": [
       "Training:   0%|          | 0/330 [00:00<?, ?it/s]"
      ]
     },
     "metadata": {},
     "output_type": "display_data"
    },
    {
     "data": {
      "application/vnd.jupyter.widget-view+json": {
       "model_id": "02e2f40f56594348916039efccaa3a6a",
       "version_major": 2,
       "version_minor": 0
      },
      "text/plain": [
       "Validation:   0%|          | 0/180 [00:00<?, ?it/s]"
      ]
     },
     "metadata": {},
     "output_type": "display_data"
    },
    {
     "name": "stdout",
     "output_type": "stream",
     "text": [
      "val_losses 0.7309406113293436\n",
      "Validation loss decreased (0.836224 --> 0.730941).  Saving model ...\n"
     ]
    },
    {
     "data": {
      "application/vnd.jupyter.widget-view+json": {
       "model_id": "3f7a5166cc704dc3a81f3a549b98ee41",
       "version_major": 2,
       "version_minor": 0
      },
      "text/plain": [
       "Training:   0%|          | 0/330 [00:00<?, ?it/s]"
      ]
     },
     "metadata": {},
     "output_type": "display_data"
    },
    {
     "data": {
      "application/vnd.jupyter.widget-view+json": {
       "model_id": "0853553eaf9248c083d1862de815c661",
       "version_major": 2,
       "version_minor": 0
      },
      "text/plain": [
       "Validation:   0%|          | 0/180 [00:00<?, ?it/s]"
      ]
     },
     "metadata": {},
     "output_type": "display_data"
    },
    {
     "name": "stdout",
     "output_type": "stream",
     "text": [
      "val_losses 0.7579923812713888\n",
      "EarlyStopping counter: 1 out of 50\n"
     ]
    },
    {
     "data": {
      "application/vnd.jupyter.widget-view+json": {
       "model_id": "03208b9a79a64bdab69f6284f5a44167",
       "version_major": 2,
       "version_minor": 0
      },
      "text/plain": [
       "Training:   0%|          | 0/330 [00:00<?, ?it/s]"
      ]
     },
     "metadata": {},
     "output_type": "display_data"
    },
    {
     "data": {
      "application/vnd.jupyter.widget-view+json": {
       "model_id": "bcde5421b9ae4afbb44ac53d02468ccd",
       "version_major": 2,
       "version_minor": 0
      },
      "text/plain": [
       "Validation:   0%|          | 0/180 [00:00<?, ?it/s]"
      ]
     },
     "metadata": {},
     "output_type": "display_data"
    },
    {
     "name": "stdout",
     "output_type": "stream",
     "text": [
      "val_losses 0.738898199217187\n",
      "EarlyStopping counter: 2 out of 50\n"
     ]
    },
    {
     "data": {
      "application/vnd.jupyter.widget-view+json": {
       "model_id": "c575edfb425942a3a5a950e8d7e8726e",
       "version_major": 2,
       "version_minor": 0
      },
      "text/plain": [
       "Training:   0%|          | 0/330 [00:00<?, ?it/s]"
      ]
     },
     "metadata": {},
     "output_type": "display_data"
    },
    {
     "data": {
      "application/vnd.jupyter.widget-view+json": {
       "model_id": "b8b87d4351164da9963d0583db35e6e7",
       "version_major": 2,
       "version_minor": 0
      },
      "text/plain": [
       "Validation:   0%|          | 0/180 [00:00<?, ?it/s]"
      ]
     },
     "metadata": {},
     "output_type": "display_data"
    },
    {
     "name": "stdout",
     "output_type": "stream",
     "text": [
      "val_losses 0.7722959322233994\n",
      "EarlyStopping counter: 3 out of 50\n"
     ]
    },
    {
     "data": {
      "application/vnd.jupyter.widget-view+json": {
       "model_id": "495b27e1545e443289d7969aa7ed3291",
       "version_major": 2,
       "version_minor": 0
      },
      "text/plain": [
       "Training:   0%|          | 0/330 [00:00<?, ?it/s]"
      ]
     },
     "metadata": {},
     "output_type": "display_data"
    },
    {
     "data": {
      "application/vnd.jupyter.widget-view+json": {
       "model_id": "e7c9b399d2e14a71a1a176cdee0e0049",
       "version_major": 2,
       "version_minor": 0
      },
      "text/plain": [
       "Validation:   0%|          | 0/180 [00:00<?, ?it/s]"
      ]
     },
     "metadata": {},
     "output_type": "display_data"
    },
    {
     "name": "stdout",
     "output_type": "stream",
     "text": [
      "val_losses 0.699013217455811\n",
      "Validation loss decreased (0.730941 --> 0.699013).  Saving model ...\n"
     ]
    },
    {
     "data": {
      "application/vnd.jupyter.widget-view+json": {
       "model_id": "a7d49db9acfa4763bf04e81fdf514884",
       "version_major": 2,
       "version_minor": 0
      },
      "text/plain": [
       "Training:   0%|          | 0/330 [00:00<?, ?it/s]"
      ]
     },
     "metadata": {},
     "output_type": "display_data"
    },
    {
     "data": {
      "application/vnd.jupyter.widget-view+json": {
       "model_id": "1dbaae98c0d74e91939b8c6adceb390f",
       "version_major": 2,
       "version_minor": 0
      },
      "text/plain": [
       "Validation:   0%|          | 0/180 [00:00<?, ?it/s]"
      ]
     },
     "metadata": {},
     "output_type": "display_data"
    },
    {
     "name": "stdout",
     "output_type": "stream",
     "text": [
      "val_losses 0.7338101836542289\n",
      "EarlyStopping counter: 1 out of 50\n"
     ]
    },
    {
     "data": {
      "application/vnd.jupyter.widget-view+json": {
       "model_id": "24708dd08d77403db9a59a2459404334",
       "version_major": 2,
       "version_minor": 0
      },
      "text/plain": [
       "Training:   0%|          | 0/330 [00:00<?, ?it/s]"
      ]
     },
     "metadata": {},
     "output_type": "display_data"
    },
    {
     "data": {
      "application/vnd.jupyter.widget-view+json": {
       "model_id": "0173ed07591d49a1a9f41fac5a5edc3f",
       "version_major": 2,
       "version_minor": 0
      },
      "text/plain": [
       "Validation:   0%|          | 0/180 [00:00<?, ?it/s]"
      ]
     },
     "metadata": {},
     "output_type": "display_data"
    },
    {
     "name": "stdout",
     "output_type": "stream",
     "text": [
      "val_losses 0.7723770059645176\n",
      "EarlyStopping counter: 2 out of 50\n"
     ]
    },
    {
     "data": {
      "application/vnd.jupyter.widget-view+json": {
       "model_id": "6be627cbc1f04b07a70d456d3b962c82",
       "version_major": 2,
       "version_minor": 0
      },
      "text/plain": [
       "Training:   0%|          | 0/330 [00:00<?, ?it/s]"
      ]
     },
     "metadata": {},
     "output_type": "display_data"
    },
    {
     "data": {
      "application/vnd.jupyter.widget-view+json": {
       "model_id": "841ae47c41ea4484a1bb4539799f11c6",
       "version_major": 2,
       "version_minor": 0
      },
      "text/plain": [
       "Validation:   0%|          | 0/180 [00:00<?, ?it/s]"
      ]
     },
     "metadata": {},
     "output_type": "display_data"
    },
    {
     "name": "stdout",
     "output_type": "stream",
     "text": [
      "val_losses 0.8098190410269631\n",
      "EarlyStopping counter: 3 out of 50\n"
     ]
    },
    {
     "data": {
      "application/vnd.jupyter.widget-view+json": {
       "model_id": "8d98a4ce8f5142678f869ad39769b983",
       "version_major": 2,
       "version_minor": 0
      },
      "text/plain": [
       "Training:   0%|          | 0/330 [00:00<?, ?it/s]"
      ]
     },
     "metadata": {},
     "output_type": "display_data"
    },
    {
     "data": {
      "application/vnd.jupyter.widget-view+json": {
       "model_id": "907ce72abce045389310b3872db5c206",
       "version_major": 2,
       "version_minor": 0
      },
      "text/plain": [
       "Validation:   0%|          | 0/180 [00:00<?, ?it/s]"
      ]
     },
     "metadata": {},
     "output_type": "display_data"
    },
    {
     "name": "stdout",
     "output_type": "stream",
     "text": [
      "val_losses 0.7807052305175198\n",
      "EarlyStopping counter: 4 out of 50\n"
     ]
    },
    {
     "data": {
      "application/vnd.jupyter.widget-view+json": {
       "model_id": "3972aed599494161974b2d2a55175d2d",
       "version_major": 2,
       "version_minor": 0
      },
      "text/plain": [
       "Training:   0%|          | 0/330 [00:00<?, ?it/s]"
      ]
     },
     "metadata": {},
     "output_type": "display_data"
    },
    {
     "data": {
      "application/vnd.jupyter.widget-view+json": {
       "model_id": "b7f4f20b9fce4198b97c3f808de7fd7e",
       "version_major": 2,
       "version_minor": 0
      },
      "text/plain": [
       "Validation:   0%|          | 0/180 [00:00<?, ?it/s]"
      ]
     },
     "metadata": {},
     "output_type": "display_data"
    },
    {
     "name": "stdout",
     "output_type": "stream",
     "text": [
      "val_losses 0.7776344117191103\n",
      "EarlyStopping counter: 5 out of 50\n"
     ]
    },
    {
     "data": {
      "application/vnd.jupyter.widget-view+json": {
       "model_id": "1148d875ef344340989639edd1e88a0d",
       "version_major": 2,
       "version_minor": 0
      },
      "text/plain": [
       "Training:   0%|          | 0/330 [00:00<?, ?it/s]"
      ]
     },
     "metadata": {},
     "output_type": "display_data"
    },
    {
     "data": {
      "application/vnd.jupyter.widget-view+json": {
       "model_id": "ab1f0d448e8141a6ba2fda8517574d3a",
       "version_major": 2,
       "version_minor": 0
      },
      "text/plain": [
       "Validation:   0%|          | 0/180 [00:00<?, ?it/s]"
      ]
     },
     "metadata": {},
     "output_type": "display_data"
    },
    {
     "name": "stdout",
     "output_type": "stream",
     "text": [
      "val_losses 0.8211649774677223\n",
      "EarlyStopping counter: 6 out of 50\n"
     ]
    },
    {
     "data": {
      "application/vnd.jupyter.widget-view+json": {
       "model_id": "ff399751a06c4928a27f3dd60afe3eaf",
       "version_major": 2,
       "version_minor": 0
      },
      "text/plain": [
       "Training:   0%|          | 0/330 [00:00<?, ?it/s]"
      ]
     },
     "metadata": {},
     "output_type": "display_data"
    },
    {
     "data": {
      "application/vnd.jupyter.widget-view+json": {
       "model_id": "a28ae27a509d49b49d4b7347c5d02c81",
       "version_major": 2,
       "version_minor": 0
      },
      "text/plain": [
       "Validation:   0%|          | 0/180 [00:00<?, ?it/s]"
      ]
     },
     "metadata": {},
     "output_type": "display_data"
    },
    {
     "name": "stdout",
     "output_type": "stream",
     "text": [
      "val_losses 0.9023656737473276\n",
      "EarlyStopping counter: 7 out of 50\n"
     ]
    },
    {
     "data": {
      "application/vnd.jupyter.widget-view+json": {
       "model_id": "5917731ca8454e69a39507a1328f2e1c",
       "version_major": 2,
       "version_minor": 0
      },
      "text/plain": [
       "Training:   0%|          | 0/330 [00:00<?, ?it/s]"
      ]
     },
     "metadata": {},
     "output_type": "display_data"
    },
    {
     "data": {
      "application/vnd.jupyter.widget-view+json": {
       "model_id": "315e61bbdd0f461c850ba17e6b6c3447",
       "version_major": 2,
       "version_minor": 0
      },
      "text/plain": [
       "Validation:   0%|          | 0/180 [00:00<?, ?it/s]"
      ]
     },
     "metadata": {},
     "output_type": "display_data"
    },
    {
     "name": "stdout",
     "output_type": "stream",
     "text": [
      "val_losses 0.8863167094687621\n",
      "EarlyStopping counter: 8 out of 50\n"
     ]
    },
    {
     "data": {
      "application/vnd.jupyter.widget-view+json": {
       "model_id": "78880f282bcb4e26a33d7ac5d33f6537",
       "version_major": 2,
       "version_minor": 0
      },
      "text/plain": [
       "Training:   0%|          | 0/330 [00:00<?, ?it/s]"
      ]
     },
     "metadata": {},
     "output_type": "display_data"
    },
    {
     "data": {
      "application/vnd.jupyter.widget-view+json": {
       "model_id": "9a5abb99d48b4eb68c2cefc8e4cbbf4b",
       "version_major": 2,
       "version_minor": 0
      },
      "text/plain": [
       "Validation:   0%|          | 0/180 [00:00<?, ?it/s]"
      ]
     },
     "metadata": {},
     "output_type": "display_data"
    },
    {
     "name": "stdout",
     "output_type": "stream",
     "text": [
      "val_losses 0.8677916124463081\n",
      "EarlyStopping counter: 9 out of 50\n"
     ]
    },
    {
     "data": {
      "application/vnd.jupyter.widget-view+json": {
       "model_id": "4c475acacd8f4814b5b99b556f099b82",
       "version_major": 2,
       "version_minor": 0
      },
      "text/plain": [
       "Training:   0%|          | 0/330 [00:00<?, ?it/s]"
      ]
     },
     "metadata": {},
     "output_type": "display_data"
    },
    {
     "data": {
      "application/vnd.jupyter.widget-view+json": {
       "model_id": "fa760cb4a69543d6a6d2f5e7d7ffc2c7",
       "version_major": 2,
       "version_minor": 0
      },
      "text/plain": [
       "Validation:   0%|          | 0/180 [00:00<?, ?it/s]"
      ]
     },
     "metadata": {},
     "output_type": "display_data"
    },
    {
     "name": "stdout",
     "output_type": "stream",
     "text": [
      "val_losses 0.8910836635364426\n",
      "EarlyStopping counter: 10 out of 50\n"
     ]
    },
    {
     "data": {
      "application/vnd.jupyter.widget-view+json": {
       "model_id": "2f66a7cc7861496698eef6294fe3b8e4",
       "version_major": 2,
       "version_minor": 0
      },
      "text/plain": [
       "Training:   0%|          | 0/330 [00:00<?, ?it/s]"
      ]
     },
     "metadata": {},
     "output_type": "display_data"
    },
    {
     "data": {
      "application/vnd.jupyter.widget-view+json": {
       "model_id": "d48ae081f2394512bde35c67aa7c2adf",
       "version_major": 2,
       "version_minor": 0
      },
      "text/plain": [
       "Validation:   0%|          | 0/180 [00:00<?, ?it/s]"
      ]
     },
     "metadata": {},
     "output_type": "display_data"
    },
    {
     "name": "stdout",
     "output_type": "stream",
     "text": [
      "val_losses 0.8856178511348035\n",
      "EarlyStopping counter: 11 out of 50\n"
     ]
    },
    {
     "data": {
      "application/vnd.jupyter.widget-view+json": {
       "model_id": "75d1167a04ab460f91f2dba0d13ad88c",
       "version_major": 2,
       "version_minor": 0
      },
      "text/plain": [
       "Training:   0%|          | 0/330 [00:00<?, ?it/s]"
      ]
     },
     "metadata": {},
     "output_type": "display_data"
    },
    {
     "data": {
      "application/vnd.jupyter.widget-view+json": {
       "model_id": "8b2c1f25e55f457c84ff8962891f30e0",
       "version_major": 2,
       "version_minor": 0
      },
      "text/plain": [
       "Validation:   0%|          | 0/180 [00:00<?, ?it/s]"
      ]
     },
     "metadata": {},
     "output_type": "display_data"
    },
    {
     "name": "stdout",
     "output_type": "stream",
     "text": [
      "val_losses 0.880503195275863\n",
      "EarlyStopping counter: 12 out of 50\n"
     ]
    },
    {
     "data": {
      "application/vnd.jupyter.widget-view+json": {
       "model_id": "07ee9d716c2e4f3a9da8808817ae9ee3",
       "version_major": 2,
       "version_minor": 0
      },
      "text/plain": [
       "Training:   0%|          | 0/330 [00:00<?, ?it/s]"
      ]
     },
     "metadata": {},
     "output_type": "display_data"
    },
    {
     "data": {
      "application/vnd.jupyter.widget-view+json": {
       "model_id": "aecd0e0b02f544af82b91dbe50395a2e",
       "version_major": 2,
       "version_minor": 0
      },
      "text/plain": [
       "Validation:   0%|          | 0/180 [00:00<?, ?it/s]"
      ]
     },
     "metadata": {},
     "output_type": "display_data"
    },
    {
     "name": "stdout",
     "output_type": "stream",
     "text": [
      "val_losses 0.5685723433064089\n",
      "Validation loss decreased (0.699013 --> 0.568572).  Saving model ...\n"
     ]
    },
    {
     "data": {
      "application/vnd.jupyter.widget-view+json": {
       "model_id": "e35df80b2a1e4cf1bd30f7a052927cb7",
       "version_major": 2,
       "version_minor": 0
      },
      "text/plain": [
       "Training:   0%|          | 0/330 [00:00<?, ?it/s]"
      ]
     },
     "metadata": {},
     "output_type": "display_data"
    },
    {
     "data": {
      "application/vnd.jupyter.widget-view+json": {
       "model_id": "08a4c97c33e3464580e59025f9deab87",
       "version_major": 2,
       "version_minor": 0
      },
      "text/plain": [
       "Validation:   0%|          | 0/180 [00:00<?, ?it/s]"
      ]
     },
     "metadata": {},
     "output_type": "display_data"
    },
    {
     "name": "stdout",
     "output_type": "stream",
     "text": [
      "val_losses 0.6544434890564945\n",
      "EarlyStopping counter: 1 out of 50\n"
     ]
    },
    {
     "data": {
      "application/vnd.jupyter.widget-view+json": {
       "model_id": "4319bb26d8f046bb85faf1a2f59275f5",
       "version_major": 2,
       "version_minor": 0
      },
      "text/plain": [
       "Training:   0%|          | 0/330 [00:00<?, ?it/s]"
      ]
     },
     "metadata": {},
     "output_type": "display_data"
    },
    {
     "data": {
      "application/vnd.jupyter.widget-view+json": {
       "model_id": "ebb2ccf232e04368a982fe5c93ec748f",
       "version_major": 2,
       "version_minor": 0
      },
      "text/plain": [
       "Validation:   0%|          | 0/180 [00:00<?, ?it/s]"
      ]
     },
     "metadata": {},
     "output_type": "display_data"
    },
    {
     "name": "stdout",
     "output_type": "stream",
     "text": [
      "val_losses 0.7150363811602195\n",
      "EarlyStopping counter: 2 out of 50\n"
     ]
    },
    {
     "data": {
      "application/vnd.jupyter.widget-view+json": {
       "model_id": "6d4b542938694fb79dca714e0deebdd3",
       "version_major": 2,
       "version_minor": 0
      },
      "text/plain": [
       "Training:   0%|          | 0/330 [00:00<?, ?it/s]"
      ]
     },
     "metadata": {},
     "output_type": "display_data"
    },
    {
     "data": {
      "application/vnd.jupyter.widget-view+json": {
       "model_id": "27844d7b0ea04086950026fdaa6ea358",
       "version_major": 2,
       "version_minor": 0
      },
      "text/plain": [
       "Validation:   0%|          | 0/180 [00:00<?, ?it/s]"
      ]
     },
     "metadata": {},
     "output_type": "display_data"
    },
    {
     "name": "stdout",
     "output_type": "stream",
     "text": [
      "val_losses 0.7634071064492066\n",
      "EarlyStopping counter: 3 out of 50\n"
     ]
    },
    {
     "data": {
      "application/vnd.jupyter.widget-view+json": {
       "model_id": "76d1f7d28614420ca7b721b78869b1f2",
       "version_major": 2,
       "version_minor": 0
      },
      "text/plain": [
       "Training:   0%|          | 0/330 [00:00<?, ?it/s]"
      ]
     },
     "metadata": {},
     "output_type": "display_data"
    },
    {
     "data": {
      "application/vnd.jupyter.widget-view+json": {
       "model_id": "b49dd7fb1dcb4a38aa977c9dc52e6b83",
       "version_major": 2,
       "version_minor": 0
      },
      "text/plain": [
       "Validation:   0%|          | 0/180 [00:00<?, ?it/s]"
      ]
     },
     "metadata": {},
     "output_type": "display_data"
    },
    {
     "name": "stdout",
     "output_type": "stream",
     "text": [
      "val_losses 0.8078357256948948\n",
      "EarlyStopping counter: 4 out of 50\n"
     ]
    },
    {
     "data": {
      "application/vnd.jupyter.widget-view+json": {
       "model_id": "bd9cbde92c8c456fb09c56d93c49e5b3",
       "version_major": 2,
       "version_minor": 0
      },
      "text/plain": [
       "Training:   0%|          | 0/330 [00:00<?, ?it/s]"
      ]
     },
     "metadata": {},
     "output_type": "display_data"
    },
    {
     "data": {
      "application/vnd.jupyter.widget-view+json": {
       "model_id": "1c99651271624dcd8f0ceb098ea38879",
       "version_major": 2,
       "version_minor": 0
      },
      "text/plain": [
       "Validation:   0%|          | 0/180 [00:00<?, ?it/s]"
      ]
     },
     "metadata": {},
     "output_type": "display_data"
    },
    {
     "name": "stdout",
     "output_type": "stream",
     "text": [
      "val_losses 0.8345569872607788\n",
      "EarlyStopping counter: 5 out of 50\n"
     ]
    },
    {
     "data": {
      "application/vnd.jupyter.widget-view+json": {
       "model_id": "2ee1304f5b13416689da2b5f4058b59d",
       "version_major": 2,
       "version_minor": 0
      },
      "text/plain": [
       "Training:   0%|          | 0/330 [00:00<?, ?it/s]"
      ]
     },
     "metadata": {},
     "output_type": "display_data"
    },
    {
     "data": {
      "application/vnd.jupyter.widget-view+json": {
       "model_id": "8d1e1761aa5742a199a4dc3c6ff00897",
       "version_major": 2,
       "version_minor": 0
      },
      "text/plain": [
       "Validation:   0%|          | 0/180 [00:00<?, ?it/s]"
      ]
     },
     "metadata": {},
     "output_type": "display_data"
    },
    {
     "name": "stdout",
     "output_type": "stream",
     "text": [
      "val_losses 0.8160884936650594\n",
      "EarlyStopping counter: 6 out of 50\n"
     ]
    },
    {
     "data": {
      "application/vnd.jupyter.widget-view+json": {
       "model_id": "b7984b1dbbb147a99d9cc8619c289bd8",
       "version_major": 2,
       "version_minor": 0
      },
      "text/plain": [
       "Training:   0%|          | 0/330 [00:00<?, ?it/s]"
      ]
     },
     "metadata": {},
     "output_type": "display_data"
    },
    {
     "data": {
      "application/vnd.jupyter.widget-view+json": {
       "model_id": "fdd6c8369f1142eaa1ae6edd091616b3",
       "version_major": 2,
       "version_minor": 0
      },
      "text/plain": [
       "Validation:   0%|          | 0/180 [00:00<?, ?it/s]"
      ]
     },
     "metadata": {},
     "output_type": "display_data"
    },
    {
     "name": "stdout",
     "output_type": "stream",
     "text": [
      "val_losses 0.840451977443364\n",
      "EarlyStopping counter: 7 out of 50\n"
     ]
    },
    {
     "data": {
      "application/vnd.jupyter.widget-view+json": {
       "model_id": "ad279c48671c4d23b5e8ce0251e8af3b",
       "version_major": 2,
       "version_minor": 0
      },
      "text/plain": [
       "Training:   0%|          | 0/330 [00:00<?, ?it/s]"
      ]
     },
     "metadata": {},
     "output_type": "display_data"
    },
    {
     "data": {
      "application/vnd.jupyter.widget-view+json": {
       "model_id": "c82539e119ff4c1097ae6779ac60d27c",
       "version_major": 2,
       "version_minor": 0
      },
      "text/plain": [
       "Validation:   0%|          | 0/180 [00:00<?, ?it/s]"
      ]
     },
     "metadata": {},
     "output_type": "display_data"
    },
    {
     "name": "stdout",
     "output_type": "stream",
     "text": [
      "val_losses 0.8557249282383257\n",
      "EarlyStopping counter: 8 out of 50\n"
     ]
    },
    {
     "data": {
      "application/vnd.jupyter.widget-view+json": {
       "model_id": "478ec6b2c4af412e94a585ad7b5f28c6",
       "version_major": 2,
       "version_minor": 0
      },
      "text/plain": [
       "Training:   0%|          | 0/330 [00:00<?, ?it/s]"
      ]
     },
     "metadata": {},
     "output_type": "display_data"
    },
    {
     "data": {
      "application/vnd.jupyter.widget-view+json": {
       "model_id": "adcd171b3a1b477486741189de999cc6",
       "version_major": 2,
       "version_minor": 0
      },
      "text/plain": [
       "Validation:   0%|          | 0/180 [00:00<?, ?it/s]"
      ]
     },
     "metadata": {},
     "output_type": "display_data"
    },
    {
     "name": "stdout",
     "output_type": "stream",
     "text": [
      "val_losses 0.8833894240359466\n",
      "EarlyStopping counter: 9 out of 50\n"
     ]
    },
    {
     "data": {
      "application/vnd.jupyter.widget-view+json": {
       "model_id": "9bf5106eb49e449db5913f5999a3af7e",
       "version_major": 2,
       "version_minor": 0
      },
      "text/plain": [
       "Training:   0%|          | 0/330 [00:00<?, ?it/s]"
      ]
     },
     "metadata": {},
     "output_type": "display_data"
    },
    {
     "data": {
      "application/vnd.jupyter.widget-view+json": {
       "model_id": "c2b6faf252cf466e9eacb3705a965815",
       "version_major": 2,
       "version_minor": 0
      },
      "text/plain": [
       "Validation:   0%|          | 0/180 [00:00<?, ?it/s]"
      ]
     },
     "metadata": {},
     "output_type": "display_data"
    },
    {
     "name": "stdout",
     "output_type": "stream",
     "text": [
      "val_losses 0.8840991367068556\n",
      "EarlyStopping counter: 10 out of 50\n"
     ]
    },
    {
     "data": {
      "application/vnd.jupyter.widget-view+json": {
       "model_id": "7e04a1d22df740e9808577fc52c5fd8c",
       "version_major": 2,
       "version_minor": 0
      },
      "text/plain": [
       "Training:   0%|          | 0/330 [00:00<?, ?it/s]"
      ]
     },
     "metadata": {},
     "output_type": "display_data"
    },
    {
     "data": {
      "application/vnd.jupyter.widget-view+json": {
       "model_id": "95affb30f9b84f289076a93dc260c6bf",
       "version_major": 2,
       "version_minor": 0
      },
      "text/plain": [
       "Validation:   0%|          | 0/180 [00:00<?, ?it/s]"
      ]
     },
     "metadata": {},
     "output_type": "display_data"
    },
    {
     "name": "stdout",
     "output_type": "stream",
     "text": [
      "val_losses 0.8907014363755782\n",
      "EarlyStopping counter: 11 out of 50\n"
     ]
    },
    {
     "data": {
      "application/vnd.jupyter.widget-view+json": {
       "model_id": "a32dc2a88b3e4244806ff5fa55472178",
       "version_major": 2,
       "version_minor": 0
      },
      "text/plain": [
       "Training:   0%|          | 0/330 [00:00<?, ?it/s]"
      ]
     },
     "metadata": {},
     "output_type": "display_data"
    },
    {
     "data": {
      "application/vnd.jupyter.widget-view+json": {
       "model_id": "e42f59e21f2348dd8fbe750482e6274c",
       "version_major": 2,
       "version_minor": 0
      },
      "text/plain": [
       "Validation:   0%|          | 0/180 [00:00<?, ?it/s]"
      ]
     },
     "metadata": {},
     "output_type": "display_data"
    },
    {
     "name": "stdout",
     "output_type": "stream",
     "text": [
      "val_losses 0.9440357459088167\n",
      "EarlyStopping counter: 12 out of 50\n"
     ]
    },
    {
     "data": {
      "application/vnd.jupyter.widget-view+json": {
       "model_id": "b558091da1b24fe18e80c1ee90405070",
       "version_major": 2,
       "version_minor": 0
      },
      "text/plain": [
       "Training:   0%|          | 0/330 [00:00<?, ?it/s]"
      ]
     },
     "metadata": {},
     "output_type": "display_data"
    },
    {
     "data": {
      "application/vnd.jupyter.widget-view+json": {
       "model_id": "ea89de29968c4231a49fa8c6d29a46c8",
       "version_major": 2,
       "version_minor": 0
      },
      "text/plain": [
       "Validation:   0%|          | 0/180 [00:00<?, ?it/s]"
      ]
     },
     "metadata": {},
     "output_type": "display_data"
    },
    {
     "name": "stdout",
     "output_type": "stream",
     "text": [
      "val_losses 0.9797715664737754\n",
      "EarlyStopping counter: 13 out of 50\n"
     ]
    },
    {
     "data": {
      "application/vnd.jupyter.widget-view+json": {
       "model_id": "4655e728a64940878be3ceb9c495cb96",
       "version_major": 2,
       "version_minor": 0
      },
      "text/plain": [
       "Training:   0%|          | 0/330 [00:00<?, ?it/s]"
      ]
     },
     "metadata": {},
     "output_type": "display_data"
    },
    {
     "data": {
      "application/vnd.jupyter.widget-view+json": {
       "model_id": "f79d9b9a1f9f4110a93710ce42b78f77",
       "version_major": 2,
       "version_minor": 0
      },
      "text/plain": [
       "Validation:   0%|          | 0/180 [00:00<?, ?it/s]"
      ]
     },
     "metadata": {},
     "output_type": "display_data"
    },
    {
     "name": "stdout",
     "output_type": "stream",
     "text": [
      "val_losses 1.0429354527344306\n",
      "EarlyStopping counter: 14 out of 50\n"
     ]
    },
    {
     "data": {
      "application/vnd.jupyter.widget-view+json": {
       "model_id": "18ccded85c1545039b0037beb0d76c93",
       "version_major": 2,
       "version_minor": 0
      },
      "text/plain": [
       "Training:   0%|          | 0/330 [00:00<?, ?it/s]"
      ]
     },
     "metadata": {},
     "output_type": "display_data"
    },
    {
     "data": {
      "application/vnd.jupyter.widget-view+json": {
       "model_id": "b9cf77a22f31416fbc269ee6a65e7a74",
       "version_major": 2,
       "version_minor": 0
      },
      "text/plain": [
       "Validation:   0%|          | 0/180 [00:00<?, ?it/s]"
      ]
     },
     "metadata": {},
     "output_type": "display_data"
    },
    {
     "name": "stdout",
     "output_type": "stream",
     "text": [
      "val_losses 0.9929054515643252\n",
      "EarlyStopping counter: 15 out of 50\n"
     ]
    },
    {
     "data": {
      "application/vnd.jupyter.widget-view+json": {
       "model_id": "87e6b4aaffff453b8bce1dd5f50c1a69",
       "version_major": 2,
       "version_minor": 0
      },
      "text/plain": [
       "Training:   0%|          | 0/330 [00:00<?, ?it/s]"
      ]
     },
     "metadata": {},
     "output_type": "display_data"
    },
    {
     "data": {
      "application/vnd.jupyter.widget-view+json": {
       "model_id": "2d828eefe2fe4d98bf87c081f00a99ce",
       "version_major": 2,
       "version_minor": 0
      },
      "text/plain": [
       "Validation:   0%|          | 0/180 [00:00<?, ?it/s]"
      ]
     },
     "metadata": {},
     "output_type": "display_data"
    },
    {
     "name": "stdout",
     "output_type": "stream",
     "text": [
      "val_losses 1.0579677772604756\n",
      "EarlyStopping counter: 16 out of 50\n"
     ]
    },
    {
     "data": {
      "application/vnd.jupyter.widget-view+json": {
       "model_id": "c7861a0c587d41aa8bf3a2a79691b3b3",
       "version_major": 2,
       "version_minor": 0
      },
      "text/plain": [
       "Training:   0%|          | 0/330 [00:00<?, ?it/s]"
      ]
     },
     "metadata": {},
     "output_type": "display_data"
    },
    {
     "data": {
      "application/vnd.jupyter.widget-view+json": {
       "model_id": "67a6147d703e40df8b0612b3d390867f",
       "version_major": 2,
       "version_minor": 0
      },
      "text/plain": [
       "Validation:   0%|          | 0/180 [00:00<?, ?it/s]"
      ]
     },
     "metadata": {},
     "output_type": "display_data"
    },
    {
     "name": "stdout",
     "output_type": "stream",
     "text": [
      "val_losses 1.0582628010461728\n",
      "EarlyStopping counter: 17 out of 50\n"
     ]
    },
    {
     "data": {
      "application/vnd.jupyter.widget-view+json": {
       "model_id": "06ab77f9edc24d53a424f92a31ae8e92",
       "version_major": 2,
       "version_minor": 0
      },
      "text/plain": [
       "Training:   0%|          | 0/330 [00:00<?, ?it/s]"
      ]
     },
     "metadata": {},
     "output_type": "display_data"
    },
    {
     "data": {
      "application/vnd.jupyter.widget-view+json": {
       "model_id": "e53ce4c7a5964061a8b7544b445503ed",
       "version_major": 2,
       "version_minor": 0
      },
      "text/plain": [
       "Validation:   0%|          | 0/180 [00:00<?, ?it/s]"
      ]
     },
     "metadata": {},
     "output_type": "display_data"
    },
    {
     "name": "stdout",
     "output_type": "stream",
     "text": [
      "val_losses 1.023951415013936\n",
      "EarlyStopping counter: 18 out of 50\n"
     ]
    },
    {
     "data": {
      "application/vnd.jupyter.widget-view+json": {
       "model_id": "b8b3dee0430f4676bef8083519273e91",
       "version_major": 2,
       "version_minor": 0
      },
      "text/plain": [
       "Training:   0%|          | 0/330 [00:00<?, ?it/s]"
      ]
     },
     "metadata": {},
     "output_type": "display_data"
    },
    {
     "data": {
      "application/vnd.jupyter.widget-view+json": {
       "model_id": "414318da2e9042d8b6d8ddbaf387c611",
       "version_major": 2,
       "version_minor": 0
      },
      "text/plain": [
       "Validation:   0%|          | 0/180 [00:00<?, ?it/s]"
      ]
     },
     "metadata": {},
     "output_type": "display_data"
    },
    {
     "name": "stdout",
     "output_type": "stream",
     "text": [
      "val_losses 1.0758685579316483\n",
      "EarlyStopping counter: 19 out of 50\n"
     ]
    },
    {
     "data": {
      "application/vnd.jupyter.widget-view+json": {
       "model_id": "f25c179feb8a41f3b6948f4e7342a630",
       "version_major": 2,
       "version_minor": 0
      },
      "text/plain": [
       "Training:   0%|          | 0/330 [00:00<?, ?it/s]"
      ]
     },
     "metadata": {},
     "output_type": "display_data"
    },
    {
     "data": {
      "application/vnd.jupyter.widget-view+json": {
       "model_id": "1b49685fd651414e8ff0e019c90e4126",
       "version_major": 2,
       "version_minor": 0
      },
      "text/plain": [
       "Validation:   0%|          | 0/180 [00:00<?, ?it/s]"
      ]
     },
     "metadata": {},
     "output_type": "display_data"
    },
    {
     "name": "stdout",
     "output_type": "stream",
     "text": [
      "val_losses 0.38111472241580485\n",
      "Validation loss decreased (0.568572 --> 0.381115).  Saving model ...\n"
     ]
    },
    {
     "data": {
      "application/vnd.jupyter.widget-view+json": {
       "model_id": "64d42fcbf1b34eab8afcb9b98a1b937f",
       "version_major": 2,
       "version_minor": 0
      },
      "text/plain": [
       "Training:   0%|          | 0/330 [00:00<?, ?it/s]"
      ]
     },
     "metadata": {},
     "output_type": "display_data"
    },
    {
     "data": {
      "application/vnd.jupyter.widget-view+json": {
       "model_id": "971cfc22099e439099967dc08901b986",
       "version_major": 2,
       "version_minor": 0
      },
      "text/plain": [
       "Validation:   0%|          | 0/180 [00:00<?, ?it/s]"
      ]
     },
     "metadata": {},
     "output_type": "display_data"
    },
    {
     "name": "stdout",
     "output_type": "stream",
     "text": [
      "val_losses 0.5456089267714156\n",
      "EarlyStopping counter: 1 out of 50\n"
     ]
    },
    {
     "data": {
      "application/vnd.jupyter.widget-view+json": {
       "model_id": "9116f8cfcd244ae48e932ec0211f89ba",
       "version_major": 2,
       "version_minor": 0
      },
      "text/plain": [
       "Training:   0%|          | 0/330 [00:00<?, ?it/s]"
      ]
     },
     "metadata": {},
     "output_type": "display_data"
    },
    {
     "data": {
      "application/vnd.jupyter.widget-view+json": {
       "model_id": "ed058a73fa614134bd32cc28c60663c9",
       "version_major": 2,
       "version_minor": 0
      },
      "text/plain": [
       "Validation:   0%|          | 0/180 [00:00<?, ?it/s]"
      ]
     },
     "metadata": {},
     "output_type": "display_data"
    },
    {
     "name": "stdout",
     "output_type": "stream",
     "text": [
      "val_losses 0.6077786994891035\n",
      "EarlyStopping counter: 2 out of 50\n"
     ]
    },
    {
     "data": {
      "application/vnd.jupyter.widget-view+json": {
       "model_id": "919efecc53ce4766ae29794aea57e985",
       "version_major": 2,
       "version_minor": 0
      },
      "text/plain": [
       "Training:   0%|          | 0/330 [00:00<?, ?it/s]"
      ]
     },
     "metadata": {},
     "output_type": "display_data"
    },
    {
     "data": {
      "application/vnd.jupyter.widget-view+json": {
       "model_id": "78040a2e80a14497bf945ccf19dc7f39",
       "version_major": 2,
       "version_minor": 0
      },
      "text/plain": [
       "Validation:   0%|          | 0/180 [00:00<?, ?it/s]"
      ]
     },
     "metadata": {},
     "output_type": "display_data"
    },
    {
     "name": "stdout",
     "output_type": "stream",
     "text": [
      "val_losses 0.6471868312607209\n",
      "EarlyStopping counter: 3 out of 50\n"
     ]
    },
    {
     "data": {
      "application/vnd.jupyter.widget-view+json": {
       "model_id": "399e9f967fe7441ebf99420e581cdaa6",
       "version_major": 2,
       "version_minor": 0
      },
      "text/plain": [
       "Training:   0%|          | 0/330 [00:00<?, ?it/s]"
      ]
     },
     "metadata": {},
     "output_type": "display_data"
    },
    {
     "data": {
      "application/vnd.jupyter.widget-view+json": {
       "model_id": "1c2edb4e39c24007b3b3922d9767a081",
       "version_major": 2,
       "version_minor": 0
      },
      "text/plain": [
       "Validation:   0%|          | 0/180 [00:00<?, ?it/s]"
      ]
     },
     "metadata": {},
     "output_type": "display_data"
    },
    {
     "name": "stdout",
     "output_type": "stream",
     "text": [
      "val_losses 0.6803588427189323\n",
      "EarlyStopping counter: 4 out of 50\n"
     ]
    },
    {
     "data": {
      "application/vnd.jupyter.widget-view+json": {
       "model_id": "81722055e66949499999e8152c36db7b",
       "version_major": 2,
       "version_minor": 0
      },
      "text/plain": [
       "Training:   0%|          | 0/330 [00:00<?, ?it/s]"
      ]
     },
     "metadata": {},
     "output_type": "display_data"
    },
    {
     "data": {
      "application/vnd.jupyter.widget-view+json": {
       "model_id": "45211724549744ac9cc7728f46be555c",
       "version_major": 2,
       "version_minor": 0
      },
      "text/plain": [
       "Validation:   0%|          | 0/180 [00:00<?, ?it/s]"
      ]
     },
     "metadata": {},
     "output_type": "display_data"
    },
    {
     "name": "stdout",
     "output_type": "stream",
     "text": [
      "val_losses 0.6783391138331758\n",
      "EarlyStopping counter: 5 out of 50\n"
     ]
    },
    {
     "data": {
      "application/vnd.jupyter.widget-view+json": {
       "model_id": "101581e49fc94c9a93f3755b7ae94685",
       "version_major": 2,
       "version_minor": 0
      },
      "text/plain": [
       "Training:   0%|          | 0/330 [00:00<?, ?it/s]"
      ]
     },
     "metadata": {},
     "output_type": "display_data"
    },
    {
     "data": {
      "application/vnd.jupyter.widget-view+json": {
       "model_id": "cc7b704724c84c1d96fc3f212ad2ad10",
       "version_major": 2,
       "version_minor": 0
      },
      "text/plain": [
       "Validation:   0%|          | 0/180 [00:00<?, ?it/s]"
      ]
     },
     "metadata": {},
     "output_type": "display_data"
    },
    {
     "name": "stdout",
     "output_type": "stream",
     "text": [
      "val_losses 0.6998781679819027\n",
      "EarlyStopping counter: 6 out of 50\n"
     ]
    },
    {
     "data": {
      "application/vnd.jupyter.widget-view+json": {
       "model_id": "364c69112a9b4019b0c3b355e733e807",
       "version_major": 2,
       "version_minor": 0
      },
      "text/plain": [
       "Training:   0%|          | 0/330 [00:00<?, ?it/s]"
      ]
     },
     "metadata": {},
     "output_type": "display_data"
    },
    {
     "data": {
      "application/vnd.jupyter.widget-view+json": {
       "model_id": "50f49ade1eaa42ae97f33e3d3bd4b0a5",
       "version_major": 2,
       "version_minor": 0
      },
      "text/plain": [
       "Validation:   0%|          | 0/180 [00:00<?, ?it/s]"
      ]
     },
     "metadata": {},
     "output_type": "display_data"
    },
    {
     "name": "stdout",
     "output_type": "stream",
     "text": [
      "val_losses 0.736282478686836\n",
      "EarlyStopping counter: 7 out of 50\n"
     ]
    },
    {
     "data": {
      "application/vnd.jupyter.widget-view+json": {
       "model_id": "5742de1a7134470fb25203e68692cff3",
       "version_major": 2,
       "version_minor": 0
      },
      "text/plain": [
       "Training:   0%|          | 0/330 [00:00<?, ?it/s]"
      ]
     },
     "metadata": {},
     "output_type": "display_data"
    },
    {
     "data": {
      "application/vnd.jupyter.widget-view+json": {
       "model_id": "f2ff28b6473646cb98b48074baf3d94f",
       "version_major": 2,
       "version_minor": 0
      },
      "text/plain": [
       "Validation:   0%|          | 0/180 [00:00<?, ?it/s]"
      ]
     },
     "metadata": {},
     "output_type": "display_data"
    },
    {
     "name": "stdout",
     "output_type": "stream",
     "text": [
      "val_losses 0.7617038636571831\n",
      "EarlyStopping counter: 8 out of 50\n"
     ]
    },
    {
     "data": {
      "application/vnd.jupyter.widget-view+json": {
       "model_id": "39051ea515ab480494e97f791ec48003",
       "version_major": 2,
       "version_minor": 0
      },
      "text/plain": [
       "Training:   0%|          | 0/330 [00:00<?, ?it/s]"
      ]
     },
     "metadata": {},
     "output_type": "display_data"
    },
    {
     "data": {
      "application/vnd.jupyter.widget-view+json": {
       "model_id": "ac6ddac57af84676993581e81f9e12e4",
       "version_major": 2,
       "version_minor": 0
      },
      "text/plain": [
       "Validation:   0%|          | 0/180 [00:00<?, ?it/s]"
      ]
     },
     "metadata": {},
     "output_type": "display_data"
    },
    {
     "name": "stdout",
     "output_type": "stream",
     "text": [
      "val_losses 0.7867227333287398\n",
      "EarlyStopping counter: 9 out of 50\n"
     ]
    },
    {
     "data": {
      "application/vnd.jupyter.widget-view+json": {
       "model_id": "1118ea3588514086a6f945a77d6fc6f3",
       "version_major": 2,
       "version_minor": 0
      },
      "text/plain": [
       "Training:   0%|          | 0/330 [00:00<?, ?it/s]"
      ]
     },
     "metadata": {},
     "output_type": "display_data"
    },
    {
     "data": {
      "application/vnd.jupyter.widget-view+json": {
       "model_id": "736e70870ba1420193b9806105dfdd2f",
       "version_major": 2,
       "version_minor": 0
      },
      "text/plain": [
       "Validation:   0%|          | 0/180 [00:00<?, ?it/s]"
      ]
     },
     "metadata": {},
     "output_type": "display_data"
    },
    {
     "name": "stdout",
     "output_type": "stream",
     "text": [
      "val_losses 0.8366454418334696\n",
      "EarlyStopping counter: 10 out of 50\n"
     ]
    },
    {
     "data": {
      "application/vnd.jupyter.widget-view+json": {
       "model_id": "3cfe428df3874116934e823f76375170",
       "version_major": 2,
       "version_minor": 0
      },
      "text/plain": [
       "Training:   0%|          | 0/330 [00:00<?, ?it/s]"
      ]
     },
     "metadata": {},
     "output_type": "display_data"
    },
    {
     "data": {
      "application/vnd.jupyter.widget-view+json": {
       "model_id": "b26aad6360154059bc8891f3fdb96e8d",
       "version_major": 2,
       "version_minor": 0
      },
      "text/plain": [
       "Validation:   0%|          | 0/180 [00:00<?, ?it/s]"
      ]
     },
     "metadata": {},
     "output_type": "display_data"
    },
    {
     "name": "stdout",
     "output_type": "stream",
     "text": [
      "val_losses 0.8372539933356974\n",
      "EarlyStopping counter: 11 out of 50\n"
     ]
    },
    {
     "data": {
      "application/vnd.jupyter.widget-view+json": {
       "model_id": "4e62b6ff65404a188b9e987dad2884cd",
       "version_major": 2,
       "version_minor": 0
      },
      "text/plain": [
       "Training:   0%|          | 0/330 [00:00<?, ?it/s]"
      ]
     },
     "metadata": {},
     "output_type": "display_data"
    },
    {
     "data": {
      "application/vnd.jupyter.widget-view+json": {
       "model_id": "08b76a9e55b64aa3bff1cff735d0c2c4",
       "version_major": 2,
       "version_minor": 0
      },
      "text/plain": [
       "Validation:   0%|          | 0/180 [00:00<?, ?it/s]"
      ]
     },
     "metadata": {},
     "output_type": "display_data"
    },
    {
     "name": "stdout",
     "output_type": "stream",
     "text": [
      "val_losses 0.8507048877576987\n",
      "EarlyStopping counter: 12 out of 50\n"
     ]
    },
    {
     "data": {
      "application/vnd.jupyter.widget-view+json": {
       "model_id": "db55c8ab368440018dd2ce39805c9595",
       "version_major": 2,
       "version_minor": 0
      },
      "text/plain": [
       "Training:   0%|          | 0/330 [00:00<?, ?it/s]"
      ]
     },
     "metadata": {},
     "output_type": "display_data"
    },
    {
     "data": {
      "application/vnd.jupyter.widget-view+json": {
       "model_id": "5b7eb62f6dba461e88221a17aab6b6fe",
       "version_major": 2,
       "version_minor": 0
      },
      "text/plain": [
       "Validation:   0%|          | 0/180 [00:00<?, ?it/s]"
      ]
     },
     "metadata": {},
     "output_type": "display_data"
    },
    {
     "name": "stdout",
     "output_type": "stream",
     "text": [
      "val_losses 0.8595134711099995\n",
      "EarlyStopping counter: 13 out of 50\n"
     ]
    },
    {
     "data": {
      "application/vnd.jupyter.widget-view+json": {
       "model_id": "bef8872d6ea24a3da977f9d68844e9f8",
       "version_major": 2,
       "version_minor": 0
      },
      "text/plain": [
       "Training:   0%|          | 0/330 [00:00<?, ?it/s]"
      ]
     },
     "metadata": {},
     "output_type": "display_data"
    },
    {
     "data": {
      "application/vnd.jupyter.widget-view+json": {
       "model_id": "fe7ec0ce52e846558a99a2a035a6faa6",
       "version_major": 2,
       "version_minor": 0
      },
      "text/plain": [
       "Validation:   0%|          | 0/180 [00:00<?, ?it/s]"
      ]
     },
     "metadata": {},
     "output_type": "display_data"
    },
    {
     "name": "stdout",
     "output_type": "stream",
     "text": [
      "val_losses 0.8128217437614997\n",
      "EarlyStopping counter: 14 out of 50\n"
     ]
    },
    {
     "data": {
      "application/vnd.jupyter.widget-view+json": {
       "model_id": "f26ceb59529a4dd7aa20143c605413ec",
       "version_major": 2,
       "version_minor": 0
      },
      "text/plain": [
       "Training:   0%|          | 0/330 [00:00<?, ?it/s]"
      ]
     },
     "metadata": {},
     "output_type": "display_data"
    },
    {
     "data": {
      "application/vnd.jupyter.widget-view+json": {
       "model_id": "9cfee90c738246a3a12d68f085b06af9",
       "version_major": 2,
       "version_minor": 0
      },
      "text/plain": [
       "Validation:   0%|          | 0/180 [00:00<?, ?it/s]"
      ]
     },
     "metadata": {},
     "output_type": "display_data"
    },
    {
     "name": "stdout",
     "output_type": "stream",
     "text": [
      "val_losses 0.7349131689303451\n",
      "EarlyStopping counter: 15 out of 50\n"
     ]
    },
    {
     "data": {
      "application/vnd.jupyter.widget-view+json": {
       "model_id": "77969235fd624ad9827a9425286ef28f",
       "version_major": 2,
       "version_minor": 0
      },
      "text/plain": [
       "Training:   0%|          | 0/330 [00:00<?, ?it/s]"
      ]
     },
     "metadata": {},
     "output_type": "display_data"
    },
    {
     "data": {
      "application/vnd.jupyter.widget-view+json": {
       "model_id": "5039023610684749bc04e193b1622eb8",
       "version_major": 2,
       "version_minor": 0
      },
      "text/plain": [
       "Validation:   0%|          | 0/180 [00:00<?, ?it/s]"
      ]
     },
     "metadata": {},
     "output_type": "display_data"
    },
    {
     "name": "stdout",
     "output_type": "stream",
     "text": [
      "val_losses 0.8487482791973485\n",
      "EarlyStopping counter: 16 out of 50\n"
     ]
    },
    {
     "data": {
      "application/vnd.jupyter.widget-view+json": {
       "model_id": "70bafc15f8c54987a327aa464afbbfb3",
       "version_major": 2,
       "version_minor": 0
      },
      "text/plain": [
       "Training:   0%|          | 0/330 [00:00<?, ?it/s]"
      ]
     },
     "metadata": {},
     "output_type": "display_data"
    },
    {
     "data": {
      "application/vnd.jupyter.widget-view+json": {
       "model_id": "b1a6252edb2e4b09a323500c9e3ceda7",
       "version_major": 2,
       "version_minor": 0
      },
      "text/plain": [
       "Validation:   0%|          | 0/180 [00:00<?, ?it/s]"
      ]
     },
     "metadata": {},
     "output_type": "display_data"
    },
    {
     "name": "stdout",
     "output_type": "stream",
     "text": [
      "val_losses 0.8897123398466242\n",
      "EarlyStopping counter: 17 out of 50\n"
     ]
    },
    {
     "data": {
      "application/vnd.jupyter.widget-view+json": {
       "model_id": "5588ee8d718546d5a04115dd71571677",
       "version_major": 2,
       "version_minor": 0
      },
      "text/plain": [
       "Training:   0%|          | 0/330 [00:00<?, ?it/s]"
      ]
     },
     "metadata": {},
     "output_type": "display_data"
    },
    {
     "data": {
      "application/vnd.jupyter.widget-view+json": {
       "model_id": "6a61161c544b4914a37c9fcbe75b6974",
       "version_major": 2,
       "version_minor": 0
      },
      "text/plain": [
       "Validation:   0%|          | 0/180 [00:00<?, ?it/s]"
      ]
     },
     "metadata": {},
     "output_type": "display_data"
    },
    {
     "name": "stdout",
     "output_type": "stream",
     "text": [
      "val_losses 0.8755732248226802\n",
      "EarlyStopping counter: 18 out of 50\n"
     ]
    },
    {
     "data": {
      "application/vnd.jupyter.widget-view+json": {
       "model_id": "c82c0ff01f294b9f8ebde2ac91cf6d84",
       "version_major": 2,
       "version_minor": 0
      },
      "text/plain": [
       "Training:   0%|          | 0/330 [00:00<?, ?it/s]"
      ]
     },
     "metadata": {},
     "output_type": "display_data"
    },
    {
     "data": {
      "application/vnd.jupyter.widget-view+json": {
       "model_id": "c068ecbdef8f41f6afbb73e144a48ac5",
       "version_major": 2,
       "version_minor": 0
      },
      "text/plain": [
       "Validation:   0%|          | 0/180 [00:00<?, ?it/s]"
      ]
     },
     "metadata": {},
     "output_type": "display_data"
    },
    {
     "name": "stdout",
     "output_type": "stream",
     "text": [
      "val_losses 0.935707448505693\n",
      "EarlyStopping counter: 19 out of 50\n"
     ]
    },
    {
     "data": {
      "application/vnd.jupyter.widget-view+json": {
       "model_id": "fab5f43034fa465aa7379fbddb55bd5c",
       "version_major": 2,
       "version_minor": 0
      },
      "text/plain": [
       "Training:   0%|          | 0/330 [00:00<?, ?it/s]"
      ]
     },
     "metadata": {},
     "output_type": "display_data"
    },
    {
     "data": {
      "application/vnd.jupyter.widget-view+json": {
       "model_id": "ac008019bac0483d8ed6f3cded4c3f3d",
       "version_major": 2,
       "version_minor": 0
      },
      "text/plain": [
       "Validation:   0%|          | 0/180 [00:00<?, ?it/s]"
      ]
     },
     "metadata": {},
     "output_type": "display_data"
    },
    {
     "name": "stdout",
     "output_type": "stream",
     "text": [
      "val_losses 0.9170695380204253\n",
      "EarlyStopping counter: 20 out of 50\n"
     ]
    },
    {
     "data": {
      "application/vnd.jupyter.widget-view+json": {
       "model_id": "5b9d361177604ca0b6951e89ff9babda",
       "version_major": 2,
       "version_minor": 0
      },
      "text/plain": [
       "Training:   0%|          | 0/330 [00:00<?, ?it/s]"
      ]
     },
     "metadata": {},
     "output_type": "display_data"
    },
    {
     "data": {
      "application/vnd.jupyter.widget-view+json": {
       "model_id": "2080eaaa05914179b1f3043ce61296e7",
       "version_major": 2,
       "version_minor": 0
      },
      "text/plain": [
       "Validation:   0%|          | 0/180 [00:00<?, ?it/s]"
      ]
     },
     "metadata": {},
     "output_type": "display_data"
    },
    {
     "name": "stdout",
     "output_type": "stream",
     "text": [
      "val_losses 0.918691458263331\n",
      "EarlyStopping counter: 21 out of 50\n"
     ]
    },
    {
     "data": {
      "application/vnd.jupyter.widget-view+json": {
       "model_id": "9d5f077de3ee4acaa2c12f3b8557c910",
       "version_major": 2,
       "version_minor": 0
      },
      "text/plain": [
       "Training:   0%|          | 0/330 [00:00<?, ?it/s]"
      ]
     },
     "metadata": {},
     "output_type": "display_data"
    },
    {
     "data": {
      "application/vnd.jupyter.widget-view+json": {
       "model_id": "196c4777bb894083a7024530344ad169",
       "version_major": 2,
       "version_minor": 0
      },
      "text/plain": [
       "Validation:   0%|          | 0/180 [00:00<?, ?it/s]"
      ]
     },
     "metadata": {},
     "output_type": "display_data"
    },
    {
     "name": "stdout",
     "output_type": "stream",
     "text": [
      "val_losses 0.4985383166828089\n",
      "EarlyStopping counter: 22 out of 50\n"
     ]
    },
    {
     "data": {
      "application/vnd.jupyter.widget-view+json": {
       "model_id": "8e50a97bd9794a4a8fd9427519dc4fe9",
       "version_major": 2,
       "version_minor": 0
      },
      "text/plain": [
       "Training:   0%|          | 0/330 [00:00<?, ?it/s]"
      ]
     },
     "metadata": {},
     "output_type": "display_data"
    },
    {
     "data": {
      "application/vnd.jupyter.widget-view+json": {
       "model_id": "937d65c69853410cba45ef22ba4ce4de",
       "version_major": 2,
       "version_minor": 0
      },
      "text/plain": [
       "Validation:   0%|          | 0/180 [00:00<?, ?it/s]"
      ]
     },
     "metadata": {},
     "output_type": "display_data"
    },
    {
     "name": "stdout",
     "output_type": "stream",
     "text": [
      "val_losses 0.5937530568076504\n",
      "EarlyStopping counter: 23 out of 50\n"
     ]
    },
    {
     "data": {
      "application/vnd.jupyter.widget-view+json": {
       "model_id": "22aa71db36c94b80a0ff169113747783",
       "version_major": 2,
       "version_minor": 0
      },
      "text/plain": [
       "Training:   0%|          | 0/330 [00:00<?, ?it/s]"
      ]
     },
     "metadata": {},
     "output_type": "display_data"
    },
    {
     "data": {
      "application/vnd.jupyter.widget-view+json": {
       "model_id": "e79b68cb34414a6f824d4025f9d73c64",
       "version_major": 2,
       "version_minor": 0
      },
      "text/plain": [
       "Validation:   0%|          | 0/180 [00:00<?, ?it/s]"
      ]
     },
     "metadata": {},
     "output_type": "display_data"
    },
    {
     "name": "stdout",
     "output_type": "stream",
     "text": [
      "val_losses 0.6607634696281619\n",
      "EarlyStopping counter: 24 out of 50\n"
     ]
    },
    {
     "data": {
      "application/vnd.jupyter.widget-view+json": {
       "model_id": "996497dcaa2343faa58d2155f11da82f",
       "version_major": 2,
       "version_minor": 0
      },
      "text/plain": [
       "Training:   0%|          | 0/330 [00:00<?, ?it/s]"
      ]
     },
     "metadata": {},
     "output_type": "display_data"
    },
    {
     "data": {
      "application/vnd.jupyter.widget-view+json": {
       "model_id": "0f58aba2863341e694cd973b324c22e4",
       "version_major": 2,
       "version_minor": 0
      },
      "text/plain": [
       "Validation:   0%|          | 0/180 [00:00<?, ?it/s]"
      ]
     },
     "metadata": {},
     "output_type": "display_data"
    },
    {
     "name": "stdout",
     "output_type": "stream",
     "text": [
      "val_losses 0.6992487762537267\n",
      "EarlyStopping counter: 25 out of 50\n"
     ]
    },
    {
     "data": {
      "application/vnd.jupyter.widget-view+json": {
       "model_id": "d582bec76a4543b782ffd434fd91eecc",
       "version_major": 2,
       "version_minor": 0
      },
      "text/plain": [
       "Training:   0%|          | 0/330 [00:00<?, ?it/s]"
      ]
     },
     "metadata": {},
     "output_type": "display_data"
    },
    {
     "data": {
      "application/vnd.jupyter.widget-view+json": {
       "model_id": "ab3c1283341d4d5eaaced46ee32e97e4",
       "version_major": 2,
       "version_minor": 0
      },
      "text/plain": [
       "Validation:   0%|          | 0/180 [00:00<?, ?it/s]"
      ]
     },
     "metadata": {},
     "output_type": "display_data"
    },
    {
     "name": "stdout",
     "output_type": "stream",
     "text": [
      "val_losses 0.7238434041125907\n",
      "EarlyStopping counter: 26 out of 50\n"
     ]
    },
    {
     "data": {
      "application/vnd.jupyter.widget-view+json": {
       "model_id": "e74fd1763f5743e88fd0bc5c3bc763b3",
       "version_major": 2,
       "version_minor": 0
      },
      "text/plain": [
       "Training:   0%|          | 0/330 [00:00<?, ?it/s]"
      ]
     },
     "metadata": {},
     "output_type": "display_data"
    },
    {
     "data": {
      "application/vnd.jupyter.widget-view+json": {
       "model_id": "62acc31e93cf4767a707ca0fc658da97",
       "version_major": 2,
       "version_minor": 0
      },
      "text/plain": [
       "Validation:   0%|          | 0/180 [00:00<?, ?it/s]"
      ]
     },
     "metadata": {},
     "output_type": "display_data"
    },
    {
     "name": "stdout",
     "output_type": "stream",
     "text": [
      "val_losses 0.7616253306468328\n",
      "EarlyStopping counter: 27 out of 50\n"
     ]
    },
    {
     "data": {
      "application/vnd.jupyter.widget-view+json": {
       "model_id": "5e9cf46750514273a0d6848b51f0c261",
       "version_major": 2,
       "version_minor": 0
      },
      "text/plain": [
       "Training:   0%|          | 0/330 [00:00<?, ?it/s]"
      ]
     },
     "metadata": {},
     "output_type": "display_data"
    },
    {
     "data": {
      "application/vnd.jupyter.widget-view+json": {
       "model_id": "e0a8e0f0c9f24d9094ff02b7f73c9eaa",
       "version_major": 2,
       "version_minor": 0
      },
      "text/plain": [
       "Validation:   0%|          | 0/180 [00:00<?, ?it/s]"
      ]
     },
     "metadata": {},
     "output_type": "display_data"
    },
    {
     "name": "stdout",
     "output_type": "stream",
     "text": [
      "val_losses 0.7765532518840499\n",
      "EarlyStopping counter: 28 out of 50\n"
     ]
    },
    {
     "data": {
      "application/vnd.jupyter.widget-view+json": {
       "model_id": "5cc3a3b978b94750a8b18b7b2c7a25ac",
       "version_major": 2,
       "version_minor": 0
      },
      "text/plain": [
       "Training:   0%|          | 0/330 [00:00<?, ?it/s]"
      ]
     },
     "metadata": {},
     "output_type": "display_data"
    },
    {
     "data": {
      "application/vnd.jupyter.widget-view+json": {
       "model_id": "aeeaf05aa9b04963b272f44c88dbbf4c",
       "version_major": 2,
       "version_minor": 0
      },
      "text/plain": [
       "Validation:   0%|          | 0/180 [00:00<?, ?it/s]"
      ]
     },
     "metadata": {},
     "output_type": "display_data"
    },
    {
     "name": "stdout",
     "output_type": "stream",
     "text": [
      "val_losses 0.7940708222488563\n",
      "EarlyStopping counter: 29 out of 50\n"
     ]
    },
    {
     "data": {
      "application/vnd.jupyter.widget-view+json": {
       "model_id": "cea0b6f2babf4e789ecf96996049d9b5",
       "version_major": 2,
       "version_minor": 0
      },
      "text/plain": [
       "Training:   0%|          | 0/330 [00:00<?, ?it/s]"
      ]
     },
     "metadata": {},
     "output_type": "display_data"
    },
    {
     "data": {
      "application/vnd.jupyter.widget-view+json": {
       "model_id": "4e9c73ef96f14c658d75e3e880467f13",
       "version_major": 2,
       "version_minor": 0
      },
      "text/plain": [
       "Validation:   0%|          | 0/180 [00:00<?, ?it/s]"
      ]
     },
     "metadata": {},
     "output_type": "display_data"
    },
    {
     "name": "stdout",
     "output_type": "stream",
     "text": [
      "val_losses 0.8213963531785541\n",
      "EarlyStopping counter: 30 out of 50\n"
     ]
    },
    {
     "data": {
      "application/vnd.jupyter.widget-view+json": {
       "model_id": "73f977fad94a42e9891c28b9c307b677",
       "version_major": 2,
       "version_minor": 0
      },
      "text/plain": [
       "Training:   0%|          | 0/330 [00:00<?, ?it/s]"
      ]
     },
     "metadata": {},
     "output_type": "display_data"
    },
    {
     "data": {
      "application/vnd.jupyter.widget-view+json": {
       "model_id": "4931288b34f24b658e912640a48833f7",
       "version_major": 2,
       "version_minor": 0
      },
      "text/plain": [
       "Validation:   0%|          | 0/180 [00:00<?, ?it/s]"
      ]
     },
     "metadata": {},
     "output_type": "display_data"
    },
    {
     "name": "stdout",
     "output_type": "stream",
     "text": [
      "val_losses 0.8508929061806865\n",
      "EarlyStopping counter: 31 out of 50\n"
     ]
    },
    {
     "data": {
      "application/vnd.jupyter.widget-view+json": {
       "model_id": "79106aaf9cd944bda361d1ca25a77eb3",
       "version_major": 2,
       "version_minor": 0
      },
      "text/plain": [
       "Training:   0%|          | 0/330 [00:00<?, ?it/s]"
      ]
     },
     "metadata": {},
     "output_type": "display_data"
    },
    {
     "data": {
      "application/vnd.jupyter.widget-view+json": {
       "model_id": "94c6d67842304b8ca6397aa3d375f5b5",
       "version_major": 2,
       "version_minor": 0
      },
      "text/plain": [
       "Validation:   0%|          | 0/180 [00:00<?, ?it/s]"
      ]
     },
     "metadata": {},
     "output_type": "display_data"
    },
    {
     "name": "stdout",
     "output_type": "stream",
     "text": [
      "val_losses 0.8361870747887425\n",
      "EarlyStopping counter: 32 out of 50\n"
     ]
    },
    {
     "data": {
      "application/vnd.jupyter.widget-view+json": {
       "model_id": "b0fc48acefc4438b938ab7225a192517",
       "version_major": 2,
       "version_minor": 0
      },
      "text/plain": [
       "Training:   0%|          | 0/330 [00:00<?, ?it/s]"
      ]
     },
     "metadata": {},
     "output_type": "display_data"
    },
    {
     "data": {
      "application/vnd.jupyter.widget-view+json": {
       "model_id": "e6da69a6e77c4fbf92ed5b9110e0dd3f",
       "version_major": 2,
       "version_minor": 0
      },
      "text/plain": [
       "Validation:   0%|          | 0/180 [00:00<?, ?it/s]"
      ]
     },
     "metadata": {},
     "output_type": "display_data"
    },
    {
     "name": "stdout",
     "output_type": "stream",
     "text": [
      "val_losses 0.8487952622274558\n",
      "EarlyStopping counter: 33 out of 50\n"
     ]
    },
    {
     "data": {
      "application/vnd.jupyter.widget-view+json": {
       "model_id": "159eabeb9bd74200b53e1ad75bf5f214",
       "version_major": 2,
       "version_minor": 0
      },
      "text/plain": [
       "Training:   0%|          | 0/330 [00:00<?, ?it/s]"
      ]
     },
     "metadata": {},
     "output_type": "display_data"
    },
    {
     "data": {
      "application/vnd.jupyter.widget-view+json": {
       "model_id": "e78d0200412f4bb38020c871ad61b1b4",
       "version_major": 2,
       "version_minor": 0
      },
      "text/plain": [
       "Validation:   0%|          | 0/180 [00:00<?, ?it/s]"
      ]
     },
     "metadata": {},
     "output_type": "display_data"
    },
    {
     "name": "stdout",
     "output_type": "stream",
     "text": [
      "val_losses 0.8732870032389959\n",
      "EarlyStopping counter: 34 out of 50\n"
     ]
    },
    {
     "data": {
      "application/vnd.jupyter.widget-view+json": {
       "model_id": "654b355978604975a82a25164c4cc8c3",
       "version_major": 2,
       "version_minor": 0
      },
      "text/plain": [
       "Training:   0%|          | 0/330 [00:00<?, ?it/s]"
      ]
     },
     "metadata": {},
     "output_type": "display_data"
    },
    {
     "data": {
      "application/vnd.jupyter.widget-view+json": {
       "model_id": "fa54bc42861b4c209cae2dc6371dc9d9",
       "version_major": 2,
       "version_minor": 0
      },
      "text/plain": [
       "Validation:   0%|          | 0/180 [00:00<?, ?it/s]"
      ]
     },
     "metadata": {},
     "output_type": "display_data"
    },
    {
     "name": "stdout",
     "output_type": "stream",
     "text": [
      "val_losses 0.8609199152224594\n",
      "EarlyStopping counter: 35 out of 50\n"
     ]
    },
    {
     "data": {
      "application/vnd.jupyter.widget-view+json": {
       "model_id": "61212146a23d41ff800c2219aa0de773",
       "version_major": 2,
       "version_minor": 0
      },
      "text/plain": [
       "Training:   0%|          | 0/330 [00:00<?, ?it/s]"
      ]
     },
     "metadata": {},
     "output_type": "display_data"
    },
    {
     "data": {
      "application/vnd.jupyter.widget-view+json": {
       "model_id": "eec8f650235e454281fa26dfe3776665",
       "version_major": 2,
       "version_minor": 0
      },
      "text/plain": [
       "Validation:   0%|          | 0/180 [00:00<?, ?it/s]"
      ]
     },
     "metadata": {},
     "output_type": "display_data"
    },
    {
     "name": "stdout",
     "output_type": "stream",
     "text": [
      "val_losses 0.8953962568607595\n",
      "EarlyStopping counter: 36 out of 50\n"
     ]
    },
    {
     "data": {
      "application/vnd.jupyter.widget-view+json": {
       "model_id": "504cca98b4d04296b6ab0463cc64f49f",
       "version_major": 2,
       "version_minor": 0
      },
      "text/plain": [
       "Training:   0%|          | 0/330 [00:00<?, ?it/s]"
      ]
     },
     "metadata": {},
     "output_type": "display_data"
    },
    {
     "data": {
      "application/vnd.jupyter.widget-view+json": {
       "model_id": "d260599a70c843a48529b81f56ed82fe",
       "version_major": 2,
       "version_minor": 0
      },
      "text/plain": [
       "Validation:   0%|          | 0/180 [00:00<?, ?it/s]"
      ]
     },
     "metadata": {},
     "output_type": "display_data"
    },
    {
     "name": "stdout",
     "output_type": "stream",
     "text": [
      "val_losses 0.8508899350133207\n",
      "EarlyStopping counter: 37 out of 50\n"
     ]
    },
    {
     "data": {
      "application/vnd.jupyter.widget-view+json": {
       "model_id": "5c087338179f4d8d815c63e7991ace87",
       "version_major": 2,
       "version_minor": 0
      },
      "text/plain": [
       "Training:   0%|          | 0/330 [00:00<?, ?it/s]"
      ]
     },
     "metadata": {},
     "output_type": "display_data"
    },
    {
     "data": {
      "application/vnd.jupyter.widget-view+json": {
       "model_id": "4904bbcf0ce84082b572b182bbe35830",
       "version_major": 2,
       "version_minor": 0
      },
      "text/plain": [
       "Validation:   0%|          | 0/180 [00:00<?, ?it/s]"
      ]
     },
     "metadata": {},
     "output_type": "display_data"
    },
    {
     "name": "stdout",
     "output_type": "stream",
     "text": [
      "val_losses 0.9017376368244489\n",
      "EarlyStopping counter: 38 out of 50\n"
     ]
    },
    {
     "data": {
      "application/vnd.jupyter.widget-view+json": {
       "model_id": "9d9251c373f74978a3adcb0359d2228c",
       "version_major": 2,
       "version_minor": 0
      },
      "text/plain": [
       "Training:   0%|          | 0/330 [00:00<?, ?it/s]"
      ]
     },
     "metadata": {},
     "output_type": "display_data"
    },
    {
     "data": {
      "application/vnd.jupyter.widget-view+json": {
       "model_id": "a5fbfe7910314d35b255ce23e5272120",
       "version_major": 2,
       "version_minor": 0
      },
      "text/plain": [
       "Validation:   0%|          | 0/180 [00:00<?, ?it/s]"
      ]
     },
     "metadata": {},
     "output_type": "display_data"
    },
    {
     "name": "stdout",
     "output_type": "stream",
     "text": [
      "val_losses 0.9206190423005157\n",
      "EarlyStopping counter: 39 out of 50\n"
     ]
    },
    {
     "data": {
      "application/vnd.jupyter.widget-view+json": {
       "model_id": "36574601243b4dfe95707d422005cd58",
       "version_major": 2,
       "version_minor": 0
      },
      "text/plain": [
       "Training:   0%|          | 0/330 [00:00<?, ?it/s]"
      ]
     },
     "metadata": {},
     "output_type": "display_data"
    },
    {
     "data": {
      "application/vnd.jupyter.widget-view+json": {
       "model_id": "cffa2e4bfa19488ebde969a94a85301b",
       "version_major": 2,
       "version_minor": 0
      },
      "text/plain": [
       "Validation:   0%|          | 0/180 [00:00<?, ?it/s]"
      ]
     },
     "metadata": {},
     "output_type": "display_data"
    },
    {
     "name": "stdout",
     "output_type": "stream",
     "text": [
      "val_losses 0.8950822393099467\n",
      "EarlyStopping counter: 40 out of 50\n"
     ]
    },
    {
     "data": {
      "application/vnd.jupyter.widget-view+json": {
       "model_id": "e64c2e429fc74e3eb9802901fafda36b",
       "version_major": 2,
       "version_minor": 0
      },
      "text/plain": [
       "Training:   0%|          | 0/330 [00:00<?, ?it/s]"
      ]
     },
     "metadata": {},
     "output_type": "display_data"
    },
    {
     "data": {
      "application/vnd.jupyter.widget-view+json": {
       "model_id": "59d7b933becc4d2b8b447940c4ec7d6c",
       "version_major": 2,
       "version_minor": 0
      },
      "text/plain": [
       "Validation:   0%|          | 0/180 [00:00<?, ?it/s]"
      ]
     },
     "metadata": {},
     "output_type": "display_data"
    },
    {
     "name": "stdout",
     "output_type": "stream",
     "text": [
      "val_losses 0.9006600972265005\n",
      "EarlyStopping counter: 41 out of 50\n"
     ]
    },
    {
     "data": {
      "application/vnd.jupyter.widget-view+json": {
       "model_id": "9619f9977a1142a5a4548aa227ad67d5",
       "version_major": 2,
       "version_minor": 0
      },
      "text/plain": [
       "Training:   0%|          | 0/330 [00:00<?, ?it/s]"
      ]
     },
     "metadata": {},
     "output_type": "display_data"
    },
    {
     "data": {
      "application/vnd.jupyter.widget-view+json": {
       "model_id": "9133971e93994243b59d332a67523d6f",
       "version_major": 2,
       "version_minor": 0
      },
      "text/plain": [
       "Validation:   0%|          | 0/180 [00:00<?, ?it/s]"
      ]
     },
     "metadata": {},
     "output_type": "display_data"
    },
    {
     "name": "stdout",
     "output_type": "stream",
     "text": [
      "val_losses 0.909968015882704\n",
      "EarlyStopping counter: 42 out of 50\n"
     ]
    },
    {
     "data": {
      "application/vnd.jupyter.widget-view+json": {
       "model_id": "63ad0a5d26ca49a3a12bf7f5062f9968",
       "version_major": 2,
       "version_minor": 0
      },
      "text/plain": [
       "Training:   0%|          | 0/330 [00:00<?, ?it/s]"
      ]
     },
     "metadata": {},
     "output_type": "display_data"
    },
    {
     "data": {
      "application/vnd.jupyter.widget-view+json": {
       "model_id": "0a597aa1d9a0474e8aa54c6905c08ed5",
       "version_major": 2,
       "version_minor": 0
      },
      "text/plain": [
       "Validation:   0%|          | 0/180 [00:00<?, ?it/s]"
      ]
     },
     "metadata": {},
     "output_type": "display_data"
    },
    {
     "name": "stdout",
     "output_type": "stream",
     "text": [
      "val_losses 0.948792384730445\n",
      "EarlyStopping counter: 43 out of 50\n"
     ]
    },
    {
     "data": {
      "application/vnd.jupyter.widget-view+json": {
       "model_id": "180c588929844049b24a279c4222d993",
       "version_major": 2,
       "version_minor": 0
      },
      "text/plain": [
       "Training:   0%|          | 0/330 [00:00<?, ?it/s]"
      ]
     },
     "metadata": {},
     "output_type": "display_data"
    },
    {
     "data": {
      "application/vnd.jupyter.widget-view+json": {
       "model_id": "b6914979afbf40459b09e36d37f70372",
       "version_major": 2,
       "version_minor": 0
      },
      "text/plain": [
       "Validation:   0%|          | 0/180 [00:00<?, ?it/s]"
      ]
     },
     "metadata": {},
     "output_type": "display_data"
    },
    {
     "name": "stdout",
     "output_type": "stream",
     "text": [
      "val_losses 0.959046875519885\n",
      "EarlyStopping counter: 44 out of 50\n"
     ]
    },
    {
     "data": {
      "application/vnd.jupyter.widget-view+json": {
       "model_id": "9f1c875a0a334d47806e70f66f297fe2",
       "version_major": 2,
       "version_minor": 0
      },
      "text/plain": [
       "Training:   0%|          | 0/330 [00:00<?, ?it/s]"
      ]
     },
     "metadata": {},
     "output_type": "display_data"
    },
    {
     "data": {
      "application/vnd.jupyter.widget-view+json": {
       "model_id": "a1ddbe39683240be88ca154b932c5ae9",
       "version_major": 2,
       "version_minor": 0
      },
      "text/plain": [
       "Validation:   0%|          | 0/180 [00:00<?, ?it/s]"
      ]
     },
     "metadata": {},
     "output_type": "display_data"
    },
    {
     "name": "stdout",
     "output_type": "stream",
     "text": [
      "val_losses 0.9339998119821151\n",
      "EarlyStopping counter: 45 out of 50\n"
     ]
    },
    {
     "data": {
      "application/vnd.jupyter.widget-view+json": {
       "model_id": "334ef24a5d99414abfaac829b3f33869",
       "version_major": 2,
       "version_minor": 0
      },
      "text/plain": [
       "Training:   0%|          | 0/330 [00:00<?, ?it/s]"
      ]
     },
     "metadata": {},
     "output_type": "display_data"
    },
    {
     "data": {
      "application/vnd.jupyter.widget-view+json": {
       "model_id": "c789beb15ac94031a76dd41b0d21700c",
       "version_major": 2,
       "version_minor": 0
      },
      "text/plain": [
       "Validation:   0%|          | 0/180 [00:00<?, ?it/s]"
      ]
     },
     "metadata": {},
     "output_type": "display_data"
    },
    {
     "name": "stdout",
     "output_type": "stream",
     "text": [
      "val_losses 0.9111655110286342\n",
      "EarlyStopping counter: 46 out of 50\n"
     ]
    },
    {
     "data": {
      "application/vnd.jupyter.widget-view+json": {
       "model_id": "ae772a41ca5949adafc9cd152b4ac4af",
       "version_major": 2,
       "version_minor": 0
      },
      "text/plain": [
       "Training:   0%|          | 0/330 [00:00<?, ?it/s]"
      ]
     },
     "metadata": {},
     "output_type": "display_data"
    },
    {
     "data": {
      "application/vnd.jupyter.widget-view+json": {
       "model_id": "dd1b00e5ac6a41fba0a13db819147d4e",
       "version_major": 2,
       "version_minor": 0
      },
      "text/plain": [
       "Validation:   0%|          | 0/180 [00:00<?, ?it/s]"
      ]
     },
     "metadata": {},
     "output_type": "display_data"
    },
    {
     "name": "stdout",
     "output_type": "stream",
     "text": [
      "val_losses 0.9459951608545251\n",
      "EarlyStopping counter: 47 out of 50\n"
     ]
    },
    {
     "data": {
      "application/vnd.jupyter.widget-view+json": {
       "model_id": "4322d4579ce04cc6a02baddd91f7e7f9",
       "version_major": 2,
       "version_minor": 0
      },
      "text/plain": [
       "Training:   0%|          | 0/330 [00:00<?, ?it/s]"
      ]
     },
     "metadata": {},
     "output_type": "display_data"
    },
    {
     "data": {
      "application/vnd.jupyter.widget-view+json": {
       "model_id": "dd2dc7e475e44cb7a33a00b4cb6c5f9c",
       "version_major": 2,
       "version_minor": 0
      },
      "text/plain": [
       "Validation:   0%|          | 0/180 [00:00<?, ?it/s]"
      ]
     },
     "metadata": {},
     "output_type": "display_data"
    },
    {
     "name": "stdout",
     "output_type": "stream",
     "text": [
      "val_losses 0.9718389553328355\n",
      "EarlyStopping counter: 48 out of 50\n"
     ]
    },
    {
     "data": {
      "application/vnd.jupyter.widget-view+json": {
       "model_id": "7cde6f8e5551438ea2a58883cdbd8f12",
       "version_major": 2,
       "version_minor": 0
      },
      "text/plain": [
       "Training:   0%|          | 0/330 [00:00<?, ?it/s]"
      ]
     },
     "metadata": {},
     "output_type": "display_data"
    },
    {
     "data": {
      "application/vnd.jupyter.widget-view+json": {
       "model_id": "1ceb3833758140329af44d8ec40bde62",
       "version_major": 2,
       "version_minor": 0
      },
      "text/plain": [
       "Validation:   0%|          | 0/180 [00:00<?, ?it/s]"
      ]
     },
     "metadata": {},
     "output_type": "display_data"
    },
    {
     "name": "stdout",
     "output_type": "stream",
     "text": [
      "val_losses 0.9901818147963948\n",
      "EarlyStopping counter: 49 out of 50\n"
     ]
    },
    {
     "data": {
      "application/vnd.jupyter.widget-view+json": {
       "model_id": "fb9bc5eae8e04c8b92be227ef3187828",
       "version_major": 2,
       "version_minor": 0
      },
      "text/plain": [
       "Training:   0%|          | 0/330 [00:00<?, ?it/s]"
      ]
     },
     "metadata": {},
     "output_type": "display_data"
    },
    {
     "data": {
      "application/vnd.jupyter.widget-view+json": {
       "model_id": "9459f8fb12b64141a9e22f7177bd77ac",
       "version_major": 2,
       "version_minor": 0
      },
      "text/plain": [
       "Validation:   0%|          | 0/180 [00:00<?, ?it/s]"
      ]
     },
     "metadata": {},
     "output_type": "display_data"
    },
    {
     "name": "stdout",
     "output_type": "stream",
     "text": [
      "val_losses 1.0238251369032594\n",
      "EarlyStopping counter: 50 out of 50\n",
      "early stopping epoch: 91\n",
      "***************************\n",
      "modelname:model_fold_2.ptを保存しました\n",
      "*************************************Test*************************************\n",
      "in constructor inchannel: 45\n",
      "Input channel count3\n",
      "model_dir =  model/20250205-DenseCRFIntegrationExperiment2\n",
      "Creating image arrays...\n",
      "Number of label images: 11\n",
      "Completed creating image arrays:\n",
      "Dataset shape  (11, 256, 256, 45)\n",
      "Label image shape  (11, 256, 256)\n",
      "\n",
      "index =  0\n",
      "予測画像: /home/eric/Documents/cervicalResearchIIP/result_test/20250205-DenseCRFIntegrationExperiment2/fold2/N1-3.png\n",
      "テストラベル: /home/eric/Documents/cervicalResearchIIP/img_1006t/labeled/N1-3.png\n",
      "index =  1\n",
      "予測画像: /home/eric/Documents/cervicalResearchIIP/result_test/20250205-DenseCRFIntegrationExperiment2/fold2/N1-8.png\n",
      "テストラベル: /home/eric/Documents/cervicalResearchIIP/img_1006t/labeled/N1-8.png\n",
      "index =  2\n",
      "予測画像: /home/eric/Documents/cervicalResearchIIP/result_test/20250205-DenseCRFIntegrationExperiment2/fold2/N1-9.png\n",
      "テストラベル: /home/eric/Documents/cervicalResearchIIP/img_1006t/labeled/N1-9.png\n",
      "index =  3\n",
      "予測画像: /home/eric/Documents/cervicalResearchIIP/result_test/20250205-DenseCRFIntegrationExperiment2/fold2/N2-5.png\n",
      "テストラベル: /home/eric/Documents/cervicalResearchIIP/img_1006t/labeled/N2-5.png\n",
      "index =  4\n",
      "予測画像: /home/eric/Documents/cervicalResearchIIP/result_test/20250205-DenseCRFIntegrationExperiment2/fold2/N2-10.png\n",
      "テストラベル: /home/eric/Documents/cervicalResearchIIP/img_1006t/labeled/N2-10.png\n",
      "index =  5\n",
      "予測画像: /home/eric/Documents/cervicalResearchIIP/result_test/20250205-DenseCRFIntegrationExperiment2/fold2/N3-6.png\n",
      "テストラベル: /home/eric/Documents/cervicalResearchIIP/img_1006t/labeled/N3-6.png\n",
      "index =  6\n",
      "予測画像: /home/eric/Documents/cervicalResearchIIP/result_test/20250205-DenseCRFIntegrationExperiment2/fold2/N3-7.png\n",
      "テストラベル: /home/eric/Documents/cervicalResearchIIP/img_1006t/labeled/N3-7.png\n",
      "index =  7\n",
      "予測画像: /home/eric/Documents/cervicalResearchIIP/result_test/20250205-DenseCRFIntegrationExperiment2/fold2/N3-10.png\n",
      "テストラベル: /home/eric/Documents/cervicalResearchIIP/img_1006t/labeled/N3-10.png\n",
      "index =  8\n",
      "予測画像: /home/eric/Documents/cervicalResearchIIP/result_test/20250205-DenseCRFIntegrationExperiment2/fold2/N4-4.png\n",
      "テストラベル: /home/eric/Documents/cervicalResearchIIP/img_1006t/labeled/N4-4.png\n",
      "index =  9\n",
      "予測画像: /home/eric/Documents/cervicalResearchIIP/result_test/20250205-DenseCRFIntegrationExperiment2/fold2/N4-7.png\n",
      "テストラベル: /home/eric/Documents/cervicalResearchIIP/img_1006t/labeled/N4-7.png\n",
      "index =  10\n",
      "予測画像: /home/eric/Documents/cervicalResearchIIP/result_test/20250205-DenseCRFIntegrationExperiment2/fold2/N5-3.png\n",
      "テストラベル: /home/eric/Documents/cervicalResearchIIP/img_1006t/labeled/N5-3.png\n",
      "Count1 =  [644727, 11978, 7565, 7819, 5726, 8008, 5591, 7565, 5459, 10730, 5728]\n",
      "Count2 =  [642734, 12157, 7801, 8284, 5889, 7835, 5987, 8241, 5674, 10428, 5866]\n",
      "Count3 =  [636361, 10601, 6537, 6881, 5042, 6960, 4984, 6549, 4772, 8442, 4975]\n",
      "Dice =  [0.9885518862318936, 0.8784752434224156, 0.8508395158141351, 0.8546233621064397, 0.8681876883340508, 0.8786214732058323, 0.8609431680773881, 0.8286726559534354, 0.8572711757837062, 0.7979960298704981, 0.8582025185440745, 0.8533832831111976]\n",
      "All labels are within the valid range (0 to 10).\n",
      "All labels are within the valid range (0 to 10).\n",
      "All labels are within the valid range (0 to 10).\n",
      "All labels are within the valid range (0 to 10).\n",
      "All labels are within the valid range (0 to 10).\n",
      "All labels are within the valid range (0 to 10).\n",
      "All labels are within the valid range (0 to 10).\n",
      "All labels are within the valid range (0 to 10).\n",
      "All labels are within the valid range (0 to 10).\n",
      "All labels are within the valid range (0 to 10).\n",
      "All labels are within the valid range (0 to 10).\n",
      "index =  0\n",
      "予測画像: /home/eric/Documents/cervicalResearchIIP/result_test/20250205-DenseCRFIntegrationExperiment2/fold2/crf/N1-3.png\n",
      "テストラベル: /home/eric/Documents/cervicalResearchIIP/img_1006t/labeled/N1-3.png\n",
      "index =  1\n",
      "予測画像: /home/eric/Documents/cervicalResearchIIP/result_test/20250205-DenseCRFIntegrationExperiment2/fold2/crf/N1-8.png\n",
      "テストラベル: /home/eric/Documents/cervicalResearchIIP/img_1006t/labeled/N1-8.png\n",
      "index =  2\n",
      "予測画像: /home/eric/Documents/cervicalResearchIIP/result_test/20250205-DenseCRFIntegrationExperiment2/fold2/crf/N1-9.png\n",
      "テストラベル: /home/eric/Documents/cervicalResearchIIP/img_1006t/labeled/N1-9.png\n",
      "index =  3\n",
      "予測画像: /home/eric/Documents/cervicalResearchIIP/result_test/20250205-DenseCRFIntegrationExperiment2/fold2/crf/N2-5.png\n",
      "テストラベル: /home/eric/Documents/cervicalResearchIIP/img_1006t/labeled/N2-5.png\n",
      "index =  4\n",
      "予測画像: /home/eric/Documents/cervicalResearchIIP/result_test/20250205-DenseCRFIntegrationExperiment2/fold2/crf/N2-10.png\n",
      "テストラベル: /home/eric/Documents/cervicalResearchIIP/img_1006t/labeled/N2-10.png\n",
      "index =  5\n",
      "予測画像: /home/eric/Documents/cervicalResearchIIP/result_test/20250205-DenseCRFIntegrationExperiment2/fold2/crf/N3-6.png\n",
      "テストラベル: /home/eric/Documents/cervicalResearchIIP/img_1006t/labeled/N3-6.png\n",
      "index =  6\n",
      "予測画像: /home/eric/Documents/cervicalResearchIIP/result_test/20250205-DenseCRFIntegrationExperiment2/fold2/crf/N3-7.png\n",
      "テストラベル: /home/eric/Documents/cervicalResearchIIP/img_1006t/labeled/N3-7.png\n",
      "index =  7\n",
      "予測画像: /home/eric/Documents/cervicalResearchIIP/result_test/20250205-DenseCRFIntegrationExperiment2/fold2/crf/N3-10.png\n",
      "テストラベル: /home/eric/Documents/cervicalResearchIIP/img_1006t/labeled/N3-10.png\n",
      "index =  8\n",
      "予測画像: /home/eric/Documents/cervicalResearchIIP/result_test/20250205-DenseCRFIntegrationExperiment2/fold2/crf/N4-4.png\n",
      "テストラベル: /home/eric/Documents/cervicalResearchIIP/img_1006t/labeled/N4-4.png\n",
      "index =  9\n",
      "予測画像: /home/eric/Documents/cervicalResearchIIP/result_test/20250205-DenseCRFIntegrationExperiment2/fold2/crf/N4-7.png\n",
      "テストラベル: /home/eric/Documents/cervicalResearchIIP/img_1006t/labeled/N4-7.png\n",
      "index =  10\n",
      "予測画像: /home/eric/Documents/cervicalResearchIIP/result_test/20250205-DenseCRFIntegrationExperiment2/fold2/crf/N5-3.png\n",
      "テストラベル: /home/eric/Documents/cervicalResearchIIP/img_1006t/labeled/N5-3.png\n",
      "Count1 =  [645495, 11989, 7520, 7785, 5736, 7938, 5587, 7359, 5435, 10391, 5661]\n",
      "Count2 =  [642734, 12157, 7801, 8284, 5889, 7835, 5987, 8241, 5674, 10428, 5866]\n",
      "Count3 =  [636840, 10631, 6538, 6823, 5049, 6969, 4983, 6471, 4764, 8379, 4942]\n",
      "Dice =  [0.9887062005280117, 0.8805599271100804, 0.8534690947066118, 0.8492127699296783, 0.8686451612903225, 0.8836619539719774, 0.8610679108346293, 0.8296153846153846, 0.8576829597623549, 0.8049377972044767, 0.8574650819814349, 0.8546318041406951]\n",
      "Cross validation: True\n",
      "Fold: 3 out of 4\n",
      "Augmentation: True\n",
      "Augmentation amount: 30\n",
      "Training: Total of 22 cases.\n",
      "['N2-8' 'N4-7' 'N1-7' 'N2-5' 'N1-2' 'N3-9' 'N3-1' 'N5-3' 'N1-3' 'N5-1'\n",
      " 'N2-7' 'N1-9' 'N2-1' 'N5-6' 'N1-1' 'N3-2' 'N4-1' 'N3-3' 'N4-6' 'N2-3'\n",
      " 'N4-4' 'N3-7']\n",
      "Validation: Total of 12 cases.\n",
      "['N1-6' 'N3-5' 'N1-8' 'N3-6' 'N2-2' 'N3-10' 'N2-10' 'N5-2' 'N5-4' 'N4-5'\n",
      " 'N1-4' 'N4-2']\n",
      "Test: Total of 11 cases.\n",
      "['N1-5' 'N1-10' 'N2-4' 'N2-6' 'N2-9' 'N3-4' 'N3-8' 'N4-3' 'N4-8' 'N4-9'\n",
      " 'N5-5']\n",
      "\n",
      "Creating image arrays...\n",
      "Number of label images: 660\n",
      "Completed creating image arrays:\n",
      "Dataset shape  (660, 256, 256, 45)\n",
      "Label image shape  (660, 256, 256)\n",
      "\n",
      "Creating image arrays...\n",
      "Number of label images: 360\n",
      "Completed creating image arrays:\n",
      "Dataset shape  (360, 256, 256, 45)\n",
      "Label image shape  (360, 256, 256)\n",
      "\n",
      "*************************Training*************************\n",
      "x.shape =  torch.Size([2, 45, 256, 256])\n",
      "x.min(), x.max() =  tensor(0.) tensor(1.)\n",
      "y.shape =  torch.Size([2, 256, 256])\n",
      "torch.unique(y) =  tensor([ 0,  1,  2,  3,  4,  5,  6,  7,  8,  9, 10])\n",
      "in constructor inchannel: 45\n",
      "Input channel count3\n",
      "=======start training======\n"
     ]
    },
    {
     "data": {
      "application/vnd.jupyter.widget-view+json": {
       "model_id": "d58f9c003f774ffbad7c297cf2001e21",
       "version_major": 2,
       "version_minor": 0
      },
      "text/plain": [
       "Progress:   0%|          | 0/146 [00:00<?, ?it/s]"
      ]
     },
     "metadata": {},
     "output_type": "display_data"
    },
    {
     "data": {
      "application/vnd.jupyter.widget-view+json": {
       "model_id": "592f55554c784a66a25287abfa49e6cc",
       "version_major": 2,
       "version_minor": 0
      },
      "text/plain": [
       "Training:   0%|          | 0/330 [00:00<?, ?it/s]"
      ]
     },
     "metadata": {},
     "output_type": "display_data"
    },
    {
     "data": {
      "application/vnd.jupyter.widget-view+json": {
       "model_id": "76433f60d92043b2917c54289027a817",
       "version_major": 2,
       "version_minor": 0
      },
      "text/plain": [
       "Validation:   0%|          | 0/180 [00:00<?, ?it/s]"
      ]
     },
     "metadata": {},
     "output_type": "display_data"
    },
    {
     "name": "stdout",
     "output_type": "stream",
     "text": [
      "val_losses 1.5873419642448425\n",
      "Validation loss decreased (inf --> 1.587342).  Saving model ...\n"
     ]
    },
    {
     "data": {
      "application/vnd.jupyter.widget-view+json": {
       "model_id": "01ef696c7734423d86590340ea722ed4",
       "version_major": 2,
       "version_minor": 0
      },
      "text/plain": [
       "Training:   0%|          | 0/330 [00:00<?, ?it/s]"
      ]
     },
     "metadata": {},
     "output_type": "display_data"
    },
    {
     "data": {
      "application/vnd.jupyter.widget-view+json": {
       "model_id": "ffefc6aa347e4960bed30b9e3b93e919",
       "version_major": 2,
       "version_minor": 0
      },
      "text/plain": [
       "Validation:   0%|          | 0/180 [00:00<?, ?it/s]"
      ]
     },
     "metadata": {},
     "output_type": "display_data"
    },
    {
     "name": "stdout",
     "output_type": "stream",
     "text": [
      "val_losses 0.9546578675508499\n",
      "Validation loss decreased (1.587342 --> 0.954658).  Saving model ...\n"
     ]
    },
    {
     "data": {
      "application/vnd.jupyter.widget-view+json": {
       "model_id": "a063bf5cd98b42d28ee0ee11f67ed349",
       "version_major": 2,
       "version_minor": 0
      },
      "text/plain": [
       "Training:   0%|          | 0/330 [00:00<?, ?it/s]"
      ]
     },
     "metadata": {},
     "output_type": "display_data"
    },
    {
     "data": {
      "application/vnd.jupyter.widget-view+json": {
       "model_id": "2a3417b36a95417da988edaa9cba4921",
       "version_major": 2,
       "version_minor": 0
      },
      "text/plain": [
       "Validation:   0%|          | 0/180 [00:00<?, ?it/s]"
      ]
     },
     "metadata": {},
     "output_type": "display_data"
    },
    {
     "name": "stdout",
     "output_type": "stream",
     "text": [
      "val_losses 0.7519877418875694\n",
      "Validation loss decreased (0.954658 --> 0.751988).  Saving model ...\n"
     ]
    },
    {
     "data": {
      "application/vnd.jupyter.widget-view+json": {
       "model_id": "049de0100f5942c488d67de68036b3ff",
       "version_major": 2,
       "version_minor": 0
      },
      "text/plain": [
       "Training:   0%|          | 0/330 [00:00<?, ?it/s]"
      ]
     },
     "metadata": {},
     "output_type": "display_data"
    },
    {
     "data": {
      "application/vnd.jupyter.widget-view+json": {
       "model_id": "bcfb1ddc2321427c9e83231f69d5767f",
       "version_major": 2,
       "version_minor": 0
      },
      "text/plain": [
       "Validation:   0%|          | 0/180 [00:00<?, ?it/s]"
      ]
     },
     "metadata": {},
     "output_type": "display_data"
    },
    {
     "name": "stdout",
     "output_type": "stream",
     "text": [
      "val_losses 0.6369691461324691\n",
      "Validation loss decreased (0.751988 --> 0.636969).  Saving model ...\n"
     ]
    },
    {
     "data": {
      "application/vnd.jupyter.widget-view+json": {
       "model_id": "048785024e7846e1b53965fb4d64ff6f",
       "version_major": 2,
       "version_minor": 0
      },
      "text/plain": [
       "Training:   0%|          | 0/330 [00:00<?, ?it/s]"
      ]
     },
     "metadata": {},
     "output_type": "display_data"
    },
    {
     "data": {
      "application/vnd.jupyter.widget-view+json": {
       "model_id": "0be0965bbbdc40489586617187f42547",
       "version_major": 2,
       "version_minor": 0
      },
      "text/plain": [
       "Validation:   0%|          | 0/180 [00:00<?, ?it/s]"
      ]
     },
     "metadata": {},
     "output_type": "display_data"
    },
    {
     "name": "stdout",
     "output_type": "stream",
     "text": [
      "val_losses 0.6026938564247555\n",
      "Validation loss decreased (0.636969 --> 0.602694).  Saving model ...\n"
     ]
    },
    {
     "data": {
      "application/vnd.jupyter.widget-view+json": {
       "model_id": "591f124a9cae4525970853ed29b823db",
       "version_major": 2,
       "version_minor": 0
      },
      "text/plain": [
       "Training:   0%|          | 0/330 [00:00<?, ?it/s]"
      ]
     },
     "metadata": {},
     "output_type": "display_data"
    },
    {
     "data": {
      "application/vnd.jupyter.widget-view+json": {
       "model_id": "d1ab5267c7ea46f880882269afa49462",
       "version_major": 2,
       "version_minor": 0
      },
      "text/plain": [
       "Validation:   0%|          | 0/180 [00:00<?, ?it/s]"
      ]
     },
     "metadata": {},
     "output_type": "display_data"
    },
    {
     "name": "stdout",
     "output_type": "stream",
     "text": [
      "val_losses 0.5688491604394383\n",
      "Validation loss decreased (0.602694 --> 0.568849).  Saving model ...\n"
     ]
    },
    {
     "data": {
      "application/vnd.jupyter.widget-view+json": {
       "model_id": "cefc74477ff143a5aef10cf7184e70b1",
       "version_major": 2,
       "version_minor": 0
      },
      "text/plain": [
       "Training:   0%|          | 0/330 [00:00<?, ?it/s]"
      ]
     },
     "metadata": {},
     "output_type": "display_data"
    },
    {
     "data": {
      "application/vnd.jupyter.widget-view+json": {
       "model_id": "c5a8a1cb91784c38980cd7b1e439be72",
       "version_major": 2,
       "version_minor": 0
      },
      "text/plain": [
       "Validation:   0%|          | 0/180 [00:00<?, ?it/s]"
      ]
     },
     "metadata": {},
     "output_type": "display_data"
    },
    {
     "name": "stdout",
     "output_type": "stream",
     "text": [
      "val_losses 0.5519396444161733\n",
      "Validation loss decreased (0.568849 --> 0.551940).  Saving model ...\n"
     ]
    },
    {
     "data": {
      "application/vnd.jupyter.widget-view+json": {
       "model_id": "79a265ff9b3c42d482b0385f82315d5c",
       "version_major": 2,
       "version_minor": 0
      },
      "text/plain": [
       "Training:   0%|          | 0/330 [00:00<?, ?it/s]"
      ]
     },
     "metadata": {},
     "output_type": "display_data"
    },
    {
     "data": {
      "application/vnd.jupyter.widget-view+json": {
       "model_id": "299ce7fc8f8b401e814a98c3944a52a4",
       "version_major": 2,
       "version_minor": 0
      },
      "text/plain": [
       "Validation:   0%|          | 0/180 [00:00<?, ?it/s]"
      ]
     },
     "metadata": {},
     "output_type": "display_data"
    },
    {
     "name": "stdout",
     "output_type": "stream",
     "text": [
      "val_losses 0.5531638973289066\n",
      "EarlyStopping counter: 1 out of 50\n"
     ]
    },
    {
     "data": {
      "application/vnd.jupyter.widget-view+json": {
       "model_id": "9cb21d6ccbd545a89e07d78c023375c9",
       "version_major": 2,
       "version_minor": 0
      },
      "text/plain": [
       "Training:   0%|          | 0/330 [00:00<?, ?it/s]"
      ]
     },
     "metadata": {},
     "output_type": "display_data"
    },
    {
     "data": {
      "application/vnd.jupyter.widget-view+json": {
       "model_id": "61881070e0aa4b19b56e1da05bf0c4a7",
       "version_major": 2,
       "version_minor": 0
      },
      "text/plain": [
       "Validation:   0%|          | 0/180 [00:00<?, ?it/s]"
      ]
     },
     "metadata": {},
     "output_type": "display_data"
    },
    {
     "name": "stdout",
     "output_type": "stream",
     "text": [
      "val_losses 0.5255406065119638\n",
      "Validation loss decreased (0.551940 --> 0.525541).  Saving model ...\n"
     ]
    },
    {
     "data": {
      "application/vnd.jupyter.widget-view+json": {
       "model_id": "539fec45e0224363bf6691aaf9dfa032",
       "version_major": 2,
       "version_minor": 0
      },
      "text/plain": [
       "Training:   0%|          | 0/330 [00:00<?, ?it/s]"
      ]
     },
     "metadata": {},
     "output_type": "display_data"
    },
    {
     "data": {
      "application/vnd.jupyter.widget-view+json": {
       "model_id": "daef77a03991463bb6f9de2dbeb524d1",
       "version_major": 2,
       "version_minor": 0
      },
      "text/plain": [
       "Validation:   0%|          | 0/180 [00:00<?, ?it/s]"
      ]
     },
     "metadata": {},
     "output_type": "display_data"
    },
    {
     "name": "stdout",
     "output_type": "stream",
     "text": [
      "val_losses 0.5512656581898531\n",
      "EarlyStopping counter: 1 out of 50\n"
     ]
    },
    {
     "data": {
      "application/vnd.jupyter.widget-view+json": {
       "model_id": "614f2eced1b04a9893617552b23889b7",
       "version_major": 2,
       "version_minor": 0
      },
      "text/plain": [
       "Training:   0%|          | 0/330 [00:00<?, ?it/s]"
      ]
     },
     "metadata": {},
     "output_type": "display_data"
    },
    {
     "data": {
      "application/vnd.jupyter.widget-view+json": {
       "model_id": "3b440c6672584a15917fc7531e6ba73d",
       "version_major": 2,
       "version_minor": 0
      },
      "text/plain": [
       "Validation:   0%|          | 0/180 [00:00<?, ?it/s]"
      ]
     },
     "metadata": {},
     "output_type": "display_data"
    },
    {
     "name": "stdout",
     "output_type": "stream",
     "text": [
      "val_losses 0.550591684712304\n",
      "EarlyStopping counter: 2 out of 50\n"
     ]
    },
    {
     "data": {
      "application/vnd.jupyter.widget-view+json": {
       "model_id": "c85b0f8e57614b5fabb95b8f8e5c4006",
       "version_major": 2,
       "version_minor": 0
      },
      "text/plain": [
       "Training:   0%|          | 0/330 [00:00<?, ?it/s]"
      ]
     },
     "metadata": {},
     "output_type": "display_data"
    },
    {
     "data": {
      "application/vnd.jupyter.widget-view+json": {
       "model_id": "f225d7e3c039466eb87447b53f8495cf",
       "version_major": 2,
       "version_minor": 0
      },
      "text/plain": [
       "Validation:   0%|          | 0/180 [00:00<?, ?it/s]"
      ]
     },
     "metadata": {},
     "output_type": "display_data"
    },
    {
     "name": "stdout",
     "output_type": "stream",
     "text": [
      "val_losses 0.5646510283980105\n",
      "EarlyStopping counter: 3 out of 50\n"
     ]
    },
    {
     "data": {
      "application/vnd.jupyter.widget-view+json": {
       "model_id": "4eba32ee6b374befa27296bed78fb3b1",
       "version_major": 2,
       "version_minor": 0
      },
      "text/plain": [
       "Training:   0%|          | 0/330 [00:00<?, ?it/s]"
      ]
     },
     "metadata": {},
     "output_type": "display_data"
    },
    {
     "data": {
      "application/vnd.jupyter.widget-view+json": {
       "model_id": "4d567b96ac8a4ce5b6900c5b60d8d440",
       "version_major": 2,
       "version_minor": 0
      },
      "text/plain": [
       "Validation:   0%|          | 0/180 [00:00<?, ?it/s]"
      ]
     },
     "metadata": {},
     "output_type": "display_data"
    },
    {
     "name": "stdout",
     "output_type": "stream",
     "text": [
      "val_losses 0.5512994820045101\n",
      "EarlyStopping counter: 4 out of 50\n"
     ]
    },
    {
     "data": {
      "application/vnd.jupyter.widget-view+json": {
       "model_id": "c050e95ee1a44e8299996bcff02cc063",
       "version_major": 2,
       "version_minor": 0
      },
      "text/plain": [
       "Training:   0%|          | 0/330 [00:00<?, ?it/s]"
      ]
     },
     "metadata": {},
     "output_type": "display_data"
    },
    {
     "data": {
      "application/vnd.jupyter.widget-view+json": {
       "model_id": "14ef52ff1b3049949c1b8834de355311",
       "version_major": 2,
       "version_minor": 0
      },
      "text/plain": [
       "Validation:   0%|          | 0/180 [00:00<?, ?it/s]"
      ]
     },
     "metadata": {},
     "output_type": "display_data"
    },
    {
     "name": "stdout",
     "output_type": "stream",
     "text": [
      "val_losses 0.5635983026689954\n",
      "EarlyStopping counter: 5 out of 50\n"
     ]
    },
    {
     "data": {
      "application/vnd.jupyter.widget-view+json": {
       "model_id": "d135eef5f57848999ec5960151f36e78",
       "version_major": 2,
       "version_minor": 0
      },
      "text/plain": [
       "Training:   0%|          | 0/330 [00:00<?, ?it/s]"
      ]
     },
     "metadata": {},
     "output_type": "display_data"
    },
    {
     "data": {
      "application/vnd.jupyter.widget-view+json": {
       "model_id": "277750c55577449dae74f6efa13288b0",
       "version_major": 2,
       "version_minor": 0
      },
      "text/plain": [
       "Validation:   0%|          | 0/180 [00:00<?, ?it/s]"
      ]
     },
     "metadata": {},
     "output_type": "display_data"
    },
    {
     "name": "stdout",
     "output_type": "stream",
     "text": [
      "val_losses 0.5719717642499341\n",
      "EarlyStopping counter: 6 out of 50\n"
     ]
    },
    {
     "data": {
      "application/vnd.jupyter.widget-view+json": {
       "model_id": "7af03b4ee4a6447c93efcec4a70256ae",
       "version_major": 2,
       "version_minor": 0
      },
      "text/plain": [
       "Training:   0%|          | 0/330 [00:00<?, ?it/s]"
      ]
     },
     "metadata": {},
     "output_type": "display_data"
    },
    {
     "data": {
      "application/vnd.jupyter.widget-view+json": {
       "model_id": "b66ccdc6c77b4343973738ba719f1b3d",
       "version_major": 2,
       "version_minor": 0
      },
      "text/plain": [
       "Validation:   0%|          | 0/180 [00:00<?, ?it/s]"
      ]
     },
     "metadata": {},
     "output_type": "display_data"
    },
    {
     "name": "stdout",
     "output_type": "stream",
     "text": [
      "val_losses 0.5984751386774911\n",
      "EarlyStopping counter: 7 out of 50\n"
     ]
    },
    {
     "data": {
      "application/vnd.jupyter.widget-view+json": {
       "model_id": "0a97ad3c088d4470b617a43a0d214424",
       "version_major": 2,
       "version_minor": 0
      },
      "text/plain": [
       "Training:   0%|          | 0/330 [00:00<?, ?it/s]"
      ]
     },
     "metadata": {},
     "output_type": "display_data"
    },
    {
     "data": {
      "application/vnd.jupyter.widget-view+json": {
       "model_id": "e13d704b836d4fff9a526774bd9ec87d",
       "version_major": 2,
       "version_minor": 0
      },
      "text/plain": [
       "Validation:   0%|          | 0/180 [00:00<?, ?it/s]"
      ]
     },
     "metadata": {},
     "output_type": "display_data"
    },
    {
     "name": "stdout",
     "output_type": "stream",
     "text": [
      "val_losses 0.4310627276284827\n",
      "Validation loss decreased (0.525541 --> 0.431063).  Saving model ...\n"
     ]
    },
    {
     "data": {
      "application/vnd.jupyter.widget-view+json": {
       "model_id": "a244a73fc2c74019ab14389a4ffac00b",
       "version_major": 2,
       "version_minor": 0
      },
      "text/plain": [
       "Training:   0%|          | 0/330 [00:00<?, ?it/s]"
      ]
     },
     "metadata": {},
     "output_type": "display_data"
    },
    {
     "data": {
      "application/vnd.jupyter.widget-view+json": {
       "model_id": "a8e3a6311ad64e1fac1735fb2d34355f",
       "version_major": 2,
       "version_minor": 0
      },
      "text/plain": [
       "Validation:   0%|          | 0/180 [00:00<?, ?it/s]"
      ]
     },
     "metadata": {},
     "output_type": "display_data"
    },
    {
     "name": "stdout",
     "output_type": "stream",
     "text": [
      "val_losses 0.49721791711118485\n",
      "EarlyStopping counter: 1 out of 50\n"
     ]
    },
    {
     "data": {
      "application/vnd.jupyter.widget-view+json": {
       "model_id": "e725178ceef84a24ad0205c46f1dc6f9",
       "version_major": 2,
       "version_minor": 0
      },
      "text/plain": [
       "Training:   0%|          | 0/330 [00:00<?, ?it/s]"
      ]
     },
     "metadata": {},
     "output_type": "display_data"
    },
    {
     "data": {
      "application/vnd.jupyter.widget-view+json": {
       "model_id": "904c0ee248f242058ce37dc14f872fb6",
       "version_major": 2,
       "version_minor": 0
      },
      "text/plain": [
       "Validation:   0%|          | 0/180 [00:00<?, ?it/s]"
      ]
     },
     "metadata": {},
     "output_type": "display_data"
    },
    {
     "name": "stdout",
     "output_type": "stream",
     "text": [
      "val_losses 0.5319262089000808\n",
      "EarlyStopping counter: 2 out of 50\n"
     ]
    },
    {
     "data": {
      "application/vnd.jupyter.widget-view+json": {
       "model_id": "b9aaec8e7dc94baa8fc148f204ff2560",
       "version_major": 2,
       "version_minor": 0
      },
      "text/plain": [
       "Training:   0%|          | 0/330 [00:00<?, ?it/s]"
      ]
     },
     "metadata": {},
     "output_type": "display_data"
    },
    {
     "data": {
      "application/vnd.jupyter.widget-view+json": {
       "model_id": "7ef1c220c24d4bd4b0f321c9ef954410",
       "version_major": 2,
       "version_minor": 0
      },
      "text/plain": [
       "Validation:   0%|          | 0/180 [00:00<?, ?it/s]"
      ]
     },
     "metadata": {},
     "output_type": "display_data"
    },
    {
     "name": "stdout",
     "output_type": "stream",
     "text": [
      "val_losses 0.5711936928331852\n",
      "EarlyStopping counter: 3 out of 50\n"
     ]
    },
    {
     "data": {
      "application/vnd.jupyter.widget-view+json": {
       "model_id": "2416b38560f54aef9536186f48179427",
       "version_major": 2,
       "version_minor": 0
      },
      "text/plain": [
       "Training:   0%|          | 0/330 [00:00<?, ?it/s]"
      ]
     },
     "metadata": {},
     "output_type": "display_data"
    },
    {
     "data": {
      "application/vnd.jupyter.widget-view+json": {
       "model_id": "8724b57cbbcf44f4ac796b2bf215cc5a",
       "version_major": 2,
       "version_minor": 0
      },
      "text/plain": [
       "Validation:   0%|          | 0/180 [00:00<?, ?it/s]"
      ]
     },
     "metadata": {},
     "output_type": "display_data"
    },
    {
     "name": "stdout",
     "output_type": "stream",
     "text": [
      "val_losses 0.5961879966987504\n",
      "EarlyStopping counter: 4 out of 50\n"
     ]
    },
    {
     "data": {
      "application/vnd.jupyter.widget-view+json": {
       "model_id": "e0df8cddcb8f422181b8297b7af45e62",
       "version_major": 2,
       "version_minor": 0
      },
      "text/plain": [
       "Training:   0%|          | 0/330 [00:00<?, ?it/s]"
      ]
     },
     "metadata": {},
     "output_type": "display_data"
    },
    {
     "data": {
      "application/vnd.jupyter.widget-view+json": {
       "model_id": "b172b362e8d5457e8146346b58e0ec1f",
       "version_major": 2,
       "version_minor": 0
      },
      "text/plain": [
       "Validation:   0%|          | 0/180 [00:00<?, ?it/s]"
      ]
     },
     "metadata": {},
     "output_type": "display_data"
    },
    {
     "name": "stdout",
     "output_type": "stream",
     "text": [
      "val_losses 0.6222207505669859\n",
      "EarlyStopping counter: 5 out of 50\n"
     ]
    },
    {
     "data": {
      "application/vnd.jupyter.widget-view+json": {
       "model_id": "2e66beed64ac4af284c3fc99121033a6",
       "version_major": 2,
       "version_minor": 0
      },
      "text/plain": [
       "Training:   0%|          | 0/330 [00:00<?, ?it/s]"
      ]
     },
     "metadata": {},
     "output_type": "display_data"
    },
    {
     "data": {
      "application/vnd.jupyter.widget-view+json": {
       "model_id": "97ef29545f3e43879abf359e1d36523c",
       "version_major": 2,
       "version_minor": 0
      },
      "text/plain": [
       "Validation:   0%|          | 0/180 [00:00<?, ?it/s]"
      ]
     },
     "metadata": {},
     "output_type": "display_data"
    },
    {
     "name": "stdout",
     "output_type": "stream",
     "text": [
      "val_losses 0.6385012889073954\n",
      "EarlyStopping counter: 6 out of 50\n"
     ]
    },
    {
     "data": {
      "application/vnd.jupyter.widget-view+json": {
       "model_id": "03c9d0e8d4154a8ca085fc942fd46885",
       "version_major": 2,
       "version_minor": 0
      },
      "text/plain": [
       "Training:   0%|          | 0/330 [00:00<?, ?it/s]"
      ]
     },
     "metadata": {},
     "output_type": "display_data"
    },
    {
     "data": {
      "application/vnd.jupyter.widget-view+json": {
       "model_id": "dc46a88ce30f42e8935ee63be75dbf4b",
       "version_major": 2,
       "version_minor": 0
      },
      "text/plain": [
       "Validation:   0%|          | 0/180 [00:00<?, ?it/s]"
      ]
     },
     "metadata": {},
     "output_type": "display_data"
    },
    {
     "name": "stdout",
     "output_type": "stream",
     "text": [
      "val_losses 0.611563331551022\n",
      "EarlyStopping counter: 7 out of 50\n"
     ]
    },
    {
     "data": {
      "application/vnd.jupyter.widget-view+json": {
       "model_id": "43637ef4b9b3493ca51c543a146abe23",
       "version_major": 2,
       "version_minor": 0
      },
      "text/plain": [
       "Training:   0%|          | 0/330 [00:00<?, ?it/s]"
      ]
     },
     "metadata": {},
     "output_type": "display_data"
    },
    {
     "data": {
      "application/vnd.jupyter.widget-view+json": {
       "model_id": "d7e438ee2d7948ec8af5fde2a8c4fe35",
       "version_major": 2,
       "version_minor": 0
      },
      "text/plain": [
       "Validation:   0%|          | 0/180 [00:00<?, ?it/s]"
      ]
     },
     "metadata": {},
     "output_type": "display_data"
    },
    {
     "name": "stdout",
     "output_type": "stream",
     "text": [
      "val_losses 0.6239955455892616\n",
      "EarlyStopping counter: 8 out of 50\n"
     ]
    },
    {
     "data": {
      "application/vnd.jupyter.widget-view+json": {
       "model_id": "0437b07a2eb54ee9824a42016fb3fa26",
       "version_major": 2,
       "version_minor": 0
      },
      "text/plain": [
       "Training:   0%|          | 0/330 [00:00<?, ?it/s]"
      ]
     },
     "metadata": {},
     "output_type": "display_data"
    },
    {
     "data": {
      "application/vnd.jupyter.widget-view+json": {
       "model_id": "832766e4f6404c8c8950a2e4edb07521",
       "version_major": 2,
       "version_minor": 0
      },
      "text/plain": [
       "Validation:   0%|          | 0/180 [00:00<?, ?it/s]"
      ]
     },
     "metadata": {},
     "output_type": "display_data"
    },
    {
     "name": "stdout",
     "output_type": "stream",
     "text": [
      "val_losses 0.6360490188830429\n",
      "EarlyStopping counter: 9 out of 50\n"
     ]
    },
    {
     "data": {
      "application/vnd.jupyter.widget-view+json": {
       "model_id": "d7d7aefd4abb43daabc1763e4177eb6a",
       "version_major": 2,
       "version_minor": 0
      },
      "text/plain": [
       "Training:   0%|          | 0/330 [00:00<?, ?it/s]"
      ]
     },
     "metadata": {},
     "output_type": "display_data"
    },
    {
     "data": {
      "application/vnd.jupyter.widget-view+json": {
       "model_id": "b1359cd21d014761be36c45e285eef16",
       "version_major": 2,
       "version_minor": 0
      },
      "text/plain": [
       "Validation:   0%|          | 0/180 [00:00<?, ?it/s]"
      ]
     },
     "metadata": {},
     "output_type": "display_data"
    },
    {
     "name": "stdout",
     "output_type": "stream",
     "text": [
      "val_losses 0.6063546295795176\n",
      "EarlyStopping counter: 10 out of 50\n"
     ]
    },
    {
     "data": {
      "application/vnd.jupyter.widget-view+json": {
       "model_id": "196cd155deea4dbd9eb39c84d182eb30",
       "version_major": 2,
       "version_minor": 0
      },
      "text/plain": [
       "Training:   0%|          | 0/330 [00:00<?, ?it/s]"
      ]
     },
     "metadata": {},
     "output_type": "display_data"
    },
    {
     "data": {
      "application/vnd.jupyter.widget-view+json": {
       "model_id": "aa21cb1a87ed47bba5becf1136e6e8d9",
       "version_major": 2,
       "version_minor": 0
      },
      "text/plain": [
       "Validation:   0%|          | 0/180 [00:00<?, ?it/s]"
      ]
     },
     "metadata": {},
     "output_type": "display_data"
    },
    {
     "name": "stdout",
     "output_type": "stream",
     "text": [
      "val_losses 0.6306227280033959\n",
      "EarlyStopping counter: 11 out of 50\n"
     ]
    },
    {
     "data": {
      "application/vnd.jupyter.widget-view+json": {
       "model_id": "1e0c67154bbd41bc8800e6d6bad04071",
       "version_major": 2,
       "version_minor": 0
      },
      "text/plain": [
       "Training:   0%|          | 0/330 [00:00<?, ?it/s]"
      ]
     },
     "metadata": {},
     "output_type": "display_data"
    },
    {
     "data": {
      "application/vnd.jupyter.widget-view+json": {
       "model_id": "94f63433610949cdb0765e16ba78f144",
       "version_major": 2,
       "version_minor": 0
      },
      "text/plain": [
       "Validation:   0%|          | 0/180 [00:00<?, ?it/s]"
      ]
     },
     "metadata": {},
     "output_type": "display_data"
    },
    {
     "name": "stdout",
     "output_type": "stream",
     "text": [
      "val_losses 0.6521062953604593\n",
      "EarlyStopping counter: 12 out of 50\n"
     ]
    },
    {
     "data": {
      "application/vnd.jupyter.widget-view+json": {
       "model_id": "5b6fbc5838aa4036babbcab061f93bb9",
       "version_major": 2,
       "version_minor": 0
      },
      "text/plain": [
       "Training:   0%|          | 0/330 [00:00<?, ?it/s]"
      ]
     },
     "metadata": {},
     "output_type": "display_data"
    },
    {
     "data": {
      "application/vnd.jupyter.widget-view+json": {
       "model_id": "0b56cab735704f7cb15712e487d2a5d2",
       "version_major": 2,
       "version_minor": 0
      },
      "text/plain": [
       "Validation:   0%|          | 0/180 [00:00<?, ?it/s]"
      ]
     },
     "metadata": {},
     "output_type": "display_data"
    },
    {
     "name": "stdout",
     "output_type": "stream",
     "text": [
      "val_losses 0.6649307290712992\n",
      "EarlyStopping counter: 13 out of 50\n"
     ]
    },
    {
     "data": {
      "application/vnd.jupyter.widget-view+json": {
       "model_id": "2ef65e3b300d4fe9a985a7ec7a1c7dfc",
       "version_major": 2,
       "version_minor": 0
      },
      "text/plain": [
       "Training:   0%|          | 0/330 [00:00<?, ?it/s]"
      ]
     },
     "metadata": {},
     "output_type": "display_data"
    },
    {
     "data": {
      "application/vnd.jupyter.widget-view+json": {
       "model_id": "8c9c85c75b3c46b3810b1f2b4fc5ef99",
       "version_major": 2,
       "version_minor": 0
      },
      "text/plain": [
       "Validation:   0%|          | 0/180 [00:00<?, ?it/s]"
      ]
     },
     "metadata": {},
     "output_type": "display_data"
    },
    {
     "name": "stdout",
     "output_type": "stream",
     "text": [
      "val_losses 0.6425665693978468\n",
      "EarlyStopping counter: 14 out of 50\n"
     ]
    },
    {
     "data": {
      "application/vnd.jupyter.widget-view+json": {
       "model_id": "d55550fd4e574ac68d14114dc2d17d53",
       "version_major": 2,
       "version_minor": 0
      },
      "text/plain": [
       "Training:   0%|          | 0/330 [00:00<?, ?it/s]"
      ]
     },
     "metadata": {},
     "output_type": "display_data"
    },
    {
     "data": {
      "application/vnd.jupyter.widget-view+json": {
       "model_id": "e2a71cbf170a4b3093833f31009e9c44",
       "version_major": 2,
       "version_minor": 0
      },
      "text/plain": [
       "Validation:   0%|          | 0/180 [00:00<?, ?it/s]"
      ]
     },
     "metadata": {},
     "output_type": "display_data"
    },
    {
     "name": "stdout",
     "output_type": "stream",
     "text": [
      "val_losses 0.32893030618627866\n",
      "Validation loss decreased (0.431063 --> 0.328930).  Saving model ...\n"
     ]
    },
    {
     "data": {
      "application/vnd.jupyter.widget-view+json": {
       "model_id": "48d024a2d1794600b0d67b626fd0a945",
       "version_major": 2,
       "version_minor": 0
      },
      "text/plain": [
       "Training:   0%|          | 0/330 [00:00<?, ?it/s]"
      ]
     },
     "metadata": {},
     "output_type": "display_data"
    },
    {
     "data": {
      "application/vnd.jupyter.widget-view+json": {
       "model_id": "be47d00a492941efaabc09433c8c457c",
       "version_major": 2,
       "version_minor": 0
      },
      "text/plain": [
       "Validation:   0%|          | 0/180 [00:00<?, ?it/s]"
      ]
     },
     "metadata": {},
     "output_type": "display_data"
    },
    {
     "name": "stdout",
     "output_type": "stream",
     "text": [
      "val_losses 0.4315445233550337\n",
      "EarlyStopping counter: 1 out of 50\n"
     ]
    },
    {
     "data": {
      "application/vnd.jupyter.widget-view+json": {
       "model_id": "509fdf1632d64e4d84dd31fa24cf5e8e",
       "version_major": 2,
       "version_minor": 0
      },
      "text/plain": [
       "Training:   0%|          | 0/330 [00:00<?, ?it/s]"
      ]
     },
     "metadata": {},
     "output_type": "display_data"
    },
    {
     "data": {
      "application/vnd.jupyter.widget-view+json": {
       "model_id": "231c92b6e41a4d919747de2d3eb15641",
       "version_major": 2,
       "version_minor": 0
      },
      "text/plain": [
       "Validation:   0%|          | 0/180 [00:00<?, ?it/s]"
      ]
     },
     "metadata": {},
     "output_type": "display_data"
    },
    {
     "name": "stdout",
     "output_type": "stream",
     "text": [
      "val_losses 0.4924280833866861\n",
      "EarlyStopping counter: 2 out of 50\n"
     ]
    },
    {
     "data": {
      "application/vnd.jupyter.widget-view+json": {
       "model_id": "ac28e72cda744fe3be4d48f0b4e8a5b9",
       "version_major": 2,
       "version_minor": 0
      },
      "text/plain": [
       "Training:   0%|          | 0/330 [00:00<?, ?it/s]"
      ]
     },
     "metadata": {},
     "output_type": "display_data"
    },
    {
     "data": {
      "application/vnd.jupyter.widget-view+json": {
       "model_id": "810354c2f53342f1b93e8aa2d6e72c32",
       "version_major": 2,
       "version_minor": 0
      },
      "text/plain": [
       "Validation:   0%|          | 0/180 [00:00<?, ?it/s]"
      ]
     },
     "metadata": {},
     "output_type": "display_data"
    },
    {
     "name": "stdout",
     "output_type": "stream",
     "text": [
      "val_losses 0.5336247890773747\n",
      "EarlyStopping counter: 3 out of 50\n"
     ]
    },
    {
     "data": {
      "application/vnd.jupyter.widget-view+json": {
       "model_id": "5fbe5fc69dda4113957e863650d798c6",
       "version_major": 2,
       "version_minor": 0
      },
      "text/plain": [
       "Training:   0%|          | 0/330 [00:00<?, ?it/s]"
      ]
     },
     "metadata": {},
     "output_type": "display_data"
    },
    {
     "data": {
      "application/vnd.jupyter.widget-view+json": {
       "model_id": "06bf79b15f964fd691e3c0934343d7f2",
       "version_major": 2,
       "version_minor": 0
      },
      "text/plain": [
       "Validation:   0%|          | 0/180 [00:00<?, ?it/s]"
      ]
     },
     "metadata": {},
     "output_type": "display_data"
    },
    {
     "name": "stdout",
     "output_type": "stream",
     "text": [
      "val_losses 0.5576712736652957\n",
      "EarlyStopping counter: 4 out of 50\n"
     ]
    },
    {
     "data": {
      "application/vnd.jupyter.widget-view+json": {
       "model_id": "cbee43280f3347ecb75223aa96baf0a0",
       "version_major": 2,
       "version_minor": 0
      },
      "text/plain": [
       "Training:   0%|          | 0/330 [00:00<?, ?it/s]"
      ]
     },
     "metadata": {},
     "output_type": "display_data"
    },
    {
     "data": {
      "application/vnd.jupyter.widget-view+json": {
       "model_id": "ce71eb575fc44ec9820d1fca17e596ca",
       "version_major": 2,
       "version_minor": 0
      },
      "text/plain": [
       "Validation:   0%|          | 0/180 [00:00<?, ?it/s]"
      ]
     },
     "metadata": {},
     "output_type": "display_data"
    },
    {
     "name": "stdout",
     "output_type": "stream",
     "text": [
      "val_losses 0.5893360336207681\n",
      "EarlyStopping counter: 5 out of 50\n"
     ]
    },
    {
     "data": {
      "application/vnd.jupyter.widget-view+json": {
       "model_id": "c8ad96d9b3974a34a9a83a7327872139",
       "version_major": 2,
       "version_minor": 0
      },
      "text/plain": [
       "Training:   0%|          | 0/330 [00:00<?, ?it/s]"
      ]
     },
     "metadata": {},
     "output_type": "display_data"
    },
    {
     "data": {
      "application/vnd.jupyter.widget-view+json": {
       "model_id": "842ef9a60ca04ad983eb8611a8c5e712",
       "version_major": 2,
       "version_minor": 0
      },
      "text/plain": [
       "Validation:   0%|          | 0/180 [00:00<?, ?it/s]"
      ]
     },
     "metadata": {},
     "output_type": "display_data"
    },
    {
     "name": "stdout",
     "output_type": "stream",
     "text": [
      "val_losses 0.6024072868128617\n",
      "EarlyStopping counter: 6 out of 50\n"
     ]
    },
    {
     "data": {
      "application/vnd.jupyter.widget-view+json": {
       "model_id": "e9db39fa2514474089a7de7d1388ee46",
       "version_major": 2,
       "version_minor": 0
      },
      "text/plain": [
       "Training:   0%|          | 0/330 [00:00<?, ?it/s]"
      ]
     },
     "metadata": {},
     "output_type": "display_data"
    },
    {
     "data": {
      "application/vnd.jupyter.widget-view+json": {
       "model_id": "fe46d40996f248bdb2704ba0c197d270",
       "version_major": 2,
       "version_minor": 0
      },
      "text/plain": [
       "Validation:   0%|          | 0/180 [00:00<?, ?it/s]"
      ]
     },
     "metadata": {},
     "output_type": "display_data"
    },
    {
     "name": "stdout",
     "output_type": "stream",
     "text": [
      "val_losses 0.6231737326416704\n",
      "EarlyStopping counter: 7 out of 50\n"
     ]
    },
    {
     "data": {
      "application/vnd.jupyter.widget-view+json": {
       "model_id": "5869491e6bd94fc78cc9a19629c2c40d",
       "version_major": 2,
       "version_minor": 0
      },
      "text/plain": [
       "Training:   0%|          | 0/330 [00:00<?, ?it/s]"
      ]
     },
     "metadata": {},
     "output_type": "display_data"
    },
    {
     "data": {
      "application/vnd.jupyter.widget-view+json": {
       "model_id": "e8b89bd326fe4148a781919d9d814162",
       "version_major": 2,
       "version_minor": 0
      },
      "text/plain": [
       "Validation:   0%|          | 0/180 [00:00<?, ?it/s]"
      ]
     },
     "metadata": {},
     "output_type": "display_data"
    },
    {
     "name": "stdout",
     "output_type": "stream",
     "text": [
      "val_losses 0.6298830380042394\n",
      "EarlyStopping counter: 8 out of 50\n"
     ]
    },
    {
     "data": {
      "application/vnd.jupyter.widget-view+json": {
       "model_id": "dad9bdd9894c492695eef3b04fe1ed76",
       "version_major": 2,
       "version_minor": 0
      },
      "text/plain": [
       "Training:   0%|          | 0/330 [00:00<?, ?it/s]"
      ]
     },
     "metadata": {},
     "output_type": "display_data"
    },
    {
     "data": {
      "application/vnd.jupyter.widget-view+json": {
       "model_id": "ba6448cf12b64fe8a8e0ac4b9968369b",
       "version_major": 2,
       "version_minor": 0
      },
      "text/plain": [
       "Validation:   0%|          | 0/180 [00:00<?, ?it/s]"
      ]
     },
     "metadata": {},
     "output_type": "display_data"
    },
    {
     "name": "stdout",
     "output_type": "stream",
     "text": [
      "val_losses 0.6295623755289449\n",
      "EarlyStopping counter: 9 out of 50\n"
     ]
    },
    {
     "data": {
      "application/vnd.jupyter.widget-view+json": {
       "model_id": "5e269f6352994b24a26fadbb3a1a19b0",
       "version_major": 2,
       "version_minor": 0
      },
      "text/plain": [
       "Training:   0%|          | 0/330 [00:00<?, ?it/s]"
      ]
     },
     "metadata": {},
     "output_type": "display_data"
    },
    {
     "data": {
      "application/vnd.jupyter.widget-view+json": {
       "model_id": "dc8f02d5b6154ed3a748aaf5a80696c7",
       "version_major": 2,
       "version_minor": 0
      },
      "text/plain": [
       "Validation:   0%|          | 0/180 [00:00<?, ?it/s]"
      ]
     },
     "metadata": {},
     "output_type": "display_data"
    },
    {
     "name": "stdout",
     "output_type": "stream",
     "text": [
      "val_losses 0.6135015521612432\n",
      "EarlyStopping counter: 10 out of 50\n"
     ]
    },
    {
     "data": {
      "application/vnd.jupyter.widget-view+json": {
       "model_id": "03f75f5f0d714639952ab9ca493e0828",
       "version_major": 2,
       "version_minor": 0
      },
      "text/plain": [
       "Training:   0%|          | 0/330 [00:00<?, ?it/s]"
      ]
     },
     "metadata": {},
     "output_type": "display_data"
    },
    {
     "data": {
      "application/vnd.jupyter.widget-view+json": {
       "model_id": "c7b4b9bae98e49f2bf19c7405799384a",
       "version_major": 2,
       "version_minor": 0
      },
      "text/plain": [
       "Validation:   0%|          | 0/180 [00:00<?, ?it/s]"
      ]
     },
     "metadata": {},
     "output_type": "display_data"
    },
    {
     "name": "stdout",
     "output_type": "stream",
     "text": [
      "val_losses 0.6199583102431562\n",
      "EarlyStopping counter: 11 out of 50\n"
     ]
    },
    {
     "data": {
      "application/vnd.jupyter.widget-view+json": {
       "model_id": "3cb0ef1d0a314880a8bf734cff67ffb3",
       "version_major": 2,
       "version_minor": 0
      },
      "text/plain": [
       "Training:   0%|          | 0/330 [00:00<?, ?it/s]"
      ]
     },
     "metadata": {},
     "output_type": "display_data"
    },
    {
     "data": {
      "application/vnd.jupyter.widget-view+json": {
       "model_id": "c1607568812441d38783e1c589b3eea2",
       "version_major": 2,
       "version_minor": 0
      },
      "text/plain": [
       "Validation:   0%|          | 0/180 [00:00<?, ?it/s]"
      ]
     },
     "metadata": {},
     "output_type": "display_data"
    },
    {
     "name": "stdout",
     "output_type": "stream",
     "text": [
      "val_losses 0.6262689135968685\n",
      "EarlyStopping counter: 12 out of 50\n"
     ]
    },
    {
     "data": {
      "application/vnd.jupyter.widget-view+json": {
       "model_id": "16990e84ebd0429f853043a3e606cda5",
       "version_major": 2,
       "version_minor": 0
      },
      "text/plain": [
       "Training:   0%|          | 0/330 [00:00<?, ?it/s]"
      ]
     },
     "metadata": {},
     "output_type": "display_data"
    },
    {
     "data": {
      "application/vnd.jupyter.widget-view+json": {
       "model_id": "de423962353d40d59ab41e6ccea132bf",
       "version_major": 2,
       "version_minor": 0
      },
      "text/plain": [
       "Validation:   0%|          | 0/180 [00:00<?, ?it/s]"
      ]
     },
     "metadata": {},
     "output_type": "display_data"
    },
    {
     "name": "stdout",
     "output_type": "stream",
     "text": [
      "val_losses 0.5991200789809227\n",
      "EarlyStopping counter: 13 out of 50\n"
     ]
    },
    {
     "data": {
      "application/vnd.jupyter.widget-view+json": {
       "model_id": "acd2fe734de54f2e8facb32210f27df4",
       "version_major": 2,
       "version_minor": 0
      },
      "text/plain": [
       "Training:   0%|          | 0/330 [00:00<?, ?it/s]"
      ]
     },
     "metadata": {},
     "output_type": "display_data"
    },
    {
     "data": {
      "application/vnd.jupyter.widget-view+json": {
       "model_id": "cbfe06e159164cd9accd1aae08a36f5a",
       "version_major": 2,
       "version_minor": 0
      },
      "text/plain": [
       "Validation:   0%|          | 0/180 [00:00<?, ?it/s]"
      ]
     },
     "metadata": {},
     "output_type": "display_data"
    },
    {
     "name": "stdout",
     "output_type": "stream",
     "text": [
      "val_losses 0.625278688636091\n",
      "EarlyStopping counter: 14 out of 50\n"
     ]
    },
    {
     "data": {
      "application/vnd.jupyter.widget-view+json": {
       "model_id": "5578bace60644695af26813af250ef48",
       "version_major": 2,
       "version_minor": 0
      },
      "text/plain": [
       "Training:   0%|          | 0/330 [00:00<?, ?it/s]"
      ]
     },
     "metadata": {},
     "output_type": "display_data"
    },
    {
     "data": {
      "application/vnd.jupyter.widget-view+json": {
       "model_id": "d9f8745dd7da4804a92204a2d5d0510d",
       "version_major": 2,
       "version_minor": 0
      },
      "text/plain": [
       "Validation:   0%|          | 0/180 [00:00<?, ?it/s]"
      ]
     },
     "metadata": {},
     "output_type": "display_data"
    },
    {
     "name": "stdout",
     "output_type": "stream",
     "text": [
      "val_losses 0.6120841218365564\n",
      "EarlyStopping counter: 15 out of 50\n"
     ]
    },
    {
     "data": {
      "application/vnd.jupyter.widget-view+json": {
       "model_id": "75744aff014a4d9ea8eb60fbac717ff6",
       "version_major": 2,
       "version_minor": 0
      },
      "text/plain": [
       "Training:   0%|          | 0/330 [00:00<?, ?it/s]"
      ]
     },
     "metadata": {},
     "output_type": "display_data"
    },
    {
     "data": {
      "application/vnd.jupyter.widget-view+json": {
       "model_id": "3d592dc0d52947038b6dbf364a95aeb1",
       "version_major": 2,
       "version_minor": 0
      },
      "text/plain": [
       "Validation:   0%|          | 0/180 [00:00<?, ?it/s]"
      ]
     },
     "metadata": {},
     "output_type": "display_data"
    },
    {
     "name": "stdout",
     "output_type": "stream",
     "text": [
      "val_losses 0.31408827130993205\n",
      "Validation loss decreased (0.328930 --> 0.314088).  Saving model ...\n"
     ]
    },
    {
     "data": {
      "application/vnd.jupyter.widget-view+json": {
       "model_id": "1821ce8deb8d4276af8e611c0e99f808",
       "version_major": 2,
       "version_minor": 0
      },
      "text/plain": [
       "Training:   0%|          | 0/330 [00:00<?, ?it/s]"
      ]
     },
     "metadata": {},
     "output_type": "display_data"
    },
    {
     "data": {
      "application/vnd.jupyter.widget-view+json": {
       "model_id": "a15ad4982c8746c7a2c0878e06a0633c",
       "version_major": 2,
       "version_minor": 0
      },
      "text/plain": [
       "Validation:   0%|          | 0/180 [00:00<?, ?it/s]"
      ]
     },
     "metadata": {},
     "output_type": "display_data"
    },
    {
     "name": "stdout",
     "output_type": "stream",
     "text": [
      "val_losses 0.3254255770809121\n",
      "EarlyStopping counter: 1 out of 50\n"
     ]
    },
    {
     "data": {
      "application/vnd.jupyter.widget-view+json": {
       "model_id": "ffe5b19101f94c2ea8992704dfe34993",
       "version_major": 2,
       "version_minor": 0
      },
      "text/plain": [
       "Training:   0%|          | 0/330 [00:00<?, ?it/s]"
      ]
     },
     "metadata": {},
     "output_type": "display_data"
    },
    {
     "data": {
      "application/vnd.jupyter.widget-view+json": {
       "model_id": "557ffe0c14f14bd19989806a6eb1399d",
       "version_major": 2,
       "version_minor": 0
      },
      "text/plain": [
       "Validation:   0%|          | 0/180 [00:00<?, ?it/s]"
      ]
     },
     "metadata": {},
     "output_type": "display_data"
    },
    {
     "name": "stdout",
     "output_type": "stream",
     "text": [
      "val_losses 0.37294612353046735\n",
      "EarlyStopping counter: 2 out of 50\n"
     ]
    },
    {
     "data": {
      "application/vnd.jupyter.widget-view+json": {
       "model_id": "699c1994639f4ef685be683203941b37",
       "version_major": 2,
       "version_minor": 0
      },
      "text/plain": [
       "Training:   0%|          | 0/330 [00:00<?, ?it/s]"
      ]
     },
     "metadata": {},
     "output_type": "display_data"
    },
    {
     "data": {
      "application/vnd.jupyter.widget-view+json": {
       "model_id": "5ea8199308e646a2841caf3cd547c4ea",
       "version_major": 2,
       "version_minor": 0
      },
      "text/plain": [
       "Validation:   0%|          | 0/180 [00:00<?, ?it/s]"
      ]
     },
     "metadata": {},
     "output_type": "display_data"
    },
    {
     "name": "stdout",
     "output_type": "stream",
     "text": [
      "val_losses 0.4255151072103116\n",
      "EarlyStopping counter: 3 out of 50\n"
     ]
    },
    {
     "data": {
      "application/vnd.jupyter.widget-view+json": {
       "model_id": "6381529fd771455d930dbba816729e27",
       "version_major": 2,
       "version_minor": 0
      },
      "text/plain": [
       "Training:   0%|          | 0/330 [00:00<?, ?it/s]"
      ]
     },
     "metadata": {},
     "output_type": "display_data"
    },
    {
     "data": {
      "application/vnd.jupyter.widget-view+json": {
       "model_id": "61e75ecb88de4e03bf989a3f6a526fce",
       "version_major": 2,
       "version_minor": 0
      },
      "text/plain": [
       "Validation:   0%|          | 0/180 [00:00<?, ?it/s]"
      ]
     },
     "metadata": {},
     "output_type": "display_data"
    },
    {
     "name": "stdout",
     "output_type": "stream",
     "text": [
      "val_losses 0.4536812157680591\n",
      "EarlyStopping counter: 4 out of 50\n"
     ]
    },
    {
     "data": {
      "application/vnd.jupyter.widget-view+json": {
       "model_id": "7503359302004cac8016b0966ddb22d5",
       "version_major": 2,
       "version_minor": 0
      },
      "text/plain": [
       "Training:   0%|          | 0/330 [00:00<?, ?it/s]"
      ]
     },
     "metadata": {},
     "output_type": "display_data"
    },
    {
     "data": {
      "application/vnd.jupyter.widget-view+json": {
       "model_id": "d3d05a4cfb8d4b11912f9398394e988a",
       "version_major": 2,
       "version_minor": 0
      },
      "text/plain": [
       "Validation:   0%|          | 0/180 [00:00<?, ?it/s]"
      ]
     },
     "metadata": {},
     "output_type": "display_data"
    },
    {
     "name": "stdout",
     "output_type": "stream",
     "text": [
      "val_losses 0.49665273071991073\n",
      "EarlyStopping counter: 5 out of 50\n"
     ]
    },
    {
     "data": {
      "application/vnd.jupyter.widget-view+json": {
       "model_id": "9820be9d38934ad79c3c6a419657e5be",
       "version_major": 2,
       "version_minor": 0
      },
      "text/plain": [
       "Training:   0%|          | 0/330 [00:00<?, ?it/s]"
      ]
     },
     "metadata": {},
     "output_type": "display_data"
    },
    {
     "data": {
      "application/vnd.jupyter.widget-view+json": {
       "model_id": "8346da627dd74877ae962a7192d9e3b2",
       "version_major": 2,
       "version_minor": 0
      },
      "text/plain": [
       "Validation:   0%|          | 0/180 [00:00<?, ?it/s]"
      ]
     },
     "metadata": {},
     "output_type": "display_data"
    },
    {
     "name": "stdout",
     "output_type": "stream",
     "text": [
      "val_losses 0.4969445885055595\n",
      "EarlyStopping counter: 6 out of 50\n"
     ]
    },
    {
     "data": {
      "application/vnd.jupyter.widget-view+json": {
       "model_id": "21c6e1cdced24d948e62af44499652ba",
       "version_major": 2,
       "version_minor": 0
      },
      "text/plain": [
       "Training:   0%|          | 0/330 [00:00<?, ?it/s]"
      ]
     },
     "metadata": {},
     "output_type": "display_data"
    },
    {
     "data": {
      "application/vnd.jupyter.widget-view+json": {
       "model_id": "6ce6f69118bc476193feedd7f76eba49",
       "version_major": 2,
       "version_minor": 0
      },
      "text/plain": [
       "Validation:   0%|          | 0/180 [00:00<?, ?it/s]"
      ]
     },
     "metadata": {},
     "output_type": "display_data"
    },
    {
     "name": "stdout",
     "output_type": "stream",
     "text": [
      "val_losses 0.5177749690496259\n",
      "EarlyStopping counter: 7 out of 50\n"
     ]
    },
    {
     "data": {
      "application/vnd.jupyter.widget-view+json": {
       "model_id": "4daddfbb297c4b5bae3da3c33778c26c",
       "version_major": 2,
       "version_minor": 0
      },
      "text/plain": [
       "Training:   0%|          | 0/330 [00:00<?, ?it/s]"
      ]
     },
     "metadata": {},
     "output_type": "display_data"
    },
    {
     "data": {
      "application/vnd.jupyter.widget-view+json": {
       "model_id": "0a26bac9be964ea3ade8b7c814f5f9ee",
       "version_major": 2,
       "version_minor": 0
      },
      "text/plain": [
       "Validation:   0%|          | 0/180 [00:00<?, ?it/s]"
      ]
     },
     "metadata": {},
     "output_type": "display_data"
    },
    {
     "name": "stdout",
     "output_type": "stream",
     "text": [
      "val_losses 0.5326644446700811\n",
      "EarlyStopping counter: 8 out of 50\n"
     ]
    },
    {
     "data": {
      "application/vnd.jupyter.widget-view+json": {
       "model_id": "0ea03b98b724497490cf455aacae0289",
       "version_major": 2,
       "version_minor": 0
      },
      "text/plain": [
       "Training:   0%|          | 0/330 [00:00<?, ?it/s]"
      ]
     },
     "metadata": {},
     "output_type": "display_data"
    },
    {
     "data": {
      "application/vnd.jupyter.widget-view+json": {
       "model_id": "0160cc6325bd4efa9db8954a4bb331d6",
       "version_major": 2,
       "version_minor": 0
      },
      "text/plain": [
       "Validation:   0%|          | 0/180 [00:00<?, ?it/s]"
      ]
     },
     "metadata": {},
     "output_type": "display_data"
    },
    {
     "name": "stdout",
     "output_type": "stream",
     "text": [
      "val_losses 0.5650686907685465\n",
      "EarlyStopping counter: 9 out of 50\n"
     ]
    },
    {
     "data": {
      "application/vnd.jupyter.widget-view+json": {
       "model_id": "fb0db7bb4393427fb4baf74a47bc20b2",
       "version_major": 2,
       "version_minor": 0
      },
      "text/plain": [
       "Training:   0%|          | 0/330 [00:00<?, ?it/s]"
      ]
     },
     "metadata": {},
     "output_type": "display_data"
    },
    {
     "data": {
      "application/vnd.jupyter.widget-view+json": {
       "model_id": "38b998c0666f4f448ddd1ca56a8a78de",
       "version_major": 2,
       "version_minor": 0
      },
      "text/plain": [
       "Validation:   0%|          | 0/180 [00:00<?, ?it/s]"
      ]
     },
     "metadata": {},
     "output_type": "display_data"
    },
    {
     "name": "stdout",
     "output_type": "stream",
     "text": [
      "val_losses 0.5569613325513072\n",
      "EarlyStopping counter: 10 out of 50\n"
     ]
    },
    {
     "data": {
      "application/vnd.jupyter.widget-view+json": {
       "model_id": "f99f650ecc91473bae2ec18d0f96eecb",
       "version_major": 2,
       "version_minor": 0
      },
      "text/plain": [
       "Training:   0%|          | 0/330 [00:00<?, ?it/s]"
      ]
     },
     "metadata": {},
     "output_type": "display_data"
    },
    {
     "data": {
      "application/vnd.jupyter.widget-view+json": {
       "model_id": "5faa47300f394594b4f18daa7a67af49",
       "version_major": 2,
       "version_minor": 0
      },
      "text/plain": [
       "Validation:   0%|          | 0/180 [00:00<?, ?it/s]"
      ]
     },
     "metadata": {},
     "output_type": "display_data"
    },
    {
     "name": "stdout",
     "output_type": "stream",
     "text": [
      "val_losses 0.539865178656247\n",
      "EarlyStopping counter: 11 out of 50\n"
     ]
    },
    {
     "data": {
      "application/vnd.jupyter.widget-view+json": {
       "model_id": "09836a94443d4f49a894126ad3cf03ef",
       "version_major": 2,
       "version_minor": 0
      },
      "text/plain": [
       "Training:   0%|          | 0/330 [00:00<?, ?it/s]"
      ]
     },
     "metadata": {},
     "output_type": "display_data"
    },
    {
     "data": {
      "application/vnd.jupyter.widget-view+json": {
       "model_id": "b28d4e921fac47458c163d718a0df4b9",
       "version_major": 2,
       "version_minor": 0
      },
      "text/plain": [
       "Validation:   0%|          | 0/180 [00:00<?, ?it/s]"
      ]
     },
     "metadata": {},
     "output_type": "display_data"
    },
    {
     "name": "stdout",
     "output_type": "stream",
     "text": [
      "val_losses 0.5593986857268546\n",
      "EarlyStopping counter: 12 out of 50\n"
     ]
    },
    {
     "data": {
      "application/vnd.jupyter.widget-view+json": {
       "model_id": "e9a1d334e8b346a289a8bbb7a57c8472",
       "version_major": 2,
       "version_minor": 0
      },
      "text/plain": [
       "Training:   0%|          | 0/330 [00:00<?, ?it/s]"
      ]
     },
     "metadata": {},
     "output_type": "display_data"
    },
    {
     "data": {
      "application/vnd.jupyter.widget-view+json": {
       "model_id": "5e5addb4d0814774b42f8e5e0556f26c",
       "version_major": 2,
       "version_minor": 0
      },
      "text/plain": [
       "Validation:   0%|          | 0/180 [00:00<?, ?it/s]"
      ]
     },
     "metadata": {},
     "output_type": "display_data"
    },
    {
     "name": "stdout",
     "output_type": "stream",
     "text": [
      "val_losses 0.5688662364665005\n",
      "EarlyStopping counter: 13 out of 50\n"
     ]
    },
    {
     "data": {
      "application/vnd.jupyter.widget-view+json": {
       "model_id": "64dceb1560734f078e99f4581fb1d270",
       "version_major": 2,
       "version_minor": 0
      },
      "text/plain": [
       "Training:   0%|          | 0/330 [00:00<?, ?it/s]"
      ]
     },
     "metadata": {},
     "output_type": "display_data"
    },
    {
     "data": {
      "application/vnd.jupyter.widget-view+json": {
       "model_id": "4b579dcd896a4f0d8e86c41e7ab3b348",
       "version_major": 2,
       "version_minor": 0
      },
      "text/plain": [
       "Validation:   0%|          | 0/180 [00:00<?, ?it/s]"
      ]
     },
     "metadata": {},
     "output_type": "display_data"
    },
    {
     "name": "stdout",
     "output_type": "stream",
     "text": [
      "val_losses 0.5575211921913756\n",
      "EarlyStopping counter: 14 out of 50\n"
     ]
    },
    {
     "data": {
      "application/vnd.jupyter.widget-view+json": {
       "model_id": "b03ec8510b93410c8497c887a1b03dd2",
       "version_major": 2,
       "version_minor": 0
      },
      "text/plain": [
       "Training:   0%|          | 0/330 [00:00<?, ?it/s]"
      ]
     },
     "metadata": {},
     "output_type": "display_data"
    },
    {
     "data": {
      "application/vnd.jupyter.widget-view+json": {
       "model_id": "97f59fff949345f4ab4d853567c02840",
       "version_major": 2,
       "version_minor": 0
      },
      "text/plain": [
       "Validation:   0%|          | 0/180 [00:00<?, ?it/s]"
      ]
     },
     "metadata": {},
     "output_type": "display_data"
    },
    {
     "name": "stdout",
     "output_type": "stream",
     "text": [
      "val_losses 0.2852454833686352\n",
      "Validation loss decreased (0.314088 --> 0.285245).  Saving model ...\n"
     ]
    },
    {
     "data": {
      "application/vnd.jupyter.widget-view+json": {
       "model_id": "5123b3588e2e4b989a8ed81eb4dc6cc7",
       "version_major": 2,
       "version_minor": 0
      },
      "text/plain": [
       "Training:   0%|          | 0/330 [00:00<?, ?it/s]"
      ]
     },
     "metadata": {},
     "output_type": "display_data"
    },
    {
     "data": {
      "application/vnd.jupyter.widget-view+json": {
       "model_id": "4047bcc166dd47ab8aa4e549f1f92a81",
       "version_major": 2,
       "version_minor": 0
      },
      "text/plain": [
       "Validation:   0%|          | 0/180 [00:00<?, ?it/s]"
      ]
     },
     "metadata": {},
     "output_type": "display_data"
    },
    {
     "name": "stdout",
     "output_type": "stream",
     "text": [
      "val_losses 0.36077875366641415\n",
      "EarlyStopping counter: 1 out of 50\n"
     ]
    },
    {
     "data": {
      "application/vnd.jupyter.widget-view+json": {
       "model_id": "04f3a3956f99430da35a4c4d0b60d3dd",
       "version_major": 2,
       "version_minor": 0
      },
      "text/plain": [
       "Training:   0%|          | 0/330 [00:00<?, ?it/s]"
      ]
     },
     "metadata": {},
     "output_type": "display_data"
    },
    {
     "data": {
      "application/vnd.jupyter.widget-view+json": {
       "model_id": "64f41a6a2c5a4331b36830fa0664477c",
       "version_major": 2,
       "version_minor": 0
      },
      "text/plain": [
       "Validation:   0%|          | 0/180 [00:00<?, ?it/s]"
      ]
     },
     "metadata": {},
     "output_type": "display_data"
    },
    {
     "name": "stdout",
     "output_type": "stream",
     "text": [
      "val_losses 0.40081557443158494\n",
      "EarlyStopping counter: 2 out of 50\n"
     ]
    },
    {
     "data": {
      "application/vnd.jupyter.widget-view+json": {
       "model_id": "fe23167cb6ad4d3690009866658879c9",
       "version_major": 2,
       "version_minor": 0
      },
      "text/plain": [
       "Training:   0%|          | 0/330 [00:00<?, ?it/s]"
      ]
     },
     "metadata": {},
     "output_type": "display_data"
    },
    {
     "data": {
      "application/vnd.jupyter.widget-view+json": {
       "model_id": "8e916dadd5a84da9aefb79b1ef6d4f96",
       "version_major": 2,
       "version_minor": 0
      },
      "text/plain": [
       "Validation:   0%|          | 0/180 [00:00<?, ?it/s]"
      ]
     },
     "metadata": {},
     "output_type": "display_data"
    },
    {
     "name": "stdout",
     "output_type": "stream",
     "text": [
      "val_losses 0.439280523525344\n",
      "EarlyStopping counter: 3 out of 50\n"
     ]
    },
    {
     "data": {
      "application/vnd.jupyter.widget-view+json": {
       "model_id": "171ff1a9b1364e62809dd24b724175d0",
       "version_major": 2,
       "version_minor": 0
      },
      "text/plain": [
       "Training:   0%|          | 0/330 [00:00<?, ?it/s]"
      ]
     },
     "metadata": {},
     "output_type": "display_data"
    },
    {
     "data": {
      "application/vnd.jupyter.widget-view+json": {
       "model_id": "45e01142c927449e99cedc02a4d50135",
       "version_major": 2,
       "version_minor": 0
      },
      "text/plain": [
       "Validation:   0%|          | 0/180 [00:00<?, ?it/s]"
      ]
     },
     "metadata": {},
     "output_type": "display_data"
    },
    {
     "name": "stdout",
     "output_type": "stream",
     "text": [
      "val_losses 0.46066336155765586\n",
      "EarlyStopping counter: 4 out of 50\n"
     ]
    },
    {
     "data": {
      "application/vnd.jupyter.widget-view+json": {
       "model_id": "e18e6dce7dfc463a8ec7a5e5aa442562",
       "version_major": 2,
       "version_minor": 0
      },
      "text/plain": [
       "Training:   0%|          | 0/330 [00:00<?, ?it/s]"
      ]
     },
     "metadata": {},
     "output_type": "display_data"
    },
    {
     "data": {
      "application/vnd.jupyter.widget-view+json": {
       "model_id": "58544c66bf9e43058fa472935a2d9ec8",
       "version_major": 2,
       "version_minor": 0
      },
      "text/plain": [
       "Validation:   0%|          | 0/180 [00:00<?, ?it/s]"
      ]
     },
     "metadata": {},
     "output_type": "display_data"
    },
    {
     "name": "stdout",
     "output_type": "stream",
     "text": [
      "val_losses 0.4794496341711945\n",
      "EarlyStopping counter: 5 out of 50\n"
     ]
    },
    {
     "data": {
      "application/vnd.jupyter.widget-view+json": {
       "model_id": "c2105371e77840efa7eedfbe296666b7",
       "version_major": 2,
       "version_minor": 0
      },
      "text/plain": [
       "Training:   0%|          | 0/330 [00:00<?, ?it/s]"
      ]
     },
     "metadata": {},
     "output_type": "display_data"
    },
    {
     "data": {
      "application/vnd.jupyter.widget-view+json": {
       "model_id": "01f1a9f8f32644c2bc3933c69a67232b",
       "version_major": 2,
       "version_minor": 0
      },
      "text/plain": [
       "Validation:   0%|          | 0/180 [00:00<?, ?it/s]"
      ]
     },
     "metadata": {},
     "output_type": "display_data"
    },
    {
     "name": "stdout",
     "output_type": "stream",
     "text": [
      "val_losses 0.4986163879848189\n",
      "EarlyStopping counter: 6 out of 50\n"
     ]
    },
    {
     "data": {
      "application/vnd.jupyter.widget-view+json": {
       "model_id": "55c608520a03474181c84daf397fb900",
       "version_major": 2,
       "version_minor": 0
      },
      "text/plain": [
       "Training:   0%|          | 0/330 [00:00<?, ?it/s]"
      ]
     },
     "metadata": {},
     "output_type": "display_data"
    },
    {
     "data": {
      "application/vnd.jupyter.widget-view+json": {
       "model_id": "33643fa8b6cd49489ac14eb5aed3b6f0",
       "version_major": 2,
       "version_minor": 0
      },
      "text/plain": [
       "Validation:   0%|          | 0/180 [00:00<?, ?it/s]"
      ]
     },
     "metadata": {},
     "output_type": "display_data"
    },
    {
     "name": "stdout",
     "output_type": "stream",
     "text": [
      "val_losses 0.523984400762452\n",
      "EarlyStopping counter: 7 out of 50\n"
     ]
    },
    {
     "data": {
      "application/vnd.jupyter.widget-view+json": {
       "model_id": "5e9d51da3b074224a4da9bfd57927d82",
       "version_major": 2,
       "version_minor": 0
      },
      "text/plain": [
       "Training:   0%|          | 0/330 [00:00<?, ?it/s]"
      ]
     },
     "metadata": {},
     "output_type": "display_data"
    },
    {
     "data": {
      "application/vnd.jupyter.widget-view+json": {
       "model_id": "325c77aab3ca4d728306d389294be603",
       "version_major": 2,
       "version_minor": 0
      },
      "text/plain": [
       "Validation:   0%|          | 0/180 [00:00<?, ?it/s]"
      ]
     },
     "metadata": {},
     "output_type": "display_data"
    },
    {
     "name": "stdout",
     "output_type": "stream",
     "text": [
      "val_losses 0.5061664349089067\n",
      "EarlyStopping counter: 8 out of 50\n"
     ]
    },
    {
     "data": {
      "application/vnd.jupyter.widget-view+json": {
       "model_id": "0398b0616e6747cabaebae6e04287e24",
       "version_major": 2,
       "version_minor": 0
      },
      "text/plain": [
       "Training:   0%|          | 0/330 [00:00<?, ?it/s]"
      ]
     },
     "metadata": {},
     "output_type": "display_data"
    },
    {
     "data": {
      "application/vnd.jupyter.widget-view+json": {
       "model_id": "891ac656ba8d4f6a8381bc63f911a2e0",
       "version_major": 2,
       "version_minor": 0
      },
      "text/plain": [
       "Validation:   0%|          | 0/180 [00:00<?, ?it/s]"
      ]
     },
     "metadata": {},
     "output_type": "display_data"
    },
    {
     "name": "stdout",
     "output_type": "stream",
     "text": [
      "val_losses 0.5092703157001072\n",
      "EarlyStopping counter: 9 out of 50\n"
     ]
    },
    {
     "data": {
      "application/vnd.jupyter.widget-view+json": {
       "model_id": "98faeea400e24e009820f469f1d890c9",
       "version_major": 2,
       "version_minor": 0
      },
      "text/plain": [
       "Training:   0%|          | 0/330 [00:00<?, ?it/s]"
      ]
     },
     "metadata": {},
     "output_type": "display_data"
    },
    {
     "data": {
      "application/vnd.jupyter.widget-view+json": {
       "model_id": "d417c4cb9fbd4bf897a4f844fa963fad",
       "version_major": 2,
       "version_minor": 0
      },
      "text/plain": [
       "Validation:   0%|          | 0/180 [00:00<?, ?it/s]"
      ]
     },
     "metadata": {},
     "output_type": "display_data"
    },
    {
     "name": "stdout",
     "output_type": "stream",
     "text": [
      "val_losses 0.5357629201064508\n",
      "EarlyStopping counter: 10 out of 50\n"
     ]
    },
    {
     "data": {
      "application/vnd.jupyter.widget-view+json": {
       "model_id": "643592c8f8b0404c99f7d6f928a9dace",
       "version_major": 2,
       "version_minor": 0
      },
      "text/plain": [
       "Training:   0%|          | 0/330 [00:00<?, ?it/s]"
      ]
     },
     "metadata": {},
     "output_type": "display_data"
    },
    {
     "data": {
      "application/vnd.jupyter.widget-view+json": {
       "model_id": "6c10fee4c567469f80541ef448918702",
       "version_major": 2,
       "version_minor": 0
      },
      "text/plain": [
       "Validation:   0%|          | 0/180 [00:00<?, ?it/s]"
      ]
     },
     "metadata": {},
     "output_type": "display_data"
    },
    {
     "name": "stdout",
     "output_type": "stream",
     "text": [
      "val_losses 0.5244614287796948\n",
      "EarlyStopping counter: 11 out of 50\n"
     ]
    },
    {
     "data": {
      "application/vnd.jupyter.widget-view+json": {
       "model_id": "b86c5c39f6714203a33b5cdcdf65d42c",
       "version_major": 2,
       "version_minor": 0
      },
      "text/plain": [
       "Training:   0%|          | 0/330 [00:00<?, ?it/s]"
      ]
     },
     "metadata": {},
     "output_type": "display_data"
    },
    {
     "data": {
      "application/vnd.jupyter.widget-view+json": {
       "model_id": "eea0446bb5124526aaf2f57e52d6f5f5",
       "version_major": 2,
       "version_minor": 0
      },
      "text/plain": [
       "Validation:   0%|          | 0/180 [00:00<?, ?it/s]"
      ]
     },
     "metadata": {},
     "output_type": "display_data"
    },
    {
     "name": "stdout",
     "output_type": "stream",
     "text": [
      "val_losses 0.5465603086269564\n",
      "EarlyStopping counter: 12 out of 50\n"
     ]
    },
    {
     "data": {
      "application/vnd.jupyter.widget-view+json": {
       "model_id": "1f7de05864ca460199a657a3ede4f999",
       "version_major": 2,
       "version_minor": 0
      },
      "text/plain": [
       "Training:   0%|          | 0/330 [00:00<?, ?it/s]"
      ]
     },
     "metadata": {},
     "output_type": "display_data"
    },
    {
     "data": {
      "application/vnd.jupyter.widget-view+json": {
       "model_id": "62cd0586172742dd9d2d77ea7e2b4781",
       "version_major": 2,
       "version_minor": 0
      },
      "text/plain": [
       "Validation:   0%|          | 0/180 [00:00<?, ?it/s]"
      ]
     },
     "metadata": {},
     "output_type": "display_data"
    },
    {
     "name": "stdout",
     "output_type": "stream",
     "text": [
      "val_losses 0.5354901004582644\n",
      "EarlyStopping counter: 13 out of 50\n"
     ]
    },
    {
     "data": {
      "application/vnd.jupyter.widget-view+json": {
       "model_id": "c98eaadd4cb6453dad46b111f362d167",
       "version_major": 2,
       "version_minor": 0
      },
      "text/plain": [
       "Training:   0%|          | 0/330 [00:00<?, ?it/s]"
      ]
     },
     "metadata": {},
     "output_type": "display_data"
    },
    {
     "data": {
      "application/vnd.jupyter.widget-view+json": {
       "model_id": "0e25530ccdd942ada101a624a898bc69",
       "version_major": 2,
       "version_minor": 0
      },
      "text/plain": [
       "Validation:   0%|          | 0/180 [00:00<?, ?it/s]"
      ]
     },
     "metadata": {},
     "output_type": "display_data"
    },
    {
     "name": "stdout",
     "output_type": "stream",
     "text": [
      "val_losses 0.5078932224876351\n",
      "EarlyStopping counter: 14 out of 50\n"
     ]
    },
    {
     "data": {
      "application/vnd.jupyter.widget-view+json": {
       "model_id": "b54361f8ca544a839880711e153741d4",
       "version_major": 2,
       "version_minor": 0
      },
      "text/plain": [
       "Training:   0%|          | 0/330 [00:00<?, ?it/s]"
      ]
     },
     "metadata": {},
     "output_type": "display_data"
    },
    {
     "data": {
      "application/vnd.jupyter.widget-view+json": {
       "model_id": "1bfd6acd94b248da9b9c7517808449c1",
       "version_major": 2,
       "version_minor": 0
      },
      "text/plain": [
       "Validation:   0%|          | 0/180 [00:00<?, ?it/s]"
      ]
     },
     "metadata": {},
     "output_type": "display_data"
    },
    {
     "name": "stdout",
     "output_type": "stream",
     "text": [
      "val_losses 0.5164235461089346\n",
      "EarlyStopping counter: 15 out of 50\n"
     ]
    },
    {
     "data": {
      "application/vnd.jupyter.widget-view+json": {
       "model_id": "531e9448108b4494a405c8b4c0cfcfbc",
       "version_major": 2,
       "version_minor": 0
      },
      "text/plain": [
       "Training:   0%|          | 0/330 [00:00<?, ?it/s]"
      ]
     },
     "metadata": {},
     "output_type": "display_data"
    },
    {
     "data": {
      "application/vnd.jupyter.widget-view+json": {
       "model_id": "90037c723bc04fec9b41b3d044454d17",
       "version_major": 2,
       "version_minor": 0
      },
      "text/plain": [
       "Validation:   0%|          | 0/180 [00:00<?, ?it/s]"
      ]
     },
     "metadata": {},
     "output_type": "display_data"
    },
    {
     "name": "stdout",
     "output_type": "stream",
     "text": [
      "val_losses 0.5282896160251564\n",
      "EarlyStopping counter: 16 out of 50\n"
     ]
    },
    {
     "data": {
      "application/vnd.jupyter.widget-view+json": {
       "model_id": "dfe2e87a6dd24a6aa154dee25387e831",
       "version_major": 2,
       "version_minor": 0
      },
      "text/plain": [
       "Training:   0%|          | 0/330 [00:00<?, ?it/s]"
      ]
     },
     "metadata": {},
     "output_type": "display_data"
    },
    {
     "data": {
      "application/vnd.jupyter.widget-view+json": {
       "model_id": "bc47b516222e4535ba7361b6e4547f64",
       "version_major": 2,
       "version_minor": 0
      },
      "text/plain": [
       "Validation:   0%|          | 0/180 [00:00<?, ?it/s]"
      ]
     },
     "metadata": {},
     "output_type": "display_data"
    },
    {
     "name": "stdout",
     "output_type": "stream",
     "text": [
      "val_losses 0.5431753558417162\n",
      "EarlyStopping counter: 17 out of 50\n"
     ]
    },
    {
     "data": {
      "application/vnd.jupyter.widget-view+json": {
       "model_id": "aeefb17d8cd944a79cba8d770ca17c02",
       "version_major": 2,
       "version_minor": 0
      },
      "text/plain": [
       "Training:   0%|          | 0/330 [00:00<?, ?it/s]"
      ]
     },
     "metadata": {},
     "output_type": "display_data"
    },
    {
     "data": {
      "application/vnd.jupyter.widget-view+json": {
       "model_id": "7e118683b6444c028ff12bcf9b6659ec",
       "version_major": 2,
       "version_minor": 0
      },
      "text/plain": [
       "Validation:   0%|          | 0/180 [00:00<?, ?it/s]"
      ]
     },
     "metadata": {},
     "output_type": "display_data"
    },
    {
     "name": "stdout",
     "output_type": "stream",
     "text": [
      "val_losses 0.48193962106274235\n",
      "EarlyStopping counter: 18 out of 50\n"
     ]
    },
    {
     "data": {
      "application/vnd.jupyter.widget-view+json": {
       "model_id": "3d655e2461db4241821de8b634a7912a",
       "version_major": 2,
       "version_minor": 0
      },
      "text/plain": [
       "Training:   0%|          | 0/330 [00:00<?, ?it/s]"
      ]
     },
     "metadata": {},
     "output_type": "display_data"
    },
    {
     "data": {
      "application/vnd.jupyter.widget-view+json": {
       "model_id": "93da81c44d164b89b814d04e798f74c5",
       "version_major": 2,
       "version_minor": 0
      },
      "text/plain": [
       "Validation:   0%|          | 0/180 [00:00<?, ?it/s]"
      ]
     },
     "metadata": {},
     "output_type": "display_data"
    },
    {
     "name": "stdout",
     "output_type": "stream",
     "text": [
      "val_losses 0.5218689728942182\n",
      "EarlyStopping counter: 19 out of 50\n"
     ]
    },
    {
     "data": {
      "application/vnd.jupyter.widget-view+json": {
       "model_id": "b2f6a4607604484798e60dc28e665ec2",
       "version_major": 2,
       "version_minor": 0
      },
      "text/plain": [
       "Training:   0%|          | 0/330 [00:00<?, ?it/s]"
      ]
     },
     "metadata": {},
     "output_type": "display_data"
    },
    {
     "data": {
      "application/vnd.jupyter.widget-view+json": {
       "model_id": "3150a17d73c544bbbc01692038485628",
       "version_major": 2,
       "version_minor": 0
      },
      "text/plain": [
       "Validation:   0%|          | 0/180 [00:00<?, ?it/s]"
      ]
     },
     "metadata": {},
     "output_type": "display_data"
    },
    {
     "name": "stdout",
     "output_type": "stream",
     "text": [
      "val_losses 0.524101834744215\n",
      "EarlyStopping counter: 20 out of 50\n"
     ]
    },
    {
     "data": {
      "application/vnd.jupyter.widget-view+json": {
       "model_id": "49733dbaac6c474aaf2caa9ec0c3eacc",
       "version_major": 2,
       "version_minor": 0
      },
      "text/plain": [
       "Training:   0%|          | 0/330 [00:00<?, ?it/s]"
      ]
     },
     "metadata": {},
     "output_type": "display_data"
    },
    {
     "data": {
      "application/vnd.jupyter.widget-view+json": {
       "model_id": "559bd6e59a2647659f45ea9aaf1bf0e0",
       "version_major": 2,
       "version_minor": 0
      },
      "text/plain": [
       "Validation:   0%|          | 0/180 [00:00<?, ?it/s]"
      ]
     },
     "metadata": {},
     "output_type": "display_data"
    },
    {
     "name": "stdout",
     "output_type": "stream",
     "text": [
      "val_losses 0.33232118390086623\n",
      "EarlyStopping counter: 21 out of 50\n"
     ]
    },
    {
     "data": {
      "application/vnd.jupyter.widget-view+json": {
       "model_id": "061bcf1911a84bc8a2e8e27ec8b924c2",
       "version_major": 2,
       "version_minor": 0
      },
      "text/plain": [
       "Training:   0%|          | 0/330 [00:00<?, ?it/s]"
      ]
     },
     "metadata": {},
     "output_type": "display_data"
    },
    {
     "data": {
      "application/vnd.jupyter.widget-view+json": {
       "model_id": "24785bacb349415c8ce37311440560ef",
       "version_major": 2,
       "version_minor": 0
      },
      "text/plain": [
       "Validation:   0%|          | 0/180 [00:00<?, ?it/s]"
      ]
     },
     "metadata": {},
     "output_type": "display_data"
    },
    {
     "name": "stdout",
     "output_type": "stream",
     "text": [
      "val_losses 0.37570488463259405\n",
      "EarlyStopping counter: 22 out of 50\n"
     ]
    },
    {
     "data": {
      "application/vnd.jupyter.widget-view+json": {
       "model_id": "5f7b77b60635437b83ccb9b58be8e1a3",
       "version_major": 2,
       "version_minor": 0
      },
      "text/plain": [
       "Training:   0%|          | 0/330 [00:00<?, ?it/s]"
      ]
     },
     "metadata": {},
     "output_type": "display_data"
    },
    {
     "data": {
      "application/vnd.jupyter.widget-view+json": {
       "model_id": "9057986274024b08a676da451ac962e3",
       "version_major": 2,
       "version_minor": 0
      },
      "text/plain": [
       "Validation:   0%|          | 0/180 [00:00<?, ?it/s]"
      ]
     },
     "metadata": {},
     "output_type": "display_data"
    },
    {
     "name": "stdout",
     "output_type": "stream",
     "text": [
      "val_losses 0.402025569582151\n",
      "EarlyStopping counter: 23 out of 50\n"
     ]
    },
    {
     "data": {
      "application/vnd.jupyter.widget-view+json": {
       "model_id": "b1e428b0d1814554bc377e0d0cc07954",
       "version_major": 2,
       "version_minor": 0
      },
      "text/plain": [
       "Training:   0%|          | 0/330 [00:00<?, ?it/s]"
      ]
     },
     "metadata": {},
     "output_type": "display_data"
    },
    {
     "data": {
      "application/vnd.jupyter.widget-view+json": {
       "model_id": "d5d9ed23c38c464fac226fb2592d551a",
       "version_major": 2,
       "version_minor": 0
      },
      "text/plain": [
       "Validation:   0%|          | 0/180 [00:00<?, ?it/s]"
      ]
     },
     "metadata": {},
     "output_type": "display_data"
    },
    {
     "name": "stdout",
     "output_type": "stream",
     "text": [
      "val_losses 0.4286672047856781\n",
      "EarlyStopping counter: 24 out of 50\n"
     ]
    },
    {
     "data": {
      "application/vnd.jupyter.widget-view+json": {
       "model_id": "c72071e804de4ba29fea07a31e460596",
       "version_major": 2,
       "version_minor": 0
      },
      "text/plain": [
       "Training:   0%|          | 0/330 [00:00<?, ?it/s]"
      ]
     },
     "metadata": {},
     "output_type": "display_data"
    },
    {
     "data": {
      "application/vnd.jupyter.widget-view+json": {
       "model_id": "1a4703ff67a64be6a6aff8af9cbaebdd",
       "version_major": 2,
       "version_minor": 0
      },
      "text/plain": [
       "Validation:   0%|          | 0/180 [00:00<?, ?it/s]"
      ]
     },
     "metadata": {},
     "output_type": "display_data"
    },
    {
     "name": "stdout",
     "output_type": "stream",
     "text": [
      "val_losses 0.4452310306330522\n",
      "EarlyStopping counter: 25 out of 50\n"
     ]
    },
    {
     "data": {
      "application/vnd.jupyter.widget-view+json": {
       "model_id": "9c5ef0ce27f049fbbfd0473803ec7eac",
       "version_major": 2,
       "version_minor": 0
      },
      "text/plain": [
       "Training:   0%|          | 0/330 [00:00<?, ?it/s]"
      ]
     },
     "metadata": {},
     "output_type": "display_data"
    },
    {
     "data": {
      "application/vnd.jupyter.widget-view+json": {
       "model_id": "ee85db5a122e46c1b7ccb2098dcd9a43",
       "version_major": 2,
       "version_minor": 0
      },
      "text/plain": [
       "Validation:   0%|          | 0/180 [00:00<?, ?it/s]"
      ]
     },
     "metadata": {},
     "output_type": "display_data"
    },
    {
     "name": "stdout",
     "output_type": "stream",
     "text": [
      "val_losses 0.47079235137336783\n",
      "EarlyStopping counter: 26 out of 50\n"
     ]
    },
    {
     "data": {
      "application/vnd.jupyter.widget-view+json": {
       "model_id": "5ec2b1bbd6134896932f1be4fa233e53",
       "version_major": 2,
       "version_minor": 0
      },
      "text/plain": [
       "Training:   0%|          | 0/330 [00:00<?, ?it/s]"
      ]
     },
     "metadata": {},
     "output_type": "display_data"
    },
    {
     "data": {
      "application/vnd.jupyter.widget-view+json": {
       "model_id": "106889ffabd14e4c8511b532cd08d4ee",
       "version_major": 2,
       "version_minor": 0
      },
      "text/plain": [
       "Validation:   0%|          | 0/180 [00:00<?, ?it/s]"
      ]
     },
     "metadata": {},
     "output_type": "display_data"
    },
    {
     "name": "stdout",
     "output_type": "stream",
     "text": [
      "val_losses 0.49453616324398253\n",
      "EarlyStopping counter: 27 out of 50\n"
     ]
    },
    {
     "data": {
      "application/vnd.jupyter.widget-view+json": {
       "model_id": "e5ff315d4c2f42e990cec0f14a2919eb",
       "version_major": 2,
       "version_minor": 0
      },
      "text/plain": [
       "Training:   0%|          | 0/330 [00:00<?, ?it/s]"
      ]
     },
     "metadata": {},
     "output_type": "display_data"
    },
    {
     "data": {
      "application/vnd.jupyter.widget-view+json": {
       "model_id": "2fe72d74ebf24b0291aeda5992a556f7",
       "version_major": 2,
       "version_minor": 0
      },
      "text/plain": [
       "Validation:   0%|          | 0/180 [00:00<?, ?it/s]"
      ]
     },
     "metadata": {},
     "output_type": "display_data"
    },
    {
     "name": "stdout",
     "output_type": "stream",
     "text": [
      "val_losses 0.5093716526197063\n",
      "EarlyStopping counter: 28 out of 50\n"
     ]
    },
    {
     "data": {
      "application/vnd.jupyter.widget-view+json": {
       "model_id": "d3b5498679b3430182255e6c1af99a4a",
       "version_major": 2,
       "version_minor": 0
      },
      "text/plain": [
       "Training:   0%|          | 0/330 [00:00<?, ?it/s]"
      ]
     },
     "metadata": {},
     "output_type": "display_data"
    },
    {
     "data": {
      "application/vnd.jupyter.widget-view+json": {
       "model_id": "4d5c1ff079764b8487a59356aa903b28",
       "version_major": 2,
       "version_minor": 0
      },
      "text/plain": [
       "Validation:   0%|          | 0/180 [00:00<?, ?it/s]"
      ]
     },
     "metadata": {},
     "output_type": "display_data"
    },
    {
     "name": "stdout",
     "output_type": "stream",
     "text": [
      "val_losses 0.5372221414827638\n",
      "EarlyStopping counter: 29 out of 50\n"
     ]
    },
    {
     "data": {
      "application/vnd.jupyter.widget-view+json": {
       "model_id": "4570b7c4aa0b49b98604f109217fa086",
       "version_major": 2,
       "version_minor": 0
      },
      "text/plain": [
       "Training:   0%|          | 0/330 [00:00<?, ?it/s]"
      ]
     },
     "metadata": {},
     "output_type": "display_data"
    },
    {
     "data": {
      "application/vnd.jupyter.widget-view+json": {
       "model_id": "ade249c1c90642a6a603ee5a10c5c571",
       "version_major": 2,
       "version_minor": 0
      },
      "text/plain": [
       "Validation:   0%|          | 0/180 [00:00<?, ?it/s]"
      ]
     },
     "metadata": {},
     "output_type": "display_data"
    },
    {
     "name": "stdout",
     "output_type": "stream",
     "text": [
      "val_losses 0.5114829866836469\n",
      "EarlyStopping counter: 30 out of 50\n"
     ]
    },
    {
     "data": {
      "application/vnd.jupyter.widget-view+json": {
       "model_id": "17f9351b11d34a34927ee0460c24a099",
       "version_major": 2,
       "version_minor": 0
      },
      "text/plain": [
       "Training:   0%|          | 0/330 [00:00<?, ?it/s]"
      ]
     },
     "metadata": {},
     "output_type": "display_data"
    },
    {
     "data": {
      "application/vnd.jupyter.widget-view+json": {
       "model_id": "bf5bff083e2c4efc87cafe3da172171c",
       "version_major": 2,
       "version_minor": 0
      },
      "text/plain": [
       "Validation:   0%|          | 0/180 [00:00<?, ?it/s]"
      ]
     },
     "metadata": {},
     "output_type": "display_data"
    },
    {
     "name": "stdout",
     "output_type": "stream",
     "text": [
      "val_losses 0.5455869375003709\n",
      "EarlyStopping counter: 31 out of 50\n"
     ]
    },
    {
     "data": {
      "application/vnd.jupyter.widget-view+json": {
       "model_id": "17ea47cfab3d49399a80719b7c17252e",
       "version_major": 2,
       "version_minor": 0
      },
      "text/plain": [
       "Training:   0%|          | 0/330 [00:00<?, ?it/s]"
      ]
     },
     "metadata": {},
     "output_type": "display_data"
    },
    {
     "data": {
      "application/vnd.jupyter.widget-view+json": {
       "model_id": "638fe0a050924907a3197e46a0ba690c",
       "version_major": 2,
       "version_minor": 0
      },
      "text/plain": [
       "Validation:   0%|          | 0/180 [00:00<?, ?it/s]"
      ]
     },
     "metadata": {},
     "output_type": "display_data"
    },
    {
     "name": "stdout",
     "output_type": "stream",
     "text": [
      "val_losses 0.546867903156413\n",
      "EarlyStopping counter: 32 out of 50\n"
     ]
    },
    {
     "data": {
      "application/vnd.jupyter.widget-view+json": {
       "model_id": "d750cd5bccf7465f82ce70c5fa3f0c64",
       "version_major": 2,
       "version_minor": 0
      },
      "text/plain": [
       "Training:   0%|          | 0/330 [00:00<?, ?it/s]"
      ]
     },
     "metadata": {},
     "output_type": "display_data"
    },
    {
     "data": {
      "application/vnd.jupyter.widget-view+json": {
       "model_id": "6c2b2c04779c4d51b2210d8f3316ae19",
       "version_major": 2,
       "version_minor": 0
      },
      "text/plain": [
       "Validation:   0%|          | 0/180 [00:00<?, ?it/s]"
      ]
     },
     "metadata": {},
     "output_type": "display_data"
    },
    {
     "name": "stdout",
     "output_type": "stream",
     "text": [
      "val_losses 0.536864071049624\n",
      "EarlyStopping counter: 33 out of 50\n"
     ]
    },
    {
     "data": {
      "application/vnd.jupyter.widget-view+json": {
       "model_id": "535de45771f844039216755fa9110e8c",
       "version_major": 2,
       "version_minor": 0
      },
      "text/plain": [
       "Training:   0%|          | 0/330 [00:00<?, ?it/s]"
      ]
     },
     "metadata": {},
     "output_type": "display_data"
    },
    {
     "data": {
      "application/vnd.jupyter.widget-view+json": {
       "model_id": "d22e3587d12d45679e11bea43acd6960",
       "version_major": 2,
       "version_minor": 0
      },
      "text/plain": [
       "Validation:   0%|          | 0/180 [00:00<?, ?it/s]"
      ]
     },
     "metadata": {},
     "output_type": "display_data"
    },
    {
     "name": "stdout",
     "output_type": "stream",
     "text": [
      "val_losses 0.5329543033407794\n",
      "EarlyStopping counter: 34 out of 50\n"
     ]
    },
    {
     "data": {
      "application/vnd.jupyter.widget-view+json": {
       "model_id": "29d0235f199044788d8c78fb0266fb11",
       "version_major": 2,
       "version_minor": 0
      },
      "text/plain": [
       "Training:   0%|          | 0/330 [00:00<?, ?it/s]"
      ]
     },
     "metadata": {},
     "output_type": "display_data"
    },
    {
     "data": {
      "application/vnd.jupyter.widget-view+json": {
       "model_id": "bbbcfedbe01445128c1db91e154f3149",
       "version_major": 2,
       "version_minor": 0
      },
      "text/plain": [
       "Validation:   0%|          | 0/180 [00:00<?, ?it/s]"
      ]
     },
     "metadata": {},
     "output_type": "display_data"
    },
    {
     "name": "stdout",
     "output_type": "stream",
     "text": [
      "val_losses 0.5493393498990271\n",
      "EarlyStopping counter: 35 out of 50\n"
     ]
    },
    {
     "data": {
      "application/vnd.jupyter.widget-view+json": {
       "model_id": "019f972141d84c0f86be33e52cb79968",
       "version_major": 2,
       "version_minor": 0
      },
      "text/plain": [
       "Training:   0%|          | 0/330 [00:00<?, ?it/s]"
      ]
     },
     "metadata": {},
     "output_type": "display_data"
    },
    {
     "data": {
      "application/vnd.jupyter.widget-view+json": {
       "model_id": "a74a8427f7b84297965c165f1190feaf",
       "version_major": 2,
       "version_minor": 0
      },
      "text/plain": [
       "Validation:   0%|          | 0/180 [00:00<?, ?it/s]"
      ]
     },
     "metadata": {},
     "output_type": "display_data"
    },
    {
     "name": "stdout",
     "output_type": "stream",
     "text": [
      "val_losses 0.5679673726360003\n",
      "EarlyStopping counter: 36 out of 50\n"
     ]
    },
    {
     "data": {
      "application/vnd.jupyter.widget-view+json": {
       "model_id": "1090b63cb8dc4c139bbc34fef840f128",
       "version_major": 2,
       "version_minor": 0
      },
      "text/plain": [
       "Training:   0%|          | 0/330 [00:00<?, ?it/s]"
      ]
     },
     "metadata": {},
     "output_type": "display_data"
    },
    {
     "data": {
      "application/vnd.jupyter.widget-view+json": {
       "model_id": "26d55f7b79b34b2ca2a82eb8f09679fd",
       "version_major": 2,
       "version_minor": 0
      },
      "text/plain": [
       "Validation:   0%|          | 0/180 [00:00<?, ?it/s]"
      ]
     },
     "metadata": {},
     "output_type": "display_data"
    },
    {
     "name": "stdout",
     "output_type": "stream",
     "text": [
      "val_losses 0.5804775849398639\n",
      "EarlyStopping counter: 37 out of 50\n"
     ]
    },
    {
     "data": {
      "application/vnd.jupyter.widget-view+json": {
       "model_id": "ee190c60036c4f86ac13c8bfebf733f6",
       "version_major": 2,
       "version_minor": 0
      },
      "text/plain": [
       "Training:   0%|          | 0/330 [00:00<?, ?it/s]"
      ]
     },
     "metadata": {},
     "output_type": "display_data"
    },
    {
     "data": {
      "application/vnd.jupyter.widget-view+json": {
       "model_id": "1f03e84e6b8d4864873de472485cb631",
       "version_major": 2,
       "version_minor": 0
      },
      "text/plain": [
       "Validation:   0%|          | 0/180 [00:00<?, ?it/s]"
      ]
     },
     "metadata": {},
     "output_type": "display_data"
    },
    {
     "name": "stdout",
     "output_type": "stream",
     "text": [
      "val_losses 0.5738466707782612\n",
      "EarlyStopping counter: 38 out of 50\n"
     ]
    },
    {
     "data": {
      "application/vnd.jupyter.widget-view+json": {
       "model_id": "ef069d01aa6e422fb93551d11240d9a4",
       "version_major": 2,
       "version_minor": 0
      },
      "text/plain": [
       "Training:   0%|          | 0/330 [00:00<?, ?it/s]"
      ]
     },
     "metadata": {},
     "output_type": "display_data"
    },
    {
     "data": {
      "application/vnd.jupyter.widget-view+json": {
       "model_id": "406c88baf5f948fc93e4669d89cb08a6",
       "version_major": 2,
       "version_minor": 0
      },
      "text/plain": [
       "Validation:   0%|          | 0/180 [00:00<?, ?it/s]"
      ]
     },
     "metadata": {},
     "output_type": "display_data"
    },
    {
     "name": "stdout",
     "output_type": "stream",
     "text": [
      "val_losses 0.5503602959215641\n",
      "EarlyStopping counter: 39 out of 50\n"
     ]
    },
    {
     "data": {
      "application/vnd.jupyter.widget-view+json": {
       "model_id": "a17d468562ab405db485c1860d3eed2f",
       "version_major": 2,
       "version_minor": 0
      },
      "text/plain": [
       "Training:   0%|          | 0/330 [00:00<?, ?it/s]"
      ]
     },
     "metadata": {},
     "output_type": "display_data"
    },
    {
     "data": {
      "application/vnd.jupyter.widget-view+json": {
       "model_id": "d3b209e149e04c48bed9fa4cf24aed6f",
       "version_major": 2,
       "version_minor": 0
      },
      "text/plain": [
       "Validation:   0%|          | 0/180 [00:00<?, ?it/s]"
      ]
     },
     "metadata": {},
     "output_type": "display_data"
    },
    {
     "name": "stdout",
     "output_type": "stream",
     "text": [
      "val_losses 0.5592537855108579\n",
      "EarlyStopping counter: 40 out of 50\n"
     ]
    },
    {
     "data": {
      "application/vnd.jupyter.widget-view+json": {
       "model_id": "a52219c9a7c543eba689d292b0e76f73",
       "version_major": 2,
       "version_minor": 0
      },
      "text/plain": [
       "Training:   0%|          | 0/330 [00:00<?, ?it/s]"
      ]
     },
     "metadata": {},
     "output_type": "display_data"
    },
    {
     "data": {
      "application/vnd.jupyter.widget-view+json": {
       "model_id": "84a191447ddb4184ad9eb9cf73805931",
       "version_major": 2,
       "version_minor": 0
      },
      "text/plain": [
       "Validation:   0%|          | 0/180 [00:00<?, ?it/s]"
      ]
     },
     "metadata": {},
     "output_type": "display_data"
    },
    {
     "name": "stdout",
     "output_type": "stream",
     "text": [
      "val_losses 0.5827035323199299\n",
      "EarlyStopping counter: 41 out of 50\n"
     ]
    },
    {
     "data": {
      "application/vnd.jupyter.widget-view+json": {
       "model_id": "58ae9259031a46c0a669c623e3b5e2fb",
       "version_major": 2,
       "version_minor": 0
      },
      "text/plain": [
       "Training:   0%|          | 0/330 [00:00<?, ?it/s]"
      ]
     },
     "metadata": {},
     "output_type": "display_data"
    },
    {
     "data": {
      "application/vnd.jupyter.widget-view+json": {
       "model_id": "34c79262a4254adbbd3176ce276f1e20",
       "version_major": 2,
       "version_minor": 0
      },
      "text/plain": [
       "Validation:   0%|          | 0/180 [00:00<?, ?it/s]"
      ]
     },
     "metadata": {},
     "output_type": "display_data"
    },
    {
     "name": "stdout",
     "output_type": "stream",
     "text": [
      "val_losses 0.5849031734383768\n",
      "EarlyStopping counter: 42 out of 50\n"
     ]
    },
    {
     "data": {
      "application/vnd.jupyter.widget-view+json": {
       "model_id": "d614a83feb20469e9172255aa0f49d16",
       "version_major": 2,
       "version_minor": 0
      },
      "text/plain": [
       "Training:   0%|          | 0/330 [00:00<?, ?it/s]"
      ]
     },
     "metadata": {},
     "output_type": "display_data"
    },
    {
     "data": {
      "application/vnd.jupyter.widget-view+json": {
       "model_id": "b87b89448a174fc39f2389e609062d05",
       "version_major": 2,
       "version_minor": 0
      },
      "text/plain": [
       "Validation:   0%|          | 0/180 [00:00<?, ?it/s]"
      ]
     },
     "metadata": {},
     "output_type": "display_data"
    },
    {
     "name": "stdout",
     "output_type": "stream",
     "text": [
      "val_losses 0.5944746872617139\n",
      "EarlyStopping counter: 43 out of 50\n"
     ]
    },
    {
     "data": {
      "application/vnd.jupyter.widget-view+json": {
       "model_id": "a1f1f83f09ca45e7b9f838b344f33932",
       "version_major": 2,
       "version_minor": 0
      },
      "text/plain": [
       "Training:   0%|          | 0/330 [00:00<?, ?it/s]"
      ]
     },
     "metadata": {},
     "output_type": "display_data"
    },
    {
     "data": {
      "application/vnd.jupyter.widget-view+json": {
       "model_id": "74e28b77f6b0444db94440aa7830bf27",
       "version_major": 2,
       "version_minor": 0
      },
      "text/plain": [
       "Validation:   0%|          | 0/180 [00:00<?, ?it/s]"
      ]
     },
     "metadata": {},
     "output_type": "display_data"
    },
    {
     "name": "stdout",
     "output_type": "stream",
     "text": [
      "val_losses 0.32142288455118734\n",
      "EarlyStopping counter: 44 out of 50\n"
     ]
    },
    {
     "data": {
      "application/vnd.jupyter.widget-view+json": {
       "model_id": "7a4137e4e91c40669dcf34a3c85e652a",
       "version_major": 2,
       "version_minor": 0
      },
      "text/plain": [
       "Training:   0%|          | 0/330 [00:00<?, ?it/s]"
      ]
     },
     "metadata": {},
     "output_type": "display_data"
    },
    {
     "data": {
      "application/vnd.jupyter.widget-view+json": {
       "model_id": "5f9d3bcc46d74e728da2086a01a50a7d",
       "version_major": 2,
       "version_minor": 0
      },
      "text/plain": [
       "Validation:   0%|          | 0/180 [00:00<?, ?it/s]"
      ]
     },
     "metadata": {},
     "output_type": "display_data"
    },
    {
     "name": "stdout",
     "output_type": "stream",
     "text": [
      "val_losses 0.4161802096913258\n",
      "EarlyStopping counter: 45 out of 50\n"
     ]
    },
    {
     "data": {
      "application/vnd.jupyter.widget-view+json": {
       "model_id": "d1b96f727c3e4cb296cd342cc54ecb8b",
       "version_major": 2,
       "version_minor": 0
      },
      "text/plain": [
       "Training:   0%|          | 0/330 [00:00<?, ?it/s]"
      ]
     },
     "metadata": {},
     "output_type": "display_data"
    },
    {
     "data": {
      "application/vnd.jupyter.widget-view+json": {
       "model_id": "516be4cfbbf64cfd9b73a30414b5c424",
       "version_major": 2,
       "version_minor": 0
      },
      "text/plain": [
       "Validation:   0%|          | 0/180 [00:00<?, ?it/s]"
      ]
     },
     "metadata": {},
     "output_type": "display_data"
    },
    {
     "name": "stdout",
     "output_type": "stream",
     "text": [
      "val_losses 0.4716626382122437\n",
      "EarlyStopping counter: 46 out of 50\n"
     ]
    },
    {
     "data": {
      "application/vnd.jupyter.widget-view+json": {
       "model_id": "4dd04713325e46dfa8edfd135b84d93a",
       "version_major": 2,
       "version_minor": 0
      },
      "text/plain": [
       "Training:   0%|          | 0/330 [00:00<?, ?it/s]"
      ]
     },
     "metadata": {},
     "output_type": "display_data"
    },
    {
     "data": {
      "application/vnd.jupyter.widget-view+json": {
       "model_id": "7a23dadc7074436d83b5915417c76513",
       "version_major": 2,
       "version_minor": 0
      },
      "text/plain": [
       "Validation:   0%|          | 0/180 [00:00<?, ?it/s]"
      ]
     },
     "metadata": {},
     "output_type": "display_data"
    },
    {
     "name": "stdout",
     "output_type": "stream",
     "text": [
      "val_losses 0.5035157298462258\n",
      "EarlyStopping counter: 47 out of 50\n"
     ]
    },
    {
     "data": {
      "application/vnd.jupyter.widget-view+json": {
       "model_id": "aba62f4b66374da6b5b49027479e3847",
       "version_major": 2,
       "version_minor": 0
      },
      "text/plain": [
       "Training:   0%|          | 0/330 [00:00<?, ?it/s]"
      ]
     },
     "metadata": {},
     "output_type": "display_data"
    },
    {
     "data": {
      "application/vnd.jupyter.widget-view+json": {
       "model_id": "03849ec549d74e0aa29f9a296e1ddede",
       "version_major": 2,
       "version_minor": 0
      },
      "text/plain": [
       "Validation:   0%|          | 0/180 [00:00<?, ?it/s]"
      ]
     },
     "metadata": {},
     "output_type": "display_data"
    },
    {
     "name": "stdout",
     "output_type": "stream",
     "text": [
      "val_losses 0.5292550565467941\n",
      "EarlyStopping counter: 48 out of 50\n"
     ]
    },
    {
     "data": {
      "application/vnd.jupyter.widget-view+json": {
       "model_id": "33986cc7d1df4a97b20a24b71cf579d8",
       "version_major": 2,
       "version_minor": 0
      },
      "text/plain": [
       "Training:   0%|          | 0/330 [00:00<?, ?it/s]"
      ]
     },
     "metadata": {},
     "output_type": "display_data"
    },
    {
     "data": {
      "application/vnd.jupyter.widget-view+json": {
       "model_id": "fc1d830c78744b7b8765575e10496be0",
       "version_major": 2,
       "version_minor": 0
      },
      "text/plain": [
       "Validation:   0%|          | 0/180 [00:00<?, ?it/s]"
      ]
     },
     "metadata": {},
     "output_type": "display_data"
    },
    {
     "name": "stdout",
     "output_type": "stream",
     "text": [
      "val_losses 0.5316573468347391\n",
      "EarlyStopping counter: 49 out of 50\n"
     ]
    },
    {
     "data": {
      "application/vnd.jupyter.widget-view+json": {
       "model_id": "3d0653240749471b8409f3038f88a60a",
       "version_major": 2,
       "version_minor": 0
      },
      "text/plain": [
       "Training:   0%|          | 0/330 [00:00<?, ?it/s]"
      ]
     },
     "metadata": {},
     "output_type": "display_data"
    },
    {
     "data": {
      "application/vnd.jupyter.widget-view+json": {
       "model_id": "b7feb1c306fc47248d23830769b1feee",
       "version_major": 2,
       "version_minor": 0
      },
      "text/plain": [
       "Validation:   0%|          | 0/180 [00:00<?, ?it/s]"
      ]
     },
     "metadata": {},
     "output_type": "display_data"
    },
    {
     "name": "stdout",
     "output_type": "stream",
     "text": [
      "val_losses 0.5527887749589152\n",
      "EarlyStopping counter: 50 out of 50\n",
      "early stopping epoch: 112\n",
      "***************************\n",
      "modelname:model_fold_3.ptを保存しました\n",
      "*************************************Test*************************************\n",
      "in constructor inchannel: 45\n",
      "Input channel count3\n",
      "model_dir =  model/20250205-DenseCRFIntegrationExperiment2\n",
      "Creating image arrays...\n",
      "Number of label images: 11\n",
      "Completed creating image arrays:\n",
      "Dataset shape  (11, 256, 256, 45)\n",
      "Label image shape  (11, 256, 256)\n",
      "\n",
      "index =  0\n",
      "予測画像: /home/eric/Documents/cervicalResearchIIP/result_test/20250205-DenseCRFIntegrationExperiment2/fold3/N1-5.png\n",
      "テストラベル: /home/eric/Documents/cervicalResearchIIP/img_1006t/labeled/N1-5.png\n",
      "index =  1\n",
      "予測画像: /home/eric/Documents/cervicalResearchIIP/result_test/20250205-DenseCRFIntegrationExperiment2/fold3/N1-10.png\n",
      "テストラベル: /home/eric/Documents/cervicalResearchIIP/img_1006t/labeled/N1-10.png\n",
      "index =  2\n",
      "予測画像: /home/eric/Documents/cervicalResearchIIP/result_test/20250205-DenseCRFIntegrationExperiment2/fold3/N2-4.png\n",
      "テストラベル: /home/eric/Documents/cervicalResearchIIP/img_1006t/labeled/N2-4.png\n",
      "index =  3\n",
      "予測画像: /home/eric/Documents/cervicalResearchIIP/result_test/20250205-DenseCRFIntegrationExperiment2/fold3/N2-6.png\n",
      "テストラベル: /home/eric/Documents/cervicalResearchIIP/img_1006t/labeled/N2-6.png\n",
      "index =  4\n",
      "予測画像: /home/eric/Documents/cervicalResearchIIP/result_test/20250205-DenseCRFIntegrationExperiment2/fold3/N2-9.png\n",
      "テストラベル: /home/eric/Documents/cervicalResearchIIP/img_1006t/labeled/N2-9.png\n",
      "index =  5\n",
      "予測画像: /home/eric/Documents/cervicalResearchIIP/result_test/20250205-DenseCRFIntegrationExperiment2/fold3/N3-4.png\n",
      "テストラベル: /home/eric/Documents/cervicalResearchIIP/img_1006t/labeled/N3-4.png\n",
      "index =  6\n",
      "予測画像: /home/eric/Documents/cervicalResearchIIP/result_test/20250205-DenseCRFIntegrationExperiment2/fold3/N3-8.png\n",
      "テストラベル: /home/eric/Documents/cervicalResearchIIP/img_1006t/labeled/N3-8.png\n",
      "index =  7\n",
      "予測画像: /home/eric/Documents/cervicalResearchIIP/result_test/20250205-DenseCRFIntegrationExperiment2/fold3/N4-3.png\n",
      "テストラベル: /home/eric/Documents/cervicalResearchIIP/img_1006t/labeled/N4-3.png\n",
      "index =  8\n",
      "予測画像: /home/eric/Documents/cervicalResearchIIP/result_test/20250205-DenseCRFIntegrationExperiment2/fold3/N4-8.png\n",
      "テストラベル: /home/eric/Documents/cervicalResearchIIP/img_1006t/labeled/N4-8.png\n",
      "index =  9\n",
      "予測画像: /home/eric/Documents/cervicalResearchIIP/result_test/20250205-DenseCRFIntegrationExperiment2/fold3/N4-9.png\n",
      "テストラベル: /home/eric/Documents/cervicalResearchIIP/img_1006t/labeled/N4-9.png\n",
      "index =  10\n",
      "予測画像: /home/eric/Documents/cervicalResearchIIP/result_test/20250205-DenseCRFIntegrationExperiment2/fold3/N5-5.png\n",
      "テストラベル: /home/eric/Documents/cervicalResearchIIP/img_1006t/labeled/N5-5.png\n",
      "Count1 =  [643849, 12048, 8107, 8263, 6009, 7301, 5863, 7737, 5780, 10198, 5741]\n",
      "Count2 =  [645554, 11408, 7742, 8203, 5795, 7796, 5880, 7927, 5507, 9512, 5572]\n",
      "Count3 =  [637659, 10506, 7265, 7383, 5403, 6616, 5430, 6243, 4901, 7322, 4836]\n",
      "Dice =  [0.9890763399805956, 0.8958049113233287, 0.91677708372768, 0.8967569537228228, 0.9154523890206709, 0.8764655229515798, 0.9248062675636549, 0.7971144024514811, 0.8684327101975724, 0.7429731100963978, 0.8549456377618668, 0.8689528988817056]\n",
      "All labels are within the valid range (0 to 10).\n",
      "All labels are within the valid range (0 to 10).\n",
      "All labels are within the valid range (0 to 10).\n",
      "All labels are within the valid range (0 to 10).\n",
      "All labels are within the valid range (0 to 10).\n",
      "All labels are within the valid range (0 to 10).\n",
      "All labels are within the valid range (0 to 10).\n",
      "All labels are within the valid range (0 to 10).\n",
      "All labels are within the valid range (0 to 10).\n",
      "All labels are within the valid range (0 to 10).\n",
      "All labels are within the valid range (0 to 10).\n",
      "index =  0\n",
      "予測画像: /home/eric/Documents/cervicalResearchIIP/result_test/20250205-DenseCRFIntegrationExperiment2/fold3/crf/N1-5.png\n",
      "テストラベル: /home/eric/Documents/cervicalResearchIIP/img_1006t/labeled/N1-5.png\n",
      "index =  1\n",
      "予測画像: /home/eric/Documents/cervicalResearchIIP/result_test/20250205-DenseCRFIntegrationExperiment2/fold3/crf/N1-10.png\n",
      "テストラベル: /home/eric/Documents/cervicalResearchIIP/img_1006t/labeled/N1-10.png\n",
      "index =  2\n",
      "予測画像: /home/eric/Documents/cervicalResearchIIP/result_test/20250205-DenseCRFIntegrationExperiment2/fold3/crf/N2-4.png\n",
      "テストラベル: /home/eric/Documents/cervicalResearchIIP/img_1006t/labeled/N2-4.png\n",
      "index =  3\n",
      "予測画像: /home/eric/Documents/cervicalResearchIIP/result_test/20250205-DenseCRFIntegrationExperiment2/fold3/crf/N2-6.png\n",
      "テストラベル: /home/eric/Documents/cervicalResearchIIP/img_1006t/labeled/N2-6.png\n",
      "index =  4\n",
      "予測画像: /home/eric/Documents/cervicalResearchIIP/result_test/20250205-DenseCRFIntegrationExperiment2/fold3/crf/N2-9.png\n",
      "テストラベル: /home/eric/Documents/cervicalResearchIIP/img_1006t/labeled/N2-9.png\n",
      "index =  5\n",
      "予測画像: /home/eric/Documents/cervicalResearchIIP/result_test/20250205-DenseCRFIntegrationExperiment2/fold3/crf/N3-4.png\n",
      "テストラベル: /home/eric/Documents/cervicalResearchIIP/img_1006t/labeled/N3-4.png\n",
      "index =  6\n",
      "予測画像: /home/eric/Documents/cervicalResearchIIP/result_test/20250205-DenseCRFIntegrationExperiment2/fold3/crf/N3-8.png\n",
      "テストラベル: /home/eric/Documents/cervicalResearchIIP/img_1006t/labeled/N3-8.png\n",
      "index =  7\n",
      "予測画像: /home/eric/Documents/cervicalResearchIIP/result_test/20250205-DenseCRFIntegrationExperiment2/fold3/crf/N4-3.png\n",
      "テストラベル: /home/eric/Documents/cervicalResearchIIP/img_1006t/labeled/N4-3.png\n",
      "index =  8\n",
      "予測画像: /home/eric/Documents/cervicalResearchIIP/result_test/20250205-DenseCRFIntegrationExperiment2/fold3/crf/N4-8.png\n",
      "テストラベル: /home/eric/Documents/cervicalResearchIIP/img_1006t/labeled/N4-8.png\n",
      "index =  9\n",
      "予測画像: /home/eric/Documents/cervicalResearchIIP/result_test/20250205-DenseCRFIntegrationExperiment2/fold3/crf/N4-9.png\n",
      "テストラベル: /home/eric/Documents/cervicalResearchIIP/img_1006t/labeled/N4-9.png\n",
      "index =  10\n",
      "予測画像: /home/eric/Documents/cervicalResearchIIP/result_test/20250205-DenseCRFIntegrationExperiment2/fold3/crf/N5-5.png\n",
      "テストラベル: /home/eric/Documents/cervicalResearchIIP/img_1006t/labeled/N5-5.png\n",
      "Count1 =  [644191, 12015, 8148, 8263, 5996, 7324, 5851, 7697, 5738, 10037, 5636]\n",
      "Count2 =  [645554, 11408, 7742, 8203, 5795, 7796, 5880, 7927, 5507, 9512, 5572]\n",
      "Count3 =  [637877, 10511, 7310, 7394, 5397, 6634, 5427, 6242, 4903, 7297, 4806]\n",
      "Dice =  [0.9891521192173647, 0.8974939162361781, 0.920075519194462, 0.8980930402040569, 0.9154439826986684, 0.8775132275132275, 0.9252408149347882, 0.7990271377368151, 0.872032014228546, 0.7465343495830988, 0.8576017130620985, 0.870905571539194]\n",
      "Cross validation: True\n",
      "Fold: 4 out of 4\n",
      "Augmentation: True\n",
      "Augmentation amount: 30\n",
      "Training: Total of 22 cases.\n",
      "['N4-7' 'N3-9' 'N2-1' 'N3-3' 'N5-6' 'N2-6' 'N4-1' 'N1-10' 'N1-2' 'N1-3'\n",
      " 'N3-7' 'N2-5' 'N5-5' 'N2-2' 'N4-9' 'N1-9' 'N1-8' 'N3-6' 'N5-3' 'N4-8'\n",
      " 'N4-4' 'N3-2']\n",
      "Validation: Total of 12 cases.\n",
      "['N3-10' 'N2-4' 'N4-3' 'N3-4' 'N1-4' 'N1-5' 'N5-1' 'N4-6' 'N3-8' 'N2-9'\n",
      " 'N1-6' 'N2-10']\n",
      "Test: Total of 11 cases.\n",
      "['N1-1' 'N1-7' 'N2-3' 'N2-7' 'N2-8' 'N3-1' 'N3-5' 'N4-2' 'N4-5' 'N5-2'\n",
      " 'N5-4']\n",
      "\n",
      "Creating image arrays...\n",
      "Number of label images: 660\n",
      "Completed creating image arrays:\n",
      "Dataset shape  (660, 256, 256, 45)\n",
      "Label image shape  (660, 256, 256)\n",
      "\n",
      "Creating image arrays...\n",
      "Number of label images: 360\n",
      "Completed creating image arrays:\n",
      "Dataset shape  (360, 256, 256, 45)\n",
      "Label image shape  (360, 256, 256)\n",
      "\n",
      "*************************Training*************************\n",
      "x.shape =  torch.Size([2, 45, 256, 256])\n",
      "x.min(), x.max() =  tensor(0.) tensor(1.)\n",
      "y.shape =  torch.Size([2, 256, 256])\n",
      "torch.unique(y) =  tensor([ 0,  1,  2,  3,  4,  5,  6,  7,  8,  9, 10])\n",
      "in constructor inchannel: 45\n",
      "Input channel count3\n",
      "=======start training======\n"
     ]
    },
    {
     "data": {
      "application/vnd.jupyter.widget-view+json": {
       "model_id": "2987f6fe6d7c40aa9c64c4dbc82ddd78",
       "version_major": 2,
       "version_minor": 0
      },
      "text/plain": [
       "Progress:   0%|          | 0/146 [00:00<?, ?it/s]"
      ]
     },
     "metadata": {},
     "output_type": "display_data"
    },
    {
     "data": {
      "application/vnd.jupyter.widget-view+json": {
       "model_id": "0c733cd527f74e8594828ed6ebb12e70",
       "version_major": 2,
       "version_minor": 0
      },
      "text/plain": [
       "Training:   0%|          | 0/330 [00:00<?, ?it/s]"
      ]
     },
     "metadata": {},
     "output_type": "display_data"
    },
    {
     "data": {
      "application/vnd.jupyter.widget-view+json": {
       "model_id": "a0f892617df34a0b8aaf8f1e75a28872",
       "version_major": 2,
       "version_minor": 0
      },
      "text/plain": [
       "Validation:   0%|          | 0/180 [00:00<?, ?it/s]"
      ]
     },
     "metadata": {},
     "output_type": "display_data"
    },
    {
     "name": "stdout",
     "output_type": "stream",
     "text": [
      "val_losses 1.2428891148832109\n",
      "Validation loss decreased (inf --> 1.242889).  Saving model ...\n"
     ]
    },
    {
     "data": {
      "application/vnd.jupyter.widget-view+json": {
       "model_id": "1a27587d0c0e4b03b2f28ff8c471ea12",
       "version_major": 2,
       "version_minor": 0
      },
      "text/plain": [
       "Training:   0%|          | 0/330 [00:00<?, ?it/s]"
      ]
     },
     "metadata": {},
     "output_type": "display_data"
    },
    {
     "data": {
      "application/vnd.jupyter.widget-view+json": {
       "model_id": "a2977fe5c3f946ad96cd69890ab2af3d",
       "version_major": 2,
       "version_minor": 0
      },
      "text/plain": [
       "Validation:   0%|          | 0/180 [00:00<?, ?it/s]"
      ]
     },
     "metadata": {},
     "output_type": "display_data"
    },
    {
     "name": "stdout",
     "output_type": "stream",
     "text": [
      "val_losses 0.8270085493723551\n",
      "Validation loss decreased (1.242889 --> 0.827009).  Saving model ...\n"
     ]
    },
    {
     "data": {
      "application/vnd.jupyter.widget-view+json": {
       "model_id": "93c4e9327cb74f6a954689b7413743c1",
       "version_major": 2,
       "version_minor": 0
      },
      "text/plain": [
       "Training:   0%|          | 0/330 [00:00<?, ?it/s]"
      ]
     },
     "metadata": {},
     "output_type": "display_data"
    },
    {
     "data": {
      "application/vnd.jupyter.widget-view+json": {
       "model_id": "12b203994aa44b3a93e46db38aa3e3e2",
       "version_major": 2,
       "version_minor": 0
      },
      "text/plain": [
       "Validation:   0%|          | 0/180 [00:00<?, ?it/s]"
      ]
     },
     "metadata": {},
     "output_type": "display_data"
    },
    {
     "name": "stdout",
     "output_type": "stream",
     "text": [
      "val_losses 0.5824521533317036\n",
      "Validation loss decreased (0.827009 --> 0.582452).  Saving model ...\n"
     ]
    },
    {
     "data": {
      "application/vnd.jupyter.widget-view+json": {
       "model_id": "1b5aa201c66d46fd8ea1d512bfe78447",
       "version_major": 2,
       "version_minor": 0
      },
      "text/plain": [
       "Training:   0%|          | 0/330 [00:00<?, ?it/s]"
      ]
     },
     "metadata": {},
     "output_type": "display_data"
    },
    {
     "data": {
      "application/vnd.jupyter.widget-view+json": {
       "model_id": "fdc58da9dab945869d4685531ae77ecd",
       "version_major": 2,
       "version_minor": 0
      },
      "text/plain": [
       "Validation:   0%|          | 0/180 [00:00<?, ?it/s]"
      ]
     },
     "metadata": {},
     "output_type": "display_data"
    },
    {
     "name": "stdout",
     "output_type": "stream",
     "text": [
      "val_losses 0.48443144410848615\n",
      "Validation loss decreased (0.582452 --> 0.484431).  Saving model ...\n"
     ]
    },
    {
     "data": {
      "application/vnd.jupyter.widget-view+json": {
       "model_id": "8693329a295b491488ea6dbf0881f6ba",
       "version_major": 2,
       "version_minor": 0
      },
      "text/plain": [
       "Training:   0%|          | 0/330 [00:00<?, ?it/s]"
      ]
     },
     "metadata": {},
     "output_type": "display_data"
    },
    {
     "data": {
      "application/vnd.jupyter.widget-view+json": {
       "model_id": "501fb9d55b564fcca8c95f073df5b1e6",
       "version_major": 2,
       "version_minor": 0
      },
      "text/plain": [
       "Validation:   0%|          | 0/180 [00:00<?, ?it/s]"
      ]
     },
     "metadata": {},
     "output_type": "display_data"
    },
    {
     "name": "stdout",
     "output_type": "stream",
     "text": [
      "val_losses 0.4440124652451939\n",
      "Validation loss decreased (0.484431 --> 0.444012).  Saving model ...\n"
     ]
    },
    {
     "data": {
      "application/vnd.jupyter.widget-view+json": {
       "model_id": "16af9826e04c453f8ac041707c045b8c",
       "version_major": 2,
       "version_minor": 0
      },
      "text/plain": [
       "Training:   0%|          | 0/330 [00:00<?, ?it/s]"
      ]
     },
     "metadata": {},
     "output_type": "display_data"
    },
    {
     "data": {
      "application/vnd.jupyter.widget-view+json": {
       "model_id": "c151dd44028a41adb680da0b0b3d03c8",
       "version_major": 2,
       "version_minor": 0
      },
      "text/plain": [
       "Validation:   0%|          | 0/180 [00:00<?, ?it/s]"
      ]
     },
     "metadata": {},
     "output_type": "display_data"
    },
    {
     "name": "stdout",
     "output_type": "stream",
     "text": [
      "val_losses 0.4288868417342504\n",
      "Validation loss decreased (0.444012 --> 0.428887).  Saving model ...\n"
     ]
    },
    {
     "data": {
      "application/vnd.jupyter.widget-view+json": {
       "model_id": "77258a7e2a844b0dafa42337f3dd9fdc",
       "version_major": 2,
       "version_minor": 0
      },
      "text/plain": [
       "Training:   0%|          | 0/330 [00:00<?, ?it/s]"
      ]
     },
     "metadata": {},
     "output_type": "display_data"
    },
    {
     "data": {
      "application/vnd.jupyter.widget-view+json": {
       "model_id": "80a67dbd196342589c9365027291608d",
       "version_major": 2,
       "version_minor": 0
      },
      "text/plain": [
       "Validation:   0%|          | 0/180 [00:00<?, ?it/s]"
      ]
     },
     "metadata": {},
     "output_type": "display_data"
    },
    {
     "name": "stdout",
     "output_type": "stream",
     "text": [
      "val_losses 0.40359712781177626\n",
      "Validation loss decreased (0.428887 --> 0.403597).  Saving model ...\n"
     ]
    },
    {
     "data": {
      "application/vnd.jupyter.widget-view+json": {
       "model_id": "1ab02ee5d93843d186a316e319120d60",
       "version_major": 2,
       "version_minor": 0
      },
      "text/plain": [
       "Training:   0%|          | 0/330 [00:00<?, ?it/s]"
      ]
     },
     "metadata": {},
     "output_type": "display_data"
    },
    {
     "data": {
      "application/vnd.jupyter.widget-view+json": {
       "model_id": "e92c846403234e6faf71f4019aa3dbe9",
       "version_major": 2,
       "version_minor": 0
      },
      "text/plain": [
       "Validation:   0%|          | 0/180 [00:00<?, ?it/s]"
      ]
     },
     "metadata": {},
     "output_type": "display_data"
    },
    {
     "name": "stdout",
     "output_type": "stream",
     "text": [
      "val_losses 0.40943684238526556\n",
      "EarlyStopping counter: 1 out of 50\n"
     ]
    },
    {
     "data": {
      "application/vnd.jupyter.widget-view+json": {
       "model_id": "9fbf106ef6534a4dad107a8c00236a56",
       "version_major": 2,
       "version_minor": 0
      },
      "text/plain": [
       "Training:   0%|          | 0/330 [00:00<?, ?it/s]"
      ]
     },
     "metadata": {},
     "output_type": "display_data"
    },
    {
     "data": {
      "application/vnd.jupyter.widget-view+json": {
       "model_id": "68f4c7c27cbd4cbfa318eb0ff7b50b31",
       "version_major": 2,
       "version_minor": 0
      },
      "text/plain": [
       "Validation:   0%|          | 0/180 [00:00<?, ?it/s]"
      ]
     },
     "metadata": {},
     "output_type": "display_data"
    },
    {
     "name": "stdout",
     "output_type": "stream",
     "text": [
      "val_losses 0.30393736122383014\n",
      "Validation loss decreased (0.403597 --> 0.303937).  Saving model ...\n"
     ]
    },
    {
     "data": {
      "application/vnd.jupyter.widget-view+json": {
       "model_id": "b8393c86096d49fca3575cd553c67afc",
       "version_major": 2,
       "version_minor": 0
      },
      "text/plain": [
       "Training:   0%|          | 0/330 [00:00<?, ?it/s]"
      ]
     },
     "metadata": {},
     "output_type": "display_data"
    },
    {
     "data": {
      "application/vnd.jupyter.widget-view+json": {
       "model_id": "76c0ad5fc0264d62adff0e12489df802",
       "version_major": 2,
       "version_minor": 0
      },
      "text/plain": [
       "Validation:   0%|          | 0/180 [00:00<?, ?it/s]"
      ]
     },
     "metadata": {},
     "output_type": "display_data"
    },
    {
     "name": "stdout",
     "output_type": "stream",
     "text": [
      "val_losses 0.3223120362394386\n",
      "EarlyStopping counter: 1 out of 50\n"
     ]
    },
    {
     "data": {
      "application/vnd.jupyter.widget-view+json": {
       "model_id": "d02e5bf1cd744fd28fe6728e576f6973",
       "version_major": 2,
       "version_minor": 0
      },
      "text/plain": [
       "Training:   0%|          | 0/330 [00:00<?, ?it/s]"
      ]
     },
     "metadata": {},
     "output_type": "display_data"
    },
    {
     "data": {
      "application/vnd.jupyter.widget-view+json": {
       "model_id": "cc106677e80444cdbb9717b30703ff22",
       "version_major": 2,
       "version_minor": 0
      },
      "text/plain": [
       "Validation:   0%|          | 0/180 [00:00<?, ?it/s]"
      ]
     },
     "metadata": {},
     "output_type": "display_data"
    },
    {
     "name": "stdout",
     "output_type": "stream",
     "text": [
      "val_losses 0.33478598180744384\n",
      "EarlyStopping counter: 2 out of 50\n"
     ]
    },
    {
     "data": {
      "application/vnd.jupyter.widget-view+json": {
       "model_id": "288a04cd683e4ac8baa7ebfc36762a70",
       "version_major": 2,
       "version_minor": 0
      },
      "text/plain": [
       "Training:   0%|          | 0/330 [00:00<?, ?it/s]"
      ]
     },
     "metadata": {},
     "output_type": "display_data"
    },
    {
     "data": {
      "application/vnd.jupyter.widget-view+json": {
       "model_id": "8f62b1a7302a41b9b7492431bfbe1dd2",
       "version_major": 2,
       "version_minor": 0
      },
      "text/plain": [
       "Validation:   0%|          | 0/180 [00:00<?, ?it/s]"
      ]
     },
     "metadata": {},
     "output_type": "display_data"
    },
    {
     "name": "stdout",
     "output_type": "stream",
     "text": [
      "val_losses 0.3477118544280529\n",
      "EarlyStopping counter: 3 out of 50\n"
     ]
    },
    {
     "data": {
      "application/vnd.jupyter.widget-view+json": {
       "model_id": "532207759fe44cfeb0eac17aa2661ad6",
       "version_major": 2,
       "version_minor": 0
      },
      "text/plain": [
       "Training:   0%|          | 0/330 [00:00<?, ?it/s]"
      ]
     },
     "metadata": {},
     "output_type": "display_data"
    },
    {
     "data": {
      "application/vnd.jupyter.widget-view+json": {
       "model_id": "f80be25322ee4146b330f5961f99a9ce",
       "version_major": 2,
       "version_minor": 0
      },
      "text/plain": [
       "Validation:   0%|          | 0/180 [00:00<?, ?it/s]"
      ]
     },
     "metadata": {},
     "output_type": "display_data"
    },
    {
     "name": "stdout",
     "output_type": "stream",
     "text": [
      "val_losses 0.36662896018889213\n",
      "EarlyStopping counter: 4 out of 50\n"
     ]
    },
    {
     "data": {
      "application/vnd.jupyter.widget-view+json": {
       "model_id": "ce7de4d23733479ebb409343a4fc5bf1",
       "version_major": 2,
       "version_minor": 0
      },
      "text/plain": [
       "Training:   0%|          | 0/330 [00:00<?, ?it/s]"
      ]
     },
     "metadata": {},
     "output_type": "display_data"
    },
    {
     "data": {
      "application/vnd.jupyter.widget-view+json": {
       "model_id": "7139e5d4588c4fdea45babc6cb4627b2",
       "version_major": 2,
       "version_minor": 0
      },
      "text/plain": [
       "Validation:   0%|          | 0/180 [00:00<?, ?it/s]"
      ]
     },
     "metadata": {},
     "output_type": "display_data"
    },
    {
     "name": "stdout",
     "output_type": "stream",
     "text": [
      "val_losses 0.3335049370096789\n",
      "EarlyStopping counter: 5 out of 50\n"
     ]
    },
    {
     "data": {
      "application/vnd.jupyter.widget-view+json": {
       "model_id": "e9cf175c8e8643a4baa55020ad8ea50d",
       "version_major": 2,
       "version_minor": 0
      },
      "text/plain": [
       "Training:   0%|          | 0/330 [00:00<?, ?it/s]"
      ]
     },
     "metadata": {},
     "output_type": "display_data"
    },
    {
     "data": {
      "application/vnd.jupyter.widget-view+json": {
       "model_id": "e9a7d406851b474d8c20dcbecdf85348",
       "version_major": 2,
       "version_minor": 0
      },
      "text/plain": [
       "Validation:   0%|          | 0/180 [00:00<?, ?it/s]"
      ]
     },
     "metadata": {},
     "output_type": "display_data"
    },
    {
     "name": "stdout",
     "output_type": "stream",
     "text": [
      "val_losses 0.32050457961029477\n",
      "EarlyStopping counter: 6 out of 50\n"
     ]
    },
    {
     "data": {
      "application/vnd.jupyter.widget-view+json": {
       "model_id": "6e32d32b41b34a3bbf9b3487709b8c30",
       "version_major": 2,
       "version_minor": 0
      },
      "text/plain": [
       "Training:   0%|          | 0/330 [00:00<?, ?it/s]"
      ]
     },
     "metadata": {},
     "output_type": "display_data"
    },
    {
     "data": {
      "application/vnd.jupyter.widget-view+json": {
       "model_id": "5ff42e0bb9b748a48f29d108ef169b29",
       "version_major": 2,
       "version_minor": 0
      },
      "text/plain": [
       "Validation:   0%|          | 0/180 [00:00<?, ?it/s]"
      ]
     },
     "metadata": {},
     "output_type": "display_data"
    },
    {
     "name": "stdout",
     "output_type": "stream",
     "text": [
      "val_losses 0.3398435844315423\n",
      "EarlyStopping counter: 7 out of 50\n"
     ]
    },
    {
     "data": {
      "application/vnd.jupyter.widget-view+json": {
       "model_id": "103013aee96d4445832596c9004e2e14",
       "version_major": 2,
       "version_minor": 0
      },
      "text/plain": [
       "Training:   0%|          | 0/330 [00:00<?, ?it/s]"
      ]
     },
     "metadata": {},
     "output_type": "display_data"
    },
    {
     "data": {
      "application/vnd.jupyter.widget-view+json": {
       "model_id": "96b528aa0b5a4a458ee6ad4a9a96826c",
       "version_major": 2,
       "version_minor": 0
      },
      "text/plain": [
       "Validation:   0%|          | 0/180 [00:00<?, ?it/s]"
      ]
     },
     "metadata": {},
     "output_type": "display_data"
    },
    {
     "name": "stdout",
     "output_type": "stream",
     "text": [
      "val_losses 0.3546443938381142\n",
      "EarlyStopping counter: 8 out of 50\n"
     ]
    },
    {
     "data": {
      "application/vnd.jupyter.widget-view+json": {
       "model_id": "607d504d6d804ba1a4a3f8fdae387720",
       "version_major": 2,
       "version_minor": 0
      },
      "text/plain": [
       "Training:   0%|          | 0/330 [00:00<?, ?it/s]"
      ]
     },
     "metadata": {},
     "output_type": "display_data"
    },
    {
     "data": {
      "application/vnd.jupyter.widget-view+json": {
       "model_id": "89aaee753a804e0292ed292506481d12",
       "version_major": 2,
       "version_minor": 0
      },
      "text/plain": [
       "Validation:   0%|          | 0/180 [00:00<?, ?it/s]"
      ]
     },
     "metadata": {},
     "output_type": "display_data"
    },
    {
     "name": "stdout",
     "output_type": "stream",
     "text": [
      "val_losses 0.3373408305148284\n",
      "EarlyStopping counter: 9 out of 50\n"
     ]
    },
    {
     "data": {
      "application/vnd.jupyter.widget-view+json": {
       "model_id": "e754faa031d14158bfdd8e637e7b0280",
       "version_major": 2,
       "version_minor": 0
      },
      "text/plain": [
       "Training:   0%|          | 0/330 [00:00<?, ?it/s]"
      ]
     },
     "metadata": {},
     "output_type": "display_data"
    },
    {
     "data": {
      "application/vnd.jupyter.widget-view+json": {
       "model_id": "f9be3e20be9f4cdaa7214d83d68afdd1",
       "version_major": 2,
       "version_minor": 0
      },
      "text/plain": [
       "Validation:   0%|          | 0/180 [00:00<?, ?it/s]"
      ]
     },
     "metadata": {},
     "output_type": "display_data"
    },
    {
     "name": "stdout",
     "output_type": "stream",
     "text": [
      "val_losses 0.2022781355927388\n",
      "Validation loss decreased (0.303937 --> 0.202278).  Saving model ...\n"
     ]
    },
    {
     "data": {
      "application/vnd.jupyter.widget-view+json": {
       "model_id": "403af3159b224e8a9674b3fb80b5cd5c",
       "version_major": 2,
       "version_minor": 0
      },
      "text/plain": [
       "Training:   0%|          | 0/330 [00:00<?, ?it/s]"
      ]
     },
     "metadata": {},
     "output_type": "display_data"
    },
    {
     "data": {
      "application/vnd.jupyter.widget-view+json": {
       "model_id": "67106fe3ead84c439eada651179db24e",
       "version_major": 2,
       "version_minor": 0
      },
      "text/plain": [
       "Validation:   0%|          | 0/180 [00:00<?, ?it/s]"
      ]
     },
     "metadata": {},
     "output_type": "display_data"
    },
    {
     "name": "stdout",
     "output_type": "stream",
     "text": [
      "val_losses 0.21021084441906876\n",
      "EarlyStopping counter: 1 out of 50\n"
     ]
    },
    {
     "data": {
      "application/vnd.jupyter.widget-view+json": {
       "model_id": "00d3249499454fdb85679e3b807812fa",
       "version_major": 2,
       "version_minor": 0
      },
      "text/plain": [
       "Training:   0%|          | 0/330 [00:00<?, ?it/s]"
      ]
     },
     "metadata": {},
     "output_type": "display_data"
    },
    {
     "data": {
      "application/vnd.jupyter.widget-view+json": {
       "model_id": "960d7ec3e94b4ccf8875bdf4010073af",
       "version_major": 2,
       "version_minor": 0
      },
      "text/plain": [
       "Validation:   0%|          | 0/180 [00:00<?, ?it/s]"
      ]
     },
     "metadata": {},
     "output_type": "display_data"
    },
    {
     "name": "stdout",
     "output_type": "stream",
     "text": [
      "val_losses 0.24239151862760386\n",
      "EarlyStopping counter: 2 out of 50\n"
     ]
    },
    {
     "data": {
      "application/vnd.jupyter.widget-view+json": {
       "model_id": "671399721c924e339bd1a1a16303976e",
       "version_major": 2,
       "version_minor": 0
      },
      "text/plain": [
       "Training:   0%|          | 0/330 [00:00<?, ?it/s]"
      ]
     },
     "metadata": {},
     "output_type": "display_data"
    },
    {
     "data": {
      "application/vnd.jupyter.widget-view+json": {
       "model_id": "bb70b2c87e6c4e0fb2bcc21da51b94b0",
       "version_major": 2,
       "version_minor": 0
      },
      "text/plain": [
       "Validation:   0%|          | 0/180 [00:00<?, ?it/s]"
      ]
     },
     "metadata": {},
     "output_type": "display_data"
    },
    {
     "name": "stdout",
     "output_type": "stream",
     "text": [
      "val_losses 0.27865077348219025\n",
      "EarlyStopping counter: 3 out of 50\n"
     ]
    },
    {
     "data": {
      "application/vnd.jupyter.widget-view+json": {
       "model_id": "f68d4b3a2c7c4ca881a80cb16aa40f49",
       "version_major": 2,
       "version_minor": 0
      },
      "text/plain": [
       "Training:   0%|          | 0/330 [00:00<?, ?it/s]"
      ]
     },
     "metadata": {},
     "output_type": "display_data"
    },
    {
     "data": {
      "application/vnd.jupyter.widget-view+json": {
       "model_id": "bb4b1a36312c49559c7ea983285e4d80",
       "version_major": 2,
       "version_minor": 0
      },
      "text/plain": [
       "Validation:   0%|          | 0/180 [00:00<?, ?it/s]"
      ]
     },
     "metadata": {},
     "output_type": "display_data"
    },
    {
     "name": "stdout",
     "output_type": "stream",
     "text": [
      "val_losses 0.31075024927655853\n",
      "EarlyStopping counter: 4 out of 50\n"
     ]
    },
    {
     "data": {
      "application/vnd.jupyter.widget-view+json": {
       "model_id": "f76afc0a093343758b27385f5ae0549c",
       "version_major": 2,
       "version_minor": 0
      },
      "text/plain": [
       "Training:   0%|          | 0/330 [00:00<?, ?it/s]"
      ]
     },
     "metadata": {},
     "output_type": "display_data"
    },
    {
     "data": {
      "application/vnd.jupyter.widget-view+json": {
       "model_id": "86825b2e91e34045b9502a7d856aa3f4",
       "version_major": 2,
       "version_minor": 0
      },
      "text/plain": [
       "Validation:   0%|          | 0/180 [00:00<?, ?it/s]"
      ]
     },
     "metadata": {},
     "output_type": "display_data"
    },
    {
     "name": "stdout",
     "output_type": "stream",
     "text": [
      "val_losses 0.2801252687970797\n",
      "EarlyStopping counter: 5 out of 50\n"
     ]
    },
    {
     "data": {
      "application/vnd.jupyter.widget-view+json": {
       "model_id": "d14b8824aa954e95a49d12ebc46b5dcb",
       "version_major": 2,
       "version_minor": 0
      },
      "text/plain": [
       "Training:   0%|          | 0/330 [00:00<?, ?it/s]"
      ]
     },
     "metadata": {},
     "output_type": "display_data"
    },
    {
     "data": {
      "application/vnd.jupyter.widget-view+json": {
       "model_id": "0e93f185be5b4ca88974e10550e98642",
       "version_major": 2,
       "version_minor": 0
      },
      "text/plain": [
       "Validation:   0%|          | 0/180 [00:00<?, ?it/s]"
      ]
     },
     "metadata": {},
     "output_type": "display_data"
    },
    {
     "name": "stdout",
     "output_type": "stream",
     "text": [
      "val_losses 0.28945618329776657\n",
      "EarlyStopping counter: 6 out of 50\n"
     ]
    },
    {
     "data": {
      "application/vnd.jupyter.widget-view+json": {
       "model_id": "b573a3c2d34b4ffbabd54955e55f5699",
       "version_major": 2,
       "version_minor": 0
      },
      "text/plain": [
       "Training:   0%|          | 0/330 [00:00<?, ?it/s]"
      ]
     },
     "metadata": {},
     "output_type": "display_data"
    },
    {
     "data": {
      "application/vnd.jupyter.widget-view+json": {
       "model_id": "713d876f043d4c20a6740bfc2dbd5194",
       "version_major": 2,
       "version_minor": 0
      },
      "text/plain": [
       "Validation:   0%|          | 0/180 [00:00<?, ?it/s]"
      ]
     },
     "metadata": {},
     "output_type": "display_data"
    },
    {
     "name": "stdout",
     "output_type": "stream",
     "text": [
      "val_losses 0.32630015959342323\n",
      "EarlyStopping counter: 7 out of 50\n"
     ]
    },
    {
     "data": {
      "application/vnd.jupyter.widget-view+json": {
       "model_id": "7d1d22e974704c5dad8a9a64397d9db5",
       "version_major": 2,
       "version_minor": 0
      },
      "text/plain": [
       "Training:   0%|          | 0/330 [00:00<?, ?it/s]"
      ]
     },
     "metadata": {},
     "output_type": "display_data"
    },
    {
     "data": {
      "application/vnd.jupyter.widget-view+json": {
       "model_id": "356031f603864322a65473c8fcde28b9",
       "version_major": 2,
       "version_minor": 0
      },
      "text/plain": [
       "Validation:   0%|          | 0/180 [00:00<?, ?it/s]"
      ]
     },
     "metadata": {},
     "output_type": "display_data"
    },
    {
     "name": "stdout",
     "output_type": "stream",
     "text": [
      "val_losses 0.31863090917468073\n",
      "EarlyStopping counter: 8 out of 50\n"
     ]
    },
    {
     "data": {
      "application/vnd.jupyter.widget-view+json": {
       "model_id": "5cb2eade379240d6a04f2e61c96cd88e",
       "version_major": 2,
       "version_minor": 0
      },
      "text/plain": [
       "Training:   0%|          | 0/330 [00:00<?, ?it/s]"
      ]
     },
     "metadata": {},
     "output_type": "display_data"
    },
    {
     "data": {
      "application/vnd.jupyter.widget-view+json": {
       "model_id": "d3c9551dd8174a37b9101b5d4ecf6c78",
       "version_major": 2,
       "version_minor": 0
      },
      "text/plain": [
       "Validation:   0%|          | 0/180 [00:00<?, ?it/s]"
      ]
     },
     "metadata": {},
     "output_type": "display_data"
    },
    {
     "name": "stdout",
     "output_type": "stream",
     "text": [
      "val_losses 0.2912210914823744\n",
      "EarlyStopping counter: 9 out of 50\n"
     ]
    },
    {
     "data": {
      "application/vnd.jupyter.widget-view+json": {
       "model_id": "718349d858ad4b60af7b0737d396ce38",
       "version_major": 2,
       "version_minor": 0
      },
      "text/plain": [
       "Training:   0%|          | 0/330 [00:00<?, ?it/s]"
      ]
     },
     "metadata": {},
     "output_type": "display_data"
    },
    {
     "data": {
      "application/vnd.jupyter.widget-view+json": {
       "model_id": "632abb4a07214d3d8fb1736770408a48",
       "version_major": 2,
       "version_minor": 0
      },
      "text/plain": [
       "Validation:   0%|          | 0/180 [00:00<?, ?it/s]"
      ]
     },
     "metadata": {},
     "output_type": "display_data"
    },
    {
     "name": "stdout",
     "output_type": "stream",
     "text": [
      "val_losses 0.3132952917781141\n",
      "EarlyStopping counter: 10 out of 50\n"
     ]
    },
    {
     "data": {
      "application/vnd.jupyter.widget-view+json": {
       "model_id": "4dd1ff0cb89145bebb108fcaf8ae3c76",
       "version_major": 2,
       "version_minor": 0
      },
      "text/plain": [
       "Training:   0%|          | 0/330 [00:00<?, ?it/s]"
      ]
     },
     "metadata": {},
     "output_type": "display_data"
    },
    {
     "data": {
      "application/vnd.jupyter.widget-view+json": {
       "model_id": "0463681f98c044b9a33d6e3fac0d9ec9",
       "version_major": 2,
       "version_minor": 0
      },
      "text/plain": [
       "Validation:   0%|          | 0/180 [00:00<?, ?it/s]"
      ]
     },
     "metadata": {},
     "output_type": "display_data"
    },
    {
     "name": "stdout",
     "output_type": "stream",
     "text": [
      "val_losses 0.333297528906001\n",
      "EarlyStopping counter: 11 out of 50\n"
     ]
    },
    {
     "data": {
      "application/vnd.jupyter.widget-view+json": {
       "model_id": "6c46af59cc1a4829bae708c2854e8033",
       "version_major": 2,
       "version_minor": 0
      },
      "text/plain": [
       "Training:   0%|          | 0/330 [00:00<?, ?it/s]"
      ]
     },
     "metadata": {},
     "output_type": "display_data"
    },
    {
     "data": {
      "application/vnd.jupyter.widget-view+json": {
       "model_id": "dd15a581fd1c4412af6df91eb3a17495",
       "version_major": 2,
       "version_minor": 0
      },
      "text/plain": [
       "Validation:   0%|          | 0/180 [00:00<?, ?it/s]"
      ]
     },
     "metadata": {},
     "output_type": "display_data"
    },
    {
     "name": "stdout",
     "output_type": "stream",
     "text": [
      "val_losses 0.2820808769100242\n",
      "EarlyStopping counter: 12 out of 50\n"
     ]
    },
    {
     "data": {
      "application/vnd.jupyter.widget-view+json": {
       "model_id": "b5ed88e641db4897aa6dcb7849a3fd5a",
       "version_major": 2,
       "version_minor": 0
      },
      "text/plain": [
       "Training:   0%|          | 0/330 [00:00<?, ?it/s]"
      ]
     },
     "metadata": {},
     "output_type": "display_data"
    },
    {
     "data": {
      "application/vnd.jupyter.widget-view+json": {
       "model_id": "c49dc640896941c3803b9d5be3cf2dbf",
       "version_major": 2,
       "version_minor": 0
      },
      "text/plain": [
       "Validation:   0%|          | 0/180 [00:00<?, ?it/s]"
      ]
     },
     "metadata": {},
     "output_type": "display_data"
    },
    {
     "name": "stdout",
     "output_type": "stream",
     "text": [
      "val_losses 0.30818567408455744\n",
      "EarlyStopping counter: 13 out of 50\n"
     ]
    },
    {
     "data": {
      "application/vnd.jupyter.widget-view+json": {
       "model_id": "6713ea42b5df4b4db3df3e953b2cfec8",
       "version_major": 2,
       "version_minor": 0
      },
      "text/plain": [
       "Training:   0%|          | 0/330 [00:00<?, ?it/s]"
      ]
     },
     "metadata": {},
     "output_type": "display_data"
    },
    {
     "data": {
      "application/vnd.jupyter.widget-view+json": {
       "model_id": "6a20234316a549cdb23325515f6f8ea4",
       "version_major": 2,
       "version_minor": 0
      },
      "text/plain": [
       "Validation:   0%|          | 0/180 [00:00<?, ?it/s]"
      ]
     },
     "metadata": {},
     "output_type": "display_data"
    },
    {
     "name": "stdout",
     "output_type": "stream",
     "text": [
      "val_losses 0.2036741631726424\n",
      "EarlyStopping counter: 14 out of 50\n"
     ]
    },
    {
     "data": {
      "application/vnd.jupyter.widget-view+json": {
       "model_id": "7f6236a9f27b4baaae0dcf508343bddf",
       "version_major": 2,
       "version_minor": 0
      },
      "text/plain": [
       "Training:   0%|          | 0/330 [00:00<?, ?it/s]"
      ]
     },
     "metadata": {},
     "output_type": "display_data"
    },
    {
     "data": {
      "application/vnd.jupyter.widget-view+json": {
       "model_id": "f2194e7e8d4a432698a5afdab4dc957a",
       "version_major": 2,
       "version_minor": 0
      },
      "text/plain": [
       "Validation:   0%|          | 0/180 [00:00<?, ?it/s]"
      ]
     },
     "metadata": {},
     "output_type": "display_data"
    },
    {
     "name": "stdout",
     "output_type": "stream",
     "text": [
      "val_losses 0.23931372194654413\n",
      "EarlyStopping counter: 15 out of 50\n"
     ]
    },
    {
     "data": {
      "application/vnd.jupyter.widget-view+json": {
       "model_id": "5907b597fc0642adafc111b506d01fd7",
       "version_major": 2,
       "version_minor": 0
      },
      "text/plain": [
       "Training:   0%|          | 0/330 [00:00<?, ?it/s]"
      ]
     },
     "metadata": {},
     "output_type": "display_data"
    },
    {
     "data": {
      "application/vnd.jupyter.widget-view+json": {
       "model_id": "4eb876d00e5549c3b8ac5817c0126671",
       "version_major": 2,
       "version_minor": 0
      },
      "text/plain": [
       "Validation:   0%|          | 0/180 [00:00<?, ?it/s]"
      ]
     },
     "metadata": {},
     "output_type": "display_data"
    },
    {
     "name": "stdout",
     "output_type": "stream",
     "text": [
      "val_losses 0.2538939256634977\n",
      "EarlyStopping counter: 16 out of 50\n"
     ]
    },
    {
     "data": {
      "application/vnd.jupyter.widget-view+json": {
       "model_id": "1c4b4ab87a414781896b1de7616d23d4",
       "version_major": 2,
       "version_minor": 0
      },
      "text/plain": [
       "Training:   0%|          | 0/330 [00:00<?, ?it/s]"
      ]
     },
     "metadata": {},
     "output_type": "display_data"
    },
    {
     "data": {
      "application/vnd.jupyter.widget-view+json": {
       "model_id": "d9cb5446822644fda48b0d5dc5b44fb2",
       "version_major": 2,
       "version_minor": 0
      },
      "text/plain": [
       "Validation:   0%|          | 0/180 [00:00<?, ?it/s]"
      ]
     },
     "metadata": {},
     "output_type": "display_data"
    },
    {
     "name": "stdout",
     "output_type": "stream",
     "text": [
      "val_losses 0.265544255822897\n",
      "EarlyStopping counter: 17 out of 50\n"
     ]
    },
    {
     "data": {
      "application/vnd.jupyter.widget-view+json": {
       "model_id": "83288284975a4eeba5c518de14a80759",
       "version_major": 2,
       "version_minor": 0
      },
      "text/plain": [
       "Training:   0%|          | 0/330 [00:00<?, ?it/s]"
      ]
     },
     "metadata": {},
     "output_type": "display_data"
    },
    {
     "data": {
      "application/vnd.jupyter.widget-view+json": {
       "model_id": "4295f127a3dd4877bca3984d3980654f",
       "version_major": 2,
       "version_minor": 0
      },
      "text/plain": [
       "Validation:   0%|          | 0/180 [00:00<?, ?it/s]"
      ]
     },
     "metadata": {},
     "output_type": "display_data"
    },
    {
     "name": "stdout",
     "output_type": "stream",
     "text": [
      "val_losses 0.29531792029738424\n",
      "EarlyStopping counter: 18 out of 50\n"
     ]
    },
    {
     "data": {
      "application/vnd.jupyter.widget-view+json": {
       "model_id": "17d8554ba89d44e7991b4f2eb493bb75",
       "version_major": 2,
       "version_minor": 0
      },
      "text/plain": [
       "Training:   0%|          | 0/330 [00:00<?, ?it/s]"
      ]
     },
     "metadata": {},
     "output_type": "display_data"
    },
    {
     "data": {
      "application/vnd.jupyter.widget-view+json": {
       "model_id": "18037e8530ae475bb320714a1766be6c",
       "version_major": 2,
       "version_minor": 0
      },
      "text/plain": [
       "Validation:   0%|          | 0/180 [00:00<?, ?it/s]"
      ]
     },
     "metadata": {},
     "output_type": "display_data"
    },
    {
     "name": "stdout",
     "output_type": "stream",
     "text": [
      "val_losses 0.30286068552070194\n",
      "EarlyStopping counter: 19 out of 50\n"
     ]
    },
    {
     "data": {
      "application/vnd.jupyter.widget-view+json": {
       "model_id": "8af15b334c6941709010db0e6c55c9db",
       "version_major": 2,
       "version_minor": 0
      },
      "text/plain": [
       "Training:   0%|          | 0/330 [00:00<?, ?it/s]"
      ]
     },
     "metadata": {},
     "output_type": "display_data"
    },
    {
     "data": {
      "application/vnd.jupyter.widget-view+json": {
       "model_id": "8fd3aaa123d840418325578b9221b99c",
       "version_major": 2,
       "version_minor": 0
      },
      "text/plain": [
       "Validation:   0%|          | 0/180 [00:00<?, ?it/s]"
      ]
     },
     "metadata": {},
     "output_type": "display_data"
    },
    {
     "name": "stdout",
     "output_type": "stream",
     "text": [
      "val_losses 0.3203053791489866\n",
      "EarlyStopping counter: 20 out of 50\n"
     ]
    },
    {
     "data": {
      "application/vnd.jupyter.widget-view+json": {
       "model_id": "87bcc861411642e8914d79c5c879dc9c",
       "version_major": 2,
       "version_minor": 0
      },
      "text/plain": [
       "Training:   0%|          | 0/330 [00:00<?, ?it/s]"
      ]
     },
     "metadata": {},
     "output_type": "display_data"
    },
    {
     "data": {
      "application/vnd.jupyter.widget-view+json": {
       "model_id": "681dc79c501a43f194a3cae83dc431e7",
       "version_major": 2,
       "version_minor": 0
      },
      "text/plain": [
       "Validation:   0%|          | 0/180 [00:00<?, ?it/s]"
      ]
     },
     "metadata": {},
     "output_type": "display_data"
    },
    {
     "name": "stdout",
     "output_type": "stream",
     "text": [
      "val_losses 0.2851855191919539\n",
      "EarlyStopping counter: 21 out of 50\n"
     ]
    },
    {
     "data": {
      "application/vnd.jupyter.widget-view+json": {
       "model_id": "9aba1cf71ae9478fa75ba0afa8c1ba5f",
       "version_major": 2,
       "version_minor": 0
      },
      "text/plain": [
       "Training:   0%|          | 0/330 [00:00<?, ?it/s]"
      ]
     },
     "metadata": {},
     "output_type": "display_data"
    },
    {
     "data": {
      "application/vnd.jupyter.widget-view+json": {
       "model_id": "6a9101e708584559ac083ab3d1c66a33",
       "version_major": 2,
       "version_minor": 0
      },
      "text/plain": [
       "Validation:   0%|          | 0/180 [00:00<?, ?it/s]"
      ]
     },
     "metadata": {},
     "output_type": "display_data"
    },
    {
     "name": "stdout",
     "output_type": "stream",
     "text": [
      "val_losses 0.310553940716717\n",
      "EarlyStopping counter: 22 out of 50\n"
     ]
    },
    {
     "data": {
      "application/vnd.jupyter.widget-view+json": {
       "model_id": "db034d8567574666b0aed23d5c151a2e",
       "version_major": 2,
       "version_minor": 0
      },
      "text/plain": [
       "Training:   0%|          | 0/330 [00:00<?, ?it/s]"
      ]
     },
     "metadata": {},
     "output_type": "display_data"
    },
    {
     "data": {
      "application/vnd.jupyter.widget-view+json": {
       "model_id": "8a4e65e531e34968abc3cc548f04b1bb",
       "version_major": 2,
       "version_minor": 0
      },
      "text/plain": [
       "Validation:   0%|          | 0/180 [00:00<?, ?it/s]"
      ]
     },
     "metadata": {},
     "output_type": "display_data"
    },
    {
     "name": "stdout",
     "output_type": "stream",
     "text": [
      "val_losses 0.28499776162207124\n",
      "EarlyStopping counter: 23 out of 50\n"
     ]
    },
    {
     "data": {
      "application/vnd.jupyter.widget-view+json": {
       "model_id": "a7523299b607409b94e6d24cf275738c",
       "version_major": 2,
       "version_minor": 0
      },
      "text/plain": [
       "Training:   0%|          | 0/330 [00:00<?, ?it/s]"
      ]
     },
     "metadata": {},
     "output_type": "display_data"
    },
    {
     "data": {
      "application/vnd.jupyter.widget-view+json": {
       "model_id": "05a384349c3a47db94adf95d1d4606f1",
       "version_major": 2,
       "version_minor": 0
      },
      "text/plain": [
       "Validation:   0%|          | 0/180 [00:00<?, ?it/s]"
      ]
     },
     "metadata": {},
     "output_type": "display_data"
    },
    {
     "name": "stdout",
     "output_type": "stream",
     "text": [
      "val_losses 0.31447045186327566\n",
      "EarlyStopping counter: 24 out of 50\n"
     ]
    },
    {
     "data": {
      "application/vnd.jupyter.widget-view+json": {
       "model_id": "faef0d38621943d59ff782bcad7abf4b",
       "version_major": 2,
       "version_minor": 0
      },
      "text/plain": [
       "Training:   0%|          | 0/330 [00:00<?, ?it/s]"
      ]
     },
     "metadata": {},
     "output_type": "display_data"
    },
    {
     "data": {
      "application/vnd.jupyter.widget-view+json": {
       "model_id": "66f93d5f65a644f3b0c247372e773c84",
       "version_major": 2,
       "version_minor": 0
      },
      "text/plain": [
       "Validation:   0%|          | 0/180 [00:00<?, ?it/s]"
      ]
     },
     "metadata": {},
     "output_type": "display_data"
    },
    {
     "name": "stdout",
     "output_type": "stream",
     "text": [
      "val_losses 0.3217797534333335\n",
      "EarlyStopping counter: 25 out of 50\n"
     ]
    },
    {
     "data": {
      "application/vnd.jupyter.widget-view+json": {
       "model_id": "6cc5564360144e56b36d4ffcc2e1f87b",
       "version_major": 2,
       "version_minor": 0
      },
      "text/plain": [
       "Training:   0%|          | 0/330 [00:00<?, ?it/s]"
      ]
     },
     "metadata": {},
     "output_type": "display_data"
    },
    {
     "data": {
      "application/vnd.jupyter.widget-view+json": {
       "model_id": "91f9dfa0a4af424cadb6e32fab7915c8",
       "version_major": 2,
       "version_minor": 0
      },
      "text/plain": [
       "Validation:   0%|          | 0/180 [00:00<?, ?it/s]"
      ]
     },
     "metadata": {},
     "output_type": "display_data"
    },
    {
     "name": "stdout",
     "output_type": "stream",
     "text": [
      "val_losses 0.33538919256793126\n",
      "EarlyStopping counter: 26 out of 50\n"
     ]
    },
    {
     "data": {
      "application/vnd.jupyter.widget-view+json": {
       "model_id": "890bb78cafd34fc18244dccb92edfca3",
       "version_major": 2,
       "version_minor": 0
      },
      "text/plain": [
       "Training:   0%|          | 0/330 [00:00<?, ?it/s]"
      ]
     },
     "metadata": {},
     "output_type": "display_data"
    },
    {
     "data": {
      "application/vnd.jupyter.widget-view+json": {
       "model_id": "a6df8850dc154bf5a1e6f883c85601a1",
       "version_major": 2,
       "version_minor": 0
      },
      "text/plain": [
       "Validation:   0%|          | 0/180 [00:00<?, ?it/s]"
      ]
     },
     "metadata": {},
     "output_type": "display_data"
    },
    {
     "name": "stdout",
     "output_type": "stream",
     "text": [
      "val_losses 0.3388556463023027\n",
      "EarlyStopping counter: 27 out of 50\n"
     ]
    },
    {
     "data": {
      "application/vnd.jupyter.widget-view+json": {
       "model_id": "79f0eedc742745978b6a8f7ec2a5b6c2",
       "version_major": 2,
       "version_minor": 0
      },
      "text/plain": [
       "Training:   0%|          | 0/330 [00:00<?, ?it/s]"
      ]
     },
     "metadata": {},
     "output_type": "display_data"
    },
    {
     "data": {
      "application/vnd.jupyter.widget-view+json": {
       "model_id": "149ecacafb624075b52f10efd1e3b9fa",
       "version_major": 2,
       "version_minor": 0
      },
      "text/plain": [
       "Validation:   0%|          | 0/180 [00:00<?, ?it/s]"
      ]
     },
     "metadata": {},
     "output_type": "display_data"
    },
    {
     "name": "stdout",
     "output_type": "stream",
     "text": [
      "val_losses 0.30236170490582787\n",
      "EarlyStopping counter: 28 out of 50\n"
     ]
    },
    {
     "data": {
      "application/vnd.jupyter.widget-view+json": {
       "model_id": "1d3b872669c64f338c911b3f069d63dd",
       "version_major": 2,
       "version_minor": 0
      },
      "text/plain": [
       "Training:   0%|          | 0/330 [00:00<?, ?it/s]"
      ]
     },
     "metadata": {},
     "output_type": "display_data"
    },
    {
     "data": {
      "application/vnd.jupyter.widget-view+json": {
       "model_id": "79db5b3f15764f84b8192f6d276d7d89",
       "version_major": 2,
       "version_minor": 0
      },
      "text/plain": [
       "Validation:   0%|          | 0/180 [00:00<?, ?it/s]"
      ]
     },
     "metadata": {},
     "output_type": "display_data"
    },
    {
     "name": "stdout",
     "output_type": "stream",
     "text": [
      "val_losses 0.2988743234839704\n",
      "EarlyStopping counter: 29 out of 50\n"
     ]
    },
    {
     "data": {
      "application/vnd.jupyter.widget-view+json": {
       "model_id": "ce77acf22a7a4767b5a90583f101e8c3",
       "version_major": 2,
       "version_minor": 0
      },
      "text/plain": [
       "Training:   0%|          | 0/330 [00:00<?, ?it/s]"
      ]
     },
     "metadata": {},
     "output_type": "display_data"
    },
    {
     "data": {
      "application/vnd.jupyter.widget-view+json": {
       "model_id": "e101b3e3d16f4d5ba67f9588e3412dab",
       "version_major": 2,
       "version_minor": 0
      },
      "text/plain": [
       "Validation:   0%|          | 0/180 [00:00<?, ?it/s]"
      ]
     },
     "metadata": {},
     "output_type": "display_data"
    },
    {
     "name": "stdout",
     "output_type": "stream",
     "text": [
      "val_losses 0.2482244100007746\n",
      "EarlyStopping counter: 30 out of 50\n"
     ]
    },
    {
     "data": {
      "application/vnd.jupyter.widget-view+json": {
       "model_id": "30d5e348a4f7425ca73ef80865f3a69d",
       "version_major": 2,
       "version_minor": 0
      },
      "text/plain": [
       "Training:   0%|          | 0/330 [00:00<?, ?it/s]"
      ]
     },
     "metadata": {},
     "output_type": "display_data"
    },
    {
     "data": {
      "application/vnd.jupyter.widget-view+json": {
       "model_id": "e2a240997d554595b33aff93471718b8",
       "version_major": 2,
       "version_minor": 0
      },
      "text/plain": [
       "Validation:   0%|          | 0/180 [00:00<?, ?it/s]"
      ]
     },
     "metadata": {},
     "output_type": "display_data"
    },
    {
     "name": "stdout",
     "output_type": "stream",
     "text": [
      "val_losses 0.15424997547848357\n",
      "Validation loss decreased (0.202278 --> 0.154250).  Saving model ...\n"
     ]
    },
    {
     "data": {
      "application/vnd.jupyter.widget-view+json": {
       "model_id": "cc41a0bcb8c34655a02cd375f9c4758d",
       "version_major": 2,
       "version_minor": 0
      },
      "text/plain": [
       "Training:   0%|          | 0/330 [00:00<?, ?it/s]"
      ]
     },
     "metadata": {},
     "output_type": "display_data"
    },
    {
     "data": {
      "application/vnd.jupyter.widget-view+json": {
       "model_id": "104c8ff625484d7592dd7a90a4767ff5",
       "version_major": 2,
       "version_minor": 0
      },
      "text/plain": [
       "Validation:   0%|          | 0/180 [00:00<?, ?it/s]"
      ]
     },
     "metadata": {},
     "output_type": "display_data"
    },
    {
     "name": "stdout",
     "output_type": "stream",
     "text": [
      "val_losses 0.18938342469433944\n",
      "EarlyStopping counter: 1 out of 50\n"
     ]
    },
    {
     "data": {
      "application/vnd.jupyter.widget-view+json": {
       "model_id": "a923f27c1a95424585e28455221b5f0d",
       "version_major": 2,
       "version_minor": 0
      },
      "text/plain": [
       "Training:   0%|          | 0/330 [00:00<?, ?it/s]"
      ]
     },
     "metadata": {},
     "output_type": "display_data"
    },
    {
     "data": {
      "application/vnd.jupyter.widget-view+json": {
       "model_id": "fae3dcaaca70456a97bc7f2f31507f6a",
       "version_major": 2,
       "version_minor": 0
      },
      "text/plain": [
       "Validation:   0%|          | 0/180 [00:00<?, ?it/s]"
      ]
     },
     "metadata": {},
     "output_type": "display_data"
    },
    {
     "name": "stdout",
     "output_type": "stream",
     "text": [
      "val_losses 0.21226858906447887\n",
      "EarlyStopping counter: 2 out of 50\n"
     ]
    },
    {
     "data": {
      "application/vnd.jupyter.widget-view+json": {
       "model_id": "4be4f8ae4e0146ee892585ffd4d90475",
       "version_major": 2,
       "version_minor": 0
      },
      "text/plain": [
       "Training:   0%|          | 0/330 [00:00<?, ?it/s]"
      ]
     },
     "metadata": {},
     "output_type": "display_data"
    },
    {
     "data": {
      "application/vnd.jupyter.widget-view+json": {
       "model_id": "8f309d0916d1414ba4a910da738e9d50",
       "version_major": 2,
       "version_minor": 0
      },
      "text/plain": [
       "Validation:   0%|          | 0/180 [00:00<?, ?it/s]"
      ]
     },
     "metadata": {},
     "output_type": "display_data"
    },
    {
     "name": "stdout",
     "output_type": "stream",
     "text": [
      "val_losses 0.22699890786574947\n",
      "EarlyStopping counter: 3 out of 50\n"
     ]
    },
    {
     "data": {
      "application/vnd.jupyter.widget-view+json": {
       "model_id": "6f817caebf66499d986a4d8e4d00899c",
       "version_major": 2,
       "version_minor": 0
      },
      "text/plain": [
       "Training:   0%|          | 0/330 [00:00<?, ?it/s]"
      ]
     },
     "metadata": {},
     "output_type": "display_data"
    },
    {
     "data": {
      "application/vnd.jupyter.widget-view+json": {
       "model_id": "ea8fb86c6c934cf092df8fbe405512c0",
       "version_major": 2,
       "version_minor": 0
      },
      "text/plain": [
       "Validation:   0%|          | 0/180 [00:00<?, ?it/s]"
      ]
     },
     "metadata": {},
     "output_type": "display_data"
    },
    {
     "name": "stdout",
     "output_type": "stream",
     "text": [
      "val_losses 0.24867982115182613\n",
      "EarlyStopping counter: 4 out of 50\n"
     ]
    },
    {
     "data": {
      "application/vnd.jupyter.widget-view+json": {
       "model_id": "b3fb3b0565f149399e23fc5d484ca8a9",
       "version_major": 2,
       "version_minor": 0
      },
      "text/plain": [
       "Training:   0%|          | 0/330 [00:00<?, ?it/s]"
      ]
     },
     "metadata": {},
     "output_type": "display_data"
    },
    {
     "data": {
      "application/vnd.jupyter.widget-view+json": {
       "model_id": "9abde49a028446ea9e14c4462315f987",
       "version_major": 2,
       "version_minor": 0
      },
      "text/plain": [
       "Validation:   0%|          | 0/180 [00:00<?, ?it/s]"
      ]
     },
     "metadata": {},
     "output_type": "display_data"
    },
    {
     "name": "stdout",
     "output_type": "stream",
     "text": [
      "val_losses 0.24853521117733585\n",
      "EarlyStopping counter: 5 out of 50\n"
     ]
    },
    {
     "data": {
      "application/vnd.jupyter.widget-view+json": {
       "model_id": "16b0406d07634468861aea82b54e6252",
       "version_major": 2,
       "version_minor": 0
      },
      "text/plain": [
       "Training:   0%|          | 0/330 [00:00<?, ?it/s]"
      ]
     },
     "metadata": {},
     "output_type": "display_data"
    },
    {
     "data": {
      "application/vnd.jupyter.widget-view+json": {
       "model_id": "f875bc51080148eb9af3ae4b67e19bf3",
       "version_major": 2,
       "version_minor": 0
      },
      "text/plain": [
       "Validation:   0%|          | 0/180 [00:00<?, ?it/s]"
      ]
     },
     "metadata": {},
     "output_type": "display_data"
    },
    {
     "name": "stdout",
     "output_type": "stream",
     "text": [
      "val_losses 0.2638159864478641\n",
      "EarlyStopping counter: 6 out of 50\n"
     ]
    },
    {
     "data": {
      "application/vnd.jupyter.widget-view+json": {
       "model_id": "729ce85d3f394834abe1ec513c95acb5",
       "version_major": 2,
       "version_minor": 0
      },
      "text/plain": [
       "Training:   0%|          | 0/330 [00:00<?, ?it/s]"
      ]
     },
     "metadata": {},
     "output_type": "display_data"
    },
    {
     "data": {
      "application/vnd.jupyter.widget-view+json": {
       "model_id": "a053025f1592447f9c687277a00bcfc9",
       "version_major": 2,
       "version_minor": 0
      },
      "text/plain": [
       "Validation:   0%|          | 0/180 [00:00<?, ?it/s]"
      ]
     },
     "metadata": {},
     "output_type": "display_data"
    },
    {
     "name": "stdout",
     "output_type": "stream",
     "text": [
      "val_losses 0.27299653448992306\n",
      "EarlyStopping counter: 7 out of 50\n"
     ]
    },
    {
     "data": {
      "application/vnd.jupyter.widget-view+json": {
       "model_id": "9f06cbf2a9ed486ebc2c408d3a28c8f4",
       "version_major": 2,
       "version_minor": 0
      },
      "text/plain": [
       "Training:   0%|          | 0/330 [00:00<?, ?it/s]"
      ]
     },
     "metadata": {},
     "output_type": "display_data"
    },
    {
     "data": {
      "application/vnd.jupyter.widget-view+json": {
       "model_id": "22f60cb0327a48b2922fc8358bf21d2d",
       "version_major": 2,
       "version_minor": 0
      },
      "text/plain": [
       "Validation:   0%|          | 0/180 [00:00<?, ?it/s]"
      ]
     },
     "metadata": {},
     "output_type": "display_data"
    },
    {
     "name": "stdout",
     "output_type": "stream",
     "text": [
      "val_losses 0.26194326223598585\n",
      "EarlyStopping counter: 8 out of 50\n"
     ]
    },
    {
     "data": {
      "application/vnd.jupyter.widget-view+json": {
       "model_id": "4cfe3a4bab53447a9efdb8b614735bde",
       "version_major": 2,
       "version_minor": 0
      },
      "text/plain": [
       "Training:   0%|          | 0/330 [00:00<?, ?it/s]"
      ]
     },
     "metadata": {},
     "output_type": "display_data"
    },
    {
     "data": {
      "application/vnd.jupyter.widget-view+json": {
       "model_id": "1264caff1fbb45d8bce3cd4349c5693a",
       "version_major": 2,
       "version_minor": 0
      },
      "text/plain": [
       "Validation:   0%|          | 0/180 [00:00<?, ?it/s]"
      ]
     },
     "metadata": {},
     "output_type": "display_data"
    },
    {
     "name": "stdout",
     "output_type": "stream",
     "text": [
      "val_losses 0.2810406518479188\n",
      "EarlyStopping counter: 9 out of 50\n"
     ]
    },
    {
     "data": {
      "application/vnd.jupyter.widget-view+json": {
       "model_id": "6b32ba60410a46c3be136738046b155d",
       "version_major": 2,
       "version_minor": 0
      },
      "text/plain": [
       "Training:   0%|          | 0/330 [00:00<?, ?it/s]"
      ]
     },
     "metadata": {},
     "output_type": "display_data"
    },
    {
     "data": {
      "application/vnd.jupyter.widget-view+json": {
       "model_id": "b44b663d4a7d4a959f5e407ecbea1697",
       "version_major": 2,
       "version_minor": 0
      },
      "text/plain": [
       "Validation:   0%|          | 0/180 [00:00<?, ?it/s]"
      ]
     },
     "metadata": {},
     "output_type": "display_data"
    },
    {
     "name": "stdout",
     "output_type": "stream",
     "text": [
      "val_losses 0.2864038664433691\n",
      "EarlyStopping counter: 10 out of 50\n"
     ]
    },
    {
     "data": {
      "application/vnd.jupyter.widget-view+json": {
       "model_id": "1e2b13e2ee124c71bc325b1a13e538a1",
       "version_major": 2,
       "version_minor": 0
      },
      "text/plain": [
       "Training:   0%|          | 0/330 [00:00<?, ?it/s]"
      ]
     },
     "metadata": {},
     "output_type": "display_data"
    },
    {
     "data": {
      "application/vnd.jupyter.widget-view+json": {
       "model_id": "c497f06543fa4be18582a206e074a5ea",
       "version_major": 2,
       "version_minor": 0
      },
      "text/plain": [
       "Validation:   0%|          | 0/180 [00:00<?, ?it/s]"
      ]
     },
     "metadata": {},
     "output_type": "display_data"
    },
    {
     "name": "stdout",
     "output_type": "stream",
     "text": [
      "val_losses 0.2876430921256542\n",
      "EarlyStopping counter: 11 out of 50\n"
     ]
    },
    {
     "data": {
      "application/vnd.jupyter.widget-view+json": {
       "model_id": "de2e85e3fc5c4d03a7f21914d976a3de",
       "version_major": 2,
       "version_minor": 0
      },
      "text/plain": [
       "Training:   0%|          | 0/330 [00:00<?, ?it/s]"
      ]
     },
     "metadata": {},
     "output_type": "display_data"
    },
    {
     "data": {
      "application/vnd.jupyter.widget-view+json": {
       "model_id": "7571a303d6804150a44522acdce7e415",
       "version_major": 2,
       "version_minor": 0
      },
      "text/plain": [
       "Validation:   0%|          | 0/180 [00:00<?, ?it/s]"
      ]
     },
     "metadata": {},
     "output_type": "display_data"
    },
    {
     "name": "stdout",
     "output_type": "stream",
     "text": [
      "val_losses 0.2883081797924307\n",
      "EarlyStopping counter: 12 out of 50\n"
     ]
    },
    {
     "data": {
      "application/vnd.jupyter.widget-view+json": {
       "model_id": "1d5ea24987e245219c9a0a702922aedb",
       "version_major": 2,
       "version_minor": 0
      },
      "text/plain": [
       "Training:   0%|          | 0/330 [00:00<?, ?it/s]"
      ]
     },
     "metadata": {},
     "output_type": "display_data"
    },
    {
     "data": {
      "application/vnd.jupyter.widget-view+json": {
       "model_id": "30899e22d9b64d78ae32bba4b9793005",
       "version_major": 2,
       "version_minor": 0
      },
      "text/plain": [
       "Validation:   0%|          | 0/180 [00:00<?, ?it/s]"
      ]
     },
     "metadata": {},
     "output_type": "display_data"
    },
    {
     "name": "stdout",
     "output_type": "stream",
     "text": [
      "val_losses 0.29808917000061935\n",
      "EarlyStopping counter: 13 out of 50\n"
     ]
    },
    {
     "data": {
      "application/vnd.jupyter.widget-view+json": {
       "model_id": "ef71c6176c434a1a8b5a957698b83cec",
       "version_major": 2,
       "version_minor": 0
      },
      "text/plain": [
       "Training:   0%|          | 0/330 [00:00<?, ?it/s]"
      ]
     },
     "metadata": {},
     "output_type": "display_data"
    },
    {
     "data": {
      "application/vnd.jupyter.widget-view+json": {
       "model_id": "0b0795bc70d34774b550b1093ff9c648",
       "version_major": 2,
       "version_minor": 0
      },
      "text/plain": [
       "Validation:   0%|          | 0/180 [00:00<?, ?it/s]"
      ]
     },
     "metadata": {},
     "output_type": "display_data"
    },
    {
     "name": "stdout",
     "output_type": "stream",
     "text": [
      "val_losses 0.2987207051780489\n",
      "EarlyStopping counter: 14 out of 50\n"
     ]
    },
    {
     "data": {
      "application/vnd.jupyter.widget-view+json": {
       "model_id": "2de5d6a1060744379e943ce77ff0e9ea",
       "version_major": 2,
       "version_minor": 0
      },
      "text/plain": [
       "Training:   0%|          | 0/330 [00:00<?, ?it/s]"
      ]
     },
     "metadata": {},
     "output_type": "display_data"
    },
    {
     "data": {
      "application/vnd.jupyter.widget-view+json": {
       "model_id": "bc466368f8e14191baaea0f01a325ea8",
       "version_major": 2,
       "version_minor": 0
      },
      "text/plain": [
       "Validation:   0%|          | 0/180 [00:00<?, ?it/s]"
      ]
     },
     "metadata": {},
     "output_type": "display_data"
    },
    {
     "name": "stdout",
     "output_type": "stream",
     "text": [
      "val_losses 0.27169930968019695\n",
      "EarlyStopping counter: 15 out of 50\n"
     ]
    },
    {
     "data": {
      "application/vnd.jupyter.widget-view+json": {
       "model_id": "02bbe6b87ae149068fd88f1a34afc8f0",
       "version_major": 2,
       "version_minor": 0
      },
      "text/plain": [
       "Training:   0%|          | 0/330 [00:00<?, ?it/s]"
      ]
     },
     "metadata": {},
     "output_type": "display_data"
    },
    {
     "data": {
      "application/vnd.jupyter.widget-view+json": {
       "model_id": "d153fab6e1e54aaebeaeef1842fe0bb7",
       "version_major": 2,
       "version_minor": 0
      },
      "text/plain": [
       "Validation:   0%|          | 0/180 [00:00<?, ?it/s]"
      ]
     },
     "metadata": {},
     "output_type": "display_data"
    },
    {
     "name": "stdout",
     "output_type": "stream",
     "text": [
      "val_losses 0.27296251691877843\n",
      "EarlyStopping counter: 16 out of 50\n"
     ]
    },
    {
     "data": {
      "application/vnd.jupyter.widget-view+json": {
       "model_id": "22b86428c4b242d8afb068d4e562250b",
       "version_major": 2,
       "version_minor": 0
      },
      "text/plain": [
       "Training:   0%|          | 0/330 [00:00<?, ?it/s]"
      ]
     },
     "metadata": {},
     "output_type": "display_data"
    },
    {
     "data": {
      "application/vnd.jupyter.widget-view+json": {
       "model_id": "7342556b05b541808034ddafa509e311",
       "version_major": 2,
       "version_minor": 0
      },
      "text/plain": [
       "Validation:   0%|          | 0/180 [00:00<?, ?it/s]"
      ]
     },
     "metadata": {},
     "output_type": "display_data"
    },
    {
     "name": "stdout",
     "output_type": "stream",
     "text": [
      "val_losses 0.2978847889022695\n",
      "EarlyStopping counter: 17 out of 50\n"
     ]
    },
    {
     "data": {
      "application/vnd.jupyter.widget-view+json": {
       "model_id": "d33e69bce0a74fc7850326053abe7c69",
       "version_major": 2,
       "version_minor": 0
      },
      "text/plain": [
       "Training:   0%|          | 0/330 [00:00<?, ?it/s]"
      ]
     },
     "metadata": {},
     "output_type": "display_data"
    },
    {
     "data": {
      "application/vnd.jupyter.widget-view+json": {
       "model_id": "3099fa3dd74d4402b0afb7943055b2d6",
       "version_major": 2,
       "version_minor": 0
      },
      "text/plain": [
       "Validation:   0%|          | 0/180 [00:00<?, ?it/s]"
      ]
     },
     "metadata": {},
     "output_type": "display_data"
    },
    {
     "name": "stdout",
     "output_type": "stream",
     "text": [
      "val_losses 0.2784611733009418\n",
      "EarlyStopping counter: 18 out of 50\n"
     ]
    },
    {
     "data": {
      "application/vnd.jupyter.widget-view+json": {
       "model_id": "8ef5062307c145e5ab7e6bbae756318d",
       "version_major": 2,
       "version_minor": 0
      },
      "text/plain": [
       "Training:   0%|          | 0/330 [00:00<?, ?it/s]"
      ]
     },
     "metadata": {},
     "output_type": "display_data"
    },
    {
     "data": {
      "application/vnd.jupyter.widget-view+json": {
       "model_id": "8b6a173f9cbd466091b7cd4011cf02b3",
       "version_major": 2,
       "version_minor": 0
      },
      "text/plain": [
       "Validation:   0%|          | 0/180 [00:00<?, ?it/s]"
      ]
     },
     "metadata": {},
     "output_type": "display_data"
    },
    {
     "name": "stdout",
     "output_type": "stream",
     "text": [
      "val_losses 0.17725054990086292\n",
      "EarlyStopping counter: 19 out of 50\n"
     ]
    },
    {
     "data": {
      "application/vnd.jupyter.widget-view+json": {
       "model_id": "d7e5439de6934474914bbd46003b10b5",
       "version_major": 2,
       "version_minor": 0
      },
      "text/plain": [
       "Training:   0%|          | 0/330 [00:00<?, ?it/s]"
      ]
     },
     "metadata": {},
     "output_type": "display_data"
    },
    {
     "data": {
      "application/vnd.jupyter.widget-view+json": {
       "model_id": "d3e80050ddac42f68ebebae473e9f681",
       "version_major": 2,
       "version_minor": 0
      },
      "text/plain": [
       "Validation:   0%|          | 0/180 [00:00<?, ?it/s]"
      ]
     },
     "metadata": {},
     "output_type": "display_data"
    },
    {
     "name": "stdout",
     "output_type": "stream",
     "text": [
      "val_losses 0.17362059234744973\n",
      "EarlyStopping counter: 20 out of 50\n"
     ]
    },
    {
     "data": {
      "application/vnd.jupyter.widget-view+json": {
       "model_id": "e9955a6ac90640f2a86a0ff8cd699bb2",
       "version_major": 2,
       "version_minor": 0
      },
      "text/plain": [
       "Training:   0%|          | 0/330 [00:00<?, ?it/s]"
      ]
     },
     "metadata": {},
     "output_type": "display_data"
    },
    {
     "data": {
      "application/vnd.jupyter.widget-view+json": {
       "model_id": "4e3487d079c8480cb9beeeb49ee221d8",
       "version_major": 2,
       "version_minor": 0
      },
      "text/plain": [
       "Validation:   0%|          | 0/180 [00:00<?, ?it/s]"
      ]
     },
     "metadata": {},
     "output_type": "display_data"
    },
    {
     "name": "stdout",
     "output_type": "stream",
     "text": [
      "val_losses 0.20494921832448906\n",
      "EarlyStopping counter: 21 out of 50\n"
     ]
    },
    {
     "data": {
      "application/vnd.jupyter.widget-view+json": {
       "model_id": "6214a140c4ed4a6aa6e27157c74c9535",
       "version_major": 2,
       "version_minor": 0
      },
      "text/plain": [
       "Training:   0%|          | 0/330 [00:00<?, ?it/s]"
      ]
     },
     "metadata": {},
     "output_type": "display_data"
    },
    {
     "data": {
      "application/vnd.jupyter.widget-view+json": {
       "model_id": "97c400e7c1cd45deb1870dd0aacebd3c",
       "version_major": 2,
       "version_minor": 0
      },
      "text/plain": [
       "Validation:   0%|          | 0/180 [00:00<?, ?it/s]"
      ]
     },
     "metadata": {},
     "output_type": "display_data"
    },
    {
     "name": "stdout",
     "output_type": "stream",
     "text": [
      "val_losses 0.22348172772261832\n",
      "EarlyStopping counter: 22 out of 50\n"
     ]
    },
    {
     "data": {
      "application/vnd.jupyter.widget-view+json": {
       "model_id": "05c5ed2b86394890bff224e6b992c3c3",
       "version_major": 2,
       "version_minor": 0
      },
      "text/plain": [
       "Training:   0%|          | 0/330 [00:00<?, ?it/s]"
      ]
     },
     "metadata": {},
     "output_type": "display_data"
    },
    {
     "data": {
      "application/vnd.jupyter.widget-view+json": {
       "model_id": "72d8f4e326874c74b2e19096fb149b04",
       "version_major": 2,
       "version_minor": 0
      },
      "text/plain": [
       "Validation:   0%|          | 0/180 [00:00<?, ?it/s]"
      ]
     },
     "metadata": {},
     "output_type": "display_data"
    },
    {
     "name": "stdout",
     "output_type": "stream",
     "text": [
      "val_losses 0.2360048391752773\n",
      "EarlyStopping counter: 23 out of 50\n"
     ]
    },
    {
     "data": {
      "application/vnd.jupyter.widget-view+json": {
       "model_id": "fe06be9c7cc5442f82b3ac9d314d8fc3",
       "version_major": 2,
       "version_minor": 0
      },
      "text/plain": [
       "Training:   0%|          | 0/330 [00:00<?, ?it/s]"
      ]
     },
     "metadata": {},
     "output_type": "display_data"
    },
    {
     "data": {
      "application/vnd.jupyter.widget-view+json": {
       "model_id": "bb34ee57559a439e92b155224105b856",
       "version_major": 2,
       "version_minor": 0
      },
      "text/plain": [
       "Validation:   0%|          | 0/180 [00:00<?, ?it/s]"
      ]
     },
     "metadata": {},
     "output_type": "display_data"
    },
    {
     "name": "stdout",
     "output_type": "stream",
     "text": [
      "val_losses 0.250707135680649\n",
      "EarlyStopping counter: 24 out of 50\n"
     ]
    },
    {
     "data": {
      "application/vnd.jupyter.widget-view+json": {
       "model_id": "30c613d7b2a5440c81aa14aea14e71b4",
       "version_major": 2,
       "version_minor": 0
      },
      "text/plain": [
       "Training:   0%|          | 0/330 [00:00<?, ?it/s]"
      ]
     },
     "metadata": {},
     "output_type": "display_data"
    },
    {
     "data": {
      "application/vnd.jupyter.widget-view+json": {
       "model_id": "5935c85ba378478cabe6fa2fb59887bf",
       "version_major": 2,
       "version_minor": 0
      },
      "text/plain": [
       "Validation:   0%|          | 0/180 [00:00<?, ?it/s]"
      ]
     },
     "metadata": {},
     "output_type": "display_data"
    },
    {
     "name": "stdout",
     "output_type": "stream",
     "text": [
      "val_losses 0.25818871905406315\n",
      "EarlyStopping counter: 25 out of 50\n"
     ]
    },
    {
     "data": {
      "application/vnd.jupyter.widget-view+json": {
       "model_id": "f243b8f4c7e14e088414a6a478cb9673",
       "version_major": 2,
       "version_minor": 0
      },
      "text/plain": [
       "Training:   0%|          | 0/330 [00:00<?, ?it/s]"
      ]
     },
     "metadata": {},
     "output_type": "display_data"
    },
    {
     "data": {
      "application/vnd.jupyter.widget-view+json": {
       "model_id": "3d17507c51a34e7d8653c45d09ea08e3",
       "version_major": 2,
       "version_minor": 0
      },
      "text/plain": [
       "Validation:   0%|          | 0/180 [00:00<?, ?it/s]"
      ]
     },
     "metadata": {},
     "output_type": "display_data"
    },
    {
     "name": "stdout",
     "output_type": "stream",
     "text": [
      "val_losses 0.26748197707864974\n",
      "EarlyStopping counter: 26 out of 50\n"
     ]
    },
    {
     "data": {
      "application/vnd.jupyter.widget-view+json": {
       "model_id": "a86415114959429e9e80c6c7091affc7",
       "version_major": 2,
       "version_minor": 0
      },
      "text/plain": [
       "Training:   0%|          | 0/330 [00:00<?, ?it/s]"
      ]
     },
     "metadata": {},
     "output_type": "display_data"
    },
    {
     "data": {
      "application/vnd.jupyter.widget-view+json": {
       "model_id": "6f8ecb6e8bcc454cb8215f19a4210571",
       "version_major": 2,
       "version_minor": 0
      },
      "text/plain": [
       "Validation:   0%|          | 0/180 [00:00<?, ?it/s]"
      ]
     },
     "metadata": {},
     "output_type": "display_data"
    },
    {
     "name": "stdout",
     "output_type": "stream",
     "text": [
      "val_losses 0.23933098514874776\n",
      "EarlyStopping counter: 27 out of 50\n"
     ]
    },
    {
     "data": {
      "application/vnd.jupyter.widget-view+json": {
       "model_id": "7cfa7a4ee9734e4682916832b2e0f145",
       "version_major": 2,
       "version_minor": 0
      },
      "text/plain": [
       "Training:   0%|          | 0/330 [00:00<?, ?it/s]"
      ]
     },
     "metadata": {},
     "output_type": "display_data"
    },
    {
     "data": {
      "application/vnd.jupyter.widget-view+json": {
       "model_id": "23739665caf24ae1ba79e71427bc3293",
       "version_major": 2,
       "version_minor": 0
      },
      "text/plain": [
       "Validation:   0%|          | 0/180 [00:00<?, ?it/s]"
      ]
     },
     "metadata": {},
     "output_type": "display_data"
    },
    {
     "name": "stdout",
     "output_type": "stream",
     "text": [
      "val_losses 0.2626161544273297\n",
      "EarlyStopping counter: 28 out of 50\n"
     ]
    },
    {
     "data": {
      "application/vnd.jupyter.widget-view+json": {
       "model_id": "a2c914026ac14da1a4bad7741fca4e9c",
       "version_major": 2,
       "version_minor": 0
      },
      "text/plain": [
       "Training:   0%|          | 0/330 [00:00<?, ?it/s]"
      ]
     },
     "metadata": {},
     "output_type": "display_data"
    },
    {
     "data": {
      "application/vnd.jupyter.widget-view+json": {
       "model_id": "031f354a879a4e99943d99da261014bb",
       "version_major": 2,
       "version_minor": 0
      },
      "text/plain": [
       "Validation:   0%|          | 0/180 [00:00<?, ?it/s]"
      ]
     },
     "metadata": {},
     "output_type": "display_data"
    },
    {
     "name": "stdout",
     "output_type": "stream",
     "text": [
      "val_losses 0.2524949765453736\n",
      "EarlyStopping counter: 29 out of 50\n"
     ]
    },
    {
     "data": {
      "application/vnd.jupyter.widget-view+json": {
       "model_id": "42282e8119a140f28ed51e9e16414ae4",
       "version_major": 2,
       "version_minor": 0
      },
      "text/plain": [
       "Training:   0%|          | 0/330 [00:00<?, ?it/s]"
      ]
     },
     "metadata": {},
     "output_type": "display_data"
    },
    {
     "data": {
      "application/vnd.jupyter.widget-view+json": {
       "model_id": "333bf81078884739add874d8ed77d2ab",
       "version_major": 2,
       "version_minor": 0
      },
      "text/plain": [
       "Validation:   0%|          | 0/180 [00:00<?, ?it/s]"
      ]
     },
     "metadata": {},
     "output_type": "display_data"
    },
    {
     "name": "stdout",
     "output_type": "stream",
     "text": [
      "val_losses 0.27339221764769817\n",
      "EarlyStopping counter: 30 out of 50\n"
     ]
    },
    {
     "data": {
      "application/vnd.jupyter.widget-view+json": {
       "model_id": "7daed59bfbc24323a7bdd8a2a09902b9",
       "version_major": 2,
       "version_minor": 0
      },
      "text/plain": [
       "Training:   0%|          | 0/330 [00:00<?, ?it/s]"
      ]
     },
     "metadata": {},
     "output_type": "display_data"
    },
    {
     "data": {
      "application/vnd.jupyter.widget-view+json": {
       "model_id": "fa432168b8894e4eb374d2832bf330da",
       "version_major": 2,
       "version_minor": 0
      },
      "text/plain": [
       "Validation:   0%|          | 0/180 [00:00<?, ?it/s]"
      ]
     },
     "metadata": {},
     "output_type": "display_data"
    },
    {
     "name": "stdout",
     "output_type": "stream",
     "text": [
      "val_losses 0.26693841786020334\n",
      "EarlyStopping counter: 31 out of 50\n"
     ]
    },
    {
     "data": {
      "application/vnd.jupyter.widget-view+json": {
       "model_id": "a40e4f64cfc94d9fae73cff9a5495713",
       "version_major": 2,
       "version_minor": 0
      },
      "text/plain": [
       "Training:   0%|          | 0/330 [00:00<?, ?it/s]"
      ]
     },
     "metadata": {},
     "output_type": "display_data"
    },
    {
     "data": {
      "application/vnd.jupyter.widget-view+json": {
       "model_id": "e65b1597562f4fd8870c26ae30abe912",
       "version_major": 2,
       "version_minor": 0
      },
      "text/plain": [
       "Validation:   0%|          | 0/180 [00:00<?, ?it/s]"
      ]
     },
     "metadata": {},
     "output_type": "display_data"
    },
    {
     "name": "stdout",
     "output_type": "stream",
     "text": [
      "val_losses 0.2791903326080905\n",
      "EarlyStopping counter: 32 out of 50\n"
     ]
    },
    {
     "data": {
      "application/vnd.jupyter.widget-view+json": {
       "model_id": "48a97dd921034e6baff234559b23181f",
       "version_major": 2,
       "version_minor": 0
      },
      "text/plain": [
       "Training:   0%|          | 0/330 [00:00<?, ?it/s]"
      ]
     },
     "metadata": {},
     "output_type": "display_data"
    },
    {
     "data": {
      "application/vnd.jupyter.widget-view+json": {
       "model_id": "ea85c6b7e3604d85880dc31249dee63b",
       "version_major": 2,
       "version_minor": 0
      },
      "text/plain": [
       "Validation:   0%|          | 0/180 [00:00<?, ?it/s]"
      ]
     },
     "metadata": {},
     "output_type": "display_data"
    },
    {
     "name": "stdout",
     "output_type": "stream",
     "text": [
      "val_losses 0.2697580437693331\n",
      "EarlyStopping counter: 33 out of 50\n"
     ]
    },
    {
     "data": {
      "application/vnd.jupyter.widget-view+json": {
       "model_id": "caf12425466444a7a64bd1d0a30535d3",
       "version_major": 2,
       "version_minor": 0
      },
      "text/plain": [
       "Training:   0%|          | 0/330 [00:00<?, ?it/s]"
      ]
     },
     "metadata": {},
     "output_type": "display_data"
    },
    {
     "data": {
      "application/vnd.jupyter.widget-view+json": {
       "model_id": "659a5af7242440f5b4ebec6c06a1c09c",
       "version_major": 2,
       "version_minor": 0
      },
      "text/plain": [
       "Validation:   0%|          | 0/180 [00:00<?, ?it/s]"
      ]
     },
     "metadata": {},
     "output_type": "display_data"
    },
    {
     "name": "stdout",
     "output_type": "stream",
     "text": [
      "val_losses 0.25063591284884346\n",
      "EarlyStopping counter: 34 out of 50\n"
     ]
    },
    {
     "data": {
      "application/vnd.jupyter.widget-view+json": {
       "model_id": "feba898bf985487190f7183cba3a10f8",
       "version_major": 2,
       "version_minor": 0
      },
      "text/plain": [
       "Training:   0%|          | 0/330 [00:00<?, ?it/s]"
      ]
     },
     "metadata": {},
     "output_type": "display_data"
    },
    {
     "data": {
      "application/vnd.jupyter.widget-view+json": {
       "model_id": "5ac5ca60ae6e459580511f7c91914d6c",
       "version_major": 2,
       "version_minor": 0
      },
      "text/plain": [
       "Validation:   0%|          | 0/180 [00:00<?, ?it/s]"
      ]
     },
     "metadata": {},
     "output_type": "display_data"
    },
    {
     "name": "stdout",
     "output_type": "stream",
     "text": [
      "val_losses 0.24521510774890581\n",
      "EarlyStopping counter: 35 out of 50\n"
     ]
    },
    {
     "data": {
      "application/vnd.jupyter.widget-view+json": {
       "model_id": "add2c65c63754118af7234d39582bf88",
       "version_major": 2,
       "version_minor": 0
      },
      "text/plain": [
       "Training:   0%|          | 0/330 [00:00<?, ?it/s]"
      ]
     },
     "metadata": {},
     "output_type": "display_data"
    },
    {
     "data": {
      "application/vnd.jupyter.widget-view+json": {
       "model_id": "a114aa2d6ec145458fc4003582af1373",
       "version_major": 2,
       "version_minor": 0
      },
      "text/plain": [
       "Validation:   0%|          | 0/180 [00:00<?, ?it/s]"
      ]
     },
     "metadata": {},
     "output_type": "display_data"
    },
    {
     "name": "stdout",
     "output_type": "stream",
     "text": [
      "val_losses 0.2547399564749665\n",
      "EarlyStopping counter: 36 out of 50\n"
     ]
    },
    {
     "data": {
      "application/vnd.jupyter.widget-view+json": {
       "model_id": "90f03ee24a2a4c5b96b26d61c7a139ab",
       "version_major": 2,
       "version_minor": 0
      },
      "text/plain": [
       "Training:   0%|          | 0/330 [00:00<?, ?it/s]"
      ]
     },
     "metadata": {},
     "output_type": "display_data"
    },
    {
     "data": {
      "application/vnd.jupyter.widget-view+json": {
       "model_id": "bc85d6653dc34bd897d9ff6e2e5785e2",
       "version_major": 2,
       "version_minor": 0
      },
      "text/plain": [
       "Validation:   0%|          | 0/180 [00:00<?, ?it/s]"
      ]
     },
     "metadata": {},
     "output_type": "display_data"
    },
    {
     "name": "stdout",
     "output_type": "stream",
     "text": [
      "val_losses 0.24215587646596962\n",
      "EarlyStopping counter: 37 out of 50\n"
     ]
    },
    {
     "data": {
      "application/vnd.jupyter.widget-view+json": {
       "model_id": "aa65d3ea88b745c19494eda03cfe1dee",
       "version_major": 2,
       "version_minor": 0
      },
      "text/plain": [
       "Training:   0%|          | 0/330 [00:00<?, ?it/s]"
      ]
     },
     "metadata": {},
     "output_type": "display_data"
    },
    {
     "data": {
      "application/vnd.jupyter.widget-view+json": {
       "model_id": "c0e526f531fc47dba815e3f0861832f7",
       "version_major": 2,
       "version_minor": 0
      },
      "text/plain": [
       "Validation:   0%|          | 0/180 [00:00<?, ?it/s]"
      ]
     },
     "metadata": {},
     "output_type": "display_data"
    },
    {
     "name": "stdout",
     "output_type": "stream",
     "text": [
      "val_losses 0.2581341225653887\n",
      "EarlyStopping counter: 38 out of 50\n"
     ]
    },
    {
     "data": {
      "application/vnd.jupyter.widget-view+json": {
       "model_id": "2d23e01f476941acbca95ed81e308afb",
       "version_major": 2,
       "version_minor": 0
      },
      "text/plain": [
       "Training:   0%|          | 0/330 [00:00<?, ?it/s]"
      ]
     },
     "metadata": {},
     "output_type": "display_data"
    },
    {
     "data": {
      "application/vnd.jupyter.widget-view+json": {
       "model_id": "497459d3955a462fbcea3eb3d3db21f6",
       "version_major": 2,
       "version_minor": 0
      },
      "text/plain": [
       "Validation:   0%|          | 0/180 [00:00<?, ?it/s]"
      ]
     },
     "metadata": {},
     "output_type": "display_data"
    },
    {
     "name": "stdout",
     "output_type": "stream",
     "text": [
      "val_losses 0.15619467250588867\n",
      "EarlyStopping counter: 39 out of 50\n"
     ]
    },
    {
     "data": {
      "application/vnd.jupyter.widget-view+json": {
       "model_id": "d97a862a44f440da804165a017afbcfa",
       "version_major": 2,
       "version_minor": 0
      },
      "text/plain": [
       "Training:   0%|          | 0/330 [00:00<?, ?it/s]"
      ]
     },
     "metadata": {},
     "output_type": "display_data"
    },
    {
     "data": {
      "application/vnd.jupyter.widget-view+json": {
       "model_id": "c055305072d04854b5033ddb9ce1d050",
       "version_major": 2,
       "version_minor": 0
      },
      "text/plain": [
       "Validation:   0%|          | 0/180 [00:00<?, ?it/s]"
      ]
     },
     "metadata": {},
     "output_type": "display_data"
    },
    {
     "name": "stdout",
     "output_type": "stream",
     "text": [
      "val_losses 0.18475771351820894\n",
      "EarlyStopping counter: 40 out of 50\n"
     ]
    },
    {
     "data": {
      "application/vnd.jupyter.widget-view+json": {
       "model_id": "9482ed7087d749fc9cf96cd008a0852a",
       "version_major": 2,
       "version_minor": 0
      },
      "text/plain": [
       "Training:   0%|          | 0/330 [00:00<?, ?it/s]"
      ]
     },
     "metadata": {},
     "output_type": "display_data"
    },
    {
     "data": {
      "application/vnd.jupyter.widget-view+json": {
       "model_id": "06753e34815f42388ce1e982e5f833d5",
       "version_major": 2,
       "version_minor": 0
      },
      "text/plain": [
       "Validation:   0%|          | 0/180 [00:00<?, ?it/s]"
      ]
     },
     "metadata": {},
     "output_type": "display_data"
    },
    {
     "name": "stdout",
     "output_type": "stream",
     "text": [
      "val_losses 0.2054465800937679\n",
      "EarlyStopping counter: 41 out of 50\n"
     ]
    },
    {
     "data": {
      "application/vnd.jupyter.widget-view+json": {
       "model_id": "fde96c16d0964d3a83b927285ffe7415",
       "version_major": 2,
       "version_minor": 0
      },
      "text/plain": [
       "Training:   0%|          | 0/330 [00:00<?, ?it/s]"
      ]
     },
     "metadata": {},
     "output_type": "display_data"
    },
    {
     "data": {
      "application/vnd.jupyter.widget-view+json": {
       "model_id": "7b05867bf16846198c3b2b200a6a5bc7",
       "version_major": 2,
       "version_minor": 0
      },
      "text/plain": [
       "Validation:   0%|          | 0/180 [00:00<?, ?it/s]"
      ]
     },
     "metadata": {},
     "output_type": "display_data"
    },
    {
     "name": "stdout",
     "output_type": "stream",
     "text": [
      "val_losses 0.2222512446343899\n",
      "EarlyStopping counter: 42 out of 50\n"
     ]
    },
    {
     "data": {
      "application/vnd.jupyter.widget-view+json": {
       "model_id": "4d31d33300c54da98ac6587e57110512",
       "version_major": 2,
       "version_minor": 0
      },
      "text/plain": [
       "Training:   0%|          | 0/330 [00:00<?, ?it/s]"
      ]
     },
     "metadata": {},
     "output_type": "display_data"
    },
    {
     "data": {
      "application/vnd.jupyter.widget-view+json": {
       "model_id": "a00475084e664dc595078299a034c63f",
       "version_major": 2,
       "version_minor": 0
      },
      "text/plain": [
       "Validation:   0%|          | 0/180 [00:00<?, ?it/s]"
      ]
     },
     "metadata": {},
     "output_type": "display_data"
    },
    {
     "name": "stdout",
     "output_type": "stream",
     "text": [
      "val_losses 0.23743749625153013\n",
      "EarlyStopping counter: 43 out of 50\n"
     ]
    },
    {
     "data": {
      "application/vnd.jupyter.widget-view+json": {
       "model_id": "c71462d4ee4241a8b6de7f71db1d1506",
       "version_major": 2,
       "version_minor": 0
      },
      "text/plain": [
       "Training:   0%|          | 0/330 [00:00<?, ?it/s]"
      ]
     },
     "metadata": {},
     "output_type": "display_data"
    },
    {
     "data": {
      "application/vnd.jupyter.widget-view+json": {
       "model_id": "aee319d30201422fa03699b172e9282a",
       "version_major": 2,
       "version_minor": 0
      },
      "text/plain": [
       "Validation:   0%|          | 0/180 [00:00<?, ?it/s]"
      ]
     },
     "metadata": {},
     "output_type": "display_data"
    },
    {
     "name": "stdout",
     "output_type": "stream",
     "text": [
      "val_losses 0.2438948013716274\n",
      "EarlyStopping counter: 44 out of 50\n"
     ]
    },
    {
     "data": {
      "application/vnd.jupyter.widget-view+json": {
       "model_id": "326aafe91da24855878446272042fa4e",
       "version_major": 2,
       "version_minor": 0
      },
      "text/plain": [
       "Training:   0%|          | 0/330 [00:00<?, ?it/s]"
      ]
     },
     "metadata": {},
     "output_type": "display_data"
    },
    {
     "data": {
      "application/vnd.jupyter.widget-view+json": {
       "model_id": "b619bee041814e4d8dda78470d68d628",
       "version_major": 2,
       "version_minor": 0
      },
      "text/plain": [
       "Validation:   0%|          | 0/180 [00:00<?, ?it/s]"
      ]
     },
     "metadata": {},
     "output_type": "display_data"
    },
    {
     "name": "stdout",
     "output_type": "stream",
     "text": [
      "val_losses 0.24133252116541068\n",
      "EarlyStopping counter: 45 out of 50\n"
     ]
    },
    {
     "data": {
      "application/vnd.jupyter.widget-view+json": {
       "model_id": "cf7099aeff9f4648b8a2a79352be8fa8",
       "version_major": 2,
       "version_minor": 0
      },
      "text/plain": [
       "Training:   0%|          | 0/330 [00:00<?, ?it/s]"
      ]
     },
     "metadata": {},
     "output_type": "display_data"
    },
    {
     "data": {
      "application/vnd.jupyter.widget-view+json": {
       "model_id": "8b981cc38007449d9534daff28fde2ac",
       "version_major": 2,
       "version_minor": 0
      },
      "text/plain": [
       "Validation:   0%|          | 0/180 [00:00<?, ?it/s]"
      ]
     },
     "metadata": {},
     "output_type": "display_data"
    },
    {
     "name": "stdout",
     "output_type": "stream",
     "text": [
      "val_losses 0.2568998716771603\n",
      "EarlyStopping counter: 46 out of 50\n"
     ]
    },
    {
     "data": {
      "application/vnd.jupyter.widget-view+json": {
       "model_id": "ea6740d03da243b6b02635e470014d7f",
       "version_major": 2,
       "version_minor": 0
      },
      "text/plain": [
       "Training:   0%|          | 0/330 [00:00<?, ?it/s]"
      ]
     },
     "metadata": {},
     "output_type": "display_data"
    },
    {
     "data": {
      "application/vnd.jupyter.widget-view+json": {
       "model_id": "5a42486092ac49209ce1a8970bf04c0a",
       "version_major": 2,
       "version_minor": 0
      },
      "text/plain": [
       "Validation:   0%|          | 0/180 [00:00<?, ?it/s]"
      ]
     },
     "metadata": {},
     "output_type": "display_data"
    },
    {
     "name": "stdout",
     "output_type": "stream",
     "text": [
      "val_losses 0.2675403402911292\n",
      "EarlyStopping counter: 47 out of 50\n"
     ]
    },
    {
     "data": {
      "application/vnd.jupyter.widget-view+json": {
       "model_id": "149d9628f66f48eba2b4e1f7a1ae3638",
       "version_major": 2,
       "version_minor": 0
      },
      "text/plain": [
       "Training:   0%|          | 0/330 [00:00<?, ?it/s]"
      ]
     },
     "metadata": {},
     "output_type": "display_data"
    },
    {
     "data": {
      "application/vnd.jupyter.widget-view+json": {
       "model_id": "1ef9d94fdad8410eaa1116c777d1a588",
       "version_major": 2,
       "version_minor": 0
      },
      "text/plain": [
       "Validation:   0%|          | 0/180 [00:00<?, ?it/s]"
      ]
     },
     "metadata": {},
     "output_type": "display_data"
    },
    {
     "name": "stdout",
     "output_type": "stream",
     "text": [
      "val_losses 0.24340452233122456\n",
      "EarlyStopping counter: 48 out of 50\n"
     ]
    },
    {
     "data": {
      "application/vnd.jupyter.widget-view+json": {
       "model_id": "826a77f1bf4e47e7abe13073e60a5c9d",
       "version_major": 2,
       "version_minor": 0
      },
      "text/plain": [
       "Training:   0%|          | 0/330 [00:00<?, ?it/s]"
      ]
     },
     "metadata": {},
     "output_type": "display_data"
    },
    {
     "data": {
      "application/vnd.jupyter.widget-view+json": {
       "model_id": "0f20343ee93440c99099f215b8a2bdae",
       "version_major": 2,
       "version_minor": 0
      },
      "text/plain": [
       "Validation:   0%|          | 0/180 [00:00<?, ?it/s]"
      ]
     },
     "metadata": {},
     "output_type": "display_data"
    },
    {
     "name": "stdout",
     "output_type": "stream",
     "text": [
      "val_losses 0.25931949098077084\n",
      "EarlyStopping counter: 49 out of 50\n"
     ]
    },
    {
     "data": {
      "application/vnd.jupyter.widget-view+json": {
       "model_id": "08e17b4bfb014e929e09a0c39fb967dc",
       "version_major": 2,
       "version_minor": 0
      },
      "text/plain": [
       "Training:   0%|          | 0/330 [00:00<?, ?it/s]"
      ]
     },
     "metadata": {},
     "output_type": "display_data"
    },
    {
     "data": {
      "application/vnd.jupyter.widget-view+json": {
       "model_id": "eba0aa240c5f4944aa5c93bf0560ca38",
       "version_major": 2,
       "version_minor": 0
      },
      "text/plain": [
       "Validation:   0%|          | 0/180 [00:00<?, ?it/s]"
      ]
     },
     "metadata": {},
     "output_type": "display_data"
    },
    {
     "name": "stdout",
     "output_type": "stream",
     "text": [
      "val_losses 0.2660737934625811\n",
      "EarlyStopping counter: 50 out of 50\n",
      "early stopping epoch: 99\n",
      "***************************\n",
      "modelname:model_fold_4.ptを保存しました\n",
      "*************************************Test*************************************\n",
      "in constructor inchannel: 45\n",
      "Input channel count3\n",
      "model_dir =  model/20250205-DenseCRFIntegrationExperiment2\n",
      "Creating image arrays...\n",
      "Number of label images: 11\n",
      "Completed creating image arrays:\n",
      "Dataset shape  (11, 256, 256, 45)\n",
      "Label image shape  (11, 256, 256)\n",
      "\n",
      "index =  0\n",
      "予測画像: /home/eric/Documents/cervicalResearchIIP/result_test/20250205-DenseCRFIntegrationExperiment2/fold4/N1-1.png\n",
      "テストラベル: /home/eric/Documents/cervicalResearchIIP/img_1006t/labeled/N1-1.png\n",
      "index =  1\n",
      "予測画像: /home/eric/Documents/cervicalResearchIIP/result_test/20250205-DenseCRFIntegrationExperiment2/fold4/N1-7.png\n",
      "テストラベル: /home/eric/Documents/cervicalResearchIIP/img_1006t/labeled/N1-7.png\n",
      "index =  2\n",
      "予測画像: /home/eric/Documents/cervicalResearchIIP/result_test/20250205-DenseCRFIntegrationExperiment2/fold4/N2-3.png\n",
      "テストラベル: /home/eric/Documents/cervicalResearchIIP/img_1006t/labeled/N2-3.png\n",
      "index =  3\n",
      "予測画像: /home/eric/Documents/cervicalResearchIIP/result_test/20250205-DenseCRFIntegrationExperiment2/fold4/N2-7.png\n",
      "テストラベル: /home/eric/Documents/cervicalResearchIIP/img_1006t/labeled/N2-7.png\n",
      "index =  4\n",
      "予測画像: /home/eric/Documents/cervicalResearchIIP/result_test/20250205-DenseCRFIntegrationExperiment2/fold4/N2-8.png\n",
      "テストラベル: /home/eric/Documents/cervicalResearchIIP/img_1006t/labeled/N2-8.png\n",
      "index =  5\n",
      "予測画像: /home/eric/Documents/cervicalResearchIIP/result_test/20250205-DenseCRFIntegrationExperiment2/fold4/N3-1.png\n",
      "テストラベル: /home/eric/Documents/cervicalResearchIIP/img_1006t/labeled/N3-1.png\n",
      "index =  6\n",
      "予測画像: /home/eric/Documents/cervicalResearchIIP/result_test/20250205-DenseCRFIntegrationExperiment2/fold4/N3-5.png\n",
      "テストラベル: /home/eric/Documents/cervicalResearchIIP/img_1006t/labeled/N3-5.png\n",
      "index =  7\n",
      "予測画像: /home/eric/Documents/cervicalResearchIIP/result_test/20250205-DenseCRFIntegrationExperiment2/fold4/N4-2.png\n",
      "テストラベル: /home/eric/Documents/cervicalResearchIIP/img_1006t/labeled/N4-2.png\n",
      "index =  8\n",
      "予測画像: /home/eric/Documents/cervicalResearchIIP/result_test/20250205-DenseCRFIntegrationExperiment2/fold4/N4-5.png\n",
      "テストラベル: /home/eric/Documents/cervicalResearchIIP/img_1006t/labeled/N4-5.png\n",
      "index =  9\n",
      "予測画像: /home/eric/Documents/cervicalResearchIIP/result_test/20250205-DenseCRFIntegrationExperiment2/fold4/N5-2.png\n",
      "テストラベル: /home/eric/Documents/cervicalResearchIIP/img_1006t/labeled/N5-2.png\n",
      "index =  10\n",
      "予測画像: /home/eric/Documents/cervicalResearchIIP/result_test/20250205-DenseCRFIntegrationExperiment2/fold4/N5-4.png\n",
      "テストラベル: /home/eric/Documents/cervicalResearchIIP/img_1006t/labeled/N5-4.png\n",
      "Count1 =  [638508, 12497, 7859, 8300, 6653, 7915, 6276, 8734, 6819, 11524, 5811]\n",
      "Count2 =  [644883, 11859, 7682, 8171, 5841, 7602, 6012, 7476, 5881, 9394, 6095]\n",
      "Count3 =  [633003, 11160, 7175, 7481, 5466, 6842, 5075, 6322, 4903, 7201, 3919]\n",
      "Dice =  [0.9864538554501318, 0.9164066349154213, 0.9233640048902902, 0.9083844332463117, 0.8749799903953898, 0.8818714957788232, 0.8260091145833334, 0.7800123380629241, 0.7721259842519685, 0.6884979443541448, 0.6583235343524273, 0.8229975474831034]\n",
      "All labels are within the valid range (0 to 10).\n",
      "All labels are within the valid range (0 to 10).\n",
      "All labels are within the valid range (0 to 10).\n",
      "All labels are within the valid range (0 to 10).\n",
      "All labels are within the valid range (0 to 10).\n",
      "All labels are within the valid range (0 to 10).\n",
      "All labels are within the valid range (0 to 10).\n",
      "All labels are within the valid range (0 to 10).\n",
      "All labels are within the valid range (0 to 10).\n",
      "All labels are within the valid range (0 to 10).\n",
      "All labels are within the valid range (0 to 10).\n",
      "index =  0\n",
      "予測画像: /home/eric/Documents/cervicalResearchIIP/result_test/20250205-DenseCRFIntegrationExperiment2/fold4/crf/N1-1.png\n",
      "テストラベル: /home/eric/Documents/cervicalResearchIIP/img_1006t/labeled/N1-1.png\n",
      "index =  1\n",
      "予測画像: /home/eric/Documents/cervicalResearchIIP/result_test/20250205-DenseCRFIntegrationExperiment2/fold4/crf/N1-7.png\n",
      "テストラベル: /home/eric/Documents/cervicalResearchIIP/img_1006t/labeled/N1-7.png\n",
      "index =  2\n",
      "予測画像: /home/eric/Documents/cervicalResearchIIP/result_test/20250205-DenseCRFIntegrationExperiment2/fold4/crf/N2-3.png\n",
      "テストラベル: /home/eric/Documents/cervicalResearchIIP/img_1006t/labeled/N2-3.png\n",
      "index =  3\n",
      "予測画像: /home/eric/Documents/cervicalResearchIIP/result_test/20250205-DenseCRFIntegrationExperiment2/fold4/crf/N2-7.png\n",
      "テストラベル: /home/eric/Documents/cervicalResearchIIP/img_1006t/labeled/N2-7.png\n",
      "index =  4\n",
      "予測画像: /home/eric/Documents/cervicalResearchIIP/result_test/20250205-DenseCRFIntegrationExperiment2/fold4/crf/N2-8.png\n",
      "テストラベル: /home/eric/Documents/cervicalResearchIIP/img_1006t/labeled/N2-8.png\n",
      "index =  5\n",
      "予測画像: /home/eric/Documents/cervicalResearchIIP/result_test/20250205-DenseCRFIntegrationExperiment2/fold4/crf/N3-1.png\n",
      "テストラベル: /home/eric/Documents/cervicalResearchIIP/img_1006t/labeled/N3-1.png\n",
      "index =  6\n",
      "予測画像: /home/eric/Documents/cervicalResearchIIP/result_test/20250205-DenseCRFIntegrationExperiment2/fold4/crf/N3-5.png\n",
      "テストラベル: /home/eric/Documents/cervicalResearchIIP/img_1006t/labeled/N3-5.png\n",
      "index =  7\n",
      "予測画像: /home/eric/Documents/cervicalResearchIIP/result_test/20250205-DenseCRFIntegrationExperiment2/fold4/crf/N4-2.png\n",
      "テストラベル: /home/eric/Documents/cervicalResearchIIP/img_1006t/labeled/N4-2.png\n",
      "index =  8\n",
      "予測画像: /home/eric/Documents/cervicalResearchIIP/result_test/20250205-DenseCRFIntegrationExperiment2/fold4/crf/N4-5.png\n",
      "テストラベル: /home/eric/Documents/cervicalResearchIIP/img_1006t/labeled/N4-5.png\n",
      "index =  9\n",
      "予測画像: /home/eric/Documents/cervicalResearchIIP/result_test/20250205-DenseCRFIntegrationExperiment2/fold4/crf/N5-2.png\n",
      "テストラベル: /home/eric/Documents/cervicalResearchIIP/img_1006t/labeled/N5-2.png\n",
      "index =  10\n",
      "予測画像: /home/eric/Documents/cervicalResearchIIP/result_test/20250205-DenseCRFIntegrationExperiment2/fold4/crf/N5-4.png\n",
      "テストラベル: /home/eric/Documents/cervicalResearchIIP/img_1006t/labeled/N5-4.png\n",
      "Count1 =  [638944, 12482, 7856, 8326, 6710, 7885, 6213, 8694, 6783, 11357, 5646]\n",
      "Count2 =  [644883, 11859, 7682, 8171, 5841, 7602, 6012, 7476, 5881, 9394, 6095]\n",
      "Count3 =  [633165, 11164, 7182, 7470, 5469, 6820, 5054, 6289, 4888, 7122, 3862]\n",
      "Dice =  [0.9863712166826216, 0.9173000287580625, 0.9244433002960484, 0.9056192034915439, 0.8714843438769819, 0.8807386840575967, 0.8268302658486708, 0.7778602350030921, 0.7719519898926089, 0.6864247506144282, 0.6578655991823524, 0.8220518401021386]\n"
     ]
    }
   ],
   "source": [
    "from dataArrange import dataRearrange1\n",
    "## Test Learn_EA without annealing\n",
    "# training transformations and augmentations\n",
    "transforms_training = ComposeDouble([\n",
    "    FunctionWrapperDouble(create_dense_target, input=False, target=True),\n",
    "    FunctionWrapperDouble(np.moveaxis, input=True, target=False, source=-1, destination=0),\n",
    "    FunctionWrapperDouble(normalize_01)\n",
    "])\n",
    "\n",
    "#追加箇所ver3\n",
    "transforms_val =  ComposeDouble([\n",
    "    FunctionWrapperDouble(create_dense_target, input=False, target=True),\n",
    "    FunctionWrapperDouble(np.moveaxis, input=True, target=False, source=-1, destination=0),\n",
    "    FunctionWrapperDouble(normalize_01)\n",
    "])\n",
    "# random seed\n",
    "random_seed = 0\n",
    "\n",
    "X = file_names_with_prefix(data_dir, 'N')\n",
    "\n",
    "y_file_names = file_names_with_prefix(labeled_dir, 'N')\n",
    "y = [label_group[:2] for label_group in y_file_names]\n",
    "\n",
    "X = np.array(X)\n",
    "y = np.array(y)\n",
    "\n",
    "print(X)\n",
    "print(y)\n",
    "\n",
    "if CROSS_VAL:\n",
    "    skf = StratifiedKFold(n_splits=N_SPLIT, shuffle=True)\n",
    "    # each case same division\n",
    "    #skf = StratifiedKFold(n_splits=N_SPLIT, shuffle=True, random_state=42)\n",
    "    for fold, (train_index, test_index) in enumerate(skf.split(X, y), 1):\n",
    "        # Split the data into train and test sets\n",
    "        X_train, X_test = X[train_index], X[test_index]\n",
    "        y_train, y_test = y[train_index], y[test_index]\n",
    "        \n",
    "        # Split the training data further into train and validation ( 1/3 split)\n",
    "        X_train_final, X_val, y_train_final, y_val = train_test_split(\n",
    "            X_train, y_train, test_size=0.333333333, random_state=42, stratify=y_train)\n",
    "        \n",
    "        \n",
    "        input_train = X_train_final\n",
    "        input_name_val = X_val\n",
    "        print(\"Cross validation: \" + str(CROSS_VAL))\n",
    "        print(f\"Fold: {fold} out of {N_SPLIT}\")\n",
    "        print(\"Augmentation: \" + str(AUGMENTED))\n",
    "        if AUGMENTED:\n",
    "            print(\"Augmentation amount: \" + str(AUGMENTATION))\n",
    "        print(\"Training: Total of \" + str(len(input_train)) + \" cases.\")\n",
    "        print(input_train)\n",
    "\n",
    "        print(\"Validation: Total of \" + str(len(input_name_val)) + \" cases.\")\n",
    "        print(input_name_val)\n",
    "        \n",
    "        print(\"Test: Total of \" + str(len(X_test)) + \" cases.\")  \n",
    "        print(X_test)\n",
    "        print()\n",
    "        \n",
    "        if AUGMENTED:\n",
    "            ## This part is for accounting the data augmentation, attaches augmentation numbers after the original img\n",
    "            ## ex: original number N1-1 -> N1-1-1, N1-1-2 etc.\n",
    "            repeated_items_train = np.repeat(input_train, AUGMENTATION)\n",
    "            suffixes_train = np.tile(np.arange(1, AUGMENTATION + 1), len(repeated_items_train))\n",
    "            input_train = np.array([f\"{item}-{suffix}\" for item, suffix in zip(repeated_items_train, suffixes_train)])\n",
    "            #Custom Arranging for training dataset because of the augmentation order\n",
    "            input_train = np.array(dataRearrange1(input_train, AUGMENTATION))\n",
    "            \n",
    "            \n",
    "            repeated_items_val = np.repeat(input_name_val, AUGMENTATION)\n",
    "            suffixes_val = np.tile(np.arange(1, AUGMENTATION + 1), len(repeated_items_val))\n",
    "            input_name_val = np.array([f\"{item}-{suffix}\" for item, suffix in zip(repeated_items_val, suffixes_val)])\n",
    "        \n",
    "        \n",
    "        input_dataset,label_dataset = CreateWeightImage(input_train, AUGMENTED)\n",
    "        input_dataset_val,label_dataset_val = CreateWeightImage(input_name_val, AUGMENTED)\n",
    "        \n",
    "        Learn_EA(input_dataset,label_dataset,input_dataset_val,label_dataset_val, 0, fold)\n",
    "        mConv_predict(X_test, fold)\n",
    "else:\n",
    "    X_train, X_test, y_train, y_test = train_test_split(X, y, test_size=0.25, stratify=y, random_state=42)\n",
    "    \n",
    "    X_train_final, X_val, y_train_final, y_val = train_test_split(\n",
    "            X_train, y_train, test_size=0.333333333, random_state=42, stratify=y_train)\n",
    "    \n",
    "    input_train = X_train_final\n",
    "    input_name_val = X_val\n",
    "    \n",
    "    print(\"Cross validation: \" + str(CROSS_VAL))\n",
    "    print(\"Augmentation: \" + str(AUGMENTED))\n",
    "    if AUGMENTED:\n",
    "        print(\"Augmentation amount: \" + str(AUGMENTATION))\n",
    "    print(\"Training: Total of \" + str(len(input_train)) + \" cases.\")\n",
    "    print(input_train)\n",
    "\n",
    "    print(\"Validation: Total of \" + str(len(input_name_val)) + \" cases.\")\n",
    "    print(input_name_val)\n",
    "        \n",
    "    print(\"Test: Total of \" + str(len(X_test)) + \" cases.\")  \n",
    "    print(X_test)\n",
    "    print()\n",
    "    \n",
    "    if AUGMENTED:\n",
    "        ## This part is for accounting the data augmentation, attaches augmentation numbers after the original img\n",
    "        ## ex: original number N1-1 -> N1-1-1, N1-1-2 etc.\n",
    "        repeated_items_train = np.repeat(input_train, AUGMENTATION)\n",
    "        suffixes_train = np.tile(np.arange(1, AUGMENTATION + 1), len(repeated_items_train))\n",
    "        input_train = np.array([f\"{item}-{suffix}\" for item, suffix in zip(repeated_items_train, suffixes_train)])\n",
    "        \n",
    "        #Custom Arranging for training dataset because of the augmentation order\n",
    "        input_train = np.array(dataRearrange1(input_train, AUGMENTATION))\n",
    "            \n",
    "            \n",
    "        repeated_items_val = np.repeat(input_name_val, AUGMENTATION)\n",
    "        suffixes_val = np.tile(np.arange(1, AUGMENTATION + 1), len(repeated_items_val))\n",
    "        input_name_val = np.array([f\"{item}-{suffix}\" for item, suffix in zip(repeated_items_val, suffixes_val)])\n",
    "    \n",
    "    input_dataset,label_dataset = CreateWeightImage(input_train, AUGMENTED)\n",
    "    input_dataset_val,label_dataset_val = CreateWeightImage(input_name_val, AUGMENTED)\n",
    "        \n",
    "    Learn_EA(input_dataset,label_dataset,input_dataset_val,label_dataset_val, 0)\n",
    "    mConv_predict(X_test)\n",
    "    \n",
    "    "
   ]
  },
  {
   "cell_type": "code",
   "execution_count": 21,
   "metadata": {},
   "outputs": [],
   "source": [
    "# # Dicecの計算\n",
    "# def cal_Dice(dir, input_name):\n",
    "#     # change the label count as your preference\n",
    "#     Dice = [0] * 2\n",
    "#     Count1 = [0] * 2 #予測結果の各ラベルの要素数\n",
    "#     Count2 = [0] * 2 #ラベル画像の\n",
    "#     Count3 = [0] * 2 #正解した画素数\n",
    "#     unique_label = set()\n",
    "#     for index in range(len(input_name)):\n",
    "#         print('index = ', index)\n",
    "\n",
    "#         img1 = cv2.imread(dir + '/' + input_name[index] + \".png\", cv2.IMREAD_GRAYSCALE)\n",
    "#         img2 = cv2.imread(labeled_dir + '/' + input_name[index] + \".png\", cv2.IMREAD_GRAYSCALE)\n",
    "#         #_, img2 = cv2.threshold(img2, 0, 255, cv2.THRESH_BINARY)\n",
    "#         print(\"予測画像:\", dir  + '/' + input_name[index] + \".png\")\n",
    "#         print(\"テストラベル:\", labeled_dir + '/' + input_name[index] + \".png\")\n",
    "        \n",
    "#         # change the image array size to your need\n",
    "#         for n in range(255):\n",
    "#             for l in range(255):\n",
    "#                 value = img1[n,l]\n",
    "#                 unique_label.add(value)\n",
    "#                 if value == 0:\n",
    "#                     Count1[0] += 1\n",
    "#                 else:\n",
    "#                     Count1[1] = Count1[1] + 1\n",
    "#                 # Count1[value] = Count1[value] + 1\n",
    "#                 value2 = img2[n,l]\n",
    "#                 if value2 == 0:\n",
    "#                     Count2[0] = Count2[0] + 1\n",
    "#                 else:\n",
    "#                     Count2[1] = Count2[1] + 1\n",
    "#                 # Count2[value2] = Count2[value2] + 1\n",
    "\n",
    "#                 if(img1[n][l] == img2[n][l]):\n",
    "#                     if value == 0:\n",
    "#                         Count3[0] = Count3[0] + 1\n",
    "#                     else:\n",
    "#                         Count3[1] = Count3[1] + 1\n",
    "#                     # Count3[value] = Count3[value] + 1\n",
    "\n",
    "\n",
    "#     for i in range(2):\n",
    "#         if(Count1[i]+Count2[i] != 0):\n",
    "#             Dice[i] = (2*Count3[i])/(Count1[i] + Count2[i])\n",
    "#     print('Count1 = ', Count1)\n",
    "#     print('Count2 = ', Count2)\n",
    "#     print('Count3 = ', Count3)\n",
    "#     print('Dice = ', Dice)\n",
    "#     #print(unique_label)\n",
    "\n",
    "#     return Dice\n"
   ]
  },
  {
   "cell_type": "code",
   "execution_count": 22,
   "metadata": {},
   "outputs": [],
   "source": [
    "#########\n",
    "### To plot the label images of the test dataset\n",
    "#########\n",
    "\n",
    "# input_name = test_input_name\n",
    "# label_img = []\n",
    "# for index in range(len(input_name)):\n",
    "#     imgLabel = cv2.imread(labeled_dir + '/' + input_name[index] + \".png\", cv2.IMREAD_GRAYSCALE)\n",
    "#     label_img.append(imgLabel)\n",
    "\n",
    "# plot_output_img = label_img\n"
   ]
  },
  {
   "cell_type": "code",
   "execution_count": 23,
   "metadata": {},
   "outputs": [],
   "source": [
    "# from plotImg import plot_images\n",
    "# def plot_label_image(plot_output_img):\n",
    "#      plot_img = []\n",
    "#      for output_img in plot_output_img:\n",
    "#           labels = np.unique(output_img)\n",
    "#           image = np.ones((255, 255, 3), dtype=np.uint8) * 0\n",
    "#           for x in range(255):\n",
    "#                for y in range(255):\n",
    "#                     # Get the pixel value (brightness)\n",
    "#                     pixel = output_img[x][y]\n",
    "#                     #  print(type(output_img))\n",
    "#                     if pixel == labels[0]:\n",
    "#                          image[x, y] = [0,0,0]\n",
    "#                     elif pixel == labels[1]:\n",
    "#                          image[x, y] = [2, 247, 68]\n",
    "#                     elif pixel == labels[2]:\n",
    "#                          image[x, y] = [255, 0, 38]\n",
    "#                     elif pixel == labels[3]:\n",
    "#                          image[x, y] = [234, 5, 250]\n",
    "#                     elif pixel == labels[4]:\n",
    "#                          image[x, y] = [21, 0, 255]\n",
    "#                     elif pixel == labels[5]:\n",
    "#                          image[x, y] = [0, 220, 245]\n",
    "#                     elif pixel == labels[6]:\n",
    "#                          image[x, y] = [205, 240, 7]\n",
    "#                     elif pixel == labels[7]:\n",
    "#                          image[x, y] = [255, 98, 0]\n",
    "#                     elif pixel == labels[8]:\n",
    "#                          image[x, y] = [0, 174, 255]\n",
    "#                     elif pixel == labels[9]:\n",
    "#                          image[x, y] = [255, 0, 174]\n",
    "#                     elif pixel == labels[10]:\n",
    "#                          image[x, y] = [198, 119, 74]\n",
    "#                     else:\n",
    "#                          print(\"There are more labels!\")\n",
    "#           plot_img.append(image)\n",
    "#      plot_images(test_result_dir, plot_img)\n",
    "\n"
   ]
  },
  {
   "cell_type": "code",
   "execution_count": 24,
   "metadata": {},
   "outputs": [],
   "source": [
    "# plot_label_image(plot_output_img)"
   ]
  },
  {
   "cell_type": "code",
   "execution_count": 25,
   "metadata": {},
   "outputs": [],
   "source": [
    "# import csv\n",
    "# path = test_result_dir\n",
    "# filename = 'featureCombination.csv'\n",
    "# full_path = os.path.join(path, filename)\n",
    "# with open(full_path, 'w', newline='') as csvfile:\n",
    "#     writer = csv.writer(csvfile)\n",
    "#     # Write a single row containing the string\n",
    "#     writer.writerow([inputfeature_list])\n"
   ]
  }
 ],
 "metadata": {
  "kernelspec": {
   "display_name": "altenv",
   "language": "python",
   "name": "python3"
  },
  "language_info": {
   "codemirror_mode": {
    "name": "ipython",
    "version": 3
   },
   "file_extension": ".py",
   "mimetype": "text/x-python",
   "name": "python",
   "nbconvert_exporter": "python",
   "pygments_lexer": "ipython3",
   "version": "3.11.9"
  }
 },
 "nbformat": 4,
 "nbformat_minor": 2
}
