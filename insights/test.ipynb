{
 "cells": [
  {
   "cell_type": "code",
   "execution_count": 7,
   "metadata": {},
   "outputs": [
    {
     "name": "stdout",
     "output_type": "stream",
     "text": [
      "odict_keys(['conv_final.weight', 'conv_final.bias', 'down_blocks.0.conv1.weight', 'down_blocks.0.conv1.bias', 'down_blocks.0.conv2.weight', 'down_blocks.0.conv2.bias', 'down_blocks.1.conv1.weight', 'down_blocks.1.conv1.bias', 'down_blocks.1.conv2.weight', 'down_blocks.1.conv2.bias', 'down_blocks.2.conv1.weight', 'down_blocks.2.conv1.bias', 'down_blocks.2.conv2.weight', 'down_blocks.2.conv2.bias', 'down_blocks.3.conv1.weight', 'down_blocks.3.conv1.bias', 'down_blocks.3.conv2.weight', 'down_blocks.3.conv2.bias', 'down_blocks.4.conv1.weight', 'down_blocks.4.conv1.bias', 'down_blocks.4.conv2.weight', 'down_blocks.4.conv2.bias', 'up_blocks.0.up.weight', 'up_blocks.0.up.bias', 'up_blocks.0.conv0.weight', 'up_blocks.0.conv0.bias', 'up_blocks.0.conv1.weight', 'up_blocks.0.conv1.bias', 'up_blocks.0.conv2.weight', 'up_blocks.0.conv2.bias', 'up_blocks.1.up.weight', 'up_blocks.1.up.bias', 'up_blocks.1.conv0.weight', 'up_blocks.1.conv0.bias', 'up_blocks.1.conv1.weight', 'up_blocks.1.conv1.bias', 'up_blocks.1.conv2.weight', 'up_blocks.1.conv2.bias', 'up_blocks.2.up.weight', 'up_blocks.2.up.bias', 'up_blocks.2.conv0.weight', 'up_blocks.2.conv0.bias', 'up_blocks.2.conv1.weight', 'up_blocks.2.conv1.bias', 'up_blocks.2.conv2.weight', 'up_blocks.2.conv2.bias', 'up_blocks.3.up.weight', 'up_blocks.3.up.bias', 'up_blocks.3.conv0.weight', 'up_blocks.3.conv0.bias', 'up_blocks.3.conv1.weight', 'up_blocks.3.conv1.bias', 'up_blocks.3.conv2.weight', 'up_blocks.3.conv2.bias'])\n"
     ]
    }
   ],
   "source": [
    "import torch\n",
    "pathModel = \"/home/eric/Documents/cervicalResearchIIP/model/20250206-Unet-CRF-HP/model_fold_1.pt\"\n",
    "checkpoint = torch.load(pathModel, map_location=\"cpu\")  # Load on CPU to avoid GPU memory issues\n",
    "print(checkpoint.keys())\n",
    "\n"
   ]
  },
  {
   "cell_type": "code",
   "execution_count": 8,
   "metadata": {},
   "outputs": [
    {
     "name": "stdout",
     "output_type": "stream",
     "text": [
      "Total number of parameters: 7934411\n"
     ]
    }
   ],
   "source": [
    "num_params = sum(p.numel() for p in checkpoint.values())\n",
    "print(f\"Total number of parameters: {num_params}\")"
   ]
  },
  {
   "cell_type": "code",
   "execution_count": 9,
   "metadata": {},
   "outputs": [
    {
     "name": "stdout",
     "output_type": "stream",
     "text": [
      "Model file size: 30.29 MB\n"
     ]
    }
   ],
   "source": [
    "import os\n",
    "\n",
    "file_size = os.path.getsize(pathModel) / (1024 * 1024)  # Convert to MB\n",
    "print(f\"Model file size: {file_size:.2f} MB\")\n"
   ]
  }
 ],
 "metadata": {
  "kernelspec": {
   "display_name": "altenv",
   "language": "python",
   "name": "python3"
  },
  "language_info": {
   "codemirror_mode": {
    "name": "ipython",
    "version": 3
   },
   "file_extension": ".py",
   "mimetype": "text/x-python",
   "name": "python",
   "nbconvert_exporter": "python",
   "pygments_lexer": "ipython3",
   "version": "3.11.9"
  }
 },
 "nbformat": 4,
 "nbformat_minor": 2
}
