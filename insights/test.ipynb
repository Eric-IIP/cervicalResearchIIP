{
 "cells": [
  {
   "cell_type": "code",
   "execution_count": 1,
   "metadata": {},
   "outputs": [
    {
     "name": "stdout",
     "output_type": "stream",
     "text": [
      "Standard deviations:\n",
      "['BLT1.png', 63.7355212961592]\n",
      "['BLT2.png', 63.74937146700162]\n",
      "['BTM1.png', 3.317024874193426]\n",
      "['BTM2.png', 5.874671537025354]\n",
      "['BTM3.png', 7.794122873124962]\n",
      "['BTM4.png', 9.303740605963375]\n",
      "['CAN1.png', 70.56423432494333]\n",
      "['CAN2.png', 49.46939309510565]\n",
      "['CAN3.png', 34.52208094641185]\n",
      "['CLO1.png', 88.47054360389939]\n",
      "['CLO2.png', 88.98137431129871]\n",
      "['CLO3.png', 88.08379259153432]\n",
      "['CLO4.png', 88.72998587710669]\n",
      "['CLO5.png', 88.83335182207938]\n",
      "['DST_.png', 54.32402874713325]\n",
      "['EMB1.png', 63.721264228944634]\n",
      "['EMB2.png', 63.68745215295299]\n",
      "['EMB3.png', 63.859959542248994]\n",
      "['ERO1.png', 91.21773486900938]\n",
      "['ERO2.png', 90.4515208108291]\n",
      "['ERO3.png', 91.65491610346447]\n",
      "['ERO4.png', 91.49268979455009]\n",
      "['ERO5.png', 90.9973783023369]\n",
      "['ERO6.png', 92.10689035869088]\n",
      "['ETC1.png', 63.76993670773529]\n",
      "['ETC2.png', 63.85413512967522]\n",
      "['FOU1.png', 78.65312062754242]\n",
      "['FOU2.png', 14.583647415242213]\n",
      "['FOU3.png', 19.353948084089584]\n",
      "['FOU4.png', 86.58233435853325]\n",
      "['GAU1.png', 63.6839976901881]\n",
      "['GAU2.png', 63.80287018001076]\n",
      "['GRY_.png', 89.5162629751719]\n",
      "['HGF_.png', 63.78113756527352]\n",
      "['HOM_.png', 12.22351854048566]\n",
      "['KNN1.png', 63.72745482280902]\n",
      "['KNN2.png', 63.76581670517526]\n",
      "['LBP1.png', 63.74883940166872]\n",
      "['LBP2.png', 63.79493038113134]\n",
      "['LBP3.png', 63.80316490279027]\n",
      "['LPL1.png', 47.6160509481182]\n",
      "['LPL2.png', 46.13132197804935]\n",
      "['MAX1.png', 88.12738891704305]\n",
      "['MAX2.png', 87.1762605319347]\n",
      "['MAX3.png', 86.3634643693744]\n",
      "['MAX4.png', 85.58885824321197]\n",
      "['MEA1.png', 63.770279348280525]\n",
      "['MEA2.png', 63.773959644683785]\n",
      "['MED1.png', 63.84083061641929]\n",
      "['MED2.png', 63.82714113931168]\n",
      "['MIN1.png', 90.78303540994935]\n",
      "['MIN2.png', 91.49268979455009]\n",
      "['MIN3.png', 91.87735397946044]\n",
      "['MIN4.png', 92.06687194307428]\n",
      "['MRG1.png', 13.630218881593834]\n",
      "['MRG2.png', 21.88846033015278]\n",
      "['MRG3.png', 28.13806037393281]\n",
      "['MRG4.png', 33.272140624043516]\n",
      "['MRL1.png', 92.85804496823788]\n",
      "['MRL2.png', 94.99092131419536]\n",
      "['MRL3.png', 96.20797597977014]\n",
      "['MRL4.png', 96.84480670968063]\n",
      "['NGP_.png', 63.69995808129741]\n",
      "['NGP_BLT1.png', 63.7355212961592]\n",
      "['NGP_BLT2.png', 63.74937146700162]\n",
      "['NGP_BTM1.png', 45.69991377959539]\n",
      "['NGP_BTM2.png', 44.34718448132113]\n",
      "['NGP_BTM3.png', 44.57883316885645]\n",
      "['NGP_BTM4.png', 45.679017304206575]\n",
      "['NGP_CAN1.png', 40.67820566967321]\n",
      "['NGP_CAN2.png', 27.15966679731291]\n",
      "['NGP_CAN3.png', 18.411776504752986]\n",
      "['NGP_CLO1.png', 63.739811640601566]\n",
      "['NGP_CLO2.png', 63.78951234061567]\n",
      "['NGP_CLO3.png', 63.78745696040876]\n",
      "['NGP_CLO4.png', 63.74312918031603]\n",
      "['NGP_CLO5.png', 63.75727018920432]\n",
      "['NGP_DST_.png', 62.87082473260746]\n",
      "['NGP_EMB1.png', 63.721264228944634]\n",
      "['NGP_EMB2.png', 63.68745215295299]\n",
      "['NGP_EMB3.png', 63.859959542248994]\n",
      "['NGP_ERO1.png', 63.717628298836175]\n",
      "['NGP_ERO2.png', 63.72955377343811]\n",
      "['NGP_ERO3.png', 63.80067856331233]\n",
      "['NGP_ERO4.png', 63.82647560955186]\n",
      "['NGP_ERO5.png', 63.771496856342104]\n",
      "['NGP_ERO6.png', 63.683020328952885]\n",
      "['NGP_ETC1.png', 63.76993670773529]\n",
      "['NGP_ETC2.png', 63.85413512967522]\n",
      "['NGP_FOU1.png', 63.74060405777706]\n",
      "['NGP_FOU2.png', 32.12479449794689]\n",
      "['NGP_FOU3.png', 36.01829751369211]\n",
      "['NGP_FOU4.png', 63.8086731827582]\n",
      "['NGP_GAU1.png', 63.6839976901881]\n",
      "['NGP_GAU2.png', 63.80287018001076]\n",
      "['NGP_GRY_.png', 63.69995808129741]\n",
      "['NGP_HGF_.png', 63.78113756527352]\n",
      "['NGP_HOM_.png', 52.611211887753264]\n",
      "['NGP_KNN1.png', 63.72745482280902]\n",
      "['NGP_KNN2.png', 63.76581670517526]\n",
      "['NGP_LBP1.png', 63.74883940166872]\n",
      "['NGP_LBP2.png', 63.79493038113134]\n",
      "['NGP_LBP3.png', 63.80316490279027]\n",
      "['NGP_LPL1.png', 55.1148852510248]\n",
      "['NGP_LPL2.png', 54.53476331871113]\n",
      "['NGP_MAX1.png', 63.74923020692923]\n",
      "['NGP_MAX2.png', 63.76050436848402]\n",
      "['NGP_MAX3.png', 63.691628981577786]\n",
      "['NGP_MAX4.png', 63.741503316707714]\n",
      "['NGP_MEA1.png', 63.770279348280525]\n",
      "['NGP_MEA2.png', 63.773959644683785]\n",
      "['NGP_MED1.png', 63.84083061641929]\n",
      "['NGP_MED2.png', 63.82714113931168]\n",
      "['NGP_MIN1.png', 63.75731672882374]\n",
      "['NGP_MIN2.png', 63.82647560955186]\n",
      "['NGP_MIN3.png', 63.70982066600987]\n",
      "['NGP_MIN4.png', 63.67601055341086]\n",
      "['NGP_MRG1.png', 51.985636007763844]\n",
      "['NGP_MRG2.png', 54.29426046704332]\n",
      "['NGP_MRG3.png', 55.50286153848048]\n",
      "['NGP_MRG4.png', 56.42900012748904]\n",
      "['NGP_MRL1.png', 63.752496969702584]\n",
      "['NGP_MRL2.png', 63.72921518974393]\n",
      "['NGP_MRL3.png', 63.79787436114801]\n",
      "['NGP_MRL4.png', 63.84672482178871]\n",
      "['NGP_NGP_.png', 63.69995808129741]\n",
      "['NGP_NML1.png', 63.62127547190534]\n",
      "['NGP_NML2.png', 63.69995808129741]\n",
      "['NGP_NML3.png', 63.81460113734144]\n",
      "['NGP_OOO_.png', 0.0]\n",
      "['NGP_OPN1.png', 63.76233503030167]\n",
      "['NGP_OPN2.png', 63.68914528427566]\n",
      "['NGP_OPN3.png', 63.8288934296736]\n",
      "['NGP_OPN4.png', 63.84177944381829]\n",
      "['NGP_OPN5.png', 63.66469804008056]\n",
      "['NGP_POS1.png', 63.82854749435665]\n",
      "['NGP_POS2.png', 63.7342262239863]\n",
      "['NGP_POS3.png', 63.77211217472323]\n",
      "['NGP_PRE1.png', 49.72462350457883]\n",
      "['NGP_PRE2.png', 50.5804405206785]\n",
      "['NGP_PRE3.png', 53.16119715566032]\n",
      "['NGP_PRE4.png', 49.4395383862638]\n",
      "['NGP_RIC_.png', 63.74598160453836]\n",
      "['NGP_ROB1.png', 49.466197578051485]\n",
      "['NGP_ROB2.png', 63.76727294692394]\n",
      "['NGP_ROB3.png', 50.08588854584736]\n",
      "['NGP_ROB4.png', 49.59339584167305]\n",
      "['NGP_SBL1.png', 52.844467418327646]\n",
      "['NGP_SBL2.png', 54.479393573645204]\n",
      "['NGP_SBL3.png', 52.81845539114962]\n",
      "['NGP_SBL4.png', 54.62796978295305]\n",
      "['NGP_SBLD.png', 63.5582328587974]\n",
      "['NGP_SBLM.png', 55.82474923860884]\n",
      "['NGP_SBLX.png', 51.815856180619356]\n",
      "['NGP_SBLY.png', 52.29403378053987]\n",
      "['NGP_SCH1.png', 63.6847501442789]\n",
      "['NGP_SCH2.png', 48.842927511096235]\n",
      "['NGP_SCH3.png', 49.270070458044145]\n",
      "['NGP_SCH4.png', 59.65267054994768]\n",
      "['NGP_SOL_.png', 63.72730425107411]\n",
      "['NGP_STC1.png', 63.80252177265255]\n",
      "['NGP_STC2.png', 63.810005773439535]\n",
      "['NGP_TOP1.png', 53.77732767202458]\n",
      "['NGP_TOP2.png', 56.21435981157261]\n",
      "['NGP_TOP3.png', 52.67321084136018]\n",
      "['NGP_TOP4.png', 52.25778190743484]\n",
      "['NGP_UNS1.png', 63.72865065008893]\n",
      "['NGP_UNS2.png', 63.73279412946385]\n",
      "['NGP_UNS3.png', 63.72452673138827]\n",
      "['NGP_UNS4.png', 63.71426930078368]\n",
      "['NGP_UNS5.png', 63.7357293212369]\n",
      "['NML1.png', 104.62141523171431]\n",
      "['NML2.png', 63.69995808129741]\n",
      "['NML3.png', 42.52196902027138]\n",
      "['OOO_.png', 0.0]\n",
      "['OPN1.png', 90.20401048810034]\n",
      "['OPN2.png', 89.78563379264867]\n",
      "['OPN3.png', 90.56246258497103]\n",
      "['OPN4.png', 89.98543968571028]\n",
      "['OPN5.png', 89.84352762974297]\n",
      "['POS1.png', 63.82854749435665]\n",
      "['POS2.png', 63.7342262239863]\n",
      "['POS3.png', 63.77211217472323]\n",
      "['PRE1.png', 31.30549230408554]\n",
      "['PRE2.png', 41.074524947651774]\n",
      "['PRE3.png', 56.08316060681068]\n",
      "['PRE4.png', 15.85600090822537]\n",
      "['RIC_.png', 89.76849955176856]\n",
      "['ROB1.png', 8.97979440682232]\n",
      "['ROB2.png', 89.94346471888618]\n",
      "['ROB3.png', 11.345683460477947]\n",
      "['ROB4.png', 11.421018081605498]\n",
      "['SBL1.png', 44.808032578360475]\n",
      "['SBL2.png', 47.256017799914]\n",
      "['SBL3.png', 44.746525214696234]\n",
      "['SBL4.png', 47.33706495894133]\n",
      "['SBLD.png', 63.5582328587974]\n",
      "['SBLM.png', 47.79449316274211]\n",
      "['SBLX.png', 42.79424328735205]\n",
      "['SBLY.png', 43.4381513806359]\n",
      "['SCH1.png', 88.72418607768729]\n",
      "['SCH2.png', 66.671354144614]\n",
      "['SCH3.png', 17.35492019722276]\n",
      "['SCH4.png', 80.83430835967978]\n",
      "['SOL_.png', 63.72730425107411]\n",
      "['STC1.png', 63.80252177265255]\n",
      "['STC2.png', 63.810005773439535]\n",
      "['TOP1.png', 43.83898860569905]\n",
      "['TOP2.png', 47.507762342591434]\n",
      "['TOP3.png', 41.30019135490169]\n",
      "['TOP4.png', 40.71165355286174]\n",
      "['UNS1.png', 89.65553922135936]\n",
      "['UNS2.png', 89.71962024020065]\n",
      "['UNS3.png', 89.81912585719436]\n",
      "['UNS4.png', 89.6282610738688]\n",
      "['UNS5.png', 89.90661553218771]\n"
     ]
    },
    {
     "data": {
      "application/vnd.plotly.v1+json": {
       "config": {
        "plotlyServerURL": "https://plot.ly"
       },
       "data": [
        {
         "hovertemplate": "Image Name=%{x}<br>Standard deviation=%{y}<extra></extra>",
         "legendgroup": "",
         "marker": {
          "color": "#636efa",
          "symbol": "circle"
         },
         "mode": "markers",
         "name": "",
         "orientation": "v",
         "showlegend": false,
         "type": "scatter",
         "x": [
          "BLT1.png",
          "BLT2.png",
          "BTM1.png",
          "BTM2.png",
          "BTM3.png",
          "BTM4.png",
          "CAN1.png",
          "CAN2.png",
          "CAN3.png",
          "CLO1.png",
          "CLO2.png",
          "CLO3.png",
          "CLO4.png",
          "CLO5.png",
          "DST_.png",
          "EMB1.png",
          "EMB2.png",
          "EMB3.png",
          "ERO1.png",
          "ERO2.png",
          "ERO3.png",
          "ERO4.png",
          "ERO5.png",
          "ERO6.png",
          "ETC1.png",
          "ETC2.png",
          "FOU1.png",
          "FOU2.png",
          "FOU3.png",
          "FOU4.png",
          "GAU1.png",
          "GAU2.png",
          "GRY_.png",
          "HGF_.png",
          "HOM_.png",
          "KNN1.png",
          "KNN2.png",
          "LBP1.png",
          "LBP2.png",
          "LBP3.png",
          "LPL1.png",
          "LPL2.png",
          "MAX1.png",
          "MAX2.png",
          "MAX3.png",
          "MAX4.png",
          "MEA1.png",
          "MEA2.png",
          "MED1.png",
          "MED2.png",
          "MIN1.png",
          "MIN2.png",
          "MIN3.png",
          "MIN4.png",
          "MRG1.png",
          "MRG2.png",
          "MRG3.png",
          "MRG4.png",
          "MRL1.png",
          "MRL2.png",
          "MRL3.png",
          "MRL4.png",
          "NGP_.png",
          "NGP_BLT1.png",
          "NGP_BLT2.png",
          "NGP_BTM1.png",
          "NGP_BTM2.png",
          "NGP_BTM3.png",
          "NGP_BTM4.png",
          "NGP_CAN1.png",
          "NGP_CAN2.png",
          "NGP_CAN3.png",
          "NGP_CLO1.png",
          "NGP_CLO2.png",
          "NGP_CLO3.png",
          "NGP_CLO4.png",
          "NGP_CLO5.png",
          "NGP_DST_.png",
          "NGP_EMB1.png",
          "NGP_EMB2.png",
          "NGP_EMB3.png",
          "NGP_ERO1.png",
          "NGP_ERO2.png",
          "NGP_ERO3.png",
          "NGP_ERO4.png",
          "NGP_ERO5.png",
          "NGP_ERO6.png",
          "NGP_ETC1.png",
          "NGP_ETC2.png",
          "NGP_FOU1.png",
          "NGP_FOU2.png",
          "NGP_FOU3.png",
          "NGP_FOU4.png",
          "NGP_GAU1.png",
          "NGP_GAU2.png",
          "NGP_GRY_.png",
          "NGP_HGF_.png",
          "NGP_HOM_.png",
          "NGP_KNN1.png",
          "NGP_KNN2.png",
          "NGP_LBP1.png",
          "NGP_LBP2.png",
          "NGP_LBP3.png",
          "NGP_LPL1.png",
          "NGP_LPL2.png",
          "NGP_MAX1.png",
          "NGP_MAX2.png",
          "NGP_MAX3.png",
          "NGP_MAX4.png",
          "NGP_MEA1.png",
          "NGP_MEA2.png",
          "NGP_MED1.png",
          "NGP_MED2.png",
          "NGP_MIN1.png",
          "NGP_MIN2.png",
          "NGP_MIN3.png",
          "NGP_MIN4.png",
          "NGP_MRG1.png",
          "NGP_MRG2.png",
          "NGP_MRG3.png",
          "NGP_MRG4.png",
          "NGP_MRL1.png",
          "NGP_MRL2.png",
          "NGP_MRL3.png",
          "NGP_MRL4.png",
          "NGP_NGP_.png",
          "NGP_NML1.png",
          "NGP_NML2.png",
          "NGP_NML3.png",
          "NGP_OOO_.png",
          "NGP_OPN1.png",
          "NGP_OPN2.png",
          "NGP_OPN3.png",
          "NGP_OPN4.png",
          "NGP_OPN5.png",
          "NGP_POS1.png",
          "NGP_POS2.png",
          "NGP_POS3.png",
          "NGP_PRE1.png",
          "NGP_PRE2.png",
          "NGP_PRE3.png",
          "NGP_PRE4.png",
          "NGP_RIC_.png",
          "NGP_ROB1.png",
          "NGP_ROB2.png",
          "NGP_ROB3.png",
          "NGP_ROB4.png",
          "NGP_SBL1.png",
          "NGP_SBL2.png",
          "NGP_SBL3.png",
          "NGP_SBL4.png",
          "NGP_SBLD.png",
          "NGP_SBLM.png",
          "NGP_SBLX.png",
          "NGP_SBLY.png",
          "NGP_SCH1.png",
          "NGP_SCH2.png",
          "NGP_SCH3.png",
          "NGP_SCH4.png",
          "NGP_SOL_.png",
          "NGP_STC1.png",
          "NGP_STC2.png",
          "NGP_TOP1.png",
          "NGP_TOP2.png",
          "NGP_TOP3.png",
          "NGP_TOP4.png",
          "NGP_UNS1.png",
          "NGP_UNS2.png",
          "NGP_UNS3.png",
          "NGP_UNS4.png",
          "NGP_UNS5.png",
          "NML1.png",
          "NML2.png",
          "NML3.png",
          "OOO_.png",
          "OPN1.png",
          "OPN2.png",
          "OPN3.png",
          "OPN4.png",
          "OPN5.png",
          "POS1.png",
          "POS2.png",
          "POS3.png",
          "PRE1.png",
          "PRE2.png",
          "PRE3.png",
          "PRE4.png",
          "RIC_.png",
          "ROB1.png",
          "ROB2.png",
          "ROB3.png",
          "ROB4.png",
          "SBL1.png",
          "SBL2.png",
          "SBL3.png",
          "SBL4.png",
          "SBLD.png",
          "SBLM.png",
          "SBLX.png",
          "SBLY.png",
          "SCH1.png",
          "SCH2.png",
          "SCH3.png",
          "SCH4.png",
          "SOL_.png",
          "STC1.png",
          "STC2.png",
          "TOP1.png",
          "TOP2.png",
          "TOP3.png",
          "TOP4.png",
          "UNS1.png",
          "UNS2.png",
          "UNS3.png",
          "UNS4.png",
          "UNS5.png"
         ],
         "xaxis": "x",
         "y": [
          63.7355212961592,
          63.74937146700162,
          3.317024874193426,
          5.874671537025354,
          7.794122873124962,
          9.303740605963375,
          70.56423432494333,
          49.46939309510565,
          34.52208094641185,
          88.47054360389939,
          88.98137431129871,
          88.08379259153432,
          88.72998587710669,
          88.83335182207938,
          54.32402874713325,
          63.721264228944634,
          63.68745215295299,
          63.859959542248994,
          91.21773486900938,
          90.4515208108291,
          91.65491610346447,
          91.49268979455009,
          90.9973783023369,
          92.10689035869088,
          63.76993670773529,
          63.85413512967522,
          78.65312062754242,
          14.583647415242213,
          19.353948084089584,
          86.58233435853325,
          63.6839976901881,
          63.80287018001076,
          89.5162629751719,
          63.78113756527352,
          12.22351854048566,
          63.72745482280902,
          63.76581670517526,
          63.74883940166872,
          63.79493038113134,
          63.80316490279027,
          47.6160509481182,
          46.13132197804935,
          88.12738891704305,
          87.1762605319347,
          86.3634643693744,
          85.58885824321197,
          63.770279348280525,
          63.773959644683785,
          63.84083061641929,
          63.82714113931168,
          90.78303540994935,
          91.49268979455009,
          91.87735397946044,
          92.06687194307428,
          13.630218881593834,
          21.88846033015278,
          28.13806037393281,
          33.272140624043516,
          92.85804496823788,
          94.99092131419536,
          96.20797597977014,
          96.84480670968063,
          63.69995808129741,
          63.7355212961592,
          63.74937146700162,
          45.69991377959539,
          44.34718448132113,
          44.57883316885645,
          45.679017304206575,
          40.67820566967321,
          27.15966679731291,
          18.411776504752986,
          63.739811640601566,
          63.78951234061567,
          63.78745696040876,
          63.74312918031603,
          63.75727018920432,
          62.87082473260746,
          63.721264228944634,
          63.68745215295299,
          63.859959542248994,
          63.717628298836175,
          63.72955377343811,
          63.80067856331233,
          63.82647560955186,
          63.771496856342104,
          63.683020328952885,
          63.76993670773529,
          63.85413512967522,
          63.74060405777706,
          32.12479449794689,
          36.01829751369211,
          63.8086731827582,
          63.6839976901881,
          63.80287018001076,
          63.69995808129741,
          63.78113756527352,
          52.611211887753264,
          63.72745482280902,
          63.76581670517526,
          63.74883940166872,
          63.79493038113134,
          63.80316490279027,
          55.1148852510248,
          54.53476331871113,
          63.74923020692923,
          63.76050436848402,
          63.691628981577786,
          63.741503316707714,
          63.770279348280525,
          63.773959644683785,
          63.84083061641929,
          63.82714113931168,
          63.75731672882374,
          63.82647560955186,
          63.70982066600987,
          63.67601055341086,
          51.985636007763844,
          54.29426046704332,
          55.50286153848048,
          56.42900012748904,
          63.752496969702584,
          63.72921518974393,
          63.79787436114801,
          63.84672482178871,
          63.69995808129741,
          63.62127547190534,
          63.69995808129741,
          63.81460113734144,
          0,
          63.76233503030167,
          63.68914528427566,
          63.8288934296736,
          63.84177944381829,
          63.66469804008056,
          63.82854749435665,
          63.7342262239863,
          63.77211217472323,
          49.72462350457883,
          50.5804405206785,
          53.16119715566032,
          49.4395383862638,
          63.74598160453836,
          49.466197578051485,
          63.76727294692394,
          50.08588854584736,
          49.59339584167305,
          52.844467418327646,
          54.479393573645204,
          52.81845539114962,
          54.62796978295305,
          63.5582328587974,
          55.82474923860884,
          51.815856180619356,
          52.29403378053987,
          63.6847501442789,
          48.842927511096235,
          49.270070458044145,
          59.65267054994768,
          63.72730425107411,
          63.80252177265255,
          63.810005773439535,
          53.77732767202458,
          56.21435981157261,
          52.67321084136018,
          52.25778190743484,
          63.72865065008893,
          63.73279412946385,
          63.72452673138827,
          63.71426930078368,
          63.7357293212369,
          104.62141523171431,
          63.69995808129741,
          42.52196902027138,
          0,
          90.20401048810034,
          89.78563379264867,
          90.56246258497103,
          89.98543968571028,
          89.84352762974297,
          63.82854749435665,
          63.7342262239863,
          63.77211217472323,
          31.30549230408554,
          41.074524947651774,
          56.08316060681068,
          15.85600090822537,
          89.76849955176856,
          8.97979440682232,
          89.94346471888618,
          11.345683460477947,
          11.421018081605498,
          44.808032578360475,
          47.256017799914,
          44.746525214696234,
          47.33706495894133,
          63.5582328587974,
          47.79449316274211,
          42.79424328735205,
          43.4381513806359,
          88.72418607768729,
          66.671354144614,
          17.35492019722276,
          80.83430835967978,
          63.72730425107411,
          63.80252177265255,
          63.810005773439535,
          43.83898860569905,
          47.507762342591434,
          41.30019135490169,
          40.71165355286174,
          89.65553922135936,
          89.71962024020065,
          89.81912585719436,
          89.6282610738688,
          89.90661553218771
         ],
         "yaxis": "y"
        }
       ],
       "layout": {
        "legend": {
         "tracegroupgap": 0
        },
        "template": {
         "data": {
          "bar": [
           {
            "error_x": {
             "color": "#2a3f5f"
            },
            "error_y": {
             "color": "#2a3f5f"
            },
            "marker": {
             "line": {
              "color": "#E5ECF6",
              "width": 0.5
             },
             "pattern": {
              "fillmode": "overlay",
              "size": 10,
              "solidity": 0.2
             }
            },
            "type": "bar"
           }
          ],
          "barpolar": [
           {
            "marker": {
             "line": {
              "color": "#E5ECF6",
              "width": 0.5
             },
             "pattern": {
              "fillmode": "overlay",
              "size": 10,
              "solidity": 0.2
             }
            },
            "type": "barpolar"
           }
          ],
          "carpet": [
           {
            "aaxis": {
             "endlinecolor": "#2a3f5f",
             "gridcolor": "white",
             "linecolor": "white",
             "minorgridcolor": "white",
             "startlinecolor": "#2a3f5f"
            },
            "baxis": {
             "endlinecolor": "#2a3f5f",
             "gridcolor": "white",
             "linecolor": "white",
             "minorgridcolor": "white",
             "startlinecolor": "#2a3f5f"
            },
            "type": "carpet"
           }
          ],
          "choropleth": [
           {
            "colorbar": {
             "outlinewidth": 0,
             "ticks": ""
            },
            "type": "choropleth"
           }
          ],
          "contour": [
           {
            "colorbar": {
             "outlinewidth": 0,
             "ticks": ""
            },
            "colorscale": [
             [
              0,
              "#0d0887"
             ],
             [
              0.1111111111111111,
              "#46039f"
             ],
             [
              0.2222222222222222,
              "#7201a8"
             ],
             [
              0.3333333333333333,
              "#9c179e"
             ],
             [
              0.4444444444444444,
              "#bd3786"
             ],
             [
              0.5555555555555556,
              "#d8576b"
             ],
             [
              0.6666666666666666,
              "#ed7953"
             ],
             [
              0.7777777777777778,
              "#fb9f3a"
             ],
             [
              0.8888888888888888,
              "#fdca26"
             ],
             [
              1,
              "#f0f921"
             ]
            ],
            "type": "contour"
           }
          ],
          "contourcarpet": [
           {
            "colorbar": {
             "outlinewidth": 0,
             "ticks": ""
            },
            "type": "contourcarpet"
           }
          ],
          "heatmap": [
           {
            "colorbar": {
             "outlinewidth": 0,
             "ticks": ""
            },
            "colorscale": [
             [
              0,
              "#0d0887"
             ],
             [
              0.1111111111111111,
              "#46039f"
             ],
             [
              0.2222222222222222,
              "#7201a8"
             ],
             [
              0.3333333333333333,
              "#9c179e"
             ],
             [
              0.4444444444444444,
              "#bd3786"
             ],
             [
              0.5555555555555556,
              "#d8576b"
             ],
             [
              0.6666666666666666,
              "#ed7953"
             ],
             [
              0.7777777777777778,
              "#fb9f3a"
             ],
             [
              0.8888888888888888,
              "#fdca26"
             ],
             [
              1,
              "#f0f921"
             ]
            ],
            "type": "heatmap"
           }
          ],
          "heatmapgl": [
           {
            "colorbar": {
             "outlinewidth": 0,
             "ticks": ""
            },
            "colorscale": [
             [
              0,
              "#0d0887"
             ],
             [
              0.1111111111111111,
              "#46039f"
             ],
             [
              0.2222222222222222,
              "#7201a8"
             ],
             [
              0.3333333333333333,
              "#9c179e"
             ],
             [
              0.4444444444444444,
              "#bd3786"
             ],
             [
              0.5555555555555556,
              "#d8576b"
             ],
             [
              0.6666666666666666,
              "#ed7953"
             ],
             [
              0.7777777777777778,
              "#fb9f3a"
             ],
             [
              0.8888888888888888,
              "#fdca26"
             ],
             [
              1,
              "#f0f921"
             ]
            ],
            "type": "heatmapgl"
           }
          ],
          "histogram": [
           {
            "marker": {
             "pattern": {
              "fillmode": "overlay",
              "size": 10,
              "solidity": 0.2
             }
            },
            "type": "histogram"
           }
          ],
          "histogram2d": [
           {
            "colorbar": {
             "outlinewidth": 0,
             "ticks": ""
            },
            "colorscale": [
             [
              0,
              "#0d0887"
             ],
             [
              0.1111111111111111,
              "#46039f"
             ],
             [
              0.2222222222222222,
              "#7201a8"
             ],
             [
              0.3333333333333333,
              "#9c179e"
             ],
             [
              0.4444444444444444,
              "#bd3786"
             ],
             [
              0.5555555555555556,
              "#d8576b"
             ],
             [
              0.6666666666666666,
              "#ed7953"
             ],
             [
              0.7777777777777778,
              "#fb9f3a"
             ],
             [
              0.8888888888888888,
              "#fdca26"
             ],
             [
              1,
              "#f0f921"
             ]
            ],
            "type": "histogram2d"
           }
          ],
          "histogram2dcontour": [
           {
            "colorbar": {
             "outlinewidth": 0,
             "ticks": ""
            },
            "colorscale": [
             [
              0,
              "#0d0887"
             ],
             [
              0.1111111111111111,
              "#46039f"
             ],
             [
              0.2222222222222222,
              "#7201a8"
             ],
             [
              0.3333333333333333,
              "#9c179e"
             ],
             [
              0.4444444444444444,
              "#bd3786"
             ],
             [
              0.5555555555555556,
              "#d8576b"
             ],
             [
              0.6666666666666666,
              "#ed7953"
             ],
             [
              0.7777777777777778,
              "#fb9f3a"
             ],
             [
              0.8888888888888888,
              "#fdca26"
             ],
             [
              1,
              "#f0f921"
             ]
            ],
            "type": "histogram2dcontour"
           }
          ],
          "mesh3d": [
           {
            "colorbar": {
             "outlinewidth": 0,
             "ticks": ""
            },
            "type": "mesh3d"
           }
          ],
          "parcoords": [
           {
            "line": {
             "colorbar": {
              "outlinewidth": 0,
              "ticks": ""
             }
            },
            "type": "parcoords"
           }
          ],
          "pie": [
           {
            "automargin": true,
            "type": "pie"
           }
          ],
          "scatter": [
           {
            "fillpattern": {
             "fillmode": "overlay",
             "size": 10,
             "solidity": 0.2
            },
            "type": "scatter"
           }
          ],
          "scatter3d": [
           {
            "line": {
             "colorbar": {
              "outlinewidth": 0,
              "ticks": ""
             }
            },
            "marker": {
             "colorbar": {
              "outlinewidth": 0,
              "ticks": ""
             }
            },
            "type": "scatter3d"
           }
          ],
          "scattercarpet": [
           {
            "marker": {
             "colorbar": {
              "outlinewidth": 0,
              "ticks": ""
             }
            },
            "type": "scattercarpet"
           }
          ],
          "scattergeo": [
           {
            "marker": {
             "colorbar": {
              "outlinewidth": 0,
              "ticks": ""
             }
            },
            "type": "scattergeo"
           }
          ],
          "scattergl": [
           {
            "marker": {
             "colorbar": {
              "outlinewidth": 0,
              "ticks": ""
             }
            },
            "type": "scattergl"
           }
          ],
          "scattermapbox": [
           {
            "marker": {
             "colorbar": {
              "outlinewidth": 0,
              "ticks": ""
             }
            },
            "type": "scattermapbox"
           }
          ],
          "scatterpolar": [
           {
            "marker": {
             "colorbar": {
              "outlinewidth": 0,
              "ticks": ""
             }
            },
            "type": "scatterpolar"
           }
          ],
          "scatterpolargl": [
           {
            "marker": {
             "colorbar": {
              "outlinewidth": 0,
              "ticks": ""
             }
            },
            "type": "scatterpolargl"
           }
          ],
          "scatterternary": [
           {
            "marker": {
             "colorbar": {
              "outlinewidth": 0,
              "ticks": ""
             }
            },
            "type": "scatterternary"
           }
          ],
          "surface": [
           {
            "colorbar": {
             "outlinewidth": 0,
             "ticks": ""
            },
            "colorscale": [
             [
              0,
              "#0d0887"
             ],
             [
              0.1111111111111111,
              "#46039f"
             ],
             [
              0.2222222222222222,
              "#7201a8"
             ],
             [
              0.3333333333333333,
              "#9c179e"
             ],
             [
              0.4444444444444444,
              "#bd3786"
             ],
             [
              0.5555555555555556,
              "#d8576b"
             ],
             [
              0.6666666666666666,
              "#ed7953"
             ],
             [
              0.7777777777777778,
              "#fb9f3a"
             ],
             [
              0.8888888888888888,
              "#fdca26"
             ],
             [
              1,
              "#f0f921"
             ]
            ],
            "type": "surface"
           }
          ],
          "table": [
           {
            "cells": {
             "fill": {
              "color": "#EBF0F8"
             },
             "line": {
              "color": "white"
             }
            },
            "header": {
             "fill": {
              "color": "#C8D4E3"
             },
             "line": {
              "color": "white"
             }
            },
            "type": "table"
           }
          ]
         },
         "layout": {
          "annotationdefaults": {
           "arrowcolor": "#2a3f5f",
           "arrowhead": 0,
           "arrowwidth": 1
          },
          "autotypenumbers": "strict",
          "coloraxis": {
           "colorbar": {
            "outlinewidth": 0,
            "ticks": ""
           }
          },
          "colorscale": {
           "diverging": [
            [
             0,
             "#8e0152"
            ],
            [
             0.1,
             "#c51b7d"
            ],
            [
             0.2,
             "#de77ae"
            ],
            [
             0.3,
             "#f1b6da"
            ],
            [
             0.4,
             "#fde0ef"
            ],
            [
             0.5,
             "#f7f7f7"
            ],
            [
             0.6,
             "#e6f5d0"
            ],
            [
             0.7,
             "#b8e186"
            ],
            [
             0.8,
             "#7fbc41"
            ],
            [
             0.9,
             "#4d9221"
            ],
            [
             1,
             "#276419"
            ]
           ],
           "sequential": [
            [
             0,
             "#0d0887"
            ],
            [
             0.1111111111111111,
             "#46039f"
            ],
            [
             0.2222222222222222,
             "#7201a8"
            ],
            [
             0.3333333333333333,
             "#9c179e"
            ],
            [
             0.4444444444444444,
             "#bd3786"
            ],
            [
             0.5555555555555556,
             "#d8576b"
            ],
            [
             0.6666666666666666,
             "#ed7953"
            ],
            [
             0.7777777777777778,
             "#fb9f3a"
            ],
            [
             0.8888888888888888,
             "#fdca26"
            ],
            [
             1,
             "#f0f921"
            ]
           ],
           "sequentialminus": [
            [
             0,
             "#0d0887"
            ],
            [
             0.1111111111111111,
             "#46039f"
            ],
            [
             0.2222222222222222,
             "#7201a8"
            ],
            [
             0.3333333333333333,
             "#9c179e"
            ],
            [
             0.4444444444444444,
             "#bd3786"
            ],
            [
             0.5555555555555556,
             "#d8576b"
            ],
            [
             0.6666666666666666,
             "#ed7953"
            ],
            [
             0.7777777777777778,
             "#fb9f3a"
            ],
            [
             0.8888888888888888,
             "#fdca26"
            ],
            [
             1,
             "#f0f921"
            ]
           ]
          },
          "colorway": [
           "#636efa",
           "#EF553B",
           "#00cc96",
           "#ab63fa",
           "#FFA15A",
           "#19d3f3",
           "#FF6692",
           "#B6E880",
           "#FF97FF",
           "#FECB52"
          ],
          "font": {
           "color": "#2a3f5f"
          },
          "geo": {
           "bgcolor": "white",
           "lakecolor": "white",
           "landcolor": "#E5ECF6",
           "showlakes": true,
           "showland": true,
           "subunitcolor": "white"
          },
          "hoverlabel": {
           "align": "left"
          },
          "hovermode": "closest",
          "mapbox": {
           "style": "light"
          },
          "paper_bgcolor": "white",
          "plot_bgcolor": "#E5ECF6",
          "polar": {
           "angularaxis": {
            "gridcolor": "white",
            "linecolor": "white",
            "ticks": ""
           },
           "bgcolor": "#E5ECF6",
           "radialaxis": {
            "gridcolor": "white",
            "linecolor": "white",
            "ticks": ""
           }
          },
          "scene": {
           "xaxis": {
            "backgroundcolor": "#E5ECF6",
            "gridcolor": "white",
            "gridwidth": 2,
            "linecolor": "white",
            "showbackground": true,
            "ticks": "",
            "zerolinecolor": "white"
           },
           "yaxis": {
            "backgroundcolor": "#E5ECF6",
            "gridcolor": "white",
            "gridwidth": 2,
            "linecolor": "white",
            "showbackground": true,
            "ticks": "",
            "zerolinecolor": "white"
           },
           "zaxis": {
            "backgroundcolor": "#E5ECF6",
            "gridcolor": "white",
            "gridwidth": 2,
            "linecolor": "white",
            "showbackground": true,
            "ticks": "",
            "zerolinecolor": "white"
           }
          },
          "shapedefaults": {
           "line": {
            "color": "#2a3f5f"
           }
          },
          "ternary": {
           "aaxis": {
            "gridcolor": "white",
            "linecolor": "white",
            "ticks": ""
           },
           "baxis": {
            "gridcolor": "white",
            "linecolor": "white",
            "ticks": ""
           },
           "bgcolor": "#E5ECF6",
           "caxis": {
            "gridcolor": "white",
            "linecolor": "white",
            "ticks": ""
           }
          },
          "title": {
           "x": 0.05
          },
          "xaxis": {
           "automargin": true,
           "gridcolor": "white",
           "linecolor": "white",
           "ticks": "",
           "title": {
            "standoff": 15
           },
           "zerolinecolor": "white",
           "zerolinewidth": 2
          },
          "yaxis": {
           "automargin": true,
           "gridcolor": "white",
           "linecolor": "white",
           "ticks": "",
           "title": {
            "standoff": 15
           },
           "zerolinecolor": "white",
           "zerolinewidth": 2
          }
         }
        },
        "title": {
         "text": "Interactive Scatter Plot"
        },
        "xaxis": {
         "anchor": "y",
         "domain": [
          0,
          1
         ],
         "tickangle": 45,
         "title": {
          "text": "Image Name"
         }
        },
        "yaxis": {
         "anchor": "x",
         "domain": [
          0,
          1
         ],
         "title": {
          "text": "Standard deviation"
         }
        }
       }
      }
     },
     "metadata": {},
     "output_type": "display_data"
    }
   ],
   "source": [
    "import cv2\n",
    "import numpy as np\n",
    "import glob\n",
    "import os\n",
    "import matplotlib.pyplot as plt\n",
    "\n",
    "import plotly.express as px\n",
    "\n",
    "import pandas as pd\n",
    "\n",
    "\n",
    "base_path = \"/home/eric/Documents/cervicalResearchIIP/img_1006t/feature/N1-1\"\n",
    "image_extensions = ['*.png']\n",
    "\n",
    "\n",
    "image_paths = []\n",
    "for ext in image_extensions:\n",
    "    image_paths.extend(glob.glob(os.path.join(base_path, ext)))\n",
    "\n",
    "images = []  # List of (filename, image) tuples\n",
    "for path in image_paths:\n",
    "    img = cv2.imread(path)\n",
    "    if img is not None:\n",
    "        filename = os.path.basename(path)\n",
    "        images.append((filename, img))\n",
    "    else:\n",
    "        print(f\"Warning: Could not read image {path}\")\n",
    "\n",
    "#scatter plotting function based on a variable\n",
    "def plot_scatter(data, variable_name):\n",
    "    df = pd.DataFrame(data, columns=[\"Name\", str(variable_name)])\n",
    "\n",
    "    # Create interactive scatter plot\n",
    "    fig = px.scatter(df, x=\"Name\", y=str(variable_name), title=\"Interactive Scatter Plot\",\n",
    "                    labels={\"Name\": \"Image Name\", str(variable_name): str(variable_name)})\n",
    "\n",
    "    # Rotate x-axis labels if needed\n",
    "    fig.update_layout(xaxis_tickangle=45)\n",
    "\n",
    "    # Show plot\n",
    "    fig.show() \n",
    "        \n",
    "        \n",
    "print(\"Standard deviations:\")\n",
    "### standard deviation of a picture \n",
    "# low variance or standard deviation means pixel intensities are closer \n",
    "# to the mean and high variance mean pixel intensities are from mean\n",
    "\n",
    "# when standard deviation is 0 all values are same\n",
    "\n",
    "data = []\n",
    "\n",
    "for name, img in images:\n",
    "    std_dev = np.std(img)\n",
    "    #print(f\"Image {name}: {str(std_dev)}\")\n",
    "    data.append([name, std_dev])\n",
    "data = sorted(data, key=lambda x: x[0])\n",
    "for datum in data:\n",
    "    print(datum)\n",
    "plot_scatter(data, \"Standard deviation\")   \n"
   ]
  },
  {
   "cell_type": "code",
   "execution_count": null,
   "metadata": {},
   "outputs": [
    {
     "name": "stdout",
     "output_type": "stream",
     "text": [
      "N2-1.png\n"
     ]
    },
    {
     "data": {
      "text/plain": [
       "True"
      ]
     },
     "execution_count": 167,
     "metadata": {},
     "output_type": "execute_result"
    }
   ],
   "source": [
    "# img1 = images[1][1]\n",
    "# print(images[1][0])\n",
    "# img1 = cv2.cvtColor(img1, cv2.COLOR_BGR2GRAY)\n",
    "# alpha = 1.3  # Contrast control (>1 increases contrast)\n",
    "# beta = 0     # Brightness control\n",
    "\n",
    "# # Adjust contrast and brightness\n",
    "# adjusted = cv2.convertScaleAbs(img1, alpha=alpha, beta=beta)\n",
    "\n",
    "# # threshold_value = 170\n",
    "# # max_value = 255\n",
    "# # _, binary = cv2.threshold(adjusted, threshold_value, max_value, cv2.THRESH_BINARY)\n",
    "# #Show result\n",
    "\n",
    "# # mean_val = np.mean(adjusted)\n",
    "# # print(mean_val)\n",
    "# height, width = adjusted.shape\n",
    "\n",
    "# for y in range(height):\n",
    "#     for x in range(width):\n",
    "#         pixel_value = adjusted[y, x]\n",
    "#         if pixel_value > 220 and pixel_value<240:\n",
    "#             adjusted[y,x] = 0\n",
    "#         elif pixel_value > 100 and pixel_value<150:\n",
    "#             adjusted[y,x] = 0\n",
    "#         else:\n",
    "#             adjusted[y,x] = 255\n",
    "#         # Do something with pixel_value\n",
    "        \n",
    "\n",
    "# cv2.imwrite('contrasted.jpg', adjusted)"
   ]
  },
  {
   "cell_type": "code",
   "execution_count": 2,
   "metadata": {},
   "outputs": [
    {
     "name": "stdout",
     "output_type": "stream",
     "text": [
      "Michelson contrast:\n",
      "99\n",
      "255\n",
      "3\n",
      "255\n",
      "0\n",
      "250\n",
      "0\n",
      "255\n",
      "0\n",
      "250\n",
      "97\n",
      "255\n",
      "0\n",
      "249\n",
      "0\n",
      "255\n",
      "0\n",
      "184\n",
      "0\n",
      "182\n",
      "34\n",
      "216\n",
      "36\n",
      "214\n",
      "94\n",
      "255\n",
      "39\n",
      "221\n",
      "38\n",
      "221\n",
      "0\n",
      "255\n",
      "1\n",
      "255\n",
      "44\n",
      "222\n",
      "0\n",
      "198\n",
      "0\n",
      "179\n",
      "87\n",
      "255\n",
      "95\n",
      "255\n",
      "0\n",
      "227\n",
      "39\n",
      "183\n",
      "34\n",
      "215\n",
      "30\n",
      "203\n",
      "127\n",
      "127\n",
      "0\n",
      "255\n",
      "34\n",
      "216\n",
      "0\n",
      "255\n",
      "35\n",
      "216\n",
      "0\n",
      "255\n",
      "69\n",
      "190\n",
      "47\n",
      "232\n",
      "32\n",
      "206\n",
      "0\n",
      "176\n",
      "59\n",
      "235\n",
      "33\n",
      "211\n",
      "0\n",
      "255\n",
      "40\n",
      "222\n",
      "0\n",
      "0\n",
      "88\n",
      "255\n",
      "35\n",
      "216\n",
      "40\n",
      "221\n",
      "42\n",
      "214\n",
      "0\n",
      "169\n",
      "33\n",
      "214\n",
      "0\n",
      "252\n",
      "0\n",
      "175\n",
      "35\n",
      "216\n",
      "10\n",
      "216\n",
      "97\n",
      "255\n",
      "26\n",
      "198\n",
      "0\n",
      "249\n",
      "0\n",
      "108\n",
      "0\n",
      "122\n",
      "23\n",
      "208\n",
      "30\n",
      "212\n",
      "0\n",
      "255\n",
      "3\n",
      "255\n",
      "47\n",
      "224\n",
      "0\n",
      "164\n",
      "0\n",
      "255\n",
      "0\n",
      "140\n",
      "0\n",
      "200\n",
      "0\n",
      "249\n",
      "30\n",
      "209\n",
      "0\n",
      "108\n",
      "0\n",
      "249\n",
      "0\n",
      "255\n",
      "0\n",
      "209\n",
      "32\n",
      "205\n",
      "44\n",
      "231\n",
      "35\n",
      "216\n",
      "34\n",
      "216\n",
      "40\n",
      "220\n",
      "0\n",
      "154\n",
      "0\n",
      "255\n",
      "0\n",
      "255\n",
      "0\n",
      "255\n",
      "36\n",
      "212\n",
      "0\n",
      "181\n",
      "2\n",
      "255\n",
      "3\n",
      "255\n",
      "35\n",
      "215\n",
      "44\n",
      "222\n",
      "0\n",
      "245\n",
      "28\n",
      "216\n",
      "0\n",
      "255\n",
      "42\n",
      "223\n",
      "35\n",
      "216\n",
      "3\n",
      "255\n",
      "3\n",
      "255\n",
      "32\n",
      "206\n",
      "0\n",
      "255\n",
      "23\n",
      "187\n",
      "46\n",
      "255\n",
      "0\n",
      "255\n",
      "26\n",
      "191\n",
      "20\n",
      "196\n",
      "0\n",
      "147\n",
      "0\n",
      "249\n",
      "42\n",
      "228\n",
      "12\n",
      "239\n",
      "2\n",
      "255\n",
      "42\n",
      "222\n",
      "31\n",
      "208\n",
      "94\n",
      "255\n",
      "42\n",
      "211\n",
      "0\n",
      "166\n",
      "16\n",
      "243\n",
      "47\n",
      "212\n",
      "0\n",
      "249\n",
      "0\n",
      "164\n",
      "0\n",
      "255\n",
      "22\n",
      "205\n",
      "33\n",
      "211\n",
      "0\n",
      "230\n",
      "68\n",
      "255\n",
      "28\n",
      "196\n",
      "36\n",
      "215\n",
      "101\n",
      "255\n",
      "31\n",
      "208\n",
      "35\n",
      "215\n",
      "4\n",
      "255\n",
      "27\n",
      "223\n",
      "0\n",
      "163\n",
      "36\n",
      "217\n",
      "0\n",
      "161\n",
      "47\n",
      "202\n",
      "0\n",
      "156\n",
      "34\n",
      "215\n",
      "41\n",
      "213\n",
      "32\n",
      "228\n",
      "100\n",
      "255\n",
      "33\n",
      "215\n",
      "0\n",
      "164\n",
      "0\n",
      "53\n",
      "33\n",
      "210\n",
      "0\n",
      "255\n",
      "0\n",
      "187\n",
      "0\n",
      "165\n",
      "31\n",
      "204\n",
      "33\n",
      "213\n",
      "32\n",
      "208\n",
      "35\n",
      "215\n",
      "32\n",
      "213\n",
      "95\n",
      "255\n",
      "0\n",
      "255\n",
      "98\n",
      "255\n",
      "0\n",
      "255\n",
      "32\n",
      "212\n",
      "43\n",
      "225\n",
      "35\n",
      "215\n",
      "0\n",
      "179\n",
      "94\n",
      "255\n",
      "0\n",
      "101\n",
      "34\n",
      "216\n",
      "0\n",
      "136\n",
      "35\n",
      "216\n",
      "0\n",
      "167\n",
      "40\n",
      "220\n",
      "40\n",
      "221\n",
      "36\n",
      "213\n",
      "0\n",
      "167\n",
      "0\n",
      "255\n",
      "0\n",
      "179\n",
      "0\n",
      "191\n",
      "35\n",
      "217\n",
      "0\n",
      "164\n",
      "39\n",
      "221\n",
      "18\n",
      "189\n",
      "28\n",
      "200\n",
      "34\n",
      "215\n",
      "0\n",
      "255\n",
      "36\n",
      "219\n",
      "0\n",
      "255\n",
      "0\n",
      "255\n",
      "2\n",
      "255\n",
      "72\n",
      "216\n",
      "97\n",
      "255\n",
      "0\n",
      "250\n",
      "0\n",
      "180\n",
      "60\n",
      "236\n",
      "0\n",
      "195\n",
      "43\n",
      "208\n",
      "40\n",
      "220\n",
      "0\n",
      "249\n",
      "0\n",
      "251\n",
      "0\n",
      "165\n",
      "40\n",
      "219\n",
      "47\n",
      "224\n",
      "40\n",
      "225\n",
      "0\n",
      "255\n",
      "0\n",
      "250\n",
      "87\n",
      "255\n",
      "0\n",
      "233\n",
      "19\n",
      "195\n",
      "0\n",
      "251\n",
      "0\n",
      "255\n",
      "0\n",
      "221\n",
      "34\n",
      "216\n",
      "66\n",
      "237\n",
      "0\n",
      "252\n",
      "0\n",
      "166\n",
      "0\n",
      "179\n",
      "0\n",
      "255\n",
      "0\n",
      "252\n",
      "44\n",
      "213\n",
      "0\n",
      "180\n",
      "0\n",
      "167\n",
      "0\n",
      "168\n",
      "0\n",
      "165\n",
      "36\n",
      "214\n",
      "0\n",
      "163\n",
      "0\n",
      "255\n",
      "['BLT1.png', 17.8]\n",
      "['BLT2.png', 11.8]\n",
      "['BTM1.png', 1.0]\n",
      "['BTM2.png', 1.0]\n",
      "['BTM3.png', 1.0]\n",
      "['BTM4.png', 1.0]\n",
      "['CAN1.png', 1.0]\n",
      "['CAN2.png', 1.0]\n",
      "['CAN3.png', 1.0]\n",
      "['CLO1.png', 126.0]\n",
      "['CLO2.png', 253.0]\n",
      "['CLO3.png', 126.0]\n",
      "['CLO4.png', 126.0]\n",
      "['CLO5.png', 253.0]\n",
      "['DST_.png', 1.0]\n",
      "['EMB1.png', 0.6679841897233202]\n",
      "['EMB2.png', 0.6573705179282868]\n",
      "['EMB3.png', 0.6771653543307087]\n",
      "['ERO1.png', 1.0]\n",
      "['ERO2.png', 1.0]\n",
      "['ERO3.png', 1.0]\n",
      "['ERO4.png', 1.0]\n",
      "['ERO5.png', 1.0]\n",
      "['ERO6.png', 1.0]\n",
      "['ETC1.png', 1.0]\n",
      "['ETC2.png', 3.6382978723404253]\n",
      "['FOU1.png', 1.0]\n",
      "['FOU2.png', 1.0]\n",
      "['FOU3.png', 1.0]\n",
      "['FOU4.png', 1.0]\n",
      "['GAU1.png', 45.0]\n",
      "['GAU2.png', 45.0]\n",
      "['GRY_.png', 1.0]\n",
      "['HGF_.png', 75.66666666666667]\n",
      "['HOM_.png', 1.0]\n",
      "['KNN1.png', 17.8]\n",
      "['KNN2.png', 11.8]\n",
      "['LBP1.png', 2.791044776119403]\n",
      "['LBP2.png', 4.4]\n",
      "['LBP3.png', 4.631578947368421]\n",
      "['LPL1.png', 1.7311827956989247]\n",
      "['LPL2.png', 1.702127659574468]\n",
      "['MAX1.png', 253.0]\n",
      "['MAX2.png', 126.0]\n",
      "['MAX3.png', 126.0]\n",
      "['MAX4.png', 83.66666666666667]\n",
      "['MEA1.png', 45.0]\n",
      "['MEA2.png', 59.666666666666664]\n",
      "['MED1.png', 36.2]\n",
      "['MED2.png', 36.2]\n",
      "['MIN1.png', 1.0]\n",
      "['MIN2.png', 1.0]\n",
      "['MIN3.png', 1.0]\n",
      "['MIN4.png', 1.0]\n",
      "['MRG1.png', 1.0]\n",
      "['MRG2.png', 1.0]\n",
      "['MRG3.png', 1.0]\n",
      "['MRG4.png', 1.0]\n",
      "['MRL1.png', 1.0]\n",
      "['MRL2.png', 1.0]\n",
      "['MRL3.png', 1.0]\n",
      "['MRL4.png', 1.0]\n",
      "['NGP_.png', 0.728]\n",
      "['NGP_BLT1.png', 0.7295081967213115]\n",
      "['NGP_BLT2.png', 0.7405857740585774]\n",
      "['NGP_BTM1.png', 1.0]\n",
      "['NGP_BTM2.png', 1.0]\n",
      "['NGP_BTM3.png', 1.0]\n",
      "['NGP_BTM4.png', 1.0]\n",
      "['NGP_CAN1.png', 1.0]\n",
      "['NGP_CAN2.png', 1.0]\n",
      "['NGP_CAN3.png', 1.0]\n",
      "['NGP_CLO1.png', 0.7154150197628458]\n",
      "['NGP_CLO2.png', 0.7211155378486056]\n",
      "['NGP_CLO3.png', 0.7176470588235294]\n",
      "['NGP_CLO4.png', 0.7211155378486056]\n",
      "['NGP_CLO5.png', 0.7222222222222222]\n",
      "['NGP_DST_.png', 1.0]\n",
      "['NGP_EMB1.png', 169.0]\n",
      "['NGP_EMB2.png', 55.0]\n",
      "['NGP_EMB3.png', inf]\n",
      "['NGP_ERO1.png', 0.7333333333333333]\n",
      "['NGP_ERO2.png', 0.7377049180327869]\n",
      "['NGP_ERO3.png', 0.729957805907173]\n",
      "['NGP_ERO4.png', 0.7310924369747899]\n",
      "['NGP_ERO5.png', 0.7489539748953975]\n",
      "['NGP_ERO6.png', 0.7678571428571429]\n",
      "['NGP_ETC1.png', 4.644444444444445]\n",
      "['NGP_ETC2.png', 0.8260869565217391]\n",
      "['NGP_FOU1.png', 0.911504424778761]\n",
      "['NGP_FOU2.png', 1.0]\n",
      "['NGP_FOU3.png', 1.0]\n",
      "['NGP_FOU4.png', 0.7704918032786885]\n",
      "['NGP_GAU1.png', 0.72]\n",
      "['NGP_GAU2.png', 0.72]\n",
      "['NGP_GRY_.png', 0.728]\n",
      "['NGP_HGF_.png', 0.9043824701195219]\n",
      "['NGP_HOM_.png', 1.0]\n",
      "['NGP_KNN1.png', 0.7295081967213115]\n",
      "['NGP_KNN2.png', 0.7405857740585774]\n",
      "['NGP_LBP1.png', 1.0]\n",
      "['NGP_LBP2.png', 0.822429906542056]\n",
      "['NGP_LBP3.png', 0.8148148148148148]\n",
      "['NGP_LPL1.png', 1.0]\n",
      "['NGP_LPL2.png', 1.0]\n",
      "['NGP_MAX1.png', 61.0]\n",
      "['NGP_MAX2.png', 20.555555555555557]\n",
      "['NGP_MAX3.png', 13.285714285714286]\n",
      "['NGP_MAX4.png', 9.842105263157896]\n",
      "['NGP_MEA1.png', 0.72]\n",
      "['NGP_MEA2.png', 0.7131474103585658]\n",
      "['NGP_MED1.png', 0.7269076305220884]\n",
      "['NGP_MED2.png', 0.7269076305220884]\n",
      "['NGP_MIN1.png', 0.7283950617283951]\n",
      "['NGP_MIN2.png', 0.7310924369747899]\n",
      "['NGP_MIN3.png', 0.7424892703862661]\n",
      "['NGP_MIN4.png', 0.7543859649122807]\n",
      "['NGP_MRG1.png', 1.0]\n",
      "['NGP_MRG2.png', 1.0]\n",
      "['NGP_MRG3.png', 1.0]\n",
      "['NGP_MRG4.png', 1.0]\n",
      "['NGP_MRL1.png', 0.7361702127659574]\n",
      "['NGP_MRL2.png', 0.75]\n",
      "['NGP_MRL3.png', 0.7603686635944701]\n",
      "['NGP_MRL4.png', 0.780952380952381]\n",
      "['NGP_NGP_.png', 45.5]\n",
      "['NGP_NML1.png', 0.6224899598393574]\n",
      "['NGP_NML2.png', 0.728]\n",
      "['NGP_NML3.png', 0.7269076305220884]\n",
      "['NGP_OOO_.png', 0.0]\n",
      "['NGP_OPN1.png', 0.7108433734939759]\n",
      "['NGP_OPN2.png', 0.712]\n",
      "['NGP_OPN3.png', 0.7096774193548387]\n",
      "['NGP_OPN4.png', 0.712]\n",
      "['NGP_OPN5.png', 0.7327935222672065]\n",
      "['NGP_POS1.png', 0.8008658008658008]\n",
      "['NGP_POS2.png', 0.7520661157024794]\n",
      "['NGP_POS3.png', 0.7387755102040816]\n",
      "['NGP_PRE1.png', 1.0]\n",
      "['NGP_PRE2.png', 1.0]\n",
      "['NGP_PRE3.png', 1.0]\n",
      "['NGP_PRE4.png', 1.0]\n",
      "['NGP_RIC_.png', 0.72]\n",
      "['NGP_ROB1.png', 1.0]\n",
      "['NGP_ROB2.png', 0.7211155378486056]\n",
      "['NGP_ROB3.png', 1.0]\n",
      "['NGP_ROB4.png', 1.0]\n",
      "['NGP_SBL1.png', 1.0]\n",
      "['NGP_SBL2.png', 1.0]\n",
      "['NGP_SBL3.png', 1.0]\n",
      "['NGP_SBL4.png', 1.0]\n",
      "['NGP_SBLD.png', 0.6486486486486487]\n",
      "['NGP_SBLM.png', 1.0]\n",
      "['NGP_SBLX.png', 1.0]\n",
      "['NGP_SBLY.png', 1.0]\n",
      "['NGP_SCH1.png', 0.8061674008810573]\n",
      "['NGP_SCH2.png', 1.54]\n",
      "['NGP_SCH3.png', 1.0]\n",
      "['NGP_SCH4.png', 1.9534883720930232]\n",
      "['NGP_SOL_.png', 49.0]\n",
      "['NGP_STC1.png', 0.7317073170731707]\n",
      "['NGP_STC2.png', 30.333333333333332]\n",
      "['NGP_TOP1.png', 1.0]\n",
      "['NGP_TOP2.png', 1.0]\n",
      "['NGP_TOP3.png', 1.0]\n",
      "['NGP_TOP4.png', 1.0]\n",
      "['NGP_UNS1.png', 0.728]\n",
      "['NGP_UNS2.png', 0.7211155378486056]\n",
      "['NGP_UNS3.png', 0.7211155378486056]\n",
      "['NGP_UNS4.png', 0.728]\n",
      "['NGP_UNS5.png', 0.7211155378486056]\n",
      "['NML1.png', 1.0]\n",
      "['NML2.png', 45.5]\n",
      "['NML3.png', 40.333333333333336]\n",
      "['OOO_.png', nan]\n",
      "['OPN1.png', 1.0]\n",
      "['OPN2.png', 1.0]\n",
      "['OPN3.png', 1.0]\n",
      "['OPN4.png', 1.0]\n",
      "['OPN5.png', 1.0]\n",
      "['POS1.png', 8.043478260869565]\n",
      "['POS2.png', 15.166666666666666]\n",
      "['POS3.png', 20.11111111111111]\n",
      "['PRE1.png', 1.0]\n",
      "['PRE2.png', 1.0]\n",
      "['PRE3.png', 1.0]\n",
      "['PRE4.png', 1.0]\n",
      "['RIC_.png', inf]\n",
      "['ROB1.png', 1.0]\n",
      "['ROB2.png', 1.0]\n",
      "['ROB3.png', 1.0]\n",
      "['ROB4.png', 1.0]\n",
      "['SBL1.png', 1.6458333333333333]\n",
      "['SBL2.png', 1.7311827956989247]\n",
      "['SBL3.png', 1.6458333333333333]\n",
      "['SBL4.png', 1.7311827956989247]\n",
      "['SBLD.png', 4.5]\n",
      "['SBLM.png', 1.9534883720930232]\n",
      "['SBLX.png', 1.6185567010309279]\n",
      "['SBLY.png', 1.6458333333333333]\n",
      "['SCH1.png', 1.0]\n",
      "['SCH2.png', 1.0]\n",
      "['SCH3.png', 1.0]\n",
      "['SCH4.png', 1.0]\n",
      "['SOL_.png', 0.784]\n",
      "['STC1.png', 22.5]\n",
      "['STC2.png', 0.7338709677419355]\n",
      "['TOP1.png', 1.702127659574468]\n",
      "['TOP2.png', 1.9195402298850575]\n",
      "['TOP3.png', 1.5918367346938775]\n",
      "['TOP4.png', 1.5656565656565657]\n",
      "['UNS1.png', 1.0]\n",
      "['UNS2.png', 1.0]\n",
      "['UNS3.png', 1.0]\n",
      "['UNS4.png', 1.0]\n",
      "['UNS5.png', 1.0]\n"
     ]
    },
    {
     "name": "stderr",
     "output_type": "stream",
     "text": [
      "/tmp/ipykernel_2001591/2271492368.py:11: RuntimeWarning:\n",
      "\n",
      "overflow encountered in scalar add\n",
      "\n",
      "/tmp/ipykernel_2001591/2271492368.py:11: RuntimeWarning:\n",
      "\n",
      "divide by zero encountered in scalar divide\n",
      "\n",
      "/tmp/ipykernel_2001591/2271492368.py:11: RuntimeWarning:\n",
      "\n",
      "invalid value encountered in scalar divide\n",
      "\n"
     ]
    },
    {
     "data": {
      "application/vnd.plotly.v1+json": {
       "config": {
        "plotlyServerURL": "https://plot.ly"
       },
       "data": [
        {
         "hovertemplate": "Image Name=%{x}<br>Michelson contrast=%{y}<extra></extra>",
         "legendgroup": "",
         "marker": {
          "color": "#636efa",
          "symbol": "circle"
         },
         "mode": "markers",
         "name": "",
         "orientation": "v",
         "showlegend": false,
         "type": "scatter",
         "x": [
          "BLT1.png",
          "BLT2.png",
          "BTM1.png",
          "BTM2.png",
          "BTM3.png",
          "BTM4.png",
          "CAN1.png",
          "CAN2.png",
          "CAN3.png",
          "CLO1.png",
          "CLO2.png",
          "CLO3.png",
          "CLO4.png",
          "CLO5.png",
          "DST_.png",
          "EMB1.png",
          "EMB2.png",
          "EMB3.png",
          "ERO1.png",
          "ERO2.png",
          "ERO3.png",
          "ERO4.png",
          "ERO5.png",
          "ERO6.png",
          "ETC1.png",
          "ETC2.png",
          "FOU1.png",
          "FOU2.png",
          "FOU3.png",
          "FOU4.png",
          "GAU1.png",
          "GAU2.png",
          "GRY_.png",
          "HGF_.png",
          "HOM_.png",
          "KNN1.png",
          "KNN2.png",
          "LBP1.png",
          "LBP2.png",
          "LBP3.png",
          "LPL1.png",
          "LPL2.png",
          "MAX1.png",
          "MAX2.png",
          "MAX3.png",
          "MAX4.png",
          "MEA1.png",
          "MEA2.png",
          "MED1.png",
          "MED2.png",
          "MIN1.png",
          "MIN2.png",
          "MIN3.png",
          "MIN4.png",
          "MRG1.png",
          "MRG2.png",
          "MRG3.png",
          "MRG4.png",
          "MRL1.png",
          "MRL2.png",
          "MRL3.png",
          "MRL4.png",
          "NGP_.png",
          "NGP_BLT1.png",
          "NGP_BLT2.png",
          "NGP_BTM1.png",
          "NGP_BTM2.png",
          "NGP_BTM3.png",
          "NGP_BTM4.png",
          "NGP_CAN1.png",
          "NGP_CAN2.png",
          "NGP_CAN3.png",
          "NGP_CLO1.png",
          "NGP_CLO2.png",
          "NGP_CLO3.png",
          "NGP_CLO4.png",
          "NGP_CLO5.png",
          "NGP_DST_.png",
          "NGP_EMB1.png",
          "NGP_EMB2.png",
          "NGP_EMB3.png",
          "NGP_ERO1.png",
          "NGP_ERO2.png",
          "NGP_ERO3.png",
          "NGP_ERO4.png",
          "NGP_ERO5.png",
          "NGP_ERO6.png",
          "NGP_ETC1.png",
          "NGP_ETC2.png",
          "NGP_FOU1.png",
          "NGP_FOU2.png",
          "NGP_FOU3.png",
          "NGP_FOU4.png",
          "NGP_GAU1.png",
          "NGP_GAU2.png",
          "NGP_GRY_.png",
          "NGP_HGF_.png",
          "NGP_HOM_.png",
          "NGP_KNN1.png",
          "NGP_KNN2.png",
          "NGP_LBP1.png",
          "NGP_LBP2.png",
          "NGP_LBP3.png",
          "NGP_LPL1.png",
          "NGP_LPL2.png",
          "NGP_MAX1.png",
          "NGP_MAX2.png",
          "NGP_MAX3.png",
          "NGP_MAX4.png",
          "NGP_MEA1.png",
          "NGP_MEA2.png",
          "NGP_MED1.png",
          "NGP_MED2.png",
          "NGP_MIN1.png",
          "NGP_MIN2.png",
          "NGP_MIN3.png",
          "NGP_MIN4.png",
          "NGP_MRG1.png",
          "NGP_MRG2.png",
          "NGP_MRG3.png",
          "NGP_MRG4.png",
          "NGP_MRL1.png",
          "NGP_MRL2.png",
          "NGP_MRL3.png",
          "NGP_MRL4.png",
          "NGP_NGP_.png",
          "NGP_NML1.png",
          "NGP_NML2.png",
          "NGP_NML3.png",
          "NGP_OOO_.png",
          "NGP_OPN1.png",
          "NGP_OPN2.png",
          "NGP_OPN3.png",
          "NGP_OPN4.png",
          "NGP_OPN5.png",
          "NGP_POS1.png",
          "NGP_POS2.png",
          "NGP_POS3.png",
          "NGP_PRE1.png",
          "NGP_PRE2.png",
          "NGP_PRE3.png",
          "NGP_PRE4.png",
          "NGP_RIC_.png",
          "NGP_ROB1.png",
          "NGP_ROB2.png",
          "NGP_ROB3.png",
          "NGP_ROB4.png",
          "NGP_SBL1.png",
          "NGP_SBL2.png",
          "NGP_SBL3.png",
          "NGP_SBL4.png",
          "NGP_SBLD.png",
          "NGP_SBLM.png",
          "NGP_SBLX.png",
          "NGP_SBLY.png",
          "NGP_SCH1.png",
          "NGP_SCH2.png",
          "NGP_SCH3.png",
          "NGP_SCH4.png",
          "NGP_SOL_.png",
          "NGP_STC1.png",
          "NGP_STC2.png",
          "NGP_TOP1.png",
          "NGP_TOP2.png",
          "NGP_TOP3.png",
          "NGP_TOP4.png",
          "NGP_UNS1.png",
          "NGP_UNS2.png",
          "NGP_UNS3.png",
          "NGP_UNS4.png",
          "NGP_UNS5.png",
          "NML1.png",
          "NML2.png",
          "NML3.png",
          "OOO_.png",
          "OPN1.png",
          "OPN2.png",
          "OPN3.png",
          "OPN4.png",
          "OPN5.png",
          "POS1.png",
          "POS2.png",
          "POS3.png",
          "PRE1.png",
          "PRE2.png",
          "PRE3.png",
          "PRE4.png",
          "RIC_.png",
          "ROB1.png",
          "ROB2.png",
          "ROB3.png",
          "ROB4.png",
          "SBL1.png",
          "SBL2.png",
          "SBL3.png",
          "SBL4.png",
          "SBLD.png",
          "SBLM.png",
          "SBLX.png",
          "SBLY.png",
          "SCH1.png",
          "SCH2.png",
          "SCH3.png",
          "SCH4.png",
          "SOL_.png",
          "STC1.png",
          "STC2.png",
          "TOP1.png",
          "TOP2.png",
          "TOP3.png",
          "TOP4.png",
          "UNS1.png",
          "UNS2.png",
          "UNS3.png",
          "UNS4.png",
          "UNS5.png"
         ],
         "xaxis": "x",
         "y": [
          17.8,
          11.8,
          1,
          1,
          1,
          1,
          1,
          1,
          1,
          126,
          253,
          126,
          126,
          253,
          1,
          0.6679841897233202,
          0.6573705179282868,
          0.6771653543307087,
          1,
          1,
          1,
          1,
          1,
          1,
          1,
          3.6382978723404253,
          1,
          1,
          1,
          1,
          45,
          45,
          1,
          75.66666666666667,
          1,
          17.8,
          11.8,
          2.791044776119403,
          4.4,
          4.631578947368421,
          1.7311827956989247,
          1.702127659574468,
          253,
          126,
          126,
          83.66666666666667,
          45,
          59.666666666666664,
          36.2,
          36.2,
          1,
          1,
          1,
          1,
          1,
          1,
          1,
          1,
          1,
          1,
          1,
          1,
          0.728,
          0.7295081967213115,
          0.7405857740585774,
          1,
          1,
          1,
          1,
          1,
          1,
          1,
          0.7154150197628458,
          0.7211155378486056,
          0.7176470588235294,
          0.7211155378486056,
          0.7222222222222222,
          1,
          169,
          55,
          null,
          0.7333333333333333,
          0.7377049180327869,
          0.729957805907173,
          0.7310924369747899,
          0.7489539748953975,
          0.7678571428571429,
          4.644444444444445,
          0.8260869565217391,
          0.911504424778761,
          1,
          1,
          0.7704918032786885,
          0.72,
          0.72,
          0.728,
          0.9043824701195219,
          1,
          0.7295081967213115,
          0.7405857740585774,
          1,
          0.822429906542056,
          0.8148148148148148,
          1,
          1,
          61,
          20.555555555555557,
          13.285714285714286,
          9.842105263157896,
          0.72,
          0.7131474103585658,
          0.7269076305220884,
          0.7269076305220884,
          0.7283950617283951,
          0.7310924369747899,
          0.7424892703862661,
          0.7543859649122807,
          1,
          1,
          1,
          1,
          0.7361702127659574,
          0.75,
          0.7603686635944701,
          0.780952380952381,
          45.5,
          0.6224899598393574,
          0.728,
          0.7269076305220884,
          0,
          0.7108433734939759,
          0.712,
          0.7096774193548387,
          0.712,
          0.7327935222672065,
          0.8008658008658008,
          0.7520661157024794,
          0.7387755102040816,
          1,
          1,
          1,
          1,
          0.72,
          1,
          0.7211155378486056,
          1,
          1,
          1,
          1,
          1,
          1,
          0.6486486486486487,
          1,
          1,
          1,
          0.8061674008810573,
          1.54,
          1,
          1.9534883720930232,
          49,
          0.7317073170731707,
          30.333333333333332,
          1,
          1,
          1,
          1,
          0.728,
          0.7211155378486056,
          0.7211155378486056,
          0.728,
          0.7211155378486056,
          1,
          45.5,
          40.333333333333336,
          null,
          1,
          1,
          1,
          1,
          1,
          8.043478260869565,
          15.166666666666666,
          20.11111111111111,
          1,
          1,
          1,
          1,
          null,
          1,
          1,
          1,
          1,
          1.6458333333333333,
          1.7311827956989247,
          1.6458333333333333,
          1.7311827956989247,
          4.5,
          1.9534883720930232,
          1.6185567010309279,
          1.6458333333333333,
          1,
          1,
          1,
          1,
          0.784,
          22.5,
          0.7338709677419355,
          1.702127659574468,
          1.9195402298850575,
          1.5918367346938775,
          1.5656565656565657,
          1,
          1,
          1,
          1,
          1
         ],
         "yaxis": "y"
        }
       ],
       "layout": {
        "legend": {
         "tracegroupgap": 0
        },
        "template": {
         "data": {
          "bar": [
           {
            "error_x": {
             "color": "#2a3f5f"
            },
            "error_y": {
             "color": "#2a3f5f"
            },
            "marker": {
             "line": {
              "color": "#E5ECF6",
              "width": 0.5
             },
             "pattern": {
              "fillmode": "overlay",
              "size": 10,
              "solidity": 0.2
             }
            },
            "type": "bar"
           }
          ],
          "barpolar": [
           {
            "marker": {
             "line": {
              "color": "#E5ECF6",
              "width": 0.5
             },
             "pattern": {
              "fillmode": "overlay",
              "size": 10,
              "solidity": 0.2
             }
            },
            "type": "barpolar"
           }
          ],
          "carpet": [
           {
            "aaxis": {
             "endlinecolor": "#2a3f5f",
             "gridcolor": "white",
             "linecolor": "white",
             "minorgridcolor": "white",
             "startlinecolor": "#2a3f5f"
            },
            "baxis": {
             "endlinecolor": "#2a3f5f",
             "gridcolor": "white",
             "linecolor": "white",
             "minorgridcolor": "white",
             "startlinecolor": "#2a3f5f"
            },
            "type": "carpet"
           }
          ],
          "choropleth": [
           {
            "colorbar": {
             "outlinewidth": 0,
             "ticks": ""
            },
            "type": "choropleth"
           }
          ],
          "contour": [
           {
            "colorbar": {
             "outlinewidth": 0,
             "ticks": ""
            },
            "colorscale": [
             [
              0,
              "#0d0887"
             ],
             [
              0.1111111111111111,
              "#46039f"
             ],
             [
              0.2222222222222222,
              "#7201a8"
             ],
             [
              0.3333333333333333,
              "#9c179e"
             ],
             [
              0.4444444444444444,
              "#bd3786"
             ],
             [
              0.5555555555555556,
              "#d8576b"
             ],
             [
              0.6666666666666666,
              "#ed7953"
             ],
             [
              0.7777777777777778,
              "#fb9f3a"
             ],
             [
              0.8888888888888888,
              "#fdca26"
             ],
             [
              1,
              "#f0f921"
             ]
            ],
            "type": "contour"
           }
          ],
          "contourcarpet": [
           {
            "colorbar": {
             "outlinewidth": 0,
             "ticks": ""
            },
            "type": "contourcarpet"
           }
          ],
          "heatmap": [
           {
            "colorbar": {
             "outlinewidth": 0,
             "ticks": ""
            },
            "colorscale": [
             [
              0,
              "#0d0887"
             ],
             [
              0.1111111111111111,
              "#46039f"
             ],
             [
              0.2222222222222222,
              "#7201a8"
             ],
             [
              0.3333333333333333,
              "#9c179e"
             ],
             [
              0.4444444444444444,
              "#bd3786"
             ],
             [
              0.5555555555555556,
              "#d8576b"
             ],
             [
              0.6666666666666666,
              "#ed7953"
             ],
             [
              0.7777777777777778,
              "#fb9f3a"
             ],
             [
              0.8888888888888888,
              "#fdca26"
             ],
             [
              1,
              "#f0f921"
             ]
            ],
            "type": "heatmap"
           }
          ],
          "heatmapgl": [
           {
            "colorbar": {
             "outlinewidth": 0,
             "ticks": ""
            },
            "colorscale": [
             [
              0,
              "#0d0887"
             ],
             [
              0.1111111111111111,
              "#46039f"
             ],
             [
              0.2222222222222222,
              "#7201a8"
             ],
             [
              0.3333333333333333,
              "#9c179e"
             ],
             [
              0.4444444444444444,
              "#bd3786"
             ],
             [
              0.5555555555555556,
              "#d8576b"
             ],
             [
              0.6666666666666666,
              "#ed7953"
             ],
             [
              0.7777777777777778,
              "#fb9f3a"
             ],
             [
              0.8888888888888888,
              "#fdca26"
             ],
             [
              1,
              "#f0f921"
             ]
            ],
            "type": "heatmapgl"
           }
          ],
          "histogram": [
           {
            "marker": {
             "pattern": {
              "fillmode": "overlay",
              "size": 10,
              "solidity": 0.2
             }
            },
            "type": "histogram"
           }
          ],
          "histogram2d": [
           {
            "colorbar": {
             "outlinewidth": 0,
             "ticks": ""
            },
            "colorscale": [
             [
              0,
              "#0d0887"
             ],
             [
              0.1111111111111111,
              "#46039f"
             ],
             [
              0.2222222222222222,
              "#7201a8"
             ],
             [
              0.3333333333333333,
              "#9c179e"
             ],
             [
              0.4444444444444444,
              "#bd3786"
             ],
             [
              0.5555555555555556,
              "#d8576b"
             ],
             [
              0.6666666666666666,
              "#ed7953"
             ],
             [
              0.7777777777777778,
              "#fb9f3a"
             ],
             [
              0.8888888888888888,
              "#fdca26"
             ],
             [
              1,
              "#f0f921"
             ]
            ],
            "type": "histogram2d"
           }
          ],
          "histogram2dcontour": [
           {
            "colorbar": {
             "outlinewidth": 0,
             "ticks": ""
            },
            "colorscale": [
             [
              0,
              "#0d0887"
             ],
             [
              0.1111111111111111,
              "#46039f"
             ],
             [
              0.2222222222222222,
              "#7201a8"
             ],
             [
              0.3333333333333333,
              "#9c179e"
             ],
             [
              0.4444444444444444,
              "#bd3786"
             ],
             [
              0.5555555555555556,
              "#d8576b"
             ],
             [
              0.6666666666666666,
              "#ed7953"
             ],
             [
              0.7777777777777778,
              "#fb9f3a"
             ],
             [
              0.8888888888888888,
              "#fdca26"
             ],
             [
              1,
              "#f0f921"
             ]
            ],
            "type": "histogram2dcontour"
           }
          ],
          "mesh3d": [
           {
            "colorbar": {
             "outlinewidth": 0,
             "ticks": ""
            },
            "type": "mesh3d"
           }
          ],
          "parcoords": [
           {
            "line": {
             "colorbar": {
              "outlinewidth": 0,
              "ticks": ""
             }
            },
            "type": "parcoords"
           }
          ],
          "pie": [
           {
            "automargin": true,
            "type": "pie"
           }
          ],
          "scatter": [
           {
            "fillpattern": {
             "fillmode": "overlay",
             "size": 10,
             "solidity": 0.2
            },
            "type": "scatter"
           }
          ],
          "scatter3d": [
           {
            "line": {
             "colorbar": {
              "outlinewidth": 0,
              "ticks": ""
             }
            },
            "marker": {
             "colorbar": {
              "outlinewidth": 0,
              "ticks": ""
             }
            },
            "type": "scatter3d"
           }
          ],
          "scattercarpet": [
           {
            "marker": {
             "colorbar": {
              "outlinewidth": 0,
              "ticks": ""
             }
            },
            "type": "scattercarpet"
           }
          ],
          "scattergeo": [
           {
            "marker": {
             "colorbar": {
              "outlinewidth": 0,
              "ticks": ""
             }
            },
            "type": "scattergeo"
           }
          ],
          "scattergl": [
           {
            "marker": {
             "colorbar": {
              "outlinewidth": 0,
              "ticks": ""
             }
            },
            "type": "scattergl"
           }
          ],
          "scattermapbox": [
           {
            "marker": {
             "colorbar": {
              "outlinewidth": 0,
              "ticks": ""
             }
            },
            "type": "scattermapbox"
           }
          ],
          "scatterpolar": [
           {
            "marker": {
             "colorbar": {
              "outlinewidth": 0,
              "ticks": ""
             }
            },
            "type": "scatterpolar"
           }
          ],
          "scatterpolargl": [
           {
            "marker": {
             "colorbar": {
              "outlinewidth": 0,
              "ticks": ""
             }
            },
            "type": "scatterpolargl"
           }
          ],
          "scatterternary": [
           {
            "marker": {
             "colorbar": {
              "outlinewidth": 0,
              "ticks": ""
             }
            },
            "type": "scatterternary"
           }
          ],
          "surface": [
           {
            "colorbar": {
             "outlinewidth": 0,
             "ticks": ""
            },
            "colorscale": [
             [
              0,
              "#0d0887"
             ],
             [
              0.1111111111111111,
              "#46039f"
             ],
             [
              0.2222222222222222,
              "#7201a8"
             ],
             [
              0.3333333333333333,
              "#9c179e"
             ],
             [
              0.4444444444444444,
              "#bd3786"
             ],
             [
              0.5555555555555556,
              "#d8576b"
             ],
             [
              0.6666666666666666,
              "#ed7953"
             ],
             [
              0.7777777777777778,
              "#fb9f3a"
             ],
             [
              0.8888888888888888,
              "#fdca26"
             ],
             [
              1,
              "#f0f921"
             ]
            ],
            "type": "surface"
           }
          ],
          "table": [
           {
            "cells": {
             "fill": {
              "color": "#EBF0F8"
             },
             "line": {
              "color": "white"
             }
            },
            "header": {
             "fill": {
              "color": "#C8D4E3"
             },
             "line": {
              "color": "white"
             }
            },
            "type": "table"
           }
          ]
         },
         "layout": {
          "annotationdefaults": {
           "arrowcolor": "#2a3f5f",
           "arrowhead": 0,
           "arrowwidth": 1
          },
          "autotypenumbers": "strict",
          "coloraxis": {
           "colorbar": {
            "outlinewidth": 0,
            "ticks": ""
           }
          },
          "colorscale": {
           "diverging": [
            [
             0,
             "#8e0152"
            ],
            [
             0.1,
             "#c51b7d"
            ],
            [
             0.2,
             "#de77ae"
            ],
            [
             0.3,
             "#f1b6da"
            ],
            [
             0.4,
             "#fde0ef"
            ],
            [
             0.5,
             "#f7f7f7"
            ],
            [
             0.6,
             "#e6f5d0"
            ],
            [
             0.7,
             "#b8e186"
            ],
            [
             0.8,
             "#7fbc41"
            ],
            [
             0.9,
             "#4d9221"
            ],
            [
             1,
             "#276419"
            ]
           ],
           "sequential": [
            [
             0,
             "#0d0887"
            ],
            [
             0.1111111111111111,
             "#46039f"
            ],
            [
             0.2222222222222222,
             "#7201a8"
            ],
            [
             0.3333333333333333,
             "#9c179e"
            ],
            [
             0.4444444444444444,
             "#bd3786"
            ],
            [
             0.5555555555555556,
             "#d8576b"
            ],
            [
             0.6666666666666666,
             "#ed7953"
            ],
            [
             0.7777777777777778,
             "#fb9f3a"
            ],
            [
             0.8888888888888888,
             "#fdca26"
            ],
            [
             1,
             "#f0f921"
            ]
           ],
           "sequentialminus": [
            [
             0,
             "#0d0887"
            ],
            [
             0.1111111111111111,
             "#46039f"
            ],
            [
             0.2222222222222222,
             "#7201a8"
            ],
            [
             0.3333333333333333,
             "#9c179e"
            ],
            [
             0.4444444444444444,
             "#bd3786"
            ],
            [
             0.5555555555555556,
             "#d8576b"
            ],
            [
             0.6666666666666666,
             "#ed7953"
            ],
            [
             0.7777777777777778,
             "#fb9f3a"
            ],
            [
             0.8888888888888888,
             "#fdca26"
            ],
            [
             1,
             "#f0f921"
            ]
           ]
          },
          "colorway": [
           "#636efa",
           "#EF553B",
           "#00cc96",
           "#ab63fa",
           "#FFA15A",
           "#19d3f3",
           "#FF6692",
           "#B6E880",
           "#FF97FF",
           "#FECB52"
          ],
          "font": {
           "color": "#2a3f5f"
          },
          "geo": {
           "bgcolor": "white",
           "lakecolor": "white",
           "landcolor": "#E5ECF6",
           "showlakes": true,
           "showland": true,
           "subunitcolor": "white"
          },
          "hoverlabel": {
           "align": "left"
          },
          "hovermode": "closest",
          "mapbox": {
           "style": "light"
          },
          "paper_bgcolor": "white",
          "plot_bgcolor": "#E5ECF6",
          "polar": {
           "angularaxis": {
            "gridcolor": "white",
            "linecolor": "white",
            "ticks": ""
           },
           "bgcolor": "#E5ECF6",
           "radialaxis": {
            "gridcolor": "white",
            "linecolor": "white",
            "ticks": ""
           }
          },
          "scene": {
           "xaxis": {
            "backgroundcolor": "#E5ECF6",
            "gridcolor": "white",
            "gridwidth": 2,
            "linecolor": "white",
            "showbackground": true,
            "ticks": "",
            "zerolinecolor": "white"
           },
           "yaxis": {
            "backgroundcolor": "#E5ECF6",
            "gridcolor": "white",
            "gridwidth": 2,
            "linecolor": "white",
            "showbackground": true,
            "ticks": "",
            "zerolinecolor": "white"
           },
           "zaxis": {
            "backgroundcolor": "#E5ECF6",
            "gridcolor": "white",
            "gridwidth": 2,
            "linecolor": "white",
            "showbackground": true,
            "ticks": "",
            "zerolinecolor": "white"
           }
          },
          "shapedefaults": {
           "line": {
            "color": "#2a3f5f"
           }
          },
          "ternary": {
           "aaxis": {
            "gridcolor": "white",
            "linecolor": "white",
            "ticks": ""
           },
           "baxis": {
            "gridcolor": "white",
            "linecolor": "white",
            "ticks": ""
           },
           "bgcolor": "#E5ECF6",
           "caxis": {
            "gridcolor": "white",
            "linecolor": "white",
            "ticks": ""
           }
          },
          "title": {
           "x": 0.05
          },
          "xaxis": {
           "automargin": true,
           "gridcolor": "white",
           "linecolor": "white",
           "ticks": "",
           "title": {
            "standoff": 15
           },
           "zerolinecolor": "white",
           "zerolinewidth": 2
          },
          "yaxis": {
           "automargin": true,
           "gridcolor": "white",
           "linecolor": "white",
           "ticks": "",
           "title": {
            "standoff": 15
           },
           "zerolinecolor": "white",
           "zerolinewidth": 2
          }
         }
        },
        "title": {
         "text": "Interactive Scatter Plot"
        },
        "xaxis": {
         "anchor": "y",
         "domain": [
          0,
          1
         ],
         "tickangle": 45,
         "title": {
          "text": "Image Name"
         }
        },
        "yaxis": {
         "anchor": "x",
         "domain": [
          0,
          1
         ],
         "title": {
          "text": "Michelson contrast"
         }
        }
       }
      }
     },
     "metadata": {},
     "output_type": "display_data"
    }
   ],
   "source": [
    "# michelson contrast\n",
    "data.clear()\n",
    "print(\"Michelson contrast:\")\n",
    "for name, img in images:\n",
    "    \n",
    "    min = np.min(img)\n",
    "    print(min)\n",
    "    \n",
    "    max = np.max(img)\n",
    "    print(max)\n",
    "    michelson_ctr = (max-min) / (max + min)\n",
    "    \n",
    "    #print(f\"Image {name}: {str(michelson_ctr)}\")\n",
    "    data.append([name, michelson_ctr])\n",
    "    \n",
    "    \n",
    "data = sorted(data, key=lambda x: x[0])\n",
    "for datum in data:\n",
    "    print(datum)\n",
    "plot_scatter(data, \"Michelson contrast\")   "
   ]
  },
  {
   "cell_type": "code",
   "execution_count": 3,
   "metadata": {},
   "outputs": [
    {
     "name": "stdout",
     "output_type": "stream",
     "text": [
      "Laplcian var:\n",
      "['BLT1.png', 444.3595275878906]\n",
      "['BLT2.png', 422.9714050292969]\n",
      "['BTM1.png', 103.45222355774604]\n",
      "['BTM2.png', 134.6051554826554]\n",
      "['BTM3.png', 148.40203740797006]\n",
      "['BTM4.png', 156.05285400152206]\n",
      "['CAN1.png', 54093.856408487765]\n",
      "['CAN2.png', 23967.632339685224]\n",
      "['CAN3.png', 11176.160005386919]\n",
      "['CLO1.png', 61.91214083135128]\n",
      "['CLO2.png', 84.56541661825031]\n",
      "['CLO3.png', 50.84197944402695]\n",
      "['CLO4.png', 81.64466344728135]\n",
      "['CLO5.png', 106.90686988621019]\n",
      "['DST_.png', 2.4166949742939323]\n",
      "['EMB1.png', 926.8334244554862]\n",
      "['EMB2.png', 806.3003159349319]\n",
      "['EMB3.png', 855.0237310519442]\n",
      "['ERO1.png', 86.27354144840501]\n",
      "['ERO2.png', 125.22894154652022]\n",
      "['ERO3.png', 76.85071383416653]\n",
      "['ERO4.png', 66.14609813108109]\n",
      "['ERO5.png', 112.87895734771155]\n",
      "['ERO6.png', 51.7697427412495]\n",
      "['ETC1.png', 151.16486226022243]\n",
      "['ETC2.png', 73.79058810230345]\n",
      "['FOU1.png', 131.77517190924846]\n",
      "['FOU2.png', 1410.402044079965]\n",
      "['FOU3.png', 1560.0379234568682]\n",
      "['FOU4.png', 181.42183262645267]\n",
      "['GAU1.png', 14.135250922292471]\n",
      "['GAU2.png', 7.217734828358516]\n",
      "['GRY_.png', 196.24822640768252]\n",
      "['HGF_.png', 579.9353764706757]\n",
      "['HOM_.png', 8964.542404107517]\n",
      "['KNN1.png', 452.5426940917969]\n",
      "['KNN2.png', 431.8021240234375]\n",
      "['LBP1.png', 28819.007626117906]\n",
      "['LBP2.png', 47007.41048196494]\n",
      "['LBP3.png', 32632.018870858243]\n",
      "['LPL1.png', 49777.58706162847]\n",
      "['LPL2.png', 32303.763600490056]\n",
      "['MAX1.png', 85.55079428642057]\n",
      "['MAX2.png', 60.949015674879774]\n",
      "['MAX3.png', 49.68705338216387]\n",
      "['MAX4.png', 43.87835890217684]\n",
      "['MEA1.png', 10.415052219992504]\n",
      "['MEA2.png', 4.525368397822604]\n",
      "['MED1.png', 44.55486035696231]\n",
      "['MED2.png', 28.050726186251268]\n",
      "['MIN1.png', 84.73373842891306]\n",
      "['MIN2.png', 66.14609813108109]\n",
      "['MIN3.png', 54.73820001538843]\n",
      "['MIN4.png', 47.656370755052194]\n",
      "['MRG1.png', 179.89790849923156]\n",
      "['MRG2.png', 128.35646198689938]\n",
      "['MRG3.png', 104.28255509003066]\n",
      "['MRG4.png', 91.4362665079534]\n",
      "['MRL1.png', 351.42544814920984]\n",
      "['MRL2.png', 286.7693810155615]\n",
      "['MRL3.png', 242.2978289090097]\n",
      "['MRL4.png', 210.9903441136703]\n",
      "['NGP_.png', 101.4905007740017]\n",
      "['NGP_BLT1.png', 444.3595275878906]\n",
      "['NGP_BLT2.png', 422.9714050292969]\n",
      "['NGP_BTM1.png', 24725.394379720092]\n",
      "['NGP_BTM2.png', 11658.734514995478]\n",
      "['NGP_BTM3.png', 7556.0353073326405]\n",
      "['NGP_BTM4.png', 5655.876161581837]\n",
      "['NGP_CAN1.png', 17976.380517201265]\n",
      "['NGP_CAN2.png', 7224.384373053908]\n",
      "['NGP_CAN3.png', 3178.9966237545013]\n",
      "['NGP_CLO1.png', 32.5976243680343]\n",
      "['NGP_CLO2.png', 44.23113410337828]\n",
      "['NGP_CLO3.png', 27.073662675684318]\n",
      "['NGP_CLO4.png', 43.28965445025824]\n",
      "['NGP_CLO5.png', 56.165735986083746]\n",
      "['NGP_DST_.png', 3.6538602402433753]\n",
      "['NGP_EMB1.png', 926.8334244554862]\n",
      "['NGP_EMB2.png', 806.3003159349319]\n",
      "['NGP_EMB3.png', 855.0237310519442]\n",
      "['NGP_ERO1.png', 42.78154213633388]\n",
      "['NGP_ERO2.png', 63.478869213722646]\n",
      "['NGP_ERO3.png', 37.90268548950553]\n",
      "['NGP_ERO4.png', 32.67420361167751]\n",
      "['NGP_ERO5.png', 56.48775815125555]\n",
      "['NGP_ERO6.png', 25.44612249149941]\n",
      "['NGP_ETC1.png', 151.16486226022243]\n",
      "['NGP_ETC2.png', 73.79058810230345]\n",
      "['NGP_FOU1.png', 87.7652413228061]\n",
      "['NGP_FOU2.png', 10057.628688551253]\n",
      "['NGP_FOU3.png', 9094.050061361631]\n",
      "['NGP_FOU4.png', 99.51693094684742]\n",
      "['NGP_GAU1.png', 14.135250922292471]\n",
      "['NGP_GAU2.png', 7.217734828358516]\n",
      "['NGP_GRY_.png', 101.4905007740017]\n",
      "['NGP_HGF_.png', 579.9353764706757]\n",
      "['NGP_HOM_.png', 164692.85488408804]\n",
      "['NGP_KNN1.png', 452.5426940917969]\n",
      "['NGP_KNN2.png', 431.8021240234375]\n",
      "['NGP_LBP1.png', 28819.007626117906]\n",
      "['NGP_LBP2.png', 47007.41048196494]\n",
      "['NGP_LBP3.png', 32632.018870858243]\n",
      "['NGP_LPL1.png', 67971.90236015525]\n",
      "['NGP_LPL2.png', 46797.265510885976]\n",
      "['NGP_MAX1.png', 45.33499759435654]\n",
      "['NGP_MAX2.png', 33.26047843694687]\n",
      "['NGP_MAX3.png', 27.520105208968744]\n",
      "['NGP_MAX4.png', 24.807863047113642]\n",
      "['NGP_MEA1.png', 10.415052219992504]\n",
      "['NGP_MEA2.png', 4.525368397822604]\n",
      "['NGP_MED1.png', 44.55486035696231]\n",
      "['NGP_MED2.png', 28.050726186251268]\n",
      "['NGP_MIN1.png', 42.47723102197051]\n",
      "['NGP_MIN2.png', 32.67420361167751]\n",
      "['NGP_MIN3.png', 26.906820512376726]\n",
      "['NGP_MIN4.png', 23.294815627625212]\n",
      "['NGP_MRG1.png', 2769.5710040293634]\n",
      "['NGP_MRG2.png', 901.6701325019822]\n",
      "['NGP_MRG3.png', 462.7050892559346]\n",
      "['NGP_MRG4.png', 295.29744133516215]\n",
      "['NGP_MRL1.png', 167.34212932526134]\n",
      "['NGP_MRL2.png', 130.11756174173206]\n",
      "['NGP_MRL3.png', 108.19834880507551]\n",
      "['NGP_MRL4.png', 93.07400411367416]\n",
      "['NGP_NGP_.png', 101.4905007740017]\n",
      "['NGP_NML1.png', 129.5919614424929]\n",
      "['NGP_NML2.png', 101.4905007740017]\n",
      "['NGP_NML3.png', 103.23917038645595]\n",
      "['NGP_OOO_.png', 0.0]\n",
      "['NGP_OPN1.png', 33.11918912734836]\n",
      "['NGP_OPN2.png', 43.20649078115821]\n",
      "['NGP_OPN3.png', 27.01235206774436]\n",
      "['NGP_OPN4.png', 42.91035174555145]\n",
      "['NGP_OPN5.png', 55.8080415641889]\n",
      "['NGP_POS1.png', 374.3875386631116]\n",
      "['NGP_POS2.png', 190.25095582543872]\n",
      "['NGP_POS3.png', 141.79898127075285]\n",
      "['NGP_PRE1.png', 4346.786729346728]\n",
      "['NGP_PRE2.png', 4808.962428688072]\n",
      "['NGP_PRE3.png', 5028.46698014345]\n",
      "['NGP_PRE4.png', 4309.770830772584]\n",
      "['NGP_RIC_.png', 22.72292525670491]\n",
      "['NGP_ROB1.png', 9899.843308389187]\n",
      "['NGP_ROB2.png', 694.0480053869542]\n",
      "['NGP_ROB3.png', 7724.988902682206]\n",
      "['NGP_ROB4.png', 8997.465537033742]\n",
      "['NGP_SBL1.png', 3675.5077576255426]\n",
      "['NGP_SBL2.png', 2902.548985739937]\n",
      "['NGP_SBL3.png', 4423.615959096467]\n",
      "['NGP_SBL4.png', 4060.5000799559057]\n",
      "['NGP_SBLD.png', 22269.743039122783]\n",
      "['NGP_SBLM.png', 6184.218489646912]\n",
      "['NGP_SBLX.png', 7289.043411277002]\n",
      "['NGP_SBLY.png', 5726.21542918589]\n",
      "['NGP_SCH1.png', 10184.880836151307]\n",
      "['NGP_SCH2.png', 16611.015027761227]\n",
      "['NGP_SCH3.png', 5274.899925149046]\n",
      "['NGP_SCH4.png', 17637.99906863435]\n",
      "['NGP_SOL_.png', 2261.3512961706147]\n",
      "['NGP_STC1.png', 376.4130988381803]\n",
      "['NGP_STC2.png', 377.4745165621862]\n",
      "['NGP_TOP1.png', 14903.162998981541]\n",
      "['NGP_TOP2.png', 25614.424028629204]\n",
      "['NGP_TOP3.png', 8482.259173992788]\n",
      "['NGP_TOP4.png', 7451.799516677624]\n",
      "['NGP_UNS1.png', 202.8033759444952]\n",
      "['NGP_UNS2.png', 206.47418407257646]\n",
      "['NGP_UNS3.png', 217.41954168584198]\n",
      "['NGP_UNS4.png', 159.7807152122259]\n",
      "['NGP_UNS5.png', 349.137558426708]\n",
      "['NML1.png', 347.1053484638687]\n",
      "['NML2.png', 101.4905007740017]\n",
      "['NML3.png', 45.48426841199398]\n",
      "['OOO_.png', 0.0]\n",
      "['OPN1.png', 65.27402225043625]\n",
      "['OPN2.png', 84.37430282845162]\n",
      "['OPN3.png', 53.396637458121404]\n",
      "['OPN4.png', 83.84096723422408]\n",
      "['OPN5.png', 108.7104042058345]\n",
      "['POS1.png', 374.3875386631116]\n",
      "['POS2.png', 190.25095582543872]\n",
      "['POS3.png', 141.79898127075285]\n",
      "['PRE1.png', 1554.2631315567996]\n",
      "['PRE2.png', 2926.679510963848]\n",
      "['PRE3.png', 5292.436397263547]\n",
      "['PRE4.png', 396.73209154768847]\n",
      "['RIC_.png', 42.31991672422737]\n",
      "['ROB1.png', 298.9236783327069]\n",
      "['ROB2.png', 1377.5886168254074]\n",
      "['ROB3.png', 335.73040363169275]\n",
      "['ROB4.png', 416.4774820720777]\n",
      "['SBL1.png', 2255.8221589305904]\n",
      "['SBL2.png', 1933.1571046148892]\n",
      "['SBL3.png', 2707.8870100341737]\n",
      "['SBL4.png', 2687.062713048421]\n",
      "['SBLD.png', 22269.743039122783]\n",
      "['SBLM.png', 4221.171895151725]\n",
      "['SBLX.png', 4359.191850283882]\n",
      "['SBLY.png', 3514.3359512442257]\n",
      "['SCH1.png', 19754.26219069003]\n",
      "['SCH2.png', 25138.689461520873]\n",
      "['SCH3.png', 584.4356439912226]\n",
      "['SCH4.png', 30292.53968208935]\n",
      "['SOL_.png', 2261.3512961706147]\n",
      "['STC1.png', 376.4130988381803]\n",
      "['STC2.png', 377.4745165621862]\n",
      "['TOP1.png', 9178.914702437585]\n",
      "['TOP2.png', 17252.616767584346]\n",
      "['TOP3.png', 5178.891694707563]\n",
      "['TOP4.png', 4466.066204700386]\n",
      "['UNS1.png', 398.41399773582816]\n",
      "['UNS2.png', 407.1504602448549]\n",
      "['UNS3.png', 429.09271788946353]\n",
      "['UNS4.png', 312.5067685113754]\n",
      "['UNS5.png', 690.985330096446]\n"
     ]
    },
    {
     "data": {
      "application/vnd.plotly.v1+json": {
       "config": {
        "plotlyServerURL": "https://plot.ly"
       },
       "data": [
        {
         "hovertemplate": "Image Name=%{x}<br>Laplacian variable=%{y}<extra></extra>",
         "legendgroup": "",
         "marker": {
          "color": "#636efa",
          "symbol": "circle"
         },
         "mode": "markers",
         "name": "",
         "orientation": "v",
         "showlegend": false,
         "type": "scatter",
         "x": [
          "BLT1.png",
          "BLT2.png",
          "BTM1.png",
          "BTM2.png",
          "BTM3.png",
          "BTM4.png",
          "CAN1.png",
          "CAN2.png",
          "CAN3.png",
          "CLO1.png",
          "CLO2.png",
          "CLO3.png",
          "CLO4.png",
          "CLO5.png",
          "DST_.png",
          "EMB1.png",
          "EMB2.png",
          "EMB3.png",
          "ERO1.png",
          "ERO2.png",
          "ERO3.png",
          "ERO4.png",
          "ERO5.png",
          "ERO6.png",
          "ETC1.png",
          "ETC2.png",
          "FOU1.png",
          "FOU2.png",
          "FOU3.png",
          "FOU4.png",
          "GAU1.png",
          "GAU2.png",
          "GRY_.png",
          "HGF_.png",
          "HOM_.png",
          "KNN1.png",
          "KNN2.png",
          "LBP1.png",
          "LBP2.png",
          "LBP3.png",
          "LPL1.png",
          "LPL2.png",
          "MAX1.png",
          "MAX2.png",
          "MAX3.png",
          "MAX4.png",
          "MEA1.png",
          "MEA2.png",
          "MED1.png",
          "MED2.png",
          "MIN1.png",
          "MIN2.png",
          "MIN3.png",
          "MIN4.png",
          "MRG1.png",
          "MRG2.png",
          "MRG3.png",
          "MRG4.png",
          "MRL1.png",
          "MRL2.png",
          "MRL3.png",
          "MRL4.png",
          "NGP_.png",
          "NGP_BLT1.png",
          "NGP_BLT2.png",
          "NGP_BTM1.png",
          "NGP_BTM2.png",
          "NGP_BTM3.png",
          "NGP_BTM4.png",
          "NGP_CAN1.png",
          "NGP_CAN2.png",
          "NGP_CAN3.png",
          "NGP_CLO1.png",
          "NGP_CLO2.png",
          "NGP_CLO3.png",
          "NGP_CLO4.png",
          "NGP_CLO5.png",
          "NGP_DST_.png",
          "NGP_EMB1.png",
          "NGP_EMB2.png",
          "NGP_EMB3.png",
          "NGP_ERO1.png",
          "NGP_ERO2.png",
          "NGP_ERO3.png",
          "NGP_ERO4.png",
          "NGP_ERO5.png",
          "NGP_ERO6.png",
          "NGP_ETC1.png",
          "NGP_ETC2.png",
          "NGP_FOU1.png",
          "NGP_FOU2.png",
          "NGP_FOU3.png",
          "NGP_FOU4.png",
          "NGP_GAU1.png",
          "NGP_GAU2.png",
          "NGP_GRY_.png",
          "NGP_HGF_.png",
          "NGP_HOM_.png",
          "NGP_KNN1.png",
          "NGP_KNN2.png",
          "NGP_LBP1.png",
          "NGP_LBP2.png",
          "NGP_LBP3.png",
          "NGP_LPL1.png",
          "NGP_LPL2.png",
          "NGP_MAX1.png",
          "NGP_MAX2.png",
          "NGP_MAX3.png",
          "NGP_MAX4.png",
          "NGP_MEA1.png",
          "NGP_MEA2.png",
          "NGP_MED1.png",
          "NGP_MED2.png",
          "NGP_MIN1.png",
          "NGP_MIN2.png",
          "NGP_MIN3.png",
          "NGP_MIN4.png",
          "NGP_MRG1.png",
          "NGP_MRG2.png",
          "NGP_MRG3.png",
          "NGP_MRG4.png",
          "NGP_MRL1.png",
          "NGP_MRL2.png",
          "NGP_MRL3.png",
          "NGP_MRL4.png",
          "NGP_NGP_.png",
          "NGP_NML1.png",
          "NGP_NML2.png",
          "NGP_NML3.png",
          "NGP_OOO_.png",
          "NGP_OPN1.png",
          "NGP_OPN2.png",
          "NGP_OPN3.png",
          "NGP_OPN4.png",
          "NGP_OPN5.png",
          "NGP_POS1.png",
          "NGP_POS2.png",
          "NGP_POS3.png",
          "NGP_PRE1.png",
          "NGP_PRE2.png",
          "NGP_PRE3.png",
          "NGP_PRE4.png",
          "NGP_RIC_.png",
          "NGP_ROB1.png",
          "NGP_ROB2.png",
          "NGP_ROB3.png",
          "NGP_ROB4.png",
          "NGP_SBL1.png",
          "NGP_SBL2.png",
          "NGP_SBL3.png",
          "NGP_SBL4.png",
          "NGP_SBLD.png",
          "NGP_SBLM.png",
          "NGP_SBLX.png",
          "NGP_SBLY.png",
          "NGP_SCH1.png",
          "NGP_SCH2.png",
          "NGP_SCH3.png",
          "NGP_SCH4.png",
          "NGP_SOL_.png",
          "NGP_STC1.png",
          "NGP_STC2.png",
          "NGP_TOP1.png",
          "NGP_TOP2.png",
          "NGP_TOP3.png",
          "NGP_TOP4.png",
          "NGP_UNS1.png",
          "NGP_UNS2.png",
          "NGP_UNS3.png",
          "NGP_UNS4.png",
          "NGP_UNS5.png",
          "NML1.png",
          "NML2.png",
          "NML3.png",
          "OOO_.png",
          "OPN1.png",
          "OPN2.png",
          "OPN3.png",
          "OPN4.png",
          "OPN5.png",
          "POS1.png",
          "POS2.png",
          "POS3.png",
          "PRE1.png",
          "PRE2.png",
          "PRE3.png",
          "PRE4.png",
          "RIC_.png",
          "ROB1.png",
          "ROB2.png",
          "ROB3.png",
          "ROB4.png",
          "SBL1.png",
          "SBL2.png",
          "SBL3.png",
          "SBL4.png",
          "SBLD.png",
          "SBLM.png",
          "SBLX.png",
          "SBLY.png",
          "SCH1.png",
          "SCH2.png",
          "SCH3.png",
          "SCH4.png",
          "SOL_.png",
          "STC1.png",
          "STC2.png",
          "TOP1.png",
          "TOP2.png",
          "TOP3.png",
          "TOP4.png",
          "UNS1.png",
          "UNS2.png",
          "UNS3.png",
          "UNS4.png",
          "UNS5.png"
         ],
         "xaxis": "x",
         "y": [
          444.3595275878906,
          422.9714050292969,
          103.45222355774604,
          134.6051554826554,
          148.40203740797006,
          156.05285400152206,
          54093.856408487765,
          23967.632339685224,
          11176.160005386919,
          61.91214083135128,
          84.56541661825031,
          50.84197944402695,
          81.64466344728135,
          106.90686988621019,
          2.4166949742939323,
          926.8334244554862,
          806.3003159349319,
          855.0237310519442,
          86.27354144840501,
          125.22894154652022,
          76.85071383416653,
          66.14609813108109,
          112.87895734771155,
          51.7697427412495,
          151.16486226022243,
          73.79058810230345,
          131.77517190924846,
          1410.402044079965,
          1560.0379234568682,
          181.42183262645267,
          14.135250922292471,
          7.217734828358516,
          196.24822640768252,
          579.9353764706757,
          8964.542404107517,
          452.5426940917969,
          431.8021240234375,
          28819.007626117906,
          47007.41048196494,
          32632.018870858243,
          49777.58706162847,
          32303.763600490056,
          85.55079428642057,
          60.949015674879774,
          49.68705338216387,
          43.87835890217684,
          10.415052219992504,
          4.525368397822604,
          44.55486035696231,
          28.050726186251268,
          84.73373842891306,
          66.14609813108109,
          54.73820001538843,
          47.656370755052194,
          179.89790849923156,
          128.35646198689938,
          104.28255509003066,
          91.4362665079534,
          351.42544814920984,
          286.7693810155615,
          242.2978289090097,
          210.9903441136703,
          101.4905007740017,
          444.3595275878906,
          422.9714050292969,
          24725.394379720092,
          11658.734514995478,
          7556.0353073326405,
          5655.876161581837,
          17976.380517201265,
          7224.384373053908,
          3178.9966237545013,
          32.5976243680343,
          44.23113410337828,
          27.073662675684318,
          43.28965445025824,
          56.165735986083746,
          3.6538602402433753,
          926.8334244554862,
          806.3003159349319,
          855.0237310519442,
          42.78154213633388,
          63.478869213722646,
          37.90268548950553,
          32.67420361167751,
          56.48775815125555,
          25.44612249149941,
          151.16486226022243,
          73.79058810230345,
          87.7652413228061,
          10057.628688551253,
          9094.050061361631,
          99.51693094684742,
          14.135250922292471,
          7.217734828358516,
          101.4905007740017,
          579.9353764706757,
          164692.85488408804,
          452.5426940917969,
          431.8021240234375,
          28819.007626117906,
          47007.41048196494,
          32632.018870858243,
          67971.90236015525,
          46797.265510885976,
          45.33499759435654,
          33.26047843694687,
          27.520105208968744,
          24.807863047113642,
          10.415052219992504,
          4.525368397822604,
          44.55486035696231,
          28.050726186251268,
          42.47723102197051,
          32.67420361167751,
          26.906820512376726,
          23.294815627625212,
          2769.5710040293634,
          901.6701325019822,
          462.7050892559346,
          295.29744133516215,
          167.34212932526134,
          130.11756174173206,
          108.19834880507551,
          93.07400411367416,
          101.4905007740017,
          129.5919614424929,
          101.4905007740017,
          103.23917038645595,
          0,
          33.11918912734836,
          43.20649078115821,
          27.01235206774436,
          42.91035174555145,
          55.8080415641889,
          374.3875386631116,
          190.25095582543872,
          141.79898127075285,
          4346.786729346728,
          4808.962428688072,
          5028.46698014345,
          4309.770830772584,
          22.72292525670491,
          9899.843308389187,
          694.0480053869542,
          7724.988902682206,
          8997.465537033742,
          3675.5077576255426,
          2902.548985739937,
          4423.615959096467,
          4060.5000799559057,
          22269.743039122783,
          6184.218489646912,
          7289.043411277002,
          5726.21542918589,
          10184.880836151307,
          16611.015027761227,
          5274.899925149046,
          17637.99906863435,
          2261.3512961706147,
          376.4130988381803,
          377.4745165621862,
          14903.162998981541,
          25614.424028629204,
          8482.259173992788,
          7451.799516677624,
          202.8033759444952,
          206.47418407257646,
          217.41954168584198,
          159.7807152122259,
          349.137558426708,
          347.1053484638687,
          101.4905007740017,
          45.48426841199398,
          0,
          65.27402225043625,
          84.37430282845162,
          53.396637458121404,
          83.84096723422408,
          108.7104042058345,
          374.3875386631116,
          190.25095582543872,
          141.79898127075285,
          1554.2631315567996,
          2926.679510963848,
          5292.436397263547,
          396.73209154768847,
          42.31991672422737,
          298.9236783327069,
          1377.5886168254074,
          335.73040363169275,
          416.4774820720777,
          2255.8221589305904,
          1933.1571046148892,
          2707.8870100341737,
          2687.062713048421,
          22269.743039122783,
          4221.171895151725,
          4359.191850283882,
          3514.3359512442257,
          19754.26219069003,
          25138.689461520873,
          584.4356439912226,
          30292.53968208935,
          2261.3512961706147,
          376.4130988381803,
          377.4745165621862,
          9178.914702437585,
          17252.616767584346,
          5178.891694707563,
          4466.066204700386,
          398.41399773582816,
          407.1504602448549,
          429.09271788946353,
          312.5067685113754,
          690.985330096446
         ],
         "yaxis": "y"
        }
       ],
       "layout": {
        "legend": {
         "tracegroupgap": 0
        },
        "template": {
         "data": {
          "bar": [
           {
            "error_x": {
             "color": "#2a3f5f"
            },
            "error_y": {
             "color": "#2a3f5f"
            },
            "marker": {
             "line": {
              "color": "#E5ECF6",
              "width": 0.5
             },
             "pattern": {
              "fillmode": "overlay",
              "size": 10,
              "solidity": 0.2
             }
            },
            "type": "bar"
           }
          ],
          "barpolar": [
           {
            "marker": {
             "line": {
              "color": "#E5ECF6",
              "width": 0.5
             },
             "pattern": {
              "fillmode": "overlay",
              "size": 10,
              "solidity": 0.2
             }
            },
            "type": "barpolar"
           }
          ],
          "carpet": [
           {
            "aaxis": {
             "endlinecolor": "#2a3f5f",
             "gridcolor": "white",
             "linecolor": "white",
             "minorgridcolor": "white",
             "startlinecolor": "#2a3f5f"
            },
            "baxis": {
             "endlinecolor": "#2a3f5f",
             "gridcolor": "white",
             "linecolor": "white",
             "minorgridcolor": "white",
             "startlinecolor": "#2a3f5f"
            },
            "type": "carpet"
           }
          ],
          "choropleth": [
           {
            "colorbar": {
             "outlinewidth": 0,
             "ticks": ""
            },
            "type": "choropleth"
           }
          ],
          "contour": [
           {
            "colorbar": {
             "outlinewidth": 0,
             "ticks": ""
            },
            "colorscale": [
             [
              0,
              "#0d0887"
             ],
             [
              0.1111111111111111,
              "#46039f"
             ],
             [
              0.2222222222222222,
              "#7201a8"
             ],
             [
              0.3333333333333333,
              "#9c179e"
             ],
             [
              0.4444444444444444,
              "#bd3786"
             ],
             [
              0.5555555555555556,
              "#d8576b"
             ],
             [
              0.6666666666666666,
              "#ed7953"
             ],
             [
              0.7777777777777778,
              "#fb9f3a"
             ],
             [
              0.8888888888888888,
              "#fdca26"
             ],
             [
              1,
              "#f0f921"
             ]
            ],
            "type": "contour"
           }
          ],
          "contourcarpet": [
           {
            "colorbar": {
             "outlinewidth": 0,
             "ticks": ""
            },
            "type": "contourcarpet"
           }
          ],
          "heatmap": [
           {
            "colorbar": {
             "outlinewidth": 0,
             "ticks": ""
            },
            "colorscale": [
             [
              0,
              "#0d0887"
             ],
             [
              0.1111111111111111,
              "#46039f"
             ],
             [
              0.2222222222222222,
              "#7201a8"
             ],
             [
              0.3333333333333333,
              "#9c179e"
             ],
             [
              0.4444444444444444,
              "#bd3786"
             ],
             [
              0.5555555555555556,
              "#d8576b"
             ],
             [
              0.6666666666666666,
              "#ed7953"
             ],
             [
              0.7777777777777778,
              "#fb9f3a"
             ],
             [
              0.8888888888888888,
              "#fdca26"
             ],
             [
              1,
              "#f0f921"
             ]
            ],
            "type": "heatmap"
           }
          ],
          "heatmapgl": [
           {
            "colorbar": {
             "outlinewidth": 0,
             "ticks": ""
            },
            "colorscale": [
             [
              0,
              "#0d0887"
             ],
             [
              0.1111111111111111,
              "#46039f"
             ],
             [
              0.2222222222222222,
              "#7201a8"
             ],
             [
              0.3333333333333333,
              "#9c179e"
             ],
             [
              0.4444444444444444,
              "#bd3786"
             ],
             [
              0.5555555555555556,
              "#d8576b"
             ],
             [
              0.6666666666666666,
              "#ed7953"
             ],
             [
              0.7777777777777778,
              "#fb9f3a"
             ],
             [
              0.8888888888888888,
              "#fdca26"
             ],
             [
              1,
              "#f0f921"
             ]
            ],
            "type": "heatmapgl"
           }
          ],
          "histogram": [
           {
            "marker": {
             "pattern": {
              "fillmode": "overlay",
              "size": 10,
              "solidity": 0.2
             }
            },
            "type": "histogram"
           }
          ],
          "histogram2d": [
           {
            "colorbar": {
             "outlinewidth": 0,
             "ticks": ""
            },
            "colorscale": [
             [
              0,
              "#0d0887"
             ],
             [
              0.1111111111111111,
              "#46039f"
             ],
             [
              0.2222222222222222,
              "#7201a8"
             ],
             [
              0.3333333333333333,
              "#9c179e"
             ],
             [
              0.4444444444444444,
              "#bd3786"
             ],
             [
              0.5555555555555556,
              "#d8576b"
             ],
             [
              0.6666666666666666,
              "#ed7953"
             ],
             [
              0.7777777777777778,
              "#fb9f3a"
             ],
             [
              0.8888888888888888,
              "#fdca26"
             ],
             [
              1,
              "#f0f921"
             ]
            ],
            "type": "histogram2d"
           }
          ],
          "histogram2dcontour": [
           {
            "colorbar": {
             "outlinewidth": 0,
             "ticks": ""
            },
            "colorscale": [
             [
              0,
              "#0d0887"
             ],
             [
              0.1111111111111111,
              "#46039f"
             ],
             [
              0.2222222222222222,
              "#7201a8"
             ],
             [
              0.3333333333333333,
              "#9c179e"
             ],
             [
              0.4444444444444444,
              "#bd3786"
             ],
             [
              0.5555555555555556,
              "#d8576b"
             ],
             [
              0.6666666666666666,
              "#ed7953"
             ],
             [
              0.7777777777777778,
              "#fb9f3a"
             ],
             [
              0.8888888888888888,
              "#fdca26"
             ],
             [
              1,
              "#f0f921"
             ]
            ],
            "type": "histogram2dcontour"
           }
          ],
          "mesh3d": [
           {
            "colorbar": {
             "outlinewidth": 0,
             "ticks": ""
            },
            "type": "mesh3d"
           }
          ],
          "parcoords": [
           {
            "line": {
             "colorbar": {
              "outlinewidth": 0,
              "ticks": ""
             }
            },
            "type": "parcoords"
           }
          ],
          "pie": [
           {
            "automargin": true,
            "type": "pie"
           }
          ],
          "scatter": [
           {
            "fillpattern": {
             "fillmode": "overlay",
             "size": 10,
             "solidity": 0.2
            },
            "type": "scatter"
           }
          ],
          "scatter3d": [
           {
            "line": {
             "colorbar": {
              "outlinewidth": 0,
              "ticks": ""
             }
            },
            "marker": {
             "colorbar": {
              "outlinewidth": 0,
              "ticks": ""
             }
            },
            "type": "scatter3d"
           }
          ],
          "scattercarpet": [
           {
            "marker": {
             "colorbar": {
              "outlinewidth": 0,
              "ticks": ""
             }
            },
            "type": "scattercarpet"
           }
          ],
          "scattergeo": [
           {
            "marker": {
             "colorbar": {
              "outlinewidth": 0,
              "ticks": ""
             }
            },
            "type": "scattergeo"
           }
          ],
          "scattergl": [
           {
            "marker": {
             "colorbar": {
              "outlinewidth": 0,
              "ticks": ""
             }
            },
            "type": "scattergl"
           }
          ],
          "scattermapbox": [
           {
            "marker": {
             "colorbar": {
              "outlinewidth": 0,
              "ticks": ""
             }
            },
            "type": "scattermapbox"
           }
          ],
          "scatterpolar": [
           {
            "marker": {
             "colorbar": {
              "outlinewidth": 0,
              "ticks": ""
             }
            },
            "type": "scatterpolar"
           }
          ],
          "scatterpolargl": [
           {
            "marker": {
             "colorbar": {
              "outlinewidth": 0,
              "ticks": ""
             }
            },
            "type": "scatterpolargl"
           }
          ],
          "scatterternary": [
           {
            "marker": {
             "colorbar": {
              "outlinewidth": 0,
              "ticks": ""
             }
            },
            "type": "scatterternary"
           }
          ],
          "surface": [
           {
            "colorbar": {
             "outlinewidth": 0,
             "ticks": ""
            },
            "colorscale": [
             [
              0,
              "#0d0887"
             ],
             [
              0.1111111111111111,
              "#46039f"
             ],
             [
              0.2222222222222222,
              "#7201a8"
             ],
             [
              0.3333333333333333,
              "#9c179e"
             ],
             [
              0.4444444444444444,
              "#bd3786"
             ],
             [
              0.5555555555555556,
              "#d8576b"
             ],
             [
              0.6666666666666666,
              "#ed7953"
             ],
             [
              0.7777777777777778,
              "#fb9f3a"
             ],
             [
              0.8888888888888888,
              "#fdca26"
             ],
             [
              1,
              "#f0f921"
             ]
            ],
            "type": "surface"
           }
          ],
          "table": [
           {
            "cells": {
             "fill": {
              "color": "#EBF0F8"
             },
             "line": {
              "color": "white"
             }
            },
            "header": {
             "fill": {
              "color": "#C8D4E3"
             },
             "line": {
              "color": "white"
             }
            },
            "type": "table"
           }
          ]
         },
         "layout": {
          "annotationdefaults": {
           "arrowcolor": "#2a3f5f",
           "arrowhead": 0,
           "arrowwidth": 1
          },
          "autotypenumbers": "strict",
          "coloraxis": {
           "colorbar": {
            "outlinewidth": 0,
            "ticks": ""
           }
          },
          "colorscale": {
           "diverging": [
            [
             0,
             "#8e0152"
            ],
            [
             0.1,
             "#c51b7d"
            ],
            [
             0.2,
             "#de77ae"
            ],
            [
             0.3,
             "#f1b6da"
            ],
            [
             0.4,
             "#fde0ef"
            ],
            [
             0.5,
             "#f7f7f7"
            ],
            [
             0.6,
             "#e6f5d0"
            ],
            [
             0.7,
             "#b8e186"
            ],
            [
             0.8,
             "#7fbc41"
            ],
            [
             0.9,
             "#4d9221"
            ],
            [
             1,
             "#276419"
            ]
           ],
           "sequential": [
            [
             0,
             "#0d0887"
            ],
            [
             0.1111111111111111,
             "#46039f"
            ],
            [
             0.2222222222222222,
             "#7201a8"
            ],
            [
             0.3333333333333333,
             "#9c179e"
            ],
            [
             0.4444444444444444,
             "#bd3786"
            ],
            [
             0.5555555555555556,
             "#d8576b"
            ],
            [
             0.6666666666666666,
             "#ed7953"
            ],
            [
             0.7777777777777778,
             "#fb9f3a"
            ],
            [
             0.8888888888888888,
             "#fdca26"
            ],
            [
             1,
             "#f0f921"
            ]
           ],
           "sequentialminus": [
            [
             0,
             "#0d0887"
            ],
            [
             0.1111111111111111,
             "#46039f"
            ],
            [
             0.2222222222222222,
             "#7201a8"
            ],
            [
             0.3333333333333333,
             "#9c179e"
            ],
            [
             0.4444444444444444,
             "#bd3786"
            ],
            [
             0.5555555555555556,
             "#d8576b"
            ],
            [
             0.6666666666666666,
             "#ed7953"
            ],
            [
             0.7777777777777778,
             "#fb9f3a"
            ],
            [
             0.8888888888888888,
             "#fdca26"
            ],
            [
             1,
             "#f0f921"
            ]
           ]
          },
          "colorway": [
           "#636efa",
           "#EF553B",
           "#00cc96",
           "#ab63fa",
           "#FFA15A",
           "#19d3f3",
           "#FF6692",
           "#B6E880",
           "#FF97FF",
           "#FECB52"
          ],
          "font": {
           "color": "#2a3f5f"
          },
          "geo": {
           "bgcolor": "white",
           "lakecolor": "white",
           "landcolor": "#E5ECF6",
           "showlakes": true,
           "showland": true,
           "subunitcolor": "white"
          },
          "hoverlabel": {
           "align": "left"
          },
          "hovermode": "closest",
          "mapbox": {
           "style": "light"
          },
          "paper_bgcolor": "white",
          "plot_bgcolor": "#E5ECF6",
          "polar": {
           "angularaxis": {
            "gridcolor": "white",
            "linecolor": "white",
            "ticks": ""
           },
           "bgcolor": "#E5ECF6",
           "radialaxis": {
            "gridcolor": "white",
            "linecolor": "white",
            "ticks": ""
           }
          },
          "scene": {
           "xaxis": {
            "backgroundcolor": "#E5ECF6",
            "gridcolor": "white",
            "gridwidth": 2,
            "linecolor": "white",
            "showbackground": true,
            "ticks": "",
            "zerolinecolor": "white"
           },
           "yaxis": {
            "backgroundcolor": "#E5ECF6",
            "gridcolor": "white",
            "gridwidth": 2,
            "linecolor": "white",
            "showbackground": true,
            "ticks": "",
            "zerolinecolor": "white"
           },
           "zaxis": {
            "backgroundcolor": "#E5ECF6",
            "gridcolor": "white",
            "gridwidth": 2,
            "linecolor": "white",
            "showbackground": true,
            "ticks": "",
            "zerolinecolor": "white"
           }
          },
          "shapedefaults": {
           "line": {
            "color": "#2a3f5f"
           }
          },
          "ternary": {
           "aaxis": {
            "gridcolor": "white",
            "linecolor": "white",
            "ticks": ""
           },
           "baxis": {
            "gridcolor": "white",
            "linecolor": "white",
            "ticks": ""
           },
           "bgcolor": "#E5ECF6",
           "caxis": {
            "gridcolor": "white",
            "linecolor": "white",
            "ticks": ""
           }
          },
          "title": {
           "x": 0.05
          },
          "xaxis": {
           "automargin": true,
           "gridcolor": "white",
           "linecolor": "white",
           "ticks": "",
           "title": {
            "standoff": 15
           },
           "zerolinecolor": "white",
           "zerolinewidth": 2
          },
          "yaxis": {
           "automargin": true,
           "gridcolor": "white",
           "linecolor": "white",
           "ticks": "",
           "title": {
            "standoff": 15
           },
           "zerolinecolor": "white",
           "zerolinewidth": 2
          }
         }
        },
        "title": {
         "text": "Interactive Scatter Plot"
        },
        "xaxis": {
         "anchor": "y",
         "domain": [
          0,
          1
         ],
         "tickangle": 45,
         "title": {
          "text": "Image Name"
         }
        },
        "yaxis": {
         "anchor": "x",
         "domain": [
          0,
          1
         ],
         "title": {
          "text": "Laplacian variable"
         }
        }
       }
      }
     },
     "metadata": {},
     "output_type": "display_data"
    }
   ],
   "source": [
    "data.clear()\n",
    "### boundary strength\n",
    "## sharp images have high laplacian\n",
    "print(\"Laplcian var:\")\n",
    "for name, img in images:\n",
    "    laplacian = cv2.Laplacian(img, cv2.CV_64F).var()\n",
    "    #print(f\"Image {name}: {str(laplacian)}\")\n",
    "    data.append([name, laplacian])\n",
    "    \n",
    "    \n",
    "data = sorted(data, key=lambda x: x[0])\n",
    "for datum in data:\n",
    "    print(datum)\n",
    "plot_scatter(data, \"Laplacian variable\")   "
   ]
  },
  {
   "cell_type": "code",
   "execution_count": 4,
   "metadata": {},
   "outputs": [
    {
     "name": "stdout",
     "output_type": "stream",
     "text": [
      "Gradient magnitude mean:\n",
      "Image TOP3.png: 85.62594293662056\n",
      "Image MAX2.png: 25.725110341343296\n",
      "Image MRL2.png: 43.669308052452216\n",
      "Image UNS2.png: 39.07272196575746\n",
      "Image MIN2.png: 25.96350323333317\n",
      "Image SBL1.png: 91.8508406609764\n",
      "Image MRL3.png: 39.9442796492702\n",
      "Image FOU4.png: 32.36718876307845\n",
      "Image NGP_PRE3.png: 134.66505060866436\n",
      "Image NGP_ROB1.png: 136.62114832513154\n",
      "Image NGP_NML2.png: 24.68997509791772\n",
      "Image NGP_OPN2.png: 20.838004575149707\n",
      "Image SBL2.png: 98.33613904948412\n",
      "Image NML2.png: 24.68997509791772\n",
      "Image NGP_MAX1.png: 21.497874391481314\n",
      "Image ERO2.png: 31.15164645866358\n",
      "Image RIC_.png: 38.236110522768186\n",
      "Image BLT1.png: 32.26754324726728\n",
      "Image NGP_MRG3.png: 61.16690959566022\n",
      "Image NGP_PRE1.png: 125.63920470105059\n",
      "Image SBLM.png: 136.14308261687606\n",
      "Image LPL2.png: 166.87215702110456\n",
      "Image PRE4.png: 37.60840925079365\n",
      "Image NGP_SBLD.png: 241.88254473834593\n",
      "Image NGP_MED1.png: 22.30835219150595\n",
      "Image NGP_MIN3.png: 16.201744411053905\n",
      "Image NGP_OOO_.png: 0.0\n",
      "Image GRY_.png: 34.442482763734375\n",
      "Image NGP_.png: 24.68997509791772\n",
      "Image FOU1.png: 33.593965803951875\n",
      "Image NGP_UNS5.png: 31.249140565332482\n",
      "Image FOU3.png: 32.68373490870741\n",
      "Image NML3.png: 16.369801281487483\n",
      "Image POS1.png: 25.5280884277249\n",
      "Image NGP_MIN2.png: 18.163091207606957\n",
      "Image NGP_SBLM.png: 162.334102495652\n",
      "Image LBP3.png: 250.67499204477534\n",
      "Image NGP_BLT1.png: 32.26754324726728\n",
      "Image ERO5.png: 28.33484508960267\n",
      "Image NGP_STC2.png: 43.437515456828116\n",
      "Image OOO_.png: 0.0\n",
      "Image TOP2.png: 159.76831008174415\n",
      "Image NGP_ROB2.png: 37.66508821004778\n",
      "Image MED1.png: 22.30835219150595\n",
      "Image NGP_EMB3.png: 74.55090177374764\n",
      "Image NGP_TOP1.png: 174.36494368732883\n",
      "Image NGP_OPN5.png: 19.673900917963408\n",
      "Image OPN2.png: 29.43735686730487\n",
      "Image NGP_TOP2.png: 194.49119442682385\n",
      "Image NGP_UNS3.png: 29.29983493506926\n",
      "Image NGP_FOU1.png: 27.365269856119582\n",
      "Image SBLY.png: 119.3751276658047\n",
      "Image NGP_ERO6.png: 13.93156673577567\n",
      "Image MIN3.png: 23.293552199332282\n",
      "Image BTM3.png: 19.17824282621833\n",
      "Image ROB1.png: 23.103309810435203\n",
      "Image NGP_POS1.png: 25.5280884277249\n",
      "Image NGP_POS2.png: 25.0148537434661\n",
      "Image PRE2.png: 100.60381694251402\n",
      "Image MAX3.png: 23.368970444716016\n",
      "Image BLT2.png: 30.93552892999968\n",
      "Image NGP_TOP4.png: 103.51714365370465\n",
      "Image FOU2.png: 23.54528643155261\n",
      "Image NGP_CAN2.png: 44.168534349380685\n",
      "Image NGP_MRG4.png: 51.047923720410076\n",
      "Image OPN3.png: 23.480208110375614\n",
      "Image NGP_ERO5.png: 19.94688494532363\n",
      "Image BTM4.png: 21.095256576497988\n",
      "Image ERO3.png: 24.749240341620453\n",
      "Image HOM_.png: 1.899354381173955\n",
      "Image ETC1.png: 28.324321992820064\n",
      "Image NGP_ERO3.png: 17.133474284537602\n",
      "Image NGP_MAX4.png: 16.275217778645715\n",
      "Image NGP_CLO4.png: 19.140842965523465\n",
      "Image NGP_UNS1.png: 26.931845297014124\n",
      "Image MEA1.png: 20.3059643882771\n",
      "Image ROB3.png: 27.61555067418281\n",
      "Image SCH2.png: 128.76488986775834\n",
      "Image CAN2.png: 80.44983042208625\n",
      "Image UNS3.png: 41.21320663414061\n",
      "Image NGP_OPN3.png: 16.601275246244878\n",
      "Image NGP_ROB3.png: 128.63503789076887\n",
      "Image MAX1.png: 29.691828704094977\n",
      "Image CLO3.png: 22.679439995927197\n",
      "Image NGP_GAU2.png: 19.494717919015557\n",
      "Image KNN1.png: 32.75468249078437\n",
      "Image SCH3.png: 41.84260422959582\n",
      "Image NGP_FOU4.png: 23.760392928062135\n",
      "Image CAN3.png: 40.06852384065492\n",
      "Image POS3.png: 24.429661350175\n",
      "Image NGP_CLO2.png: 20.97429202795499\n",
      "Image CLO4.png: 26.444910001228696\n",
      "Image CLO1.png: 25.00185974029358\n",
      "Image NGP_ERO4.png: 18.163091207606957\n",
      "Image UNS5.png: 43.97841456452533\n",
      "Image NGP_MRL4.png: 23.76705314954971\n",
      "Image NGP_ETC1.png: 28.324321992820064\n",
      "Image SCH1.png: 224.87220034206678\n",
      "Image NGP_MRL3.png: 26.663242849350258\n",
      "Image NGP_LBP3.png: 250.67499204477534\n",
      "Image NGP_CAN1.png: 92.42900143942528\n",
      "Image ERO6.png: 20.155805447701773\n",
      "Image NGP_MAX3.png: 17.274530137067625\n",
      "Image NGP_HGF_.png: 38.1663255128074\n",
      "Image CLO5.png: 27.35127393705781\n",
      "Image STC1.png: 43.406936376658486\n",
      "Image NGP_BLT2.png: 30.93552892999968\n",
      "Image LPL1.png: 154.47594252813306\n",
      "Image EMB1.png: 70.49175665956956\n",
      "Image NGP_SBL2.png: 114.705352524796\n",
      "Image HGF_.png: 38.1663255128074\n",
      "Image NGP_EMB2.png: 72.71937344912756\n",
      "Image MIN4.png: 21.534885755755997\n",
      "Image NGP_SBL3.png: 95.8193305897791\n",
      "Image SCH4.png: 176.35424962412728\n",
      "Image NGP_SCH1.png: 161.40838219635975\n",
      "Image NGP_KNN1.png: 32.75468249078437\n",
      "Image MRG3.png: 30.83560972500311\n",
      "Image LBP1.png: 237.13909607628293\n",
      "Image NGP_MRL2.png: 29.311150045971065\n",
      "Image NGP_MEA2.png: 17.607347704588715\n",
      "Image NGP_SCH2.png: 100.16851026641382\n",
      "Image NGP_KNN2.png: 31.627134137323107\n",
      "Image NGP_GAU1.png: 21.493875719346946\n",
      "Image MAX4.png: 21.936234916218528\n",
      "Image SOL_.png: 90.72061243551899\n",
      "Image NGP_BTM2.png: 144.40453944100693\n",
      "Image NGP_CLO1.png: 17.97923269184159\n",
      "Image NGP_BTM1.png: 170.7373853147244\n",
      "Image NGP_NML1.png: 23.978836924620982\n",
      "Image ROB4.png: 27.80278346342679\n",
      "Image NGP_NML3.png: 24.535993000912182\n",
      "Image EMB3.png: 74.55090177374764\n",
      "Image NGP_SOL_.png: 90.72061243551899\n",
      "Image TOP4.png: 81.14018482130344\n",
      "Image STC2.png: 43.437515456828116\n",
      "Image NGP_SBL1.png: 111.64311482368164\n",
      "Image BTM1.png: 10.8362490076219\n",
      "Image NGP_MIN1.png: 21.148602269410663\n",
      "Image UNS4.png: 36.988715661747015\n",
      "Image NGP_LBP1.png: 237.13909607628293\n",
      "Image NGP_TOP3.png: 109.36434982525333\n",
      "Image NGP_MRL1.png: 29.334143266313486\n",
      "Image NGP_STC1.png: 43.406936376658486\n",
      "Image NGP_ERO1.png: 19.05189422084884\n",
      "Image NGP_MEA1.png: 20.3059643882771\n",
      "Image NGP_POS3.png: 24.429661350175\n",
      "Image TOP1.png: 136.23728892734\n",
      "Image NML1.png: 39.361243433819595\n",
      "Image SBLX.png: 116.68216897607273\n",
      "Image ROB2.png: 53.0926165833022\n",
      "Image NGP_ERO2.png: 22.08340940995107\n",
      "Image POS2.png: 25.0148537434661\n",
      "Image NGP_RIC_.png: 27.33157628024482\n",
      "Image NGP_SCH3.png: 126.67688503405778\n",
      "Image SBL4.png: 89.01989818360305\n",
      "Image BTM2.png: 16.317228289601903\n",
      "Image NGP_UNS4.png: 26.380516293765854\n",
      "Image NGP_CAN3.png: 21.369879381682622\n",
      "Image NGP_UNS2.png: 27.7907477743742\n",
      "Image NGP_LPL1.png: 182.86064907164425\n",
      "Image GAU1.png: 21.493875719346946\n",
      "Image MED2.png: 19.943299564774836\n",
      "Image NGP_OPN1.png: 18.360572597915\n",
      "Image NGP_LPL2.png: 203.57046787056905\n",
      "Image NGP_HOM_.png: 11.601352677201142\n",
      "Image MRG1.png: 28.62106067448912\n",
      "Image NGP_MRG1.png: 111.76175275497525\n",
      "Image NGP_CLO5.png: 19.637723762077933\n",
      "Image NGP_SBLX.png: 148.5935269045586\n",
      "Image NGP_NGP_.png: 24.68997509791772\n",
      "Image NGP_ETC2.png: 19.38575988663764\n",
      "Image NGP_MIN4.png: 14.907819091043871\n",
      "Image NGP_MED2.png: 19.943299564774836\n",
      "Image OPN5.png: 27.782617514944167\n",
      "Image NGP_CLO3.png: 16.391397772052976\n",
      "Image CAN1.png: 160.33602290512542\n",
      "Image UNS1.png: 37.7955435861542\n",
      "Image CLO2.png: 29.249277108955795\n",
      "Image SBLD.png: 241.88254473834593\n",
      "Image SBL3.png: 79.06711774499014\n",
      "Image ERO4.png: 25.96350323333317\n",
      "Image NGP_PRE2.png: 129.46012446851572\n",
      "Image LBP2.png: 257.80776923418256\n",
      "Image NGP_MRG2.png: 79.58317302088797\n",
      "Image EMB2.png: 72.71937344912756\n",
      "Image GAU2.png: 19.494717919015557\n",
      "Image MRL4.png: 35.78705267790227\n",
      "Image ERO1.png: 27.485844164194308\n",
      "Image NGP_SBLY.png: 149.23597190033928\n",
      "Image MEA2.png: 17.607347704588715\n",
      "Image KNN2.png: 31.627134137323107\n",
      "Image NGP_MAX2.png: 18.83055437938974\n",
      "Image PRE3.png: 139.13076860333473\n",
      "Image OPN1.png: 25.91048501748321\n",
      "Image NGP_SCH4.png: 131.37286185999926\n",
      "Image MRG4.png: 30.006163602001568\n",
      "Image NGP_LBP2.png: 257.80776923418256\n",
      "Image OPN4.png: 27.071830973956875\n",
      "Image PRE1.png: 74.74338186377787\n",
      "Image MRG2.png: 31.70103290271786\n",
      "Image NGP_GRY_.png: 24.68997509791772\n",
      "Image ETC2.png: 19.38575988663764\n",
      "Image MRL1.png: 42.64545915029682\n",
      "Image NGP_SBL4.png: 103.32769489307385\n",
      "Image NGP_PRE4.png: 125.14021719566826\n",
      "Image DST_.png: 6.026187088447247\n",
      "Image MIN1.png: 29.948450860675692\n",
      "Image NGP_EMB1.png: 70.49175665956956\n",
      "Image NGP_ROB4.png: 127.90139597828228\n",
      "Image NGP_BTM4.png: 117.83653885455186\n",
      "Image NGP_FOU3.png: 92.54234998354475\n",
      "Image NGP_BTM3.png: 127.77999629792686\n",
      "Image NGP_OPN4.png: 19.24043165930772\n",
      "Image NGP_FOU2.png: 86.44005130451266\n",
      "Image NGP_DST_.png: 6.820577661220615\n",
      "['BLT1.png', 32.26754324726728]\n",
      "['BLT2.png', 30.93552892999968]\n",
      "['BTM1.png', 10.8362490076219]\n",
      "['BTM2.png', 16.317228289601903]\n",
      "['BTM3.png', 19.17824282621833]\n",
      "['BTM4.png', 21.095256576497988]\n",
      "['CAN1.png', 160.33602290512542]\n",
      "['CAN2.png', 80.44983042208625]\n",
      "['CAN3.png', 40.06852384065492]\n",
      "['CLO1.png', 25.00185974029358]\n",
      "['CLO2.png', 29.249277108955795]\n",
      "['CLO3.png', 22.679439995927197]\n",
      "['CLO4.png', 26.444910001228696]\n",
      "['CLO5.png', 27.35127393705781]\n",
      "['DST_.png', 6.026187088447247]\n",
      "['EMB1.png', 70.49175665956956]\n",
      "['EMB2.png', 72.71937344912756]\n",
      "['EMB3.png', 74.55090177374764]\n",
      "['ERO1.png', 27.485844164194308]\n",
      "['ERO2.png', 31.15164645866358]\n",
      "['ERO3.png', 24.749240341620453]\n",
      "['ERO4.png', 25.96350323333317]\n",
      "['ERO5.png', 28.33484508960267]\n",
      "['ERO6.png', 20.155805447701773]\n",
      "['ETC1.png', 28.324321992820064]\n",
      "['ETC2.png', 19.38575988663764]\n",
      "['FOU1.png', 33.593965803951875]\n",
      "['FOU2.png', 23.54528643155261]\n",
      "['FOU3.png', 32.68373490870741]\n",
      "['FOU4.png', 32.36718876307845]\n",
      "['GAU1.png', 21.493875719346946]\n",
      "['GAU2.png', 19.494717919015557]\n",
      "['GRY_.png', 34.442482763734375]\n",
      "['HGF_.png', 38.1663255128074]\n",
      "['HOM_.png', 1.899354381173955]\n",
      "['KNN1.png', 32.75468249078437]\n",
      "['KNN2.png', 31.627134137323107]\n",
      "['LBP1.png', 237.13909607628293]\n",
      "['LBP2.png', 257.80776923418256]\n",
      "['LBP3.png', 250.67499204477534]\n",
      "['LPL1.png', 154.47594252813306]\n",
      "['LPL2.png', 166.87215702110456]\n",
      "['MAX1.png', 29.691828704094977]\n",
      "['MAX2.png', 25.725110341343296]\n",
      "['MAX3.png', 23.368970444716016]\n",
      "['MAX4.png', 21.936234916218528]\n",
      "['MEA1.png', 20.3059643882771]\n",
      "['MEA2.png', 17.607347704588715]\n",
      "['MED1.png', 22.30835219150595]\n",
      "['MED2.png', 19.943299564774836]\n",
      "['MIN1.png', 29.948450860675692]\n",
      "['MIN2.png', 25.96350323333317]\n",
      "['MIN3.png', 23.293552199332282]\n",
      "['MIN4.png', 21.534885755755997]\n",
      "['MRG1.png', 28.62106067448912]\n",
      "['MRG2.png', 31.70103290271786]\n",
      "['MRG3.png', 30.83560972500311]\n",
      "['MRG4.png', 30.006163602001568]\n",
      "['MRL1.png', 42.64545915029682]\n",
      "['MRL2.png', 43.669308052452216]\n",
      "['MRL3.png', 39.9442796492702]\n",
      "['MRL4.png', 35.78705267790227]\n",
      "['NGP_.png', 24.68997509791772]\n",
      "['NGP_BLT1.png', 32.26754324726728]\n",
      "['NGP_BLT2.png', 30.93552892999968]\n",
      "['NGP_BTM1.png', 170.7373853147244]\n",
      "['NGP_BTM2.png', 144.40453944100693]\n",
      "['NGP_BTM3.png', 127.77999629792686]\n",
      "['NGP_BTM4.png', 117.83653885455186]\n",
      "['NGP_CAN1.png', 92.42900143942528]\n",
      "['NGP_CAN2.png', 44.168534349380685]\n",
      "['NGP_CAN3.png', 21.369879381682622]\n",
      "['NGP_CLO1.png', 17.97923269184159]\n",
      "['NGP_CLO2.png', 20.97429202795499]\n",
      "['NGP_CLO3.png', 16.391397772052976]\n",
      "['NGP_CLO4.png', 19.140842965523465]\n",
      "['NGP_CLO5.png', 19.637723762077933]\n",
      "['NGP_DST_.png', 6.820577661220615]\n",
      "['NGP_EMB1.png', 70.49175665956956]\n",
      "['NGP_EMB2.png', 72.71937344912756]\n",
      "['NGP_EMB3.png', 74.55090177374764]\n",
      "['NGP_ERO1.png', 19.05189422084884]\n",
      "['NGP_ERO2.png', 22.08340940995107]\n",
      "['NGP_ERO3.png', 17.133474284537602]\n",
      "['NGP_ERO4.png', 18.163091207606957]\n",
      "['NGP_ERO5.png', 19.94688494532363]\n",
      "['NGP_ERO6.png', 13.93156673577567]\n",
      "['NGP_ETC1.png', 28.324321992820064]\n",
      "['NGP_ETC2.png', 19.38575988663764]\n",
      "['NGP_FOU1.png', 27.365269856119582]\n",
      "['NGP_FOU2.png', 86.44005130451266]\n",
      "['NGP_FOU3.png', 92.54234998354475]\n",
      "['NGP_FOU4.png', 23.760392928062135]\n",
      "['NGP_GAU1.png', 21.493875719346946]\n",
      "['NGP_GAU2.png', 19.494717919015557]\n",
      "['NGP_GRY_.png', 24.68997509791772]\n",
      "['NGP_HGF_.png', 38.1663255128074]\n",
      "['NGP_HOM_.png', 11.601352677201142]\n",
      "['NGP_KNN1.png', 32.75468249078437]\n",
      "['NGP_KNN2.png', 31.627134137323107]\n",
      "['NGP_LBP1.png', 237.13909607628293]\n",
      "['NGP_LBP2.png', 257.80776923418256]\n",
      "['NGP_LBP3.png', 250.67499204477534]\n",
      "['NGP_LPL1.png', 182.86064907164425]\n",
      "['NGP_LPL2.png', 203.57046787056905]\n",
      "['NGP_MAX1.png', 21.497874391481314]\n",
      "['NGP_MAX2.png', 18.83055437938974]\n",
      "['NGP_MAX3.png', 17.274530137067625]\n",
      "['NGP_MAX4.png', 16.275217778645715]\n",
      "['NGP_MEA1.png', 20.3059643882771]\n",
      "['NGP_MEA2.png', 17.607347704588715]\n",
      "['NGP_MED1.png', 22.30835219150595]\n",
      "['NGP_MED2.png', 19.943299564774836]\n",
      "['NGP_MIN1.png', 21.148602269410663]\n",
      "['NGP_MIN2.png', 18.163091207606957]\n",
      "['NGP_MIN3.png', 16.201744411053905]\n",
      "['NGP_MIN4.png', 14.907819091043871]\n",
      "['NGP_MRG1.png', 111.76175275497525]\n",
      "['NGP_MRG2.png', 79.58317302088797]\n",
      "['NGP_MRG3.png', 61.16690959566022]\n",
      "['NGP_MRG4.png', 51.047923720410076]\n",
      "['NGP_MRL1.png', 29.334143266313486]\n",
      "['NGP_MRL2.png', 29.311150045971065]\n",
      "['NGP_MRL3.png', 26.663242849350258]\n",
      "['NGP_MRL4.png', 23.76705314954971]\n",
      "['NGP_NGP_.png', 24.68997509791772]\n",
      "['NGP_NML1.png', 23.978836924620982]\n",
      "['NGP_NML2.png', 24.68997509791772]\n",
      "['NGP_NML3.png', 24.535993000912182]\n",
      "['NGP_OOO_.png', 0.0]\n",
      "['NGP_OPN1.png', 18.360572597915]\n",
      "['NGP_OPN2.png', 20.838004575149707]\n",
      "['NGP_OPN3.png', 16.601275246244878]\n",
      "['NGP_OPN4.png', 19.24043165930772]\n",
      "['NGP_OPN5.png', 19.673900917963408]\n",
      "['NGP_POS1.png', 25.5280884277249]\n",
      "['NGP_POS2.png', 25.0148537434661]\n",
      "['NGP_POS3.png', 24.429661350175]\n",
      "['NGP_PRE1.png', 125.63920470105059]\n",
      "['NGP_PRE2.png', 129.46012446851572]\n",
      "['NGP_PRE3.png', 134.66505060866436]\n",
      "['NGP_PRE4.png', 125.14021719566826]\n",
      "['NGP_RIC_.png', 27.33157628024482]\n",
      "['NGP_ROB1.png', 136.62114832513154]\n",
      "['NGP_ROB2.png', 37.66508821004778]\n",
      "['NGP_ROB3.png', 128.63503789076887]\n",
      "['NGP_ROB4.png', 127.90139597828228]\n",
      "['NGP_SBL1.png', 111.64311482368164]\n",
      "['NGP_SBL2.png', 114.705352524796]\n",
      "['NGP_SBL3.png', 95.8193305897791]\n",
      "['NGP_SBL4.png', 103.32769489307385]\n",
      "['NGP_SBLD.png', 241.88254473834593]\n",
      "['NGP_SBLM.png', 162.334102495652]\n",
      "['NGP_SBLX.png', 148.5935269045586]\n",
      "['NGP_SBLY.png', 149.23597190033928]\n",
      "['NGP_SCH1.png', 161.40838219635975]\n",
      "['NGP_SCH2.png', 100.16851026641382]\n",
      "['NGP_SCH3.png', 126.67688503405778]\n",
      "['NGP_SCH4.png', 131.37286185999926]\n",
      "['NGP_SOL_.png', 90.72061243551899]\n",
      "['NGP_STC1.png', 43.406936376658486]\n",
      "['NGP_STC2.png', 43.437515456828116]\n",
      "['NGP_TOP1.png', 174.36494368732883]\n",
      "['NGP_TOP2.png', 194.49119442682385]\n",
      "['NGP_TOP3.png', 109.36434982525333]\n",
      "['NGP_TOP4.png', 103.51714365370465]\n",
      "['NGP_UNS1.png', 26.931845297014124]\n",
      "['NGP_UNS2.png', 27.7907477743742]\n",
      "['NGP_UNS3.png', 29.29983493506926]\n",
      "['NGP_UNS4.png', 26.380516293765854]\n",
      "['NGP_UNS5.png', 31.249140565332482]\n",
      "['NML1.png', 39.361243433819595]\n",
      "['NML2.png', 24.68997509791772]\n",
      "['NML3.png', 16.369801281487483]\n",
      "['OOO_.png', 0.0]\n",
      "['OPN1.png', 25.91048501748321]\n",
      "['OPN2.png', 29.43735686730487]\n",
      "['OPN3.png', 23.480208110375614]\n",
      "['OPN4.png', 27.071830973956875]\n",
      "['OPN5.png', 27.782617514944167]\n",
      "['POS1.png', 25.5280884277249]\n",
      "['POS2.png', 25.0148537434661]\n",
      "['POS3.png', 24.429661350175]\n",
      "['PRE1.png', 74.74338186377787]\n",
      "['PRE2.png', 100.60381694251402]\n",
      "['PRE3.png', 139.13076860333473]\n",
      "['PRE4.png', 37.60840925079365]\n",
      "['RIC_.png', 38.236110522768186]\n",
      "['ROB1.png', 23.103309810435203]\n",
      "['ROB2.png', 53.0926165833022]\n",
      "['ROB3.png', 27.61555067418281]\n",
      "['ROB4.png', 27.80278346342679]\n",
      "['SBL1.png', 91.8508406609764]\n",
      "['SBL2.png', 98.33613904948412]\n",
      "['SBL3.png', 79.06711774499014]\n",
      "['SBL4.png', 89.01989818360305]\n",
      "['SBLD.png', 241.88254473834593]\n",
      "['SBLM.png', 136.14308261687606]\n",
      "['SBLX.png', 116.68216897607273]\n",
      "['SBLY.png', 119.3751276658047]\n",
      "['SCH1.png', 224.87220034206678]\n",
      "['SCH2.png', 128.76488986775834]\n",
      "['SCH3.png', 41.84260422959582]\n",
      "['SCH4.png', 176.35424962412728]\n",
      "['SOL_.png', 90.72061243551899]\n",
      "['STC1.png', 43.406936376658486]\n",
      "['STC2.png', 43.437515456828116]\n",
      "['TOP1.png', 136.23728892734]\n",
      "['TOP2.png', 159.76831008174415]\n",
      "['TOP3.png', 85.62594293662056]\n",
      "['TOP4.png', 81.14018482130344]\n",
      "['UNS1.png', 37.7955435861542]\n",
      "['UNS2.png', 39.07272196575746]\n",
      "['UNS3.png', 41.21320663414061]\n",
      "['UNS4.png', 36.988715661747015]\n",
      "['UNS5.png', 43.97841456452533]\n"
     ]
    },
    {
     "data": {
      "application/vnd.plotly.v1+json": {
       "config": {
        "plotlyServerURL": "https://plot.ly"
       },
       "data": [
        {
         "hovertemplate": "Image Name=%{x}<br>Gradient magnitude mean=%{y}<extra></extra>",
         "legendgroup": "",
         "marker": {
          "color": "#636efa",
          "symbol": "circle"
         },
         "mode": "markers",
         "name": "",
         "orientation": "v",
         "showlegend": false,
         "type": "scatter",
         "x": [
          "BLT1.png",
          "BLT2.png",
          "BTM1.png",
          "BTM2.png",
          "BTM3.png",
          "BTM4.png",
          "CAN1.png",
          "CAN2.png",
          "CAN3.png",
          "CLO1.png",
          "CLO2.png",
          "CLO3.png",
          "CLO4.png",
          "CLO5.png",
          "DST_.png",
          "EMB1.png",
          "EMB2.png",
          "EMB3.png",
          "ERO1.png",
          "ERO2.png",
          "ERO3.png",
          "ERO4.png",
          "ERO5.png",
          "ERO6.png",
          "ETC1.png",
          "ETC2.png",
          "FOU1.png",
          "FOU2.png",
          "FOU3.png",
          "FOU4.png",
          "GAU1.png",
          "GAU2.png",
          "GRY_.png",
          "HGF_.png",
          "HOM_.png",
          "KNN1.png",
          "KNN2.png",
          "LBP1.png",
          "LBP2.png",
          "LBP3.png",
          "LPL1.png",
          "LPL2.png",
          "MAX1.png",
          "MAX2.png",
          "MAX3.png",
          "MAX4.png",
          "MEA1.png",
          "MEA2.png",
          "MED1.png",
          "MED2.png",
          "MIN1.png",
          "MIN2.png",
          "MIN3.png",
          "MIN4.png",
          "MRG1.png",
          "MRG2.png",
          "MRG3.png",
          "MRG4.png",
          "MRL1.png",
          "MRL2.png",
          "MRL3.png",
          "MRL4.png",
          "NGP_.png",
          "NGP_BLT1.png",
          "NGP_BLT2.png",
          "NGP_BTM1.png",
          "NGP_BTM2.png",
          "NGP_BTM3.png",
          "NGP_BTM4.png",
          "NGP_CAN1.png",
          "NGP_CAN2.png",
          "NGP_CAN3.png",
          "NGP_CLO1.png",
          "NGP_CLO2.png",
          "NGP_CLO3.png",
          "NGP_CLO4.png",
          "NGP_CLO5.png",
          "NGP_DST_.png",
          "NGP_EMB1.png",
          "NGP_EMB2.png",
          "NGP_EMB3.png",
          "NGP_ERO1.png",
          "NGP_ERO2.png",
          "NGP_ERO3.png",
          "NGP_ERO4.png",
          "NGP_ERO5.png",
          "NGP_ERO6.png",
          "NGP_ETC1.png",
          "NGP_ETC2.png",
          "NGP_FOU1.png",
          "NGP_FOU2.png",
          "NGP_FOU3.png",
          "NGP_FOU4.png",
          "NGP_GAU1.png",
          "NGP_GAU2.png",
          "NGP_GRY_.png",
          "NGP_HGF_.png",
          "NGP_HOM_.png",
          "NGP_KNN1.png",
          "NGP_KNN2.png",
          "NGP_LBP1.png",
          "NGP_LBP2.png",
          "NGP_LBP3.png",
          "NGP_LPL1.png",
          "NGP_LPL2.png",
          "NGP_MAX1.png",
          "NGP_MAX2.png",
          "NGP_MAX3.png",
          "NGP_MAX4.png",
          "NGP_MEA1.png",
          "NGP_MEA2.png",
          "NGP_MED1.png",
          "NGP_MED2.png",
          "NGP_MIN1.png",
          "NGP_MIN2.png",
          "NGP_MIN3.png",
          "NGP_MIN4.png",
          "NGP_MRG1.png",
          "NGP_MRG2.png",
          "NGP_MRG3.png",
          "NGP_MRG4.png",
          "NGP_MRL1.png",
          "NGP_MRL2.png",
          "NGP_MRL3.png",
          "NGP_MRL4.png",
          "NGP_NGP_.png",
          "NGP_NML1.png",
          "NGP_NML2.png",
          "NGP_NML3.png",
          "NGP_OOO_.png",
          "NGP_OPN1.png",
          "NGP_OPN2.png",
          "NGP_OPN3.png",
          "NGP_OPN4.png",
          "NGP_OPN5.png",
          "NGP_POS1.png",
          "NGP_POS2.png",
          "NGP_POS3.png",
          "NGP_PRE1.png",
          "NGP_PRE2.png",
          "NGP_PRE3.png",
          "NGP_PRE4.png",
          "NGP_RIC_.png",
          "NGP_ROB1.png",
          "NGP_ROB2.png",
          "NGP_ROB3.png",
          "NGP_ROB4.png",
          "NGP_SBL1.png",
          "NGP_SBL2.png",
          "NGP_SBL3.png",
          "NGP_SBL4.png",
          "NGP_SBLD.png",
          "NGP_SBLM.png",
          "NGP_SBLX.png",
          "NGP_SBLY.png",
          "NGP_SCH1.png",
          "NGP_SCH2.png",
          "NGP_SCH3.png",
          "NGP_SCH4.png",
          "NGP_SOL_.png",
          "NGP_STC1.png",
          "NGP_STC2.png",
          "NGP_TOP1.png",
          "NGP_TOP2.png",
          "NGP_TOP3.png",
          "NGP_TOP4.png",
          "NGP_UNS1.png",
          "NGP_UNS2.png",
          "NGP_UNS3.png",
          "NGP_UNS4.png",
          "NGP_UNS5.png",
          "NML1.png",
          "NML2.png",
          "NML3.png",
          "OOO_.png",
          "OPN1.png",
          "OPN2.png",
          "OPN3.png",
          "OPN4.png",
          "OPN5.png",
          "POS1.png",
          "POS2.png",
          "POS3.png",
          "PRE1.png",
          "PRE2.png",
          "PRE3.png",
          "PRE4.png",
          "RIC_.png",
          "ROB1.png",
          "ROB2.png",
          "ROB3.png",
          "ROB4.png",
          "SBL1.png",
          "SBL2.png",
          "SBL3.png",
          "SBL4.png",
          "SBLD.png",
          "SBLM.png",
          "SBLX.png",
          "SBLY.png",
          "SCH1.png",
          "SCH2.png",
          "SCH3.png",
          "SCH4.png",
          "SOL_.png",
          "STC1.png",
          "STC2.png",
          "TOP1.png",
          "TOP2.png",
          "TOP3.png",
          "TOP4.png",
          "UNS1.png",
          "UNS2.png",
          "UNS3.png",
          "UNS4.png",
          "UNS5.png"
         ],
         "xaxis": "x",
         "y": [
          32.26754324726728,
          30.93552892999968,
          10.8362490076219,
          16.317228289601903,
          19.17824282621833,
          21.095256576497988,
          160.33602290512542,
          80.44983042208625,
          40.06852384065492,
          25.00185974029358,
          29.249277108955795,
          22.679439995927197,
          26.444910001228696,
          27.35127393705781,
          6.026187088447247,
          70.49175665956956,
          72.71937344912756,
          74.55090177374764,
          27.485844164194308,
          31.15164645866358,
          24.749240341620453,
          25.96350323333317,
          28.33484508960267,
          20.155805447701773,
          28.324321992820064,
          19.38575988663764,
          33.593965803951875,
          23.54528643155261,
          32.68373490870741,
          32.36718876307845,
          21.493875719346946,
          19.494717919015557,
          34.442482763734375,
          38.1663255128074,
          1.899354381173955,
          32.75468249078437,
          31.627134137323107,
          237.13909607628293,
          257.80776923418256,
          250.67499204477534,
          154.47594252813306,
          166.87215702110456,
          29.691828704094977,
          25.725110341343296,
          23.368970444716016,
          21.936234916218528,
          20.3059643882771,
          17.607347704588715,
          22.30835219150595,
          19.943299564774836,
          29.948450860675692,
          25.96350323333317,
          23.293552199332282,
          21.534885755755997,
          28.62106067448912,
          31.70103290271786,
          30.83560972500311,
          30.006163602001568,
          42.64545915029682,
          43.669308052452216,
          39.9442796492702,
          35.78705267790227,
          24.68997509791772,
          32.26754324726728,
          30.93552892999968,
          170.7373853147244,
          144.40453944100693,
          127.77999629792686,
          117.83653885455186,
          92.42900143942528,
          44.168534349380685,
          21.369879381682622,
          17.97923269184159,
          20.97429202795499,
          16.391397772052976,
          19.140842965523465,
          19.637723762077933,
          6.820577661220615,
          70.49175665956956,
          72.71937344912756,
          74.55090177374764,
          19.05189422084884,
          22.08340940995107,
          17.133474284537602,
          18.163091207606957,
          19.94688494532363,
          13.93156673577567,
          28.324321992820064,
          19.38575988663764,
          27.365269856119582,
          86.44005130451266,
          92.54234998354475,
          23.760392928062135,
          21.493875719346946,
          19.494717919015557,
          24.68997509791772,
          38.1663255128074,
          11.601352677201142,
          32.75468249078437,
          31.627134137323107,
          237.13909607628293,
          257.80776923418256,
          250.67499204477534,
          182.86064907164425,
          203.57046787056905,
          21.497874391481314,
          18.83055437938974,
          17.274530137067625,
          16.275217778645715,
          20.3059643882771,
          17.607347704588715,
          22.30835219150595,
          19.943299564774836,
          21.148602269410663,
          18.163091207606957,
          16.201744411053905,
          14.907819091043871,
          111.76175275497525,
          79.58317302088797,
          61.16690959566022,
          51.047923720410076,
          29.334143266313486,
          29.311150045971065,
          26.663242849350258,
          23.76705314954971,
          24.68997509791772,
          23.978836924620982,
          24.68997509791772,
          24.535993000912182,
          0,
          18.360572597915,
          20.838004575149707,
          16.601275246244878,
          19.24043165930772,
          19.673900917963408,
          25.5280884277249,
          25.0148537434661,
          24.429661350175,
          125.63920470105059,
          129.46012446851572,
          134.66505060866436,
          125.14021719566826,
          27.33157628024482,
          136.62114832513154,
          37.66508821004778,
          128.63503789076887,
          127.90139597828228,
          111.64311482368164,
          114.705352524796,
          95.8193305897791,
          103.32769489307385,
          241.88254473834593,
          162.334102495652,
          148.5935269045586,
          149.23597190033928,
          161.40838219635975,
          100.16851026641382,
          126.67688503405778,
          131.37286185999926,
          90.72061243551899,
          43.406936376658486,
          43.437515456828116,
          174.36494368732883,
          194.49119442682385,
          109.36434982525333,
          103.51714365370465,
          26.931845297014124,
          27.7907477743742,
          29.29983493506926,
          26.380516293765854,
          31.249140565332482,
          39.361243433819595,
          24.68997509791772,
          16.369801281487483,
          0,
          25.91048501748321,
          29.43735686730487,
          23.480208110375614,
          27.071830973956875,
          27.782617514944167,
          25.5280884277249,
          25.0148537434661,
          24.429661350175,
          74.74338186377787,
          100.60381694251402,
          139.13076860333473,
          37.60840925079365,
          38.236110522768186,
          23.103309810435203,
          53.0926165833022,
          27.61555067418281,
          27.80278346342679,
          91.8508406609764,
          98.33613904948412,
          79.06711774499014,
          89.01989818360305,
          241.88254473834593,
          136.14308261687606,
          116.68216897607273,
          119.3751276658047,
          224.87220034206678,
          128.76488986775834,
          41.84260422959582,
          176.35424962412728,
          90.72061243551899,
          43.406936376658486,
          43.437515456828116,
          136.23728892734,
          159.76831008174415,
          85.62594293662056,
          81.14018482130344,
          37.7955435861542,
          39.07272196575746,
          41.21320663414061,
          36.988715661747015,
          43.97841456452533
         ],
         "yaxis": "y"
        }
       ],
       "layout": {
        "legend": {
         "tracegroupgap": 0
        },
        "template": {
         "data": {
          "bar": [
           {
            "error_x": {
             "color": "#2a3f5f"
            },
            "error_y": {
             "color": "#2a3f5f"
            },
            "marker": {
             "line": {
              "color": "#E5ECF6",
              "width": 0.5
             },
             "pattern": {
              "fillmode": "overlay",
              "size": 10,
              "solidity": 0.2
             }
            },
            "type": "bar"
           }
          ],
          "barpolar": [
           {
            "marker": {
             "line": {
              "color": "#E5ECF6",
              "width": 0.5
             },
             "pattern": {
              "fillmode": "overlay",
              "size": 10,
              "solidity": 0.2
             }
            },
            "type": "barpolar"
           }
          ],
          "carpet": [
           {
            "aaxis": {
             "endlinecolor": "#2a3f5f",
             "gridcolor": "white",
             "linecolor": "white",
             "minorgridcolor": "white",
             "startlinecolor": "#2a3f5f"
            },
            "baxis": {
             "endlinecolor": "#2a3f5f",
             "gridcolor": "white",
             "linecolor": "white",
             "minorgridcolor": "white",
             "startlinecolor": "#2a3f5f"
            },
            "type": "carpet"
           }
          ],
          "choropleth": [
           {
            "colorbar": {
             "outlinewidth": 0,
             "ticks": ""
            },
            "type": "choropleth"
           }
          ],
          "contour": [
           {
            "colorbar": {
             "outlinewidth": 0,
             "ticks": ""
            },
            "colorscale": [
             [
              0,
              "#0d0887"
             ],
             [
              0.1111111111111111,
              "#46039f"
             ],
             [
              0.2222222222222222,
              "#7201a8"
             ],
             [
              0.3333333333333333,
              "#9c179e"
             ],
             [
              0.4444444444444444,
              "#bd3786"
             ],
             [
              0.5555555555555556,
              "#d8576b"
             ],
             [
              0.6666666666666666,
              "#ed7953"
             ],
             [
              0.7777777777777778,
              "#fb9f3a"
             ],
             [
              0.8888888888888888,
              "#fdca26"
             ],
             [
              1,
              "#f0f921"
             ]
            ],
            "type": "contour"
           }
          ],
          "contourcarpet": [
           {
            "colorbar": {
             "outlinewidth": 0,
             "ticks": ""
            },
            "type": "contourcarpet"
           }
          ],
          "heatmap": [
           {
            "colorbar": {
             "outlinewidth": 0,
             "ticks": ""
            },
            "colorscale": [
             [
              0,
              "#0d0887"
             ],
             [
              0.1111111111111111,
              "#46039f"
             ],
             [
              0.2222222222222222,
              "#7201a8"
             ],
             [
              0.3333333333333333,
              "#9c179e"
             ],
             [
              0.4444444444444444,
              "#bd3786"
             ],
             [
              0.5555555555555556,
              "#d8576b"
             ],
             [
              0.6666666666666666,
              "#ed7953"
             ],
             [
              0.7777777777777778,
              "#fb9f3a"
             ],
             [
              0.8888888888888888,
              "#fdca26"
             ],
             [
              1,
              "#f0f921"
             ]
            ],
            "type": "heatmap"
           }
          ],
          "heatmapgl": [
           {
            "colorbar": {
             "outlinewidth": 0,
             "ticks": ""
            },
            "colorscale": [
             [
              0,
              "#0d0887"
             ],
             [
              0.1111111111111111,
              "#46039f"
             ],
             [
              0.2222222222222222,
              "#7201a8"
             ],
             [
              0.3333333333333333,
              "#9c179e"
             ],
             [
              0.4444444444444444,
              "#bd3786"
             ],
             [
              0.5555555555555556,
              "#d8576b"
             ],
             [
              0.6666666666666666,
              "#ed7953"
             ],
             [
              0.7777777777777778,
              "#fb9f3a"
             ],
             [
              0.8888888888888888,
              "#fdca26"
             ],
             [
              1,
              "#f0f921"
             ]
            ],
            "type": "heatmapgl"
           }
          ],
          "histogram": [
           {
            "marker": {
             "pattern": {
              "fillmode": "overlay",
              "size": 10,
              "solidity": 0.2
             }
            },
            "type": "histogram"
           }
          ],
          "histogram2d": [
           {
            "colorbar": {
             "outlinewidth": 0,
             "ticks": ""
            },
            "colorscale": [
             [
              0,
              "#0d0887"
             ],
             [
              0.1111111111111111,
              "#46039f"
             ],
             [
              0.2222222222222222,
              "#7201a8"
             ],
             [
              0.3333333333333333,
              "#9c179e"
             ],
             [
              0.4444444444444444,
              "#bd3786"
             ],
             [
              0.5555555555555556,
              "#d8576b"
             ],
             [
              0.6666666666666666,
              "#ed7953"
             ],
             [
              0.7777777777777778,
              "#fb9f3a"
             ],
             [
              0.8888888888888888,
              "#fdca26"
             ],
             [
              1,
              "#f0f921"
             ]
            ],
            "type": "histogram2d"
           }
          ],
          "histogram2dcontour": [
           {
            "colorbar": {
             "outlinewidth": 0,
             "ticks": ""
            },
            "colorscale": [
             [
              0,
              "#0d0887"
             ],
             [
              0.1111111111111111,
              "#46039f"
             ],
             [
              0.2222222222222222,
              "#7201a8"
             ],
             [
              0.3333333333333333,
              "#9c179e"
             ],
             [
              0.4444444444444444,
              "#bd3786"
             ],
             [
              0.5555555555555556,
              "#d8576b"
             ],
             [
              0.6666666666666666,
              "#ed7953"
             ],
             [
              0.7777777777777778,
              "#fb9f3a"
             ],
             [
              0.8888888888888888,
              "#fdca26"
             ],
             [
              1,
              "#f0f921"
             ]
            ],
            "type": "histogram2dcontour"
           }
          ],
          "mesh3d": [
           {
            "colorbar": {
             "outlinewidth": 0,
             "ticks": ""
            },
            "type": "mesh3d"
           }
          ],
          "parcoords": [
           {
            "line": {
             "colorbar": {
              "outlinewidth": 0,
              "ticks": ""
             }
            },
            "type": "parcoords"
           }
          ],
          "pie": [
           {
            "automargin": true,
            "type": "pie"
           }
          ],
          "scatter": [
           {
            "fillpattern": {
             "fillmode": "overlay",
             "size": 10,
             "solidity": 0.2
            },
            "type": "scatter"
           }
          ],
          "scatter3d": [
           {
            "line": {
             "colorbar": {
              "outlinewidth": 0,
              "ticks": ""
             }
            },
            "marker": {
             "colorbar": {
              "outlinewidth": 0,
              "ticks": ""
             }
            },
            "type": "scatter3d"
           }
          ],
          "scattercarpet": [
           {
            "marker": {
             "colorbar": {
              "outlinewidth": 0,
              "ticks": ""
             }
            },
            "type": "scattercarpet"
           }
          ],
          "scattergeo": [
           {
            "marker": {
             "colorbar": {
              "outlinewidth": 0,
              "ticks": ""
             }
            },
            "type": "scattergeo"
           }
          ],
          "scattergl": [
           {
            "marker": {
             "colorbar": {
              "outlinewidth": 0,
              "ticks": ""
             }
            },
            "type": "scattergl"
           }
          ],
          "scattermapbox": [
           {
            "marker": {
             "colorbar": {
              "outlinewidth": 0,
              "ticks": ""
             }
            },
            "type": "scattermapbox"
           }
          ],
          "scatterpolar": [
           {
            "marker": {
             "colorbar": {
              "outlinewidth": 0,
              "ticks": ""
             }
            },
            "type": "scatterpolar"
           }
          ],
          "scatterpolargl": [
           {
            "marker": {
             "colorbar": {
              "outlinewidth": 0,
              "ticks": ""
             }
            },
            "type": "scatterpolargl"
           }
          ],
          "scatterternary": [
           {
            "marker": {
             "colorbar": {
              "outlinewidth": 0,
              "ticks": ""
             }
            },
            "type": "scatterternary"
           }
          ],
          "surface": [
           {
            "colorbar": {
             "outlinewidth": 0,
             "ticks": ""
            },
            "colorscale": [
             [
              0,
              "#0d0887"
             ],
             [
              0.1111111111111111,
              "#46039f"
             ],
             [
              0.2222222222222222,
              "#7201a8"
             ],
             [
              0.3333333333333333,
              "#9c179e"
             ],
             [
              0.4444444444444444,
              "#bd3786"
             ],
             [
              0.5555555555555556,
              "#d8576b"
             ],
             [
              0.6666666666666666,
              "#ed7953"
             ],
             [
              0.7777777777777778,
              "#fb9f3a"
             ],
             [
              0.8888888888888888,
              "#fdca26"
             ],
             [
              1,
              "#f0f921"
             ]
            ],
            "type": "surface"
           }
          ],
          "table": [
           {
            "cells": {
             "fill": {
              "color": "#EBF0F8"
             },
             "line": {
              "color": "white"
             }
            },
            "header": {
             "fill": {
              "color": "#C8D4E3"
             },
             "line": {
              "color": "white"
             }
            },
            "type": "table"
           }
          ]
         },
         "layout": {
          "annotationdefaults": {
           "arrowcolor": "#2a3f5f",
           "arrowhead": 0,
           "arrowwidth": 1
          },
          "autotypenumbers": "strict",
          "coloraxis": {
           "colorbar": {
            "outlinewidth": 0,
            "ticks": ""
           }
          },
          "colorscale": {
           "diverging": [
            [
             0,
             "#8e0152"
            ],
            [
             0.1,
             "#c51b7d"
            ],
            [
             0.2,
             "#de77ae"
            ],
            [
             0.3,
             "#f1b6da"
            ],
            [
             0.4,
             "#fde0ef"
            ],
            [
             0.5,
             "#f7f7f7"
            ],
            [
             0.6,
             "#e6f5d0"
            ],
            [
             0.7,
             "#b8e186"
            ],
            [
             0.8,
             "#7fbc41"
            ],
            [
             0.9,
             "#4d9221"
            ],
            [
             1,
             "#276419"
            ]
           ],
           "sequential": [
            [
             0,
             "#0d0887"
            ],
            [
             0.1111111111111111,
             "#46039f"
            ],
            [
             0.2222222222222222,
             "#7201a8"
            ],
            [
             0.3333333333333333,
             "#9c179e"
            ],
            [
             0.4444444444444444,
             "#bd3786"
            ],
            [
             0.5555555555555556,
             "#d8576b"
            ],
            [
             0.6666666666666666,
             "#ed7953"
            ],
            [
             0.7777777777777778,
             "#fb9f3a"
            ],
            [
             0.8888888888888888,
             "#fdca26"
            ],
            [
             1,
             "#f0f921"
            ]
           ],
           "sequentialminus": [
            [
             0,
             "#0d0887"
            ],
            [
             0.1111111111111111,
             "#46039f"
            ],
            [
             0.2222222222222222,
             "#7201a8"
            ],
            [
             0.3333333333333333,
             "#9c179e"
            ],
            [
             0.4444444444444444,
             "#bd3786"
            ],
            [
             0.5555555555555556,
             "#d8576b"
            ],
            [
             0.6666666666666666,
             "#ed7953"
            ],
            [
             0.7777777777777778,
             "#fb9f3a"
            ],
            [
             0.8888888888888888,
             "#fdca26"
            ],
            [
             1,
             "#f0f921"
            ]
           ]
          },
          "colorway": [
           "#636efa",
           "#EF553B",
           "#00cc96",
           "#ab63fa",
           "#FFA15A",
           "#19d3f3",
           "#FF6692",
           "#B6E880",
           "#FF97FF",
           "#FECB52"
          ],
          "font": {
           "color": "#2a3f5f"
          },
          "geo": {
           "bgcolor": "white",
           "lakecolor": "white",
           "landcolor": "#E5ECF6",
           "showlakes": true,
           "showland": true,
           "subunitcolor": "white"
          },
          "hoverlabel": {
           "align": "left"
          },
          "hovermode": "closest",
          "mapbox": {
           "style": "light"
          },
          "paper_bgcolor": "white",
          "plot_bgcolor": "#E5ECF6",
          "polar": {
           "angularaxis": {
            "gridcolor": "white",
            "linecolor": "white",
            "ticks": ""
           },
           "bgcolor": "#E5ECF6",
           "radialaxis": {
            "gridcolor": "white",
            "linecolor": "white",
            "ticks": ""
           }
          },
          "scene": {
           "xaxis": {
            "backgroundcolor": "#E5ECF6",
            "gridcolor": "white",
            "gridwidth": 2,
            "linecolor": "white",
            "showbackground": true,
            "ticks": "",
            "zerolinecolor": "white"
           },
           "yaxis": {
            "backgroundcolor": "#E5ECF6",
            "gridcolor": "white",
            "gridwidth": 2,
            "linecolor": "white",
            "showbackground": true,
            "ticks": "",
            "zerolinecolor": "white"
           },
           "zaxis": {
            "backgroundcolor": "#E5ECF6",
            "gridcolor": "white",
            "gridwidth": 2,
            "linecolor": "white",
            "showbackground": true,
            "ticks": "",
            "zerolinecolor": "white"
           }
          },
          "shapedefaults": {
           "line": {
            "color": "#2a3f5f"
           }
          },
          "ternary": {
           "aaxis": {
            "gridcolor": "white",
            "linecolor": "white",
            "ticks": ""
           },
           "baxis": {
            "gridcolor": "white",
            "linecolor": "white",
            "ticks": ""
           },
           "bgcolor": "#E5ECF6",
           "caxis": {
            "gridcolor": "white",
            "linecolor": "white",
            "ticks": ""
           }
          },
          "title": {
           "x": 0.05
          },
          "xaxis": {
           "automargin": true,
           "gridcolor": "white",
           "linecolor": "white",
           "ticks": "",
           "title": {
            "standoff": 15
           },
           "zerolinecolor": "white",
           "zerolinewidth": 2
          },
          "yaxis": {
           "automargin": true,
           "gridcolor": "white",
           "linecolor": "white",
           "ticks": "",
           "title": {
            "standoff": 15
           },
           "zerolinecolor": "white",
           "zerolinewidth": 2
          }
         }
        },
        "title": {
         "text": "Interactive Scatter Plot"
        },
        "xaxis": {
         "anchor": "y",
         "domain": [
          0,
          1
         ],
         "tickangle": 45,
         "title": {
          "text": "Image Name"
         }
        },
        "yaxis": {
         "anchor": "x",
         "domain": [
          0,
          1
         ],
         "title": {
          "text": "Gradient magnitude mean"
         }
        }
       }
      }
     },
     "metadata": {},
     "output_type": "display_data"
    }
   ],
   "source": [
    "data.clear()\n",
    "### boundary strength\n",
    "## sharp images have high laplacian\n",
    "print(\"Gradient magnitude mean:\")\n",
    "for name, img in images:\n",
    "    sobelx = cv2.Sobel(img, cv2.CV_64F, 1, 0, ksize=3)\n",
    "    sobely = cv2.Sobel(img, cv2.CV_64F, 0, 1, ksize=3)\n",
    "    gradient_magnitude = np.sqrt(sobelx**2 + sobely**2)\n",
    "    edge_strength = np.mean(gradient_magnitude)\n",
    "    print(f\"Image {name}: {str(edge_strength)}\")\n",
    "    data.append([name, edge_strength])\n",
    "    \n",
    "data = sorted(data, key=lambda x: x[0])\n",
    "for datum in data:\n",
    "    print(datum)\n",
    "plot_scatter(data, \"Gradient magnitude mean\")   "
   ]
  },
  {
   "cell_type": "code",
   "execution_count": 5,
   "metadata": {},
   "outputs": [
    {
     "name": "stdout",
     "output_type": "stream",
     "text": [
      "Gradient magnitude mean:\n",
      "Image TOP3.png: 1.9071572570633706\n",
      "Image MAX2.png: 7.422457547063153\n",
      "Image MRL2.png: 7.039762954343406\n",
      "Image UNS2.png: 7.393316361522089\n",
      "Image MIN2.png: 7.084480204876694\n",
      "Image SBL1.png: 3.7517138347636116\n",
      "Image MRL3.png: 6.652578712750503\n",
      "Image FOU4.png: 7.38559112000371\n",
      "Image NGP_PRE3.png: 6.491245953877877\n",
      "Image NGP_ROB1.png: 4.212457518624569\n",
      "Image NGP_NML2.png: 6.793874372312525\n",
      "Image NGP_OPN2.png: 6.551321674499588\n",
      "Image SBL2.png: 4.093367124514723\n",
      "Image NML2.png: 6.793874372312527\n",
      "Image NGP_MAX1.png: 6.974291757716667\n",
      "Image ERO2.png: 7.153257930399487\n",
      "Image RIC_.png: 7.367772734996139\n",
      "Image BLT1.png: 6.70508611129643\n",
      "Image NGP_MRG3.png: 5.984532399678184\n",
      "Image NGP_PRE1.png: 5.752089816684475\n",
      "Image SBLM.png: 5.387807095491026\n",
      "Image LPL2.png: 3.4517066552151223\n",
      "Image PRE4.png: 5.127028021261741\n",
      "Image NGP_SBLD.png: 2.9028669448247486\n",
      "Image NGP_MED1.png: 6.712491833008461\n",
      "Image NGP_MIN3.png: 6.467177530474136\n",
      "Image NGP_OOO_.png: 0.0\n",
      "Image GRY_.png: 7.338526622996176\n",
      "Image NGP_.png: 6.793874372312525\n",
      "Image FOU1.png: 7.446914702868908\n",
      "Image NGP_UNS5.png: 6.940609485360445\n",
      "Image FOU3.png: 4.868531668380437\n",
      "Image NML3.png: 6.338589438505344\n",
      "Image POS1.png: 3.126357993305486\n",
      "Image NGP_MIN2.png: 6.587419889041815\n",
      "Image NGP_SBLM.png: 5.167214202669761\n",
      "Image LBP3.png: 6.111316172498542\n",
      "Image NGP_BLT1.png: 6.70508611129643\n",
      "Image ERO5.png: 7.128254375841717\n",
      "Image NGP_STC2.png: 6.170199038700267\n",
      "Image OOO_.png: 0.0\n",
      "Image TOP2.png: 2.968155559671456\n",
      "Image NGP_ROB2.png: 6.988719660614358\n",
      "Image MED1.png: 6.712491833008461\n",
      "Image NGP_EMB3.png: 6.78774348751948\n",
      "Image NGP_TOP1.png: 2.3321776788205706\n",
      "Image NGP_OPN5.png: 6.549878318245632\n",
      "Image OPN2.png: 7.111668744313981\n",
      "Image NGP_TOP2.png: 2.8448347644636915\n",
      "Image NGP_UNS3.png: 6.884557169422\n",
      "Image NGP_FOU1.png: 7.099245803373032\n",
      "Image SBLY.png: 3.7348159610962037\n",
      "Image NGP_ERO6.png: 6.330860972329338\n",
      "Image MIN3.png: 7.006707288089797\n",
      "Image BTM3.png: 3.6295390658990154\n",
      "Image ROB1.png: 4.443734134581977\n",
      "Image NGP_POS1.png: 3.126357993305486\n",
      "Image NGP_POS2.png: 4.017151047532767\n",
      "Image PRE2.png: 6.465988422025743\n",
      "Image MAX3.png: 7.357029843315852\n",
      "Image BLT2.png: 6.610121579795428\n",
      "Image NGP_TOP4.png: 1.7540431098052003\n",
      "Image FOU2.png: 4.296267270369197\n",
      "Image NGP_CAN2.png: 0.23847046414123302\n",
      "Image NGP_MRG4.png: 6.210490210243545\n",
      "Image OPN3.png: 7.101127890258322\n",
      "Image NGP_ERO5.png: 6.6256029463646255\n",
      "Image BTM4.png: 3.925165532593152\n",
      "Image ERO3.png: 7.059573821275573\n",
      "Image HOM_.png: 5.339385758054107\n",
      "Image ETC1.png: 6.805491460903105\n",
      "Image NGP_ERO3.png: 6.435232454613376\n",
      "Image NGP_MAX4.png: 6.708757413770339\n",
      "Image NGP_CLO4.png: 6.893690943052699\n",
      "Image NGP_UNS1.png: 6.839221654004831\n",
      "Image MEA1.png: 6.660781954195182\n",
      "Image ROB3.png: 4.737933200508123\n",
      "Image SCH2.png: 1.8155930524125743\n",
      "Image CAN2.png: 0.23847046414123302\n",
      "Image UNS3.png: 7.402762452717164\n",
      "Image NGP_OPN3.png: 6.624267521460037\n",
      "Image NGP_ROB3.png: 4.489555572195609\n",
      "Image MAX1.png: 7.454538199846116\n",
      "Image CLO3.png: 7.3857672979537785\n",
      "Image NGP_GAU2.png: 6.752956774606599\n",
      "Image KNN1.png: 6.709477664789597\n",
      "Image SCH3.png: 5.264494570898567\n",
      "Image NGP_FOU4.png: 6.841028244615804\n",
      "Image CAN3.png: 0.13394503969707514\n",
      "Image POS3.png: 4.526692656870953\n",
      "Image NGP_CLO2.png: 6.836789468309482\n",
      "Image CLO4.png: 7.39585122924409\n",
      "Image CLO1.png: 7.401400360190841\n",
      "Image NGP_ERO4.png: 6.587419889041815\n",
      "Image UNS5.png: 7.473859492682894\n",
      "Image NGP_MRL4.png: 5.753193731546697\n",
      "Image NGP_ETC1.png: 6.805491460903105\n",
      "Image SCH1.png: 6.928740992833101\n",
      "Image NGP_MRL3.png: 6.107129011117322\n",
      "Image NGP_LBP3.png: 6.11131617249854\n",
      "Image NGP_CAN1.png: 0.4145905832167717\n",
      "Image ERO6.png: 6.894235548529462\n",
      "Image NGP_MAX3.png: 6.904572874678482\n",
      "Image NGP_HGF_.png: 6.889870740377424\n",
      "Image CLO5.png: 7.379603966734413\n",
      "Image STC1.png: 6.169941560527051\n",
      "Image NGP_BLT2.png: 6.610121579795428\n",
      "Image LPL1.png: 2.872311764400885\n",
      "Image EMB1.png: 6.6469272580917\n",
      "Image NGP_SBL2.png: 3.871237742496289\n",
      "Image HGF_.png: 6.889870740377425\n",
      "Image NGP_EMB2.png: 6.468286890319345\n",
      "Image MIN4.png: 6.940731141375947\n",
      "Image NGP_SBL3.png: 3.5009190038677227\n",
      "Image SCH4.png: 3.574066575580248\n",
      "Image NGP_SCH1.png: 6.477157711215532\n",
      "Image NGP_KNN1.png: 6.709477664789597\n",
      "Image MRG3.png: 6.23456889481696\n",
      "Image LBP1.png: 5.449511184686123\n",
      "Image NGP_MRL2.png: 6.443267098046704\n",
      "Image NGP_MEA2.png: 6.750726358438469\n",
      "Image NGP_SCH2.png: 1.625885762540721\n",
      "Image NGP_KNN2.png: 6.687811251913753\n",
      "Image NGP_GAU1.png: 6.841573317953387\n",
      "Image MAX4.png: 7.292019570747268\n",
      "Image SOL_.png: 6.307663926246242\n",
      "Image NGP_BTM2.png: 2.9937403268915954\n",
      "Image NGP_CLO1.png: 6.858014627603297\n",
      "Image NGP_BTM1.png: 2.239188413995345\n",
      "Image NGP_NML1.png: 4.957925451521519\n",
      "Image ROB4.png: 4.723461093145853\n",
      "Image NGP_NML3.png: 6.338589438505344\n",
      "Image EMB3.png: 6.787743487519482\n",
      "Image NGP_SOL_.png: 6.307663926246242\n",
      "Image TOP4.png: 1.9022399685770717\n",
      "Image STC2.png: 6.170199038700266\n",
      "Image NGP_SBL1.png: 3.5245262155452823\n",
      "Image BTM1.png: 2.41024114057917\n",
      "Image NGP_MIN1.png: 6.638632753215939\n",
      "Image UNS4.png: 7.3655300859616775\n",
      "Image NGP_LBP1.png: 5.4495111846861235\n",
      "Image NGP_TOP3.png: 1.7958684793799913\n",
      "Image NGP_MRL1.png: 6.679337307720217\n",
      "Image NGP_STC1.png: 6.169941560527051\n",
      "Image NGP_ERO1.png: 6.459878536818851\n",
      "Image NGP_MEA1.png: 6.660781954195182\n",
      "Image NGP_POS3.png: 4.526692656870953\n",
      "Image TOP1.png: 2.4694583057802433\n",
      "Image NML1.png: 5.183811412008961\n",
      "Image SBLX.png: 3.4227173288845503\n",
      "Image ROB2.png: 7.556119798569452\n",
      "Image NGP_ERO2.png: 6.663923854171124\n",
      "Image POS2.png: 4.017151047532767\n",
      "Image NGP_RIC_.png: 6.865127575325203\n",
      "Image NGP_SCH3.png: 4.9778196438828175\n",
      "Image SBL4.png: 4.1036830109906335\n",
      "Image BTM2.png: 3.1914470624816644\n",
      "Image NGP_UNS4.png: 6.814640330556516\n",
      "Image NGP_CAN3.png: 0.13394503969707514\n",
      "Image NGP_UNS2.png: 6.839783113141734\n",
      "Image NGP_LPL1.png: 2.7526476822682517\n",
      "Image GAU1.png: 6.841573317953387\n",
      "Image MED2.png: 6.648769336938556\n",
      "Image NGP_OPN1.png: 6.627936439102405\n",
      "Image NGP_LPL2.png: 3.263251882688989\n",
      "Image NGP_HOM_.png: 5.0308002616523435\n",
      "Image MRG1.png: 5.203992237367645\n",
      "Image NGP_MRG1.png: 4.948400077348077\n",
      "Image NGP_CLO5.png: 6.83433917729103\n",
      "Image NGP_SBLX.png: 3.2262078102554135\n",
      "Image NGP_NGP_.png: 6.793874372312527\n",
      "Image NGP_ETC2.png: 5.993237607551206\n",
      "Image NGP_MIN4.png: 6.398028668042429\n",
      "Image NGP_MED2.png: 6.648769336938556\n",
      "Image OPN5.png: 7.085456376465261\n",
      "Image NGP_CLO3.png: 6.835331163982381\n",
      "Image CAN1.png: 0.4145905832167717\n",
      "Image UNS1.png: 7.394229773568327\n",
      "Image CLO2.png: 7.374750799905895\n",
      "Image SBLD.png: 2.9028669448247486\n",
      "Image SBL3.png: 3.729897819052307\n",
      "Image ERO4.png: 7.084480204876694\n",
      "Image NGP_PRE2.png: 6.1123154098565715\n",
      "Image LBP2.png: 6.174709058038224\n",
      "Image NGP_MRG2.png: 5.639317073721633\n",
      "Image EMB2.png: 6.468286890319345\n",
      "Image GAU2.png: 6.752956774606598\n",
      "Image MRL4.png: 6.243228233238621\n",
      "Image ERO1.png: 7.115504029008715\n",
      "Image NGP_SBLY.png: 3.53003554151486\n",
      "Image MEA2.png: 6.750726358438469\n",
      "Image KNN2.png: 6.687811251913752\n",
      "Image NGP_MAX2.png: 6.869491275581751\n",
      "Image PRE3.png: 6.826665509817802\n",
      "Image OPN1.png: 7.100225694717389\n",
      "Image NGP_SCH4.png: 3.306804156820811\n",
      "Image MRG4.png: 6.447166120015436\n",
      "Image NGP_LBP2.png: 6.174709058038224\n",
      "Image OPN4.png: 7.085982369164218\n",
      "Image PRE1.png: 6.085383427597811\n",
      "Image MRG2.png: 5.898806746041283\n",
      "Image NGP_GRY_.png: 6.793874372312525\n",
      "Image ETC2.png: 5.993237607551208\n",
      "Image MRL1.png: 7.301509078658401\n",
      "Image NGP_SBL4.png: 3.8839270924425904\n",
      "Image NGP_PRE4.png: 4.849735473071956\n",
      "Image DST_.png: 7.7414463729332015\n",
      "Image MIN1.png: 7.137898515926272\n",
      "Image NGP_EMB1.png: 6.6469272580917\n",
      "Image NGP_ROB4.png: 4.473970378274368\n",
      "Image NGP_BTM4.png: 3.667035910632471\n",
      "Image NGP_FOU3.png: 4.663293313834066\n",
      "Image NGP_BTM3.png: 3.39947157617032\n",
      "Image NGP_OPN4.png: 6.60092286865603\n",
      "Image NGP_FOU2.png: 4.175400654719088\n",
      "Image NGP_DST_.png: 7.574390957800185\n",
      "['BLT1.png', 6.70508611129643]\n",
      "['BLT2.png', 6.610121579795428]\n",
      "['BTM1.png', 2.41024114057917]\n",
      "['BTM2.png', 3.1914470624816644]\n",
      "['BTM3.png', 3.6295390658990154]\n",
      "['BTM4.png', 3.925165532593152]\n",
      "['CAN1.png', 0.4145905832167717]\n",
      "['CAN2.png', 0.23847046414123302]\n",
      "['CAN3.png', 0.13394503969707514]\n",
      "['CLO1.png', 7.401400360190841]\n",
      "['CLO2.png', 7.374750799905895]\n",
      "['CLO3.png', 7.3857672979537785]\n",
      "['CLO4.png', 7.39585122924409]\n",
      "['CLO5.png', 7.379603966734413]\n",
      "['DST_.png', 7.7414463729332015]\n",
      "['EMB1.png', 6.6469272580917]\n",
      "['EMB2.png', 6.468286890319345]\n",
      "['EMB3.png', 6.787743487519482]\n",
      "['ERO1.png', 7.115504029008715]\n",
      "['ERO2.png', 7.153257930399487]\n",
      "['ERO3.png', 7.059573821275573]\n",
      "['ERO4.png', 7.084480204876694]\n",
      "['ERO5.png', 7.128254375841717]\n",
      "['ERO6.png', 6.894235548529462]\n",
      "['ETC1.png', 6.805491460903105]\n",
      "['ETC2.png', 5.993237607551208]\n",
      "['FOU1.png', 7.446914702868908]\n",
      "['FOU2.png', 4.296267270369197]\n",
      "['FOU3.png', 4.868531668380437]\n",
      "['FOU4.png', 7.38559112000371]\n",
      "['GAU1.png', 6.841573317953387]\n",
      "['GAU2.png', 6.752956774606598]\n",
      "['GRY_.png', 7.338526622996176]\n",
      "['HGF_.png', 6.889870740377425]\n",
      "['HOM_.png', 5.339385758054107]\n",
      "['KNN1.png', 6.709477664789597]\n",
      "['KNN2.png', 6.687811251913752]\n",
      "['LBP1.png', 5.449511184686123]\n",
      "['LBP2.png', 6.174709058038224]\n",
      "['LBP3.png', 6.111316172498542]\n",
      "['LPL1.png', 2.872311764400885]\n",
      "['LPL2.png', 3.4517066552151223]\n",
      "['MAX1.png', 7.454538199846116]\n",
      "['MAX2.png', 7.422457547063153]\n",
      "['MAX3.png', 7.357029843315852]\n",
      "['MAX4.png', 7.292019570747268]\n",
      "['MEA1.png', 6.660781954195182]\n",
      "['MEA2.png', 6.750726358438469]\n",
      "['MED1.png', 6.712491833008461]\n",
      "['MED2.png', 6.648769336938556]\n",
      "['MIN1.png', 7.137898515926272]\n",
      "['MIN2.png', 7.084480204876694]\n",
      "['MIN3.png', 7.006707288089797]\n",
      "['MIN4.png', 6.940731141375947]\n",
      "['MRG1.png', 5.203992237367645]\n",
      "['MRG2.png', 5.898806746041283]\n",
      "['MRG3.png', 6.23456889481696]\n",
      "['MRG4.png', 6.447166120015436]\n",
      "['MRL1.png', 7.301509078658401]\n",
      "['MRL2.png', 7.039762954343406]\n",
      "['MRL3.png', 6.652578712750503]\n",
      "['MRL4.png', 6.243228233238621]\n",
      "['NGP_.png', 6.793874372312525]\n",
      "['NGP_BLT1.png', 6.70508611129643]\n",
      "['NGP_BLT2.png', 6.610121579795428]\n",
      "['NGP_BTM1.png', 2.239188413995345]\n",
      "['NGP_BTM2.png', 2.9937403268915954]\n",
      "['NGP_BTM3.png', 3.39947157617032]\n",
      "['NGP_BTM4.png', 3.667035910632471]\n",
      "['NGP_CAN1.png', 0.4145905832167717]\n",
      "['NGP_CAN2.png', 0.23847046414123302]\n",
      "['NGP_CAN3.png', 0.13394503969707514]\n",
      "['NGP_CLO1.png', 6.858014627603297]\n",
      "['NGP_CLO2.png', 6.836789468309482]\n",
      "['NGP_CLO3.png', 6.835331163982381]\n",
      "['NGP_CLO4.png', 6.893690943052699]\n",
      "['NGP_CLO5.png', 6.83433917729103]\n",
      "['NGP_DST_.png', 7.574390957800185]\n",
      "['NGP_EMB1.png', 6.6469272580917]\n",
      "['NGP_EMB2.png', 6.468286890319345]\n",
      "['NGP_EMB3.png', 6.78774348751948]\n",
      "['NGP_ERO1.png', 6.459878536818851]\n",
      "['NGP_ERO2.png', 6.663923854171124]\n",
      "['NGP_ERO3.png', 6.435232454613376]\n",
      "['NGP_ERO4.png', 6.587419889041815]\n",
      "['NGP_ERO5.png', 6.6256029463646255]\n",
      "['NGP_ERO6.png', 6.330860972329338]\n",
      "['NGP_ETC1.png', 6.805491460903105]\n",
      "['NGP_ETC2.png', 5.993237607551206]\n",
      "['NGP_FOU1.png', 7.099245803373032]\n",
      "['NGP_FOU2.png', 4.175400654719088]\n",
      "['NGP_FOU3.png', 4.663293313834066]\n",
      "['NGP_FOU4.png', 6.841028244615804]\n",
      "['NGP_GAU1.png', 6.841573317953387]\n",
      "['NGP_GAU2.png', 6.752956774606599]\n",
      "['NGP_GRY_.png', 6.793874372312525]\n",
      "['NGP_HGF_.png', 6.889870740377424]\n",
      "['NGP_HOM_.png', 5.0308002616523435]\n",
      "['NGP_KNN1.png', 6.709477664789597]\n",
      "['NGP_KNN2.png', 6.687811251913753]\n",
      "['NGP_LBP1.png', 5.4495111846861235]\n",
      "['NGP_LBP2.png', 6.174709058038224]\n",
      "['NGP_LBP3.png', 6.11131617249854]\n",
      "['NGP_LPL1.png', 2.7526476822682517]\n",
      "['NGP_LPL2.png', 3.263251882688989]\n",
      "['NGP_MAX1.png', 6.974291757716667]\n",
      "['NGP_MAX2.png', 6.869491275581751]\n",
      "['NGP_MAX3.png', 6.904572874678482]\n",
      "['NGP_MAX4.png', 6.708757413770339]\n",
      "['NGP_MEA1.png', 6.660781954195182]\n",
      "['NGP_MEA2.png', 6.750726358438469]\n",
      "['NGP_MED1.png', 6.712491833008461]\n",
      "['NGP_MED2.png', 6.648769336938556]\n",
      "['NGP_MIN1.png', 6.638632753215939]\n",
      "['NGP_MIN2.png', 6.587419889041815]\n",
      "['NGP_MIN3.png', 6.467177530474136]\n",
      "['NGP_MIN4.png', 6.398028668042429]\n",
      "['NGP_MRG1.png', 4.948400077348077]\n",
      "['NGP_MRG2.png', 5.639317073721633]\n",
      "['NGP_MRG3.png', 5.984532399678184]\n",
      "['NGP_MRG4.png', 6.210490210243545]\n",
      "['NGP_MRL1.png', 6.679337307720217]\n",
      "['NGP_MRL2.png', 6.443267098046704]\n",
      "['NGP_MRL3.png', 6.107129011117322]\n",
      "['NGP_MRL4.png', 5.753193731546697]\n",
      "['NGP_NGP_.png', 6.793874372312527]\n",
      "['NGP_NML1.png', 4.957925451521519]\n",
      "['NGP_NML2.png', 6.793874372312525]\n",
      "['NGP_NML3.png', 6.338589438505344]\n",
      "['NGP_OOO_.png', 0.0]\n",
      "['NGP_OPN1.png', 6.627936439102405]\n",
      "['NGP_OPN2.png', 6.551321674499588]\n",
      "['NGP_OPN3.png', 6.624267521460037]\n",
      "['NGP_OPN4.png', 6.60092286865603]\n",
      "['NGP_OPN5.png', 6.549878318245632]\n",
      "['NGP_POS1.png', 3.126357993305486]\n",
      "['NGP_POS2.png', 4.017151047532767]\n",
      "['NGP_POS3.png', 4.526692656870953]\n",
      "['NGP_PRE1.png', 5.752089816684475]\n",
      "['NGP_PRE2.png', 6.1123154098565715]\n",
      "['NGP_PRE3.png', 6.491245953877877]\n",
      "['NGP_PRE4.png', 4.849735473071956]\n",
      "['NGP_RIC_.png', 6.865127575325203]\n",
      "['NGP_ROB1.png', 4.212457518624569]\n",
      "['NGP_ROB2.png', 6.988719660614358]\n",
      "['NGP_ROB3.png', 4.489555572195609]\n",
      "['NGP_ROB4.png', 4.473970378274368]\n",
      "['NGP_SBL1.png', 3.5245262155452823]\n",
      "['NGP_SBL2.png', 3.871237742496289]\n",
      "['NGP_SBL3.png', 3.5009190038677227]\n",
      "['NGP_SBL4.png', 3.8839270924425904]\n",
      "['NGP_SBLD.png', 2.9028669448247486]\n",
      "['NGP_SBLM.png', 5.167214202669761]\n",
      "['NGP_SBLX.png', 3.2262078102554135]\n",
      "['NGP_SBLY.png', 3.53003554151486]\n",
      "['NGP_SCH1.png', 6.477157711215532]\n",
      "['NGP_SCH2.png', 1.625885762540721]\n",
      "['NGP_SCH3.png', 4.9778196438828175]\n",
      "['NGP_SCH4.png', 3.306804156820811]\n",
      "['NGP_SOL_.png', 6.307663926246242]\n",
      "['NGP_STC1.png', 6.169941560527051]\n",
      "['NGP_STC2.png', 6.170199038700267]\n",
      "['NGP_TOP1.png', 2.3321776788205706]\n",
      "['NGP_TOP2.png', 2.8448347644636915]\n",
      "['NGP_TOP3.png', 1.7958684793799913]\n",
      "['NGP_TOP4.png', 1.7540431098052003]\n",
      "['NGP_UNS1.png', 6.839221654004831]\n",
      "['NGP_UNS2.png', 6.839783113141734]\n",
      "['NGP_UNS3.png', 6.884557169422]\n",
      "['NGP_UNS4.png', 6.814640330556516]\n",
      "['NGP_UNS5.png', 6.940609485360445]\n",
      "['NML1.png', 5.183811412008961]\n",
      "['NML2.png', 6.793874372312527]\n",
      "['NML3.png', 6.338589438505344]\n",
      "['OOO_.png', 0.0]\n",
      "['OPN1.png', 7.100225694717389]\n",
      "['OPN2.png', 7.111668744313981]\n",
      "['OPN3.png', 7.101127890258322]\n",
      "['OPN4.png', 7.085982369164218]\n",
      "['OPN5.png', 7.085456376465261]\n",
      "['POS1.png', 3.126357993305486]\n",
      "['POS2.png', 4.017151047532767]\n",
      "['POS3.png', 4.526692656870953]\n",
      "['PRE1.png', 6.085383427597811]\n",
      "['PRE2.png', 6.465988422025743]\n",
      "['PRE3.png', 6.826665509817802]\n",
      "['PRE4.png', 5.127028021261741]\n",
      "['RIC_.png', 7.367772734996139]\n",
      "['ROB1.png', 4.443734134581977]\n",
      "['ROB2.png', 7.556119798569452]\n",
      "['ROB3.png', 4.737933200508123]\n",
      "['ROB4.png', 4.723461093145853]\n",
      "['SBL1.png', 3.7517138347636116]\n",
      "['SBL2.png', 4.093367124514723]\n",
      "['SBL3.png', 3.729897819052307]\n",
      "['SBL4.png', 4.1036830109906335]\n",
      "['SBLD.png', 2.9028669448247486]\n",
      "['SBLM.png', 5.387807095491026]\n",
      "['SBLX.png', 3.4227173288845503]\n",
      "['SBLY.png', 3.7348159610962037]\n",
      "['SCH1.png', 6.928740992833101]\n",
      "['SCH2.png', 1.8155930524125743]\n",
      "['SCH3.png', 5.264494570898567]\n",
      "['SCH4.png', 3.574066575580248]\n",
      "['SOL_.png', 6.307663926246242]\n",
      "['STC1.png', 6.169941560527051]\n",
      "['STC2.png', 6.170199038700266]\n",
      "['TOP1.png', 2.4694583057802433]\n",
      "['TOP2.png', 2.968155559671456]\n",
      "['TOP3.png', 1.9071572570633706]\n",
      "['TOP4.png', 1.9022399685770717]\n",
      "['UNS1.png', 7.394229773568327]\n",
      "['UNS2.png', 7.393316361522089]\n",
      "['UNS3.png', 7.402762452717164]\n",
      "['UNS4.png', 7.3655300859616775]\n",
      "['UNS5.png', 7.473859492682894]\n"
     ]
    },
    {
     "data": {
      "application/vnd.plotly.v1+json": {
       "config": {
        "plotlyServerURL": "https://plot.ly"
       },
       "data": [
        {
         "hovertemplate": "Image Name=%{x}<br>Entropy=%{y}<extra></extra>",
         "legendgroup": "",
         "marker": {
          "color": "#636efa",
          "symbol": "circle"
         },
         "mode": "markers",
         "name": "",
         "orientation": "v",
         "showlegend": false,
         "type": "scatter",
         "x": [
          "BLT1.png",
          "BLT2.png",
          "BTM1.png",
          "BTM2.png",
          "BTM3.png",
          "BTM4.png",
          "CAN1.png",
          "CAN2.png",
          "CAN3.png",
          "CLO1.png",
          "CLO2.png",
          "CLO3.png",
          "CLO4.png",
          "CLO5.png",
          "DST_.png",
          "EMB1.png",
          "EMB2.png",
          "EMB3.png",
          "ERO1.png",
          "ERO2.png",
          "ERO3.png",
          "ERO4.png",
          "ERO5.png",
          "ERO6.png",
          "ETC1.png",
          "ETC2.png",
          "FOU1.png",
          "FOU2.png",
          "FOU3.png",
          "FOU4.png",
          "GAU1.png",
          "GAU2.png",
          "GRY_.png",
          "HGF_.png",
          "HOM_.png",
          "KNN1.png",
          "KNN2.png",
          "LBP1.png",
          "LBP2.png",
          "LBP3.png",
          "LPL1.png",
          "LPL2.png",
          "MAX1.png",
          "MAX2.png",
          "MAX3.png",
          "MAX4.png",
          "MEA1.png",
          "MEA2.png",
          "MED1.png",
          "MED2.png",
          "MIN1.png",
          "MIN2.png",
          "MIN3.png",
          "MIN4.png",
          "MRG1.png",
          "MRG2.png",
          "MRG3.png",
          "MRG4.png",
          "MRL1.png",
          "MRL2.png",
          "MRL3.png",
          "MRL4.png",
          "NGP_.png",
          "NGP_BLT1.png",
          "NGP_BLT2.png",
          "NGP_BTM1.png",
          "NGP_BTM2.png",
          "NGP_BTM3.png",
          "NGP_BTM4.png",
          "NGP_CAN1.png",
          "NGP_CAN2.png",
          "NGP_CAN3.png",
          "NGP_CLO1.png",
          "NGP_CLO2.png",
          "NGP_CLO3.png",
          "NGP_CLO4.png",
          "NGP_CLO5.png",
          "NGP_DST_.png",
          "NGP_EMB1.png",
          "NGP_EMB2.png",
          "NGP_EMB3.png",
          "NGP_ERO1.png",
          "NGP_ERO2.png",
          "NGP_ERO3.png",
          "NGP_ERO4.png",
          "NGP_ERO5.png",
          "NGP_ERO6.png",
          "NGP_ETC1.png",
          "NGP_ETC2.png",
          "NGP_FOU1.png",
          "NGP_FOU2.png",
          "NGP_FOU3.png",
          "NGP_FOU4.png",
          "NGP_GAU1.png",
          "NGP_GAU2.png",
          "NGP_GRY_.png",
          "NGP_HGF_.png",
          "NGP_HOM_.png",
          "NGP_KNN1.png",
          "NGP_KNN2.png",
          "NGP_LBP1.png",
          "NGP_LBP2.png",
          "NGP_LBP3.png",
          "NGP_LPL1.png",
          "NGP_LPL2.png",
          "NGP_MAX1.png",
          "NGP_MAX2.png",
          "NGP_MAX3.png",
          "NGP_MAX4.png",
          "NGP_MEA1.png",
          "NGP_MEA2.png",
          "NGP_MED1.png",
          "NGP_MED2.png",
          "NGP_MIN1.png",
          "NGP_MIN2.png",
          "NGP_MIN3.png",
          "NGP_MIN4.png",
          "NGP_MRG1.png",
          "NGP_MRG2.png",
          "NGP_MRG3.png",
          "NGP_MRG4.png",
          "NGP_MRL1.png",
          "NGP_MRL2.png",
          "NGP_MRL3.png",
          "NGP_MRL4.png",
          "NGP_NGP_.png",
          "NGP_NML1.png",
          "NGP_NML2.png",
          "NGP_NML3.png",
          "NGP_OOO_.png",
          "NGP_OPN1.png",
          "NGP_OPN2.png",
          "NGP_OPN3.png",
          "NGP_OPN4.png",
          "NGP_OPN5.png",
          "NGP_POS1.png",
          "NGP_POS2.png",
          "NGP_POS3.png",
          "NGP_PRE1.png",
          "NGP_PRE2.png",
          "NGP_PRE3.png",
          "NGP_PRE4.png",
          "NGP_RIC_.png",
          "NGP_ROB1.png",
          "NGP_ROB2.png",
          "NGP_ROB3.png",
          "NGP_ROB4.png",
          "NGP_SBL1.png",
          "NGP_SBL2.png",
          "NGP_SBL3.png",
          "NGP_SBL4.png",
          "NGP_SBLD.png",
          "NGP_SBLM.png",
          "NGP_SBLX.png",
          "NGP_SBLY.png",
          "NGP_SCH1.png",
          "NGP_SCH2.png",
          "NGP_SCH3.png",
          "NGP_SCH4.png",
          "NGP_SOL_.png",
          "NGP_STC1.png",
          "NGP_STC2.png",
          "NGP_TOP1.png",
          "NGP_TOP2.png",
          "NGP_TOP3.png",
          "NGP_TOP4.png",
          "NGP_UNS1.png",
          "NGP_UNS2.png",
          "NGP_UNS3.png",
          "NGP_UNS4.png",
          "NGP_UNS5.png",
          "NML1.png",
          "NML2.png",
          "NML3.png",
          "OOO_.png",
          "OPN1.png",
          "OPN2.png",
          "OPN3.png",
          "OPN4.png",
          "OPN5.png",
          "POS1.png",
          "POS2.png",
          "POS3.png",
          "PRE1.png",
          "PRE2.png",
          "PRE3.png",
          "PRE4.png",
          "RIC_.png",
          "ROB1.png",
          "ROB2.png",
          "ROB3.png",
          "ROB4.png",
          "SBL1.png",
          "SBL2.png",
          "SBL3.png",
          "SBL4.png",
          "SBLD.png",
          "SBLM.png",
          "SBLX.png",
          "SBLY.png",
          "SCH1.png",
          "SCH2.png",
          "SCH3.png",
          "SCH4.png",
          "SOL_.png",
          "STC1.png",
          "STC2.png",
          "TOP1.png",
          "TOP2.png",
          "TOP3.png",
          "TOP4.png",
          "UNS1.png",
          "UNS2.png",
          "UNS3.png",
          "UNS4.png",
          "UNS5.png"
         ],
         "xaxis": "x",
         "y": [
          6.70508611129643,
          6.610121579795428,
          2.41024114057917,
          3.1914470624816644,
          3.6295390658990154,
          3.925165532593152,
          0.4145905832167717,
          0.23847046414123302,
          0.13394503969707514,
          7.401400360190841,
          7.374750799905895,
          7.3857672979537785,
          7.39585122924409,
          7.379603966734413,
          7.7414463729332015,
          6.6469272580917,
          6.468286890319345,
          6.787743487519482,
          7.115504029008715,
          7.153257930399487,
          7.059573821275573,
          7.084480204876694,
          7.128254375841717,
          6.894235548529462,
          6.805491460903105,
          5.993237607551208,
          7.446914702868908,
          4.296267270369197,
          4.868531668380437,
          7.38559112000371,
          6.841573317953387,
          6.752956774606598,
          7.338526622996176,
          6.889870740377425,
          5.339385758054107,
          6.709477664789597,
          6.687811251913752,
          5.449511184686123,
          6.174709058038224,
          6.111316172498542,
          2.872311764400885,
          3.4517066552151223,
          7.454538199846116,
          7.422457547063153,
          7.357029843315852,
          7.292019570747268,
          6.660781954195182,
          6.750726358438469,
          6.712491833008461,
          6.648769336938556,
          7.137898515926272,
          7.084480204876694,
          7.006707288089797,
          6.940731141375947,
          5.203992237367645,
          5.898806746041283,
          6.23456889481696,
          6.447166120015436,
          7.301509078658401,
          7.039762954343406,
          6.652578712750503,
          6.243228233238621,
          6.793874372312525,
          6.70508611129643,
          6.610121579795428,
          2.239188413995345,
          2.9937403268915954,
          3.39947157617032,
          3.667035910632471,
          0.4145905832167717,
          0.23847046414123302,
          0.13394503969707514,
          6.858014627603297,
          6.836789468309482,
          6.835331163982381,
          6.893690943052699,
          6.83433917729103,
          7.574390957800185,
          6.6469272580917,
          6.468286890319345,
          6.78774348751948,
          6.459878536818851,
          6.663923854171124,
          6.435232454613376,
          6.587419889041815,
          6.6256029463646255,
          6.330860972329338,
          6.805491460903105,
          5.993237607551206,
          7.099245803373032,
          4.175400654719088,
          4.663293313834066,
          6.841028244615804,
          6.841573317953387,
          6.752956774606599,
          6.793874372312525,
          6.889870740377424,
          5.0308002616523435,
          6.709477664789597,
          6.687811251913753,
          5.4495111846861235,
          6.174709058038224,
          6.11131617249854,
          2.7526476822682517,
          3.263251882688989,
          6.974291757716667,
          6.869491275581751,
          6.904572874678482,
          6.708757413770339,
          6.660781954195182,
          6.750726358438469,
          6.712491833008461,
          6.648769336938556,
          6.638632753215939,
          6.587419889041815,
          6.467177530474136,
          6.398028668042429,
          4.948400077348077,
          5.639317073721633,
          5.984532399678184,
          6.210490210243545,
          6.679337307720217,
          6.443267098046704,
          6.107129011117322,
          5.753193731546697,
          6.793874372312527,
          4.957925451521519,
          6.793874372312525,
          6.338589438505344,
          0,
          6.627936439102405,
          6.551321674499588,
          6.624267521460037,
          6.60092286865603,
          6.549878318245632,
          3.126357993305486,
          4.017151047532767,
          4.526692656870953,
          5.752089816684475,
          6.1123154098565715,
          6.491245953877877,
          4.849735473071956,
          6.865127575325203,
          4.212457518624569,
          6.988719660614358,
          4.489555572195609,
          4.473970378274368,
          3.5245262155452823,
          3.871237742496289,
          3.5009190038677227,
          3.8839270924425904,
          2.9028669448247486,
          5.167214202669761,
          3.2262078102554135,
          3.53003554151486,
          6.477157711215532,
          1.625885762540721,
          4.9778196438828175,
          3.306804156820811,
          6.307663926246242,
          6.169941560527051,
          6.170199038700267,
          2.3321776788205706,
          2.8448347644636915,
          1.7958684793799913,
          1.7540431098052003,
          6.839221654004831,
          6.839783113141734,
          6.884557169422,
          6.814640330556516,
          6.940609485360445,
          5.183811412008961,
          6.793874372312527,
          6.338589438505344,
          0,
          7.100225694717389,
          7.111668744313981,
          7.101127890258322,
          7.085982369164218,
          7.085456376465261,
          3.126357993305486,
          4.017151047532767,
          4.526692656870953,
          6.085383427597811,
          6.465988422025743,
          6.826665509817802,
          5.127028021261741,
          7.367772734996139,
          4.443734134581977,
          7.556119798569452,
          4.737933200508123,
          4.723461093145853,
          3.7517138347636116,
          4.093367124514723,
          3.729897819052307,
          4.1036830109906335,
          2.9028669448247486,
          5.387807095491026,
          3.4227173288845503,
          3.7348159610962037,
          6.928740992833101,
          1.8155930524125743,
          5.264494570898567,
          3.574066575580248,
          6.307663926246242,
          6.169941560527051,
          6.170199038700266,
          2.4694583057802433,
          2.968155559671456,
          1.9071572570633706,
          1.9022399685770717,
          7.394229773568327,
          7.393316361522089,
          7.402762452717164,
          7.3655300859616775,
          7.473859492682894
         ],
         "yaxis": "y"
        }
       ],
       "layout": {
        "legend": {
         "tracegroupgap": 0
        },
        "template": {
         "data": {
          "bar": [
           {
            "error_x": {
             "color": "#2a3f5f"
            },
            "error_y": {
             "color": "#2a3f5f"
            },
            "marker": {
             "line": {
              "color": "#E5ECF6",
              "width": 0.5
             },
             "pattern": {
              "fillmode": "overlay",
              "size": 10,
              "solidity": 0.2
             }
            },
            "type": "bar"
           }
          ],
          "barpolar": [
           {
            "marker": {
             "line": {
              "color": "#E5ECF6",
              "width": 0.5
             },
             "pattern": {
              "fillmode": "overlay",
              "size": 10,
              "solidity": 0.2
             }
            },
            "type": "barpolar"
           }
          ],
          "carpet": [
           {
            "aaxis": {
             "endlinecolor": "#2a3f5f",
             "gridcolor": "white",
             "linecolor": "white",
             "minorgridcolor": "white",
             "startlinecolor": "#2a3f5f"
            },
            "baxis": {
             "endlinecolor": "#2a3f5f",
             "gridcolor": "white",
             "linecolor": "white",
             "minorgridcolor": "white",
             "startlinecolor": "#2a3f5f"
            },
            "type": "carpet"
           }
          ],
          "choropleth": [
           {
            "colorbar": {
             "outlinewidth": 0,
             "ticks": ""
            },
            "type": "choropleth"
           }
          ],
          "contour": [
           {
            "colorbar": {
             "outlinewidth": 0,
             "ticks": ""
            },
            "colorscale": [
             [
              0,
              "#0d0887"
             ],
             [
              0.1111111111111111,
              "#46039f"
             ],
             [
              0.2222222222222222,
              "#7201a8"
             ],
             [
              0.3333333333333333,
              "#9c179e"
             ],
             [
              0.4444444444444444,
              "#bd3786"
             ],
             [
              0.5555555555555556,
              "#d8576b"
             ],
             [
              0.6666666666666666,
              "#ed7953"
             ],
             [
              0.7777777777777778,
              "#fb9f3a"
             ],
             [
              0.8888888888888888,
              "#fdca26"
             ],
             [
              1,
              "#f0f921"
             ]
            ],
            "type": "contour"
           }
          ],
          "contourcarpet": [
           {
            "colorbar": {
             "outlinewidth": 0,
             "ticks": ""
            },
            "type": "contourcarpet"
           }
          ],
          "heatmap": [
           {
            "colorbar": {
             "outlinewidth": 0,
             "ticks": ""
            },
            "colorscale": [
             [
              0,
              "#0d0887"
             ],
             [
              0.1111111111111111,
              "#46039f"
             ],
             [
              0.2222222222222222,
              "#7201a8"
             ],
             [
              0.3333333333333333,
              "#9c179e"
             ],
             [
              0.4444444444444444,
              "#bd3786"
             ],
             [
              0.5555555555555556,
              "#d8576b"
             ],
             [
              0.6666666666666666,
              "#ed7953"
             ],
             [
              0.7777777777777778,
              "#fb9f3a"
             ],
             [
              0.8888888888888888,
              "#fdca26"
             ],
             [
              1,
              "#f0f921"
             ]
            ],
            "type": "heatmap"
           }
          ],
          "heatmapgl": [
           {
            "colorbar": {
             "outlinewidth": 0,
             "ticks": ""
            },
            "colorscale": [
             [
              0,
              "#0d0887"
             ],
             [
              0.1111111111111111,
              "#46039f"
             ],
             [
              0.2222222222222222,
              "#7201a8"
             ],
             [
              0.3333333333333333,
              "#9c179e"
             ],
             [
              0.4444444444444444,
              "#bd3786"
             ],
             [
              0.5555555555555556,
              "#d8576b"
             ],
             [
              0.6666666666666666,
              "#ed7953"
             ],
             [
              0.7777777777777778,
              "#fb9f3a"
             ],
             [
              0.8888888888888888,
              "#fdca26"
             ],
             [
              1,
              "#f0f921"
             ]
            ],
            "type": "heatmapgl"
           }
          ],
          "histogram": [
           {
            "marker": {
             "pattern": {
              "fillmode": "overlay",
              "size": 10,
              "solidity": 0.2
             }
            },
            "type": "histogram"
           }
          ],
          "histogram2d": [
           {
            "colorbar": {
             "outlinewidth": 0,
             "ticks": ""
            },
            "colorscale": [
             [
              0,
              "#0d0887"
             ],
             [
              0.1111111111111111,
              "#46039f"
             ],
             [
              0.2222222222222222,
              "#7201a8"
             ],
             [
              0.3333333333333333,
              "#9c179e"
             ],
             [
              0.4444444444444444,
              "#bd3786"
             ],
             [
              0.5555555555555556,
              "#d8576b"
             ],
             [
              0.6666666666666666,
              "#ed7953"
             ],
             [
              0.7777777777777778,
              "#fb9f3a"
             ],
             [
              0.8888888888888888,
              "#fdca26"
             ],
             [
              1,
              "#f0f921"
             ]
            ],
            "type": "histogram2d"
           }
          ],
          "histogram2dcontour": [
           {
            "colorbar": {
             "outlinewidth": 0,
             "ticks": ""
            },
            "colorscale": [
             [
              0,
              "#0d0887"
             ],
             [
              0.1111111111111111,
              "#46039f"
             ],
             [
              0.2222222222222222,
              "#7201a8"
             ],
             [
              0.3333333333333333,
              "#9c179e"
             ],
             [
              0.4444444444444444,
              "#bd3786"
             ],
             [
              0.5555555555555556,
              "#d8576b"
             ],
             [
              0.6666666666666666,
              "#ed7953"
             ],
             [
              0.7777777777777778,
              "#fb9f3a"
             ],
             [
              0.8888888888888888,
              "#fdca26"
             ],
             [
              1,
              "#f0f921"
             ]
            ],
            "type": "histogram2dcontour"
           }
          ],
          "mesh3d": [
           {
            "colorbar": {
             "outlinewidth": 0,
             "ticks": ""
            },
            "type": "mesh3d"
           }
          ],
          "parcoords": [
           {
            "line": {
             "colorbar": {
              "outlinewidth": 0,
              "ticks": ""
             }
            },
            "type": "parcoords"
           }
          ],
          "pie": [
           {
            "automargin": true,
            "type": "pie"
           }
          ],
          "scatter": [
           {
            "fillpattern": {
             "fillmode": "overlay",
             "size": 10,
             "solidity": 0.2
            },
            "type": "scatter"
           }
          ],
          "scatter3d": [
           {
            "line": {
             "colorbar": {
              "outlinewidth": 0,
              "ticks": ""
             }
            },
            "marker": {
             "colorbar": {
              "outlinewidth": 0,
              "ticks": ""
             }
            },
            "type": "scatter3d"
           }
          ],
          "scattercarpet": [
           {
            "marker": {
             "colorbar": {
              "outlinewidth": 0,
              "ticks": ""
             }
            },
            "type": "scattercarpet"
           }
          ],
          "scattergeo": [
           {
            "marker": {
             "colorbar": {
              "outlinewidth": 0,
              "ticks": ""
             }
            },
            "type": "scattergeo"
           }
          ],
          "scattergl": [
           {
            "marker": {
             "colorbar": {
              "outlinewidth": 0,
              "ticks": ""
             }
            },
            "type": "scattergl"
           }
          ],
          "scattermapbox": [
           {
            "marker": {
             "colorbar": {
              "outlinewidth": 0,
              "ticks": ""
             }
            },
            "type": "scattermapbox"
           }
          ],
          "scatterpolar": [
           {
            "marker": {
             "colorbar": {
              "outlinewidth": 0,
              "ticks": ""
             }
            },
            "type": "scatterpolar"
           }
          ],
          "scatterpolargl": [
           {
            "marker": {
             "colorbar": {
              "outlinewidth": 0,
              "ticks": ""
             }
            },
            "type": "scatterpolargl"
           }
          ],
          "scatterternary": [
           {
            "marker": {
             "colorbar": {
              "outlinewidth": 0,
              "ticks": ""
             }
            },
            "type": "scatterternary"
           }
          ],
          "surface": [
           {
            "colorbar": {
             "outlinewidth": 0,
             "ticks": ""
            },
            "colorscale": [
             [
              0,
              "#0d0887"
             ],
             [
              0.1111111111111111,
              "#46039f"
             ],
             [
              0.2222222222222222,
              "#7201a8"
             ],
             [
              0.3333333333333333,
              "#9c179e"
             ],
             [
              0.4444444444444444,
              "#bd3786"
             ],
             [
              0.5555555555555556,
              "#d8576b"
             ],
             [
              0.6666666666666666,
              "#ed7953"
             ],
             [
              0.7777777777777778,
              "#fb9f3a"
             ],
             [
              0.8888888888888888,
              "#fdca26"
             ],
             [
              1,
              "#f0f921"
             ]
            ],
            "type": "surface"
           }
          ],
          "table": [
           {
            "cells": {
             "fill": {
              "color": "#EBF0F8"
             },
             "line": {
              "color": "white"
             }
            },
            "header": {
             "fill": {
              "color": "#C8D4E3"
             },
             "line": {
              "color": "white"
             }
            },
            "type": "table"
           }
          ]
         },
         "layout": {
          "annotationdefaults": {
           "arrowcolor": "#2a3f5f",
           "arrowhead": 0,
           "arrowwidth": 1
          },
          "autotypenumbers": "strict",
          "coloraxis": {
           "colorbar": {
            "outlinewidth": 0,
            "ticks": ""
           }
          },
          "colorscale": {
           "diverging": [
            [
             0,
             "#8e0152"
            ],
            [
             0.1,
             "#c51b7d"
            ],
            [
             0.2,
             "#de77ae"
            ],
            [
             0.3,
             "#f1b6da"
            ],
            [
             0.4,
             "#fde0ef"
            ],
            [
             0.5,
             "#f7f7f7"
            ],
            [
             0.6,
             "#e6f5d0"
            ],
            [
             0.7,
             "#b8e186"
            ],
            [
             0.8,
             "#7fbc41"
            ],
            [
             0.9,
             "#4d9221"
            ],
            [
             1,
             "#276419"
            ]
           ],
           "sequential": [
            [
             0,
             "#0d0887"
            ],
            [
             0.1111111111111111,
             "#46039f"
            ],
            [
             0.2222222222222222,
             "#7201a8"
            ],
            [
             0.3333333333333333,
             "#9c179e"
            ],
            [
             0.4444444444444444,
             "#bd3786"
            ],
            [
             0.5555555555555556,
             "#d8576b"
            ],
            [
             0.6666666666666666,
             "#ed7953"
            ],
            [
             0.7777777777777778,
             "#fb9f3a"
            ],
            [
             0.8888888888888888,
             "#fdca26"
            ],
            [
             1,
             "#f0f921"
            ]
           ],
           "sequentialminus": [
            [
             0,
             "#0d0887"
            ],
            [
             0.1111111111111111,
             "#46039f"
            ],
            [
             0.2222222222222222,
             "#7201a8"
            ],
            [
             0.3333333333333333,
             "#9c179e"
            ],
            [
             0.4444444444444444,
             "#bd3786"
            ],
            [
             0.5555555555555556,
             "#d8576b"
            ],
            [
             0.6666666666666666,
             "#ed7953"
            ],
            [
             0.7777777777777778,
             "#fb9f3a"
            ],
            [
             0.8888888888888888,
             "#fdca26"
            ],
            [
             1,
             "#f0f921"
            ]
           ]
          },
          "colorway": [
           "#636efa",
           "#EF553B",
           "#00cc96",
           "#ab63fa",
           "#FFA15A",
           "#19d3f3",
           "#FF6692",
           "#B6E880",
           "#FF97FF",
           "#FECB52"
          ],
          "font": {
           "color": "#2a3f5f"
          },
          "geo": {
           "bgcolor": "white",
           "lakecolor": "white",
           "landcolor": "#E5ECF6",
           "showlakes": true,
           "showland": true,
           "subunitcolor": "white"
          },
          "hoverlabel": {
           "align": "left"
          },
          "hovermode": "closest",
          "mapbox": {
           "style": "light"
          },
          "paper_bgcolor": "white",
          "plot_bgcolor": "#E5ECF6",
          "polar": {
           "angularaxis": {
            "gridcolor": "white",
            "linecolor": "white",
            "ticks": ""
           },
           "bgcolor": "#E5ECF6",
           "radialaxis": {
            "gridcolor": "white",
            "linecolor": "white",
            "ticks": ""
           }
          },
          "scene": {
           "xaxis": {
            "backgroundcolor": "#E5ECF6",
            "gridcolor": "white",
            "gridwidth": 2,
            "linecolor": "white",
            "showbackground": true,
            "ticks": "",
            "zerolinecolor": "white"
           },
           "yaxis": {
            "backgroundcolor": "#E5ECF6",
            "gridcolor": "white",
            "gridwidth": 2,
            "linecolor": "white",
            "showbackground": true,
            "ticks": "",
            "zerolinecolor": "white"
           },
           "zaxis": {
            "backgroundcolor": "#E5ECF6",
            "gridcolor": "white",
            "gridwidth": 2,
            "linecolor": "white",
            "showbackground": true,
            "ticks": "",
            "zerolinecolor": "white"
           }
          },
          "shapedefaults": {
           "line": {
            "color": "#2a3f5f"
           }
          },
          "ternary": {
           "aaxis": {
            "gridcolor": "white",
            "linecolor": "white",
            "ticks": ""
           },
           "baxis": {
            "gridcolor": "white",
            "linecolor": "white",
            "ticks": ""
           },
           "bgcolor": "#E5ECF6",
           "caxis": {
            "gridcolor": "white",
            "linecolor": "white",
            "ticks": ""
           }
          },
          "title": {
           "x": 0.05
          },
          "xaxis": {
           "automargin": true,
           "gridcolor": "white",
           "linecolor": "white",
           "ticks": "",
           "title": {
            "standoff": 15
           },
           "zerolinecolor": "white",
           "zerolinewidth": 2
          },
          "yaxis": {
           "automargin": true,
           "gridcolor": "white",
           "linecolor": "white",
           "ticks": "",
           "title": {
            "standoff": 15
           },
           "zerolinecolor": "white",
           "zerolinewidth": 2
          }
         }
        },
        "title": {
         "text": "Interactive Scatter Plot"
        },
        "xaxis": {
         "anchor": "y",
         "domain": [
          0,
          1
         ],
         "tickangle": 45,
         "title": {
          "text": "Image Name"
         }
        },
        "yaxis": {
         "anchor": "x",
         "domain": [
          0,
          1
         ],
         "title": {
          "text": "Entropy"
         }
        }
       }
      }
     },
     "metadata": {},
     "output_type": "display_data"
    }
   ],
   "source": [
    "data.clear()\n",
    "from skimage.measure import shannon_entropy\n",
    "### boundary strength\n",
    "## sharp images have high laplacian\n",
    "print(\"Gradient magnitude mean:\")\n",
    "for name, img in images:\n",
    "    entropy = shannon_entropy(img)\n",
    "    print(f\"Image {name}: {str(entropy)}\")\n",
    "    data.append([name, entropy])\n",
    "    \n",
    "data = sorted(data, key=lambda x: x[0])\n",
    "for datum in data:\n",
    "    print(datum)\n",
    "plot_scatter(data, \"Entropy\")   \n",
    "    \n"
   ]
  },
  {
   "cell_type": "code",
   "execution_count": 1,
   "metadata": {},
   "outputs": [
    {
     "name": "stdout",
     "output_type": "stream",
     "text": [
      "3\n"
     ]
    }
   ],
   "source": [
    "str = \"kak\"\n",
    "print(len(str))"
   ]
  }
 ],
 "metadata": {
  "kernelspec": {
   "display_name": "altenv",
   "language": "python",
   "name": "python3"
  },
  "language_info": {
   "codemirror_mode": {
    "name": "ipython",
    "version": 3
   },
   "file_extension": ".py",
   "mimetype": "text/x-python",
   "name": "python",
   "nbconvert_exporter": "python",
   "pygments_lexer": "ipython3",
   "version": "3.11.9"
  }
 },
 "nbformat": 4,
 "nbformat_minor": 2
}
