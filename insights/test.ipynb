{
 "cells": [
  {
   "cell_type": "code",
   "execution_count": 26,
   "metadata": {},
   "outputs": [
    {
     "name": "stdout",
     "output_type": "stream",
     "text": [
      "Standard deviations:\n",
      "['N1-1.png', 89.5162629751719]\n",
      "['N1-10.png', 93.13688153022888]\n",
      "['N1-2.png', 100.03406518163946]\n",
      "['N1-3.png', 98.24834113501235]\n",
      "['N1-4.png', 92.72459464226736]\n",
      "['N1-5.png', 99.08112981750159]\n",
      "['N1-6.png', 89.99695838022397]\n",
      "['N1-7.png', 82.32509745319935]\n",
      "['N1-8.png', 90.22811773687818]\n",
      "['N1-9.png', 91.85727799873558]\n",
      "['N2-1.png', 87.4944450315225]\n",
      "['N2-10.png', 85.99609544837497]\n",
      "['N2-2.png', 93.97825423481724]\n",
      "['N2-3.png', 92.37142142313418]\n",
      "['N2-4.png', 91.12449591809812]\n",
      "['N2-5.png', 86.50622343631437]\n",
      "['N2-6.png', 88.83673858248758]\n",
      "['N2-7.png', 90.61943876660999]\n",
      "['N2-8.png', 93.41813175071226]\n",
      "['N2-9.png', 88.55751126068164]\n",
      "['N3-1.png', 88.43053190266328]\n",
      "['N3-10.png', 95.60530692968297]\n",
      "['N3-2.png', 90.22604342291247]\n",
      "['N3-3.png', 89.38066127891354]\n",
      "['N3-4.png', 99.02426450726254]\n",
      "['N3-5.png', 93.50679491687615]\n",
      "['N3-6.png', 88.039875354867]\n",
      "['N3-7.png', 94.9960025116186]\n",
      "['N3-8.png', 99.2421074665078]\n",
      "['N3-9.png', 89.45746512569849]\n",
      "['N4-1.png', 90.7880712476707]\n",
      "['N4-2.png', 88.29922408214989]\n",
      "['N4-3.png', 79.94670009616732]\n",
      "['N4-4.png', 87.83496700932992]\n",
      "['N4-5.png', 93.35632089706458]\n",
      "['N4-6.png', 98.98984006110014]\n",
      "['N4-7.png', 91.07987559839931]\n",
      "['N4-8.png', 93.75989363885303]\n",
      "['N4-9.png', 94.51961571530359]\n",
      "['N5-1.png', 92.76463309919455]\n",
      "['N5-2.png', 77.40391899988535]\n",
      "['N5-3.png', 88.99637764548919]\n",
      "['N5-4.png', 89.92516055033]\n",
      "['N5-5.png', 85.23473677377035]\n",
      "['N5-6.png', 72.45391779782678]\n"
     ]
    },
    {
     "data": {
      "application/vnd.plotly.v1+json": {
       "config": {
        "plotlyServerURL": "https://plot.ly"
       },
       "data": [
        {
         "hovertemplate": "Image Name=%{x}<br>Standard deviation=%{y}<extra></extra>",
         "legendgroup": "",
         "marker": {
          "color": "#636efa",
          "symbol": "circle"
         },
         "mode": "markers",
         "name": "",
         "orientation": "v",
         "showlegend": false,
         "type": "scatter",
         "x": [
          "N1-1.png",
          "N1-10.png",
          "N1-2.png",
          "N1-3.png",
          "N1-4.png",
          "N1-5.png",
          "N1-6.png",
          "N1-7.png",
          "N1-8.png",
          "N1-9.png",
          "N2-1.png",
          "N2-10.png",
          "N2-2.png",
          "N2-3.png",
          "N2-4.png",
          "N2-5.png",
          "N2-6.png",
          "N2-7.png",
          "N2-8.png",
          "N2-9.png",
          "N3-1.png",
          "N3-10.png",
          "N3-2.png",
          "N3-3.png",
          "N3-4.png",
          "N3-5.png",
          "N3-6.png",
          "N3-7.png",
          "N3-8.png",
          "N3-9.png",
          "N4-1.png",
          "N4-2.png",
          "N4-3.png",
          "N4-4.png",
          "N4-5.png",
          "N4-6.png",
          "N4-7.png",
          "N4-8.png",
          "N4-9.png",
          "N5-1.png",
          "N5-2.png",
          "N5-3.png",
          "N5-4.png",
          "N5-5.png",
          "N5-6.png"
         ],
         "xaxis": "x",
         "y": [
          89.5162629751719,
          93.13688153022888,
          100.03406518163946,
          98.24834113501235,
          92.72459464226736,
          99.08112981750159,
          89.99695838022397,
          82.32509745319935,
          90.22811773687818,
          91.85727799873558,
          87.4944450315225,
          85.99609544837497,
          93.97825423481724,
          92.37142142313418,
          91.12449591809812,
          86.50622343631437,
          88.83673858248758,
          90.61943876660999,
          93.41813175071226,
          88.55751126068164,
          88.43053190266328,
          95.60530692968297,
          90.22604342291247,
          89.38066127891354,
          99.02426450726254,
          93.50679491687615,
          88.039875354867,
          94.9960025116186,
          99.2421074665078,
          89.45746512569849,
          90.7880712476707,
          88.29922408214989,
          79.94670009616732,
          87.83496700932992,
          93.35632089706458,
          98.98984006110014,
          91.07987559839931,
          93.75989363885303,
          94.51961571530359,
          92.76463309919455,
          77.40391899988535,
          88.99637764548919,
          89.92516055033,
          85.23473677377035,
          72.45391779782678
         ],
         "yaxis": "y"
        }
       ],
       "layout": {
        "legend": {
         "tracegroupgap": 0
        },
        "template": {
         "data": {
          "bar": [
           {
            "error_x": {
             "color": "#2a3f5f"
            },
            "error_y": {
             "color": "#2a3f5f"
            },
            "marker": {
             "line": {
              "color": "#E5ECF6",
              "width": 0.5
             },
             "pattern": {
              "fillmode": "overlay",
              "size": 10,
              "solidity": 0.2
             }
            },
            "type": "bar"
           }
          ],
          "barpolar": [
           {
            "marker": {
             "line": {
              "color": "#E5ECF6",
              "width": 0.5
             },
             "pattern": {
              "fillmode": "overlay",
              "size": 10,
              "solidity": 0.2
             }
            },
            "type": "barpolar"
           }
          ],
          "carpet": [
           {
            "aaxis": {
             "endlinecolor": "#2a3f5f",
             "gridcolor": "white",
             "linecolor": "white",
             "minorgridcolor": "white",
             "startlinecolor": "#2a3f5f"
            },
            "baxis": {
             "endlinecolor": "#2a3f5f",
             "gridcolor": "white",
             "linecolor": "white",
             "minorgridcolor": "white",
             "startlinecolor": "#2a3f5f"
            },
            "type": "carpet"
           }
          ],
          "choropleth": [
           {
            "colorbar": {
             "outlinewidth": 0,
             "ticks": ""
            },
            "type": "choropleth"
           }
          ],
          "contour": [
           {
            "colorbar": {
             "outlinewidth": 0,
             "ticks": ""
            },
            "colorscale": [
             [
              0,
              "#0d0887"
             ],
             [
              0.1111111111111111,
              "#46039f"
             ],
             [
              0.2222222222222222,
              "#7201a8"
             ],
             [
              0.3333333333333333,
              "#9c179e"
             ],
             [
              0.4444444444444444,
              "#bd3786"
             ],
             [
              0.5555555555555556,
              "#d8576b"
             ],
             [
              0.6666666666666666,
              "#ed7953"
             ],
             [
              0.7777777777777778,
              "#fb9f3a"
             ],
             [
              0.8888888888888888,
              "#fdca26"
             ],
             [
              1,
              "#f0f921"
             ]
            ],
            "type": "contour"
           }
          ],
          "contourcarpet": [
           {
            "colorbar": {
             "outlinewidth": 0,
             "ticks": ""
            },
            "type": "contourcarpet"
           }
          ],
          "heatmap": [
           {
            "colorbar": {
             "outlinewidth": 0,
             "ticks": ""
            },
            "colorscale": [
             [
              0,
              "#0d0887"
             ],
             [
              0.1111111111111111,
              "#46039f"
             ],
             [
              0.2222222222222222,
              "#7201a8"
             ],
             [
              0.3333333333333333,
              "#9c179e"
             ],
             [
              0.4444444444444444,
              "#bd3786"
             ],
             [
              0.5555555555555556,
              "#d8576b"
             ],
             [
              0.6666666666666666,
              "#ed7953"
             ],
             [
              0.7777777777777778,
              "#fb9f3a"
             ],
             [
              0.8888888888888888,
              "#fdca26"
             ],
             [
              1,
              "#f0f921"
             ]
            ],
            "type": "heatmap"
           }
          ],
          "heatmapgl": [
           {
            "colorbar": {
             "outlinewidth": 0,
             "ticks": ""
            },
            "colorscale": [
             [
              0,
              "#0d0887"
             ],
             [
              0.1111111111111111,
              "#46039f"
             ],
             [
              0.2222222222222222,
              "#7201a8"
             ],
             [
              0.3333333333333333,
              "#9c179e"
             ],
             [
              0.4444444444444444,
              "#bd3786"
             ],
             [
              0.5555555555555556,
              "#d8576b"
             ],
             [
              0.6666666666666666,
              "#ed7953"
             ],
             [
              0.7777777777777778,
              "#fb9f3a"
             ],
             [
              0.8888888888888888,
              "#fdca26"
             ],
             [
              1,
              "#f0f921"
             ]
            ],
            "type": "heatmapgl"
           }
          ],
          "histogram": [
           {
            "marker": {
             "pattern": {
              "fillmode": "overlay",
              "size": 10,
              "solidity": 0.2
             }
            },
            "type": "histogram"
           }
          ],
          "histogram2d": [
           {
            "colorbar": {
             "outlinewidth": 0,
             "ticks": ""
            },
            "colorscale": [
             [
              0,
              "#0d0887"
             ],
             [
              0.1111111111111111,
              "#46039f"
             ],
             [
              0.2222222222222222,
              "#7201a8"
             ],
             [
              0.3333333333333333,
              "#9c179e"
             ],
             [
              0.4444444444444444,
              "#bd3786"
             ],
             [
              0.5555555555555556,
              "#d8576b"
             ],
             [
              0.6666666666666666,
              "#ed7953"
             ],
             [
              0.7777777777777778,
              "#fb9f3a"
             ],
             [
              0.8888888888888888,
              "#fdca26"
             ],
             [
              1,
              "#f0f921"
             ]
            ],
            "type": "histogram2d"
           }
          ],
          "histogram2dcontour": [
           {
            "colorbar": {
             "outlinewidth": 0,
             "ticks": ""
            },
            "colorscale": [
             [
              0,
              "#0d0887"
             ],
             [
              0.1111111111111111,
              "#46039f"
             ],
             [
              0.2222222222222222,
              "#7201a8"
             ],
             [
              0.3333333333333333,
              "#9c179e"
             ],
             [
              0.4444444444444444,
              "#bd3786"
             ],
             [
              0.5555555555555556,
              "#d8576b"
             ],
             [
              0.6666666666666666,
              "#ed7953"
             ],
             [
              0.7777777777777778,
              "#fb9f3a"
             ],
             [
              0.8888888888888888,
              "#fdca26"
             ],
             [
              1,
              "#f0f921"
             ]
            ],
            "type": "histogram2dcontour"
           }
          ],
          "mesh3d": [
           {
            "colorbar": {
             "outlinewidth": 0,
             "ticks": ""
            },
            "type": "mesh3d"
           }
          ],
          "parcoords": [
           {
            "line": {
             "colorbar": {
              "outlinewidth": 0,
              "ticks": ""
             }
            },
            "type": "parcoords"
           }
          ],
          "pie": [
           {
            "automargin": true,
            "type": "pie"
           }
          ],
          "scatter": [
           {
            "fillpattern": {
             "fillmode": "overlay",
             "size": 10,
             "solidity": 0.2
            },
            "type": "scatter"
           }
          ],
          "scatter3d": [
           {
            "line": {
             "colorbar": {
              "outlinewidth": 0,
              "ticks": ""
             }
            },
            "marker": {
             "colorbar": {
              "outlinewidth": 0,
              "ticks": ""
             }
            },
            "type": "scatter3d"
           }
          ],
          "scattercarpet": [
           {
            "marker": {
             "colorbar": {
              "outlinewidth": 0,
              "ticks": ""
             }
            },
            "type": "scattercarpet"
           }
          ],
          "scattergeo": [
           {
            "marker": {
             "colorbar": {
              "outlinewidth": 0,
              "ticks": ""
             }
            },
            "type": "scattergeo"
           }
          ],
          "scattergl": [
           {
            "marker": {
             "colorbar": {
              "outlinewidth": 0,
              "ticks": ""
             }
            },
            "type": "scattergl"
           }
          ],
          "scattermapbox": [
           {
            "marker": {
             "colorbar": {
              "outlinewidth": 0,
              "ticks": ""
             }
            },
            "type": "scattermapbox"
           }
          ],
          "scatterpolar": [
           {
            "marker": {
             "colorbar": {
              "outlinewidth": 0,
              "ticks": ""
             }
            },
            "type": "scatterpolar"
           }
          ],
          "scatterpolargl": [
           {
            "marker": {
             "colorbar": {
              "outlinewidth": 0,
              "ticks": ""
             }
            },
            "type": "scatterpolargl"
           }
          ],
          "scatterternary": [
           {
            "marker": {
             "colorbar": {
              "outlinewidth": 0,
              "ticks": ""
             }
            },
            "type": "scatterternary"
           }
          ],
          "surface": [
           {
            "colorbar": {
             "outlinewidth": 0,
             "ticks": ""
            },
            "colorscale": [
             [
              0,
              "#0d0887"
             ],
             [
              0.1111111111111111,
              "#46039f"
             ],
             [
              0.2222222222222222,
              "#7201a8"
             ],
             [
              0.3333333333333333,
              "#9c179e"
             ],
             [
              0.4444444444444444,
              "#bd3786"
             ],
             [
              0.5555555555555556,
              "#d8576b"
             ],
             [
              0.6666666666666666,
              "#ed7953"
             ],
             [
              0.7777777777777778,
              "#fb9f3a"
             ],
             [
              0.8888888888888888,
              "#fdca26"
             ],
             [
              1,
              "#f0f921"
             ]
            ],
            "type": "surface"
           }
          ],
          "table": [
           {
            "cells": {
             "fill": {
              "color": "#EBF0F8"
             },
             "line": {
              "color": "white"
             }
            },
            "header": {
             "fill": {
              "color": "#C8D4E3"
             },
             "line": {
              "color": "white"
             }
            },
            "type": "table"
           }
          ]
         },
         "layout": {
          "annotationdefaults": {
           "arrowcolor": "#2a3f5f",
           "arrowhead": 0,
           "arrowwidth": 1
          },
          "autotypenumbers": "strict",
          "coloraxis": {
           "colorbar": {
            "outlinewidth": 0,
            "ticks": ""
           }
          },
          "colorscale": {
           "diverging": [
            [
             0,
             "#8e0152"
            ],
            [
             0.1,
             "#c51b7d"
            ],
            [
             0.2,
             "#de77ae"
            ],
            [
             0.3,
             "#f1b6da"
            ],
            [
             0.4,
             "#fde0ef"
            ],
            [
             0.5,
             "#f7f7f7"
            ],
            [
             0.6,
             "#e6f5d0"
            ],
            [
             0.7,
             "#b8e186"
            ],
            [
             0.8,
             "#7fbc41"
            ],
            [
             0.9,
             "#4d9221"
            ],
            [
             1,
             "#276419"
            ]
           ],
           "sequential": [
            [
             0,
             "#0d0887"
            ],
            [
             0.1111111111111111,
             "#46039f"
            ],
            [
             0.2222222222222222,
             "#7201a8"
            ],
            [
             0.3333333333333333,
             "#9c179e"
            ],
            [
             0.4444444444444444,
             "#bd3786"
            ],
            [
             0.5555555555555556,
             "#d8576b"
            ],
            [
             0.6666666666666666,
             "#ed7953"
            ],
            [
             0.7777777777777778,
             "#fb9f3a"
            ],
            [
             0.8888888888888888,
             "#fdca26"
            ],
            [
             1,
             "#f0f921"
            ]
           ],
           "sequentialminus": [
            [
             0,
             "#0d0887"
            ],
            [
             0.1111111111111111,
             "#46039f"
            ],
            [
             0.2222222222222222,
             "#7201a8"
            ],
            [
             0.3333333333333333,
             "#9c179e"
            ],
            [
             0.4444444444444444,
             "#bd3786"
            ],
            [
             0.5555555555555556,
             "#d8576b"
            ],
            [
             0.6666666666666666,
             "#ed7953"
            ],
            [
             0.7777777777777778,
             "#fb9f3a"
            ],
            [
             0.8888888888888888,
             "#fdca26"
            ],
            [
             1,
             "#f0f921"
            ]
           ]
          },
          "colorway": [
           "#636efa",
           "#EF553B",
           "#00cc96",
           "#ab63fa",
           "#FFA15A",
           "#19d3f3",
           "#FF6692",
           "#B6E880",
           "#FF97FF",
           "#FECB52"
          ],
          "font": {
           "color": "#2a3f5f"
          },
          "geo": {
           "bgcolor": "white",
           "lakecolor": "white",
           "landcolor": "#E5ECF6",
           "showlakes": true,
           "showland": true,
           "subunitcolor": "white"
          },
          "hoverlabel": {
           "align": "left"
          },
          "hovermode": "closest",
          "mapbox": {
           "style": "light"
          },
          "paper_bgcolor": "white",
          "plot_bgcolor": "#E5ECF6",
          "polar": {
           "angularaxis": {
            "gridcolor": "white",
            "linecolor": "white",
            "ticks": ""
           },
           "bgcolor": "#E5ECF6",
           "radialaxis": {
            "gridcolor": "white",
            "linecolor": "white",
            "ticks": ""
           }
          },
          "scene": {
           "xaxis": {
            "backgroundcolor": "#E5ECF6",
            "gridcolor": "white",
            "gridwidth": 2,
            "linecolor": "white",
            "showbackground": true,
            "ticks": "",
            "zerolinecolor": "white"
           },
           "yaxis": {
            "backgroundcolor": "#E5ECF6",
            "gridcolor": "white",
            "gridwidth": 2,
            "linecolor": "white",
            "showbackground": true,
            "ticks": "",
            "zerolinecolor": "white"
           },
           "zaxis": {
            "backgroundcolor": "#E5ECF6",
            "gridcolor": "white",
            "gridwidth": 2,
            "linecolor": "white",
            "showbackground": true,
            "ticks": "",
            "zerolinecolor": "white"
           }
          },
          "shapedefaults": {
           "line": {
            "color": "#2a3f5f"
           }
          },
          "ternary": {
           "aaxis": {
            "gridcolor": "white",
            "linecolor": "white",
            "ticks": ""
           },
           "baxis": {
            "gridcolor": "white",
            "linecolor": "white",
            "ticks": ""
           },
           "bgcolor": "#E5ECF6",
           "caxis": {
            "gridcolor": "white",
            "linecolor": "white",
            "ticks": ""
           }
          },
          "title": {
           "x": 0.05
          },
          "xaxis": {
           "automargin": true,
           "gridcolor": "white",
           "linecolor": "white",
           "ticks": "",
           "title": {
            "standoff": 15
           },
           "zerolinecolor": "white",
           "zerolinewidth": 2
          },
          "yaxis": {
           "automargin": true,
           "gridcolor": "white",
           "linecolor": "white",
           "ticks": "",
           "title": {
            "standoff": 15
           },
           "zerolinecolor": "white",
           "zerolinewidth": 2
          }
         }
        },
        "title": {
         "text": "Interactive Scatter Plot"
        },
        "xaxis": {
         "anchor": "y",
         "domain": [
          0,
          1
         ],
         "tickangle": 45,
         "title": {
          "text": "Image Name"
         }
        },
        "yaxis": {
         "anchor": "x",
         "domain": [
          0,
          1
         ],
         "title": {
          "text": "Standard deviation"
         }
        }
       }
      }
     },
     "metadata": {},
     "output_type": "display_data"
    }
   ],
   "source": [
    "import cv2\n",
    "import numpy as np\n",
    "import glob\n",
    "import os\n",
    "import matplotlib.pyplot as plt\n",
    "\n",
    "import plotly.express as px\n",
    "\n",
    "import pandas as pd\n",
    "\n",
    "\n",
    "base_path = \"/home/eric/Documents/cervicalResearchIIP/img_1006t/original\"\n",
    "image_extensions = ['*.png']\n",
    "\n",
    "\n",
    "image_paths = []\n",
    "for ext in image_extensions:\n",
    "    image_paths.extend(glob.glob(os.path.join(base_path, ext)))\n",
    "\n",
    "images = []  # List of (filename, image) tuples\n",
    "for path in image_paths:\n",
    "    img = cv2.imread(path)\n",
    "    if img is not None:\n",
    "        filename = os.path.basename(path)\n",
    "        images.append((filename, img))\n",
    "    else:\n",
    "        print(f\"Warning: Could not read image {path}\")\n",
    "\n",
    "#scatter plotting function based on a variable\n",
    "def plot_scatter(data, variable_name):\n",
    "    df = pd.DataFrame(data, columns=[\"Name\", str(variable_name)])\n",
    "\n",
    "    # Create interactive scatter plot\n",
    "    fig = px.scatter(df, x=\"Name\", y=str(variable_name), title=\"Interactive Scatter Plot\",\n",
    "                    labels={\"Name\": \"Image Name\", str(variable_name): str(variable_name)})\n",
    "\n",
    "    # Rotate x-axis labels if needed\n",
    "    fig.update_layout(xaxis_tickangle=45)\n",
    "\n",
    "    # Show plot\n",
    "    fig.show() \n",
    "        \n",
    "        \n",
    "print(\"Standard deviations:\")\n",
    "### standard deviation of a picture \n",
    "# low variance or standard deviation means pixel intensities are closer \n",
    "# to the mean and high variance mean pixel intensities are from mean\n",
    "\n",
    "# when standard deviation is 0 all values are same\n",
    "\n",
    "data = []\n",
    "\n",
    "for name, img in images:\n",
    "    std_dev = np.std(img)\n",
    "    #print(f\"Image {name}: {str(std_dev)}\")\n",
    "    data.append([name, std_dev])\n",
    "data = sorted(data, key=lambda x: x[0])\n",
    "for datum in data:\n",
    "    print(datum)\n",
    "plot_scatter(data, \"Standard deviation\")   \n"
   ]
  },
  {
   "cell_type": "code",
   "execution_count": 167,
   "metadata": {},
   "outputs": [
    {
     "name": "stdout",
     "output_type": "stream",
     "text": [
      "N2-1.png\n"
     ]
    },
    {
     "data": {
      "text/plain": [
       "True"
      ]
     },
     "execution_count": 167,
     "metadata": {},
     "output_type": "execute_result"
    }
   ],
   "source": [
    "img1 = images[1][1]\n",
    "print(images[1][0])\n",
    "img1 = cv2.cvtColor(img1, cv2.COLOR_BGR2GRAY)\n",
    "alpha = 1.3  # Contrast control (>1 increases contrast)\n",
    "beta = 0     # Brightness control\n",
    "\n",
    "# Adjust contrast and brightness\n",
    "adjusted = cv2.convertScaleAbs(img1, alpha=alpha, beta=beta)\n",
    "\n",
    "# threshold_value = 170\n",
    "# max_value = 255\n",
    "# _, binary = cv2.threshold(adjusted, threshold_value, max_value, cv2.THRESH_BINARY)\n",
    "#Show result\n",
    "\n",
    "# mean_val = np.mean(adjusted)\n",
    "# print(mean_val)\n",
    "height, width = adjusted.shape\n",
    "\n",
    "for y in range(height):\n",
    "    for x in range(width):\n",
    "        pixel_value = adjusted[y, x]\n",
    "        if pixel_value > 220 and pixel_value<240:\n",
    "            adjusted[y,x] = 0\n",
    "        elif pixel_value > 100 and pixel_value<150:\n",
    "            adjusted[y,x] = 0\n",
    "        else:\n",
    "            adjusted[y,x] = 255\n",
    "        # Do something with pixel_value\n",
    "        \n",
    "\n",
    "cv2.imwrite('contrasted.jpg', adjusted)"
   ]
  },
  {
   "cell_type": "code",
   "execution_count": 28,
   "metadata": {},
   "outputs": [
    {
     "name": "stdout",
     "output_type": "stream",
     "text": [
      "Michelson contrast:\n",
      "0\n",
      "255\n",
      "0\n",
      "255\n",
      "0\n",
      "255\n",
      "0\n",
      "255\n",
      "0\n",
      "255\n",
      "0\n",
      "255\n",
      "0\n",
      "255\n",
      "0\n",
      "255\n",
      "0\n",
      "255\n",
      "0\n",
      "255\n",
      "0\n",
      "255\n",
      "0\n",
      "255\n",
      "0\n",
      "255\n",
      "0\n",
      "255\n",
      "0\n",
      "255\n",
      "0\n",
      "255\n",
      "0\n",
      "255\n",
      "0\n",
      "255\n",
      "0\n",
      "255\n",
      "0\n",
      "255\n",
      "0\n",
      "255\n",
      "0\n",
      "255\n",
      "0\n",
      "255\n",
      "0\n",
      "255\n",
      "0\n",
      "255\n",
      "0\n",
      "255\n",
      "0\n",
      "255\n",
      "0\n",
      "255\n",
      "0\n",
      "255\n",
      "0\n",
      "255\n",
      "0\n",
      "255\n",
      "0\n",
      "255\n",
      "0\n",
      "255\n",
      "0\n",
      "255\n",
      "0\n",
      "255\n",
      "0\n",
      "255\n",
      "0\n",
      "255\n",
      "0\n",
      "255\n",
      "0\n",
      "255\n",
      "0\n",
      "255\n",
      "0\n",
      "255\n",
      "0\n",
      "255\n",
      "0\n",
      "255\n",
      "0\n",
      "255\n",
      "0\n",
      "255\n",
      "['N1-1.png', 1.0]\n",
      "['N1-10.png', 1.0]\n",
      "['N1-2.png', 1.0]\n",
      "['N1-3.png', 1.0]\n",
      "['N1-4.png', 1.0]\n",
      "['N1-5.png', 1.0]\n",
      "['N1-6.png', 1.0]\n",
      "['N1-7.png', 1.0]\n",
      "['N1-8.png', 1.0]\n",
      "['N1-9.png', 1.0]\n",
      "['N2-1.png', 1.0]\n",
      "['N2-10.png', 1.0]\n",
      "['N2-2.png', 1.0]\n",
      "['N2-3.png', 1.0]\n",
      "['N2-4.png', 1.0]\n",
      "['N2-5.png', 1.0]\n",
      "['N2-6.png', 1.0]\n",
      "['N2-7.png', 1.0]\n",
      "['N2-8.png', 1.0]\n",
      "['N2-9.png', 1.0]\n",
      "['N3-1.png', 1.0]\n",
      "['N3-10.png', 1.0]\n",
      "['N3-2.png', 1.0]\n",
      "['N3-3.png', 1.0]\n",
      "['N3-4.png', 1.0]\n",
      "['N3-5.png', 1.0]\n",
      "['N3-6.png', 1.0]\n",
      "['N3-7.png', 1.0]\n",
      "['N3-8.png', 1.0]\n",
      "['N3-9.png', 1.0]\n",
      "['N4-1.png', 1.0]\n",
      "['N4-2.png', 1.0]\n",
      "['N4-3.png', 1.0]\n",
      "['N4-4.png', 1.0]\n",
      "['N4-5.png', 1.0]\n",
      "['N4-6.png', 1.0]\n",
      "['N4-7.png', 1.0]\n",
      "['N4-8.png', 1.0]\n",
      "['N4-9.png', 1.0]\n",
      "['N5-1.png', 1.0]\n",
      "['N5-2.png', 1.0]\n",
      "['N5-3.png', 1.0]\n",
      "['N5-4.png', 1.0]\n",
      "['N5-5.png', 1.0]\n",
      "['N5-6.png', 1.0]\n"
     ]
    },
    {
     "data": {
      "application/vnd.plotly.v1+json": {
       "config": {
        "plotlyServerURL": "https://plot.ly"
       },
       "data": [
        {
         "hovertemplate": "Image Name=%{x}<br>Michelson contrast=%{y}<extra></extra>",
         "legendgroup": "",
         "marker": {
          "color": "#636efa",
          "symbol": "circle"
         },
         "mode": "markers",
         "name": "",
         "orientation": "v",
         "showlegend": false,
         "type": "scatter",
         "x": [
          "N1-1.png",
          "N1-10.png",
          "N1-2.png",
          "N1-3.png",
          "N1-4.png",
          "N1-5.png",
          "N1-6.png",
          "N1-7.png",
          "N1-8.png",
          "N1-9.png",
          "N2-1.png",
          "N2-10.png",
          "N2-2.png",
          "N2-3.png",
          "N2-4.png",
          "N2-5.png",
          "N2-6.png",
          "N2-7.png",
          "N2-8.png",
          "N2-9.png",
          "N3-1.png",
          "N3-10.png",
          "N3-2.png",
          "N3-3.png",
          "N3-4.png",
          "N3-5.png",
          "N3-6.png",
          "N3-7.png",
          "N3-8.png",
          "N3-9.png",
          "N4-1.png",
          "N4-2.png",
          "N4-3.png",
          "N4-4.png",
          "N4-5.png",
          "N4-6.png",
          "N4-7.png",
          "N4-8.png",
          "N4-9.png",
          "N5-1.png",
          "N5-2.png",
          "N5-3.png",
          "N5-4.png",
          "N5-5.png",
          "N5-6.png"
         ],
         "xaxis": "x",
         "y": [
          1,
          1,
          1,
          1,
          1,
          1,
          1,
          1,
          1,
          1,
          1,
          1,
          1,
          1,
          1,
          1,
          1,
          1,
          1,
          1,
          1,
          1,
          1,
          1,
          1,
          1,
          1,
          1,
          1,
          1,
          1,
          1,
          1,
          1,
          1,
          1,
          1,
          1,
          1,
          1,
          1,
          1,
          1,
          1,
          1
         ],
         "yaxis": "y"
        }
       ],
       "layout": {
        "legend": {
         "tracegroupgap": 0
        },
        "template": {
         "data": {
          "bar": [
           {
            "error_x": {
             "color": "#2a3f5f"
            },
            "error_y": {
             "color": "#2a3f5f"
            },
            "marker": {
             "line": {
              "color": "#E5ECF6",
              "width": 0.5
             },
             "pattern": {
              "fillmode": "overlay",
              "size": 10,
              "solidity": 0.2
             }
            },
            "type": "bar"
           }
          ],
          "barpolar": [
           {
            "marker": {
             "line": {
              "color": "#E5ECF6",
              "width": 0.5
             },
             "pattern": {
              "fillmode": "overlay",
              "size": 10,
              "solidity": 0.2
             }
            },
            "type": "barpolar"
           }
          ],
          "carpet": [
           {
            "aaxis": {
             "endlinecolor": "#2a3f5f",
             "gridcolor": "white",
             "linecolor": "white",
             "minorgridcolor": "white",
             "startlinecolor": "#2a3f5f"
            },
            "baxis": {
             "endlinecolor": "#2a3f5f",
             "gridcolor": "white",
             "linecolor": "white",
             "minorgridcolor": "white",
             "startlinecolor": "#2a3f5f"
            },
            "type": "carpet"
           }
          ],
          "choropleth": [
           {
            "colorbar": {
             "outlinewidth": 0,
             "ticks": ""
            },
            "type": "choropleth"
           }
          ],
          "contour": [
           {
            "colorbar": {
             "outlinewidth": 0,
             "ticks": ""
            },
            "colorscale": [
             [
              0,
              "#0d0887"
             ],
             [
              0.1111111111111111,
              "#46039f"
             ],
             [
              0.2222222222222222,
              "#7201a8"
             ],
             [
              0.3333333333333333,
              "#9c179e"
             ],
             [
              0.4444444444444444,
              "#bd3786"
             ],
             [
              0.5555555555555556,
              "#d8576b"
             ],
             [
              0.6666666666666666,
              "#ed7953"
             ],
             [
              0.7777777777777778,
              "#fb9f3a"
             ],
             [
              0.8888888888888888,
              "#fdca26"
             ],
             [
              1,
              "#f0f921"
             ]
            ],
            "type": "contour"
           }
          ],
          "contourcarpet": [
           {
            "colorbar": {
             "outlinewidth": 0,
             "ticks": ""
            },
            "type": "contourcarpet"
           }
          ],
          "heatmap": [
           {
            "colorbar": {
             "outlinewidth": 0,
             "ticks": ""
            },
            "colorscale": [
             [
              0,
              "#0d0887"
             ],
             [
              0.1111111111111111,
              "#46039f"
             ],
             [
              0.2222222222222222,
              "#7201a8"
             ],
             [
              0.3333333333333333,
              "#9c179e"
             ],
             [
              0.4444444444444444,
              "#bd3786"
             ],
             [
              0.5555555555555556,
              "#d8576b"
             ],
             [
              0.6666666666666666,
              "#ed7953"
             ],
             [
              0.7777777777777778,
              "#fb9f3a"
             ],
             [
              0.8888888888888888,
              "#fdca26"
             ],
             [
              1,
              "#f0f921"
             ]
            ],
            "type": "heatmap"
           }
          ],
          "heatmapgl": [
           {
            "colorbar": {
             "outlinewidth": 0,
             "ticks": ""
            },
            "colorscale": [
             [
              0,
              "#0d0887"
             ],
             [
              0.1111111111111111,
              "#46039f"
             ],
             [
              0.2222222222222222,
              "#7201a8"
             ],
             [
              0.3333333333333333,
              "#9c179e"
             ],
             [
              0.4444444444444444,
              "#bd3786"
             ],
             [
              0.5555555555555556,
              "#d8576b"
             ],
             [
              0.6666666666666666,
              "#ed7953"
             ],
             [
              0.7777777777777778,
              "#fb9f3a"
             ],
             [
              0.8888888888888888,
              "#fdca26"
             ],
             [
              1,
              "#f0f921"
             ]
            ],
            "type": "heatmapgl"
           }
          ],
          "histogram": [
           {
            "marker": {
             "pattern": {
              "fillmode": "overlay",
              "size": 10,
              "solidity": 0.2
             }
            },
            "type": "histogram"
           }
          ],
          "histogram2d": [
           {
            "colorbar": {
             "outlinewidth": 0,
             "ticks": ""
            },
            "colorscale": [
             [
              0,
              "#0d0887"
             ],
             [
              0.1111111111111111,
              "#46039f"
             ],
             [
              0.2222222222222222,
              "#7201a8"
             ],
             [
              0.3333333333333333,
              "#9c179e"
             ],
             [
              0.4444444444444444,
              "#bd3786"
             ],
             [
              0.5555555555555556,
              "#d8576b"
             ],
             [
              0.6666666666666666,
              "#ed7953"
             ],
             [
              0.7777777777777778,
              "#fb9f3a"
             ],
             [
              0.8888888888888888,
              "#fdca26"
             ],
             [
              1,
              "#f0f921"
             ]
            ],
            "type": "histogram2d"
           }
          ],
          "histogram2dcontour": [
           {
            "colorbar": {
             "outlinewidth": 0,
             "ticks": ""
            },
            "colorscale": [
             [
              0,
              "#0d0887"
             ],
             [
              0.1111111111111111,
              "#46039f"
             ],
             [
              0.2222222222222222,
              "#7201a8"
             ],
             [
              0.3333333333333333,
              "#9c179e"
             ],
             [
              0.4444444444444444,
              "#bd3786"
             ],
             [
              0.5555555555555556,
              "#d8576b"
             ],
             [
              0.6666666666666666,
              "#ed7953"
             ],
             [
              0.7777777777777778,
              "#fb9f3a"
             ],
             [
              0.8888888888888888,
              "#fdca26"
             ],
             [
              1,
              "#f0f921"
             ]
            ],
            "type": "histogram2dcontour"
           }
          ],
          "mesh3d": [
           {
            "colorbar": {
             "outlinewidth": 0,
             "ticks": ""
            },
            "type": "mesh3d"
           }
          ],
          "parcoords": [
           {
            "line": {
             "colorbar": {
              "outlinewidth": 0,
              "ticks": ""
             }
            },
            "type": "parcoords"
           }
          ],
          "pie": [
           {
            "automargin": true,
            "type": "pie"
           }
          ],
          "scatter": [
           {
            "fillpattern": {
             "fillmode": "overlay",
             "size": 10,
             "solidity": 0.2
            },
            "type": "scatter"
           }
          ],
          "scatter3d": [
           {
            "line": {
             "colorbar": {
              "outlinewidth": 0,
              "ticks": ""
             }
            },
            "marker": {
             "colorbar": {
              "outlinewidth": 0,
              "ticks": ""
             }
            },
            "type": "scatter3d"
           }
          ],
          "scattercarpet": [
           {
            "marker": {
             "colorbar": {
              "outlinewidth": 0,
              "ticks": ""
             }
            },
            "type": "scattercarpet"
           }
          ],
          "scattergeo": [
           {
            "marker": {
             "colorbar": {
              "outlinewidth": 0,
              "ticks": ""
             }
            },
            "type": "scattergeo"
           }
          ],
          "scattergl": [
           {
            "marker": {
             "colorbar": {
              "outlinewidth": 0,
              "ticks": ""
             }
            },
            "type": "scattergl"
           }
          ],
          "scattermapbox": [
           {
            "marker": {
             "colorbar": {
              "outlinewidth": 0,
              "ticks": ""
             }
            },
            "type": "scattermapbox"
           }
          ],
          "scatterpolar": [
           {
            "marker": {
             "colorbar": {
              "outlinewidth": 0,
              "ticks": ""
             }
            },
            "type": "scatterpolar"
           }
          ],
          "scatterpolargl": [
           {
            "marker": {
             "colorbar": {
              "outlinewidth": 0,
              "ticks": ""
             }
            },
            "type": "scatterpolargl"
           }
          ],
          "scatterternary": [
           {
            "marker": {
             "colorbar": {
              "outlinewidth": 0,
              "ticks": ""
             }
            },
            "type": "scatterternary"
           }
          ],
          "surface": [
           {
            "colorbar": {
             "outlinewidth": 0,
             "ticks": ""
            },
            "colorscale": [
             [
              0,
              "#0d0887"
             ],
             [
              0.1111111111111111,
              "#46039f"
             ],
             [
              0.2222222222222222,
              "#7201a8"
             ],
             [
              0.3333333333333333,
              "#9c179e"
             ],
             [
              0.4444444444444444,
              "#bd3786"
             ],
             [
              0.5555555555555556,
              "#d8576b"
             ],
             [
              0.6666666666666666,
              "#ed7953"
             ],
             [
              0.7777777777777778,
              "#fb9f3a"
             ],
             [
              0.8888888888888888,
              "#fdca26"
             ],
             [
              1,
              "#f0f921"
             ]
            ],
            "type": "surface"
           }
          ],
          "table": [
           {
            "cells": {
             "fill": {
              "color": "#EBF0F8"
             },
             "line": {
              "color": "white"
             }
            },
            "header": {
             "fill": {
              "color": "#C8D4E3"
             },
             "line": {
              "color": "white"
             }
            },
            "type": "table"
           }
          ]
         },
         "layout": {
          "annotationdefaults": {
           "arrowcolor": "#2a3f5f",
           "arrowhead": 0,
           "arrowwidth": 1
          },
          "autotypenumbers": "strict",
          "coloraxis": {
           "colorbar": {
            "outlinewidth": 0,
            "ticks": ""
           }
          },
          "colorscale": {
           "diverging": [
            [
             0,
             "#8e0152"
            ],
            [
             0.1,
             "#c51b7d"
            ],
            [
             0.2,
             "#de77ae"
            ],
            [
             0.3,
             "#f1b6da"
            ],
            [
             0.4,
             "#fde0ef"
            ],
            [
             0.5,
             "#f7f7f7"
            ],
            [
             0.6,
             "#e6f5d0"
            ],
            [
             0.7,
             "#b8e186"
            ],
            [
             0.8,
             "#7fbc41"
            ],
            [
             0.9,
             "#4d9221"
            ],
            [
             1,
             "#276419"
            ]
           ],
           "sequential": [
            [
             0,
             "#0d0887"
            ],
            [
             0.1111111111111111,
             "#46039f"
            ],
            [
             0.2222222222222222,
             "#7201a8"
            ],
            [
             0.3333333333333333,
             "#9c179e"
            ],
            [
             0.4444444444444444,
             "#bd3786"
            ],
            [
             0.5555555555555556,
             "#d8576b"
            ],
            [
             0.6666666666666666,
             "#ed7953"
            ],
            [
             0.7777777777777778,
             "#fb9f3a"
            ],
            [
             0.8888888888888888,
             "#fdca26"
            ],
            [
             1,
             "#f0f921"
            ]
           ],
           "sequentialminus": [
            [
             0,
             "#0d0887"
            ],
            [
             0.1111111111111111,
             "#46039f"
            ],
            [
             0.2222222222222222,
             "#7201a8"
            ],
            [
             0.3333333333333333,
             "#9c179e"
            ],
            [
             0.4444444444444444,
             "#bd3786"
            ],
            [
             0.5555555555555556,
             "#d8576b"
            ],
            [
             0.6666666666666666,
             "#ed7953"
            ],
            [
             0.7777777777777778,
             "#fb9f3a"
            ],
            [
             0.8888888888888888,
             "#fdca26"
            ],
            [
             1,
             "#f0f921"
            ]
           ]
          },
          "colorway": [
           "#636efa",
           "#EF553B",
           "#00cc96",
           "#ab63fa",
           "#FFA15A",
           "#19d3f3",
           "#FF6692",
           "#B6E880",
           "#FF97FF",
           "#FECB52"
          ],
          "font": {
           "color": "#2a3f5f"
          },
          "geo": {
           "bgcolor": "white",
           "lakecolor": "white",
           "landcolor": "#E5ECF6",
           "showlakes": true,
           "showland": true,
           "subunitcolor": "white"
          },
          "hoverlabel": {
           "align": "left"
          },
          "hovermode": "closest",
          "mapbox": {
           "style": "light"
          },
          "paper_bgcolor": "white",
          "plot_bgcolor": "#E5ECF6",
          "polar": {
           "angularaxis": {
            "gridcolor": "white",
            "linecolor": "white",
            "ticks": ""
           },
           "bgcolor": "#E5ECF6",
           "radialaxis": {
            "gridcolor": "white",
            "linecolor": "white",
            "ticks": ""
           }
          },
          "scene": {
           "xaxis": {
            "backgroundcolor": "#E5ECF6",
            "gridcolor": "white",
            "gridwidth": 2,
            "linecolor": "white",
            "showbackground": true,
            "ticks": "",
            "zerolinecolor": "white"
           },
           "yaxis": {
            "backgroundcolor": "#E5ECF6",
            "gridcolor": "white",
            "gridwidth": 2,
            "linecolor": "white",
            "showbackground": true,
            "ticks": "",
            "zerolinecolor": "white"
           },
           "zaxis": {
            "backgroundcolor": "#E5ECF6",
            "gridcolor": "white",
            "gridwidth": 2,
            "linecolor": "white",
            "showbackground": true,
            "ticks": "",
            "zerolinecolor": "white"
           }
          },
          "shapedefaults": {
           "line": {
            "color": "#2a3f5f"
           }
          },
          "ternary": {
           "aaxis": {
            "gridcolor": "white",
            "linecolor": "white",
            "ticks": ""
           },
           "baxis": {
            "gridcolor": "white",
            "linecolor": "white",
            "ticks": ""
           },
           "bgcolor": "#E5ECF6",
           "caxis": {
            "gridcolor": "white",
            "linecolor": "white",
            "ticks": ""
           }
          },
          "title": {
           "x": 0.05
          },
          "xaxis": {
           "automargin": true,
           "gridcolor": "white",
           "linecolor": "white",
           "ticks": "",
           "title": {
            "standoff": 15
           },
           "zerolinecolor": "white",
           "zerolinewidth": 2
          },
          "yaxis": {
           "automargin": true,
           "gridcolor": "white",
           "linecolor": "white",
           "ticks": "",
           "title": {
            "standoff": 15
           },
           "zerolinecolor": "white",
           "zerolinewidth": 2
          }
         }
        },
        "title": {
         "text": "Interactive Scatter Plot"
        },
        "xaxis": {
         "anchor": "y",
         "domain": [
          0,
          1
         ],
         "tickangle": 45,
         "title": {
          "text": "Image Name"
         }
        },
        "yaxis": {
         "anchor": "x",
         "domain": [
          0,
          1
         ],
         "title": {
          "text": "Michelson contrast"
         }
        }
       }
      }
     },
     "metadata": {},
     "output_type": "display_data"
    }
   ],
   "source": [
    "# michelson contrast\n",
    "data.clear()\n",
    "print(\"Michelson contrast:\")\n",
    "for name, img in images:\n",
    "    \n",
    "    min = np.min(img)\n",
    "    print(min)\n",
    "    \n",
    "    max = np.max(img)\n",
    "    print(max)\n",
    "    michelson_ctr = (max-min) / (max + min)\n",
    "    \n",
    "    #print(f\"Image {name}: {str(michelson_ctr)}\")\n",
    "    data.append([name, michelson_ctr])\n",
    "    \n",
    "    \n",
    "data = sorted(data, key=lambda x: x[0])\n",
    "for datum in data:\n",
    "    print(datum)\n",
    "plot_scatter(data, \"Michelson contrast\")   "
   ]
  },
  {
   "cell_type": "code",
   "execution_count": 29,
   "metadata": {},
   "outputs": [
    {
     "name": "stdout",
     "output_type": "stream",
     "text": [
      "Laplcian var:\n",
      "['N1-1.png', 196.24822640768252]\n",
      "['N1-10.png', 83.59960217564367]\n",
      "['N1-2.png', 90.88566921651363]\n",
      "['N1-3.png', 111.91089179343544]\n",
      "['N1-4.png', 119.3946928223595]\n",
      "['N1-5.png', 109.3763775890693]\n",
      "['N1-6.png', 115.12135022878647]\n",
      "['N1-7.png', 113.8389184474945]\n",
      "['N1-8.png', 123.95132870133966]\n",
      "['N1-9.png', 159.43401347100735]\n",
      "['N2-1.png', 92.5720944700297]\n",
      "['N2-10.png', 80.790821619099]\n",
      "['N2-2.png', 77.50714598596096]\n",
      "['N2-3.png', 119.0828744135797]\n",
      "['N2-4.png', 74.91343136853538]\n",
      "['N2-5.png', 113.27453859057277]\n",
      "['N2-6.png', 170.3190064241644]\n",
      "['N2-7.png', 105.42898309021257]\n",
      "['N2-8.png', 108.52866499032825]\n",
      "['N2-9.png', 136.35505078639835]\n",
      "['N3-1.png', 70.20620998367667]\n",
      "['N3-10.png', 102.65206050872803]\n",
      "['N3-2.png', 114.10727356281132]\n",
      "['N3-3.png', 133.86835861741565]\n",
      "['N3-4.png', 114.05601066350937]\n",
      "['N3-5.png', 155.40733223571442]\n",
      "['N3-6.png', 111.44159889873117]\n",
      "['N3-7.png', 89.94157197303139]\n",
      "['N3-8.png', 88.8412038050592]\n",
      "['N3-9.png', 82.22826006636024]\n",
      "['N4-1.png', 78.20486489590257]\n",
      "['N4-2.png', 71.0023555746302]\n",
      "['N4-3.png', 103.04606967791915]\n",
      "['N4-4.png', 109.50738420244306]\n",
      "['N4-5.png', 81.37343040271662]\n",
      "['N4-6.png', 127.12336308415979]\n",
      "['N4-7.png', 105.7717918062117]\n",
      "['N4-8.png', 64.32866464159451]\n",
      "['N4-9.png', 83.24315283983015]\n",
      "['N5-1.png', 165.29078971943818]\n",
      "['N5-2.png', 131.91766594350338]\n",
      "['N5-3.png', 212.69613285269588]\n",
      "['N5-4.png', 112.55388830602169]\n",
      "['N5-5.png', 68.49074567016214]\n",
      "['N5-6.png', 120.99812246276997]\n"
     ]
    },
    {
     "data": {
      "application/vnd.plotly.v1+json": {
       "config": {
        "plotlyServerURL": "https://plot.ly"
       },
       "data": [
        {
         "hovertemplate": "Image Name=%{x}<br>Laplacian variable=%{y}<extra></extra>",
         "legendgroup": "",
         "marker": {
          "color": "#636efa",
          "symbol": "circle"
         },
         "mode": "markers",
         "name": "",
         "orientation": "v",
         "showlegend": false,
         "type": "scatter",
         "x": [
          "N1-1.png",
          "N1-10.png",
          "N1-2.png",
          "N1-3.png",
          "N1-4.png",
          "N1-5.png",
          "N1-6.png",
          "N1-7.png",
          "N1-8.png",
          "N1-9.png",
          "N2-1.png",
          "N2-10.png",
          "N2-2.png",
          "N2-3.png",
          "N2-4.png",
          "N2-5.png",
          "N2-6.png",
          "N2-7.png",
          "N2-8.png",
          "N2-9.png",
          "N3-1.png",
          "N3-10.png",
          "N3-2.png",
          "N3-3.png",
          "N3-4.png",
          "N3-5.png",
          "N3-6.png",
          "N3-7.png",
          "N3-8.png",
          "N3-9.png",
          "N4-1.png",
          "N4-2.png",
          "N4-3.png",
          "N4-4.png",
          "N4-5.png",
          "N4-6.png",
          "N4-7.png",
          "N4-8.png",
          "N4-9.png",
          "N5-1.png",
          "N5-2.png",
          "N5-3.png",
          "N5-4.png",
          "N5-5.png",
          "N5-6.png"
         ],
         "xaxis": "x",
         "y": [
          196.24822640768252,
          83.59960217564367,
          90.88566921651363,
          111.91089179343544,
          119.3946928223595,
          109.3763775890693,
          115.12135022878647,
          113.8389184474945,
          123.95132870133966,
          159.43401347100735,
          92.5720944700297,
          80.790821619099,
          77.50714598596096,
          119.0828744135797,
          74.91343136853538,
          113.27453859057277,
          170.3190064241644,
          105.42898309021257,
          108.52866499032825,
          136.35505078639835,
          70.20620998367667,
          102.65206050872803,
          114.10727356281132,
          133.86835861741565,
          114.05601066350937,
          155.40733223571442,
          111.44159889873117,
          89.94157197303139,
          88.8412038050592,
          82.22826006636024,
          78.20486489590257,
          71.0023555746302,
          103.04606967791915,
          109.50738420244306,
          81.37343040271662,
          127.12336308415979,
          105.7717918062117,
          64.32866464159451,
          83.24315283983015,
          165.29078971943818,
          131.91766594350338,
          212.69613285269588,
          112.55388830602169,
          68.49074567016214,
          120.99812246276997
         ],
         "yaxis": "y"
        }
       ],
       "layout": {
        "legend": {
         "tracegroupgap": 0
        },
        "template": {
         "data": {
          "bar": [
           {
            "error_x": {
             "color": "#2a3f5f"
            },
            "error_y": {
             "color": "#2a3f5f"
            },
            "marker": {
             "line": {
              "color": "#E5ECF6",
              "width": 0.5
             },
             "pattern": {
              "fillmode": "overlay",
              "size": 10,
              "solidity": 0.2
             }
            },
            "type": "bar"
           }
          ],
          "barpolar": [
           {
            "marker": {
             "line": {
              "color": "#E5ECF6",
              "width": 0.5
             },
             "pattern": {
              "fillmode": "overlay",
              "size": 10,
              "solidity": 0.2
             }
            },
            "type": "barpolar"
           }
          ],
          "carpet": [
           {
            "aaxis": {
             "endlinecolor": "#2a3f5f",
             "gridcolor": "white",
             "linecolor": "white",
             "minorgridcolor": "white",
             "startlinecolor": "#2a3f5f"
            },
            "baxis": {
             "endlinecolor": "#2a3f5f",
             "gridcolor": "white",
             "linecolor": "white",
             "minorgridcolor": "white",
             "startlinecolor": "#2a3f5f"
            },
            "type": "carpet"
           }
          ],
          "choropleth": [
           {
            "colorbar": {
             "outlinewidth": 0,
             "ticks": ""
            },
            "type": "choropleth"
           }
          ],
          "contour": [
           {
            "colorbar": {
             "outlinewidth": 0,
             "ticks": ""
            },
            "colorscale": [
             [
              0,
              "#0d0887"
             ],
             [
              0.1111111111111111,
              "#46039f"
             ],
             [
              0.2222222222222222,
              "#7201a8"
             ],
             [
              0.3333333333333333,
              "#9c179e"
             ],
             [
              0.4444444444444444,
              "#bd3786"
             ],
             [
              0.5555555555555556,
              "#d8576b"
             ],
             [
              0.6666666666666666,
              "#ed7953"
             ],
             [
              0.7777777777777778,
              "#fb9f3a"
             ],
             [
              0.8888888888888888,
              "#fdca26"
             ],
             [
              1,
              "#f0f921"
             ]
            ],
            "type": "contour"
           }
          ],
          "contourcarpet": [
           {
            "colorbar": {
             "outlinewidth": 0,
             "ticks": ""
            },
            "type": "contourcarpet"
           }
          ],
          "heatmap": [
           {
            "colorbar": {
             "outlinewidth": 0,
             "ticks": ""
            },
            "colorscale": [
             [
              0,
              "#0d0887"
             ],
             [
              0.1111111111111111,
              "#46039f"
             ],
             [
              0.2222222222222222,
              "#7201a8"
             ],
             [
              0.3333333333333333,
              "#9c179e"
             ],
             [
              0.4444444444444444,
              "#bd3786"
             ],
             [
              0.5555555555555556,
              "#d8576b"
             ],
             [
              0.6666666666666666,
              "#ed7953"
             ],
             [
              0.7777777777777778,
              "#fb9f3a"
             ],
             [
              0.8888888888888888,
              "#fdca26"
             ],
             [
              1,
              "#f0f921"
             ]
            ],
            "type": "heatmap"
           }
          ],
          "heatmapgl": [
           {
            "colorbar": {
             "outlinewidth": 0,
             "ticks": ""
            },
            "colorscale": [
             [
              0,
              "#0d0887"
             ],
             [
              0.1111111111111111,
              "#46039f"
             ],
             [
              0.2222222222222222,
              "#7201a8"
             ],
             [
              0.3333333333333333,
              "#9c179e"
             ],
             [
              0.4444444444444444,
              "#bd3786"
             ],
             [
              0.5555555555555556,
              "#d8576b"
             ],
             [
              0.6666666666666666,
              "#ed7953"
             ],
             [
              0.7777777777777778,
              "#fb9f3a"
             ],
             [
              0.8888888888888888,
              "#fdca26"
             ],
             [
              1,
              "#f0f921"
             ]
            ],
            "type": "heatmapgl"
           }
          ],
          "histogram": [
           {
            "marker": {
             "pattern": {
              "fillmode": "overlay",
              "size": 10,
              "solidity": 0.2
             }
            },
            "type": "histogram"
           }
          ],
          "histogram2d": [
           {
            "colorbar": {
             "outlinewidth": 0,
             "ticks": ""
            },
            "colorscale": [
             [
              0,
              "#0d0887"
             ],
             [
              0.1111111111111111,
              "#46039f"
             ],
             [
              0.2222222222222222,
              "#7201a8"
             ],
             [
              0.3333333333333333,
              "#9c179e"
             ],
             [
              0.4444444444444444,
              "#bd3786"
             ],
             [
              0.5555555555555556,
              "#d8576b"
             ],
             [
              0.6666666666666666,
              "#ed7953"
             ],
             [
              0.7777777777777778,
              "#fb9f3a"
             ],
             [
              0.8888888888888888,
              "#fdca26"
             ],
             [
              1,
              "#f0f921"
             ]
            ],
            "type": "histogram2d"
           }
          ],
          "histogram2dcontour": [
           {
            "colorbar": {
             "outlinewidth": 0,
             "ticks": ""
            },
            "colorscale": [
             [
              0,
              "#0d0887"
             ],
             [
              0.1111111111111111,
              "#46039f"
             ],
             [
              0.2222222222222222,
              "#7201a8"
             ],
             [
              0.3333333333333333,
              "#9c179e"
             ],
             [
              0.4444444444444444,
              "#bd3786"
             ],
             [
              0.5555555555555556,
              "#d8576b"
             ],
             [
              0.6666666666666666,
              "#ed7953"
             ],
             [
              0.7777777777777778,
              "#fb9f3a"
             ],
             [
              0.8888888888888888,
              "#fdca26"
             ],
             [
              1,
              "#f0f921"
             ]
            ],
            "type": "histogram2dcontour"
           }
          ],
          "mesh3d": [
           {
            "colorbar": {
             "outlinewidth": 0,
             "ticks": ""
            },
            "type": "mesh3d"
           }
          ],
          "parcoords": [
           {
            "line": {
             "colorbar": {
              "outlinewidth": 0,
              "ticks": ""
             }
            },
            "type": "parcoords"
           }
          ],
          "pie": [
           {
            "automargin": true,
            "type": "pie"
           }
          ],
          "scatter": [
           {
            "fillpattern": {
             "fillmode": "overlay",
             "size": 10,
             "solidity": 0.2
            },
            "type": "scatter"
           }
          ],
          "scatter3d": [
           {
            "line": {
             "colorbar": {
              "outlinewidth": 0,
              "ticks": ""
             }
            },
            "marker": {
             "colorbar": {
              "outlinewidth": 0,
              "ticks": ""
             }
            },
            "type": "scatter3d"
           }
          ],
          "scattercarpet": [
           {
            "marker": {
             "colorbar": {
              "outlinewidth": 0,
              "ticks": ""
             }
            },
            "type": "scattercarpet"
           }
          ],
          "scattergeo": [
           {
            "marker": {
             "colorbar": {
              "outlinewidth": 0,
              "ticks": ""
             }
            },
            "type": "scattergeo"
           }
          ],
          "scattergl": [
           {
            "marker": {
             "colorbar": {
              "outlinewidth": 0,
              "ticks": ""
             }
            },
            "type": "scattergl"
           }
          ],
          "scattermapbox": [
           {
            "marker": {
             "colorbar": {
              "outlinewidth": 0,
              "ticks": ""
             }
            },
            "type": "scattermapbox"
           }
          ],
          "scatterpolar": [
           {
            "marker": {
             "colorbar": {
              "outlinewidth": 0,
              "ticks": ""
             }
            },
            "type": "scatterpolar"
           }
          ],
          "scatterpolargl": [
           {
            "marker": {
             "colorbar": {
              "outlinewidth": 0,
              "ticks": ""
             }
            },
            "type": "scatterpolargl"
           }
          ],
          "scatterternary": [
           {
            "marker": {
             "colorbar": {
              "outlinewidth": 0,
              "ticks": ""
             }
            },
            "type": "scatterternary"
           }
          ],
          "surface": [
           {
            "colorbar": {
             "outlinewidth": 0,
             "ticks": ""
            },
            "colorscale": [
             [
              0,
              "#0d0887"
             ],
             [
              0.1111111111111111,
              "#46039f"
             ],
             [
              0.2222222222222222,
              "#7201a8"
             ],
             [
              0.3333333333333333,
              "#9c179e"
             ],
             [
              0.4444444444444444,
              "#bd3786"
             ],
             [
              0.5555555555555556,
              "#d8576b"
             ],
             [
              0.6666666666666666,
              "#ed7953"
             ],
             [
              0.7777777777777778,
              "#fb9f3a"
             ],
             [
              0.8888888888888888,
              "#fdca26"
             ],
             [
              1,
              "#f0f921"
             ]
            ],
            "type": "surface"
           }
          ],
          "table": [
           {
            "cells": {
             "fill": {
              "color": "#EBF0F8"
             },
             "line": {
              "color": "white"
             }
            },
            "header": {
             "fill": {
              "color": "#C8D4E3"
             },
             "line": {
              "color": "white"
             }
            },
            "type": "table"
           }
          ]
         },
         "layout": {
          "annotationdefaults": {
           "arrowcolor": "#2a3f5f",
           "arrowhead": 0,
           "arrowwidth": 1
          },
          "autotypenumbers": "strict",
          "coloraxis": {
           "colorbar": {
            "outlinewidth": 0,
            "ticks": ""
           }
          },
          "colorscale": {
           "diverging": [
            [
             0,
             "#8e0152"
            ],
            [
             0.1,
             "#c51b7d"
            ],
            [
             0.2,
             "#de77ae"
            ],
            [
             0.3,
             "#f1b6da"
            ],
            [
             0.4,
             "#fde0ef"
            ],
            [
             0.5,
             "#f7f7f7"
            ],
            [
             0.6,
             "#e6f5d0"
            ],
            [
             0.7,
             "#b8e186"
            ],
            [
             0.8,
             "#7fbc41"
            ],
            [
             0.9,
             "#4d9221"
            ],
            [
             1,
             "#276419"
            ]
           ],
           "sequential": [
            [
             0,
             "#0d0887"
            ],
            [
             0.1111111111111111,
             "#46039f"
            ],
            [
             0.2222222222222222,
             "#7201a8"
            ],
            [
             0.3333333333333333,
             "#9c179e"
            ],
            [
             0.4444444444444444,
             "#bd3786"
            ],
            [
             0.5555555555555556,
             "#d8576b"
            ],
            [
             0.6666666666666666,
             "#ed7953"
            ],
            [
             0.7777777777777778,
             "#fb9f3a"
            ],
            [
             0.8888888888888888,
             "#fdca26"
            ],
            [
             1,
             "#f0f921"
            ]
           ],
           "sequentialminus": [
            [
             0,
             "#0d0887"
            ],
            [
             0.1111111111111111,
             "#46039f"
            ],
            [
             0.2222222222222222,
             "#7201a8"
            ],
            [
             0.3333333333333333,
             "#9c179e"
            ],
            [
             0.4444444444444444,
             "#bd3786"
            ],
            [
             0.5555555555555556,
             "#d8576b"
            ],
            [
             0.6666666666666666,
             "#ed7953"
            ],
            [
             0.7777777777777778,
             "#fb9f3a"
            ],
            [
             0.8888888888888888,
             "#fdca26"
            ],
            [
             1,
             "#f0f921"
            ]
           ]
          },
          "colorway": [
           "#636efa",
           "#EF553B",
           "#00cc96",
           "#ab63fa",
           "#FFA15A",
           "#19d3f3",
           "#FF6692",
           "#B6E880",
           "#FF97FF",
           "#FECB52"
          ],
          "font": {
           "color": "#2a3f5f"
          },
          "geo": {
           "bgcolor": "white",
           "lakecolor": "white",
           "landcolor": "#E5ECF6",
           "showlakes": true,
           "showland": true,
           "subunitcolor": "white"
          },
          "hoverlabel": {
           "align": "left"
          },
          "hovermode": "closest",
          "mapbox": {
           "style": "light"
          },
          "paper_bgcolor": "white",
          "plot_bgcolor": "#E5ECF6",
          "polar": {
           "angularaxis": {
            "gridcolor": "white",
            "linecolor": "white",
            "ticks": ""
           },
           "bgcolor": "#E5ECF6",
           "radialaxis": {
            "gridcolor": "white",
            "linecolor": "white",
            "ticks": ""
           }
          },
          "scene": {
           "xaxis": {
            "backgroundcolor": "#E5ECF6",
            "gridcolor": "white",
            "gridwidth": 2,
            "linecolor": "white",
            "showbackground": true,
            "ticks": "",
            "zerolinecolor": "white"
           },
           "yaxis": {
            "backgroundcolor": "#E5ECF6",
            "gridcolor": "white",
            "gridwidth": 2,
            "linecolor": "white",
            "showbackground": true,
            "ticks": "",
            "zerolinecolor": "white"
           },
           "zaxis": {
            "backgroundcolor": "#E5ECF6",
            "gridcolor": "white",
            "gridwidth": 2,
            "linecolor": "white",
            "showbackground": true,
            "ticks": "",
            "zerolinecolor": "white"
           }
          },
          "shapedefaults": {
           "line": {
            "color": "#2a3f5f"
           }
          },
          "ternary": {
           "aaxis": {
            "gridcolor": "white",
            "linecolor": "white",
            "ticks": ""
           },
           "baxis": {
            "gridcolor": "white",
            "linecolor": "white",
            "ticks": ""
           },
           "bgcolor": "#E5ECF6",
           "caxis": {
            "gridcolor": "white",
            "linecolor": "white",
            "ticks": ""
           }
          },
          "title": {
           "x": 0.05
          },
          "xaxis": {
           "automargin": true,
           "gridcolor": "white",
           "linecolor": "white",
           "ticks": "",
           "title": {
            "standoff": 15
           },
           "zerolinecolor": "white",
           "zerolinewidth": 2
          },
          "yaxis": {
           "automargin": true,
           "gridcolor": "white",
           "linecolor": "white",
           "ticks": "",
           "title": {
            "standoff": 15
           },
           "zerolinecolor": "white",
           "zerolinewidth": 2
          }
         }
        },
        "title": {
         "text": "Interactive Scatter Plot"
        },
        "xaxis": {
         "anchor": "y",
         "domain": [
          0,
          1
         ],
         "tickangle": 45,
         "title": {
          "text": "Image Name"
         }
        },
        "yaxis": {
         "anchor": "x",
         "domain": [
          0,
          1
         ],
         "title": {
          "text": "Laplacian variable"
         }
        }
       }
      }
     },
     "metadata": {},
     "output_type": "display_data"
    }
   ],
   "source": [
    "data.clear()\n",
    "### boundary strength\n",
    "## sharp images have high laplacian\n",
    "print(\"Laplcian var:\")\n",
    "for name, img in images:\n",
    "    laplacian = cv2.Laplacian(img, cv2.CV_64F).var()\n",
    "    #print(f\"Image {name}: {str(laplacian)}\")\n",
    "    data.append([name, laplacian])\n",
    "    \n",
    "    \n",
    "data = sorted(data, key=lambda x: x[0])\n",
    "for datum in data:\n",
    "    print(datum)\n",
    "plot_scatter(data, \"Laplacian variable\")   "
   ]
  },
  {
   "cell_type": "code",
   "execution_count": 31,
   "metadata": {},
   "outputs": [
    {
     "name": "stdout",
     "output_type": "stream",
     "text": [
      "Gradient magnitude mean:\n",
      "Image N4-4.png: 24.03321391167252\n",
      "Image N2-1.png: 28.52576061777407\n",
      "Image N5-3.png: 37.29961570441296\n",
      "Image N1-10.png: 23.74982271558613\n",
      "Image N1-6.png: 26.61919978234408\n",
      "Image N1-8.png: 28.287087472782535\n",
      "Image N3-9.png: 24.755770660458072\n",
      "Image N4-2.png: 21.157989410910325\n",
      "Image N5-4.png: 26.9207707929699\n",
      "Image N1-5.png: 24.17126675502172\n",
      "Image N1-2.png: 24.2691256688631\n",
      "Image N3-10.png: 24.016630009985125\n",
      "Image N2-8.png: 29.84790540307502\n",
      "Image N2-9.png: 32.71313550183539\n",
      "Image N3-5.png: 29.139397522659745\n",
      "Image N4-9.png: 23.822308511584954\n",
      "Image N2-4.png: 19.911795949903496\n",
      "Image N4-3.png: 28.343777241437735\n",
      "Image N2-7.png: 28.688397018835634\n",
      "Image N3-3.png: 33.12537126660268\n",
      "Image N1-3.png: 26.33283472701388\n",
      "Image N2-3.png: 28.931646363115203\n",
      "Image N1-1.png: 34.442482763734375\n",
      "Image N3-7.png: 25.757082118389672\n",
      "Image N4-1.png: 24.313682903901906\n",
      "Image N3-8.png: 24.40605392321704\n",
      "Image N5-5.png: 23.669220342796198\n",
      "Image N2-2.png: 23.66862539971468\n",
      "Image N4-5.png: 22.530001969689668\n",
      "Image N1-7.png: 29.217387366683198\n",
      "Image N5-1.png: 29.168618418336905\n",
      "Image N4-8.png: 21.858283511550198\n",
      "Image N2-5.png: 27.80383319549276\n",
      "Image N1-9.png: 27.601372942159387\n",
      "Image N3-2.png: 27.92804983853745\n",
      "Image N1-4.png: 28.515782838006533\n",
      "Image N5-2.png: 27.69762838367831\n",
      "Image N4-6.png: 27.25308169040885\n",
      "Image N3-6.png: 25.03371811904333\n",
      "Image N2-6.png: 31.03194024335377\n",
      "Image N4-7.png: 28.481959560665555\n",
      "Image N2-10.png: 22.35761545986895\n",
      "Image N5-6.png: 28.228874801284856\n",
      "Image N3-4.png: 25.33297841580473\n",
      "Image N3-1.png: 22.054672285261052\n",
      "['N1-1.png', 34.442482763734375]\n",
      "['N1-10.png', 23.74982271558613]\n",
      "['N1-2.png', 24.2691256688631]\n",
      "['N1-3.png', 26.33283472701388]\n",
      "['N1-4.png', 28.515782838006533]\n",
      "['N1-5.png', 24.17126675502172]\n",
      "['N1-6.png', 26.61919978234408]\n",
      "['N1-7.png', 29.217387366683198]\n",
      "['N1-8.png', 28.287087472782535]\n",
      "['N1-9.png', 27.601372942159387]\n",
      "['N2-1.png', 28.52576061777407]\n",
      "['N2-10.png', 22.35761545986895]\n",
      "['N2-2.png', 23.66862539971468]\n",
      "['N2-3.png', 28.931646363115203]\n",
      "['N2-4.png', 19.911795949903496]\n",
      "['N2-5.png', 27.80383319549276]\n",
      "['N2-6.png', 31.03194024335377]\n",
      "['N2-7.png', 28.688397018835634]\n",
      "['N2-8.png', 29.84790540307502]\n",
      "['N2-9.png', 32.71313550183539]\n",
      "['N3-1.png', 22.054672285261052]\n",
      "['N3-10.png', 24.016630009985125]\n",
      "['N3-2.png', 27.92804983853745]\n",
      "['N3-3.png', 33.12537126660268]\n",
      "['N3-4.png', 25.33297841580473]\n",
      "['N3-5.png', 29.139397522659745]\n",
      "['N3-6.png', 25.03371811904333]\n",
      "['N3-7.png', 25.757082118389672]\n",
      "['N3-8.png', 24.40605392321704]\n",
      "['N3-9.png', 24.755770660458072]\n",
      "['N4-1.png', 24.313682903901906]\n",
      "['N4-2.png', 21.157989410910325]\n",
      "['N4-3.png', 28.343777241437735]\n",
      "['N4-4.png', 24.03321391167252]\n",
      "['N4-5.png', 22.530001969689668]\n",
      "['N4-6.png', 27.25308169040885]\n",
      "['N4-7.png', 28.481959560665555]\n",
      "['N4-8.png', 21.858283511550198]\n",
      "['N4-9.png', 23.822308511584954]\n",
      "['N5-1.png', 29.168618418336905]\n",
      "['N5-2.png', 27.69762838367831]\n",
      "['N5-3.png', 37.29961570441296]\n",
      "['N5-4.png', 26.9207707929699]\n",
      "['N5-5.png', 23.669220342796198]\n",
      "['N5-6.png', 28.228874801284856]\n"
     ]
    },
    {
     "data": {
      "application/vnd.plotly.v1+json": {
       "config": {
        "plotlyServerURL": "https://plot.ly"
       },
       "data": [
        {
         "hovertemplate": "Image Name=%{x}<br>Gradient magnitude mean=%{y}<extra></extra>",
         "legendgroup": "",
         "marker": {
          "color": "#636efa",
          "symbol": "circle"
         },
         "mode": "markers",
         "name": "",
         "orientation": "v",
         "showlegend": false,
         "type": "scatter",
         "x": [
          "N1-1.png",
          "N1-10.png",
          "N1-2.png",
          "N1-3.png",
          "N1-4.png",
          "N1-5.png",
          "N1-6.png",
          "N1-7.png",
          "N1-8.png",
          "N1-9.png",
          "N2-1.png",
          "N2-10.png",
          "N2-2.png",
          "N2-3.png",
          "N2-4.png",
          "N2-5.png",
          "N2-6.png",
          "N2-7.png",
          "N2-8.png",
          "N2-9.png",
          "N3-1.png",
          "N3-10.png",
          "N3-2.png",
          "N3-3.png",
          "N3-4.png",
          "N3-5.png",
          "N3-6.png",
          "N3-7.png",
          "N3-8.png",
          "N3-9.png",
          "N4-1.png",
          "N4-2.png",
          "N4-3.png",
          "N4-4.png",
          "N4-5.png",
          "N4-6.png",
          "N4-7.png",
          "N4-8.png",
          "N4-9.png",
          "N5-1.png",
          "N5-2.png",
          "N5-3.png",
          "N5-4.png",
          "N5-5.png",
          "N5-6.png"
         ],
         "xaxis": "x",
         "y": [
          34.442482763734375,
          23.74982271558613,
          24.2691256688631,
          26.33283472701388,
          28.515782838006533,
          24.17126675502172,
          26.61919978234408,
          29.217387366683198,
          28.287087472782535,
          27.601372942159387,
          28.52576061777407,
          22.35761545986895,
          23.66862539971468,
          28.931646363115203,
          19.911795949903496,
          27.80383319549276,
          31.03194024335377,
          28.688397018835634,
          29.84790540307502,
          32.71313550183539,
          22.054672285261052,
          24.016630009985125,
          27.92804983853745,
          33.12537126660268,
          25.33297841580473,
          29.139397522659745,
          25.03371811904333,
          25.757082118389672,
          24.40605392321704,
          24.755770660458072,
          24.313682903901906,
          21.157989410910325,
          28.343777241437735,
          24.03321391167252,
          22.530001969689668,
          27.25308169040885,
          28.481959560665555,
          21.858283511550198,
          23.822308511584954,
          29.168618418336905,
          27.69762838367831,
          37.29961570441296,
          26.9207707929699,
          23.669220342796198,
          28.228874801284856
         ],
         "yaxis": "y"
        }
       ],
       "layout": {
        "legend": {
         "tracegroupgap": 0
        },
        "template": {
         "data": {
          "bar": [
           {
            "error_x": {
             "color": "#2a3f5f"
            },
            "error_y": {
             "color": "#2a3f5f"
            },
            "marker": {
             "line": {
              "color": "#E5ECF6",
              "width": 0.5
             },
             "pattern": {
              "fillmode": "overlay",
              "size": 10,
              "solidity": 0.2
             }
            },
            "type": "bar"
           }
          ],
          "barpolar": [
           {
            "marker": {
             "line": {
              "color": "#E5ECF6",
              "width": 0.5
             },
             "pattern": {
              "fillmode": "overlay",
              "size": 10,
              "solidity": 0.2
             }
            },
            "type": "barpolar"
           }
          ],
          "carpet": [
           {
            "aaxis": {
             "endlinecolor": "#2a3f5f",
             "gridcolor": "white",
             "linecolor": "white",
             "minorgridcolor": "white",
             "startlinecolor": "#2a3f5f"
            },
            "baxis": {
             "endlinecolor": "#2a3f5f",
             "gridcolor": "white",
             "linecolor": "white",
             "minorgridcolor": "white",
             "startlinecolor": "#2a3f5f"
            },
            "type": "carpet"
           }
          ],
          "choropleth": [
           {
            "colorbar": {
             "outlinewidth": 0,
             "ticks": ""
            },
            "type": "choropleth"
           }
          ],
          "contour": [
           {
            "colorbar": {
             "outlinewidth": 0,
             "ticks": ""
            },
            "colorscale": [
             [
              0,
              "#0d0887"
             ],
             [
              0.1111111111111111,
              "#46039f"
             ],
             [
              0.2222222222222222,
              "#7201a8"
             ],
             [
              0.3333333333333333,
              "#9c179e"
             ],
             [
              0.4444444444444444,
              "#bd3786"
             ],
             [
              0.5555555555555556,
              "#d8576b"
             ],
             [
              0.6666666666666666,
              "#ed7953"
             ],
             [
              0.7777777777777778,
              "#fb9f3a"
             ],
             [
              0.8888888888888888,
              "#fdca26"
             ],
             [
              1,
              "#f0f921"
             ]
            ],
            "type": "contour"
           }
          ],
          "contourcarpet": [
           {
            "colorbar": {
             "outlinewidth": 0,
             "ticks": ""
            },
            "type": "contourcarpet"
           }
          ],
          "heatmap": [
           {
            "colorbar": {
             "outlinewidth": 0,
             "ticks": ""
            },
            "colorscale": [
             [
              0,
              "#0d0887"
             ],
             [
              0.1111111111111111,
              "#46039f"
             ],
             [
              0.2222222222222222,
              "#7201a8"
             ],
             [
              0.3333333333333333,
              "#9c179e"
             ],
             [
              0.4444444444444444,
              "#bd3786"
             ],
             [
              0.5555555555555556,
              "#d8576b"
             ],
             [
              0.6666666666666666,
              "#ed7953"
             ],
             [
              0.7777777777777778,
              "#fb9f3a"
             ],
             [
              0.8888888888888888,
              "#fdca26"
             ],
             [
              1,
              "#f0f921"
             ]
            ],
            "type": "heatmap"
           }
          ],
          "heatmapgl": [
           {
            "colorbar": {
             "outlinewidth": 0,
             "ticks": ""
            },
            "colorscale": [
             [
              0,
              "#0d0887"
             ],
             [
              0.1111111111111111,
              "#46039f"
             ],
             [
              0.2222222222222222,
              "#7201a8"
             ],
             [
              0.3333333333333333,
              "#9c179e"
             ],
             [
              0.4444444444444444,
              "#bd3786"
             ],
             [
              0.5555555555555556,
              "#d8576b"
             ],
             [
              0.6666666666666666,
              "#ed7953"
             ],
             [
              0.7777777777777778,
              "#fb9f3a"
             ],
             [
              0.8888888888888888,
              "#fdca26"
             ],
             [
              1,
              "#f0f921"
             ]
            ],
            "type": "heatmapgl"
           }
          ],
          "histogram": [
           {
            "marker": {
             "pattern": {
              "fillmode": "overlay",
              "size": 10,
              "solidity": 0.2
             }
            },
            "type": "histogram"
           }
          ],
          "histogram2d": [
           {
            "colorbar": {
             "outlinewidth": 0,
             "ticks": ""
            },
            "colorscale": [
             [
              0,
              "#0d0887"
             ],
             [
              0.1111111111111111,
              "#46039f"
             ],
             [
              0.2222222222222222,
              "#7201a8"
             ],
             [
              0.3333333333333333,
              "#9c179e"
             ],
             [
              0.4444444444444444,
              "#bd3786"
             ],
             [
              0.5555555555555556,
              "#d8576b"
             ],
             [
              0.6666666666666666,
              "#ed7953"
             ],
             [
              0.7777777777777778,
              "#fb9f3a"
             ],
             [
              0.8888888888888888,
              "#fdca26"
             ],
             [
              1,
              "#f0f921"
             ]
            ],
            "type": "histogram2d"
           }
          ],
          "histogram2dcontour": [
           {
            "colorbar": {
             "outlinewidth": 0,
             "ticks": ""
            },
            "colorscale": [
             [
              0,
              "#0d0887"
             ],
             [
              0.1111111111111111,
              "#46039f"
             ],
             [
              0.2222222222222222,
              "#7201a8"
             ],
             [
              0.3333333333333333,
              "#9c179e"
             ],
             [
              0.4444444444444444,
              "#bd3786"
             ],
             [
              0.5555555555555556,
              "#d8576b"
             ],
             [
              0.6666666666666666,
              "#ed7953"
             ],
             [
              0.7777777777777778,
              "#fb9f3a"
             ],
             [
              0.8888888888888888,
              "#fdca26"
             ],
             [
              1,
              "#f0f921"
             ]
            ],
            "type": "histogram2dcontour"
           }
          ],
          "mesh3d": [
           {
            "colorbar": {
             "outlinewidth": 0,
             "ticks": ""
            },
            "type": "mesh3d"
           }
          ],
          "parcoords": [
           {
            "line": {
             "colorbar": {
              "outlinewidth": 0,
              "ticks": ""
             }
            },
            "type": "parcoords"
           }
          ],
          "pie": [
           {
            "automargin": true,
            "type": "pie"
           }
          ],
          "scatter": [
           {
            "fillpattern": {
             "fillmode": "overlay",
             "size": 10,
             "solidity": 0.2
            },
            "type": "scatter"
           }
          ],
          "scatter3d": [
           {
            "line": {
             "colorbar": {
              "outlinewidth": 0,
              "ticks": ""
             }
            },
            "marker": {
             "colorbar": {
              "outlinewidth": 0,
              "ticks": ""
             }
            },
            "type": "scatter3d"
           }
          ],
          "scattercarpet": [
           {
            "marker": {
             "colorbar": {
              "outlinewidth": 0,
              "ticks": ""
             }
            },
            "type": "scattercarpet"
           }
          ],
          "scattergeo": [
           {
            "marker": {
             "colorbar": {
              "outlinewidth": 0,
              "ticks": ""
             }
            },
            "type": "scattergeo"
           }
          ],
          "scattergl": [
           {
            "marker": {
             "colorbar": {
              "outlinewidth": 0,
              "ticks": ""
             }
            },
            "type": "scattergl"
           }
          ],
          "scattermapbox": [
           {
            "marker": {
             "colorbar": {
              "outlinewidth": 0,
              "ticks": ""
             }
            },
            "type": "scattermapbox"
           }
          ],
          "scatterpolar": [
           {
            "marker": {
             "colorbar": {
              "outlinewidth": 0,
              "ticks": ""
             }
            },
            "type": "scatterpolar"
           }
          ],
          "scatterpolargl": [
           {
            "marker": {
             "colorbar": {
              "outlinewidth": 0,
              "ticks": ""
             }
            },
            "type": "scatterpolargl"
           }
          ],
          "scatterternary": [
           {
            "marker": {
             "colorbar": {
              "outlinewidth": 0,
              "ticks": ""
             }
            },
            "type": "scatterternary"
           }
          ],
          "surface": [
           {
            "colorbar": {
             "outlinewidth": 0,
             "ticks": ""
            },
            "colorscale": [
             [
              0,
              "#0d0887"
             ],
             [
              0.1111111111111111,
              "#46039f"
             ],
             [
              0.2222222222222222,
              "#7201a8"
             ],
             [
              0.3333333333333333,
              "#9c179e"
             ],
             [
              0.4444444444444444,
              "#bd3786"
             ],
             [
              0.5555555555555556,
              "#d8576b"
             ],
             [
              0.6666666666666666,
              "#ed7953"
             ],
             [
              0.7777777777777778,
              "#fb9f3a"
             ],
             [
              0.8888888888888888,
              "#fdca26"
             ],
             [
              1,
              "#f0f921"
             ]
            ],
            "type": "surface"
           }
          ],
          "table": [
           {
            "cells": {
             "fill": {
              "color": "#EBF0F8"
             },
             "line": {
              "color": "white"
             }
            },
            "header": {
             "fill": {
              "color": "#C8D4E3"
             },
             "line": {
              "color": "white"
             }
            },
            "type": "table"
           }
          ]
         },
         "layout": {
          "annotationdefaults": {
           "arrowcolor": "#2a3f5f",
           "arrowhead": 0,
           "arrowwidth": 1
          },
          "autotypenumbers": "strict",
          "coloraxis": {
           "colorbar": {
            "outlinewidth": 0,
            "ticks": ""
           }
          },
          "colorscale": {
           "diverging": [
            [
             0,
             "#8e0152"
            ],
            [
             0.1,
             "#c51b7d"
            ],
            [
             0.2,
             "#de77ae"
            ],
            [
             0.3,
             "#f1b6da"
            ],
            [
             0.4,
             "#fde0ef"
            ],
            [
             0.5,
             "#f7f7f7"
            ],
            [
             0.6,
             "#e6f5d0"
            ],
            [
             0.7,
             "#b8e186"
            ],
            [
             0.8,
             "#7fbc41"
            ],
            [
             0.9,
             "#4d9221"
            ],
            [
             1,
             "#276419"
            ]
           ],
           "sequential": [
            [
             0,
             "#0d0887"
            ],
            [
             0.1111111111111111,
             "#46039f"
            ],
            [
             0.2222222222222222,
             "#7201a8"
            ],
            [
             0.3333333333333333,
             "#9c179e"
            ],
            [
             0.4444444444444444,
             "#bd3786"
            ],
            [
             0.5555555555555556,
             "#d8576b"
            ],
            [
             0.6666666666666666,
             "#ed7953"
            ],
            [
             0.7777777777777778,
             "#fb9f3a"
            ],
            [
             0.8888888888888888,
             "#fdca26"
            ],
            [
             1,
             "#f0f921"
            ]
           ],
           "sequentialminus": [
            [
             0,
             "#0d0887"
            ],
            [
             0.1111111111111111,
             "#46039f"
            ],
            [
             0.2222222222222222,
             "#7201a8"
            ],
            [
             0.3333333333333333,
             "#9c179e"
            ],
            [
             0.4444444444444444,
             "#bd3786"
            ],
            [
             0.5555555555555556,
             "#d8576b"
            ],
            [
             0.6666666666666666,
             "#ed7953"
            ],
            [
             0.7777777777777778,
             "#fb9f3a"
            ],
            [
             0.8888888888888888,
             "#fdca26"
            ],
            [
             1,
             "#f0f921"
            ]
           ]
          },
          "colorway": [
           "#636efa",
           "#EF553B",
           "#00cc96",
           "#ab63fa",
           "#FFA15A",
           "#19d3f3",
           "#FF6692",
           "#B6E880",
           "#FF97FF",
           "#FECB52"
          ],
          "font": {
           "color": "#2a3f5f"
          },
          "geo": {
           "bgcolor": "white",
           "lakecolor": "white",
           "landcolor": "#E5ECF6",
           "showlakes": true,
           "showland": true,
           "subunitcolor": "white"
          },
          "hoverlabel": {
           "align": "left"
          },
          "hovermode": "closest",
          "mapbox": {
           "style": "light"
          },
          "paper_bgcolor": "white",
          "plot_bgcolor": "#E5ECF6",
          "polar": {
           "angularaxis": {
            "gridcolor": "white",
            "linecolor": "white",
            "ticks": ""
           },
           "bgcolor": "#E5ECF6",
           "radialaxis": {
            "gridcolor": "white",
            "linecolor": "white",
            "ticks": ""
           }
          },
          "scene": {
           "xaxis": {
            "backgroundcolor": "#E5ECF6",
            "gridcolor": "white",
            "gridwidth": 2,
            "linecolor": "white",
            "showbackground": true,
            "ticks": "",
            "zerolinecolor": "white"
           },
           "yaxis": {
            "backgroundcolor": "#E5ECF6",
            "gridcolor": "white",
            "gridwidth": 2,
            "linecolor": "white",
            "showbackground": true,
            "ticks": "",
            "zerolinecolor": "white"
           },
           "zaxis": {
            "backgroundcolor": "#E5ECF6",
            "gridcolor": "white",
            "gridwidth": 2,
            "linecolor": "white",
            "showbackground": true,
            "ticks": "",
            "zerolinecolor": "white"
           }
          },
          "shapedefaults": {
           "line": {
            "color": "#2a3f5f"
           }
          },
          "ternary": {
           "aaxis": {
            "gridcolor": "white",
            "linecolor": "white",
            "ticks": ""
           },
           "baxis": {
            "gridcolor": "white",
            "linecolor": "white",
            "ticks": ""
           },
           "bgcolor": "#E5ECF6",
           "caxis": {
            "gridcolor": "white",
            "linecolor": "white",
            "ticks": ""
           }
          },
          "title": {
           "x": 0.05
          },
          "xaxis": {
           "automargin": true,
           "gridcolor": "white",
           "linecolor": "white",
           "ticks": "",
           "title": {
            "standoff": 15
           },
           "zerolinecolor": "white",
           "zerolinewidth": 2
          },
          "yaxis": {
           "automargin": true,
           "gridcolor": "white",
           "linecolor": "white",
           "ticks": "",
           "title": {
            "standoff": 15
           },
           "zerolinecolor": "white",
           "zerolinewidth": 2
          }
         }
        },
        "title": {
         "text": "Interactive Scatter Plot"
        },
        "xaxis": {
         "anchor": "y",
         "domain": [
          0,
          1
         ],
         "tickangle": 45,
         "title": {
          "text": "Image Name"
         }
        },
        "yaxis": {
         "anchor": "x",
         "domain": [
          0,
          1
         ],
         "title": {
          "text": "Gradient magnitude mean"
         }
        }
       }
      }
     },
     "metadata": {},
     "output_type": "display_data"
    }
   ],
   "source": [
    "data.clear()\n",
    "### boundary strength\n",
    "## sharp images have high laplacian\n",
    "print(\"Gradient magnitude mean:\")\n",
    "for name, img in images:\n",
    "    sobelx = cv2.Sobel(img, cv2.CV_64F, 1, 0, ksize=3)\n",
    "    sobely = cv2.Sobel(img, cv2.CV_64F, 0, 1, ksize=3)\n",
    "    gradient_magnitude = np.sqrt(sobelx**2 + sobely**2)\n",
    "    edge_strength = np.mean(gradient_magnitude)\n",
    "    print(f\"Image {name}: {str(edge_strength)}\")\n",
    "    data.append([name, edge_strength])\n",
    "    \n",
    "data = sorted(data, key=lambda x: x[0])\n",
    "for datum in data:\n",
    "    print(datum)\n",
    "plot_scatter(data, \"Gradient magnitude mean\")   "
   ]
  },
  {
   "cell_type": "code",
   "execution_count": 32,
   "metadata": {},
   "outputs": [
    {
     "name": "stdout",
     "output_type": "stream",
     "text": [
      "Gradient magnitude mean:\n",
      "Image N4-4.png: 6.926889754458101\n",
      "Image N2-1.png: 7.400021022630415\n",
      "Image N5-3.png: 7.167459086822134\n",
      "Image N1-10.png: 6.815535499920879\n",
      "Image N1-6.png: 7.400942325070758\n",
      "Image N1-8.png: 7.2553148892595285\n",
      "Image N3-9.png: 7.226871614364447\n",
      "Image N4-2.png: 6.31387418858774\n",
      "Image N5-4.png: 6.674722085720658\n",
      "Image N1-5.png: 6.775397902427053\n",
      "Image N1-2.png: 6.587009485274164\n",
      "Image N3-10.png: 6.5769753308646886\n",
      "Image N2-8.png: 7.152181039031857\n",
      "Image N2-9.png: 7.102487901383495\n",
      "Image N3-5.png: 6.955534230991446\n",
      "Image N4-9.png: 6.936335768050124\n",
      "Image N2-4.png: 6.609713323676644\n",
      "Image N4-3.png: 7.564605787013614\n",
      "Image N2-7.png: 7.235366628587549\n",
      "Image N3-3.png: 7.275501395483729\n",
      "Image N1-3.png: 6.843078155892437\n",
      "Image N2-3.png: 7.20039468515626\n",
      "Image N1-1.png: 7.338526622996176\n",
      "Image N3-7.png: 7.053116053131375\n",
      "Image N4-1.png: 6.712046211753753\n",
      "Image N3-8.png: 6.687833565334663\n",
      "Image N5-5.png: 7.033085681959806\n",
      "Image N2-2.png: 7.020703446150239\n",
      "Image N4-5.png: 6.492715496215807\n",
      "Image N1-7.png: 7.584905845348334\n",
      "Image N5-1.png: 6.793577846478293\n",
      "Image N4-8.png: 6.643740807210616\n",
      "Image N2-5.png: 7.001462524925051\n",
      "Image N1-9.png: 7.16748466242153\n",
      "Image N3-2.png: 7.178851271822618\n",
      "Image N1-4.png: 6.793433023627708\n",
      "Image N5-2.png: 7.100670161357336\n",
      "Image N4-6.png: 6.362635344501488\n",
      "Image N3-6.png: 6.629741186225879\n",
      "Image N2-6.png: 7.369976022183653\n",
      "Image N4-7.png: 7.030967593949599\n",
      "Image N2-10.png: 7.326286746042985\n",
      "Image N5-6.png: 7.522891166039028\n",
      "Image N3-4.png: 6.3110398135122345\n",
      "Image N3-1.png: 7.07883397947784\n",
      "['N1-1.png', 7.338526622996176]\n",
      "['N1-10.png', 6.815535499920879]\n",
      "['N1-2.png', 6.587009485274164]\n",
      "['N1-3.png', 6.843078155892437]\n",
      "['N1-4.png', 6.793433023627708]\n",
      "['N1-5.png', 6.775397902427053]\n",
      "['N1-6.png', 7.400942325070758]\n",
      "['N1-7.png', 7.584905845348334]\n",
      "['N1-8.png', 7.2553148892595285]\n",
      "['N1-9.png', 7.16748466242153]\n",
      "['N2-1.png', 7.400021022630415]\n",
      "['N2-10.png', 7.326286746042985]\n",
      "['N2-2.png', 7.020703446150239]\n",
      "['N2-3.png', 7.20039468515626]\n",
      "['N2-4.png', 6.609713323676644]\n",
      "['N2-5.png', 7.001462524925051]\n",
      "['N2-6.png', 7.369976022183653]\n",
      "['N2-7.png', 7.235366628587549]\n",
      "['N2-8.png', 7.152181039031857]\n",
      "['N2-9.png', 7.102487901383495]\n",
      "['N3-1.png', 7.07883397947784]\n",
      "['N3-10.png', 6.5769753308646886]\n",
      "['N3-2.png', 7.178851271822618]\n",
      "['N3-3.png', 7.275501395483729]\n",
      "['N3-4.png', 6.3110398135122345]\n",
      "['N3-5.png', 6.955534230991446]\n",
      "['N3-6.png', 6.629741186225879]\n",
      "['N3-7.png', 7.053116053131375]\n",
      "['N3-8.png', 6.687833565334663]\n",
      "['N3-9.png', 7.226871614364447]\n",
      "['N4-1.png', 6.712046211753753]\n",
      "['N4-2.png', 6.31387418858774]\n",
      "['N4-3.png', 7.564605787013614]\n",
      "['N4-4.png', 6.926889754458101]\n",
      "['N4-5.png', 6.492715496215807]\n",
      "['N4-6.png', 6.362635344501488]\n",
      "['N4-7.png', 7.030967593949599]\n",
      "['N4-8.png', 6.643740807210616]\n",
      "['N4-9.png', 6.936335768050124]\n",
      "['N5-1.png', 6.793577846478293]\n",
      "['N5-2.png', 7.100670161357336]\n",
      "['N5-3.png', 7.167459086822134]\n",
      "['N5-4.png', 6.674722085720658]\n",
      "['N5-5.png', 7.033085681959806]\n",
      "['N5-6.png', 7.522891166039028]\n"
     ]
    },
    {
     "data": {
      "application/vnd.plotly.v1+json": {
       "config": {
        "plotlyServerURL": "https://plot.ly"
       },
       "data": [
        {
         "hovertemplate": "Image Name=%{x}<br>Entropy=%{y}<extra></extra>",
         "legendgroup": "",
         "marker": {
          "color": "#636efa",
          "symbol": "circle"
         },
         "mode": "markers",
         "name": "",
         "orientation": "v",
         "showlegend": false,
         "type": "scatter",
         "x": [
          "N1-1.png",
          "N1-10.png",
          "N1-2.png",
          "N1-3.png",
          "N1-4.png",
          "N1-5.png",
          "N1-6.png",
          "N1-7.png",
          "N1-8.png",
          "N1-9.png",
          "N2-1.png",
          "N2-10.png",
          "N2-2.png",
          "N2-3.png",
          "N2-4.png",
          "N2-5.png",
          "N2-6.png",
          "N2-7.png",
          "N2-8.png",
          "N2-9.png",
          "N3-1.png",
          "N3-10.png",
          "N3-2.png",
          "N3-3.png",
          "N3-4.png",
          "N3-5.png",
          "N3-6.png",
          "N3-7.png",
          "N3-8.png",
          "N3-9.png",
          "N4-1.png",
          "N4-2.png",
          "N4-3.png",
          "N4-4.png",
          "N4-5.png",
          "N4-6.png",
          "N4-7.png",
          "N4-8.png",
          "N4-9.png",
          "N5-1.png",
          "N5-2.png",
          "N5-3.png",
          "N5-4.png",
          "N5-5.png",
          "N5-6.png"
         ],
         "xaxis": "x",
         "y": [
          7.338526622996176,
          6.815535499920879,
          6.587009485274164,
          6.843078155892437,
          6.793433023627708,
          6.775397902427053,
          7.400942325070758,
          7.584905845348334,
          7.2553148892595285,
          7.16748466242153,
          7.400021022630415,
          7.326286746042985,
          7.020703446150239,
          7.20039468515626,
          6.609713323676644,
          7.001462524925051,
          7.369976022183653,
          7.235366628587549,
          7.152181039031857,
          7.102487901383495,
          7.07883397947784,
          6.5769753308646886,
          7.178851271822618,
          7.275501395483729,
          6.3110398135122345,
          6.955534230991446,
          6.629741186225879,
          7.053116053131375,
          6.687833565334663,
          7.226871614364447,
          6.712046211753753,
          6.31387418858774,
          7.564605787013614,
          6.926889754458101,
          6.492715496215807,
          6.362635344501488,
          7.030967593949599,
          6.643740807210616,
          6.936335768050124,
          6.793577846478293,
          7.100670161357336,
          7.167459086822134,
          6.674722085720658,
          7.033085681959806,
          7.522891166039028
         ],
         "yaxis": "y"
        }
       ],
       "layout": {
        "legend": {
         "tracegroupgap": 0
        },
        "template": {
         "data": {
          "bar": [
           {
            "error_x": {
             "color": "#2a3f5f"
            },
            "error_y": {
             "color": "#2a3f5f"
            },
            "marker": {
             "line": {
              "color": "#E5ECF6",
              "width": 0.5
             },
             "pattern": {
              "fillmode": "overlay",
              "size": 10,
              "solidity": 0.2
             }
            },
            "type": "bar"
           }
          ],
          "barpolar": [
           {
            "marker": {
             "line": {
              "color": "#E5ECF6",
              "width": 0.5
             },
             "pattern": {
              "fillmode": "overlay",
              "size": 10,
              "solidity": 0.2
             }
            },
            "type": "barpolar"
           }
          ],
          "carpet": [
           {
            "aaxis": {
             "endlinecolor": "#2a3f5f",
             "gridcolor": "white",
             "linecolor": "white",
             "minorgridcolor": "white",
             "startlinecolor": "#2a3f5f"
            },
            "baxis": {
             "endlinecolor": "#2a3f5f",
             "gridcolor": "white",
             "linecolor": "white",
             "minorgridcolor": "white",
             "startlinecolor": "#2a3f5f"
            },
            "type": "carpet"
           }
          ],
          "choropleth": [
           {
            "colorbar": {
             "outlinewidth": 0,
             "ticks": ""
            },
            "type": "choropleth"
           }
          ],
          "contour": [
           {
            "colorbar": {
             "outlinewidth": 0,
             "ticks": ""
            },
            "colorscale": [
             [
              0,
              "#0d0887"
             ],
             [
              0.1111111111111111,
              "#46039f"
             ],
             [
              0.2222222222222222,
              "#7201a8"
             ],
             [
              0.3333333333333333,
              "#9c179e"
             ],
             [
              0.4444444444444444,
              "#bd3786"
             ],
             [
              0.5555555555555556,
              "#d8576b"
             ],
             [
              0.6666666666666666,
              "#ed7953"
             ],
             [
              0.7777777777777778,
              "#fb9f3a"
             ],
             [
              0.8888888888888888,
              "#fdca26"
             ],
             [
              1,
              "#f0f921"
             ]
            ],
            "type": "contour"
           }
          ],
          "contourcarpet": [
           {
            "colorbar": {
             "outlinewidth": 0,
             "ticks": ""
            },
            "type": "contourcarpet"
           }
          ],
          "heatmap": [
           {
            "colorbar": {
             "outlinewidth": 0,
             "ticks": ""
            },
            "colorscale": [
             [
              0,
              "#0d0887"
             ],
             [
              0.1111111111111111,
              "#46039f"
             ],
             [
              0.2222222222222222,
              "#7201a8"
             ],
             [
              0.3333333333333333,
              "#9c179e"
             ],
             [
              0.4444444444444444,
              "#bd3786"
             ],
             [
              0.5555555555555556,
              "#d8576b"
             ],
             [
              0.6666666666666666,
              "#ed7953"
             ],
             [
              0.7777777777777778,
              "#fb9f3a"
             ],
             [
              0.8888888888888888,
              "#fdca26"
             ],
             [
              1,
              "#f0f921"
             ]
            ],
            "type": "heatmap"
           }
          ],
          "heatmapgl": [
           {
            "colorbar": {
             "outlinewidth": 0,
             "ticks": ""
            },
            "colorscale": [
             [
              0,
              "#0d0887"
             ],
             [
              0.1111111111111111,
              "#46039f"
             ],
             [
              0.2222222222222222,
              "#7201a8"
             ],
             [
              0.3333333333333333,
              "#9c179e"
             ],
             [
              0.4444444444444444,
              "#bd3786"
             ],
             [
              0.5555555555555556,
              "#d8576b"
             ],
             [
              0.6666666666666666,
              "#ed7953"
             ],
             [
              0.7777777777777778,
              "#fb9f3a"
             ],
             [
              0.8888888888888888,
              "#fdca26"
             ],
             [
              1,
              "#f0f921"
             ]
            ],
            "type": "heatmapgl"
           }
          ],
          "histogram": [
           {
            "marker": {
             "pattern": {
              "fillmode": "overlay",
              "size": 10,
              "solidity": 0.2
             }
            },
            "type": "histogram"
           }
          ],
          "histogram2d": [
           {
            "colorbar": {
             "outlinewidth": 0,
             "ticks": ""
            },
            "colorscale": [
             [
              0,
              "#0d0887"
             ],
             [
              0.1111111111111111,
              "#46039f"
             ],
             [
              0.2222222222222222,
              "#7201a8"
             ],
             [
              0.3333333333333333,
              "#9c179e"
             ],
             [
              0.4444444444444444,
              "#bd3786"
             ],
             [
              0.5555555555555556,
              "#d8576b"
             ],
             [
              0.6666666666666666,
              "#ed7953"
             ],
             [
              0.7777777777777778,
              "#fb9f3a"
             ],
             [
              0.8888888888888888,
              "#fdca26"
             ],
             [
              1,
              "#f0f921"
             ]
            ],
            "type": "histogram2d"
           }
          ],
          "histogram2dcontour": [
           {
            "colorbar": {
             "outlinewidth": 0,
             "ticks": ""
            },
            "colorscale": [
             [
              0,
              "#0d0887"
             ],
             [
              0.1111111111111111,
              "#46039f"
             ],
             [
              0.2222222222222222,
              "#7201a8"
             ],
             [
              0.3333333333333333,
              "#9c179e"
             ],
             [
              0.4444444444444444,
              "#bd3786"
             ],
             [
              0.5555555555555556,
              "#d8576b"
             ],
             [
              0.6666666666666666,
              "#ed7953"
             ],
             [
              0.7777777777777778,
              "#fb9f3a"
             ],
             [
              0.8888888888888888,
              "#fdca26"
             ],
             [
              1,
              "#f0f921"
             ]
            ],
            "type": "histogram2dcontour"
           }
          ],
          "mesh3d": [
           {
            "colorbar": {
             "outlinewidth": 0,
             "ticks": ""
            },
            "type": "mesh3d"
           }
          ],
          "parcoords": [
           {
            "line": {
             "colorbar": {
              "outlinewidth": 0,
              "ticks": ""
             }
            },
            "type": "parcoords"
           }
          ],
          "pie": [
           {
            "automargin": true,
            "type": "pie"
           }
          ],
          "scatter": [
           {
            "fillpattern": {
             "fillmode": "overlay",
             "size": 10,
             "solidity": 0.2
            },
            "type": "scatter"
           }
          ],
          "scatter3d": [
           {
            "line": {
             "colorbar": {
              "outlinewidth": 0,
              "ticks": ""
             }
            },
            "marker": {
             "colorbar": {
              "outlinewidth": 0,
              "ticks": ""
             }
            },
            "type": "scatter3d"
           }
          ],
          "scattercarpet": [
           {
            "marker": {
             "colorbar": {
              "outlinewidth": 0,
              "ticks": ""
             }
            },
            "type": "scattercarpet"
           }
          ],
          "scattergeo": [
           {
            "marker": {
             "colorbar": {
              "outlinewidth": 0,
              "ticks": ""
             }
            },
            "type": "scattergeo"
           }
          ],
          "scattergl": [
           {
            "marker": {
             "colorbar": {
              "outlinewidth": 0,
              "ticks": ""
             }
            },
            "type": "scattergl"
           }
          ],
          "scattermapbox": [
           {
            "marker": {
             "colorbar": {
              "outlinewidth": 0,
              "ticks": ""
             }
            },
            "type": "scattermapbox"
           }
          ],
          "scatterpolar": [
           {
            "marker": {
             "colorbar": {
              "outlinewidth": 0,
              "ticks": ""
             }
            },
            "type": "scatterpolar"
           }
          ],
          "scatterpolargl": [
           {
            "marker": {
             "colorbar": {
              "outlinewidth": 0,
              "ticks": ""
             }
            },
            "type": "scatterpolargl"
           }
          ],
          "scatterternary": [
           {
            "marker": {
             "colorbar": {
              "outlinewidth": 0,
              "ticks": ""
             }
            },
            "type": "scatterternary"
           }
          ],
          "surface": [
           {
            "colorbar": {
             "outlinewidth": 0,
             "ticks": ""
            },
            "colorscale": [
             [
              0,
              "#0d0887"
             ],
             [
              0.1111111111111111,
              "#46039f"
             ],
             [
              0.2222222222222222,
              "#7201a8"
             ],
             [
              0.3333333333333333,
              "#9c179e"
             ],
             [
              0.4444444444444444,
              "#bd3786"
             ],
             [
              0.5555555555555556,
              "#d8576b"
             ],
             [
              0.6666666666666666,
              "#ed7953"
             ],
             [
              0.7777777777777778,
              "#fb9f3a"
             ],
             [
              0.8888888888888888,
              "#fdca26"
             ],
             [
              1,
              "#f0f921"
             ]
            ],
            "type": "surface"
           }
          ],
          "table": [
           {
            "cells": {
             "fill": {
              "color": "#EBF0F8"
             },
             "line": {
              "color": "white"
             }
            },
            "header": {
             "fill": {
              "color": "#C8D4E3"
             },
             "line": {
              "color": "white"
             }
            },
            "type": "table"
           }
          ]
         },
         "layout": {
          "annotationdefaults": {
           "arrowcolor": "#2a3f5f",
           "arrowhead": 0,
           "arrowwidth": 1
          },
          "autotypenumbers": "strict",
          "coloraxis": {
           "colorbar": {
            "outlinewidth": 0,
            "ticks": ""
           }
          },
          "colorscale": {
           "diverging": [
            [
             0,
             "#8e0152"
            ],
            [
             0.1,
             "#c51b7d"
            ],
            [
             0.2,
             "#de77ae"
            ],
            [
             0.3,
             "#f1b6da"
            ],
            [
             0.4,
             "#fde0ef"
            ],
            [
             0.5,
             "#f7f7f7"
            ],
            [
             0.6,
             "#e6f5d0"
            ],
            [
             0.7,
             "#b8e186"
            ],
            [
             0.8,
             "#7fbc41"
            ],
            [
             0.9,
             "#4d9221"
            ],
            [
             1,
             "#276419"
            ]
           ],
           "sequential": [
            [
             0,
             "#0d0887"
            ],
            [
             0.1111111111111111,
             "#46039f"
            ],
            [
             0.2222222222222222,
             "#7201a8"
            ],
            [
             0.3333333333333333,
             "#9c179e"
            ],
            [
             0.4444444444444444,
             "#bd3786"
            ],
            [
             0.5555555555555556,
             "#d8576b"
            ],
            [
             0.6666666666666666,
             "#ed7953"
            ],
            [
             0.7777777777777778,
             "#fb9f3a"
            ],
            [
             0.8888888888888888,
             "#fdca26"
            ],
            [
             1,
             "#f0f921"
            ]
           ],
           "sequentialminus": [
            [
             0,
             "#0d0887"
            ],
            [
             0.1111111111111111,
             "#46039f"
            ],
            [
             0.2222222222222222,
             "#7201a8"
            ],
            [
             0.3333333333333333,
             "#9c179e"
            ],
            [
             0.4444444444444444,
             "#bd3786"
            ],
            [
             0.5555555555555556,
             "#d8576b"
            ],
            [
             0.6666666666666666,
             "#ed7953"
            ],
            [
             0.7777777777777778,
             "#fb9f3a"
            ],
            [
             0.8888888888888888,
             "#fdca26"
            ],
            [
             1,
             "#f0f921"
            ]
           ]
          },
          "colorway": [
           "#636efa",
           "#EF553B",
           "#00cc96",
           "#ab63fa",
           "#FFA15A",
           "#19d3f3",
           "#FF6692",
           "#B6E880",
           "#FF97FF",
           "#FECB52"
          ],
          "font": {
           "color": "#2a3f5f"
          },
          "geo": {
           "bgcolor": "white",
           "lakecolor": "white",
           "landcolor": "#E5ECF6",
           "showlakes": true,
           "showland": true,
           "subunitcolor": "white"
          },
          "hoverlabel": {
           "align": "left"
          },
          "hovermode": "closest",
          "mapbox": {
           "style": "light"
          },
          "paper_bgcolor": "white",
          "plot_bgcolor": "#E5ECF6",
          "polar": {
           "angularaxis": {
            "gridcolor": "white",
            "linecolor": "white",
            "ticks": ""
           },
           "bgcolor": "#E5ECF6",
           "radialaxis": {
            "gridcolor": "white",
            "linecolor": "white",
            "ticks": ""
           }
          },
          "scene": {
           "xaxis": {
            "backgroundcolor": "#E5ECF6",
            "gridcolor": "white",
            "gridwidth": 2,
            "linecolor": "white",
            "showbackground": true,
            "ticks": "",
            "zerolinecolor": "white"
           },
           "yaxis": {
            "backgroundcolor": "#E5ECF6",
            "gridcolor": "white",
            "gridwidth": 2,
            "linecolor": "white",
            "showbackground": true,
            "ticks": "",
            "zerolinecolor": "white"
           },
           "zaxis": {
            "backgroundcolor": "#E5ECF6",
            "gridcolor": "white",
            "gridwidth": 2,
            "linecolor": "white",
            "showbackground": true,
            "ticks": "",
            "zerolinecolor": "white"
           }
          },
          "shapedefaults": {
           "line": {
            "color": "#2a3f5f"
           }
          },
          "ternary": {
           "aaxis": {
            "gridcolor": "white",
            "linecolor": "white",
            "ticks": ""
           },
           "baxis": {
            "gridcolor": "white",
            "linecolor": "white",
            "ticks": ""
           },
           "bgcolor": "#E5ECF6",
           "caxis": {
            "gridcolor": "white",
            "linecolor": "white",
            "ticks": ""
           }
          },
          "title": {
           "x": 0.05
          },
          "xaxis": {
           "automargin": true,
           "gridcolor": "white",
           "linecolor": "white",
           "ticks": "",
           "title": {
            "standoff": 15
           },
           "zerolinecolor": "white",
           "zerolinewidth": 2
          },
          "yaxis": {
           "automargin": true,
           "gridcolor": "white",
           "linecolor": "white",
           "ticks": "",
           "title": {
            "standoff": 15
           },
           "zerolinecolor": "white",
           "zerolinewidth": 2
          }
         }
        },
        "title": {
         "text": "Interactive Scatter Plot"
        },
        "xaxis": {
         "anchor": "y",
         "domain": [
          0,
          1
         ],
         "tickangle": 45,
         "title": {
          "text": "Image Name"
         }
        },
        "yaxis": {
         "anchor": "x",
         "domain": [
          0,
          1
         ],
         "title": {
          "text": "Entropy"
         }
        }
       }
      }
     },
     "metadata": {},
     "output_type": "display_data"
    }
   ],
   "source": [
    "data.clear()\n",
    "from skimage.measure import shannon_entropy\n",
    "### boundary strength\n",
    "## sharp images have high laplacian\n",
    "print(\"Gradient magnitude mean:\")\n",
    "for name, img in images:\n",
    "    entropy = shannon_entropy(img)\n",
    "    print(f\"Image {name}: {str(entropy)}\")\n",
    "    data.append([name, entropy])\n",
    "    \n",
    "data = sorted(data, key=lambda x: x[0])\n",
    "for datum in data:\n",
    "    print(datum)\n",
    "plot_scatter(data, \"Entropy\")   \n",
    "    \n"
   ]
  }
 ],
 "metadata": {
  "kernelspec": {
   "display_name": "altenv",
   "language": "python",
   "name": "python3"
  },
  "language_info": {
   "codemirror_mode": {
    "name": "ipython",
    "version": 3
   },
   "file_extension": ".py",
   "mimetype": "text/x-python",
   "name": "python",
   "nbconvert_exporter": "python",
   "pygments_lexer": "ipython3",
   "version": "3.11.9"
  }
 },
 "nbformat": 4,
 "nbformat_minor": 2
}
