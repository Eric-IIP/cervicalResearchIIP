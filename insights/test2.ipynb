{
 "cells": [
  {
   "cell_type": "code",
   "execution_count": null,
   "id": "b88f647d",
   "metadata": {},
   "outputs": [
    {
     "ename": "ModuleNotFoundError",
     "evalue": "No module named 'Rpkg'",
     "output_type": "error",
     "traceback": [
      "\u001b[0;31m---------------------------------------------------------------------------\u001b[0m",
      "\u001b[0;31mModuleNotFoundError\u001b[0m                       Traceback (most recent call last)",
      "Cell \u001b[0;32mIn[1], line 4\u001b[0m\n\u001b[1;32m      2\u001b[0m \u001b[38;5;28;01mimport\u001b[39;00m \u001b[38;5;21;01mcv2\u001b[39;00m  \u001b[38;5;66;03m# or use PIL if preferred\u001b[39;00m\n\u001b[1;32m      3\u001b[0m \u001b[38;5;28;01mimport\u001b[39;00m \u001b[38;5;21;01mnumpy\u001b[39;00m \u001b[38;5;28;01mas\u001b[39;00m \u001b[38;5;21;01mnp\u001b[39;00m\n\u001b[0;32m----> 4\u001b[0m \u001b[38;5;28;01mfrom\u001b[39;00m \u001b[38;5;21;01mRpkg\u001b[39;00m\u001b[38;5;21;01m.\u001b[39;00m\u001b[38;5;21;01mRfund\u001b[39;00m\u001b[38;5;21;01m.\u001b[39;00m\u001b[38;5;21;01mInputFeature\u001b[39;00m \u001b[38;5;28;01mimport\u001b[39;00m InputFeature\n\u001b[1;32m      6\u001b[0m \u001b[38;5;28;01mdef\u001b[39;00m \u001b[38;5;21mprocess_image\u001b[39m(img):\n\u001b[1;32m      7\u001b[0m \u001b[38;5;250m    \u001b[39m\u001b[38;5;124;03m\"\"\"\u001b[39;00m\n\u001b[1;32m      8\u001b[0m \u001b[38;5;124;03m    Dummy image processing function — replace with your own logic.\u001b[39;00m\n\u001b[1;32m      9\u001b[0m \u001b[38;5;124;03m    For example: convert to grayscale and apply Gaussian blur.\u001b[39;00m\n\u001b[1;32m     10\u001b[0m \u001b[38;5;124;03m    \"\"\"\u001b[39;00m\n",
      "\u001b[0;31mModuleNotFoundError\u001b[0m: No module named 'Rpkg'"
     ]
    }
   ],
   "source": [
    "import os\n",
    "import cv2  # or use PIL if preferred\n",
    "import numpy as np\n",
    "from Rpkg.Rfund.InputFeature import InputFeature\n",
    "from \n",
    "\n",
    "def process_image(img):\n",
    "    \"\"\"\n",
    "    Dummy image processing function — replace with your own logic.\n",
    "    For example: convert to grayscale and apply Gaussian blur.\n",
    "    \"\"\"\n",
    "    gray = cv2.cvtColor(img, cv2.COLOR_BGR2GRAY)\n",
    "    blur = cv2.GaussianBlur(gray, (5, 5), 0)\n",
    "    return blur\n",
    "\n",
    "def process_images_in_directory(root_dir):\n",
    "    for dirpath, _, filenames in os.walk(root_dir):\n",
    "        for filename in filenames:\n",
    "            if filename.lower().endswith(('.png', '.jpg', '.jpeg', '.bmp', '.tif', '.tiff')):\n",
    "                img_path = os.path.join(dirpath, filename)\n",
    "                print(f\"Processing: {img_path}\")\n",
    "                \n",
    "                # Read image\n",
    "                img = cv2.imread(img_path)\n",
    "                if img is None:\n",
    "                    print(f\"Failed to read {img_path}\")\n",
    "                    continue\n",
    "\n",
    "                # Process image\n",
    "                processed = process_image(img)\n",
    "\n",
    "                # Save processed image\n",
    "                out_path = os.path.join(dirpath, f\"processed_{filename}\")\n",
    "                cv2.imwrite(out_path, processed)\n",
    "\n",
    "\n"
   ]
  },
  {
   "cell_type": "code",
   "execution_count": null,
   "id": "9cf7217f",
   "metadata": {},
   "outputs": [],
   "source": [
    "\n",
    "# base_path = \"/home/eric/Documents/cervicalResearchIIP/img_1006t/featureAug/30aug\"  # CHANGE THIS\n",
    "# process_images_in_directory(base_path)"
   ]
  }
 ],
 "metadata": {
  "kernelspec": {
   "display_name": "altenv",
   "language": "python",
   "name": "python3"
  },
  "language_info": {
   "codemirror_mode": {
    "name": "ipython",
    "version": 3
   },
   "file_extension": ".py",
   "mimetype": "text/x-python",
   "name": "python",
   "nbconvert_exporter": "python",
   "pygments_lexer": "ipython3",
   "version": "3.11.9"
  }
 },
 "nbformat": 4,
 "nbformat_minor": 5
}
